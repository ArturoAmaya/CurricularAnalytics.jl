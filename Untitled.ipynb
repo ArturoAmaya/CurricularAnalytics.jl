{
 "cells": [
  {
   "cell_type": "code",
   "execution_count": 5,
   "metadata": {
    "scrolled": false
   },
   "outputs": [
    {
     "name": "stdout",
     "output_type": "stream",
     "text": [
      "LightGraphs.SimpleGraphs.SimpleEdge{Int64}[Edge 2 => 6, Edge 2 => 7, Edge 6 => 11, Edge 7 => 11, Edge 7 => 12, Edge 7 => 17, Edge 8 => 14, Edge 8 => 23, Edge 11 => 13, Edge 11 => 18, Edge 12 => 13, Edge 12 => 16, Edge 12 => 19, Edge 13 => 24, Edge 14 => 24, Edge 17 => 19, Edge 19 => 24]\n",
      "Number[1.0, 15.0, 1.0, 1.0, 1.0, 9.0, 12.0, 6.0, 1.0, 1.0, 8.0, 8.0, 6.0, 4.0, 1.0, 4.0, 5.0, 4.0, 5.0, 1.0, 1.0, 1.0, 2.0, 5.0, 1.0, 1.0, 1.0, 1.0, 1.0, 1.0, 1.0, 1.0, 1.0, 1.0, 1.0, 1.0, 1.0, 1.0]\n",
      "[2, 7, 6, 11, 12, 8, 13, 17, 19, 24, 14, 16, 18, 23, 1, 3, 4, 5, 9, 10, 15, 20, 21, 22, 25, 26, 27, 28, 29, 30, 31, 32, 33, 34, 35, 36, 37, 38]\n",
      "Number[15.0, 12.0, 9.0, 8.0, 8.0, 6.0, 6.0, 5.0, 5.0, 5.0, 4.0, 4.0, 4.0, 2.0, 1.0, 1.0, 1.0, 1.0, 1.0, 1.0, 1.0, 1.0, 1.0, 1.0, 1.0, 1.0, 1.0, 1.0, 1.0, 1.0, 1.0, 1.0, 1.0, 1.0, 1.0, 1.0, 1.0, 1.0]\n",
      "9.0\n",
      "114\n",
      "Minimum of 6 terms needed to complete this curriculum\n",
      "New it\n",
      "114\n",
      "1\n",
      "19\n",
      "New it\n",
      "96\n",
      "2\n",
      "19\n",
      "New it\n",
      "78\n",
      "3\n",
      "19\n",
      "New it\n",
      "60\n",
      "4\n",
      "19\n",
      "New it\n",
      "42\n",
      "5\n",
      "19\n",
      "New it\n",
      "24\n",
      "6\n",
      "19\n",
      "Not all classes added\n",
      "New it\n",
      "114\n",
      "1\n",
      "17\n",
      "New it\n",
      "99\n",
      "2\n",
      "17\n",
      "New it\n",
      "84\n",
      "3\n",
      "17\n",
      "New it\n",
      "69\n",
      "4\n",
      "18\n",
      "New it\n",
      "51\n",
      "5\n",
      "17\n",
      "New it\n",
      "36\n",
      "6\n",
      "18\n",
      "New it\n",
      "18\n",
      "7\n",
      "18\n",
      "Curriculum University of Houston EE Program is valid\n",
      "  delay factor = (80.0, [1.0, 5.0, 1.0, 1.0, 1.0, 5.0, 4.0, 3.0, 1.0, 1.0, 5.0, 4.0, 5.0, 3.0, 1.0, 4.0, 3.0, 4.0, 4.0, 1.0, 1.0, 1.0, 2.0, 5.0, 1.0, 1.0, 1.0, 1.0, 1.0, 1.0, 1.0, 1.0, 1.0, 1.0, 1.0, 1.0, 1.0, 1.0])\n",
      "  blocking factor = (37, [0, 10, 0, 0, 0, 4, 8, 3, 0, 0, 3, 4, 1, 1, 0, 0, 2, 0, 1, 0, 0, 0, 0, 0, 0, 0, 0, 0, 0, 0, 0, 0, 0, 0, 0, 0, 0, 0])\n",
      "  centrality factor = (102, [0, 0, 0, 0, 0, 9, 28, 0, 0, 0, 18, 14, 15, 3, 0, 0, 5, 0, 10, 0, 0, 0, 0, 0, 0, 0, 0, 0, 0, 0, 0, 0, 0, 0, 0, 0, 0, 0])\n",
      "  curricular complexity = (117.0, Number[1.0, 15.0, 1.0, 1.0, 1.0, 9.0, 12.0, 6.0, 1.0, 1.0, 8.0, 8.0, 6.0, 4.0, 1.0, 4.0, 5.0, 4.0, 5.0, 1.0, 1.0, 1.0, 2.0, 5.0, 1.0, 1.0, 1.0, 1.0, 1.0, 1.0, 1.0, 1.0, 1.0, 1.0, 1.0, 1.0, 1.0, 1.0])\n",
      "Degree plan University of Houston EE Program 4-year Plan is not valid:\n",
      "\n",
      "-Invalid requisite: MECE/ENGRD 2300 in term 3 is a requisite for ECE 3400 in term 2\n",
      "-Invalid prerequisite: MATH 1910 in term 1 is a prerequisite for MATH 1920 in the same term\n",
      "-Invalid prerequisite: MATH 1910 in term 1 is a prerequisite for PHYS 1112 in the same term\n",
      "-Invalid prerequisite: MATH 1920 in term 1 is a prerequisite for PHYS 2213 in the same term\n",
      "-Invalid prerequisite: PHYS 1112 in term 1 is a prerequisite for PHYS 2213 in the same term\n",
      "-Invalid prerequisite: MATH 1920 in term 1 is a prerequisite for MATH 2930 in the same term\n",
      "-Invalid prerequisite: ECE/ENGRD 2100 in term 2 is a prerequisite for ECE 3400 in the same term\n",
      "-Invalid prerequisite: ECE 2200/ENGRD 2220 in term 2 is a prerequisite for ECE 3400 in the same term\n",
      "-Course 1st Yr Writing Seminar is listed multiple times in degree plan\n",
      "-Course PE is listed multiple times in degree plan\n",
      "-Course Liberal Studies is listed multiple times in degree plan\n",
      "-Course Liberal Studies is listed multiple times in degree plan\n",
      "-Course ECE Foundations is listed multiple times in degree plan\n",
      "-Course ECE Foundations is listed multiple times in degree plan\n",
      "-Course Outside Tech. Elective is listed multiple times in degree plan\n",
      "-Course Elective is listed multiple times in degree plan\n",
      "-Course Liberal Studies is listed multiple times in degree plan\n",
      "-Course Outside Tech. Elective is listed multiple times in degree plan\n",
      "-Course Liberal Studies is listed multiple times in degree plan\n",
      "-Course ECE Elective is listed multiple times in degree plan\n",
      "-Course ECE Elective is listed multiple times in degree plan\n",
      "-Course ECE Elective is listed multiple times in degree plan\n",
      "-Course Liberal Studies is listed multiple times in degree plan\n",
      "Diplaying degree plan for debugging purposes...\n"
     ]
    },
    {
     "data": {
      "application/vnd.webio.node+json": {
       "children": [
        {
         "children": [
          ""
         ],
         "instanceArgs": {
          "namespace": "html",
          "tag": "iframe"
         },
         "nodeType": "DOM",
         "props": {
          "events": {
           "load": "(function (){this.contentWindow.postMessage({\"curriculum\":{\"name\":\"University of Houston EE Program 4-year Plan\",\"curriculum_terms\":[{\"name\":\"Term 1\",\"curriculum_items\":[{\"curriculum_requisites\":[],\"name\":\"MATH 1910\",\"metrics\":{\"complexity\":15.0,\"centrality\":0,\"blocking factor\":10,\"delay factor\":5.0},\"nameSub\":\"MATH 1910\",\"id\":689176389931734619,\"num\":\"1910\",\"credits\":3,\"prefix\":\"MATH\"},{\"curriculum_requisites\":[{\"source_id\":689176389931734619,\"target_id\":4363174199326750980,\"type\":\"prereq\"}],\"name\":\"MATH 1920\",\"metrics\":{\"complexity\":12.0,\"centrality\":28,\"blocking factor\":8,\"delay factor\":4.0},\"nameSub\":\"MATH 1920\",\"id\":4363174199326750980,\"num\":\"1920\",\"credits\":3,\"prefix\":\"MATH\"},{\"curriculum_requisites\":[{\"source_id\":689176389931734619,\"target_id\":3460502588517032754,\"type\":\"prereq\"}],\"name\":\"PHYS 1112\",\"metrics\":{\"complexity\":9.0,\"centrality\":9,\"blocking factor\":4,\"delay factor\":5.0},\"nameSub\":\"PHYS 1112\",\"id\":3460502588517032754,\"num\":\"1112\",\"credits\":3,\"prefix\":\"PHYS\"},{\"curriculum_requisites\":[{\"source_id\":4363174199326750980,\"target_id\":2015789323598915066,\"type\":\"prereq\"},{\"source_id\":3460502588517032754,\"target_id\":2015789323598915066,\"type\":\"prereq\"}],\"name\":\"PHYS 2213\",\"metrics\":{\"complexity\":8.0,\"centrality\":18,\"blocking factor\":3,\"delay factor\":5.0},\"nameSub\":\"PHYS 2213\",\"id\":2015789323598915066,\"num\":\"2213\",\"credits\":3,\"prefix\":\"PHYS\"},{\"curriculum_requisites\":[{\"source_id\":4363174199326750980,\"target_id\":2151769881499640384,\"type\":\"prereq\"}],\"name\":\"MATH 2930\",\"metrics\":{\"complexity\":8.0,\"centrality\":14,\"blocking factor\":4,\"delay factor\":4.0},\"nameSub\":\"MATH 2930\",\"id\":2151769881499640384,\"num\":\"2930\",\"credits\":3,\"prefix\":\"MATH\"}],\"id\":1},{\"name\":\"Term 2\",\"curriculum_items\":[{\"curriculum_requisites\":[],\"name\":\"CS 111x\",\"metrics\":{\"complexity\":6.0,\"centrality\":0,\"blocking factor\":3,\"delay factor\":3.0},\"nameSub\":\"CS 111x\",\"id\":6644828390385107964,\"num\":\"111x\",\"credits\":3,\"prefix\":\"CS\"},{\"curriculum_requisites\":[{\"source_id\":2015789323598915066,\"target_id\":5088266527023238633,\"type\":\"coreq\"},{\"source_id\":2151769881499640384,\"target_id\":5088266527023238633,\"type\":\"coreq\"}],\"name\":\"ECE/ENGRD 2100\",\"metrics\":{\"complexity\":6.0,\"centrality\":15,\"blocking factor\":1,\"delay factor\":5.0},\"nameSub\":\"ECE/ENGRD 2100\",\"id\":5088266527023238633,\"num\":\"2100\",\"credits\":3,\"prefix\":\"ECE/ENGRD\"},{\"curriculum_requisites\":[{\"source_id\":4363174199326750980,\"target_id\":6591198672522205704,\"type\":\"prereq\"}],\"name\":\"MATH 2940\",\"metrics\":{\"complexity\":5.0,\"centrality\":5,\"blocking factor\":2,\"delay factor\":3.0},\"nameSub\":\"MATH 2940\",\"id\":6591198672522205704,\"num\":\"2940\",\"credits\":3,\"prefix\":\"MATH\"},{\"curriculum_requisites\":[{\"source_id\":6591198672522205704,\"target_id\":1161268000602225778,\"type\":\"coreq\"},{\"source_id\":2151769881499640384,\"target_id\":1161268000602225778,\"type\":\"prereq\"}],\"name\":\"ECE/ENGRD 2200/2220\",\"metrics\":{\"complexity\":5.0,\"centrality\":10,\"blocking factor\":1,\"delay factor\":4.0},\"nameSub\":\"ECE 2200/ENGRD 2220\",\"id\":1161268000602225778,\"num\":\"2200/2220\",\"credits\":3,\"prefix\":\"ECE/ENGRD\"},{\"curriculum_requisites\":[{\"source_id\":1528436893539722845,\"target_id\":8048393585568634781,\"type\":\"prereq\"},{\"source_id\":1161268000602225778,\"target_id\":8048393585568634781,\"type\":\"prereq\"},{\"source_id\":5088266527023238633,\"target_id\":8048393585568634781,\"type\":\"prereq\"}],\"name\":\"ECE 3400\",\"metrics\":{\"complexity\":5.0,\"centrality\":0,\"blocking factor\":0,\"delay factor\":5.0},\"nameSub\":\"ECE 3400\",\"id\":8048393585568634781,\"num\":\"3400\",\"credits\":3,\"prefix\":\"ECE\"}],\"id\":2},{\"name\":\"Term 3\",\"curriculum_items\":[{\"curriculum_requisites\":[{\"source_id\":6644828390385107964,\"target_id\":1528436893539722845,\"type\":\"prereq\"}],\"name\":\"MECE/ENGRD 2300\",\"metrics\":{\"complexity\":4.0,\"centrality\":3,\"blocking factor\":1,\"delay factor\":3.0},\"nameSub\":\"MECE/ENGRD 2300\",\"id\":1528436893539722845,\"num\":\"2300\",\"credits\":3,\"prefix\":\"MECE/ENGRD\"},{\"curriculum_requisites\":[{\"source_id\":2151769881499640384,\"target_id\":8984826741082162803,\"type\":\"coreq\"}],\"name\":\"PHYS 2214\",\"metrics\":{\"complexity\":4.0,\"centrality\":0,\"blocking factor\":0,\"delay factor\":4.0},\"nameSub\":\"PHYS 2214\",\"id\":8984826741082162803,\"num\":\"2214\",\"credits\":3,\"prefix\":\"PHYS\"},{\"curriculum_requisites\":[{\"source_id\":2015789323598915066,\"target_id\":1839390603646070032,\"type\":\"prereq\"}],\"name\":\"ENGRD 2xxx\",\"metrics\":{\"complexity\":4.0,\"centrality\":0,\"blocking factor\":0,\"delay factor\":4.0},\"nameSub\":\"ENGRD 2xxx\",\"id\":1839390603646070032,\"num\":\"2xxx\",\"credits\":3,\"prefix\":\"ENGRD\"},{\"curriculum_requisites\":[{\"source_id\":6644828390385107964,\"target_id\":7820272238627724627,\"type\":\"prereq\"}],\"name\":\" \",\"metrics\":{\"complexity\":2.0,\"centrality\":0,\"blocking factor\":0,\"delay factor\":2.0},\"nameSub\":\"Outside Tech. Elective\",\"id\":7820272238627724627,\"num\":\"\",\"credits\":3,\"prefix\":\"\"},{\"curriculum_requisites\":[],\"name\":\"CHEM 2090\",\"metrics\":{\"complexity\":1.0,\"centrality\":0,\"blocking factor\":0,\"delay factor\":1.0},\"nameSub\":\"CHEM 2090\",\"id\":6116283047058203357,\"num\":\"2090\",\"credits\":3,\"prefix\":\"CHEM\"}],\"id\":3},{\"name\":\"Term 4\",\"curriculum_items\":[{\"curriculum_requisites\":[],\"name\":\"ENGRI 1xxx\",\"metrics\":{\"complexity\":1.0,\"centrality\":0,\"blocking factor\":0,\"delay factor\":1.0},\"nameSub\":\"ENGRI 1xxx\",\"id\":8527704206136169104,\"num\":\"1xxx\",\"credits\":3,\"prefix\":\"ENGRI\"},{\"curriculum_requisites\":[],\"name\":\" \",\"metrics\":{\"complexity\":1.0,\"centrality\":0,\"blocking factor\":0,\"delay factor\":1.0},\"nameSub\":\"1st Yr Writing Seminar\",\"id\":8985571460443386367,\"num\":\"\",\"credits\":3,\"prefix\":\"\"},{\"curriculum_requisites\":[],\"name\":\" \",\"metrics\":{\"complexity\":1.0,\"centrality\":0,\"blocking factor\":0,\"delay factor\":1.0},\"nameSub\":\"PE\",\"id\":8847411882004352659,\"num\":\"\",\"credits\":3,\"prefix\":\"\"},{\"curriculum_requisites\":[],\"name\":\" \",\"metrics\":{\"complexity\":1.0,\"centrality\":0,\"blocking factor\":0,\"delay factor\":1.0},\"nameSub\":\"1st Yr Writing Seminar\",\"id\":8985571460443386367,\"num\":\"\",\"credits\":3,\"prefix\":\"\"},{\"curriculum_requisites\":[],\"name\":\" \",\"metrics\":{\"complexity\":1.0,\"centrality\":0,\"blocking factor\":0,\"delay factor\":1.0},\"nameSub\":\"PE\",\"id\":8847411882004352659,\"num\":\"\",\"credits\":3,\"prefix\":\"\"},{\"curriculum_requisites\":[],\"name\":\" \",\"metrics\":{\"complexity\":1.0,\"centrality\":0,\"blocking factor\":0,\"delay factor\":1.0},\"nameSub\":\"Liberal Studies\",\"id\":3127686194850626136,\"num\":\"\",\"credits\":3,\"prefix\":\"\"}],\"id\":4},{\"name\":\"Term 5\",\"curriculum_items\":[{\"curriculum_requisites\":[],\"name\":\" \",\"metrics\":{\"complexity\":1.0,\"centrality\":0,\"blocking factor\":0,\"delay factor\":1.0},\"nameSub\":\"Liberal Studies\",\"id\":3127686194850626136,\"num\":\"\",\"credits\":3,\"prefix\":\"\"},{\"curriculum_requisites\":[],\"name\":\" \",\"metrics\":{\"complexity\":1.0,\"centrality\":0,\"blocking factor\":0,\"delay factor\":1.0},\"nameSub\":\"ECE Foundations\",\"id\":3296542961971610586,\"num\":\"\",\"credits\":3,\"prefix\":\"\"},{\"curriculum_requisites\":[],\"name\":\" \",\"metrics\":{\"complexity\":1.0,\"centrality\":0,\"blocking factor\":0,\"delay factor\":1.0},\"nameSub\":\"Elective\",\"id\":2772557180159405495,\"num\":\"\",\"credits\":3,\"prefix\":\"\"},{\"curriculum_requisites\":[],\"name\":\" \",\"metrics\":{\"complexity\":1.0,\"centrality\":0,\"blocking factor\":0,\"delay factor\":1.0},\"nameSub\":\"Liberal Studies\",\"id\":3127686194850626136,\"num\":\"\",\"credits\":3,\"prefix\":\"\"},{\"curriculum_requisites\":[],\"name\":\" \",\"metrics\":{\"complexity\":1.0,\"centrality\":0,\"blocking factor\":0,\"delay factor\":1.0},\"nameSub\":\"ECE Foundations\",\"id\":3296542961971610586,\"num\":\"\",\"credits\":3,\"prefix\":\"\"}],\"id\":5},{\"name\":\"Term 6\",\"curriculum_items\":[{\"curriculum_requisites\":[],\"name\":\" \",\"metrics\":{\"complexity\":1.0,\"centrality\":0,\"blocking factor\":0,\"delay factor\":1.0},\"nameSub\":\"ECE Foundations\",\"id\":3296542961971610586,\"num\":\"\",\"credits\":3,\"prefix\":\"\"},{\"curriculum_requisites\":[],\"name\":\" \",\"metrics\":{\"complexity\":1.0,\"centrality\":0,\"blocking factor\":0,\"delay factor\":1.0},\"nameSub\":\"Outside Tech. Elective\",\"id\":7820272238627724627,\"num\":\"\",\"credits\":3,\"prefix\":\"\"},{\"curriculum_requisites\":[],\"name\":\" \",\"metrics\":{\"complexity\":1.0,\"centrality\":0,\"blocking factor\":0,\"delay factor\":1.0},\"nameSub\":\"Elective\",\"id\":2772557180159405495,\"num\":\"\",\"credits\":3,\"prefix\":\"\"},{\"curriculum_requisites\":[],\"name\":\" \",\"metrics\":{\"complexity\":1.0,\"centrality\":0,\"blocking factor\":0,\"delay factor\":1.0},\"nameSub\":\"Liberal Studies\",\"id\":3127686194850626136,\"num\":\"\",\"credits\":3,\"prefix\":\"\"},{\"curriculum_requisites\":[],\"name\":\" \",\"metrics\":{\"complexity\":1.0,\"centrality\":0,\"blocking factor\":0,\"delay factor\":1.0},\"nameSub\":\"ECE Elective \",\"id\":8859999739171511205,\"num\":\"\",\"credits\":3,\"prefix\":\"\"},{\"curriculum_requisites\":[],\"name\":\" \",\"metrics\":{\"complexity\":1.0,\"centrality\":0,\"blocking factor\":0,\"delay factor\":1.0},\"nameSub\":\"ECE Elective\",\"id\":4018739381663225114,\"num\":\"\",\"credits\":3,\"prefix\":\"\"}],\"id\":6},{\"name\":\"Term 7\",\"curriculum_items\":[{\"curriculum_requisites\":[],\"name\":\" \",\"metrics\":{\"complexity\":1.0,\"centrality\":0,\"blocking factor\":0,\"delay factor\":1.0},\"nameSub\":\"Outside Tech. Elective\",\"id\":7820272238627724627,\"num\":\"\",\"credits\":3,\"prefix\":\"\"},{\"curriculum_requisites\":[],\"name\":\" \",\"metrics\":{\"complexity\":1.0,\"centrality\":0,\"blocking factor\":0,\"delay factor\":1.0},\"nameSub\":\"Liberal Studies\",\"id\":3127686194850626136,\"num\":\"\",\"credits\":3,\"prefix\":\"\"},{\"curriculum_requisites\":[],\"name\":\" \",\"metrics\":{\"complexity\":1.0,\"centrality\":0,\"blocking factor\":0,\"delay factor\":1.0},\"nameSub\":\"ECE Elective\",\"id\":4018739381663225114,\"num\":\"\",\"credits\":3,\"prefix\":\"\"},{\"curriculum_requisites\":[],\"name\":\" \",\"metrics\":{\"complexity\":1.0,\"centrality\":0,\"blocking factor\":0,\"delay factor\":1.0},\"nameSub\":\"ECE Elective\",\"id\":4018739381663225114,\"num\":\"\",\"credits\":3,\"prefix\":\"\"},{\"curriculum_requisites\":[],\"name\":\" \",\"metrics\":{\"complexity\":1.0,\"centrality\":0,\"blocking factor\":0,\"delay factor\":1.0},\"nameSub\":\"ECE Elective\",\"id\":4018739381663225114,\"num\":\"\",\"credits\":3,\"prefix\":\"\"},{\"curriculum_requisites\":[],\"name\":\" \",\"metrics\":{\"complexity\":1.0,\"centrality\":0,\"blocking factor\":0,\"delay factor\":1.0},\"nameSub\":\"Liberal Studies\",\"id\":3127686194850626136,\"num\":\"\",\"credits\":3,\"prefix\":\"\"}],\"id\":7}]}},\"*\"); window.removeEventListener(\"message\",window.messageReceived); window.messageReceived=(function (event){return (event.data.curriculum!==undefined) ? (_webIOScope.setObservableValue({\"name\":\"curriculum-data\",\"scope\":\"scope-7a3a2b80-a724-40f1-a1e6-8082c37ddca5\",\"id\":\"ob_05\",\"type\":\"observable\"},event.data.curriculum)) : undefined}); return window.addEventListener(\"message\",window.messageReceived)})"
          },
          "id": "curriculum",
          "src": "http://localhost:8156",
          "style": {
           "border": "none",
           "height": "100vh",
           "margin": "0",
           "padding": "0",
           "width": "100%"
          }
         },
         "type": "node"
        }
       ],
       "instanceArgs": {
        "handlers": {},
        "id": "scope-7a3a2b80-a724-40f1-a1e6-8082c37ddca5",
        "imports": {
         "data": [],
         "type": "async_block"
        },
        "observables": {
         "curriculum-data": {
          "id": "ob_05",
          "sync": true,
          "value": {
           "curriculum": {
            "curriculum_terms": [
             {
              "curriculum_items": [
               {
                "credits": 3,
                "curriculum_requisites": [],
                "id": 689176389931734700,
                "metrics": {
                 "blocking factor": 10,
                 "centrality": 0,
                 "complexity": 15,
                 "delay factor": 5
                },
                "name": "MATH 1910",
                "nameSub": "MATH 1910",
                "num": "1910",
                "prefix": "MATH"
               },
               {
                "credits": 3,
                "curriculum_requisites": [
                 {
                  "source_id": 689176389931734700,
                  "target_id": 4363174199326751000,
                  "type": "prereq"
                 }
                ],
                "id": 4363174199326751000,
                "metrics": {
                 "blocking factor": 8,
                 "centrality": 28,
                 "complexity": 12,
                 "delay factor": 4
                },
                "name": "MATH 1920",
                "nameSub": "MATH 1920",
                "num": "1920",
                "prefix": "MATH"
               },
               {
                "credits": 3,
                "curriculum_requisites": [
                 {
                  "source_id": 689176389931734700,
                  "target_id": 3460502588517033000,
                  "type": "prereq"
                 }
                ],
                "id": 3460502588517033000,
                "metrics": {
                 "blocking factor": 4,
                 "centrality": 9,
                 "complexity": 9,
                 "delay factor": 5
                },
                "name": "PHYS 1112",
                "nameSub": "PHYS 1112",
                "num": "1112",
                "prefix": "PHYS"
               },
               {
                "credits": 3,
                "curriculum_requisites": [
                 {
                  "source_id": 4363174199326751000,
                  "target_id": 2015789323598915000,
                  "type": "prereq"
                 },
                 {
                  "source_id": 3460502588517033000,
                  "target_id": 2015789323598915000,
                  "type": "prereq"
                 }
                ],
                "id": 2015789323598915000,
                "metrics": {
                 "blocking factor": 3,
                 "centrality": 18,
                 "complexity": 8,
                 "delay factor": 5
                },
                "name": "PHYS 2213",
                "nameSub": "PHYS 2213",
                "num": "2213",
                "prefix": "PHYS"
               },
               {
                "credits": 3,
                "curriculum_requisites": [
                 {
                  "source_id": 4363174199326751000,
                  "target_id": 2151769881499640300,
                  "type": "prereq"
                 }
                ],
                "id": 2151769881499640300,
                "metrics": {
                 "blocking factor": 4,
                 "centrality": 14,
                 "complexity": 8,
                 "delay factor": 4
                },
                "name": "MATH 2930",
                "nameSub": "MATH 2930",
                "num": "2930",
                "prefix": "MATH"
               }
              ],
              "id": 1,
              "name": "Term 1"
             },
             {
              "curriculum_items": [
               {
                "credits": 3,
                "curriculum_requisites": [],
                "id": 6644828390385108000,
                "metrics": {
                 "blocking factor": 3,
                 "centrality": 0,
                 "complexity": 6,
                 "delay factor": 3
                },
                "name": "CS 111x",
                "nameSub": "CS 111x",
                "num": "111x",
                "prefix": "CS"
               },
               {
                "credits": 3,
                "curriculum_requisites": [
                 {
                  "source_id": 2015789323598915000,
                  "target_id": 5088266527023238000,
                  "type": "coreq"
                 },
                 {
                  "source_id": 2151769881499640300,
                  "target_id": 5088266527023238000,
                  "type": "coreq"
                 }
                ],
                "id": 5088266527023238000,
                "metrics": {
                 "blocking factor": 1,
                 "centrality": 15,
                 "complexity": 6,
                 "delay factor": 5
                },
                "name": "ECE/ENGRD 2100",
                "nameSub": "ECE/ENGRD 2100",
                "num": "2100",
                "prefix": "ECE/ENGRD"
               },
               {
                "credits": 3,
                "curriculum_requisites": [
                 {
                  "source_id": 4363174199326751000,
                  "target_id": 6591198672522206000,
                  "type": "prereq"
                 }
                ],
                "id": 6591198672522206000,
                "metrics": {
                 "blocking factor": 2,
                 "centrality": 5,
                 "complexity": 5,
                 "delay factor": 3
                },
                "name": "MATH 2940",
                "nameSub": "MATH 2940",
                "num": "2940",
                "prefix": "MATH"
               },
               {
                "credits": 3,
                "curriculum_requisites": [
                 {
                  "source_id": 6591198672522206000,
                  "target_id": 1161268000602225700,
                  "type": "coreq"
                 },
                 {
                  "source_id": 2151769881499640300,
                  "target_id": 1161268000602225700,
                  "type": "prereq"
                 }
                ],
                "id": 1161268000602225700,
                "metrics": {
                 "blocking factor": 1,
                 "centrality": 10,
                 "complexity": 5,
                 "delay factor": 4
                },
                "name": "ECE/ENGRD 2200/2220",
                "nameSub": "ECE 2200/ENGRD 2220",
                "num": "2200/2220",
                "prefix": "ECE/ENGRD"
               },
               {
                "credits": 3,
                "curriculum_requisites": [
                 {
                  "source_id": 1528436893539722800,
                  "target_id": 8048393585568635000,
                  "type": "prereq"
                 },
                 {
                  "source_id": 1161268000602225700,
                  "target_id": 8048393585568635000,
                  "type": "prereq"
                 },
                 {
                  "source_id": 5088266527023238000,
                  "target_id": 8048393585568635000,
                  "type": "prereq"
                 }
                ],
                "id": 8048393585568635000,
                "metrics": {
                 "blocking factor": 0,
                 "centrality": 0,
                 "complexity": 5,
                 "delay factor": 5
                },
                "name": "ECE 3400",
                "nameSub": "ECE 3400",
                "num": "3400",
                "prefix": "ECE"
               }
              ],
              "id": 2,
              "name": "Term 2"
             },
             {
              "curriculum_items": [
               {
                "credits": 3,
                "curriculum_requisites": [
                 {
                  "source_id": 6644828390385108000,
                  "target_id": 1528436893539722800,
                  "type": "prereq"
                 }
                ],
                "id": 1528436893539722800,
                "metrics": {
                 "blocking factor": 1,
                 "centrality": 3,
                 "complexity": 4,
                 "delay factor": 3
                },
                "name": "MECE/ENGRD 2300",
                "nameSub": "MECE/ENGRD 2300",
                "num": "2300",
                "prefix": "MECE/ENGRD"
               },
               {
                "credits": 3,
                "curriculum_requisites": [
                 {
                  "source_id": 2151769881499640300,
                  "target_id": 8984826741082163000,
                  "type": "coreq"
                 }
                ],
                "id": 8984826741082163000,
                "metrics": {
                 "blocking factor": 0,
                 "centrality": 0,
                 "complexity": 4,
                 "delay factor": 4
                },
                "name": "PHYS 2214",
                "nameSub": "PHYS 2214",
                "num": "2214",
                "prefix": "PHYS"
               },
               {
                "credits": 3,
                "curriculum_requisites": [
                 {
                  "source_id": 2015789323598915000,
                  "target_id": 1839390603646070000,
                  "type": "prereq"
                 }
                ],
                "id": 1839390603646070000,
                "metrics": {
                 "blocking factor": 0,
                 "centrality": 0,
                 "complexity": 4,
                 "delay factor": 4
                },
                "name": "ENGRD 2xxx",
                "nameSub": "ENGRD 2xxx",
                "num": "2xxx",
                "prefix": "ENGRD"
               },
               {
                "credits": 3,
                "curriculum_requisites": [
                 {
                  "source_id": 6644828390385108000,
                  "target_id": 7820272238627724000,
                  "type": "prereq"
                 }
                ],
                "id": 7820272238627724000,
                "metrics": {
                 "blocking factor": 0,
                 "centrality": 0,
                 "complexity": 2,
                 "delay factor": 2
                },
                "name": " ",
                "nameSub": "Outside Tech. Elective",
                "num": "",
                "prefix": ""
               },
               {
                "credits": 3,
                "curriculum_requisites": [],
                "id": 6116283047058204000,
                "metrics": {
                 "blocking factor": 0,
                 "centrality": 0,
                 "complexity": 1,
                 "delay factor": 1
                },
                "name": "CHEM 2090",
                "nameSub": "CHEM 2090",
                "num": "2090",
                "prefix": "CHEM"
               }
              ],
              "id": 3,
              "name": "Term 3"
             },
             {
              "curriculum_items": [
               {
                "credits": 3,
                "curriculum_requisites": [],
                "id": 8527704206136169000,
                "metrics": {
                 "blocking factor": 0,
                 "centrality": 0,
                 "complexity": 1,
                 "delay factor": 1
                },
                "name": "ENGRI 1xxx",
                "nameSub": "ENGRI 1xxx",
                "num": "1xxx",
                "prefix": "ENGRI"
               },
               {
                "credits": 3,
                "curriculum_requisites": [],
                "id": 8985571460443386000,
                "metrics": {
                 "blocking factor": 0,
                 "centrality": 0,
                 "complexity": 1,
                 "delay factor": 1
                },
                "name": " ",
                "nameSub": "1st Yr Writing Seminar",
                "num": "",
                "prefix": ""
               },
               {
                "credits": 3,
                "curriculum_requisites": [],
                "id": 8847411882004353000,
                "metrics": {
                 "blocking factor": 0,
                 "centrality": 0,
                 "complexity": 1,
                 "delay factor": 1
                },
                "name": " ",
                "nameSub": "PE",
                "num": "",
                "prefix": ""
               },
               {
                "credits": 3,
                "curriculum_requisites": [],
                "id": 8985571460443386000,
                "metrics": {
                 "blocking factor": 0,
                 "centrality": 0,
                 "complexity": 1,
                 "delay factor": 1
                },
                "name": " ",
                "nameSub": "1st Yr Writing Seminar",
                "num": "",
                "prefix": ""
               },
               {
                "credits": 3,
                "curriculum_requisites": [],
                "id": 8847411882004353000,
                "metrics": {
                 "blocking factor": 0,
                 "centrality": 0,
                 "complexity": 1,
                 "delay factor": 1
                },
                "name": " ",
                "nameSub": "PE",
                "num": "",
                "prefix": ""
               },
               {
                "credits": 3,
                "curriculum_requisites": [],
                "id": 3127686194850626000,
                "metrics": {
                 "blocking factor": 0,
                 "centrality": 0,
                 "complexity": 1,
                 "delay factor": 1
                },
                "name": " ",
                "nameSub": "Liberal Studies",
                "num": "",
                "prefix": ""
               }
              ],
              "id": 4,
              "name": "Term 4"
             },
             {
              "curriculum_items": [
               {
                "credits": 3,
                "curriculum_requisites": [],
                "id": 3127686194850626000,
                "metrics": {
                 "blocking factor": 0,
                 "centrality": 0,
                 "complexity": 1,
                 "delay factor": 1
                },
                "name": " ",
                "nameSub": "Liberal Studies",
                "num": "",
                "prefix": ""
               },
               {
                "credits": 3,
                "curriculum_requisites": [],
                "id": 3296542961971610600,
                "metrics": {
                 "blocking factor": 0,
                 "centrality": 0,
                 "complexity": 1,
                 "delay factor": 1
                },
                "name": " ",
                "nameSub": "ECE Foundations",
                "num": "",
                "prefix": ""
               },
               {
                "credits": 3,
                "curriculum_requisites": [],
                "id": 2772557180159405600,
                "metrics": {
                 "blocking factor": 0,
                 "centrality": 0,
                 "complexity": 1,
                 "delay factor": 1
                },
                "name": " ",
                "nameSub": "Elective",
                "num": "",
                "prefix": ""
               },
               {
                "credits": 3,
                "curriculum_requisites": [],
                "id": 3127686194850626000,
                "metrics": {
                 "blocking factor": 0,
                 "centrality": 0,
                 "complexity": 1,
                 "delay factor": 1
                },
                "name": " ",
                "nameSub": "Liberal Studies",
                "num": "",
                "prefix": ""
               },
               {
                "credits": 3,
                "curriculum_requisites": [],
                "id": 3296542961971610600,
                "metrics": {
                 "blocking factor": 0,
                 "centrality": 0,
                 "complexity": 1,
                 "delay factor": 1
                },
                "name": " ",
                "nameSub": "ECE Foundations",
                "num": "",
                "prefix": ""
               }
              ],
              "id": 5,
              "name": "Term 5"
             },
             {
              "curriculum_items": [
               {
                "credits": 3,
                "curriculum_requisites": [],
                "id": 3296542961971610600,
                "metrics": {
                 "blocking factor": 0,
                 "centrality": 0,
                 "complexity": 1,
                 "delay factor": 1
                },
                "name": " ",
                "nameSub": "ECE Foundations",
                "num": "",
                "prefix": ""
               },
               {
                "credits": 3,
                "curriculum_requisites": [],
                "id": 7820272238627724000,
                "metrics": {
                 "blocking factor": 0,
                 "centrality": 0,
                 "complexity": 1,
                 "delay factor": 1
                },
                "name": " ",
                "nameSub": "Outside Tech. Elective",
                "num": "",
                "prefix": ""
               },
               {
                "credits": 3,
                "curriculum_requisites": [],
                "id": 2772557180159405600,
                "metrics": {
                 "blocking factor": 0,
                 "centrality": 0,
                 "complexity": 1,
                 "delay factor": 1
                },
                "name": " ",
                "nameSub": "Elective",
                "num": "",
                "prefix": ""
               },
               {
                "credits": 3,
                "curriculum_requisites": [],
                "id": 3127686194850626000,
                "metrics": {
                 "blocking factor": 0,
                 "centrality": 0,
                 "complexity": 1,
                 "delay factor": 1
                },
                "name": " ",
                "nameSub": "Liberal Studies",
                "num": "",
                "prefix": ""
               },
               {
                "credits": 3,
                "curriculum_requisites": [],
                "id": 8859999739171511000,
                "metrics": {
                 "blocking factor": 0,
                 "centrality": 0,
                 "complexity": 1,
                 "delay factor": 1
                },
                "name": " ",
                "nameSub": "ECE Elective ",
                "num": "",
                "prefix": ""
               },
               {
                "credits": 3,
                "curriculum_requisites": [],
                "id": 4018739381663225300,
                "metrics": {
                 "blocking factor": 0,
                 "centrality": 0,
                 "complexity": 1,
                 "delay factor": 1
                },
                "name": " ",
                "nameSub": "ECE Elective",
                "num": "",
                "prefix": ""
               }
              ],
              "id": 6,
              "name": "Term 6"
             },
             {
              "curriculum_items": [
               {
                "credits": 3,
                "curriculum_requisites": [],
                "id": 7820272238627724000,
                "metrics": {
                 "blocking factor": 0,
                 "centrality": 0,
                 "complexity": 1,
                 "delay factor": 1
                },
                "name": " ",
                "nameSub": "Outside Tech. Elective",
                "num": "",
                "prefix": ""
               },
               {
                "credits": 3,
                "curriculum_requisites": [],
                "id": 3127686194850626000,
                "metrics": {
                 "blocking factor": 0,
                 "centrality": 0,
                 "complexity": 1,
                 "delay factor": 1
                },
                "name": " ",
                "nameSub": "Liberal Studies",
                "num": "",
                "prefix": ""
               },
               {
                "credits": 3,
                "curriculum_requisites": [],
                "id": 4018739381663225300,
                "metrics": {
                 "blocking factor": 0,
                 "centrality": 0,
                 "complexity": 1,
                 "delay factor": 1
                },
                "name": " ",
                "nameSub": "ECE Elective",
                "num": "",
                "prefix": ""
               },
               {
                "credits": 3,
                "curriculum_requisites": [],
                "id": 4018739381663225300,
                "metrics": {
                 "blocking factor": 0,
                 "centrality": 0,
                 "complexity": 1,
                 "delay factor": 1
                },
                "name": " ",
                "nameSub": "ECE Elective",
                "num": "",
                "prefix": ""
               },
               {
                "credits": 3,
                "curriculum_requisites": [],
                "id": 4018739381663225300,
                "metrics": {
                 "blocking factor": 0,
                 "centrality": 0,
                 "complexity": 1,
                 "delay factor": 1
                },
                "name": " ",
                "nameSub": "ECE Elective",
                "num": "",
                "prefix": ""
               },
               {
                "credits": 3,
                "curriculum_requisites": [],
                "id": 3127686194850626000,
                "metrics": {
                 "blocking factor": 0,
                 "centrality": 0,
                 "complexity": 1,
                 "delay factor": 1
                },
                "name": " ",
                "nameSub": "Liberal Studies",
                "num": "",
                "prefix": ""
               }
              ],
              "id": 7,
              "name": "Term 7"
             }
            ],
            "name": "University of Houston EE Program 4-year Plan"
           }
          }
         }
        },
        "systemjs_options": null
       },
       "nodeType": "Scope",
       "props": {},
       "type": "node"
      },
      "text/html": [
       "<div\n",
       "    class=\"webio-mountpoint\"\n",
       "    data-webio-mountpoint=\"8742029287571259957\"\n",
       ">\n",
       "    <script>\n",
       "    if (window.require && require.defined && require.defined(\"nbextensions/webio/main\")) {\n",
       "        console.log(\"Jupyter WebIO extension detected, not mounting.\");\n",
       "    } else if (window.WebIO) {\n",
       "        WebIO.mount(\n",
       "            document.querySelector('[data-webio-mountpoint=\"8742029287571259957\"]'),\n",
       "            {\"props\":{},\"nodeType\":\"Scope\",\"type\":\"node\",\"instanceArgs\":{\"imports\":{\"data\":[],\"type\":\"async_block\"},\"id\":\"scope-7a3a2b80-a724-40f1-a1e6-8082c37ddca5\",\"handlers\":{},\"systemjs_options\":null,\"observables\":{\"curriculum-data\":{\"sync\":true,\"id\":\"ob_05\",\"value\":{\"curriculum\":{\"name\":\"University of Houston EE Program 4-year Plan\",\"curriculum_terms\":[{\"name\":\"Term 1\",\"curriculum_items\":[{\"curriculum_requisites\":[],\"name\":\"MATH 1910\",\"metrics\":{\"complexity\":15.0,\"centrality\":0,\"blocking factor\":10,\"delay factor\":5.0},\"nameSub\":\"MATH 1910\",\"id\":689176389931734619,\"num\":\"1910\",\"credits\":3,\"prefix\":\"MATH\"},{\"curriculum_requisites\":[{\"source_id\":689176389931734619,\"target_id\":4363174199326750980,\"type\":\"prereq\"}],\"name\":\"MATH 1920\",\"metrics\":{\"complexity\":12.0,\"centrality\":28,\"blocking factor\":8,\"delay factor\":4.0},\"nameSub\":\"MATH 1920\",\"id\":4363174199326750980,\"num\":\"1920\",\"credits\":3,\"prefix\":\"MATH\"},{\"curriculum_requisites\":[{\"source_id\":689176389931734619,\"target_id\":3460502588517032754,\"type\":\"prereq\"}],\"name\":\"PHYS 1112\",\"metrics\":{\"complexity\":9.0,\"centrality\":9,\"blocking factor\":4,\"delay factor\":5.0},\"nameSub\":\"PHYS 1112\",\"id\":3460502588517032754,\"num\":\"1112\",\"credits\":3,\"prefix\":\"PHYS\"},{\"curriculum_requisites\":[{\"source_id\":4363174199326750980,\"target_id\":2015789323598915066,\"type\":\"prereq\"},{\"source_id\":3460502588517032754,\"target_id\":2015789323598915066,\"type\":\"prereq\"}],\"name\":\"PHYS 2213\",\"metrics\":{\"complexity\":8.0,\"centrality\":18,\"blocking factor\":3,\"delay factor\":5.0},\"nameSub\":\"PHYS 2213\",\"id\":2015789323598915066,\"num\":\"2213\",\"credits\":3,\"prefix\":\"PHYS\"},{\"curriculum_requisites\":[{\"source_id\":4363174199326750980,\"target_id\":2151769881499640384,\"type\":\"prereq\"}],\"name\":\"MATH 2930\",\"metrics\":{\"complexity\":8.0,\"centrality\":14,\"blocking factor\":4,\"delay factor\":4.0},\"nameSub\":\"MATH 2930\",\"id\":2151769881499640384,\"num\":\"2930\",\"credits\":3,\"prefix\":\"MATH\"}],\"id\":1},{\"name\":\"Term 2\",\"curriculum_items\":[{\"curriculum_requisites\":[],\"name\":\"CS 111x\",\"metrics\":{\"complexity\":6.0,\"centrality\":0,\"blocking factor\":3,\"delay factor\":3.0},\"nameSub\":\"CS 111x\",\"id\":6644828390385107964,\"num\":\"111x\",\"credits\":3,\"prefix\":\"CS\"},{\"curriculum_requisites\":[{\"source_id\":2015789323598915066,\"target_id\":5088266527023238633,\"type\":\"coreq\"},{\"source_id\":2151769881499640384,\"target_id\":5088266527023238633,\"type\":\"coreq\"}],\"name\":\"ECE\\/ENGRD 2100\",\"metrics\":{\"complexity\":6.0,\"centrality\":15,\"blocking factor\":1,\"delay factor\":5.0},\"nameSub\":\"ECE\\/ENGRD 2100\",\"id\":5088266527023238633,\"num\":\"2100\",\"credits\":3,\"prefix\":\"ECE\\/ENGRD\"},{\"curriculum_requisites\":[{\"source_id\":4363174199326750980,\"target_id\":6591198672522205704,\"type\":\"prereq\"}],\"name\":\"MATH 2940\",\"metrics\":{\"complexity\":5.0,\"centrality\":5,\"blocking factor\":2,\"delay factor\":3.0},\"nameSub\":\"MATH 2940\",\"id\":6591198672522205704,\"num\":\"2940\",\"credits\":3,\"prefix\":\"MATH\"},{\"curriculum_requisites\":[{\"source_id\":6591198672522205704,\"target_id\":1161268000602225778,\"type\":\"coreq\"},{\"source_id\":2151769881499640384,\"target_id\":1161268000602225778,\"type\":\"prereq\"}],\"name\":\"ECE\\/ENGRD 2200\\/2220\",\"metrics\":{\"complexity\":5.0,\"centrality\":10,\"blocking factor\":1,\"delay factor\":4.0},\"nameSub\":\"ECE 2200\\/ENGRD 2220\",\"id\":1161268000602225778,\"num\":\"2200\\/2220\",\"credits\":3,\"prefix\":\"ECE\\/ENGRD\"},{\"curriculum_requisites\":[{\"source_id\":1528436893539722845,\"target_id\":8048393585568634781,\"type\":\"prereq\"},{\"source_id\":1161268000602225778,\"target_id\":8048393585568634781,\"type\":\"prereq\"},{\"source_id\":5088266527023238633,\"target_id\":8048393585568634781,\"type\":\"prereq\"}],\"name\":\"ECE 3400\",\"metrics\":{\"complexity\":5.0,\"centrality\":0,\"blocking factor\":0,\"delay factor\":5.0},\"nameSub\":\"ECE 3400\",\"id\":8048393585568634781,\"num\":\"3400\",\"credits\":3,\"prefix\":\"ECE\"}],\"id\":2},{\"name\":\"Term 3\",\"curriculum_items\":[{\"curriculum_requisites\":[{\"source_id\":6644828390385107964,\"target_id\":1528436893539722845,\"type\":\"prereq\"}],\"name\":\"MECE\\/ENGRD 2300\",\"metrics\":{\"complexity\":4.0,\"centrality\":3,\"blocking factor\":1,\"delay factor\":3.0},\"nameSub\":\"MECE\\/ENGRD 2300\",\"id\":1528436893539722845,\"num\":\"2300\",\"credits\":3,\"prefix\":\"MECE\\/ENGRD\"},{\"curriculum_requisites\":[{\"source_id\":2151769881499640384,\"target_id\":8984826741082162803,\"type\":\"coreq\"}],\"name\":\"PHYS 2214\",\"metrics\":{\"complexity\":4.0,\"centrality\":0,\"blocking factor\":0,\"delay factor\":4.0},\"nameSub\":\"PHYS 2214\",\"id\":8984826741082162803,\"num\":\"2214\",\"credits\":3,\"prefix\":\"PHYS\"},{\"curriculum_requisites\":[{\"source_id\":2015789323598915066,\"target_id\":1839390603646070032,\"type\":\"prereq\"}],\"name\":\"ENGRD 2xxx\",\"metrics\":{\"complexity\":4.0,\"centrality\":0,\"blocking factor\":0,\"delay factor\":4.0},\"nameSub\":\"ENGRD 2xxx\",\"id\":1839390603646070032,\"num\":\"2xxx\",\"credits\":3,\"prefix\":\"ENGRD\"},{\"curriculum_requisites\":[{\"source_id\":6644828390385107964,\"target_id\":7820272238627724627,\"type\":\"prereq\"}],\"name\":\" \",\"metrics\":{\"complexity\":2.0,\"centrality\":0,\"blocking factor\":0,\"delay factor\":2.0},\"nameSub\":\"Outside Tech. Elective\",\"id\":7820272238627724627,\"num\":\"\",\"credits\":3,\"prefix\":\"\"},{\"curriculum_requisites\":[],\"name\":\"CHEM 2090\",\"metrics\":{\"complexity\":1.0,\"centrality\":0,\"blocking factor\":0,\"delay factor\":1.0},\"nameSub\":\"CHEM 2090\",\"id\":6116283047058203357,\"num\":\"2090\",\"credits\":3,\"prefix\":\"CHEM\"}],\"id\":3},{\"name\":\"Term 4\",\"curriculum_items\":[{\"curriculum_requisites\":[],\"name\":\"ENGRI 1xxx\",\"metrics\":{\"complexity\":1.0,\"centrality\":0,\"blocking factor\":0,\"delay factor\":1.0},\"nameSub\":\"ENGRI 1xxx\",\"id\":8527704206136169104,\"num\":\"1xxx\",\"credits\":3,\"prefix\":\"ENGRI\"},{\"curriculum_requisites\":[],\"name\":\" \",\"metrics\":{\"complexity\":1.0,\"centrality\":0,\"blocking factor\":0,\"delay factor\":1.0},\"nameSub\":\"1st Yr Writing Seminar\",\"id\":8985571460443386367,\"num\":\"\",\"credits\":3,\"prefix\":\"\"},{\"curriculum_requisites\":[],\"name\":\" \",\"metrics\":{\"complexity\":1.0,\"centrality\":0,\"blocking factor\":0,\"delay factor\":1.0},\"nameSub\":\"PE\",\"id\":8847411882004352659,\"num\":\"\",\"credits\":3,\"prefix\":\"\"},{\"curriculum_requisites\":[],\"name\":\" \",\"metrics\":{\"complexity\":1.0,\"centrality\":0,\"blocking factor\":0,\"delay factor\":1.0},\"nameSub\":\"1st Yr Writing Seminar\",\"id\":8985571460443386367,\"num\":\"\",\"credits\":3,\"prefix\":\"\"},{\"curriculum_requisites\":[],\"name\":\" \",\"metrics\":{\"complexity\":1.0,\"centrality\":0,\"blocking factor\":0,\"delay factor\":1.0},\"nameSub\":\"PE\",\"id\":8847411882004352659,\"num\":\"\",\"credits\":3,\"prefix\":\"\"},{\"curriculum_requisites\":[],\"name\":\" \",\"metrics\":{\"complexity\":1.0,\"centrality\":0,\"blocking factor\":0,\"delay factor\":1.0},\"nameSub\":\"Liberal Studies\",\"id\":3127686194850626136,\"num\":\"\",\"credits\":3,\"prefix\":\"\"}],\"id\":4},{\"name\":\"Term 5\",\"curriculum_items\":[{\"curriculum_requisites\":[],\"name\":\" \",\"metrics\":{\"complexity\":1.0,\"centrality\":0,\"blocking factor\":0,\"delay factor\":1.0},\"nameSub\":\"Liberal Studies\",\"id\":3127686194850626136,\"num\":\"\",\"credits\":3,\"prefix\":\"\"},{\"curriculum_requisites\":[],\"name\":\" \",\"metrics\":{\"complexity\":1.0,\"centrality\":0,\"blocking factor\":0,\"delay factor\":1.0},\"nameSub\":\"ECE Foundations\",\"id\":3296542961971610586,\"num\":\"\",\"credits\":3,\"prefix\":\"\"},{\"curriculum_requisites\":[],\"name\":\" \",\"metrics\":{\"complexity\":1.0,\"centrality\":0,\"blocking factor\":0,\"delay factor\":1.0},\"nameSub\":\"Elective\",\"id\":2772557180159405495,\"num\":\"\",\"credits\":3,\"prefix\":\"\"},{\"curriculum_requisites\":[],\"name\":\" \",\"metrics\":{\"complexity\":1.0,\"centrality\":0,\"blocking factor\":0,\"delay factor\":1.0},\"nameSub\":\"Liberal Studies\",\"id\":3127686194850626136,\"num\":\"\",\"credits\":3,\"prefix\":\"\"},{\"curriculum_requisites\":[],\"name\":\" \",\"metrics\":{\"complexity\":1.0,\"centrality\":0,\"blocking factor\":0,\"delay factor\":1.0},\"nameSub\":\"ECE Foundations\",\"id\":3296542961971610586,\"num\":\"\",\"credits\":3,\"prefix\":\"\"}],\"id\":5},{\"name\":\"Term 6\",\"curriculum_items\":[{\"curriculum_requisites\":[],\"name\":\" \",\"metrics\":{\"complexity\":1.0,\"centrality\":0,\"blocking factor\":0,\"delay factor\":1.0},\"nameSub\":\"ECE Foundations\",\"id\":3296542961971610586,\"num\":\"\",\"credits\":3,\"prefix\":\"\"},{\"curriculum_requisites\":[],\"name\":\" \",\"metrics\":{\"complexity\":1.0,\"centrality\":0,\"blocking factor\":0,\"delay factor\":1.0},\"nameSub\":\"Outside Tech. Elective\",\"id\":7820272238627724627,\"num\":\"\",\"credits\":3,\"prefix\":\"\"},{\"curriculum_requisites\":[],\"name\":\" \",\"metrics\":{\"complexity\":1.0,\"centrality\":0,\"blocking factor\":0,\"delay factor\":1.0},\"nameSub\":\"Elective\",\"id\":2772557180159405495,\"num\":\"\",\"credits\":3,\"prefix\":\"\"},{\"curriculum_requisites\":[],\"name\":\" \",\"metrics\":{\"complexity\":1.0,\"centrality\":0,\"blocking factor\":0,\"delay factor\":1.0},\"nameSub\":\"Liberal Studies\",\"id\":3127686194850626136,\"num\":\"\",\"credits\":3,\"prefix\":\"\"},{\"curriculum_requisites\":[],\"name\":\" \",\"metrics\":{\"complexity\":1.0,\"centrality\":0,\"blocking factor\":0,\"delay factor\":1.0},\"nameSub\":\"ECE Elective \",\"id\":8859999739171511205,\"num\":\"\",\"credits\":3,\"prefix\":\"\"},{\"curriculum_requisites\":[],\"name\":\" \",\"metrics\":{\"complexity\":1.0,\"centrality\":0,\"blocking factor\":0,\"delay factor\":1.0},\"nameSub\":\"ECE Elective\",\"id\":4018739381663225114,\"num\":\"\",\"credits\":3,\"prefix\":\"\"}],\"id\":6},{\"name\":\"Term 7\",\"curriculum_items\":[{\"curriculum_requisites\":[],\"name\":\" \",\"metrics\":{\"complexity\":1.0,\"centrality\":0,\"blocking factor\":0,\"delay factor\":1.0},\"nameSub\":\"Outside Tech. Elective\",\"id\":7820272238627724627,\"num\":\"\",\"credits\":3,\"prefix\":\"\"},{\"curriculum_requisites\":[],\"name\":\" \",\"metrics\":{\"complexity\":1.0,\"centrality\":0,\"blocking factor\":0,\"delay factor\":1.0},\"nameSub\":\"Liberal Studies\",\"id\":3127686194850626136,\"num\":\"\",\"credits\":3,\"prefix\":\"\"},{\"curriculum_requisites\":[],\"name\":\" \",\"metrics\":{\"complexity\":1.0,\"centrality\":0,\"blocking factor\":0,\"delay factor\":1.0},\"nameSub\":\"ECE Elective\",\"id\":4018739381663225114,\"num\":\"\",\"credits\":3,\"prefix\":\"\"},{\"curriculum_requisites\":[],\"name\":\" \",\"metrics\":{\"complexity\":1.0,\"centrality\":0,\"blocking factor\":0,\"delay factor\":1.0},\"nameSub\":\"ECE Elective\",\"id\":4018739381663225114,\"num\":\"\",\"credits\":3,\"prefix\":\"\"},{\"curriculum_requisites\":[],\"name\":\" \",\"metrics\":{\"complexity\":1.0,\"centrality\":0,\"blocking factor\":0,\"delay factor\":1.0},\"nameSub\":\"ECE Elective\",\"id\":4018739381663225114,\"num\":\"\",\"credits\":3,\"prefix\":\"\"},{\"curriculum_requisites\":[],\"name\":\" \",\"metrics\":{\"complexity\":1.0,\"centrality\":0,\"blocking factor\":0,\"delay factor\":1.0},\"nameSub\":\"Liberal Studies\",\"id\":3127686194850626136,\"num\":\"\",\"credits\":3,\"prefix\":\"\"}],\"id\":7}]}}}}},\"children\":[{\"props\":{\"src\":\"http:\\/\\/localhost:8156\",\"id\":\"curriculum\",\"events\":{\"load\":\"(function (){this.contentWindow.postMessage({\\\"curriculum\\\":{\\\"name\\\":\\\"University of Houston EE Program 4-year Plan\\\",\\\"curriculum_terms\\\":[{\\\"name\\\":\\\"Term 1\\\",\\\"curriculum_items\\\":[{\\\"curriculum_requisites\\\":[],\\\"name\\\":\\\"MATH 1910\\\",\\\"metrics\\\":{\\\"complexity\\\":15.0,\\\"centrality\\\":0,\\\"blocking factor\\\":10,\\\"delay factor\\\":5.0},\\\"nameSub\\\":\\\"MATH 1910\\\",\\\"id\\\":689176389931734619,\\\"num\\\":\\\"1910\\\",\\\"credits\\\":3,\\\"prefix\\\":\\\"MATH\\\"},{\\\"curriculum_requisites\\\":[{\\\"source_id\\\":689176389931734619,\\\"target_id\\\":4363174199326750980,\\\"type\\\":\\\"prereq\\\"}],\\\"name\\\":\\\"MATH 1920\\\",\\\"metrics\\\":{\\\"complexity\\\":12.0,\\\"centrality\\\":28,\\\"blocking factor\\\":8,\\\"delay factor\\\":4.0},\\\"nameSub\\\":\\\"MATH 1920\\\",\\\"id\\\":4363174199326750980,\\\"num\\\":\\\"1920\\\",\\\"credits\\\":3,\\\"prefix\\\":\\\"MATH\\\"},{\\\"curriculum_requisites\\\":[{\\\"source_id\\\":689176389931734619,\\\"target_id\\\":3460502588517032754,\\\"type\\\":\\\"prereq\\\"}],\\\"name\\\":\\\"PHYS 1112\\\",\\\"metrics\\\":{\\\"complexity\\\":9.0,\\\"centrality\\\":9,\\\"blocking factor\\\":4,\\\"delay factor\\\":5.0},\\\"nameSub\\\":\\\"PHYS 1112\\\",\\\"id\\\":3460502588517032754,\\\"num\\\":\\\"1112\\\",\\\"credits\\\":3,\\\"prefix\\\":\\\"PHYS\\\"},{\\\"curriculum_requisites\\\":[{\\\"source_id\\\":4363174199326750980,\\\"target_id\\\":2015789323598915066,\\\"type\\\":\\\"prereq\\\"},{\\\"source_id\\\":3460502588517032754,\\\"target_id\\\":2015789323598915066,\\\"type\\\":\\\"prereq\\\"}],\\\"name\\\":\\\"PHYS 2213\\\",\\\"metrics\\\":{\\\"complexity\\\":8.0,\\\"centrality\\\":18,\\\"blocking factor\\\":3,\\\"delay factor\\\":5.0},\\\"nameSub\\\":\\\"PHYS 2213\\\",\\\"id\\\":2015789323598915066,\\\"num\\\":\\\"2213\\\",\\\"credits\\\":3,\\\"prefix\\\":\\\"PHYS\\\"},{\\\"curriculum_requisites\\\":[{\\\"source_id\\\":4363174199326750980,\\\"target_id\\\":2151769881499640384,\\\"type\\\":\\\"prereq\\\"}],\\\"name\\\":\\\"MATH 2930\\\",\\\"metrics\\\":{\\\"complexity\\\":8.0,\\\"centrality\\\":14,\\\"blocking factor\\\":4,\\\"delay factor\\\":4.0},\\\"nameSub\\\":\\\"MATH 2930\\\",\\\"id\\\":2151769881499640384,\\\"num\\\":\\\"2930\\\",\\\"credits\\\":3,\\\"prefix\\\":\\\"MATH\\\"}],\\\"id\\\":1},{\\\"name\\\":\\\"Term 2\\\",\\\"curriculum_items\\\":[{\\\"curriculum_requisites\\\":[],\\\"name\\\":\\\"CS 111x\\\",\\\"metrics\\\":{\\\"complexity\\\":6.0,\\\"centrality\\\":0,\\\"blocking factor\\\":3,\\\"delay factor\\\":3.0},\\\"nameSub\\\":\\\"CS 111x\\\",\\\"id\\\":6644828390385107964,\\\"num\\\":\\\"111x\\\",\\\"credits\\\":3,\\\"prefix\\\":\\\"CS\\\"},{\\\"curriculum_requisites\\\":[{\\\"source_id\\\":2015789323598915066,\\\"target_id\\\":5088266527023238633,\\\"type\\\":\\\"coreq\\\"},{\\\"source_id\\\":2151769881499640384,\\\"target_id\\\":5088266527023238633,\\\"type\\\":\\\"coreq\\\"}],\\\"name\\\":\\\"ECE\\/ENGRD 2100\\\",\\\"metrics\\\":{\\\"complexity\\\":6.0,\\\"centrality\\\":15,\\\"blocking factor\\\":1,\\\"delay factor\\\":5.0},\\\"nameSub\\\":\\\"ECE\\/ENGRD 2100\\\",\\\"id\\\":5088266527023238633,\\\"num\\\":\\\"2100\\\",\\\"credits\\\":3,\\\"prefix\\\":\\\"ECE\\/ENGRD\\\"},{\\\"curriculum_requisites\\\":[{\\\"source_id\\\":4363174199326750980,\\\"target_id\\\":6591198672522205704,\\\"type\\\":\\\"prereq\\\"}],\\\"name\\\":\\\"MATH 2940\\\",\\\"metrics\\\":{\\\"complexity\\\":5.0,\\\"centrality\\\":5,\\\"blocking factor\\\":2,\\\"delay factor\\\":3.0},\\\"nameSub\\\":\\\"MATH 2940\\\",\\\"id\\\":6591198672522205704,\\\"num\\\":\\\"2940\\\",\\\"credits\\\":3,\\\"prefix\\\":\\\"MATH\\\"},{\\\"curriculum_requisites\\\":[{\\\"source_id\\\":6591198672522205704,\\\"target_id\\\":1161268000602225778,\\\"type\\\":\\\"coreq\\\"},{\\\"source_id\\\":2151769881499640384,\\\"target_id\\\":1161268000602225778,\\\"type\\\":\\\"prereq\\\"}],\\\"name\\\":\\\"ECE\\/ENGRD 2200\\/2220\\\",\\\"metrics\\\":{\\\"complexity\\\":5.0,\\\"centrality\\\":10,\\\"blocking factor\\\":1,\\\"delay factor\\\":4.0},\\\"nameSub\\\":\\\"ECE 2200\\/ENGRD 2220\\\",\\\"id\\\":1161268000602225778,\\\"num\\\":\\\"2200\\/2220\\\",\\\"credits\\\":3,\\\"prefix\\\":\\\"ECE\\/ENGRD\\\"},{\\\"curriculum_requisites\\\":[{\\\"source_id\\\":1528436893539722845,\\\"target_id\\\":8048393585568634781,\\\"type\\\":\\\"prereq\\\"},{\\\"source_id\\\":1161268000602225778,\\\"target_id\\\":8048393585568634781,\\\"type\\\":\\\"prereq\\\"},{\\\"source_id\\\":5088266527023238633,\\\"target_id\\\":8048393585568634781,\\\"type\\\":\\\"prereq\\\"}],\\\"name\\\":\\\"ECE 3400\\\",\\\"metrics\\\":{\\\"complexity\\\":5.0,\\\"centrality\\\":0,\\\"blocking factor\\\":0,\\\"delay factor\\\":5.0},\\\"nameSub\\\":\\\"ECE 3400\\\",\\\"id\\\":8048393585568634781,\\\"num\\\":\\\"3400\\\",\\\"credits\\\":3,\\\"prefix\\\":\\\"ECE\\\"}],\\\"id\\\":2},{\\\"name\\\":\\\"Term 3\\\",\\\"curriculum_items\\\":[{\\\"curriculum_requisites\\\":[{\\\"source_id\\\":6644828390385107964,\\\"target_id\\\":1528436893539722845,\\\"type\\\":\\\"prereq\\\"}],\\\"name\\\":\\\"MECE\\/ENGRD 2300\\\",\\\"metrics\\\":{\\\"complexity\\\":4.0,\\\"centrality\\\":3,\\\"blocking factor\\\":1,\\\"delay factor\\\":3.0},\\\"nameSub\\\":\\\"MECE\\/ENGRD 2300\\\",\\\"id\\\":1528436893539722845,\\\"num\\\":\\\"2300\\\",\\\"credits\\\":3,\\\"prefix\\\":\\\"MECE\\/ENGRD\\\"},{\\\"curriculum_requisites\\\":[{\\\"source_id\\\":2151769881499640384,\\\"target_id\\\":8984826741082162803,\\\"type\\\":\\\"coreq\\\"}],\\\"name\\\":\\\"PHYS 2214\\\",\\\"metrics\\\":{\\\"complexity\\\":4.0,\\\"centrality\\\":0,\\\"blocking factor\\\":0,\\\"delay factor\\\":4.0},\\\"nameSub\\\":\\\"PHYS 2214\\\",\\\"id\\\":8984826741082162803,\\\"num\\\":\\\"2214\\\",\\\"credits\\\":3,\\\"prefix\\\":\\\"PHYS\\\"},{\\\"curriculum_requisites\\\":[{\\\"source_id\\\":2015789323598915066,\\\"target_id\\\":1839390603646070032,\\\"type\\\":\\\"prereq\\\"}],\\\"name\\\":\\\"ENGRD 2xxx\\\",\\\"metrics\\\":{\\\"complexity\\\":4.0,\\\"centrality\\\":0,\\\"blocking factor\\\":0,\\\"delay factor\\\":4.0},\\\"nameSub\\\":\\\"ENGRD 2xxx\\\",\\\"id\\\":1839390603646070032,\\\"num\\\":\\\"2xxx\\\",\\\"credits\\\":3,\\\"prefix\\\":\\\"ENGRD\\\"},{\\\"curriculum_requisites\\\":[{\\\"source_id\\\":6644828390385107964,\\\"target_id\\\":7820272238627724627,\\\"type\\\":\\\"prereq\\\"}],\\\"name\\\":\\\" \\\",\\\"metrics\\\":{\\\"complexity\\\":2.0,\\\"centrality\\\":0,\\\"blocking factor\\\":0,\\\"delay factor\\\":2.0},\\\"nameSub\\\":\\\"Outside Tech. Elective\\\",\\\"id\\\":7820272238627724627,\\\"num\\\":\\\"\\\",\\\"credits\\\":3,\\\"prefix\\\":\\\"\\\"},{\\\"curriculum_requisites\\\":[],\\\"name\\\":\\\"CHEM 2090\\\",\\\"metrics\\\":{\\\"complexity\\\":1.0,\\\"centrality\\\":0,\\\"blocking factor\\\":0,\\\"delay factor\\\":1.0},\\\"nameSub\\\":\\\"CHEM 2090\\\",\\\"id\\\":6116283047058203357,\\\"num\\\":\\\"2090\\\",\\\"credits\\\":3,\\\"prefix\\\":\\\"CHEM\\\"}],\\\"id\\\":3},{\\\"name\\\":\\\"Term 4\\\",\\\"curriculum_items\\\":[{\\\"curriculum_requisites\\\":[],\\\"name\\\":\\\"ENGRI 1xxx\\\",\\\"metrics\\\":{\\\"complexity\\\":1.0,\\\"centrality\\\":0,\\\"blocking factor\\\":0,\\\"delay factor\\\":1.0},\\\"nameSub\\\":\\\"ENGRI 1xxx\\\",\\\"id\\\":8527704206136169104,\\\"num\\\":\\\"1xxx\\\",\\\"credits\\\":3,\\\"prefix\\\":\\\"ENGRI\\\"},{\\\"curriculum_requisites\\\":[],\\\"name\\\":\\\" \\\",\\\"metrics\\\":{\\\"complexity\\\":1.0,\\\"centrality\\\":0,\\\"blocking factor\\\":0,\\\"delay factor\\\":1.0},\\\"nameSub\\\":\\\"1st Yr Writing Seminar\\\",\\\"id\\\":8985571460443386367,\\\"num\\\":\\\"\\\",\\\"credits\\\":3,\\\"prefix\\\":\\\"\\\"},{\\\"curriculum_requisites\\\":[],\\\"name\\\":\\\" \\\",\\\"metrics\\\":{\\\"complexity\\\":1.0,\\\"centrality\\\":0,\\\"blocking factor\\\":0,\\\"delay factor\\\":1.0},\\\"nameSub\\\":\\\"PE\\\",\\\"id\\\":8847411882004352659,\\\"num\\\":\\\"\\\",\\\"credits\\\":3,\\\"prefix\\\":\\\"\\\"},{\\\"curriculum_requisites\\\":[],\\\"name\\\":\\\" \\\",\\\"metrics\\\":{\\\"complexity\\\":1.0,\\\"centrality\\\":0,\\\"blocking factor\\\":0,\\\"delay factor\\\":1.0},\\\"nameSub\\\":\\\"1st Yr Writing Seminar\\\",\\\"id\\\":8985571460443386367,\\\"num\\\":\\\"\\\",\\\"credits\\\":3,\\\"prefix\\\":\\\"\\\"},{\\\"curriculum_requisites\\\":[],\\\"name\\\":\\\" \\\",\\\"metrics\\\":{\\\"complexity\\\":1.0,\\\"centrality\\\":0,\\\"blocking factor\\\":0,\\\"delay factor\\\":1.0},\\\"nameSub\\\":\\\"PE\\\",\\\"id\\\":8847411882004352659,\\\"num\\\":\\\"\\\",\\\"credits\\\":3,\\\"prefix\\\":\\\"\\\"},{\\\"curriculum_requisites\\\":[],\\\"name\\\":\\\" \\\",\\\"metrics\\\":{\\\"complexity\\\":1.0,\\\"centrality\\\":0,\\\"blocking factor\\\":0,\\\"delay factor\\\":1.0},\\\"nameSub\\\":\\\"Liberal Studies\\\",\\\"id\\\":3127686194850626136,\\\"num\\\":\\\"\\\",\\\"credits\\\":3,\\\"prefix\\\":\\\"\\\"}],\\\"id\\\":4},{\\\"name\\\":\\\"Term 5\\\",\\\"curriculum_items\\\":[{\\\"curriculum_requisites\\\":[],\\\"name\\\":\\\" \\\",\\\"metrics\\\":{\\\"complexity\\\":1.0,\\\"centrality\\\":0,\\\"blocking factor\\\":0,\\\"delay factor\\\":1.0},\\\"nameSub\\\":\\\"Liberal Studies\\\",\\\"id\\\":3127686194850626136,\\\"num\\\":\\\"\\\",\\\"credits\\\":3,\\\"prefix\\\":\\\"\\\"},{\\\"curriculum_requisites\\\":[],\\\"name\\\":\\\" \\\",\\\"metrics\\\":{\\\"complexity\\\":1.0,\\\"centrality\\\":0,\\\"blocking factor\\\":0,\\\"delay factor\\\":1.0},\\\"nameSub\\\":\\\"ECE Foundations\\\",\\\"id\\\":3296542961971610586,\\\"num\\\":\\\"\\\",\\\"credits\\\":3,\\\"prefix\\\":\\\"\\\"},{\\\"curriculum_requisites\\\":[],\\\"name\\\":\\\" \\\",\\\"metrics\\\":{\\\"complexity\\\":1.0,\\\"centrality\\\":0,\\\"blocking factor\\\":0,\\\"delay factor\\\":1.0},\\\"nameSub\\\":\\\"Elective\\\",\\\"id\\\":2772557180159405495,\\\"num\\\":\\\"\\\",\\\"credits\\\":3,\\\"prefix\\\":\\\"\\\"},{\\\"curriculum_requisites\\\":[],\\\"name\\\":\\\" \\\",\\\"metrics\\\":{\\\"complexity\\\":1.0,\\\"centrality\\\":0,\\\"blocking factor\\\":0,\\\"delay factor\\\":1.0},\\\"nameSub\\\":\\\"Liberal Studies\\\",\\\"id\\\":3127686194850626136,\\\"num\\\":\\\"\\\",\\\"credits\\\":3,\\\"prefix\\\":\\\"\\\"},{\\\"curriculum_requisites\\\":[],\\\"name\\\":\\\" \\\",\\\"metrics\\\":{\\\"complexity\\\":1.0,\\\"centrality\\\":0,\\\"blocking factor\\\":0,\\\"delay factor\\\":1.0},\\\"nameSub\\\":\\\"ECE Foundations\\\",\\\"id\\\":3296542961971610586,\\\"num\\\":\\\"\\\",\\\"credits\\\":3,\\\"prefix\\\":\\\"\\\"}],\\\"id\\\":5},{\\\"name\\\":\\\"Term 6\\\",\\\"curriculum_items\\\":[{\\\"curriculum_requisites\\\":[],\\\"name\\\":\\\" \\\",\\\"metrics\\\":{\\\"complexity\\\":1.0,\\\"centrality\\\":0,\\\"blocking factor\\\":0,\\\"delay factor\\\":1.0},\\\"nameSub\\\":\\\"ECE Foundations\\\",\\\"id\\\":3296542961971610586,\\\"num\\\":\\\"\\\",\\\"credits\\\":3,\\\"prefix\\\":\\\"\\\"},{\\\"curriculum_requisites\\\":[],\\\"name\\\":\\\" \\\",\\\"metrics\\\":{\\\"complexity\\\":1.0,\\\"centrality\\\":0,\\\"blocking factor\\\":0,\\\"delay factor\\\":1.0},\\\"nameSub\\\":\\\"Outside Tech. Elective\\\",\\\"id\\\":7820272238627724627,\\\"num\\\":\\\"\\\",\\\"credits\\\":3,\\\"prefix\\\":\\\"\\\"},{\\\"curriculum_requisites\\\":[],\\\"name\\\":\\\" \\\",\\\"metrics\\\":{\\\"complexity\\\":1.0,\\\"centrality\\\":0,\\\"blocking factor\\\":0,\\\"delay factor\\\":1.0},\\\"nameSub\\\":\\\"Elective\\\",\\\"id\\\":2772557180159405495,\\\"num\\\":\\\"\\\",\\\"credits\\\":3,\\\"prefix\\\":\\\"\\\"},{\\\"curriculum_requisites\\\":[],\\\"name\\\":\\\" \\\",\\\"metrics\\\":{\\\"complexity\\\":1.0,\\\"centrality\\\":0,\\\"blocking factor\\\":0,\\\"delay factor\\\":1.0},\\\"nameSub\\\":\\\"Liberal Studies\\\",\\\"id\\\":3127686194850626136,\\\"num\\\":\\\"\\\",\\\"credits\\\":3,\\\"prefix\\\":\\\"\\\"},{\\\"curriculum_requisites\\\":[],\\\"name\\\":\\\" \\\",\\\"metrics\\\":{\\\"complexity\\\":1.0,\\\"centrality\\\":0,\\\"blocking factor\\\":0,\\\"delay factor\\\":1.0},\\\"nameSub\\\":\\\"ECE Elective \\\",\\\"id\\\":8859999739171511205,\\\"num\\\":\\\"\\\",\\\"credits\\\":3,\\\"prefix\\\":\\\"\\\"},{\\\"curriculum_requisites\\\":[],\\\"name\\\":\\\" \\\",\\\"metrics\\\":{\\\"complexity\\\":1.0,\\\"centrality\\\":0,\\\"blocking factor\\\":0,\\\"delay factor\\\":1.0},\\\"nameSub\\\":\\\"ECE Elective\\\",\\\"id\\\":4018739381663225114,\\\"num\\\":\\\"\\\",\\\"credits\\\":3,\\\"prefix\\\":\\\"\\\"}],\\\"id\\\":6},{\\\"name\\\":\\\"Term 7\\\",\\\"curriculum_items\\\":[{\\\"curriculum_requisites\\\":[],\\\"name\\\":\\\" \\\",\\\"metrics\\\":{\\\"complexity\\\":1.0,\\\"centrality\\\":0,\\\"blocking factor\\\":0,\\\"delay factor\\\":1.0},\\\"nameSub\\\":\\\"Outside Tech. Elective\\\",\\\"id\\\":7820272238627724627,\\\"num\\\":\\\"\\\",\\\"credits\\\":3,\\\"prefix\\\":\\\"\\\"},{\\\"curriculum_requisites\\\":[],\\\"name\\\":\\\" \\\",\\\"metrics\\\":{\\\"complexity\\\":1.0,\\\"centrality\\\":0,\\\"blocking factor\\\":0,\\\"delay factor\\\":1.0},\\\"nameSub\\\":\\\"Liberal Studies\\\",\\\"id\\\":3127686194850626136,\\\"num\\\":\\\"\\\",\\\"credits\\\":3,\\\"prefix\\\":\\\"\\\"},{\\\"curriculum_requisites\\\":[],\\\"name\\\":\\\" \\\",\\\"metrics\\\":{\\\"complexity\\\":1.0,\\\"centrality\\\":0,\\\"blocking factor\\\":0,\\\"delay factor\\\":1.0},\\\"nameSub\\\":\\\"ECE Elective\\\",\\\"id\\\":4018739381663225114,\\\"num\\\":\\\"\\\",\\\"credits\\\":3,\\\"prefix\\\":\\\"\\\"},{\\\"curriculum_requisites\\\":[],\\\"name\\\":\\\" \\\",\\\"metrics\\\":{\\\"complexity\\\":1.0,\\\"centrality\\\":0,\\\"blocking factor\\\":0,\\\"delay factor\\\":1.0},\\\"nameSub\\\":\\\"ECE Elective\\\",\\\"id\\\":4018739381663225114,\\\"num\\\":\\\"\\\",\\\"credits\\\":3,\\\"prefix\\\":\\\"\\\"},{\\\"curriculum_requisites\\\":[],\\\"name\\\":\\\" \\\",\\\"metrics\\\":{\\\"complexity\\\":1.0,\\\"centrality\\\":0,\\\"blocking factor\\\":0,\\\"delay factor\\\":1.0},\\\"nameSub\\\":\\\"ECE Elective\\\",\\\"id\\\":4018739381663225114,\\\"num\\\":\\\"\\\",\\\"credits\\\":3,\\\"prefix\\\":\\\"\\\"},{\\\"curriculum_requisites\\\":[],\\\"name\\\":\\\" \\\",\\\"metrics\\\":{\\\"complexity\\\":1.0,\\\"centrality\\\":0,\\\"blocking factor\\\":0,\\\"delay factor\\\":1.0},\\\"nameSub\\\":\\\"Liberal Studies\\\",\\\"id\\\":3127686194850626136,\\\"num\\\":\\\"\\\",\\\"credits\\\":3,\\\"prefix\\\":\\\"\\\"}],\\\"id\\\":7}]}},\\\"*\\\"); window.removeEventListener(\\\"message\\\",window.messageReceived); window.messageReceived=(function (event){return (event.data.curriculum!==undefined) ? (_webIOScope.setObservableValue({\\\"name\\\":\\\"curriculum-data\\\",\\\"scope\\\":\\\"scope-7a3a2b80-a724-40f1-a1e6-8082c37ddca5\\\",\\\"id\\\":\\\"ob_05\\\",\\\"type\\\":\\\"observable\\\"},event.data.curriculum)) : undefined}); return window.addEventListener(\\\"message\\\",window.messageReceived)})\"},\"style\":{\"padding\":\"0\",\"height\":\"100vh\",\"margin\":\"0\",\"border\":\"none\",\"width\":\"100%\"}},\"nodeType\":\"DOM\",\"type\":\"node\",\"instanceArgs\":{\"namespace\":\"html\",\"tag\":\"iframe\"},\"children\":[\"\"]}]},\n",
       "        );\n",
       "    } else {\n",
       "        document\n",
       "            .querySelector('[data-webio-mountpoint=\"8742029287571259957\"]')\n",
       "            .innerHTML = '<strong>WebIO not detected.</strong>';\n",
       "    }\n",
       "    </script>\n",
       "</div>\n"
      ],
      "text/plain": [
       "WebIO.Scope(\"scope-7a3a2b80-a724-40f1-a1e6-8082c37ddca5\", WebIO.Node{WebIO.DOM}(WebIO.DOM(:html, :iframe), Any[\"\"], Dict{Symbol,Any}(:src=>\"http://localhost:8156\",:id=>\"curriculum\",:events=>Dict(:load=>JSString(\"(function (){this.contentWindow.postMessage({\\\"curriculum\\\":{\\\"name\\\":\\\"University of Houston EE Program 4-year Plan\\\",\\\"curriculum_terms\\\":[{\\\"name\\\":\\\"Term 1\\\",\\\"curriculum_items\\\":[{\\\"curriculum_requisites\\\":[],\\\"name\\\":\\\"MATH 1910\\\",\\\"metrics\\\":{\\\"complexity\\\":15.0,\\\"centrality\\\":0,\\\"blocking factor\\\":10,\\\"delay factor\\\":5.0},\\\"nameSub\\\":\\\"MATH 1910\\\",\\\"id\\\":689176389931734619,\\\"num\\\":\\\"1910\\\",\\\"credits\\\":3,\\\"prefix\\\":\\\"MATH\\\"},{\\\"curriculum_requisites\\\":[{\\\"source_id\\\":689176389931734619,\\\"target_id\\\":4363174199326750980,\\\"type\\\":\\\"prereq\\\"}],\\\"name\\\":\\\"MATH 1920\\\",\\\"metrics\\\":{\\\"complexity\\\":12.0,\\\"centrality\\\":28,\\\"blocking factor\\\":8,\\\"delay factor\\\":4.0},\\\"nameSub\\\":\\\"MATH 1920\\\",\\\"id\\\":4363174199326750980,\\\"num\\\":\\\"1920\\\",\\\"credits\\\":3,\\\"prefix\\\":\\\"MATH\\\"},{\\\"curriculum_requisites\\\":[{\\\"source_id\\\":689176389931734619,\\\"target_id\\\":3460502588517032754,\\\"type\\\":\\\"prereq\\\"}],\\\"name\\\":\\\"PHYS 1112\\\",\\\"metrics\\\":{\\\"complexity\\\":9.0,\\\"centrality\\\":9,\\\"blocking factor\\\":4,\\\"delay factor\\\":5.0},\\\"nameSub\\\":\\\"PHYS 1112\\\",\\\"id\\\":3460502588517032754,\\\"num\\\":\\\"1112\\\",\\\"credits\\\":3,\\\"prefix\\\":\\\"PHYS\\\"},{\\\"curriculum_requisites\\\":[{\\\"source_id\\\":4363174199326750980,\\\"target_id\\\":2015789323598915066,\\\"type\\\":\\\"prereq\\\"},{\\\"source_id\\\":3460502588517032754,\\\"target_id\\\":2015789323598915066,\\\"type\\\":\\\"prereq\\\"}],\\\"name\\\":\\\"PHYS 2213\\\",\\\"metrics\\\":{\\\"complexity\\\":8.0,\\\"centrality\\\":18,\\\"blocking factor\\\":3,\\\"delay factor\\\":5.0},\\\"nameSub\\\":\\\"PHYS 2213\\\",\\\"id\\\":2015789323598915066,\\\"num\\\":\\\"2213\\\",\\\"credits\\\":3,\\\"prefix\\\":\\\"PHYS\\\"},{\\\"curriculum_requisites\\\":[{\\\"source_id\\\":4363174199326750980,\\\"target_id\\\":2151769881499640384,\\\"type\\\":\\\"prereq\\\"}],\\\"name\\\":\\\"MATH 2930\\\",\\\"metrics\\\":{\\\"complexity\\\":8.0,\\\"centrality\\\":14,\\\"blocking factor\\\":4,\\\"delay factor\\\":4.0},\\\"nameSub\\\":\\\"MATH 2930\\\",\\\"id\\\":2151769881499640384,\\\"num\\\":\\\"2930\\\",\\\"credits\\\":3,\\\"prefix\\\":\\\"MATH\\\"}],\\\"id\\\":1},{\\\"name\\\":\\\"Term 2\\\",\\\"curriculum_items\\\":[{\\\"curriculum_requisites\\\":[],\\\"name\\\":\\\"CS 111x\\\",\\\"metrics\\\":{\\\"complexity\\\":6.0,\\\"centrality\\\":0,\\\"blocking factor\\\":3,\\\"delay factor\\\":3.0},\\\"nameSub\\\":\\\"CS 111x\\\",\\\"id\\\":6644828390385107964,\\\"num\\\":\\\"111x\\\",\\\"credits\\\":3,\\\"prefix\\\":\\\"CS\\\"},{\\\"curriculum_requisites\\\":[{\\\"source_id\\\":2015789323598915066,\\\"target_id\\\":5088266527023238633,\\\"type\\\":\\\"coreq\\\"},{\\\"source_id\\\":2151769881499640384,\\\"target_id\\\":5088266527023238633,\\\"type\\\":\\\"coreq\\\"}],\\\"name\\\":\\\"ECE/ENGRD 2100\\\",\\\"metrics\\\":{\\\"complexity\\\":6.0,\\\"centrality\\\":15,\\\"blocking factor\\\":1,\\\"delay factor\\\":5.0},\\\"nameSub\\\":\\\"ECE/ENGRD 2100\\\",\\\"id\\\":5088266527023238633,\\\"num\\\":\\\"2100\\\",\\\"credits\\\":3,\\\"prefix\\\":\\\"ECE/ENGRD\\\"},{\\\"curriculum_requisites\\\":[{\\\"source_id\\\":4363174199326750980,\\\"target_id\\\":6591198672522205704,\\\"type\\\":\\\"prereq\\\"}],\\\"name\\\":\\\"MATH 2940\\\",\\\"metrics\\\":{\\\"complexity\\\":5.0,\\\"centrality\\\":5,\\\"blocking factor\\\":2,\\\"delay factor\\\":3.0},\\\"nameSub\\\":\\\"MATH 2940\\\",\\\"id\\\":6591198672522205704,\\\"num\\\":\\\"2940\\\",\\\"credits\\\":3,\\\"prefix\\\":\\\"MATH\\\"},{\\\"curriculum_requisites\\\":[{\\\"source_id\\\":6591198672522205704,\\\"target_id\\\":1161268000602225778,\\\"type\\\":\\\"coreq\\\"},{\\\"source_id\\\":2151769881499640384,\\\"target_id\\\":1161268000602225778,\\\"type\\\":\\\"prereq\\\"}],\\\"name\\\":\\\"ECE/ENGRD 2200/2220\\\",\\\"metrics\\\":{\\\"complexity\\\":5.0,\\\"centrality\\\":10,\\\"blocking factor\\\":1,\\\"delay factor\\\":4.0},\\\"nameSub\\\":\\\"ECE 2200/ENGRD 2220\\\",\\\"id\\\":1161268000602225778,\\\"num\\\":\\\"2200/2220\\\",\\\"credits\\\":3,\\\"prefix\\\":\\\"ECE/ENGRD\\\"},{\\\"curriculum_requisites\\\":[{\\\"source_id\\\":1528436893539722845,\\\"target_id\\\":8048393585568634781,\\\"type\\\":\\\"prereq\\\"},{\\\"source_id\\\":1161268000602225778,\\\"target_id\\\":8048393585568634781,\\\"type\\\":\\\"prereq\\\"},{\\\"source_id\\\":5088266527023238633,\\\"target_id\\\":8048393585568634781,\\\"type\\\":\\\"prereq\\\"}],\\\"name\\\":\\\"ECE 3400\\\",\\\"metrics\\\":{\\\"complexity\\\":5.0,\\\"centrality\\\":0,\\\"blocking factor\\\":0,\\\"delay factor\\\":5.0},\\\"nameSub\\\":\\\"ECE 3400\\\",\\\"id\\\":8048393585568634781,\\\"num\\\":\\\"3400\\\",\\\"credits\\\":3,\\\"prefix\\\":\\\"ECE\\\"}],\\\"id\\\":2},{\\\"name\\\":\\\"Term 3\\\",\\\"curriculum_items\\\":[{\\\"curriculum_requisites\\\":[{\\\"source_id\\\":6644828390385107964,\\\"target_id\\\":1528436893539722845,\\\"type\\\":\\\"prereq\\\"}],\\\"name\\\":\\\"MECE/ENGRD 2300\\\",\\\"metrics\\\":{\\\"complexity\\\":4.0,\\\"centrality\\\":3,\\\"blocking factor\\\":1,\\\"delay factor\\\":3.0},\\\"nameSub\\\":\\\"MECE/ENGRD 2300\\\",\\\"id\\\":1528436893539722845,\\\"num\\\":\\\"2300\\\",\\\"credits\\\":3,\\\"prefix\\\":\\\"MECE/ENGRD\\\"},{\\\"curriculum_requisites\\\":[{\\\"source_id\\\":2151769881499640384,\\\"target_id\\\":8984826741082162803,\\\"type\\\":\\\"coreq\\\"}],\\\"name\\\":\\\"PHYS 2214\\\",\\\"metrics\\\":{\\\"complexity\\\":4.0,\\\"centrality\\\":0,\\\"blocking factor\\\":0,\\\"delay factor\\\":4.0},\\\"nameSub\\\":\\\"PHYS 2214\\\",\\\"id\\\":8984826741082162803,\\\"num\\\":\\\"2214\\\",\\\"credits\\\":3,\\\"prefix\\\":\\\"PHYS\\\"},{\\\"curriculum_requisites\\\":[{\\\"source_id\\\":2015789323598915066,\\\"target_id\\\":1839390603646070032,\\\"type\\\":\\\"prereq\\\"}],\\\"name\\\":\\\"ENGRD 2xxx\\\",\\\"metrics\\\":{\\\"complexity\\\":4.0,\\\"centrality\\\":0,\\\"blocking factor\\\":0,\\\"delay factor\\\":4.0},\\\"nameSub\\\":\\\"ENGRD 2xxx\\\",\\\"id\\\":1839390603646070032,\\\"num\\\":\\\"2xxx\\\",\\\"credits\\\":3,\\\"prefix\\\":\\\"ENGRD\\\"},{\\\"curriculum_requisites\\\":[{\\\"source_id\\\":6644828390385107964,\\\"target_id\\\":7820272238627724627,\\\"type\\\":\\\"prereq\\\"}],\\\"name\\\":\\\" \\\",\\\"metrics\\\":{\\\"complexity\\\":2.0,\\\"centrality\\\":0,\\\"blocking factor\\\":0,\\\"delay factor\\\":2.0},\\\"nameSub\\\":\\\"Outside Tech. Elective\\\",\\\"id\\\":7820272238627724627,\\\"num\\\":\\\"\\\",\\\"credits\\\":3,\\\"prefix\\\":\\\"\\\"},{\\\"curriculum_requisites\\\":[],\\\"name\\\":\\\"CHEM 2090\\\",\\\"metrics\\\":{\\\"complexity\\\":1.0,\\\"centrality\\\":0,\\\"blocking factor\\\":0,\\\"delay factor\\\":1.0},\\\"nameSub\\\":\\\"CHEM 2090\\\",\\\"id\\\":6116283047058203357,\\\"num\\\":\\\"2090\\\",\\\"credits\\\":3,\\\"prefix\\\":\\\"CHEM\\\"}],\\\"id\\\":3},{\\\"name\\\":\\\"Term 4\\\",\\\"curriculum_items\\\":[{\\\"curriculum_requisites\\\":[],\\\"name\\\":\\\"ENGRI 1xxx\\\",\\\"metrics\\\":{\\\"complexity\\\":1.0,\\\"centrality\\\":0,\\\"blocking factor\\\":0,\\\"delay factor\\\":1.0},\\\"nameSub\\\":\\\"ENGRI 1xxx\\\",\\\"id\\\":8527704206136169104,\\\"num\\\":\\\"1xxx\\\",\\\"credits\\\":3,\\\"prefix\\\":\\\"ENGRI\\\"},{\\\"curriculum_requisites\\\":[],\\\"name\\\":\\\" \\\",\\\"metrics\\\":{\\\"complexity\\\":1.0,\\\"centrality\\\":0,\\\"blocking factor\\\":0,\\\"delay factor\\\":1.0},\\\"nameSub\\\":\\\"1st Yr Writing Seminar\\\",\\\"id\\\":8985571460443386367,\\\"num\\\":\\\"\\\",\\\"credits\\\":3,\\\"prefix\\\":\\\"\\\"},{\\\"curriculum_requisites\\\":[],\\\"name\\\":\\\" \\\",\\\"metrics\\\":{\\\"complexity\\\":1.0,\\\"centrality\\\":0,\\\"blocking factor\\\":0,\\\"delay factor\\\":1.0},\\\"nameSub\\\":\\\"PE\\\",\\\"id\\\":8847411882004352659,\\\"num\\\":\\\"\\\",\\\"credits\\\":3,\\\"prefix\\\":\\\"\\\"},{\\\"curriculum_requisites\\\":[],\\\"name\\\":\\\" \\\",\\\"metrics\\\":{\\\"complexity\\\":1.0,\\\"centrality\\\":0,\\\"blocking factor\\\":0,\\\"delay factor\\\":1.0},\\\"nameSub\\\":\\\"1st Yr Writing Seminar\\\",\\\"id\\\":8985571460443386367,\\\"num\\\":\\\"\\\",\\\"credits\\\":3,\\\"prefix\\\":\\\"\\\"},{\\\"curriculum_requisites\\\":[],\\\"name\\\":\\\" \\\",\\\"metrics\\\":{\\\"complexity\\\":1.0,\\\"centrality\\\":0,\\\"blocking factor\\\":0,\\\"delay factor\\\":1.0},\\\"nameSub\\\":\\\"PE\\\",\\\"id\\\":8847411882004352659,\\\"num\\\":\\\"\\\",\\\"credits\\\":3,\\\"prefix\\\":\\\"\\\"},{\\\"curriculum_requisites\\\":[],\\\"name\\\":\\\" \\\",\\\"metrics\\\":{\\\"complexity\\\":1.0,\\\"centrality\\\":0,\\\"blocking factor\\\":0,\\\"delay factor\\\":1.0},\\\"nameSub\\\":\\\"Liberal Studies\\\",\\\"id\\\":3127686194850626136,\\\"num\\\":\\\"\\\",\\\"credits\\\":3,\\\"prefix\\\":\\\"\\\"}],\\\"id\\\":4},{\\\"name\\\":\\\"Term 5\\\",\\\"curriculum_items\\\":[{\\\"curriculum_requisites\\\":[],\\\"name\\\":\\\" \\\",\\\"metrics\\\":{\\\"complexity\\\":1.0,\\\"centrality\\\":0,\\\"blocking factor\\\":0,\\\"delay factor\\\":1.0},\\\"nameSub\\\":\\\"Liberal Studies\\\",\\\"id\\\":3127686194850626136,\\\"num\\\":\\\"\\\",\\\"credits\\\":3,\\\"prefix\\\":\\\"\\\"},{\\\"curriculum_requisites\\\":[],\\\"name\\\":\\\" \\\",\\\"metrics\\\":{\\\"complexity\\\":1.0,\\\"centrality\\\":0,\\\"blocking factor\\\":0,\\\"delay factor\\\":1.0},\\\"nameSub\\\":\\\"ECE Foundations\\\",\\\"id\\\":3296542961971610586,\\\"num\\\":\\\"\\\",\\\"credits\\\":3,\\\"prefix\\\":\\\"\\\"},{\\\"curriculum_requisites\\\":[],\\\"name\\\":\\\" \\\",\\\"metrics\\\":{\\\"complexity\\\":1.0,\\\"centrality\\\":0,\\\"blocking factor\\\":0,\\\"delay factor\\\":1.0},\\\"nameSub\\\":\\\"Elective\\\",\\\"id\\\":2772557180159405495,\\\"num\\\":\\\"\\\",\\\"credits\\\":3,\\\"prefix\\\":\\\"\\\"},{\\\"curriculum_requisites\\\":[],\\\"name\\\":\\\" \\\",\\\"metrics\\\":{\\\"complexity\\\":1.0,\\\"centrality\\\":0,\\\"blocking factor\\\":0,\\\"delay factor\\\":1.0},\\\"nameSub\\\":\\\"Liberal Studies\\\",\\\"id\\\":3127686194850626136,\\\"num\\\":\\\"\\\",\\\"credits\\\":3,\\\"prefix\\\":\\\"\\\"},{\\\"curriculum_requisites\\\":[],\\\"name\\\":\\\" \\\",\\\"metrics\\\":{\\\"complexity\\\":1.0,\\\"centrality\\\":0,\\\"blocking factor\\\":0,\\\"delay factor\\\":1.0},\\\"nameSub\\\":\\\"ECE Foundations\\\",\\\"id\\\":3296542961971610586,\\\"num\\\":\\\"\\\",\\\"credits\\\":3,\\\"prefix\\\":\\\"\\\"}],\\\"id\\\":5},{\\\"name\\\":\\\"Term 6\\\",\\\"curriculum_items\\\":[{\\\"curriculum_requisites\\\":[],\\\"name\\\":\\\" \\\",\\\"metrics\\\":{\\\"complexity\\\":1.0,\\\"centrality\\\":0,\\\"blocking factor\\\":0,\\\"delay factor\\\":1.0},\\\"nameSub\\\":\\\"ECE Foundations\\\",\\\"id\\\":3296542961971610586,\\\"num\\\":\\\"\\\",\\\"credits\\\":3,\\\"prefix\\\":\\\"\\\"},{\\\"curriculum_requisites\\\":[],\\\"name\\\":\\\" \\\",\\\"metrics\\\":{\\\"complexity\\\":1.0,\\\"centrality\\\":0,\\\"blocking factor\\\":0,\\\"delay factor\\\":1.0},\\\"nameSub\\\":\\\"Outside Tech. Elective\\\",\\\"id\\\":7820272238627724627,\\\"num\\\":\\\"\\\",\\\"credits\\\":3,\\\"prefix\\\":\\\"\\\"},{\\\"curriculum_requisites\\\":[],\\\"name\\\":\\\" \\\",\\\"metrics\\\":{\\\"complexity\\\":1.0,\\\"centrality\\\":0,\\\"blocking factor\\\":0,\\\"delay factor\\\":1.0},\\\"nameSub\\\":\\\"Elective\\\",\\\"id\\\":2772557180159405495,\\\"num\\\":\\\"\\\",\\\"credits\\\":3,\\\"prefix\\\":\\\"\\\"},{\\\"curriculum_requisites\\\":[],\\\"name\\\":\\\" \\\",\\\"metrics\\\":{\\\"complexity\\\":1.0,\\\"centrality\\\":0,\\\"blocking factor\\\":0,\\\"delay factor\\\":1.0},\\\"nameSub\\\":\\\"Liberal Studies\\\",\\\"id\\\":3127686194850626136,\\\"num\\\":\\\"\\\",\\\"credits\\\":3,\\\"prefix\\\":\\\"\\\"},{\\\"curriculum_requisites\\\":[],\\\"name\\\":\\\" \\\",\\\"metrics\\\":{\\\"complexity\\\":1.0,\\\"centrality\\\":0,\\\"blocking factor\\\":0,\\\"delay factor\\\":1.0},\\\"nameSub\\\":\\\"ECE Elective \\\",\\\"id\\\":8859999739171511205,\\\"num\\\":\\\"\\\",\\\"credits\\\":3,\\\"prefix\\\":\\\"\\\"},{\\\"curriculum_requisites\\\":[],\\\"name\\\":\\\" \\\",\\\"metrics\\\":{\\\"complexity\\\":1.0,\\\"centrality\\\":0,\\\"blocking factor\\\":0,\\\"delay factor\\\":1.0},\\\"nameSub\\\":\\\"ECE Elective\\\",\\\"id\\\":4018739381663225114,\\\"num\\\":\\\"\\\",\\\"credits\\\":3,\\\"prefix\\\":\\\"\\\"}],\\\"id\\\":6},{\\\"name\\\":\\\"Term 7\\\",\\\"curriculum_items\\\":[{\\\"curriculum_requisites\\\":[],\\\"name\\\":\\\" \\\",\\\"metrics\\\":{\\\"complexity\\\":1.0,\\\"centrality\\\":0,\\\"blocking factor\\\":0,\\\"delay factor\\\":1.0},\\\"nameSub\\\":\\\"Outside Tech. Elective\\\",\\\"id\\\":7820272238627724627,\\\"num\\\":\\\"\\\",\\\"credits\\\":3,\\\"prefix\\\":\\\"\\\"},{\\\"curriculum_requisites\\\":[],\\\"name\\\":\\\" \\\",\\\"metrics\\\":{\\\"complexity\\\":1.0,\\\"centrality\\\":0,\\\"blocking factor\\\":0,\\\"delay factor\\\":1.0},\\\"nameSub\\\":\\\"Liberal Studies\\\",\\\"id\\\":3127686194850626136,\\\"num\\\":\\\"\\\",\\\"credits\\\":3,\\\"prefix\\\":\\\"\\\"},{\\\"curriculum_requisites\\\":[],\\\"name\\\":\\\" \\\",\\\"metrics\\\":{\\\"complexity\\\":1.0,\\\"centrality\\\":0,\\\"blocking factor\\\":0,\\\"delay factor\\\":1.0},\\\"nameSub\\\":\\\"ECE Elective\\\",\\\"id\\\":4018739381663225114,\\\"num\\\":\\\"\\\",\\\"credits\\\":3,\\\"prefix\\\":\\\"\\\"},{\\\"curriculum_requisites\\\":[],\\\"name\\\":\\\" \\\",\\\"metrics\\\":{\\\"complexity\\\":1.0,\\\"centrality\\\":0,\\\"blocking factor\\\":0,\\\"delay factor\\\":1.0},\\\"nameSub\\\":\\\"ECE Elective\\\",\\\"id\\\":4018739381663225114,\\\"num\\\":\\\"\\\",\\\"credits\\\":3,\\\"prefix\\\":\\\"\\\"},{\\\"curriculum_requisites\\\":[],\\\"name\\\":\\\" \\\",\\\"metrics\\\":{\\\"complexity\\\":1.0,\\\"centrality\\\":0,\\\"blocking factor\\\":0,\\\"delay factor\\\":1.0},\\\"nameSub\\\":\\\"ECE Elective\\\",\\\"id\\\":4018739381663225114,\\\"num\\\":\\\"\\\",\\\"credits\\\":3,\\\"prefix\\\":\\\"\\\"},{\\\"curriculum_requisites\\\":[],\\\"name\\\":\\\" \\\",\\\"metrics\\\":{\\\"complexity\\\":1.0,\\\"centrality\\\":0,\\\"blocking factor\\\":0,\\\"delay factor\\\":1.0},\\\"nameSub\\\":\\\"Liberal Studies\\\",\\\"id\\\":3127686194850626136,\\\"num\\\":\\\"\\\",\\\"credits\\\":3,\\\"prefix\\\":\\\"\\\"}],\\\"id\\\":7}]}},\\\"*\\\"); window.removeEventListener(\\\"message\\\",window.messageReceived); window.messageReceived=(function (event){return (event.data.curriculum!==undefined) ? (_webIOScope.setObservableValue({\\\"name\\\":\\\"curriculum-data\\\",\\\"scope\\\":\\\"scope-7a3a2b80-a724-40f1-a1e6-8082c37ddca5\\\",\\\"id\\\":\\\"ob_05\\\",\\\"type\\\":\\\"observable\\\"},event.data.curriculum)) : undefined}); return window.addEventListener(\\\"message\\\",window.messageReceived)})\")),:style=>Dict(:padding=>\"0\",:height=>\"100vh\",:margin=>\"0\",:border=>\"none\",:width=>\"100%\")), 1), Dict{String,Tuple{Observables.AbstractObservable,Union{Nothing, Bool}}}(\"curriculum-data\"=>(Observable{Dict{String,Any}} with 1 listeners. Value:\n",
       "Dict{String,Any}(\"curriculum\"=>Dict{String,Any}(\"name\"=>\"University of Houston EE Program 4-year Plan\",\"curriculum_terms\"=>Any[Dict{String,Any}(\"name\"=>\"Term 1\",\"curriculum_items\"=>Any[Dict{String,Any}(\"curriculum_requisites\"=>Any[],\"name\"=>\"MATH 1910\",\"metrics\"=>Dict{String,Any}(\"complexity\"=>15.0,\"centrality\"=>0,\"blocking factor\"=>10,\"delay factor\"=>5.0),\"nameSub\"=>\"MATH 1910\",\"id\"=>689176389931734619,\"num\"=>\"1910\",\"credits\"=>3,\"prefix\"=>\"MATH\"), Dict{String,Any}(\"curriculum_requisites\"=>Any[Dict{String,Any}(\"source_id\"=>689176389931734619,\"target_id\"=>4363174199326750980,\"type\"=>\"prereq\")],\"name\"=>\"MATH 1920\",\"metrics\"=>Dict{String,Any}(\"complexity\"=>12.0,\"centrality\"=>28,\"blocking factor\"=>8,\"delay factor\"=>4.0),\"nameSub\"=>\"MATH 1920\",\"id\"=>4363174199326750980,\"num\"=>\"1920\",\"credits\"=>3,\"prefix\"=>\"MATH\"), Dict{String,Any}(\"curriculum_requisites\"=>Any[Dict{String,Any}(\"source_id\"=>689176389931734619,\"target_id\"=>3460502588517032754,\"type\"=>\"prereq\")],\"name\"=>\"PHYS 1112\",\"metrics\"=>Dict{String,Any}(\"complexity\"=>9.0,\"centrality\"=>9,\"blocking factor\"=>4,\"delay factor\"=>5.0),\"nameSub\"=>\"PHYS 1112\",\"id\"=>3460502588517032754,\"num\"=>\"1112\",\"credits\"=>3,\"prefix\"=>\"PHYS\"), Dict{String,Any}(\"curriculum_requisites\"=>Any[Dict{String,Any}(\"source_id\"=>4363174199326750980,\"target_id\"=>2015789323598915066,\"type\"=>\"prereq\"), Dict{String,Any}(\"source_id\"=>3460502588517032754,\"target_id\"=>2015789323598915066,\"type\"=>\"prereq\")],\"name\"=>\"PHYS 2213\",\"metrics\"=>Dict{String,Any}(\"complexity\"=>8.0,\"centrality\"=>18,\"blocking factor\"=>3,\"delay factor\"=>5.0),\"nameSub\"=>\"PHYS 2213\",\"id\"=>2015789323598915066,\"num\"=>\"2213\",\"credits\"=>3,\"prefix\"=>\"PHYS\"), Dict{String,Any}(\"curriculum_requisites\"=>Any[Dict{String,Any}(\"source_id\"=>4363174199326750980,\"target_id\"=>2151769881499640384,\"type\"=>\"prereq\")],\"name\"=>\"MATH 2930\",\"metrics\"=>Dict{String,Any}(\"complexity\"=>8.0,\"centrality\"=>14,\"blocking factor\"=>4,\"delay factor\"=>4.0),\"nameSub\"=>\"MATH 2930\",\"id\"=>2151769881499640384,\"num\"=>\"2930\",\"credits\"=>3,\"prefix\"=>\"MATH\")],\"id\"=>1), Dict{String,Any}(\"name\"=>\"Term 2\",\"curriculum_items\"=>Any[Dict{String,Any}(\"curriculum_requisites\"=>Any[],\"name\"=>\"CS 111x\",\"metrics\"=>Dict{String,Any}(\"complexity\"=>6.0,\"centrality\"=>0,\"blocking factor\"=>3,\"delay factor\"=>3.0),\"nameSub\"=>\"CS 111x\",\"id\"=>6644828390385107964,\"num\"=>\"111x\",\"credits\"=>3,\"prefix\"=>\"CS\"), Dict{String,Any}(\"curriculum_requisites\"=>Any[Dict{String,Any}(\"source_id\"=>2015789323598915066,\"target_id\"=>5088266527023238633,\"type\"=>\"coreq\"), Dict{String,Any}(\"source_id\"=>2151769881499640384,\"target_id\"=>5088266527023238633,\"type\"=>\"coreq\")],\"name\"=>\"ECE/ENGRD 2100\",\"metrics\"=>Dict{String,Any}(\"complexity\"=>6.0,\"centrality\"=>15,\"blocking factor\"=>1,\"delay factor\"=>5.0),\"nameSub\"=>\"ECE/ENGRD 2100\",\"id\"=>5088266527023238633,\"num\"=>\"2100\",\"credits\"=>3,\"prefix\"=>\"ECE/ENGRD\"), Dict{String,Any}(\"curriculum_requisites\"=>Any[Dict{String,Any}(\"source_id\"=>4363174199326750980,\"target_id\"=>6591198672522205704,\"type\"=>\"prereq\")],\"name\"=>\"MATH 2940\",\"metrics\"=>Dict{String,Any}(\"complexity\"=>5.0,\"centrality\"=>5,\"blocking factor\"=>2,\"delay factor\"=>3.0),\"nameSub\"=>\"MATH 2940\",\"id\"=>6591198672522205704,\"num\"=>\"2940\",\"credits\"=>3,\"prefix\"=>\"MATH\"), Dict{String,Any}(\"curriculum_requisites\"=>Any[Dict{String,Any}(\"source_id\"=>6591198672522205704,\"target_id\"=>1161268000602225778,\"type\"=>\"coreq\"), Dict{String,Any}(\"source_id\"=>2151769881499640384,\"target_id\"=>1161268000602225778,\"type\"=>\"prereq\")],\"name\"=>\"ECE/ENGRD 2200/2220\",\"metrics\"=>Dict{String,Any}(\"complexity\"=>5.0,\"centrality\"=>10,\"blocking factor\"=>1,\"delay factor\"=>4.0),\"nameSub\"=>\"ECE 2200/ENGRD 2220\",\"id\"=>1161268000602225778,\"num\"=>\"2200/2220\",\"credits\"=>3,\"prefix\"=>\"ECE/ENGRD\"), Dict{String,Any}(\"curriculum_requisites\"=>Any[Dict{String,Any}(\"source_id\"=>1528436893539722845,\"target_id\"=>8048393585568634781,\"type\"=>\"prereq\"), Dict{String,Any}(\"source_id\"=>1161268000602225778,\"target_id\"=>8048393585568634781,\"type\"=>\"prereq\"), Dict{String,Any}(\"source_id\"=>5088266527023238633,\"target_id\"=>8048393585568634781,\"type\"=>\"prereq\")],\"name\"=>\"ECE 3400\",\"metrics\"=>Dict{String,Any}(\"complexity\"=>5.0,\"centrality\"=>0,\"blocking factor\"=>0,\"delay factor\"=>5.0),\"nameSub\"=>\"ECE 3400\",\"id\"=>8048393585568634781,\"num\"=>\"3400\",\"credits\"=>3,\"prefix\"=>\"ECE\")],\"id\"=>2), Dict{String,Any}(\"name\"=>\"Term 3\",\"curriculum_items\"=>Any[Dict{String,Any}(\"curriculum_requisites\"=>Any[Dict{String,Any}(\"source_id\"=>6644828390385107964,\"target_id\"=>1528436893539722845,\"type\"=>\"prereq\")],\"name\"=>\"MECE/ENGRD 2300\",\"metrics\"=>Dict{String,Any}(\"complexity\"=>4.0,\"centrality\"=>3,\"blocking factor\"=>1,\"delay factor\"=>3.0),\"nameSub\"=>\"MECE/ENGRD 2300\",\"id\"=>1528436893539722845,\"num\"=>\"2300\",\"credits\"=>3,\"prefix\"=>\"MECE/ENGRD\"), Dict{String,Any}(\"curriculum_requisites\"=>Any[Dict{String,Any}(\"source_id\"=>2151769881499640384,\"target_id\"=>8984826741082162803,\"type\"=>\"coreq\")],\"name\"=>\"PHYS 2214\",\"metrics\"=>Dict{String,Any}(\"complexity\"=>4.0,\"centrality\"=>0,\"blocking factor\"=>0,\"delay factor\"=>4.0),\"nameSub\"=>\"PHYS 2214\",\"id\"=>8984826741082162803,\"num\"=>\"2214\",\"credits\"=>3,\"prefix\"=>\"PHYS\"), Dict{String,Any}(\"curriculum_requisites\"=>Any[Dict{String,Any}(\"source_id\"=>2015789323598915066,\"target_id\"=>1839390603646070032,\"type\"=>\"prereq\")],\"name\"=>\"ENGRD 2xxx\",\"metrics\"=>Dict{String,Any}(\"complexity\"=>4.0,\"centrality\"=>0,\"blocking factor\"=>0,\"delay factor\"=>4.0),\"nameSub\"=>\"ENGRD 2xxx\",\"id\"=>1839390603646070032,\"num\"=>\"2xxx\",\"credits\"=>3,\"prefix\"=>\"ENGRD\"), Dict{String,Any}(\"curriculum_requisites\"=>Any[Dict{String,Any}(\"source_id\"=>6644828390385107964,\"target_id\"=>7820272238627724627,\"type\"=>\"prereq\")],\"name\"=>\" \",\"metrics\"=>Dict{String,Any}(\"complexity\"=>2.0,\"centrality\"=>0,\"blocking factor\"=>0,\"delay factor\"=>2.0),\"nameSub\"=>\"Outside Tech. Elective\",\"id\"=>7820272238627724627,\"num\"=>\"\",\"credits\"=>3,\"prefix\"=>\"\"), Dict{String,Any}(\"curriculum_requisites\"=>Any[],\"name\"=>\"CHEM 2090\",\"metrics\"=>Dict{String,Any}(\"complexity\"=>1.0,\"centrality\"=>0,\"blocking factor\"=>0,\"delay factor\"=>1.0),\"nameSub\"=>\"CHEM 2090\",\"id\"=>6116283047058203357,\"num\"=>\"2090\",\"credits\"=>3,\"prefix\"=>\"CHEM\")],\"id\"=>3), Dict{String,Any}(\"name\"=>\"Term 4\",\"curriculum_items\"=>Any[Dict{String,Any}(\"curriculum_requisites\"=>Any[],\"name\"=>\"ENGRI 1xxx\",\"metrics\"=>Dict{String,Any}(\"complexity\"=>1.0,\"centrality\"=>0,\"blocking factor\"=>0,\"delay factor\"=>1.0),\"nameSub\"=>\"ENGRI 1xxx\",\"id\"=>8527704206136169104,\"num\"=>\"1xxx\",\"credits\"=>3,\"prefix\"=>\"ENGRI\"), Dict{String,Any}(\"curriculum_requisites\"=>Any[],\"name\"=>\" \",\"metrics\"=>Dict{String,Any}(\"complexity\"=>1.0,\"centrality\"=>0,\"blocking factor\"=>0,\"delay factor\"=>1.0),\"nameSub\"=>\"1st Yr Writing Seminar\",\"id\"=>8985571460443386367,\"num\"=>\"\",\"credits\"=>3,\"prefix\"=>\"\"), Dict{String,Any}(\"curriculum_requisites\"=>Any[],\"name\"=>\" \",\"metrics\"=>Dict{String,Any}(\"complexity\"=>1.0,\"centrality\"=>0,\"blocking factor\"=>0,\"delay factor\"=>1.0),\"nameSub\"=>\"PE\",\"id\"=>8847411882004352659,\"num\"=>\"\",\"credits\"=>3,\"prefix\"=>\"\"), Dict{String,Any}(\"curriculum_requisites\"=>Any[],\"name\"=>\" \",\"metrics\"=>Dict{String,Any}(\"complexity\"=>1.0,\"centrality\"=>0,\"blocking factor\"=>0,\"delay factor\"=>1.0),\"nameSub\"=>\"1st Yr Writing Seminar\",\"id\"=>8985571460443386367,\"num\"=>\"\",\"credits\"=>3,\"prefix\"=>\"\"), Dict{String,Any}(\"curriculum_requisites\"=>Any[],\"name\"=>\" \",\"metrics\"=>Dict{String,Any}(\"complexity\"=>1.0,\"centrality\"=>0,\"blocking factor\"=>0,\"delay factor\"=>1.0),\"nameSub\"=>\"PE\",\"id\"=>8847411882004352659,\"num\"=>\"\",\"credits\"=>3,\"prefix\"=>\"\"), Dict{String,Any}(\"curriculum_requisites\"=>Any[],\"name\"=>\" \",\"metrics\"=>Dict{String,Any}(\"complexity\"=>1.0,\"centrality\"=>0,\"blocking factor\"=>0,\"delay factor\"=>1.0),\"nameSub\"=>\"Liberal Studies\",\"id\"=>3127686194850626136,\"num\"=>\"\",\"credits\"=>3,\"prefix\"=>\"\")],\"id\"=>4), Dict{String,Any}(\"name\"=>\"Term 5\",\"curriculum_items\"=>Any[Dict{String,Any}(\"curriculum_requisites\"=>Any[],\"name\"=>\" \",\"metrics\"=>Dict{String,Any}(\"complexity\"=>1.0,\"centrality\"=>0,\"blocking factor\"=>0,\"delay factor\"=>1.0),\"nameSub\"=>\"Liberal Studies\",\"id\"=>3127686194850626136,\"num\"=>\"\",\"credits\"=>3,\"prefix\"=>\"\"), Dict{String,Any}(\"curriculum_requisites\"=>Any[],\"name\"=>\" \",\"metrics\"=>Dict{String,Any}(\"complexity\"=>1.0,\"centrality\"=>0,\"blocking factor\"=>0,\"delay factor\"=>1.0),\"nameSub\"=>\"ECE Foundations\",\"id\"=>3296542961971610586,\"num\"=>\"\",\"credits\"=>3,\"prefix\"=>\"\"), Dict{String,Any}(\"curriculum_requisites\"=>Any[],\"name\"=>\" \",\"metrics\"=>Dict{String,Any}(\"complexity\"=>1.0,\"centrality\"=>0,\"blocking factor\"=>0,\"delay factor\"=>1.0),\"nameSub\"=>\"Elective\",\"id\"=>2772557180159405495,\"num\"=>\"\",\"credits\"=>3,\"prefix\"=>\"\"), Dict{String,Any}(\"curriculum_requisites\"=>Any[],\"name\"=>\" \",\"metrics\"=>Dict{String,Any}(\"complexity\"=>1.0,\"centrality\"=>0,\"blocking factor\"=>0,\"delay factor\"=>1.0),\"nameSub\"=>\"Liberal Studies\",\"id\"=>3127686194850626136,\"num\"=>\"\",\"credits\"=>3,\"prefix\"=>\"\"), Dict{String,Any}(\"curriculum_requisites\"=>Any[],\"name\"=>\" \",\"metrics\"=>Dict{String,Any}(\"complexity\"=>1.0,\"centrality\"=>0,\"blocking factor\"=>0,\"delay factor\"=>1.0),\"nameSub\"=>\"ECE Foundations\",\"id\"=>3296542961971610586,\"num\"=>\"\",\"credits\"=>3,\"prefix\"=>\"\")],\"id\"=>5), Dict{String,Any}(\"name\"=>\"Term 6\",\"curriculum_items\"=>Any[Dict{String,Any}(\"curriculum_requisites\"=>Any[],\"name\"=>\" \",\"metrics\"=>Dict{String,Any}(\"complexity\"=>1.0,\"centrality\"=>0,\"blocking factor\"=>0,\"delay factor\"=>1.0),\"nameSub\"=>\"ECE Foundations\",\"id\"=>3296542961971610586,\"num\"=>\"\",\"credits\"=>3,\"prefix\"=>\"\"), Dict{String,Any}(\"curriculum_requisites\"=>Any[],\"name\"=>\" \",\"metrics\"=>Dict{String,Any}(\"complexity\"=>1.0,\"centrality\"=>0,\"blocking factor\"=>0,\"delay factor\"=>1.0),\"nameSub\"=>\"Outside Tech. Elective\",\"id\"=>7820272238627724627,\"num\"=>\"\",\"credits\"=>3,\"prefix\"=>\"\"), Dict{String,Any}(\"curriculum_requisites\"=>Any[],\"name\"=>\" \",\"metrics\"=>Dict{String,Any}(\"complexity\"=>1.0,\"centrality\"=>0,\"blocking factor\"=>0,\"delay factor\"=>1.0),\"nameSub\"=>\"Elective\",\"id\"=>2772557180159405495,\"num\"=>\"\",\"credits\"=>3,\"prefix\"=>\"\"), Dict{String,Any}(\"curriculum_requisites\"=>Any[],\"name\"=>\" \",\"metrics\"=>Dict{String,Any}(\"complexity\"=>1.0,\"centrality\"=>0,\"blocking factor\"=>0,\"delay factor\"=>1.0),\"nameSub\"=>\"Liberal Studies\",\"id\"=>3127686194850626136,\"num\"=>\"\",\"credits\"=>3,\"prefix\"=>\"\"), Dict{String,Any}(\"curriculum_requisites\"=>Any[],\"name\"=>\" \",\"metrics\"=>Dict{String,Any}(\"complexity\"=>1.0,\"centrality\"=>0,\"blocking factor\"=>0,\"delay factor\"=>1.0),\"nameSub\"=>\"ECE Elective \",\"id\"=>8859999739171511205,\"num\"=>\"\",\"credits\"=>3,\"prefix\"=>\"\"), Dict{String,Any}(\"curriculum_requisites\"=>Any[],\"name\"=>\" \",\"metrics\"=>Dict{String,Any}(\"complexity\"=>1.0,\"centrality\"=>0,\"blocking factor\"=>0,\"delay factor\"=>1.0),\"nameSub\"=>\"ECE Elective\",\"id\"=>4018739381663225114,\"num\"=>\"\",\"credits\"=>3,\"prefix\"=>\"\")],\"id\"=>6), Dict{String,Any}(\"name\"=>\"Term 7\",\"curriculum_items\"=>Any[Dict{String,Any}(\"curriculum_requisites\"=>Any[],\"name\"=>\" \",\"metrics\"=>Dict{String,Any}(\"complexity\"=>1.0,\"centrality\"=>0,\"blocking factor\"=>0,\"delay factor\"=>1.0),\"nameSub\"=>\"Outside Tech. Elective\",\"id\"=>7820272238627724627,\"num\"=>\"\",\"credits\"=>3,\"prefix\"=>\"\"), Dict{String,Any}(\"curriculum_requisites\"=>Any[],\"name\"=>\" \",\"metrics\"=>Dict{String,Any}(\"complexity\"=>1.0,\"centrality\"=>0,\"blocking factor\"=>0,\"delay factor\"=>1.0),\"nameSub\"=>\"Liberal Studies\",\"id\"=>3127686194850626136,\"num\"=>\"\",\"credits\"=>3,\"prefix\"=>\"\"), Dict{String,Any}(\"curriculum_requisites\"=>Any[],\"name\"=>\" \",\"metrics\"=>Dict{String,Any}(\"complexity\"=>1.0,\"centrality\"=>0,\"blocking factor\"=>0,\"delay factor\"=>1.0),\"nameSub\"=>\"ECE Elective\",\"id\"=>4018739381663225114,\"num\"=>\"\",\"credits\"=>3,\"prefix\"=>\"\"), Dict{String,Any}(\"curriculum_requisites\"=>Any[],\"name\"=>\" \",\"metrics\"=>Dict{String,Any}(\"complexity\"=>1.0,\"centrality\"=>0,\"blocking factor\"=>0,\"delay factor\"=>1.0),\"nameSub\"=>\"ECE Elective\",\"id\"=>4018739381663225114,\"num\"=>\"\",\"credits\"=>3,\"prefix\"=>\"\"), Dict{String,Any}(\"curriculum_requisites\"=>Any[],\"name\"=>\" \",\"metrics\"=>Dict{String,Any}(\"complexity\"=>1.0,\"centrality\"=>0,\"blocking factor\"=>0,\"delay factor\"=>1.0),\"nameSub\"=>\"ECE Elective\",\"id\"=>4018739381663225114,\"num\"=>\"\",\"credits\"=>3,\"prefix\"=>\"\"), Dict{String,Any}(\"curriculum_requisites\"=>Any[],\"name\"=>\" \",\"metrics\"=>Dict{String,Any}(\"complexity\"=>1.0,\"centrality\"=>0,\"blocking factor\"=>0,\"delay factor\"=>1.0),\"nameSub\"=>\"Liberal Studies\",\"id\"=>3127686194850626136,\"num\"=>\"\",\"credits\"=>3,\"prefix\"=>\"\")],\"id\"=>7)])), nothing)), Set(String[]), nothing, Any[], Dict{Any,Any}(), WebIO.ConnectionPool(Channel{Any}(sz_max:9223372036854775807,sz_curr:0), Set(WebIO.AbstractConnection[]), Channel{WebIO.AbstractConnection}(sz_max:32,sz_curr:0)))"
      ]
     },
     "execution_count": 5,
     "metadata": {
      "application/vnd.webio.node+json": {
       "kernelId": "1e5c2b26-3fcc-43d0-8ac4-3e598cd55e37"
      }
     },
     "output_type": "execute_result"
    }
   ],
   "source": [
    "#This cell will also read a csv file create a degree plan without exporting to json.\n",
    "#\n",
    "#Activate CurricularAnalytics package and add it\n",
    "using Pkg\n",
    "pkg\"activate .\"\n",
    "using CurricularAnalytics\n",
    "#using TikzGraphs\n",
    "using LightGraphs\n",
    "function total_credit(c::Curriculum)\n",
    "    total=0\n",
    "    for course in c.courses\n",
    "        total+=course.credit_hours\n",
    "    end\n",
    "    return total\n",
    "end\n",
    "function check_requistes()\n",
    "    \n",
    "end\n",
    "\n",
    "function fill_terms(curric::Curriculum, term_count::Int, max_credit_each_term::Int)\n",
    "    #total number of credits\n",
    "    curric_total_credit=total_credit(curric)\n",
    "    max_credit_for_a_course = 3\n",
    "    #round to average credit per term\n",
    "    #make a function to calculate extra(2 in this case)\n",
    "    #calculate average creadit after each term\n",
    "    sorted_index = sortperm(curric.metrics[\"complexity\"][2], rev=true)\n",
    "    terms = Array{Term}(undef, term_count)\n",
    "    \n",
    "    applied_courses = Int[]\n",
    "    \n",
    "    for current_term in 1:term_count\n",
    "        termclasses = Course[]\n",
    "        total_credits_for_current_term = 0\n",
    "        if floor(Int, (curric_total_credit + term_count - current_term)/ (term_count-current_term + 1))  < max_credit_each_term\n",
    "            avrg_credit_remaining = floor(Int, (curric_total_credit + term_count - current_term)/ (term_count-current_term + 1)) \n",
    "        else\n",
    "            avrg_credit_remaining = max_credit_each_term\n",
    "        end  \n",
    "        println(\"New it\")\n",
    "        println(curric_total_credit)\n",
    "        println(current_term)\n",
    "        println(avrg_credit_remaining)\n",
    "        for index in sorted_index\n",
    "            if !(index in applied_courses)\n",
    "                #check if all prereq are added to applied_courses\n",
    "                #and credit_hours of \n",
    "                if total_credits_for_current_term + curric.courses[index].credit_hours <= avrg_credit_remaining\n",
    "                    total_credits_for_current_term += curric.courses[index].credit_hours\n",
    "                    push!(termclasses, curric.courses[index])\n",
    "                    push!(applied_courses,index)\n",
    "                end\n",
    "                #not all prereq added \n",
    "                #continue\n",
    "                if total_credits_for_current_term == avrg_credit_remaining\n",
    "                    break\n",
    "                end\n",
    "            end       \n",
    "        end     \n",
    "        curric_total_credit = curric_total_credit - total_credits_for_current_term\n",
    "        terms[current_term] = Term(termclasses)\n",
    "    end\n",
    "    if length(applied_courses) != length(sorted_index)\n",
    "        println(\"Not all classes added\")\n",
    "        return fill_terms(curric, term_count+1, max_credit_each_term)\n",
    "    end\n",
    "    return terms\n",
    "end\n",
    "\n",
    "\n",
    "#read Classes from csv file and return list of classes and terms\n",
    "c, terms = read_from_csv(\"examples/CornellECECources.csv\")\n",
    "#Create curriculum from list of classes\n",
    "curric = Curriculum(\"University of Houston EE Program\", c)\n",
    "println(collect(edges(curric.graph)))\n",
    "#calculate the complexity of courses\n",
    "complexity(curric)\n",
    "\n",
    "println(curric.metrics[\"complexity\"][2])\n",
    "\"\"\"for (index,compy) in enumerate(curric.metrics[\"complexity\"][2])\n",
    "    println(compy)\n",
    "end\"\"\"\n",
    "sorted_index = sortperm(curric.metrics[\"complexity\"][2], rev=true)\n",
    "println(sorted_index)\n",
    "println(curric.metrics[\"complexity\"][2][sorted_index])\n",
    "#Just to check 6th class's complexity score\n",
    "println(curric.courses[6].metrics[\"complexity\"])\n",
    "\n",
    "max_credit_each_term = 19\n",
    "#total number of credits\n",
    "curric_total_credit=total_credit(curric)\n",
    "println(curric_total_credit)\n",
    "#to round to upper limit \n",
    "min_term =floor(Int, (curric_total_credit + max_credit_each_term - 1)/max_credit_each_term)\n",
    "println(\"Minimum of $min_term terms needed to complete this curriculum\")\n",
    "\n",
    "#in order to increase the size of terms array\n",
    "#resize!(terms,length(terms)+1)\n",
    "#terms = extend_array(terms)\n",
    "terms = fill_terms(curric, min_term, max_credit_each_term)\n",
    "#terms = fill_terms(curric, 7, max_credit_each_term)\n",
    "#println(terms)\n",
    "errors = IOBuffer()\n",
    "if isvalid_curriculum(curric, errors)\n",
    "    println(\"Curriculum $(curric.name) is valid\")\n",
    "    println(\"  delay factor = $(delay_factor(curric))\")\n",
    "    println(\"  blocking factor = $(blocking_factor(curric))\")\n",
    "    println(\"  centrality factor = $(centrality(curric))\")\n",
    "    println(\"  curricular complexity = $(complexity(curric))\")\n",
    "    dp = DegreePlan(\"University of Houston EE Program 4-year Plan\", curric, terms)\n",
    "    take!(errors) # clear the IO buffer\n",
    "    if isvalid_degree_plan(dp, errors)\n",
    "        println(\"Degree plan $(dp.name) is valid\")\n",
    "    else\n",
    "        println(\"Degree plan $(dp.name) is not valid:\")\n",
    "        print(String(take!(errors)))\n",
    "        println(\"\\nDiplaying degree plan for debugging purposes...\")\n",
    "    end\n",
    "    visualize_jupyter(dp)\n",
    "\n",
    "else # invalid curriculum\n",
    "    println(\"Curriculum $(curric.name) is not valid:\")\n",
    "    print(String(take!(errors)))\n",
    "end\n"
   ]
  },
  {
   "cell_type": "code",
   "execution_count": 6,
   "metadata": {},
   "outputs": [
    {
     "ename": "UndefVarError",
     "evalue": "UndefVarError: SVG not defined",
     "output_type": "error",
     "traceback": [
      "UndefVarError: SVG not defined",
      "",
      "Stacktrace:",
      " [1] top-level scope at In[6]:5"
     ]
    }
   ],
   "source": [
    "using TikzGraphs\n",
    "using LightGraphs\n",
    "g = WheelGraph(10)\n",
    "t = plot(g)\n",
    "save(SVG(\"wheel10.svg\"), t)"
   ]
  },
  {
   "cell_type": "code",
   "execution_count": 52,
   "metadata": {},
   "outputs": [
    {
     "name": "stdout",
     "output_type": "stream",
     "text": [
      "false"
     ]
    }
   ],
   "source": [
    "x = [1,4,3,4,4]\n",
    "print(!(4 in x))"
   ]
  },
  {
   "cell_type": "code",
   "execution_count": 55,
   "metadata": {},
   "outputs": [
    {
     "data": {
      "text/plain": [
       "0-element Array{Course,1}"
      ]
     },
     "execution_count": 55,
     "metadata": {},
     "output_type": "execute_result"
    }
   ],
   "source": [
    "termclasses = Array{Course}(undef,0)"
   ]
  },
  {
   "cell_type": "code",
   "execution_count": 56,
   "metadata": {},
   "outputs": [
    {
     "data": {
      "text/plain": [
       "1-element Array{Int64,1}:\n",
       " 1"
      ]
     },
     "execution_count": 56,
     "metadata": {},
     "output_type": "execute_result"
    }
   ],
   "source": [
    "a = Int[]\n",
    "push!(a, 1)\n"
   ]
  },
  {
   "cell_type": "code",
   "execution_count": null,
   "metadata": {
    "collapsed": true
   },
   "outputs": [],
   "source": []
  }
 ],
 "metadata": {
  "@webio": {
   "lastCommId": "1B85A65B884A47D690718AD2DD801BE4",
   "lastKernelId": "1e5c2b26-3fcc-43d0-8ac4-3e598cd55e37"
  },
  "kernelspec": {
   "display_name": "Julia 1.0.1",
   "language": "julia",
   "name": "julia-1.0"
  },
  "language_info": {
   "file_extension": ".jl",
   "mimetype": "application/julia",
   "name": "julia",
   "version": "1.0.1"
  }
 },
 "nbformat": 4,
 "nbformat_minor": 2
}

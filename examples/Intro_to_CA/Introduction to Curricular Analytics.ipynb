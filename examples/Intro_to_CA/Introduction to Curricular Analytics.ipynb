{
 "cells": [
  {
   "cell_type": "markdown",
   "metadata": {},
   "source": [
    "# <center>Introduction to the Curricular Analytics Toolbox</center>\n",
    "\n",
    "<center>\n",
    "    <b>Gregory L. Heileman$^\\dagger$, William G. Thompson-Arjona$^\\dagger$, Orhan Abar$^\\ddagger$ and Hayden W. Free$^\\ddagger$</b> <br>\n",
    "    $^\\dagger$Department of Electrical & Computer Engineering <br>\n",
    "    $^\\ddagger$Department of Computer Science <br>\n",
    "    Univeristy of Kentucky <br>\n",
    "    {greg.heileman, wgthompson, orhan.abar,  hayden.free}@uky.edu\n",
    "</center>"
   ]
  },
  {
   "cell_type": "markdown",
   "metadata": {},
   "source": [
    "## Introduction\n",
    "Often overlooked, complexity of a course schedule may be one of the most important factors in whether or not a student successfully completes his or her degree. \n",
    "\n",
    "As students progress through a curricula they are met with significant headwinds, whether that be financial or academic. Considering the significant investment made by familes and the delay attributed to drop out, it becomes paramount for institutions to focus on student success in relation to term scheduling. \n",
    "\n",
    "Using the recently developed curricular analytics toolbox (see <cite data-cite=\"he:18\">Heileman, et. al, (2018)</cite>) administrators can now easily analyze their curricula in efforts to design simpler course progressions while maintaining the same learning outcomes. \n",
    "\n",
    "In the following example, we will walk through the importing of an example curricula into the toolbox with ends to quantify its complexity. We will then compare these metrics to a second curricula to benchmark the differences simple scheduling adjustments make. \n",
    "\n",
    "The starting point of this notebook assumes Julia has been succsesfully installed. Environmental setup to be included in seperate notebook.\n"
   ]
  },
  {
   "cell_type": "markdown",
   "metadata": {},
   "source": [
    "## Initialization of Package\n",
    "\n",
    "In order to use the toolbox the package must be initialized. This is done by the following:"
   ]
  },
  {
   "cell_type": "code",
   "execution_count": 1,
   "metadata": {},
   "outputs": [
    {
     "data": {
      "text/html": [
       "    <script class='js-collapse-script'>\n",
       "        var curMatch =\n",
       "            window.location.href\n",
       "            .match(/(.*?)\\/notebooks\\/.*\\.ipynb/);\n",
       "\n",
       "        curMatch = curMatch ||\n",
       "            window.location.href\n",
       "            .match(/(.*?)\\/apps\\/.*\\.ipynb/);\n",
       "\n",
       "        if ( curMatch ) {\n",
       "            $('head').append('<base href=\"' + curMatch[1] + '/\">');\n",
       "        }\n",
       "    </script>\n"
      ],
      "text/plain": [
       "HTML{String}(\"    <script class='js-collapse-script'>\\n        var curMatch =\\n            window.location.href\\n            .match(/(.*?)\\\\/notebooks\\\\/.*\\\\.ipynb/);\\n\\n        curMatch = curMatch ||\\n            window.location.href\\n            .match(/(.*?)\\\\/apps\\\\/.*\\\\.ipynb/);\\n\\n        if ( curMatch ) {\\n            \\$('head').append('<base href=\\\"' + curMatch[1] + '/\\\">');\\n        }\\n    </script>\\n\")"
      ]
     },
     "metadata": {},
     "output_type": "display_data"
    },
    {
     "data": {
      "text/html": [
       "<script class='js-collapse-script' src='/assetserver/dc719bacf596d5e9d61e75d9b1921a0f8cbb8acb-assets/webio/dist/bundle.js'></script>"
      ],
      "text/plain": [
       "HTML{String}(\"<script class='js-collapse-script' src='/assetserver/dc719bacf596d5e9d61e75d9b1921a0f8cbb8acb-assets/webio/dist/bundle.js'></script>\")"
      ]
     },
     "metadata": {},
     "output_type": "display_data"
    },
    {
     "data": {
      "text/html": [
       "<script class='js-collapse-script' src='/assetserver/dc719bacf596d5e9d61e75d9b1921a0f8cbb8acb-assets/providers/ijulia_setup.js'></script>"
      ],
      "text/plain": [
       "HTML{String}(\"<script class='js-collapse-script' src='/assetserver/dc719bacf596d5e9d61e75d9b1921a0f8cbb8acb-assets/providers/ijulia_setup.js'></script>\")"
      ]
     },
     "metadata": {},
     "output_type": "display_data"
    },
    {
     "data": {
      "text/html": [
       "  <script class='js-collapse-script'>\n",
       "    $('.js-collapse-script').parent('.output_subarea').css('padding', '0');\n",
       "  </script>\n"
      ],
      "text/plain": [
       "HTML{String}(\"  <script class='js-collapse-script'>\\n    \\$('.js-collapse-script').parent('.output_subarea').css('padding', '0');\\n  </script>\\n\")"
      ]
     },
     "metadata": {},
     "output_type": "display_data"
    }
   ],
   "source": [
    "using Pkg\n",
    "Pkg.add(\"CurricularAnalytics\")  \n",
    "using CurricularAnalytics"
   ]
  },
  {
   "cell_type": "markdown",
   "metadata": {},
   "source": [
    "## Create Course Array \n",
    "\n",
    "To begin creating the curricula, you must first enter the number of courses. This will create the size of the array that will include all the courses. In our example, we have 4 courses total. \n",
    "\n"
   ]
  },
  {
   "cell_type": "code",
   "execution_count": 2,
   "metadata": {},
   "outputs": [
    {
     "data": {
      "text/plain": [
       "4-element Array{Course,1}:\n",
       " #undef\n",
       " #undef\n",
       " #undef\n",
       " #undef"
      ]
     },
     "execution_count": 2,
     "metadata": {},
     "output_type": "execute_result"
    }
   ],
   "source": [
    "c = Array{Course}(undef, 4)"
   ]
  },
  {
   "cell_type": "markdown",
   "metadata": {},
   "source": [
    "## Create Courses\n",
    "At this point each course will need to be uniquely defined. Each course object will need to have the following information at a minimum :\n",
    "1. Name\n",
    "2. Credit Hours\n",
    "\n",
    "Optionally, the following information may be added:\n",
    "1. Prefix\n",
    "2. Number\n",
    "3. Institution\n",
    "4. Conical Name\n",
    "5. Learning Outcome\n",
    "\n",
    "In our example a simple progression to Circuits 1 is examined. The required data should be entered in the following format:\n"
   ]
  },
  {
   "cell_type": "code",
   "execution_count": 7,
   "metadata": {},
   "outputs": [
    {
     "data": {
      "text/plain": [
       "Course(1227877464, Dict{Int64,Int64}(), \"Circuits 1\", 3, \"EE\", \"2200\", \"\", \"\", Dict{Int64,Requisite}(), LearningOutcome[], Dict{String,Any}())"
      ]
     },
     "execution_count": 7,
     "metadata": {},
     "output_type": "execute_result"
    }
   ],
   "source": [
    "c[1] = Course(\"Calculus 1\", 3, prefix = \"MATH \", num = \"1011\")\n",
    "c[2] = Course(\"Physics I: Mechanics & Heat\", 3, prefix = \"PHYS\", num = \"1112\")\n",
    "c[3] = Course(\"Multivariable Calc. for Engineers\", 3, prefix = \"MATH\", num = \"1920\")\n",
    "c[4] = Course(\"Circuits 1\", 3, prefix = \"EE\", num = \"2200\")\n"
   ]
  },
  {
   "cell_type": "markdown",
   "metadata": {},
   "source": [
    "## Adding Requisites to Classes\n",
    "Once the courses have been entered, it is necessary to add the prerequisites, corequisites, and strict corequisites to each course. Requisites are defined as the following:\n",
    "\n",
    "- `pre` : a prerequisite course that must be passed before the target course can be attempted.\n",
    "- `co`  : a co-requisite course that may be taken before or at the same time as the target course.\n",
    "- `strict_co` : a strict co-requisite course that must be taken at the same time as the target course.\n",
    "\n",
    "The data format for entering these is shown below. In our example, *Calculus One* defined as course 1 above is a prerequiste for the target course *Physics 1: Mechancis and Heat*, defined as course 2 above. As such:"
   ]
  },
  {
   "cell_type": "code",
   "execution_count": 5,
   "metadata": {},
   "outputs": [
    {
     "data": {
      "text/plain": [
       "pre::Requisite = 0"
      ]
     },
     "execution_count": 5,
     "metadata": {},
     "output_type": "execute_result"
    }
   ],
   "source": [
    "add_requisite!(c[1],c[2],pre)"
   ]
  },
  {
   "cell_type": "markdown",
   "metadata": {},
   "source": [
    "Now add the other requisites. In our example:"
   ]
  },
  {
   "cell_type": "code",
   "execution_count": 8,
   "metadata": {},
   "outputs": [
    {
     "data": {
      "text/plain": [
       "pre::Requisite = 0"
      ]
     },
     "execution_count": 8,
     "metadata": {},
     "output_type": "execute_result"
    }
   ],
   "source": [
    "add_requisite!(c[1],c[3],pre)\n",
    "add_requisite!(c[2],c[4],pre)"
   ]
  },
  {
   "cell_type": "markdown",
   "metadata": {},
   "source": [
    "## Create Curricula\n",
    "Not to be confused with a degree plan, a curricula is simply defined as the courses needed to be taken in order to fulfill degree requirments along with their corresponding requisites. The time element of terms will later be introduced when creating a degree plan. \n",
    "\n",
    "In our example the curriculum is created by the following. Note any name can be given to the curriculum in the \"\""
   ]
  },
  {
   "cell_type": "code",
   "execution_count": 9,
   "metadata": {},
   "outputs": [
    {
     "data": {
      "text/plain": [
       "Curriculum(3703527048, \"Example Curricula c1\", \"\", BS::Degree = 4, semester::System = 0, \"26.0101\", Course[Course(177051436, Dict(3703527048=>1), \"Physics I: Mechanics & Heat\", 3, \"PHYS\", \"1112\", \"\", \"\", Dict{Int64,Requisite}(), LearningOutcome[], Dict{String,Any}()), Course(1227877464, Dict(3703527048=>2), \"Circuits 1\", 3, \"EE\", \"2200\", \"\", \"\", Dict(177051436=>pre), LearningOutcome[], Dict{String,Any}()), Course(2644941087, Dict(3703527048=>3), \"Multivariable Calc. for Engineers\", 3, \"MATH\", \"1920\", \"\", \"\", Dict(3210423472=>pre), LearningOutcome[], Dict{String,Any}()), Course(3210423472, Dict(3703527048=>4), \"Calculus 1\", 3, \"MATH \", \"1011\", \"\", \"\", Dict{Int64,Requisite}(), LearningOutcome[], Dict{String,Any}())], 4, 12, {4, 2} directed simple Int64 graph, LearningOutcome[], Dict{String,Any}())"
      ]
     },
     "execution_count": 9,
     "metadata": {},
     "output_type": "execute_result"
    }
   ],
   "source": [
    "curric = Curriculum(\"Example Curricula c1\", c)"
   ]
  },
  {
   "cell_type": "markdown",
   "metadata": {},
   "source": [
    "## Create Degree Plan\n",
    "Degree plans give the sequential time element to a curricula. They serve as a primary benchmark to advise students when to take a course, and as such they should be carefully studied and optimized by administrators. \n",
    "\n",
    "To create the degree plan for the above curricula, the first thing that should be defined is the amount of terms: In our example, we only have 3:"
   ]
  },
  {
   "cell_type": "code",
   "execution_count": 10,
   "metadata": {},
   "outputs": [
    {
     "data": {
      "text/plain": [
       "3-element Array{Term,1}:\n",
       " #undef\n",
       " #undef\n",
       " #undef"
      ]
     },
     "execution_count": 10,
     "metadata": {},
     "output_type": "execute_result"
    }
   ],
   "source": [
    "terms = Array{Term}(undef, 3)"
   ]
  },
  {
   "cell_type": "markdown",
   "metadata": {},
   "source": [
    "Now, each one of the terms should be seperated by their respective courses:"
   ]
  },
  {
   "cell_type": "code",
   "execution_count": 11,
   "metadata": {},
   "outputs": [
    {
     "data": {
      "text/plain": [
       "Term(Course[Course(1227877464, Dict(3703527048=>2), \"Circuits 1\", 3, \"EE\", \"2200\", \"\", \"\", Dict(177051436=>pre), LearningOutcome[], Dict{String,Any}())], 1, 3, Dict{String,Any}())"
      ]
     },
     "execution_count": 11,
     "metadata": {},
     "output_type": "execute_result"
    }
   ],
   "source": [
    "terms[1] = Term([c[1]])\n",
    "terms[2] = Term([c[2],c[3]])\n",
    "terms[3] = Term([c[4]])"
   ]
  },
  {
   "cell_type": "markdown",
   "metadata": {},
   "source": [
    "Now the degree plan can be created with the desired name given in \"\""
   ]
  },
  {
   "cell_type": "code",
   "execution_count": 12,
   "metadata": {},
   "outputs": [
    {
     "data": {
      "text/plain": [
       "DegreePlan(\"Example Curricula C1\", Curriculum(3703527048, \"Example Curricula c1\", \"\", BS::Degree = 4, semester::System = 0, \"26.0101\", Course[Course(177051436, Dict(3703527048=>1), \"Physics I: Mechanics & Heat\", 3, \"PHYS\", \"1112\", \"\", \"\", Dict{Int64,Requisite}(), LearningOutcome[], Dict{String,Any}()), Course(1227877464, Dict(3703527048=>2), \"Circuits 1\", 3, \"EE\", \"2200\", \"\", \"\", Dict(177051436=>pre), LearningOutcome[], Dict{String,Any}()), Course(2644941087, Dict(3703527048=>3), \"Multivariable Calc. for Engineers\", 3, \"MATH\", \"1920\", \"\", \"\", Dict(3210423472=>pre), LearningOutcome[], Dict{String,Any}()), Course(3210423472, Dict(3703527048=>4), \"Calculus 1\", 3, \"MATH \", \"1011\", \"\", \"\", Dict{Int64,Requisite}(), LearningOutcome[], Dict{String,Any}())], 4, 12, {4, 2} directed simple Int64 graph, LearningOutcome[], Dict{String,Any}()), #undef, #undef, Term[Term(Course[Course(3210423472, Dict(3703527048=>4), \"Calculus 1\", 3, \"MATH \", \"1011\", \"\", \"\", Dict{Int64,Requisite}(), LearningOutcome[], Dict{String,Any}())], 1, 3, Dict{String,Any}()), Term(Course[Course(177051436, Dict(3703527048=>1), \"Physics I: Mechanics & Heat\", 3, \"PHYS\", \"1112\", \"\", \"\", Dict{Int64,Requisite}(), LearningOutcome[], Dict{String,Any}()), Course(2644941087, Dict(3703527048=>3), \"Multivariable Calc. for Engineers\", 3, \"MATH\", \"1920\", \"\", \"\", Dict(3210423472=>pre), LearningOutcome[], Dict{String,Any}())], 2, 6, Dict{String,Any}()), Term(Course[Course(1227877464, Dict(3703527048=>2), \"Circuits 1\", 3, \"EE\", \"2200\", \"\", \"\", Dict(177051436=>pre), LearningOutcome[], Dict{String,Any}())], 1, 3, Dict{String,Any}())], 3, 12, Dict{String,Any}())"
      ]
     },
     "execution_count": 12,
     "metadata": {},
     "output_type": "execute_result"
    }
   ],
   "source": [
    "dp = DegreePlan(\"Example Curricula C1\", curric, terms)"
   ]
  },
  {
   "cell_type": "markdown",
   "metadata": {},
   "source": [
    "## ANALYZING "
   ]
  },
  {
   "cell_type": "code",
   "execution_count": 13,
   "metadata": {},
   "outputs": [
    {
     "data": {
      "text/plain": [
       "Blink.AtomShell.Window(1, Blink.AtomShell.Electron(Process(`\u001b[4m/Users/wgthompson/.julia/packages/Blink/1QOOi/deps/Julia.app/Contents/MacOS/Julia\u001b[24m \u001b[4m/Users/wgthompson/.julia/packages/Blink/1QOOi/src/AtomShell/main.js\u001b[24m \u001b[4mport\u001b[24m \u001b[4m5381\u001b[24m`, ProcessRunning), Sockets.TCPSocket(RawFD(0x00000034) active, 0 bytes waiting), Dict{String,Any}(\"callback\"=>##1#2())), Blink.Page(1, WebSocket(server, \u001b[32mCONNECTED\u001b[39m), Dict{String,Any}(\"webio\"=>##101#102{BlinkConnection}(BlinkConnection(Page(#= circular reference @-4 =#))),\"callback\"=>##1#2()), Distributed.Future(1, 1, 1, Some(true))))"
      ]
     },
     "execution_count": 13,
     "metadata": {},
     "output_type": "execute_result"
    }
   ],
   "source": [
    "visualize(dp)"
   ]
  },
  {
   "cell_type": "code",
   "execution_count": null,
   "metadata": {},
   "outputs": [],
   "source": []
  }
 ],
 "metadata": {
  "kernelspec": {
   "display_name": "Julia 1.0.1",
   "language": "julia",
   "name": "julia-1.0"
  },
  "language_info": {
   "file_extension": ".jl",
   "mimetype": "application/julia",
   "name": "julia",
   "version": "1.0.1"
  }
 },
 "nbformat": 4,
 "nbformat_minor": 2
}

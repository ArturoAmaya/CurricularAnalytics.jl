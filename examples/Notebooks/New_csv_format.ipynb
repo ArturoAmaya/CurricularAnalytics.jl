{
 "cells": [
  {
   "cell_type": "code",
   "execution_count": 8,
   "metadata": {},
   "outputs": [
    {
     "name": "stdout",
     "output_type": "stream",
     "text": [
      "Current directory: CurricularAnalytics.jl\n"
     ]
    },
    {
     "name": "stderr",
     "output_type": "stream",
     "text": [
      "┌ Info: Precompiling CurricularAnalytics [b915a5b0-c40e-11e8-3dab-39a55ab5c2f7]\n",
      "└ @ Base loading.jl:1186\n",
      "ERROR: LoadError: ArgumentError: Package CategoricalArrays does not have Requires in its dependencies:\n",
      "- If you have CategoricalArrays checked out for development and have\n",
      "  added Requires as a dependency but haven't updated your primary\n",
      "  environment's manifest file, try `Pkg.resolve()`.\n",
      "- Otherwise you may need to report an issue with CategoricalArrays\n",
      "Stacktrace:\n",
      " [1] require(::Module, ::Symbol) at ./loading.jl:830\n",
      " [2] include at ./boot.jl:317 [inlined]\n",
      " [3] include_relative(::Module, ::String) at ./loading.jl:1038\n",
      " [4] include(::Module, ::String) at ./sysimg.jl:29\n",
      " [5] top-level scope at none:2\n",
      " [6] eval at ./boot.jl:319 [inlined]\n",
      " [7] eval(::Expr) at ./client.jl:389\n",
      " [8] top-level scope at ./none:3\n",
      "in expression starting at /Users/heileman/.julia/packages/CategoricalArrays/ucKV2/src/CategoricalArrays.jl:15\n",
      "ERROR: LoadError: Failed to precompile CategoricalArrays [324d7699-5711-5eae-9e2f-1d82baa6b597] to /Users/heileman/.julia/compiled/v1.0/CategoricalArrays/RHXoP.ji.\n",
      "Stacktrace:\n",
      " [1] error(::String) at ./error.jl:33\n",
      " [2] macro expansion at ./logging.jl:313 [inlined]\n",
      " [3] compilecache(::Base.PkgId, ::String) at ./loading.jl:1184\n",
      " [4] _require(::Base.PkgId) at ./logging.jl:311\n",
      " [5] require(::Base.PkgId) at ./loading.jl:852\n",
      " [6] macro expansion at ./logging.jl:311 [inlined]\n",
      " [7] require(::Module, ::Symbol) at ./loading.jl:834\n",
      " [8] include at ./boot.jl:317 [inlined]\n",
      " [9] include_relative(::Module, ::String) at ./loading.jl:1038\n",
      " [10] include(::Module, ::String) at ./sysimg.jl:29\n",
      " [11] top-level scope at none:2\n",
      " [12] eval at ./boot.jl:319 [inlined]\n",
      " [13] eval(::Expr) at ./client.jl:389\n",
      " [14] top-level scope at ./none:3\n",
      "in expression starting at /Users/heileman/.julia/packages/CSV/Q13EC/src/CSV.jl:3\n",
      "ERROR: LoadError: LoadError: Failed to precompile CSV [336ed68f-0bac-5ca0-87d4-7b16caf5d00b] to /Users/heileman/.julia/compiled/v1.0/CSV/HHBkp.ji.\n",
      "Stacktrace:\n",
      " [1] error(::String) at ./error.jl:33\n",
      " [2] macro expansion at ./logging.jl:313 [inlined]\n",
      " [3] compilecache(::Base.PkgId, ::String) at ./loading.jl:1184\n",
      " [4] _require(::Base.PkgId) at ./logging.jl:311\n",
      " [5] require(::Base.PkgId) at ./loading.jl:852\n",
      " [6] macro expansion at ./logging.jl:311 [inlined]\n",
      " [7] require(::Module, ::Symbol) at ./loading.jl:834\n",
      " [8] include at ./boot.jl:317 [inlined]\n",
      " [9] include_relative(::Module, ::String) at ./loading.jl:1038\n",
      " [10] include at ./sysimg.jl:29 [inlined]\n",
      " [11] include(::String) at /Users/heileman/Library/Mobile Documents/com~apple~CloudDocs/work/research/Curricular Analytics/CurricularAnalytics.jl/src/CurricularAnalytics.jl:9\n",
      " [12] top-level scope at none:0\n",
      " [13] include at ./boot.jl:317 [inlined]\n",
      " [14] include_relative(::Module, ::String) at ./loading.jl:1038\n",
      " [15] include(::Module, ::String) at ./sysimg.jl:29\n",
      " [16] top-level scope at none:2\n",
      " [17] eval at ./boot.jl:319 [inlined]\n",
      " [18] eval(::Expr) at ./client.jl:389\n",
      " [19] top-level scope at ./none:3\n",
      "in expression starting at /Users/heileman/Library/Mobile Documents/com~apple~CloudDocs/work/research/Curricular Analytics/CurricularAnalytics.jl/src/DataHandler.jl:2\n",
      "in expression starting at /Users/heileman/Library/Mobile Documents/com~apple~CloudDocs/work/research/Curricular Analytics/CurricularAnalytics.jl/src/CurricularAnalytics.jl:20\n"
     ]
    },
    {
     "ename": "ErrorException",
     "evalue": "Failed to precompile CurricularAnalytics [b915a5b0-c40e-11e8-3dab-39a55ab5c2f7] to /Users/heileman/.julia/compiled/v1.0/CurricularAnalytics/KKMY9.ji.",
     "output_type": "error",
     "traceback": [
      "Failed to precompile CurricularAnalytics [b915a5b0-c40e-11e8-3dab-39a55ab5c2f7] to /Users/heileman/.julia/compiled/v1.0/CurricularAnalytics/KKMY9.ji.",
      "",
      "Stacktrace:",
      " [1] error(::String) at ./error.jl:33",
      " [2] macro expansion at ./logging.jl:313 [inlined]",
      " [3] compilecache(::Base.PkgId, ::String) at ./loading.jl:1184",
      " [4] macro expansion at ./logging.jl:311 [inlined]",
      " [5] _require(::Base.PkgId) at ./loading.jl:941",
      " [6] require(::Base.PkgId) at ./loading.jl:852",
      " [7] macro expansion at ./logging.jl:311 [inlined]",
      " [8] require(::Module, ::Symbol) at ./loading.jl:834",
      " [9] top-level scope at In[8]:7"
     ]
    }
   ],
   "source": [
    "if split(pwd(),Base.Filesystem.path_separator)[end] != \"CurricularAnalytics.jl\"\n",
    "    cd(\"../..\")\n",
    "end\n",
    "println(\"Current directory: \" * split(pwd(),\"/\")[end])\n",
    "using Pkg\n",
    "pkg\"activate .\"\n",
    "using CurricularAnalytics"
   ]
  },
  {
   "cell_type": "code",
   "execution_count": 6,
   "metadata": {
    "scrolled": false
   },
   "outputs": [
    {
     "ename": "UndefVarError",
     "evalue": "UndefVarError: read_csv_new not defined",
     "output_type": "error",
     "traceback": [
      "UndefVarError: read_csv_new not defined",
      "",
      "Stacktrace:",
      " [1] top-level scope at In[6]:1"
     ]
    }
   ],
   "source": [
    "out = read_csv_new(\"examples/WSU-EE-CalcReady.csv\")\n",
    "#visualize(out, notebook=true)\n",
    "visualize(out , changed=update_plan, edit=true, notebook=true)"
   ]
  },
  {
   "cell_type": "code",
   "execution_count": 8,
   "metadata": {
    "scrolled": false
   },
   "outputs": [
    {
     "data": {
      "application/vnd.webio.node+json": {
       "children": [
        {
         "children": [
          ""
         ],
         "instanceArgs": {
          "namespace": "html",
          "tag": "iframe"
         },
         "nodeType": "DOM",
         "props": {
          "events": {
           "load": "(function (){this.contentWindow.postMessage({\"options\":{\"hideTerms\":true,\"edit\":true},\"curriculum\":{\"name\":\"Underwater Basket Weaving\",\"dp_name\":\"\",\"curriculum_terms\":[{\"name\":\"Term 1\",\"curriculum_items\":[{\"curriculum_requisites\":[],\"name\":\"BW 101\",\"metrics\":{},\"canonical_name\":\"\",\"nameSub\":\"Introduction to Baskets\",\"id\":805354485981319,\"credits\":3},{\"curriculum_requisites\":[],\"name\":\"PE 115\",\"metrics\":{},\"canonical_name\":\"\",\"nameSub\":\"Swimming\",\"id\":164545800145057,\"credits\":3},{\"curriculum_requisites\":[],\"name\":\"MA 116\",\"metrics\":{},\"canonical_name\":\"\",\"nameSub\":\"Introductory Calculus w/ Applications\",\"id\":315329977363911,\"credits\":4}],\"id\":1},{\"name\":\"Term 2\",\"curriculum_items\":[{\"curriculum_requisites\":[{\"source_id\":561112174411441,\"target_id\":137550127561570,\"type\":\"strict-coreq\"},{\"source_id\":805354485981319,\"target_id\":137550127561570,\"type\":\"prereq\"}],\"name\":\"BW 111\",\"metrics\":{},\"canonical_name\":\"\",\"nameSub\":\"Basic Basket Forms\",\"id\":137550127561570,\"credits\":3},{\"curriculum_requisites\":[],\"name\":\"BW 111L\",\"metrics\":{},\"canonical_name\":\"\",\"nameSub\":\"Basic Basket Forms Lab\",\"id\":561112174411441,\"credits\":1},{\"curriculum_requisites\":[{\"source_id\":561112174411441,\"target_id\":829477907365796,\"type\":\"prereq\"},{\"source_id\":315329977363911,\"target_id\":829477907365796,\"type\":\"prereq\"},{\"source_id\":137550127561570,\"target_id\":829477907365796,\"type\":\"prereq\"}],\"name\":\"BW 201\",\"metrics\":{},\"canonical_name\":\"\",\"nameSub\":\"Advanced Basketry\",\"id\":829477907365796,\"credits\":3}],\"id\":2},{\"name\":\"Term 3\",\"curriculum_items\":[{\"curriculum_requisites\":[{\"source_id\":805354485981319,\"target_id\":446198597611294,\"type\":\"prereq\"}],\"name\":\"BW 214\",\"metrics\":{},\"canonical_name\":\"\",\"nameSub\":\"Basket Materials & Decoration\",\"id\":446198597611294,\"credits\":3},{\"curriculum_requisites\":[{\"source_id\":164545800145057,\"target_id\":899528509081549,\"type\":\"prereq\"},{\"source_id\":446198597611294,\"target_id\":899528509081549,\"type\":\"prereq\"}],\"name\":\"BW 301\",\"metrics\":{},\"canonical_name\":\"\",\"nameSub\":\"Underwater Weaving\",\"id\":899528509081549,\"credits\":3}],\"id\":3}],\"institution\":\"\"}},\"*\"); window.removeEventListener(\"message\",window.messageReceived); window.messageReceived=(function (event){return (event.data.curriculum!==undefined) ? (_webIOScope.setObservableValue({\"name\":\"curriculum-data\",\"scope\":\"scope-0881b9f5-98fa-4520-a09d-61adf92eb0e2\",\"id\":\"ob_07\",\"type\":\"observable\"},event.data.curriculum)) : undefined}); return window.addEventListener(\"message\",window.messageReceived)})"
          },
          "id": "curriculum",
          "src": "http://localhost:8156",
          "style": {
           "border": "none",
           "height": "100vh",
           "margin": "0",
           "padding": "0",
           "width": "100%"
          }
         },
         "type": "node"
        }
       ],
       "instanceArgs": {
        "handlers": {},
        "id": "scope-0881b9f5-98fa-4520-a09d-61adf92eb0e2",
        "imports": {
         "data": [],
         "type": "async_block"
        },
        "observables": {
         "curriculum-data": {
          "id": "ob_07",
          "sync": true,
          "value": {
           "curriculum": {
            "curriculum_terms": [
             {
              "curriculum_items": [
               {
                "canonical_name": "",
                "credits": 3,
                "curriculum_requisites": [],
                "id": 805354485981319,
                "metrics": {},
                "name": "BW 101",
                "nameSub": "Introduction to Baskets"
               },
               {
                "canonical_name": "",
                "credits": 3,
                "curriculum_requisites": [],
                "id": 164545800145057,
                "metrics": {},
                "name": "PE 115",
                "nameSub": "Swimming"
               },
               {
                "canonical_name": "",
                "credits": 4,
                "curriculum_requisites": [],
                "id": 315329977363911,
                "metrics": {},
                "name": "MA 116",
                "nameSub": "Introductory Calculus w/ Applications"
               }
              ],
              "id": 1,
              "name": "Term 1"
             },
             {
              "curriculum_items": [
               {
                "canonical_name": "",
                "credits": 3,
                "curriculum_requisites": [
                 {
                  "source_id": 561112174411441,
                  "target_id": 137550127561570,
                  "type": "strict-coreq"
                 },
                 {
                  "source_id": 805354485981319,
                  "target_id": 137550127561570,
                  "type": "prereq"
                 }
                ],
                "id": 137550127561570,
                "metrics": {},
                "name": "BW 111",
                "nameSub": "Basic Basket Forms"
               },
               {
                "canonical_name": "",
                "credits": 1,
                "curriculum_requisites": [],
                "id": 561112174411441,
                "metrics": {},
                "name": "BW 111L",
                "nameSub": "Basic Basket Forms Lab"
               },
               {
                "canonical_name": "",
                "credits": 3,
                "curriculum_requisites": [
                 {
                  "source_id": 561112174411441,
                  "target_id": 829477907365796,
                  "type": "prereq"
                 },
                 {
                  "source_id": 315329977363911,
                  "target_id": 829477907365796,
                  "type": "prereq"
                 },
                 {
                  "source_id": 137550127561570,
                  "target_id": 829477907365796,
                  "type": "prereq"
                 }
                ],
                "id": 829477907365796,
                "metrics": {},
                "name": "BW 201",
                "nameSub": "Advanced Basketry"
               }
              ],
              "id": 2,
              "name": "Term 2"
             },
             {
              "curriculum_items": [
               {
                "canonical_name": "",
                "credits": 3,
                "curriculum_requisites": [
                 {
                  "source_id": 805354485981319,
                  "target_id": 446198597611294,
                  "type": "prereq"
                 }
                ],
                "id": 446198597611294,
                "metrics": {},
                "name": "BW 214",
                "nameSub": "Basket Materials & Decoration"
               },
               {
                "canonical_name": "",
                "credits": 3,
                "curriculum_requisites": [
                 {
                  "source_id": 164545800145057,
                  "target_id": 899528509081549,
                  "type": "prereq"
                 },
                 {
                  "source_id": 446198597611294,
                  "target_id": 899528509081549,
                  "type": "prereq"
                 }
                ],
                "id": 899528509081549,
                "metrics": {},
                "name": "BW 301",
                "nameSub": "Underwater Weaving"
               }
              ],
              "id": 3,
              "name": "Term 3"
             }
            ],
            "dp_name": "",
            "institution": "",
            "name": "Underwater Basket Weaving"
           },
           "options": {
            "edit": true,
            "hideTerms": true
           }
          }
         }
        },
        "systemjs_options": null
       },
       "nodeType": "Scope",
       "props": {},
       "type": "node"
      },
      "text/html": [
       "<div\n",
       "    class=\"webio-mountpoint\"\n",
       "    data-webio-mountpoint=\"6342731913202020808\"\n",
       ">\n",
       "    <script>\n",
       "    if (window.require && require.defined && require.defined(\"nbextensions/webio/main\")) {\n",
       "        console.log(\"Jupyter WebIO extension detected, not mounting.\");\n",
       "    } else if (window.WebIO) {\n",
       "        WebIO.mount(\n",
       "            document.querySelector('[data-webio-mountpoint=\"6342731913202020808\"]'),\n",
       "            {\"props\":{},\"nodeType\":\"Scope\",\"type\":\"node\",\"instanceArgs\":{\"imports\":{\"data\":[],\"type\":\"async_block\"},\"id\":\"scope-0881b9f5-98fa-4520-a09d-61adf92eb0e2\",\"handlers\":{},\"systemjs_options\":null,\"observables\":{\"curriculum-data\":{\"sync\":true,\"id\":\"ob_07\",\"value\":{\"options\":{\"hideTerms\":true,\"edit\":true},\"curriculum\":{\"name\":\"Underwater Basket Weaving\",\"dp_name\":\"\",\"curriculum_terms\":[{\"name\":\"Term 1\",\"curriculum_items\":[{\"curriculum_requisites\":[],\"name\":\"BW 101\",\"metrics\":{},\"canonical_name\":\"\",\"nameSub\":\"Introduction to Baskets\",\"id\":805354485981319,\"credits\":3},{\"curriculum_requisites\":[],\"name\":\"PE 115\",\"metrics\":{},\"canonical_name\":\"\",\"nameSub\":\"Swimming\",\"id\":164545800145057,\"credits\":3},{\"curriculum_requisites\":[],\"name\":\"MA 116\",\"metrics\":{},\"canonical_name\":\"\",\"nameSub\":\"Introductory Calculus w\\/ Applications\",\"id\":315329977363911,\"credits\":4}],\"id\":1},{\"name\":\"Term 2\",\"curriculum_items\":[{\"curriculum_requisites\":[{\"source_id\":561112174411441,\"target_id\":137550127561570,\"type\":\"strict-coreq\"},{\"source_id\":805354485981319,\"target_id\":137550127561570,\"type\":\"prereq\"}],\"name\":\"BW 111\",\"metrics\":{},\"canonical_name\":\"\",\"nameSub\":\"Basic Basket Forms\",\"id\":137550127561570,\"credits\":3},{\"curriculum_requisites\":[],\"name\":\"BW 111L\",\"metrics\":{},\"canonical_name\":\"\",\"nameSub\":\"Basic Basket Forms Lab\",\"id\":561112174411441,\"credits\":1},{\"curriculum_requisites\":[{\"source_id\":561112174411441,\"target_id\":829477907365796,\"type\":\"prereq\"},{\"source_id\":315329977363911,\"target_id\":829477907365796,\"type\":\"prereq\"},{\"source_id\":137550127561570,\"target_id\":829477907365796,\"type\":\"prereq\"}],\"name\":\"BW 201\",\"metrics\":{},\"canonical_name\":\"\",\"nameSub\":\"Advanced Basketry\",\"id\":829477907365796,\"credits\":3}],\"id\":2},{\"name\":\"Term 3\",\"curriculum_items\":[{\"curriculum_requisites\":[{\"source_id\":805354485981319,\"target_id\":446198597611294,\"type\":\"prereq\"}],\"name\":\"BW 214\",\"metrics\":{},\"canonical_name\":\"\",\"nameSub\":\"Basket Materials & Decoration\",\"id\":446198597611294,\"credits\":3},{\"curriculum_requisites\":[{\"source_id\":164545800145057,\"target_id\":899528509081549,\"type\":\"prereq\"},{\"source_id\":446198597611294,\"target_id\":899528509081549,\"type\":\"prereq\"}],\"name\":\"BW 301\",\"metrics\":{},\"canonical_name\":\"\",\"nameSub\":\"Underwater Weaving\",\"id\":899528509081549,\"credits\":3}],\"id\":3}],\"institution\":\"\"}}}}},\"children\":[{\"props\":{\"src\":\"http:\\/\\/localhost:8156\",\"id\":\"curriculum\",\"events\":{\"load\":\"(function (){this.contentWindow.postMessage({\\\"options\\\":{\\\"hideTerms\\\":true,\\\"edit\\\":true},\\\"curriculum\\\":{\\\"name\\\":\\\"Underwater Basket Weaving\\\",\\\"dp_name\\\":\\\"\\\",\\\"curriculum_terms\\\":[{\\\"name\\\":\\\"Term 1\\\",\\\"curriculum_items\\\":[{\\\"curriculum_requisites\\\":[],\\\"name\\\":\\\"BW 101\\\",\\\"metrics\\\":{},\\\"canonical_name\\\":\\\"\\\",\\\"nameSub\\\":\\\"Introduction to Baskets\\\",\\\"id\\\":805354485981319,\\\"credits\\\":3},{\\\"curriculum_requisites\\\":[],\\\"name\\\":\\\"PE 115\\\",\\\"metrics\\\":{},\\\"canonical_name\\\":\\\"\\\",\\\"nameSub\\\":\\\"Swimming\\\",\\\"id\\\":164545800145057,\\\"credits\\\":3},{\\\"curriculum_requisites\\\":[],\\\"name\\\":\\\"MA 116\\\",\\\"metrics\\\":{},\\\"canonical_name\\\":\\\"\\\",\\\"nameSub\\\":\\\"Introductory Calculus w\\/ Applications\\\",\\\"id\\\":315329977363911,\\\"credits\\\":4}],\\\"id\\\":1},{\\\"name\\\":\\\"Term 2\\\",\\\"curriculum_items\\\":[{\\\"curriculum_requisites\\\":[{\\\"source_id\\\":561112174411441,\\\"target_id\\\":137550127561570,\\\"type\\\":\\\"strict-coreq\\\"},{\\\"source_id\\\":805354485981319,\\\"target_id\\\":137550127561570,\\\"type\\\":\\\"prereq\\\"}],\\\"name\\\":\\\"BW 111\\\",\\\"metrics\\\":{},\\\"canonical_name\\\":\\\"\\\",\\\"nameSub\\\":\\\"Basic Basket Forms\\\",\\\"id\\\":137550127561570,\\\"credits\\\":3},{\\\"curriculum_requisites\\\":[],\\\"name\\\":\\\"BW 111L\\\",\\\"metrics\\\":{},\\\"canonical_name\\\":\\\"\\\",\\\"nameSub\\\":\\\"Basic Basket Forms Lab\\\",\\\"id\\\":561112174411441,\\\"credits\\\":1},{\\\"curriculum_requisites\\\":[{\\\"source_id\\\":561112174411441,\\\"target_id\\\":829477907365796,\\\"type\\\":\\\"prereq\\\"},{\\\"source_id\\\":315329977363911,\\\"target_id\\\":829477907365796,\\\"type\\\":\\\"prereq\\\"},{\\\"source_id\\\":137550127561570,\\\"target_id\\\":829477907365796,\\\"type\\\":\\\"prereq\\\"}],\\\"name\\\":\\\"BW 201\\\",\\\"metrics\\\":{},\\\"canonical_name\\\":\\\"\\\",\\\"nameSub\\\":\\\"Advanced Basketry\\\",\\\"id\\\":829477907365796,\\\"credits\\\":3}],\\\"id\\\":2},{\\\"name\\\":\\\"Term 3\\\",\\\"curriculum_items\\\":[{\\\"curriculum_requisites\\\":[{\\\"source_id\\\":805354485981319,\\\"target_id\\\":446198597611294,\\\"type\\\":\\\"prereq\\\"}],\\\"name\\\":\\\"BW 214\\\",\\\"metrics\\\":{},\\\"canonical_name\\\":\\\"\\\",\\\"nameSub\\\":\\\"Basket Materials & Decoration\\\",\\\"id\\\":446198597611294,\\\"credits\\\":3},{\\\"curriculum_requisites\\\":[{\\\"source_id\\\":164545800145057,\\\"target_id\\\":899528509081549,\\\"type\\\":\\\"prereq\\\"},{\\\"source_id\\\":446198597611294,\\\"target_id\\\":899528509081549,\\\"type\\\":\\\"prereq\\\"}],\\\"name\\\":\\\"BW 301\\\",\\\"metrics\\\":{},\\\"canonical_name\\\":\\\"\\\",\\\"nameSub\\\":\\\"Underwater Weaving\\\",\\\"id\\\":899528509081549,\\\"credits\\\":3}],\\\"id\\\":3}],\\\"institution\\\":\\\"\\\"}},\\\"*\\\"); window.removeEventListener(\\\"message\\\",window.messageReceived); window.messageReceived=(function (event){return (event.data.curriculum!==undefined) ? (_webIOScope.setObservableValue({\\\"name\\\":\\\"curriculum-data\\\",\\\"scope\\\":\\\"scope-0881b9f5-98fa-4520-a09d-61adf92eb0e2\\\",\\\"id\\\":\\\"ob_07\\\",\\\"type\\\":\\\"observable\\\"},event.data.curriculum)) : undefined}); return window.addEventListener(\\\"message\\\",window.messageReceived)})\"},\"style\":{\"padding\":\"0\",\"height\":\"100vh\",\"margin\":\"0\",\"border\":\"none\",\"width\":\"100%\"}},\"nodeType\":\"DOM\",\"type\":\"node\",\"instanceArgs\":{\"namespace\":\"html\",\"tag\":\"iframe\"},\"children\":[\"\"]}]},\n",
       "        );\n",
       "    } else {\n",
       "        document\n",
       "            .querySelector('[data-webio-mountpoint=\"6342731913202020808\"]')\n",
       "            .innerHTML = '<strong>WebIO not detected.</strong>';\n",
       "    }\n",
       "    </script>\n",
       "</div>\n"
      ],
      "text/plain": [
       "WebIO.Scope(\"scope-0881b9f5-98fa-4520-a09d-61adf92eb0e2\", WebIO.Node{WebIO.DOM}(WebIO.DOM(:html, :iframe), Any[\"\"], Dict{Symbol,Any}(:src=>\"http://localhost:8156\",:id=>\"curriculum\",:events=>Dict(:load=>JSString(\"(function (){this.contentWindow.postMessage({\\\"options\\\":{\\\"hideTerms\\\":true,\\\"edit\\\":true},\\\"curriculum\\\":{\\\"name\\\":\\\"Underwater Basket Weaving\\\",\\\"dp_name\\\":\\\"\\\",\\\"curriculum_terms\\\":[{\\\"name\\\":\\\"Term 1\\\",\\\"curriculum_items\\\":[{\\\"curriculum_requisites\\\":[],\\\"name\\\":\\\"BW 101\\\",\\\"metrics\\\":{},\\\"canonical_name\\\":\\\"\\\",\\\"nameSub\\\":\\\"Introduction to Baskets\\\",\\\"id\\\":805354485981319,\\\"credits\\\":3},{\\\"curriculum_requisites\\\":[],\\\"name\\\":\\\"PE 115\\\",\\\"metrics\\\":{},\\\"canonical_name\\\":\\\"\\\",\\\"nameSub\\\":\\\"Swimming\\\",\\\"id\\\":164545800145057,\\\"credits\\\":3},{\\\"curriculum_requisites\\\":[],\\\"name\\\":\\\"MA 116\\\",\\\"metrics\\\":{},\\\"canonical_name\\\":\\\"\\\",\\\"nameSub\\\":\\\"Introductory Calculus w/ Applications\\\",\\\"id\\\":315329977363911,\\\"credits\\\":4}],\\\"id\\\":1},{\\\"name\\\":\\\"Term 2\\\",\\\"curriculum_items\\\":[{\\\"curriculum_requisites\\\":[{\\\"source_id\\\":561112174411441,\\\"target_id\\\":137550127561570,\\\"type\\\":\\\"strict-coreq\\\"},{\\\"source_id\\\":805354485981319,\\\"target_id\\\":137550127561570,\\\"type\\\":\\\"prereq\\\"}],\\\"name\\\":\\\"BW 111\\\",\\\"metrics\\\":{},\\\"canonical_name\\\":\\\"\\\",\\\"nameSub\\\":\\\"Basic Basket Forms\\\",\\\"id\\\":137550127561570,\\\"credits\\\":3},{\\\"curriculum_requisites\\\":[],\\\"name\\\":\\\"BW 111L\\\",\\\"metrics\\\":{},\\\"canonical_name\\\":\\\"\\\",\\\"nameSub\\\":\\\"Basic Basket Forms Lab\\\",\\\"id\\\":561112174411441,\\\"credits\\\":1},{\\\"curriculum_requisites\\\":[{\\\"source_id\\\":561112174411441,\\\"target_id\\\":829477907365796,\\\"type\\\":\\\"prereq\\\"},{\\\"source_id\\\":315329977363911,\\\"target_id\\\":829477907365796,\\\"type\\\":\\\"prereq\\\"},{\\\"source_id\\\":137550127561570,\\\"target_id\\\":829477907365796,\\\"type\\\":\\\"prereq\\\"}],\\\"name\\\":\\\"BW 201\\\",\\\"metrics\\\":{},\\\"canonical_name\\\":\\\"\\\",\\\"nameSub\\\":\\\"Advanced Basketry\\\",\\\"id\\\":829477907365796,\\\"credits\\\":3}],\\\"id\\\":2},{\\\"name\\\":\\\"Term 3\\\",\\\"curriculum_items\\\":[{\\\"curriculum_requisites\\\":[{\\\"source_id\\\":805354485981319,\\\"target_id\\\":446198597611294,\\\"type\\\":\\\"prereq\\\"}],\\\"name\\\":\\\"BW 214\\\",\\\"metrics\\\":{},\\\"canonical_name\\\":\\\"\\\",\\\"nameSub\\\":\\\"Basket Materials & Decoration\\\",\\\"id\\\":446198597611294,\\\"credits\\\":3},{\\\"curriculum_requisites\\\":[{\\\"source_id\\\":164545800145057,\\\"target_id\\\":899528509081549,\\\"type\\\":\\\"prereq\\\"},{\\\"source_id\\\":446198597611294,\\\"target_id\\\":899528509081549,\\\"type\\\":\\\"prereq\\\"}],\\\"name\\\":\\\"BW 301\\\",\\\"metrics\\\":{},\\\"canonical_name\\\":\\\"\\\",\\\"nameSub\\\":\\\"Underwater Weaving\\\",\\\"id\\\":899528509081549,\\\"credits\\\":3}],\\\"id\\\":3}],\\\"institution\\\":\\\"\\\"}},\\\"*\\\"); window.removeEventListener(\\\"message\\\",window.messageReceived); window.messageReceived=(function (event){return (event.data.curriculum!==undefined) ? (_webIOScope.setObservableValue({\\\"name\\\":\\\"curriculum-data\\\",\\\"scope\\\":\\\"scope-0881b9f5-98fa-4520-a09d-61adf92eb0e2\\\",\\\"id\\\":\\\"ob_07\\\",\\\"type\\\":\\\"observable\\\"},event.data.curriculum)) : undefined}); return window.addEventListener(\\\"message\\\",window.messageReceived)})\")),:style=>Dict(:padding=>\"0\",:height=>\"100vh\",:margin=>\"0\",:border=>\"none\",:width=>\"100%\")), 1), Dict{String,Tuple{Observables.AbstractObservable,Union{Nothing, Bool}}}(\"curriculum-data\"=>(Observable{Dict{String,Any}} with 1 listeners. Value:\n",
       "Dict{String,Any}(\"options\"=>Dict{String,Any}(\"hideTerms\"=>true,\"edit\"=>true),\"curriculum\"=>Dict{String,Any}(\"name\"=>\"Underwater Basket Weaving\",\"dp_name\"=>\"\",\"curriculum_terms\"=>Dict{String,Any}[Dict(\"name\"=>\"Term 1\",\"curriculum_items\"=>Dict{String,Any}[Dict(\"curriculum_requisites\"=>Dict{String,Any}[],\"name\"=>\"BW 101\",\"metrics\"=>Dict{String,Any}(),\"canonical_name\"=>\"\",\"nameSub\"=>\"Introduction to Baskets\",\"id\"=>805354485981319,\"credits\"=>3), Dict(\"curriculum_requisites\"=>Dict{String,Any}[],\"name\"=>\"PE 115\",\"metrics\"=>Dict{String,Any}(),\"canonical_name\"=>\"\",\"nameSub\"=>\"Swimming\",\"id\"=>164545800145057,\"credits\"=>3), Dict(\"curriculum_requisites\"=>Dict{String,Any}[],\"name\"=>\"MA 116\",\"metrics\"=>Dict{String,Any}(),\"canonical_name\"=>\"\",\"nameSub\"=>\"Introductory Calculus w/ Applications\",\"id\"=>315329977363911,\"credits\"=>4)],\"id\"=>1), Dict(\"name\"=>\"Term 2\",\"curriculum_items\"=>Dict{String,Any}[Dict(\"curriculum_requisites\"=>Dict{String,Any}[Dict(\"source_id\"=>561112174411441,\"target_id\"=>137550127561570,\"type\"=>\"strict-coreq\"), Dict(\"source_id\"=>805354485981319,\"target_id\"=>137550127561570,\"type\"=>\"prereq\")],\"name\"=>\"BW 111\",\"metrics\"=>Dict{String,Any}(),\"canonical_name\"=>\"\",\"nameSub\"=>\"Basic Basket Forms\",\"id\"=>137550127561570,\"credits\"=>3), Dict(\"curriculum_requisites\"=>Dict{String,Any}[],\"name\"=>\"BW 111L\",\"metrics\"=>Dict{String,Any}(),\"canonical_name\"=>\"\",\"nameSub\"=>\"Basic Basket Forms Lab\",\"id\"=>561112174411441,\"credits\"=>1), Dict(\"curriculum_requisites\"=>Dict{String,Any}[Dict(\"source_id\"=>561112174411441,\"target_id\"=>829477907365796,\"type\"=>\"prereq\"), Dict(\"source_id\"=>315329977363911,\"target_id\"=>829477907365796,\"type\"=>\"prereq\"), Dict(\"source_id\"=>137550127561570,\"target_id\"=>829477907365796,\"type\"=>\"prereq\")],\"name\"=>\"BW 201\",\"metrics\"=>Dict{String,Any}(),\"canonical_name\"=>\"\",\"nameSub\"=>\"Advanced Basketry\",\"id\"=>829477907365796,\"credits\"=>3)],\"id\"=>2), Dict(\"name\"=>\"Term 3\",\"curriculum_items\"=>Dict{String,Any}[Dict(\"curriculum_requisites\"=>Dict{String,Any}[Dict(\"source_id\"=>805354485981319,\"target_id\"=>446198597611294,\"type\"=>\"prereq\")],\"name\"=>\"BW 214\",\"metrics\"=>Dict{String,Any}(),\"canonical_name\"=>\"\",\"nameSub\"=>\"Basket Materials & Decoration\",\"id\"=>446198597611294,\"credits\"=>3), Dict(\"curriculum_requisites\"=>Dict{String,Any}[Dict(\"source_id\"=>164545800145057,\"target_id\"=>899528509081549,\"type\"=>\"prereq\"), Dict(\"source_id\"=>446198597611294,\"target_id\"=>899528509081549,\"type\"=>\"prereq\")],\"name\"=>\"BW 301\",\"metrics\"=>Dict{String,Any}(),\"canonical_name\"=>\"\",\"nameSub\"=>\"Underwater Weaving\",\"id\"=>899528509081549,\"credits\"=>3)],\"id\"=>3)],\"institution\"=>\"\")), nothing)), Set(String[]), nothing, Any[], Dict{Any,Any}(), WebIO.ConnectionPool(Channel{Any}(sz_max:9223372036854775807,sz_curr:0), Set(WebIO.AbstractConnection[]), Channel{WebIO.AbstractConnection}(sz_max:32,sz_curr:0)))"
      ]
     },
     "execution_count": 8,
     "metadata": {
      "application/vnd.webio.node+json": {
       "kernelId": "fc3463b8-2aee-44cc-836b-de329e64ef80"
      }
     },
     "output_type": "execute_result"
    }
   ],
   "source": [
    "out = read_csv_new(\"examples/UBW_curriculum_terms.csv\")\n",
    "visualize(out, edit=true, notebook=true)"
   ]
  },
  {
   "cell_type": "code",
   "execution_count": 4,
   "metadata": {
    "scrolled": false
   },
   "outputs": [
    {
     "name": "stderr",
     "output_type": "stream",
     "text": [
      "┌ Info: Accept (3):  🔗    0↑     0↓    0s 127.0.0.1:8156:8156 ≣16\n",
      "└ @ HTTP.Servers C:\\Users\\orhan\\.julia\\packages\\HTTP\\YjRCz\\src\\Servers.jl:343\n",
      "┌ Info: Accept (4):  🔗    0↑     0↓    0s 127.0.0.1:8156:8156 ≣16\n",
      "└ @ HTTP.Servers C:\\Users\\orhan\\.julia\\packages\\HTTP\\YjRCz\\src\\Servers.jl:343\n",
      "┌ Info: Accept (5):  🔗    0↑     0↓    0s 127.0.0.1:8156:8156 ≣16\n",
      "└ @ HTTP.Servers C:\\Users\\orhan\\.julia\\packages\\HTTP\\YjRCz\\src\\Servers.jl:343\n",
      "┌ Info: Accept (6):  🔗    0↑     0↓    0s 127.0.0.1:8156:8156 ≣16\n",
      "└ @ HTTP.Servers C:\\Users\\orhan\\.julia\\packages\\HTTP\\YjRCz\\src\\Servers.jl:343\n"
     ]
    },
    {
     "data": {
      "application/vnd.webio.node+json": {
       "children": [
        {
         "children": [
          ""
         ],
         "instanceArgs": {
          "namespace": "html",
          "tag": "iframe"
         },
         "nodeType": "DOM",
         "props": {
          "events": {
           "load": "(function (){this.contentWindow.postMessage({\"options\":{\"hideTerms\":false,\"edit\":true},\"curriculum\":{\"name\":\"Curriculum 1\",\"dp_name\":\"\",\"curriculum_terms\":[{\"name\":\"Term 1\",\"curriculum_items\":[{\"curriculum_requisites\":[],\"name\":\"C 1\",\"metrics\":{\"centrality\":0,\"complexity\":5.0,\"blocking factor\":2,\"delay factor\":3.0},\"canonical_name\":\"Course Example 1\",\"nameSub\":\"Course 1\",\"id\":83103531174362,\"credits\":3},{\"curriculum_requisites\":[{\"source_id\":83103531174362,\"target_id\":735442290475298,\"type\":\"prereq\"}],\"name\":\"C 2\",\"metrics\":{\"centrality\":3,\"complexity\":4.0,\"blocking factor\":1,\"delay factor\":3.0},\"canonical_name\":\"Course Example 2\",\"nameSub\":\"Course 2\",\"id\":735442290475298,\"credits\":2}],\"id\":1},{\"name\":\"Term 2\",\"curriculum_items\":[{\"curriculum_requisites\":[{\"source_id\":735442290475298,\"target_id\":725926841716240,\"type\":\"prereq\"},{\"source_id\":83103531174362,\"target_id\":725926841716240,\"type\":\"prereq\"}],\"name\":\"AC 1\",\"metrics\":{\"centrality\":0,\"complexity\":3.0,\"blocking factor\":0,\"delay factor\":3.0},\"canonical_name\":\"\",\"nameSub\":\"Additional Course 1\",\"id\":725926841716240,\"credits\":3},{\"curriculum_requisites\":[],\"name\":\"AC 2\",\"metrics\":{\"centrality\":0,\"complexity\":1.0,\"blocking factor\":0,\"delay factor\":1.0},\"canonical_name\":\"\",\"nameSub\":\"Additional Course 2\",\"id\":128128113040531,\"credits\":3}],\"id\":2}],\"institution\":\"Name of the Institution\"}},\"*\"); window.removeEventListener(\"message\",window.messageReceived); window.messageReceived=(function (event){return (event.data.curriculum!==undefined) ? (_webIOScope.setObservableValue({\"name\":\"curriculum-data\",\"scope\":\"scope-003d03e3-b6b7-4bce-ae17-9eba553fcacb\",\"id\":\"ob_03\",\"type\":\"observable\"},event.data.curriculum)) : undefined}); return window.addEventListener(\"message\",window.messageReceived)})"
          },
          "id": "curriculum",
          "src": "http://localhost:8156",
          "style": {
           "border": "none",
           "height": "100vh",
           "margin": "0",
           "padding": "0",
           "width": "100%"
          }
         },
         "type": "node"
        }
       ],
       "instanceArgs": {
        "handlers": {},
        "id": "scope-003d03e3-b6b7-4bce-ae17-9eba553fcacb",
        "imports": {
         "data": [],
         "type": "async_block"
        },
        "observables": {
         "curriculum-data": {
          "id": "ob_03",
          "sync": true,
          "value": {
           "curriculum": {
            "curriculum_terms": [
             {
              "curriculum_items": [
               {
                "canonical_name": "Course Example 1",
                "credits": 3,
                "curriculum_requisites": [],
                "id": 83103531174362,
                "metrics": {
                 "blocking factor": 2,
                 "centrality": 0,
                 "complexity": 5,
                 "delay factor": 3
                },
                "name": "C 1",
                "nameSub": "Course 1"
               },
               {
                "canonical_name": "Course Example 2",
                "credits": 2,
                "curriculum_requisites": [
                 {
                  "source_id": 83103531174362,
                  "target_id": 735442290475298,
                  "type": "prereq"
                 }
                ],
                "id": 735442290475298,
                "metrics": {
                 "blocking factor": 1,
                 "centrality": 3,
                 "complexity": 4,
                 "delay factor": 3
                },
                "name": "C 2",
                "nameSub": "Course 2"
               }
              ],
              "id": 1,
              "name": "Term 1"
             },
             {
              "curriculum_items": [
               {
                "canonical_name": "",
                "credits": 3,
                "curriculum_requisites": [
                 {
                  "source_id": 735442290475298,
                  "target_id": 725926841716240,
                  "type": "prereq"
                 },
                 {
                  "source_id": 83103531174362,
                  "target_id": 725926841716240,
                  "type": "prereq"
                 }
                ],
                "id": 725926841716240,
                "metrics": {
                 "blocking factor": 0,
                 "centrality": 0,
                 "complexity": 3,
                 "delay factor": 3
                },
                "name": "AC 1",
                "nameSub": "Additional Course 1"
               },
               {
                "canonical_name": "",
                "credits": 3,
                "curriculum_requisites": [],
                "id": 128128113040531,
                "metrics": {
                 "blocking factor": 0,
                 "centrality": 0,
                 "complexity": 1,
                 "delay factor": 1
                },
                "name": "AC 2",
                "nameSub": "Additional Course 2"
               }
              ],
              "id": 2,
              "name": "Term 2"
             }
            ],
            "dp_name": "",
            "institution": "Name of the Institution",
            "name": "Curriculum 1"
           },
           "options": {
            "edit": true,
            "hideTerms": false
           }
          }
         }
        },
        "systemjs_options": null
       },
       "nodeType": "Scope",
       "props": {},
       "type": "node"
      },
      "text/html": [
       "<div\n",
       "    class=\"webio-mountpoint\"\n",
       "    data-webio-mountpoint=\"18341309152052273071\"\n",
       ">\n",
       "    <script>\n",
       "    if (window.require && require.defined && require.defined(\"nbextensions/webio/main\")) {\n",
       "        console.log(\"Jupyter WebIO extension detected, not mounting.\");\n",
       "    } else if (window.WebIO) {\n",
       "        WebIO.mount(\n",
       "            document.querySelector('[data-webio-mountpoint=\"18341309152052273071\"]'),\n",
       "            {\"props\":{},\"nodeType\":\"Scope\",\"type\":\"node\",\"instanceArgs\":{\"imports\":{\"data\":[],\"type\":\"async_block\"},\"id\":\"scope-003d03e3-b6b7-4bce-ae17-9eba553fcacb\",\"handlers\":{},\"systemjs_options\":null,\"observables\":{\"curriculum-data\":{\"sync\":true,\"id\":\"ob_03\",\"value\":{\"options\":{\"hideTerms\":false,\"edit\":true},\"curriculum\":{\"name\":\"Curriculum 1\",\"dp_name\":\"\",\"curriculum_terms\":[{\"name\":\"Term 1\",\"curriculum_items\":[{\"curriculum_requisites\":[],\"name\":\"C 1\",\"metrics\":{\"centrality\":0,\"complexity\":5.0,\"blocking factor\":2,\"delay factor\":3.0},\"canonical_name\":\"Course Example 1\",\"nameSub\":\"Course 1\",\"id\":83103531174362,\"credits\":3},{\"curriculum_requisites\":[{\"source_id\":83103531174362,\"target_id\":735442290475298,\"type\":\"prereq\"}],\"name\":\"C 2\",\"metrics\":{\"centrality\":3,\"complexity\":4.0,\"blocking factor\":1,\"delay factor\":3.0},\"canonical_name\":\"Course Example 2\",\"nameSub\":\"Course 2\",\"id\":735442290475298,\"credits\":2}],\"id\":1},{\"name\":\"Term 2\",\"curriculum_items\":[{\"curriculum_requisites\":[{\"source_id\":735442290475298,\"target_id\":725926841716240,\"type\":\"prereq\"},{\"source_id\":83103531174362,\"target_id\":725926841716240,\"type\":\"prereq\"}],\"name\":\"AC 1\",\"metrics\":{\"centrality\":0,\"complexity\":3.0,\"blocking factor\":0,\"delay factor\":3.0},\"canonical_name\":\"\",\"nameSub\":\"Additional Course 1\",\"id\":725926841716240,\"credits\":3},{\"curriculum_requisites\":[],\"name\":\"AC 2\",\"metrics\":{\"centrality\":0,\"complexity\":1.0,\"blocking factor\":0,\"delay factor\":1.0},\"canonical_name\":\"\",\"nameSub\":\"Additional Course 2\",\"id\":128128113040531,\"credits\":3}],\"id\":2}],\"institution\":\"Name of the Institution\"}}}}},\"children\":[{\"props\":{\"src\":\"http:\\/\\/localhost:8156\",\"id\":\"curriculum\",\"events\":{\"load\":\"(function (){this.contentWindow.postMessage({\\\"options\\\":{\\\"hideTerms\\\":false,\\\"edit\\\":true},\\\"curriculum\\\":{\\\"name\\\":\\\"Curriculum 1\\\",\\\"dp_name\\\":\\\"\\\",\\\"curriculum_terms\\\":[{\\\"name\\\":\\\"Term 1\\\",\\\"curriculum_items\\\":[{\\\"curriculum_requisites\\\":[],\\\"name\\\":\\\"C 1\\\",\\\"metrics\\\":{\\\"centrality\\\":0,\\\"complexity\\\":5.0,\\\"blocking factor\\\":2,\\\"delay factor\\\":3.0},\\\"canonical_name\\\":\\\"Course Example 1\\\",\\\"nameSub\\\":\\\"Course 1\\\",\\\"id\\\":83103531174362,\\\"credits\\\":3},{\\\"curriculum_requisites\\\":[{\\\"source_id\\\":83103531174362,\\\"target_id\\\":735442290475298,\\\"type\\\":\\\"prereq\\\"}],\\\"name\\\":\\\"C 2\\\",\\\"metrics\\\":{\\\"centrality\\\":3,\\\"complexity\\\":4.0,\\\"blocking factor\\\":1,\\\"delay factor\\\":3.0},\\\"canonical_name\\\":\\\"Course Example 2\\\",\\\"nameSub\\\":\\\"Course 2\\\",\\\"id\\\":735442290475298,\\\"credits\\\":2}],\\\"id\\\":1},{\\\"name\\\":\\\"Term 2\\\",\\\"curriculum_items\\\":[{\\\"curriculum_requisites\\\":[{\\\"source_id\\\":735442290475298,\\\"target_id\\\":725926841716240,\\\"type\\\":\\\"prereq\\\"},{\\\"source_id\\\":83103531174362,\\\"target_id\\\":725926841716240,\\\"type\\\":\\\"prereq\\\"}],\\\"name\\\":\\\"AC 1\\\",\\\"metrics\\\":{\\\"centrality\\\":0,\\\"complexity\\\":3.0,\\\"blocking factor\\\":0,\\\"delay factor\\\":3.0},\\\"canonical_name\\\":\\\"\\\",\\\"nameSub\\\":\\\"Additional Course 1\\\",\\\"id\\\":725926841716240,\\\"credits\\\":3},{\\\"curriculum_requisites\\\":[],\\\"name\\\":\\\"AC 2\\\",\\\"metrics\\\":{\\\"centrality\\\":0,\\\"complexity\\\":1.0,\\\"blocking factor\\\":0,\\\"delay factor\\\":1.0},\\\"canonical_name\\\":\\\"\\\",\\\"nameSub\\\":\\\"Additional Course 2\\\",\\\"id\\\":128128113040531,\\\"credits\\\":3}],\\\"id\\\":2}],\\\"institution\\\":\\\"Name of the Institution\\\"}},\\\"*\\\"); window.removeEventListener(\\\"message\\\",window.messageReceived); window.messageReceived=(function (event){return (event.data.curriculum!==undefined) ? (_webIOScope.setObservableValue({\\\"name\\\":\\\"curriculum-data\\\",\\\"scope\\\":\\\"scope-003d03e3-b6b7-4bce-ae17-9eba553fcacb\\\",\\\"id\\\":\\\"ob_03\\\",\\\"type\\\":\\\"observable\\\"},event.data.curriculum)) : undefined}); return window.addEventListener(\\\"message\\\",window.messageReceived)})\"},\"style\":{\"padding\":\"0\",\"height\":\"100vh\",\"margin\":\"0\",\"border\":\"none\",\"width\":\"100%\"}},\"nodeType\":\"DOM\",\"type\":\"node\",\"instanceArgs\":{\"namespace\":\"html\",\"tag\":\"iframe\"},\"children\":[\"\"]}]},\n",
       "        );\n",
       "    } else {\n",
       "        document\n",
       "            .querySelector('[data-webio-mountpoint=\"18341309152052273071\"]')\n",
       "            .innerHTML = '<strong>WebIO not detected.</strong>';\n",
       "    }\n",
       "    </script>\n",
       "</div>\n"
      ],
      "text/plain": [
       "WebIO.Scope(\"scope-003d03e3-b6b7-4bce-ae17-9eba553fcacb\", WebIO.Node{WebIO.DOM}(WebIO.DOM(:html, :iframe), Any[\"\"], Dict{Symbol,Any}(:src=>\"http://localhost:8156\",:id=>\"curriculum\",:events=>Dict(:load=>JSString(\"(function (){this.contentWindow.postMessage({\\\"options\\\":{\\\"hideTerms\\\":false,\\\"edit\\\":true},\\\"curriculum\\\":{\\\"name\\\":\\\"Curriculum 1\\\",\\\"dp_name\\\":\\\"\\\",\\\"curriculum_terms\\\":[{\\\"name\\\":\\\"Term 1\\\",\\\"curriculum_items\\\":[{\\\"curriculum_requisites\\\":[],\\\"name\\\":\\\"C 1\\\",\\\"metrics\\\":{\\\"centrality\\\":0,\\\"complexity\\\":5.0,\\\"blocking factor\\\":2,\\\"delay factor\\\":3.0},\\\"canonical_name\\\":\\\"Course Example 1\\\",\\\"nameSub\\\":\\\"Course 1\\\",\\\"id\\\":83103531174362,\\\"credits\\\":3},{\\\"curriculum_requisites\\\":[{\\\"source_id\\\":83103531174362,\\\"target_id\\\":735442290475298,\\\"type\\\":\\\"prereq\\\"}],\\\"name\\\":\\\"C 2\\\",\\\"metrics\\\":{\\\"centrality\\\":3,\\\"complexity\\\":4.0,\\\"blocking factor\\\":1,\\\"delay factor\\\":3.0},\\\"canonical_name\\\":\\\"Course Example 2\\\",\\\"nameSub\\\":\\\"Course 2\\\",\\\"id\\\":735442290475298,\\\"credits\\\":2}],\\\"id\\\":1},{\\\"name\\\":\\\"Term 2\\\",\\\"curriculum_items\\\":[{\\\"curriculum_requisites\\\":[{\\\"source_id\\\":735442290475298,\\\"target_id\\\":725926841716240,\\\"type\\\":\\\"prereq\\\"},{\\\"source_id\\\":83103531174362,\\\"target_id\\\":725926841716240,\\\"type\\\":\\\"prereq\\\"}],\\\"name\\\":\\\"AC 1\\\",\\\"metrics\\\":{\\\"centrality\\\":0,\\\"complexity\\\":3.0,\\\"blocking factor\\\":0,\\\"delay factor\\\":3.0},\\\"canonical_name\\\":\\\"\\\",\\\"nameSub\\\":\\\"Additional Course 1\\\",\\\"id\\\":725926841716240,\\\"credits\\\":3},{\\\"curriculum_requisites\\\":[],\\\"name\\\":\\\"AC 2\\\",\\\"metrics\\\":{\\\"centrality\\\":0,\\\"complexity\\\":1.0,\\\"blocking factor\\\":0,\\\"delay factor\\\":1.0},\\\"canonical_name\\\":\\\"\\\",\\\"nameSub\\\":\\\"Additional Course 2\\\",\\\"id\\\":128128113040531,\\\"credits\\\":3}],\\\"id\\\":2}],\\\"institution\\\":\\\"Name of the Institution\\\"}},\\\"*\\\"); window.removeEventListener(\\\"message\\\",window.messageReceived); window.messageReceived=(function (event){return (event.data.curriculum!==undefined) ? (_webIOScope.setObservableValue({\\\"name\\\":\\\"curriculum-data\\\",\\\"scope\\\":\\\"scope-003d03e3-b6b7-4bce-ae17-9eba553fcacb\\\",\\\"id\\\":\\\"ob_03\\\",\\\"type\\\":\\\"observable\\\"},event.data.curriculum)) : undefined}); return window.addEventListener(\\\"message\\\",window.messageReceived)})\")),:style=>Dict(:padding=>\"0\",:height=>\"100vh\",:margin=>\"0\",:border=>\"none\",:width=>\"100%\")), 1), Dict{String,Tuple{Observables.AbstractObservable,Union{Nothing, Bool}}}(\"curriculum-data\"=>(Observable{Dict{String,Any}} with 1 listeners. Value:\n",
       "Dict{String,Any}(\"options\"=>Dict{String,Any}(\"hideTerms\"=>false,\"edit\"=>true),\"curriculum\"=>Dict{String,Any}(\"name\"=>\"Curriculum 1\",\"dp_name\"=>\"\",\"curriculum_terms\"=>Dict{String,Any}[Dict(\"name\"=>\"Term 1\",\"curriculum_items\"=>Dict{String,Any}[Dict(\"curriculum_requisites\"=>Dict{String,Any}[],\"name\"=>\"C 1\",\"metrics\"=>Dict{String,Any}(\"centrality\"=>0,\"complexity\"=>5.0,\"blocking factor\"=>2,\"delay factor\"=>3.0),\"canonical_name\"=>\"Course Example 1\",\"nameSub\"=>\"Course 1\",\"id\"=>83103531174362,\"credits\"=>3), Dict(\"curriculum_requisites\"=>Dict{String,Any}[Dict(\"source_id\"=>83103531174362,\"target_id\"=>735442290475298,\"type\"=>\"prereq\")],\"name\"=>\"C 2\",\"metrics\"=>Dict{String,Any}(\"centrality\"=>3,\"complexity\"=>4.0,\"blocking factor\"=>1,\"delay factor\"=>3.0),\"canonical_name\"=>\"Course Example 2\",\"nameSub\"=>\"Course 2\",\"id\"=>735442290475298,\"credits\"=>2)],\"id\"=>1), Dict(\"name\"=>\"Term 2\",\"curriculum_items\"=>Dict{String,Any}[Dict(\"curriculum_requisites\"=>Dict{String,Any}[Dict(\"source_id\"=>735442290475298,\"target_id\"=>725926841716240,\"type\"=>\"prereq\"), Dict(\"source_id\"=>83103531174362,\"target_id\"=>725926841716240,\"type\"=>\"prereq\")],\"name\"=>\"AC 1\",\"metrics\"=>Dict{String,Any}(\"centrality\"=>0,\"complexity\"=>3.0,\"blocking factor\"=>0,\"delay factor\"=>3.0),\"canonical_name\"=>\"\",\"nameSub\"=>\"Additional Course 1\",\"id\"=>725926841716240,\"credits\"=>3), Dict(\"curriculum_requisites\"=>Dict{String,Any}[],\"name\"=>\"AC 2\",\"metrics\"=>Dict{String,Any}(\"centrality\"=>0,\"complexity\"=>1.0,\"blocking factor\"=>0,\"delay factor\"=>1.0),\"canonical_name\"=>\"\",\"nameSub\"=>\"Additional Course 2\",\"id\"=>128128113040531,\"credits\"=>3)],\"id\"=>2)],\"institution\"=>\"Name of the Institution\")), nothing)), Set(String[]), nothing, Any[], Dict{Any,Any}(), WebIO.ConnectionPool(Channel{Any}(sz_max:9223372036854775807,sz_curr:0), Set(WebIO.AbstractConnection[]), Channel{WebIO.AbstractConnection}(sz_max:32,sz_curr:0)))"
      ]
     },
     "execution_count": 4,
     "metadata": {
      "application/vnd.webio.node+json": {
       "kernelId": "fc3463b8-2aee-44cc-836b-de329e64ef80"
      }
     },
     "output_type": "execute_result"
    }
   ],
   "source": [
    "out = read_csv_new(\"examples/template.csv\")\n",
    "#write_csv(out)\n",
    "visualize(out, changed=update_plan , edit=true, notebook=true)"
   ]
  },
  {
   "cell_type": "code",
   "execution_count": 5,
   "metadata": {},
   "outputs": [
    {
     "data": {
      "application/vnd.webio.node+json": {
       "children": [
        {
         "children": [
          ""
         ],
         "instanceArgs": {
          "namespace": "html",
          "tag": "iframe"
         },
         "nodeType": "DOM",
         "props": {
          "events": {
           "load": "(function (){this.contentWindow.postMessage({\"options\":{\"hideTerms\":false,\"edit\":true},\"curriculum\":{\"name\":\"Underwater Basket Weaving\",\"dp_name\":\"2-year plan\",\"curriculum_terms\":[{\"name\":\"Term 1\",\"curriculum_items\":[{\"curriculum_requisites\":[],\"name\":\"BW 101\",\"metrics\":{},\"canonical_name\":\"Baskets I\",\"nameSub\":\"Introduction to Baskets\",\"id\":14686121143819,\"credits\":3},{\"curriculum_requisites\":[],\"name\":\"PE 115\",\"metrics\":{},\"canonical_name\":\"Physical Education\",\"nameSub\":\"Swimming\",\"id\":286550516633473,\"credits\":3},{\"curriculum_requisites\":[],\"name\":\"MA 116\",\"metrics\":{},\"canonical_name\":\"Calculus I\",\"nameSub\":\"Introductory Calculus w/ Applications\",\"id\":664595623541692,\"credits\":4}],\"id\":1},{\"name\":\"Term 2\",\"curriculum_items\":[{\"curriculum_requisites\":[{\"source_id\":410299053710805,\"target_id\":532766175263069,\"type\":\"strict-coreq\"},{\"source_id\":14686121143819,\"target_id\":532766175263069,\"type\":\"prereq\"}],\"name\":\"BW 111\",\"metrics\":{},\"canonical_name\":\"Baskets II\",\"nameSub\":\"Basic Basket Forms\",\"id\":532766175263069,\"credits\":3},{\"curriculum_requisites\":[],\"name\":\"BW 111L\",\"metrics\":{},\"canonical_name\":\"Baskets II Laboratory\",\"nameSub\":\"Basic Basket Forms Lab\",\"id\":410299053710805,\"credits\":1},{\"curriculum_requisites\":[{\"source_id\":532766175263069,\"target_id\":423811231623581,\"type\":\"prereq\"},{\"source_id\":410299053710805,\"target_id\":423811231623581,\"type\":\"prereq\"},{\"source_id\":664595623541692,\"target_id\":423811231623581,\"type\":\"prereq\"}],\"name\":\"BW 201\",\"metrics\":{},\"canonical_name\":\"Baskets III\",\"nameSub\":\"Advanced Basketry\",\"id\":423811231623581,\"credits\":3},{\"curriculum_requisites\":[],\"name\":\" \",\"metrics\":{},\"canonical_name\":\"Humanitites Core\",\"nameSub\":\"Humanitites Elective\",\"id\":596487725928838,\"credits\":3}],\"id\":2},{\"name\":\"Term 3\",\"curriculum_items\":[{\"curriculum_requisites\":[{\"source_id\":14686121143819,\"target_id\":276281867139741,\"type\":\"prereq\"}],\"name\":\"BW 214\",\"metrics\":{},\"canonical_name\":\"Basket Materials\",\"nameSub\":\"Basket Materials & Decoration\",\"id\":276281867139741,\"credits\":3},{\"curriculum_requisites\":[{\"source_id\":286550516633473,\"target_id\":61472314056894,\"type\":\"prereq\"},{\"source_id\":276281867139741,\"target_id\":61472314056894,\"type\":\"prereq\"}],\"name\":\"BW 301\",\"metrics\":{},\"canonical_name\":\"Baskets IV\",\"nameSub\":\"Underwater Weaving\",\"id\":61472314056894,\"credits\":3},{\"curriculum_requisites\":[],\"name\":\" \",\"metrics\":{},\"canonical_name\":\"\",\"nameSub\":\"Social Sciences Elective\",\"id\":746897352238538,\"credits\":3}],\"id\":3},{\"name\":\"Term 4\",\"curriculum_items\":[{\"curriculum_requisites\":[],\"name\":\" \",\"metrics\":{},\"canonical_name\":\"\",\"nameSub\":\"Technical Elective\",\"id\":136439797846280,\"credits\":3},{\"curriculum_requisites\":[],\"name\":\" \",\"metrics\":{},\"canonical_name\":\"\",\"nameSub\":\"General Elective\",\"id\":345035930505069,\"credits\":3}],\"id\":4}],\"institution\":\"ACME State University\"}},\"*\"); window.removeEventListener(\"message\",window.messageReceived); window.messageReceived=(function (event){return (event.data.curriculum!==undefined) ? (_webIOScope.setObservableValue({\"name\":\"curriculum-data\",\"scope\":\"scope-8322691a-366b-4554-899a-289258ec6391\",\"id\":\"ob_04\",\"type\":\"observable\"},event.data.curriculum)) : undefined}); return window.addEventListener(\"message\",window.messageReceived)})"
          },
          "id": "curriculum",
          "src": "http://localhost:8156",
          "style": {
           "border": "none",
           "height": "100vh",
           "margin": "0",
           "padding": "0",
           "width": "100%"
          }
         },
         "type": "node"
        }
       ],
       "instanceArgs": {
        "handlers": {},
        "id": "scope-8322691a-366b-4554-899a-289258ec6391",
        "imports": {
         "data": [],
         "type": "async_block"
        },
        "observables": {
         "curriculum-data": {
          "id": "ob_04",
          "sync": true,
          "value": {
           "curriculum": {
            "curriculum_terms": [
             {
              "curriculum_items": [
               {
                "canonical_name": "Baskets I",
                "credits": 3,
                "curriculum_requisites": [],
                "id": 14686121143819,
                "metrics": {},
                "name": "BW 101",
                "nameSub": "Introduction to Baskets"
               },
               {
                "canonical_name": "Physical Education",
                "credits": 3,
                "curriculum_requisites": [],
                "id": 286550516633473,
                "metrics": {},
                "name": "PE 115",
                "nameSub": "Swimming"
               },
               {
                "canonical_name": "Calculus I",
                "credits": 4,
                "curriculum_requisites": [],
                "id": 664595623541692,
                "metrics": {},
                "name": "MA 116",
                "nameSub": "Introductory Calculus w/ Applications"
               }
              ],
              "id": 1,
              "name": "Term 1"
             },
             {
              "curriculum_items": [
               {
                "canonical_name": "Baskets II",
                "credits": 3,
                "curriculum_requisites": [
                 {
                  "source_id": 410299053710805,
                  "target_id": 532766175263069,
                  "type": "strict-coreq"
                 },
                 {
                  "source_id": 14686121143819,
                  "target_id": 532766175263069,
                  "type": "prereq"
                 }
                ],
                "id": 532766175263069,
                "metrics": {},
                "name": "BW 111",
                "nameSub": "Basic Basket Forms"
               },
               {
                "canonical_name": "Baskets II Laboratory",
                "credits": 1,
                "curriculum_requisites": [],
                "id": 410299053710805,
                "metrics": {},
                "name": "BW 111L",
                "nameSub": "Basic Basket Forms Lab"
               },
               {
                "canonical_name": "Baskets III",
                "credits": 3,
                "curriculum_requisites": [
                 {
                  "source_id": 532766175263069,
                  "target_id": 423811231623581,
                  "type": "prereq"
                 },
                 {
                  "source_id": 410299053710805,
                  "target_id": 423811231623581,
                  "type": "prereq"
                 },
                 {
                  "source_id": 664595623541692,
                  "target_id": 423811231623581,
                  "type": "prereq"
                 }
                ],
                "id": 423811231623581,
                "metrics": {},
                "name": "BW 201",
                "nameSub": "Advanced Basketry"
               },
               {
                "canonical_name": "Humanitites Core",
                "credits": 3,
                "curriculum_requisites": [],
                "id": 596487725928838,
                "metrics": {},
                "name": " ",
                "nameSub": "Humanitites Elective"
               }
              ],
              "id": 2,
              "name": "Term 2"
             },
             {
              "curriculum_items": [
               {
                "canonical_name": "Basket Materials",
                "credits": 3,
                "curriculum_requisites": [
                 {
                  "source_id": 14686121143819,
                  "target_id": 276281867139741,
                  "type": "prereq"
                 }
                ],
                "id": 276281867139741,
                "metrics": {},
                "name": "BW 214",
                "nameSub": "Basket Materials & Decoration"
               },
               {
                "canonical_name": "Baskets IV",
                "credits": 3,
                "curriculum_requisites": [
                 {
                  "source_id": 286550516633473,
                  "target_id": 61472314056894,
                  "type": "prereq"
                 },
                 {
                  "source_id": 276281867139741,
                  "target_id": 61472314056894,
                  "type": "prereq"
                 }
                ],
                "id": 61472314056894,
                "metrics": {},
                "name": "BW 301",
                "nameSub": "Underwater Weaving"
               },
               {
                "canonical_name": "",
                "credits": 3,
                "curriculum_requisites": [],
                "id": 746897352238538,
                "metrics": {},
                "name": " ",
                "nameSub": "Social Sciences Elective"
               }
              ],
              "id": 3,
              "name": "Term 3"
             },
             {
              "curriculum_items": [
               {
                "canonical_name": "",
                "credits": 3,
                "curriculum_requisites": [],
                "id": 136439797846280,
                "metrics": {},
                "name": " ",
                "nameSub": "Technical Elective"
               },
               {
                "canonical_name": "",
                "credits": 3,
                "curriculum_requisites": [],
                "id": 345035930505069,
                "metrics": {},
                "name": " ",
                "nameSub": "General Elective"
               }
              ],
              "id": 4,
              "name": "Term 4"
             }
            ],
            "dp_name": "2-year plan",
            "institution": "ACME State University",
            "name": "Underwater Basket Weaving"
           },
           "options": {
            "edit": true,
            "hideTerms": false
           }
          }
         }
        },
        "systemjs_options": null
       },
       "nodeType": "Scope",
       "props": {},
       "type": "node"
      },
      "text/html": [
       "<div\n",
       "    class=\"webio-mountpoint\"\n",
       "    data-webio-mountpoint=\"18040577615517592807\"\n",
       ">\n",
       "    <script>\n",
       "    if (window.require && require.defined && require.defined(\"nbextensions/webio/main\")) {\n",
       "        console.log(\"Jupyter WebIO extension detected, not mounting.\");\n",
       "    } else if (window.WebIO) {\n",
       "        WebIO.mount(\n",
       "            document.querySelector('[data-webio-mountpoint=\"18040577615517592807\"]'),\n",
       "            {\"props\":{},\"nodeType\":\"Scope\",\"type\":\"node\",\"instanceArgs\":{\"imports\":{\"data\":[],\"type\":\"async_block\"},\"id\":\"scope-8322691a-366b-4554-899a-289258ec6391\",\"handlers\":{},\"systemjs_options\":null,\"observables\":{\"curriculum-data\":{\"sync\":true,\"id\":\"ob_04\",\"value\":{\"options\":{\"hideTerms\":false,\"edit\":true},\"curriculum\":{\"name\":\"Underwater Basket Weaving\",\"dp_name\":\"2-year plan\",\"curriculum_terms\":[{\"name\":\"Term 1\",\"curriculum_items\":[{\"curriculum_requisites\":[],\"name\":\"BW 101\",\"metrics\":{},\"canonical_name\":\"Baskets I\",\"nameSub\":\"Introduction to Baskets\",\"id\":14686121143819,\"credits\":3},{\"curriculum_requisites\":[],\"name\":\"PE 115\",\"metrics\":{},\"canonical_name\":\"Physical Education\",\"nameSub\":\"Swimming\",\"id\":286550516633473,\"credits\":3},{\"curriculum_requisites\":[],\"name\":\"MA 116\",\"metrics\":{},\"canonical_name\":\"Calculus I\",\"nameSub\":\"Introductory Calculus w\\/ Applications\",\"id\":664595623541692,\"credits\":4}],\"id\":1},{\"name\":\"Term 2\",\"curriculum_items\":[{\"curriculum_requisites\":[{\"source_id\":410299053710805,\"target_id\":532766175263069,\"type\":\"strict-coreq\"},{\"source_id\":14686121143819,\"target_id\":532766175263069,\"type\":\"prereq\"}],\"name\":\"BW 111\",\"metrics\":{},\"canonical_name\":\"Baskets II\",\"nameSub\":\"Basic Basket Forms\",\"id\":532766175263069,\"credits\":3},{\"curriculum_requisites\":[],\"name\":\"BW 111L\",\"metrics\":{},\"canonical_name\":\"Baskets II Laboratory\",\"nameSub\":\"Basic Basket Forms Lab\",\"id\":410299053710805,\"credits\":1},{\"curriculum_requisites\":[{\"source_id\":532766175263069,\"target_id\":423811231623581,\"type\":\"prereq\"},{\"source_id\":410299053710805,\"target_id\":423811231623581,\"type\":\"prereq\"},{\"source_id\":664595623541692,\"target_id\":423811231623581,\"type\":\"prereq\"}],\"name\":\"BW 201\",\"metrics\":{},\"canonical_name\":\"Baskets III\",\"nameSub\":\"Advanced Basketry\",\"id\":423811231623581,\"credits\":3},{\"curriculum_requisites\":[],\"name\":\" \",\"metrics\":{},\"canonical_name\":\"Humanitites Core\",\"nameSub\":\"Humanitites Elective\",\"id\":596487725928838,\"credits\":3}],\"id\":2},{\"name\":\"Term 3\",\"curriculum_items\":[{\"curriculum_requisites\":[{\"source_id\":14686121143819,\"target_id\":276281867139741,\"type\":\"prereq\"}],\"name\":\"BW 214\",\"metrics\":{},\"canonical_name\":\"Basket Materials\",\"nameSub\":\"Basket Materials & Decoration\",\"id\":276281867139741,\"credits\":3},{\"curriculum_requisites\":[{\"source_id\":286550516633473,\"target_id\":61472314056894,\"type\":\"prereq\"},{\"source_id\":276281867139741,\"target_id\":61472314056894,\"type\":\"prereq\"}],\"name\":\"BW 301\",\"metrics\":{},\"canonical_name\":\"Baskets IV\",\"nameSub\":\"Underwater Weaving\",\"id\":61472314056894,\"credits\":3},{\"curriculum_requisites\":[],\"name\":\" \",\"metrics\":{},\"canonical_name\":\"\",\"nameSub\":\"Social Sciences Elective\",\"id\":746897352238538,\"credits\":3}],\"id\":3},{\"name\":\"Term 4\",\"curriculum_items\":[{\"curriculum_requisites\":[],\"name\":\" \",\"metrics\":{},\"canonical_name\":\"\",\"nameSub\":\"Technical Elective\",\"id\":136439797846280,\"credits\":3},{\"curriculum_requisites\":[],\"name\":\" \",\"metrics\":{},\"canonical_name\":\"\",\"nameSub\":\"General Elective\",\"id\":345035930505069,\"credits\":3}],\"id\":4}],\"institution\":\"ACME State University\"}}}}},\"children\":[{\"props\":{\"src\":\"http:\\/\\/localhost:8156\",\"id\":\"curriculum\",\"events\":{\"load\":\"(function (){this.contentWindow.postMessage({\\\"options\\\":{\\\"hideTerms\\\":false,\\\"edit\\\":true},\\\"curriculum\\\":{\\\"name\\\":\\\"Underwater Basket Weaving\\\",\\\"dp_name\\\":\\\"2-year plan\\\",\\\"curriculum_terms\\\":[{\\\"name\\\":\\\"Term 1\\\",\\\"curriculum_items\\\":[{\\\"curriculum_requisites\\\":[],\\\"name\\\":\\\"BW 101\\\",\\\"metrics\\\":{},\\\"canonical_name\\\":\\\"Baskets I\\\",\\\"nameSub\\\":\\\"Introduction to Baskets\\\",\\\"id\\\":14686121143819,\\\"credits\\\":3},{\\\"curriculum_requisites\\\":[],\\\"name\\\":\\\"PE 115\\\",\\\"metrics\\\":{},\\\"canonical_name\\\":\\\"Physical Education\\\",\\\"nameSub\\\":\\\"Swimming\\\",\\\"id\\\":286550516633473,\\\"credits\\\":3},{\\\"curriculum_requisites\\\":[],\\\"name\\\":\\\"MA 116\\\",\\\"metrics\\\":{},\\\"canonical_name\\\":\\\"Calculus I\\\",\\\"nameSub\\\":\\\"Introductory Calculus w\\/ Applications\\\",\\\"id\\\":664595623541692,\\\"credits\\\":4}],\\\"id\\\":1},{\\\"name\\\":\\\"Term 2\\\",\\\"curriculum_items\\\":[{\\\"curriculum_requisites\\\":[{\\\"source_id\\\":410299053710805,\\\"target_id\\\":532766175263069,\\\"type\\\":\\\"strict-coreq\\\"},{\\\"source_id\\\":14686121143819,\\\"target_id\\\":532766175263069,\\\"type\\\":\\\"prereq\\\"}],\\\"name\\\":\\\"BW 111\\\",\\\"metrics\\\":{},\\\"canonical_name\\\":\\\"Baskets II\\\",\\\"nameSub\\\":\\\"Basic Basket Forms\\\",\\\"id\\\":532766175263069,\\\"credits\\\":3},{\\\"curriculum_requisites\\\":[],\\\"name\\\":\\\"BW 111L\\\",\\\"metrics\\\":{},\\\"canonical_name\\\":\\\"Baskets II Laboratory\\\",\\\"nameSub\\\":\\\"Basic Basket Forms Lab\\\",\\\"id\\\":410299053710805,\\\"credits\\\":1},{\\\"curriculum_requisites\\\":[{\\\"source_id\\\":532766175263069,\\\"target_id\\\":423811231623581,\\\"type\\\":\\\"prereq\\\"},{\\\"source_id\\\":410299053710805,\\\"target_id\\\":423811231623581,\\\"type\\\":\\\"prereq\\\"},{\\\"source_id\\\":664595623541692,\\\"target_id\\\":423811231623581,\\\"type\\\":\\\"prereq\\\"}],\\\"name\\\":\\\"BW 201\\\",\\\"metrics\\\":{},\\\"canonical_name\\\":\\\"Baskets III\\\",\\\"nameSub\\\":\\\"Advanced Basketry\\\",\\\"id\\\":423811231623581,\\\"credits\\\":3},{\\\"curriculum_requisites\\\":[],\\\"name\\\":\\\" \\\",\\\"metrics\\\":{},\\\"canonical_name\\\":\\\"Humanitites Core\\\",\\\"nameSub\\\":\\\"Humanitites Elective\\\",\\\"id\\\":596487725928838,\\\"credits\\\":3}],\\\"id\\\":2},{\\\"name\\\":\\\"Term 3\\\",\\\"curriculum_items\\\":[{\\\"curriculum_requisites\\\":[{\\\"source_id\\\":14686121143819,\\\"target_id\\\":276281867139741,\\\"type\\\":\\\"prereq\\\"}],\\\"name\\\":\\\"BW 214\\\",\\\"metrics\\\":{},\\\"canonical_name\\\":\\\"Basket Materials\\\",\\\"nameSub\\\":\\\"Basket Materials & Decoration\\\",\\\"id\\\":276281867139741,\\\"credits\\\":3},{\\\"curriculum_requisites\\\":[{\\\"source_id\\\":286550516633473,\\\"target_id\\\":61472314056894,\\\"type\\\":\\\"prereq\\\"},{\\\"source_id\\\":276281867139741,\\\"target_id\\\":61472314056894,\\\"type\\\":\\\"prereq\\\"}],\\\"name\\\":\\\"BW 301\\\",\\\"metrics\\\":{},\\\"canonical_name\\\":\\\"Baskets IV\\\",\\\"nameSub\\\":\\\"Underwater Weaving\\\",\\\"id\\\":61472314056894,\\\"credits\\\":3},{\\\"curriculum_requisites\\\":[],\\\"name\\\":\\\" \\\",\\\"metrics\\\":{},\\\"canonical_name\\\":\\\"\\\",\\\"nameSub\\\":\\\"Social Sciences Elective\\\",\\\"id\\\":746897352238538,\\\"credits\\\":3}],\\\"id\\\":3},{\\\"name\\\":\\\"Term 4\\\",\\\"curriculum_items\\\":[{\\\"curriculum_requisites\\\":[],\\\"name\\\":\\\" \\\",\\\"metrics\\\":{},\\\"canonical_name\\\":\\\"\\\",\\\"nameSub\\\":\\\"Technical Elective\\\",\\\"id\\\":136439797846280,\\\"credits\\\":3},{\\\"curriculum_requisites\\\":[],\\\"name\\\":\\\" \\\",\\\"metrics\\\":{},\\\"canonical_name\\\":\\\"\\\",\\\"nameSub\\\":\\\"General Elective\\\",\\\"id\\\":345035930505069,\\\"credits\\\":3}],\\\"id\\\":4}],\\\"institution\\\":\\\"ACME State University\\\"}},\\\"*\\\"); window.removeEventListener(\\\"message\\\",window.messageReceived); window.messageReceived=(function (event){return (event.data.curriculum!==undefined) ? (_webIOScope.setObservableValue({\\\"name\\\":\\\"curriculum-data\\\",\\\"scope\\\":\\\"scope-8322691a-366b-4554-899a-289258ec6391\\\",\\\"id\\\":\\\"ob_04\\\",\\\"type\\\":\\\"observable\\\"},event.data.curriculum)) : undefined}); return window.addEventListener(\\\"message\\\",window.messageReceived)})\"},\"style\":{\"padding\":\"0\",\"height\":\"100vh\",\"margin\":\"0\",\"border\":\"none\",\"width\":\"100%\"}},\"nodeType\":\"DOM\",\"type\":\"node\",\"instanceArgs\":{\"namespace\":\"html\",\"tag\":\"iframe\"},\"children\":[\"\"]}]},\n",
       "        );\n",
       "    } else {\n",
       "        document\n",
       "            .querySelector('[data-webio-mountpoint=\"18040577615517592807\"]')\n",
       "            .innerHTML = '<strong>WebIO not detected.</strong>';\n",
       "    }\n",
       "    </script>\n",
       "</div>\n"
      ],
      "text/plain": [
       "WebIO.Scope(\"scope-8322691a-366b-4554-899a-289258ec6391\", WebIO.Node{WebIO.DOM}(WebIO.DOM(:html, :iframe), Any[\"\"], Dict{Symbol,Any}(:src=>\"http://localhost:8156\",:id=>\"curriculum\",:events=>Dict(:load=>JSString(\"(function (){this.contentWindow.postMessage({\\\"options\\\":{\\\"hideTerms\\\":false,\\\"edit\\\":true},\\\"curriculum\\\":{\\\"name\\\":\\\"Underwater Basket Weaving\\\",\\\"dp_name\\\":\\\"2-year plan\\\",\\\"curriculum_terms\\\":[{\\\"name\\\":\\\"Term 1\\\",\\\"curriculum_items\\\":[{\\\"curriculum_requisites\\\":[],\\\"name\\\":\\\"BW 101\\\",\\\"metrics\\\":{},\\\"canonical_name\\\":\\\"Baskets I\\\",\\\"nameSub\\\":\\\"Introduction to Baskets\\\",\\\"id\\\":14686121143819,\\\"credits\\\":3},{\\\"curriculum_requisites\\\":[],\\\"name\\\":\\\"PE 115\\\",\\\"metrics\\\":{},\\\"canonical_name\\\":\\\"Physical Education\\\",\\\"nameSub\\\":\\\"Swimming\\\",\\\"id\\\":286550516633473,\\\"credits\\\":3},{\\\"curriculum_requisites\\\":[],\\\"name\\\":\\\"MA 116\\\",\\\"metrics\\\":{},\\\"canonical_name\\\":\\\"Calculus I\\\",\\\"nameSub\\\":\\\"Introductory Calculus w/ Applications\\\",\\\"id\\\":664595623541692,\\\"credits\\\":4}],\\\"id\\\":1},{\\\"name\\\":\\\"Term 2\\\",\\\"curriculum_items\\\":[{\\\"curriculum_requisites\\\":[{\\\"source_id\\\":410299053710805,\\\"target_id\\\":532766175263069,\\\"type\\\":\\\"strict-coreq\\\"},{\\\"source_id\\\":14686121143819,\\\"target_id\\\":532766175263069,\\\"type\\\":\\\"prereq\\\"}],\\\"name\\\":\\\"BW 111\\\",\\\"metrics\\\":{},\\\"canonical_name\\\":\\\"Baskets II\\\",\\\"nameSub\\\":\\\"Basic Basket Forms\\\",\\\"id\\\":532766175263069,\\\"credits\\\":3},{\\\"curriculum_requisites\\\":[],\\\"name\\\":\\\"BW 111L\\\",\\\"metrics\\\":{},\\\"canonical_name\\\":\\\"Baskets II Laboratory\\\",\\\"nameSub\\\":\\\"Basic Basket Forms Lab\\\",\\\"id\\\":410299053710805,\\\"credits\\\":1},{\\\"curriculum_requisites\\\":[{\\\"source_id\\\":532766175263069,\\\"target_id\\\":423811231623581,\\\"type\\\":\\\"prereq\\\"},{\\\"source_id\\\":410299053710805,\\\"target_id\\\":423811231623581,\\\"type\\\":\\\"prereq\\\"},{\\\"source_id\\\":664595623541692,\\\"target_id\\\":423811231623581,\\\"type\\\":\\\"prereq\\\"}],\\\"name\\\":\\\"BW 201\\\",\\\"metrics\\\":{},\\\"canonical_name\\\":\\\"Baskets III\\\",\\\"nameSub\\\":\\\"Advanced Basketry\\\",\\\"id\\\":423811231623581,\\\"credits\\\":3},{\\\"curriculum_requisites\\\":[],\\\"name\\\":\\\" \\\",\\\"metrics\\\":{},\\\"canonical_name\\\":\\\"Humanitites Core\\\",\\\"nameSub\\\":\\\"Humanitites Elective\\\",\\\"id\\\":596487725928838,\\\"credits\\\":3}],\\\"id\\\":2},{\\\"name\\\":\\\"Term 3\\\",\\\"curriculum_items\\\":[{\\\"curriculum_requisites\\\":[{\\\"source_id\\\":14686121143819,\\\"target_id\\\":276281867139741,\\\"type\\\":\\\"prereq\\\"}],\\\"name\\\":\\\"BW 214\\\",\\\"metrics\\\":{},\\\"canonical_name\\\":\\\"Basket Materials\\\",\\\"nameSub\\\":\\\"Basket Materials & Decoration\\\",\\\"id\\\":276281867139741,\\\"credits\\\":3},{\\\"curriculum_requisites\\\":[{\\\"source_id\\\":286550516633473,\\\"target_id\\\":61472314056894,\\\"type\\\":\\\"prereq\\\"},{\\\"source_id\\\":276281867139741,\\\"target_id\\\":61472314056894,\\\"type\\\":\\\"prereq\\\"}],\\\"name\\\":\\\"BW 301\\\",\\\"metrics\\\":{},\\\"canonical_name\\\":\\\"Baskets IV\\\",\\\"nameSub\\\":\\\"Underwater Weaving\\\",\\\"id\\\":61472314056894,\\\"credits\\\":3},{\\\"curriculum_requisites\\\":[],\\\"name\\\":\\\" \\\",\\\"metrics\\\":{},\\\"canonical_name\\\":\\\"\\\",\\\"nameSub\\\":\\\"Social Sciences Elective\\\",\\\"id\\\":746897352238538,\\\"credits\\\":3}],\\\"id\\\":3},{\\\"name\\\":\\\"Term 4\\\",\\\"curriculum_items\\\":[{\\\"curriculum_requisites\\\":[],\\\"name\\\":\\\" \\\",\\\"metrics\\\":{},\\\"canonical_name\\\":\\\"\\\",\\\"nameSub\\\":\\\"Technical Elective\\\",\\\"id\\\":136439797846280,\\\"credits\\\":3},{\\\"curriculum_requisites\\\":[],\\\"name\\\":\\\" \\\",\\\"metrics\\\":{},\\\"canonical_name\\\":\\\"\\\",\\\"nameSub\\\":\\\"General Elective\\\",\\\"id\\\":345035930505069,\\\"credits\\\":3}],\\\"id\\\":4}],\\\"institution\\\":\\\"ACME State University\\\"}},\\\"*\\\"); window.removeEventListener(\\\"message\\\",window.messageReceived); window.messageReceived=(function (event){return (event.data.curriculum!==undefined) ? (_webIOScope.setObservableValue({\\\"name\\\":\\\"curriculum-data\\\",\\\"scope\\\":\\\"scope-8322691a-366b-4554-899a-289258ec6391\\\",\\\"id\\\":\\\"ob_04\\\",\\\"type\\\":\\\"observable\\\"},event.data.curriculum)) : undefined}); return window.addEventListener(\\\"message\\\",window.messageReceived)})\")),:style=>Dict(:padding=>\"0\",:height=>\"100vh\",:margin=>\"0\",:border=>\"none\",:width=>\"100%\")), 1), Dict{String,Tuple{Observables.AbstractObservable,Union{Nothing, Bool}}}(\"curriculum-data\"=>(Observable{Dict{String,Any}} with 1 listeners. Value:\n",
       "Dict{String,Any}(\"options\"=>Dict{String,Any}(\"hideTerms\"=>false,\"edit\"=>true),\"curriculum\"=>Dict{String,Any}(\"name\"=>\"Underwater Basket Weaving\",\"dp_name\"=>\"2-year plan\",\"curriculum_terms\"=>Dict{String,Any}[Dict(\"name\"=>\"Term 1\",\"curriculum_items\"=>Dict{String,Any}[Dict(\"curriculum_requisites\"=>Dict{String,Any}[],\"name\"=>\"BW 101\",\"metrics\"=>Dict{String,Any}(),\"canonical_name\"=>\"Baskets I\",\"nameSub\"=>\"Introduction to Baskets\",\"id\"=>14686121143819,\"credits\"=>3), Dict(\"curriculum_requisites\"=>Dict{String,Any}[],\"name\"=>\"PE 115\",\"metrics\"=>Dict{String,Any}(),\"canonical_name\"=>\"Physical Education\",\"nameSub\"=>\"Swimming\",\"id\"=>286550516633473,\"credits\"=>3), Dict(\"curriculum_requisites\"=>Dict{String,Any}[],\"name\"=>\"MA 116\",\"metrics\"=>Dict{String,Any}(),\"canonical_name\"=>\"Calculus I\",\"nameSub\"=>\"Introductory Calculus w/ Applications\",\"id\"=>664595623541692,\"credits\"=>4)],\"id\"=>1), Dict(\"name\"=>\"Term 2\",\"curriculum_items\"=>Dict{String,Any}[Dict(\"curriculum_requisites\"=>Dict{String,Any}[Dict(\"source_id\"=>410299053710805,\"target_id\"=>532766175263069,\"type\"=>\"strict-coreq\"), Dict(\"source_id\"=>14686121143819,\"target_id\"=>532766175263069,\"type\"=>\"prereq\")],\"name\"=>\"BW 111\",\"metrics\"=>Dict{String,Any}(),\"canonical_name\"=>\"Baskets II\",\"nameSub\"=>\"Basic Basket Forms\",\"id\"=>532766175263069,\"credits\"=>3), Dict(\"curriculum_requisites\"=>Dict{String,Any}[],\"name\"=>\"BW 111L\",\"metrics\"=>Dict{String,Any}(),\"canonical_name\"=>\"Baskets II Laboratory\",\"nameSub\"=>\"Basic Basket Forms Lab\",\"id\"=>410299053710805,\"credits\"=>1), Dict(\"curriculum_requisites\"=>Dict{String,Any}[Dict(\"source_id\"=>532766175263069,\"target_id\"=>423811231623581,\"type\"=>\"prereq\"), Dict(\"source_id\"=>410299053710805,\"target_id\"=>423811231623581,\"type\"=>\"prereq\"), Dict(\"source_id\"=>664595623541692,\"target_id\"=>423811231623581,\"type\"=>\"prereq\")],\"name\"=>\"BW 201\",\"metrics\"=>Dict{String,Any}(),\"canonical_name\"=>\"Baskets III\",\"nameSub\"=>\"Advanced Basketry\",\"id\"=>423811231623581,\"credits\"=>3), Dict(\"curriculum_requisites\"=>Dict{String,Any}[],\"name\"=>\" \",\"metrics\"=>Dict{String,Any}(),\"canonical_name\"=>\"Humanitites Core\",\"nameSub\"=>\"Humanitites Elective\",\"id\"=>596487725928838,\"credits\"=>3)],\"id\"=>2), Dict(\"name\"=>\"Term 3\",\"curriculum_items\"=>Dict{String,Any}[Dict(\"curriculum_requisites\"=>Dict{String,Any}[Dict(\"source_id\"=>14686121143819,\"target_id\"=>276281867139741,\"type\"=>\"prereq\")],\"name\"=>\"BW 214\",\"metrics\"=>Dict{String,Any}(),\"canonical_name\"=>\"Basket Materials\",\"nameSub\"=>\"Basket Materials & Decoration\",\"id\"=>276281867139741,\"credits\"=>3), Dict(\"curriculum_requisites\"=>Dict{String,Any}[Dict(\"source_id\"=>286550516633473,\"target_id\"=>61472314056894,\"type\"=>\"prereq\"), Dict(\"source_id\"=>276281867139741,\"target_id\"=>61472314056894,\"type\"=>\"prereq\")],\"name\"=>\"BW 301\",\"metrics\"=>Dict{String,Any}(),\"canonical_name\"=>\"Baskets IV\",\"nameSub\"=>\"Underwater Weaving\",\"id\"=>61472314056894,\"credits\"=>3), Dict(\"curriculum_requisites\"=>Dict{String,Any}[],\"name\"=>\" \",\"metrics\"=>Dict{String,Any}(),\"canonical_name\"=>\"\",\"nameSub\"=>\"Social Sciences Elective\",\"id\"=>746897352238538,\"credits\"=>3)],\"id\"=>3), Dict(\"name\"=>\"Term 4\",\"curriculum_items\"=>Dict{String,Any}[Dict(\"curriculum_requisites\"=>Dict{String,Any}[],\"name\"=>\" \",\"metrics\"=>Dict{String,Any}(),\"canonical_name\"=>\"\",\"nameSub\"=>\"Technical Elective\",\"id\"=>136439797846280,\"credits\"=>3), Dict(\"curriculum_requisites\"=>Dict{String,Any}[],\"name\"=>\" \",\"metrics\"=>Dict{String,Any}(),\"canonical_name\"=>\"\",\"nameSub\"=>\"General Elective\",\"id\"=>345035930505069,\"credits\"=>3)],\"id\"=>4)],\"institution\"=>\"ACME State University\")), nothing)), Set(String[]), nothing, Any[], Dict{Any,Any}(), WebIO.ConnectionPool(Channel{Any}(sz_max:9223372036854775807,sz_curr:0), Set(WebIO.AbstractConnection[]), Channel{WebIO.AbstractConnection}(sz_max:32,sz_curr:0)))"
      ]
     },
     "execution_count": 5,
     "metadata": {
      "application/vnd.webio.node+json": {
       "kernelId": "fc3463b8-2aee-44cc-836b-de329e64ef80"
      }
     },
     "output_type": "execute_result"
    }
   ],
   "source": [
    "out = read_csv_new(\"examples/UBW_degree_plan.csv\")\n",
    "#write_csv(out)\n",
    "visualize(out, changed=update_plan , edit=true, notebook=true, \n",
    "    show_blocking_factor=false, show_delay_factor=false,\n",
    "    show_centrality=false, show_complexity = false)"
   ]
  },
  {
   "cell_type": "code",
   "execution_count": 7,
   "metadata": {},
   "outputs": [
    {
     "name": "stdout",
     "output_type": "stream",
     "text": [
      "Could not create a plan for 0 term, try for one more term\n",
      "Could not create a plan for 1 term, try for one more term\n",
      "Could not create a plan for 2 term, try for one more term\n"
     ]
    },
    {
     "data": {
      "application/vnd.webio.node+json": {
       "children": [
        {
         "children": [
          ""
         ],
         "instanceArgs": {
          "namespace": "html",
          "tag": "iframe"
         },
         "nodeType": "DOM",
         "props": {
          "events": {
           "load": "(function (){this.contentWindow.postMessage({\"options\":{\"hideTerms\":true,\"edit\":false},\"curriculum\":{\"name\":\"Underwater Basket Weaving\",\"dp_name\":\"\",\"curriculum_terms\":[{\"name\":\"Term 1\",\"curriculum_items\":[{\"curriculum_requisites\":[],\"name\":\"BW 101\",\"metrics\":{},\"canonical_name\":\"\",\"nameSub\":\"Introduction to Baskets\",\"id\":407170219482275,\"credits\":1},{\"curriculum_requisites\":[],\"name\":\"PE 115\",\"metrics\":{},\"canonical_name\":\"\",\"nameSub\":\"Swimming\",\"id\":791483077951521,\"credits\":1},{\"curriculum_requisites\":[],\"name\":\"MA 116\",\"metrics\":{},\"canonical_name\":\"\",\"nameSub\":\"Introductory Calculus w/ Applications\",\"id\":490771672307658,\"credits\":1}],\"id\":1},{\"name\":\"Term 2\",\"curriculum_items\":[{\"curriculum_requisites\":[],\"name\":\"BW 111L\",\"metrics\":{},\"canonical_name\":\"\",\"nameSub\":\"Basic Basket Forms Lab\",\"id\":439910314758237,\"credits\":1},{\"curriculum_requisites\":[{\"source_id\":407170219482275,\"target_id\":292874827301502,\"type\":\"prereq\"},{\"source_id\":439910314758237,\"target_id\":292874827301502,\"type\":\"strict-coreq\"}],\"name\":\"BW 111\",\"metrics\":{},\"canonical_name\":\"\",\"nameSub\":\"Basic Basket Forms\",\"id\":292874827301502,\"credits\":1},{\"curriculum_requisites\":[{\"source_id\":407170219482275,\"target_id\":406405528546733,\"type\":\"prereq\"}],\"name\":\"BW 214\",\"metrics\":{},\"canonical_name\":\"\",\"nameSub\":\"Basket Materials & Decoration\",\"id\":406405528546733,\"credits\":1}],\"id\":2},{\"name\":\"Term 3\",\"curriculum_items\":[{\"curriculum_requisites\":[{\"source_id\":791483077951521,\"target_id\":657834944242405,\"type\":\"prereq\"},{\"source_id\":406405528546733,\"target_id\":657834944242405,\"type\":\"prereq\"}],\"name\":\"BW 301\",\"metrics\":{},\"canonical_name\":\"\",\"nameSub\":\"Underwater Weaving\",\"id\":657834944242405,\"credits\":1},{\"curriculum_requisites\":[{\"source_id\":490771672307658,\"target_id\":63040069765916,\"type\":\"prereq\"},{\"source_id\":292874827301502,\"target_id\":63040069765916,\"type\":\"prereq\"},{\"source_id\":439910314758237,\"target_id\":63040069765916,\"type\":\"prereq\"}],\"name\":\"BW 201\",\"metrics\":{},\"canonical_name\":\"\",\"nameSub\":\"Advanced Basketry\",\"id\":63040069765916,\"credits\":1}],\"id\":3}],\"institution\":\"\"}},\"*\"); window.removeEventListener(\"message\",window.messageReceived); window.messageReceived=(function (event){return (event.data.curriculum!==undefined) ? (_webIOScope.setObservableValue({\"name\":\"curriculum-data\",\"scope\":\"scope-e2541134-f225-473a-95a4-7b37da6afc81\",\"id\":\"ob_06\",\"type\":\"observable\"},event.data.curriculum)) : undefined}); return window.addEventListener(\"message\",window.messageReceived)})"
          },
          "id": "curriculum",
          "src": "http://localhost:8156",
          "style": {
           "border": "none",
           "height": "100vh",
           "margin": "0",
           "padding": "0",
           "width": "100%"
          }
         },
         "type": "node"
        }
       ],
       "instanceArgs": {
        "handlers": {},
        "id": "scope-e2541134-f225-473a-95a4-7b37da6afc81",
        "imports": {
         "data": [],
         "type": "async_block"
        },
        "observables": {
         "curriculum-data": {
          "id": "ob_06",
          "sync": true,
          "value": {
           "curriculum": {
            "curriculum_terms": [
             {
              "curriculum_items": [
               {
                "canonical_name": "",
                "credits": 1,
                "curriculum_requisites": [],
                "id": 407170219482275,
                "metrics": {},
                "name": "BW 101",
                "nameSub": "Introduction to Baskets"
               },
               {
                "canonical_name": "",
                "credits": 1,
                "curriculum_requisites": [],
                "id": 791483077951521,
                "metrics": {},
                "name": "PE 115",
                "nameSub": "Swimming"
               },
               {
                "canonical_name": "",
                "credits": 1,
                "curriculum_requisites": [],
                "id": 490771672307658,
                "metrics": {},
                "name": "MA 116",
                "nameSub": "Introductory Calculus w/ Applications"
               }
              ],
              "id": 1,
              "name": "Term 1"
             },
             {
              "curriculum_items": [
               {
                "canonical_name": "",
                "credits": 1,
                "curriculum_requisites": [],
                "id": 439910314758237,
                "metrics": {},
                "name": "BW 111L",
                "nameSub": "Basic Basket Forms Lab"
               },
               {
                "canonical_name": "",
                "credits": 1,
                "curriculum_requisites": [
                 {
                  "source_id": 407170219482275,
                  "target_id": 292874827301502,
                  "type": "prereq"
                 },
                 {
                  "source_id": 439910314758237,
                  "target_id": 292874827301502,
                  "type": "strict-coreq"
                 }
                ],
                "id": 292874827301502,
                "metrics": {},
                "name": "BW 111",
                "nameSub": "Basic Basket Forms"
               },
               {
                "canonical_name": "",
                "credits": 1,
                "curriculum_requisites": [
                 {
                  "source_id": 407170219482275,
                  "target_id": 406405528546733,
                  "type": "prereq"
                 }
                ],
                "id": 406405528546733,
                "metrics": {},
                "name": "BW 214",
                "nameSub": "Basket Materials & Decoration"
               }
              ],
              "id": 2,
              "name": "Term 2"
             },
             {
              "curriculum_items": [
               {
                "canonical_name": "",
                "credits": 1,
                "curriculum_requisites": [
                 {
                  "source_id": 791483077951521,
                  "target_id": 657834944242405,
                  "type": "prereq"
                 },
                 {
                  "source_id": 406405528546733,
                  "target_id": 657834944242405,
                  "type": "prereq"
                 }
                ],
                "id": 657834944242405,
                "metrics": {},
                "name": "BW 301",
                "nameSub": "Underwater Weaving"
               },
               {
                "canonical_name": "",
                "credits": 1,
                "curriculum_requisites": [
                 {
                  "source_id": 490771672307658,
                  "target_id": 63040069765916,
                  "type": "prereq"
                 },
                 {
                  "source_id": 292874827301502,
                  "target_id": 63040069765916,
                  "type": "prereq"
                 },
                 {
                  "source_id": 439910314758237,
                  "target_id": 63040069765916,
                  "type": "prereq"
                 }
                ],
                "id": 63040069765916,
                "metrics": {},
                "name": "BW 201",
                "nameSub": "Advanced Basketry"
               }
              ],
              "id": 3,
              "name": "Term 3"
             }
            ],
            "dp_name": "",
            "institution": "",
            "name": "Underwater Basket Weaving"
           },
           "options": {
            "edit": false,
            "hideTerms": true
           }
          }
         }
        },
        "systemjs_options": null
       },
       "nodeType": "Scope",
       "props": {},
       "type": "node"
      },
      "text/html": [
       "<div\n",
       "    class=\"webio-mountpoint\"\n",
       "    data-webio-mountpoint=\"17184721605513889837\"\n",
       ">\n",
       "    <script>\n",
       "    if (window.require && require.defined && require.defined(\"nbextensions/webio/main\")) {\n",
       "        console.log(\"Jupyter WebIO extension detected, not mounting.\");\n",
       "    } else if (window.WebIO) {\n",
       "        WebIO.mount(\n",
       "            document.querySelector('[data-webio-mountpoint=\"17184721605513889837\"]'),\n",
       "            {\"props\":{},\"nodeType\":\"Scope\",\"type\":\"node\",\"instanceArgs\":{\"imports\":{\"data\":[],\"type\":\"async_block\"},\"id\":\"scope-e2541134-f225-473a-95a4-7b37da6afc81\",\"handlers\":{},\"systemjs_options\":null,\"observables\":{\"curriculum-data\":{\"sync\":true,\"id\":\"ob_06\",\"value\":{\"options\":{\"hideTerms\":true,\"edit\":false},\"curriculum\":{\"name\":\"Underwater Basket Weaving\",\"dp_name\":\"\",\"curriculum_terms\":[{\"name\":\"Term 1\",\"curriculum_items\":[{\"curriculum_requisites\":[],\"name\":\"BW 101\",\"metrics\":{},\"canonical_name\":\"\",\"nameSub\":\"Introduction to Baskets\",\"id\":407170219482275,\"credits\":1},{\"curriculum_requisites\":[],\"name\":\"PE 115\",\"metrics\":{},\"canonical_name\":\"\",\"nameSub\":\"Swimming\",\"id\":791483077951521,\"credits\":1},{\"curriculum_requisites\":[],\"name\":\"MA 116\",\"metrics\":{},\"canonical_name\":\"\",\"nameSub\":\"Introductory Calculus w\\/ Applications\",\"id\":490771672307658,\"credits\":1}],\"id\":1},{\"name\":\"Term 2\",\"curriculum_items\":[{\"curriculum_requisites\":[],\"name\":\"BW 111L\",\"metrics\":{},\"canonical_name\":\"\",\"nameSub\":\"Basic Basket Forms Lab\",\"id\":439910314758237,\"credits\":1},{\"curriculum_requisites\":[{\"source_id\":407170219482275,\"target_id\":292874827301502,\"type\":\"prereq\"},{\"source_id\":439910314758237,\"target_id\":292874827301502,\"type\":\"strict-coreq\"}],\"name\":\"BW 111\",\"metrics\":{},\"canonical_name\":\"\",\"nameSub\":\"Basic Basket Forms\",\"id\":292874827301502,\"credits\":1},{\"curriculum_requisites\":[{\"source_id\":407170219482275,\"target_id\":406405528546733,\"type\":\"prereq\"}],\"name\":\"BW 214\",\"metrics\":{},\"canonical_name\":\"\",\"nameSub\":\"Basket Materials & Decoration\",\"id\":406405528546733,\"credits\":1}],\"id\":2},{\"name\":\"Term 3\",\"curriculum_items\":[{\"curriculum_requisites\":[{\"source_id\":791483077951521,\"target_id\":657834944242405,\"type\":\"prereq\"},{\"source_id\":406405528546733,\"target_id\":657834944242405,\"type\":\"prereq\"}],\"name\":\"BW 301\",\"metrics\":{},\"canonical_name\":\"\",\"nameSub\":\"Underwater Weaving\",\"id\":657834944242405,\"credits\":1},{\"curriculum_requisites\":[{\"source_id\":490771672307658,\"target_id\":63040069765916,\"type\":\"prereq\"},{\"source_id\":292874827301502,\"target_id\":63040069765916,\"type\":\"prereq\"},{\"source_id\":439910314758237,\"target_id\":63040069765916,\"type\":\"prereq\"}],\"name\":\"BW 201\",\"metrics\":{},\"canonical_name\":\"\",\"nameSub\":\"Advanced Basketry\",\"id\":63040069765916,\"credits\":1}],\"id\":3}],\"institution\":\"\"}}}}},\"children\":[{\"props\":{\"src\":\"http:\\/\\/localhost:8156\",\"id\":\"curriculum\",\"events\":{\"load\":\"(function (){this.contentWindow.postMessage({\\\"options\\\":{\\\"hideTerms\\\":true,\\\"edit\\\":false},\\\"curriculum\\\":{\\\"name\\\":\\\"Underwater Basket Weaving\\\",\\\"dp_name\\\":\\\"\\\",\\\"curriculum_terms\\\":[{\\\"name\\\":\\\"Term 1\\\",\\\"curriculum_items\\\":[{\\\"curriculum_requisites\\\":[],\\\"name\\\":\\\"BW 101\\\",\\\"metrics\\\":{},\\\"canonical_name\\\":\\\"\\\",\\\"nameSub\\\":\\\"Introduction to Baskets\\\",\\\"id\\\":407170219482275,\\\"credits\\\":1},{\\\"curriculum_requisites\\\":[],\\\"name\\\":\\\"PE 115\\\",\\\"metrics\\\":{},\\\"canonical_name\\\":\\\"\\\",\\\"nameSub\\\":\\\"Swimming\\\",\\\"id\\\":791483077951521,\\\"credits\\\":1},{\\\"curriculum_requisites\\\":[],\\\"name\\\":\\\"MA 116\\\",\\\"metrics\\\":{},\\\"canonical_name\\\":\\\"\\\",\\\"nameSub\\\":\\\"Introductory Calculus w\\/ Applications\\\",\\\"id\\\":490771672307658,\\\"credits\\\":1}],\\\"id\\\":1},{\\\"name\\\":\\\"Term 2\\\",\\\"curriculum_items\\\":[{\\\"curriculum_requisites\\\":[],\\\"name\\\":\\\"BW 111L\\\",\\\"metrics\\\":{},\\\"canonical_name\\\":\\\"\\\",\\\"nameSub\\\":\\\"Basic Basket Forms Lab\\\",\\\"id\\\":439910314758237,\\\"credits\\\":1},{\\\"curriculum_requisites\\\":[{\\\"source_id\\\":407170219482275,\\\"target_id\\\":292874827301502,\\\"type\\\":\\\"prereq\\\"},{\\\"source_id\\\":439910314758237,\\\"target_id\\\":292874827301502,\\\"type\\\":\\\"strict-coreq\\\"}],\\\"name\\\":\\\"BW 111\\\",\\\"metrics\\\":{},\\\"canonical_name\\\":\\\"\\\",\\\"nameSub\\\":\\\"Basic Basket Forms\\\",\\\"id\\\":292874827301502,\\\"credits\\\":1},{\\\"curriculum_requisites\\\":[{\\\"source_id\\\":407170219482275,\\\"target_id\\\":406405528546733,\\\"type\\\":\\\"prereq\\\"}],\\\"name\\\":\\\"BW 214\\\",\\\"metrics\\\":{},\\\"canonical_name\\\":\\\"\\\",\\\"nameSub\\\":\\\"Basket Materials & Decoration\\\",\\\"id\\\":406405528546733,\\\"credits\\\":1}],\\\"id\\\":2},{\\\"name\\\":\\\"Term 3\\\",\\\"curriculum_items\\\":[{\\\"curriculum_requisites\\\":[{\\\"source_id\\\":791483077951521,\\\"target_id\\\":657834944242405,\\\"type\\\":\\\"prereq\\\"},{\\\"source_id\\\":406405528546733,\\\"target_id\\\":657834944242405,\\\"type\\\":\\\"prereq\\\"}],\\\"name\\\":\\\"BW 301\\\",\\\"metrics\\\":{},\\\"canonical_name\\\":\\\"\\\",\\\"nameSub\\\":\\\"Underwater Weaving\\\",\\\"id\\\":657834944242405,\\\"credits\\\":1},{\\\"curriculum_requisites\\\":[{\\\"source_id\\\":490771672307658,\\\"target_id\\\":63040069765916,\\\"type\\\":\\\"prereq\\\"},{\\\"source_id\\\":292874827301502,\\\"target_id\\\":63040069765916,\\\"type\\\":\\\"prereq\\\"},{\\\"source_id\\\":439910314758237,\\\"target_id\\\":63040069765916,\\\"type\\\":\\\"prereq\\\"}],\\\"name\\\":\\\"BW 201\\\",\\\"metrics\\\":{},\\\"canonical_name\\\":\\\"\\\",\\\"nameSub\\\":\\\"Advanced Basketry\\\",\\\"id\\\":63040069765916,\\\"credits\\\":1}],\\\"id\\\":3}],\\\"institution\\\":\\\"\\\"}},\\\"*\\\"); window.removeEventListener(\\\"message\\\",window.messageReceived); window.messageReceived=(function (event){return (event.data.curriculum!==undefined) ? (_webIOScope.setObservableValue({\\\"name\\\":\\\"curriculum-data\\\",\\\"scope\\\":\\\"scope-e2541134-f225-473a-95a4-7b37da6afc81\\\",\\\"id\\\":\\\"ob_06\\\",\\\"type\\\":\\\"observable\\\"},event.data.curriculum)) : undefined}); return window.addEventListener(\\\"message\\\",window.messageReceived)})\"},\"style\":{\"padding\":\"0\",\"height\":\"100vh\",\"margin\":\"0\",\"border\":\"none\",\"width\":\"100%\"}},\"nodeType\":\"DOM\",\"type\":\"node\",\"instanceArgs\":{\"namespace\":\"html\",\"tag\":\"iframe\"},\"children\":[\"\"]}]},\n",
       "        );\n",
       "    } else {\n",
       "        document\n",
       "            .querySelector('[data-webio-mountpoint=\"17184721605513889837\"]')\n",
       "            .innerHTML = '<strong>WebIO not detected.</strong>';\n",
       "    }\n",
       "    </script>\n",
       "</div>\n"
      ],
      "text/plain": [
       "WebIO.Scope(\"scope-e2541134-f225-473a-95a4-7b37da6afc81\", WebIO.Node{WebIO.DOM}(WebIO.DOM(:html, :iframe), Any[\"\"], Dict{Symbol,Any}(:src=>\"http://localhost:8156\",:id=>\"curriculum\",:events=>Dict(:load=>JSString(\"(function (){this.contentWindow.postMessage({\\\"options\\\":{\\\"hideTerms\\\":true,\\\"edit\\\":false},\\\"curriculum\\\":{\\\"name\\\":\\\"Underwater Basket Weaving\\\",\\\"dp_name\\\":\\\"\\\",\\\"curriculum_terms\\\":[{\\\"name\\\":\\\"Term 1\\\",\\\"curriculum_items\\\":[{\\\"curriculum_requisites\\\":[],\\\"name\\\":\\\"BW 101\\\",\\\"metrics\\\":{},\\\"canonical_name\\\":\\\"\\\",\\\"nameSub\\\":\\\"Introduction to Baskets\\\",\\\"id\\\":407170219482275,\\\"credits\\\":1},{\\\"curriculum_requisites\\\":[],\\\"name\\\":\\\"PE 115\\\",\\\"metrics\\\":{},\\\"canonical_name\\\":\\\"\\\",\\\"nameSub\\\":\\\"Swimming\\\",\\\"id\\\":791483077951521,\\\"credits\\\":1},{\\\"curriculum_requisites\\\":[],\\\"name\\\":\\\"MA 116\\\",\\\"metrics\\\":{},\\\"canonical_name\\\":\\\"\\\",\\\"nameSub\\\":\\\"Introductory Calculus w/ Applications\\\",\\\"id\\\":490771672307658,\\\"credits\\\":1}],\\\"id\\\":1},{\\\"name\\\":\\\"Term 2\\\",\\\"curriculum_items\\\":[{\\\"curriculum_requisites\\\":[],\\\"name\\\":\\\"BW 111L\\\",\\\"metrics\\\":{},\\\"canonical_name\\\":\\\"\\\",\\\"nameSub\\\":\\\"Basic Basket Forms Lab\\\",\\\"id\\\":439910314758237,\\\"credits\\\":1},{\\\"curriculum_requisites\\\":[{\\\"source_id\\\":407170219482275,\\\"target_id\\\":292874827301502,\\\"type\\\":\\\"prereq\\\"},{\\\"source_id\\\":439910314758237,\\\"target_id\\\":292874827301502,\\\"type\\\":\\\"strict-coreq\\\"}],\\\"name\\\":\\\"BW 111\\\",\\\"metrics\\\":{},\\\"canonical_name\\\":\\\"\\\",\\\"nameSub\\\":\\\"Basic Basket Forms\\\",\\\"id\\\":292874827301502,\\\"credits\\\":1},{\\\"curriculum_requisites\\\":[{\\\"source_id\\\":407170219482275,\\\"target_id\\\":406405528546733,\\\"type\\\":\\\"prereq\\\"}],\\\"name\\\":\\\"BW 214\\\",\\\"metrics\\\":{},\\\"canonical_name\\\":\\\"\\\",\\\"nameSub\\\":\\\"Basket Materials & Decoration\\\",\\\"id\\\":406405528546733,\\\"credits\\\":1}],\\\"id\\\":2},{\\\"name\\\":\\\"Term 3\\\",\\\"curriculum_items\\\":[{\\\"curriculum_requisites\\\":[{\\\"source_id\\\":791483077951521,\\\"target_id\\\":657834944242405,\\\"type\\\":\\\"prereq\\\"},{\\\"source_id\\\":406405528546733,\\\"target_id\\\":657834944242405,\\\"type\\\":\\\"prereq\\\"}],\\\"name\\\":\\\"BW 301\\\",\\\"metrics\\\":{},\\\"canonical_name\\\":\\\"\\\",\\\"nameSub\\\":\\\"Underwater Weaving\\\",\\\"id\\\":657834944242405,\\\"credits\\\":1},{\\\"curriculum_requisites\\\":[{\\\"source_id\\\":490771672307658,\\\"target_id\\\":63040069765916,\\\"type\\\":\\\"prereq\\\"},{\\\"source_id\\\":292874827301502,\\\"target_id\\\":63040069765916,\\\"type\\\":\\\"prereq\\\"},{\\\"source_id\\\":439910314758237,\\\"target_id\\\":63040069765916,\\\"type\\\":\\\"prereq\\\"}],\\\"name\\\":\\\"BW 201\\\",\\\"metrics\\\":{},\\\"canonical_name\\\":\\\"\\\",\\\"nameSub\\\":\\\"Advanced Basketry\\\",\\\"id\\\":63040069765916,\\\"credits\\\":1}],\\\"id\\\":3}],\\\"institution\\\":\\\"\\\"}},\\\"*\\\"); window.removeEventListener(\\\"message\\\",window.messageReceived); window.messageReceived=(function (event){return (event.data.curriculum!==undefined) ? (_webIOScope.setObservableValue({\\\"name\\\":\\\"curriculum-data\\\",\\\"scope\\\":\\\"scope-e2541134-f225-473a-95a4-7b37da6afc81\\\",\\\"id\\\":\\\"ob_06\\\",\\\"type\\\":\\\"observable\\\"},event.data.curriculum)) : undefined}); return window.addEventListener(\\\"message\\\",window.messageReceived)})\")),:style=>Dict(:padding=>\"0\",:height=>\"100vh\",:margin=>\"0\",:border=>\"none\",:width=>\"100%\")), 1), Dict{String,Tuple{Observables.AbstractObservable,Union{Nothing, Bool}}}(\"curriculum-data\"=>(Observable{Dict{String,Any}} with 1 listeners. Value:\n",
       "Dict{String,Any}(\"options\"=>Dict{String,Any}(\"hideTerms\"=>true,\"edit\"=>false),\"curriculum\"=>Dict{String,Any}(\"name\"=>\"Underwater Basket Weaving\",\"dp_name\"=>\"\",\"curriculum_terms\"=>Dict{String,Any}[Dict(\"name\"=>\"Term 1\",\"curriculum_items\"=>Dict{String,Any}[Dict(\"curriculum_requisites\"=>Dict{String,Any}[],\"name\"=>\"BW 101\",\"metrics\"=>Dict{String,Any}(),\"canonical_name\"=>\"\",\"nameSub\"=>\"Introduction to Baskets\",\"id\"=>407170219482275,\"credits\"=>1), Dict(\"curriculum_requisites\"=>Dict{String,Any}[],\"name\"=>\"PE 115\",\"metrics\"=>Dict{String,Any}(),\"canonical_name\"=>\"\",\"nameSub\"=>\"Swimming\",\"id\"=>791483077951521,\"credits\"=>1), Dict(\"curriculum_requisites\"=>Dict{String,Any}[],\"name\"=>\"MA 116\",\"metrics\"=>Dict{String,Any}(),\"canonical_name\"=>\"\",\"nameSub\"=>\"Introductory Calculus w/ Applications\",\"id\"=>490771672307658,\"credits\"=>1)],\"id\"=>1), Dict(\"name\"=>\"Term 2\",\"curriculum_items\"=>Dict{String,Any}[Dict(\"curriculum_requisites\"=>Dict{String,Any}[],\"name\"=>\"BW 111L\",\"metrics\"=>Dict{String,Any}(),\"canonical_name\"=>\"\",\"nameSub\"=>\"Basic Basket Forms Lab\",\"id\"=>439910314758237,\"credits\"=>1), Dict(\"curriculum_requisites\"=>Dict{String,Any}[Dict(\"source_id\"=>407170219482275,\"target_id\"=>292874827301502,\"type\"=>\"prereq\"), Dict(\"source_id\"=>439910314758237,\"target_id\"=>292874827301502,\"type\"=>\"strict-coreq\")],\"name\"=>\"BW 111\",\"metrics\"=>Dict{String,Any}(),\"canonical_name\"=>\"\",\"nameSub\"=>\"Basic Basket Forms\",\"id\"=>292874827301502,\"credits\"=>1), Dict(\"curriculum_requisites\"=>Dict{String,Any}[Dict(\"source_id\"=>407170219482275,\"target_id\"=>406405528546733,\"type\"=>\"prereq\")],\"name\"=>\"BW 214\",\"metrics\"=>Dict{String,Any}(),\"canonical_name\"=>\"\",\"nameSub\"=>\"Basket Materials & Decoration\",\"id\"=>406405528546733,\"credits\"=>1)],\"id\"=>2), Dict(\"name\"=>\"Term 3\",\"curriculum_items\"=>Dict{String,Any}[Dict(\"curriculum_requisites\"=>Dict{String,Any}[Dict(\"source_id\"=>791483077951521,\"target_id\"=>657834944242405,\"type\"=>\"prereq\"), Dict(\"source_id\"=>406405528546733,\"target_id\"=>657834944242405,\"type\"=>\"prereq\")],\"name\"=>\"BW 301\",\"metrics\"=>Dict{String,Any}(),\"canonical_name\"=>\"\",\"nameSub\"=>\"Underwater Weaving\",\"id\"=>657834944242405,\"credits\"=>1), Dict(\"curriculum_requisites\"=>Dict{String,Any}[Dict(\"source_id\"=>490771672307658,\"target_id\"=>63040069765916,\"type\"=>\"prereq\"), Dict(\"source_id\"=>292874827301502,\"target_id\"=>63040069765916,\"type\"=>\"prereq\"), Dict(\"source_id\"=>439910314758237,\"target_id\"=>63040069765916,\"type\"=>\"prereq\")],\"name\"=>\"BW 201\",\"metrics\"=>Dict{String,Any}(),\"canonical_name\"=>\"\",\"nameSub\"=>\"Advanced Basketry\",\"id\"=>63040069765916,\"credits\"=>1)],\"id\"=>3)],\"institution\"=>\"\")), nothing)), Set(String[]), nothing, Any[], Dict{Any,Any}(), WebIO.ConnectionPool(Channel{Any}(sz_max:9223372036854775807,sz_curr:0), Set(WebIO.AbstractConnection[]), Channel{WebIO.AbstractConnection}(sz_max:32,sz_curr:0)))"
      ]
     },
     "execution_count": 7,
     "metadata": {
      "application/vnd.webio.node+json": {
       "kernelId": "fc3463b8-2aee-44cc-836b-de329e64ef80"
      }
     },
     "output_type": "execute_result"
    }
   ],
   "source": [
    "out = read_csv_new(\"examples/UBW_curriculum2.csv\")\n",
    "#write_csv(out)\n",
    "visualize(out, changed=update_plan , edit=false, notebook=true, \n",
    "    show_blocking_factor=false, show_delay_factor=false,\n",
    "    show_centrality=false, show_complexity = false)"
   ]
  },
  {
   "cell_type": "code",
   "execution_count": null,
   "metadata": {
    "collapsed": true
   },
   "outputs": [],
   "source": []
  }
 ],
 "metadata": {
  "@webio": {
   "lastCommId": "B28E0645E7A84FE6BC69486CEF0B803F",
   "lastKernelId": "fc3463b8-2aee-44cc-836b-de329e64ef80"
  },
  "kernelspec": {
   "display_name": "Julia 1.0.0",
   "language": "julia",
   "name": "julia-1.0"
  },
  "language_info": {
   "file_extension": ".jl",
   "mimetype": "application/julia",
   "name": "julia",
   "version": "1.0.0"
  }
 },
 "nbformat": 4,
 "nbformat_minor": 2
}

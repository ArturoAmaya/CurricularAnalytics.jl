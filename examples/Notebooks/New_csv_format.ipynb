{
 "cells": [
  {
   "cell_type": "code",
   "execution_count": 1,
   "metadata": {},
   "outputs": [
    {
     "name": "stdout",
     "output_type": "stream",
     "text": [
      "Current directory: CurricularAnalytics.jl\n"
     ]
    },
    {
     "name": "stderr",
     "output_type": "stream",
     "text": [
      "┌ Info: Recompiling stale cache file C:\\Users\\orhan\\.julia\\compiled\\v1.0\\CurricularAnalytics\\KKMY9.ji for CurricularAnalytics [b915a5b0-c40e-11e8-3dab-39a55ab5c2f7]\n",
      "└ @ Base loading.jl:1187\n"
     ]
    },
    {
     "data": {
      "text/html": [
       "    <script id=\"webio-setup-18021419779377355092\">\n",
       "    // Immediately-invoked-function-expression to avoid global variables.\n",
       "    (function() {\n",
       "        var warning_div = document.getElementById(\"webio-warning-13395609926368672586\");\n",
       "        var hide = function () {\n",
       "            var script = document.getElementById(\"webio-setup-18021419779377355092\");\n",
       "            var parent = script && script.parentElement;\n",
       "            var grandparent = parent && parent.parentElement;\n",
       "            if (grandparent) {\n",
       "                grandparent.style.display = \"none\";\n",
       "            }\n",
       "            warning_div.style.display = \"none\";\n",
       "        };\n",
       "        if (window.require && require.defined) {\n",
       "            // Jupyter notebook.\n",
       "            if (require.defined(\"nbextensions/webio/main\")\n",
       "                    || require.defined(\"/assetserver/15060f7913bd455b6698e8bd1357ce9c6553b0bb-dist/main.js\")) {\n",
       "                // Extension already loaded.\n",
       "                hide();\n",
       "                return;\n",
       "            }\n",
       "            console.warn(\"Loading WebIO Jupyter extension on an ad-hoc basis. Consider enabling the WebIO nbextension for a stabler experience (this should happen automatically when building WebIO).\");\n",
       "            require([\"/assetserver/15060f7913bd455b6698e8bd1357ce9c6553b0bb-dist/main.js\"], function (webIOModule) {\n",
       "                webIOModule.load_ipython_extension();\n",
       "            });\n",
       "            warning_div.innerHTML = \"<strong>Loading WebIO Jupyter extension on an ad-hoc basis. Consider enabling the WebIO nbextension for a stabler experience (this should happen automatically when building WebIO).</strong>\";\n",
       "        } else if (window.location.pathname.includes(\"/lab\")) {\n",
       "            // Guessing JupyterLab\n",
       "            warning_div.innerHTML = \"WebIO does not support JupyterLab yet.\";\n",
       "        }\n",
       "    })();\n",
       "    </script>\n",
       "    <div\n",
       "        id=\"webio-warning-13395609926368672586\"\n",
       "        class=\"output_text output_stderr\"\n",
       "        style=\"padding: 1em; font-weight: bold;\"\n",
       "    >\n",
       "        Unable to load WebIO. Please make sure WebIO works for your Jupyter client.\n",
       "        <!-- TODO: link to installation docs. -->\n",
       "    </div>\n"
      ],
      "text/plain": [
       "HTML{String}(\"    <script id=\\\"webio-setup-18021419779377355092\\\">\\n    // Immediately-invoked-function-expression to avoid global variables.\\n    (function() {\\n        var warning_div = document.getElementById(\\\"webio-warning-13395609926368672586\\\");\\n        var hide = function () {\\n            var script = document.getElementById(\\\"webio-setup-18021419779377355092\\\");\\n            var parent = script && script.parentElement;\\n            var grandparent = parent && parent.parentElement;\\n            if (grandparent) {\\n                grandparent.style.display = \\\"none\\\";\\n            }\\n            warning_div.style.display = \\\"none\\\";\\n        };\\n        if (window.require && require.defined) {\\n            // Jupyter notebook.\\n            if (require.defined(\\\"nbextensions/webio/main\\\")\\n                    || require.defined(\\\"/assetserver/15060f7913bd455b6698e8bd1357ce9c6553b0bb-dist/main.js\\\")) {\\n                // Extension already loaded.\\n                hide();\\n                return;\\n            }\\n            console.warn(\\\"Loading WebIO Jupyter extension on an ad-hoc basis. Consider enabling the WebIO nbextension for a stabler experience (this should happen automatically when building WebIO).\\\");\\n            require([\\\"/assetserver/15060f7913bd455b6698e8bd1357ce9c6553b0bb-dist/main.js\\\"], function (webIOModule) {\\n                webIOModule.load_ipython_extension();\\n            });\\n            warning_div.innerHTML = \\\"<strong>Loading WebIO Jupyter extension on an ad-hoc basis. Consider enabling the WebIO nbextension for a stabler experience (this should happen automatically when building WebIO).</strong>\\\";\\n        } else if (window.location.pathname.includes(\\\"/lab\\\")) {\\n            // Guessing JupyterLab\\n            warning_div.innerHTML = \\\"WebIO does not support JupyterLab yet.\\\";\\n        }\\n    })();\\n    </script>\\n    <div\\n        id=\\\"webio-warning-13395609926368672586\\\"\\n        class=\\\"output_text output_stderr\\\"\\n        style=\\\"padding: 1em; font-weight: bold;\\\"\\n    >\\n        Unable to load WebIO. Please make sure WebIO works for your Jupyter client.\\n        <!-- TODO: link to installation docs. -->\\n    </div>\\n\")"
      ]
     },
     "metadata": {},
     "output_type": "display_data"
    }
   ],
   "source": [
    "if split(pwd(),Base.Filesystem.path_separator)[end] != \"CurricularAnalytics.jl\"\n",
    "    cd(\"../..\")\n",
    "end\n",
    "println(\"Current directory: \" * split(pwd(),\"\\\\\")[end])\n",
    "using Pkg\n",
    "pkg\"activate .\"\n",
    "using CurricularAnalytics"
   ]
  },
  {
   "cell_type": "code",
   "execution_count": 2,
   "metadata": {
    "scrolled": false
   },
   "outputs": [
    {
     "name": "stderr",
     "output_type": "stream",
     "text": [
      "┌ Info: Listening on: Sockets.InetAddr{Sockets.IPv4}(ip\"127.0.0.1\", 0x1fdc)\n",
      "└ @ HTTP.Servers C:\\Users\\orhan\\.julia\\packages\\HTTP\\YjRCz\\src\\Servers.jl:301\n"
     ]
    },
    {
     "data": {
      "text/plain": [
       "Blink.AtomShell.Window(1, Blink.AtomShell.Electron(Process(`\u001b[4m'C:\\Users\\orhan\\.julia\\packages\\Blink\\vKGzM\\deps\\atom\\electron.exe'\u001b[24m \u001b[4m'C:\\Users\\orhan\\.julia\\packages\\Blink\\vKGzM\\src\\AtomShell\\main.js'\u001b[24m \u001b[4mport\u001b[24m \u001b[4m7848\u001b[24m`, ProcessRunning), Sockets.TCPSocket(Base.Libc.WindowsRawSocket(0x0000000000000488) active, 0 bytes waiting), Dict{String,Any}(\"callback\"=>##1#2())), Blink.Page(1, WebSockets.WebSocket{Sockets.TCPSocket}(Sockets.TCPSocket(Base.Libc.WindowsRawSocket(0x0000000000000494) active, 0 bytes waiting), true, CONNECTED::ReadyState = 1), Dict{String,Any}(\"webio\"=>##95#96{BlinkConnection}(BlinkConnection(Page(#= circular reference @-4 =#))),\"callback\"=>##1#2()), Distributed.Future(1, 1, 1, Some(true))))"
      ]
     },
     "execution_count": 2,
     "metadata": {},
     "output_type": "execute_result"
    },
    {
     "name": "stderr",
     "output_type": "stream",
     "text": [
      "┌ Info: Accept (0):  🔗    0↑     0↓    0s 127.0.0.1:8156:8156 ≣16\n",
      "└ @ HTTP.Servers C:\\Users\\orhan\\.julia\\packages\\HTTP\\YjRCz\\src\\Servers.jl:343\n",
      "┌ Info: Accept (1):  🔗    0↑     0↓    0s 127.0.0.1:8156:8156 ≣16\n",
      "└ @ HTTP.Servers C:\\Users\\orhan\\.julia\\packages\\HTTP\\YjRCz\\src\\Servers.jl:343\n"
     ]
    }
   ],
   "source": [
    "out = read_csv_new(\"examples\\\\WSU-EE-CalcReady.csv\")\n",
    "#visualize(out, notebook=true)\n",
    "visualize(out , changed=update_plan, edit=true, notebook=false)"
   ]
  },
  {
   "cell_type": "code",
   "execution_count": 3,
   "metadata": {
    "scrolled": false
   },
   "outputs": [
    {
     "name": "stderr",
     "output_type": "stream",
     "text": [
      "┌ Info: Accept (2):  🔗    0↑     0↓    0s 127.0.0.1:8156:8156 ≣16\n",
      "└ @ HTTP.Servers C:\\Users\\orhan\\.julia\\packages\\HTTP\\YjRCz\\src\\Servers.jl:343\n",
      "┌ Info: Accept (3):  🔗    0↑     0↓    0s 127.0.0.1:8156:8156 ≣16\n",
      "└ @ HTTP.Servers C:\\Users\\orhan\\.julia\\packages\\HTTP\\YjRCz\\src\\Servers.jl:343\n",
      "┌ Info: Accept (4):  🔗    0↑     0↓    0s 127.0.0.1:8156:8156 ≣16\n",
      "└ @ HTTP.Servers C:\\Users\\orhan\\.julia\\packages\\HTTP\\YjRCz\\src\\Servers.jl:343\n"
     ]
    },
    {
     "data": {
      "application/vnd.webio.node+json": {
       "children": [
        {
         "children": [
          ""
         ],
         "instanceArgs": {
          "namespace": "html",
          "tag": "iframe"
         },
         "nodeType": "DOM",
         "props": {
          "events": {
           "load": "(function (){this.contentWindow.postMessage({\"options\":{\"hideTerms\":false,\"edit\":false},\"curriculum\":{\"name\":\"Underwater Basket Weaving\",\"dp_name\":\"\",\"curriculum_terms\":[{\"name\":\"Term 1\",\"curriculum_items\":[{\"curriculum_requisites\":[],\"name\":\"BW 101\",\"metrics\":{\"centrality\":0,\"complexity\":7.0,\"blocking factor\":4,\"delay factor\":3.0},\"nameSub\":\"Introduction to Baskets\",\"id\":101538259090793,\"credits\":3},{\"curriculum_requisites\":[],\"name\":\"PE 115\",\"metrics\":{\"centrality\":0,\"complexity\":3.0,\"blocking factor\":1,\"delay factor\":2.0},\"nameSub\":\"Swimming\",\"id\":721507244426560,\"credits\":3},{\"curriculum_requisites\":[],\"name\":\"MA 116\",\"metrics\":{\"centrality\":0,\"complexity\":3.0,\"blocking factor\":1,\"delay factor\":2.0},\"nameSub\":\"Introductory Calculus w/ Applications\",\"id\":768111125205084,\"credits\":4}],\"id\":1},{\"name\":\"Term 2\",\"curriculum_items\":[{\"curriculum_requisites\":[{\"source_id\":101538259090793,\"target_id\":201091070257584,\"type\":\"prereq\"},{\"source_id\":612340946920079,\"target_id\":201091070257584,\"type\":\"strict-coreq\"}],\"name\":\"BW 111\",\"metrics\":{\"centrality\":6,\"complexity\":4.0,\"blocking factor\":1,\"delay factor\":3.0},\"nameSub\":\"Basic Basket Forms\",\"id\":201091070257584,\"credits\":3},{\"curriculum_requisites\":[],\"name\":\"BW 111L\",\"metrics\":{\"centrality\":0,\"complexity\":5.0,\"blocking factor\":2,\"delay factor\":3.0},\"nameSub\":\"Basic Basket Forms Lab\",\"id\":612340946920079,\"credits\":1},{\"curriculum_requisites\":[{\"source_id\":612340946920079,\"target_id\":848085183490711,\"type\":\"prereq\"},{\"source_id\":768111125205084,\"target_id\":848085183490711,\"type\":\"prereq\"},{\"source_id\":201091070257584,\"target_id\":848085183490711,\"type\":\"prereq\"}],\"name\":\"BW 201\",\"metrics\":{\"centrality\":0,\"complexity\":3.0,\"blocking factor\":0,\"delay factor\":3.0},\"nameSub\":\"Advanced Basketry\",\"id\":848085183490711,\"credits\":3}],\"id\":2},{\"name\":\"Term 3\",\"curriculum_items\":[{\"curriculum_requisites\":[{\"source_id\":101538259090793,\"target_id\":623082476648903,\"type\":\"prereq\"}],\"name\":\"BW 214\",\"metrics\":{\"centrality\":3,\"complexity\":4.0,\"blocking factor\":1,\"delay factor\":3.0},\"nameSub\":\"Basket Materials & Decoration\",\"id\":623082476648903,\"credits\":3},{\"curriculum_requisites\":[{\"source_id\":623082476648903,\"target_id\":631963679928462,\"type\":\"prereq\"},{\"source_id\":721507244426560,\"target_id\":631963679928462,\"type\":\"prereq\"}],\"name\":\"BW 301\",\"metrics\":{\"centrality\":0,\"complexity\":3.0,\"blocking factor\":0,\"delay factor\":3.0},\"nameSub\":\"Underwater Weaving\",\"id\":631963679928462,\"credits\":3}],\"id\":3}],\"institution\":\"\"}},\"*\"); window.removeEventListener(\"message\",window.messageReceived); window.messageReceived=(function (event){return (event.data.curriculum!==undefined) ? (_webIOScope.setObservableValue({\"name\":\"curriculum-data\",\"scope\":\"scope-6b62f440-1a20-42ff-9866-70911e652948\",\"id\":\"ob_02\",\"type\":\"observable\"},event.data.curriculum)) : undefined}); return window.addEventListener(\"message\",window.messageReceived)})"
          },
          "id": "curriculum",
          "src": "http://localhost:8156",
          "style": {
           "border": "none",
           "height": "100vh",
           "margin": "0",
           "padding": "0",
           "width": "100%"
          }
         },
         "type": "node"
        }
       ],
       "instanceArgs": {
        "handlers": {},
        "id": "scope-6b62f440-1a20-42ff-9866-70911e652948",
        "imports": {
         "data": [],
         "type": "async_block"
        },
        "observables": {
         "curriculum-data": {
          "id": "ob_02",
          "sync": true,
          "value": {
           "curriculum": {
            "curriculum_terms": [
             {
              "curriculum_items": [
               {
                "credits": 3,
                "curriculum_requisites": [],
                "id": 101538259090793,
                "metrics": {
                 "blocking factor": 4,
                 "centrality": 0,
                 "complexity": 7,
                 "delay factor": 3
                },
                "name": "BW 101",
                "nameSub": "Introduction to Baskets"
               },
               {
                "credits": 3,
                "curriculum_requisites": [],
                "id": 721507244426560,
                "metrics": {
                 "blocking factor": 1,
                 "centrality": 0,
                 "complexity": 3,
                 "delay factor": 2
                },
                "name": "PE 115",
                "nameSub": "Swimming"
               },
               {
                "credits": 4,
                "curriculum_requisites": [],
                "id": 768111125205084,
                "metrics": {
                 "blocking factor": 1,
                 "centrality": 0,
                 "complexity": 3,
                 "delay factor": 2
                },
                "name": "MA 116",
                "nameSub": "Introductory Calculus w/ Applications"
               }
              ],
              "id": 1,
              "name": "Term 1"
             },
             {
              "curriculum_items": [
               {
                "credits": 3,
                "curriculum_requisites": [
                 {
                  "source_id": 101538259090793,
                  "target_id": 201091070257584,
                  "type": "prereq"
                 },
                 {
                  "source_id": 612340946920079,
                  "target_id": 201091070257584,
                  "type": "strict-coreq"
                 }
                ],
                "id": 201091070257584,
                "metrics": {
                 "blocking factor": 1,
                 "centrality": 6,
                 "complexity": 4,
                 "delay factor": 3
                },
                "name": "BW 111",
                "nameSub": "Basic Basket Forms"
               },
               {
                "credits": 1,
                "curriculum_requisites": [],
                "id": 612340946920079,
                "metrics": {
                 "blocking factor": 2,
                 "centrality": 0,
                 "complexity": 5,
                 "delay factor": 3
                },
                "name": "BW 111L",
                "nameSub": "Basic Basket Forms Lab"
               },
               {
                "credits": 3,
                "curriculum_requisites": [
                 {
                  "source_id": 612340946920079,
                  "target_id": 848085183490711,
                  "type": "prereq"
                 },
                 {
                  "source_id": 768111125205084,
                  "target_id": 848085183490711,
                  "type": "prereq"
                 },
                 {
                  "source_id": 201091070257584,
                  "target_id": 848085183490711,
                  "type": "prereq"
                 }
                ],
                "id": 848085183490711,
                "metrics": {
                 "blocking factor": 0,
                 "centrality": 0,
                 "complexity": 3,
                 "delay factor": 3
                },
                "name": "BW 201",
                "nameSub": "Advanced Basketry"
               }
              ],
              "id": 2,
              "name": "Term 2"
             },
             {
              "curriculum_items": [
               {
                "credits": 3,
                "curriculum_requisites": [
                 {
                  "source_id": 101538259090793,
                  "target_id": 623082476648903,
                  "type": "prereq"
                 }
                ],
                "id": 623082476648903,
                "metrics": {
                 "blocking factor": 1,
                 "centrality": 3,
                 "complexity": 4,
                 "delay factor": 3
                },
                "name": "BW 214",
                "nameSub": "Basket Materials & Decoration"
               },
               {
                "credits": 3,
                "curriculum_requisites": [
                 {
                  "source_id": 623082476648903,
                  "target_id": 631963679928462,
                  "type": "prereq"
                 },
                 {
                  "source_id": 721507244426560,
                  "target_id": 631963679928462,
                  "type": "prereq"
                 }
                ],
                "id": 631963679928462,
                "metrics": {
                 "blocking factor": 0,
                 "centrality": 0,
                 "complexity": 3,
                 "delay factor": 3
                },
                "name": "BW 301",
                "nameSub": "Underwater Weaving"
               }
              ],
              "id": 3,
              "name": "Term 3"
             }
            ],
            "dp_name": "",
            "institution": "",
            "name": "Underwater Basket Weaving"
           },
           "options": {
            "edit": false,
            "hideTerms": false
           }
          }
         }
        },
        "systemjs_options": null
       },
       "nodeType": "Scope",
       "props": {},
       "type": "node"
      },
      "text/html": [
       "<div\n",
       "    class=\"webio-mountpoint\"\n",
       "    data-webio-mountpoint=\"1637116586244997160\"\n",
       ">\n",
       "    <script>\n",
       "    if (window.require && require.defined && require.defined(\"nbextensions/webio/main\")) {\n",
       "        console.log(\"Jupyter WebIO extension detected, not mounting.\");\n",
       "    } else if (window.WebIO) {\n",
       "        WebIO.mount(\n",
       "            document.querySelector('[data-webio-mountpoint=\"1637116586244997160\"]'),\n",
       "            {\"props\":{},\"nodeType\":\"Scope\",\"type\":\"node\",\"instanceArgs\":{\"imports\":{\"data\":[],\"type\":\"async_block\"},\"id\":\"scope-6b62f440-1a20-42ff-9866-70911e652948\",\"handlers\":{},\"systemjs_options\":null,\"observables\":{\"curriculum-data\":{\"sync\":true,\"id\":\"ob_02\",\"value\":{\"options\":{\"hideTerms\":false,\"edit\":false},\"curriculum\":{\"name\":\"Underwater Basket Weaving\",\"dp_name\":\"\",\"curriculum_terms\":[{\"name\":\"Term 1\",\"curriculum_items\":[{\"curriculum_requisites\":[],\"name\":\"BW 101\",\"metrics\":{\"centrality\":0,\"complexity\":7.0,\"blocking factor\":4,\"delay factor\":3.0},\"nameSub\":\"Introduction to Baskets\",\"id\":101538259090793,\"credits\":3},{\"curriculum_requisites\":[],\"name\":\"PE 115\",\"metrics\":{\"centrality\":0,\"complexity\":3.0,\"blocking factor\":1,\"delay factor\":2.0},\"nameSub\":\"Swimming\",\"id\":721507244426560,\"credits\":3},{\"curriculum_requisites\":[],\"name\":\"MA 116\",\"metrics\":{\"centrality\":0,\"complexity\":3.0,\"blocking factor\":1,\"delay factor\":2.0},\"nameSub\":\"Introductory Calculus w\\/ Applications\",\"id\":768111125205084,\"credits\":4}],\"id\":1},{\"name\":\"Term 2\",\"curriculum_items\":[{\"curriculum_requisites\":[{\"source_id\":101538259090793,\"target_id\":201091070257584,\"type\":\"prereq\"},{\"source_id\":612340946920079,\"target_id\":201091070257584,\"type\":\"strict-coreq\"}],\"name\":\"BW 111\",\"metrics\":{\"centrality\":6,\"complexity\":4.0,\"blocking factor\":1,\"delay factor\":3.0},\"nameSub\":\"Basic Basket Forms\",\"id\":201091070257584,\"credits\":3},{\"curriculum_requisites\":[],\"name\":\"BW 111L\",\"metrics\":{\"centrality\":0,\"complexity\":5.0,\"blocking factor\":2,\"delay factor\":3.0},\"nameSub\":\"Basic Basket Forms Lab\",\"id\":612340946920079,\"credits\":1},{\"curriculum_requisites\":[{\"source_id\":612340946920079,\"target_id\":848085183490711,\"type\":\"prereq\"},{\"source_id\":768111125205084,\"target_id\":848085183490711,\"type\":\"prereq\"},{\"source_id\":201091070257584,\"target_id\":848085183490711,\"type\":\"prereq\"}],\"name\":\"BW 201\",\"metrics\":{\"centrality\":0,\"complexity\":3.0,\"blocking factor\":0,\"delay factor\":3.0},\"nameSub\":\"Advanced Basketry\",\"id\":848085183490711,\"credits\":3}],\"id\":2},{\"name\":\"Term 3\",\"curriculum_items\":[{\"curriculum_requisites\":[{\"source_id\":101538259090793,\"target_id\":623082476648903,\"type\":\"prereq\"}],\"name\":\"BW 214\",\"metrics\":{\"centrality\":3,\"complexity\":4.0,\"blocking factor\":1,\"delay factor\":3.0},\"nameSub\":\"Basket Materials & Decoration\",\"id\":623082476648903,\"credits\":3},{\"curriculum_requisites\":[{\"source_id\":623082476648903,\"target_id\":631963679928462,\"type\":\"prereq\"},{\"source_id\":721507244426560,\"target_id\":631963679928462,\"type\":\"prereq\"}],\"name\":\"BW 301\",\"metrics\":{\"centrality\":0,\"complexity\":3.0,\"blocking factor\":0,\"delay factor\":3.0},\"nameSub\":\"Underwater Weaving\",\"id\":631963679928462,\"credits\":3}],\"id\":3}],\"institution\":\"\"}}}}},\"children\":[{\"props\":{\"src\":\"http:\\/\\/localhost:8156\",\"id\":\"curriculum\",\"events\":{\"load\":\"(function (){this.contentWindow.postMessage({\\\"options\\\":{\\\"hideTerms\\\":false,\\\"edit\\\":false},\\\"curriculum\\\":{\\\"name\\\":\\\"Underwater Basket Weaving\\\",\\\"dp_name\\\":\\\"\\\",\\\"curriculum_terms\\\":[{\\\"name\\\":\\\"Term 1\\\",\\\"curriculum_items\\\":[{\\\"curriculum_requisites\\\":[],\\\"name\\\":\\\"BW 101\\\",\\\"metrics\\\":{\\\"centrality\\\":0,\\\"complexity\\\":7.0,\\\"blocking factor\\\":4,\\\"delay factor\\\":3.0},\\\"nameSub\\\":\\\"Introduction to Baskets\\\",\\\"id\\\":101538259090793,\\\"credits\\\":3},{\\\"curriculum_requisites\\\":[],\\\"name\\\":\\\"PE 115\\\",\\\"metrics\\\":{\\\"centrality\\\":0,\\\"complexity\\\":3.0,\\\"blocking factor\\\":1,\\\"delay factor\\\":2.0},\\\"nameSub\\\":\\\"Swimming\\\",\\\"id\\\":721507244426560,\\\"credits\\\":3},{\\\"curriculum_requisites\\\":[],\\\"name\\\":\\\"MA 116\\\",\\\"metrics\\\":{\\\"centrality\\\":0,\\\"complexity\\\":3.0,\\\"blocking factor\\\":1,\\\"delay factor\\\":2.0},\\\"nameSub\\\":\\\"Introductory Calculus w\\/ Applications\\\",\\\"id\\\":768111125205084,\\\"credits\\\":4}],\\\"id\\\":1},{\\\"name\\\":\\\"Term 2\\\",\\\"curriculum_items\\\":[{\\\"curriculum_requisites\\\":[{\\\"source_id\\\":101538259090793,\\\"target_id\\\":201091070257584,\\\"type\\\":\\\"prereq\\\"},{\\\"source_id\\\":612340946920079,\\\"target_id\\\":201091070257584,\\\"type\\\":\\\"strict-coreq\\\"}],\\\"name\\\":\\\"BW 111\\\",\\\"metrics\\\":{\\\"centrality\\\":6,\\\"complexity\\\":4.0,\\\"blocking factor\\\":1,\\\"delay factor\\\":3.0},\\\"nameSub\\\":\\\"Basic Basket Forms\\\",\\\"id\\\":201091070257584,\\\"credits\\\":3},{\\\"curriculum_requisites\\\":[],\\\"name\\\":\\\"BW 111L\\\",\\\"metrics\\\":{\\\"centrality\\\":0,\\\"complexity\\\":5.0,\\\"blocking factor\\\":2,\\\"delay factor\\\":3.0},\\\"nameSub\\\":\\\"Basic Basket Forms Lab\\\",\\\"id\\\":612340946920079,\\\"credits\\\":1},{\\\"curriculum_requisites\\\":[{\\\"source_id\\\":612340946920079,\\\"target_id\\\":848085183490711,\\\"type\\\":\\\"prereq\\\"},{\\\"source_id\\\":768111125205084,\\\"target_id\\\":848085183490711,\\\"type\\\":\\\"prereq\\\"},{\\\"source_id\\\":201091070257584,\\\"target_id\\\":848085183490711,\\\"type\\\":\\\"prereq\\\"}],\\\"name\\\":\\\"BW 201\\\",\\\"metrics\\\":{\\\"centrality\\\":0,\\\"complexity\\\":3.0,\\\"blocking factor\\\":0,\\\"delay factor\\\":3.0},\\\"nameSub\\\":\\\"Advanced Basketry\\\",\\\"id\\\":848085183490711,\\\"credits\\\":3}],\\\"id\\\":2},{\\\"name\\\":\\\"Term 3\\\",\\\"curriculum_items\\\":[{\\\"curriculum_requisites\\\":[{\\\"source_id\\\":101538259090793,\\\"target_id\\\":623082476648903,\\\"type\\\":\\\"prereq\\\"}],\\\"name\\\":\\\"BW 214\\\",\\\"metrics\\\":{\\\"centrality\\\":3,\\\"complexity\\\":4.0,\\\"blocking factor\\\":1,\\\"delay factor\\\":3.0},\\\"nameSub\\\":\\\"Basket Materials & Decoration\\\",\\\"id\\\":623082476648903,\\\"credits\\\":3},{\\\"curriculum_requisites\\\":[{\\\"source_id\\\":623082476648903,\\\"target_id\\\":631963679928462,\\\"type\\\":\\\"prereq\\\"},{\\\"source_id\\\":721507244426560,\\\"target_id\\\":631963679928462,\\\"type\\\":\\\"prereq\\\"}],\\\"name\\\":\\\"BW 301\\\",\\\"metrics\\\":{\\\"centrality\\\":0,\\\"complexity\\\":3.0,\\\"blocking factor\\\":0,\\\"delay factor\\\":3.0},\\\"nameSub\\\":\\\"Underwater Weaving\\\",\\\"id\\\":631963679928462,\\\"credits\\\":3}],\\\"id\\\":3}],\\\"institution\\\":\\\"\\\"}},\\\"*\\\"); window.removeEventListener(\\\"message\\\",window.messageReceived); window.messageReceived=(function (event){return (event.data.curriculum!==undefined) ? (_webIOScope.setObservableValue({\\\"name\\\":\\\"curriculum-data\\\",\\\"scope\\\":\\\"scope-6b62f440-1a20-42ff-9866-70911e652948\\\",\\\"id\\\":\\\"ob_02\\\",\\\"type\\\":\\\"observable\\\"},event.data.curriculum)) : undefined}); return window.addEventListener(\\\"message\\\",window.messageReceived)})\"},\"style\":{\"padding\":\"0\",\"height\":\"100vh\",\"margin\":\"0\",\"border\":\"none\",\"width\":\"100%\"}},\"nodeType\":\"DOM\",\"type\":\"node\",\"instanceArgs\":{\"namespace\":\"html\",\"tag\":\"iframe\"},\"children\":[\"\"]}]},\n",
       "        );\n",
       "    } else {\n",
       "        document\n",
       "            .querySelector('[data-webio-mountpoint=\"1637116586244997160\"]')\n",
       "            .innerHTML = '<strong>WebIO not detected.</strong>';\n",
       "    }\n",
       "    </script>\n",
       "</div>\n"
      ],
      "text/plain": [
       "WebIO.Scope(\"scope-6b62f440-1a20-42ff-9866-70911e652948\", WebIO.Node{WebIO.DOM}(WebIO.DOM(:html, :iframe), Any[\"\"], Dict{Symbol,Any}(:src=>\"http://localhost:8156\",:id=>\"curriculum\",:events=>Dict(:load=>JSString(\"(function (){this.contentWindow.postMessage({\\\"options\\\":{\\\"hideTerms\\\":false,\\\"edit\\\":false},\\\"curriculum\\\":{\\\"name\\\":\\\"Underwater Basket Weaving\\\",\\\"dp_name\\\":\\\"\\\",\\\"curriculum_terms\\\":[{\\\"name\\\":\\\"Term 1\\\",\\\"curriculum_items\\\":[{\\\"curriculum_requisites\\\":[],\\\"name\\\":\\\"BW 101\\\",\\\"metrics\\\":{\\\"centrality\\\":0,\\\"complexity\\\":7.0,\\\"blocking factor\\\":4,\\\"delay factor\\\":3.0},\\\"nameSub\\\":\\\"Introduction to Baskets\\\",\\\"id\\\":101538259090793,\\\"credits\\\":3},{\\\"curriculum_requisites\\\":[],\\\"name\\\":\\\"PE 115\\\",\\\"metrics\\\":{\\\"centrality\\\":0,\\\"complexity\\\":3.0,\\\"blocking factor\\\":1,\\\"delay factor\\\":2.0},\\\"nameSub\\\":\\\"Swimming\\\",\\\"id\\\":721507244426560,\\\"credits\\\":3},{\\\"curriculum_requisites\\\":[],\\\"name\\\":\\\"MA 116\\\",\\\"metrics\\\":{\\\"centrality\\\":0,\\\"complexity\\\":3.0,\\\"blocking factor\\\":1,\\\"delay factor\\\":2.0},\\\"nameSub\\\":\\\"Introductory Calculus w/ Applications\\\",\\\"id\\\":768111125205084,\\\"credits\\\":4}],\\\"id\\\":1},{\\\"name\\\":\\\"Term 2\\\",\\\"curriculum_items\\\":[{\\\"curriculum_requisites\\\":[{\\\"source_id\\\":101538259090793,\\\"target_id\\\":201091070257584,\\\"type\\\":\\\"prereq\\\"},{\\\"source_id\\\":612340946920079,\\\"target_id\\\":201091070257584,\\\"type\\\":\\\"strict-coreq\\\"}],\\\"name\\\":\\\"BW 111\\\",\\\"metrics\\\":{\\\"centrality\\\":6,\\\"complexity\\\":4.0,\\\"blocking factor\\\":1,\\\"delay factor\\\":3.0},\\\"nameSub\\\":\\\"Basic Basket Forms\\\",\\\"id\\\":201091070257584,\\\"credits\\\":3},{\\\"curriculum_requisites\\\":[],\\\"name\\\":\\\"BW 111L\\\",\\\"metrics\\\":{\\\"centrality\\\":0,\\\"complexity\\\":5.0,\\\"blocking factor\\\":2,\\\"delay factor\\\":3.0},\\\"nameSub\\\":\\\"Basic Basket Forms Lab\\\",\\\"id\\\":612340946920079,\\\"credits\\\":1},{\\\"curriculum_requisites\\\":[{\\\"source_id\\\":612340946920079,\\\"target_id\\\":848085183490711,\\\"type\\\":\\\"prereq\\\"},{\\\"source_id\\\":768111125205084,\\\"target_id\\\":848085183490711,\\\"type\\\":\\\"prereq\\\"},{\\\"source_id\\\":201091070257584,\\\"target_id\\\":848085183490711,\\\"type\\\":\\\"prereq\\\"}],\\\"name\\\":\\\"BW 201\\\",\\\"metrics\\\":{\\\"centrality\\\":0,\\\"complexity\\\":3.0,\\\"blocking factor\\\":0,\\\"delay factor\\\":3.0},\\\"nameSub\\\":\\\"Advanced Basketry\\\",\\\"id\\\":848085183490711,\\\"credits\\\":3}],\\\"id\\\":2},{\\\"name\\\":\\\"Term 3\\\",\\\"curriculum_items\\\":[{\\\"curriculum_requisites\\\":[{\\\"source_id\\\":101538259090793,\\\"target_id\\\":623082476648903,\\\"type\\\":\\\"prereq\\\"}],\\\"name\\\":\\\"BW 214\\\",\\\"metrics\\\":{\\\"centrality\\\":3,\\\"complexity\\\":4.0,\\\"blocking factor\\\":1,\\\"delay factor\\\":3.0},\\\"nameSub\\\":\\\"Basket Materials & Decoration\\\",\\\"id\\\":623082476648903,\\\"credits\\\":3},{\\\"curriculum_requisites\\\":[{\\\"source_id\\\":623082476648903,\\\"target_id\\\":631963679928462,\\\"type\\\":\\\"prereq\\\"},{\\\"source_id\\\":721507244426560,\\\"target_id\\\":631963679928462,\\\"type\\\":\\\"prereq\\\"}],\\\"name\\\":\\\"BW 301\\\",\\\"metrics\\\":{\\\"centrality\\\":0,\\\"complexity\\\":3.0,\\\"blocking factor\\\":0,\\\"delay factor\\\":3.0},\\\"nameSub\\\":\\\"Underwater Weaving\\\",\\\"id\\\":631963679928462,\\\"credits\\\":3}],\\\"id\\\":3}],\\\"institution\\\":\\\"\\\"}},\\\"*\\\"); window.removeEventListener(\\\"message\\\",window.messageReceived); window.messageReceived=(function (event){return (event.data.curriculum!==undefined) ? (_webIOScope.setObservableValue({\\\"name\\\":\\\"curriculum-data\\\",\\\"scope\\\":\\\"scope-6b62f440-1a20-42ff-9866-70911e652948\\\",\\\"id\\\":\\\"ob_02\\\",\\\"type\\\":\\\"observable\\\"},event.data.curriculum)) : undefined}); return window.addEventListener(\\\"message\\\",window.messageReceived)})\")),:style=>Dict(:padding=>\"0\",:height=>\"100vh\",:margin=>\"0\",:border=>\"none\",:width=>\"100%\")), 1), Dict{String,Tuple{Observables.AbstractObservable,Union{Nothing, Bool}}}(\"curriculum-data\"=>(Observable{Dict{String,Any}} with 1 listeners. Value:\n",
       "Dict{String,Any}(\"options\"=>Dict{String,Any}(\"hideTerms\"=>false,\"edit\"=>false),\"curriculum\"=>Dict{String,Any}(\"name\"=>\"Underwater Basket Weaving\",\"dp_name\"=>\"\",\"curriculum_terms\"=>Dict{String,Any}[Dict(\"name\"=>\"Term 1\",\"curriculum_items\"=>Dict{String,Any}[Dict(\"curriculum_requisites\"=>Dict{String,Any}[],\"name\"=>\"BW 101\",\"metrics\"=>Dict{String,Any}(\"centrality\"=>0,\"complexity\"=>7.0,\"blocking factor\"=>4,\"delay factor\"=>3.0),\"nameSub\"=>\"Introduction to Baskets\",\"id\"=>101538259090793,\"credits\"=>3), Dict(\"curriculum_requisites\"=>Dict{String,Any}[],\"name\"=>\"PE 115\",\"metrics\"=>Dict{String,Any}(\"centrality\"=>0,\"complexity\"=>3.0,\"blocking factor\"=>1,\"delay factor\"=>2.0),\"nameSub\"=>\"Swimming\",\"id\"=>721507244426560,\"credits\"=>3), Dict(\"curriculum_requisites\"=>Dict{String,Any}[],\"name\"=>\"MA 116\",\"metrics\"=>Dict{String,Any}(\"centrality\"=>0,\"complexity\"=>3.0,\"blocking factor\"=>1,\"delay factor\"=>2.0),\"nameSub\"=>\"Introductory Calculus w/ Applications\",\"id\"=>768111125205084,\"credits\"=>4)],\"id\"=>1), Dict(\"name\"=>\"Term 2\",\"curriculum_items\"=>Dict{String,Any}[Dict(\"curriculum_requisites\"=>Dict{String,Any}[Dict(\"source_id\"=>101538259090793,\"target_id\"=>201091070257584,\"type\"=>\"prereq\"), Dict(\"source_id\"=>612340946920079,\"target_id\"=>201091070257584,\"type\"=>\"strict-coreq\")],\"name\"=>\"BW 111\",\"metrics\"=>Dict{String,Any}(\"centrality\"=>6,\"complexity\"=>4.0,\"blocking factor\"=>1,\"delay factor\"=>3.0),\"nameSub\"=>\"Basic Basket Forms\",\"id\"=>201091070257584,\"credits\"=>3), Dict(\"curriculum_requisites\"=>Dict{String,Any}[],\"name\"=>\"BW 111L\",\"metrics\"=>Dict{String,Any}(\"centrality\"=>0,\"complexity\"=>5.0,\"blocking factor\"=>2,\"delay factor\"=>3.0),\"nameSub\"=>\"Basic Basket Forms Lab\",\"id\"=>612340946920079,\"credits\"=>1), Dict(\"curriculum_requisites\"=>Dict{String,Any}[Dict(\"source_id\"=>612340946920079,\"target_id\"=>848085183490711,\"type\"=>\"prereq\"), Dict(\"source_id\"=>768111125205084,\"target_id\"=>848085183490711,\"type\"=>\"prereq\"), Dict(\"source_id\"=>201091070257584,\"target_id\"=>848085183490711,\"type\"=>\"prereq\")],\"name\"=>\"BW 201\",\"metrics\"=>Dict{String,Any}(\"centrality\"=>0,\"complexity\"=>3.0,\"blocking factor\"=>0,\"delay factor\"=>3.0),\"nameSub\"=>\"Advanced Basketry\",\"id\"=>848085183490711,\"credits\"=>3)],\"id\"=>2), Dict(\"name\"=>\"Term 3\",\"curriculum_items\"=>Dict{String,Any}[Dict(\"curriculum_requisites\"=>Dict{String,Any}[Dict(\"source_id\"=>101538259090793,\"target_id\"=>623082476648903,\"type\"=>\"prereq\")],\"name\"=>\"BW 214\",\"metrics\"=>Dict{String,Any}(\"centrality\"=>3,\"complexity\"=>4.0,\"blocking factor\"=>1,\"delay factor\"=>3.0),\"nameSub\"=>\"Basket Materials & Decoration\",\"id\"=>623082476648903,\"credits\"=>3), Dict(\"curriculum_requisites\"=>Dict{String,Any}[Dict(\"source_id\"=>623082476648903,\"target_id\"=>631963679928462,\"type\"=>\"prereq\"), Dict(\"source_id\"=>721507244426560,\"target_id\"=>631963679928462,\"type\"=>\"prereq\")],\"name\"=>\"BW 301\",\"metrics\"=>Dict{String,Any}(\"centrality\"=>0,\"complexity\"=>3.0,\"blocking factor\"=>0,\"delay factor\"=>3.0),\"nameSub\"=>\"Underwater Weaving\",\"id\"=>631963679928462,\"credits\"=>3)],\"id\"=>3)],\"institution\"=>\"\")), nothing)), Set(String[]), nothing, Any[], Dict{Any,Any}(), WebIO.ConnectionPool(Channel{Any}(sz_max:9223372036854775807,sz_curr:0), Set(WebIO.AbstractConnection[]), Channel{WebIO.AbstractConnection}(sz_max:32,sz_curr:0)))"
      ]
     },
     "execution_count": 3,
     "metadata": {
      "application/vnd.webio.node+json": {
       "kernelId": "8d7de86e-1bdc-4322-a84b-873162463cc1"
      }
     },
     "output_type": "execute_result"
    },
    {
     "name": "stderr",
     "output_type": "stream",
     "text": [
      "┌ Info: Accept (5):  🔗    0↑     0↓    0s 127.0.0.1:8156:8156 ≣16\n",
      "└ @ HTTP.Servers C:\\Users\\orhan\\.julia\\packages\\HTTP\\YjRCz\\src\\Servers.jl:343\n",
      "┌ Info: Accept (6):  🔗    0↑     0↓    0s 127.0.0.1:8156:8156 ≣16\n",
      "└ @ HTTP.Servers C:\\Users\\orhan\\.julia\\packages\\HTTP\\YjRCz\\src\\Servers.jl:343\n",
      "┌ Info: Accept (7):  🔗    0↑     0↓    0s 127.0.0.1:8156:8156 ≣16\n",
      "└ @ HTTP.Servers C:\\Users\\orhan\\.julia\\packages\\HTTP\\YjRCz\\src\\Servers.jl:343\n",
      "┌ Info: Accept (8):  🔗    0↑     0↓    0s 127.0.0.1:8156:8156 ≣16\n",
      "└ @ HTTP.Servers C:\\Users\\orhan\\.julia\\packages\\HTTP\\YjRCz\\src\\Servers.jl:343\n"
     ]
    }
   ],
   "source": [
    "out = read_csv_new(\"examples\\\\UBW_curriculum_terms.csv\")\n",
    "visualize(out, notebook=true)"
   ]
  },
  {
   "cell_type": "code",
   "execution_count": 4,
   "metadata": {
    "scrolled": false
   },
   "outputs": [
    {
     "data": {
      "text/plain": [
       "Blink.AtomShell.Window(1, Blink.AtomShell.Electron(Process(`\u001b[4m'C:\\Users\\orhan\\.julia\\packages\\Blink\\vKGzM\\deps\\atom\\electron.exe'\u001b[24m \u001b[4m'C:\\Users\\orhan\\.julia\\packages\\Blink\\vKGzM\\src\\AtomShell\\main.js'\u001b[24m \u001b[4mport\u001b[24m \u001b[4m5109\u001b[24m`, ProcessRunning), Sockets.TCPSocket(Base.Libc.WindowsRawSocket(0x000000000000042c) active, 0 bytes waiting), Dict{String,Any}(\"callback\"=>##1#2())), Blink.Page(1, WebSockets.WebSocket{Sockets.TCPSocket}(Sockets.TCPSocket(Base.Libc.WindowsRawSocket(0x00000000000005dc) active, 0 bytes waiting), true, CONNECTED::ReadyState = 1), Dict{String,Any}(\"webio\"=>##95#96{BlinkConnection}(BlinkConnection(Page(#= circular reference @-4 =#))),\"callback\"=>##1#2()), Distributed.Future(1, 1, 1, Some(true))))"
      ]
     },
     "execution_count": 4,
     "metadata": {},
     "output_type": "execute_result"
    },
    {
     "name": "stderr",
     "output_type": "stream",
     "text": [
      "┌ Info: Accept (1):  🔗    0↑     0↓    0s 127.0.0.1:8156:8156 ≣16\n",
      "└ @ HTTP.Servers C:\\Users\\orhan\\.julia\\packages\\HTTP\\YjRCz\\src\\Servers.jl:343\n",
      "┌ Info: Accept (2):  🔗    0↑     0↓    0s 127.0.0.1:8156:8156 ≣16\n",
      "└ @ HTTP.Servers C:\\Users\\orhan\\.julia\\packages\\HTTP\\YjRCz\\src\\Servers.jl:343\n"
     ]
    }
   ],
   "source": [
    "out = read_csv_new(\"examples\\\\template.csv\")\n",
    "#write_csv(out)\n",
    "visualize(out, changed=update_plan , edit=true)"
   ]
  },
  {
   "cell_type": "code",
   "execution_count": 5,
   "metadata": {},
   "outputs": [
    {
     "name": "stderr",
     "output_type": "stream",
     "text": [
      "┌ Info: Accept (3):  🔗    0↑     0↓    0s 127.0.0.1:8156:8156 ≣16\n",
      "└ @ HTTP.Servers C:\\Users\\orhan\\.julia\\packages\\HTTP\\YjRCz\\src\\Servers.jl:343\n",
      "┌ Info: Accept (4):  🔗    0↑     0↓    0s 127.0.0.1:8156:8156 ≣16\n",
      "└ @ HTTP.Servers C:\\Users\\orhan\\.julia\\packages\\HTTP\\YjRCz\\src\\Servers.jl:343\n"
     ]
    },
    {
     "data": {
      "text/plain": [
       "Blink.AtomShell.Window(2, Blink.AtomShell.Electron(Process(`\u001b[4m'C:\\Users\\orhan\\.julia\\packages\\Blink\\vKGzM\\deps\\atom\\electron.exe'\u001b[24m \u001b[4m'C:\\Users\\orhan\\.julia\\packages\\Blink\\vKGzM\\src\\AtomShell\\main.js'\u001b[24m \u001b[4mport\u001b[24m \u001b[4m5109\u001b[24m`, ProcessRunning), Sockets.TCPSocket(Base.Libc.WindowsRawSocket(0x000000000000042c) active, 0 bytes waiting), Dict{String,Any}(\"callback\"=>##1#2())), Blink.Page(2, WebSockets.WebSocket{Sockets.TCPSocket}(Sockets.TCPSocket(Base.Libc.WindowsRawSocket(0x00000000000005e0) active, 0 bytes waiting), true, CONNECTED::ReadyState = 1), Dict{String,Any}(\"webio\"=>##95#96{BlinkConnection}(BlinkConnection(Page(#= circular reference @-4 =#))),\"callback\"=>##1#2()), Distributed.Future(1, 1, 2, Some(true))))"
      ]
     },
     "execution_count": 5,
     "metadata": {},
     "output_type": "execute_result"
    }
   ],
   "source": [
    "out = read_csv_new(\"examples\\\\UBW_degree_plan.csv\")\n",
    "#write_csv(out)\n",
    "visualize(out, changed=update_plan , edit=true)"
   ]
  }
 ],
 "metadata": {
  "@webio": {
   "lastCommId": "BF377FFC1DF14179A96CB3C94590ECBC",
   "lastKernelId": "8d7de86e-1bdc-4322-a84b-873162463cc1"
  },
  "kernelspec": {
   "display_name": "Julia 1.0.1",
   "language": "julia",
   "name": "julia-1.0"
  },
  "language_info": {
   "file_extension": ".jl",
   "mimetype": "application/julia",
   "name": "julia",
   "version": "1.0.1"
  }
 },
 "nbformat": 4,
 "nbformat_minor": 2
}

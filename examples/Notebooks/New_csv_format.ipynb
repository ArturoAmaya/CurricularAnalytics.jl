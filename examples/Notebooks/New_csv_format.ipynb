{
 "cells": [
  {
   "cell_type": "code",
   "execution_count": 1,
   "metadata": {},
   "outputs": [
    {
     "data": {
      "text/html": [
       "    <script id=\"webio-setup-15049493130428300318\">\n",
       "    // Immediately-invoked-function-expression to avoid global variables.\n",
       "    (function() {\n",
       "        var warning_div = document.getElementById(\"webio-warning-1547997615763562861\");\n",
       "        var hide = function () {\n",
       "            var script = document.getElementById(\"webio-setup-15049493130428300318\");\n",
       "            var parent = script && script.parentElement;\n",
       "            var grandparent = parent && parent.parentElement;\n",
       "            if (grandparent) {\n",
       "                grandparent.style.display = \"none\";\n",
       "            }\n",
       "            warning_div.style.display = \"none\";\n",
       "        };\n",
       "        if (window.require && require.defined) {\n",
       "            // Jupyter notebook.\n",
       "            if (require.defined(\"nbextensions/webio/main\")\n",
       "                    || require.defined(\"/assetserver/15060f7913bd455b6698e8bd1357ce9c6553b0bb-dist/main.js\")) {\n",
       "                // Extension already loaded.\n",
       "                hide();\n",
       "                return;\n",
       "            }\n",
       "            console.warn(\"Loading WebIO Jupyter extension on an ad-hoc basis. Consider enabling the WebIO nbextension for a stabler experience (this should happen automatically when building WebIO).\");\n",
       "            require([\"/assetserver/15060f7913bd455b6698e8bd1357ce9c6553b0bb-dist/main.js\"], function (webIOModule) {\n",
       "                webIOModule.load_ipython_extension();\n",
       "            });\n",
       "            warning_div.innerHTML = \"<strong>Loading WebIO Jupyter extension on an ad-hoc basis. Consider enabling the WebIO nbextension for a stabler experience (this should happen automatically when building WebIO).</strong>\";\n",
       "        } else if (window.location.pathname.includes(\"/lab\")) {\n",
       "            // Guessing JupyterLab\n",
       "            warning_div.innerHTML = \"WebIO does not support JupyterLab yet.\";\n",
       "        }\n",
       "    })();\n",
       "    </script>\n",
       "    <div\n",
       "        id=\"webio-warning-1547997615763562861\"\n",
       "        class=\"output_text output_stderr\"\n",
       "        style=\"padding: 1em; font-weight: bold;\"\n",
       "    >\n",
       "        Unable to load WebIO. Please make sure WebIO works for your Jupyter client.\n",
       "        <!-- TODO: link to installation docs. -->\n",
       "    </div>\n"
      ],
      "text/plain": [
       "HTML{String}(\"    <script id=\\\"webio-setup-15049493130428300318\\\">\\n    // Immediately-invoked-function-expression to avoid global variables.\\n    (function() {\\n        var warning_div = document.getElementById(\\\"webio-warning-1547997615763562861\\\");\\n        var hide = function () {\\n            var script = document.getElementById(\\\"webio-setup-15049493130428300318\\\");\\n            var parent = script && script.parentElement;\\n            var grandparent = parent && parent.parentElement;\\n            if (grandparent) {\\n                grandparent.style.display = \\\"none\\\";\\n            }\\n            warning_div.style.display = \\\"none\\\";\\n        };\\n        if (window.require && require.defined) {\\n            // Jupyter notebook.\\n            if (require.defined(\\\"nbextensions/webio/main\\\")\\n                    || require.defined(\\\"/assetserver/15060f7913bd455b6698e8bd1357ce9c6553b0bb-dist/main.js\\\")) {\\n                // Extension already loaded.\\n                hide();\\n                return;\\n            }\\n            console.warn(\\\"Loading WebIO Jupyter extension on an ad-hoc basis. Consider enabling the WebIO nbextension for a stabler experience (this should happen automatically when building WebIO).\\\");\\n            require([\\\"/assetserver/15060f7913bd455b6698e8bd1357ce9c6553b0bb-dist/main.js\\\"], function (webIOModule) {\\n                webIOModule.load_ipython_extension();\\n            });\\n            warning_div.innerHTML = \\\"<strong>Loading WebIO Jupyter extension on an ad-hoc basis. Consider enabling the WebIO nbextension for a stabler experience (this should happen automatically when building WebIO).</strong>\\\";\\n        } else if (window.location.pathname.includes(\\\"/lab\\\")) {\\n            // Guessing JupyterLab\\n            warning_div.innerHTML = \\\"WebIO does not support JupyterLab yet.\\\";\\n        }\\n    })();\\n    </script>\\n    <div\\n        id=\\\"webio-warning-1547997615763562861\\\"\\n        class=\\\"output_text output_stderr\\\"\\n        style=\\\"padding: 1em; font-weight: bold;\\\"\\n    >\\n        Unable to load WebIO. Please make sure WebIO works for your Jupyter client.\\n        <!-- TODO: link to installation docs. -->\\n    </div>\\n\")"
      ]
     },
     "metadata": {},
     "output_type": "display_data"
    },
    {
     "name": "stdout",
     "output_type": "stream",
     "text": [
      "Current directory: CurricularAnalytics.jl\n"
     ]
    }
   ],
   "source": [
    "if split(pwd(),Base.Filesystem.path_separator)[end] != \"CurricularAnalytics.jl\"\n",
    "    cd(\"../..\")\n",
    "end\n",
    "println(\"Current directory: \" * split(pwd(),\"\\\\\")[end])\n",
    "using Pkg\n",
    "pkg\"activate .\"\n",
    "using CurricularAnalytics"
   ]
  },
  {
   "cell_type": "code",
   "execution_count": 9,
   "metadata": {
    "scrolled": false
   },
   "outputs": [
    {
     "name": "stdout",
     "output_type": "stream",
     "text": [
      "Could not create a plan for 0 term, try for one more term\n",
      "Could not create a plan for 1 term, try for one more term\n",
      "Could not create a plan for 2 term, try for one more term\n",
      "Could not create a plan for 3 term, try for one more term\n"
     ]
    },
    {
     "data": {
      "application/vnd.webio.node+json": {
       "children": [
        {
         "children": [
          ""
         ],
         "instanceArgs": {
          "namespace": "html",
          "tag": "iframe"
         },
         "nodeType": "DOM",
         "props": {
          "events": {
           "load": "(function (){this.contentWindow.postMessage({\"options\":{\"hideTerms\":true,\"edit\":true},\"curriculum\":{\"name\":\"Underwater Basket Weaving\",\"dp_name\":\"\",\"curriculum_terms\":[{\"name\":\"Term 1\",\"curriculum_items\":[{\"curriculum_requisites\":[],\"name\":\"BW 101\",\"metrics\":{},\"canonical_name\":\"\",\"nameSub\":\"Introduction to Baskets\",\"id\":1,\"credits\":3},{\"curriculum_requisites\":[],\"name\":\"PE 115\",\"metrics\":{},\"canonical_name\":\"\",\"nameSub\":\"Swimming\",\"id\":2,\"credits\":3}],\"id\":1},{\"name\":\"Term 2\",\"curriculum_items\":[{\"curriculum_requisites\":[],\"name\":\"BW 111L\",\"metrics\":{},\"canonical_name\":\"\",\"nameSub\":\"Basic Basket Forms Lab\",\"id\":5,\"credits\":1},{\"curriculum_requisites\":[{\"source_id\":5,\"target_id\":4,\"type\":\"strict-coreq\"},{\"source_id\":1,\"target_id\":4,\"type\":\"prereq\"}],\"name\":\"BW 111\",\"metrics\":{},\"canonical_name\":\"\",\"nameSub\":\"Basic Basket Forms\",\"id\":4,\"credits\":3}],\"id\":2},{\"name\":\"Term 3\",\"curriculum_items\":[{\"curriculum_requisites\":[{\"source_id\":1,\"target_id\":7,\"type\":\"prereq\"}],\"name\":\"BW 214\",\"metrics\":{},\"canonical_name\":\"\",\"nameSub\":\"Basket Materials & Decoration\",\"id\":7,\"credits\":3},{\"curriculum_requisites\":[],\"name\":\"MA 116\",\"metrics\":{},\"canonical_name\":\"\",\"nameSub\":\"Introductory Calculus w/ Applications\",\"id\":3,\"credits\":4}],\"id\":3},{\"name\":\"Term 4\",\"curriculum_items\":[{\"curriculum_requisites\":[{\"source_id\":7,\"target_id\":8,\"type\":\"prereq\"},{\"source_id\":2,\"target_id\":8,\"type\":\"prereq\"}],\"name\":\"BW 301\",\"metrics\":{},\"canonical_name\":\"\",\"nameSub\":\"Underwater Weaving\",\"id\":8,\"credits\":3},{\"curriculum_requisites\":[{\"source_id\":4,\"target_id\":6,\"type\":\"prereq\"},{\"source_id\":3,\"target_id\":6,\"type\":\"prereq\"},{\"source_id\":5,\"target_id\":6,\"type\":\"prereq\"}],\"name\":\"BW 201\",\"metrics\":{},\"canonical_name\":\"\",\"nameSub\":\"Advanced Basketry\",\"id\":6,\"credits\":3}],\"id\":4}],\"institution\":\"ACME State University\"}},\"*\"); window.removeEventListener(\"message\",window.messageReceived); window.messageReceived=(function (event){return (event.data.curriculum!==undefined) ? (_webIOScope.setObservableValue({\"name\":\"curriculum-data\",\"scope\":\"scope-0881b9f5-98fa-4520-a09d-61adf92eb0e2\",\"id\":\"ob_07\",\"type\":\"observable\"},event.data.curriculum)) : undefined}); return window.addEventListener(\"message\",window.messageReceived)})"
          },
          "id": "curriculum",
          "src": "http://localhost:8156",
          "style": {
           "border": "none",
           "height": "100vh",
           "margin": "0",
           "padding": "0",
           "width": "100%"
          }
         },
         "type": "node"
        }
       ],
       "instanceArgs": {
        "handlers": {},
        "id": "scope-0881b9f5-98fa-4520-a09d-61adf92eb0e2",
        "imports": {
         "data": [],
         "type": "async_block"
        },
        "observables": {
         "curriculum-data": {
          "id": "ob_07",
          "sync": true,
          "value": {
           "curriculum": {
            "curriculum_terms": [
             {
              "curriculum_items": [
               {
                "canonical_name": "",
                "credits": 3,
                "curriculum_requisites": [],
                "id": 1,
                "metrics": {},
                "name": "BW 101",
                "nameSub": "Introduction to Baskets"
               },
               {
                "canonical_name": "",
                "credits": 3,
                "curriculum_requisites": [],
                "id": 2,
                "metrics": {},
                "name": "PE 115",
                "nameSub": "Swimming"
               }
              ],
              "id": 1,
              "name": "Term 1"
             },
             {
              "curriculum_items": [
               {
                "canonical_name": "",
                "credits": 1,
                "curriculum_requisites": [],
                "id": 5,
                "metrics": {},
                "name": "BW 111L",
                "nameSub": "Basic Basket Forms Lab"
               },
               {
                "canonical_name": "",
                "credits": 3,
                "curriculum_requisites": [
                 {
                  "source_id": 5,
                  "target_id": 4,
                  "type": "strict-coreq"
                 },
                 {
                  "source_id": 1,
                  "target_id": 4,
                  "type": "prereq"
                 }
                ],
                "id": 4,
                "metrics": {},
                "name": "BW 111",
                "nameSub": "Basic Basket Forms"
               }
              ],
              "id": 2,
              "name": "Term 2"
             },
             {
              "curriculum_items": [
               {
                "canonical_name": "",
                "credits": 3,
                "curriculum_requisites": [
                 {
                  "source_id": 1,
                  "target_id": 7,
                  "type": "prereq"
                 }
                ],
                "id": 7,
                "metrics": {},
                "name": "BW 214",
                "nameSub": "Basket Materials & Decoration"
               },
               {
                "canonical_name": "",
                "credits": 4,
                "curriculum_requisites": [],
                "id": 3,
                "metrics": {},
                "name": "MA 116",
                "nameSub": "Introductory Calculus w/ Applications"
               }
              ],
              "id": 3,
              "name": "Term 3"
             },
             {
              "curriculum_items": [
               {
                "canonical_name": "",
                "credits": 3,
                "curriculum_requisites": [
                 {
                  "source_id": 7,
                  "target_id": 8,
                  "type": "prereq"
                 },
                 {
                  "source_id": 2,
                  "target_id": 8,
                  "type": "prereq"
                 }
                ],
                "id": 8,
                "metrics": {},
                "name": "BW 301",
                "nameSub": "Underwater Weaving"
               },
               {
                "canonical_name": "",
                "credits": 3,
                "curriculum_requisites": [
                 {
                  "source_id": 4,
                  "target_id": 6,
                  "type": "prereq"
                 },
                 {
                  "source_id": 3,
                  "target_id": 6,
                  "type": "prereq"
                 },
                 {
                  "source_id": 5,
                  "target_id": 6,
                  "type": "prereq"
                 }
                ],
                "id": 6,
                "metrics": {},
                "name": "BW 201",
                "nameSub": "Advanced Basketry"
               }
              ],
              "id": 4,
              "name": "Term 4"
             }
            ],
            "dp_name": "",
            "institution": "ACME State University",
            "name": "Underwater Basket Weaving"
           },
           "options": {
            "edit": true,
            "hideTerms": true
           }
          }
         }
        },
        "systemjs_options": null
       },
       "nodeType": "Scope",
       "props": {},
       "type": "node"
      },
      "text/html": [
       "<div\n",
       "    class=\"webio-mountpoint\"\n",
       "    data-webio-mountpoint=\"8193048891987190703\"\n",
       ">\n",
       "    <script>\n",
       "    if (window.require && require.defined && require.defined(\"nbextensions/webio/main\")) {\n",
       "        console.log(\"Jupyter WebIO extension detected, not mounting.\");\n",
       "    } else if (window.WebIO) {\n",
       "        WebIO.mount(\n",
       "            document.querySelector('[data-webio-mountpoint=\"8193048891987190703\"]'),\n",
       "            {\"props\":{},\"nodeType\":\"Scope\",\"type\":\"node\",\"instanceArgs\":{\"imports\":{\"data\":[],\"type\":\"async_block\"},\"id\":\"scope-0881b9f5-98fa-4520-a09d-61adf92eb0e2\",\"handlers\":{},\"systemjs_options\":null,\"observables\":{\"curriculum-data\":{\"sync\":true,\"id\":\"ob_07\",\"value\":{\"options\":{\"hideTerms\":true,\"edit\":true},\"curriculum\":{\"name\":\"Underwater Basket Weaving\",\"dp_name\":\"\",\"curriculum_terms\":[{\"name\":\"Term 1\",\"curriculum_items\":[{\"curriculum_requisites\":[],\"name\":\"BW 101\",\"metrics\":{},\"canonical_name\":\"\",\"nameSub\":\"Introduction to Baskets\",\"id\":1,\"credits\":3},{\"curriculum_requisites\":[],\"name\":\"PE 115\",\"metrics\":{},\"canonical_name\":\"\",\"nameSub\":\"Swimming\",\"id\":2,\"credits\":3}],\"id\":1},{\"name\":\"Term 2\",\"curriculum_items\":[{\"curriculum_requisites\":[],\"name\":\"BW 111L\",\"metrics\":{},\"canonical_name\":\"\",\"nameSub\":\"Basic Basket Forms Lab\",\"id\":5,\"credits\":1},{\"curriculum_requisites\":[{\"source_id\":5,\"target_id\":4,\"type\":\"strict-coreq\"},{\"source_id\":1,\"target_id\":4,\"type\":\"prereq\"}],\"name\":\"BW 111\",\"metrics\":{},\"canonical_name\":\"\",\"nameSub\":\"Basic Basket Forms\",\"id\":4,\"credits\":3}],\"id\":2},{\"name\":\"Term 3\",\"curriculum_items\":[{\"curriculum_requisites\":[{\"source_id\":1,\"target_id\":7,\"type\":\"prereq\"}],\"name\":\"BW 214\",\"metrics\":{},\"canonical_name\":\"\",\"nameSub\":\"Basket Materials & Decoration\",\"id\":7,\"credits\":3},{\"curriculum_requisites\":[],\"name\":\"MA 116\",\"metrics\":{},\"canonical_name\":\"\",\"nameSub\":\"Introductory Calculus w\\/ Applications\",\"id\":3,\"credits\":4}],\"id\":3},{\"name\":\"Term 4\",\"curriculum_items\":[{\"curriculum_requisites\":[{\"source_id\":7,\"target_id\":8,\"type\":\"prereq\"},{\"source_id\":2,\"target_id\":8,\"type\":\"prereq\"}],\"name\":\"BW 301\",\"metrics\":{},\"canonical_name\":\"\",\"nameSub\":\"Underwater Weaving\",\"id\":8,\"credits\":3},{\"curriculum_requisites\":[{\"source_id\":4,\"target_id\":6,\"type\":\"prereq\"},{\"source_id\":3,\"target_id\":6,\"type\":\"prereq\"},{\"source_id\":5,\"target_id\":6,\"type\":\"prereq\"}],\"name\":\"BW 201\",\"metrics\":{},\"canonical_name\":\"\",\"nameSub\":\"Advanced Basketry\",\"id\":6,\"credits\":3}],\"id\":4}],\"institution\":\"ACME State University\"}}}}},\"children\":[{\"props\":{\"src\":\"http:\\/\\/localhost:8156\",\"id\":\"curriculum\",\"events\":{\"load\":\"(function (){this.contentWindow.postMessage({\\\"options\\\":{\\\"hideTerms\\\":true,\\\"edit\\\":true},\\\"curriculum\\\":{\\\"name\\\":\\\"Underwater Basket Weaving\\\",\\\"dp_name\\\":\\\"\\\",\\\"curriculum_terms\\\":[{\\\"name\\\":\\\"Term 1\\\",\\\"curriculum_items\\\":[{\\\"curriculum_requisites\\\":[],\\\"name\\\":\\\"BW 101\\\",\\\"metrics\\\":{},\\\"canonical_name\\\":\\\"\\\",\\\"nameSub\\\":\\\"Introduction to Baskets\\\",\\\"id\\\":1,\\\"credits\\\":3},{\\\"curriculum_requisites\\\":[],\\\"name\\\":\\\"PE 115\\\",\\\"metrics\\\":{},\\\"canonical_name\\\":\\\"\\\",\\\"nameSub\\\":\\\"Swimming\\\",\\\"id\\\":2,\\\"credits\\\":3}],\\\"id\\\":1},{\\\"name\\\":\\\"Term 2\\\",\\\"curriculum_items\\\":[{\\\"curriculum_requisites\\\":[],\\\"name\\\":\\\"BW 111L\\\",\\\"metrics\\\":{},\\\"canonical_name\\\":\\\"\\\",\\\"nameSub\\\":\\\"Basic Basket Forms Lab\\\",\\\"id\\\":5,\\\"credits\\\":1},{\\\"curriculum_requisites\\\":[{\\\"source_id\\\":5,\\\"target_id\\\":4,\\\"type\\\":\\\"strict-coreq\\\"},{\\\"source_id\\\":1,\\\"target_id\\\":4,\\\"type\\\":\\\"prereq\\\"}],\\\"name\\\":\\\"BW 111\\\",\\\"metrics\\\":{},\\\"canonical_name\\\":\\\"\\\",\\\"nameSub\\\":\\\"Basic Basket Forms\\\",\\\"id\\\":4,\\\"credits\\\":3}],\\\"id\\\":2},{\\\"name\\\":\\\"Term 3\\\",\\\"curriculum_items\\\":[{\\\"curriculum_requisites\\\":[{\\\"source_id\\\":1,\\\"target_id\\\":7,\\\"type\\\":\\\"prereq\\\"}],\\\"name\\\":\\\"BW 214\\\",\\\"metrics\\\":{},\\\"canonical_name\\\":\\\"\\\",\\\"nameSub\\\":\\\"Basket Materials & Decoration\\\",\\\"id\\\":7,\\\"credits\\\":3},{\\\"curriculum_requisites\\\":[],\\\"name\\\":\\\"MA 116\\\",\\\"metrics\\\":{},\\\"canonical_name\\\":\\\"\\\",\\\"nameSub\\\":\\\"Introductory Calculus w\\/ Applications\\\",\\\"id\\\":3,\\\"credits\\\":4}],\\\"id\\\":3},{\\\"name\\\":\\\"Term 4\\\",\\\"curriculum_items\\\":[{\\\"curriculum_requisites\\\":[{\\\"source_id\\\":7,\\\"target_id\\\":8,\\\"type\\\":\\\"prereq\\\"},{\\\"source_id\\\":2,\\\"target_id\\\":8,\\\"type\\\":\\\"prereq\\\"}],\\\"name\\\":\\\"BW 301\\\",\\\"metrics\\\":{},\\\"canonical_name\\\":\\\"\\\",\\\"nameSub\\\":\\\"Underwater Weaving\\\",\\\"id\\\":8,\\\"credits\\\":3},{\\\"curriculum_requisites\\\":[{\\\"source_id\\\":4,\\\"target_id\\\":6,\\\"type\\\":\\\"prereq\\\"},{\\\"source_id\\\":3,\\\"target_id\\\":6,\\\"type\\\":\\\"prereq\\\"},{\\\"source_id\\\":5,\\\"target_id\\\":6,\\\"type\\\":\\\"prereq\\\"}],\\\"name\\\":\\\"BW 201\\\",\\\"metrics\\\":{},\\\"canonical_name\\\":\\\"\\\",\\\"nameSub\\\":\\\"Advanced Basketry\\\",\\\"id\\\":6,\\\"credits\\\":3}],\\\"id\\\":4}],\\\"institution\\\":\\\"ACME State University\\\"}},\\\"*\\\"); window.removeEventListener(\\\"message\\\",window.messageReceived); window.messageReceived=(function (event){return (event.data.curriculum!==undefined) ? (_webIOScope.setObservableValue({\\\"name\\\":\\\"curriculum-data\\\",\\\"scope\\\":\\\"scope-0881b9f5-98fa-4520-a09d-61adf92eb0e2\\\",\\\"id\\\":\\\"ob_07\\\",\\\"type\\\":\\\"observable\\\"},event.data.curriculum)) : undefined}); return window.addEventListener(\\\"message\\\",window.messageReceived)})\"},\"style\":{\"padding\":\"0\",\"height\":\"100vh\",\"margin\":\"0\",\"border\":\"none\",\"width\":\"100%\"}},\"nodeType\":\"DOM\",\"type\":\"node\",\"instanceArgs\":{\"namespace\":\"html\",\"tag\":\"iframe\"},\"children\":[\"\"]}]},\n",
       "        );\n",
       "    } else {\n",
       "        document\n",
       "            .querySelector('[data-webio-mountpoint=\"8193048891987190703\"]')\n",
       "            .innerHTML = '<strong>WebIO not detected.</strong>';\n",
       "    }\n",
       "    </script>\n",
       "</div>\n"
      ],
      "text/plain": [
       "WebIO.Scope(\"scope-0881b9f5-98fa-4520-a09d-61adf92eb0e2\", WebIO.Node{WebIO.DOM}(WebIO.DOM(:html, :iframe), Any[\"\"], Dict{Symbol,Any}(:src=>\"http://localhost:8156\",:id=>\"curriculum\",:events=>Dict(:load=>JSString(\"(function (){this.contentWindow.postMessage({\\\"options\\\":{\\\"hideTerms\\\":true,\\\"edit\\\":true},\\\"curriculum\\\":{\\\"name\\\":\\\"Underwater Basket Weaving\\\",\\\"dp_name\\\":\\\"\\\",\\\"curriculum_terms\\\":[{\\\"name\\\":\\\"Term 1\\\",\\\"curriculum_items\\\":[{\\\"curriculum_requisites\\\":[],\\\"name\\\":\\\"BW 101\\\",\\\"metrics\\\":{},\\\"canonical_name\\\":\\\"\\\",\\\"nameSub\\\":\\\"Introduction to Baskets\\\",\\\"id\\\":1,\\\"credits\\\":3},{\\\"curriculum_requisites\\\":[],\\\"name\\\":\\\"PE 115\\\",\\\"metrics\\\":{},\\\"canonical_name\\\":\\\"\\\",\\\"nameSub\\\":\\\"Swimming\\\",\\\"id\\\":2,\\\"credits\\\":3}],\\\"id\\\":1},{\\\"name\\\":\\\"Term 2\\\",\\\"curriculum_items\\\":[{\\\"curriculum_requisites\\\":[],\\\"name\\\":\\\"BW 111L\\\",\\\"metrics\\\":{},\\\"canonical_name\\\":\\\"\\\",\\\"nameSub\\\":\\\"Basic Basket Forms Lab\\\",\\\"id\\\":5,\\\"credits\\\":1},{\\\"curriculum_requisites\\\":[{\\\"source_id\\\":5,\\\"target_id\\\":4,\\\"type\\\":\\\"strict-coreq\\\"},{\\\"source_id\\\":1,\\\"target_id\\\":4,\\\"type\\\":\\\"prereq\\\"}],\\\"name\\\":\\\"BW 111\\\",\\\"metrics\\\":{},\\\"canonical_name\\\":\\\"\\\",\\\"nameSub\\\":\\\"Basic Basket Forms\\\",\\\"id\\\":4,\\\"credits\\\":3}],\\\"id\\\":2},{\\\"name\\\":\\\"Term 3\\\",\\\"curriculum_items\\\":[{\\\"curriculum_requisites\\\":[{\\\"source_id\\\":1,\\\"target_id\\\":7,\\\"type\\\":\\\"prereq\\\"}],\\\"name\\\":\\\"BW 214\\\",\\\"metrics\\\":{},\\\"canonical_name\\\":\\\"\\\",\\\"nameSub\\\":\\\"Basket Materials & Decoration\\\",\\\"id\\\":7,\\\"credits\\\":3},{\\\"curriculum_requisites\\\":[],\\\"name\\\":\\\"MA 116\\\",\\\"metrics\\\":{},\\\"canonical_name\\\":\\\"\\\",\\\"nameSub\\\":\\\"Introductory Calculus w/ Applications\\\",\\\"id\\\":3,\\\"credits\\\":4}],\\\"id\\\":3},{\\\"name\\\":\\\"Term 4\\\",\\\"curriculum_items\\\":[{\\\"curriculum_requisites\\\":[{\\\"source_id\\\":7,\\\"target_id\\\":8,\\\"type\\\":\\\"prereq\\\"},{\\\"source_id\\\":2,\\\"target_id\\\":8,\\\"type\\\":\\\"prereq\\\"}],\\\"name\\\":\\\"BW 301\\\",\\\"metrics\\\":{},\\\"canonical_name\\\":\\\"\\\",\\\"nameSub\\\":\\\"Underwater Weaving\\\",\\\"id\\\":8,\\\"credits\\\":3},{\\\"curriculum_requisites\\\":[{\\\"source_id\\\":4,\\\"target_id\\\":6,\\\"type\\\":\\\"prereq\\\"},{\\\"source_id\\\":3,\\\"target_id\\\":6,\\\"type\\\":\\\"prereq\\\"},{\\\"source_id\\\":5,\\\"target_id\\\":6,\\\"type\\\":\\\"prereq\\\"}],\\\"name\\\":\\\"BW 201\\\",\\\"metrics\\\":{},\\\"canonical_name\\\":\\\"\\\",\\\"nameSub\\\":\\\"Advanced Basketry\\\",\\\"id\\\":6,\\\"credits\\\":3}],\\\"id\\\":4}],\\\"institution\\\":\\\"ACME State University\\\"}},\\\"*\\\"); window.removeEventListener(\\\"message\\\",window.messageReceived); window.messageReceived=(function (event){return (event.data.curriculum!==undefined) ? (_webIOScope.setObservableValue({\\\"name\\\":\\\"curriculum-data\\\",\\\"scope\\\":\\\"scope-0881b9f5-98fa-4520-a09d-61adf92eb0e2\\\",\\\"id\\\":\\\"ob_07\\\",\\\"type\\\":\\\"observable\\\"},event.data.curriculum)) : undefined}); return window.addEventListener(\\\"message\\\",window.messageReceived)})\")),:style=>Dict(:padding=>\"0\",:height=>\"100vh\",:margin=>\"0\",:border=>\"none\",:width=>\"100%\")), 1), Dict{String,Tuple{Observables.AbstractObservable,Union{Nothing, Bool}}}(\"curriculum-data\"=>(Observable{Dict{String,Any}} with 1 listeners. Value:\n",
       "Dict{String,Any}(\"options\"=>Dict{String,Any}(\"hideTerms\"=>true,\"edit\"=>true),\"curriculum\"=>Dict{String,Any}(\"name\"=>\"Underwater Basket Weaving\",\"dp_name\"=>\"\",\"curriculum_terms\"=>Dict{String,Any}[Dict(\"name\"=>\"Term 1\",\"curriculum_items\"=>Dict{String,Any}[Dict(\"curriculum_requisites\"=>Dict{String,Any}[],\"name\"=>\"BW 101\",\"metrics\"=>Dict{String,Any}(),\"canonical_name\"=>\"\",\"nameSub\"=>\"Introduction to Baskets\",\"id\"=>1,\"credits\"=>3), Dict(\"curriculum_requisites\"=>Dict{String,Any}[],\"name\"=>\"PE 115\",\"metrics\"=>Dict{String,Any}(),\"canonical_name\"=>\"\",\"nameSub\"=>\"Swimming\",\"id\"=>2,\"credits\"=>3)],\"id\"=>1), Dict(\"name\"=>\"Term 2\",\"curriculum_items\"=>Dict{String,Any}[Dict(\"curriculum_requisites\"=>Dict{String,Any}[],\"name\"=>\"BW 111L\",\"metrics\"=>Dict{String,Any}(),\"canonical_name\"=>\"\",\"nameSub\"=>\"Basic Basket Forms Lab\",\"id\"=>5,\"credits\"=>1), Dict(\"curriculum_requisites\"=>Dict{String,Any}[Dict(\"source_id\"=>5,\"target_id\"=>4,\"type\"=>\"strict-coreq\"), Dict(\"source_id\"=>1,\"target_id\"=>4,\"type\"=>\"prereq\")],\"name\"=>\"BW 111\",\"metrics\"=>Dict{String,Any}(),\"canonical_name\"=>\"\",\"nameSub\"=>\"Basic Basket Forms\",\"id\"=>4,\"credits\"=>3)],\"id\"=>2), Dict(\"name\"=>\"Term 3\",\"curriculum_items\"=>Dict{String,Any}[Dict(\"curriculum_requisites\"=>Dict{String,Any}[Dict(\"source_id\"=>1,\"target_id\"=>7,\"type\"=>\"prereq\")],\"name\"=>\"BW 214\",\"metrics\"=>Dict{String,Any}(),\"canonical_name\"=>\"\",\"nameSub\"=>\"Basket Materials & Decoration\",\"id\"=>7,\"credits\"=>3), Dict(\"curriculum_requisites\"=>Dict{String,Any}[],\"name\"=>\"MA 116\",\"metrics\"=>Dict{String,Any}(),\"canonical_name\"=>\"\",\"nameSub\"=>\"Introductory Calculus w/ Applications\",\"id\"=>3,\"credits\"=>4)],\"id\"=>3), Dict(\"name\"=>\"Term 4\",\"curriculum_items\"=>Dict{String,Any}[Dict(\"curriculum_requisites\"=>Dict{String,Any}[Dict(\"source_id\"=>7,\"target_id\"=>8,\"type\"=>\"prereq\"), Dict(\"source_id\"=>2,\"target_id\"=>8,\"type\"=>\"prereq\")],\"name\"=>\"BW 301\",\"metrics\"=>Dict{String,Any}(),\"canonical_name\"=>\"\",\"nameSub\"=>\"Underwater Weaving\",\"id\"=>8,\"credits\"=>3), Dict(\"curriculum_requisites\"=>Dict{String,Any}[Dict(\"source_id\"=>4,\"target_id\"=>6,\"type\"=>\"prereq\"), Dict(\"source_id\"=>3,\"target_id\"=>6,\"type\"=>\"prereq\"), Dict(\"source_id\"=>5,\"target_id\"=>6,\"type\"=>\"prereq\")],\"name\"=>\"BW 201\",\"metrics\"=>Dict{String,Any}(),\"canonical_name\"=>\"\",\"nameSub\"=>\"Advanced Basketry\",\"id\"=>6,\"credits\"=>3)],\"id\"=>4)],\"institution\"=>\"ACME State University\")), nothing)), Set(String[]), nothing, Any[], Dict{Any,Any}(), WebIO.ConnectionPool(Channel{Any}(sz_max:9223372036854775807,sz_curr:0), Set(WebIO.AbstractConnection[]), Channel{WebIO.AbstractConnection}(sz_max:32,sz_curr:0)))"
      ]
     },
     "execution_count": 9,
     "metadata": {
      "application/vnd.webio.node+json": {
       "kernelId": "bba9737e-37c0-4066-86d3-b04a44f79874"
      }
     },
     "output_type": "execute_result"
    },
    {
     "name": "stderr",
     "output_type": "stream",
     "text": [
      "┌ Info: Closed (6):  💀    0↑     0↓🔒  71s 127.0.0.1:8156:8156 ≣16\n",
      "└ @ HTTP.Servers C:\\Users\\orhan\\.julia\\packages\\HTTP\\YjRCz\\src\\Servers.jl:351\n",
      "┌ Info: Closed (0):  💀    9↑     9↓🔒 367s 127.0.0.1:8156:8156 ≣16\n",
      "└ @ HTTP.Servers C:\\Users\\orhan\\.julia\\packages\\HTTP\\YjRCz\\src\\Servers.jl:351\n",
      "┌ Info: Closed (2):  💀    7↑     7↓🔒 341s 127.0.0.1:8156:8156 ≣16\n",
      "└ @ HTTP.Servers C:\\Users\\orhan\\.julia\\packages\\HTTP\\YjRCz\\src\\Servers.jl:351\n",
      "┌ Info: Closed (4):  💀    5↑     5↓🔒 341s 127.0.0.1:8156:8156 ≣16\n",
      "└ @ HTTP.Servers C:\\Users\\orhan\\.julia\\packages\\HTTP\\YjRCz\\src\\Servers.jl:351\n",
      "┌ Info: Closed (3):  💀    4↑     4↓🔒 341s 127.0.0.1:8156:8156 ≣16\n",
      "└ @ HTTP.Servers C:\\Users\\orhan\\.julia\\packages\\HTTP\\YjRCz\\src\\Servers.jl:351\n",
      "┌ Info: Closed (5):  💀    5↑     5↓🔒 341s 127.0.0.1:8156:8156 ≣16\n",
      "└ @ HTTP.Servers C:\\Users\\orhan\\.julia\\packages\\HTTP\\YjRCz\\src\\Servers.jl:351\n"
     ]
    }
   ],
   "source": [
    "out = read_csv_new(\"examples\\\\UBW_curric2.csv\")\n",
    "#visualize(out, notebook=true)\n",
    "visualize(out , changed=update_plan, edit=true, notebook=true)"
   ]
  },
  {
   "cell_type": "code",
   "execution_count": 3,
   "metadata": {
    "scrolled": false
   },
   "outputs": [
    {
     "name": "stderr",
     "output_type": "stream",
     "text": [
      "┌ Info: Accept (0):  🔗    0↑     0↓    0s 127.0.0.1:8156:8156 ≣16\n",
      "└ @ HTTP.Servers C:\\Users\\orhan\\.julia\\packages\\HTTP\\YjRCz\\src\\Servers.jl:343\n",
      "┌ Info: Accept (1):  🔗    0↑     0↓    0s 127.0.0.1:8156:8156 ≣16\n",
      "└ @ HTTP.Servers C:\\Users\\orhan\\.julia\\packages\\HTTP\\YjRCz\\src\\Servers.jl:343\n",
      "┌ Info: Accept (2):  🔗    0↑     0↓    1s 127.0.0.1:8156:8156 ≣16\n",
      "└ @ HTTP.Servers C:\\Users\\orhan\\.julia\\packages\\HTTP\\YjRCz\\src\\Servers.jl:343\n"
     ]
    },
    {
     "data": {
      "application/vnd.webio.node+json": {
       "children": [
        {
         "children": [
          ""
         ],
         "instanceArgs": {
          "namespace": "html",
          "tag": "iframe"
         },
         "nodeType": "DOM",
         "props": {
          "events": {
           "load": "(function (){this.contentWindow.postMessage({\"options\":{\"hideTerms\":true,\"edit\":true},\"curriculum\":{\"name\":\"Underwater Basket Weaving\",\"dp_name\":\"\",\"curriculum_terms\":[{\"name\":\"Term 1\",\"curriculum_items\":[{\"curriculum_requisites\":[],\"name\":\"BW 101\",\"metrics\":{},\"canonical_name\":\"\",\"nameSub\":\"Introduction to Baskets\",\"id\":1,\"credits\":3},{\"curriculum_requisites\":[],\"name\":\"PE 115\",\"metrics\":{},\"canonical_name\":\"\",\"nameSub\":\"Swimming\",\"id\":2,\"credits\":3},{\"curriculum_requisites\":[],\"name\":\"MA 116\",\"metrics\":{},\"canonical_name\":\"\",\"nameSub\":\"Introductory Calculus w/ Applications\",\"id\":3,\"credits\":4}],\"id\":1},{\"name\":\"Term 2\",\"curriculum_items\":[{\"curriculum_requisites\":[{\"source_id\":5,\"target_id\":4,\"type\":\"strict-coreq\"},{\"source_id\":1,\"target_id\":4,\"type\":\"prereq\"}],\"name\":\"BW 111\",\"metrics\":{},\"canonical_name\":\"\",\"nameSub\":\"Basic Basket Forms\",\"id\":4,\"credits\":3},{\"curriculum_requisites\":[],\"name\":\"BW 111L\",\"metrics\":{},\"canonical_name\":\"\",\"nameSub\":\"Basic Basket Forms Lab\",\"id\":5,\"credits\":1},{\"curriculum_requisites\":[{\"source_id\":4,\"target_id\":6,\"type\":\"prereq\"},{\"source_id\":3,\"target_id\":6,\"type\":\"prereq\"},{\"source_id\":5,\"target_id\":6,\"type\":\"prereq\"}],\"name\":\"BW 201\",\"metrics\":{},\"canonical_name\":\"\",\"nameSub\":\"Advanced Basketry\",\"id\":6,\"credits\":3}],\"id\":2},{\"name\":\"Term 3\",\"curriculum_items\":[{\"curriculum_requisites\":[{\"source_id\":1,\"target_id\":7,\"type\":\"prereq\"}],\"name\":\"BW 214\",\"metrics\":{},\"canonical_name\":\"\",\"nameSub\":\"Basket Materials & Decoration\",\"id\":7,\"credits\":3},{\"curriculum_requisites\":[{\"source_id\":7,\"target_id\":8,\"type\":\"prereq\"},{\"source_id\":2,\"target_id\":8,\"type\":\"prereq\"}],\"name\":\"BW 301\",\"metrics\":{},\"canonical_name\":\"\",\"nameSub\":\"Underwater Weaving\",\"id\":8,\"credits\":3}],\"id\":3}],\"institution\":\"\"}},\"*\"); window.removeEventListener(\"message\",window.messageReceived); window.messageReceived=(function (event){return (event.data.curriculum!==undefined) ? (_webIOScope.setObservableValue({\"name\":\"curriculum-data\",\"scope\":\"scope-6b62f440-1a20-42ff-9866-70911e652948\",\"id\":\"ob_02\",\"type\":\"observable\"},event.data.curriculum)) : undefined}); return window.addEventListener(\"message\",window.messageReceived)})"
          },
          "id": "curriculum",
          "src": "http://localhost:8156",
          "style": {
           "border": "none",
           "height": "100vh",
           "margin": "0",
           "padding": "0",
           "width": "100%"
          }
         },
         "type": "node"
        }
       ],
       "instanceArgs": {
        "handlers": {},
        "id": "scope-6b62f440-1a20-42ff-9866-70911e652948",
        "imports": {
         "data": [],
         "type": "async_block"
        },
        "observables": {
         "curriculum-data": {
          "id": "ob_02",
          "sync": true,
          "value": {
           "curriculum": {
            "curriculum_terms": [
             {
              "curriculum_items": [
               {
                "canonical_name": "",
                "credits": 3,
                "curriculum_requisites": [],
                "id": 1,
                "metrics": {},
                "name": "BW 101",
                "nameSub": "Introduction to Baskets"
               },
               {
                "canonical_name": "",
                "credits": 3,
                "curriculum_requisites": [],
                "id": 2,
                "metrics": {},
                "name": "PE 115",
                "nameSub": "Swimming"
               },
               {
                "canonical_name": "",
                "credits": 4,
                "curriculum_requisites": [],
                "id": 3,
                "metrics": {},
                "name": "MA 116",
                "nameSub": "Introductory Calculus w/ Applications"
               }
              ],
              "id": 1,
              "name": "Term 1"
             },
             {
              "curriculum_items": [
               {
                "canonical_name": "",
                "credits": 3,
                "curriculum_requisites": [
                 {
                  "source_id": 5,
                  "target_id": 4,
                  "type": "strict-coreq"
                 },
                 {
                  "source_id": 1,
                  "target_id": 4,
                  "type": "prereq"
                 }
                ],
                "id": 4,
                "metrics": {},
                "name": "BW 111",
                "nameSub": "Basic Basket Forms"
               },
               {
                "canonical_name": "",
                "credits": 1,
                "curriculum_requisites": [],
                "id": 5,
                "metrics": {},
                "name": "BW 111L",
                "nameSub": "Basic Basket Forms Lab"
               },
               {
                "canonical_name": "",
                "credits": 3,
                "curriculum_requisites": [
                 {
                  "source_id": 4,
                  "target_id": 6,
                  "type": "prereq"
                 },
                 {
                  "source_id": 3,
                  "target_id": 6,
                  "type": "prereq"
                 },
                 {
                  "source_id": 5,
                  "target_id": 6,
                  "type": "prereq"
                 }
                ],
                "id": 6,
                "metrics": {},
                "name": "BW 201",
                "nameSub": "Advanced Basketry"
               }
              ],
              "id": 2,
              "name": "Term 2"
             },
             {
              "curriculum_items": [
               {
                "canonical_name": "",
                "credits": 3,
                "curriculum_requisites": [
                 {
                  "source_id": 1,
                  "target_id": 7,
                  "type": "prereq"
                 }
                ],
                "id": 7,
                "metrics": {},
                "name": "BW 214",
                "nameSub": "Basket Materials & Decoration"
               },
               {
                "canonical_name": "",
                "credits": 3,
                "curriculum_requisites": [
                 {
                  "source_id": 7,
                  "target_id": 8,
                  "type": "prereq"
                 },
                 {
                  "source_id": 2,
                  "target_id": 8,
                  "type": "prereq"
                 }
                ],
                "id": 8,
                "metrics": {},
                "name": "BW 301",
                "nameSub": "Underwater Weaving"
               }
              ],
              "id": 3,
              "name": "Term 3"
             }
            ],
            "dp_name": "",
            "institution": "",
            "name": "Underwater Basket Weaving"
           },
           "options": {
            "edit": true,
            "hideTerms": true
           }
          }
         }
        },
        "systemjs_options": null
       },
       "nodeType": "Scope",
       "props": {},
       "type": "node"
      },
      "text/html": [
       "<div\n",
       "    class=\"webio-mountpoint\"\n",
       "    data-webio-mountpoint=\"3814786348975581482\"\n",
       ">\n",
       "    <script>\n",
       "    if (window.require && require.defined && require.defined(\"nbextensions/webio/main\")) {\n",
       "        console.log(\"Jupyter WebIO extension detected, not mounting.\");\n",
       "    } else if (window.WebIO) {\n",
       "        WebIO.mount(\n",
       "            document.querySelector('[data-webio-mountpoint=\"3814786348975581482\"]'),\n",
       "            {\"props\":{},\"nodeType\":\"Scope\",\"type\":\"node\",\"instanceArgs\":{\"imports\":{\"data\":[],\"type\":\"async_block\"},\"id\":\"scope-6b62f440-1a20-42ff-9866-70911e652948\",\"handlers\":{},\"systemjs_options\":null,\"observables\":{\"curriculum-data\":{\"sync\":true,\"id\":\"ob_02\",\"value\":{\"options\":{\"hideTerms\":true,\"edit\":true},\"curriculum\":{\"name\":\"Underwater Basket Weaving\",\"dp_name\":\"\",\"curriculum_terms\":[{\"name\":\"Term 1\",\"curriculum_items\":[{\"curriculum_requisites\":[],\"name\":\"BW 101\",\"metrics\":{},\"canonical_name\":\"\",\"nameSub\":\"Introduction to Baskets\",\"id\":1,\"credits\":3},{\"curriculum_requisites\":[],\"name\":\"PE 115\",\"metrics\":{},\"canonical_name\":\"\",\"nameSub\":\"Swimming\",\"id\":2,\"credits\":3},{\"curriculum_requisites\":[],\"name\":\"MA 116\",\"metrics\":{},\"canonical_name\":\"\",\"nameSub\":\"Introductory Calculus w\\/ Applications\",\"id\":3,\"credits\":4}],\"id\":1},{\"name\":\"Term 2\",\"curriculum_items\":[{\"curriculum_requisites\":[{\"source_id\":5,\"target_id\":4,\"type\":\"strict-coreq\"},{\"source_id\":1,\"target_id\":4,\"type\":\"prereq\"}],\"name\":\"BW 111\",\"metrics\":{},\"canonical_name\":\"\",\"nameSub\":\"Basic Basket Forms\",\"id\":4,\"credits\":3},{\"curriculum_requisites\":[],\"name\":\"BW 111L\",\"metrics\":{},\"canonical_name\":\"\",\"nameSub\":\"Basic Basket Forms Lab\",\"id\":5,\"credits\":1},{\"curriculum_requisites\":[{\"source_id\":4,\"target_id\":6,\"type\":\"prereq\"},{\"source_id\":3,\"target_id\":6,\"type\":\"prereq\"},{\"source_id\":5,\"target_id\":6,\"type\":\"prereq\"}],\"name\":\"BW 201\",\"metrics\":{},\"canonical_name\":\"\",\"nameSub\":\"Advanced Basketry\",\"id\":6,\"credits\":3}],\"id\":2},{\"name\":\"Term 3\",\"curriculum_items\":[{\"curriculum_requisites\":[{\"source_id\":1,\"target_id\":7,\"type\":\"prereq\"}],\"name\":\"BW 214\",\"metrics\":{},\"canonical_name\":\"\",\"nameSub\":\"Basket Materials & Decoration\",\"id\":7,\"credits\":3},{\"curriculum_requisites\":[{\"source_id\":7,\"target_id\":8,\"type\":\"prereq\"},{\"source_id\":2,\"target_id\":8,\"type\":\"prereq\"}],\"name\":\"BW 301\",\"metrics\":{},\"canonical_name\":\"\",\"nameSub\":\"Underwater Weaving\",\"id\":8,\"credits\":3}],\"id\":3}],\"institution\":\"\"}}}}},\"children\":[{\"props\":{\"src\":\"http:\\/\\/localhost:8156\",\"id\":\"curriculum\",\"events\":{\"load\":\"(function (){this.contentWindow.postMessage({\\\"options\\\":{\\\"hideTerms\\\":true,\\\"edit\\\":true},\\\"curriculum\\\":{\\\"name\\\":\\\"Underwater Basket Weaving\\\",\\\"dp_name\\\":\\\"\\\",\\\"curriculum_terms\\\":[{\\\"name\\\":\\\"Term 1\\\",\\\"curriculum_items\\\":[{\\\"curriculum_requisites\\\":[],\\\"name\\\":\\\"BW 101\\\",\\\"metrics\\\":{},\\\"canonical_name\\\":\\\"\\\",\\\"nameSub\\\":\\\"Introduction to Baskets\\\",\\\"id\\\":1,\\\"credits\\\":3},{\\\"curriculum_requisites\\\":[],\\\"name\\\":\\\"PE 115\\\",\\\"metrics\\\":{},\\\"canonical_name\\\":\\\"\\\",\\\"nameSub\\\":\\\"Swimming\\\",\\\"id\\\":2,\\\"credits\\\":3},{\\\"curriculum_requisites\\\":[],\\\"name\\\":\\\"MA 116\\\",\\\"metrics\\\":{},\\\"canonical_name\\\":\\\"\\\",\\\"nameSub\\\":\\\"Introductory Calculus w\\/ Applications\\\",\\\"id\\\":3,\\\"credits\\\":4}],\\\"id\\\":1},{\\\"name\\\":\\\"Term 2\\\",\\\"curriculum_items\\\":[{\\\"curriculum_requisites\\\":[{\\\"source_id\\\":5,\\\"target_id\\\":4,\\\"type\\\":\\\"strict-coreq\\\"},{\\\"source_id\\\":1,\\\"target_id\\\":4,\\\"type\\\":\\\"prereq\\\"}],\\\"name\\\":\\\"BW 111\\\",\\\"metrics\\\":{},\\\"canonical_name\\\":\\\"\\\",\\\"nameSub\\\":\\\"Basic Basket Forms\\\",\\\"id\\\":4,\\\"credits\\\":3},{\\\"curriculum_requisites\\\":[],\\\"name\\\":\\\"BW 111L\\\",\\\"metrics\\\":{},\\\"canonical_name\\\":\\\"\\\",\\\"nameSub\\\":\\\"Basic Basket Forms Lab\\\",\\\"id\\\":5,\\\"credits\\\":1},{\\\"curriculum_requisites\\\":[{\\\"source_id\\\":4,\\\"target_id\\\":6,\\\"type\\\":\\\"prereq\\\"},{\\\"source_id\\\":3,\\\"target_id\\\":6,\\\"type\\\":\\\"prereq\\\"},{\\\"source_id\\\":5,\\\"target_id\\\":6,\\\"type\\\":\\\"prereq\\\"}],\\\"name\\\":\\\"BW 201\\\",\\\"metrics\\\":{},\\\"canonical_name\\\":\\\"\\\",\\\"nameSub\\\":\\\"Advanced Basketry\\\",\\\"id\\\":6,\\\"credits\\\":3}],\\\"id\\\":2},{\\\"name\\\":\\\"Term 3\\\",\\\"curriculum_items\\\":[{\\\"curriculum_requisites\\\":[{\\\"source_id\\\":1,\\\"target_id\\\":7,\\\"type\\\":\\\"prereq\\\"}],\\\"name\\\":\\\"BW 214\\\",\\\"metrics\\\":{},\\\"canonical_name\\\":\\\"\\\",\\\"nameSub\\\":\\\"Basket Materials & Decoration\\\",\\\"id\\\":7,\\\"credits\\\":3},{\\\"curriculum_requisites\\\":[{\\\"source_id\\\":7,\\\"target_id\\\":8,\\\"type\\\":\\\"prereq\\\"},{\\\"source_id\\\":2,\\\"target_id\\\":8,\\\"type\\\":\\\"prereq\\\"}],\\\"name\\\":\\\"BW 301\\\",\\\"metrics\\\":{},\\\"canonical_name\\\":\\\"\\\",\\\"nameSub\\\":\\\"Underwater Weaving\\\",\\\"id\\\":8,\\\"credits\\\":3}],\\\"id\\\":3}],\\\"institution\\\":\\\"\\\"}},\\\"*\\\"); window.removeEventListener(\\\"message\\\",window.messageReceived); window.messageReceived=(function (event){return (event.data.curriculum!==undefined) ? (_webIOScope.setObservableValue({\\\"name\\\":\\\"curriculum-data\\\",\\\"scope\\\":\\\"scope-6b62f440-1a20-42ff-9866-70911e652948\\\",\\\"id\\\":\\\"ob_02\\\",\\\"type\\\":\\\"observable\\\"},event.data.curriculum)) : undefined}); return window.addEventListener(\\\"message\\\",window.messageReceived)})\"},\"style\":{\"padding\":\"0\",\"height\":\"100vh\",\"margin\":\"0\",\"border\":\"none\",\"width\":\"100%\"}},\"nodeType\":\"DOM\",\"type\":\"node\",\"instanceArgs\":{\"namespace\":\"html\",\"tag\":\"iframe\"},\"children\":[\"\"]}]},\n",
       "        );\n",
       "    } else {\n",
       "        document\n",
       "            .querySelector('[data-webio-mountpoint=\"3814786348975581482\"]')\n",
       "            .innerHTML = '<strong>WebIO not detected.</strong>';\n",
       "    }\n",
       "    </script>\n",
       "</div>\n"
      ],
      "text/plain": [
       "WebIO.Scope(\"scope-6b62f440-1a20-42ff-9866-70911e652948\", WebIO.Node{WebIO.DOM}(WebIO.DOM(:html, :iframe), Any[\"\"], Dict{Symbol,Any}(:src=>\"http://localhost:8156\",:id=>\"curriculum\",:events=>Dict(:load=>JSString(\"(function (){this.contentWindow.postMessage({\\\"options\\\":{\\\"hideTerms\\\":true,\\\"edit\\\":true},\\\"curriculum\\\":{\\\"name\\\":\\\"Underwater Basket Weaving\\\",\\\"dp_name\\\":\\\"\\\",\\\"curriculum_terms\\\":[{\\\"name\\\":\\\"Term 1\\\",\\\"curriculum_items\\\":[{\\\"curriculum_requisites\\\":[],\\\"name\\\":\\\"BW 101\\\",\\\"metrics\\\":{},\\\"canonical_name\\\":\\\"\\\",\\\"nameSub\\\":\\\"Introduction to Baskets\\\",\\\"id\\\":1,\\\"credits\\\":3},{\\\"curriculum_requisites\\\":[],\\\"name\\\":\\\"PE 115\\\",\\\"metrics\\\":{},\\\"canonical_name\\\":\\\"\\\",\\\"nameSub\\\":\\\"Swimming\\\",\\\"id\\\":2,\\\"credits\\\":3},{\\\"curriculum_requisites\\\":[],\\\"name\\\":\\\"MA 116\\\",\\\"metrics\\\":{},\\\"canonical_name\\\":\\\"\\\",\\\"nameSub\\\":\\\"Introductory Calculus w/ Applications\\\",\\\"id\\\":3,\\\"credits\\\":4}],\\\"id\\\":1},{\\\"name\\\":\\\"Term 2\\\",\\\"curriculum_items\\\":[{\\\"curriculum_requisites\\\":[{\\\"source_id\\\":5,\\\"target_id\\\":4,\\\"type\\\":\\\"strict-coreq\\\"},{\\\"source_id\\\":1,\\\"target_id\\\":4,\\\"type\\\":\\\"prereq\\\"}],\\\"name\\\":\\\"BW 111\\\",\\\"metrics\\\":{},\\\"canonical_name\\\":\\\"\\\",\\\"nameSub\\\":\\\"Basic Basket Forms\\\",\\\"id\\\":4,\\\"credits\\\":3},{\\\"curriculum_requisites\\\":[],\\\"name\\\":\\\"BW 111L\\\",\\\"metrics\\\":{},\\\"canonical_name\\\":\\\"\\\",\\\"nameSub\\\":\\\"Basic Basket Forms Lab\\\",\\\"id\\\":5,\\\"credits\\\":1},{\\\"curriculum_requisites\\\":[{\\\"source_id\\\":4,\\\"target_id\\\":6,\\\"type\\\":\\\"prereq\\\"},{\\\"source_id\\\":3,\\\"target_id\\\":6,\\\"type\\\":\\\"prereq\\\"},{\\\"source_id\\\":5,\\\"target_id\\\":6,\\\"type\\\":\\\"prereq\\\"}],\\\"name\\\":\\\"BW 201\\\",\\\"metrics\\\":{},\\\"canonical_name\\\":\\\"\\\",\\\"nameSub\\\":\\\"Advanced Basketry\\\",\\\"id\\\":6,\\\"credits\\\":3}],\\\"id\\\":2},{\\\"name\\\":\\\"Term 3\\\",\\\"curriculum_items\\\":[{\\\"curriculum_requisites\\\":[{\\\"source_id\\\":1,\\\"target_id\\\":7,\\\"type\\\":\\\"prereq\\\"}],\\\"name\\\":\\\"BW 214\\\",\\\"metrics\\\":{},\\\"canonical_name\\\":\\\"\\\",\\\"nameSub\\\":\\\"Basket Materials & Decoration\\\",\\\"id\\\":7,\\\"credits\\\":3},{\\\"curriculum_requisites\\\":[{\\\"source_id\\\":7,\\\"target_id\\\":8,\\\"type\\\":\\\"prereq\\\"},{\\\"source_id\\\":2,\\\"target_id\\\":8,\\\"type\\\":\\\"prereq\\\"}],\\\"name\\\":\\\"BW 301\\\",\\\"metrics\\\":{},\\\"canonical_name\\\":\\\"\\\",\\\"nameSub\\\":\\\"Underwater Weaving\\\",\\\"id\\\":8,\\\"credits\\\":3}],\\\"id\\\":3}],\\\"institution\\\":\\\"\\\"}},\\\"*\\\"); window.removeEventListener(\\\"message\\\",window.messageReceived); window.messageReceived=(function (event){return (event.data.curriculum!==undefined) ? (_webIOScope.setObservableValue({\\\"name\\\":\\\"curriculum-data\\\",\\\"scope\\\":\\\"scope-6b62f440-1a20-42ff-9866-70911e652948\\\",\\\"id\\\":\\\"ob_02\\\",\\\"type\\\":\\\"observable\\\"},event.data.curriculum)) : undefined}); return window.addEventListener(\\\"message\\\",window.messageReceived)})\")),:style=>Dict(:padding=>\"0\",:height=>\"100vh\",:margin=>\"0\",:border=>\"none\",:width=>\"100%\")), 1), Dict{String,Tuple{Observables.AbstractObservable,Union{Nothing, Bool}}}(\"curriculum-data\"=>(Observable{Dict{String,Any}} with 1 listeners. Value:\n",
       "Dict{String,Any}(\"options\"=>Dict{String,Any}(\"hideTerms\"=>true,\"edit\"=>true),\"curriculum\"=>Dict{String,Any}(\"name\"=>\"Underwater Basket Weaving\",\"dp_name\"=>\"\",\"curriculum_terms\"=>Dict{String,Any}[Dict(\"name\"=>\"Term 1\",\"curriculum_items\"=>Dict{String,Any}[Dict(\"curriculum_requisites\"=>Dict{String,Any}[],\"name\"=>\"BW 101\",\"metrics\"=>Dict{String,Any}(),\"canonical_name\"=>\"\",\"nameSub\"=>\"Introduction to Baskets\",\"id\"=>1,\"credits\"=>3), Dict(\"curriculum_requisites\"=>Dict{String,Any}[],\"name\"=>\"PE 115\",\"metrics\"=>Dict{String,Any}(),\"canonical_name\"=>\"\",\"nameSub\"=>\"Swimming\",\"id\"=>2,\"credits\"=>3), Dict(\"curriculum_requisites\"=>Dict{String,Any}[],\"name\"=>\"MA 116\",\"metrics\"=>Dict{String,Any}(),\"canonical_name\"=>\"\",\"nameSub\"=>\"Introductory Calculus w/ Applications\",\"id\"=>3,\"credits\"=>4)],\"id\"=>1), Dict(\"name\"=>\"Term 2\",\"curriculum_items\"=>Dict{String,Any}[Dict(\"curriculum_requisites\"=>Dict{String,Any}[Dict(\"source_id\"=>5,\"target_id\"=>4,\"type\"=>\"strict-coreq\"), Dict(\"source_id\"=>1,\"target_id\"=>4,\"type\"=>\"prereq\")],\"name\"=>\"BW 111\",\"metrics\"=>Dict{String,Any}(),\"canonical_name\"=>\"\",\"nameSub\"=>\"Basic Basket Forms\",\"id\"=>4,\"credits\"=>3), Dict(\"curriculum_requisites\"=>Dict{String,Any}[],\"name\"=>\"BW 111L\",\"metrics\"=>Dict{String,Any}(),\"canonical_name\"=>\"\",\"nameSub\"=>\"Basic Basket Forms Lab\",\"id\"=>5,\"credits\"=>1), Dict(\"curriculum_requisites\"=>Dict{String,Any}[Dict(\"source_id\"=>4,\"target_id\"=>6,\"type\"=>\"prereq\"), Dict(\"source_id\"=>3,\"target_id\"=>6,\"type\"=>\"prereq\"), Dict(\"source_id\"=>5,\"target_id\"=>6,\"type\"=>\"prereq\")],\"name\"=>\"BW 201\",\"metrics\"=>Dict{String,Any}(),\"canonical_name\"=>\"\",\"nameSub\"=>\"Advanced Basketry\",\"id\"=>6,\"credits\"=>3)],\"id\"=>2), Dict(\"name\"=>\"Term 3\",\"curriculum_items\"=>Dict{String,Any}[Dict(\"curriculum_requisites\"=>Dict{String,Any}[Dict(\"source_id\"=>1,\"target_id\"=>7,\"type\"=>\"prereq\")],\"name\"=>\"BW 214\",\"metrics\"=>Dict{String,Any}(),\"canonical_name\"=>\"\",\"nameSub\"=>\"Basket Materials & Decoration\",\"id\"=>7,\"credits\"=>3), Dict(\"curriculum_requisites\"=>Dict{String,Any}[Dict(\"source_id\"=>7,\"target_id\"=>8,\"type\"=>\"prereq\"), Dict(\"source_id\"=>2,\"target_id\"=>8,\"type\"=>\"prereq\")],\"name\"=>\"BW 301\",\"metrics\"=>Dict{String,Any}(),\"canonical_name\"=>\"\",\"nameSub\"=>\"Underwater Weaving\",\"id\"=>8,\"credits\"=>3)],\"id\"=>3)],\"institution\"=>\"\")), nothing)), Set(String[]), nothing, Any[], Dict{Any,Any}(), WebIO.ConnectionPool(Channel{Any}(sz_max:9223372036854775807,sz_curr:0), Set(WebIO.AbstractConnection[]), Channel{WebIO.AbstractConnection}(sz_max:32,sz_curr:0)))"
      ]
     },
     "execution_count": 3,
     "metadata": {
      "application/vnd.webio.node+json": {
       "kernelId": "bba9737e-37c0-4066-86d3-b04a44f79874"
      }
     },
     "output_type": "execute_result"
    }
   ],
   "source": [
    "out = read_csv_new(\"examples\\\\UBW_curriculum_terms.csv\")\n",
    "visualize(out, edit=true, notebook=true)"
   ]
  },
  {
   "cell_type": "code",
   "execution_count": 4,
   "metadata": {
    "scrolled": false
   },
   "outputs": [
    {
     "name": "stderr",
     "output_type": "stream",
     "text": [
      "┌ Info: Accept (3):  🔗    0↑     0↓    0s 127.0.0.1:8156:8156 ≣16\n",
      "└ @ HTTP.Servers C:\\Users\\orhan\\.julia\\packages\\HTTP\\YjRCz\\src\\Servers.jl:343\n",
      "┌ Info: Accept (4):  🔗    0↑     0↓    0s 127.0.0.1:8156:8156 ≣16\n",
      "└ @ HTTP.Servers C:\\Users\\orhan\\.julia\\packages\\HTTP\\YjRCz\\src\\Servers.jl:343\n",
      "┌ Info: Accept (5):  🔗    0↑     0↓    0s 127.0.0.1:8156:8156 ≣16\n",
      "└ @ HTTP.Servers C:\\Users\\orhan\\.julia\\packages\\HTTP\\YjRCz\\src\\Servers.jl:343\n"
     ]
    },
    {
     "data": {
      "application/vnd.webio.node+json": {
       "children": [
        {
         "children": [
          ""
         ],
         "instanceArgs": {
          "namespace": "html",
          "tag": "iframe"
         },
         "nodeType": "DOM",
         "props": {
          "events": {
           "load": "(function (){this.contentWindow.postMessage({\"options\":{\"hideTerms\":false,\"edit\":true},\"curriculum\":{\"name\":\"Curriculum 1\",\"dp_name\":\"\",\"curriculum_terms\":[{\"name\":\"Term 1\",\"curriculum_items\":[{\"curriculum_requisites\":[],\"name\":\"C 1\",\"metrics\":{\"centrality\":0,\"complexity\":5.0,\"blocking factor\":2,\"delay factor\":3.0},\"canonical_name\":\"Course Example 1\",\"nameSub\":\"Course 1\",\"id\":1,\"credits\":3},{\"curriculum_requisites\":[{\"source_id\":1,\"target_id\":2,\"type\":\"prereq\"}],\"name\":\"C 2\",\"metrics\":{\"centrality\":3,\"complexity\":4.0,\"blocking factor\":1,\"delay factor\":3.0},\"canonical_name\":\"Course Example 2\",\"nameSub\":\"Course 2\",\"id\":2,\"credits\":2}],\"id\":1},{\"name\":\"Term 2\",\"curriculum_items\":[{\"curriculum_requisites\":[{\"source_id\":2,\"target_id\":3,\"type\":\"prereq\"},{\"source_id\":1,\"target_id\":3,\"type\":\"prereq\"}],\"name\":\"AC 1\",\"metrics\":{\"centrality\":0,\"complexity\":3.0,\"blocking factor\":0,\"delay factor\":3.0},\"canonical_name\":\"\",\"nameSub\":\"Additional Course 1\",\"id\":3,\"credits\":3},{\"curriculum_requisites\":[],\"name\":\"AC 2\",\"metrics\":{\"centrality\":0,\"complexity\":1.0,\"blocking factor\":0,\"delay factor\":1.0},\"canonical_name\":\"\",\"nameSub\":\"Additional Course 2\",\"id\":4,\"credits\":3}],\"id\":2}],\"institution\":\"Name of the Institution\"}},\"*\"); window.removeEventListener(\"message\",window.messageReceived); window.messageReceived=(function (event){return (event.data.curriculum!==undefined) ? (_webIOScope.setObservableValue({\"name\":\"curriculum-data\",\"scope\":\"scope-003d03e3-b6b7-4bce-ae17-9eba553fcacb\",\"id\":\"ob_03\",\"type\":\"observable\"},event.data.curriculum)) : undefined}); return window.addEventListener(\"message\",window.messageReceived)})"
          },
          "id": "curriculum",
          "src": "http://localhost:8156",
          "style": {
           "border": "none",
           "height": "100vh",
           "margin": "0",
           "padding": "0",
           "width": "100%"
          }
         },
         "type": "node"
        }
       ],
       "instanceArgs": {
        "handlers": {},
        "id": "scope-003d03e3-b6b7-4bce-ae17-9eba553fcacb",
        "imports": {
         "data": [],
         "type": "async_block"
        },
        "observables": {
         "curriculum-data": {
          "id": "ob_03",
          "sync": true,
          "value": {
           "curriculum": {
            "curriculum_terms": [
             {
              "curriculum_items": [
               {
                "canonical_name": "Course Example 1",
                "credits": 3,
                "curriculum_requisites": [],
                "id": 1,
                "metrics": {
                 "blocking factor": 2,
                 "centrality": 0,
                 "complexity": 5,
                 "delay factor": 3
                },
                "name": "C 1",
                "nameSub": "Course 1"
               },
               {
                "canonical_name": "Course Example 2",
                "credits": 2,
                "curriculum_requisites": [
                 {
                  "source_id": 1,
                  "target_id": 2,
                  "type": "prereq"
                 }
                ],
                "id": 2,
                "metrics": {
                 "blocking factor": 1,
                 "centrality": 3,
                 "complexity": 4,
                 "delay factor": 3
                },
                "name": "C 2",
                "nameSub": "Course 2"
               }
              ],
              "id": 1,
              "name": "Term 1"
             },
             {
              "curriculum_items": [
               {
                "canonical_name": "",
                "credits": 3,
                "curriculum_requisites": [
                 {
                  "source_id": 2,
                  "target_id": 3,
                  "type": "prereq"
                 },
                 {
                  "source_id": 1,
                  "target_id": 3,
                  "type": "prereq"
                 }
                ],
                "id": 3,
                "metrics": {
                 "blocking factor": 0,
                 "centrality": 0,
                 "complexity": 3,
                 "delay factor": 3
                },
                "name": "AC 1",
                "nameSub": "Additional Course 1"
               },
               {
                "canonical_name": "",
                "credits": 3,
                "curriculum_requisites": [],
                "id": 4,
                "metrics": {
                 "blocking factor": 0,
                 "centrality": 0,
                 "complexity": 1,
                 "delay factor": 1
                },
                "name": "AC 2",
                "nameSub": "Additional Course 2"
               }
              ],
              "id": 2,
              "name": "Term 2"
             }
            ],
            "dp_name": "",
            "institution": "Name of the Institution",
            "name": "Curriculum 1"
           },
           "options": {
            "edit": true,
            "hideTerms": false
           }
          }
         }
        },
        "systemjs_options": null
       },
       "nodeType": "Scope",
       "props": {},
       "type": "node"
      },
      "text/html": [
       "<div\n",
       "    class=\"webio-mountpoint\"\n",
       "    data-webio-mountpoint=\"9881494118005315801\"\n",
       ">\n",
       "    <script>\n",
       "    if (window.require && require.defined && require.defined(\"nbextensions/webio/main\")) {\n",
       "        console.log(\"Jupyter WebIO extension detected, not mounting.\");\n",
       "    } else if (window.WebIO) {\n",
       "        WebIO.mount(\n",
       "            document.querySelector('[data-webio-mountpoint=\"9881494118005315801\"]'),\n",
       "            {\"props\":{},\"nodeType\":\"Scope\",\"type\":\"node\",\"instanceArgs\":{\"imports\":{\"data\":[],\"type\":\"async_block\"},\"id\":\"scope-003d03e3-b6b7-4bce-ae17-9eba553fcacb\",\"handlers\":{},\"systemjs_options\":null,\"observables\":{\"curriculum-data\":{\"sync\":true,\"id\":\"ob_03\",\"value\":{\"options\":{\"hideTerms\":false,\"edit\":true},\"curriculum\":{\"name\":\"Curriculum 1\",\"dp_name\":\"\",\"curriculum_terms\":[{\"name\":\"Term 1\",\"curriculum_items\":[{\"curriculum_requisites\":[],\"name\":\"C 1\",\"metrics\":{\"centrality\":0,\"complexity\":5.0,\"blocking factor\":2,\"delay factor\":3.0},\"canonical_name\":\"Course Example 1\",\"nameSub\":\"Course 1\",\"id\":1,\"credits\":3},{\"curriculum_requisites\":[{\"source_id\":1,\"target_id\":2,\"type\":\"prereq\"}],\"name\":\"C 2\",\"metrics\":{\"centrality\":3,\"complexity\":4.0,\"blocking factor\":1,\"delay factor\":3.0},\"canonical_name\":\"Course Example 2\",\"nameSub\":\"Course 2\",\"id\":2,\"credits\":2}],\"id\":1},{\"name\":\"Term 2\",\"curriculum_items\":[{\"curriculum_requisites\":[{\"source_id\":2,\"target_id\":3,\"type\":\"prereq\"},{\"source_id\":1,\"target_id\":3,\"type\":\"prereq\"}],\"name\":\"AC 1\",\"metrics\":{\"centrality\":0,\"complexity\":3.0,\"blocking factor\":0,\"delay factor\":3.0},\"canonical_name\":\"\",\"nameSub\":\"Additional Course 1\",\"id\":3,\"credits\":3},{\"curriculum_requisites\":[],\"name\":\"AC 2\",\"metrics\":{\"centrality\":0,\"complexity\":1.0,\"blocking factor\":0,\"delay factor\":1.0},\"canonical_name\":\"\",\"nameSub\":\"Additional Course 2\",\"id\":4,\"credits\":3}],\"id\":2}],\"institution\":\"Name of the Institution\"}}}}},\"children\":[{\"props\":{\"src\":\"http:\\/\\/localhost:8156\",\"id\":\"curriculum\",\"events\":{\"load\":\"(function (){this.contentWindow.postMessage({\\\"options\\\":{\\\"hideTerms\\\":false,\\\"edit\\\":true},\\\"curriculum\\\":{\\\"name\\\":\\\"Curriculum 1\\\",\\\"dp_name\\\":\\\"\\\",\\\"curriculum_terms\\\":[{\\\"name\\\":\\\"Term 1\\\",\\\"curriculum_items\\\":[{\\\"curriculum_requisites\\\":[],\\\"name\\\":\\\"C 1\\\",\\\"metrics\\\":{\\\"centrality\\\":0,\\\"complexity\\\":5.0,\\\"blocking factor\\\":2,\\\"delay factor\\\":3.0},\\\"canonical_name\\\":\\\"Course Example 1\\\",\\\"nameSub\\\":\\\"Course 1\\\",\\\"id\\\":1,\\\"credits\\\":3},{\\\"curriculum_requisites\\\":[{\\\"source_id\\\":1,\\\"target_id\\\":2,\\\"type\\\":\\\"prereq\\\"}],\\\"name\\\":\\\"C 2\\\",\\\"metrics\\\":{\\\"centrality\\\":3,\\\"complexity\\\":4.0,\\\"blocking factor\\\":1,\\\"delay factor\\\":3.0},\\\"canonical_name\\\":\\\"Course Example 2\\\",\\\"nameSub\\\":\\\"Course 2\\\",\\\"id\\\":2,\\\"credits\\\":2}],\\\"id\\\":1},{\\\"name\\\":\\\"Term 2\\\",\\\"curriculum_items\\\":[{\\\"curriculum_requisites\\\":[{\\\"source_id\\\":2,\\\"target_id\\\":3,\\\"type\\\":\\\"prereq\\\"},{\\\"source_id\\\":1,\\\"target_id\\\":3,\\\"type\\\":\\\"prereq\\\"}],\\\"name\\\":\\\"AC 1\\\",\\\"metrics\\\":{\\\"centrality\\\":0,\\\"complexity\\\":3.0,\\\"blocking factor\\\":0,\\\"delay factor\\\":3.0},\\\"canonical_name\\\":\\\"\\\",\\\"nameSub\\\":\\\"Additional Course 1\\\",\\\"id\\\":3,\\\"credits\\\":3},{\\\"curriculum_requisites\\\":[],\\\"name\\\":\\\"AC 2\\\",\\\"metrics\\\":{\\\"centrality\\\":0,\\\"complexity\\\":1.0,\\\"blocking factor\\\":0,\\\"delay factor\\\":1.0},\\\"canonical_name\\\":\\\"\\\",\\\"nameSub\\\":\\\"Additional Course 2\\\",\\\"id\\\":4,\\\"credits\\\":3}],\\\"id\\\":2}],\\\"institution\\\":\\\"Name of the Institution\\\"}},\\\"*\\\"); window.removeEventListener(\\\"message\\\",window.messageReceived); window.messageReceived=(function (event){return (event.data.curriculum!==undefined) ? (_webIOScope.setObservableValue({\\\"name\\\":\\\"curriculum-data\\\",\\\"scope\\\":\\\"scope-003d03e3-b6b7-4bce-ae17-9eba553fcacb\\\",\\\"id\\\":\\\"ob_03\\\",\\\"type\\\":\\\"observable\\\"},event.data.curriculum)) : undefined}); return window.addEventListener(\\\"message\\\",window.messageReceived)})\"},\"style\":{\"padding\":\"0\",\"height\":\"100vh\",\"margin\":\"0\",\"border\":\"none\",\"width\":\"100%\"}},\"nodeType\":\"DOM\",\"type\":\"node\",\"instanceArgs\":{\"namespace\":\"html\",\"tag\":\"iframe\"},\"children\":[\"\"]}]},\n",
       "        );\n",
       "    } else {\n",
       "        document\n",
       "            .querySelector('[data-webio-mountpoint=\"9881494118005315801\"]')\n",
       "            .innerHTML = '<strong>WebIO not detected.</strong>';\n",
       "    }\n",
       "    </script>\n",
       "</div>\n"
      ],
      "text/plain": [
       "WebIO.Scope(\"scope-003d03e3-b6b7-4bce-ae17-9eba553fcacb\", WebIO.Node{WebIO.DOM}(WebIO.DOM(:html, :iframe), Any[\"\"], Dict{Symbol,Any}(:src=>\"http://localhost:8156\",:id=>\"curriculum\",:events=>Dict(:load=>JSString(\"(function (){this.contentWindow.postMessage({\\\"options\\\":{\\\"hideTerms\\\":false,\\\"edit\\\":true},\\\"curriculum\\\":{\\\"name\\\":\\\"Curriculum 1\\\",\\\"dp_name\\\":\\\"\\\",\\\"curriculum_terms\\\":[{\\\"name\\\":\\\"Term 1\\\",\\\"curriculum_items\\\":[{\\\"curriculum_requisites\\\":[],\\\"name\\\":\\\"C 1\\\",\\\"metrics\\\":{\\\"centrality\\\":0,\\\"complexity\\\":5.0,\\\"blocking factor\\\":2,\\\"delay factor\\\":3.0},\\\"canonical_name\\\":\\\"Course Example 1\\\",\\\"nameSub\\\":\\\"Course 1\\\",\\\"id\\\":1,\\\"credits\\\":3},{\\\"curriculum_requisites\\\":[{\\\"source_id\\\":1,\\\"target_id\\\":2,\\\"type\\\":\\\"prereq\\\"}],\\\"name\\\":\\\"C 2\\\",\\\"metrics\\\":{\\\"centrality\\\":3,\\\"complexity\\\":4.0,\\\"blocking factor\\\":1,\\\"delay factor\\\":3.0},\\\"canonical_name\\\":\\\"Course Example 2\\\",\\\"nameSub\\\":\\\"Course 2\\\",\\\"id\\\":2,\\\"credits\\\":2}],\\\"id\\\":1},{\\\"name\\\":\\\"Term 2\\\",\\\"curriculum_items\\\":[{\\\"curriculum_requisites\\\":[{\\\"source_id\\\":2,\\\"target_id\\\":3,\\\"type\\\":\\\"prereq\\\"},{\\\"source_id\\\":1,\\\"target_id\\\":3,\\\"type\\\":\\\"prereq\\\"}],\\\"name\\\":\\\"AC 1\\\",\\\"metrics\\\":{\\\"centrality\\\":0,\\\"complexity\\\":3.0,\\\"blocking factor\\\":0,\\\"delay factor\\\":3.0},\\\"canonical_name\\\":\\\"\\\",\\\"nameSub\\\":\\\"Additional Course 1\\\",\\\"id\\\":3,\\\"credits\\\":3},{\\\"curriculum_requisites\\\":[],\\\"name\\\":\\\"AC 2\\\",\\\"metrics\\\":{\\\"centrality\\\":0,\\\"complexity\\\":1.0,\\\"blocking factor\\\":0,\\\"delay factor\\\":1.0},\\\"canonical_name\\\":\\\"\\\",\\\"nameSub\\\":\\\"Additional Course 2\\\",\\\"id\\\":4,\\\"credits\\\":3}],\\\"id\\\":2}],\\\"institution\\\":\\\"Name of the Institution\\\"}},\\\"*\\\"); window.removeEventListener(\\\"message\\\",window.messageReceived); window.messageReceived=(function (event){return (event.data.curriculum!==undefined) ? (_webIOScope.setObservableValue({\\\"name\\\":\\\"curriculum-data\\\",\\\"scope\\\":\\\"scope-003d03e3-b6b7-4bce-ae17-9eba553fcacb\\\",\\\"id\\\":\\\"ob_03\\\",\\\"type\\\":\\\"observable\\\"},event.data.curriculum)) : undefined}); return window.addEventListener(\\\"message\\\",window.messageReceived)})\")),:style=>Dict(:padding=>\"0\",:height=>\"100vh\",:margin=>\"0\",:border=>\"none\",:width=>\"100%\")), 1), Dict{String,Tuple{Observables.AbstractObservable,Union{Nothing, Bool}}}(\"curriculum-data\"=>(Observable{Dict{String,Any}} with 1 listeners. Value:\n",
       "Dict{String,Any}(\"options\"=>Dict{String,Any}(\"hideTerms\"=>false,\"edit\"=>true),\"curriculum\"=>Dict{String,Any}(\"name\"=>\"Curriculum 1\",\"dp_name\"=>\"\",\"curriculum_terms\"=>Dict{String,Any}[Dict(\"name\"=>\"Term 1\",\"curriculum_items\"=>Dict{String,Any}[Dict(\"curriculum_requisites\"=>Dict{String,Any}[],\"name\"=>\"C 1\",\"metrics\"=>Dict{String,Any}(\"centrality\"=>0,\"complexity\"=>5.0,\"blocking factor\"=>2,\"delay factor\"=>3.0),\"canonical_name\"=>\"Course Example 1\",\"nameSub\"=>\"Course 1\",\"id\"=>1,\"credits\"=>3), Dict(\"curriculum_requisites\"=>Dict{String,Any}[Dict(\"source_id\"=>1,\"target_id\"=>2,\"type\"=>\"prereq\")],\"name\"=>\"C 2\",\"metrics\"=>Dict{String,Any}(\"centrality\"=>3,\"complexity\"=>4.0,\"blocking factor\"=>1,\"delay factor\"=>3.0),\"canonical_name\"=>\"Course Example 2\",\"nameSub\"=>\"Course 2\",\"id\"=>2,\"credits\"=>2)],\"id\"=>1), Dict(\"name\"=>\"Term 2\",\"curriculum_items\"=>Dict{String,Any}[Dict(\"curriculum_requisites\"=>Dict{String,Any}[Dict(\"source_id\"=>2,\"target_id\"=>3,\"type\"=>\"prereq\"), Dict(\"source_id\"=>1,\"target_id\"=>3,\"type\"=>\"prereq\")],\"name\"=>\"AC 1\",\"metrics\"=>Dict{String,Any}(\"centrality\"=>0,\"complexity\"=>3.0,\"blocking factor\"=>0,\"delay factor\"=>3.0),\"canonical_name\"=>\"\",\"nameSub\"=>\"Additional Course 1\",\"id\"=>3,\"credits\"=>3), Dict(\"curriculum_requisites\"=>Dict{String,Any}[],\"name\"=>\"AC 2\",\"metrics\"=>Dict{String,Any}(\"centrality\"=>0,\"complexity\"=>1.0,\"blocking factor\"=>0,\"delay factor\"=>1.0),\"canonical_name\"=>\"\",\"nameSub\"=>\"Additional Course 2\",\"id\"=>4,\"credits\"=>3)],\"id\"=>2)],\"institution\"=>\"Name of the Institution\")), nothing)), Set(String[]), nothing, Any[], Dict{Any,Any}(), WebIO.ConnectionPool(Channel{Any}(sz_max:9223372036854775807,sz_curr:0), Set(WebIO.AbstractConnection[]), Channel{WebIO.AbstractConnection}(sz_max:32,sz_curr:0)))"
      ]
     },
     "execution_count": 4,
     "metadata": {
      "application/vnd.webio.node+json": {
       "kernelId": "bba9737e-37c0-4066-86d3-b04a44f79874"
      }
     },
     "output_type": "execute_result"
    }
   ],
   "source": [
    "out = read_csv_new(\"examples\\\\template.csv\")\n",
    "#write_csv(out)\n",
    "visualize(out, changed=update_plan , edit=true, notebook=true)"
   ]
  },
  {
   "cell_type": "code",
   "execution_count": 5,
   "metadata": {},
   "outputs": [
    {
     "data": {
      "application/vnd.webio.node+json": {
       "children": [
        {
         "children": [
          ""
         ],
         "instanceArgs": {
          "namespace": "html",
          "tag": "iframe"
         },
         "nodeType": "DOM",
         "props": {
          "events": {
           "load": "(function (){this.contentWindow.postMessage({\"options\":{\"hideTerms\":false,\"edit\":true},\"curriculum\":{\"name\":\"Underwater Basket Weaving\",\"dp_name\":\"2-year plan\",\"curriculum_terms\":[{\"name\":\"Term 1\",\"curriculum_items\":[{\"curriculum_requisites\":[],\"name\":\"BW 101\",\"metrics\":{},\"canonical_name\":\"Baskets I\",\"nameSub\":\"Introduction to Baskets\",\"id\":1,\"credits\":3},{\"curriculum_requisites\":[],\"name\":\"PE 115\",\"metrics\":{},\"canonical_name\":\"Physical Education\",\"nameSub\":\"Swimming\",\"id\":2,\"credits\":3},{\"curriculum_requisites\":[],\"name\":\"MA 116\",\"metrics\":{},\"canonical_name\":\"Calculus I\",\"nameSub\":\"Introductory Calculus w/ Applications\",\"id\":3,\"credits\":4}],\"id\":1},{\"name\":\"Term 2\",\"curriculum_items\":[{\"curriculum_requisites\":[{\"source_id\":5,\"target_id\":4,\"type\":\"strict-coreq\"},{\"source_id\":1,\"target_id\":4,\"type\":\"prereq\"}],\"name\":\"BW 111\",\"metrics\":{},\"canonical_name\":\"Baskets II\",\"nameSub\":\"Basic Basket Forms\",\"id\":4,\"credits\":3},{\"curriculum_requisites\":[],\"name\":\"BW 111L\",\"metrics\":{},\"canonical_name\":\"Baskets II Laboratory\",\"nameSub\":\"Basic Basket Forms Lab\",\"id\":5,\"credits\":1},{\"curriculum_requisites\":[{\"source_id\":4,\"target_id\":6,\"type\":\"prereq\"},{\"source_id\":3,\"target_id\":6,\"type\":\"prereq\"},{\"source_id\":5,\"target_id\":6,\"type\":\"prereq\"}],\"name\":\"BW 201\",\"metrics\":{},\"canonical_name\":\"Baskets III\",\"nameSub\":\"Advanced Basketry\",\"id\":6,\"credits\":3},{\"curriculum_requisites\":[],\"name\":\" \",\"metrics\":{},\"canonical_name\":\"Humanitites Core\",\"nameSub\":\"Humanitites Elective\",\"id\":9,\"credits\":3}],\"id\":2},{\"name\":\"Term 3\",\"curriculum_items\":[{\"curriculum_requisites\":[{\"source_id\":1,\"target_id\":7,\"type\":\"prereq\"}],\"name\":\"BW 214\",\"metrics\":{},\"canonical_name\":\"Basket Materials\",\"nameSub\":\"Basket Materials & Decoration\",\"id\":7,\"credits\":3},{\"curriculum_requisites\":[{\"source_id\":7,\"target_id\":8,\"type\":\"prereq\"},{\"source_id\":2,\"target_id\":8,\"type\":\"prereq\"}],\"name\":\"BW 301\",\"metrics\":{},\"canonical_name\":\"Baskets IV\",\"nameSub\":\"Underwater Weaving\",\"id\":8,\"credits\":3},{\"curriculum_requisites\":[],\"name\":\" \",\"metrics\":{},\"canonical_name\":\"\",\"nameSub\":\"Social Sciences Elective\",\"id\":10,\"credits\":3}],\"id\":3},{\"name\":\"Term 4\",\"curriculum_items\":[{\"curriculum_requisites\":[],\"name\":\" \",\"metrics\":{},\"canonical_name\":\"\",\"nameSub\":\"Technical Elective\",\"id\":11,\"credits\":3},{\"curriculum_requisites\":[],\"name\":\" \",\"metrics\":{},\"canonical_name\":\"\",\"nameSub\":\"General Elective\",\"id\":12,\"credits\":3}],\"id\":4}],\"institution\":\"ACME State University\"}},\"*\"); window.removeEventListener(\"message\",window.messageReceived); window.messageReceived=(function (event){return (event.data.curriculum!==undefined) ? (_webIOScope.setObservableValue({\"name\":\"curriculum-data\",\"scope\":\"scope-8322691a-366b-4554-899a-289258ec6391\",\"id\":\"ob_04\",\"type\":\"observable\"},event.data.curriculum)) : undefined}); return window.addEventListener(\"message\",window.messageReceived)})"
          },
          "id": "curriculum",
          "src": "http://localhost:8156",
          "style": {
           "border": "none",
           "height": "100vh",
           "margin": "0",
           "padding": "0",
           "width": "100%"
          }
         },
         "type": "node"
        }
       ],
       "instanceArgs": {
        "handlers": {},
        "id": "scope-8322691a-366b-4554-899a-289258ec6391",
        "imports": {
         "data": [],
         "type": "async_block"
        },
        "observables": {
         "curriculum-data": {
          "id": "ob_04",
          "sync": true,
          "value": {
           "curriculum": {
            "curriculum_terms": [
             {
              "curriculum_items": [
               {
                "canonical_name": "Baskets I",
                "credits": 3,
                "curriculum_requisites": [],
                "id": 1,
                "metrics": {},
                "name": "BW 101",
                "nameSub": "Introduction to Baskets"
               },
               {
                "canonical_name": "Physical Education",
                "credits": 3,
                "curriculum_requisites": [],
                "id": 2,
                "metrics": {},
                "name": "PE 115",
                "nameSub": "Swimming"
               },
               {
                "canonical_name": "Calculus I",
                "credits": 4,
                "curriculum_requisites": [],
                "id": 3,
                "metrics": {},
                "name": "MA 116",
                "nameSub": "Introductory Calculus w/ Applications"
               }
              ],
              "id": 1,
              "name": "Term 1"
             },
             {
              "curriculum_items": [
               {
                "canonical_name": "Baskets II",
                "credits": 3,
                "curriculum_requisites": [
                 {
                  "source_id": 5,
                  "target_id": 4,
                  "type": "strict-coreq"
                 },
                 {
                  "source_id": 1,
                  "target_id": 4,
                  "type": "prereq"
                 }
                ],
                "id": 4,
                "metrics": {},
                "name": "BW 111",
                "nameSub": "Basic Basket Forms"
               },
               {
                "canonical_name": "Baskets II Laboratory",
                "credits": 1,
                "curriculum_requisites": [],
                "id": 5,
                "metrics": {},
                "name": "BW 111L",
                "nameSub": "Basic Basket Forms Lab"
               },
               {
                "canonical_name": "Baskets III",
                "credits": 3,
                "curriculum_requisites": [
                 {
                  "source_id": 4,
                  "target_id": 6,
                  "type": "prereq"
                 },
                 {
                  "source_id": 3,
                  "target_id": 6,
                  "type": "prereq"
                 },
                 {
                  "source_id": 5,
                  "target_id": 6,
                  "type": "prereq"
                 }
                ],
                "id": 6,
                "metrics": {},
                "name": "BW 201",
                "nameSub": "Advanced Basketry"
               },
               {
                "canonical_name": "Humanitites Core",
                "credits": 3,
                "curriculum_requisites": [],
                "id": 9,
                "metrics": {},
                "name": " ",
                "nameSub": "Humanitites Elective"
               }
              ],
              "id": 2,
              "name": "Term 2"
             },
             {
              "curriculum_items": [
               {
                "canonical_name": "Basket Materials",
                "credits": 3,
                "curriculum_requisites": [
                 {
                  "source_id": 1,
                  "target_id": 7,
                  "type": "prereq"
                 }
                ],
                "id": 7,
                "metrics": {},
                "name": "BW 214",
                "nameSub": "Basket Materials & Decoration"
               },
               {
                "canonical_name": "Baskets IV",
                "credits": 3,
                "curriculum_requisites": [
                 {
                  "source_id": 7,
                  "target_id": 8,
                  "type": "prereq"
                 },
                 {
                  "source_id": 2,
                  "target_id": 8,
                  "type": "prereq"
                 }
                ],
                "id": 8,
                "metrics": {},
                "name": "BW 301",
                "nameSub": "Underwater Weaving"
               },
               {
                "canonical_name": "",
                "credits": 3,
                "curriculum_requisites": [],
                "id": 10,
                "metrics": {},
                "name": " ",
                "nameSub": "Social Sciences Elective"
               }
              ],
              "id": 3,
              "name": "Term 3"
             },
             {
              "curriculum_items": [
               {
                "canonical_name": "",
                "credits": 3,
                "curriculum_requisites": [],
                "id": 11,
                "metrics": {},
                "name": " ",
                "nameSub": "Technical Elective"
               },
               {
                "canonical_name": "",
                "credits": 3,
                "curriculum_requisites": [],
                "id": 12,
                "metrics": {},
                "name": " ",
                "nameSub": "General Elective"
               }
              ],
              "id": 4,
              "name": "Term 4"
             }
            ],
            "dp_name": "2-year plan",
            "institution": "ACME State University",
            "name": "Underwater Basket Weaving"
           },
           "options": {
            "edit": true,
            "hideTerms": false
           }
          }
         }
        },
        "systemjs_options": null
       },
       "nodeType": "Scope",
       "props": {},
       "type": "node"
      },
      "text/html": [
       "<div\n",
       "    class=\"webio-mountpoint\"\n",
       "    data-webio-mountpoint=\"10834027255075740874\"\n",
       ">\n",
       "    <script>\n",
       "    if (window.require && require.defined && require.defined(\"nbextensions/webio/main\")) {\n",
       "        console.log(\"Jupyter WebIO extension detected, not mounting.\");\n",
       "    } else if (window.WebIO) {\n",
       "        WebIO.mount(\n",
       "            document.querySelector('[data-webio-mountpoint=\"10834027255075740874\"]'),\n",
       "            {\"props\":{},\"nodeType\":\"Scope\",\"type\":\"node\",\"instanceArgs\":{\"imports\":{\"data\":[],\"type\":\"async_block\"},\"id\":\"scope-8322691a-366b-4554-899a-289258ec6391\",\"handlers\":{},\"systemjs_options\":null,\"observables\":{\"curriculum-data\":{\"sync\":true,\"id\":\"ob_04\",\"value\":{\"options\":{\"hideTerms\":false,\"edit\":true},\"curriculum\":{\"name\":\"Underwater Basket Weaving\",\"dp_name\":\"2-year plan\",\"curriculum_terms\":[{\"name\":\"Term 1\",\"curriculum_items\":[{\"curriculum_requisites\":[],\"name\":\"BW 101\",\"metrics\":{},\"canonical_name\":\"Baskets I\",\"nameSub\":\"Introduction to Baskets\",\"id\":1,\"credits\":3},{\"curriculum_requisites\":[],\"name\":\"PE 115\",\"metrics\":{},\"canonical_name\":\"Physical Education\",\"nameSub\":\"Swimming\",\"id\":2,\"credits\":3},{\"curriculum_requisites\":[],\"name\":\"MA 116\",\"metrics\":{},\"canonical_name\":\"Calculus I\",\"nameSub\":\"Introductory Calculus w\\/ Applications\",\"id\":3,\"credits\":4}],\"id\":1},{\"name\":\"Term 2\",\"curriculum_items\":[{\"curriculum_requisites\":[{\"source_id\":5,\"target_id\":4,\"type\":\"strict-coreq\"},{\"source_id\":1,\"target_id\":4,\"type\":\"prereq\"}],\"name\":\"BW 111\",\"metrics\":{},\"canonical_name\":\"Baskets II\",\"nameSub\":\"Basic Basket Forms\",\"id\":4,\"credits\":3},{\"curriculum_requisites\":[],\"name\":\"BW 111L\",\"metrics\":{},\"canonical_name\":\"Baskets II Laboratory\",\"nameSub\":\"Basic Basket Forms Lab\",\"id\":5,\"credits\":1},{\"curriculum_requisites\":[{\"source_id\":4,\"target_id\":6,\"type\":\"prereq\"},{\"source_id\":3,\"target_id\":6,\"type\":\"prereq\"},{\"source_id\":5,\"target_id\":6,\"type\":\"prereq\"}],\"name\":\"BW 201\",\"metrics\":{},\"canonical_name\":\"Baskets III\",\"nameSub\":\"Advanced Basketry\",\"id\":6,\"credits\":3},{\"curriculum_requisites\":[],\"name\":\" \",\"metrics\":{},\"canonical_name\":\"Humanitites Core\",\"nameSub\":\"Humanitites Elective\",\"id\":9,\"credits\":3}],\"id\":2},{\"name\":\"Term 3\",\"curriculum_items\":[{\"curriculum_requisites\":[{\"source_id\":1,\"target_id\":7,\"type\":\"prereq\"}],\"name\":\"BW 214\",\"metrics\":{},\"canonical_name\":\"Basket Materials\",\"nameSub\":\"Basket Materials & Decoration\",\"id\":7,\"credits\":3},{\"curriculum_requisites\":[{\"source_id\":7,\"target_id\":8,\"type\":\"prereq\"},{\"source_id\":2,\"target_id\":8,\"type\":\"prereq\"}],\"name\":\"BW 301\",\"metrics\":{},\"canonical_name\":\"Baskets IV\",\"nameSub\":\"Underwater Weaving\",\"id\":8,\"credits\":3},{\"curriculum_requisites\":[],\"name\":\" \",\"metrics\":{},\"canonical_name\":\"\",\"nameSub\":\"Social Sciences Elective\",\"id\":10,\"credits\":3}],\"id\":3},{\"name\":\"Term 4\",\"curriculum_items\":[{\"curriculum_requisites\":[],\"name\":\" \",\"metrics\":{},\"canonical_name\":\"\",\"nameSub\":\"Technical Elective\",\"id\":11,\"credits\":3},{\"curriculum_requisites\":[],\"name\":\" \",\"metrics\":{},\"canonical_name\":\"\",\"nameSub\":\"General Elective\",\"id\":12,\"credits\":3}],\"id\":4}],\"institution\":\"ACME State University\"}}}}},\"children\":[{\"props\":{\"src\":\"http:\\/\\/localhost:8156\",\"id\":\"curriculum\",\"events\":{\"load\":\"(function (){this.contentWindow.postMessage({\\\"options\\\":{\\\"hideTerms\\\":false,\\\"edit\\\":true},\\\"curriculum\\\":{\\\"name\\\":\\\"Underwater Basket Weaving\\\",\\\"dp_name\\\":\\\"2-year plan\\\",\\\"curriculum_terms\\\":[{\\\"name\\\":\\\"Term 1\\\",\\\"curriculum_items\\\":[{\\\"curriculum_requisites\\\":[],\\\"name\\\":\\\"BW 101\\\",\\\"metrics\\\":{},\\\"canonical_name\\\":\\\"Baskets I\\\",\\\"nameSub\\\":\\\"Introduction to Baskets\\\",\\\"id\\\":1,\\\"credits\\\":3},{\\\"curriculum_requisites\\\":[],\\\"name\\\":\\\"PE 115\\\",\\\"metrics\\\":{},\\\"canonical_name\\\":\\\"Physical Education\\\",\\\"nameSub\\\":\\\"Swimming\\\",\\\"id\\\":2,\\\"credits\\\":3},{\\\"curriculum_requisites\\\":[],\\\"name\\\":\\\"MA 116\\\",\\\"metrics\\\":{},\\\"canonical_name\\\":\\\"Calculus I\\\",\\\"nameSub\\\":\\\"Introductory Calculus w\\/ Applications\\\",\\\"id\\\":3,\\\"credits\\\":4}],\\\"id\\\":1},{\\\"name\\\":\\\"Term 2\\\",\\\"curriculum_items\\\":[{\\\"curriculum_requisites\\\":[{\\\"source_id\\\":5,\\\"target_id\\\":4,\\\"type\\\":\\\"strict-coreq\\\"},{\\\"source_id\\\":1,\\\"target_id\\\":4,\\\"type\\\":\\\"prereq\\\"}],\\\"name\\\":\\\"BW 111\\\",\\\"metrics\\\":{},\\\"canonical_name\\\":\\\"Baskets II\\\",\\\"nameSub\\\":\\\"Basic Basket Forms\\\",\\\"id\\\":4,\\\"credits\\\":3},{\\\"curriculum_requisites\\\":[],\\\"name\\\":\\\"BW 111L\\\",\\\"metrics\\\":{},\\\"canonical_name\\\":\\\"Baskets II Laboratory\\\",\\\"nameSub\\\":\\\"Basic Basket Forms Lab\\\",\\\"id\\\":5,\\\"credits\\\":1},{\\\"curriculum_requisites\\\":[{\\\"source_id\\\":4,\\\"target_id\\\":6,\\\"type\\\":\\\"prereq\\\"},{\\\"source_id\\\":3,\\\"target_id\\\":6,\\\"type\\\":\\\"prereq\\\"},{\\\"source_id\\\":5,\\\"target_id\\\":6,\\\"type\\\":\\\"prereq\\\"}],\\\"name\\\":\\\"BW 201\\\",\\\"metrics\\\":{},\\\"canonical_name\\\":\\\"Baskets III\\\",\\\"nameSub\\\":\\\"Advanced Basketry\\\",\\\"id\\\":6,\\\"credits\\\":3},{\\\"curriculum_requisites\\\":[],\\\"name\\\":\\\" \\\",\\\"metrics\\\":{},\\\"canonical_name\\\":\\\"Humanitites Core\\\",\\\"nameSub\\\":\\\"Humanitites Elective\\\",\\\"id\\\":9,\\\"credits\\\":3}],\\\"id\\\":2},{\\\"name\\\":\\\"Term 3\\\",\\\"curriculum_items\\\":[{\\\"curriculum_requisites\\\":[{\\\"source_id\\\":1,\\\"target_id\\\":7,\\\"type\\\":\\\"prereq\\\"}],\\\"name\\\":\\\"BW 214\\\",\\\"metrics\\\":{},\\\"canonical_name\\\":\\\"Basket Materials\\\",\\\"nameSub\\\":\\\"Basket Materials & Decoration\\\",\\\"id\\\":7,\\\"credits\\\":3},{\\\"curriculum_requisites\\\":[{\\\"source_id\\\":7,\\\"target_id\\\":8,\\\"type\\\":\\\"prereq\\\"},{\\\"source_id\\\":2,\\\"target_id\\\":8,\\\"type\\\":\\\"prereq\\\"}],\\\"name\\\":\\\"BW 301\\\",\\\"metrics\\\":{},\\\"canonical_name\\\":\\\"Baskets IV\\\",\\\"nameSub\\\":\\\"Underwater Weaving\\\",\\\"id\\\":8,\\\"credits\\\":3},{\\\"curriculum_requisites\\\":[],\\\"name\\\":\\\" \\\",\\\"metrics\\\":{},\\\"canonical_name\\\":\\\"\\\",\\\"nameSub\\\":\\\"Social Sciences Elective\\\",\\\"id\\\":10,\\\"credits\\\":3}],\\\"id\\\":3},{\\\"name\\\":\\\"Term 4\\\",\\\"curriculum_items\\\":[{\\\"curriculum_requisites\\\":[],\\\"name\\\":\\\" \\\",\\\"metrics\\\":{},\\\"canonical_name\\\":\\\"\\\",\\\"nameSub\\\":\\\"Technical Elective\\\",\\\"id\\\":11,\\\"credits\\\":3},{\\\"curriculum_requisites\\\":[],\\\"name\\\":\\\" \\\",\\\"metrics\\\":{},\\\"canonical_name\\\":\\\"\\\",\\\"nameSub\\\":\\\"General Elective\\\",\\\"id\\\":12,\\\"credits\\\":3}],\\\"id\\\":4}],\\\"institution\\\":\\\"ACME State University\\\"}},\\\"*\\\"); window.removeEventListener(\\\"message\\\",window.messageReceived); window.messageReceived=(function (event){return (event.data.curriculum!==undefined) ? (_webIOScope.setObservableValue({\\\"name\\\":\\\"curriculum-data\\\",\\\"scope\\\":\\\"scope-8322691a-366b-4554-899a-289258ec6391\\\",\\\"id\\\":\\\"ob_04\\\",\\\"type\\\":\\\"observable\\\"},event.data.curriculum)) : undefined}); return window.addEventListener(\\\"message\\\",window.messageReceived)})\"},\"style\":{\"padding\":\"0\",\"height\":\"100vh\",\"margin\":\"0\",\"border\":\"none\",\"width\":\"100%\"}},\"nodeType\":\"DOM\",\"type\":\"node\",\"instanceArgs\":{\"namespace\":\"html\",\"tag\":\"iframe\"},\"children\":[\"\"]}]},\n",
       "        );\n",
       "    } else {\n",
       "        document\n",
       "            .querySelector('[data-webio-mountpoint=\"10834027255075740874\"]')\n",
       "            .innerHTML = '<strong>WebIO not detected.</strong>';\n",
       "    }\n",
       "    </script>\n",
       "</div>\n"
      ],
      "text/plain": [
       "WebIO.Scope(\"scope-8322691a-366b-4554-899a-289258ec6391\", WebIO.Node{WebIO.DOM}(WebIO.DOM(:html, :iframe), Any[\"\"], Dict{Symbol,Any}(:src=>\"http://localhost:8156\",:id=>\"curriculum\",:events=>Dict(:load=>JSString(\"(function (){this.contentWindow.postMessage({\\\"options\\\":{\\\"hideTerms\\\":false,\\\"edit\\\":true},\\\"curriculum\\\":{\\\"name\\\":\\\"Underwater Basket Weaving\\\",\\\"dp_name\\\":\\\"2-year plan\\\",\\\"curriculum_terms\\\":[{\\\"name\\\":\\\"Term 1\\\",\\\"curriculum_items\\\":[{\\\"curriculum_requisites\\\":[],\\\"name\\\":\\\"BW 101\\\",\\\"metrics\\\":{},\\\"canonical_name\\\":\\\"Baskets I\\\",\\\"nameSub\\\":\\\"Introduction to Baskets\\\",\\\"id\\\":1,\\\"credits\\\":3},{\\\"curriculum_requisites\\\":[],\\\"name\\\":\\\"PE 115\\\",\\\"metrics\\\":{},\\\"canonical_name\\\":\\\"Physical Education\\\",\\\"nameSub\\\":\\\"Swimming\\\",\\\"id\\\":2,\\\"credits\\\":3},{\\\"curriculum_requisites\\\":[],\\\"name\\\":\\\"MA 116\\\",\\\"metrics\\\":{},\\\"canonical_name\\\":\\\"Calculus I\\\",\\\"nameSub\\\":\\\"Introductory Calculus w/ Applications\\\",\\\"id\\\":3,\\\"credits\\\":4}],\\\"id\\\":1},{\\\"name\\\":\\\"Term 2\\\",\\\"curriculum_items\\\":[{\\\"curriculum_requisites\\\":[{\\\"source_id\\\":5,\\\"target_id\\\":4,\\\"type\\\":\\\"strict-coreq\\\"},{\\\"source_id\\\":1,\\\"target_id\\\":4,\\\"type\\\":\\\"prereq\\\"}],\\\"name\\\":\\\"BW 111\\\",\\\"metrics\\\":{},\\\"canonical_name\\\":\\\"Baskets II\\\",\\\"nameSub\\\":\\\"Basic Basket Forms\\\",\\\"id\\\":4,\\\"credits\\\":3},{\\\"curriculum_requisites\\\":[],\\\"name\\\":\\\"BW 111L\\\",\\\"metrics\\\":{},\\\"canonical_name\\\":\\\"Baskets II Laboratory\\\",\\\"nameSub\\\":\\\"Basic Basket Forms Lab\\\",\\\"id\\\":5,\\\"credits\\\":1},{\\\"curriculum_requisites\\\":[{\\\"source_id\\\":4,\\\"target_id\\\":6,\\\"type\\\":\\\"prereq\\\"},{\\\"source_id\\\":3,\\\"target_id\\\":6,\\\"type\\\":\\\"prereq\\\"},{\\\"source_id\\\":5,\\\"target_id\\\":6,\\\"type\\\":\\\"prereq\\\"}],\\\"name\\\":\\\"BW 201\\\",\\\"metrics\\\":{},\\\"canonical_name\\\":\\\"Baskets III\\\",\\\"nameSub\\\":\\\"Advanced Basketry\\\",\\\"id\\\":6,\\\"credits\\\":3},{\\\"curriculum_requisites\\\":[],\\\"name\\\":\\\" \\\",\\\"metrics\\\":{},\\\"canonical_name\\\":\\\"Humanitites Core\\\",\\\"nameSub\\\":\\\"Humanitites Elective\\\",\\\"id\\\":9,\\\"credits\\\":3}],\\\"id\\\":2},{\\\"name\\\":\\\"Term 3\\\",\\\"curriculum_items\\\":[{\\\"curriculum_requisites\\\":[{\\\"source_id\\\":1,\\\"target_id\\\":7,\\\"type\\\":\\\"prereq\\\"}],\\\"name\\\":\\\"BW 214\\\",\\\"metrics\\\":{},\\\"canonical_name\\\":\\\"Basket Materials\\\",\\\"nameSub\\\":\\\"Basket Materials & Decoration\\\",\\\"id\\\":7,\\\"credits\\\":3},{\\\"curriculum_requisites\\\":[{\\\"source_id\\\":7,\\\"target_id\\\":8,\\\"type\\\":\\\"prereq\\\"},{\\\"source_id\\\":2,\\\"target_id\\\":8,\\\"type\\\":\\\"prereq\\\"}],\\\"name\\\":\\\"BW 301\\\",\\\"metrics\\\":{},\\\"canonical_name\\\":\\\"Baskets IV\\\",\\\"nameSub\\\":\\\"Underwater Weaving\\\",\\\"id\\\":8,\\\"credits\\\":3},{\\\"curriculum_requisites\\\":[],\\\"name\\\":\\\" \\\",\\\"metrics\\\":{},\\\"canonical_name\\\":\\\"\\\",\\\"nameSub\\\":\\\"Social Sciences Elective\\\",\\\"id\\\":10,\\\"credits\\\":3}],\\\"id\\\":3},{\\\"name\\\":\\\"Term 4\\\",\\\"curriculum_items\\\":[{\\\"curriculum_requisites\\\":[],\\\"name\\\":\\\" \\\",\\\"metrics\\\":{},\\\"canonical_name\\\":\\\"\\\",\\\"nameSub\\\":\\\"Technical Elective\\\",\\\"id\\\":11,\\\"credits\\\":3},{\\\"curriculum_requisites\\\":[],\\\"name\\\":\\\" \\\",\\\"metrics\\\":{},\\\"canonical_name\\\":\\\"\\\",\\\"nameSub\\\":\\\"General Elective\\\",\\\"id\\\":12,\\\"credits\\\":3}],\\\"id\\\":4}],\\\"institution\\\":\\\"ACME State University\\\"}},\\\"*\\\"); window.removeEventListener(\\\"message\\\",window.messageReceived); window.messageReceived=(function (event){return (event.data.curriculum!==undefined) ? (_webIOScope.setObservableValue({\\\"name\\\":\\\"curriculum-data\\\",\\\"scope\\\":\\\"scope-8322691a-366b-4554-899a-289258ec6391\\\",\\\"id\\\":\\\"ob_04\\\",\\\"type\\\":\\\"observable\\\"},event.data.curriculum)) : undefined}); return window.addEventListener(\\\"message\\\",window.messageReceived)})\")),:style=>Dict(:padding=>\"0\",:height=>\"100vh\",:margin=>\"0\",:border=>\"none\",:width=>\"100%\")), 1), Dict{String,Tuple{Observables.AbstractObservable,Union{Nothing, Bool}}}(\"curriculum-data\"=>(Observable{Dict{String,Any}} with 1 listeners. Value:\n",
       "Dict{String,Any}(\"options\"=>Dict{String,Any}(\"hideTerms\"=>false,\"edit\"=>true),\"curriculum\"=>Dict{String,Any}(\"name\"=>\"Underwater Basket Weaving\",\"dp_name\"=>\"2-year plan\",\"curriculum_terms\"=>Dict{String,Any}[Dict(\"name\"=>\"Term 1\",\"curriculum_items\"=>Dict{String,Any}[Dict(\"curriculum_requisites\"=>Dict{String,Any}[],\"name\"=>\"BW 101\",\"metrics\"=>Dict{String,Any}(),\"canonical_name\"=>\"Baskets I\",\"nameSub\"=>\"Introduction to Baskets\",\"id\"=>1,\"credits\"=>3), Dict(\"curriculum_requisites\"=>Dict{String,Any}[],\"name\"=>\"PE 115\",\"metrics\"=>Dict{String,Any}(),\"canonical_name\"=>\"Physical Education\",\"nameSub\"=>\"Swimming\",\"id\"=>2,\"credits\"=>3), Dict(\"curriculum_requisites\"=>Dict{String,Any}[],\"name\"=>\"MA 116\",\"metrics\"=>Dict{String,Any}(),\"canonical_name\"=>\"Calculus I\",\"nameSub\"=>\"Introductory Calculus w/ Applications\",\"id\"=>3,\"credits\"=>4)],\"id\"=>1), Dict(\"name\"=>\"Term 2\",\"curriculum_items\"=>Dict{String,Any}[Dict(\"curriculum_requisites\"=>Dict{String,Any}[Dict(\"source_id\"=>5,\"target_id\"=>4,\"type\"=>\"strict-coreq\"), Dict(\"source_id\"=>1,\"target_id\"=>4,\"type\"=>\"prereq\")],\"name\"=>\"BW 111\",\"metrics\"=>Dict{String,Any}(),\"canonical_name\"=>\"Baskets II\",\"nameSub\"=>\"Basic Basket Forms\",\"id\"=>4,\"credits\"=>3), Dict(\"curriculum_requisites\"=>Dict{String,Any}[],\"name\"=>\"BW 111L\",\"metrics\"=>Dict{String,Any}(),\"canonical_name\"=>\"Baskets II Laboratory\",\"nameSub\"=>\"Basic Basket Forms Lab\",\"id\"=>5,\"credits\"=>1), Dict(\"curriculum_requisites\"=>Dict{String,Any}[Dict(\"source_id\"=>4,\"target_id\"=>6,\"type\"=>\"prereq\"), Dict(\"source_id\"=>3,\"target_id\"=>6,\"type\"=>\"prereq\"), Dict(\"source_id\"=>5,\"target_id\"=>6,\"type\"=>\"prereq\")],\"name\"=>\"BW 201\",\"metrics\"=>Dict{String,Any}(),\"canonical_name\"=>\"Baskets III\",\"nameSub\"=>\"Advanced Basketry\",\"id\"=>6,\"credits\"=>3), Dict(\"curriculum_requisites\"=>Dict{String,Any}[],\"name\"=>\" \",\"metrics\"=>Dict{String,Any}(),\"canonical_name\"=>\"Humanitites Core\",\"nameSub\"=>\"Humanitites Elective\",\"id\"=>9,\"credits\"=>3)],\"id\"=>2), Dict(\"name\"=>\"Term 3\",\"curriculum_items\"=>Dict{String,Any}[Dict(\"curriculum_requisites\"=>Dict{String,Any}[Dict(\"source_id\"=>1,\"target_id\"=>7,\"type\"=>\"prereq\")],\"name\"=>\"BW 214\",\"metrics\"=>Dict{String,Any}(),\"canonical_name\"=>\"Basket Materials\",\"nameSub\"=>\"Basket Materials & Decoration\",\"id\"=>7,\"credits\"=>3), Dict(\"curriculum_requisites\"=>Dict{String,Any}[Dict(\"source_id\"=>7,\"target_id\"=>8,\"type\"=>\"prereq\"), Dict(\"source_id\"=>2,\"target_id\"=>8,\"type\"=>\"prereq\")],\"name\"=>\"BW 301\",\"metrics\"=>Dict{String,Any}(),\"canonical_name\"=>\"Baskets IV\",\"nameSub\"=>\"Underwater Weaving\",\"id\"=>8,\"credits\"=>3), Dict(\"curriculum_requisites\"=>Dict{String,Any}[],\"name\"=>\" \",\"metrics\"=>Dict{String,Any}(),\"canonical_name\"=>\"\",\"nameSub\"=>\"Social Sciences Elective\",\"id\"=>10,\"credits\"=>3)],\"id\"=>3), Dict(\"name\"=>\"Term 4\",\"curriculum_items\"=>Dict{String,Any}[Dict(\"curriculum_requisites\"=>Dict{String,Any}[],\"name\"=>\" \",\"metrics\"=>Dict{String,Any}(),\"canonical_name\"=>\"\",\"nameSub\"=>\"Technical Elective\",\"id\"=>11,\"credits\"=>3), Dict(\"curriculum_requisites\"=>Dict{String,Any}[],\"name\"=>\" \",\"metrics\"=>Dict{String,Any}(),\"canonical_name\"=>\"\",\"nameSub\"=>\"General Elective\",\"id\"=>12,\"credits\"=>3)],\"id\"=>4)],\"institution\"=>\"ACME State University\")), nothing)), Set(String[]), nothing, Any[], Dict{Any,Any}(), WebIO.ConnectionPool(Channel{Any}(sz_max:9223372036854775807,sz_curr:0), Set(WebIO.AbstractConnection[]), Channel{WebIO.AbstractConnection}(sz_max:32,sz_curr:0)))"
      ]
     },
     "execution_count": 5,
     "metadata": {
      "application/vnd.webio.node+json": {
       "kernelId": "bba9737e-37c0-4066-86d3-b04a44f79874"
      }
     },
     "output_type": "execute_result"
    }
   ],
   "source": [
    "out = read_csv_new(\"examples\\\\UBW_degree_plan.csv\")\n",
    "#write_csv(out)\n",
    "visualize(out, changed=update_plan , edit=true, notebook=true, \n",
    "    show_blocking_factor=false, show_delay_factor=false,\n",
    "    show_centrality=false, show_complexity = false)"
   ]
  },
  {
   "cell_type": "code",
   "execution_count": 6,
   "metadata": {},
   "outputs": [
    {
     "name": "stdout",
     "output_type": "stream",
     "text": [
      "Could not create a plan for 0 term, try for one more term\n",
      "Could not create a plan for 1 term, try for one more term\n",
      "Could not create a plan for 2 term, try for one more term\n"
     ]
    },
    {
     "data": {
      "application/vnd.webio.node+json": {
       "children": [
        {
         "children": [
          ""
         ],
         "instanceArgs": {
          "namespace": "html",
          "tag": "iframe"
         },
         "nodeType": "DOM",
         "props": {
          "events": {
           "load": "(function (){this.contentWindow.postMessage({\"options\":{\"hideTerms\":true,\"edit\":false},\"curriculum\":{\"name\":\"Underwater Basket Weaving\",\"dp_name\":\"\",\"curriculum_terms\":[{\"name\":\"Term 1\",\"curriculum_items\":[{\"curriculum_requisites\":[],\"name\":\"BW 101\",\"metrics\":{},\"canonical_name\":\"\",\"nameSub\":\"Introduction to Baskets\",\"id\":1,\"credits\":1},{\"curriculum_requisites\":[],\"name\":\"PE 115\",\"metrics\":{},\"canonical_name\":\"\",\"nameSub\":\"Swimming\",\"id\":2,\"credits\":1},{\"curriculum_requisites\":[],\"name\":\"MA 116\",\"metrics\":{},\"canonical_name\":\"\",\"nameSub\":\"Introductory Calculus w/ Applications\",\"id\":3,\"credits\":1}],\"id\":1},{\"name\":\"Term 2\",\"curriculum_items\":[{\"curriculum_requisites\":[],\"name\":\"BW 111L\",\"metrics\":{},\"canonical_name\":\"\",\"nameSub\":\"Basic Basket Forms Lab\",\"id\":5,\"credits\":1},{\"curriculum_requisites\":[{\"source_id\":5,\"target_id\":4,\"type\":\"strict-coreq\"},{\"source_id\":1,\"target_id\":4,\"type\":\"prereq\"}],\"name\":\"BW 111\",\"metrics\":{},\"canonical_name\":\"\",\"nameSub\":\"Basic Basket Forms\",\"id\":4,\"credits\":1},{\"curriculum_requisites\":[{\"source_id\":1,\"target_id\":7,\"type\":\"prereq\"}],\"name\":\"BW 214\",\"metrics\":{},\"canonical_name\":\"\",\"nameSub\":\"Basket Materials & Decoration\",\"id\":7,\"credits\":1}],\"id\":2},{\"name\":\"Term 3\",\"curriculum_items\":[{\"curriculum_requisites\":[{\"source_id\":7,\"target_id\":8,\"type\":\"prereq\"},{\"source_id\":2,\"target_id\":8,\"type\":\"prereq\"}],\"name\":\"BW 301\",\"metrics\":{},\"canonical_name\":\"\",\"nameSub\":\"Underwater Weaving\",\"id\":8,\"credits\":1},{\"curriculum_requisites\":[{\"source_id\":4,\"target_id\":6,\"type\":\"prereq\"},{\"source_id\":3,\"target_id\":6,\"type\":\"prereq\"},{\"source_id\":5,\"target_id\":6,\"type\":\"prereq\"}],\"name\":\"BW 201\",\"metrics\":{},\"canonical_name\":\"\",\"nameSub\":\"Advanced Basketry\",\"id\":6,\"credits\":1}],\"id\":3}],\"institution\":\"\"}},\"*\"); window.removeEventListener(\"message\",window.messageReceived); window.messageReceived=(function (event){return (event.data.curriculum!==undefined) ? (_webIOScope.setObservableValue({\"name\":\"curriculum-data\",\"scope\":\"scope-9ba592d1-8008-4aac-9990-66a40823eb42\",\"id\":\"ob_05\",\"type\":\"observable\"},event.data.curriculum)) : undefined}); return window.addEventListener(\"message\",window.messageReceived)})"
          },
          "id": "curriculum",
          "src": "http://localhost:8156",
          "style": {
           "border": "none",
           "height": "100vh",
           "margin": "0",
           "padding": "0",
           "width": "100%"
          }
         },
         "type": "node"
        }
       ],
       "instanceArgs": {
        "handlers": {},
        "id": "scope-9ba592d1-8008-4aac-9990-66a40823eb42",
        "imports": {
         "data": [],
         "type": "async_block"
        },
        "observables": {
         "curriculum-data": {
          "id": "ob_05",
          "sync": true,
          "value": {
           "curriculum": {
            "curriculum_terms": [
             {
              "curriculum_items": [
               {
                "canonical_name": "",
                "credits": 1,
                "curriculum_requisites": [],
                "id": 1,
                "metrics": {},
                "name": "BW 101",
                "nameSub": "Introduction to Baskets"
               },
               {
                "canonical_name": "",
                "credits": 1,
                "curriculum_requisites": [],
                "id": 2,
                "metrics": {},
                "name": "PE 115",
                "nameSub": "Swimming"
               },
               {
                "canonical_name": "",
                "credits": 1,
                "curriculum_requisites": [],
                "id": 3,
                "metrics": {},
                "name": "MA 116",
                "nameSub": "Introductory Calculus w/ Applications"
               }
              ],
              "id": 1,
              "name": "Term 1"
             },
             {
              "curriculum_items": [
               {
                "canonical_name": "",
                "credits": 1,
                "curriculum_requisites": [],
                "id": 5,
                "metrics": {},
                "name": "BW 111L",
                "nameSub": "Basic Basket Forms Lab"
               },
               {
                "canonical_name": "",
                "credits": 1,
                "curriculum_requisites": [
                 {
                  "source_id": 5,
                  "target_id": 4,
                  "type": "strict-coreq"
                 },
                 {
                  "source_id": 1,
                  "target_id": 4,
                  "type": "prereq"
                 }
                ],
                "id": 4,
                "metrics": {},
                "name": "BW 111",
                "nameSub": "Basic Basket Forms"
               },
               {
                "canonical_name": "",
                "credits": 1,
                "curriculum_requisites": [
                 {
                  "source_id": 1,
                  "target_id": 7,
                  "type": "prereq"
                 }
                ],
                "id": 7,
                "metrics": {},
                "name": "BW 214",
                "nameSub": "Basket Materials & Decoration"
               }
              ],
              "id": 2,
              "name": "Term 2"
             },
             {
              "curriculum_items": [
               {
                "canonical_name": "",
                "credits": 1,
                "curriculum_requisites": [
                 {
                  "source_id": 7,
                  "target_id": 8,
                  "type": "prereq"
                 },
                 {
                  "source_id": 2,
                  "target_id": 8,
                  "type": "prereq"
                 }
                ],
                "id": 8,
                "metrics": {},
                "name": "BW 301",
                "nameSub": "Underwater Weaving"
               },
               {
                "canonical_name": "",
                "credits": 1,
                "curriculum_requisites": [
                 {
                  "source_id": 4,
                  "target_id": 6,
                  "type": "prereq"
                 },
                 {
                  "source_id": 3,
                  "target_id": 6,
                  "type": "prereq"
                 },
                 {
                  "source_id": 5,
                  "target_id": 6,
                  "type": "prereq"
                 }
                ],
                "id": 6,
                "metrics": {},
                "name": "BW 201",
                "nameSub": "Advanced Basketry"
               }
              ],
              "id": 3,
              "name": "Term 3"
             }
            ],
            "dp_name": "",
            "institution": "",
            "name": "Underwater Basket Weaving"
           },
           "options": {
            "edit": false,
            "hideTerms": true
           }
          }
         }
        },
        "systemjs_options": null
       },
       "nodeType": "Scope",
       "props": {},
       "type": "node"
      },
      "text/html": [
       "<div\n",
       "    class=\"webio-mountpoint\"\n",
       "    data-webio-mountpoint=\"8994179632552122604\"\n",
       ">\n",
       "    <script>\n",
       "    if (window.require && require.defined && require.defined(\"nbextensions/webio/main\")) {\n",
       "        console.log(\"Jupyter WebIO extension detected, not mounting.\");\n",
       "    } else if (window.WebIO) {\n",
       "        WebIO.mount(\n",
       "            document.querySelector('[data-webio-mountpoint=\"8994179632552122604\"]'),\n",
       "            {\"props\":{},\"nodeType\":\"Scope\",\"type\":\"node\",\"instanceArgs\":{\"imports\":{\"data\":[],\"type\":\"async_block\"},\"id\":\"scope-9ba592d1-8008-4aac-9990-66a40823eb42\",\"handlers\":{},\"systemjs_options\":null,\"observables\":{\"curriculum-data\":{\"sync\":true,\"id\":\"ob_05\",\"value\":{\"options\":{\"hideTerms\":true,\"edit\":false},\"curriculum\":{\"name\":\"Underwater Basket Weaving\",\"dp_name\":\"\",\"curriculum_terms\":[{\"name\":\"Term 1\",\"curriculum_items\":[{\"curriculum_requisites\":[],\"name\":\"BW 101\",\"metrics\":{},\"canonical_name\":\"\",\"nameSub\":\"Introduction to Baskets\",\"id\":1,\"credits\":1},{\"curriculum_requisites\":[],\"name\":\"PE 115\",\"metrics\":{},\"canonical_name\":\"\",\"nameSub\":\"Swimming\",\"id\":2,\"credits\":1},{\"curriculum_requisites\":[],\"name\":\"MA 116\",\"metrics\":{},\"canonical_name\":\"\",\"nameSub\":\"Introductory Calculus w\\/ Applications\",\"id\":3,\"credits\":1}],\"id\":1},{\"name\":\"Term 2\",\"curriculum_items\":[{\"curriculum_requisites\":[],\"name\":\"BW 111L\",\"metrics\":{},\"canonical_name\":\"\",\"nameSub\":\"Basic Basket Forms Lab\",\"id\":5,\"credits\":1},{\"curriculum_requisites\":[{\"source_id\":5,\"target_id\":4,\"type\":\"strict-coreq\"},{\"source_id\":1,\"target_id\":4,\"type\":\"prereq\"}],\"name\":\"BW 111\",\"metrics\":{},\"canonical_name\":\"\",\"nameSub\":\"Basic Basket Forms\",\"id\":4,\"credits\":1},{\"curriculum_requisites\":[{\"source_id\":1,\"target_id\":7,\"type\":\"prereq\"}],\"name\":\"BW 214\",\"metrics\":{},\"canonical_name\":\"\",\"nameSub\":\"Basket Materials & Decoration\",\"id\":7,\"credits\":1}],\"id\":2},{\"name\":\"Term 3\",\"curriculum_items\":[{\"curriculum_requisites\":[{\"source_id\":7,\"target_id\":8,\"type\":\"prereq\"},{\"source_id\":2,\"target_id\":8,\"type\":\"prereq\"}],\"name\":\"BW 301\",\"metrics\":{},\"canonical_name\":\"\",\"nameSub\":\"Underwater Weaving\",\"id\":8,\"credits\":1},{\"curriculum_requisites\":[{\"source_id\":4,\"target_id\":6,\"type\":\"prereq\"},{\"source_id\":3,\"target_id\":6,\"type\":\"prereq\"},{\"source_id\":5,\"target_id\":6,\"type\":\"prereq\"}],\"name\":\"BW 201\",\"metrics\":{},\"canonical_name\":\"\",\"nameSub\":\"Advanced Basketry\",\"id\":6,\"credits\":1}],\"id\":3}],\"institution\":\"\"}}}}},\"children\":[{\"props\":{\"src\":\"http:\\/\\/localhost:8156\",\"id\":\"curriculum\",\"events\":{\"load\":\"(function (){this.contentWindow.postMessage({\\\"options\\\":{\\\"hideTerms\\\":true,\\\"edit\\\":false},\\\"curriculum\\\":{\\\"name\\\":\\\"Underwater Basket Weaving\\\",\\\"dp_name\\\":\\\"\\\",\\\"curriculum_terms\\\":[{\\\"name\\\":\\\"Term 1\\\",\\\"curriculum_items\\\":[{\\\"curriculum_requisites\\\":[],\\\"name\\\":\\\"BW 101\\\",\\\"metrics\\\":{},\\\"canonical_name\\\":\\\"\\\",\\\"nameSub\\\":\\\"Introduction to Baskets\\\",\\\"id\\\":1,\\\"credits\\\":1},{\\\"curriculum_requisites\\\":[],\\\"name\\\":\\\"PE 115\\\",\\\"metrics\\\":{},\\\"canonical_name\\\":\\\"\\\",\\\"nameSub\\\":\\\"Swimming\\\",\\\"id\\\":2,\\\"credits\\\":1},{\\\"curriculum_requisites\\\":[],\\\"name\\\":\\\"MA 116\\\",\\\"metrics\\\":{},\\\"canonical_name\\\":\\\"\\\",\\\"nameSub\\\":\\\"Introductory Calculus w\\/ Applications\\\",\\\"id\\\":3,\\\"credits\\\":1}],\\\"id\\\":1},{\\\"name\\\":\\\"Term 2\\\",\\\"curriculum_items\\\":[{\\\"curriculum_requisites\\\":[],\\\"name\\\":\\\"BW 111L\\\",\\\"metrics\\\":{},\\\"canonical_name\\\":\\\"\\\",\\\"nameSub\\\":\\\"Basic Basket Forms Lab\\\",\\\"id\\\":5,\\\"credits\\\":1},{\\\"curriculum_requisites\\\":[{\\\"source_id\\\":5,\\\"target_id\\\":4,\\\"type\\\":\\\"strict-coreq\\\"},{\\\"source_id\\\":1,\\\"target_id\\\":4,\\\"type\\\":\\\"prereq\\\"}],\\\"name\\\":\\\"BW 111\\\",\\\"metrics\\\":{},\\\"canonical_name\\\":\\\"\\\",\\\"nameSub\\\":\\\"Basic Basket Forms\\\",\\\"id\\\":4,\\\"credits\\\":1},{\\\"curriculum_requisites\\\":[{\\\"source_id\\\":1,\\\"target_id\\\":7,\\\"type\\\":\\\"prereq\\\"}],\\\"name\\\":\\\"BW 214\\\",\\\"metrics\\\":{},\\\"canonical_name\\\":\\\"\\\",\\\"nameSub\\\":\\\"Basket Materials & Decoration\\\",\\\"id\\\":7,\\\"credits\\\":1}],\\\"id\\\":2},{\\\"name\\\":\\\"Term 3\\\",\\\"curriculum_items\\\":[{\\\"curriculum_requisites\\\":[{\\\"source_id\\\":7,\\\"target_id\\\":8,\\\"type\\\":\\\"prereq\\\"},{\\\"source_id\\\":2,\\\"target_id\\\":8,\\\"type\\\":\\\"prereq\\\"}],\\\"name\\\":\\\"BW 301\\\",\\\"metrics\\\":{},\\\"canonical_name\\\":\\\"\\\",\\\"nameSub\\\":\\\"Underwater Weaving\\\",\\\"id\\\":8,\\\"credits\\\":1},{\\\"curriculum_requisites\\\":[{\\\"source_id\\\":4,\\\"target_id\\\":6,\\\"type\\\":\\\"prereq\\\"},{\\\"source_id\\\":3,\\\"target_id\\\":6,\\\"type\\\":\\\"prereq\\\"},{\\\"source_id\\\":5,\\\"target_id\\\":6,\\\"type\\\":\\\"prereq\\\"}],\\\"name\\\":\\\"BW 201\\\",\\\"metrics\\\":{},\\\"canonical_name\\\":\\\"\\\",\\\"nameSub\\\":\\\"Advanced Basketry\\\",\\\"id\\\":6,\\\"credits\\\":1}],\\\"id\\\":3}],\\\"institution\\\":\\\"\\\"}},\\\"*\\\"); window.removeEventListener(\\\"message\\\",window.messageReceived); window.messageReceived=(function (event){return (event.data.curriculum!==undefined) ? (_webIOScope.setObservableValue({\\\"name\\\":\\\"curriculum-data\\\",\\\"scope\\\":\\\"scope-9ba592d1-8008-4aac-9990-66a40823eb42\\\",\\\"id\\\":\\\"ob_05\\\",\\\"type\\\":\\\"observable\\\"},event.data.curriculum)) : undefined}); return window.addEventListener(\\\"message\\\",window.messageReceived)})\"},\"style\":{\"padding\":\"0\",\"height\":\"100vh\",\"margin\":\"0\",\"border\":\"none\",\"width\":\"100%\"}},\"nodeType\":\"DOM\",\"type\":\"node\",\"instanceArgs\":{\"namespace\":\"html\",\"tag\":\"iframe\"},\"children\":[\"\"]}]},\n",
       "        );\n",
       "    } else {\n",
       "        document\n",
       "            .querySelector('[data-webio-mountpoint=\"8994179632552122604\"]')\n",
       "            .innerHTML = '<strong>WebIO not detected.</strong>';\n",
       "    }\n",
       "    </script>\n",
       "</div>\n"
      ],
      "text/plain": [
       "WebIO.Scope(\"scope-9ba592d1-8008-4aac-9990-66a40823eb42\", WebIO.Node{WebIO.DOM}(WebIO.DOM(:html, :iframe), Any[\"\"], Dict{Symbol,Any}(:src=>\"http://localhost:8156\",:id=>\"curriculum\",:events=>Dict(:load=>JSString(\"(function (){this.contentWindow.postMessage({\\\"options\\\":{\\\"hideTerms\\\":true,\\\"edit\\\":false},\\\"curriculum\\\":{\\\"name\\\":\\\"Underwater Basket Weaving\\\",\\\"dp_name\\\":\\\"\\\",\\\"curriculum_terms\\\":[{\\\"name\\\":\\\"Term 1\\\",\\\"curriculum_items\\\":[{\\\"curriculum_requisites\\\":[],\\\"name\\\":\\\"BW 101\\\",\\\"metrics\\\":{},\\\"canonical_name\\\":\\\"\\\",\\\"nameSub\\\":\\\"Introduction to Baskets\\\",\\\"id\\\":1,\\\"credits\\\":1},{\\\"curriculum_requisites\\\":[],\\\"name\\\":\\\"PE 115\\\",\\\"metrics\\\":{},\\\"canonical_name\\\":\\\"\\\",\\\"nameSub\\\":\\\"Swimming\\\",\\\"id\\\":2,\\\"credits\\\":1},{\\\"curriculum_requisites\\\":[],\\\"name\\\":\\\"MA 116\\\",\\\"metrics\\\":{},\\\"canonical_name\\\":\\\"\\\",\\\"nameSub\\\":\\\"Introductory Calculus w/ Applications\\\",\\\"id\\\":3,\\\"credits\\\":1}],\\\"id\\\":1},{\\\"name\\\":\\\"Term 2\\\",\\\"curriculum_items\\\":[{\\\"curriculum_requisites\\\":[],\\\"name\\\":\\\"BW 111L\\\",\\\"metrics\\\":{},\\\"canonical_name\\\":\\\"\\\",\\\"nameSub\\\":\\\"Basic Basket Forms Lab\\\",\\\"id\\\":5,\\\"credits\\\":1},{\\\"curriculum_requisites\\\":[{\\\"source_id\\\":5,\\\"target_id\\\":4,\\\"type\\\":\\\"strict-coreq\\\"},{\\\"source_id\\\":1,\\\"target_id\\\":4,\\\"type\\\":\\\"prereq\\\"}],\\\"name\\\":\\\"BW 111\\\",\\\"metrics\\\":{},\\\"canonical_name\\\":\\\"\\\",\\\"nameSub\\\":\\\"Basic Basket Forms\\\",\\\"id\\\":4,\\\"credits\\\":1},{\\\"curriculum_requisites\\\":[{\\\"source_id\\\":1,\\\"target_id\\\":7,\\\"type\\\":\\\"prereq\\\"}],\\\"name\\\":\\\"BW 214\\\",\\\"metrics\\\":{},\\\"canonical_name\\\":\\\"\\\",\\\"nameSub\\\":\\\"Basket Materials & Decoration\\\",\\\"id\\\":7,\\\"credits\\\":1}],\\\"id\\\":2},{\\\"name\\\":\\\"Term 3\\\",\\\"curriculum_items\\\":[{\\\"curriculum_requisites\\\":[{\\\"source_id\\\":7,\\\"target_id\\\":8,\\\"type\\\":\\\"prereq\\\"},{\\\"source_id\\\":2,\\\"target_id\\\":8,\\\"type\\\":\\\"prereq\\\"}],\\\"name\\\":\\\"BW 301\\\",\\\"metrics\\\":{},\\\"canonical_name\\\":\\\"\\\",\\\"nameSub\\\":\\\"Underwater Weaving\\\",\\\"id\\\":8,\\\"credits\\\":1},{\\\"curriculum_requisites\\\":[{\\\"source_id\\\":4,\\\"target_id\\\":6,\\\"type\\\":\\\"prereq\\\"},{\\\"source_id\\\":3,\\\"target_id\\\":6,\\\"type\\\":\\\"prereq\\\"},{\\\"source_id\\\":5,\\\"target_id\\\":6,\\\"type\\\":\\\"prereq\\\"}],\\\"name\\\":\\\"BW 201\\\",\\\"metrics\\\":{},\\\"canonical_name\\\":\\\"\\\",\\\"nameSub\\\":\\\"Advanced Basketry\\\",\\\"id\\\":6,\\\"credits\\\":1}],\\\"id\\\":3}],\\\"institution\\\":\\\"\\\"}},\\\"*\\\"); window.removeEventListener(\\\"message\\\",window.messageReceived); window.messageReceived=(function (event){return (event.data.curriculum!==undefined) ? (_webIOScope.setObservableValue({\\\"name\\\":\\\"curriculum-data\\\",\\\"scope\\\":\\\"scope-9ba592d1-8008-4aac-9990-66a40823eb42\\\",\\\"id\\\":\\\"ob_05\\\",\\\"type\\\":\\\"observable\\\"},event.data.curriculum)) : undefined}); return window.addEventListener(\\\"message\\\",window.messageReceived)})\")),:style=>Dict(:padding=>\"0\",:height=>\"100vh\",:margin=>\"0\",:border=>\"none\",:width=>\"100%\")), 1), Dict{String,Tuple{Observables.AbstractObservable,Union{Nothing, Bool}}}(\"curriculum-data\"=>(Observable{Dict{String,Any}} with 1 listeners. Value:\n",
       "Dict{String,Any}(\"options\"=>Dict{String,Any}(\"hideTerms\"=>true,\"edit\"=>false),\"curriculum\"=>Dict{String,Any}(\"name\"=>\"Underwater Basket Weaving\",\"dp_name\"=>\"\",\"curriculum_terms\"=>Dict{String,Any}[Dict(\"name\"=>\"Term 1\",\"curriculum_items\"=>Dict{String,Any}[Dict(\"curriculum_requisites\"=>Dict{String,Any}[],\"name\"=>\"BW 101\",\"metrics\"=>Dict{String,Any}(),\"canonical_name\"=>\"\",\"nameSub\"=>\"Introduction to Baskets\",\"id\"=>1,\"credits\"=>1), Dict(\"curriculum_requisites\"=>Dict{String,Any}[],\"name\"=>\"PE 115\",\"metrics\"=>Dict{String,Any}(),\"canonical_name\"=>\"\",\"nameSub\"=>\"Swimming\",\"id\"=>2,\"credits\"=>1), Dict(\"curriculum_requisites\"=>Dict{String,Any}[],\"name\"=>\"MA 116\",\"metrics\"=>Dict{String,Any}(),\"canonical_name\"=>\"\",\"nameSub\"=>\"Introductory Calculus w/ Applications\",\"id\"=>3,\"credits\"=>1)],\"id\"=>1), Dict(\"name\"=>\"Term 2\",\"curriculum_items\"=>Dict{String,Any}[Dict(\"curriculum_requisites\"=>Dict{String,Any}[],\"name\"=>\"BW 111L\",\"metrics\"=>Dict{String,Any}(),\"canonical_name\"=>\"\",\"nameSub\"=>\"Basic Basket Forms Lab\",\"id\"=>5,\"credits\"=>1), Dict(\"curriculum_requisites\"=>Dict{String,Any}[Dict(\"source_id\"=>5,\"target_id\"=>4,\"type\"=>\"strict-coreq\"), Dict(\"source_id\"=>1,\"target_id\"=>4,\"type\"=>\"prereq\")],\"name\"=>\"BW 111\",\"metrics\"=>Dict{String,Any}(),\"canonical_name\"=>\"\",\"nameSub\"=>\"Basic Basket Forms\",\"id\"=>4,\"credits\"=>1), Dict(\"curriculum_requisites\"=>Dict{String,Any}[Dict(\"source_id\"=>1,\"target_id\"=>7,\"type\"=>\"prereq\")],\"name\"=>\"BW 214\",\"metrics\"=>Dict{String,Any}(),\"canonical_name\"=>\"\",\"nameSub\"=>\"Basket Materials & Decoration\",\"id\"=>7,\"credits\"=>1)],\"id\"=>2), Dict(\"name\"=>\"Term 3\",\"curriculum_items\"=>Dict{String,Any}[Dict(\"curriculum_requisites\"=>Dict{String,Any}[Dict(\"source_id\"=>7,\"target_id\"=>8,\"type\"=>\"prereq\"), Dict(\"source_id\"=>2,\"target_id\"=>8,\"type\"=>\"prereq\")],\"name\"=>\"BW 301\",\"metrics\"=>Dict{String,Any}(),\"canonical_name\"=>\"\",\"nameSub\"=>\"Underwater Weaving\",\"id\"=>8,\"credits\"=>1), Dict(\"curriculum_requisites\"=>Dict{String,Any}[Dict(\"source_id\"=>4,\"target_id\"=>6,\"type\"=>\"prereq\"), Dict(\"source_id\"=>3,\"target_id\"=>6,\"type\"=>\"prereq\"), Dict(\"source_id\"=>5,\"target_id\"=>6,\"type\"=>\"prereq\")],\"name\"=>\"BW 201\",\"metrics\"=>Dict{String,Any}(),\"canonical_name\"=>\"\",\"nameSub\"=>\"Advanced Basketry\",\"id\"=>6,\"credits\"=>1)],\"id\"=>3)],\"institution\"=>\"\")), nothing)), Set(String[]), nothing, Any[], Dict{Any,Any}(), WebIO.ConnectionPool(Channel{Any}(sz_max:9223372036854775807,sz_curr:0), Set(WebIO.AbstractConnection[]), Channel{WebIO.AbstractConnection}(sz_max:32,sz_curr:0)))"
      ]
     },
     "execution_count": 6,
     "metadata": {
      "application/vnd.webio.node+json": {
       "kernelId": "bba9737e-37c0-4066-86d3-b04a44f79874"
      }
     },
     "output_type": "execute_result"
    }
   ],
   "source": [
    "out = read_csv_new(\"examples\\\\UBW_curriculum2.csv\")\n",
    "#write_csv(out)\n",
    "visualize(out, changed=update_plan , edit=false, notebook=true, \n",
    "    show_blocking_factor=false, show_delay_factor=false,\n",
    "    show_centrality=false, show_complexity = false)"
   ]
  },
  {
   "cell_type": "code",
   "execution_count": 7,
   "metadata": {},
   "outputs": [
    {
     "name": "stderr",
     "output_type": "stream",
     "text": [
      "┌ Info: Accept (6):  🔗    0↑     0↓    0s 127.0.0.1:8156:8156 ≣16\n",
      "└ @ HTTP.Servers C:\\Users\\orhan\\.julia\\packages\\HTTP\\YjRCz\\src\\Servers.jl:343\n"
     ]
    },
    {
     "data": {
      "text/plain": [
       "Blink.AtomShell.Window(1, Blink.AtomShell.Electron(Process(`\u001b[4m'C:\\Users\\orhan\\.julia\\packages\\Blink\\vKGzM\\deps\\atom\\electron.exe'\u001b[24m \u001b[4m'C:\\Users\\orhan\\.julia\\packages\\Blink\\vKGzM\\src\\AtomShell\\main.js'\u001b[24m \u001b[4mport\u001b[24m \u001b[4m6596\u001b[24m`, ProcessRunning), Sockets.TCPSocket(Base.Libc.WindowsRawSocket(0x0000000000000518) active, 0 bytes waiting), Dict{String,Any}(\"callback\"=>##1#2())), Blink.Page(1, WebSockets.WebSocket{Sockets.TCPSocket}(Sockets.TCPSocket(Base.Libc.WindowsRawSocket(0x0000000000000508) active, 0 bytes waiting), true, CONNECTED::ReadyState = 1), Dict{String,Any}(\"webio\"=>##95#96{BlinkConnection}(BlinkConnection(Page(#= circular reference @-4 =#))),\"callback\"=>##1#2()), Distributed.Future(1, 1, 1, Some(true))))"
      ]
     },
     "execution_count": 7,
     "metadata": {},
     "output_type": "execute_result"
    },
    {
     "name": "stderr",
     "output_type": "stream",
     "text": [
      "┌ Info: Accept (7):  🔗    0↑     0↓    0s 127.0.0.1:8156:8156 ≣16\n",
      "└ @ HTTP.Servers C:\\Users\\orhan\\.julia\\packages\\HTTP\\YjRCz\\src\\Servers.jl:343\n",
      "┌ Info: Accept (8):  🔗    0↑     0↓    0s 127.0.0.1:8156:8156 ≣16\n",
      "└ @ HTTP.Servers C:\\Users\\orhan\\.julia\\packages\\HTTP\\YjRCz\\src\\Servers.jl:343\n"
     ]
    }
   ],
   "source": [
    "out = read_csv_new(\"examples\\\\WSU-EE-PrecalcReady.csv\")\n",
    "#write_csv(out)\n",
    "visualize(out, changed=update_plan , edit=true, notebook=false, \n",
    "    show_blocking_factor=false, show_delay_factor=false,\n",
    "    show_centrality=false, show_complexity = false)"
   ]
  },
  {
   "cell_type": "code",
   "execution_count": 8,
   "metadata": {},
   "outputs": [
    {
     "ename": "SystemError",
     "evalue": "SystemError: opening file default_csv.csv: No such file or directory",
     "output_type": "error",
     "traceback": [
      "SystemError: opening file default_csv.csv: No such file or directory",
      "",
      "Stacktrace:",
      " [1] #systemerror#39(::Nothing, ::Function, ::String, ::Bool) at .\\error.jl:106",
      " [2] systemerror at .\\error.jl:106 [inlined]",
      " [3] #open#293(::Nothing, ::Nothing, ::Nothing, ::Nothing, ::Nothing, ::Function, ::String) at .\\iostream.jl:283",
      " [4] open at .\\iostream.jl:275 [inlined]",
      " [5] #open#294(::Base.Iterators.Pairs{Union{},Union{},Tuple{},NamedTuple{(),Tuple{}}}, ::Function, ::getfield(CurricularAnalytics, Symbol(\"##14#15\")), ::String) at .\\iostream.jl:367",
      " [6] open at .\\iostream.jl:367 [inlined]",
      " [7] readfile at C:\\Users\\orhan\\Desktop\\JuliaRelated\\11-27-18-Development\\CurricularAnalytics.jl\\src\\DataHandler.jl:6 [inlined]",
      " [8] remove_empty_lines(::String) at C:\\Users\\orhan\\Desktop\\JuliaRelated\\11-27-18-Development\\CurricularAnalytics.jl\\src\\DataHandler.jl:17",
      " [9] read_csv_new(::String) at C:\\Users\\orhan\\Desktop\\JuliaRelated\\11-27-18-Development\\CurricularAnalytics.jl\\src\\DataHandler.jl:442",
      " [10] top-level scope at In[8]:1"
     ]
    },
    {
     "name": "stderr",
     "output_type": "stream",
     "text": [
      "┌ Info: Accept (9):  🔗    0↑     0↓    0s 127.0.0.1:8156:8156 ≣16\n",
      "└ @ HTTP.Servers C:\\Users\\orhan\\.julia\\packages\\HTTP\\YjRCz\\src\\Servers.jl:343\n",
      "┌ Info: Accept (10):  🔗    0↑     0↓    0s 127.0.0.1:8156:8156 ≣16\n",
      "└ @ HTTP.Servers C:\\Users\\orhan\\.julia\\packages\\HTTP\\YjRCz\\src\\Servers.jl:343\n",
      "KeyError: key 5 not found\n",
      "Stacktrace:\n",
      " [1] \u001b[1mgetindex\u001b[22m\u001b[1m(\u001b[22m::Dict{Int64,Course}, ::Int64\u001b[1m)\u001b[22m at \u001b[1m.\\dict.jl:478\u001b[22m\n",
      " [2] \u001b[1mupdate_plan\u001b[22m\u001b[1m(\u001b[22m::DegreePlan, ::Dict{String,Any}, ::String\u001b[1m)\u001b[22m at \u001b[1mC:\\Users\\orhan\\Desktop\\JuliaRelated\\11-27-18-Development\\CurricularAnalytics.jl\\src\\DataHandler.jl:211\u001b[22m\n",
      " [3] \u001b[1m(::getfield(CurricularAnalytics, Symbol(\"##47#48\")){typeof(update_plan),String,DegreePlan})\u001b[22m\u001b[1m(\u001b[22m::Dict{String,Any}\u001b[1m)\u001b[22m at \u001b[1mC:\\Users\\orhan\\Desktop\\JuliaRelated\\11-27-18-Development\\CurricularAnalytics.jl\\src\\Visualization.jl:152\u001b[22m\n",
      " [4] \u001b[1m#setindex!#1\u001b[22m\u001b[1m(\u001b[22m::getfield(WebIO, Symbol(\"##31#32\")), ::Function, ::Observables.Observable{Dict{String,Any}}, ::Dict{String,Any}\u001b[1m)\u001b[22m at \u001b[1mC:\\Users\\orhan\\.julia\\packages\\Observables\\qCJWB\\src\\Observables.jl:87\u001b[22m\n",
      " [5] \u001b[1m#setindex!\u001b[22m at \u001b[1m.\\none:0\u001b[22m [inlined]\n",
      " [6] \u001b[1msetexcludinghandlers\u001b[22m at \u001b[1mC:\\Users\\orhan\\.julia\\packages\\Observables\\qCJWB\\src\\Observables.jl:103\u001b[22m [inlined]\n",
      " [7] \u001b[1mset_nosync\u001b[22m\u001b[1m(\u001b[22m::Observables.Observable{Dict{String,Any}}, ::Dict{String,Any}\u001b[1m)\u001b[22m at \u001b[1mC:\\Users\\orhan\\.julia\\packages\\WebIO\\msVgs\\src\\scope.jl:314\u001b[22m\n",
      " [8] \u001b[1mdispatch\u001b[22m\u001b[1m(\u001b[22m::WebIO.Scope, ::String, ::Dict{String,Any}\u001b[1m)\u001b[22m at \u001b[1mC:\\Users\\orhan\\.julia\\packages\\WebIO\\msVgs\\src\\scope.jl:322\u001b[22m\n",
      " [9] \u001b[1mdispatch\u001b[22m\u001b[1m(\u001b[22m::WebIO.IJuliaConnection, ::Dict{String,Any}\u001b[1m)\u001b[22m at \u001b[1mC:\\Users\\orhan\\.julia\\packages\\WebIO\\msVgs\\src\\connection.jl:48\u001b[22m\n",
      " [10] \u001b[1m(::getfield(WebIO, Symbol(\"##74#75\")){WebIO.IJuliaConnection})\u001b[22m\u001b[1m(\u001b[22m::IJulia.Msg\u001b[1m)\u001b[22m at \u001b[1mC:\\Users\\orhan\\.julia\\packages\\WebIO\\msVgs\\src\\providers\\ijulia.jl:20\u001b[22m\n",
      " [11] \u001b[1mcomm_msg\u001b[22m\u001b[1m(\u001b[22m::ZMQ.Socket, ::IJulia.Msg\u001b[1m)\u001b[22m at \u001b[1mC:\\Users\\orhan\\.julia\\packages\\IJulia\\0cLgR\\src\\comm_manager.jl:134\u001b[22m\n",
      " [12] \u001b[1m#invokelatest#1\u001b[22m at \u001b[1m.\\essentials.jl:697\u001b[22m [inlined]\n",
      " [13] \u001b[1minvokelatest\u001b[22m at \u001b[1m.\\essentials.jl:696\u001b[22m [inlined]\n",
      " [14] \u001b[1meventloop\u001b[22m\u001b[1m(\u001b[22m::ZMQ.Socket\u001b[1m)\u001b[22m at \u001b[1mC:\\Users\\orhan\\.julia\\packages\\IJulia\\0cLgR\\src\\eventloop.jl:8\u001b[22m\n",
      " [15] \u001b[1m(::getfield(IJulia, Symbol(\"##12#15\")))\u001b[22m\u001b[1m(\u001b[22m\u001b[1m)\u001b[22m at \u001b[1m.\\task.jl:259\u001b[22m"
     ]
    },
    {
     "ename": "KeyError",
     "evalue": "KeyError: key 5 not found",
     "output_type": "error",
     "traceback": [
      "KERNEL EXCEPTION",
      "KeyError: key 5 not found",
      ""
     ]
    },
    {
     "name": "stderr",
     "output_type": "stream",
     "text": [
      "KeyError: key 5 not found\n",
      "Stacktrace:\n",
      " [1] \u001b[1mgetindex\u001b[22m\u001b[1m(\u001b[22m::Dict{Int64,Course}, ::Int64\u001b[1m)\u001b[22m at \u001b[1m.\\dict.jl:478\u001b[22m\n",
      " [2] \u001b[1mupdate_plan\u001b[22m\u001b[1m(\u001b[22m::DegreePlan, ::Dict{String,Any}, ::String\u001b[1m)\u001b[22m at \u001b[1mC:\\Users\\orhan\\Desktop\\JuliaRelated\\11-27-18-Development\\CurricularAnalytics.jl\\src\\DataHandler.jl:211\u001b[22m\n",
      " [3] \u001b[1m(::getfield(CurricularAnalytics, Symbol(\"##47#48\")){typeof(update_plan),String,DegreePlan})\u001b[22m\u001b[1m(\u001b[22m::Dict{String,Any}\u001b[1m)\u001b[22m at \u001b[1mC:\\Users\\orhan\\Desktop\\JuliaRelated\\11-27-18-Development\\CurricularAnalytics.jl\\src\\Visualization.jl:152\u001b[22m\n",
      " [4] \u001b[1m#setindex!#1\u001b[22m\u001b[1m(\u001b[22m::getfield(WebIO, Symbol(\"##31#32\")), ::Function, ::Observables.Observable{Dict{String,Any}}, ::Dict{String,Any}\u001b[1m)\u001b[22m at \u001b[1mC:\\Users\\orhan\\.julia\\packages\\Observables\\qCJWB\\src\\Observables.jl:87\u001b[22m"
     ]
    },
    {
     "ename": "KeyError",
     "evalue": "KeyError: key 5 not found",
     "output_type": "error",
     "traceback": [
      "KERNEL EXCEPTION",
      "KeyError: key 5 not found",
      ""
     ]
    },
    {
     "name": "stderr",
     "output_type": "stream",
     "text": [
      "\n",
      " [5] \u001b[1m#setindex!\u001b[22m at \u001b[1m.\\none:0\u001b[22m [inlined]\n",
      " [6] \u001b[1msetexcludinghandlers\u001b[22m at \u001b[1mC:\\Users\\orhan\\.julia\\packages\\Observables\\qCJWB\\src\\Observables.jl:103\u001b[22m [inlined]\n",
      " [7] \u001b[1mset_nosync\u001b[22m\u001b[1m(\u001b[22m::Observables.Observable{Dict{String,Any}}, ::Dict{String,Any}\u001b[1m)\u001b[22m at \u001b[1mC:\\Users\\orhan\\.julia\\packages\\WebIO\\msVgs\\src\\scope.jl:314\u001b[22m\n",
      " [8] \u001b[1mdispatch\u001b[22m\u001b[1m(\u001b[22m::WebIO.Scope, ::String, ::Dict{String,Any}\u001b[1m)\u001b[22m at \u001b[1mC:\\Users\\orhan\\.julia\\packages\\WebIO\\msVgs\\src\\scope.jl:322\u001b[22m\n",
      " [9] \u001b[1mdispatch\u001b[22m\u001b[1m(\u001b[22m::WebIO.IJuliaConnection, ::Dict{String,Any}\u001b[1m)\u001b[22m at \u001b[1mC:\\Users\\orhan\\.julia\\packages\\WebIO\\msVgs\\src\\connection.jl:48\u001b[22m\n",
      " [10] \u001b[1m(::getfield(WebIO, Symbol(\"##74#75\")){WebIO.IJuliaConnection})\u001b[22m\u001b[1m(\u001b[22m::IJulia.Msg\u001b[1m)\u001b[22m at \u001b[1mC:\\Users\\orhan\\.julia\\packages\\WebIO\\msVgs\\src\\providers\\ijulia.jl:20\u001b[22m\n",
      " [11] \u001b[1mcomm_msg\u001b[22m\u001b[1m(\u001b[22m::ZMQ.Socket, ::IJulia.Msg\u001b[1m)\u001b[22m at \u001b[1mC:\\Users\\orhan\\.julia\\packages\\IJulia\\0cLgR\\src\\comm_manager.jl:134\u001b[22m\n",
      " [12] \u001b[1m#invokelatest#1\u001b[22m at \u001b[1m.\\essentials.jl:697\u001b[22m [inlined]\n",
      " [13] \u001b[1minvokelatest\u001b[22m at \u001b[1m.\\essentials.jl:696\u001b[22m [inlined]\n",
      " [14] \u001b[1meventloop\u001b[22m\u001b[1m(\u001b[22m::ZMQ.Socket\u001b[1m)\u001b[22m at \u001b[1mC:\\Users\\orhan\\.julia\\packages\\IJulia\\0cLgR\\src\\eventloop.jl:8\u001b[22m\n",
      " [15] \u001b[1m(::getfield(IJulia, Symbol(\"##12#15\")))\u001b[22m\u001b[1m(\u001b[22m\u001b[1m)\u001b[22m at \u001b[1m.\\task.jl:259\u001b[22m"
     ]
    },
    {
     "ename": "KeyError",
     "evalue": "KeyError: key 5 not found",
     "output_type": "error",
     "traceback": [
      "KERNEL EXCEPTION",
      "KeyError: key 5 not found",
      ""
     ]
    },
    {
     "name": "stderr",
     "output_type": "stream",
     "text": [
      "KeyError: key 5 not found"
     ]
    }
   ],
   "source": [
    "out = read_csv_new(\"default_csv.csv\")\n",
    "#write_csv(out)\n",
    "visualize(out, changed=update_plan , edit=true, notebook=true, \n",
    "    show_blocking_factor=false, show_delay_factor=false,\n",
    "    show_centrality=false, show_complexity = false)"
   ]
  },
  {
   "cell_type": "code",
   "execution_count": 10,
   "metadata": {},
   "outputs": [
    {
     "ename": "SystemError",
     "evalue": "SystemError: opening file file_path: No such file or directory",
     "output_type": "error",
     "traceback": [
      "SystemError: opening file file_path: No such file or directory",
      "",
      "Stacktrace:",
      " [1] #systemerror#39(::Nothing, ::Function, ::String, ::Bool) at .\\error.jl:106",
      " [2] systemerror at .\\error.jl:106 [inlined]",
      " [3] #open#293(::Nothing, ::Nothing, ::Nothing, ::Nothing, ::Nothing, ::Function, ::String) at .\\iostream.jl:283",
      " [4] open at .\\iostream.jl:275 [inlined]",
      " [5] #open#294(::Base.Iterators.Pairs{Union{},Union{},Tuple{},NamedTuple{(),Tuple{}}}, ::Function, ::getfield(Main, Symbol(\"##3#4\")), ::String) at .\\iostream.jl:367",
      " [6] open(::Function, ::String) at .\\iostream.jl:367",
      " [7] top-level scope at In[10]:1"
     ]
    }
   ],
   "source": [
    "open(\"file_path\") do csv_file        \n",
    "    println(\"dasd\")\n",
    "    readline(csv_file)\n",
    "end"
   ]
  },
  {
   "cell_type": "code",
   "execution_count": 12,
   "metadata": {},
   "outputs": [
    {
     "name": "stdout",
     "output_type": "stream",
     "text": [
      "7383060400323429996\n",
      "7383060400323429996\n",
      "7383060400323429996\n",
      "7383060400323429996\n"
     ]
    }
   ],
   "source": [
    "println(abs(signed(hash(\"this.name\" * \"this.institution\"))))\n",
    "println(abs(signed(hash(\"this.name\" * \"this.institution\"))))\n",
    "println(abs(signed(hash(\"this.name\" * \"this.institution\"))))\n",
    "println(abs(signed(hash(\"this.name\" * \"this.institution\"))))\n"
   ]
  },
  {
   "cell_type": "code",
   "execution_count": null,
   "metadata": {
    "collapsed": true
   },
   "outputs": [],
   "source": []
  }
 ],
 "metadata": {
  "@webio": {
   "lastCommId": "DC1367D00F6444D88C0E834D7E27834B",
   "lastKernelId": "bba9737e-37c0-4066-86d3-b04a44f79874"
  },
  "kernelspec": {
   "display_name": "Julia 1.0.1",
   "language": "julia",
   "name": "julia-1.0"
  },
  "language_info": {
   "file_extension": ".jl",
   "mimetype": "application/julia",
   "name": "julia",
   "version": "1.0.1"
  }
 },
 "nbformat": 4,
 "nbformat_minor": 2
}

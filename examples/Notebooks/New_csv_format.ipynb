{
 "cells": [
  {
   "cell_type": "code",
   "execution_count": 1,
   "metadata": {},
   "outputs": [
    {
     "name": "stdout",
     "output_type": "stream",
     "text": [
      "Current directory: CurricularAnalytics.jl\n"
     ]
    },
    {
     "name": "stderr",
     "output_type": "stream",
     "text": [
      "┌ Info: Recompiling stale cache file C:\\Users\\orhan\\.julia\\compiled\\v1.0\\CurricularAnalytics\\KKMY9.ji for CurricularAnalytics [b915a5b0-c40e-11e8-3dab-39a55ab5c2f7]\n",
      "└ @ Base loading.jl:1187\n"
     ]
    },
    {
     "data": {
      "text/html": [
       "    <script id=\"webio-setup-10653502695425823858\">\n",
       "    // Immediately-invoked-function-expression to avoid global variables.\n",
       "    (function() {\n",
       "        var warning_div = document.getElementById(\"webio-warning-8319657077225152490\");\n",
       "        var hide = function () {\n",
       "            var script = document.getElementById(\"webio-setup-10653502695425823858\");\n",
       "            var parent = script && script.parentElement;\n",
       "            var grandparent = parent && parent.parentElement;\n",
       "            if (grandparent) {\n",
       "                grandparent.style.display = \"none\";\n",
       "            }\n",
       "            warning_div.style.display = \"none\";\n",
       "        };\n",
       "        if (window.require && require.defined) {\n",
       "            // Jupyter notebook.\n",
       "            if (require.defined(\"nbextensions/webio/main\")\n",
       "                    || require.defined(\"/assetserver/15060f7913bd455b6698e8bd1357ce9c6553b0bb-dist/main.js\")) {\n",
       "                // Extension already loaded.\n",
       "                hide();\n",
       "                return;\n",
       "            }\n",
       "            console.warn(\"Loading WebIO Jupyter extension on an ad-hoc basis. Consider enabling the WebIO nbextension for a stabler experience (this should happen automatically when building WebIO).\");\n",
       "            require([\"/assetserver/15060f7913bd455b6698e8bd1357ce9c6553b0bb-dist/main.js\"], function (webIOModule) {\n",
       "                webIOModule.load_ipython_extension();\n",
       "            });\n",
       "            warning_div.innerHTML = \"<strong>Loading WebIO Jupyter extension on an ad-hoc basis. Consider enabling the WebIO nbextension for a stabler experience (this should happen automatically when building WebIO).</strong>\";\n",
       "        } else if (window.location.pathname.includes(\"/lab\")) {\n",
       "            // Guessing JupyterLab\n",
       "            warning_div.innerHTML = \"WebIO does not support JupyterLab yet.\";\n",
       "        }\n",
       "    })();\n",
       "    </script>\n",
       "    <div\n",
       "        id=\"webio-warning-8319657077225152490\"\n",
       "        class=\"output_text output_stderr\"\n",
       "        style=\"padding: 1em; font-weight: bold;\"\n",
       "    >\n",
       "        Unable to load WebIO. Please make sure WebIO works for your Jupyter client.\n",
       "        <!-- TODO: link to installation docs. -->\n",
       "    </div>\n"
      ],
      "text/plain": [
       "HTML{String}(\"    <script id=\\\"webio-setup-10653502695425823858\\\">\\n    // Immediately-invoked-function-expression to avoid global variables.\\n    (function() {\\n        var warning_div = document.getElementById(\\\"webio-warning-8319657077225152490\\\");\\n        var hide = function () {\\n            var script = document.getElementById(\\\"webio-setup-10653502695425823858\\\");\\n            var parent = script && script.parentElement;\\n            var grandparent = parent && parent.parentElement;\\n            if (grandparent) {\\n                grandparent.style.display = \\\"none\\\";\\n            }\\n            warning_div.style.display = \\\"none\\\";\\n        };\\n        if (window.require && require.defined) {\\n            // Jupyter notebook.\\n            if (require.defined(\\\"nbextensions/webio/main\\\")\\n                    || require.defined(\\\"/assetserver/15060f7913bd455b6698e8bd1357ce9c6553b0bb-dist/main.js\\\")) {\\n                // Extension already loaded.\\n                hide();\\n                return;\\n            }\\n            console.warn(\\\"Loading WebIO Jupyter extension on an ad-hoc basis. Consider enabling the WebIO nbextension for a stabler experience (this should happen automatically when building WebIO).\\\");\\n            require([\\\"/assetserver/15060f7913bd455b6698e8bd1357ce9c6553b0bb-dist/main.js\\\"], function (webIOModule) {\\n                webIOModule.load_ipython_extension();\\n            });\\n            warning_div.innerHTML = \\\"<strong>Loading WebIO Jupyter extension on an ad-hoc basis. Consider enabling the WebIO nbextension for a stabler experience (this should happen automatically when building WebIO).</strong>\\\";\\n        } else if (window.location.pathname.includes(\\\"/lab\\\")) {\\n            // Guessing JupyterLab\\n            warning_div.innerHTML = \\\"WebIO does not support JupyterLab yet.\\\";\\n        }\\n    })();\\n    </script>\\n    <div\\n        id=\\\"webio-warning-8319657077225152490\\\"\\n        class=\\\"output_text output_stderr\\\"\\n        style=\\\"padding: 1em; font-weight: bold;\\\"\\n    >\\n        Unable to load WebIO. Please make sure WebIO works for your Jupyter client.\\n        <!-- TODO: link to installation docs. -->\\n    </div>\\n\")"
      ]
     },
     "metadata": {},
     "output_type": "display_data"
    }
   ],
   "source": [
    "if split(pwd(),Base.Filesystem.path_separator)[end] != \"CurricularAnalytics.jl\"\n",
    "    cd(\"../..\")\n",
    "end\n",
    "println(\"Current directory: \" * split(pwd(),\"\\\\\")[end])\n",
    "using Pkg\n",
    "pkg\"activate .\"\n",
    "using CurricularAnalytics"
   ]
  },
  {
   "cell_type": "code",
   "execution_count": 2,
   "metadata": {
    "scrolled": false
   },
   "outputs": [
    {
     "name": "stderr",
     "output_type": "stream",
     "text": [
      "┌ Info: Listening on: Sockets.InetAddr{Sockets.IPv4}(ip\"127.0.0.1\", 0x1fdc)\n",
      "└ @ HTTP.Servers C:\\Users\\orhan\\.julia\\packages\\HTTP\\YjRCz\\src\\Servers.jl:301\n"
     ]
    },
    {
     "data": {
      "application/vnd.webio.node+json": {
       "children": [
        {
         "children": [
          ""
         ],
         "instanceArgs": {
          "namespace": "html",
          "tag": "iframe"
         },
         "nodeType": "DOM",
         "props": {
          "events": {
           "load": "(function (){this.contentWindow.postMessage({\"options\":{\"hideTerms\":false,\"edit\":true},\"curriculum\":{\"name\":\"Underwater Basket Weaving\",\"dp_name\":\"2-year plan\",\"curriculum_terms\":[{\"name\":\"Term 1\",\"curriculum_items\":[{\"curriculum_requisites\":[],\"name\":\"BW 101\",\"metrics\":{\"centrality\":0,\"complexity\":7.0,\"blocking factor\":4,\"delay factor\":3.0},\"nameSub\":\"Introduction to Baskets\",\"id\":322019785068693,\"credits\":3},{\"curriculum_requisites\":[],\"name\":\"PE 115\",\"metrics\":{\"centrality\":0,\"complexity\":3.0,\"blocking factor\":1,\"delay factor\":2.0},\"nameSub\":\"Swimming\",\"id\":652900327483442,\"credits\":3},{\"curriculum_requisites\":[],\"name\":\"MA 116\",\"metrics\":{\"centrality\":0,\"complexity\":3.0,\"blocking factor\":1,\"delay factor\":2.0},\"nameSub\":\"Introductory Calculus w/ Applications\",\"id\":782884125451275,\"credits\":4}],\"id\":1},{\"name\":\"Term 2\",\"curriculum_items\":[{\"curriculum_requisites\":[{\"source_id\":322019785068693,\"target_id\":402728206469135,\"type\":\"prereq\"},{\"source_id\":702354877085465,\"target_id\":402728206469135,\"type\":\"strict-coreq\"}],\"name\":\"BW 111\",\"metrics\":{\"centrality\":6,\"complexity\":4.0,\"blocking factor\":1,\"delay factor\":3.0},\"nameSub\":\"Basic Basket Forms\",\"id\":402728206469135,\"credits\":3},{\"curriculum_requisites\":[],\"name\":\"BW 111L\",\"metrics\":{\"centrality\":0,\"complexity\":5.0,\"blocking factor\":2,\"delay factor\":3.0},\"nameSub\":\"Basic Basket Forms Lab\",\"id\":702354877085465,\"credits\":1},{\"curriculum_requisites\":[{\"source_id\":702354877085465,\"target_id\":8112556617650,\"type\":\"prereq\"},{\"source_id\":402728206469135,\"target_id\":8112556617650,\"type\":\"prereq\"},{\"source_id\":782884125451275,\"target_id\":8112556617650,\"type\":\"prereq\"}],\"name\":\"BW 201\",\"metrics\":{\"centrality\":0,\"complexity\":3.0,\"blocking factor\":0,\"delay factor\":3.0},\"nameSub\":\"Advanced Basketry\",\"id\":8112556617650,\"credits\":3},{\"curriculum_requisites\":[],\"name\":\" \",\"metrics\":{\"centrality\":0,\"complexity\":1.0,\"blocking factor\":0,\"delay factor\":1.0},\"nameSub\":\"Humanitites Elective\",\"id\":667269796496981,\"credits\":3}],\"id\":2},{\"name\":\"Term 3\",\"curriculum_items\":[{\"curriculum_requisites\":[{\"source_id\":322019785068693,\"target_id\":851575965306320,\"type\":\"prereq\"}],\"name\":\"BW 214\",\"metrics\":{\"centrality\":3,\"complexity\":4.0,\"blocking factor\":1,\"delay factor\":3.0},\"nameSub\":\"Basket Materials & Decoration\",\"id\":851575965306320,\"credits\":3},{\"curriculum_requisites\":[{\"source_id\":652900327483442,\"target_id\":80521071480203,\"type\":\"prereq\"},{\"source_id\":851575965306320,\"target_id\":80521071480203,\"type\":\"prereq\"}],\"name\":\"BW 301\",\"metrics\":{\"centrality\":0,\"complexity\":3.0,\"blocking factor\":0,\"delay factor\":3.0},\"nameSub\":\"Underwater Weaving\",\"id\":80521071480203,\"credits\":3},{\"curriculum_requisites\":[],\"name\":\" \",\"metrics\":{\"centrality\":0,\"complexity\":1.0,\"blocking factor\":0,\"delay factor\":1.0},\"nameSub\":\"Social Sciences Elective\",\"id\":216766905654306,\"credits\":3}],\"id\":3},{\"name\":\"Term 4\",\"curriculum_items\":[{\"curriculum_requisites\":[],\"name\":\" \",\"metrics\":{\"centrality\":0,\"complexity\":1.0,\"blocking factor\":0,\"delay factor\":1.0},\"nameSub\":\"Technical Elective\",\"id\":758958742106256,\"credits\":3},{\"curriculum_requisites\":[],\"name\":\" \",\"metrics\":{\"centrality\":0,\"complexity\":1.0,\"blocking factor\":0,\"delay factor\":1.0},\"nameSub\":\"General Elective\",\"id\":88626595752522,\"credits\":3}],\"id\":4}],\"institution\":\"ACME State University\"}},\"*\"); window.removeEventListener(\"message\",window.messageReceived); window.messageReceived=(function (event){return (event.data.curriculum!==undefined) ? (_webIOScope.setObservableValue({\"name\":\"curriculum-data\",\"scope\":\"scope-c2829c16-ff19-4301-bf64-ff212b42edda\",\"id\":\"ob_01\",\"type\":\"observable\"},event.data.curriculum)) : undefined}); return window.addEventListener(\"message\",window.messageReceived)})"
          },
          "id": "curriculum",
          "src": "http://localhost:8156",
          "style": {
           "border": "none",
           "height": "100vh",
           "margin": "0",
           "padding": "0",
           "width": "100%"
          }
         },
         "type": "node"
        }
       ],
       "instanceArgs": {
        "handlers": {},
        "id": "scope-c2829c16-ff19-4301-bf64-ff212b42edda",
        "imports": {
         "data": [],
         "type": "async_block"
        },
        "observables": {
         "curriculum-data": {
          "id": "ob_01",
          "sync": true,
          "value": {
           "curriculum": {
            "curriculum_terms": [
             {
              "curriculum_items": [
               {
                "credits": 3,
                "curriculum_requisites": [],
                "id": 322019785068693,
                "metrics": {
                 "blocking factor": 4,
                 "centrality": 0,
                 "complexity": 7,
                 "delay factor": 3
                },
                "name": "BW 101",
                "nameSub": "Introduction to Baskets"
               },
               {
                "credits": 3,
                "curriculum_requisites": [],
                "id": 652900327483442,
                "metrics": {
                 "blocking factor": 1,
                 "centrality": 0,
                 "complexity": 3,
                 "delay factor": 2
                },
                "name": "PE 115",
                "nameSub": "Swimming"
               },
               {
                "credits": 4,
                "curriculum_requisites": [],
                "id": 782884125451275,
                "metrics": {
                 "blocking factor": 1,
                 "centrality": 0,
                 "complexity": 3,
                 "delay factor": 2
                },
                "name": "MA 116",
                "nameSub": "Introductory Calculus w/ Applications"
               }
              ],
              "id": 1,
              "name": "Term 1"
             },
             {
              "curriculum_items": [
               {
                "credits": 3,
                "curriculum_requisites": [
                 {
                  "source_id": 322019785068693,
                  "target_id": 402728206469135,
                  "type": "prereq"
                 },
                 {
                  "source_id": 702354877085465,
                  "target_id": 402728206469135,
                  "type": "strict-coreq"
                 }
                ],
                "id": 402728206469135,
                "metrics": {
                 "blocking factor": 1,
                 "centrality": 6,
                 "complexity": 4,
                 "delay factor": 3
                },
                "name": "BW 111",
                "nameSub": "Basic Basket Forms"
               },
               {
                "credits": 1,
                "curriculum_requisites": [],
                "id": 702354877085465,
                "metrics": {
                 "blocking factor": 2,
                 "centrality": 0,
                 "complexity": 5,
                 "delay factor": 3
                },
                "name": "BW 111L",
                "nameSub": "Basic Basket Forms Lab"
               },
               {
                "credits": 3,
                "curriculum_requisites": [
                 {
                  "source_id": 702354877085465,
                  "target_id": 8112556617650,
                  "type": "prereq"
                 },
                 {
                  "source_id": 402728206469135,
                  "target_id": 8112556617650,
                  "type": "prereq"
                 },
                 {
                  "source_id": 782884125451275,
                  "target_id": 8112556617650,
                  "type": "prereq"
                 }
                ],
                "id": 8112556617650,
                "metrics": {
                 "blocking factor": 0,
                 "centrality": 0,
                 "complexity": 3,
                 "delay factor": 3
                },
                "name": "BW 201",
                "nameSub": "Advanced Basketry"
               },
               {
                "credits": 3,
                "curriculum_requisites": [],
                "id": 667269796496981,
                "metrics": {
                 "blocking factor": 0,
                 "centrality": 0,
                 "complexity": 1,
                 "delay factor": 1
                },
                "name": " ",
                "nameSub": "Humanitites Elective"
               }
              ],
              "id": 2,
              "name": "Term 2"
             },
             {
              "curriculum_items": [
               {
                "credits": 3,
                "curriculum_requisites": [
                 {
                  "source_id": 322019785068693,
                  "target_id": 851575965306320,
                  "type": "prereq"
                 }
                ],
                "id": 851575965306320,
                "metrics": {
                 "blocking factor": 1,
                 "centrality": 3,
                 "complexity": 4,
                 "delay factor": 3
                },
                "name": "BW 214",
                "nameSub": "Basket Materials & Decoration"
               },
               {
                "credits": 3,
                "curriculum_requisites": [
                 {
                  "source_id": 652900327483442,
                  "target_id": 80521071480203,
                  "type": "prereq"
                 },
                 {
                  "source_id": 851575965306320,
                  "target_id": 80521071480203,
                  "type": "prereq"
                 }
                ],
                "id": 80521071480203,
                "metrics": {
                 "blocking factor": 0,
                 "centrality": 0,
                 "complexity": 3,
                 "delay factor": 3
                },
                "name": "BW 301",
                "nameSub": "Underwater Weaving"
               },
               {
                "credits": 3,
                "curriculum_requisites": [],
                "id": 216766905654306,
                "metrics": {
                 "blocking factor": 0,
                 "centrality": 0,
                 "complexity": 1,
                 "delay factor": 1
                },
                "name": " ",
                "nameSub": "Social Sciences Elective"
               }
              ],
              "id": 3,
              "name": "Term 3"
             },
             {
              "curriculum_items": [
               {
                "credits": 3,
                "curriculum_requisites": [],
                "id": 758958742106256,
                "metrics": {
                 "blocking factor": 0,
                 "centrality": 0,
                 "complexity": 1,
                 "delay factor": 1
                },
                "name": " ",
                "nameSub": "Technical Elective"
               },
               {
                "credits": 3,
                "curriculum_requisites": [],
                "id": 88626595752522,
                "metrics": {
                 "blocking factor": 0,
                 "centrality": 0,
                 "complexity": 1,
                 "delay factor": 1
                },
                "name": " ",
                "nameSub": "General Elective"
               }
              ],
              "id": 4,
              "name": "Term 4"
             }
            ],
            "dp_name": "2-year plan",
            "institution": "ACME State University",
            "name": "Underwater Basket Weaving"
           },
           "options": {
            "edit": true,
            "hideTerms": false
           }
          }
         }
        },
        "systemjs_options": null
       },
       "nodeType": "Scope",
       "props": {},
       "type": "node"
      },
      "text/html": [
       "<div\n",
       "    class=\"webio-mountpoint\"\n",
       "    data-webio-mountpoint=\"9375168128196515687\"\n",
       ">\n",
       "    <script>\n",
       "    if (window.require && require.defined && require.defined(\"nbextensions/webio/main\")) {\n",
       "        console.log(\"Jupyter WebIO extension detected, not mounting.\");\n",
       "    } else if (window.WebIO) {\n",
       "        WebIO.mount(\n",
       "            document.querySelector('[data-webio-mountpoint=\"9375168128196515687\"]'),\n",
       "            {\"props\":{},\"nodeType\":\"Scope\",\"type\":\"node\",\"instanceArgs\":{\"imports\":{\"data\":[],\"type\":\"async_block\"},\"id\":\"scope-c2829c16-ff19-4301-bf64-ff212b42edda\",\"handlers\":{},\"systemjs_options\":null,\"observables\":{\"curriculum-data\":{\"sync\":true,\"id\":\"ob_01\",\"value\":{\"options\":{\"hideTerms\":false,\"edit\":true},\"curriculum\":{\"name\":\"Underwater Basket Weaving\",\"dp_name\":\"2-year plan\",\"curriculum_terms\":[{\"name\":\"Term 1\",\"curriculum_items\":[{\"curriculum_requisites\":[],\"name\":\"BW 101\",\"metrics\":{\"centrality\":0,\"complexity\":7.0,\"blocking factor\":4,\"delay factor\":3.0},\"nameSub\":\"Introduction to Baskets\",\"id\":322019785068693,\"credits\":3},{\"curriculum_requisites\":[],\"name\":\"PE 115\",\"metrics\":{\"centrality\":0,\"complexity\":3.0,\"blocking factor\":1,\"delay factor\":2.0},\"nameSub\":\"Swimming\",\"id\":652900327483442,\"credits\":3},{\"curriculum_requisites\":[],\"name\":\"MA 116\",\"metrics\":{\"centrality\":0,\"complexity\":3.0,\"blocking factor\":1,\"delay factor\":2.0},\"nameSub\":\"Introductory Calculus w\\/ Applications\",\"id\":782884125451275,\"credits\":4}],\"id\":1},{\"name\":\"Term 2\",\"curriculum_items\":[{\"curriculum_requisites\":[{\"source_id\":322019785068693,\"target_id\":402728206469135,\"type\":\"prereq\"},{\"source_id\":702354877085465,\"target_id\":402728206469135,\"type\":\"strict-coreq\"}],\"name\":\"BW 111\",\"metrics\":{\"centrality\":6,\"complexity\":4.0,\"blocking factor\":1,\"delay factor\":3.0},\"nameSub\":\"Basic Basket Forms\",\"id\":402728206469135,\"credits\":3},{\"curriculum_requisites\":[],\"name\":\"BW 111L\",\"metrics\":{\"centrality\":0,\"complexity\":5.0,\"blocking factor\":2,\"delay factor\":3.0},\"nameSub\":\"Basic Basket Forms Lab\",\"id\":702354877085465,\"credits\":1},{\"curriculum_requisites\":[{\"source_id\":702354877085465,\"target_id\":8112556617650,\"type\":\"prereq\"},{\"source_id\":402728206469135,\"target_id\":8112556617650,\"type\":\"prereq\"},{\"source_id\":782884125451275,\"target_id\":8112556617650,\"type\":\"prereq\"}],\"name\":\"BW 201\",\"metrics\":{\"centrality\":0,\"complexity\":3.0,\"blocking factor\":0,\"delay factor\":3.0},\"nameSub\":\"Advanced Basketry\",\"id\":8112556617650,\"credits\":3},{\"curriculum_requisites\":[],\"name\":\" \",\"metrics\":{\"centrality\":0,\"complexity\":1.0,\"blocking factor\":0,\"delay factor\":1.0},\"nameSub\":\"Humanitites Elective\",\"id\":667269796496981,\"credits\":3}],\"id\":2},{\"name\":\"Term 3\",\"curriculum_items\":[{\"curriculum_requisites\":[{\"source_id\":322019785068693,\"target_id\":851575965306320,\"type\":\"prereq\"}],\"name\":\"BW 214\",\"metrics\":{\"centrality\":3,\"complexity\":4.0,\"blocking factor\":1,\"delay factor\":3.0},\"nameSub\":\"Basket Materials & Decoration\",\"id\":851575965306320,\"credits\":3},{\"curriculum_requisites\":[{\"source_id\":652900327483442,\"target_id\":80521071480203,\"type\":\"prereq\"},{\"source_id\":851575965306320,\"target_id\":80521071480203,\"type\":\"prereq\"}],\"name\":\"BW 301\",\"metrics\":{\"centrality\":0,\"complexity\":3.0,\"blocking factor\":0,\"delay factor\":3.0},\"nameSub\":\"Underwater Weaving\",\"id\":80521071480203,\"credits\":3},{\"curriculum_requisites\":[],\"name\":\" \",\"metrics\":{\"centrality\":0,\"complexity\":1.0,\"blocking factor\":0,\"delay factor\":1.0},\"nameSub\":\"Social Sciences Elective\",\"id\":216766905654306,\"credits\":3}],\"id\":3},{\"name\":\"Term 4\",\"curriculum_items\":[{\"curriculum_requisites\":[],\"name\":\" \",\"metrics\":{\"centrality\":0,\"complexity\":1.0,\"blocking factor\":0,\"delay factor\":1.0},\"nameSub\":\"Technical Elective\",\"id\":758958742106256,\"credits\":3},{\"curriculum_requisites\":[],\"name\":\" \",\"metrics\":{\"centrality\":0,\"complexity\":1.0,\"blocking factor\":0,\"delay factor\":1.0},\"nameSub\":\"General Elective\",\"id\":88626595752522,\"credits\":3}],\"id\":4}],\"institution\":\"ACME State University\"}}}}},\"children\":[{\"props\":{\"src\":\"http:\\/\\/localhost:8156\",\"id\":\"curriculum\",\"events\":{\"load\":\"(function (){this.contentWindow.postMessage({\\\"options\\\":{\\\"hideTerms\\\":false,\\\"edit\\\":true},\\\"curriculum\\\":{\\\"name\\\":\\\"Underwater Basket Weaving\\\",\\\"dp_name\\\":\\\"2-year plan\\\",\\\"curriculum_terms\\\":[{\\\"name\\\":\\\"Term 1\\\",\\\"curriculum_items\\\":[{\\\"curriculum_requisites\\\":[],\\\"name\\\":\\\"BW 101\\\",\\\"metrics\\\":{\\\"centrality\\\":0,\\\"complexity\\\":7.0,\\\"blocking factor\\\":4,\\\"delay factor\\\":3.0},\\\"nameSub\\\":\\\"Introduction to Baskets\\\",\\\"id\\\":322019785068693,\\\"credits\\\":3},{\\\"curriculum_requisites\\\":[],\\\"name\\\":\\\"PE 115\\\",\\\"metrics\\\":{\\\"centrality\\\":0,\\\"complexity\\\":3.0,\\\"blocking factor\\\":1,\\\"delay factor\\\":2.0},\\\"nameSub\\\":\\\"Swimming\\\",\\\"id\\\":652900327483442,\\\"credits\\\":3},{\\\"curriculum_requisites\\\":[],\\\"name\\\":\\\"MA 116\\\",\\\"metrics\\\":{\\\"centrality\\\":0,\\\"complexity\\\":3.0,\\\"blocking factor\\\":1,\\\"delay factor\\\":2.0},\\\"nameSub\\\":\\\"Introductory Calculus w\\/ Applications\\\",\\\"id\\\":782884125451275,\\\"credits\\\":4}],\\\"id\\\":1},{\\\"name\\\":\\\"Term 2\\\",\\\"curriculum_items\\\":[{\\\"curriculum_requisites\\\":[{\\\"source_id\\\":322019785068693,\\\"target_id\\\":402728206469135,\\\"type\\\":\\\"prereq\\\"},{\\\"source_id\\\":702354877085465,\\\"target_id\\\":402728206469135,\\\"type\\\":\\\"strict-coreq\\\"}],\\\"name\\\":\\\"BW 111\\\",\\\"metrics\\\":{\\\"centrality\\\":6,\\\"complexity\\\":4.0,\\\"blocking factor\\\":1,\\\"delay factor\\\":3.0},\\\"nameSub\\\":\\\"Basic Basket Forms\\\",\\\"id\\\":402728206469135,\\\"credits\\\":3},{\\\"curriculum_requisites\\\":[],\\\"name\\\":\\\"BW 111L\\\",\\\"metrics\\\":{\\\"centrality\\\":0,\\\"complexity\\\":5.0,\\\"blocking factor\\\":2,\\\"delay factor\\\":3.0},\\\"nameSub\\\":\\\"Basic Basket Forms Lab\\\",\\\"id\\\":702354877085465,\\\"credits\\\":1},{\\\"curriculum_requisites\\\":[{\\\"source_id\\\":702354877085465,\\\"target_id\\\":8112556617650,\\\"type\\\":\\\"prereq\\\"},{\\\"source_id\\\":402728206469135,\\\"target_id\\\":8112556617650,\\\"type\\\":\\\"prereq\\\"},{\\\"source_id\\\":782884125451275,\\\"target_id\\\":8112556617650,\\\"type\\\":\\\"prereq\\\"}],\\\"name\\\":\\\"BW 201\\\",\\\"metrics\\\":{\\\"centrality\\\":0,\\\"complexity\\\":3.0,\\\"blocking factor\\\":0,\\\"delay factor\\\":3.0},\\\"nameSub\\\":\\\"Advanced Basketry\\\",\\\"id\\\":8112556617650,\\\"credits\\\":3},{\\\"curriculum_requisites\\\":[],\\\"name\\\":\\\" \\\",\\\"metrics\\\":{\\\"centrality\\\":0,\\\"complexity\\\":1.0,\\\"blocking factor\\\":0,\\\"delay factor\\\":1.0},\\\"nameSub\\\":\\\"Humanitites Elective\\\",\\\"id\\\":667269796496981,\\\"credits\\\":3}],\\\"id\\\":2},{\\\"name\\\":\\\"Term 3\\\",\\\"curriculum_items\\\":[{\\\"curriculum_requisites\\\":[{\\\"source_id\\\":322019785068693,\\\"target_id\\\":851575965306320,\\\"type\\\":\\\"prereq\\\"}],\\\"name\\\":\\\"BW 214\\\",\\\"metrics\\\":{\\\"centrality\\\":3,\\\"complexity\\\":4.0,\\\"blocking factor\\\":1,\\\"delay factor\\\":3.0},\\\"nameSub\\\":\\\"Basket Materials & Decoration\\\",\\\"id\\\":851575965306320,\\\"credits\\\":3},{\\\"curriculum_requisites\\\":[{\\\"source_id\\\":652900327483442,\\\"target_id\\\":80521071480203,\\\"type\\\":\\\"prereq\\\"},{\\\"source_id\\\":851575965306320,\\\"target_id\\\":80521071480203,\\\"type\\\":\\\"prereq\\\"}],\\\"name\\\":\\\"BW 301\\\",\\\"metrics\\\":{\\\"centrality\\\":0,\\\"complexity\\\":3.0,\\\"blocking factor\\\":0,\\\"delay factor\\\":3.0},\\\"nameSub\\\":\\\"Underwater Weaving\\\",\\\"id\\\":80521071480203,\\\"credits\\\":3},{\\\"curriculum_requisites\\\":[],\\\"name\\\":\\\" \\\",\\\"metrics\\\":{\\\"centrality\\\":0,\\\"complexity\\\":1.0,\\\"blocking factor\\\":0,\\\"delay factor\\\":1.0},\\\"nameSub\\\":\\\"Social Sciences Elective\\\",\\\"id\\\":216766905654306,\\\"credits\\\":3}],\\\"id\\\":3},{\\\"name\\\":\\\"Term 4\\\",\\\"curriculum_items\\\":[{\\\"curriculum_requisites\\\":[],\\\"name\\\":\\\" \\\",\\\"metrics\\\":{\\\"centrality\\\":0,\\\"complexity\\\":1.0,\\\"blocking factor\\\":0,\\\"delay factor\\\":1.0},\\\"nameSub\\\":\\\"Technical Elective\\\",\\\"id\\\":758958742106256,\\\"credits\\\":3},{\\\"curriculum_requisites\\\":[],\\\"name\\\":\\\" \\\",\\\"metrics\\\":{\\\"centrality\\\":0,\\\"complexity\\\":1.0,\\\"blocking factor\\\":0,\\\"delay factor\\\":1.0},\\\"nameSub\\\":\\\"General Elective\\\",\\\"id\\\":88626595752522,\\\"credits\\\":3}],\\\"id\\\":4}],\\\"institution\\\":\\\"ACME State University\\\"}},\\\"*\\\"); window.removeEventListener(\\\"message\\\",window.messageReceived); window.messageReceived=(function (event){return (event.data.curriculum!==undefined) ? (_webIOScope.setObservableValue({\\\"name\\\":\\\"curriculum-data\\\",\\\"scope\\\":\\\"scope-c2829c16-ff19-4301-bf64-ff212b42edda\\\",\\\"id\\\":\\\"ob_01\\\",\\\"type\\\":\\\"observable\\\"},event.data.curriculum)) : undefined}); return window.addEventListener(\\\"message\\\",window.messageReceived)})\"},\"style\":{\"padding\":\"0\",\"height\":\"100vh\",\"margin\":\"0\",\"border\":\"none\",\"width\":\"100%\"}},\"nodeType\":\"DOM\",\"type\":\"node\",\"instanceArgs\":{\"namespace\":\"html\",\"tag\":\"iframe\"},\"children\":[\"\"]}]},\n",
       "        );\n",
       "    } else {\n",
       "        document\n",
       "            .querySelector('[data-webio-mountpoint=\"9375168128196515687\"]')\n",
       "            .innerHTML = '<strong>WebIO not detected.</strong>';\n",
       "    }\n",
       "    </script>\n",
       "</div>\n"
      ],
      "text/plain": [
       "WebIO.Scope(\"scope-c2829c16-ff19-4301-bf64-ff212b42edda\", WebIO.Node{WebIO.DOM}(WebIO.DOM(:html, :iframe), Any[\"\"], Dict{Symbol,Any}(:src=>\"http://localhost:8156\",:id=>\"curriculum\",:events=>Dict(:load=>JSString(\"(function (){this.contentWindow.postMessage({\\\"options\\\":{\\\"hideTerms\\\":false,\\\"edit\\\":true},\\\"curriculum\\\":{\\\"name\\\":\\\"Underwater Basket Weaving\\\",\\\"dp_name\\\":\\\"2-year plan\\\",\\\"curriculum_terms\\\":[{\\\"name\\\":\\\"Term 1\\\",\\\"curriculum_items\\\":[{\\\"curriculum_requisites\\\":[],\\\"name\\\":\\\"BW 101\\\",\\\"metrics\\\":{\\\"centrality\\\":0,\\\"complexity\\\":7.0,\\\"blocking factor\\\":4,\\\"delay factor\\\":3.0},\\\"nameSub\\\":\\\"Introduction to Baskets\\\",\\\"id\\\":322019785068693,\\\"credits\\\":3},{\\\"curriculum_requisites\\\":[],\\\"name\\\":\\\"PE 115\\\",\\\"metrics\\\":{\\\"centrality\\\":0,\\\"complexity\\\":3.0,\\\"blocking factor\\\":1,\\\"delay factor\\\":2.0},\\\"nameSub\\\":\\\"Swimming\\\",\\\"id\\\":652900327483442,\\\"credits\\\":3},{\\\"curriculum_requisites\\\":[],\\\"name\\\":\\\"MA 116\\\",\\\"metrics\\\":{\\\"centrality\\\":0,\\\"complexity\\\":3.0,\\\"blocking factor\\\":1,\\\"delay factor\\\":2.0},\\\"nameSub\\\":\\\"Introductory Calculus w/ Applications\\\",\\\"id\\\":782884125451275,\\\"credits\\\":4}],\\\"id\\\":1},{\\\"name\\\":\\\"Term 2\\\",\\\"curriculum_items\\\":[{\\\"curriculum_requisites\\\":[{\\\"source_id\\\":322019785068693,\\\"target_id\\\":402728206469135,\\\"type\\\":\\\"prereq\\\"},{\\\"source_id\\\":702354877085465,\\\"target_id\\\":402728206469135,\\\"type\\\":\\\"strict-coreq\\\"}],\\\"name\\\":\\\"BW 111\\\",\\\"metrics\\\":{\\\"centrality\\\":6,\\\"complexity\\\":4.0,\\\"blocking factor\\\":1,\\\"delay factor\\\":3.0},\\\"nameSub\\\":\\\"Basic Basket Forms\\\",\\\"id\\\":402728206469135,\\\"credits\\\":3},{\\\"curriculum_requisites\\\":[],\\\"name\\\":\\\"BW 111L\\\",\\\"metrics\\\":{\\\"centrality\\\":0,\\\"complexity\\\":5.0,\\\"blocking factor\\\":2,\\\"delay factor\\\":3.0},\\\"nameSub\\\":\\\"Basic Basket Forms Lab\\\",\\\"id\\\":702354877085465,\\\"credits\\\":1},{\\\"curriculum_requisites\\\":[{\\\"source_id\\\":702354877085465,\\\"target_id\\\":8112556617650,\\\"type\\\":\\\"prereq\\\"},{\\\"source_id\\\":402728206469135,\\\"target_id\\\":8112556617650,\\\"type\\\":\\\"prereq\\\"},{\\\"source_id\\\":782884125451275,\\\"target_id\\\":8112556617650,\\\"type\\\":\\\"prereq\\\"}],\\\"name\\\":\\\"BW 201\\\",\\\"metrics\\\":{\\\"centrality\\\":0,\\\"complexity\\\":3.0,\\\"blocking factor\\\":0,\\\"delay factor\\\":3.0},\\\"nameSub\\\":\\\"Advanced Basketry\\\",\\\"id\\\":8112556617650,\\\"credits\\\":3},{\\\"curriculum_requisites\\\":[],\\\"name\\\":\\\" \\\",\\\"metrics\\\":{\\\"centrality\\\":0,\\\"complexity\\\":1.0,\\\"blocking factor\\\":0,\\\"delay factor\\\":1.0},\\\"nameSub\\\":\\\"Humanitites Elective\\\",\\\"id\\\":667269796496981,\\\"credits\\\":3}],\\\"id\\\":2},{\\\"name\\\":\\\"Term 3\\\",\\\"curriculum_items\\\":[{\\\"curriculum_requisites\\\":[{\\\"source_id\\\":322019785068693,\\\"target_id\\\":851575965306320,\\\"type\\\":\\\"prereq\\\"}],\\\"name\\\":\\\"BW 214\\\",\\\"metrics\\\":{\\\"centrality\\\":3,\\\"complexity\\\":4.0,\\\"blocking factor\\\":1,\\\"delay factor\\\":3.0},\\\"nameSub\\\":\\\"Basket Materials & Decoration\\\",\\\"id\\\":851575965306320,\\\"credits\\\":3},{\\\"curriculum_requisites\\\":[{\\\"source_id\\\":652900327483442,\\\"target_id\\\":80521071480203,\\\"type\\\":\\\"prereq\\\"},{\\\"source_id\\\":851575965306320,\\\"target_id\\\":80521071480203,\\\"type\\\":\\\"prereq\\\"}],\\\"name\\\":\\\"BW 301\\\",\\\"metrics\\\":{\\\"centrality\\\":0,\\\"complexity\\\":3.0,\\\"blocking factor\\\":0,\\\"delay factor\\\":3.0},\\\"nameSub\\\":\\\"Underwater Weaving\\\",\\\"id\\\":80521071480203,\\\"credits\\\":3},{\\\"curriculum_requisites\\\":[],\\\"name\\\":\\\" \\\",\\\"metrics\\\":{\\\"centrality\\\":0,\\\"complexity\\\":1.0,\\\"blocking factor\\\":0,\\\"delay factor\\\":1.0},\\\"nameSub\\\":\\\"Social Sciences Elective\\\",\\\"id\\\":216766905654306,\\\"credits\\\":3}],\\\"id\\\":3},{\\\"name\\\":\\\"Term 4\\\",\\\"curriculum_items\\\":[{\\\"curriculum_requisites\\\":[],\\\"name\\\":\\\" \\\",\\\"metrics\\\":{\\\"centrality\\\":0,\\\"complexity\\\":1.0,\\\"blocking factor\\\":0,\\\"delay factor\\\":1.0},\\\"nameSub\\\":\\\"Technical Elective\\\",\\\"id\\\":758958742106256,\\\"credits\\\":3},{\\\"curriculum_requisites\\\":[],\\\"name\\\":\\\" \\\",\\\"metrics\\\":{\\\"centrality\\\":0,\\\"complexity\\\":1.0,\\\"blocking factor\\\":0,\\\"delay factor\\\":1.0},\\\"nameSub\\\":\\\"General Elective\\\",\\\"id\\\":88626595752522,\\\"credits\\\":3}],\\\"id\\\":4}],\\\"institution\\\":\\\"ACME State University\\\"}},\\\"*\\\"); window.removeEventListener(\\\"message\\\",window.messageReceived); window.messageReceived=(function (event){return (event.data.curriculum!==undefined) ? (_webIOScope.setObservableValue({\\\"name\\\":\\\"curriculum-data\\\",\\\"scope\\\":\\\"scope-c2829c16-ff19-4301-bf64-ff212b42edda\\\",\\\"id\\\":\\\"ob_01\\\",\\\"type\\\":\\\"observable\\\"},event.data.curriculum)) : undefined}); return window.addEventListener(\\\"message\\\",window.messageReceived)})\")),:style=>Dict(:padding=>\"0\",:height=>\"100vh\",:margin=>\"0\",:border=>\"none\",:width=>\"100%\")), 1), Dict{String,Tuple{Observables.AbstractObservable,Union{Nothing, Bool}}}(\"curriculum-data\"=>(Observable{Dict{String,Any}} with 1 listeners. Value:\n",
       "Dict{String,Any}(\"options\"=>Dict{String,Any}(\"hideTerms\"=>false,\"edit\"=>true),\"curriculum\"=>Dict{String,Any}(\"name\"=>\"Underwater Basket Weaving\",\"dp_name\"=>\"2-year plan\",\"curriculum_terms\"=>Dict{String,Any}[Dict(\"name\"=>\"Term 1\",\"curriculum_items\"=>Dict{String,Any}[Dict(\"curriculum_requisites\"=>Dict{String,Any}[],\"name\"=>\"BW 101\",\"metrics\"=>Dict{String,Any}(\"centrality\"=>0,\"complexity\"=>7.0,\"blocking factor\"=>4,\"delay factor\"=>3.0),\"nameSub\"=>\"Introduction to Baskets\",\"id\"=>322019785068693,\"credits\"=>3), Dict(\"curriculum_requisites\"=>Dict{String,Any}[],\"name\"=>\"PE 115\",\"metrics\"=>Dict{String,Any}(\"centrality\"=>0,\"complexity\"=>3.0,\"blocking factor\"=>1,\"delay factor\"=>2.0),\"nameSub\"=>\"Swimming\",\"id\"=>652900327483442,\"credits\"=>3), Dict(\"curriculum_requisites\"=>Dict{String,Any}[],\"name\"=>\"MA 116\",\"metrics\"=>Dict{String,Any}(\"centrality\"=>0,\"complexity\"=>3.0,\"blocking factor\"=>1,\"delay factor\"=>2.0),\"nameSub\"=>\"Introductory Calculus w/ Applications\",\"id\"=>782884125451275,\"credits\"=>4)],\"id\"=>1), Dict(\"name\"=>\"Term 2\",\"curriculum_items\"=>Dict{String,Any}[Dict(\"curriculum_requisites\"=>Dict{String,Any}[Dict(\"source_id\"=>322019785068693,\"target_id\"=>402728206469135,\"type\"=>\"prereq\"), Dict(\"source_id\"=>702354877085465,\"target_id\"=>402728206469135,\"type\"=>\"strict-coreq\")],\"name\"=>\"BW 111\",\"metrics\"=>Dict{String,Any}(\"centrality\"=>6,\"complexity\"=>4.0,\"blocking factor\"=>1,\"delay factor\"=>3.0),\"nameSub\"=>\"Basic Basket Forms\",\"id\"=>402728206469135,\"credits\"=>3), Dict(\"curriculum_requisites\"=>Dict{String,Any}[],\"name\"=>\"BW 111L\",\"metrics\"=>Dict{String,Any}(\"centrality\"=>0,\"complexity\"=>5.0,\"blocking factor\"=>2,\"delay factor\"=>3.0),\"nameSub\"=>\"Basic Basket Forms Lab\",\"id\"=>702354877085465,\"credits\"=>1), Dict(\"curriculum_requisites\"=>Dict{String,Any}[Dict(\"source_id\"=>702354877085465,\"target_id\"=>8112556617650,\"type\"=>\"prereq\"), Dict(\"source_id\"=>402728206469135,\"target_id\"=>8112556617650,\"type\"=>\"prereq\"), Dict(\"source_id\"=>782884125451275,\"target_id\"=>8112556617650,\"type\"=>\"prereq\")],\"name\"=>\"BW 201\",\"metrics\"=>Dict{String,Any}(\"centrality\"=>0,\"complexity\"=>3.0,\"blocking factor\"=>0,\"delay factor\"=>3.0),\"nameSub\"=>\"Advanced Basketry\",\"id\"=>8112556617650,\"credits\"=>3), Dict(\"curriculum_requisites\"=>Dict{String,Any}[],\"name\"=>\" \",\"metrics\"=>Dict{String,Any}(\"centrality\"=>0,\"complexity\"=>1.0,\"blocking factor\"=>0,\"delay factor\"=>1.0),\"nameSub\"=>\"Humanitites Elective\",\"id\"=>667269796496981,\"credits\"=>3)],\"id\"=>2), Dict(\"name\"=>\"Term 3\",\"curriculum_items\"=>Dict{String,Any}[Dict(\"curriculum_requisites\"=>Dict{String,Any}[Dict(\"source_id\"=>322019785068693,\"target_id\"=>851575965306320,\"type\"=>\"prereq\")],\"name\"=>\"BW 214\",\"metrics\"=>Dict{String,Any}(\"centrality\"=>3,\"complexity\"=>4.0,\"blocking factor\"=>1,\"delay factor\"=>3.0),\"nameSub\"=>\"Basket Materials & Decoration\",\"id\"=>851575965306320,\"credits\"=>3), Dict(\"curriculum_requisites\"=>Dict{String,Any}[Dict(\"source_id\"=>652900327483442,\"target_id\"=>80521071480203,\"type\"=>\"prereq\"), Dict(\"source_id\"=>851575965306320,\"target_id\"=>80521071480203,\"type\"=>\"prereq\")],\"name\"=>\"BW 301\",\"metrics\"=>Dict{String,Any}(\"centrality\"=>0,\"complexity\"=>3.0,\"blocking factor\"=>0,\"delay factor\"=>3.0),\"nameSub\"=>\"Underwater Weaving\",\"id\"=>80521071480203,\"credits\"=>3), Dict(\"curriculum_requisites\"=>Dict{String,Any}[],\"name\"=>\" \",\"metrics\"=>Dict{String,Any}(\"centrality\"=>0,\"complexity\"=>1.0,\"blocking factor\"=>0,\"delay factor\"=>1.0),\"nameSub\"=>\"Social Sciences Elective\",\"id\"=>216766905654306,\"credits\"=>3)],\"id\"=>3), Dict(\"name\"=>\"Term 4\",\"curriculum_items\"=>Dict{String,Any}[Dict(\"curriculum_requisites\"=>Dict{String,Any}[],\"name\"=>\" \",\"metrics\"=>Dict{String,Any}(\"centrality\"=>0,\"complexity\"=>1.0,\"blocking factor\"=>0,\"delay factor\"=>1.0),\"nameSub\"=>\"Technical Elective\",\"id\"=>758958742106256,\"credits\"=>3), Dict(\"curriculum_requisites\"=>Dict{String,Any}[],\"name\"=>\" \",\"metrics\"=>Dict{String,Any}(\"centrality\"=>0,\"complexity\"=>1.0,\"blocking factor\"=>0,\"delay factor\"=>1.0),\"nameSub\"=>\"General Elective\",\"id\"=>88626595752522,\"credits\"=>3)],\"id\"=>4)],\"institution\"=>\"ACME State University\")), nothing)), Set(String[]), nothing, Any[], Dict{Any,Any}(), WebIO.ConnectionPool(Channel{Any}(sz_max:9223372036854775807,sz_curr:0), Set(WebIO.AbstractConnection[]), Channel{WebIO.AbstractConnection}(sz_max:32,sz_curr:0)))"
      ]
     },
     "execution_count": 2,
     "metadata": {
      "application/vnd.webio.node+json": {
       "kernelId": "b3a2a429-e579-47be-b593-c005474f9f25"
      }
     },
     "output_type": "execute_result"
    }
   ],
   "source": [
    "out = read_csv_new(\"examples\\\\UBW_degree_plan.csv\")\n",
    "#visualize(out, notebook=true)\n",
    "visualize(out , edit=true, notebook=true)"
   ]
  },
  {
   "cell_type": "code",
   "execution_count": 3,
   "metadata": {
    "scrolled": false
   },
   "outputs": [
    {
     "name": "stdout",
     "output_type": "stream",
     "text": [
      "Could not create a plan for 0 term, try for one more term\n"
     ]
    },
    {
     "name": "stderr",
     "output_type": "stream",
     "text": [
      "┌ Info: Accept (0):  🔗    0↑     0↓    1s 127.0.0.1:8156:8156 ≣16\n",
      "└ @ HTTP.Servers C:\\Users\\orhan\\.julia\\packages\\HTTP\\YjRCz\\src\\Servers.jl:343\n",
      "┌ Info: Accept (1):  🔗    0↑     0↓    1s 127.0.0.1:8156:8156 ≣16\n",
      "└ @ HTTP.Servers C:\\Users\\orhan\\.julia\\packages\\HTTP\\YjRCz\\src\\Servers.jl:343\n"
     ]
    },
    {
     "name": "stdout",
     "output_type": "stream",
     "text": [
      "Could not create a plan for 1 term, try for one more term\n",
      "Could not create a plan for 2 term, try for one more term\n",
      "Could not create a plan for 3 term, try for one more term\n"
     ]
    },
    {
     "name": "stderr",
     "output_type": "stream",
     "text": [
      "┌ Info: Accept (2):  🔗    0↑     0↓    0s 127.0.0.1:8156:8156 ≣16\n",
      "└ @ HTTP.Servers C:\\Users\\orhan\\.julia\\packages\\HTTP\\YjRCz\\src\\Servers.jl:343\n",
      "┌ Info: Accept (3):  🔗    0↑     0↓    0s 127.0.0.1:8156:8156 ≣16\n",
      "└ @ HTTP.Servers C:\\Users\\orhan\\.julia\\packages\\HTTP\\YjRCz\\src\\Servers.jl:343\n",
      "┌ Info: Accept (4):  🔗    0↑     0↓    0s 127.0.0.1:8156:8156 ≣16\n",
      "└ @ HTTP.Servers C:\\Users\\orhan\\.julia\\packages\\HTTP\\YjRCz\\src\\Servers.jl:343\n"
     ]
    },
    {
     "data": {
      "application/vnd.webio.node+json": {
       "children": [
        {
         "children": [
          ""
         ],
         "instanceArgs": {
          "namespace": "html",
          "tag": "iframe"
         },
         "nodeType": "DOM",
         "props": {
          "events": {
           "load": "(function (){this.contentWindow.postMessage({\"options\":{\"hideTerms\":true,\"edit\":false},\"curriculum\":{\"name\":\"Underwater Basket Weaving\",\"dp_name\":\"\",\"curriculum_terms\":[{\"name\":\"Term 1\",\"curriculum_items\":[{\"curriculum_requisites\":[],\"name\":\"BW 101\",\"metrics\":{\"centrality\":0,\"complexity\":7.0,\"blocking factor\":4,\"delay factor\":3.0},\"nameSub\":\"Introduction to Baskets\",\"id\":574998646526744,\"credits\":3},{\"curriculum_requisites\":[],\"name\":\"PE 115\",\"metrics\":{\"centrality\":0,\"complexity\":3.0,\"blocking factor\":1,\"delay factor\":2.0},\"nameSub\":\"Swimming\",\"id\":33069255038665,\"credits\":3},{\"curriculum_requisites\":[],\"name\":\" \",\"metrics\":{\"centrality\":0,\"complexity\":1.0,\"blocking factor\":0,\"delay factor\":1.0},\"nameSub\":\"Technical Elective\",\"id\":321759893600286,\"credits\":3}],\"id\":1},{\"name\":\"Term 2\",\"curriculum_items\":[{\"curriculum_requisites\":[],\"name\":\"BW 111L\",\"metrics\":{\"centrality\":0,\"complexity\":5.0,\"blocking factor\":2,\"delay factor\":3.0},\"nameSub\":\"Basic Basket Forms Lab\",\"id\":418665970821421,\"credits\":1},{\"curriculum_requisites\":[{\"source_id\":574998646526744,\"target_id\":903739170448942,\"type\":\"prereq\"},{\"source_id\":418665970821421,\"target_id\":903739170448942,\"type\":\"strict-coreq\"}],\"name\":\"BW 111\",\"metrics\":{\"centrality\":6,\"complexity\":4.0,\"blocking factor\":1,\"delay factor\":3.0},\"nameSub\":\"Basic Basket Forms\",\"id\":903739170448942,\"credits\":3},{\"curriculum_requisites\":[{\"source_id\":574998646526744,\"target_id\":48409527215110,\"type\":\"prereq\"}],\"name\":\"BW 214\",\"metrics\":{\"centrality\":3,\"complexity\":4.0,\"blocking factor\":1,\"delay factor\":3.0},\"nameSub\":\"Basket Materials & Decoration\",\"id\":48409527215110,\"credits\":3}],\"id\":2},{\"name\":\"Term 3\",\"curriculum_items\":[{\"curriculum_requisites\":[{\"source_id\":33069255038665,\"target_id\":866409197101580,\"type\":\"prereq\"},{\"source_id\":48409527215110,\"target_id\":866409197101580,\"type\":\"prereq\"}],\"name\":\"BW 301\",\"metrics\":{\"centrality\":0,\"complexity\":3.0,\"blocking factor\":0,\"delay factor\":3.0},\"nameSub\":\"Underwater Weaving\",\"id\":866409197101580,\"credits\":3},{\"curriculum_requisites\":[],\"name\":\"MA 116\",\"metrics\":{\"centrality\":0,\"complexity\":3.0,\"blocking factor\":1,\"delay factor\":2.0},\"nameSub\":\"Introductory Calculus w/ Applications\",\"id\":535325363109147,\"credits\":4},{\"curriculum_requisites\":[],\"name\":\" \",\"metrics\":{\"centrality\":0,\"complexity\":1.0,\"blocking factor\":0,\"delay factor\":1.0},\"nameSub\":\"Humanitites Elective\",\"id\":853364264931170,\"credits\":3}],\"id\":3},{\"name\":\"Term 4\",\"curriculum_items\":[{\"curriculum_requisites\":[{\"source_id\":418665970821421,\"target_id\":202973231626410,\"type\":\"prereq\"},{\"source_id\":903739170448942,\"target_id\":202973231626410,\"type\":\"prereq\"},{\"source_id\":535325363109147,\"target_id\":202973231626410,\"type\":\"prereq\"}],\"name\":\"BW 201\",\"metrics\":{\"centrality\":0,\"complexity\":3.0,\"blocking factor\":0,\"delay factor\":3.0},\"nameSub\":\"Advanced Basketry\",\"id\":202973231626410,\"credits\":3},{\"curriculum_requisites\":[],\"name\":\" \",\"metrics\":{\"centrality\":0,\"complexity\":1.0,\"blocking factor\":0,\"delay factor\":1.0},\"nameSub\":\"Social Sciences Elective\",\"id\":12921843265278,\"credits\":3},{\"curriculum_requisites\":[],\"name\":\" \",\"metrics\":{\"centrality\":0,\"complexity\":1.0,\"blocking factor\":0,\"delay factor\":1.0},\"nameSub\":\"General Elective\",\"id\":685998108473416,\"credits\":3}],\"id\":4}],\"institution\":\"ACME State University\"}},\"*\"); window.removeEventListener(\"message\",window.messageReceived); window.messageReceived=(function (event){return (event.data.curriculum!==undefined) ? (_webIOScope.setObservableValue({\"name\":\"curriculum-data\",\"scope\":\"scope-6b62f440-1a20-42ff-9866-70911e652948\",\"id\":\"ob_02\",\"type\":\"observable\"},event.data.curriculum)) : undefined}); return window.addEventListener(\"message\",window.messageReceived)})"
          },
          "id": "curriculum",
          "src": "http://localhost:8156",
          "style": {
           "border": "none",
           "height": "100vh",
           "margin": "0",
           "padding": "0",
           "width": "100%"
          }
         },
         "type": "node"
        }
       ],
       "instanceArgs": {
        "handlers": {},
        "id": "scope-6b62f440-1a20-42ff-9866-70911e652948",
        "imports": {
         "data": [],
         "type": "async_block"
        },
        "observables": {
         "curriculum-data": {
          "id": "ob_02",
          "sync": true,
          "value": {
           "curriculum": {
            "curriculum_terms": [
             {
              "curriculum_items": [
               {
                "credits": 3,
                "curriculum_requisites": [],
                "id": 574998646526744,
                "metrics": {
                 "blocking factor": 4,
                 "centrality": 0,
                 "complexity": 7,
                 "delay factor": 3
                },
                "name": "BW 101",
                "nameSub": "Introduction to Baskets"
               },
               {
                "credits": 3,
                "curriculum_requisites": [],
                "id": 33069255038665,
                "metrics": {
                 "blocking factor": 1,
                 "centrality": 0,
                 "complexity": 3,
                 "delay factor": 2
                },
                "name": "PE 115",
                "nameSub": "Swimming"
               },
               {
                "credits": 3,
                "curriculum_requisites": [],
                "id": 321759893600286,
                "metrics": {
                 "blocking factor": 0,
                 "centrality": 0,
                 "complexity": 1,
                 "delay factor": 1
                },
                "name": " ",
                "nameSub": "Technical Elective"
               }
              ],
              "id": 1,
              "name": "Term 1"
             },
             {
              "curriculum_items": [
               {
                "credits": 1,
                "curriculum_requisites": [],
                "id": 418665970821421,
                "metrics": {
                 "blocking factor": 2,
                 "centrality": 0,
                 "complexity": 5,
                 "delay factor": 3
                },
                "name": "BW 111L",
                "nameSub": "Basic Basket Forms Lab"
               },
               {
                "credits": 3,
                "curriculum_requisites": [
                 {
                  "source_id": 574998646526744,
                  "target_id": 903739170448942,
                  "type": "prereq"
                 },
                 {
                  "source_id": 418665970821421,
                  "target_id": 903739170448942,
                  "type": "strict-coreq"
                 }
                ],
                "id": 903739170448942,
                "metrics": {
                 "blocking factor": 1,
                 "centrality": 6,
                 "complexity": 4,
                 "delay factor": 3
                },
                "name": "BW 111",
                "nameSub": "Basic Basket Forms"
               },
               {
                "credits": 3,
                "curriculum_requisites": [
                 {
                  "source_id": 574998646526744,
                  "target_id": 48409527215110,
                  "type": "prereq"
                 }
                ],
                "id": 48409527215110,
                "metrics": {
                 "blocking factor": 1,
                 "centrality": 3,
                 "complexity": 4,
                 "delay factor": 3
                },
                "name": "BW 214",
                "nameSub": "Basket Materials & Decoration"
               }
              ],
              "id": 2,
              "name": "Term 2"
             },
             {
              "curriculum_items": [
               {
                "credits": 3,
                "curriculum_requisites": [
                 {
                  "source_id": 33069255038665,
                  "target_id": 866409197101580,
                  "type": "prereq"
                 },
                 {
                  "source_id": 48409527215110,
                  "target_id": 866409197101580,
                  "type": "prereq"
                 }
                ],
                "id": 866409197101580,
                "metrics": {
                 "blocking factor": 0,
                 "centrality": 0,
                 "complexity": 3,
                 "delay factor": 3
                },
                "name": "BW 301",
                "nameSub": "Underwater Weaving"
               },
               {
                "credits": 4,
                "curriculum_requisites": [],
                "id": 535325363109147,
                "metrics": {
                 "blocking factor": 1,
                 "centrality": 0,
                 "complexity": 3,
                 "delay factor": 2
                },
                "name": "MA 116",
                "nameSub": "Introductory Calculus w/ Applications"
               },
               {
                "credits": 3,
                "curriculum_requisites": [],
                "id": 853364264931170,
                "metrics": {
                 "blocking factor": 0,
                 "centrality": 0,
                 "complexity": 1,
                 "delay factor": 1
                },
                "name": " ",
                "nameSub": "Humanitites Elective"
               }
              ],
              "id": 3,
              "name": "Term 3"
             },
             {
              "curriculum_items": [
               {
                "credits": 3,
                "curriculum_requisites": [
                 {
                  "source_id": 418665970821421,
                  "target_id": 202973231626410,
                  "type": "prereq"
                 },
                 {
                  "source_id": 903739170448942,
                  "target_id": 202973231626410,
                  "type": "prereq"
                 },
                 {
                  "source_id": 535325363109147,
                  "target_id": 202973231626410,
                  "type": "prereq"
                 }
                ],
                "id": 202973231626410,
                "metrics": {
                 "blocking factor": 0,
                 "centrality": 0,
                 "complexity": 3,
                 "delay factor": 3
                },
                "name": "BW 201",
                "nameSub": "Advanced Basketry"
               },
               {
                "credits": 3,
                "curriculum_requisites": [],
                "id": 12921843265278,
                "metrics": {
                 "blocking factor": 0,
                 "centrality": 0,
                 "complexity": 1,
                 "delay factor": 1
                },
                "name": " ",
                "nameSub": "Social Sciences Elective"
               },
               {
                "credits": 3,
                "curriculum_requisites": [],
                "id": 685998108473416,
                "metrics": {
                 "blocking factor": 0,
                 "centrality": 0,
                 "complexity": 1,
                 "delay factor": 1
                },
                "name": " ",
                "nameSub": "General Elective"
               }
              ],
              "id": 4,
              "name": "Term 4"
             }
            ],
            "dp_name": "",
            "institution": "ACME State University",
            "name": "Underwater Basket Weaving"
           },
           "options": {
            "edit": false,
            "hideTerms": true
           }
          }
         }
        },
        "systemjs_options": null
       },
       "nodeType": "Scope",
       "props": {},
       "type": "node"
      },
      "text/html": [
       "<div\n",
       "    class=\"webio-mountpoint\"\n",
       "    data-webio-mountpoint=\"16191131228765284725\"\n",
       ">\n",
       "    <script>\n",
       "    if (window.require && require.defined && require.defined(\"nbextensions/webio/main\")) {\n",
       "        console.log(\"Jupyter WebIO extension detected, not mounting.\");\n",
       "    } else if (window.WebIO) {\n",
       "        WebIO.mount(\n",
       "            document.querySelector('[data-webio-mountpoint=\"16191131228765284725\"]'),\n",
       "            {\"props\":{},\"nodeType\":\"Scope\",\"type\":\"node\",\"instanceArgs\":{\"imports\":{\"data\":[],\"type\":\"async_block\"},\"id\":\"scope-6b62f440-1a20-42ff-9866-70911e652948\",\"handlers\":{},\"systemjs_options\":null,\"observables\":{\"curriculum-data\":{\"sync\":true,\"id\":\"ob_02\",\"value\":{\"options\":{\"hideTerms\":true,\"edit\":false},\"curriculum\":{\"name\":\"Underwater Basket Weaving\",\"dp_name\":\"\",\"curriculum_terms\":[{\"name\":\"Term 1\",\"curriculum_items\":[{\"curriculum_requisites\":[],\"name\":\"BW 101\",\"metrics\":{\"centrality\":0,\"complexity\":7.0,\"blocking factor\":4,\"delay factor\":3.0},\"nameSub\":\"Introduction to Baskets\",\"id\":574998646526744,\"credits\":3},{\"curriculum_requisites\":[],\"name\":\"PE 115\",\"metrics\":{\"centrality\":0,\"complexity\":3.0,\"blocking factor\":1,\"delay factor\":2.0},\"nameSub\":\"Swimming\",\"id\":33069255038665,\"credits\":3},{\"curriculum_requisites\":[],\"name\":\" \",\"metrics\":{\"centrality\":0,\"complexity\":1.0,\"blocking factor\":0,\"delay factor\":1.0},\"nameSub\":\"Technical Elective\",\"id\":321759893600286,\"credits\":3}],\"id\":1},{\"name\":\"Term 2\",\"curriculum_items\":[{\"curriculum_requisites\":[],\"name\":\"BW 111L\",\"metrics\":{\"centrality\":0,\"complexity\":5.0,\"blocking factor\":2,\"delay factor\":3.0},\"nameSub\":\"Basic Basket Forms Lab\",\"id\":418665970821421,\"credits\":1},{\"curriculum_requisites\":[{\"source_id\":574998646526744,\"target_id\":903739170448942,\"type\":\"prereq\"},{\"source_id\":418665970821421,\"target_id\":903739170448942,\"type\":\"strict-coreq\"}],\"name\":\"BW 111\",\"metrics\":{\"centrality\":6,\"complexity\":4.0,\"blocking factor\":1,\"delay factor\":3.0},\"nameSub\":\"Basic Basket Forms\",\"id\":903739170448942,\"credits\":3},{\"curriculum_requisites\":[{\"source_id\":574998646526744,\"target_id\":48409527215110,\"type\":\"prereq\"}],\"name\":\"BW 214\",\"metrics\":{\"centrality\":3,\"complexity\":4.0,\"blocking factor\":1,\"delay factor\":3.0},\"nameSub\":\"Basket Materials & Decoration\",\"id\":48409527215110,\"credits\":3}],\"id\":2},{\"name\":\"Term 3\",\"curriculum_items\":[{\"curriculum_requisites\":[{\"source_id\":33069255038665,\"target_id\":866409197101580,\"type\":\"prereq\"},{\"source_id\":48409527215110,\"target_id\":866409197101580,\"type\":\"prereq\"}],\"name\":\"BW 301\",\"metrics\":{\"centrality\":0,\"complexity\":3.0,\"blocking factor\":0,\"delay factor\":3.0},\"nameSub\":\"Underwater Weaving\",\"id\":866409197101580,\"credits\":3},{\"curriculum_requisites\":[],\"name\":\"MA 116\",\"metrics\":{\"centrality\":0,\"complexity\":3.0,\"blocking factor\":1,\"delay factor\":2.0},\"nameSub\":\"Introductory Calculus w\\/ Applications\",\"id\":535325363109147,\"credits\":4},{\"curriculum_requisites\":[],\"name\":\" \",\"metrics\":{\"centrality\":0,\"complexity\":1.0,\"blocking factor\":0,\"delay factor\":1.0},\"nameSub\":\"Humanitites Elective\",\"id\":853364264931170,\"credits\":3}],\"id\":3},{\"name\":\"Term 4\",\"curriculum_items\":[{\"curriculum_requisites\":[{\"source_id\":418665970821421,\"target_id\":202973231626410,\"type\":\"prereq\"},{\"source_id\":903739170448942,\"target_id\":202973231626410,\"type\":\"prereq\"},{\"source_id\":535325363109147,\"target_id\":202973231626410,\"type\":\"prereq\"}],\"name\":\"BW 201\",\"metrics\":{\"centrality\":0,\"complexity\":3.0,\"blocking factor\":0,\"delay factor\":3.0},\"nameSub\":\"Advanced Basketry\",\"id\":202973231626410,\"credits\":3},{\"curriculum_requisites\":[],\"name\":\" \",\"metrics\":{\"centrality\":0,\"complexity\":1.0,\"blocking factor\":0,\"delay factor\":1.0},\"nameSub\":\"Social Sciences Elective\",\"id\":12921843265278,\"credits\":3},{\"curriculum_requisites\":[],\"name\":\" \",\"metrics\":{\"centrality\":0,\"complexity\":1.0,\"blocking factor\":0,\"delay factor\":1.0},\"nameSub\":\"General Elective\",\"id\":685998108473416,\"credits\":3}],\"id\":4}],\"institution\":\"ACME State University\"}}}}},\"children\":[{\"props\":{\"src\":\"http:\\/\\/localhost:8156\",\"id\":\"curriculum\",\"events\":{\"load\":\"(function (){this.contentWindow.postMessage({\\\"options\\\":{\\\"hideTerms\\\":true,\\\"edit\\\":false},\\\"curriculum\\\":{\\\"name\\\":\\\"Underwater Basket Weaving\\\",\\\"dp_name\\\":\\\"\\\",\\\"curriculum_terms\\\":[{\\\"name\\\":\\\"Term 1\\\",\\\"curriculum_items\\\":[{\\\"curriculum_requisites\\\":[],\\\"name\\\":\\\"BW 101\\\",\\\"metrics\\\":{\\\"centrality\\\":0,\\\"complexity\\\":7.0,\\\"blocking factor\\\":4,\\\"delay factor\\\":3.0},\\\"nameSub\\\":\\\"Introduction to Baskets\\\",\\\"id\\\":574998646526744,\\\"credits\\\":3},{\\\"curriculum_requisites\\\":[],\\\"name\\\":\\\"PE 115\\\",\\\"metrics\\\":{\\\"centrality\\\":0,\\\"complexity\\\":3.0,\\\"blocking factor\\\":1,\\\"delay factor\\\":2.0},\\\"nameSub\\\":\\\"Swimming\\\",\\\"id\\\":33069255038665,\\\"credits\\\":3},{\\\"curriculum_requisites\\\":[],\\\"name\\\":\\\" \\\",\\\"metrics\\\":{\\\"centrality\\\":0,\\\"complexity\\\":1.0,\\\"blocking factor\\\":0,\\\"delay factor\\\":1.0},\\\"nameSub\\\":\\\"Technical Elective\\\",\\\"id\\\":321759893600286,\\\"credits\\\":3}],\\\"id\\\":1},{\\\"name\\\":\\\"Term 2\\\",\\\"curriculum_items\\\":[{\\\"curriculum_requisites\\\":[],\\\"name\\\":\\\"BW 111L\\\",\\\"metrics\\\":{\\\"centrality\\\":0,\\\"complexity\\\":5.0,\\\"blocking factor\\\":2,\\\"delay factor\\\":3.0},\\\"nameSub\\\":\\\"Basic Basket Forms Lab\\\",\\\"id\\\":418665970821421,\\\"credits\\\":1},{\\\"curriculum_requisites\\\":[{\\\"source_id\\\":574998646526744,\\\"target_id\\\":903739170448942,\\\"type\\\":\\\"prereq\\\"},{\\\"source_id\\\":418665970821421,\\\"target_id\\\":903739170448942,\\\"type\\\":\\\"strict-coreq\\\"}],\\\"name\\\":\\\"BW 111\\\",\\\"metrics\\\":{\\\"centrality\\\":6,\\\"complexity\\\":4.0,\\\"blocking factor\\\":1,\\\"delay factor\\\":3.0},\\\"nameSub\\\":\\\"Basic Basket Forms\\\",\\\"id\\\":903739170448942,\\\"credits\\\":3},{\\\"curriculum_requisites\\\":[{\\\"source_id\\\":574998646526744,\\\"target_id\\\":48409527215110,\\\"type\\\":\\\"prereq\\\"}],\\\"name\\\":\\\"BW 214\\\",\\\"metrics\\\":{\\\"centrality\\\":3,\\\"complexity\\\":4.0,\\\"blocking factor\\\":1,\\\"delay factor\\\":3.0},\\\"nameSub\\\":\\\"Basket Materials & Decoration\\\",\\\"id\\\":48409527215110,\\\"credits\\\":3}],\\\"id\\\":2},{\\\"name\\\":\\\"Term 3\\\",\\\"curriculum_items\\\":[{\\\"curriculum_requisites\\\":[{\\\"source_id\\\":33069255038665,\\\"target_id\\\":866409197101580,\\\"type\\\":\\\"prereq\\\"},{\\\"source_id\\\":48409527215110,\\\"target_id\\\":866409197101580,\\\"type\\\":\\\"prereq\\\"}],\\\"name\\\":\\\"BW 301\\\",\\\"metrics\\\":{\\\"centrality\\\":0,\\\"complexity\\\":3.0,\\\"blocking factor\\\":0,\\\"delay factor\\\":3.0},\\\"nameSub\\\":\\\"Underwater Weaving\\\",\\\"id\\\":866409197101580,\\\"credits\\\":3},{\\\"curriculum_requisites\\\":[],\\\"name\\\":\\\"MA 116\\\",\\\"metrics\\\":{\\\"centrality\\\":0,\\\"complexity\\\":3.0,\\\"blocking factor\\\":1,\\\"delay factor\\\":2.0},\\\"nameSub\\\":\\\"Introductory Calculus w\\/ Applications\\\",\\\"id\\\":535325363109147,\\\"credits\\\":4},{\\\"curriculum_requisites\\\":[],\\\"name\\\":\\\" \\\",\\\"metrics\\\":{\\\"centrality\\\":0,\\\"complexity\\\":1.0,\\\"blocking factor\\\":0,\\\"delay factor\\\":1.0},\\\"nameSub\\\":\\\"Humanitites Elective\\\",\\\"id\\\":853364264931170,\\\"credits\\\":3}],\\\"id\\\":3},{\\\"name\\\":\\\"Term 4\\\",\\\"curriculum_items\\\":[{\\\"curriculum_requisites\\\":[{\\\"source_id\\\":418665970821421,\\\"target_id\\\":202973231626410,\\\"type\\\":\\\"prereq\\\"},{\\\"source_id\\\":903739170448942,\\\"target_id\\\":202973231626410,\\\"type\\\":\\\"prereq\\\"},{\\\"source_id\\\":535325363109147,\\\"target_id\\\":202973231626410,\\\"type\\\":\\\"prereq\\\"}],\\\"name\\\":\\\"BW 201\\\",\\\"metrics\\\":{\\\"centrality\\\":0,\\\"complexity\\\":3.0,\\\"blocking factor\\\":0,\\\"delay factor\\\":3.0},\\\"nameSub\\\":\\\"Advanced Basketry\\\",\\\"id\\\":202973231626410,\\\"credits\\\":3},{\\\"curriculum_requisites\\\":[],\\\"name\\\":\\\" \\\",\\\"metrics\\\":{\\\"centrality\\\":0,\\\"complexity\\\":1.0,\\\"blocking factor\\\":0,\\\"delay factor\\\":1.0},\\\"nameSub\\\":\\\"Social Sciences Elective\\\",\\\"id\\\":12921843265278,\\\"credits\\\":3},{\\\"curriculum_requisites\\\":[],\\\"name\\\":\\\" \\\",\\\"metrics\\\":{\\\"centrality\\\":0,\\\"complexity\\\":1.0,\\\"blocking factor\\\":0,\\\"delay factor\\\":1.0},\\\"nameSub\\\":\\\"General Elective\\\",\\\"id\\\":685998108473416,\\\"credits\\\":3}],\\\"id\\\":4}],\\\"institution\\\":\\\"ACME State University\\\"}},\\\"*\\\"); window.removeEventListener(\\\"message\\\",window.messageReceived); window.messageReceived=(function (event){return (event.data.curriculum!==undefined) ? (_webIOScope.setObservableValue({\\\"name\\\":\\\"curriculum-data\\\",\\\"scope\\\":\\\"scope-6b62f440-1a20-42ff-9866-70911e652948\\\",\\\"id\\\":\\\"ob_02\\\",\\\"type\\\":\\\"observable\\\"},event.data.curriculum)) : undefined}); return window.addEventListener(\\\"message\\\",window.messageReceived)})\"},\"style\":{\"padding\":\"0\",\"height\":\"100vh\",\"margin\":\"0\",\"border\":\"none\",\"width\":\"100%\"}},\"nodeType\":\"DOM\",\"type\":\"node\",\"instanceArgs\":{\"namespace\":\"html\",\"tag\":\"iframe\"},\"children\":[\"\"]}]},\n",
       "        );\n",
       "    } else {\n",
       "        document\n",
       "            .querySelector('[data-webio-mountpoint=\"16191131228765284725\"]')\n",
       "            .innerHTML = '<strong>WebIO not detected.</strong>';\n",
       "    }\n",
       "    </script>\n",
       "</div>\n"
      ],
      "text/plain": [
       "WebIO.Scope(\"scope-6b62f440-1a20-42ff-9866-70911e652948\", WebIO.Node{WebIO.DOM}(WebIO.DOM(:html, :iframe), Any[\"\"], Dict{Symbol,Any}(:src=>\"http://localhost:8156\",:id=>\"curriculum\",:events=>Dict(:load=>JSString(\"(function (){this.contentWindow.postMessage({\\\"options\\\":{\\\"hideTerms\\\":true,\\\"edit\\\":false},\\\"curriculum\\\":{\\\"name\\\":\\\"Underwater Basket Weaving\\\",\\\"dp_name\\\":\\\"\\\",\\\"curriculum_terms\\\":[{\\\"name\\\":\\\"Term 1\\\",\\\"curriculum_items\\\":[{\\\"curriculum_requisites\\\":[],\\\"name\\\":\\\"BW 101\\\",\\\"metrics\\\":{\\\"centrality\\\":0,\\\"complexity\\\":7.0,\\\"blocking factor\\\":4,\\\"delay factor\\\":3.0},\\\"nameSub\\\":\\\"Introduction to Baskets\\\",\\\"id\\\":574998646526744,\\\"credits\\\":3},{\\\"curriculum_requisites\\\":[],\\\"name\\\":\\\"PE 115\\\",\\\"metrics\\\":{\\\"centrality\\\":0,\\\"complexity\\\":3.0,\\\"blocking factor\\\":1,\\\"delay factor\\\":2.0},\\\"nameSub\\\":\\\"Swimming\\\",\\\"id\\\":33069255038665,\\\"credits\\\":3},{\\\"curriculum_requisites\\\":[],\\\"name\\\":\\\" \\\",\\\"metrics\\\":{\\\"centrality\\\":0,\\\"complexity\\\":1.0,\\\"blocking factor\\\":0,\\\"delay factor\\\":1.0},\\\"nameSub\\\":\\\"Technical Elective\\\",\\\"id\\\":321759893600286,\\\"credits\\\":3}],\\\"id\\\":1},{\\\"name\\\":\\\"Term 2\\\",\\\"curriculum_items\\\":[{\\\"curriculum_requisites\\\":[],\\\"name\\\":\\\"BW 111L\\\",\\\"metrics\\\":{\\\"centrality\\\":0,\\\"complexity\\\":5.0,\\\"blocking factor\\\":2,\\\"delay factor\\\":3.0},\\\"nameSub\\\":\\\"Basic Basket Forms Lab\\\",\\\"id\\\":418665970821421,\\\"credits\\\":1},{\\\"curriculum_requisites\\\":[{\\\"source_id\\\":574998646526744,\\\"target_id\\\":903739170448942,\\\"type\\\":\\\"prereq\\\"},{\\\"source_id\\\":418665970821421,\\\"target_id\\\":903739170448942,\\\"type\\\":\\\"strict-coreq\\\"}],\\\"name\\\":\\\"BW 111\\\",\\\"metrics\\\":{\\\"centrality\\\":6,\\\"complexity\\\":4.0,\\\"blocking factor\\\":1,\\\"delay factor\\\":3.0},\\\"nameSub\\\":\\\"Basic Basket Forms\\\",\\\"id\\\":903739170448942,\\\"credits\\\":3},{\\\"curriculum_requisites\\\":[{\\\"source_id\\\":574998646526744,\\\"target_id\\\":48409527215110,\\\"type\\\":\\\"prereq\\\"}],\\\"name\\\":\\\"BW 214\\\",\\\"metrics\\\":{\\\"centrality\\\":3,\\\"complexity\\\":4.0,\\\"blocking factor\\\":1,\\\"delay factor\\\":3.0},\\\"nameSub\\\":\\\"Basket Materials & Decoration\\\",\\\"id\\\":48409527215110,\\\"credits\\\":3}],\\\"id\\\":2},{\\\"name\\\":\\\"Term 3\\\",\\\"curriculum_items\\\":[{\\\"curriculum_requisites\\\":[{\\\"source_id\\\":33069255038665,\\\"target_id\\\":866409197101580,\\\"type\\\":\\\"prereq\\\"},{\\\"source_id\\\":48409527215110,\\\"target_id\\\":866409197101580,\\\"type\\\":\\\"prereq\\\"}],\\\"name\\\":\\\"BW 301\\\",\\\"metrics\\\":{\\\"centrality\\\":0,\\\"complexity\\\":3.0,\\\"blocking factor\\\":0,\\\"delay factor\\\":3.0},\\\"nameSub\\\":\\\"Underwater Weaving\\\",\\\"id\\\":866409197101580,\\\"credits\\\":3},{\\\"curriculum_requisites\\\":[],\\\"name\\\":\\\"MA 116\\\",\\\"metrics\\\":{\\\"centrality\\\":0,\\\"complexity\\\":3.0,\\\"blocking factor\\\":1,\\\"delay factor\\\":2.0},\\\"nameSub\\\":\\\"Introductory Calculus w/ Applications\\\",\\\"id\\\":535325363109147,\\\"credits\\\":4},{\\\"curriculum_requisites\\\":[],\\\"name\\\":\\\" \\\",\\\"metrics\\\":{\\\"centrality\\\":0,\\\"complexity\\\":1.0,\\\"blocking factor\\\":0,\\\"delay factor\\\":1.0},\\\"nameSub\\\":\\\"Humanitites Elective\\\",\\\"id\\\":853364264931170,\\\"credits\\\":3}],\\\"id\\\":3},{\\\"name\\\":\\\"Term 4\\\",\\\"curriculum_items\\\":[{\\\"curriculum_requisites\\\":[{\\\"source_id\\\":418665970821421,\\\"target_id\\\":202973231626410,\\\"type\\\":\\\"prereq\\\"},{\\\"source_id\\\":903739170448942,\\\"target_id\\\":202973231626410,\\\"type\\\":\\\"prereq\\\"},{\\\"source_id\\\":535325363109147,\\\"target_id\\\":202973231626410,\\\"type\\\":\\\"prereq\\\"}],\\\"name\\\":\\\"BW 201\\\",\\\"metrics\\\":{\\\"centrality\\\":0,\\\"complexity\\\":3.0,\\\"blocking factor\\\":0,\\\"delay factor\\\":3.0},\\\"nameSub\\\":\\\"Advanced Basketry\\\",\\\"id\\\":202973231626410,\\\"credits\\\":3},{\\\"curriculum_requisites\\\":[],\\\"name\\\":\\\" \\\",\\\"metrics\\\":{\\\"centrality\\\":0,\\\"complexity\\\":1.0,\\\"blocking factor\\\":0,\\\"delay factor\\\":1.0},\\\"nameSub\\\":\\\"Social Sciences Elective\\\",\\\"id\\\":12921843265278,\\\"credits\\\":3},{\\\"curriculum_requisites\\\":[],\\\"name\\\":\\\" \\\",\\\"metrics\\\":{\\\"centrality\\\":0,\\\"complexity\\\":1.0,\\\"blocking factor\\\":0,\\\"delay factor\\\":1.0},\\\"nameSub\\\":\\\"General Elective\\\",\\\"id\\\":685998108473416,\\\"credits\\\":3}],\\\"id\\\":4}],\\\"institution\\\":\\\"ACME State University\\\"}},\\\"*\\\"); window.removeEventListener(\\\"message\\\",window.messageReceived); window.messageReceived=(function (event){return (event.data.curriculum!==undefined) ? (_webIOScope.setObservableValue({\\\"name\\\":\\\"curriculum-data\\\",\\\"scope\\\":\\\"scope-6b62f440-1a20-42ff-9866-70911e652948\\\",\\\"id\\\":\\\"ob_02\\\",\\\"type\\\":\\\"observable\\\"},event.data.curriculum)) : undefined}); return window.addEventListener(\\\"message\\\",window.messageReceived)})\")),:style=>Dict(:padding=>\"0\",:height=>\"100vh\",:margin=>\"0\",:border=>\"none\",:width=>\"100%\")), 1), Dict{String,Tuple{Observables.AbstractObservable,Union{Nothing, Bool}}}(\"curriculum-data\"=>(Observable{Dict{String,Any}} with 1 listeners. Value:\n",
       "Dict{String,Any}(\"options\"=>Dict{String,Any}(\"hideTerms\"=>true,\"edit\"=>false),\"curriculum\"=>Dict{String,Any}(\"name\"=>\"Underwater Basket Weaving\",\"dp_name\"=>\"\",\"curriculum_terms\"=>Dict{String,Any}[Dict(\"name\"=>\"Term 1\",\"curriculum_items\"=>Dict{String,Any}[Dict(\"curriculum_requisites\"=>Dict{String,Any}[],\"name\"=>\"BW 101\",\"metrics\"=>Dict{String,Any}(\"centrality\"=>0,\"complexity\"=>7.0,\"blocking factor\"=>4,\"delay factor\"=>3.0),\"nameSub\"=>\"Introduction to Baskets\",\"id\"=>574998646526744,\"credits\"=>3), Dict(\"curriculum_requisites\"=>Dict{String,Any}[],\"name\"=>\"PE 115\",\"metrics\"=>Dict{String,Any}(\"centrality\"=>0,\"complexity\"=>3.0,\"blocking factor\"=>1,\"delay factor\"=>2.0),\"nameSub\"=>\"Swimming\",\"id\"=>33069255038665,\"credits\"=>3), Dict(\"curriculum_requisites\"=>Dict{String,Any}[],\"name\"=>\" \",\"metrics\"=>Dict{String,Any}(\"centrality\"=>0,\"complexity\"=>1.0,\"blocking factor\"=>0,\"delay factor\"=>1.0),\"nameSub\"=>\"Technical Elective\",\"id\"=>321759893600286,\"credits\"=>3)],\"id\"=>1), Dict(\"name\"=>\"Term 2\",\"curriculum_items\"=>Dict{String,Any}[Dict(\"curriculum_requisites\"=>Dict{String,Any}[],\"name\"=>\"BW 111L\",\"metrics\"=>Dict{String,Any}(\"centrality\"=>0,\"complexity\"=>5.0,\"blocking factor\"=>2,\"delay factor\"=>3.0),\"nameSub\"=>\"Basic Basket Forms Lab\",\"id\"=>418665970821421,\"credits\"=>1), Dict(\"curriculum_requisites\"=>Dict{String,Any}[Dict(\"source_id\"=>574998646526744,\"target_id\"=>903739170448942,\"type\"=>\"prereq\"), Dict(\"source_id\"=>418665970821421,\"target_id\"=>903739170448942,\"type\"=>\"strict-coreq\")],\"name\"=>\"BW 111\",\"metrics\"=>Dict{String,Any}(\"centrality\"=>6,\"complexity\"=>4.0,\"blocking factor\"=>1,\"delay factor\"=>3.0),\"nameSub\"=>\"Basic Basket Forms\",\"id\"=>903739170448942,\"credits\"=>3), Dict(\"curriculum_requisites\"=>Dict{String,Any}[Dict(\"source_id\"=>574998646526744,\"target_id\"=>48409527215110,\"type\"=>\"prereq\")],\"name\"=>\"BW 214\",\"metrics\"=>Dict{String,Any}(\"centrality\"=>3,\"complexity\"=>4.0,\"blocking factor\"=>1,\"delay factor\"=>3.0),\"nameSub\"=>\"Basket Materials & Decoration\",\"id\"=>48409527215110,\"credits\"=>3)],\"id\"=>2), Dict(\"name\"=>\"Term 3\",\"curriculum_items\"=>Dict{String,Any}[Dict(\"curriculum_requisites\"=>Dict{String,Any}[Dict(\"source_id\"=>33069255038665,\"target_id\"=>866409197101580,\"type\"=>\"prereq\"), Dict(\"source_id\"=>48409527215110,\"target_id\"=>866409197101580,\"type\"=>\"prereq\")],\"name\"=>\"BW 301\",\"metrics\"=>Dict{String,Any}(\"centrality\"=>0,\"complexity\"=>3.0,\"blocking factor\"=>0,\"delay factor\"=>3.0),\"nameSub\"=>\"Underwater Weaving\",\"id\"=>866409197101580,\"credits\"=>3), Dict(\"curriculum_requisites\"=>Dict{String,Any}[],\"name\"=>\"MA 116\",\"metrics\"=>Dict{String,Any}(\"centrality\"=>0,\"complexity\"=>3.0,\"blocking factor\"=>1,\"delay factor\"=>2.0),\"nameSub\"=>\"Introductory Calculus w/ Applications\",\"id\"=>535325363109147,\"credits\"=>4), Dict(\"curriculum_requisites\"=>Dict{String,Any}[],\"name\"=>\" \",\"metrics\"=>Dict{String,Any}(\"centrality\"=>0,\"complexity\"=>1.0,\"blocking factor\"=>0,\"delay factor\"=>1.0),\"nameSub\"=>\"Humanitites Elective\",\"id\"=>853364264931170,\"credits\"=>3)],\"id\"=>3), Dict(\"name\"=>\"Term 4\",\"curriculum_items\"=>Dict{String,Any}[Dict(\"curriculum_requisites\"=>Dict{String,Any}[Dict(\"source_id\"=>418665970821421,\"target_id\"=>202973231626410,\"type\"=>\"prereq\"), Dict(\"source_id\"=>903739170448942,\"target_id\"=>202973231626410,\"type\"=>\"prereq\"), Dict(\"source_id\"=>535325363109147,\"target_id\"=>202973231626410,\"type\"=>\"prereq\")],\"name\"=>\"BW 201\",\"metrics\"=>Dict{String,Any}(\"centrality\"=>0,\"complexity\"=>3.0,\"blocking factor\"=>0,\"delay factor\"=>3.0),\"nameSub\"=>\"Advanced Basketry\",\"id\"=>202973231626410,\"credits\"=>3), Dict(\"curriculum_requisites\"=>Dict{String,Any}[],\"name\"=>\" \",\"metrics\"=>Dict{String,Any}(\"centrality\"=>0,\"complexity\"=>1.0,\"blocking factor\"=>0,\"delay factor\"=>1.0),\"nameSub\"=>\"Social Sciences Elective\",\"id\"=>12921843265278,\"credits\"=>3), Dict(\"curriculum_requisites\"=>Dict{String,Any}[],\"name\"=>\" \",\"metrics\"=>Dict{String,Any}(\"centrality\"=>0,\"complexity\"=>1.0,\"blocking factor\"=>0,\"delay factor\"=>1.0),\"nameSub\"=>\"General Elective\",\"id\"=>685998108473416,\"credits\"=>3)],\"id\"=>4)],\"institution\"=>\"ACME State University\")), nothing)), Set(String[]), nothing, Any[], Dict{Any,Any}(), WebIO.ConnectionPool(Channel{Any}(sz_max:9223372036854775807,sz_curr:0), Set(WebIO.AbstractConnection[]), Channel{WebIO.AbstractConnection}(sz_max:32,sz_curr:0)))"
      ]
     },
     "execution_count": 3,
     "metadata": {
      "application/vnd.webio.node+json": {
       "kernelId": "b3a2a429-e579-47be-b593-c005474f9f25"
      }
     },
     "output_type": "execute_result"
    }
   ],
   "source": [
    "out = read_csv_new(\"examples\\\\UBW_curric.csv\")\n",
    "visualize(out, notebook=true)"
   ]
  },
  {
   "cell_type": "code",
   "execution_count": 5,
   "metadata": {
    "scrolled": false
   },
   "outputs": [
    {
     "data": {
      "text/plain": [
       "Blink.AtomShell.Window(2, Blink.AtomShell.Electron(Process(`\u001b[4m'C:\\Users\\orhan\\.julia\\packages\\Blink\\vKGzM\\deps\\atom\\electron.exe'\u001b[24m \u001b[4m'C:\\Users\\orhan\\.julia\\packages\\Blink\\vKGzM\\src\\AtomShell\\main.js'\u001b[24m \u001b[4mport\u001b[24m \u001b[4m2833\u001b[24m`, ProcessRunning), Sockets.TCPSocket(Base.Libc.WindowsRawSocket(0x0000000000000548) active, 0 bytes waiting), Dict{String,Any}(\"callback\"=>##1#2())), Blink.Page(2, WebSockets.WebSocket{Sockets.TCPSocket}(Sockets.TCPSocket(Base.Libc.WindowsRawSocket(0x000000000000062c) active, 0 bytes waiting), true, CONNECTED::ReadyState = 1), Dict{String,Any}(\"webio\"=>##95#96{BlinkConnection}(BlinkConnection(Page(#= circular reference @-4 =#))),\"callback\"=>##1#2()), Distributed.Future(1, 1, 2, Some(true))))"
      ]
     },
     "execution_count": 5,
     "metadata": {},
     "output_type": "execute_result"
    },
    {
     "name": "stderr",
     "output_type": "stream",
     "text": [
      "┌ Info: Closed (7):  💀    3↑     3↓🔒  21s 127.0.0.1:8156:8156 ≣16\n",
      "└ @ HTTP.Servers C:\\Users\\orhan\\.julia\\packages\\HTTP\\YjRCz\\src\\Servers.jl:351\n",
      "┌ Info: Closed (6):  💀    3↑     3↓🔒  21s 127.0.0.1:8156:8156 ≣16\n",
      "└ @ HTTP.Servers C:\\Users\\orhan\\.julia\\packages\\HTTP\\YjRCz\\src\\Servers.jl:351\n",
      "┌ Info: Closed (5):  💀    2↑     2↓🔒  21s 127.0.0.1:8156:8156 ≣16\n",
      "└ @ HTTP.Servers C:\\Users\\orhan\\.julia\\packages\\HTTP\\YjRCz\\src\\Servers.jl:351\n",
      "┌ Info: Closed (8):  💀    2↑     2↓🔒  21s 127.0.0.1:8156:8156 ≣16\n",
      "└ @ HTTP.Servers C:\\Users\\orhan\\.julia\\packages\\HTTP\\YjRCz\\src\\Servers.jl:351\n"
     ]
    }
   ],
   "source": [
    "out = read_csv_new(\"default_csv.csv\")\n",
    "#write_csv(out)\n",
    "visualize(out, changed=update_plan , edit=true)"
   ]
  },
  {
   "cell_type": "code",
   "execution_count": null,
   "metadata": {
    "collapsed": true
   },
   "outputs": [],
   "source": []
  }
 ],
 "metadata": {
  "@webio": {
   "lastCommId": "175242E8F1994BC5825EEA79F7AE9E1D",
   "lastKernelId": "b3a2a429-e579-47be-b593-c005474f9f25"
  },
  "kernelspec": {
   "display_name": "Julia 1.0.1",
   "language": "julia",
   "name": "julia-1.0"
  },
  "language_info": {
   "file_extension": ".jl",
   "mimetype": "application/julia",
   "name": "julia",
   "version": "1.0.1"
  }
 },
 "nbformat": 4,
 "nbformat_minor": 2
}

{
 "cells": [
  {
   "cell_type": "code",
   "execution_count": 5,
   "metadata": {},
   "outputs": [
    {
     "name": "stdout",
     "output_type": "stream",
     "text": [
      "Current directory: CurricularAnalytics.jl\n"
     ]
    }
   ],
   "source": [
    "if split(pwd(),Base.Filesystem.path_separator)[end] != \"CurricularAnalytics.jl\"\n",
    "    cd(\"../..\")\n",
    "end\n",
    "println(\"Current directory: \" * split(pwd(),\"\\\\\")[end])\n",
    "using Pkg\n",
    "pkg\"activate .\"\n",
    "using CurricularAnalytics"
   ]
  },
  {
   "cell_type": "code",
   "execution_count": 6,
   "metadata": {
    "scrolled": false
   },
   "outputs": [
    {
     "name": "stdout",
     "output_type": "stream",
     "text": [
      "Could not create a plan for 0 term, try for one more term\n",
      "Could not create a plan for 1 term, try for one more term\n",
      "Could not create a plan for 2 term, try for one more term\n",
      "Could not create a plan for 3 term, try for one more term\n"
     ]
    },
    {
     "name": "stderr",
     "output_type": "stream",
     "text": [
      "┌ Info: Accept (4):  🔗    0↑     0↓    0s 127.0.0.1:8156:8156 ≣16\n",
      "└ @ HTTP.Servers C:\\Users\\orhan\\.julia\\packages\\HTTP\\YjRCz\\src\\Servers.jl:343\n"
     ]
    },
    {
     "data": {
      "application/vnd.webio.node+json": {
       "children": [
        {
         "children": [
          ""
         ],
         "instanceArgs": {
          "namespace": "html",
          "tag": "iframe"
         },
         "nodeType": "DOM",
         "props": {
          "events": {
           "load": "(function (){this.contentWindow.postMessage({\"options\":{\"hideTerms\":true,\"edit\":true},\"curriculum\":{\"name\":\"Underwater Basket Weaving\",\"dp_name\":\"\",\"curriculum_terms\":[{\"name\":\"Term 1\",\"curriculum_items\":[{\"curriculum_requisites\":[],\"name\":\"BW 101\",\"metrics\":{},\"canonical_name\":\"\",\"nameSub\":\"Introduction to Baskets\",\"id\":1,\"credits\":3},{\"curriculum_requisites\":[],\"name\":\"PE 115\",\"metrics\":{},\"canonical_name\":\"\",\"nameSub\":\"Swimming\",\"id\":2,\"credits\":3}],\"id\":1},{\"name\":\"Term 2\",\"curriculum_items\":[{\"curriculum_requisites\":[],\"name\":\"BW 111L\",\"metrics\":{},\"canonical_name\":\"\",\"nameSub\":\"Basic Basket Forms Lab\",\"id\":5,\"credits\":1},{\"curriculum_requisites\":[{\"source_id\":5,\"target_id\":4,\"type\":\"strict-coreq\"},{\"source_id\":1,\"target_id\":4,\"type\":\"prereq\"}],\"name\":\"BW 111\",\"metrics\":{},\"canonical_name\":\"\",\"nameSub\":\"Basic Basket Forms\",\"id\":4,\"credits\":3}],\"id\":2},{\"name\":\"Term 3\",\"curriculum_items\":[{\"curriculum_requisites\":[{\"source_id\":1,\"target_id\":7,\"type\":\"prereq\"}],\"name\":\"BW 214\",\"metrics\":{},\"canonical_name\":\"\",\"nameSub\":\"Basket Materials & Decoration\",\"id\":7,\"credits\":3},{\"curriculum_requisites\":[],\"name\":\"MA 116\",\"metrics\":{},\"canonical_name\":\"\",\"nameSub\":\"Introductory Calculus w/ Applications\",\"id\":3,\"credits\":4}],\"id\":3},{\"name\":\"Term 4\",\"curriculum_items\":[{\"curriculum_requisites\":[{\"source_id\":7,\"target_id\":8,\"type\":\"prereq\"},{\"source_id\":2,\"target_id\":8,\"type\":\"prereq\"}],\"name\":\"BW 301\",\"metrics\":{},\"canonical_name\":\"\",\"nameSub\":\"Underwater Weaving\",\"id\":8,\"credits\":3},{\"curriculum_requisites\":[{\"source_id\":4,\"target_id\":6,\"type\":\"prereq\"},{\"source_id\":3,\"target_id\":6,\"type\":\"prereq\"},{\"source_id\":5,\"target_id\":6,\"type\":\"prereq\"}],\"name\":\"BW 201\",\"metrics\":{},\"canonical_name\":\"\",\"nameSub\":\"Advanced Basketry\",\"id\":6,\"credits\":3}],\"id\":4}],\"institution\":\"ACME State University\"}},\"*\"); window.removeEventListener(\"message\",window.messageReceived); window.messageReceived=(function (event){return (event.data.curriculum!==undefined) ? (_webIOScope.setObservableValue({\"name\":\"curriculum-data\",\"scope\":\"scope-6b62f440-1a20-42ff-9866-70911e652948\",\"id\":\"ob_02\",\"type\":\"observable\"},event.data.curriculum)) : undefined}); return window.addEventListener(\"message\",window.messageReceived)})"
          },
          "id": "curriculum",
          "src": "http://localhost:8156",
          "style": {
           "border": "none",
           "height": "100vh",
           "margin": "0",
           "padding": "0",
           "width": "100%"
          }
         },
         "type": "node"
        }
       ],
       "instanceArgs": {
        "handlers": {},
        "id": "scope-6b62f440-1a20-42ff-9866-70911e652948",
        "imports": {
         "data": [],
         "type": "async_block"
        },
        "observables": {
         "curriculum-data": {
          "id": "ob_02",
          "sync": true,
          "value": {
           "curriculum": {
            "curriculum_terms": [
             {
              "curriculum_items": [
               {
                "canonical_name": "",
                "credits": 3,
                "curriculum_requisites": [],
                "id": 1,
                "metrics": {},
                "name": "BW 101",
                "nameSub": "Introduction to Baskets"
               },
               {
                "canonical_name": "",
                "credits": 3,
                "curriculum_requisites": [],
                "id": 2,
                "metrics": {},
                "name": "PE 115",
                "nameSub": "Swimming"
               }
              ],
              "id": 1,
              "name": "Term 1"
             },
             {
              "curriculum_items": [
               {
                "canonical_name": "",
                "credits": 1,
                "curriculum_requisites": [],
                "id": 5,
                "metrics": {},
                "name": "BW 111L",
                "nameSub": "Basic Basket Forms Lab"
               },
               {
                "canonical_name": "",
                "credits": 3,
                "curriculum_requisites": [
                 {
                  "source_id": 5,
                  "target_id": 4,
                  "type": "strict-coreq"
                 },
                 {
                  "source_id": 1,
                  "target_id": 4,
                  "type": "prereq"
                 }
                ],
                "id": 4,
                "metrics": {},
                "name": "BW 111",
                "nameSub": "Basic Basket Forms"
               }
              ],
              "id": 2,
              "name": "Term 2"
             },
             {
              "curriculum_items": [
               {
                "canonical_name": "",
                "credits": 3,
                "curriculum_requisites": [
                 {
                  "source_id": 1,
                  "target_id": 7,
                  "type": "prereq"
                 }
                ],
                "id": 7,
                "metrics": {},
                "name": "BW 214",
                "nameSub": "Basket Materials & Decoration"
               },
               {
                "canonical_name": "",
                "credits": 4,
                "curriculum_requisites": [],
                "id": 3,
                "metrics": {},
                "name": "MA 116",
                "nameSub": "Introductory Calculus w/ Applications"
               }
              ],
              "id": 3,
              "name": "Term 3"
             },
             {
              "curriculum_items": [
               {
                "canonical_name": "",
                "credits": 3,
                "curriculum_requisites": [
                 {
                  "source_id": 7,
                  "target_id": 8,
                  "type": "prereq"
                 },
                 {
                  "source_id": 2,
                  "target_id": 8,
                  "type": "prereq"
                 }
                ],
                "id": 8,
                "metrics": {},
                "name": "BW 301",
                "nameSub": "Underwater Weaving"
               },
               {
                "canonical_name": "",
                "credits": 3,
                "curriculum_requisites": [
                 {
                  "source_id": 4,
                  "target_id": 6,
                  "type": "prereq"
                 },
                 {
                  "source_id": 3,
                  "target_id": 6,
                  "type": "prereq"
                 },
                 {
                  "source_id": 5,
                  "target_id": 6,
                  "type": "prereq"
                 }
                ],
                "id": 6,
                "metrics": {},
                "name": "BW 201",
                "nameSub": "Advanced Basketry"
               }
              ],
              "id": 4,
              "name": "Term 4"
             }
            ],
            "dp_name": "",
            "institution": "ACME State University",
            "name": "Underwater Basket Weaving"
           },
           "options": {
            "edit": true,
            "hideTerms": true
           }
          }
         }
        },
        "systemjs_options": null
       },
       "nodeType": "Scope",
       "props": {},
       "type": "node"
      },
      "text/html": [
       "<div\n",
       "    class=\"webio-mountpoint\"\n",
       "    data-webio-mountpoint=\"3483497994905682089\"\n",
       ">\n",
       "    <script>\n",
       "    if (window.require && require.defined && require.defined(\"nbextensions/webio/main\")) {\n",
       "        console.log(\"Jupyter WebIO extension detected, not mounting.\");\n",
       "    } else if (window.WebIO) {\n",
       "        WebIO.mount(\n",
       "            document.querySelector('[data-webio-mountpoint=\"3483497994905682089\"]'),\n",
       "            {\"props\":{},\"nodeType\":\"Scope\",\"type\":\"node\",\"instanceArgs\":{\"imports\":{\"data\":[],\"type\":\"async_block\"},\"id\":\"scope-6b62f440-1a20-42ff-9866-70911e652948\",\"handlers\":{},\"systemjs_options\":null,\"observables\":{\"curriculum-data\":{\"sync\":true,\"id\":\"ob_02\",\"value\":{\"options\":{\"hideTerms\":true,\"edit\":true},\"curriculum\":{\"name\":\"Underwater Basket Weaving\",\"dp_name\":\"\",\"curriculum_terms\":[{\"name\":\"Term 1\",\"curriculum_items\":[{\"curriculum_requisites\":[],\"name\":\"BW 101\",\"metrics\":{},\"canonical_name\":\"\",\"nameSub\":\"Introduction to Baskets\",\"id\":1,\"credits\":3},{\"curriculum_requisites\":[],\"name\":\"PE 115\",\"metrics\":{},\"canonical_name\":\"\",\"nameSub\":\"Swimming\",\"id\":2,\"credits\":3}],\"id\":1},{\"name\":\"Term 2\",\"curriculum_items\":[{\"curriculum_requisites\":[],\"name\":\"BW 111L\",\"metrics\":{},\"canonical_name\":\"\",\"nameSub\":\"Basic Basket Forms Lab\",\"id\":5,\"credits\":1},{\"curriculum_requisites\":[{\"source_id\":5,\"target_id\":4,\"type\":\"strict-coreq\"},{\"source_id\":1,\"target_id\":4,\"type\":\"prereq\"}],\"name\":\"BW 111\",\"metrics\":{},\"canonical_name\":\"\",\"nameSub\":\"Basic Basket Forms\",\"id\":4,\"credits\":3}],\"id\":2},{\"name\":\"Term 3\",\"curriculum_items\":[{\"curriculum_requisites\":[{\"source_id\":1,\"target_id\":7,\"type\":\"prereq\"}],\"name\":\"BW 214\",\"metrics\":{},\"canonical_name\":\"\",\"nameSub\":\"Basket Materials & Decoration\",\"id\":7,\"credits\":3},{\"curriculum_requisites\":[],\"name\":\"MA 116\",\"metrics\":{},\"canonical_name\":\"\",\"nameSub\":\"Introductory Calculus w\\/ Applications\",\"id\":3,\"credits\":4}],\"id\":3},{\"name\":\"Term 4\",\"curriculum_items\":[{\"curriculum_requisites\":[{\"source_id\":7,\"target_id\":8,\"type\":\"prereq\"},{\"source_id\":2,\"target_id\":8,\"type\":\"prereq\"}],\"name\":\"BW 301\",\"metrics\":{},\"canonical_name\":\"\",\"nameSub\":\"Underwater Weaving\",\"id\":8,\"credits\":3},{\"curriculum_requisites\":[{\"source_id\":4,\"target_id\":6,\"type\":\"prereq\"},{\"source_id\":3,\"target_id\":6,\"type\":\"prereq\"},{\"source_id\":5,\"target_id\":6,\"type\":\"prereq\"}],\"name\":\"BW 201\",\"metrics\":{},\"canonical_name\":\"\",\"nameSub\":\"Advanced Basketry\",\"id\":6,\"credits\":3}],\"id\":4}],\"institution\":\"ACME State University\"}}}}},\"children\":[{\"props\":{\"src\":\"http:\\/\\/localhost:8156\",\"id\":\"curriculum\",\"events\":{\"load\":\"(function (){this.contentWindow.postMessage({\\\"options\\\":{\\\"hideTerms\\\":true,\\\"edit\\\":true},\\\"curriculum\\\":{\\\"name\\\":\\\"Underwater Basket Weaving\\\",\\\"dp_name\\\":\\\"\\\",\\\"curriculum_terms\\\":[{\\\"name\\\":\\\"Term 1\\\",\\\"curriculum_items\\\":[{\\\"curriculum_requisites\\\":[],\\\"name\\\":\\\"BW 101\\\",\\\"metrics\\\":{},\\\"canonical_name\\\":\\\"\\\",\\\"nameSub\\\":\\\"Introduction to Baskets\\\",\\\"id\\\":1,\\\"credits\\\":3},{\\\"curriculum_requisites\\\":[],\\\"name\\\":\\\"PE 115\\\",\\\"metrics\\\":{},\\\"canonical_name\\\":\\\"\\\",\\\"nameSub\\\":\\\"Swimming\\\",\\\"id\\\":2,\\\"credits\\\":3}],\\\"id\\\":1},{\\\"name\\\":\\\"Term 2\\\",\\\"curriculum_items\\\":[{\\\"curriculum_requisites\\\":[],\\\"name\\\":\\\"BW 111L\\\",\\\"metrics\\\":{},\\\"canonical_name\\\":\\\"\\\",\\\"nameSub\\\":\\\"Basic Basket Forms Lab\\\",\\\"id\\\":5,\\\"credits\\\":1},{\\\"curriculum_requisites\\\":[{\\\"source_id\\\":5,\\\"target_id\\\":4,\\\"type\\\":\\\"strict-coreq\\\"},{\\\"source_id\\\":1,\\\"target_id\\\":4,\\\"type\\\":\\\"prereq\\\"}],\\\"name\\\":\\\"BW 111\\\",\\\"metrics\\\":{},\\\"canonical_name\\\":\\\"\\\",\\\"nameSub\\\":\\\"Basic Basket Forms\\\",\\\"id\\\":4,\\\"credits\\\":3}],\\\"id\\\":2},{\\\"name\\\":\\\"Term 3\\\",\\\"curriculum_items\\\":[{\\\"curriculum_requisites\\\":[{\\\"source_id\\\":1,\\\"target_id\\\":7,\\\"type\\\":\\\"prereq\\\"}],\\\"name\\\":\\\"BW 214\\\",\\\"metrics\\\":{},\\\"canonical_name\\\":\\\"\\\",\\\"nameSub\\\":\\\"Basket Materials & Decoration\\\",\\\"id\\\":7,\\\"credits\\\":3},{\\\"curriculum_requisites\\\":[],\\\"name\\\":\\\"MA 116\\\",\\\"metrics\\\":{},\\\"canonical_name\\\":\\\"\\\",\\\"nameSub\\\":\\\"Introductory Calculus w\\/ Applications\\\",\\\"id\\\":3,\\\"credits\\\":4}],\\\"id\\\":3},{\\\"name\\\":\\\"Term 4\\\",\\\"curriculum_items\\\":[{\\\"curriculum_requisites\\\":[{\\\"source_id\\\":7,\\\"target_id\\\":8,\\\"type\\\":\\\"prereq\\\"},{\\\"source_id\\\":2,\\\"target_id\\\":8,\\\"type\\\":\\\"prereq\\\"}],\\\"name\\\":\\\"BW 301\\\",\\\"metrics\\\":{},\\\"canonical_name\\\":\\\"\\\",\\\"nameSub\\\":\\\"Underwater Weaving\\\",\\\"id\\\":8,\\\"credits\\\":3},{\\\"curriculum_requisites\\\":[{\\\"source_id\\\":4,\\\"target_id\\\":6,\\\"type\\\":\\\"prereq\\\"},{\\\"source_id\\\":3,\\\"target_id\\\":6,\\\"type\\\":\\\"prereq\\\"},{\\\"source_id\\\":5,\\\"target_id\\\":6,\\\"type\\\":\\\"prereq\\\"}],\\\"name\\\":\\\"BW 201\\\",\\\"metrics\\\":{},\\\"canonical_name\\\":\\\"\\\",\\\"nameSub\\\":\\\"Advanced Basketry\\\",\\\"id\\\":6,\\\"credits\\\":3}],\\\"id\\\":4}],\\\"institution\\\":\\\"ACME State University\\\"}},\\\"*\\\"); window.removeEventListener(\\\"message\\\",window.messageReceived); window.messageReceived=(function (event){return (event.data.curriculum!==undefined) ? (_webIOScope.setObservableValue({\\\"name\\\":\\\"curriculum-data\\\",\\\"scope\\\":\\\"scope-6b62f440-1a20-42ff-9866-70911e652948\\\",\\\"id\\\":\\\"ob_02\\\",\\\"type\\\":\\\"observable\\\"},event.data.curriculum)) : undefined}); return window.addEventListener(\\\"message\\\",window.messageReceived)})\"},\"style\":{\"padding\":\"0\",\"height\":\"100vh\",\"margin\":\"0\",\"border\":\"none\",\"width\":\"100%\"}},\"nodeType\":\"DOM\",\"type\":\"node\",\"instanceArgs\":{\"namespace\":\"html\",\"tag\":\"iframe\"},\"children\":[\"\"]}]},\n",
       "        );\n",
       "    } else {\n",
       "        document\n",
       "            .querySelector('[data-webio-mountpoint=\"3483497994905682089\"]')\n",
       "            .innerHTML = '<strong>WebIO not detected.</strong>';\n",
       "    }\n",
       "    </script>\n",
       "</div>\n"
      ],
      "text/plain": [
       "WebIO.Scope(\"scope-6b62f440-1a20-42ff-9866-70911e652948\", WebIO.Node{WebIO.DOM}(WebIO.DOM(:html, :iframe), Any[\"\"], Dict{Symbol,Any}(:src=>\"http://localhost:8156\",:id=>\"curriculum\",:events=>Dict(:load=>JSString(\"(function (){this.contentWindow.postMessage({\\\"options\\\":{\\\"hideTerms\\\":true,\\\"edit\\\":true},\\\"curriculum\\\":{\\\"name\\\":\\\"Underwater Basket Weaving\\\",\\\"dp_name\\\":\\\"\\\",\\\"curriculum_terms\\\":[{\\\"name\\\":\\\"Term 1\\\",\\\"curriculum_items\\\":[{\\\"curriculum_requisites\\\":[],\\\"name\\\":\\\"BW 101\\\",\\\"metrics\\\":{},\\\"canonical_name\\\":\\\"\\\",\\\"nameSub\\\":\\\"Introduction to Baskets\\\",\\\"id\\\":1,\\\"credits\\\":3},{\\\"curriculum_requisites\\\":[],\\\"name\\\":\\\"PE 115\\\",\\\"metrics\\\":{},\\\"canonical_name\\\":\\\"\\\",\\\"nameSub\\\":\\\"Swimming\\\",\\\"id\\\":2,\\\"credits\\\":3}],\\\"id\\\":1},{\\\"name\\\":\\\"Term 2\\\",\\\"curriculum_items\\\":[{\\\"curriculum_requisites\\\":[],\\\"name\\\":\\\"BW 111L\\\",\\\"metrics\\\":{},\\\"canonical_name\\\":\\\"\\\",\\\"nameSub\\\":\\\"Basic Basket Forms Lab\\\",\\\"id\\\":5,\\\"credits\\\":1},{\\\"curriculum_requisites\\\":[{\\\"source_id\\\":5,\\\"target_id\\\":4,\\\"type\\\":\\\"strict-coreq\\\"},{\\\"source_id\\\":1,\\\"target_id\\\":4,\\\"type\\\":\\\"prereq\\\"}],\\\"name\\\":\\\"BW 111\\\",\\\"metrics\\\":{},\\\"canonical_name\\\":\\\"\\\",\\\"nameSub\\\":\\\"Basic Basket Forms\\\",\\\"id\\\":4,\\\"credits\\\":3}],\\\"id\\\":2},{\\\"name\\\":\\\"Term 3\\\",\\\"curriculum_items\\\":[{\\\"curriculum_requisites\\\":[{\\\"source_id\\\":1,\\\"target_id\\\":7,\\\"type\\\":\\\"prereq\\\"}],\\\"name\\\":\\\"BW 214\\\",\\\"metrics\\\":{},\\\"canonical_name\\\":\\\"\\\",\\\"nameSub\\\":\\\"Basket Materials & Decoration\\\",\\\"id\\\":7,\\\"credits\\\":3},{\\\"curriculum_requisites\\\":[],\\\"name\\\":\\\"MA 116\\\",\\\"metrics\\\":{},\\\"canonical_name\\\":\\\"\\\",\\\"nameSub\\\":\\\"Introductory Calculus w/ Applications\\\",\\\"id\\\":3,\\\"credits\\\":4}],\\\"id\\\":3},{\\\"name\\\":\\\"Term 4\\\",\\\"curriculum_items\\\":[{\\\"curriculum_requisites\\\":[{\\\"source_id\\\":7,\\\"target_id\\\":8,\\\"type\\\":\\\"prereq\\\"},{\\\"source_id\\\":2,\\\"target_id\\\":8,\\\"type\\\":\\\"prereq\\\"}],\\\"name\\\":\\\"BW 301\\\",\\\"metrics\\\":{},\\\"canonical_name\\\":\\\"\\\",\\\"nameSub\\\":\\\"Underwater Weaving\\\",\\\"id\\\":8,\\\"credits\\\":3},{\\\"curriculum_requisites\\\":[{\\\"source_id\\\":4,\\\"target_id\\\":6,\\\"type\\\":\\\"prereq\\\"},{\\\"source_id\\\":3,\\\"target_id\\\":6,\\\"type\\\":\\\"prereq\\\"},{\\\"source_id\\\":5,\\\"target_id\\\":6,\\\"type\\\":\\\"prereq\\\"}],\\\"name\\\":\\\"BW 201\\\",\\\"metrics\\\":{},\\\"canonical_name\\\":\\\"\\\",\\\"nameSub\\\":\\\"Advanced Basketry\\\",\\\"id\\\":6,\\\"credits\\\":3}],\\\"id\\\":4}],\\\"institution\\\":\\\"ACME State University\\\"}},\\\"*\\\"); window.removeEventListener(\\\"message\\\",window.messageReceived); window.messageReceived=(function (event){return (event.data.curriculum!==undefined) ? (_webIOScope.setObservableValue({\\\"name\\\":\\\"curriculum-data\\\",\\\"scope\\\":\\\"scope-6b62f440-1a20-42ff-9866-70911e652948\\\",\\\"id\\\":\\\"ob_02\\\",\\\"type\\\":\\\"observable\\\"},event.data.curriculum)) : undefined}); return window.addEventListener(\\\"message\\\",window.messageReceived)})\")),:style=>Dict(:padding=>\"0\",:height=>\"100vh\",:margin=>\"0\",:border=>\"none\",:width=>\"100%\")), 1), Dict{String,Tuple{Observables.AbstractObservable,Union{Nothing, Bool}}}(\"curriculum-data\"=>(Observable{Dict{String,Any}} with 1 listeners. Value:\n",
       "Dict{String,Any}(\"options\"=>Dict{String,Any}(\"hideTerms\"=>true,\"edit\"=>true),\"curriculum\"=>Dict{String,Any}(\"name\"=>\"Underwater Basket Weaving\",\"dp_name\"=>\"\",\"curriculum_terms\"=>Dict{String,Any}[Dict(\"name\"=>\"Term 1\",\"curriculum_items\"=>Dict{String,Any}[Dict(\"curriculum_requisites\"=>Dict{String,Any}[],\"name\"=>\"BW 101\",\"metrics\"=>Dict{String,Any}(),\"canonical_name\"=>\"\",\"nameSub\"=>\"Introduction to Baskets\",\"id\"=>1,\"credits\"=>3), Dict(\"curriculum_requisites\"=>Dict{String,Any}[],\"name\"=>\"PE 115\",\"metrics\"=>Dict{String,Any}(),\"canonical_name\"=>\"\",\"nameSub\"=>\"Swimming\",\"id\"=>2,\"credits\"=>3)],\"id\"=>1), Dict(\"name\"=>\"Term 2\",\"curriculum_items\"=>Dict{String,Any}[Dict(\"curriculum_requisites\"=>Dict{String,Any}[],\"name\"=>\"BW 111L\",\"metrics\"=>Dict{String,Any}(),\"canonical_name\"=>\"\",\"nameSub\"=>\"Basic Basket Forms Lab\",\"id\"=>5,\"credits\"=>1), Dict(\"curriculum_requisites\"=>Dict{String,Any}[Dict(\"source_id\"=>5,\"target_id\"=>4,\"type\"=>\"strict-coreq\"), Dict(\"source_id\"=>1,\"target_id\"=>4,\"type\"=>\"prereq\")],\"name\"=>\"BW 111\",\"metrics\"=>Dict{String,Any}(),\"canonical_name\"=>\"\",\"nameSub\"=>\"Basic Basket Forms\",\"id\"=>4,\"credits\"=>3)],\"id\"=>2), Dict(\"name\"=>\"Term 3\",\"curriculum_items\"=>Dict{String,Any}[Dict(\"curriculum_requisites\"=>Dict{String,Any}[Dict(\"source_id\"=>1,\"target_id\"=>7,\"type\"=>\"prereq\")],\"name\"=>\"BW 214\",\"metrics\"=>Dict{String,Any}(),\"canonical_name\"=>\"\",\"nameSub\"=>\"Basket Materials & Decoration\",\"id\"=>7,\"credits\"=>3), Dict(\"curriculum_requisites\"=>Dict{String,Any}[],\"name\"=>\"MA 116\",\"metrics\"=>Dict{String,Any}(),\"canonical_name\"=>\"\",\"nameSub\"=>\"Introductory Calculus w/ Applications\",\"id\"=>3,\"credits\"=>4)],\"id\"=>3), Dict(\"name\"=>\"Term 4\",\"curriculum_items\"=>Dict{String,Any}[Dict(\"curriculum_requisites\"=>Dict{String,Any}[Dict(\"source_id\"=>7,\"target_id\"=>8,\"type\"=>\"prereq\"), Dict(\"source_id\"=>2,\"target_id\"=>8,\"type\"=>\"prereq\")],\"name\"=>\"BW 301\",\"metrics\"=>Dict{String,Any}(),\"canonical_name\"=>\"\",\"nameSub\"=>\"Underwater Weaving\",\"id\"=>8,\"credits\"=>3), Dict(\"curriculum_requisites\"=>Dict{String,Any}[Dict(\"source_id\"=>4,\"target_id\"=>6,\"type\"=>\"prereq\"), Dict(\"source_id\"=>3,\"target_id\"=>6,\"type\"=>\"prereq\"), Dict(\"source_id\"=>5,\"target_id\"=>6,\"type\"=>\"prereq\")],\"name\"=>\"BW 201\",\"metrics\"=>Dict{String,Any}(),\"canonical_name\"=>\"\",\"nameSub\"=>\"Advanced Basketry\",\"id\"=>6,\"credits\"=>3)],\"id\"=>4)],\"institution\"=>\"ACME State University\")), nothing)), Set(String[]), nothing, Any[], Dict{Any,Any}(), WebIO.ConnectionPool(Channel{Any}(sz_max:9223372036854775807,sz_curr:0), Set(WebIO.AbstractConnection[]), Channel{WebIO.AbstractConnection}(sz_max:32,sz_curr:0)))"
      ]
     },
     "execution_count": 6,
     "metadata": {
      "application/vnd.webio.node+json": {
       "kernelId": "046fb20c-4d69-4c7d-a63f-9cb12e0d9101"
      }
     },
     "output_type": "execute_result"
    }
   ],
   "source": [
    "out = read_csv_new(\"examples\\\\UBW_curric2.csv\")\n",
    "#visualize(out, notebook=true)\n",
    "visualize(out , changed=update_plan, edit=true, notebook=true)"
   ]
  },
  {
   "cell_type": "code",
   "execution_count": 7,
   "metadata": {
    "scrolled": false
   },
   "outputs": [
    {
     "name": "stderr",
     "output_type": "stream",
     "text": [
      "┌ Info: Closed (3):  💀    0↑     0↓🔒  27s 127.0.0.1:8156:8156 ≣16\n",
      "└ @ HTTP.Servers C:\\Users\\orhan\\.julia\\packages\\HTTP\\YjRCz\\src\\Servers.jl:351\n",
      "┌ Info: Closed (2):  💀    0↑     0↓🔒  27s 127.0.0.1:8156:8156 ≣16\n",
      "└ @ HTTP.Servers C:\\Users\\orhan\\.julia\\packages\\HTTP\\YjRCz\\src\\Servers.jl:351\n"
     ]
    },
    {
     "data": {
      "application/vnd.webio.node+json": {
       "children": [
        {
         "children": [
          ""
         ],
         "instanceArgs": {
          "namespace": "html",
          "tag": "iframe"
         },
         "nodeType": "DOM",
         "props": {
          "events": {
           "load": "(function (){this.contentWindow.postMessage({\"options\":{\"hideTerms\":true,\"edit\":true},\"curriculum\":{\"name\":\"Underwater Basket Weaving\",\"dp_name\":\"\",\"curriculum_terms\":[{\"name\":\"Term 1\",\"curriculum_items\":[{\"curriculum_requisites\":[],\"name\":\"BW 101\",\"metrics\":{},\"canonical_name\":\"\",\"nameSub\":\"Introduction to Baskets\",\"id\":1,\"credits\":3},{\"curriculum_requisites\":[],\"name\":\"PE 115\",\"metrics\":{},\"canonical_name\":\"\",\"nameSub\":\"Swimming\",\"id\":2,\"credits\":3},{\"curriculum_requisites\":[],\"name\":\"MA 116\",\"metrics\":{},\"canonical_name\":\"\",\"nameSub\":\"Introductory Calculus w/ Applications\",\"id\":3,\"credits\":4}],\"id\":1},{\"name\":\"Term 2\",\"curriculum_items\":[{\"curriculum_requisites\":[{\"source_id\":5,\"target_id\":4,\"type\":\"strict-coreq\"},{\"source_id\":1,\"target_id\":4,\"type\":\"prereq\"}],\"name\":\"BW 111\",\"metrics\":{},\"canonical_name\":\"\",\"nameSub\":\"Basic Basket Forms\",\"id\":4,\"credits\":3},{\"curriculum_requisites\":[],\"name\":\"BW 111L\",\"metrics\":{},\"canonical_name\":\"\",\"nameSub\":\"Basic Basket Forms Lab\",\"id\":5,\"credits\":1},{\"curriculum_requisites\":[{\"source_id\":4,\"target_id\":6,\"type\":\"prereq\"},{\"source_id\":3,\"target_id\":6,\"type\":\"prereq\"},{\"source_id\":5,\"target_id\":6,\"type\":\"prereq\"}],\"name\":\"BW 201\",\"metrics\":{},\"canonical_name\":\"\",\"nameSub\":\"Advanced Basketry\",\"id\":6,\"credits\":3}],\"id\":2},{\"name\":\"Term 3\",\"curriculum_items\":[{\"curriculum_requisites\":[{\"source_id\":1,\"target_id\":7,\"type\":\"prereq\"}],\"name\":\"BW 214\",\"metrics\":{},\"canonical_name\":\"\",\"nameSub\":\"Basket Materials & Decoration\",\"id\":7,\"credits\":3},{\"curriculum_requisites\":[{\"source_id\":7,\"target_id\":8,\"type\":\"prereq\"},{\"source_id\":2,\"target_id\":8,\"type\":\"prereq\"}],\"name\":\"BW 301\",\"metrics\":{},\"canonical_name\":\"\",\"nameSub\":\"Underwater Weaving\",\"id\":8,\"credits\":3}],\"id\":3}],\"institution\":\"\"}},\"*\"); window.removeEventListener(\"message\",window.messageReceived); window.messageReceived=(function (event){return (event.data.curriculum!==undefined) ? (_webIOScope.setObservableValue({\"name\":\"curriculum-data\",\"scope\":\"scope-003d03e3-b6b7-4bce-ae17-9eba553fcacb\",\"id\":\"ob_03\",\"type\":\"observable\"},event.data.curriculum)) : undefined}); return window.addEventListener(\"message\",window.messageReceived)})"
          },
          "id": "curriculum",
          "src": "http://localhost:8156",
          "style": {
           "border": "none",
           "height": "100vh",
           "margin": "0",
           "padding": "0",
           "width": "100%"
          }
         },
         "type": "node"
        }
       ],
       "instanceArgs": {
        "handlers": {},
        "id": "scope-003d03e3-b6b7-4bce-ae17-9eba553fcacb",
        "imports": {
         "data": [],
         "type": "async_block"
        },
        "observables": {
         "curriculum-data": {
          "id": "ob_03",
          "sync": true,
          "value": {
           "curriculum": {
            "curriculum_terms": [
             {
              "curriculum_items": [
               {
                "canonical_name": "",
                "credits": 3,
                "curriculum_requisites": [],
                "id": 1,
                "metrics": {},
                "name": "BW 101",
                "nameSub": "Introduction to Baskets"
               },
               {
                "canonical_name": "",
                "credits": 3,
                "curriculum_requisites": [],
                "id": 2,
                "metrics": {},
                "name": "PE 115",
                "nameSub": "Swimming"
               },
               {
                "canonical_name": "",
                "credits": 4,
                "curriculum_requisites": [],
                "id": 3,
                "metrics": {},
                "name": "MA 116",
                "nameSub": "Introductory Calculus w/ Applications"
               }
              ],
              "id": 1,
              "name": "Term 1"
             },
             {
              "curriculum_items": [
               {
                "canonical_name": "",
                "credits": 3,
                "curriculum_requisites": [
                 {
                  "source_id": 5,
                  "target_id": 4,
                  "type": "strict-coreq"
                 },
                 {
                  "source_id": 1,
                  "target_id": 4,
                  "type": "prereq"
                 }
                ],
                "id": 4,
                "metrics": {},
                "name": "BW 111",
                "nameSub": "Basic Basket Forms"
               },
               {
                "canonical_name": "",
                "credits": 1,
                "curriculum_requisites": [],
                "id": 5,
                "metrics": {},
                "name": "BW 111L",
                "nameSub": "Basic Basket Forms Lab"
               },
               {
                "canonical_name": "",
                "credits": 3,
                "curriculum_requisites": [
                 {
                  "source_id": 4,
                  "target_id": 6,
                  "type": "prereq"
                 },
                 {
                  "source_id": 3,
                  "target_id": 6,
                  "type": "prereq"
                 },
                 {
                  "source_id": 5,
                  "target_id": 6,
                  "type": "prereq"
                 }
                ],
                "id": 6,
                "metrics": {},
                "name": "BW 201",
                "nameSub": "Advanced Basketry"
               }
              ],
              "id": 2,
              "name": "Term 2"
             },
             {
              "curriculum_items": [
               {
                "canonical_name": "",
                "credits": 3,
                "curriculum_requisites": [
                 {
                  "source_id": 1,
                  "target_id": 7,
                  "type": "prereq"
                 }
                ],
                "id": 7,
                "metrics": {},
                "name": "BW 214",
                "nameSub": "Basket Materials & Decoration"
               },
               {
                "canonical_name": "",
                "credits": 3,
                "curriculum_requisites": [
                 {
                  "source_id": 7,
                  "target_id": 8,
                  "type": "prereq"
                 },
                 {
                  "source_id": 2,
                  "target_id": 8,
                  "type": "prereq"
                 }
                ],
                "id": 8,
                "metrics": {},
                "name": "BW 301",
                "nameSub": "Underwater Weaving"
               }
              ],
              "id": 3,
              "name": "Term 3"
             }
            ],
            "dp_name": "",
            "institution": "",
            "name": "Underwater Basket Weaving"
           },
           "options": {
            "edit": true,
            "hideTerms": true
           }
          }
         }
        },
        "systemjs_options": null
       },
       "nodeType": "Scope",
       "props": {},
       "type": "node"
      },
      "text/html": [
       "<div\n",
       "    class=\"webio-mountpoint\"\n",
       "    data-webio-mountpoint=\"15965878064203811678\"\n",
       ">\n",
       "    <script>\n",
       "    if (window.require && require.defined && require.defined(\"nbextensions/webio/main\")) {\n",
       "        console.log(\"Jupyter WebIO extension detected, not mounting.\");\n",
       "    } else if (window.WebIO) {\n",
       "        WebIO.mount(\n",
       "            document.querySelector('[data-webio-mountpoint=\"15965878064203811678\"]'),\n",
       "            {\"props\":{},\"nodeType\":\"Scope\",\"type\":\"node\",\"instanceArgs\":{\"imports\":{\"data\":[],\"type\":\"async_block\"},\"id\":\"scope-003d03e3-b6b7-4bce-ae17-9eba553fcacb\",\"handlers\":{},\"systemjs_options\":null,\"observables\":{\"curriculum-data\":{\"sync\":true,\"id\":\"ob_03\",\"value\":{\"options\":{\"hideTerms\":true,\"edit\":true},\"curriculum\":{\"name\":\"Underwater Basket Weaving\",\"dp_name\":\"\",\"curriculum_terms\":[{\"name\":\"Term 1\",\"curriculum_items\":[{\"curriculum_requisites\":[],\"name\":\"BW 101\",\"metrics\":{},\"canonical_name\":\"\",\"nameSub\":\"Introduction to Baskets\",\"id\":1,\"credits\":3},{\"curriculum_requisites\":[],\"name\":\"PE 115\",\"metrics\":{},\"canonical_name\":\"\",\"nameSub\":\"Swimming\",\"id\":2,\"credits\":3},{\"curriculum_requisites\":[],\"name\":\"MA 116\",\"metrics\":{},\"canonical_name\":\"\",\"nameSub\":\"Introductory Calculus w\\/ Applications\",\"id\":3,\"credits\":4}],\"id\":1},{\"name\":\"Term 2\",\"curriculum_items\":[{\"curriculum_requisites\":[{\"source_id\":5,\"target_id\":4,\"type\":\"strict-coreq\"},{\"source_id\":1,\"target_id\":4,\"type\":\"prereq\"}],\"name\":\"BW 111\",\"metrics\":{},\"canonical_name\":\"\",\"nameSub\":\"Basic Basket Forms\",\"id\":4,\"credits\":3},{\"curriculum_requisites\":[],\"name\":\"BW 111L\",\"metrics\":{},\"canonical_name\":\"\",\"nameSub\":\"Basic Basket Forms Lab\",\"id\":5,\"credits\":1},{\"curriculum_requisites\":[{\"source_id\":4,\"target_id\":6,\"type\":\"prereq\"},{\"source_id\":3,\"target_id\":6,\"type\":\"prereq\"},{\"source_id\":5,\"target_id\":6,\"type\":\"prereq\"}],\"name\":\"BW 201\",\"metrics\":{},\"canonical_name\":\"\",\"nameSub\":\"Advanced Basketry\",\"id\":6,\"credits\":3}],\"id\":2},{\"name\":\"Term 3\",\"curriculum_items\":[{\"curriculum_requisites\":[{\"source_id\":1,\"target_id\":7,\"type\":\"prereq\"}],\"name\":\"BW 214\",\"metrics\":{},\"canonical_name\":\"\",\"nameSub\":\"Basket Materials & Decoration\",\"id\":7,\"credits\":3},{\"curriculum_requisites\":[{\"source_id\":7,\"target_id\":8,\"type\":\"prereq\"},{\"source_id\":2,\"target_id\":8,\"type\":\"prereq\"}],\"name\":\"BW 301\",\"metrics\":{},\"canonical_name\":\"\",\"nameSub\":\"Underwater Weaving\",\"id\":8,\"credits\":3}],\"id\":3}],\"institution\":\"\"}}}}},\"children\":[{\"props\":{\"src\":\"http:\\/\\/localhost:8156\",\"id\":\"curriculum\",\"events\":{\"load\":\"(function (){this.contentWindow.postMessage({\\\"options\\\":{\\\"hideTerms\\\":true,\\\"edit\\\":true},\\\"curriculum\\\":{\\\"name\\\":\\\"Underwater Basket Weaving\\\",\\\"dp_name\\\":\\\"\\\",\\\"curriculum_terms\\\":[{\\\"name\\\":\\\"Term 1\\\",\\\"curriculum_items\\\":[{\\\"curriculum_requisites\\\":[],\\\"name\\\":\\\"BW 101\\\",\\\"metrics\\\":{},\\\"canonical_name\\\":\\\"\\\",\\\"nameSub\\\":\\\"Introduction to Baskets\\\",\\\"id\\\":1,\\\"credits\\\":3},{\\\"curriculum_requisites\\\":[],\\\"name\\\":\\\"PE 115\\\",\\\"metrics\\\":{},\\\"canonical_name\\\":\\\"\\\",\\\"nameSub\\\":\\\"Swimming\\\",\\\"id\\\":2,\\\"credits\\\":3},{\\\"curriculum_requisites\\\":[],\\\"name\\\":\\\"MA 116\\\",\\\"metrics\\\":{},\\\"canonical_name\\\":\\\"\\\",\\\"nameSub\\\":\\\"Introductory Calculus w\\/ Applications\\\",\\\"id\\\":3,\\\"credits\\\":4}],\\\"id\\\":1},{\\\"name\\\":\\\"Term 2\\\",\\\"curriculum_items\\\":[{\\\"curriculum_requisites\\\":[{\\\"source_id\\\":5,\\\"target_id\\\":4,\\\"type\\\":\\\"strict-coreq\\\"},{\\\"source_id\\\":1,\\\"target_id\\\":4,\\\"type\\\":\\\"prereq\\\"}],\\\"name\\\":\\\"BW 111\\\",\\\"metrics\\\":{},\\\"canonical_name\\\":\\\"\\\",\\\"nameSub\\\":\\\"Basic Basket Forms\\\",\\\"id\\\":4,\\\"credits\\\":3},{\\\"curriculum_requisites\\\":[],\\\"name\\\":\\\"BW 111L\\\",\\\"metrics\\\":{},\\\"canonical_name\\\":\\\"\\\",\\\"nameSub\\\":\\\"Basic Basket Forms Lab\\\",\\\"id\\\":5,\\\"credits\\\":1},{\\\"curriculum_requisites\\\":[{\\\"source_id\\\":4,\\\"target_id\\\":6,\\\"type\\\":\\\"prereq\\\"},{\\\"source_id\\\":3,\\\"target_id\\\":6,\\\"type\\\":\\\"prereq\\\"},{\\\"source_id\\\":5,\\\"target_id\\\":6,\\\"type\\\":\\\"prereq\\\"}],\\\"name\\\":\\\"BW 201\\\",\\\"metrics\\\":{},\\\"canonical_name\\\":\\\"\\\",\\\"nameSub\\\":\\\"Advanced Basketry\\\",\\\"id\\\":6,\\\"credits\\\":3}],\\\"id\\\":2},{\\\"name\\\":\\\"Term 3\\\",\\\"curriculum_items\\\":[{\\\"curriculum_requisites\\\":[{\\\"source_id\\\":1,\\\"target_id\\\":7,\\\"type\\\":\\\"prereq\\\"}],\\\"name\\\":\\\"BW 214\\\",\\\"metrics\\\":{},\\\"canonical_name\\\":\\\"\\\",\\\"nameSub\\\":\\\"Basket Materials & Decoration\\\",\\\"id\\\":7,\\\"credits\\\":3},{\\\"curriculum_requisites\\\":[{\\\"source_id\\\":7,\\\"target_id\\\":8,\\\"type\\\":\\\"prereq\\\"},{\\\"source_id\\\":2,\\\"target_id\\\":8,\\\"type\\\":\\\"prereq\\\"}],\\\"name\\\":\\\"BW 301\\\",\\\"metrics\\\":{},\\\"canonical_name\\\":\\\"\\\",\\\"nameSub\\\":\\\"Underwater Weaving\\\",\\\"id\\\":8,\\\"credits\\\":3}],\\\"id\\\":3}],\\\"institution\\\":\\\"\\\"}},\\\"*\\\"); window.removeEventListener(\\\"message\\\",window.messageReceived); window.messageReceived=(function (event){return (event.data.curriculum!==undefined) ? (_webIOScope.setObservableValue({\\\"name\\\":\\\"curriculum-data\\\",\\\"scope\\\":\\\"scope-003d03e3-b6b7-4bce-ae17-9eba553fcacb\\\",\\\"id\\\":\\\"ob_03\\\",\\\"type\\\":\\\"observable\\\"},event.data.curriculum)) : undefined}); return window.addEventListener(\\\"message\\\",window.messageReceived)})\"},\"style\":{\"padding\":\"0\",\"height\":\"100vh\",\"margin\":\"0\",\"border\":\"none\",\"width\":\"100%\"}},\"nodeType\":\"DOM\",\"type\":\"node\",\"instanceArgs\":{\"namespace\":\"html\",\"tag\":\"iframe\"},\"children\":[\"\"]}]},\n",
       "        );\n",
       "    } else {\n",
       "        document\n",
       "            .querySelector('[data-webio-mountpoint=\"15965878064203811678\"]')\n",
       "            .innerHTML = '<strong>WebIO not detected.</strong>';\n",
       "    }\n",
       "    </script>\n",
       "</div>\n"
      ],
      "text/plain": [
       "WebIO.Scope(\"scope-003d03e3-b6b7-4bce-ae17-9eba553fcacb\", WebIO.Node{WebIO.DOM}(WebIO.DOM(:html, :iframe), Any[\"\"], Dict{Symbol,Any}(:src=>\"http://localhost:8156\",:id=>\"curriculum\",:events=>Dict(:load=>JSString(\"(function (){this.contentWindow.postMessage({\\\"options\\\":{\\\"hideTerms\\\":true,\\\"edit\\\":true},\\\"curriculum\\\":{\\\"name\\\":\\\"Underwater Basket Weaving\\\",\\\"dp_name\\\":\\\"\\\",\\\"curriculum_terms\\\":[{\\\"name\\\":\\\"Term 1\\\",\\\"curriculum_items\\\":[{\\\"curriculum_requisites\\\":[],\\\"name\\\":\\\"BW 101\\\",\\\"metrics\\\":{},\\\"canonical_name\\\":\\\"\\\",\\\"nameSub\\\":\\\"Introduction to Baskets\\\",\\\"id\\\":1,\\\"credits\\\":3},{\\\"curriculum_requisites\\\":[],\\\"name\\\":\\\"PE 115\\\",\\\"metrics\\\":{},\\\"canonical_name\\\":\\\"\\\",\\\"nameSub\\\":\\\"Swimming\\\",\\\"id\\\":2,\\\"credits\\\":3},{\\\"curriculum_requisites\\\":[],\\\"name\\\":\\\"MA 116\\\",\\\"metrics\\\":{},\\\"canonical_name\\\":\\\"\\\",\\\"nameSub\\\":\\\"Introductory Calculus w/ Applications\\\",\\\"id\\\":3,\\\"credits\\\":4}],\\\"id\\\":1},{\\\"name\\\":\\\"Term 2\\\",\\\"curriculum_items\\\":[{\\\"curriculum_requisites\\\":[{\\\"source_id\\\":5,\\\"target_id\\\":4,\\\"type\\\":\\\"strict-coreq\\\"},{\\\"source_id\\\":1,\\\"target_id\\\":4,\\\"type\\\":\\\"prereq\\\"}],\\\"name\\\":\\\"BW 111\\\",\\\"metrics\\\":{},\\\"canonical_name\\\":\\\"\\\",\\\"nameSub\\\":\\\"Basic Basket Forms\\\",\\\"id\\\":4,\\\"credits\\\":3},{\\\"curriculum_requisites\\\":[],\\\"name\\\":\\\"BW 111L\\\",\\\"metrics\\\":{},\\\"canonical_name\\\":\\\"\\\",\\\"nameSub\\\":\\\"Basic Basket Forms Lab\\\",\\\"id\\\":5,\\\"credits\\\":1},{\\\"curriculum_requisites\\\":[{\\\"source_id\\\":4,\\\"target_id\\\":6,\\\"type\\\":\\\"prereq\\\"},{\\\"source_id\\\":3,\\\"target_id\\\":6,\\\"type\\\":\\\"prereq\\\"},{\\\"source_id\\\":5,\\\"target_id\\\":6,\\\"type\\\":\\\"prereq\\\"}],\\\"name\\\":\\\"BW 201\\\",\\\"metrics\\\":{},\\\"canonical_name\\\":\\\"\\\",\\\"nameSub\\\":\\\"Advanced Basketry\\\",\\\"id\\\":6,\\\"credits\\\":3}],\\\"id\\\":2},{\\\"name\\\":\\\"Term 3\\\",\\\"curriculum_items\\\":[{\\\"curriculum_requisites\\\":[{\\\"source_id\\\":1,\\\"target_id\\\":7,\\\"type\\\":\\\"prereq\\\"}],\\\"name\\\":\\\"BW 214\\\",\\\"metrics\\\":{},\\\"canonical_name\\\":\\\"\\\",\\\"nameSub\\\":\\\"Basket Materials & Decoration\\\",\\\"id\\\":7,\\\"credits\\\":3},{\\\"curriculum_requisites\\\":[{\\\"source_id\\\":7,\\\"target_id\\\":8,\\\"type\\\":\\\"prereq\\\"},{\\\"source_id\\\":2,\\\"target_id\\\":8,\\\"type\\\":\\\"prereq\\\"}],\\\"name\\\":\\\"BW 301\\\",\\\"metrics\\\":{},\\\"canonical_name\\\":\\\"\\\",\\\"nameSub\\\":\\\"Underwater Weaving\\\",\\\"id\\\":8,\\\"credits\\\":3}],\\\"id\\\":3}],\\\"institution\\\":\\\"\\\"}},\\\"*\\\"); window.removeEventListener(\\\"message\\\",window.messageReceived); window.messageReceived=(function (event){return (event.data.curriculum!==undefined) ? (_webIOScope.setObservableValue({\\\"name\\\":\\\"curriculum-data\\\",\\\"scope\\\":\\\"scope-003d03e3-b6b7-4bce-ae17-9eba553fcacb\\\",\\\"id\\\":\\\"ob_03\\\",\\\"type\\\":\\\"observable\\\"},event.data.curriculum)) : undefined}); return window.addEventListener(\\\"message\\\",window.messageReceived)})\")),:style=>Dict(:padding=>\"0\",:height=>\"100vh\",:margin=>\"0\",:border=>\"none\",:width=>\"100%\")), 1), Dict{String,Tuple{Observables.AbstractObservable,Union{Nothing, Bool}}}(\"curriculum-data\"=>(Observable{Dict{String,Any}} with 1 listeners. Value:\n",
       "Dict{String,Any}(\"options\"=>Dict{String,Any}(\"hideTerms\"=>true,\"edit\"=>true),\"curriculum\"=>Dict{String,Any}(\"name\"=>\"Underwater Basket Weaving\",\"dp_name\"=>\"\",\"curriculum_terms\"=>Dict{String,Any}[Dict(\"name\"=>\"Term 1\",\"curriculum_items\"=>Dict{String,Any}[Dict(\"curriculum_requisites\"=>Dict{String,Any}[],\"name\"=>\"BW 101\",\"metrics\"=>Dict{String,Any}(),\"canonical_name\"=>\"\",\"nameSub\"=>\"Introduction to Baskets\",\"id\"=>1,\"credits\"=>3), Dict(\"curriculum_requisites\"=>Dict{String,Any}[],\"name\"=>\"PE 115\",\"metrics\"=>Dict{String,Any}(),\"canonical_name\"=>\"\",\"nameSub\"=>\"Swimming\",\"id\"=>2,\"credits\"=>3), Dict(\"curriculum_requisites\"=>Dict{String,Any}[],\"name\"=>\"MA 116\",\"metrics\"=>Dict{String,Any}(),\"canonical_name\"=>\"\",\"nameSub\"=>\"Introductory Calculus w/ Applications\",\"id\"=>3,\"credits\"=>4)],\"id\"=>1), Dict(\"name\"=>\"Term 2\",\"curriculum_items\"=>Dict{String,Any}[Dict(\"curriculum_requisites\"=>Dict{String,Any}[Dict(\"source_id\"=>5,\"target_id\"=>4,\"type\"=>\"strict-coreq\"), Dict(\"source_id\"=>1,\"target_id\"=>4,\"type\"=>\"prereq\")],\"name\"=>\"BW 111\",\"metrics\"=>Dict{String,Any}(),\"canonical_name\"=>\"\",\"nameSub\"=>\"Basic Basket Forms\",\"id\"=>4,\"credits\"=>3), Dict(\"curriculum_requisites\"=>Dict{String,Any}[],\"name\"=>\"BW 111L\",\"metrics\"=>Dict{String,Any}(),\"canonical_name\"=>\"\",\"nameSub\"=>\"Basic Basket Forms Lab\",\"id\"=>5,\"credits\"=>1), Dict(\"curriculum_requisites\"=>Dict{String,Any}[Dict(\"source_id\"=>4,\"target_id\"=>6,\"type\"=>\"prereq\"), Dict(\"source_id\"=>3,\"target_id\"=>6,\"type\"=>\"prereq\"), Dict(\"source_id\"=>5,\"target_id\"=>6,\"type\"=>\"prereq\")],\"name\"=>\"BW 201\",\"metrics\"=>Dict{String,Any}(),\"canonical_name\"=>\"\",\"nameSub\"=>\"Advanced Basketry\",\"id\"=>6,\"credits\"=>3)],\"id\"=>2), Dict(\"name\"=>\"Term 3\",\"curriculum_items\"=>Dict{String,Any}[Dict(\"curriculum_requisites\"=>Dict{String,Any}[Dict(\"source_id\"=>1,\"target_id\"=>7,\"type\"=>\"prereq\")],\"name\"=>\"BW 214\",\"metrics\"=>Dict{String,Any}(),\"canonical_name\"=>\"\",\"nameSub\"=>\"Basket Materials & Decoration\",\"id\"=>7,\"credits\"=>3), Dict(\"curriculum_requisites\"=>Dict{String,Any}[Dict(\"source_id\"=>7,\"target_id\"=>8,\"type\"=>\"prereq\"), Dict(\"source_id\"=>2,\"target_id\"=>8,\"type\"=>\"prereq\")],\"name\"=>\"BW 301\",\"metrics\"=>Dict{String,Any}(),\"canonical_name\"=>\"\",\"nameSub\"=>\"Underwater Weaving\",\"id\"=>8,\"credits\"=>3)],\"id\"=>3)],\"institution\"=>\"\")), nothing)), Set(String[]), nothing, Any[], Dict{Any,Any}(), WebIO.ConnectionPool(Channel{Any}(sz_max:9223372036854775807,sz_curr:0), Set(WebIO.AbstractConnection[]), Channel{WebIO.AbstractConnection}(sz_max:32,sz_curr:0)))"
      ]
     },
     "execution_count": 7,
     "metadata": {
      "application/vnd.webio.node+json": {
       "kernelId": "046fb20c-4d69-4c7d-a63f-9cb12e0d9101"
      }
     },
     "output_type": "execute_result"
    }
   ],
   "source": [
    "out = read_csv_new(\"examples\\\\UBW_curriculum_terms.csv\")\n",
    "visualize(out, edit=true, notebook=true)"
   ]
  },
  {
   "cell_type": "code",
   "execution_count": 8,
   "metadata": {
    "scrolled": false
   },
   "outputs": [
    {
     "name": "stderr",
     "output_type": "stream",
     "text": [
      "┌ Info: Accept (5):  🔗    0↑     0↓    0s 127.0.0.1:8156:8156 ≣16\n",
      "└ @ HTTP.Servers C:\\Users\\orhan\\.julia\\packages\\HTTP\\YjRCz\\src\\Servers.jl:343\n",
      "┌ Info: Accept (6):  🔗    0↑     0↓    0s 127.0.0.1:8156:8156 ≣16\n",
      "└ @ HTTP.Servers C:\\Users\\orhan\\.julia\\packages\\HTTP\\YjRCz\\src\\Servers.jl:343\n",
      "┌ Info: Accept (7):  🔗    0↑     0↓    0s 127.0.0.1:8156:8156 ≣16\n",
      "└ @ HTTP.Servers C:\\Users\\orhan\\.julia\\packages\\HTTP\\YjRCz\\src\\Servers.jl:343\n"
     ]
    },
    {
     "data": {
      "application/vnd.webio.node+json": {
       "children": [
        {
         "children": [
          ""
         ],
         "instanceArgs": {
          "namespace": "html",
          "tag": "iframe"
         },
         "nodeType": "DOM",
         "props": {
          "events": {
           "load": "(function (){this.contentWindow.postMessage({\"options\":{\"hideTerms\":false,\"edit\":true},\"curriculum\":{\"name\":\"Curriculum 1\",\"dp_name\":\"\",\"curriculum_terms\":[{\"name\":\"Term 1\",\"curriculum_items\":[{\"curriculum_requisites\":[],\"name\":\"C 1\",\"metrics\":{\"centrality\":0,\"complexity\":5.0,\"blocking factor\":2,\"delay factor\":3.0},\"canonical_name\":\"Course Example 1\",\"nameSub\":\"Course 1\",\"id\":1,\"credits\":3},{\"curriculum_requisites\":[{\"source_id\":1,\"target_id\":2,\"type\":\"prereq\"}],\"name\":\"C 2\",\"metrics\":{\"centrality\":3,\"complexity\":4.0,\"blocking factor\":1,\"delay factor\":3.0},\"canonical_name\":\"Course Example 2\",\"nameSub\":\"Course 2\",\"id\":2,\"credits\":2}],\"id\":1},{\"name\":\"Term 2\",\"curriculum_items\":[{\"curriculum_requisites\":[{\"source_id\":2,\"target_id\":3,\"type\":\"prereq\"},{\"source_id\":1,\"target_id\":3,\"type\":\"prereq\"}],\"name\":\"AC 1\",\"metrics\":{\"centrality\":0,\"complexity\":3.0,\"blocking factor\":0,\"delay factor\":3.0},\"canonical_name\":\"\",\"nameSub\":\"Additional Course 1\",\"id\":3,\"credits\":3},{\"curriculum_requisites\":[],\"name\":\"AC 2\",\"metrics\":{\"centrality\":0,\"complexity\":1.0,\"blocking factor\":0,\"delay factor\":1.0},\"canonical_name\":\"\",\"nameSub\":\"Additional Course 2\",\"id\":4,\"credits\":3}],\"id\":2}],\"institution\":\"Name of the Institution\"}},\"*\"); window.removeEventListener(\"message\",window.messageReceived); window.messageReceived=(function (event){return (event.data.curriculum!==undefined) ? (_webIOScope.setObservableValue({\"name\":\"curriculum-data\",\"scope\":\"scope-8322691a-366b-4554-899a-289258ec6391\",\"id\":\"ob_04\",\"type\":\"observable\"},event.data.curriculum)) : undefined}); return window.addEventListener(\"message\",window.messageReceived)})"
          },
          "id": "curriculum",
          "src": "http://localhost:8156",
          "style": {
           "border": "none",
           "height": "100vh",
           "margin": "0",
           "padding": "0",
           "width": "100%"
          }
         },
         "type": "node"
        }
       ],
       "instanceArgs": {
        "handlers": {},
        "id": "scope-8322691a-366b-4554-899a-289258ec6391",
        "imports": {
         "data": [],
         "type": "async_block"
        },
        "observables": {
         "curriculum-data": {
          "id": "ob_04",
          "sync": true,
          "value": {
           "curriculum": {
            "curriculum_terms": [
             {
              "curriculum_items": [
               {
                "canonical_name": "Course Example 1",
                "credits": 3,
                "curriculum_requisites": [],
                "id": 1,
                "metrics": {
                 "blocking factor": 2,
                 "centrality": 0,
                 "complexity": 5,
                 "delay factor": 3
                },
                "name": "C 1",
                "nameSub": "Course 1"
               },
               {
                "canonical_name": "Course Example 2",
                "credits": 2,
                "curriculum_requisites": [
                 {
                  "source_id": 1,
                  "target_id": 2,
                  "type": "prereq"
                 }
                ],
                "id": 2,
                "metrics": {
                 "blocking factor": 1,
                 "centrality": 3,
                 "complexity": 4,
                 "delay factor": 3
                },
                "name": "C 2",
                "nameSub": "Course 2"
               }
              ],
              "id": 1,
              "name": "Term 1"
             },
             {
              "curriculum_items": [
               {
                "canonical_name": "",
                "credits": 3,
                "curriculum_requisites": [
                 {
                  "source_id": 2,
                  "target_id": 3,
                  "type": "prereq"
                 },
                 {
                  "source_id": 1,
                  "target_id": 3,
                  "type": "prereq"
                 }
                ],
                "id": 3,
                "metrics": {
                 "blocking factor": 0,
                 "centrality": 0,
                 "complexity": 3,
                 "delay factor": 3
                },
                "name": "AC 1",
                "nameSub": "Additional Course 1"
               },
               {
                "canonical_name": "",
                "credits": 3,
                "curriculum_requisites": [],
                "id": 4,
                "metrics": {
                 "blocking factor": 0,
                 "centrality": 0,
                 "complexity": 1,
                 "delay factor": 1
                },
                "name": "AC 2",
                "nameSub": "Additional Course 2"
               }
              ],
              "id": 2,
              "name": "Term 2"
             }
            ],
            "dp_name": "",
            "institution": "Name of the Institution",
            "name": "Curriculum 1"
           },
           "options": {
            "edit": true,
            "hideTerms": false
           }
          }
         }
        },
        "systemjs_options": null
       },
       "nodeType": "Scope",
       "props": {},
       "type": "node"
      },
      "text/html": [
       "<div\n",
       "    class=\"webio-mountpoint\"\n",
       "    data-webio-mountpoint=\"16533177901467907106\"\n",
       ">\n",
       "    <script>\n",
       "    if (window.require && require.defined && require.defined(\"nbextensions/webio/main\")) {\n",
       "        console.log(\"Jupyter WebIO extension detected, not mounting.\");\n",
       "    } else if (window.WebIO) {\n",
       "        WebIO.mount(\n",
       "            document.querySelector('[data-webio-mountpoint=\"16533177901467907106\"]'),\n",
       "            {\"props\":{},\"nodeType\":\"Scope\",\"type\":\"node\",\"instanceArgs\":{\"imports\":{\"data\":[],\"type\":\"async_block\"},\"id\":\"scope-8322691a-366b-4554-899a-289258ec6391\",\"handlers\":{},\"systemjs_options\":null,\"observables\":{\"curriculum-data\":{\"sync\":true,\"id\":\"ob_04\",\"value\":{\"options\":{\"hideTerms\":false,\"edit\":true},\"curriculum\":{\"name\":\"Curriculum 1\",\"dp_name\":\"\",\"curriculum_terms\":[{\"name\":\"Term 1\",\"curriculum_items\":[{\"curriculum_requisites\":[],\"name\":\"C 1\",\"metrics\":{\"centrality\":0,\"complexity\":5.0,\"blocking factor\":2,\"delay factor\":3.0},\"canonical_name\":\"Course Example 1\",\"nameSub\":\"Course 1\",\"id\":1,\"credits\":3},{\"curriculum_requisites\":[{\"source_id\":1,\"target_id\":2,\"type\":\"prereq\"}],\"name\":\"C 2\",\"metrics\":{\"centrality\":3,\"complexity\":4.0,\"blocking factor\":1,\"delay factor\":3.0},\"canonical_name\":\"Course Example 2\",\"nameSub\":\"Course 2\",\"id\":2,\"credits\":2}],\"id\":1},{\"name\":\"Term 2\",\"curriculum_items\":[{\"curriculum_requisites\":[{\"source_id\":2,\"target_id\":3,\"type\":\"prereq\"},{\"source_id\":1,\"target_id\":3,\"type\":\"prereq\"}],\"name\":\"AC 1\",\"metrics\":{\"centrality\":0,\"complexity\":3.0,\"blocking factor\":0,\"delay factor\":3.0},\"canonical_name\":\"\",\"nameSub\":\"Additional Course 1\",\"id\":3,\"credits\":3},{\"curriculum_requisites\":[],\"name\":\"AC 2\",\"metrics\":{\"centrality\":0,\"complexity\":1.0,\"blocking factor\":0,\"delay factor\":1.0},\"canonical_name\":\"\",\"nameSub\":\"Additional Course 2\",\"id\":4,\"credits\":3}],\"id\":2}],\"institution\":\"Name of the Institution\"}}}}},\"children\":[{\"props\":{\"src\":\"http:\\/\\/localhost:8156\",\"id\":\"curriculum\",\"events\":{\"load\":\"(function (){this.contentWindow.postMessage({\\\"options\\\":{\\\"hideTerms\\\":false,\\\"edit\\\":true},\\\"curriculum\\\":{\\\"name\\\":\\\"Curriculum 1\\\",\\\"dp_name\\\":\\\"\\\",\\\"curriculum_terms\\\":[{\\\"name\\\":\\\"Term 1\\\",\\\"curriculum_items\\\":[{\\\"curriculum_requisites\\\":[],\\\"name\\\":\\\"C 1\\\",\\\"metrics\\\":{\\\"centrality\\\":0,\\\"complexity\\\":5.0,\\\"blocking factor\\\":2,\\\"delay factor\\\":3.0},\\\"canonical_name\\\":\\\"Course Example 1\\\",\\\"nameSub\\\":\\\"Course 1\\\",\\\"id\\\":1,\\\"credits\\\":3},{\\\"curriculum_requisites\\\":[{\\\"source_id\\\":1,\\\"target_id\\\":2,\\\"type\\\":\\\"prereq\\\"}],\\\"name\\\":\\\"C 2\\\",\\\"metrics\\\":{\\\"centrality\\\":3,\\\"complexity\\\":4.0,\\\"blocking factor\\\":1,\\\"delay factor\\\":3.0},\\\"canonical_name\\\":\\\"Course Example 2\\\",\\\"nameSub\\\":\\\"Course 2\\\",\\\"id\\\":2,\\\"credits\\\":2}],\\\"id\\\":1},{\\\"name\\\":\\\"Term 2\\\",\\\"curriculum_items\\\":[{\\\"curriculum_requisites\\\":[{\\\"source_id\\\":2,\\\"target_id\\\":3,\\\"type\\\":\\\"prereq\\\"},{\\\"source_id\\\":1,\\\"target_id\\\":3,\\\"type\\\":\\\"prereq\\\"}],\\\"name\\\":\\\"AC 1\\\",\\\"metrics\\\":{\\\"centrality\\\":0,\\\"complexity\\\":3.0,\\\"blocking factor\\\":0,\\\"delay factor\\\":3.0},\\\"canonical_name\\\":\\\"\\\",\\\"nameSub\\\":\\\"Additional Course 1\\\",\\\"id\\\":3,\\\"credits\\\":3},{\\\"curriculum_requisites\\\":[],\\\"name\\\":\\\"AC 2\\\",\\\"metrics\\\":{\\\"centrality\\\":0,\\\"complexity\\\":1.0,\\\"blocking factor\\\":0,\\\"delay factor\\\":1.0},\\\"canonical_name\\\":\\\"\\\",\\\"nameSub\\\":\\\"Additional Course 2\\\",\\\"id\\\":4,\\\"credits\\\":3}],\\\"id\\\":2}],\\\"institution\\\":\\\"Name of the Institution\\\"}},\\\"*\\\"); window.removeEventListener(\\\"message\\\",window.messageReceived); window.messageReceived=(function (event){return (event.data.curriculum!==undefined) ? (_webIOScope.setObservableValue({\\\"name\\\":\\\"curriculum-data\\\",\\\"scope\\\":\\\"scope-8322691a-366b-4554-899a-289258ec6391\\\",\\\"id\\\":\\\"ob_04\\\",\\\"type\\\":\\\"observable\\\"},event.data.curriculum)) : undefined}); return window.addEventListener(\\\"message\\\",window.messageReceived)})\"},\"style\":{\"padding\":\"0\",\"height\":\"100vh\",\"margin\":\"0\",\"border\":\"none\",\"width\":\"100%\"}},\"nodeType\":\"DOM\",\"type\":\"node\",\"instanceArgs\":{\"namespace\":\"html\",\"tag\":\"iframe\"},\"children\":[\"\"]}]},\n",
       "        );\n",
       "    } else {\n",
       "        document\n",
       "            .querySelector('[data-webio-mountpoint=\"16533177901467907106\"]')\n",
       "            .innerHTML = '<strong>WebIO not detected.</strong>';\n",
       "    }\n",
       "    </script>\n",
       "</div>\n"
      ],
      "text/plain": [
       "WebIO.Scope(\"scope-8322691a-366b-4554-899a-289258ec6391\", WebIO.Node{WebIO.DOM}(WebIO.DOM(:html, :iframe), Any[\"\"], Dict{Symbol,Any}(:src=>\"http://localhost:8156\",:id=>\"curriculum\",:events=>Dict(:load=>JSString(\"(function (){this.contentWindow.postMessage({\\\"options\\\":{\\\"hideTerms\\\":false,\\\"edit\\\":true},\\\"curriculum\\\":{\\\"name\\\":\\\"Curriculum 1\\\",\\\"dp_name\\\":\\\"\\\",\\\"curriculum_terms\\\":[{\\\"name\\\":\\\"Term 1\\\",\\\"curriculum_items\\\":[{\\\"curriculum_requisites\\\":[],\\\"name\\\":\\\"C 1\\\",\\\"metrics\\\":{\\\"centrality\\\":0,\\\"complexity\\\":5.0,\\\"blocking factor\\\":2,\\\"delay factor\\\":3.0},\\\"canonical_name\\\":\\\"Course Example 1\\\",\\\"nameSub\\\":\\\"Course 1\\\",\\\"id\\\":1,\\\"credits\\\":3},{\\\"curriculum_requisites\\\":[{\\\"source_id\\\":1,\\\"target_id\\\":2,\\\"type\\\":\\\"prereq\\\"}],\\\"name\\\":\\\"C 2\\\",\\\"metrics\\\":{\\\"centrality\\\":3,\\\"complexity\\\":4.0,\\\"blocking factor\\\":1,\\\"delay factor\\\":3.0},\\\"canonical_name\\\":\\\"Course Example 2\\\",\\\"nameSub\\\":\\\"Course 2\\\",\\\"id\\\":2,\\\"credits\\\":2}],\\\"id\\\":1},{\\\"name\\\":\\\"Term 2\\\",\\\"curriculum_items\\\":[{\\\"curriculum_requisites\\\":[{\\\"source_id\\\":2,\\\"target_id\\\":3,\\\"type\\\":\\\"prereq\\\"},{\\\"source_id\\\":1,\\\"target_id\\\":3,\\\"type\\\":\\\"prereq\\\"}],\\\"name\\\":\\\"AC 1\\\",\\\"metrics\\\":{\\\"centrality\\\":0,\\\"complexity\\\":3.0,\\\"blocking factor\\\":0,\\\"delay factor\\\":3.0},\\\"canonical_name\\\":\\\"\\\",\\\"nameSub\\\":\\\"Additional Course 1\\\",\\\"id\\\":3,\\\"credits\\\":3},{\\\"curriculum_requisites\\\":[],\\\"name\\\":\\\"AC 2\\\",\\\"metrics\\\":{\\\"centrality\\\":0,\\\"complexity\\\":1.0,\\\"blocking factor\\\":0,\\\"delay factor\\\":1.0},\\\"canonical_name\\\":\\\"\\\",\\\"nameSub\\\":\\\"Additional Course 2\\\",\\\"id\\\":4,\\\"credits\\\":3}],\\\"id\\\":2}],\\\"institution\\\":\\\"Name of the Institution\\\"}},\\\"*\\\"); window.removeEventListener(\\\"message\\\",window.messageReceived); window.messageReceived=(function (event){return (event.data.curriculum!==undefined) ? (_webIOScope.setObservableValue({\\\"name\\\":\\\"curriculum-data\\\",\\\"scope\\\":\\\"scope-8322691a-366b-4554-899a-289258ec6391\\\",\\\"id\\\":\\\"ob_04\\\",\\\"type\\\":\\\"observable\\\"},event.data.curriculum)) : undefined}); return window.addEventListener(\\\"message\\\",window.messageReceived)})\")),:style=>Dict(:padding=>\"0\",:height=>\"100vh\",:margin=>\"0\",:border=>\"none\",:width=>\"100%\")), 1), Dict{String,Tuple{Observables.AbstractObservable,Union{Nothing, Bool}}}(\"curriculum-data\"=>(Observable{Dict{String,Any}} with 1 listeners. Value:\n",
       "Dict{String,Any}(\"options\"=>Dict{String,Any}(\"hideTerms\"=>false,\"edit\"=>true),\"curriculum\"=>Dict{String,Any}(\"name\"=>\"Curriculum 1\",\"dp_name\"=>\"\",\"curriculum_terms\"=>Dict{String,Any}[Dict(\"name\"=>\"Term 1\",\"curriculum_items\"=>Dict{String,Any}[Dict(\"curriculum_requisites\"=>Dict{String,Any}[],\"name\"=>\"C 1\",\"metrics\"=>Dict{String,Any}(\"centrality\"=>0,\"complexity\"=>5.0,\"blocking factor\"=>2,\"delay factor\"=>3.0),\"canonical_name\"=>\"Course Example 1\",\"nameSub\"=>\"Course 1\",\"id\"=>1,\"credits\"=>3), Dict(\"curriculum_requisites\"=>Dict{String,Any}[Dict(\"source_id\"=>1,\"target_id\"=>2,\"type\"=>\"prereq\")],\"name\"=>\"C 2\",\"metrics\"=>Dict{String,Any}(\"centrality\"=>3,\"complexity\"=>4.0,\"blocking factor\"=>1,\"delay factor\"=>3.0),\"canonical_name\"=>\"Course Example 2\",\"nameSub\"=>\"Course 2\",\"id\"=>2,\"credits\"=>2)],\"id\"=>1), Dict(\"name\"=>\"Term 2\",\"curriculum_items\"=>Dict{String,Any}[Dict(\"curriculum_requisites\"=>Dict{String,Any}[Dict(\"source_id\"=>2,\"target_id\"=>3,\"type\"=>\"prereq\"), Dict(\"source_id\"=>1,\"target_id\"=>3,\"type\"=>\"prereq\")],\"name\"=>\"AC 1\",\"metrics\"=>Dict{String,Any}(\"centrality\"=>0,\"complexity\"=>3.0,\"blocking factor\"=>0,\"delay factor\"=>3.0),\"canonical_name\"=>\"\",\"nameSub\"=>\"Additional Course 1\",\"id\"=>3,\"credits\"=>3), Dict(\"curriculum_requisites\"=>Dict{String,Any}[],\"name\"=>\"AC 2\",\"metrics\"=>Dict{String,Any}(\"centrality\"=>0,\"complexity\"=>1.0,\"blocking factor\"=>0,\"delay factor\"=>1.0),\"canonical_name\"=>\"\",\"nameSub\"=>\"Additional Course 2\",\"id\"=>4,\"credits\"=>3)],\"id\"=>2)],\"institution\"=>\"Name of the Institution\")), nothing)), Set(String[]), nothing, Any[], Dict{Any,Any}(), WebIO.ConnectionPool(Channel{Any}(sz_max:9223372036854775807,sz_curr:0), Set(WebIO.AbstractConnection[]), Channel{WebIO.AbstractConnection}(sz_max:32,sz_curr:0)))"
      ]
     },
     "execution_count": 8,
     "metadata": {
      "application/vnd.webio.node+json": {
       "kernelId": "046fb20c-4d69-4c7d-a63f-9cb12e0d9101"
      }
     },
     "output_type": "execute_result"
    }
   ],
   "source": [
    "out = read_csv_new(\"examples\\\\template.csv\")\n",
    "#write_csv(out)\n",
    "visualize(out, changed=update_plan , edit=true, notebook=true)"
   ]
  },
  {
   "cell_type": "code",
   "execution_count": 9,
   "metadata": {},
   "outputs": [
    {
     "data": {
      "application/vnd.webio.node+json": {
       "children": [
        {
         "children": [
          ""
         ],
         "instanceArgs": {
          "namespace": "html",
          "tag": "iframe"
         },
         "nodeType": "DOM",
         "props": {
          "events": {
           "load": "(function (){this.contentWindow.postMessage({\"options\":{\"hideTerms\":false,\"edit\":true},\"curriculum\":{\"name\":\"Underwater Basket Weaving\",\"dp_name\":\"2-year plan\",\"curriculum_terms\":[{\"name\":\"Term 1\",\"curriculum_items\":[{\"curriculum_requisites\":[],\"name\":\"BW 101\",\"metrics\":{},\"canonical_name\":\"Baskets I\",\"nameSub\":\"Introduction to Baskets\",\"id\":1,\"credits\":3},{\"curriculum_requisites\":[],\"name\":\"PE 115\",\"metrics\":{},\"canonical_name\":\"Physical Education\",\"nameSub\":\"Swimming\",\"id\":2,\"credits\":3},{\"curriculum_requisites\":[],\"name\":\"MA 116\",\"metrics\":{},\"canonical_name\":\"Calculus I\",\"nameSub\":\"Introductory Calculus w/ Applications\",\"id\":3,\"credits\":4}],\"id\":1},{\"name\":\"Term 2\",\"curriculum_items\":[{\"curriculum_requisites\":[{\"source_id\":5,\"target_id\":4,\"type\":\"strict-coreq\"},{\"source_id\":1,\"target_id\":4,\"type\":\"prereq\"}],\"name\":\"BW 111\",\"metrics\":{},\"canonical_name\":\"Baskets II\",\"nameSub\":\"Basic Basket Forms\",\"id\":4,\"credits\":3},{\"curriculum_requisites\":[],\"name\":\"BW 111L\",\"metrics\":{},\"canonical_name\":\"Baskets II Laboratory\",\"nameSub\":\"Basic Basket Forms Lab\",\"id\":5,\"credits\":1},{\"curriculum_requisites\":[{\"source_id\":4,\"target_id\":6,\"type\":\"prereq\"},{\"source_id\":3,\"target_id\":6,\"type\":\"prereq\"},{\"source_id\":5,\"target_id\":6,\"type\":\"prereq\"}],\"name\":\"BW 201\",\"metrics\":{},\"canonical_name\":\"Baskets III\",\"nameSub\":\"Advanced Basketry\",\"id\":6,\"credits\":3},{\"curriculum_requisites\":[],\"name\":\" \",\"metrics\":{},\"canonical_name\":\"Humanitites Core\",\"nameSub\":\"Humanitites Elective\",\"id\":9,\"credits\":3}],\"id\":2},{\"name\":\"Term 3\",\"curriculum_items\":[{\"curriculum_requisites\":[{\"source_id\":1,\"target_id\":7,\"type\":\"prereq\"}],\"name\":\"BW 214\",\"metrics\":{},\"canonical_name\":\"Basket Materials\",\"nameSub\":\"Basket Materials & Decoration\",\"id\":7,\"credits\":3},{\"curriculum_requisites\":[{\"source_id\":7,\"target_id\":8,\"type\":\"prereq\"},{\"source_id\":2,\"target_id\":8,\"type\":\"prereq\"}],\"name\":\"BW 301\",\"metrics\":{},\"canonical_name\":\"Baskets IV\",\"nameSub\":\"Underwater Weaving\",\"id\":8,\"credits\":3},{\"curriculum_requisites\":[],\"name\":\" \",\"metrics\":{},\"canonical_name\":\"\",\"nameSub\":\"Social Sciences Elective\",\"id\":10,\"credits\":3}],\"id\":3},{\"name\":\"Term 4\",\"curriculum_items\":[{\"curriculum_requisites\":[],\"name\":\" \",\"metrics\":{},\"canonical_name\":\"\",\"nameSub\":\"Technical Elective\",\"id\":11,\"credits\":3},{\"curriculum_requisites\":[],\"name\":\" \",\"metrics\":{},\"canonical_name\":\"\",\"nameSub\":\"General Elective\",\"id\":12,\"credits\":3}],\"id\":4}],\"institution\":\"ACME State University\"}},\"*\"); window.removeEventListener(\"message\",window.messageReceived); window.messageReceived=(function (event){return (event.data.curriculum!==undefined) ? (_webIOScope.setObservableValue({\"name\":\"curriculum-data\",\"scope\":\"scope-9ba592d1-8008-4aac-9990-66a40823eb42\",\"id\":\"ob_05\",\"type\":\"observable\"},event.data.curriculum)) : undefined}); return window.addEventListener(\"message\",window.messageReceived)})"
          },
          "id": "curriculum",
          "src": "http://localhost:8156",
          "style": {
           "border": "none",
           "height": "100vh",
           "margin": "0",
           "padding": "0",
           "width": "100%"
          }
         },
         "type": "node"
        }
       ],
       "instanceArgs": {
        "handlers": {},
        "id": "scope-9ba592d1-8008-4aac-9990-66a40823eb42",
        "imports": {
         "data": [],
         "type": "async_block"
        },
        "observables": {
         "curriculum-data": {
          "id": "ob_05",
          "sync": true,
          "value": {
           "curriculum": {
            "curriculum_terms": [
             {
              "curriculum_items": [
               {
                "canonical_name": "Baskets I",
                "credits": 3,
                "curriculum_requisites": [],
                "id": 1,
                "metrics": {},
                "name": "BW 101",
                "nameSub": "Introduction to Baskets"
               },
               {
                "canonical_name": "Physical Education",
                "credits": 3,
                "curriculum_requisites": [],
                "id": 2,
                "metrics": {},
                "name": "PE 115",
                "nameSub": "Swimming"
               },
               {
                "canonical_name": "Calculus I",
                "credits": 4,
                "curriculum_requisites": [],
                "id": 3,
                "metrics": {},
                "name": "MA 116",
                "nameSub": "Introductory Calculus w/ Applications"
               }
              ],
              "id": 1,
              "name": "Term 1"
             },
             {
              "curriculum_items": [
               {
                "canonical_name": "Baskets II",
                "credits": 3,
                "curriculum_requisites": [
                 {
                  "source_id": 5,
                  "target_id": 4,
                  "type": "strict-coreq"
                 },
                 {
                  "source_id": 1,
                  "target_id": 4,
                  "type": "prereq"
                 }
                ],
                "id": 4,
                "metrics": {},
                "name": "BW 111",
                "nameSub": "Basic Basket Forms"
               },
               {
                "canonical_name": "Baskets II Laboratory",
                "credits": 1,
                "curriculum_requisites": [],
                "id": 5,
                "metrics": {},
                "name": "BW 111L",
                "nameSub": "Basic Basket Forms Lab"
               },
               {
                "canonical_name": "Baskets III",
                "credits": 3,
                "curriculum_requisites": [
                 {
                  "source_id": 4,
                  "target_id": 6,
                  "type": "prereq"
                 },
                 {
                  "source_id": 3,
                  "target_id": 6,
                  "type": "prereq"
                 },
                 {
                  "source_id": 5,
                  "target_id": 6,
                  "type": "prereq"
                 }
                ],
                "id": 6,
                "metrics": {},
                "name": "BW 201",
                "nameSub": "Advanced Basketry"
               },
               {
                "canonical_name": "Humanitites Core",
                "credits": 3,
                "curriculum_requisites": [],
                "id": 9,
                "metrics": {},
                "name": " ",
                "nameSub": "Humanitites Elective"
               }
              ],
              "id": 2,
              "name": "Term 2"
             },
             {
              "curriculum_items": [
               {
                "canonical_name": "Basket Materials",
                "credits": 3,
                "curriculum_requisites": [
                 {
                  "source_id": 1,
                  "target_id": 7,
                  "type": "prereq"
                 }
                ],
                "id": 7,
                "metrics": {},
                "name": "BW 214",
                "nameSub": "Basket Materials & Decoration"
               },
               {
                "canonical_name": "Baskets IV",
                "credits": 3,
                "curriculum_requisites": [
                 {
                  "source_id": 7,
                  "target_id": 8,
                  "type": "prereq"
                 },
                 {
                  "source_id": 2,
                  "target_id": 8,
                  "type": "prereq"
                 }
                ],
                "id": 8,
                "metrics": {},
                "name": "BW 301",
                "nameSub": "Underwater Weaving"
               },
               {
                "canonical_name": "",
                "credits": 3,
                "curriculum_requisites": [],
                "id": 10,
                "metrics": {},
                "name": " ",
                "nameSub": "Social Sciences Elective"
               }
              ],
              "id": 3,
              "name": "Term 3"
             },
             {
              "curriculum_items": [
               {
                "canonical_name": "",
                "credits": 3,
                "curriculum_requisites": [],
                "id": 11,
                "metrics": {},
                "name": " ",
                "nameSub": "Technical Elective"
               },
               {
                "canonical_name": "",
                "credits": 3,
                "curriculum_requisites": [],
                "id": 12,
                "metrics": {},
                "name": " ",
                "nameSub": "General Elective"
               }
              ],
              "id": 4,
              "name": "Term 4"
             }
            ],
            "dp_name": "2-year plan",
            "institution": "ACME State University",
            "name": "Underwater Basket Weaving"
           },
           "options": {
            "edit": true,
            "hideTerms": false
           }
          }
         }
        },
        "systemjs_options": null
       },
       "nodeType": "Scope",
       "props": {},
       "type": "node"
      },
      "text/html": [
       "<div\n",
       "    class=\"webio-mountpoint\"\n",
       "    data-webio-mountpoint=\"13157547497211209366\"\n",
       ">\n",
       "    <script>\n",
       "    if (window.require && require.defined && require.defined(\"nbextensions/webio/main\")) {\n",
       "        console.log(\"Jupyter WebIO extension detected, not mounting.\");\n",
       "    } else if (window.WebIO) {\n",
       "        WebIO.mount(\n",
       "            document.querySelector('[data-webio-mountpoint=\"13157547497211209366\"]'),\n",
       "            {\"props\":{},\"nodeType\":\"Scope\",\"type\":\"node\",\"instanceArgs\":{\"imports\":{\"data\":[],\"type\":\"async_block\"},\"id\":\"scope-9ba592d1-8008-4aac-9990-66a40823eb42\",\"handlers\":{},\"systemjs_options\":null,\"observables\":{\"curriculum-data\":{\"sync\":true,\"id\":\"ob_05\",\"value\":{\"options\":{\"hideTerms\":false,\"edit\":true},\"curriculum\":{\"name\":\"Underwater Basket Weaving\",\"dp_name\":\"2-year plan\",\"curriculum_terms\":[{\"name\":\"Term 1\",\"curriculum_items\":[{\"curriculum_requisites\":[],\"name\":\"BW 101\",\"metrics\":{},\"canonical_name\":\"Baskets I\",\"nameSub\":\"Introduction to Baskets\",\"id\":1,\"credits\":3},{\"curriculum_requisites\":[],\"name\":\"PE 115\",\"metrics\":{},\"canonical_name\":\"Physical Education\",\"nameSub\":\"Swimming\",\"id\":2,\"credits\":3},{\"curriculum_requisites\":[],\"name\":\"MA 116\",\"metrics\":{},\"canonical_name\":\"Calculus I\",\"nameSub\":\"Introductory Calculus w\\/ Applications\",\"id\":3,\"credits\":4}],\"id\":1},{\"name\":\"Term 2\",\"curriculum_items\":[{\"curriculum_requisites\":[{\"source_id\":5,\"target_id\":4,\"type\":\"strict-coreq\"},{\"source_id\":1,\"target_id\":4,\"type\":\"prereq\"}],\"name\":\"BW 111\",\"metrics\":{},\"canonical_name\":\"Baskets II\",\"nameSub\":\"Basic Basket Forms\",\"id\":4,\"credits\":3},{\"curriculum_requisites\":[],\"name\":\"BW 111L\",\"metrics\":{},\"canonical_name\":\"Baskets II Laboratory\",\"nameSub\":\"Basic Basket Forms Lab\",\"id\":5,\"credits\":1},{\"curriculum_requisites\":[{\"source_id\":4,\"target_id\":6,\"type\":\"prereq\"},{\"source_id\":3,\"target_id\":6,\"type\":\"prereq\"},{\"source_id\":5,\"target_id\":6,\"type\":\"prereq\"}],\"name\":\"BW 201\",\"metrics\":{},\"canonical_name\":\"Baskets III\",\"nameSub\":\"Advanced Basketry\",\"id\":6,\"credits\":3},{\"curriculum_requisites\":[],\"name\":\" \",\"metrics\":{},\"canonical_name\":\"Humanitites Core\",\"nameSub\":\"Humanitites Elective\",\"id\":9,\"credits\":3}],\"id\":2},{\"name\":\"Term 3\",\"curriculum_items\":[{\"curriculum_requisites\":[{\"source_id\":1,\"target_id\":7,\"type\":\"prereq\"}],\"name\":\"BW 214\",\"metrics\":{},\"canonical_name\":\"Basket Materials\",\"nameSub\":\"Basket Materials & Decoration\",\"id\":7,\"credits\":3},{\"curriculum_requisites\":[{\"source_id\":7,\"target_id\":8,\"type\":\"prereq\"},{\"source_id\":2,\"target_id\":8,\"type\":\"prereq\"}],\"name\":\"BW 301\",\"metrics\":{},\"canonical_name\":\"Baskets IV\",\"nameSub\":\"Underwater Weaving\",\"id\":8,\"credits\":3},{\"curriculum_requisites\":[],\"name\":\" \",\"metrics\":{},\"canonical_name\":\"\",\"nameSub\":\"Social Sciences Elective\",\"id\":10,\"credits\":3}],\"id\":3},{\"name\":\"Term 4\",\"curriculum_items\":[{\"curriculum_requisites\":[],\"name\":\" \",\"metrics\":{},\"canonical_name\":\"\",\"nameSub\":\"Technical Elective\",\"id\":11,\"credits\":3},{\"curriculum_requisites\":[],\"name\":\" \",\"metrics\":{},\"canonical_name\":\"\",\"nameSub\":\"General Elective\",\"id\":12,\"credits\":3}],\"id\":4}],\"institution\":\"ACME State University\"}}}}},\"children\":[{\"props\":{\"src\":\"http:\\/\\/localhost:8156\",\"id\":\"curriculum\",\"events\":{\"load\":\"(function (){this.contentWindow.postMessage({\\\"options\\\":{\\\"hideTerms\\\":false,\\\"edit\\\":true},\\\"curriculum\\\":{\\\"name\\\":\\\"Underwater Basket Weaving\\\",\\\"dp_name\\\":\\\"2-year plan\\\",\\\"curriculum_terms\\\":[{\\\"name\\\":\\\"Term 1\\\",\\\"curriculum_items\\\":[{\\\"curriculum_requisites\\\":[],\\\"name\\\":\\\"BW 101\\\",\\\"metrics\\\":{},\\\"canonical_name\\\":\\\"Baskets I\\\",\\\"nameSub\\\":\\\"Introduction to Baskets\\\",\\\"id\\\":1,\\\"credits\\\":3},{\\\"curriculum_requisites\\\":[],\\\"name\\\":\\\"PE 115\\\",\\\"metrics\\\":{},\\\"canonical_name\\\":\\\"Physical Education\\\",\\\"nameSub\\\":\\\"Swimming\\\",\\\"id\\\":2,\\\"credits\\\":3},{\\\"curriculum_requisites\\\":[],\\\"name\\\":\\\"MA 116\\\",\\\"metrics\\\":{},\\\"canonical_name\\\":\\\"Calculus I\\\",\\\"nameSub\\\":\\\"Introductory Calculus w\\/ Applications\\\",\\\"id\\\":3,\\\"credits\\\":4}],\\\"id\\\":1},{\\\"name\\\":\\\"Term 2\\\",\\\"curriculum_items\\\":[{\\\"curriculum_requisites\\\":[{\\\"source_id\\\":5,\\\"target_id\\\":4,\\\"type\\\":\\\"strict-coreq\\\"},{\\\"source_id\\\":1,\\\"target_id\\\":4,\\\"type\\\":\\\"prereq\\\"}],\\\"name\\\":\\\"BW 111\\\",\\\"metrics\\\":{},\\\"canonical_name\\\":\\\"Baskets II\\\",\\\"nameSub\\\":\\\"Basic Basket Forms\\\",\\\"id\\\":4,\\\"credits\\\":3},{\\\"curriculum_requisites\\\":[],\\\"name\\\":\\\"BW 111L\\\",\\\"metrics\\\":{},\\\"canonical_name\\\":\\\"Baskets II Laboratory\\\",\\\"nameSub\\\":\\\"Basic Basket Forms Lab\\\",\\\"id\\\":5,\\\"credits\\\":1},{\\\"curriculum_requisites\\\":[{\\\"source_id\\\":4,\\\"target_id\\\":6,\\\"type\\\":\\\"prereq\\\"},{\\\"source_id\\\":3,\\\"target_id\\\":6,\\\"type\\\":\\\"prereq\\\"},{\\\"source_id\\\":5,\\\"target_id\\\":6,\\\"type\\\":\\\"prereq\\\"}],\\\"name\\\":\\\"BW 201\\\",\\\"metrics\\\":{},\\\"canonical_name\\\":\\\"Baskets III\\\",\\\"nameSub\\\":\\\"Advanced Basketry\\\",\\\"id\\\":6,\\\"credits\\\":3},{\\\"curriculum_requisites\\\":[],\\\"name\\\":\\\" \\\",\\\"metrics\\\":{},\\\"canonical_name\\\":\\\"Humanitites Core\\\",\\\"nameSub\\\":\\\"Humanitites Elective\\\",\\\"id\\\":9,\\\"credits\\\":3}],\\\"id\\\":2},{\\\"name\\\":\\\"Term 3\\\",\\\"curriculum_items\\\":[{\\\"curriculum_requisites\\\":[{\\\"source_id\\\":1,\\\"target_id\\\":7,\\\"type\\\":\\\"prereq\\\"}],\\\"name\\\":\\\"BW 214\\\",\\\"metrics\\\":{},\\\"canonical_name\\\":\\\"Basket Materials\\\",\\\"nameSub\\\":\\\"Basket Materials & Decoration\\\",\\\"id\\\":7,\\\"credits\\\":3},{\\\"curriculum_requisites\\\":[{\\\"source_id\\\":7,\\\"target_id\\\":8,\\\"type\\\":\\\"prereq\\\"},{\\\"source_id\\\":2,\\\"target_id\\\":8,\\\"type\\\":\\\"prereq\\\"}],\\\"name\\\":\\\"BW 301\\\",\\\"metrics\\\":{},\\\"canonical_name\\\":\\\"Baskets IV\\\",\\\"nameSub\\\":\\\"Underwater Weaving\\\",\\\"id\\\":8,\\\"credits\\\":3},{\\\"curriculum_requisites\\\":[],\\\"name\\\":\\\" \\\",\\\"metrics\\\":{},\\\"canonical_name\\\":\\\"\\\",\\\"nameSub\\\":\\\"Social Sciences Elective\\\",\\\"id\\\":10,\\\"credits\\\":3}],\\\"id\\\":3},{\\\"name\\\":\\\"Term 4\\\",\\\"curriculum_items\\\":[{\\\"curriculum_requisites\\\":[],\\\"name\\\":\\\" \\\",\\\"metrics\\\":{},\\\"canonical_name\\\":\\\"\\\",\\\"nameSub\\\":\\\"Technical Elective\\\",\\\"id\\\":11,\\\"credits\\\":3},{\\\"curriculum_requisites\\\":[],\\\"name\\\":\\\" \\\",\\\"metrics\\\":{},\\\"canonical_name\\\":\\\"\\\",\\\"nameSub\\\":\\\"General Elective\\\",\\\"id\\\":12,\\\"credits\\\":3}],\\\"id\\\":4}],\\\"institution\\\":\\\"ACME State University\\\"}},\\\"*\\\"); window.removeEventListener(\\\"message\\\",window.messageReceived); window.messageReceived=(function (event){return (event.data.curriculum!==undefined) ? (_webIOScope.setObservableValue({\\\"name\\\":\\\"curriculum-data\\\",\\\"scope\\\":\\\"scope-9ba592d1-8008-4aac-9990-66a40823eb42\\\",\\\"id\\\":\\\"ob_05\\\",\\\"type\\\":\\\"observable\\\"},event.data.curriculum)) : undefined}); return window.addEventListener(\\\"message\\\",window.messageReceived)})\"},\"style\":{\"padding\":\"0\",\"height\":\"100vh\",\"margin\":\"0\",\"border\":\"none\",\"width\":\"100%\"}},\"nodeType\":\"DOM\",\"type\":\"node\",\"instanceArgs\":{\"namespace\":\"html\",\"tag\":\"iframe\"},\"children\":[\"\"]}]},\n",
       "        );\n",
       "    } else {\n",
       "        document\n",
       "            .querySelector('[data-webio-mountpoint=\"13157547497211209366\"]')\n",
       "            .innerHTML = '<strong>WebIO not detected.</strong>';\n",
       "    }\n",
       "    </script>\n",
       "</div>\n"
      ],
      "text/plain": [
       "WebIO.Scope(\"scope-9ba592d1-8008-4aac-9990-66a40823eb42\", WebIO.Node{WebIO.DOM}(WebIO.DOM(:html, :iframe), Any[\"\"], Dict{Symbol,Any}(:src=>\"http://localhost:8156\",:id=>\"curriculum\",:events=>Dict(:load=>JSString(\"(function (){this.contentWindow.postMessage({\\\"options\\\":{\\\"hideTerms\\\":false,\\\"edit\\\":true},\\\"curriculum\\\":{\\\"name\\\":\\\"Underwater Basket Weaving\\\",\\\"dp_name\\\":\\\"2-year plan\\\",\\\"curriculum_terms\\\":[{\\\"name\\\":\\\"Term 1\\\",\\\"curriculum_items\\\":[{\\\"curriculum_requisites\\\":[],\\\"name\\\":\\\"BW 101\\\",\\\"metrics\\\":{},\\\"canonical_name\\\":\\\"Baskets I\\\",\\\"nameSub\\\":\\\"Introduction to Baskets\\\",\\\"id\\\":1,\\\"credits\\\":3},{\\\"curriculum_requisites\\\":[],\\\"name\\\":\\\"PE 115\\\",\\\"metrics\\\":{},\\\"canonical_name\\\":\\\"Physical Education\\\",\\\"nameSub\\\":\\\"Swimming\\\",\\\"id\\\":2,\\\"credits\\\":3},{\\\"curriculum_requisites\\\":[],\\\"name\\\":\\\"MA 116\\\",\\\"metrics\\\":{},\\\"canonical_name\\\":\\\"Calculus I\\\",\\\"nameSub\\\":\\\"Introductory Calculus w/ Applications\\\",\\\"id\\\":3,\\\"credits\\\":4}],\\\"id\\\":1},{\\\"name\\\":\\\"Term 2\\\",\\\"curriculum_items\\\":[{\\\"curriculum_requisites\\\":[{\\\"source_id\\\":5,\\\"target_id\\\":4,\\\"type\\\":\\\"strict-coreq\\\"},{\\\"source_id\\\":1,\\\"target_id\\\":4,\\\"type\\\":\\\"prereq\\\"}],\\\"name\\\":\\\"BW 111\\\",\\\"metrics\\\":{},\\\"canonical_name\\\":\\\"Baskets II\\\",\\\"nameSub\\\":\\\"Basic Basket Forms\\\",\\\"id\\\":4,\\\"credits\\\":3},{\\\"curriculum_requisites\\\":[],\\\"name\\\":\\\"BW 111L\\\",\\\"metrics\\\":{},\\\"canonical_name\\\":\\\"Baskets II Laboratory\\\",\\\"nameSub\\\":\\\"Basic Basket Forms Lab\\\",\\\"id\\\":5,\\\"credits\\\":1},{\\\"curriculum_requisites\\\":[{\\\"source_id\\\":4,\\\"target_id\\\":6,\\\"type\\\":\\\"prereq\\\"},{\\\"source_id\\\":3,\\\"target_id\\\":6,\\\"type\\\":\\\"prereq\\\"},{\\\"source_id\\\":5,\\\"target_id\\\":6,\\\"type\\\":\\\"prereq\\\"}],\\\"name\\\":\\\"BW 201\\\",\\\"metrics\\\":{},\\\"canonical_name\\\":\\\"Baskets III\\\",\\\"nameSub\\\":\\\"Advanced Basketry\\\",\\\"id\\\":6,\\\"credits\\\":3},{\\\"curriculum_requisites\\\":[],\\\"name\\\":\\\" \\\",\\\"metrics\\\":{},\\\"canonical_name\\\":\\\"Humanitites Core\\\",\\\"nameSub\\\":\\\"Humanitites Elective\\\",\\\"id\\\":9,\\\"credits\\\":3}],\\\"id\\\":2},{\\\"name\\\":\\\"Term 3\\\",\\\"curriculum_items\\\":[{\\\"curriculum_requisites\\\":[{\\\"source_id\\\":1,\\\"target_id\\\":7,\\\"type\\\":\\\"prereq\\\"}],\\\"name\\\":\\\"BW 214\\\",\\\"metrics\\\":{},\\\"canonical_name\\\":\\\"Basket Materials\\\",\\\"nameSub\\\":\\\"Basket Materials & Decoration\\\",\\\"id\\\":7,\\\"credits\\\":3},{\\\"curriculum_requisites\\\":[{\\\"source_id\\\":7,\\\"target_id\\\":8,\\\"type\\\":\\\"prereq\\\"},{\\\"source_id\\\":2,\\\"target_id\\\":8,\\\"type\\\":\\\"prereq\\\"}],\\\"name\\\":\\\"BW 301\\\",\\\"metrics\\\":{},\\\"canonical_name\\\":\\\"Baskets IV\\\",\\\"nameSub\\\":\\\"Underwater Weaving\\\",\\\"id\\\":8,\\\"credits\\\":3},{\\\"curriculum_requisites\\\":[],\\\"name\\\":\\\" \\\",\\\"metrics\\\":{},\\\"canonical_name\\\":\\\"\\\",\\\"nameSub\\\":\\\"Social Sciences Elective\\\",\\\"id\\\":10,\\\"credits\\\":3}],\\\"id\\\":3},{\\\"name\\\":\\\"Term 4\\\",\\\"curriculum_items\\\":[{\\\"curriculum_requisites\\\":[],\\\"name\\\":\\\" \\\",\\\"metrics\\\":{},\\\"canonical_name\\\":\\\"\\\",\\\"nameSub\\\":\\\"Technical Elective\\\",\\\"id\\\":11,\\\"credits\\\":3},{\\\"curriculum_requisites\\\":[],\\\"name\\\":\\\" \\\",\\\"metrics\\\":{},\\\"canonical_name\\\":\\\"\\\",\\\"nameSub\\\":\\\"General Elective\\\",\\\"id\\\":12,\\\"credits\\\":3}],\\\"id\\\":4}],\\\"institution\\\":\\\"ACME State University\\\"}},\\\"*\\\"); window.removeEventListener(\\\"message\\\",window.messageReceived); window.messageReceived=(function (event){return (event.data.curriculum!==undefined) ? (_webIOScope.setObservableValue({\\\"name\\\":\\\"curriculum-data\\\",\\\"scope\\\":\\\"scope-9ba592d1-8008-4aac-9990-66a40823eb42\\\",\\\"id\\\":\\\"ob_05\\\",\\\"type\\\":\\\"observable\\\"},event.data.curriculum)) : undefined}); return window.addEventListener(\\\"message\\\",window.messageReceived)})\")),:style=>Dict(:padding=>\"0\",:height=>\"100vh\",:margin=>\"0\",:border=>\"none\",:width=>\"100%\")), 1), Dict{String,Tuple{Observables.AbstractObservable,Union{Nothing, Bool}}}(\"curriculum-data\"=>(Observable{Dict{String,Any}} with 1 listeners. Value:\n",
       "Dict{String,Any}(\"options\"=>Dict{String,Any}(\"hideTerms\"=>false,\"edit\"=>true),\"curriculum\"=>Dict{String,Any}(\"name\"=>\"Underwater Basket Weaving\",\"dp_name\"=>\"2-year plan\",\"curriculum_terms\"=>Dict{String,Any}[Dict(\"name\"=>\"Term 1\",\"curriculum_items\"=>Dict{String,Any}[Dict(\"curriculum_requisites\"=>Dict{String,Any}[],\"name\"=>\"BW 101\",\"metrics\"=>Dict{String,Any}(),\"canonical_name\"=>\"Baskets I\",\"nameSub\"=>\"Introduction to Baskets\",\"id\"=>1,\"credits\"=>3), Dict(\"curriculum_requisites\"=>Dict{String,Any}[],\"name\"=>\"PE 115\",\"metrics\"=>Dict{String,Any}(),\"canonical_name\"=>\"Physical Education\",\"nameSub\"=>\"Swimming\",\"id\"=>2,\"credits\"=>3), Dict(\"curriculum_requisites\"=>Dict{String,Any}[],\"name\"=>\"MA 116\",\"metrics\"=>Dict{String,Any}(),\"canonical_name\"=>\"Calculus I\",\"nameSub\"=>\"Introductory Calculus w/ Applications\",\"id\"=>3,\"credits\"=>4)],\"id\"=>1), Dict(\"name\"=>\"Term 2\",\"curriculum_items\"=>Dict{String,Any}[Dict(\"curriculum_requisites\"=>Dict{String,Any}[Dict(\"source_id\"=>5,\"target_id\"=>4,\"type\"=>\"strict-coreq\"), Dict(\"source_id\"=>1,\"target_id\"=>4,\"type\"=>\"prereq\")],\"name\"=>\"BW 111\",\"metrics\"=>Dict{String,Any}(),\"canonical_name\"=>\"Baskets II\",\"nameSub\"=>\"Basic Basket Forms\",\"id\"=>4,\"credits\"=>3), Dict(\"curriculum_requisites\"=>Dict{String,Any}[],\"name\"=>\"BW 111L\",\"metrics\"=>Dict{String,Any}(),\"canonical_name\"=>\"Baskets II Laboratory\",\"nameSub\"=>\"Basic Basket Forms Lab\",\"id\"=>5,\"credits\"=>1), Dict(\"curriculum_requisites\"=>Dict{String,Any}[Dict(\"source_id\"=>4,\"target_id\"=>6,\"type\"=>\"prereq\"), Dict(\"source_id\"=>3,\"target_id\"=>6,\"type\"=>\"prereq\"), Dict(\"source_id\"=>5,\"target_id\"=>6,\"type\"=>\"prereq\")],\"name\"=>\"BW 201\",\"metrics\"=>Dict{String,Any}(),\"canonical_name\"=>\"Baskets III\",\"nameSub\"=>\"Advanced Basketry\",\"id\"=>6,\"credits\"=>3), Dict(\"curriculum_requisites\"=>Dict{String,Any}[],\"name\"=>\" \",\"metrics\"=>Dict{String,Any}(),\"canonical_name\"=>\"Humanitites Core\",\"nameSub\"=>\"Humanitites Elective\",\"id\"=>9,\"credits\"=>3)],\"id\"=>2), Dict(\"name\"=>\"Term 3\",\"curriculum_items\"=>Dict{String,Any}[Dict(\"curriculum_requisites\"=>Dict{String,Any}[Dict(\"source_id\"=>1,\"target_id\"=>7,\"type\"=>\"prereq\")],\"name\"=>\"BW 214\",\"metrics\"=>Dict{String,Any}(),\"canonical_name\"=>\"Basket Materials\",\"nameSub\"=>\"Basket Materials & Decoration\",\"id\"=>7,\"credits\"=>3), Dict(\"curriculum_requisites\"=>Dict{String,Any}[Dict(\"source_id\"=>7,\"target_id\"=>8,\"type\"=>\"prereq\"), Dict(\"source_id\"=>2,\"target_id\"=>8,\"type\"=>\"prereq\")],\"name\"=>\"BW 301\",\"metrics\"=>Dict{String,Any}(),\"canonical_name\"=>\"Baskets IV\",\"nameSub\"=>\"Underwater Weaving\",\"id\"=>8,\"credits\"=>3), Dict(\"curriculum_requisites\"=>Dict{String,Any}[],\"name\"=>\" \",\"metrics\"=>Dict{String,Any}(),\"canonical_name\"=>\"\",\"nameSub\"=>\"Social Sciences Elective\",\"id\"=>10,\"credits\"=>3)],\"id\"=>3), Dict(\"name\"=>\"Term 4\",\"curriculum_items\"=>Dict{String,Any}[Dict(\"curriculum_requisites\"=>Dict{String,Any}[],\"name\"=>\" \",\"metrics\"=>Dict{String,Any}(),\"canonical_name\"=>\"\",\"nameSub\"=>\"Technical Elective\",\"id\"=>11,\"credits\"=>3), Dict(\"curriculum_requisites\"=>Dict{String,Any}[],\"name\"=>\" \",\"metrics\"=>Dict{String,Any}(),\"canonical_name\"=>\"\",\"nameSub\"=>\"General Elective\",\"id\"=>12,\"credits\"=>3)],\"id\"=>4)],\"institution\"=>\"ACME State University\")), nothing)), Set(String[]), nothing, Any[], Dict{Any,Any}(), WebIO.ConnectionPool(Channel{Any}(sz_max:9223372036854775807,sz_curr:0), Set(WebIO.AbstractConnection[]), Channel{WebIO.AbstractConnection}(sz_max:32,sz_curr:0)))"
      ]
     },
     "execution_count": 9,
     "metadata": {
      "application/vnd.webio.node+json": {
       "kernelId": "046fb20c-4d69-4c7d-a63f-9cb12e0d9101"
      }
     },
     "output_type": "execute_result"
    }
   ],
   "source": [
    "out = read_csv_new(\"examples\\\\UBW_degree_plan.csv\")\n",
    "#write_csv(out)\n",
    "visualize(out, changed=update_plan , edit=true, notebook=true, \n",
    "    show_blocking_factor=false, show_delay_factor=false,\n",
    "    show_centrality=false, show_complexity = false)"
   ]
  },
  {
   "cell_type": "code",
   "execution_count": 10,
   "metadata": {},
   "outputs": [
    {
     "name": "stdout",
     "output_type": "stream",
     "text": [
      "Could not create a plan for 0 term, try for one more term\n",
      "Could not create a plan for 1 term, try for one more term\n",
      "Could not create a plan for 2 term, try for one more term\n"
     ]
    },
    {
     "data": {
      "application/vnd.webio.node+json": {
       "children": [
        {
         "children": [
          ""
         ],
         "instanceArgs": {
          "namespace": "html",
          "tag": "iframe"
         },
         "nodeType": "DOM",
         "props": {
          "events": {
           "load": "(function (){this.contentWindow.postMessage({\"options\":{\"hideTerms\":true,\"edit\":false},\"curriculum\":{\"name\":\"Underwater Basket Weaving\",\"dp_name\":\"\",\"curriculum_terms\":[{\"name\":\"Term 1\",\"curriculum_items\":[{\"curriculum_requisites\":[],\"name\":\"BW 101\",\"metrics\":{},\"canonical_name\":\"\",\"nameSub\":\"Introduction to Baskets\",\"id\":1,\"credits\":1},{\"curriculum_requisites\":[],\"name\":\"PE 115\",\"metrics\":{},\"canonical_name\":\"\",\"nameSub\":\"Swimming\",\"id\":2,\"credits\":1},{\"curriculum_requisites\":[],\"name\":\"MA 116\",\"metrics\":{},\"canonical_name\":\"\",\"nameSub\":\"Introductory Calculus w/ Applications\",\"id\":3,\"credits\":1}],\"id\":1},{\"name\":\"Term 2\",\"curriculum_items\":[{\"curriculum_requisites\":[],\"name\":\"BW 111L\",\"metrics\":{},\"canonical_name\":\"\",\"nameSub\":\"Basic Basket Forms Lab\",\"id\":5,\"credits\":1},{\"curriculum_requisites\":[{\"source_id\":5,\"target_id\":4,\"type\":\"strict-coreq\"},{\"source_id\":1,\"target_id\":4,\"type\":\"prereq\"}],\"name\":\"BW 111\",\"metrics\":{},\"canonical_name\":\"\",\"nameSub\":\"Basic Basket Forms\",\"id\":4,\"credits\":1},{\"curriculum_requisites\":[{\"source_id\":1,\"target_id\":7,\"type\":\"prereq\"}],\"name\":\"BW 214\",\"metrics\":{},\"canonical_name\":\"\",\"nameSub\":\"Basket Materials & Decoration\",\"id\":7,\"credits\":1}],\"id\":2},{\"name\":\"Term 3\",\"curriculum_items\":[{\"curriculum_requisites\":[{\"source_id\":7,\"target_id\":8,\"type\":\"prereq\"},{\"source_id\":2,\"target_id\":8,\"type\":\"prereq\"}],\"name\":\"BW 301\",\"metrics\":{},\"canonical_name\":\"\",\"nameSub\":\"Underwater Weaving\",\"id\":8,\"credits\":1},{\"curriculum_requisites\":[{\"source_id\":4,\"target_id\":6,\"type\":\"prereq\"},{\"source_id\":3,\"target_id\":6,\"type\":\"prereq\"},{\"source_id\":5,\"target_id\":6,\"type\":\"prereq\"}],\"name\":\"BW 201\",\"metrics\":{},\"canonical_name\":\"\",\"nameSub\":\"Advanced Basketry\",\"id\":6,\"credits\":1}],\"id\":3}],\"institution\":\"\"}},\"*\"); window.removeEventListener(\"message\",window.messageReceived); window.messageReceived=(function (event){return (event.data.curriculum!==undefined) ? (_webIOScope.setObservableValue({\"name\":\"curriculum-data\",\"scope\":\"scope-e2541134-f225-473a-95a4-7b37da6afc81\",\"id\":\"ob_06\",\"type\":\"observable\"},event.data.curriculum)) : undefined}); return window.addEventListener(\"message\",window.messageReceived)})"
          },
          "id": "curriculum",
          "src": "http://localhost:8156",
          "style": {
           "border": "none",
           "height": "100vh",
           "margin": "0",
           "padding": "0",
           "width": "100%"
          }
         },
         "type": "node"
        }
       ],
       "instanceArgs": {
        "handlers": {},
        "id": "scope-e2541134-f225-473a-95a4-7b37da6afc81",
        "imports": {
         "data": [],
         "type": "async_block"
        },
        "observables": {
         "curriculum-data": {
          "id": "ob_06",
          "sync": true,
          "value": {
           "curriculum": {
            "curriculum_terms": [
             {
              "curriculum_items": [
               {
                "canonical_name": "",
                "credits": 1,
                "curriculum_requisites": [],
                "id": 1,
                "metrics": {},
                "name": "BW 101",
                "nameSub": "Introduction to Baskets"
               },
               {
                "canonical_name": "",
                "credits": 1,
                "curriculum_requisites": [],
                "id": 2,
                "metrics": {},
                "name": "PE 115",
                "nameSub": "Swimming"
               },
               {
                "canonical_name": "",
                "credits": 1,
                "curriculum_requisites": [],
                "id": 3,
                "metrics": {},
                "name": "MA 116",
                "nameSub": "Introductory Calculus w/ Applications"
               }
              ],
              "id": 1,
              "name": "Term 1"
             },
             {
              "curriculum_items": [
               {
                "canonical_name": "",
                "credits": 1,
                "curriculum_requisites": [],
                "id": 5,
                "metrics": {},
                "name": "BW 111L",
                "nameSub": "Basic Basket Forms Lab"
               },
               {
                "canonical_name": "",
                "credits": 1,
                "curriculum_requisites": [
                 {
                  "source_id": 5,
                  "target_id": 4,
                  "type": "strict-coreq"
                 },
                 {
                  "source_id": 1,
                  "target_id": 4,
                  "type": "prereq"
                 }
                ],
                "id": 4,
                "metrics": {},
                "name": "BW 111",
                "nameSub": "Basic Basket Forms"
               },
               {
                "canonical_name": "",
                "credits": 1,
                "curriculum_requisites": [
                 {
                  "source_id": 1,
                  "target_id": 7,
                  "type": "prereq"
                 }
                ],
                "id": 7,
                "metrics": {},
                "name": "BW 214",
                "nameSub": "Basket Materials & Decoration"
               }
              ],
              "id": 2,
              "name": "Term 2"
             },
             {
              "curriculum_items": [
               {
                "canonical_name": "",
                "credits": 1,
                "curriculum_requisites": [
                 {
                  "source_id": 7,
                  "target_id": 8,
                  "type": "prereq"
                 },
                 {
                  "source_id": 2,
                  "target_id": 8,
                  "type": "prereq"
                 }
                ],
                "id": 8,
                "metrics": {},
                "name": "BW 301",
                "nameSub": "Underwater Weaving"
               },
               {
                "canonical_name": "",
                "credits": 1,
                "curriculum_requisites": [
                 {
                  "source_id": 4,
                  "target_id": 6,
                  "type": "prereq"
                 },
                 {
                  "source_id": 3,
                  "target_id": 6,
                  "type": "prereq"
                 },
                 {
                  "source_id": 5,
                  "target_id": 6,
                  "type": "prereq"
                 }
                ],
                "id": 6,
                "metrics": {},
                "name": "BW 201",
                "nameSub": "Advanced Basketry"
               }
              ],
              "id": 3,
              "name": "Term 3"
             }
            ],
            "dp_name": "",
            "institution": "",
            "name": "Underwater Basket Weaving"
           },
           "options": {
            "edit": false,
            "hideTerms": true
           }
          }
         }
        },
        "systemjs_options": null
       },
       "nodeType": "Scope",
       "props": {},
       "type": "node"
      },
      "text/html": [
       "<div\n",
       "    class=\"webio-mountpoint\"\n",
       "    data-webio-mountpoint=\"17033324175572967824\"\n",
       ">\n",
       "    <script>\n",
       "    if (window.require && require.defined && require.defined(\"nbextensions/webio/main\")) {\n",
       "        console.log(\"Jupyter WebIO extension detected, not mounting.\");\n",
       "    } else if (window.WebIO) {\n",
       "        WebIO.mount(\n",
       "            document.querySelector('[data-webio-mountpoint=\"17033324175572967824\"]'),\n",
       "            {\"props\":{},\"nodeType\":\"Scope\",\"type\":\"node\",\"instanceArgs\":{\"imports\":{\"data\":[],\"type\":\"async_block\"},\"id\":\"scope-e2541134-f225-473a-95a4-7b37da6afc81\",\"handlers\":{},\"systemjs_options\":null,\"observables\":{\"curriculum-data\":{\"sync\":true,\"id\":\"ob_06\",\"value\":{\"options\":{\"hideTerms\":true,\"edit\":false},\"curriculum\":{\"name\":\"Underwater Basket Weaving\",\"dp_name\":\"\",\"curriculum_terms\":[{\"name\":\"Term 1\",\"curriculum_items\":[{\"curriculum_requisites\":[],\"name\":\"BW 101\",\"metrics\":{},\"canonical_name\":\"\",\"nameSub\":\"Introduction to Baskets\",\"id\":1,\"credits\":1},{\"curriculum_requisites\":[],\"name\":\"PE 115\",\"metrics\":{},\"canonical_name\":\"\",\"nameSub\":\"Swimming\",\"id\":2,\"credits\":1},{\"curriculum_requisites\":[],\"name\":\"MA 116\",\"metrics\":{},\"canonical_name\":\"\",\"nameSub\":\"Introductory Calculus w\\/ Applications\",\"id\":3,\"credits\":1}],\"id\":1},{\"name\":\"Term 2\",\"curriculum_items\":[{\"curriculum_requisites\":[],\"name\":\"BW 111L\",\"metrics\":{},\"canonical_name\":\"\",\"nameSub\":\"Basic Basket Forms Lab\",\"id\":5,\"credits\":1},{\"curriculum_requisites\":[{\"source_id\":5,\"target_id\":4,\"type\":\"strict-coreq\"},{\"source_id\":1,\"target_id\":4,\"type\":\"prereq\"}],\"name\":\"BW 111\",\"metrics\":{},\"canonical_name\":\"\",\"nameSub\":\"Basic Basket Forms\",\"id\":4,\"credits\":1},{\"curriculum_requisites\":[{\"source_id\":1,\"target_id\":7,\"type\":\"prereq\"}],\"name\":\"BW 214\",\"metrics\":{},\"canonical_name\":\"\",\"nameSub\":\"Basket Materials & Decoration\",\"id\":7,\"credits\":1}],\"id\":2},{\"name\":\"Term 3\",\"curriculum_items\":[{\"curriculum_requisites\":[{\"source_id\":7,\"target_id\":8,\"type\":\"prereq\"},{\"source_id\":2,\"target_id\":8,\"type\":\"prereq\"}],\"name\":\"BW 301\",\"metrics\":{},\"canonical_name\":\"\",\"nameSub\":\"Underwater Weaving\",\"id\":8,\"credits\":1},{\"curriculum_requisites\":[{\"source_id\":4,\"target_id\":6,\"type\":\"prereq\"},{\"source_id\":3,\"target_id\":6,\"type\":\"prereq\"},{\"source_id\":5,\"target_id\":6,\"type\":\"prereq\"}],\"name\":\"BW 201\",\"metrics\":{},\"canonical_name\":\"\",\"nameSub\":\"Advanced Basketry\",\"id\":6,\"credits\":1}],\"id\":3}],\"institution\":\"\"}}}}},\"children\":[{\"props\":{\"src\":\"http:\\/\\/localhost:8156\",\"id\":\"curriculum\",\"events\":{\"load\":\"(function (){this.contentWindow.postMessage({\\\"options\\\":{\\\"hideTerms\\\":true,\\\"edit\\\":false},\\\"curriculum\\\":{\\\"name\\\":\\\"Underwater Basket Weaving\\\",\\\"dp_name\\\":\\\"\\\",\\\"curriculum_terms\\\":[{\\\"name\\\":\\\"Term 1\\\",\\\"curriculum_items\\\":[{\\\"curriculum_requisites\\\":[],\\\"name\\\":\\\"BW 101\\\",\\\"metrics\\\":{},\\\"canonical_name\\\":\\\"\\\",\\\"nameSub\\\":\\\"Introduction to Baskets\\\",\\\"id\\\":1,\\\"credits\\\":1},{\\\"curriculum_requisites\\\":[],\\\"name\\\":\\\"PE 115\\\",\\\"metrics\\\":{},\\\"canonical_name\\\":\\\"\\\",\\\"nameSub\\\":\\\"Swimming\\\",\\\"id\\\":2,\\\"credits\\\":1},{\\\"curriculum_requisites\\\":[],\\\"name\\\":\\\"MA 116\\\",\\\"metrics\\\":{},\\\"canonical_name\\\":\\\"\\\",\\\"nameSub\\\":\\\"Introductory Calculus w\\/ Applications\\\",\\\"id\\\":3,\\\"credits\\\":1}],\\\"id\\\":1},{\\\"name\\\":\\\"Term 2\\\",\\\"curriculum_items\\\":[{\\\"curriculum_requisites\\\":[],\\\"name\\\":\\\"BW 111L\\\",\\\"metrics\\\":{},\\\"canonical_name\\\":\\\"\\\",\\\"nameSub\\\":\\\"Basic Basket Forms Lab\\\",\\\"id\\\":5,\\\"credits\\\":1},{\\\"curriculum_requisites\\\":[{\\\"source_id\\\":5,\\\"target_id\\\":4,\\\"type\\\":\\\"strict-coreq\\\"},{\\\"source_id\\\":1,\\\"target_id\\\":4,\\\"type\\\":\\\"prereq\\\"}],\\\"name\\\":\\\"BW 111\\\",\\\"metrics\\\":{},\\\"canonical_name\\\":\\\"\\\",\\\"nameSub\\\":\\\"Basic Basket Forms\\\",\\\"id\\\":4,\\\"credits\\\":1},{\\\"curriculum_requisites\\\":[{\\\"source_id\\\":1,\\\"target_id\\\":7,\\\"type\\\":\\\"prereq\\\"}],\\\"name\\\":\\\"BW 214\\\",\\\"metrics\\\":{},\\\"canonical_name\\\":\\\"\\\",\\\"nameSub\\\":\\\"Basket Materials & Decoration\\\",\\\"id\\\":7,\\\"credits\\\":1}],\\\"id\\\":2},{\\\"name\\\":\\\"Term 3\\\",\\\"curriculum_items\\\":[{\\\"curriculum_requisites\\\":[{\\\"source_id\\\":7,\\\"target_id\\\":8,\\\"type\\\":\\\"prereq\\\"},{\\\"source_id\\\":2,\\\"target_id\\\":8,\\\"type\\\":\\\"prereq\\\"}],\\\"name\\\":\\\"BW 301\\\",\\\"metrics\\\":{},\\\"canonical_name\\\":\\\"\\\",\\\"nameSub\\\":\\\"Underwater Weaving\\\",\\\"id\\\":8,\\\"credits\\\":1},{\\\"curriculum_requisites\\\":[{\\\"source_id\\\":4,\\\"target_id\\\":6,\\\"type\\\":\\\"prereq\\\"},{\\\"source_id\\\":3,\\\"target_id\\\":6,\\\"type\\\":\\\"prereq\\\"},{\\\"source_id\\\":5,\\\"target_id\\\":6,\\\"type\\\":\\\"prereq\\\"}],\\\"name\\\":\\\"BW 201\\\",\\\"metrics\\\":{},\\\"canonical_name\\\":\\\"\\\",\\\"nameSub\\\":\\\"Advanced Basketry\\\",\\\"id\\\":6,\\\"credits\\\":1}],\\\"id\\\":3}],\\\"institution\\\":\\\"\\\"}},\\\"*\\\"); window.removeEventListener(\\\"message\\\",window.messageReceived); window.messageReceived=(function (event){return (event.data.curriculum!==undefined) ? (_webIOScope.setObservableValue({\\\"name\\\":\\\"curriculum-data\\\",\\\"scope\\\":\\\"scope-e2541134-f225-473a-95a4-7b37da6afc81\\\",\\\"id\\\":\\\"ob_06\\\",\\\"type\\\":\\\"observable\\\"},event.data.curriculum)) : undefined}); return window.addEventListener(\\\"message\\\",window.messageReceived)})\"},\"style\":{\"padding\":\"0\",\"height\":\"100vh\",\"margin\":\"0\",\"border\":\"none\",\"width\":\"100%\"}},\"nodeType\":\"DOM\",\"type\":\"node\",\"instanceArgs\":{\"namespace\":\"html\",\"tag\":\"iframe\"},\"children\":[\"\"]}]},\n",
       "        );\n",
       "    } else {\n",
       "        document\n",
       "            .querySelector('[data-webio-mountpoint=\"17033324175572967824\"]')\n",
       "            .innerHTML = '<strong>WebIO not detected.</strong>';\n",
       "    }\n",
       "    </script>\n",
       "</div>\n"
      ],
      "text/plain": [
       "WebIO.Scope(\"scope-e2541134-f225-473a-95a4-7b37da6afc81\", WebIO.Node{WebIO.DOM}(WebIO.DOM(:html, :iframe), Any[\"\"], Dict{Symbol,Any}(:src=>\"http://localhost:8156\",:id=>\"curriculum\",:events=>Dict(:load=>JSString(\"(function (){this.contentWindow.postMessage({\\\"options\\\":{\\\"hideTerms\\\":true,\\\"edit\\\":false},\\\"curriculum\\\":{\\\"name\\\":\\\"Underwater Basket Weaving\\\",\\\"dp_name\\\":\\\"\\\",\\\"curriculum_terms\\\":[{\\\"name\\\":\\\"Term 1\\\",\\\"curriculum_items\\\":[{\\\"curriculum_requisites\\\":[],\\\"name\\\":\\\"BW 101\\\",\\\"metrics\\\":{},\\\"canonical_name\\\":\\\"\\\",\\\"nameSub\\\":\\\"Introduction to Baskets\\\",\\\"id\\\":1,\\\"credits\\\":1},{\\\"curriculum_requisites\\\":[],\\\"name\\\":\\\"PE 115\\\",\\\"metrics\\\":{},\\\"canonical_name\\\":\\\"\\\",\\\"nameSub\\\":\\\"Swimming\\\",\\\"id\\\":2,\\\"credits\\\":1},{\\\"curriculum_requisites\\\":[],\\\"name\\\":\\\"MA 116\\\",\\\"metrics\\\":{},\\\"canonical_name\\\":\\\"\\\",\\\"nameSub\\\":\\\"Introductory Calculus w/ Applications\\\",\\\"id\\\":3,\\\"credits\\\":1}],\\\"id\\\":1},{\\\"name\\\":\\\"Term 2\\\",\\\"curriculum_items\\\":[{\\\"curriculum_requisites\\\":[],\\\"name\\\":\\\"BW 111L\\\",\\\"metrics\\\":{},\\\"canonical_name\\\":\\\"\\\",\\\"nameSub\\\":\\\"Basic Basket Forms Lab\\\",\\\"id\\\":5,\\\"credits\\\":1},{\\\"curriculum_requisites\\\":[{\\\"source_id\\\":5,\\\"target_id\\\":4,\\\"type\\\":\\\"strict-coreq\\\"},{\\\"source_id\\\":1,\\\"target_id\\\":4,\\\"type\\\":\\\"prereq\\\"}],\\\"name\\\":\\\"BW 111\\\",\\\"metrics\\\":{},\\\"canonical_name\\\":\\\"\\\",\\\"nameSub\\\":\\\"Basic Basket Forms\\\",\\\"id\\\":4,\\\"credits\\\":1},{\\\"curriculum_requisites\\\":[{\\\"source_id\\\":1,\\\"target_id\\\":7,\\\"type\\\":\\\"prereq\\\"}],\\\"name\\\":\\\"BW 214\\\",\\\"metrics\\\":{},\\\"canonical_name\\\":\\\"\\\",\\\"nameSub\\\":\\\"Basket Materials & Decoration\\\",\\\"id\\\":7,\\\"credits\\\":1}],\\\"id\\\":2},{\\\"name\\\":\\\"Term 3\\\",\\\"curriculum_items\\\":[{\\\"curriculum_requisites\\\":[{\\\"source_id\\\":7,\\\"target_id\\\":8,\\\"type\\\":\\\"prereq\\\"},{\\\"source_id\\\":2,\\\"target_id\\\":8,\\\"type\\\":\\\"prereq\\\"}],\\\"name\\\":\\\"BW 301\\\",\\\"metrics\\\":{},\\\"canonical_name\\\":\\\"\\\",\\\"nameSub\\\":\\\"Underwater Weaving\\\",\\\"id\\\":8,\\\"credits\\\":1},{\\\"curriculum_requisites\\\":[{\\\"source_id\\\":4,\\\"target_id\\\":6,\\\"type\\\":\\\"prereq\\\"},{\\\"source_id\\\":3,\\\"target_id\\\":6,\\\"type\\\":\\\"prereq\\\"},{\\\"source_id\\\":5,\\\"target_id\\\":6,\\\"type\\\":\\\"prereq\\\"}],\\\"name\\\":\\\"BW 201\\\",\\\"metrics\\\":{},\\\"canonical_name\\\":\\\"\\\",\\\"nameSub\\\":\\\"Advanced Basketry\\\",\\\"id\\\":6,\\\"credits\\\":1}],\\\"id\\\":3}],\\\"institution\\\":\\\"\\\"}},\\\"*\\\"); window.removeEventListener(\\\"message\\\",window.messageReceived); window.messageReceived=(function (event){return (event.data.curriculum!==undefined) ? (_webIOScope.setObservableValue({\\\"name\\\":\\\"curriculum-data\\\",\\\"scope\\\":\\\"scope-e2541134-f225-473a-95a4-7b37da6afc81\\\",\\\"id\\\":\\\"ob_06\\\",\\\"type\\\":\\\"observable\\\"},event.data.curriculum)) : undefined}); return window.addEventListener(\\\"message\\\",window.messageReceived)})\")),:style=>Dict(:padding=>\"0\",:height=>\"100vh\",:margin=>\"0\",:border=>\"none\",:width=>\"100%\")), 1), Dict{String,Tuple{Observables.AbstractObservable,Union{Nothing, Bool}}}(\"curriculum-data\"=>(Observable{Dict{String,Any}} with 1 listeners. Value:\n",
       "Dict{String,Any}(\"options\"=>Dict{String,Any}(\"hideTerms\"=>true,\"edit\"=>false),\"curriculum\"=>Dict{String,Any}(\"name\"=>\"Underwater Basket Weaving\",\"dp_name\"=>\"\",\"curriculum_terms\"=>Dict{String,Any}[Dict(\"name\"=>\"Term 1\",\"curriculum_items\"=>Dict{String,Any}[Dict(\"curriculum_requisites\"=>Dict{String,Any}[],\"name\"=>\"BW 101\",\"metrics\"=>Dict{String,Any}(),\"canonical_name\"=>\"\",\"nameSub\"=>\"Introduction to Baskets\",\"id\"=>1,\"credits\"=>1), Dict(\"curriculum_requisites\"=>Dict{String,Any}[],\"name\"=>\"PE 115\",\"metrics\"=>Dict{String,Any}(),\"canonical_name\"=>\"\",\"nameSub\"=>\"Swimming\",\"id\"=>2,\"credits\"=>1), Dict(\"curriculum_requisites\"=>Dict{String,Any}[],\"name\"=>\"MA 116\",\"metrics\"=>Dict{String,Any}(),\"canonical_name\"=>\"\",\"nameSub\"=>\"Introductory Calculus w/ Applications\",\"id\"=>3,\"credits\"=>1)],\"id\"=>1), Dict(\"name\"=>\"Term 2\",\"curriculum_items\"=>Dict{String,Any}[Dict(\"curriculum_requisites\"=>Dict{String,Any}[],\"name\"=>\"BW 111L\",\"metrics\"=>Dict{String,Any}(),\"canonical_name\"=>\"\",\"nameSub\"=>\"Basic Basket Forms Lab\",\"id\"=>5,\"credits\"=>1), Dict(\"curriculum_requisites\"=>Dict{String,Any}[Dict(\"source_id\"=>5,\"target_id\"=>4,\"type\"=>\"strict-coreq\"), Dict(\"source_id\"=>1,\"target_id\"=>4,\"type\"=>\"prereq\")],\"name\"=>\"BW 111\",\"metrics\"=>Dict{String,Any}(),\"canonical_name\"=>\"\",\"nameSub\"=>\"Basic Basket Forms\",\"id\"=>4,\"credits\"=>1), Dict(\"curriculum_requisites\"=>Dict{String,Any}[Dict(\"source_id\"=>1,\"target_id\"=>7,\"type\"=>\"prereq\")],\"name\"=>\"BW 214\",\"metrics\"=>Dict{String,Any}(),\"canonical_name\"=>\"\",\"nameSub\"=>\"Basket Materials & Decoration\",\"id\"=>7,\"credits\"=>1)],\"id\"=>2), Dict(\"name\"=>\"Term 3\",\"curriculum_items\"=>Dict{String,Any}[Dict(\"curriculum_requisites\"=>Dict{String,Any}[Dict(\"source_id\"=>7,\"target_id\"=>8,\"type\"=>\"prereq\"), Dict(\"source_id\"=>2,\"target_id\"=>8,\"type\"=>\"prereq\")],\"name\"=>\"BW 301\",\"metrics\"=>Dict{String,Any}(),\"canonical_name\"=>\"\",\"nameSub\"=>\"Underwater Weaving\",\"id\"=>8,\"credits\"=>1), Dict(\"curriculum_requisites\"=>Dict{String,Any}[Dict(\"source_id\"=>4,\"target_id\"=>6,\"type\"=>\"prereq\"), Dict(\"source_id\"=>3,\"target_id\"=>6,\"type\"=>\"prereq\"), Dict(\"source_id\"=>5,\"target_id\"=>6,\"type\"=>\"prereq\")],\"name\"=>\"BW 201\",\"metrics\"=>Dict{String,Any}(),\"canonical_name\"=>\"\",\"nameSub\"=>\"Advanced Basketry\",\"id\"=>6,\"credits\"=>1)],\"id\"=>3)],\"institution\"=>\"\")), nothing)), Set(String[]), nothing, Any[], Dict{Any,Any}(), WebIO.ConnectionPool(Channel{Any}(sz_max:9223372036854775807,sz_curr:0), Set(WebIO.AbstractConnection[]), Channel{WebIO.AbstractConnection}(sz_max:32,sz_curr:0)))"
      ]
     },
     "execution_count": 10,
     "metadata": {
      "application/vnd.webio.node+json": {
       "kernelId": "046fb20c-4d69-4c7d-a63f-9cb12e0d9101"
      }
     },
     "output_type": "execute_result"
    }
   ],
   "source": [
    "out = read_csv_new(\"examples\\\\UBW_curriculum2.csv\")\n",
    "#write_csv(out)\n",
    "visualize(out, changed=update_plan , edit=false, notebook=true, \n",
    "    show_blocking_factor=false, show_delay_factor=false,\n",
    "    show_centrality=false, show_complexity = false)"
   ]
  },
  {
   "cell_type": "code",
   "execution_count": 13,
   "metadata": {},
   "outputs": [
    {
     "data": {
      "text/plain": [
       "Blink.AtomShell.Window(2, Blink.AtomShell.Electron(Process(`\u001b[4m'C:\\Users\\orhan\\.julia\\packages\\Blink\\vKGzM\\deps\\atom\\electron.exe'\u001b[24m \u001b[4m'C:\\Users\\orhan\\.julia\\packages\\Blink\\vKGzM\\src\\AtomShell\\main.js'\u001b[24m \u001b[4mport\u001b[24m \u001b[4m4987\u001b[24m`, ProcessRunning), Sockets.TCPSocket(Base.Libc.WindowsRawSocket(0x00000000000004a8) active, 0 bytes waiting), Dict{String,Any}(\"callback\"=>##1#2())), Blink.Page(2, WebSockets.WebSocket{Sockets.TCPSocket}(Sockets.TCPSocket(Base.Libc.WindowsRawSocket(0x00000000000005f8) active, 0 bytes waiting), true, CONNECTED::ReadyState = 1), Dict{String,Any}(\"webio\"=>##95#96{BlinkConnection}(BlinkConnection(Page(#= circular reference @-4 =#))),\"callback\"=>##1#2()), Distributed.Future(1, 1, 2, Some(true))))"
      ]
     },
     "execution_count": 13,
     "metadata": {},
     "output_type": "execute_result"
    }
   ],
   "source": [
    "out = read_csv_new(\"examples\\\\WSU-EE-PrecalcReady.csv\")\n",
    "#write_csv(out)\n",
    "visualize(out, changed=update_plan , edit=true, notebook=false, \n",
    "    show_blocking_factor=false, show_delay_factor=false,\n",
    "    show_centrality=false, show_complexity = false)"
   ]
  },
  {
   "cell_type": "code",
   "execution_count": null,
   "metadata": {
    "collapsed": true
   },
   "outputs": [],
   "source": []
  }
 ],
 "metadata": {
  "@webio": {
   "lastCommId": "1F56DBEAE7DF41758654AD72D79CE01F",
   "lastKernelId": "046fb20c-4d69-4c7d-a63f-9cb12e0d9101"
  },
  "kernelspec": {
   "display_name": "Julia 1.0.1",
   "language": "julia",
   "name": "julia-1.0"
  },
  "language_info": {
   "file_extension": ".jl",
   "mimetype": "application/julia",
   "name": "julia",
   "version": "1.0.1"
  }
 },
 "nbformat": 4,
 "nbformat_minor": 2
}

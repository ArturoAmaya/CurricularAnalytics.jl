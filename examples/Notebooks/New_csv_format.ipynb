{
 "cells": [
  {
   "cell_type": "code",
   "execution_count": 1,
   "metadata": {},
   "outputs": [
    {
     "name": "stdout",
     "output_type": "stream",
     "text": [
      "Current directory: CurricularAnalytics.jl\n"
     ]
    },
    {
     "name": "stderr",
     "output_type": "stream",
     "text": [
      "┌ Info: Recompiling stale cache file C:\\Users\\orhan\\.julia\\compiled\\v1.0\\CurricularAnalytics\\KKMY9.ji for CurricularAnalytics [b915a5b0-c40e-11e8-3dab-39a55ab5c2f7]\n",
      "└ @ Base loading.jl:1187\n"
     ]
    },
    {
     "data": {
      "text/html": [
       "    <script id=\"webio-setup-12074674303798853161\">\n",
       "    // Immediately-invoked-function-expression to avoid global variables.\n",
       "    (function() {\n",
       "        var warning_div = document.getElementById(\"webio-warning-2566122030656808378\");\n",
       "        var hide = function () {\n",
       "            var script = document.getElementById(\"webio-setup-12074674303798853161\");\n",
       "            var parent = script && script.parentElement;\n",
       "            var grandparent = parent && parent.parentElement;\n",
       "            if (grandparent) {\n",
       "                grandparent.style.display = \"none\";\n",
       "            }\n",
       "            warning_div.style.display = \"none\";\n",
       "        };\n",
       "        if (window.require && require.defined) {\n",
       "            // Jupyter notebook.\n",
       "            if (require.defined(\"nbextensions/webio/main\")\n",
       "                    || require.defined(\"/assetserver/15060f7913bd455b6698e8bd1357ce9c6553b0bb-dist/main.js\")) {\n",
       "                // Extension already loaded.\n",
       "                hide();\n",
       "                return;\n",
       "            }\n",
       "            console.warn(\"Loading WebIO Jupyter extension on an ad-hoc basis. Consider enabling the WebIO nbextension for a stabler experience (this should happen automatically when building WebIO).\");\n",
       "            require([\"/assetserver/15060f7913bd455b6698e8bd1357ce9c6553b0bb-dist/main.js\"], function (webIOModule) {\n",
       "                webIOModule.load_ipython_extension();\n",
       "            });\n",
       "            warning_div.innerHTML = \"<strong>Loading WebIO Jupyter extension on an ad-hoc basis. Consider enabling the WebIO nbextension for a stabler experience (this should happen automatically when building WebIO).</strong>\";\n",
       "        } else if (window.location.pathname.includes(\"/lab\")) {\n",
       "            // Guessing JupyterLab\n",
       "            warning_div.innerHTML = \"WebIO does not support JupyterLab yet.\";\n",
       "        }\n",
       "    })();\n",
       "    </script>\n",
       "    <div\n",
       "        id=\"webio-warning-2566122030656808378\"\n",
       "        class=\"output_text output_stderr\"\n",
       "        style=\"padding: 1em; font-weight: bold;\"\n",
       "    >\n",
       "        Unable to load WebIO. Please make sure WebIO works for your Jupyter client.\n",
       "        <!-- TODO: link to installation docs. -->\n",
       "    </div>\n"
      ],
      "text/plain": [
       "HTML{String}(\"    <script id=\\\"webio-setup-12074674303798853161\\\">\\n    // Immediately-invoked-function-expression to avoid global variables.\\n    (function() {\\n        var warning_div = document.getElementById(\\\"webio-warning-2566122030656808378\\\");\\n        var hide = function () {\\n            var script = document.getElementById(\\\"webio-setup-12074674303798853161\\\");\\n            var parent = script && script.parentElement;\\n            var grandparent = parent && parent.parentElement;\\n            if (grandparent) {\\n                grandparent.style.display = \\\"none\\\";\\n            }\\n            warning_div.style.display = \\\"none\\\";\\n        };\\n        if (window.require && require.defined) {\\n            // Jupyter notebook.\\n            if (require.defined(\\\"nbextensions/webio/main\\\")\\n                    || require.defined(\\\"/assetserver/15060f7913bd455b6698e8bd1357ce9c6553b0bb-dist/main.js\\\")) {\\n                // Extension already loaded.\\n                hide();\\n                return;\\n            }\\n            console.warn(\\\"Loading WebIO Jupyter extension on an ad-hoc basis. Consider enabling the WebIO nbextension for a stabler experience (this should happen automatically when building WebIO).\\\");\\n            require([\\\"/assetserver/15060f7913bd455b6698e8bd1357ce9c6553b0bb-dist/main.js\\\"], function (webIOModule) {\\n                webIOModule.load_ipython_extension();\\n            });\\n            warning_div.innerHTML = \\\"<strong>Loading WebIO Jupyter extension on an ad-hoc basis. Consider enabling the WebIO nbextension for a stabler experience (this should happen automatically when building WebIO).</strong>\\\";\\n        } else if (window.location.pathname.includes(\\\"/lab\\\")) {\\n            // Guessing JupyterLab\\n            warning_div.innerHTML = \\\"WebIO does not support JupyterLab yet.\\\";\\n        }\\n    })();\\n    </script>\\n    <div\\n        id=\\\"webio-warning-2566122030656808378\\\"\\n        class=\\\"output_text output_stderr\\\"\\n        style=\\\"padding: 1em; font-weight: bold;\\\"\\n    >\\n        Unable to load WebIO. Please make sure WebIO works for your Jupyter client.\\n        <!-- TODO: link to installation docs. -->\\n    </div>\\n\")"
      ]
     },
     "metadata": {},
     "output_type": "display_data"
    }
   ],
   "source": [
    "if split(pwd(),Base.Filesystem.path_separator)[end] != \"CurricularAnalytics.jl\"\n",
    "    cd(\"../..\")\n",
    "end\n",
    "println(\"Current directory: \" * split(pwd(),\"\\\\\")[end])\n",
    "using Pkg\n",
    "pkg\"activate .\"\n",
    "using CurricularAnalytics"
   ]
  },
  {
   "cell_type": "code",
   "execution_count": 2,
   "metadata": {
    "scrolled": false
   },
   "outputs": [
    {
     "name": "stderr",
     "output_type": "stream",
     "text": [
      "┌ Info: Listening on: Sockets.InetAddr{Sockets.IPv4}(ip\"127.0.0.1\", 0x1fdc)\n",
      "└ @ HTTP.Servers C:\\Users\\orhan\\.julia\\packages\\HTTP\\YjRCz\\src\\Servers.jl:301\n"
     ]
    },
    {
     "data": {
      "application/vnd.webio.node+json": {
       "children": [
        {
         "children": [
          ""
         ],
         "instanceArgs": {
          "namespace": "html",
          "tag": "iframe"
         },
         "nodeType": "DOM",
         "props": {
          "events": {
           "load": "(function (){this.contentWindow.postMessage({\"options\":{\"hideTerms\":false,\"edit\":true},\"curriculum\":{\"name\":\"EE Program\",\"dp_name\":\"Curricular Pattern-Calculus Ready \",\"curriculum_terms\":[{\"name\":\"Term 1\",\"curriculum_items\":[{\"curriculum_requisites\":[],\"name\":\" \",\"metrics\":{\"centrality\":0,\"complexity\":10.0,\"blocking factor\":6,\"delay factor\":4.0},\"canonical_name\":\"\",\"nameSub\":\"Calculus I\",\"id\":109292059728065,\"credits\":4}],\"id\":1},{\"name\":\"Term 2\",\"curriculum_items\":[{\"curriculum_requisites\":[{\"source_id\":109292059728065,\"target_id\":514436949421964,\"type\":\"prereq\"}],\"name\":\" \",\"metrics\":{\"centrality\":7,\"complexity\":7.0,\"blocking factor\":3,\"delay factor\":4.0},\"canonical_name\":\"\",\"nameSub\":\"Calculus II\",\"id\":514436949421964,\"credits\":4},{\"curriculum_requisites\":[{\"source_id\":109292059728065,\"target_id\":740186718416306,\"type\":\"prereq\"}],\"name\":\" \",\"metrics\":{\"centrality\":3,\"complexity\":3.0,\"blocking factor\":1,\"delay factor\":2.0},\"canonical_name\":\"\",\"nameSub\":\"Physics I\",\"id\":740186718416306,\"credits\":4},{\"curriculum_requisites\":[{\"source_id\":109292059728065,\"target_id\":835269000045333,\"type\":\"prereq\"}],\"name\":\" \",\"metrics\":{\"centrality\":3,\"complexity\":3.0,\"blocking factor\":1,\"delay factor\":2.0},\"canonical_name\":\"\",\"nameSub\":\"Programming I\",\"id\":835269000045333,\"credits\":3}],\"id\":2},{\"name\":\"Term 3\",\"curriculum_items\":[{\"curriculum_requisites\":[{\"source_id\":514436949421964,\"target_id\":472204883675305,\"type\":\"prereq\"}],\"name\":\" \",\"metrics\":{\"centrality\":0,\"complexity\":3.0,\"blocking factor\":0,\"delay factor\":3.0},\"canonical_name\":\"\",\"nameSub\":\"Calculus III\",\"id\":472204883675305,\"credits\":4},{\"curriculum_requisites\":[{\"source_id\":514436949421964,\"target_id\":418070079709579,\"type\":\"prereq\"}],\"name\":\" \",\"metrics\":{\"centrality\":4,\"complexity\":5.0,\"blocking factor\":1,\"delay factor\":4.0},\"canonical_name\":\"\",\"nameSub\":\"Differential Eqs.\",\"id\":418070079709579,\"credits\":3}],\"id\":3},{\"name\":\"Term 4\",\"curriculum_items\":[{\"curriculum_requisites\":[{\"source_id\":418070079709579,\"target_id\":3483633153363,\"type\":\"prereq\"},{\"source_id\":740186718416306,\"target_id\":3483633153363,\"type\":\"prereq\"},{\"source_id\":835269000045333,\"target_id\":3483633153363,\"type\":\"prereq\"}],\"name\":\" \",\"metrics\":{\"centrality\":0,\"complexity\":4.0,\"blocking factor\":0,\"delay factor\":4.0},\"canonical_name\":\"\",\"nameSub\":\"Circuits I\",\"id\":3483633153363,\"credits\":3}],\"id\":4}],\"institution\":\"Wright State University \"}},\"*\"); window.removeEventListener(\"message\",window.messageReceived); window.messageReceived=(function (event){return (event.data.curriculum!==undefined) ? (_webIOScope.setObservableValue({\"name\":\"curriculum-data\",\"scope\":\"scope-c2829c16-ff19-4301-bf64-ff212b42edda\",\"id\":\"ob_01\",\"type\":\"observable\"},event.data.curriculum)) : undefined}); return window.addEventListener(\"message\",window.messageReceived)})"
          },
          "id": "curriculum",
          "src": "http://localhost:8156",
          "style": {
           "border": "none",
           "height": "100vh",
           "margin": "0",
           "padding": "0",
           "width": "100%"
          }
         },
         "type": "node"
        }
       ],
       "instanceArgs": {
        "handlers": {},
        "id": "scope-c2829c16-ff19-4301-bf64-ff212b42edda",
        "imports": {
         "data": [],
         "type": "async_block"
        },
        "observables": {
         "curriculum-data": {
          "id": "ob_01",
          "sync": true,
          "value": {
           "curriculum": {
            "curriculum_terms": [
             {
              "curriculum_items": [
               {
                "canonical_name": "",
                "credits": 4,
                "curriculum_requisites": [],
                "id": 109292059728065,
                "metrics": {
                 "blocking factor": 6,
                 "centrality": 0,
                 "complexity": 10,
                 "delay factor": 4
                },
                "name": " ",
                "nameSub": "Calculus I"
               }
              ],
              "id": 1,
              "name": "Term 1"
             },
             {
              "curriculum_items": [
               {
                "canonical_name": "",
                "credits": 4,
                "curriculum_requisites": [
                 {
                  "source_id": 109292059728065,
                  "target_id": 514436949421964,
                  "type": "prereq"
                 }
                ],
                "id": 514436949421964,
                "metrics": {
                 "blocking factor": 3,
                 "centrality": 7,
                 "complexity": 7,
                 "delay factor": 4
                },
                "name": " ",
                "nameSub": "Calculus II"
               },
               {
                "canonical_name": "",
                "credits": 4,
                "curriculum_requisites": [
                 {
                  "source_id": 109292059728065,
                  "target_id": 740186718416306,
                  "type": "prereq"
                 }
                ],
                "id": 740186718416306,
                "metrics": {
                 "blocking factor": 1,
                 "centrality": 3,
                 "complexity": 3,
                 "delay factor": 2
                },
                "name": " ",
                "nameSub": "Physics I"
               },
               {
                "canonical_name": "",
                "credits": 3,
                "curriculum_requisites": [
                 {
                  "source_id": 109292059728065,
                  "target_id": 835269000045333,
                  "type": "prereq"
                 }
                ],
                "id": 835269000045333,
                "metrics": {
                 "blocking factor": 1,
                 "centrality": 3,
                 "complexity": 3,
                 "delay factor": 2
                },
                "name": " ",
                "nameSub": "Programming I"
               }
              ],
              "id": 2,
              "name": "Term 2"
             },
             {
              "curriculum_items": [
               {
                "canonical_name": "",
                "credits": 4,
                "curriculum_requisites": [
                 {
                  "source_id": 514436949421964,
                  "target_id": 472204883675305,
                  "type": "prereq"
                 }
                ],
                "id": 472204883675305,
                "metrics": {
                 "blocking factor": 0,
                 "centrality": 0,
                 "complexity": 3,
                 "delay factor": 3
                },
                "name": " ",
                "nameSub": "Calculus III"
               },
               {
                "canonical_name": "",
                "credits": 3,
                "curriculum_requisites": [
                 {
                  "source_id": 514436949421964,
                  "target_id": 418070079709579,
                  "type": "prereq"
                 }
                ],
                "id": 418070079709579,
                "metrics": {
                 "blocking factor": 1,
                 "centrality": 4,
                 "complexity": 5,
                 "delay factor": 4
                },
                "name": " ",
                "nameSub": "Differential Eqs."
               }
              ],
              "id": 3,
              "name": "Term 3"
             },
             {
              "curriculum_items": [
               {
                "canonical_name": "",
                "credits": 3,
                "curriculum_requisites": [
                 {
                  "source_id": 418070079709579,
                  "target_id": 3483633153363,
                  "type": "prereq"
                 },
                 {
                  "source_id": 740186718416306,
                  "target_id": 3483633153363,
                  "type": "prereq"
                 },
                 {
                  "source_id": 835269000045333,
                  "target_id": 3483633153363,
                  "type": "prereq"
                 }
                ],
                "id": 3483633153363,
                "metrics": {
                 "blocking factor": 0,
                 "centrality": 0,
                 "complexity": 4,
                 "delay factor": 4
                },
                "name": " ",
                "nameSub": "Circuits I"
               }
              ],
              "id": 4,
              "name": "Term 4"
             }
            ],
            "dp_name": "Curricular Pattern-Calculus Ready ",
            "institution": "Wright State University ",
            "name": "EE Program"
           },
           "options": {
            "edit": true,
            "hideTerms": false
           }
          }
         }
        },
        "systemjs_options": null
       },
       "nodeType": "Scope",
       "props": {},
       "type": "node"
      },
      "text/html": [
       "<div\n",
       "    class=\"webio-mountpoint\"\n",
       "    data-webio-mountpoint=\"10454581648845754962\"\n",
       ">\n",
       "    <script>\n",
       "    if (window.require && require.defined && require.defined(\"nbextensions/webio/main\")) {\n",
       "        console.log(\"Jupyter WebIO extension detected, not mounting.\");\n",
       "    } else if (window.WebIO) {\n",
       "        WebIO.mount(\n",
       "            document.querySelector('[data-webio-mountpoint=\"10454581648845754962\"]'),\n",
       "            {\"props\":{},\"nodeType\":\"Scope\",\"type\":\"node\",\"instanceArgs\":{\"imports\":{\"data\":[],\"type\":\"async_block\"},\"id\":\"scope-c2829c16-ff19-4301-bf64-ff212b42edda\",\"handlers\":{},\"systemjs_options\":null,\"observables\":{\"curriculum-data\":{\"sync\":true,\"id\":\"ob_01\",\"value\":{\"options\":{\"hideTerms\":false,\"edit\":true},\"curriculum\":{\"name\":\"EE Program\",\"dp_name\":\"Curricular Pattern-Calculus Ready \",\"curriculum_terms\":[{\"name\":\"Term 1\",\"curriculum_items\":[{\"curriculum_requisites\":[],\"name\":\" \",\"metrics\":{\"centrality\":0,\"complexity\":10.0,\"blocking factor\":6,\"delay factor\":4.0},\"canonical_name\":\"\",\"nameSub\":\"Calculus I\",\"id\":109292059728065,\"credits\":4}],\"id\":1},{\"name\":\"Term 2\",\"curriculum_items\":[{\"curriculum_requisites\":[{\"source_id\":109292059728065,\"target_id\":514436949421964,\"type\":\"prereq\"}],\"name\":\" \",\"metrics\":{\"centrality\":7,\"complexity\":7.0,\"blocking factor\":3,\"delay factor\":4.0},\"canonical_name\":\"\",\"nameSub\":\"Calculus II\",\"id\":514436949421964,\"credits\":4},{\"curriculum_requisites\":[{\"source_id\":109292059728065,\"target_id\":740186718416306,\"type\":\"prereq\"}],\"name\":\" \",\"metrics\":{\"centrality\":3,\"complexity\":3.0,\"blocking factor\":1,\"delay factor\":2.0},\"canonical_name\":\"\",\"nameSub\":\"Physics I\",\"id\":740186718416306,\"credits\":4},{\"curriculum_requisites\":[{\"source_id\":109292059728065,\"target_id\":835269000045333,\"type\":\"prereq\"}],\"name\":\" \",\"metrics\":{\"centrality\":3,\"complexity\":3.0,\"blocking factor\":1,\"delay factor\":2.0},\"canonical_name\":\"\",\"nameSub\":\"Programming I\",\"id\":835269000045333,\"credits\":3}],\"id\":2},{\"name\":\"Term 3\",\"curriculum_items\":[{\"curriculum_requisites\":[{\"source_id\":514436949421964,\"target_id\":472204883675305,\"type\":\"prereq\"}],\"name\":\" \",\"metrics\":{\"centrality\":0,\"complexity\":3.0,\"blocking factor\":0,\"delay factor\":3.0},\"canonical_name\":\"\",\"nameSub\":\"Calculus III\",\"id\":472204883675305,\"credits\":4},{\"curriculum_requisites\":[{\"source_id\":514436949421964,\"target_id\":418070079709579,\"type\":\"prereq\"}],\"name\":\" \",\"metrics\":{\"centrality\":4,\"complexity\":5.0,\"blocking factor\":1,\"delay factor\":4.0},\"canonical_name\":\"\",\"nameSub\":\"Differential Eqs.\",\"id\":418070079709579,\"credits\":3}],\"id\":3},{\"name\":\"Term 4\",\"curriculum_items\":[{\"curriculum_requisites\":[{\"source_id\":418070079709579,\"target_id\":3483633153363,\"type\":\"prereq\"},{\"source_id\":740186718416306,\"target_id\":3483633153363,\"type\":\"prereq\"},{\"source_id\":835269000045333,\"target_id\":3483633153363,\"type\":\"prereq\"}],\"name\":\" \",\"metrics\":{\"centrality\":0,\"complexity\":4.0,\"blocking factor\":0,\"delay factor\":4.0},\"canonical_name\":\"\",\"nameSub\":\"Circuits I\",\"id\":3483633153363,\"credits\":3}],\"id\":4}],\"institution\":\"Wright State University \"}}}}},\"children\":[{\"props\":{\"src\":\"http:\\/\\/localhost:8156\",\"id\":\"curriculum\",\"events\":{\"load\":\"(function (){this.contentWindow.postMessage({\\\"options\\\":{\\\"hideTerms\\\":false,\\\"edit\\\":true},\\\"curriculum\\\":{\\\"name\\\":\\\"EE Program\\\",\\\"dp_name\\\":\\\"Curricular Pattern-Calculus Ready \\\",\\\"curriculum_terms\\\":[{\\\"name\\\":\\\"Term 1\\\",\\\"curriculum_items\\\":[{\\\"curriculum_requisites\\\":[],\\\"name\\\":\\\" \\\",\\\"metrics\\\":{\\\"centrality\\\":0,\\\"complexity\\\":10.0,\\\"blocking factor\\\":6,\\\"delay factor\\\":4.0},\\\"canonical_name\\\":\\\"\\\",\\\"nameSub\\\":\\\"Calculus I\\\",\\\"id\\\":109292059728065,\\\"credits\\\":4}],\\\"id\\\":1},{\\\"name\\\":\\\"Term 2\\\",\\\"curriculum_items\\\":[{\\\"curriculum_requisites\\\":[{\\\"source_id\\\":109292059728065,\\\"target_id\\\":514436949421964,\\\"type\\\":\\\"prereq\\\"}],\\\"name\\\":\\\" \\\",\\\"metrics\\\":{\\\"centrality\\\":7,\\\"complexity\\\":7.0,\\\"blocking factor\\\":3,\\\"delay factor\\\":4.0},\\\"canonical_name\\\":\\\"\\\",\\\"nameSub\\\":\\\"Calculus II\\\",\\\"id\\\":514436949421964,\\\"credits\\\":4},{\\\"curriculum_requisites\\\":[{\\\"source_id\\\":109292059728065,\\\"target_id\\\":740186718416306,\\\"type\\\":\\\"prereq\\\"}],\\\"name\\\":\\\" \\\",\\\"metrics\\\":{\\\"centrality\\\":3,\\\"complexity\\\":3.0,\\\"blocking factor\\\":1,\\\"delay factor\\\":2.0},\\\"canonical_name\\\":\\\"\\\",\\\"nameSub\\\":\\\"Physics I\\\",\\\"id\\\":740186718416306,\\\"credits\\\":4},{\\\"curriculum_requisites\\\":[{\\\"source_id\\\":109292059728065,\\\"target_id\\\":835269000045333,\\\"type\\\":\\\"prereq\\\"}],\\\"name\\\":\\\" \\\",\\\"metrics\\\":{\\\"centrality\\\":3,\\\"complexity\\\":3.0,\\\"blocking factor\\\":1,\\\"delay factor\\\":2.0},\\\"canonical_name\\\":\\\"\\\",\\\"nameSub\\\":\\\"Programming I\\\",\\\"id\\\":835269000045333,\\\"credits\\\":3}],\\\"id\\\":2},{\\\"name\\\":\\\"Term 3\\\",\\\"curriculum_items\\\":[{\\\"curriculum_requisites\\\":[{\\\"source_id\\\":514436949421964,\\\"target_id\\\":472204883675305,\\\"type\\\":\\\"prereq\\\"}],\\\"name\\\":\\\" \\\",\\\"metrics\\\":{\\\"centrality\\\":0,\\\"complexity\\\":3.0,\\\"blocking factor\\\":0,\\\"delay factor\\\":3.0},\\\"canonical_name\\\":\\\"\\\",\\\"nameSub\\\":\\\"Calculus III\\\",\\\"id\\\":472204883675305,\\\"credits\\\":4},{\\\"curriculum_requisites\\\":[{\\\"source_id\\\":514436949421964,\\\"target_id\\\":418070079709579,\\\"type\\\":\\\"prereq\\\"}],\\\"name\\\":\\\" \\\",\\\"metrics\\\":{\\\"centrality\\\":4,\\\"complexity\\\":5.0,\\\"blocking factor\\\":1,\\\"delay factor\\\":4.0},\\\"canonical_name\\\":\\\"\\\",\\\"nameSub\\\":\\\"Differential Eqs.\\\",\\\"id\\\":418070079709579,\\\"credits\\\":3}],\\\"id\\\":3},{\\\"name\\\":\\\"Term 4\\\",\\\"curriculum_items\\\":[{\\\"curriculum_requisites\\\":[{\\\"source_id\\\":418070079709579,\\\"target_id\\\":3483633153363,\\\"type\\\":\\\"prereq\\\"},{\\\"source_id\\\":740186718416306,\\\"target_id\\\":3483633153363,\\\"type\\\":\\\"prereq\\\"},{\\\"source_id\\\":835269000045333,\\\"target_id\\\":3483633153363,\\\"type\\\":\\\"prereq\\\"}],\\\"name\\\":\\\" \\\",\\\"metrics\\\":{\\\"centrality\\\":0,\\\"complexity\\\":4.0,\\\"blocking factor\\\":0,\\\"delay factor\\\":4.0},\\\"canonical_name\\\":\\\"\\\",\\\"nameSub\\\":\\\"Circuits I\\\",\\\"id\\\":3483633153363,\\\"credits\\\":3}],\\\"id\\\":4}],\\\"institution\\\":\\\"Wright State University \\\"}},\\\"*\\\"); window.removeEventListener(\\\"message\\\",window.messageReceived); window.messageReceived=(function (event){return (event.data.curriculum!==undefined) ? (_webIOScope.setObservableValue({\\\"name\\\":\\\"curriculum-data\\\",\\\"scope\\\":\\\"scope-c2829c16-ff19-4301-bf64-ff212b42edda\\\",\\\"id\\\":\\\"ob_01\\\",\\\"type\\\":\\\"observable\\\"},event.data.curriculum)) : undefined}); return window.addEventListener(\\\"message\\\",window.messageReceived)})\"},\"style\":{\"padding\":\"0\",\"height\":\"100vh\",\"margin\":\"0\",\"border\":\"none\",\"width\":\"100%\"}},\"nodeType\":\"DOM\",\"type\":\"node\",\"instanceArgs\":{\"namespace\":\"html\",\"tag\":\"iframe\"},\"children\":[\"\"]}]},\n",
       "        );\n",
       "    } else {\n",
       "        document\n",
       "            .querySelector('[data-webio-mountpoint=\"10454581648845754962\"]')\n",
       "            .innerHTML = '<strong>WebIO not detected.</strong>';\n",
       "    }\n",
       "    </script>\n",
       "</div>\n"
      ],
      "text/plain": [
       "WebIO.Scope(\"scope-c2829c16-ff19-4301-bf64-ff212b42edda\", WebIO.Node{WebIO.DOM}(WebIO.DOM(:html, :iframe), Any[\"\"], Dict{Symbol,Any}(:src=>\"http://localhost:8156\",:id=>\"curriculum\",:events=>Dict(:load=>JSString(\"(function (){this.contentWindow.postMessage({\\\"options\\\":{\\\"hideTerms\\\":false,\\\"edit\\\":true},\\\"curriculum\\\":{\\\"name\\\":\\\"EE Program\\\",\\\"dp_name\\\":\\\"Curricular Pattern-Calculus Ready \\\",\\\"curriculum_terms\\\":[{\\\"name\\\":\\\"Term 1\\\",\\\"curriculum_items\\\":[{\\\"curriculum_requisites\\\":[],\\\"name\\\":\\\" \\\",\\\"metrics\\\":{\\\"centrality\\\":0,\\\"complexity\\\":10.0,\\\"blocking factor\\\":6,\\\"delay factor\\\":4.0},\\\"canonical_name\\\":\\\"\\\",\\\"nameSub\\\":\\\"Calculus I\\\",\\\"id\\\":109292059728065,\\\"credits\\\":4}],\\\"id\\\":1},{\\\"name\\\":\\\"Term 2\\\",\\\"curriculum_items\\\":[{\\\"curriculum_requisites\\\":[{\\\"source_id\\\":109292059728065,\\\"target_id\\\":514436949421964,\\\"type\\\":\\\"prereq\\\"}],\\\"name\\\":\\\" \\\",\\\"metrics\\\":{\\\"centrality\\\":7,\\\"complexity\\\":7.0,\\\"blocking factor\\\":3,\\\"delay factor\\\":4.0},\\\"canonical_name\\\":\\\"\\\",\\\"nameSub\\\":\\\"Calculus II\\\",\\\"id\\\":514436949421964,\\\"credits\\\":4},{\\\"curriculum_requisites\\\":[{\\\"source_id\\\":109292059728065,\\\"target_id\\\":740186718416306,\\\"type\\\":\\\"prereq\\\"}],\\\"name\\\":\\\" \\\",\\\"metrics\\\":{\\\"centrality\\\":3,\\\"complexity\\\":3.0,\\\"blocking factor\\\":1,\\\"delay factor\\\":2.0},\\\"canonical_name\\\":\\\"\\\",\\\"nameSub\\\":\\\"Physics I\\\",\\\"id\\\":740186718416306,\\\"credits\\\":4},{\\\"curriculum_requisites\\\":[{\\\"source_id\\\":109292059728065,\\\"target_id\\\":835269000045333,\\\"type\\\":\\\"prereq\\\"}],\\\"name\\\":\\\" \\\",\\\"metrics\\\":{\\\"centrality\\\":3,\\\"complexity\\\":3.0,\\\"blocking factor\\\":1,\\\"delay factor\\\":2.0},\\\"canonical_name\\\":\\\"\\\",\\\"nameSub\\\":\\\"Programming I\\\",\\\"id\\\":835269000045333,\\\"credits\\\":3}],\\\"id\\\":2},{\\\"name\\\":\\\"Term 3\\\",\\\"curriculum_items\\\":[{\\\"curriculum_requisites\\\":[{\\\"source_id\\\":514436949421964,\\\"target_id\\\":472204883675305,\\\"type\\\":\\\"prereq\\\"}],\\\"name\\\":\\\" \\\",\\\"metrics\\\":{\\\"centrality\\\":0,\\\"complexity\\\":3.0,\\\"blocking factor\\\":0,\\\"delay factor\\\":3.0},\\\"canonical_name\\\":\\\"\\\",\\\"nameSub\\\":\\\"Calculus III\\\",\\\"id\\\":472204883675305,\\\"credits\\\":4},{\\\"curriculum_requisites\\\":[{\\\"source_id\\\":514436949421964,\\\"target_id\\\":418070079709579,\\\"type\\\":\\\"prereq\\\"}],\\\"name\\\":\\\" \\\",\\\"metrics\\\":{\\\"centrality\\\":4,\\\"complexity\\\":5.0,\\\"blocking factor\\\":1,\\\"delay factor\\\":4.0},\\\"canonical_name\\\":\\\"\\\",\\\"nameSub\\\":\\\"Differential Eqs.\\\",\\\"id\\\":418070079709579,\\\"credits\\\":3}],\\\"id\\\":3},{\\\"name\\\":\\\"Term 4\\\",\\\"curriculum_items\\\":[{\\\"curriculum_requisites\\\":[{\\\"source_id\\\":418070079709579,\\\"target_id\\\":3483633153363,\\\"type\\\":\\\"prereq\\\"},{\\\"source_id\\\":740186718416306,\\\"target_id\\\":3483633153363,\\\"type\\\":\\\"prereq\\\"},{\\\"source_id\\\":835269000045333,\\\"target_id\\\":3483633153363,\\\"type\\\":\\\"prereq\\\"}],\\\"name\\\":\\\" \\\",\\\"metrics\\\":{\\\"centrality\\\":0,\\\"complexity\\\":4.0,\\\"blocking factor\\\":0,\\\"delay factor\\\":4.0},\\\"canonical_name\\\":\\\"\\\",\\\"nameSub\\\":\\\"Circuits I\\\",\\\"id\\\":3483633153363,\\\"credits\\\":3}],\\\"id\\\":4}],\\\"institution\\\":\\\"Wright State University \\\"}},\\\"*\\\"); window.removeEventListener(\\\"message\\\",window.messageReceived); window.messageReceived=(function (event){return (event.data.curriculum!==undefined) ? (_webIOScope.setObservableValue({\\\"name\\\":\\\"curriculum-data\\\",\\\"scope\\\":\\\"scope-c2829c16-ff19-4301-bf64-ff212b42edda\\\",\\\"id\\\":\\\"ob_01\\\",\\\"type\\\":\\\"observable\\\"},event.data.curriculum)) : undefined}); return window.addEventListener(\\\"message\\\",window.messageReceived)})\")),:style=>Dict(:padding=>\"0\",:height=>\"100vh\",:margin=>\"0\",:border=>\"none\",:width=>\"100%\")), 1), Dict{String,Tuple{Observables.AbstractObservable,Union{Nothing, Bool}}}(\"curriculum-data\"=>(Observable{Dict{String,Any}} with 1 listeners. Value:\n",
       "Dict{String,Any}(\"options\"=>Dict{String,Any}(\"hideTerms\"=>false,\"edit\"=>true),\"curriculum\"=>Dict{String,Any}(\"name\"=>\"EE Program\",\"dp_name\"=>\"Curricular Pattern-Calculus Ready \",\"curriculum_terms\"=>Dict{String,Any}[Dict(\"name\"=>\"Term 1\",\"curriculum_items\"=>Dict{String,Any}[Dict(\"curriculum_requisites\"=>Dict{String,Any}[],\"name\"=>\" \",\"metrics\"=>Dict{String,Any}(\"centrality\"=>0,\"complexity\"=>10.0,\"blocking factor\"=>6,\"delay factor\"=>4.0),\"canonical_name\"=>\"\",\"nameSub\"=>\"Calculus I\",\"id\"=>109292059728065,\"credits\"=>4)],\"id\"=>1), Dict(\"name\"=>\"Term 2\",\"curriculum_items\"=>Dict{String,Any}[Dict(\"curriculum_requisites\"=>Dict{String,Any}[Dict(\"source_id\"=>109292059728065,\"target_id\"=>514436949421964,\"type\"=>\"prereq\")],\"name\"=>\" \",\"metrics\"=>Dict{String,Any}(\"centrality\"=>7,\"complexity\"=>7.0,\"blocking factor\"=>3,\"delay factor\"=>4.0),\"canonical_name\"=>\"\",\"nameSub\"=>\"Calculus II\",\"id\"=>514436949421964,\"credits\"=>4), Dict(\"curriculum_requisites\"=>Dict{String,Any}[Dict(\"source_id\"=>109292059728065,\"target_id\"=>740186718416306,\"type\"=>\"prereq\")],\"name\"=>\" \",\"metrics\"=>Dict{String,Any}(\"centrality\"=>3,\"complexity\"=>3.0,\"blocking factor\"=>1,\"delay factor\"=>2.0),\"canonical_name\"=>\"\",\"nameSub\"=>\"Physics I\",\"id\"=>740186718416306,\"credits\"=>4), Dict(\"curriculum_requisites\"=>Dict{String,Any}[Dict(\"source_id\"=>109292059728065,\"target_id\"=>835269000045333,\"type\"=>\"prereq\")],\"name\"=>\" \",\"metrics\"=>Dict{String,Any}(\"centrality\"=>3,\"complexity\"=>3.0,\"blocking factor\"=>1,\"delay factor\"=>2.0),\"canonical_name\"=>\"\",\"nameSub\"=>\"Programming I\",\"id\"=>835269000045333,\"credits\"=>3)],\"id\"=>2), Dict(\"name\"=>\"Term 3\",\"curriculum_items\"=>Dict{String,Any}[Dict(\"curriculum_requisites\"=>Dict{String,Any}[Dict(\"source_id\"=>514436949421964,\"target_id\"=>472204883675305,\"type\"=>\"prereq\")],\"name\"=>\" \",\"metrics\"=>Dict{String,Any}(\"centrality\"=>0,\"complexity\"=>3.0,\"blocking factor\"=>0,\"delay factor\"=>3.0),\"canonical_name\"=>\"\",\"nameSub\"=>\"Calculus III\",\"id\"=>472204883675305,\"credits\"=>4), Dict(\"curriculum_requisites\"=>Dict{String,Any}[Dict(\"source_id\"=>514436949421964,\"target_id\"=>418070079709579,\"type\"=>\"prereq\")],\"name\"=>\" \",\"metrics\"=>Dict{String,Any}(\"centrality\"=>4,\"complexity\"=>5.0,\"blocking factor\"=>1,\"delay factor\"=>4.0),\"canonical_name\"=>\"\",\"nameSub\"=>\"Differential Eqs.\",\"id\"=>418070079709579,\"credits\"=>3)],\"id\"=>3), Dict(\"name\"=>\"Term 4\",\"curriculum_items\"=>Dict{String,Any}[Dict(\"curriculum_requisites\"=>Dict{String,Any}[Dict(\"source_id\"=>418070079709579,\"target_id\"=>3483633153363,\"type\"=>\"prereq\"), Dict(\"source_id\"=>740186718416306,\"target_id\"=>3483633153363,\"type\"=>\"prereq\"), Dict(\"source_id\"=>835269000045333,\"target_id\"=>3483633153363,\"type\"=>\"prereq\")],\"name\"=>\" \",\"metrics\"=>Dict{String,Any}(\"centrality\"=>0,\"complexity\"=>4.0,\"blocking factor\"=>0,\"delay factor\"=>4.0),\"canonical_name\"=>\"\",\"nameSub\"=>\"Circuits I\",\"id\"=>3483633153363,\"credits\"=>3)],\"id\"=>4)],\"institution\"=>\"Wright State University \")), nothing)), Set(String[]), nothing, Any[], Dict{Any,Any}(), WebIO.ConnectionPool(Channel{Any}(sz_max:9223372036854775807,sz_curr:0), Set(WebIO.AbstractConnection[]), Channel{WebIO.AbstractConnection}(sz_max:32,sz_curr:0)))"
      ]
     },
     "execution_count": 2,
     "metadata": {
      "application/vnd.webio.node+json": {
       "kernelId": "fc3463b8-2aee-44cc-836b-de329e64ef80"
      }
     },
     "output_type": "execute_result"
    }
   ],
   "source": [
    "out = read_csv_new(\"examples\\\\WSU-EE-CalcReady.csv\")\n",
    "#visualize(out, notebook=true)\n",
    "visualize(out , changed=update_plan, edit=true, notebook=true)"
   ]
  },
  {
   "cell_type": "code",
   "execution_count": 8,
   "metadata": {
    "scrolled": false
   },
   "outputs": [
    {
     "data": {
      "application/vnd.webio.node+json": {
       "children": [
        {
         "children": [
          ""
         ],
         "instanceArgs": {
          "namespace": "html",
          "tag": "iframe"
         },
         "nodeType": "DOM",
         "props": {
          "events": {
           "load": "(function (){this.contentWindow.postMessage({\"options\":{\"hideTerms\":true,\"edit\":true},\"curriculum\":{\"name\":\"Underwater Basket Weaving\",\"dp_name\":\"\",\"curriculum_terms\":[{\"name\":\"Term 1\",\"curriculum_items\":[{\"curriculum_requisites\":[],\"name\":\"BW 101\",\"metrics\":{},\"canonical_name\":\"\",\"nameSub\":\"Introduction to Baskets\",\"id\":805354485981319,\"credits\":3},{\"curriculum_requisites\":[],\"name\":\"PE 115\",\"metrics\":{},\"canonical_name\":\"\",\"nameSub\":\"Swimming\",\"id\":164545800145057,\"credits\":3},{\"curriculum_requisites\":[],\"name\":\"MA 116\",\"metrics\":{},\"canonical_name\":\"\",\"nameSub\":\"Introductory Calculus w/ Applications\",\"id\":315329977363911,\"credits\":4}],\"id\":1},{\"name\":\"Term 2\",\"curriculum_items\":[{\"curriculum_requisites\":[{\"source_id\":561112174411441,\"target_id\":137550127561570,\"type\":\"strict-coreq\"},{\"source_id\":805354485981319,\"target_id\":137550127561570,\"type\":\"prereq\"}],\"name\":\"BW 111\",\"metrics\":{},\"canonical_name\":\"\",\"nameSub\":\"Basic Basket Forms\",\"id\":137550127561570,\"credits\":3},{\"curriculum_requisites\":[],\"name\":\"BW 111L\",\"metrics\":{},\"canonical_name\":\"\",\"nameSub\":\"Basic Basket Forms Lab\",\"id\":561112174411441,\"credits\":1},{\"curriculum_requisites\":[{\"source_id\":561112174411441,\"target_id\":829477907365796,\"type\":\"prereq\"},{\"source_id\":315329977363911,\"target_id\":829477907365796,\"type\":\"prereq\"},{\"source_id\":137550127561570,\"target_id\":829477907365796,\"type\":\"prereq\"}],\"name\":\"BW 201\",\"metrics\":{},\"canonical_name\":\"\",\"nameSub\":\"Advanced Basketry\",\"id\":829477907365796,\"credits\":3}],\"id\":2},{\"name\":\"Term 3\",\"curriculum_items\":[{\"curriculum_requisites\":[{\"source_id\":805354485981319,\"target_id\":446198597611294,\"type\":\"prereq\"}],\"name\":\"BW 214\",\"metrics\":{},\"canonical_name\":\"\",\"nameSub\":\"Basket Materials & Decoration\",\"id\":446198597611294,\"credits\":3},{\"curriculum_requisites\":[{\"source_id\":164545800145057,\"target_id\":899528509081549,\"type\":\"prereq\"},{\"source_id\":446198597611294,\"target_id\":899528509081549,\"type\":\"prereq\"}],\"name\":\"BW 301\",\"metrics\":{},\"canonical_name\":\"\",\"nameSub\":\"Underwater Weaving\",\"id\":899528509081549,\"credits\":3}],\"id\":3}],\"institution\":\"\"}},\"*\"); window.removeEventListener(\"message\",window.messageReceived); window.messageReceived=(function (event){return (event.data.curriculum!==undefined) ? (_webIOScope.setObservableValue({\"name\":\"curriculum-data\",\"scope\":\"scope-0881b9f5-98fa-4520-a09d-61adf92eb0e2\",\"id\":\"ob_07\",\"type\":\"observable\"},event.data.curriculum)) : undefined}); return window.addEventListener(\"message\",window.messageReceived)})"
          },
          "id": "curriculum",
          "src": "http://localhost:8156",
          "style": {
           "border": "none",
           "height": "100vh",
           "margin": "0",
           "padding": "0",
           "width": "100%"
          }
         },
         "type": "node"
        }
       ],
       "instanceArgs": {
        "handlers": {},
        "id": "scope-0881b9f5-98fa-4520-a09d-61adf92eb0e2",
        "imports": {
         "data": [],
         "type": "async_block"
        },
        "observables": {
         "curriculum-data": {
          "id": "ob_07",
          "sync": true,
          "value": {
           "curriculum": {
            "curriculum_terms": [
             {
              "curriculum_items": [
               {
                "canonical_name": "",
                "credits": 3,
                "curriculum_requisites": [],
                "id": 805354485981319,
                "metrics": {},
                "name": "BW 101",
                "nameSub": "Introduction to Baskets"
               },
               {
                "canonical_name": "",
                "credits": 3,
                "curriculum_requisites": [],
                "id": 164545800145057,
                "metrics": {},
                "name": "PE 115",
                "nameSub": "Swimming"
               },
               {
                "canonical_name": "",
                "credits": 4,
                "curriculum_requisites": [],
                "id": 315329977363911,
                "metrics": {},
                "name": "MA 116",
                "nameSub": "Introductory Calculus w/ Applications"
               }
              ],
              "id": 1,
              "name": "Term 1"
             },
             {
              "curriculum_items": [
               {
                "canonical_name": "",
                "credits": 3,
                "curriculum_requisites": [
                 {
                  "source_id": 561112174411441,
                  "target_id": 137550127561570,
                  "type": "strict-coreq"
                 },
                 {
                  "source_id": 805354485981319,
                  "target_id": 137550127561570,
                  "type": "prereq"
                 }
                ],
                "id": 137550127561570,
                "metrics": {},
                "name": "BW 111",
                "nameSub": "Basic Basket Forms"
               },
               {
                "canonical_name": "",
                "credits": 1,
                "curriculum_requisites": [],
                "id": 561112174411441,
                "metrics": {},
                "name": "BW 111L",
                "nameSub": "Basic Basket Forms Lab"
               },
               {
                "canonical_name": "",
                "credits": 3,
                "curriculum_requisites": [
                 {
                  "source_id": 561112174411441,
                  "target_id": 829477907365796,
                  "type": "prereq"
                 },
                 {
                  "source_id": 315329977363911,
                  "target_id": 829477907365796,
                  "type": "prereq"
                 },
                 {
                  "source_id": 137550127561570,
                  "target_id": 829477907365796,
                  "type": "prereq"
                 }
                ],
                "id": 829477907365796,
                "metrics": {},
                "name": "BW 201",
                "nameSub": "Advanced Basketry"
               }
              ],
              "id": 2,
              "name": "Term 2"
             },
             {
              "curriculum_items": [
               {
                "canonical_name": "",
                "credits": 3,
                "curriculum_requisites": [
                 {
                  "source_id": 805354485981319,
                  "target_id": 446198597611294,
                  "type": "prereq"
                 }
                ],
                "id": 446198597611294,
                "metrics": {},
                "name": "BW 214",
                "nameSub": "Basket Materials & Decoration"
               },
               {
                "canonical_name": "",
                "credits": 3,
                "curriculum_requisites": [
                 {
                  "source_id": 164545800145057,
                  "target_id": 899528509081549,
                  "type": "prereq"
                 },
                 {
                  "source_id": 446198597611294,
                  "target_id": 899528509081549,
                  "type": "prereq"
                 }
                ],
                "id": 899528509081549,
                "metrics": {},
                "name": "BW 301",
                "nameSub": "Underwater Weaving"
               }
              ],
              "id": 3,
              "name": "Term 3"
             }
            ],
            "dp_name": "",
            "institution": "",
            "name": "Underwater Basket Weaving"
           },
           "options": {
            "edit": true,
            "hideTerms": true
           }
          }
         }
        },
        "systemjs_options": null
       },
       "nodeType": "Scope",
       "props": {},
       "type": "node"
      },
      "text/html": [
       "<div\n",
       "    class=\"webio-mountpoint\"\n",
       "    data-webio-mountpoint=\"6342731913202020808\"\n",
       ">\n",
       "    <script>\n",
       "    if (window.require && require.defined && require.defined(\"nbextensions/webio/main\")) {\n",
       "        console.log(\"Jupyter WebIO extension detected, not mounting.\");\n",
       "    } else if (window.WebIO) {\n",
       "        WebIO.mount(\n",
       "            document.querySelector('[data-webio-mountpoint=\"6342731913202020808\"]'),\n",
       "            {\"props\":{},\"nodeType\":\"Scope\",\"type\":\"node\",\"instanceArgs\":{\"imports\":{\"data\":[],\"type\":\"async_block\"},\"id\":\"scope-0881b9f5-98fa-4520-a09d-61adf92eb0e2\",\"handlers\":{},\"systemjs_options\":null,\"observables\":{\"curriculum-data\":{\"sync\":true,\"id\":\"ob_07\",\"value\":{\"options\":{\"hideTerms\":true,\"edit\":true},\"curriculum\":{\"name\":\"Underwater Basket Weaving\",\"dp_name\":\"\",\"curriculum_terms\":[{\"name\":\"Term 1\",\"curriculum_items\":[{\"curriculum_requisites\":[],\"name\":\"BW 101\",\"metrics\":{},\"canonical_name\":\"\",\"nameSub\":\"Introduction to Baskets\",\"id\":805354485981319,\"credits\":3},{\"curriculum_requisites\":[],\"name\":\"PE 115\",\"metrics\":{},\"canonical_name\":\"\",\"nameSub\":\"Swimming\",\"id\":164545800145057,\"credits\":3},{\"curriculum_requisites\":[],\"name\":\"MA 116\",\"metrics\":{},\"canonical_name\":\"\",\"nameSub\":\"Introductory Calculus w\\/ Applications\",\"id\":315329977363911,\"credits\":4}],\"id\":1},{\"name\":\"Term 2\",\"curriculum_items\":[{\"curriculum_requisites\":[{\"source_id\":561112174411441,\"target_id\":137550127561570,\"type\":\"strict-coreq\"},{\"source_id\":805354485981319,\"target_id\":137550127561570,\"type\":\"prereq\"}],\"name\":\"BW 111\",\"metrics\":{},\"canonical_name\":\"\",\"nameSub\":\"Basic Basket Forms\",\"id\":137550127561570,\"credits\":3},{\"curriculum_requisites\":[],\"name\":\"BW 111L\",\"metrics\":{},\"canonical_name\":\"\",\"nameSub\":\"Basic Basket Forms Lab\",\"id\":561112174411441,\"credits\":1},{\"curriculum_requisites\":[{\"source_id\":561112174411441,\"target_id\":829477907365796,\"type\":\"prereq\"},{\"source_id\":315329977363911,\"target_id\":829477907365796,\"type\":\"prereq\"},{\"source_id\":137550127561570,\"target_id\":829477907365796,\"type\":\"prereq\"}],\"name\":\"BW 201\",\"metrics\":{},\"canonical_name\":\"\",\"nameSub\":\"Advanced Basketry\",\"id\":829477907365796,\"credits\":3}],\"id\":2},{\"name\":\"Term 3\",\"curriculum_items\":[{\"curriculum_requisites\":[{\"source_id\":805354485981319,\"target_id\":446198597611294,\"type\":\"prereq\"}],\"name\":\"BW 214\",\"metrics\":{},\"canonical_name\":\"\",\"nameSub\":\"Basket Materials & Decoration\",\"id\":446198597611294,\"credits\":3},{\"curriculum_requisites\":[{\"source_id\":164545800145057,\"target_id\":899528509081549,\"type\":\"prereq\"},{\"source_id\":446198597611294,\"target_id\":899528509081549,\"type\":\"prereq\"}],\"name\":\"BW 301\",\"metrics\":{},\"canonical_name\":\"\",\"nameSub\":\"Underwater Weaving\",\"id\":899528509081549,\"credits\":3}],\"id\":3}],\"institution\":\"\"}}}}},\"children\":[{\"props\":{\"src\":\"http:\\/\\/localhost:8156\",\"id\":\"curriculum\",\"events\":{\"load\":\"(function (){this.contentWindow.postMessage({\\\"options\\\":{\\\"hideTerms\\\":true,\\\"edit\\\":true},\\\"curriculum\\\":{\\\"name\\\":\\\"Underwater Basket Weaving\\\",\\\"dp_name\\\":\\\"\\\",\\\"curriculum_terms\\\":[{\\\"name\\\":\\\"Term 1\\\",\\\"curriculum_items\\\":[{\\\"curriculum_requisites\\\":[],\\\"name\\\":\\\"BW 101\\\",\\\"metrics\\\":{},\\\"canonical_name\\\":\\\"\\\",\\\"nameSub\\\":\\\"Introduction to Baskets\\\",\\\"id\\\":805354485981319,\\\"credits\\\":3},{\\\"curriculum_requisites\\\":[],\\\"name\\\":\\\"PE 115\\\",\\\"metrics\\\":{},\\\"canonical_name\\\":\\\"\\\",\\\"nameSub\\\":\\\"Swimming\\\",\\\"id\\\":164545800145057,\\\"credits\\\":3},{\\\"curriculum_requisites\\\":[],\\\"name\\\":\\\"MA 116\\\",\\\"metrics\\\":{},\\\"canonical_name\\\":\\\"\\\",\\\"nameSub\\\":\\\"Introductory Calculus w\\/ Applications\\\",\\\"id\\\":315329977363911,\\\"credits\\\":4}],\\\"id\\\":1},{\\\"name\\\":\\\"Term 2\\\",\\\"curriculum_items\\\":[{\\\"curriculum_requisites\\\":[{\\\"source_id\\\":561112174411441,\\\"target_id\\\":137550127561570,\\\"type\\\":\\\"strict-coreq\\\"},{\\\"source_id\\\":805354485981319,\\\"target_id\\\":137550127561570,\\\"type\\\":\\\"prereq\\\"}],\\\"name\\\":\\\"BW 111\\\",\\\"metrics\\\":{},\\\"canonical_name\\\":\\\"\\\",\\\"nameSub\\\":\\\"Basic Basket Forms\\\",\\\"id\\\":137550127561570,\\\"credits\\\":3},{\\\"curriculum_requisites\\\":[],\\\"name\\\":\\\"BW 111L\\\",\\\"metrics\\\":{},\\\"canonical_name\\\":\\\"\\\",\\\"nameSub\\\":\\\"Basic Basket Forms Lab\\\",\\\"id\\\":561112174411441,\\\"credits\\\":1},{\\\"curriculum_requisites\\\":[{\\\"source_id\\\":561112174411441,\\\"target_id\\\":829477907365796,\\\"type\\\":\\\"prereq\\\"},{\\\"source_id\\\":315329977363911,\\\"target_id\\\":829477907365796,\\\"type\\\":\\\"prereq\\\"},{\\\"source_id\\\":137550127561570,\\\"target_id\\\":829477907365796,\\\"type\\\":\\\"prereq\\\"}],\\\"name\\\":\\\"BW 201\\\",\\\"metrics\\\":{},\\\"canonical_name\\\":\\\"\\\",\\\"nameSub\\\":\\\"Advanced Basketry\\\",\\\"id\\\":829477907365796,\\\"credits\\\":3}],\\\"id\\\":2},{\\\"name\\\":\\\"Term 3\\\",\\\"curriculum_items\\\":[{\\\"curriculum_requisites\\\":[{\\\"source_id\\\":805354485981319,\\\"target_id\\\":446198597611294,\\\"type\\\":\\\"prereq\\\"}],\\\"name\\\":\\\"BW 214\\\",\\\"metrics\\\":{},\\\"canonical_name\\\":\\\"\\\",\\\"nameSub\\\":\\\"Basket Materials & Decoration\\\",\\\"id\\\":446198597611294,\\\"credits\\\":3},{\\\"curriculum_requisites\\\":[{\\\"source_id\\\":164545800145057,\\\"target_id\\\":899528509081549,\\\"type\\\":\\\"prereq\\\"},{\\\"source_id\\\":446198597611294,\\\"target_id\\\":899528509081549,\\\"type\\\":\\\"prereq\\\"}],\\\"name\\\":\\\"BW 301\\\",\\\"metrics\\\":{},\\\"canonical_name\\\":\\\"\\\",\\\"nameSub\\\":\\\"Underwater Weaving\\\",\\\"id\\\":899528509081549,\\\"credits\\\":3}],\\\"id\\\":3}],\\\"institution\\\":\\\"\\\"}},\\\"*\\\"); window.removeEventListener(\\\"message\\\",window.messageReceived); window.messageReceived=(function (event){return (event.data.curriculum!==undefined) ? (_webIOScope.setObservableValue({\\\"name\\\":\\\"curriculum-data\\\",\\\"scope\\\":\\\"scope-0881b9f5-98fa-4520-a09d-61adf92eb0e2\\\",\\\"id\\\":\\\"ob_07\\\",\\\"type\\\":\\\"observable\\\"},event.data.curriculum)) : undefined}); return window.addEventListener(\\\"message\\\",window.messageReceived)})\"},\"style\":{\"padding\":\"0\",\"height\":\"100vh\",\"margin\":\"0\",\"border\":\"none\",\"width\":\"100%\"}},\"nodeType\":\"DOM\",\"type\":\"node\",\"instanceArgs\":{\"namespace\":\"html\",\"tag\":\"iframe\"},\"children\":[\"\"]}]},\n",
       "        );\n",
       "    } else {\n",
       "        document\n",
       "            .querySelector('[data-webio-mountpoint=\"6342731913202020808\"]')\n",
       "            .innerHTML = '<strong>WebIO not detected.</strong>';\n",
       "    }\n",
       "    </script>\n",
       "</div>\n"
      ],
      "text/plain": [
       "WebIO.Scope(\"scope-0881b9f5-98fa-4520-a09d-61adf92eb0e2\", WebIO.Node{WebIO.DOM}(WebIO.DOM(:html, :iframe), Any[\"\"], Dict{Symbol,Any}(:src=>\"http://localhost:8156\",:id=>\"curriculum\",:events=>Dict(:load=>JSString(\"(function (){this.contentWindow.postMessage({\\\"options\\\":{\\\"hideTerms\\\":true,\\\"edit\\\":true},\\\"curriculum\\\":{\\\"name\\\":\\\"Underwater Basket Weaving\\\",\\\"dp_name\\\":\\\"\\\",\\\"curriculum_terms\\\":[{\\\"name\\\":\\\"Term 1\\\",\\\"curriculum_items\\\":[{\\\"curriculum_requisites\\\":[],\\\"name\\\":\\\"BW 101\\\",\\\"metrics\\\":{},\\\"canonical_name\\\":\\\"\\\",\\\"nameSub\\\":\\\"Introduction to Baskets\\\",\\\"id\\\":805354485981319,\\\"credits\\\":3},{\\\"curriculum_requisites\\\":[],\\\"name\\\":\\\"PE 115\\\",\\\"metrics\\\":{},\\\"canonical_name\\\":\\\"\\\",\\\"nameSub\\\":\\\"Swimming\\\",\\\"id\\\":164545800145057,\\\"credits\\\":3},{\\\"curriculum_requisites\\\":[],\\\"name\\\":\\\"MA 116\\\",\\\"metrics\\\":{},\\\"canonical_name\\\":\\\"\\\",\\\"nameSub\\\":\\\"Introductory Calculus w/ Applications\\\",\\\"id\\\":315329977363911,\\\"credits\\\":4}],\\\"id\\\":1},{\\\"name\\\":\\\"Term 2\\\",\\\"curriculum_items\\\":[{\\\"curriculum_requisites\\\":[{\\\"source_id\\\":561112174411441,\\\"target_id\\\":137550127561570,\\\"type\\\":\\\"strict-coreq\\\"},{\\\"source_id\\\":805354485981319,\\\"target_id\\\":137550127561570,\\\"type\\\":\\\"prereq\\\"}],\\\"name\\\":\\\"BW 111\\\",\\\"metrics\\\":{},\\\"canonical_name\\\":\\\"\\\",\\\"nameSub\\\":\\\"Basic Basket Forms\\\",\\\"id\\\":137550127561570,\\\"credits\\\":3},{\\\"curriculum_requisites\\\":[],\\\"name\\\":\\\"BW 111L\\\",\\\"metrics\\\":{},\\\"canonical_name\\\":\\\"\\\",\\\"nameSub\\\":\\\"Basic Basket Forms Lab\\\",\\\"id\\\":561112174411441,\\\"credits\\\":1},{\\\"curriculum_requisites\\\":[{\\\"source_id\\\":561112174411441,\\\"target_id\\\":829477907365796,\\\"type\\\":\\\"prereq\\\"},{\\\"source_id\\\":315329977363911,\\\"target_id\\\":829477907365796,\\\"type\\\":\\\"prereq\\\"},{\\\"source_id\\\":137550127561570,\\\"target_id\\\":829477907365796,\\\"type\\\":\\\"prereq\\\"}],\\\"name\\\":\\\"BW 201\\\",\\\"metrics\\\":{},\\\"canonical_name\\\":\\\"\\\",\\\"nameSub\\\":\\\"Advanced Basketry\\\",\\\"id\\\":829477907365796,\\\"credits\\\":3}],\\\"id\\\":2},{\\\"name\\\":\\\"Term 3\\\",\\\"curriculum_items\\\":[{\\\"curriculum_requisites\\\":[{\\\"source_id\\\":805354485981319,\\\"target_id\\\":446198597611294,\\\"type\\\":\\\"prereq\\\"}],\\\"name\\\":\\\"BW 214\\\",\\\"metrics\\\":{},\\\"canonical_name\\\":\\\"\\\",\\\"nameSub\\\":\\\"Basket Materials & Decoration\\\",\\\"id\\\":446198597611294,\\\"credits\\\":3},{\\\"curriculum_requisites\\\":[{\\\"source_id\\\":164545800145057,\\\"target_id\\\":899528509081549,\\\"type\\\":\\\"prereq\\\"},{\\\"source_id\\\":446198597611294,\\\"target_id\\\":899528509081549,\\\"type\\\":\\\"prereq\\\"}],\\\"name\\\":\\\"BW 301\\\",\\\"metrics\\\":{},\\\"canonical_name\\\":\\\"\\\",\\\"nameSub\\\":\\\"Underwater Weaving\\\",\\\"id\\\":899528509081549,\\\"credits\\\":3}],\\\"id\\\":3}],\\\"institution\\\":\\\"\\\"}},\\\"*\\\"); window.removeEventListener(\\\"message\\\",window.messageReceived); window.messageReceived=(function (event){return (event.data.curriculum!==undefined) ? (_webIOScope.setObservableValue({\\\"name\\\":\\\"curriculum-data\\\",\\\"scope\\\":\\\"scope-0881b9f5-98fa-4520-a09d-61adf92eb0e2\\\",\\\"id\\\":\\\"ob_07\\\",\\\"type\\\":\\\"observable\\\"},event.data.curriculum)) : undefined}); return window.addEventListener(\\\"message\\\",window.messageReceived)})\")),:style=>Dict(:padding=>\"0\",:height=>\"100vh\",:margin=>\"0\",:border=>\"none\",:width=>\"100%\")), 1), Dict{String,Tuple{Observables.AbstractObservable,Union{Nothing, Bool}}}(\"curriculum-data\"=>(Observable{Dict{String,Any}} with 1 listeners. Value:\n",
       "Dict{String,Any}(\"options\"=>Dict{String,Any}(\"hideTerms\"=>true,\"edit\"=>true),\"curriculum\"=>Dict{String,Any}(\"name\"=>\"Underwater Basket Weaving\",\"dp_name\"=>\"\",\"curriculum_terms\"=>Dict{String,Any}[Dict(\"name\"=>\"Term 1\",\"curriculum_items\"=>Dict{String,Any}[Dict(\"curriculum_requisites\"=>Dict{String,Any}[],\"name\"=>\"BW 101\",\"metrics\"=>Dict{String,Any}(),\"canonical_name\"=>\"\",\"nameSub\"=>\"Introduction to Baskets\",\"id\"=>805354485981319,\"credits\"=>3), Dict(\"curriculum_requisites\"=>Dict{String,Any}[],\"name\"=>\"PE 115\",\"metrics\"=>Dict{String,Any}(),\"canonical_name\"=>\"\",\"nameSub\"=>\"Swimming\",\"id\"=>164545800145057,\"credits\"=>3), Dict(\"curriculum_requisites\"=>Dict{String,Any}[],\"name\"=>\"MA 116\",\"metrics\"=>Dict{String,Any}(),\"canonical_name\"=>\"\",\"nameSub\"=>\"Introductory Calculus w/ Applications\",\"id\"=>315329977363911,\"credits\"=>4)],\"id\"=>1), Dict(\"name\"=>\"Term 2\",\"curriculum_items\"=>Dict{String,Any}[Dict(\"curriculum_requisites\"=>Dict{String,Any}[Dict(\"source_id\"=>561112174411441,\"target_id\"=>137550127561570,\"type\"=>\"strict-coreq\"), Dict(\"source_id\"=>805354485981319,\"target_id\"=>137550127561570,\"type\"=>\"prereq\")],\"name\"=>\"BW 111\",\"metrics\"=>Dict{String,Any}(),\"canonical_name\"=>\"\",\"nameSub\"=>\"Basic Basket Forms\",\"id\"=>137550127561570,\"credits\"=>3), Dict(\"curriculum_requisites\"=>Dict{String,Any}[],\"name\"=>\"BW 111L\",\"metrics\"=>Dict{String,Any}(),\"canonical_name\"=>\"\",\"nameSub\"=>\"Basic Basket Forms Lab\",\"id\"=>561112174411441,\"credits\"=>1), Dict(\"curriculum_requisites\"=>Dict{String,Any}[Dict(\"source_id\"=>561112174411441,\"target_id\"=>829477907365796,\"type\"=>\"prereq\"), Dict(\"source_id\"=>315329977363911,\"target_id\"=>829477907365796,\"type\"=>\"prereq\"), Dict(\"source_id\"=>137550127561570,\"target_id\"=>829477907365796,\"type\"=>\"prereq\")],\"name\"=>\"BW 201\",\"metrics\"=>Dict{String,Any}(),\"canonical_name\"=>\"\",\"nameSub\"=>\"Advanced Basketry\",\"id\"=>829477907365796,\"credits\"=>3)],\"id\"=>2), Dict(\"name\"=>\"Term 3\",\"curriculum_items\"=>Dict{String,Any}[Dict(\"curriculum_requisites\"=>Dict{String,Any}[Dict(\"source_id\"=>805354485981319,\"target_id\"=>446198597611294,\"type\"=>\"prereq\")],\"name\"=>\"BW 214\",\"metrics\"=>Dict{String,Any}(),\"canonical_name\"=>\"\",\"nameSub\"=>\"Basket Materials & Decoration\",\"id\"=>446198597611294,\"credits\"=>3), Dict(\"curriculum_requisites\"=>Dict{String,Any}[Dict(\"source_id\"=>164545800145057,\"target_id\"=>899528509081549,\"type\"=>\"prereq\"), Dict(\"source_id\"=>446198597611294,\"target_id\"=>899528509081549,\"type\"=>\"prereq\")],\"name\"=>\"BW 301\",\"metrics\"=>Dict{String,Any}(),\"canonical_name\"=>\"\",\"nameSub\"=>\"Underwater Weaving\",\"id\"=>899528509081549,\"credits\"=>3)],\"id\"=>3)],\"institution\"=>\"\")), nothing)), Set(String[]), nothing, Any[], Dict{Any,Any}(), WebIO.ConnectionPool(Channel{Any}(sz_max:9223372036854775807,sz_curr:0), Set(WebIO.AbstractConnection[]), Channel{WebIO.AbstractConnection}(sz_max:32,sz_curr:0)))"
      ]
     },
     "execution_count": 8,
     "metadata": {
      "application/vnd.webio.node+json": {
       "kernelId": "fc3463b8-2aee-44cc-836b-de329e64ef80"
      }
     },
     "output_type": "execute_result"
    }
   ],
   "source": [
    "out = read_csv_new(\"examples\\\\UBW_curriculum_terms.csv\")\n",
    "visualize(out, edit=true, notebook=true)"
   ]
  },
  {
   "cell_type": "code",
   "execution_count": 4,
   "metadata": {
    "scrolled": false
   },
   "outputs": [
    {
     "name": "stderr",
     "output_type": "stream",
     "text": [
      "┌ Info: Accept (3):  🔗    0↑     0↓    0s 127.0.0.1:8156:8156 ≣16\n",
      "└ @ HTTP.Servers C:\\Users\\orhan\\.julia\\packages\\HTTP\\YjRCz\\src\\Servers.jl:343\n",
      "┌ Info: Accept (4):  🔗    0↑     0↓    0s 127.0.0.1:8156:8156 ≣16\n",
      "└ @ HTTP.Servers C:\\Users\\orhan\\.julia\\packages\\HTTP\\YjRCz\\src\\Servers.jl:343\n",
      "┌ Info: Accept (5):  🔗    0↑     0↓    0s 127.0.0.1:8156:8156 ≣16\n",
      "└ @ HTTP.Servers C:\\Users\\orhan\\.julia\\packages\\HTTP\\YjRCz\\src\\Servers.jl:343\n",
      "┌ Info: Accept (6):  🔗    0↑     0↓    0s 127.0.0.1:8156:8156 ≣16\n",
      "└ @ HTTP.Servers C:\\Users\\orhan\\.julia\\packages\\HTTP\\YjRCz\\src\\Servers.jl:343\n"
     ]
    },
    {
     "data": {
      "application/vnd.webio.node+json": {
       "children": [
        {
         "children": [
          ""
         ],
         "instanceArgs": {
          "namespace": "html",
          "tag": "iframe"
         },
         "nodeType": "DOM",
         "props": {
          "events": {
           "load": "(function (){this.contentWindow.postMessage({\"options\":{\"hideTerms\":false,\"edit\":true},\"curriculum\":{\"name\":\"Curriculum 1\",\"dp_name\":\"\",\"curriculum_terms\":[{\"name\":\"Term 1\",\"curriculum_items\":[{\"curriculum_requisites\":[],\"name\":\"C 1\",\"metrics\":{\"centrality\":0,\"complexity\":5.0,\"blocking factor\":2,\"delay factor\":3.0},\"canonical_name\":\"Course Example 1\",\"nameSub\":\"Course 1\",\"id\":83103531174362,\"credits\":3},{\"curriculum_requisites\":[{\"source_id\":83103531174362,\"target_id\":735442290475298,\"type\":\"prereq\"}],\"name\":\"C 2\",\"metrics\":{\"centrality\":3,\"complexity\":4.0,\"blocking factor\":1,\"delay factor\":3.0},\"canonical_name\":\"Course Example 2\",\"nameSub\":\"Course 2\",\"id\":735442290475298,\"credits\":2}],\"id\":1},{\"name\":\"Term 2\",\"curriculum_items\":[{\"curriculum_requisites\":[{\"source_id\":735442290475298,\"target_id\":725926841716240,\"type\":\"prereq\"},{\"source_id\":83103531174362,\"target_id\":725926841716240,\"type\":\"prereq\"}],\"name\":\"AC 1\",\"metrics\":{\"centrality\":0,\"complexity\":3.0,\"blocking factor\":0,\"delay factor\":3.0},\"canonical_name\":\"\",\"nameSub\":\"Additional Course 1\",\"id\":725926841716240,\"credits\":3},{\"curriculum_requisites\":[],\"name\":\"AC 2\",\"metrics\":{\"centrality\":0,\"complexity\":1.0,\"blocking factor\":0,\"delay factor\":1.0},\"canonical_name\":\"\",\"nameSub\":\"Additional Course 2\",\"id\":128128113040531,\"credits\":3}],\"id\":2}],\"institution\":\"Name of the Institution\"}},\"*\"); window.removeEventListener(\"message\",window.messageReceived); window.messageReceived=(function (event){return (event.data.curriculum!==undefined) ? (_webIOScope.setObservableValue({\"name\":\"curriculum-data\",\"scope\":\"scope-003d03e3-b6b7-4bce-ae17-9eba553fcacb\",\"id\":\"ob_03\",\"type\":\"observable\"},event.data.curriculum)) : undefined}); return window.addEventListener(\"message\",window.messageReceived)})"
          },
          "id": "curriculum",
          "src": "http://localhost:8156",
          "style": {
           "border": "none",
           "height": "100vh",
           "margin": "0",
           "padding": "0",
           "width": "100%"
          }
         },
         "type": "node"
        }
       ],
       "instanceArgs": {
        "handlers": {},
        "id": "scope-003d03e3-b6b7-4bce-ae17-9eba553fcacb",
        "imports": {
         "data": [],
         "type": "async_block"
        },
        "observables": {
         "curriculum-data": {
          "id": "ob_03",
          "sync": true,
          "value": {
           "curriculum": {
            "curriculum_terms": [
             {
              "curriculum_items": [
               {
                "canonical_name": "Course Example 1",
                "credits": 3,
                "curriculum_requisites": [],
                "id": 83103531174362,
                "metrics": {
                 "blocking factor": 2,
                 "centrality": 0,
                 "complexity": 5,
                 "delay factor": 3
                },
                "name": "C 1",
                "nameSub": "Course 1"
               },
               {
                "canonical_name": "Course Example 2",
                "credits": 2,
                "curriculum_requisites": [
                 {
                  "source_id": 83103531174362,
                  "target_id": 735442290475298,
                  "type": "prereq"
                 }
                ],
                "id": 735442290475298,
                "metrics": {
                 "blocking factor": 1,
                 "centrality": 3,
                 "complexity": 4,
                 "delay factor": 3
                },
                "name": "C 2",
                "nameSub": "Course 2"
               }
              ],
              "id": 1,
              "name": "Term 1"
             },
             {
              "curriculum_items": [
               {
                "canonical_name": "",
                "credits": 3,
                "curriculum_requisites": [
                 {
                  "source_id": 735442290475298,
                  "target_id": 725926841716240,
                  "type": "prereq"
                 },
                 {
                  "source_id": 83103531174362,
                  "target_id": 725926841716240,
                  "type": "prereq"
                 }
                ],
                "id": 725926841716240,
                "metrics": {
                 "blocking factor": 0,
                 "centrality": 0,
                 "complexity": 3,
                 "delay factor": 3
                },
                "name": "AC 1",
                "nameSub": "Additional Course 1"
               },
               {
                "canonical_name": "",
                "credits": 3,
                "curriculum_requisites": [],
                "id": 128128113040531,
                "metrics": {
                 "blocking factor": 0,
                 "centrality": 0,
                 "complexity": 1,
                 "delay factor": 1
                },
                "name": "AC 2",
                "nameSub": "Additional Course 2"
               }
              ],
              "id": 2,
              "name": "Term 2"
             }
            ],
            "dp_name": "",
            "institution": "Name of the Institution",
            "name": "Curriculum 1"
           },
           "options": {
            "edit": true,
            "hideTerms": false
           }
          }
         }
        },
        "systemjs_options": null
       },
       "nodeType": "Scope",
       "props": {},
       "type": "node"
      },
      "text/html": [
       "<div\n",
       "    class=\"webio-mountpoint\"\n",
       "    data-webio-mountpoint=\"18341309152052273071\"\n",
       ">\n",
       "    <script>\n",
       "    if (window.require && require.defined && require.defined(\"nbextensions/webio/main\")) {\n",
       "        console.log(\"Jupyter WebIO extension detected, not mounting.\");\n",
       "    } else if (window.WebIO) {\n",
       "        WebIO.mount(\n",
       "            document.querySelector('[data-webio-mountpoint=\"18341309152052273071\"]'),\n",
       "            {\"props\":{},\"nodeType\":\"Scope\",\"type\":\"node\",\"instanceArgs\":{\"imports\":{\"data\":[],\"type\":\"async_block\"},\"id\":\"scope-003d03e3-b6b7-4bce-ae17-9eba553fcacb\",\"handlers\":{},\"systemjs_options\":null,\"observables\":{\"curriculum-data\":{\"sync\":true,\"id\":\"ob_03\",\"value\":{\"options\":{\"hideTerms\":false,\"edit\":true},\"curriculum\":{\"name\":\"Curriculum 1\",\"dp_name\":\"\",\"curriculum_terms\":[{\"name\":\"Term 1\",\"curriculum_items\":[{\"curriculum_requisites\":[],\"name\":\"C 1\",\"metrics\":{\"centrality\":0,\"complexity\":5.0,\"blocking factor\":2,\"delay factor\":3.0},\"canonical_name\":\"Course Example 1\",\"nameSub\":\"Course 1\",\"id\":83103531174362,\"credits\":3},{\"curriculum_requisites\":[{\"source_id\":83103531174362,\"target_id\":735442290475298,\"type\":\"prereq\"}],\"name\":\"C 2\",\"metrics\":{\"centrality\":3,\"complexity\":4.0,\"blocking factor\":1,\"delay factor\":3.0},\"canonical_name\":\"Course Example 2\",\"nameSub\":\"Course 2\",\"id\":735442290475298,\"credits\":2}],\"id\":1},{\"name\":\"Term 2\",\"curriculum_items\":[{\"curriculum_requisites\":[{\"source_id\":735442290475298,\"target_id\":725926841716240,\"type\":\"prereq\"},{\"source_id\":83103531174362,\"target_id\":725926841716240,\"type\":\"prereq\"}],\"name\":\"AC 1\",\"metrics\":{\"centrality\":0,\"complexity\":3.0,\"blocking factor\":0,\"delay factor\":3.0},\"canonical_name\":\"\",\"nameSub\":\"Additional Course 1\",\"id\":725926841716240,\"credits\":3},{\"curriculum_requisites\":[],\"name\":\"AC 2\",\"metrics\":{\"centrality\":0,\"complexity\":1.0,\"blocking factor\":0,\"delay factor\":1.0},\"canonical_name\":\"\",\"nameSub\":\"Additional Course 2\",\"id\":128128113040531,\"credits\":3}],\"id\":2}],\"institution\":\"Name of the Institution\"}}}}},\"children\":[{\"props\":{\"src\":\"http:\\/\\/localhost:8156\",\"id\":\"curriculum\",\"events\":{\"load\":\"(function (){this.contentWindow.postMessage({\\\"options\\\":{\\\"hideTerms\\\":false,\\\"edit\\\":true},\\\"curriculum\\\":{\\\"name\\\":\\\"Curriculum 1\\\",\\\"dp_name\\\":\\\"\\\",\\\"curriculum_terms\\\":[{\\\"name\\\":\\\"Term 1\\\",\\\"curriculum_items\\\":[{\\\"curriculum_requisites\\\":[],\\\"name\\\":\\\"C 1\\\",\\\"metrics\\\":{\\\"centrality\\\":0,\\\"complexity\\\":5.0,\\\"blocking factor\\\":2,\\\"delay factor\\\":3.0},\\\"canonical_name\\\":\\\"Course Example 1\\\",\\\"nameSub\\\":\\\"Course 1\\\",\\\"id\\\":83103531174362,\\\"credits\\\":3},{\\\"curriculum_requisites\\\":[{\\\"source_id\\\":83103531174362,\\\"target_id\\\":735442290475298,\\\"type\\\":\\\"prereq\\\"}],\\\"name\\\":\\\"C 2\\\",\\\"metrics\\\":{\\\"centrality\\\":3,\\\"complexity\\\":4.0,\\\"blocking factor\\\":1,\\\"delay factor\\\":3.0},\\\"canonical_name\\\":\\\"Course Example 2\\\",\\\"nameSub\\\":\\\"Course 2\\\",\\\"id\\\":735442290475298,\\\"credits\\\":2}],\\\"id\\\":1},{\\\"name\\\":\\\"Term 2\\\",\\\"curriculum_items\\\":[{\\\"curriculum_requisites\\\":[{\\\"source_id\\\":735442290475298,\\\"target_id\\\":725926841716240,\\\"type\\\":\\\"prereq\\\"},{\\\"source_id\\\":83103531174362,\\\"target_id\\\":725926841716240,\\\"type\\\":\\\"prereq\\\"}],\\\"name\\\":\\\"AC 1\\\",\\\"metrics\\\":{\\\"centrality\\\":0,\\\"complexity\\\":3.0,\\\"blocking factor\\\":0,\\\"delay factor\\\":3.0},\\\"canonical_name\\\":\\\"\\\",\\\"nameSub\\\":\\\"Additional Course 1\\\",\\\"id\\\":725926841716240,\\\"credits\\\":3},{\\\"curriculum_requisites\\\":[],\\\"name\\\":\\\"AC 2\\\",\\\"metrics\\\":{\\\"centrality\\\":0,\\\"complexity\\\":1.0,\\\"blocking factor\\\":0,\\\"delay factor\\\":1.0},\\\"canonical_name\\\":\\\"\\\",\\\"nameSub\\\":\\\"Additional Course 2\\\",\\\"id\\\":128128113040531,\\\"credits\\\":3}],\\\"id\\\":2}],\\\"institution\\\":\\\"Name of the Institution\\\"}},\\\"*\\\"); window.removeEventListener(\\\"message\\\",window.messageReceived); window.messageReceived=(function (event){return (event.data.curriculum!==undefined) ? (_webIOScope.setObservableValue({\\\"name\\\":\\\"curriculum-data\\\",\\\"scope\\\":\\\"scope-003d03e3-b6b7-4bce-ae17-9eba553fcacb\\\",\\\"id\\\":\\\"ob_03\\\",\\\"type\\\":\\\"observable\\\"},event.data.curriculum)) : undefined}); return window.addEventListener(\\\"message\\\",window.messageReceived)})\"},\"style\":{\"padding\":\"0\",\"height\":\"100vh\",\"margin\":\"0\",\"border\":\"none\",\"width\":\"100%\"}},\"nodeType\":\"DOM\",\"type\":\"node\",\"instanceArgs\":{\"namespace\":\"html\",\"tag\":\"iframe\"},\"children\":[\"\"]}]},\n",
       "        );\n",
       "    } else {\n",
       "        document\n",
       "            .querySelector('[data-webio-mountpoint=\"18341309152052273071\"]')\n",
       "            .innerHTML = '<strong>WebIO not detected.</strong>';\n",
       "    }\n",
       "    </script>\n",
       "</div>\n"
      ],
      "text/plain": [
       "WebIO.Scope(\"scope-003d03e3-b6b7-4bce-ae17-9eba553fcacb\", WebIO.Node{WebIO.DOM}(WebIO.DOM(:html, :iframe), Any[\"\"], Dict{Symbol,Any}(:src=>\"http://localhost:8156\",:id=>\"curriculum\",:events=>Dict(:load=>JSString(\"(function (){this.contentWindow.postMessage({\\\"options\\\":{\\\"hideTerms\\\":false,\\\"edit\\\":true},\\\"curriculum\\\":{\\\"name\\\":\\\"Curriculum 1\\\",\\\"dp_name\\\":\\\"\\\",\\\"curriculum_terms\\\":[{\\\"name\\\":\\\"Term 1\\\",\\\"curriculum_items\\\":[{\\\"curriculum_requisites\\\":[],\\\"name\\\":\\\"C 1\\\",\\\"metrics\\\":{\\\"centrality\\\":0,\\\"complexity\\\":5.0,\\\"blocking factor\\\":2,\\\"delay factor\\\":3.0},\\\"canonical_name\\\":\\\"Course Example 1\\\",\\\"nameSub\\\":\\\"Course 1\\\",\\\"id\\\":83103531174362,\\\"credits\\\":3},{\\\"curriculum_requisites\\\":[{\\\"source_id\\\":83103531174362,\\\"target_id\\\":735442290475298,\\\"type\\\":\\\"prereq\\\"}],\\\"name\\\":\\\"C 2\\\",\\\"metrics\\\":{\\\"centrality\\\":3,\\\"complexity\\\":4.0,\\\"blocking factor\\\":1,\\\"delay factor\\\":3.0},\\\"canonical_name\\\":\\\"Course Example 2\\\",\\\"nameSub\\\":\\\"Course 2\\\",\\\"id\\\":735442290475298,\\\"credits\\\":2}],\\\"id\\\":1},{\\\"name\\\":\\\"Term 2\\\",\\\"curriculum_items\\\":[{\\\"curriculum_requisites\\\":[{\\\"source_id\\\":735442290475298,\\\"target_id\\\":725926841716240,\\\"type\\\":\\\"prereq\\\"},{\\\"source_id\\\":83103531174362,\\\"target_id\\\":725926841716240,\\\"type\\\":\\\"prereq\\\"}],\\\"name\\\":\\\"AC 1\\\",\\\"metrics\\\":{\\\"centrality\\\":0,\\\"complexity\\\":3.0,\\\"blocking factor\\\":0,\\\"delay factor\\\":3.0},\\\"canonical_name\\\":\\\"\\\",\\\"nameSub\\\":\\\"Additional Course 1\\\",\\\"id\\\":725926841716240,\\\"credits\\\":3},{\\\"curriculum_requisites\\\":[],\\\"name\\\":\\\"AC 2\\\",\\\"metrics\\\":{\\\"centrality\\\":0,\\\"complexity\\\":1.0,\\\"blocking factor\\\":0,\\\"delay factor\\\":1.0},\\\"canonical_name\\\":\\\"\\\",\\\"nameSub\\\":\\\"Additional Course 2\\\",\\\"id\\\":128128113040531,\\\"credits\\\":3}],\\\"id\\\":2}],\\\"institution\\\":\\\"Name of the Institution\\\"}},\\\"*\\\"); window.removeEventListener(\\\"message\\\",window.messageReceived); window.messageReceived=(function (event){return (event.data.curriculum!==undefined) ? (_webIOScope.setObservableValue({\\\"name\\\":\\\"curriculum-data\\\",\\\"scope\\\":\\\"scope-003d03e3-b6b7-4bce-ae17-9eba553fcacb\\\",\\\"id\\\":\\\"ob_03\\\",\\\"type\\\":\\\"observable\\\"},event.data.curriculum)) : undefined}); return window.addEventListener(\\\"message\\\",window.messageReceived)})\")),:style=>Dict(:padding=>\"0\",:height=>\"100vh\",:margin=>\"0\",:border=>\"none\",:width=>\"100%\")), 1), Dict{String,Tuple{Observables.AbstractObservable,Union{Nothing, Bool}}}(\"curriculum-data\"=>(Observable{Dict{String,Any}} with 1 listeners. Value:\n",
       "Dict{String,Any}(\"options\"=>Dict{String,Any}(\"hideTerms\"=>false,\"edit\"=>true),\"curriculum\"=>Dict{String,Any}(\"name\"=>\"Curriculum 1\",\"dp_name\"=>\"\",\"curriculum_terms\"=>Dict{String,Any}[Dict(\"name\"=>\"Term 1\",\"curriculum_items\"=>Dict{String,Any}[Dict(\"curriculum_requisites\"=>Dict{String,Any}[],\"name\"=>\"C 1\",\"metrics\"=>Dict{String,Any}(\"centrality\"=>0,\"complexity\"=>5.0,\"blocking factor\"=>2,\"delay factor\"=>3.0),\"canonical_name\"=>\"Course Example 1\",\"nameSub\"=>\"Course 1\",\"id\"=>83103531174362,\"credits\"=>3), Dict(\"curriculum_requisites\"=>Dict{String,Any}[Dict(\"source_id\"=>83103531174362,\"target_id\"=>735442290475298,\"type\"=>\"prereq\")],\"name\"=>\"C 2\",\"metrics\"=>Dict{String,Any}(\"centrality\"=>3,\"complexity\"=>4.0,\"blocking factor\"=>1,\"delay factor\"=>3.0),\"canonical_name\"=>\"Course Example 2\",\"nameSub\"=>\"Course 2\",\"id\"=>735442290475298,\"credits\"=>2)],\"id\"=>1), Dict(\"name\"=>\"Term 2\",\"curriculum_items\"=>Dict{String,Any}[Dict(\"curriculum_requisites\"=>Dict{String,Any}[Dict(\"source_id\"=>735442290475298,\"target_id\"=>725926841716240,\"type\"=>\"prereq\"), Dict(\"source_id\"=>83103531174362,\"target_id\"=>725926841716240,\"type\"=>\"prereq\")],\"name\"=>\"AC 1\",\"metrics\"=>Dict{String,Any}(\"centrality\"=>0,\"complexity\"=>3.0,\"blocking factor\"=>0,\"delay factor\"=>3.0),\"canonical_name\"=>\"\",\"nameSub\"=>\"Additional Course 1\",\"id\"=>725926841716240,\"credits\"=>3), Dict(\"curriculum_requisites\"=>Dict{String,Any}[],\"name\"=>\"AC 2\",\"metrics\"=>Dict{String,Any}(\"centrality\"=>0,\"complexity\"=>1.0,\"blocking factor\"=>0,\"delay factor\"=>1.0),\"canonical_name\"=>\"\",\"nameSub\"=>\"Additional Course 2\",\"id\"=>128128113040531,\"credits\"=>3)],\"id\"=>2)],\"institution\"=>\"Name of the Institution\")), nothing)), Set(String[]), nothing, Any[], Dict{Any,Any}(), WebIO.ConnectionPool(Channel{Any}(sz_max:9223372036854775807,sz_curr:0), Set(WebIO.AbstractConnection[]), Channel{WebIO.AbstractConnection}(sz_max:32,sz_curr:0)))"
      ]
     },
     "execution_count": 4,
     "metadata": {
      "application/vnd.webio.node+json": {
       "kernelId": "fc3463b8-2aee-44cc-836b-de329e64ef80"
      }
     },
     "output_type": "execute_result"
    }
   ],
   "source": [
    "out = read_csv_new(\"examples\\\\template.csv\")\n",
    "#write_csv(out)\n",
    "visualize(out, changed=update_plan , edit=true, notebook=true)"
   ]
  },
  {
   "cell_type": "code",
   "execution_count": 5,
   "metadata": {},
   "outputs": [
    {
     "data": {
      "application/vnd.webio.node+json": {
       "children": [
        {
         "children": [
          ""
         ],
         "instanceArgs": {
          "namespace": "html",
          "tag": "iframe"
         },
         "nodeType": "DOM",
         "props": {
          "events": {
           "load": "(function (){this.contentWindow.postMessage({\"options\":{\"hideTerms\":false,\"edit\":true},\"curriculum\":{\"name\":\"Underwater Basket Weaving\",\"dp_name\":\"2-year plan\",\"curriculum_terms\":[{\"name\":\"Term 1\",\"curriculum_items\":[{\"curriculum_requisites\":[],\"name\":\"BW 101\",\"metrics\":{},\"canonical_name\":\"Baskets I\",\"nameSub\":\"Introduction to Baskets\",\"id\":14686121143819,\"credits\":3},{\"curriculum_requisites\":[],\"name\":\"PE 115\",\"metrics\":{},\"canonical_name\":\"Physical Education\",\"nameSub\":\"Swimming\",\"id\":286550516633473,\"credits\":3},{\"curriculum_requisites\":[],\"name\":\"MA 116\",\"metrics\":{},\"canonical_name\":\"Calculus I\",\"nameSub\":\"Introductory Calculus w/ Applications\",\"id\":664595623541692,\"credits\":4}],\"id\":1},{\"name\":\"Term 2\",\"curriculum_items\":[{\"curriculum_requisites\":[{\"source_id\":410299053710805,\"target_id\":532766175263069,\"type\":\"strict-coreq\"},{\"source_id\":14686121143819,\"target_id\":532766175263069,\"type\":\"prereq\"}],\"name\":\"BW 111\",\"metrics\":{},\"canonical_name\":\"Baskets II\",\"nameSub\":\"Basic Basket Forms\",\"id\":532766175263069,\"credits\":3},{\"curriculum_requisites\":[],\"name\":\"BW 111L\",\"metrics\":{},\"canonical_name\":\"Baskets II Laboratory\",\"nameSub\":\"Basic Basket Forms Lab\",\"id\":410299053710805,\"credits\":1},{\"curriculum_requisites\":[{\"source_id\":532766175263069,\"target_id\":423811231623581,\"type\":\"prereq\"},{\"source_id\":410299053710805,\"target_id\":423811231623581,\"type\":\"prereq\"},{\"source_id\":664595623541692,\"target_id\":423811231623581,\"type\":\"prereq\"}],\"name\":\"BW 201\",\"metrics\":{},\"canonical_name\":\"Baskets III\",\"nameSub\":\"Advanced Basketry\",\"id\":423811231623581,\"credits\":3},{\"curriculum_requisites\":[],\"name\":\" \",\"metrics\":{},\"canonical_name\":\"Humanitites Core\",\"nameSub\":\"Humanitites Elective\",\"id\":596487725928838,\"credits\":3}],\"id\":2},{\"name\":\"Term 3\",\"curriculum_items\":[{\"curriculum_requisites\":[{\"source_id\":14686121143819,\"target_id\":276281867139741,\"type\":\"prereq\"}],\"name\":\"BW 214\",\"metrics\":{},\"canonical_name\":\"Basket Materials\",\"nameSub\":\"Basket Materials & Decoration\",\"id\":276281867139741,\"credits\":3},{\"curriculum_requisites\":[{\"source_id\":286550516633473,\"target_id\":61472314056894,\"type\":\"prereq\"},{\"source_id\":276281867139741,\"target_id\":61472314056894,\"type\":\"prereq\"}],\"name\":\"BW 301\",\"metrics\":{},\"canonical_name\":\"Baskets IV\",\"nameSub\":\"Underwater Weaving\",\"id\":61472314056894,\"credits\":3},{\"curriculum_requisites\":[],\"name\":\" \",\"metrics\":{},\"canonical_name\":\"\",\"nameSub\":\"Social Sciences Elective\",\"id\":746897352238538,\"credits\":3}],\"id\":3},{\"name\":\"Term 4\",\"curriculum_items\":[{\"curriculum_requisites\":[],\"name\":\" \",\"metrics\":{},\"canonical_name\":\"\",\"nameSub\":\"Technical Elective\",\"id\":136439797846280,\"credits\":3},{\"curriculum_requisites\":[],\"name\":\" \",\"metrics\":{},\"canonical_name\":\"\",\"nameSub\":\"General Elective\",\"id\":345035930505069,\"credits\":3}],\"id\":4}],\"institution\":\"ACME State University\"}},\"*\"); window.removeEventListener(\"message\",window.messageReceived); window.messageReceived=(function (event){return (event.data.curriculum!==undefined) ? (_webIOScope.setObservableValue({\"name\":\"curriculum-data\",\"scope\":\"scope-8322691a-366b-4554-899a-289258ec6391\",\"id\":\"ob_04\",\"type\":\"observable\"},event.data.curriculum)) : undefined}); return window.addEventListener(\"message\",window.messageReceived)})"
          },
          "id": "curriculum",
          "src": "http://localhost:8156",
          "style": {
           "border": "none",
           "height": "100vh",
           "margin": "0",
           "padding": "0",
           "width": "100%"
          }
         },
         "type": "node"
        }
       ],
       "instanceArgs": {
        "handlers": {},
        "id": "scope-8322691a-366b-4554-899a-289258ec6391",
        "imports": {
         "data": [],
         "type": "async_block"
        },
        "observables": {
         "curriculum-data": {
          "id": "ob_04",
          "sync": true,
          "value": {
           "curriculum": {
            "curriculum_terms": [
             {
              "curriculum_items": [
               {
                "canonical_name": "Baskets I",
                "credits": 3,
                "curriculum_requisites": [],
                "id": 14686121143819,
                "metrics": {},
                "name": "BW 101",
                "nameSub": "Introduction to Baskets"
               },
               {
                "canonical_name": "Physical Education",
                "credits": 3,
                "curriculum_requisites": [],
                "id": 286550516633473,
                "metrics": {},
                "name": "PE 115",
                "nameSub": "Swimming"
               },
               {
                "canonical_name": "Calculus I",
                "credits": 4,
                "curriculum_requisites": [],
                "id": 664595623541692,
                "metrics": {},
                "name": "MA 116",
                "nameSub": "Introductory Calculus w/ Applications"
               }
              ],
              "id": 1,
              "name": "Term 1"
             },
             {
              "curriculum_items": [
               {
                "canonical_name": "Baskets II",
                "credits": 3,
                "curriculum_requisites": [
                 {
                  "source_id": 410299053710805,
                  "target_id": 532766175263069,
                  "type": "strict-coreq"
                 },
                 {
                  "source_id": 14686121143819,
                  "target_id": 532766175263069,
                  "type": "prereq"
                 }
                ],
                "id": 532766175263069,
                "metrics": {},
                "name": "BW 111",
                "nameSub": "Basic Basket Forms"
               },
               {
                "canonical_name": "Baskets II Laboratory",
                "credits": 1,
                "curriculum_requisites": [],
                "id": 410299053710805,
                "metrics": {},
                "name": "BW 111L",
                "nameSub": "Basic Basket Forms Lab"
               },
               {
                "canonical_name": "Baskets III",
                "credits": 3,
                "curriculum_requisites": [
                 {
                  "source_id": 532766175263069,
                  "target_id": 423811231623581,
                  "type": "prereq"
                 },
                 {
                  "source_id": 410299053710805,
                  "target_id": 423811231623581,
                  "type": "prereq"
                 },
                 {
                  "source_id": 664595623541692,
                  "target_id": 423811231623581,
                  "type": "prereq"
                 }
                ],
                "id": 423811231623581,
                "metrics": {},
                "name": "BW 201",
                "nameSub": "Advanced Basketry"
               },
               {
                "canonical_name": "Humanitites Core",
                "credits": 3,
                "curriculum_requisites": [],
                "id": 596487725928838,
                "metrics": {},
                "name": " ",
                "nameSub": "Humanitites Elective"
               }
              ],
              "id": 2,
              "name": "Term 2"
             },
             {
              "curriculum_items": [
               {
                "canonical_name": "Basket Materials",
                "credits": 3,
                "curriculum_requisites": [
                 {
                  "source_id": 14686121143819,
                  "target_id": 276281867139741,
                  "type": "prereq"
                 }
                ],
                "id": 276281867139741,
                "metrics": {},
                "name": "BW 214",
                "nameSub": "Basket Materials & Decoration"
               },
               {
                "canonical_name": "Baskets IV",
                "credits": 3,
                "curriculum_requisites": [
                 {
                  "source_id": 286550516633473,
                  "target_id": 61472314056894,
                  "type": "prereq"
                 },
                 {
                  "source_id": 276281867139741,
                  "target_id": 61472314056894,
                  "type": "prereq"
                 }
                ],
                "id": 61472314056894,
                "metrics": {},
                "name": "BW 301",
                "nameSub": "Underwater Weaving"
               },
               {
                "canonical_name": "",
                "credits": 3,
                "curriculum_requisites": [],
                "id": 746897352238538,
                "metrics": {},
                "name": " ",
                "nameSub": "Social Sciences Elective"
               }
              ],
              "id": 3,
              "name": "Term 3"
             },
             {
              "curriculum_items": [
               {
                "canonical_name": "",
                "credits": 3,
                "curriculum_requisites": [],
                "id": 136439797846280,
                "metrics": {},
                "name": " ",
                "nameSub": "Technical Elective"
               },
               {
                "canonical_name": "",
                "credits": 3,
                "curriculum_requisites": [],
                "id": 345035930505069,
                "metrics": {},
                "name": " ",
                "nameSub": "General Elective"
               }
              ],
              "id": 4,
              "name": "Term 4"
             }
            ],
            "dp_name": "2-year plan",
            "institution": "ACME State University",
            "name": "Underwater Basket Weaving"
           },
           "options": {
            "edit": true,
            "hideTerms": false
           }
          }
         }
        },
        "systemjs_options": null
       },
       "nodeType": "Scope",
       "props": {},
       "type": "node"
      },
      "text/html": [
       "<div\n",
       "    class=\"webio-mountpoint\"\n",
       "    data-webio-mountpoint=\"18040577615517592807\"\n",
       ">\n",
       "    <script>\n",
       "    if (window.require && require.defined && require.defined(\"nbextensions/webio/main\")) {\n",
       "        console.log(\"Jupyter WebIO extension detected, not mounting.\");\n",
       "    } else if (window.WebIO) {\n",
       "        WebIO.mount(\n",
       "            document.querySelector('[data-webio-mountpoint=\"18040577615517592807\"]'),\n",
       "            {\"props\":{},\"nodeType\":\"Scope\",\"type\":\"node\",\"instanceArgs\":{\"imports\":{\"data\":[],\"type\":\"async_block\"},\"id\":\"scope-8322691a-366b-4554-899a-289258ec6391\",\"handlers\":{},\"systemjs_options\":null,\"observables\":{\"curriculum-data\":{\"sync\":true,\"id\":\"ob_04\",\"value\":{\"options\":{\"hideTerms\":false,\"edit\":true},\"curriculum\":{\"name\":\"Underwater Basket Weaving\",\"dp_name\":\"2-year plan\",\"curriculum_terms\":[{\"name\":\"Term 1\",\"curriculum_items\":[{\"curriculum_requisites\":[],\"name\":\"BW 101\",\"metrics\":{},\"canonical_name\":\"Baskets I\",\"nameSub\":\"Introduction to Baskets\",\"id\":14686121143819,\"credits\":3},{\"curriculum_requisites\":[],\"name\":\"PE 115\",\"metrics\":{},\"canonical_name\":\"Physical Education\",\"nameSub\":\"Swimming\",\"id\":286550516633473,\"credits\":3},{\"curriculum_requisites\":[],\"name\":\"MA 116\",\"metrics\":{},\"canonical_name\":\"Calculus I\",\"nameSub\":\"Introductory Calculus w\\/ Applications\",\"id\":664595623541692,\"credits\":4}],\"id\":1},{\"name\":\"Term 2\",\"curriculum_items\":[{\"curriculum_requisites\":[{\"source_id\":410299053710805,\"target_id\":532766175263069,\"type\":\"strict-coreq\"},{\"source_id\":14686121143819,\"target_id\":532766175263069,\"type\":\"prereq\"}],\"name\":\"BW 111\",\"metrics\":{},\"canonical_name\":\"Baskets II\",\"nameSub\":\"Basic Basket Forms\",\"id\":532766175263069,\"credits\":3},{\"curriculum_requisites\":[],\"name\":\"BW 111L\",\"metrics\":{},\"canonical_name\":\"Baskets II Laboratory\",\"nameSub\":\"Basic Basket Forms Lab\",\"id\":410299053710805,\"credits\":1},{\"curriculum_requisites\":[{\"source_id\":532766175263069,\"target_id\":423811231623581,\"type\":\"prereq\"},{\"source_id\":410299053710805,\"target_id\":423811231623581,\"type\":\"prereq\"},{\"source_id\":664595623541692,\"target_id\":423811231623581,\"type\":\"prereq\"}],\"name\":\"BW 201\",\"metrics\":{},\"canonical_name\":\"Baskets III\",\"nameSub\":\"Advanced Basketry\",\"id\":423811231623581,\"credits\":3},{\"curriculum_requisites\":[],\"name\":\" \",\"metrics\":{},\"canonical_name\":\"Humanitites Core\",\"nameSub\":\"Humanitites Elective\",\"id\":596487725928838,\"credits\":3}],\"id\":2},{\"name\":\"Term 3\",\"curriculum_items\":[{\"curriculum_requisites\":[{\"source_id\":14686121143819,\"target_id\":276281867139741,\"type\":\"prereq\"}],\"name\":\"BW 214\",\"metrics\":{},\"canonical_name\":\"Basket Materials\",\"nameSub\":\"Basket Materials & Decoration\",\"id\":276281867139741,\"credits\":3},{\"curriculum_requisites\":[{\"source_id\":286550516633473,\"target_id\":61472314056894,\"type\":\"prereq\"},{\"source_id\":276281867139741,\"target_id\":61472314056894,\"type\":\"prereq\"}],\"name\":\"BW 301\",\"metrics\":{},\"canonical_name\":\"Baskets IV\",\"nameSub\":\"Underwater Weaving\",\"id\":61472314056894,\"credits\":3},{\"curriculum_requisites\":[],\"name\":\" \",\"metrics\":{},\"canonical_name\":\"\",\"nameSub\":\"Social Sciences Elective\",\"id\":746897352238538,\"credits\":3}],\"id\":3},{\"name\":\"Term 4\",\"curriculum_items\":[{\"curriculum_requisites\":[],\"name\":\" \",\"metrics\":{},\"canonical_name\":\"\",\"nameSub\":\"Technical Elective\",\"id\":136439797846280,\"credits\":3},{\"curriculum_requisites\":[],\"name\":\" \",\"metrics\":{},\"canonical_name\":\"\",\"nameSub\":\"General Elective\",\"id\":345035930505069,\"credits\":3}],\"id\":4}],\"institution\":\"ACME State University\"}}}}},\"children\":[{\"props\":{\"src\":\"http:\\/\\/localhost:8156\",\"id\":\"curriculum\",\"events\":{\"load\":\"(function (){this.contentWindow.postMessage({\\\"options\\\":{\\\"hideTerms\\\":false,\\\"edit\\\":true},\\\"curriculum\\\":{\\\"name\\\":\\\"Underwater Basket Weaving\\\",\\\"dp_name\\\":\\\"2-year plan\\\",\\\"curriculum_terms\\\":[{\\\"name\\\":\\\"Term 1\\\",\\\"curriculum_items\\\":[{\\\"curriculum_requisites\\\":[],\\\"name\\\":\\\"BW 101\\\",\\\"metrics\\\":{},\\\"canonical_name\\\":\\\"Baskets I\\\",\\\"nameSub\\\":\\\"Introduction to Baskets\\\",\\\"id\\\":14686121143819,\\\"credits\\\":3},{\\\"curriculum_requisites\\\":[],\\\"name\\\":\\\"PE 115\\\",\\\"metrics\\\":{},\\\"canonical_name\\\":\\\"Physical Education\\\",\\\"nameSub\\\":\\\"Swimming\\\",\\\"id\\\":286550516633473,\\\"credits\\\":3},{\\\"curriculum_requisites\\\":[],\\\"name\\\":\\\"MA 116\\\",\\\"metrics\\\":{},\\\"canonical_name\\\":\\\"Calculus I\\\",\\\"nameSub\\\":\\\"Introductory Calculus w\\/ Applications\\\",\\\"id\\\":664595623541692,\\\"credits\\\":4}],\\\"id\\\":1},{\\\"name\\\":\\\"Term 2\\\",\\\"curriculum_items\\\":[{\\\"curriculum_requisites\\\":[{\\\"source_id\\\":410299053710805,\\\"target_id\\\":532766175263069,\\\"type\\\":\\\"strict-coreq\\\"},{\\\"source_id\\\":14686121143819,\\\"target_id\\\":532766175263069,\\\"type\\\":\\\"prereq\\\"}],\\\"name\\\":\\\"BW 111\\\",\\\"metrics\\\":{},\\\"canonical_name\\\":\\\"Baskets II\\\",\\\"nameSub\\\":\\\"Basic Basket Forms\\\",\\\"id\\\":532766175263069,\\\"credits\\\":3},{\\\"curriculum_requisites\\\":[],\\\"name\\\":\\\"BW 111L\\\",\\\"metrics\\\":{},\\\"canonical_name\\\":\\\"Baskets II Laboratory\\\",\\\"nameSub\\\":\\\"Basic Basket Forms Lab\\\",\\\"id\\\":410299053710805,\\\"credits\\\":1},{\\\"curriculum_requisites\\\":[{\\\"source_id\\\":532766175263069,\\\"target_id\\\":423811231623581,\\\"type\\\":\\\"prereq\\\"},{\\\"source_id\\\":410299053710805,\\\"target_id\\\":423811231623581,\\\"type\\\":\\\"prereq\\\"},{\\\"source_id\\\":664595623541692,\\\"target_id\\\":423811231623581,\\\"type\\\":\\\"prereq\\\"}],\\\"name\\\":\\\"BW 201\\\",\\\"metrics\\\":{},\\\"canonical_name\\\":\\\"Baskets III\\\",\\\"nameSub\\\":\\\"Advanced Basketry\\\",\\\"id\\\":423811231623581,\\\"credits\\\":3},{\\\"curriculum_requisites\\\":[],\\\"name\\\":\\\" \\\",\\\"metrics\\\":{},\\\"canonical_name\\\":\\\"Humanitites Core\\\",\\\"nameSub\\\":\\\"Humanitites Elective\\\",\\\"id\\\":596487725928838,\\\"credits\\\":3}],\\\"id\\\":2},{\\\"name\\\":\\\"Term 3\\\",\\\"curriculum_items\\\":[{\\\"curriculum_requisites\\\":[{\\\"source_id\\\":14686121143819,\\\"target_id\\\":276281867139741,\\\"type\\\":\\\"prereq\\\"}],\\\"name\\\":\\\"BW 214\\\",\\\"metrics\\\":{},\\\"canonical_name\\\":\\\"Basket Materials\\\",\\\"nameSub\\\":\\\"Basket Materials & Decoration\\\",\\\"id\\\":276281867139741,\\\"credits\\\":3},{\\\"curriculum_requisites\\\":[{\\\"source_id\\\":286550516633473,\\\"target_id\\\":61472314056894,\\\"type\\\":\\\"prereq\\\"},{\\\"source_id\\\":276281867139741,\\\"target_id\\\":61472314056894,\\\"type\\\":\\\"prereq\\\"}],\\\"name\\\":\\\"BW 301\\\",\\\"metrics\\\":{},\\\"canonical_name\\\":\\\"Baskets IV\\\",\\\"nameSub\\\":\\\"Underwater Weaving\\\",\\\"id\\\":61472314056894,\\\"credits\\\":3},{\\\"curriculum_requisites\\\":[],\\\"name\\\":\\\" \\\",\\\"metrics\\\":{},\\\"canonical_name\\\":\\\"\\\",\\\"nameSub\\\":\\\"Social Sciences Elective\\\",\\\"id\\\":746897352238538,\\\"credits\\\":3}],\\\"id\\\":3},{\\\"name\\\":\\\"Term 4\\\",\\\"curriculum_items\\\":[{\\\"curriculum_requisites\\\":[],\\\"name\\\":\\\" \\\",\\\"metrics\\\":{},\\\"canonical_name\\\":\\\"\\\",\\\"nameSub\\\":\\\"Technical Elective\\\",\\\"id\\\":136439797846280,\\\"credits\\\":3},{\\\"curriculum_requisites\\\":[],\\\"name\\\":\\\" \\\",\\\"metrics\\\":{},\\\"canonical_name\\\":\\\"\\\",\\\"nameSub\\\":\\\"General Elective\\\",\\\"id\\\":345035930505069,\\\"credits\\\":3}],\\\"id\\\":4}],\\\"institution\\\":\\\"ACME State University\\\"}},\\\"*\\\"); window.removeEventListener(\\\"message\\\",window.messageReceived); window.messageReceived=(function (event){return (event.data.curriculum!==undefined) ? (_webIOScope.setObservableValue({\\\"name\\\":\\\"curriculum-data\\\",\\\"scope\\\":\\\"scope-8322691a-366b-4554-899a-289258ec6391\\\",\\\"id\\\":\\\"ob_04\\\",\\\"type\\\":\\\"observable\\\"},event.data.curriculum)) : undefined}); return window.addEventListener(\\\"message\\\",window.messageReceived)})\"},\"style\":{\"padding\":\"0\",\"height\":\"100vh\",\"margin\":\"0\",\"border\":\"none\",\"width\":\"100%\"}},\"nodeType\":\"DOM\",\"type\":\"node\",\"instanceArgs\":{\"namespace\":\"html\",\"tag\":\"iframe\"},\"children\":[\"\"]}]},\n",
       "        );\n",
       "    } else {\n",
       "        document\n",
       "            .querySelector('[data-webio-mountpoint=\"18040577615517592807\"]')\n",
       "            .innerHTML = '<strong>WebIO not detected.</strong>';\n",
       "    }\n",
       "    </script>\n",
       "</div>\n"
      ],
      "text/plain": [
       "WebIO.Scope(\"scope-8322691a-366b-4554-899a-289258ec6391\", WebIO.Node{WebIO.DOM}(WebIO.DOM(:html, :iframe), Any[\"\"], Dict{Symbol,Any}(:src=>\"http://localhost:8156\",:id=>\"curriculum\",:events=>Dict(:load=>JSString(\"(function (){this.contentWindow.postMessage({\\\"options\\\":{\\\"hideTerms\\\":false,\\\"edit\\\":true},\\\"curriculum\\\":{\\\"name\\\":\\\"Underwater Basket Weaving\\\",\\\"dp_name\\\":\\\"2-year plan\\\",\\\"curriculum_terms\\\":[{\\\"name\\\":\\\"Term 1\\\",\\\"curriculum_items\\\":[{\\\"curriculum_requisites\\\":[],\\\"name\\\":\\\"BW 101\\\",\\\"metrics\\\":{},\\\"canonical_name\\\":\\\"Baskets I\\\",\\\"nameSub\\\":\\\"Introduction to Baskets\\\",\\\"id\\\":14686121143819,\\\"credits\\\":3},{\\\"curriculum_requisites\\\":[],\\\"name\\\":\\\"PE 115\\\",\\\"metrics\\\":{},\\\"canonical_name\\\":\\\"Physical Education\\\",\\\"nameSub\\\":\\\"Swimming\\\",\\\"id\\\":286550516633473,\\\"credits\\\":3},{\\\"curriculum_requisites\\\":[],\\\"name\\\":\\\"MA 116\\\",\\\"metrics\\\":{},\\\"canonical_name\\\":\\\"Calculus I\\\",\\\"nameSub\\\":\\\"Introductory Calculus w/ Applications\\\",\\\"id\\\":664595623541692,\\\"credits\\\":4}],\\\"id\\\":1},{\\\"name\\\":\\\"Term 2\\\",\\\"curriculum_items\\\":[{\\\"curriculum_requisites\\\":[{\\\"source_id\\\":410299053710805,\\\"target_id\\\":532766175263069,\\\"type\\\":\\\"strict-coreq\\\"},{\\\"source_id\\\":14686121143819,\\\"target_id\\\":532766175263069,\\\"type\\\":\\\"prereq\\\"}],\\\"name\\\":\\\"BW 111\\\",\\\"metrics\\\":{},\\\"canonical_name\\\":\\\"Baskets II\\\",\\\"nameSub\\\":\\\"Basic Basket Forms\\\",\\\"id\\\":532766175263069,\\\"credits\\\":3},{\\\"curriculum_requisites\\\":[],\\\"name\\\":\\\"BW 111L\\\",\\\"metrics\\\":{},\\\"canonical_name\\\":\\\"Baskets II Laboratory\\\",\\\"nameSub\\\":\\\"Basic Basket Forms Lab\\\",\\\"id\\\":410299053710805,\\\"credits\\\":1},{\\\"curriculum_requisites\\\":[{\\\"source_id\\\":532766175263069,\\\"target_id\\\":423811231623581,\\\"type\\\":\\\"prereq\\\"},{\\\"source_id\\\":410299053710805,\\\"target_id\\\":423811231623581,\\\"type\\\":\\\"prereq\\\"},{\\\"source_id\\\":664595623541692,\\\"target_id\\\":423811231623581,\\\"type\\\":\\\"prereq\\\"}],\\\"name\\\":\\\"BW 201\\\",\\\"metrics\\\":{},\\\"canonical_name\\\":\\\"Baskets III\\\",\\\"nameSub\\\":\\\"Advanced Basketry\\\",\\\"id\\\":423811231623581,\\\"credits\\\":3},{\\\"curriculum_requisites\\\":[],\\\"name\\\":\\\" \\\",\\\"metrics\\\":{},\\\"canonical_name\\\":\\\"Humanitites Core\\\",\\\"nameSub\\\":\\\"Humanitites Elective\\\",\\\"id\\\":596487725928838,\\\"credits\\\":3}],\\\"id\\\":2},{\\\"name\\\":\\\"Term 3\\\",\\\"curriculum_items\\\":[{\\\"curriculum_requisites\\\":[{\\\"source_id\\\":14686121143819,\\\"target_id\\\":276281867139741,\\\"type\\\":\\\"prereq\\\"}],\\\"name\\\":\\\"BW 214\\\",\\\"metrics\\\":{},\\\"canonical_name\\\":\\\"Basket Materials\\\",\\\"nameSub\\\":\\\"Basket Materials & Decoration\\\",\\\"id\\\":276281867139741,\\\"credits\\\":3},{\\\"curriculum_requisites\\\":[{\\\"source_id\\\":286550516633473,\\\"target_id\\\":61472314056894,\\\"type\\\":\\\"prereq\\\"},{\\\"source_id\\\":276281867139741,\\\"target_id\\\":61472314056894,\\\"type\\\":\\\"prereq\\\"}],\\\"name\\\":\\\"BW 301\\\",\\\"metrics\\\":{},\\\"canonical_name\\\":\\\"Baskets IV\\\",\\\"nameSub\\\":\\\"Underwater Weaving\\\",\\\"id\\\":61472314056894,\\\"credits\\\":3},{\\\"curriculum_requisites\\\":[],\\\"name\\\":\\\" \\\",\\\"metrics\\\":{},\\\"canonical_name\\\":\\\"\\\",\\\"nameSub\\\":\\\"Social Sciences Elective\\\",\\\"id\\\":746897352238538,\\\"credits\\\":3}],\\\"id\\\":3},{\\\"name\\\":\\\"Term 4\\\",\\\"curriculum_items\\\":[{\\\"curriculum_requisites\\\":[],\\\"name\\\":\\\" \\\",\\\"metrics\\\":{},\\\"canonical_name\\\":\\\"\\\",\\\"nameSub\\\":\\\"Technical Elective\\\",\\\"id\\\":136439797846280,\\\"credits\\\":3},{\\\"curriculum_requisites\\\":[],\\\"name\\\":\\\" \\\",\\\"metrics\\\":{},\\\"canonical_name\\\":\\\"\\\",\\\"nameSub\\\":\\\"General Elective\\\",\\\"id\\\":345035930505069,\\\"credits\\\":3}],\\\"id\\\":4}],\\\"institution\\\":\\\"ACME State University\\\"}},\\\"*\\\"); window.removeEventListener(\\\"message\\\",window.messageReceived); window.messageReceived=(function (event){return (event.data.curriculum!==undefined) ? (_webIOScope.setObservableValue({\\\"name\\\":\\\"curriculum-data\\\",\\\"scope\\\":\\\"scope-8322691a-366b-4554-899a-289258ec6391\\\",\\\"id\\\":\\\"ob_04\\\",\\\"type\\\":\\\"observable\\\"},event.data.curriculum)) : undefined}); return window.addEventListener(\\\"message\\\",window.messageReceived)})\")),:style=>Dict(:padding=>\"0\",:height=>\"100vh\",:margin=>\"0\",:border=>\"none\",:width=>\"100%\")), 1), Dict{String,Tuple{Observables.AbstractObservable,Union{Nothing, Bool}}}(\"curriculum-data\"=>(Observable{Dict{String,Any}} with 1 listeners. Value:\n",
       "Dict{String,Any}(\"options\"=>Dict{String,Any}(\"hideTerms\"=>false,\"edit\"=>true),\"curriculum\"=>Dict{String,Any}(\"name\"=>\"Underwater Basket Weaving\",\"dp_name\"=>\"2-year plan\",\"curriculum_terms\"=>Dict{String,Any}[Dict(\"name\"=>\"Term 1\",\"curriculum_items\"=>Dict{String,Any}[Dict(\"curriculum_requisites\"=>Dict{String,Any}[],\"name\"=>\"BW 101\",\"metrics\"=>Dict{String,Any}(),\"canonical_name\"=>\"Baskets I\",\"nameSub\"=>\"Introduction to Baskets\",\"id\"=>14686121143819,\"credits\"=>3), Dict(\"curriculum_requisites\"=>Dict{String,Any}[],\"name\"=>\"PE 115\",\"metrics\"=>Dict{String,Any}(),\"canonical_name\"=>\"Physical Education\",\"nameSub\"=>\"Swimming\",\"id\"=>286550516633473,\"credits\"=>3), Dict(\"curriculum_requisites\"=>Dict{String,Any}[],\"name\"=>\"MA 116\",\"metrics\"=>Dict{String,Any}(),\"canonical_name\"=>\"Calculus I\",\"nameSub\"=>\"Introductory Calculus w/ Applications\",\"id\"=>664595623541692,\"credits\"=>4)],\"id\"=>1), Dict(\"name\"=>\"Term 2\",\"curriculum_items\"=>Dict{String,Any}[Dict(\"curriculum_requisites\"=>Dict{String,Any}[Dict(\"source_id\"=>410299053710805,\"target_id\"=>532766175263069,\"type\"=>\"strict-coreq\"), Dict(\"source_id\"=>14686121143819,\"target_id\"=>532766175263069,\"type\"=>\"prereq\")],\"name\"=>\"BW 111\",\"metrics\"=>Dict{String,Any}(),\"canonical_name\"=>\"Baskets II\",\"nameSub\"=>\"Basic Basket Forms\",\"id\"=>532766175263069,\"credits\"=>3), Dict(\"curriculum_requisites\"=>Dict{String,Any}[],\"name\"=>\"BW 111L\",\"metrics\"=>Dict{String,Any}(),\"canonical_name\"=>\"Baskets II Laboratory\",\"nameSub\"=>\"Basic Basket Forms Lab\",\"id\"=>410299053710805,\"credits\"=>1), Dict(\"curriculum_requisites\"=>Dict{String,Any}[Dict(\"source_id\"=>532766175263069,\"target_id\"=>423811231623581,\"type\"=>\"prereq\"), Dict(\"source_id\"=>410299053710805,\"target_id\"=>423811231623581,\"type\"=>\"prereq\"), Dict(\"source_id\"=>664595623541692,\"target_id\"=>423811231623581,\"type\"=>\"prereq\")],\"name\"=>\"BW 201\",\"metrics\"=>Dict{String,Any}(),\"canonical_name\"=>\"Baskets III\",\"nameSub\"=>\"Advanced Basketry\",\"id\"=>423811231623581,\"credits\"=>3), Dict(\"curriculum_requisites\"=>Dict{String,Any}[],\"name\"=>\" \",\"metrics\"=>Dict{String,Any}(),\"canonical_name\"=>\"Humanitites Core\",\"nameSub\"=>\"Humanitites Elective\",\"id\"=>596487725928838,\"credits\"=>3)],\"id\"=>2), Dict(\"name\"=>\"Term 3\",\"curriculum_items\"=>Dict{String,Any}[Dict(\"curriculum_requisites\"=>Dict{String,Any}[Dict(\"source_id\"=>14686121143819,\"target_id\"=>276281867139741,\"type\"=>\"prereq\")],\"name\"=>\"BW 214\",\"metrics\"=>Dict{String,Any}(),\"canonical_name\"=>\"Basket Materials\",\"nameSub\"=>\"Basket Materials & Decoration\",\"id\"=>276281867139741,\"credits\"=>3), Dict(\"curriculum_requisites\"=>Dict{String,Any}[Dict(\"source_id\"=>286550516633473,\"target_id\"=>61472314056894,\"type\"=>\"prereq\"), Dict(\"source_id\"=>276281867139741,\"target_id\"=>61472314056894,\"type\"=>\"prereq\")],\"name\"=>\"BW 301\",\"metrics\"=>Dict{String,Any}(),\"canonical_name\"=>\"Baskets IV\",\"nameSub\"=>\"Underwater Weaving\",\"id\"=>61472314056894,\"credits\"=>3), Dict(\"curriculum_requisites\"=>Dict{String,Any}[],\"name\"=>\" \",\"metrics\"=>Dict{String,Any}(),\"canonical_name\"=>\"\",\"nameSub\"=>\"Social Sciences Elective\",\"id\"=>746897352238538,\"credits\"=>3)],\"id\"=>3), Dict(\"name\"=>\"Term 4\",\"curriculum_items\"=>Dict{String,Any}[Dict(\"curriculum_requisites\"=>Dict{String,Any}[],\"name\"=>\" \",\"metrics\"=>Dict{String,Any}(),\"canonical_name\"=>\"\",\"nameSub\"=>\"Technical Elective\",\"id\"=>136439797846280,\"credits\"=>3), Dict(\"curriculum_requisites\"=>Dict{String,Any}[],\"name\"=>\" \",\"metrics\"=>Dict{String,Any}(),\"canonical_name\"=>\"\",\"nameSub\"=>\"General Elective\",\"id\"=>345035930505069,\"credits\"=>3)],\"id\"=>4)],\"institution\"=>\"ACME State University\")), nothing)), Set(String[]), nothing, Any[], Dict{Any,Any}(), WebIO.ConnectionPool(Channel{Any}(sz_max:9223372036854775807,sz_curr:0), Set(WebIO.AbstractConnection[]), Channel{WebIO.AbstractConnection}(sz_max:32,sz_curr:0)))"
      ]
     },
     "execution_count": 5,
     "metadata": {
      "application/vnd.webio.node+json": {
       "kernelId": "fc3463b8-2aee-44cc-836b-de329e64ef80"
      }
     },
     "output_type": "execute_result"
    }
   ],
   "source": [
    "out = read_csv_new(\"examples\\\\UBW_degree_plan.csv\")\n",
    "#write_csv(out)\n",
    "visualize(out, changed=update_plan , edit=true, notebook=true, \n",
    "    show_blocking_factor=false, show_delay_factor=false,\n",
    "    show_centrality=false, show_complexity = false)"
   ]
  },
  {
   "cell_type": "code",
   "execution_count": 7,
   "metadata": {},
   "outputs": [
    {
     "name": "stdout",
     "output_type": "stream",
     "text": [
      "Could not create a plan for 0 term, try for one more term\n",
      "Could not create a plan for 1 term, try for one more term\n",
      "Could not create a plan for 2 term, try for one more term\n"
     ]
    },
    {
     "data": {
      "application/vnd.webio.node+json": {
       "children": [
        {
         "children": [
          ""
         ],
         "instanceArgs": {
          "namespace": "html",
          "tag": "iframe"
         },
         "nodeType": "DOM",
         "props": {
          "events": {
           "load": "(function (){this.contentWindow.postMessage({\"options\":{\"hideTerms\":true,\"edit\":false},\"curriculum\":{\"name\":\"Underwater Basket Weaving\",\"dp_name\":\"\",\"curriculum_terms\":[{\"name\":\"Term 1\",\"curriculum_items\":[{\"curriculum_requisites\":[],\"name\":\"BW 101\",\"metrics\":{},\"canonical_name\":\"\",\"nameSub\":\"Introduction to Baskets\",\"id\":407170219482275,\"credits\":1},{\"curriculum_requisites\":[],\"name\":\"PE 115\",\"metrics\":{},\"canonical_name\":\"\",\"nameSub\":\"Swimming\",\"id\":791483077951521,\"credits\":1},{\"curriculum_requisites\":[],\"name\":\"MA 116\",\"metrics\":{},\"canonical_name\":\"\",\"nameSub\":\"Introductory Calculus w/ Applications\",\"id\":490771672307658,\"credits\":1}],\"id\":1},{\"name\":\"Term 2\",\"curriculum_items\":[{\"curriculum_requisites\":[],\"name\":\"BW 111L\",\"metrics\":{},\"canonical_name\":\"\",\"nameSub\":\"Basic Basket Forms Lab\",\"id\":439910314758237,\"credits\":1},{\"curriculum_requisites\":[{\"source_id\":407170219482275,\"target_id\":292874827301502,\"type\":\"prereq\"},{\"source_id\":439910314758237,\"target_id\":292874827301502,\"type\":\"strict-coreq\"}],\"name\":\"BW 111\",\"metrics\":{},\"canonical_name\":\"\",\"nameSub\":\"Basic Basket Forms\",\"id\":292874827301502,\"credits\":1},{\"curriculum_requisites\":[{\"source_id\":407170219482275,\"target_id\":406405528546733,\"type\":\"prereq\"}],\"name\":\"BW 214\",\"metrics\":{},\"canonical_name\":\"\",\"nameSub\":\"Basket Materials & Decoration\",\"id\":406405528546733,\"credits\":1}],\"id\":2},{\"name\":\"Term 3\",\"curriculum_items\":[{\"curriculum_requisites\":[{\"source_id\":791483077951521,\"target_id\":657834944242405,\"type\":\"prereq\"},{\"source_id\":406405528546733,\"target_id\":657834944242405,\"type\":\"prereq\"}],\"name\":\"BW 301\",\"metrics\":{},\"canonical_name\":\"\",\"nameSub\":\"Underwater Weaving\",\"id\":657834944242405,\"credits\":1},{\"curriculum_requisites\":[{\"source_id\":490771672307658,\"target_id\":63040069765916,\"type\":\"prereq\"},{\"source_id\":292874827301502,\"target_id\":63040069765916,\"type\":\"prereq\"},{\"source_id\":439910314758237,\"target_id\":63040069765916,\"type\":\"prereq\"}],\"name\":\"BW 201\",\"metrics\":{},\"canonical_name\":\"\",\"nameSub\":\"Advanced Basketry\",\"id\":63040069765916,\"credits\":1}],\"id\":3}],\"institution\":\"\"}},\"*\"); window.removeEventListener(\"message\",window.messageReceived); window.messageReceived=(function (event){return (event.data.curriculum!==undefined) ? (_webIOScope.setObservableValue({\"name\":\"curriculum-data\",\"scope\":\"scope-e2541134-f225-473a-95a4-7b37da6afc81\",\"id\":\"ob_06\",\"type\":\"observable\"},event.data.curriculum)) : undefined}); return window.addEventListener(\"message\",window.messageReceived)})"
          },
          "id": "curriculum",
          "src": "http://localhost:8156",
          "style": {
           "border": "none",
           "height": "100vh",
           "margin": "0",
           "padding": "0",
           "width": "100%"
          }
         },
         "type": "node"
        }
       ],
       "instanceArgs": {
        "handlers": {},
        "id": "scope-e2541134-f225-473a-95a4-7b37da6afc81",
        "imports": {
         "data": [],
         "type": "async_block"
        },
        "observables": {
         "curriculum-data": {
          "id": "ob_06",
          "sync": true,
          "value": {
           "curriculum": {
            "curriculum_terms": [
             {
              "curriculum_items": [
               {
                "canonical_name": "",
                "credits": 1,
                "curriculum_requisites": [],
                "id": 407170219482275,
                "metrics": {},
                "name": "BW 101",
                "nameSub": "Introduction to Baskets"
               },
               {
                "canonical_name": "",
                "credits": 1,
                "curriculum_requisites": [],
                "id": 791483077951521,
                "metrics": {},
                "name": "PE 115",
                "nameSub": "Swimming"
               },
               {
                "canonical_name": "",
                "credits": 1,
                "curriculum_requisites": [],
                "id": 490771672307658,
                "metrics": {},
                "name": "MA 116",
                "nameSub": "Introductory Calculus w/ Applications"
               }
              ],
              "id": 1,
              "name": "Term 1"
             },
             {
              "curriculum_items": [
               {
                "canonical_name": "",
                "credits": 1,
                "curriculum_requisites": [],
                "id": 439910314758237,
                "metrics": {},
                "name": "BW 111L",
                "nameSub": "Basic Basket Forms Lab"
               },
               {
                "canonical_name": "",
                "credits": 1,
                "curriculum_requisites": [
                 {
                  "source_id": 407170219482275,
                  "target_id": 292874827301502,
                  "type": "prereq"
                 },
                 {
                  "source_id": 439910314758237,
                  "target_id": 292874827301502,
                  "type": "strict-coreq"
                 }
                ],
                "id": 292874827301502,
                "metrics": {},
                "name": "BW 111",
                "nameSub": "Basic Basket Forms"
               },
               {
                "canonical_name": "",
                "credits": 1,
                "curriculum_requisites": [
                 {
                  "source_id": 407170219482275,
                  "target_id": 406405528546733,
                  "type": "prereq"
                 }
                ],
                "id": 406405528546733,
                "metrics": {},
                "name": "BW 214",
                "nameSub": "Basket Materials & Decoration"
               }
              ],
              "id": 2,
              "name": "Term 2"
             },
             {
              "curriculum_items": [
               {
                "canonical_name": "",
                "credits": 1,
                "curriculum_requisites": [
                 {
                  "source_id": 791483077951521,
                  "target_id": 657834944242405,
                  "type": "prereq"
                 },
                 {
                  "source_id": 406405528546733,
                  "target_id": 657834944242405,
                  "type": "prereq"
                 }
                ],
                "id": 657834944242405,
                "metrics": {},
                "name": "BW 301",
                "nameSub": "Underwater Weaving"
               },
               {
                "canonical_name": "",
                "credits": 1,
                "curriculum_requisites": [
                 {
                  "source_id": 490771672307658,
                  "target_id": 63040069765916,
                  "type": "prereq"
                 },
                 {
                  "source_id": 292874827301502,
                  "target_id": 63040069765916,
                  "type": "prereq"
                 },
                 {
                  "source_id": 439910314758237,
                  "target_id": 63040069765916,
                  "type": "prereq"
                 }
                ],
                "id": 63040069765916,
                "metrics": {},
                "name": "BW 201",
                "nameSub": "Advanced Basketry"
               }
              ],
              "id": 3,
              "name": "Term 3"
             }
            ],
            "dp_name": "",
            "institution": "",
            "name": "Underwater Basket Weaving"
           },
           "options": {
            "edit": false,
            "hideTerms": true
           }
          }
         }
        },
        "systemjs_options": null
       },
       "nodeType": "Scope",
       "props": {},
       "type": "node"
      },
      "text/html": [
       "<div\n",
       "    class=\"webio-mountpoint\"\n",
       "    data-webio-mountpoint=\"17184721605513889837\"\n",
       ">\n",
       "    <script>\n",
       "    if (window.require && require.defined && require.defined(\"nbextensions/webio/main\")) {\n",
       "        console.log(\"Jupyter WebIO extension detected, not mounting.\");\n",
       "    } else if (window.WebIO) {\n",
       "        WebIO.mount(\n",
       "            document.querySelector('[data-webio-mountpoint=\"17184721605513889837\"]'),\n",
       "            {\"props\":{},\"nodeType\":\"Scope\",\"type\":\"node\",\"instanceArgs\":{\"imports\":{\"data\":[],\"type\":\"async_block\"},\"id\":\"scope-e2541134-f225-473a-95a4-7b37da6afc81\",\"handlers\":{},\"systemjs_options\":null,\"observables\":{\"curriculum-data\":{\"sync\":true,\"id\":\"ob_06\",\"value\":{\"options\":{\"hideTerms\":true,\"edit\":false},\"curriculum\":{\"name\":\"Underwater Basket Weaving\",\"dp_name\":\"\",\"curriculum_terms\":[{\"name\":\"Term 1\",\"curriculum_items\":[{\"curriculum_requisites\":[],\"name\":\"BW 101\",\"metrics\":{},\"canonical_name\":\"\",\"nameSub\":\"Introduction to Baskets\",\"id\":407170219482275,\"credits\":1},{\"curriculum_requisites\":[],\"name\":\"PE 115\",\"metrics\":{},\"canonical_name\":\"\",\"nameSub\":\"Swimming\",\"id\":791483077951521,\"credits\":1},{\"curriculum_requisites\":[],\"name\":\"MA 116\",\"metrics\":{},\"canonical_name\":\"\",\"nameSub\":\"Introductory Calculus w\\/ Applications\",\"id\":490771672307658,\"credits\":1}],\"id\":1},{\"name\":\"Term 2\",\"curriculum_items\":[{\"curriculum_requisites\":[],\"name\":\"BW 111L\",\"metrics\":{},\"canonical_name\":\"\",\"nameSub\":\"Basic Basket Forms Lab\",\"id\":439910314758237,\"credits\":1},{\"curriculum_requisites\":[{\"source_id\":407170219482275,\"target_id\":292874827301502,\"type\":\"prereq\"},{\"source_id\":439910314758237,\"target_id\":292874827301502,\"type\":\"strict-coreq\"}],\"name\":\"BW 111\",\"metrics\":{},\"canonical_name\":\"\",\"nameSub\":\"Basic Basket Forms\",\"id\":292874827301502,\"credits\":1},{\"curriculum_requisites\":[{\"source_id\":407170219482275,\"target_id\":406405528546733,\"type\":\"prereq\"}],\"name\":\"BW 214\",\"metrics\":{},\"canonical_name\":\"\",\"nameSub\":\"Basket Materials & Decoration\",\"id\":406405528546733,\"credits\":1}],\"id\":2},{\"name\":\"Term 3\",\"curriculum_items\":[{\"curriculum_requisites\":[{\"source_id\":791483077951521,\"target_id\":657834944242405,\"type\":\"prereq\"},{\"source_id\":406405528546733,\"target_id\":657834944242405,\"type\":\"prereq\"}],\"name\":\"BW 301\",\"metrics\":{},\"canonical_name\":\"\",\"nameSub\":\"Underwater Weaving\",\"id\":657834944242405,\"credits\":1},{\"curriculum_requisites\":[{\"source_id\":490771672307658,\"target_id\":63040069765916,\"type\":\"prereq\"},{\"source_id\":292874827301502,\"target_id\":63040069765916,\"type\":\"prereq\"},{\"source_id\":439910314758237,\"target_id\":63040069765916,\"type\":\"prereq\"}],\"name\":\"BW 201\",\"metrics\":{},\"canonical_name\":\"\",\"nameSub\":\"Advanced Basketry\",\"id\":63040069765916,\"credits\":1}],\"id\":3}],\"institution\":\"\"}}}}},\"children\":[{\"props\":{\"src\":\"http:\\/\\/localhost:8156\",\"id\":\"curriculum\",\"events\":{\"load\":\"(function (){this.contentWindow.postMessage({\\\"options\\\":{\\\"hideTerms\\\":true,\\\"edit\\\":false},\\\"curriculum\\\":{\\\"name\\\":\\\"Underwater Basket Weaving\\\",\\\"dp_name\\\":\\\"\\\",\\\"curriculum_terms\\\":[{\\\"name\\\":\\\"Term 1\\\",\\\"curriculum_items\\\":[{\\\"curriculum_requisites\\\":[],\\\"name\\\":\\\"BW 101\\\",\\\"metrics\\\":{},\\\"canonical_name\\\":\\\"\\\",\\\"nameSub\\\":\\\"Introduction to Baskets\\\",\\\"id\\\":407170219482275,\\\"credits\\\":1},{\\\"curriculum_requisites\\\":[],\\\"name\\\":\\\"PE 115\\\",\\\"metrics\\\":{},\\\"canonical_name\\\":\\\"\\\",\\\"nameSub\\\":\\\"Swimming\\\",\\\"id\\\":791483077951521,\\\"credits\\\":1},{\\\"curriculum_requisites\\\":[],\\\"name\\\":\\\"MA 116\\\",\\\"metrics\\\":{},\\\"canonical_name\\\":\\\"\\\",\\\"nameSub\\\":\\\"Introductory Calculus w\\/ Applications\\\",\\\"id\\\":490771672307658,\\\"credits\\\":1}],\\\"id\\\":1},{\\\"name\\\":\\\"Term 2\\\",\\\"curriculum_items\\\":[{\\\"curriculum_requisites\\\":[],\\\"name\\\":\\\"BW 111L\\\",\\\"metrics\\\":{},\\\"canonical_name\\\":\\\"\\\",\\\"nameSub\\\":\\\"Basic Basket Forms Lab\\\",\\\"id\\\":439910314758237,\\\"credits\\\":1},{\\\"curriculum_requisites\\\":[{\\\"source_id\\\":407170219482275,\\\"target_id\\\":292874827301502,\\\"type\\\":\\\"prereq\\\"},{\\\"source_id\\\":439910314758237,\\\"target_id\\\":292874827301502,\\\"type\\\":\\\"strict-coreq\\\"}],\\\"name\\\":\\\"BW 111\\\",\\\"metrics\\\":{},\\\"canonical_name\\\":\\\"\\\",\\\"nameSub\\\":\\\"Basic Basket Forms\\\",\\\"id\\\":292874827301502,\\\"credits\\\":1},{\\\"curriculum_requisites\\\":[{\\\"source_id\\\":407170219482275,\\\"target_id\\\":406405528546733,\\\"type\\\":\\\"prereq\\\"}],\\\"name\\\":\\\"BW 214\\\",\\\"metrics\\\":{},\\\"canonical_name\\\":\\\"\\\",\\\"nameSub\\\":\\\"Basket Materials & Decoration\\\",\\\"id\\\":406405528546733,\\\"credits\\\":1}],\\\"id\\\":2},{\\\"name\\\":\\\"Term 3\\\",\\\"curriculum_items\\\":[{\\\"curriculum_requisites\\\":[{\\\"source_id\\\":791483077951521,\\\"target_id\\\":657834944242405,\\\"type\\\":\\\"prereq\\\"},{\\\"source_id\\\":406405528546733,\\\"target_id\\\":657834944242405,\\\"type\\\":\\\"prereq\\\"}],\\\"name\\\":\\\"BW 301\\\",\\\"metrics\\\":{},\\\"canonical_name\\\":\\\"\\\",\\\"nameSub\\\":\\\"Underwater Weaving\\\",\\\"id\\\":657834944242405,\\\"credits\\\":1},{\\\"curriculum_requisites\\\":[{\\\"source_id\\\":490771672307658,\\\"target_id\\\":63040069765916,\\\"type\\\":\\\"prereq\\\"},{\\\"source_id\\\":292874827301502,\\\"target_id\\\":63040069765916,\\\"type\\\":\\\"prereq\\\"},{\\\"source_id\\\":439910314758237,\\\"target_id\\\":63040069765916,\\\"type\\\":\\\"prereq\\\"}],\\\"name\\\":\\\"BW 201\\\",\\\"metrics\\\":{},\\\"canonical_name\\\":\\\"\\\",\\\"nameSub\\\":\\\"Advanced Basketry\\\",\\\"id\\\":63040069765916,\\\"credits\\\":1}],\\\"id\\\":3}],\\\"institution\\\":\\\"\\\"}},\\\"*\\\"); window.removeEventListener(\\\"message\\\",window.messageReceived); window.messageReceived=(function (event){return (event.data.curriculum!==undefined) ? (_webIOScope.setObservableValue({\\\"name\\\":\\\"curriculum-data\\\",\\\"scope\\\":\\\"scope-e2541134-f225-473a-95a4-7b37da6afc81\\\",\\\"id\\\":\\\"ob_06\\\",\\\"type\\\":\\\"observable\\\"},event.data.curriculum)) : undefined}); return window.addEventListener(\\\"message\\\",window.messageReceived)})\"},\"style\":{\"padding\":\"0\",\"height\":\"100vh\",\"margin\":\"0\",\"border\":\"none\",\"width\":\"100%\"}},\"nodeType\":\"DOM\",\"type\":\"node\",\"instanceArgs\":{\"namespace\":\"html\",\"tag\":\"iframe\"},\"children\":[\"\"]}]},\n",
       "        );\n",
       "    } else {\n",
       "        document\n",
       "            .querySelector('[data-webio-mountpoint=\"17184721605513889837\"]')\n",
       "            .innerHTML = '<strong>WebIO not detected.</strong>';\n",
       "    }\n",
       "    </script>\n",
       "</div>\n"
      ],
      "text/plain": [
       "WebIO.Scope(\"scope-e2541134-f225-473a-95a4-7b37da6afc81\", WebIO.Node{WebIO.DOM}(WebIO.DOM(:html, :iframe), Any[\"\"], Dict{Symbol,Any}(:src=>\"http://localhost:8156\",:id=>\"curriculum\",:events=>Dict(:load=>JSString(\"(function (){this.contentWindow.postMessage({\\\"options\\\":{\\\"hideTerms\\\":true,\\\"edit\\\":false},\\\"curriculum\\\":{\\\"name\\\":\\\"Underwater Basket Weaving\\\",\\\"dp_name\\\":\\\"\\\",\\\"curriculum_terms\\\":[{\\\"name\\\":\\\"Term 1\\\",\\\"curriculum_items\\\":[{\\\"curriculum_requisites\\\":[],\\\"name\\\":\\\"BW 101\\\",\\\"metrics\\\":{},\\\"canonical_name\\\":\\\"\\\",\\\"nameSub\\\":\\\"Introduction to Baskets\\\",\\\"id\\\":407170219482275,\\\"credits\\\":1},{\\\"curriculum_requisites\\\":[],\\\"name\\\":\\\"PE 115\\\",\\\"metrics\\\":{},\\\"canonical_name\\\":\\\"\\\",\\\"nameSub\\\":\\\"Swimming\\\",\\\"id\\\":791483077951521,\\\"credits\\\":1},{\\\"curriculum_requisites\\\":[],\\\"name\\\":\\\"MA 116\\\",\\\"metrics\\\":{},\\\"canonical_name\\\":\\\"\\\",\\\"nameSub\\\":\\\"Introductory Calculus w/ Applications\\\",\\\"id\\\":490771672307658,\\\"credits\\\":1}],\\\"id\\\":1},{\\\"name\\\":\\\"Term 2\\\",\\\"curriculum_items\\\":[{\\\"curriculum_requisites\\\":[],\\\"name\\\":\\\"BW 111L\\\",\\\"metrics\\\":{},\\\"canonical_name\\\":\\\"\\\",\\\"nameSub\\\":\\\"Basic Basket Forms Lab\\\",\\\"id\\\":439910314758237,\\\"credits\\\":1},{\\\"curriculum_requisites\\\":[{\\\"source_id\\\":407170219482275,\\\"target_id\\\":292874827301502,\\\"type\\\":\\\"prereq\\\"},{\\\"source_id\\\":439910314758237,\\\"target_id\\\":292874827301502,\\\"type\\\":\\\"strict-coreq\\\"}],\\\"name\\\":\\\"BW 111\\\",\\\"metrics\\\":{},\\\"canonical_name\\\":\\\"\\\",\\\"nameSub\\\":\\\"Basic Basket Forms\\\",\\\"id\\\":292874827301502,\\\"credits\\\":1},{\\\"curriculum_requisites\\\":[{\\\"source_id\\\":407170219482275,\\\"target_id\\\":406405528546733,\\\"type\\\":\\\"prereq\\\"}],\\\"name\\\":\\\"BW 214\\\",\\\"metrics\\\":{},\\\"canonical_name\\\":\\\"\\\",\\\"nameSub\\\":\\\"Basket Materials & Decoration\\\",\\\"id\\\":406405528546733,\\\"credits\\\":1}],\\\"id\\\":2},{\\\"name\\\":\\\"Term 3\\\",\\\"curriculum_items\\\":[{\\\"curriculum_requisites\\\":[{\\\"source_id\\\":791483077951521,\\\"target_id\\\":657834944242405,\\\"type\\\":\\\"prereq\\\"},{\\\"source_id\\\":406405528546733,\\\"target_id\\\":657834944242405,\\\"type\\\":\\\"prereq\\\"}],\\\"name\\\":\\\"BW 301\\\",\\\"metrics\\\":{},\\\"canonical_name\\\":\\\"\\\",\\\"nameSub\\\":\\\"Underwater Weaving\\\",\\\"id\\\":657834944242405,\\\"credits\\\":1},{\\\"curriculum_requisites\\\":[{\\\"source_id\\\":490771672307658,\\\"target_id\\\":63040069765916,\\\"type\\\":\\\"prereq\\\"},{\\\"source_id\\\":292874827301502,\\\"target_id\\\":63040069765916,\\\"type\\\":\\\"prereq\\\"},{\\\"source_id\\\":439910314758237,\\\"target_id\\\":63040069765916,\\\"type\\\":\\\"prereq\\\"}],\\\"name\\\":\\\"BW 201\\\",\\\"metrics\\\":{},\\\"canonical_name\\\":\\\"\\\",\\\"nameSub\\\":\\\"Advanced Basketry\\\",\\\"id\\\":63040069765916,\\\"credits\\\":1}],\\\"id\\\":3}],\\\"institution\\\":\\\"\\\"}},\\\"*\\\"); window.removeEventListener(\\\"message\\\",window.messageReceived); window.messageReceived=(function (event){return (event.data.curriculum!==undefined) ? (_webIOScope.setObservableValue({\\\"name\\\":\\\"curriculum-data\\\",\\\"scope\\\":\\\"scope-e2541134-f225-473a-95a4-7b37da6afc81\\\",\\\"id\\\":\\\"ob_06\\\",\\\"type\\\":\\\"observable\\\"},event.data.curriculum)) : undefined}); return window.addEventListener(\\\"message\\\",window.messageReceived)})\")),:style=>Dict(:padding=>\"0\",:height=>\"100vh\",:margin=>\"0\",:border=>\"none\",:width=>\"100%\")), 1), Dict{String,Tuple{Observables.AbstractObservable,Union{Nothing, Bool}}}(\"curriculum-data\"=>(Observable{Dict{String,Any}} with 1 listeners. Value:\n",
       "Dict{String,Any}(\"options\"=>Dict{String,Any}(\"hideTerms\"=>true,\"edit\"=>false),\"curriculum\"=>Dict{String,Any}(\"name\"=>\"Underwater Basket Weaving\",\"dp_name\"=>\"\",\"curriculum_terms\"=>Dict{String,Any}[Dict(\"name\"=>\"Term 1\",\"curriculum_items\"=>Dict{String,Any}[Dict(\"curriculum_requisites\"=>Dict{String,Any}[],\"name\"=>\"BW 101\",\"metrics\"=>Dict{String,Any}(),\"canonical_name\"=>\"\",\"nameSub\"=>\"Introduction to Baskets\",\"id\"=>407170219482275,\"credits\"=>1), Dict(\"curriculum_requisites\"=>Dict{String,Any}[],\"name\"=>\"PE 115\",\"metrics\"=>Dict{String,Any}(),\"canonical_name\"=>\"\",\"nameSub\"=>\"Swimming\",\"id\"=>791483077951521,\"credits\"=>1), Dict(\"curriculum_requisites\"=>Dict{String,Any}[],\"name\"=>\"MA 116\",\"metrics\"=>Dict{String,Any}(),\"canonical_name\"=>\"\",\"nameSub\"=>\"Introductory Calculus w/ Applications\",\"id\"=>490771672307658,\"credits\"=>1)],\"id\"=>1), Dict(\"name\"=>\"Term 2\",\"curriculum_items\"=>Dict{String,Any}[Dict(\"curriculum_requisites\"=>Dict{String,Any}[],\"name\"=>\"BW 111L\",\"metrics\"=>Dict{String,Any}(),\"canonical_name\"=>\"\",\"nameSub\"=>\"Basic Basket Forms Lab\",\"id\"=>439910314758237,\"credits\"=>1), Dict(\"curriculum_requisites\"=>Dict{String,Any}[Dict(\"source_id\"=>407170219482275,\"target_id\"=>292874827301502,\"type\"=>\"prereq\"), Dict(\"source_id\"=>439910314758237,\"target_id\"=>292874827301502,\"type\"=>\"strict-coreq\")],\"name\"=>\"BW 111\",\"metrics\"=>Dict{String,Any}(),\"canonical_name\"=>\"\",\"nameSub\"=>\"Basic Basket Forms\",\"id\"=>292874827301502,\"credits\"=>1), Dict(\"curriculum_requisites\"=>Dict{String,Any}[Dict(\"source_id\"=>407170219482275,\"target_id\"=>406405528546733,\"type\"=>\"prereq\")],\"name\"=>\"BW 214\",\"metrics\"=>Dict{String,Any}(),\"canonical_name\"=>\"\",\"nameSub\"=>\"Basket Materials & Decoration\",\"id\"=>406405528546733,\"credits\"=>1)],\"id\"=>2), Dict(\"name\"=>\"Term 3\",\"curriculum_items\"=>Dict{String,Any}[Dict(\"curriculum_requisites\"=>Dict{String,Any}[Dict(\"source_id\"=>791483077951521,\"target_id\"=>657834944242405,\"type\"=>\"prereq\"), Dict(\"source_id\"=>406405528546733,\"target_id\"=>657834944242405,\"type\"=>\"prereq\")],\"name\"=>\"BW 301\",\"metrics\"=>Dict{String,Any}(),\"canonical_name\"=>\"\",\"nameSub\"=>\"Underwater Weaving\",\"id\"=>657834944242405,\"credits\"=>1), Dict(\"curriculum_requisites\"=>Dict{String,Any}[Dict(\"source_id\"=>490771672307658,\"target_id\"=>63040069765916,\"type\"=>\"prereq\"), Dict(\"source_id\"=>292874827301502,\"target_id\"=>63040069765916,\"type\"=>\"prereq\"), Dict(\"source_id\"=>439910314758237,\"target_id\"=>63040069765916,\"type\"=>\"prereq\")],\"name\"=>\"BW 201\",\"metrics\"=>Dict{String,Any}(),\"canonical_name\"=>\"\",\"nameSub\"=>\"Advanced Basketry\",\"id\"=>63040069765916,\"credits\"=>1)],\"id\"=>3)],\"institution\"=>\"\")), nothing)), Set(String[]), nothing, Any[], Dict{Any,Any}(), WebIO.ConnectionPool(Channel{Any}(sz_max:9223372036854775807,sz_curr:0), Set(WebIO.AbstractConnection[]), Channel{WebIO.AbstractConnection}(sz_max:32,sz_curr:0)))"
      ]
     },
     "execution_count": 7,
     "metadata": {
      "application/vnd.webio.node+json": {
       "kernelId": "fc3463b8-2aee-44cc-836b-de329e64ef80"
      }
     },
     "output_type": "execute_result"
    }
   ],
   "source": [
    "out = read_csv_new(\"examples\\\\UBW_curriculum2.csv\")\n",
    "#write_csv(out)\n",
    "visualize(out, changed=update_plan , edit=false, notebook=true, \n",
    "    show_blocking_factor=false, show_delay_factor=false,\n",
    "    show_centrality=false, show_complexity = false)"
   ]
  },
  {
   "cell_type": "code",
   "execution_count": null,
   "metadata": {
    "collapsed": true
   },
   "outputs": [],
   "source": []
  }
 ],
 "metadata": {
  "@webio": {
   "lastCommId": "B28E0645E7A84FE6BC69486CEF0B803F",
   "lastKernelId": "fc3463b8-2aee-44cc-836b-de329e64ef80"
  },
  "kernelspec": {
   "display_name": "Julia 1.0.1",
   "language": "julia",
   "name": "julia-1.0"
  },
  "language_info": {
   "file_extension": ".jl",
   "mimetype": "application/julia",
   "name": "julia",
   "version": "1.0.1"
  }
 },
 "nbformat": 4,
 "nbformat_minor": 2
}

{
 "cells": [
  {
   "cell_type": "code",
   "execution_count": 5,
   "metadata": {},
   "outputs": [
    {
     "name": "stderr",
     "output_type": "stream",
     "text": [
      "┌ Info: Precompiling CurricularAnalytics [b915a5b0-c40e-11e8-3dab-39a55ab5c2f7]\n",
      "└ @ Base loading.jl:1186\n",
      "ERROR: LoadError: ArgumentError: Package CategoricalArrays does not have Requires in its dependencies:\n",
      "- If you have CategoricalArrays checked out for development and have\n",
      "  added Requires as a dependency but haven't updated your primary\n",
      "  environment's manifest file, try `Pkg.resolve()`.\n",
      "- Otherwise you may need to report an issue with CategoricalArrays\n",
      "Stacktrace:\n",
      " [1] require(::Module, ::Symbol) at ./loading.jl:830\n",
      " [2] include at ./boot.jl:317 [inlined]\n",
      " [3] include_relative(::Module, ::String) at ./loading.jl:1038\n",
      " [4] include(::Module, ::String) at ./sysimg.jl:29\n",
      " [5] top-level scope at none:2\n",
      " [6] eval at ./boot.jl:319 [inlined]\n",
      " [7] eval(::Expr) at ./client.jl:389\n",
      " [8] top-level scope at ./none:3\n",
      "in expression starting at /Users/heileman/.julia/packages/CategoricalArrays/BaTU4/src/CategoricalArrays.jl:15\n",
      "ERROR: LoadError: Failed to precompile CategoricalArrays [324d7699-5711-5eae-9e2f-1d82baa6b597] to /Users/heileman/.julia/compiled/v1.0/CategoricalArrays/RHXoP.ji.\n",
      "Stacktrace:\n",
      " [1] error(::String) at ./error.jl:33\n",
      " [2] macro expansion at ./logging.jl:313 [inlined]\n",
      " [3] compilecache(::Base.PkgId, ::String) at ./loading.jl:1184\n",
      " [4] _require(::Base.PkgId) at ./logging.jl:311\n",
      " [5] require(::Base.PkgId) at ./loading.jl:852\n",
      " [6] macro expansion at ./logging.jl:311 [inlined]\n",
      " [7] require(::Module, ::Symbol) at ./loading.jl:834\n",
      " [8] include at ./boot.jl:317 [inlined]\n",
      " [9] include_relative(::Module, ::String) at ./loading.jl:1038\n",
      " [10] include(::Module, ::String) at ./sysimg.jl:29\n",
      " [11] top-level scope at none:2\n",
      " [12] eval at ./boot.jl:319 [inlined]\n",
      " [13] eval(::Expr) at ./client.jl:389\n",
      " [14] top-level scope at ./none:3\n",
      "in expression starting at /Users/heileman/.julia/packages/CSV/eWuJV/src/CSV.jl:3\n",
      "ERROR: LoadError: LoadError: Failed to precompile CSV [336ed68f-0bac-5ca0-87d4-7b16caf5d00b] to /Users/heileman/.julia/compiled/v1.0/CSV/HHBkp.ji.\n",
      "Stacktrace:\n",
      " [1] error(::String) at ./error.jl:33\n",
      " [2] macro expansion at ./logging.jl:313 [inlined]\n",
      " [3] compilecache(::Base.PkgId, ::String) at ./loading.jl:1184\n",
      " [4] _require(::Base.PkgId) at ./logging.jl:311\n",
      " [5] require(::Base.PkgId) at ./loading.jl:852\n",
      " [6] macro expansion at ./logging.jl:311 [inlined]\n",
      " [7] require(::Module, ::Symbol) at ./loading.jl:834\n",
      " [8] include at ./boot.jl:317 [inlined]\n",
      " [9] include_relative(::Module, ::String) at ./loading.jl:1038\n",
      " [10] include at ./sysimg.jl:29 [inlined]\n",
      " [11] include(::String) at /Users/heileman/Library/Mobile Documents/com~apple~CloudDocs/work/research/Curricular Analytics/CurricularAnalytics.jl/src/CurricularAnalytics.jl:9\n",
      " [12] top-level scope at none:0\n",
      " [13] include at ./boot.jl:317 [inlined]\n",
      " [14] include_relative(::Module, ::String) at ./loading.jl:1038\n",
      " [15] include(::Module, ::String) at ./sysimg.jl:29\n",
      " [16] top-level scope at none:2\n",
      " [17] eval at ./boot.jl:319 [inlined]\n",
      " [18] eval(::Expr) at ./client.jl:389\n",
      " [19] top-level scope at ./none:3\n",
      "in expression starting at /Users/heileman/Library/Mobile Documents/com~apple~CloudDocs/work/research/Curricular Analytics/CurricularAnalytics.jl/src/DataHandler.jl:2\n",
      "in expression starting at /Users/heileman/Library/Mobile Documents/com~apple~CloudDocs/work/research/Curricular Analytics/CurricularAnalytics.jl/src/CurricularAnalytics.jl:20\n"
     ]
    },
    {
     "ename": "ErrorException",
     "evalue": "Failed to precompile CurricularAnalytics [b915a5b0-c40e-11e8-3dab-39a55ab5c2f7] to /Users/heileman/.julia/compiled/v1.0/CurricularAnalytics/KKMY9.ji.",
     "output_type": "error",
     "traceback": [
      "Failed to precompile CurricularAnalytics [b915a5b0-c40e-11e8-3dab-39a55ab5c2f7] to /Users/heileman/.julia/compiled/v1.0/CurricularAnalytics/KKMY9.ji.",
      "",
      "Stacktrace:",
      " [1] error(::String) at ./error.jl:33",
      " [2] macro expansion at ./logging.jl:313 [inlined]",
      " [3] compilecache(::Base.PkgId, ::String) at ./loading.jl:1184",
      " [4] macro expansion at ./logging.jl:311 [inlined]",
      " [5] _require(::Base.PkgId) at ./loading.jl:941",
      " [6] require(::Base.PkgId) at ./loading.jl:852",
      " [7] macro expansion at ./logging.jl:311 [inlined]",
      " [8] require(::Module, ::Symbol) at ./loading.jl:834",
      " [9] top-level scope at In[5]:6"
     ]
    }
   ],
   "source": [
    "#This cell shows does not use Blink, so the output will will be shown in Jupyter with visualize_jupyter function\n",
    "\n",
    "#Activate CurricularAnalytics package and add it\n",
    "using Pkg\n",
    "pkg\"activate .\"\n",
    "using CurricularAnalytics\n",
    "#read Classes from csv file and dump as .json\n",
    "read_csv(\"examples/CornellECECources.csv\")\n",
    "#Load classes from .json file created\n",
    "dp = import_degree_plan(\"recent-visualization.json\")\n",
    "curric = dp.curriculum\n",
    "\n",
    "errors = IOBuffer()\n",
    "if isvalid_curriculum(curric, errors)\n",
    "    println(\"Curriculum $(curric.name) is valid\")\n",
    "    println(\"  delay factor = $(delay_factor(curric))\")\n",
    "    println(\"  blocking factor = $(blocking_factor(curric))\")\n",
    "    println(\"  centrality factor = $(centrality(curric))\")\n",
    "    println(\"  curricular complexity = $(complexity(curric))\")\n",
    "    take!(errors) # clear the IO buffer\n",
    "    if isvalid_degree_plan(dp, errors)\n",
    "        println(\"Degree plan $(dp.name) is valid\")\n",
    "    else\n",
    "        println(\"Degree plan $(dp.name) is not valid:\")\n",
    "        print(String(take!(errors)))\n",
    "        println(\"\\nDiplaying degree plan for debugging purposes...\")\n",
    "    end\n",
    "    #visualize(dp)\n",
    "    visualize_jupyter(dp)\n",
    "else # invalid curriculum\n",
    "    println(\"Curriculum $(curric.name) is not valid:\")\n",
    "    print(String(take!(errors)))\n",
    "end"
   ]
  },
  {
   "cell_type": "code",
   "execution_count": 6,
   "metadata": {},
   "outputs": [
    {
     "name": "stderr",
     "output_type": "stream",
     "text": [
      "┌ Info: Precompiling CurricularAnalytics [b915a5b0-c40e-11e8-3dab-39a55ab5c2f7]\n",
      "└ @ Base loading.jl:1186\n",
      "ERROR: LoadError: ArgumentError: Package CategoricalArrays does not have Requires in its dependencies:\n",
      "- If you have CategoricalArrays checked out for development and have\n",
      "  added Requires as a dependency but haven't updated your primary\n",
      "  environment's manifest file, try `Pkg.resolve()`.\n",
      "- Otherwise you may need to report an issue with CategoricalArrays\n",
      "Stacktrace:\n",
      " [1] require(::Module, ::Symbol) at ./loading.jl:830\n",
      " [2] include at ./boot.jl:317 [inlined]\n",
      " [3] include_relative(::Module, ::String) at ./loading.jl:1038\n",
      " [4] include(::Module, ::String) at ./sysimg.jl:29\n",
      " [5] top-level scope at none:2\n",
      " [6] eval at ./boot.jl:319 [inlined]\n",
      " [7] eval(::Expr) at ./client.jl:389\n",
      " [8] top-level scope at ./none:3\n",
      "in expression starting at /Users/heileman/.julia/packages/CategoricalArrays/BaTU4/src/CategoricalArrays.jl:15\n",
      "ERROR: LoadError: Failed to precompile CategoricalArrays [324d7699-5711-5eae-9e2f-1d82baa6b597] to /Users/heileman/.julia/compiled/v1.0/CategoricalArrays/RHXoP.ji.\n",
      "Stacktrace:\n",
      " [1] error(::String) at ./error.jl:33\n",
      " [2] macro expansion at ./logging.jl:313 [inlined]\n",
      " [3] compilecache(::Base.PkgId, ::String) at ./loading.jl:1184\n",
      " [4] _require(::Base.PkgId) at ./logging.jl:311\n",
      " [5] require(::Base.PkgId) at ./loading.jl:852\n",
      " [6] macro expansion at ./logging.jl:311 [inlined]\n",
      " [7] require(::Module, ::Symbol) at ./loading.jl:834\n",
      " [8] include at ./boot.jl:317 [inlined]\n",
      " [9] include_relative(::Module, ::String) at ./loading.jl:1038\n",
      " [10] include(::Module, ::String) at ./sysimg.jl:29\n",
      " [11] top-level scope at none:2\n",
      " [12] eval at ./boot.jl:319 [inlined]\n",
      " [13] eval(::Expr) at ./client.jl:389\n",
      " [14] top-level scope at ./none:3\n",
      "in expression starting at /Users/heileman/.julia/packages/CSV/eWuJV/src/CSV.jl:3\n",
      "ERROR: LoadError: LoadError: Failed to precompile CSV [336ed68f-0bac-5ca0-87d4-7b16caf5d00b] to /Users/heileman/.julia/compiled/v1.0/CSV/HHBkp.ji.\n",
      "Stacktrace:\n",
      " [1] error(::String) at ./error.jl:33\n",
      " [2] macro expansion at ./logging.jl:313 [inlined]\n",
      " [3] compilecache(::Base.PkgId, ::String) at ./loading.jl:1184\n",
      " [4] _require(::Base.PkgId) at ./logging.jl:311\n",
      " [5] require(::Base.PkgId) at ./loading.jl:852\n",
      " [6] macro expansion at ./logging.jl:311 [inlined]\n",
      " [7] require(::Module, ::Symbol) at ./loading.jl:834\n",
      " [8] include at ./boot.jl:317 [inlined]\n",
      " [9] include_relative(::Module, ::String) at ./loading.jl:1038\n",
      " [10] include at ./sysimg.jl:29 [inlined]\n",
      " [11] include(::String) at /Users/heileman/Library/Mobile Documents/com~apple~CloudDocs/work/research/Curricular Analytics/CurricularAnalytics.jl/src/CurricularAnalytics.jl:9\n",
      " [12] top-level scope at none:0\n",
      " [13] include at ./boot.jl:317 [inlined]\n",
      " [14] include_relative(::Module, ::String) at ./loading.jl:1038\n",
      " [15] include(::Module, ::String) at ./sysimg.jl:29\n",
      " [16] top-level scope at none:2\n",
      " [17] eval at ./boot.jl:319 [inlined]\n",
      " [18] eval(::Expr) at ./client.jl:389\n",
      " [19] top-level scope at ./none:3\n",
      "in expression starting at /Users/heileman/Library/Mobile Documents/com~apple~CloudDocs/work/research/Curricular Analytics/CurricularAnalytics.jl/src/DataHandler.jl:2\n",
      "in expression starting at /Users/heileman/Library/Mobile Documents/com~apple~CloudDocs/work/research/Curricular Analytics/CurricularAnalytics.jl/src/CurricularAnalytics.jl:20\n"
     ]
    },
    {
     "ename": "ErrorException",
     "evalue": "Failed to precompile CurricularAnalytics [b915a5b0-c40e-11e8-3dab-39a55ab5c2f7] to /Users/heileman/.julia/compiled/v1.0/CurricularAnalytics/KKMY9.ji.",
     "output_type": "error",
     "traceback": [
      "Failed to precompile CurricularAnalytics [b915a5b0-c40e-11e8-3dab-39a55ab5c2f7] to /Users/heileman/.julia/compiled/v1.0/CurricularAnalytics/KKMY9.ji.",
      "",
      "Stacktrace:",
      " [1] error(::String) at ./error.jl:33",
      " [2] macro expansion at ./logging.jl:313 [inlined]",
      " [3] compilecache(::Base.PkgId, ::String) at ./loading.jl:1184",
      " [4] macro expansion at ./logging.jl:311 [inlined]",
      " [5] _require(::Base.PkgId) at ./loading.jl:941",
      " [6] require(::Base.PkgId) at ./loading.jl:852",
      " [7] macro expansion at ./logging.jl:311 [inlined]",
      " [8] require(::Module, ::Symbol) at ./loading.jl:834",
      " [9] top-level scope at In[6]:6"
     ]
    }
   ],
   "source": [
    "#This cell will open a Blink window to show the Curriculum with visualize function\n",
    "\n",
    "#Activate CurricularAnalytics package and add it\n",
    "using Pkg\n",
    "pkg\"activate .\"\n",
    "using CurricularAnalytics\n",
    "#read Classes from csv file and dump as .json\n",
    "read_csv(\"examples/CornellECECources.csv\")\n",
    "#Load classes from .json file created\n",
    "dp = import_degree_plan(\"recent-visualization.json\")\n",
    "curric = dp.curriculum\n",
    "\n",
    "errors = IOBuffer()\n",
    "if isvalid_curriculum(curric, errors)\n",
    "    println(\"Curriculum $(curric.name) is valid\")\n",
    "    println(\"  delay factor = $(delay_factor(curric))\")\n",
    "    println(\"  blocking factor = $(blocking_factor(curric))\")\n",
    "    println(\"  centrality factor = $(centrality(curric))\")\n",
    "    println(\"  curricular complexity = $(complexity(curric))\")\n",
    "    take!(errors) # clear the IO buffer\n",
    "    if isvalid_degree_plan(dp, errors)\n",
    "        println(\"Degree plan $(dp.name) is valid\")\n",
    "    else\n",
    "        println(\"Degree plan $(dp.name) is not valid:\")\n",
    "        print(String(take!(errors)))\n",
    "        println(\"\\nDiplaying degree plan for debugging purposes...\")\n",
    "    end\n",
    "    visualize(dp)\n",
    "    #visualize_jupyter(dp)\n",
    "else # invalid curriculum\n",
    "    println(\"Curriculum $(curric.name) is not valid:\")\n",
    "    print(String(take!(errors)))\n",
    "end"
   ]
  },
  {
   "cell_type": "code",
   "execution_count": 3,
   "metadata": {},
   "outputs": [
    {
     "name": "stderr",
     "output_type": "stream",
     "text": [
      "┌ Info: Precompiling CurricularAnalytics [b915a5b0-c40e-11e8-3dab-39a55ab5c2f7]\n",
      "└ @ Base loading.jl:1186\n",
      "ERROR: LoadError: ArgumentError: Package CategoricalArrays does not have Requires in its dependencies:\n",
      "- If you have CategoricalArrays checked out for development and have\n",
      "  added Requires as a dependency but haven't updated your primary\n",
      "  environment's manifest file, try `Pkg.resolve()`.\n",
      "- Otherwise you may need to report an issue with CategoricalArrays\n",
      "Stacktrace:\n",
      " [1] require(::Module, ::Symbol) at ./loading.jl:830\n",
      " [2] include at ./boot.jl:317 [inlined]\n",
      " [3] include_relative(::Module, ::String) at ./loading.jl:1038\n",
      " [4] include(::Module, ::String) at ./sysimg.jl:29\n",
      " [5] top-level scope at none:2\n",
      " [6] eval at ./boot.jl:319 [inlined]\n",
      " [7] eval(::Expr) at ./client.jl:389\n",
      " [8] top-level scope at ./none:3\n",
      "in expression starting at /Users/heileman/.julia/packages/CategoricalArrays/BaTU4/src/CategoricalArrays.jl:15\n",
      "ERROR: LoadError: Failed to precompile CategoricalArrays [324d7699-5711-5eae-9e2f-1d82baa6b597] to /Users/heileman/.julia/compiled/v1.0/CategoricalArrays/RHXoP.ji.\n",
      "Stacktrace:\n",
      " [1] error(::String) at ./error.jl:33\n",
      " [2] macro expansion at ./logging.jl:313 [inlined]\n",
      " [3] compilecache(::Base.PkgId, ::String) at ./loading.jl:1184\n",
      " [4] _require(::Base.PkgId) at ./logging.jl:311\n",
      " [5] require(::Base.PkgId) at ./loading.jl:852\n",
      " [6] macro expansion at ./logging.jl:311 [inlined]\n",
      " [7] require(::Module, ::Symbol) at ./loading.jl:834\n",
      " [8] include at ./boot.jl:317 [inlined]\n",
      " [9] include_relative(::Module, ::String) at ./loading.jl:1038\n",
      " [10] include(::Module, ::String) at ./sysimg.jl:29\n",
      " [11] top-level scope at none:2\n",
      " [12] eval at ./boot.jl:319 [inlined]\n",
      " [13] eval(::Expr) at ./client.jl:389\n",
      " [14] top-level scope at ./none:3\n",
      "in expression starting at /Users/heileman/.julia/packages/CSV/eWuJV/src/CSV.jl:3\n",
      "ERROR: LoadError: LoadError: Failed to precompile CSV [336ed68f-0bac-5ca0-87d4-7b16caf5d00b] to /Users/heileman/.julia/compiled/v1.0/CSV/HHBkp.ji.\n",
      "Stacktrace:\n",
      " [1] error(::String) at ./error.jl:33\n",
      " [2] macro expansion at ./logging.jl:313 [inlined]\n",
      " [3] compilecache(::Base.PkgId, ::String) at ./loading.jl:1184\n",
      " [4] _require(::Base.PkgId) at ./logging.jl:311\n",
      " [5] require(::Base.PkgId) at ./loading.jl:852\n",
      " [6] macro expansion at ./logging.jl:311 [inlined]\n",
      " [7] require(::Module, ::Symbol) at ./loading.jl:834\n",
      " [8] include at ./boot.jl:317 [inlined]\n",
      " [9] include_relative(::Module, ::String) at ./loading.jl:1038\n",
      " [10] include at ./sysimg.jl:29 [inlined]\n",
      " [11] include(::String) at /Users/heileman/Library/Mobile Documents/com~apple~CloudDocs/work/research/Curricular Analytics/CurricularAnalytics.jl/src/CurricularAnalytics.jl:9\n",
      " [12] top-level scope at none:0\n",
      " [13] include at ./boot.jl:317 [inlined]\n",
      " [14] include_relative(::Module, ::String) at ./loading.jl:1038\n",
      " [15] include(::Module, ::String) at ./sysimg.jl:29\n",
      " [16] top-level scope at none:2\n",
      " [17] eval at ./boot.jl:319 [inlined]\n",
      " [18] eval(::Expr) at ./client.jl:389\n",
      " [19] top-level scope at ./none:3\n",
      "in expression starting at /Users/heileman/Library/Mobile Documents/com~apple~CloudDocs/work/research/Curricular Analytics/CurricularAnalytics.jl/src/DataHandler.jl:2\n",
      "in expression starting at /Users/heileman/Library/Mobile Documents/com~apple~CloudDocs/work/research/Curricular Analytics/CurricularAnalytics.jl/src/CurricularAnalytics.jl:20\n"
     ]
    },
    {
     "ename": "LoadError",
     "evalue": "Failed to precompile CurricularAnalytics [b915a5b0-c40e-11e8-3dab-39a55ab5c2f7] to /Users/heileman/.julia/compiled/v1.0/CurricularAnalytics/KKMY9.ji.",
     "output_type": "error",
     "traceback": [
      "Failed to precompile CurricularAnalytics [b915a5b0-c40e-11e8-3dab-39a55ab5c2f7] to /Users/heileman/.julia/compiled/v1.0/CurricularAnalytics/KKMY9.ji.",
      "",
      "Stacktrace:",
      " [1] error(::String) at ./error.jl:33",
      " [2] macro expansion at ./logging.jl:313 [inlined]",
      " [3] compilecache(::Base.PkgId, ::String) at ./loading.jl:1184",
      " [4] macro expansion at ./logging.jl:311 [inlined]",
      " [5] _require(::Base.PkgId) at ./loading.jl:941",
      " [6] require(::Base.PkgId) at ./loading.jl:852",
      " [7] macro expansion at ./logging.jl:311 [inlined]",
      " [8] require(::Module, ::Symbol) at ./loading.jl:834",
      " [9] include at ./boot.jl:317 [inlined]",
      " [10] include_relative(::Module, ::String) at ./loading.jl:1038",
      " [11] include(::Module, ::String) at ./sysimg.jl:29",
      " [12] include(::String) at ./client.jl:388",
      " [13] top-level scope at In[3]:6"
     ]
    }
   ],
   "source": [
    "#This cell will run an exapmle file in \"example\" folder\n",
    "#Output will be on Blink window\n",
    "#If you want to show the output on Jupyter, you can change the visualize(dp) function to visualize_jupyter(dp)\n",
    "using Pkg\n",
    "pkg\"activate .\"\n",
    "include(\"examples/curric_UH_EE.jl\")"
   ]
  },
  {
   "cell_type": "code",
   "execution_count": 4,
   "metadata": {},
   "outputs": [
    {
     "name": "stderr",
     "output_type": "stream",
     "text": [
      "┌ Info: Precompiling CurricularAnalytics [b915a5b0-c40e-11e8-3dab-39a55ab5c2f7]\n",
      "└ @ Base loading.jl:1186\n",
      "ERROR: LoadError: ArgumentError: Package CategoricalArrays does not have Requires in its dependencies:\n",
      "- If you have CategoricalArrays checked out for development and have\n",
      "  added Requires as a dependency but haven't updated your primary\n",
      "  environment's manifest file, try `Pkg.resolve()`.\n",
      "- Otherwise you may need to report an issue with CategoricalArrays\n",
      "Stacktrace:\n",
      " [1] require(::Module, ::Symbol) at ./loading.jl:830\n",
      " [2] include at ./boot.jl:317 [inlined]\n",
      " [3] include_relative(::Module, ::String) at ./loading.jl:1038\n",
      " [4] include(::Module, ::String) at ./sysimg.jl:29\n",
      " [5] top-level scope at none:2\n",
      " [6] eval at ./boot.jl:319 [inlined]\n",
      " [7] eval(::Expr) at ./client.jl:389\n",
      " [8] top-level scope at ./none:3\n",
      "in expression starting at /Users/heileman/.julia/packages/CategoricalArrays/BaTU4/src/CategoricalArrays.jl:15\n",
      "ERROR: LoadError: Failed to precompile CategoricalArrays [324d7699-5711-5eae-9e2f-1d82baa6b597] to /Users/heileman/.julia/compiled/v1.0/CategoricalArrays/RHXoP.ji.\n",
      "Stacktrace:\n",
      " [1] error(::String) at ./error.jl:33\n",
      " [2] macro expansion at ./logging.jl:313 [inlined]\n",
      " [3] compilecache(::Base.PkgId, ::String) at ./loading.jl:1184\n",
      " [4] _require(::Base.PkgId) at ./logging.jl:311\n",
      " [5] require(::Base.PkgId) at ./loading.jl:852\n",
      " [6] macro expansion at ./logging.jl:311 [inlined]\n",
      " [7] require(::Module, ::Symbol) at ./loading.jl:834\n",
      " [8] include at ./boot.jl:317 [inlined]\n",
      " [9] include_relative(::Module, ::String) at ./loading.jl:1038\n",
      " [10] include(::Module, ::String) at ./sysimg.jl:29\n",
      " [11] top-level scope at none:2\n",
      " [12] eval at ./boot.jl:319 [inlined]\n",
      " [13] eval(::Expr) at ./client.jl:389\n",
      " [14] top-level scope at ./none:3\n",
      "in expression starting at /Users/heileman/.julia/packages/CSV/eWuJV/src/CSV.jl:3\n",
      "ERROR: LoadError: LoadError: Failed to precompile CSV [336ed68f-0bac-5ca0-87d4-7b16caf5d00b] to /Users/heileman/.julia/compiled/v1.0/CSV/HHBkp.ji.\n",
      "Stacktrace:\n",
      " [1] error(::String) at ./error.jl:33\n",
      " [2] macro expansion at ./logging.jl:313 [inlined]\n",
      " [3] compilecache(::Base.PkgId, ::String) at ./loading.jl:1184\n",
      " [4] _require(::Base.PkgId) at ./logging.jl:311\n",
      " [5] require(::Base.PkgId) at ./loading.jl:852\n",
      " [6] macro expansion at ./logging.jl:311 [inlined]\n",
      " [7] require(::Module, ::Symbol) at ./loading.jl:834\n",
      " [8] include at ./boot.jl:317 [inlined]\n",
      " [9] include_relative(::Module, ::String) at ./loading.jl:1038\n",
      " [10] include at ./sysimg.jl:29 [inlined]\n",
      " [11] include(::String) at /Users/heileman/Library/Mobile Documents/com~apple~CloudDocs/work/research/Curricular Analytics/CurricularAnalytics.jl/src/CurricularAnalytics.jl:9\n",
      " [12] top-level scope at none:0\n",
      " [13] include at ./boot.jl:317 [inlined]\n",
      " [14] include_relative(::Module, ::String) at ./loading.jl:1038\n",
      " [15] include(::Module, ::String) at ./sysimg.jl:29\n",
      " [16] top-level scope at none:2\n",
      " [17] eval at ./boot.jl:319 [inlined]\n",
      " [18] eval(::Expr) at ./client.jl:389\n",
      " [19] top-level scope at ./none:3\n",
      "in expression starting at /Users/heileman/Library/Mobile Documents/com~apple~CloudDocs/work/research/Curricular Analytics/CurricularAnalytics.jl/src/DataHandler.jl:2\n",
      "in expression starting at /Users/heileman/Library/Mobile Documents/com~apple~CloudDocs/work/research/Curricular Analytics/CurricularAnalytics.jl/src/CurricularAnalytics.jl:20\n"
     ]
    },
    {
     "ename": "LoadError",
     "evalue": "Failed to precompile CurricularAnalytics [b915a5b0-c40e-11e8-3dab-39a55ab5c2f7] to /Users/heileman/.julia/compiled/v1.0/CurricularAnalytics/KKMY9.ji.",
     "output_type": "error",
     "traceback": [
      "Failed to precompile CurricularAnalytics [b915a5b0-c40e-11e8-3dab-39a55ab5c2f7] to /Users/heileman/.julia/compiled/v1.0/CurricularAnalytics/KKMY9.ji.",
      "",
      "Stacktrace:",
      " [1] error(::String) at ./error.jl:33",
      " [2] macro expansion at ./logging.jl:313 [inlined]",
      " [3] compilecache(::Base.PkgId, ::String) at ./loading.jl:1184",
      " [4] macro expansion at ./logging.jl:311 [inlined]",
      " [5] _require(::Base.PkgId) at ./loading.jl:941",
      " [6] require(::Base.PkgId) at ./loading.jl:852",
      " [7] macro expansion at ./logging.jl:311 [inlined]",
      " [8] require(::Module, ::Symbol) at ./loading.jl:834",
      " [9] include at ./boot.jl:317 [inlined]",
      " [10] include_relative(::Module, ::String) at ./loading.jl:1038",
      " [11] include at ./sysimg.jl:29 [inlined]",
      " [12] include(::String) at ./In[4]:4",
      " [13] top-level scope at none:0"
     ]
    }
   ],
   "source": [
    "#This cell will create Curriculum using csv file.\n",
    "using Pkg\n",
    "pkg\"activate .\"\n",
    "module curriculum\n",
    "    ARGS = [\"examples/CornellECECources.csv\"]\n",
    "    include(\"examples/curric_from_csv.jl\")\n",
    "end"
   ]
  },
  {
   "cell_type": "code",
   "execution_count": 4,
   "metadata": {},
   "outputs": [
    {
     "name": "stdout",
     "output_type": "stream",
     "text": [
      "Curriculum University of Houston EE Program is valid\n",
      "  delay factor = (80.0, [1.0, 5.0, 1.0, 1.0, 1.0, 5.0, 4.0, 3.0, 1.0, 1.0, 5.0, 4.0, 5.0, 3.0, 1.0, 4.0, 3.0, 4.0, 4.0, 1.0, 1.0, 1.0, 2.0, 5.0, 1.0, 1.0, 1.0, 1.0, 1.0, 1.0, 1.0, 1.0, 1.0, 1.0, 1.0, 1.0, 1.0, 1.0])\n",
      "  blocking factor = (37, [0, 10, 0, 0, 0, 4, 8, 3, 0, 0, 3, 4, 1, 1, 0, 0, 2, 0, 1, 0, 0, 0, 0, 0, 0, 0, 0, 0, 0, 0, 0, 0, 0, 0, 0, 0, 0, 0])\n",
      "  centrality factor = (102, [0, 0, 0, 0, 0, 9, 28, 0, 0, 0, 18, 14, 15, 3, 0, 0, 5, 0, 10, 0, 0, 0, 0, 0, 0, 0, 0, 0, 0, 0, 0, 0, 0, 0, 0, 0, 0, 0])\n",
      "  curricular complexity = (117.0, Number[1.0, 15.0, 1.0, 1.0, 1.0, 9.0, 12.0, 6.0, 1.0, 1.0, 8.0, 8.0, 6.0, 4.0, 1.0, 4.0, 5.0, 4.0, 5.0, 1.0, 1.0, 1.0, 2.0, 5.0, 1.0, 1.0, 1.0, 1.0, 1.0, 1.0, 1.0, 1.0, 1.0, 1.0, 1.0, 1.0, 1.0, 1.0])\n",
      "Degree plan University of Houston EE Program 4-year Plan is not valid:\n",
      "\n",
      "-Course Liberal Studies is listed multiple times in degree plan\n",
      "-Course Liberal Studies is listed multiple times in degree plan\n",
      "-Course ECE Foundations is listed multiple times in degree plan\n",
      "-Course ECE Foundations is listed multiple times in degree plan\n",
      "-Course Outside Tech. Elective is listed multiple times in degree plan\n",
      "-Course Elective is listed multiple times in degree plan\n",
      "-Course Liberal Studies is listed multiple times in degree plan\n",
      "-Course Outside Tech. Elective is listed multiple times in degree plan\n",
      "-Course Liberal Studies is listed multiple times in degree plan\n",
      "-Course ECE Elective is listed multiple times in degree plan\n",
      "-Course ECE Elective is listed multiple times in degree plan\n",
      "-Course ECE Elective is listed multiple times in degree plan\n",
      "-Course Liberal Studies is listed multiple times in degree plan\n",
      "Diplaying degree plan for debugging purposes...\n"
     ]
    },
    {
     "data": {
      "application/vnd.webio.node+json": {
       "children": [
        {
         "children": [
          ""
         ],
         "instanceArgs": {
          "namespace": "html",
          "tag": "iframe"
         },
         "nodeType": "DOM",
         "props": {
          "events": {
           "load": "(function (){this.contentWindow.postMessage({\"curriculum\":{\"name\":\"University of Houston EE Program 4-year Plan\",\"curriculum_terms\":[{\"name\":\"Term 1\",\"curriculum_items\":[{\"curriculum_requisites\":[],\"name\":\"CHEM 2090\",\"metrics\":{\"centrality\":0,\"complexity\":1.0,\"blocking factor\":0,\"delay factor\":1.0},\"nameSub\":\"CHEM 2090\",\"id\":7068313545565755395,\"num\":\"2090\",\"credits\":3,\"prefix\":\"CHEM\"},{\"curriculum_requisites\":[],\"name\":\"MATH 1910\",\"metrics\":{\"centrality\":0,\"complexity\":15.0,\"blocking factor\":10,\"delay factor\":5.0},\"nameSub\":\"MATH 1910\",\"id\":1707017729329769916,\"num\":\"1910\",\"credits\":3,\"prefix\":\"MATH\"},{\"curriculum_requisites\":[],\"name\":\"ENGRI 1xxx\",\"metrics\":{\"centrality\":0,\"complexity\":1.0,\"blocking factor\":0,\"delay factor\":1.0},\"nameSub\":\"ENGRI 1xxx\",\"id\":1723960521387587606,\"num\":\"1xxx\",\"credits\":3,\"prefix\":\"ENGRI\"},{\"curriculum_requisites\":[],\"name\":\" \",\"metrics\":{\"centrality\":0,\"complexity\":1.0,\"blocking factor\":0,\"delay factor\":1.0},\"nameSub\":\"1st Yr Writing Seminar\",\"id\":8770489525253060652,\"num\":\"\",\"credits\":3,\"prefix\":\"\"},{\"curriculum_requisites\":[],\"name\":\" \",\"metrics\":{\"centrality\":0,\"complexity\":1.0,\"blocking factor\":0,\"delay factor\":1.0},\"nameSub\":\"PE\",\"id\":1219938783301979825,\"num\":\"\",\"credits\":3,\"prefix\":\"\"}],\"id\":1},{\"name\":\"Term 2\",\"curriculum_items\":[{\"curriculum_requisites\":[{\"source_id\":1707017729329769916,\"target_id\":7361622186349540665,\"type\":\"prereq\"}],\"name\":\"PHYS 1112\",\"metrics\":{\"centrality\":9,\"complexity\":9.0,\"blocking factor\":4,\"delay factor\":5.0},\"nameSub\":\"PHYS 1112\",\"id\":7361622186349540665,\"num\":\"1112\",\"credits\":3,\"prefix\":\"PHYS\"},{\"curriculum_requisites\":[{\"source_id\":1707017729329769916,\"target_id\":5953607625038722188,\"type\":\"prereq\"}],\"name\":\"MATH 1920\",\"metrics\":{\"centrality\":28,\"complexity\":12.0,\"blocking factor\":8,\"delay factor\":4.0},\"nameSub\":\"MATH 1920\",\"id\":5953607625038722188,\"num\":\"1920\",\"credits\":3,\"prefix\":\"MATH\"},{\"curriculum_requisites\":[],\"name\":\"CS 111x\",\"metrics\":{\"centrality\":0,\"complexity\":6.0,\"blocking factor\":3,\"delay factor\":3.0},\"nameSub\":\"CS 111x\",\"id\":4860464975750941983,\"num\":\"111x\",\"credits\":3,\"prefix\":\"CS\"},{\"curriculum_requisites\":[],\"name\":\" \",\"metrics\":{\"centrality\":0,\"complexity\":1.0,\"blocking factor\":0,\"delay factor\":1.0},\"nameSub\":\"1st Yr Writing Seminar\",\"id\":2735134719261447963,\"num\":\"\",\"credits\":3,\"prefix\":\"\"},{\"curriculum_requisites\":[],\"name\":\" \",\"metrics\":{\"centrality\":0,\"complexity\":1.0,\"blocking factor\":0,\"delay factor\":1.0},\"nameSub\":\"PE\",\"id\":857458110203130704,\"num\":\"\",\"credits\":3,\"prefix\":\"\"}],\"id\":2},{\"name\":\"Term 3\",\"curriculum_items\":[{\"curriculum_requisites\":[{\"source_id\":5953607625038722188,\"target_id\":8235974756110151101,\"type\":\"prereq\"},{\"source_id\":7361622186349540665,\"target_id\":8235974756110151101,\"type\":\"prereq\"}],\"name\":\"PHYS 2213\",\"metrics\":{\"centrality\":18,\"complexity\":8.0,\"blocking factor\":3,\"delay factor\":5.0},\"nameSub\":\"PHYS 2213\",\"id\":8235974756110151101,\"num\":\"2213\",\"credits\":3,\"prefix\":\"PHYS\"},{\"curriculum_requisites\":[{\"source_id\":5953607625038722188,\"target_id\":3325162549824349428,\"type\":\"prereq\"}],\"name\":\"MATH 2930\",\"metrics\":{\"centrality\":14,\"complexity\":8.0,\"blocking factor\":4,\"delay factor\":4.0},\"nameSub\":\"MATH 2930\",\"id\":3325162549824349428,\"num\":\"2930\",\"credits\":3,\"prefix\":\"MATH\"},{\"curriculum_requisites\":[{\"source_id\":8235974756110151101,\"target_id\":8562026229982697755,\"type\":\"coreq\"},{\"source_id\":3325162549824349428,\"target_id\":8562026229982697755,\"type\":\"coreq\"}],\"name\":\"ECE/ENGRD 2100\",\"metrics\":{\"centrality\":15,\"complexity\":6.0,\"blocking factor\":1,\"delay factor\":5.0},\"nameSub\":\"ECE/ENGRD 2100\",\"id\":8562026229982697755,\"num\":\"2100\",\"credits\":3,\"prefix\":\"ECE/ENGRD\"},{\"curriculum_requisites\":[{\"source_id\":4860464975750941983,\"target_id\":4128684444630768225,\"type\":\"prereq\"}],\"name\":\"MECE/ENGRD 2300\",\"metrics\":{\"centrality\":3,\"complexity\":4.0,\"blocking factor\":1,\"delay factor\":3.0},\"nameSub\":\"MECE/ENGRD 2300\",\"id\":4128684444630768225,\"num\":\"2300\",\"credits\":3,\"prefix\":\"MECE/ENGRD\"},{\"curriculum_requisites\":[],\"name\":\" \",\"metrics\":{\"centrality\":0,\"complexity\":1.0,\"blocking factor\":0,\"delay factor\":1.0},\"nameSub\":\"Liberal Studies\",\"id\":7405020695626068898,\"num\":\"\",\"credits\":3,\"prefix\":\"\"}],\"id\":3},{\"name\":\"Term 4\",\"curriculum_items\":[{\"curriculum_requisites\":[{\"source_id\":3325162549824349428,\"target_id\":315822138579407596,\"type\":\"coreq\"}],\"name\":\"PHYS 2214\",\"metrics\":{\"centrality\":0,\"complexity\":4.0,\"blocking factor\":0,\"delay factor\":4.0},\"nameSub\":\"PHYS 2214\",\"id\":315822138579407596,\"num\":\"2214\",\"credits\":3,\"prefix\":\"PHYS\"},{\"curriculum_requisites\":[{\"source_id\":5953607625038722188,\"target_id\":6676288918718624776,\"type\":\"prereq\"}],\"name\":\"MATH 2940\",\"metrics\":{\"centrality\":5,\"complexity\":5.0,\"blocking factor\":2,\"delay factor\":3.0},\"nameSub\":\"MATH 2940\",\"id\":6676288918718624776,\"num\":\"2940\",\"credits\":3,\"prefix\":\"MATH\"},{\"curriculum_requisites\":[{\"source_id\":8235974756110151101,\"target_id\":4144726292938987559,\"type\":\"prereq\"}],\"name\":\"ENGRD 2xxx\",\"metrics\":{\"centrality\":0,\"complexity\":4.0,\"blocking factor\":0,\"delay factor\":4.0},\"nameSub\":\"ENGRD 2xxx\",\"id\":4144726292938987559,\"num\":\"2xxx\",\"credits\":3,\"prefix\":\"ENGRD\"},{\"curriculum_requisites\":[{\"source_id\":3325162549824349428,\"target_id\":1057118690338357938,\"type\":\"prereq\"},{\"source_id\":6676288918718624776,\"target_id\":1057118690338357938,\"type\":\"coreq\"}],\"name\":\"ECE/ENGRD 2200/2220\",\"metrics\":{\"centrality\":10,\"complexity\":5.0,\"blocking factor\":1,\"delay factor\":4.0},\"nameSub\":\"ECE 2200/ENGRD 2220\",\"id\":1057118690338357938,\"num\":\"2200/2220\",\"credits\":3,\"prefix\":\"ECE/ENGRD\"},{\"curriculum_requisites\":[],\"name\":\" \",\"metrics\":{\"centrality\":0,\"complexity\":1.0,\"blocking factor\":0,\"delay factor\":1.0},\"nameSub\":\"Liberal Studies\",\"id\":7405020695626068898,\"num\":\"\",\"credits\":3,\"prefix\":\"\"}],\"id\":4},{\"name\":\"Term 5\",\"curriculum_items\":[{\"curriculum_requisites\":[],\"name\":\" \",\"metrics\":{\"centrality\":0,\"complexity\":1.0,\"blocking factor\":0,\"delay factor\":1.0},\"nameSub\":\"ECE Foundations\",\"id\":3103415124466020093,\"num\":\"\",\"credits\":3,\"prefix\":\"\"},{\"curriculum_requisites\":[],\"name\":\" \",\"metrics\":{\"centrality\":0,\"complexity\":1.0,\"blocking factor\":0,\"delay factor\":1.0},\"nameSub\":\"Elective\",\"id\":6401834934519422575,\"num\":\"\",\"credits\":3,\"prefix\":\"\"},{\"curriculum_requisites\":[{\"source_id\":4860464975750941983,\"target_id\":8498564432258334371,\"type\":\"prereq\"}],\"name\":\" \",\"metrics\":{\"centrality\":0,\"complexity\":2.0,\"blocking factor\":0,\"delay factor\":2.0},\"nameSub\":\"Outside Tech. Elective\",\"id\":8498564432258334371,\"num\":\"\",\"credits\":3,\"prefix\":\"\"},{\"curriculum_requisites\":[{\"source_id\":4128684444630768225,\"target_id\":3831798649895813485,\"type\":\"prereq\"},{\"source_id\":8562026229982697755,\"target_id\":3831798649895813485,\"type\":\"prereq\"},{\"source_id\":1057118690338357938,\"target_id\":3831798649895813485,\"type\":\"prereq\"}],\"name\":\"ECE 3400\",\"metrics\":{\"centrality\":0,\"complexity\":5.0,\"blocking factor\":0,\"delay factor\":5.0},\"nameSub\":\"ECE 3400\",\"id\":3831798649895813485,\"num\":\"3400\",\"credits\":3,\"prefix\":\"ECE\"},{\"curriculum_requisites\":[],\"name\":\" \",\"metrics\":{\"centrality\":0,\"complexity\":1.0,\"blocking factor\":0,\"delay factor\":1.0},\"nameSub\":\"Liberal Studies\",\"id\":7405020695626068898,\"num\":\"\",\"credits\":3,\"prefix\":\"\"}],\"id\":5},{\"name\":\"Term 6\",\"curriculum_items\":[{\"curriculum_requisites\":[],\"name\":\" \",\"metrics\":{\"centrality\":0,\"complexity\":1.0,\"blocking factor\":0,\"delay factor\":1.0},\"nameSub\":\"ECE Foundations\",\"id\":3103415124466020093,\"num\":\"\",\"credits\":3,\"prefix\":\"\"},{\"curriculum_requisites\":[],\"name\":\" \",\"metrics\":{\"centrality\":0,\"complexity\":1.0,\"blocking factor\":0,\"delay factor\":1.0},\"nameSub\":\"ECE Foundations\",\"id\":3103415124466020093,\"num\":\"\",\"credits\":3,\"prefix\":\"\"},{\"curriculum_requisites\":[],\"name\":\" \",\"metrics\":{\"centrality\":0,\"complexity\":1.0,\"blocking factor\":0,\"delay factor\":1.0},\"nameSub\":\"Outside Tech. Elective\",\"id\":8498564432258334371,\"num\":\"\",\"credits\":3,\"prefix\":\"\"},{\"curriculum_requisites\":[],\"name\":\" \",\"metrics\":{\"centrality\":0,\"complexity\":1.0,\"blocking factor\":0,\"delay factor\":1.0},\"nameSub\":\"Elective\",\"id\":6401834934519422575,\"num\":\"\",\"credits\":3,\"prefix\":\"\"},{\"curriculum_requisites\":[],\"name\":\" \",\"metrics\":{\"centrality\":0,\"complexity\":1.0,\"blocking factor\":0,\"delay factor\":1.0},\"nameSub\":\"Liberal Studies\",\"id\":7405020695626068898,\"num\":\"\",\"credits\":3,\"prefix\":\"\"}],\"id\":6},{\"name\":\"Term 7\",\"curriculum_items\":[{\"curriculum_requisites\":[],\"name\":\" \",\"metrics\":{\"centrality\":0,\"complexity\":1.0,\"blocking factor\":0,\"delay factor\":1.0},\"nameSub\":\"ECE Elective \",\"id\":4052882504505960646,\"num\":\"\",\"credits\":3,\"prefix\":\"\"},{\"curriculum_requisites\":[],\"name\":\" \",\"metrics\":{\"centrality\":0,\"complexity\":1.0,\"blocking factor\":0,\"delay factor\":1.0},\"nameSub\":\"ECE Elective\",\"id\":3101766117420039194,\"num\":\"\",\"credits\":3,\"prefix\":\"\"},{\"curriculum_requisites\":[],\"name\":\" \",\"metrics\":{\"centrality\":0,\"complexity\":1.0,\"blocking factor\":0,\"delay factor\":1.0},\"nameSub\":\"Outside Tech. Elective\",\"id\":8498564432258334371,\"num\":\"\",\"credits\":3,\"prefix\":\"\"},{\"curriculum_requisites\":[],\"name\":\" \",\"metrics\":{\"centrality\":0,\"complexity\":1.0,\"blocking factor\":0,\"delay factor\":1.0},\"nameSub\":\"Liberal Studies\",\"id\":7405020695626068898,\"num\":\"\",\"credits\":3,\"prefix\":\"\"}],\"id\":7},{\"name\":\"Term 8\",\"curriculum_items\":[{\"curriculum_requisites\":[],\"name\":\" \",\"metrics\":{\"centrality\":0,\"complexity\":1.0,\"blocking factor\":0,\"delay factor\":1.0},\"nameSub\":\"ECE Elective\",\"id\":3101766117420039194,\"num\":\"\",\"credits\":3,\"prefix\":\"\"},{\"curriculum_requisites\":[],\"name\":\" \",\"metrics\":{\"centrality\":0,\"complexity\":1.0,\"blocking factor\":0,\"delay factor\":1.0},\"nameSub\":\"ECE Elective\",\"id\":3101766117420039194,\"num\":\"\",\"credits\":3,\"prefix\":\"\"},{\"curriculum_requisites\":[],\"name\":\" \",\"metrics\":{\"centrality\":0,\"complexity\":1.0,\"blocking factor\":0,\"delay factor\":1.0},\"nameSub\":\"ECE Elective\",\"id\":3101766117420039194,\"num\":\"\",\"credits\":3,\"prefix\":\"\"},{\"curriculum_requisites\":[],\"name\":\" \",\"metrics\":{\"centrality\":0,\"complexity\":1.0,\"blocking factor\":0,\"delay factor\":1.0},\"nameSub\":\"Liberal Studies\",\"id\":7405020695626068898,\"num\":\"\",\"credits\":3,\"prefix\":\"\"}],\"id\":8}]}},\"*\"); window.removeEventListener(\"message\",window.messageReceived); window.messageReceived=(function (event){return (event.data.curriculum!==undefined) ? (_webIOScope.setObservableValue({\"name\":\"curriculum-data\",\"scope\":\"scope-f4c0aaf0-5b54-47d1-ae47-dc929ee432e2\",\"id\":\"ob_03\",\"type\":\"observable\"},event.data.curriculum)) : undefined}); return window.addEventListener(\"message\",window.messageReceived)})"
          },
          "id": "curriculum",
          "src": "http://localhost:8156",
          "style": {
           "border": "none",
           "height": "100vh",
           "margin": "0",
           "padding": "0",
           "width": "100%"
          }
         },
         "type": "node"
        }
       ],
       "instanceArgs": {
        "handlers": {},
        "id": "scope-f4c0aaf0-5b54-47d1-ae47-dc929ee432e2",
        "imports": {
         "data": [],
         "type": "async_block"
        },
        "observables": {
         "curriculum-data": {
          "id": "ob_03",
          "sync": true,
          "value": {
           "curriculum": {
            "curriculum_terms": [
             {
              "curriculum_items": [
               {
                "credits": 3,
                "curriculum_requisites": [],
                "id": 7068313545565755000,
                "metrics": {
                 "blocking factor": 0,
                 "centrality": 0,
                 "complexity": 1,
                 "delay factor": 1
                },
                "name": "CHEM 2090",
                "nameSub": "CHEM 2090",
                "num": "2090",
                "prefix": "CHEM"
               },
               {
                "credits": 3,
                "curriculum_requisites": [],
                "id": 1707017729329770000,
                "metrics": {
                 "blocking factor": 10,
                 "centrality": 0,
                 "complexity": 15,
                 "delay factor": 5
                },
                "name": "MATH 1910",
                "nameSub": "MATH 1910",
                "num": "1910",
                "prefix": "MATH"
               },
               {
                "credits": 3,
                "curriculum_requisites": [],
                "id": 1723960521387587600,
                "metrics": {
                 "blocking factor": 0,
                 "centrality": 0,
                 "complexity": 1,
                 "delay factor": 1
                },
                "name": "ENGRI 1xxx",
                "nameSub": "ENGRI 1xxx",
                "num": "1xxx",
                "prefix": "ENGRI"
               },
               {
                "credits": 3,
                "curriculum_requisites": [],
                "id": 8770489525253061000,
                "metrics": {
                 "blocking factor": 0,
                 "centrality": 0,
                 "complexity": 1,
                 "delay factor": 1
                },
                "name": " ",
                "nameSub": "1st Yr Writing Seminar",
                "num": "",
                "prefix": ""
               },
               {
                "credits": 3,
                "curriculum_requisites": [],
                "id": 1219938783301980000,
                "metrics": {
                 "blocking factor": 0,
                 "centrality": 0,
                 "complexity": 1,
                 "delay factor": 1
                },
                "name": " ",
                "nameSub": "PE",
                "num": "",
                "prefix": ""
               }
              ],
              "id": 1,
              "name": "Term 1"
             },
             {
              "curriculum_items": [
               {
                "credits": 3,
                "curriculum_requisites": [
                 {
                  "source_id": 1707017729329770000,
                  "target_id": 7361622186349540000,
                  "type": "prereq"
                 }
                ],
                "id": 7361622186349540000,
                "metrics": {
                 "blocking factor": 4,
                 "centrality": 9,
                 "complexity": 9,
                 "delay factor": 5
                },
                "name": "PHYS 1112",
                "nameSub": "PHYS 1112",
                "num": "1112",
                "prefix": "PHYS"
               },
               {
                "credits": 3,
                "curriculum_requisites": [
                 {
                  "source_id": 1707017729329770000,
                  "target_id": 5953607625038722000,
                  "type": "prereq"
                 }
                ],
                "id": 5953607625038722000,
                "metrics": {
                 "blocking factor": 8,
                 "centrality": 28,
                 "complexity": 12,
                 "delay factor": 4
                },
                "name": "MATH 1920",
                "nameSub": "MATH 1920",
                "num": "1920",
                "prefix": "MATH"
               },
               {
                "credits": 3,
                "curriculum_requisites": [],
                "id": 4860464975750942000,
                "metrics": {
                 "blocking factor": 3,
                 "centrality": 0,
                 "complexity": 6,
                 "delay factor": 3
                },
                "name": "CS 111x",
                "nameSub": "CS 111x",
                "num": "111x",
                "prefix": "CS"
               },
               {
                "credits": 3,
                "curriculum_requisites": [],
                "id": 2735134719261448000,
                "metrics": {
                 "blocking factor": 0,
                 "centrality": 0,
                 "complexity": 1,
                 "delay factor": 1
                },
                "name": " ",
                "nameSub": "1st Yr Writing Seminar",
                "num": "",
                "prefix": ""
               },
               {
                "credits": 3,
                "curriculum_requisites": [],
                "id": 857458110203130800,
                "metrics": {
                 "blocking factor": 0,
                 "centrality": 0,
                 "complexity": 1,
                 "delay factor": 1
                },
                "name": " ",
                "nameSub": "PE",
                "num": "",
                "prefix": ""
               }
              ],
              "id": 2,
              "name": "Term 2"
             },
             {
              "curriculum_items": [
               {
                "credits": 3,
                "curriculum_requisites": [
                 {
                  "source_id": 5953607625038722000,
                  "target_id": 8235974756110151000,
                  "type": "prereq"
                 },
                 {
                  "source_id": 7361622186349540000,
                  "target_id": 8235974756110151000,
                  "type": "prereq"
                 }
                ],
                "id": 8235974756110151000,
                "metrics": {
                 "blocking factor": 3,
                 "centrality": 18,
                 "complexity": 8,
                 "delay factor": 5
                },
                "name": "PHYS 2213",
                "nameSub": "PHYS 2213",
                "num": "2213",
                "prefix": "PHYS"
               },
               {
                "credits": 3,
                "curriculum_requisites": [
                 {
                  "source_id": 5953607625038722000,
                  "target_id": 3325162549824349000,
                  "type": "prereq"
                 }
                ],
                "id": 3325162549824349000,
                "metrics": {
                 "blocking factor": 4,
                 "centrality": 14,
                 "complexity": 8,
                 "delay factor": 4
                },
                "name": "MATH 2930",
                "nameSub": "MATH 2930",
                "num": "2930",
                "prefix": "MATH"
               },
               {
                "credits": 3,
                "curriculum_requisites": [
                 {
                  "source_id": 8235974756110151000,
                  "target_id": 8562026229982697000,
                  "type": "coreq"
                 },
                 {
                  "source_id": 3325162549824349000,
                  "target_id": 8562026229982697000,
                  "type": "coreq"
                 }
                ],
                "id": 8562026229982697000,
                "metrics": {
                 "blocking factor": 1,
                 "centrality": 15,
                 "complexity": 6,
                 "delay factor": 5
                },
                "name": "ECE/ENGRD 2100",
                "nameSub": "ECE/ENGRD 2100",
                "num": "2100",
                "prefix": "ECE/ENGRD"
               },
               {
                "credits": 3,
                "curriculum_requisites": [
                 {
                  "source_id": 4860464975750942000,
                  "target_id": 4128684444630768000,
                  "type": "prereq"
                 }
                ],
                "id": 4128684444630768000,
                "metrics": {
                 "blocking factor": 1,
                 "centrality": 3,
                 "complexity": 4,
                 "delay factor": 3
                },
                "name": "MECE/ENGRD 2300",
                "nameSub": "MECE/ENGRD 2300",
                "num": "2300",
                "prefix": "MECE/ENGRD"
               },
               {
                "credits": 3,
                "curriculum_requisites": [],
                "id": 7405020695626069000,
                "metrics": {
                 "blocking factor": 0,
                 "centrality": 0,
                 "complexity": 1,
                 "delay factor": 1
                },
                "name": " ",
                "nameSub": "Liberal Studies",
                "num": "",
                "prefix": ""
               }
              ],
              "id": 3,
              "name": "Term 3"
             },
             {
              "curriculum_items": [
               {
                "credits": 3,
                "curriculum_requisites": [
                 {
                  "source_id": 3325162549824349000,
                  "target_id": 315822138579407600,
                  "type": "coreq"
                 }
                ],
                "id": 315822138579407600,
                "metrics": {
                 "blocking factor": 0,
                 "centrality": 0,
                 "complexity": 4,
                 "delay factor": 4
                },
                "name": "PHYS 2214",
                "nameSub": "PHYS 2214",
                "num": "2214",
                "prefix": "PHYS"
               },
               {
                "credits": 3,
                "curriculum_requisites": [
                 {
                  "source_id": 5953607625038722000,
                  "target_id": 6676288918718625000,
                  "type": "prereq"
                 }
                ],
                "id": 6676288918718625000,
                "metrics": {
                 "blocking factor": 2,
                 "centrality": 5,
                 "complexity": 5,
                 "delay factor": 3
                },
                "name": "MATH 2940",
                "nameSub": "MATH 2940",
                "num": "2940",
                "prefix": "MATH"
               },
               {
                "credits": 3,
                "curriculum_requisites": [
                 {
                  "source_id": 8235974756110151000,
                  "target_id": 4144726292938987500,
                  "type": "prereq"
                 }
                ],
                "id": 4144726292938987500,
                "metrics": {
                 "blocking factor": 0,
                 "centrality": 0,
                 "complexity": 4,
                 "delay factor": 4
                },
                "name": "ENGRD 2xxx",
                "nameSub": "ENGRD 2xxx",
                "num": "2xxx",
                "prefix": "ENGRD"
               },
               {
                "credits": 3,
                "curriculum_requisites": [
                 {
                  "source_id": 3325162549824349000,
                  "target_id": 1057118690338357900,
                  "type": "prereq"
                 },
                 {
                  "source_id": 6676288918718625000,
                  "target_id": 1057118690338357900,
                  "type": "coreq"
                 }
                ],
                "id": 1057118690338357900,
                "metrics": {
                 "blocking factor": 1,
                 "centrality": 10,
                 "complexity": 5,
                 "delay factor": 4
                },
                "name": "ECE/ENGRD 2200/2220",
                "nameSub": "ECE 2200/ENGRD 2220",
                "num": "2200/2220",
                "prefix": "ECE/ENGRD"
               },
               {
                "credits": 3,
                "curriculum_requisites": [],
                "id": 7405020695626069000,
                "metrics": {
                 "blocking factor": 0,
                 "centrality": 0,
                 "complexity": 1,
                 "delay factor": 1
                },
                "name": " ",
                "nameSub": "Liberal Studies",
                "num": "",
                "prefix": ""
               }
              ],
              "id": 4,
              "name": "Term 4"
             },
             {
              "curriculum_items": [
               {
                "credits": 3,
                "curriculum_requisites": [],
                "id": 3103415124466020000,
                "metrics": {
                 "blocking factor": 0,
                 "centrality": 0,
                 "complexity": 1,
                 "delay factor": 1
                },
                "name": " ",
                "nameSub": "ECE Foundations",
                "num": "",
                "prefix": ""
               },
               {
                "credits": 3,
                "curriculum_requisites": [],
                "id": 6401834934519423000,
                "metrics": {
                 "blocking factor": 0,
                 "centrality": 0,
                 "complexity": 1,
                 "delay factor": 1
                },
                "name": " ",
                "nameSub": "Elective",
                "num": "",
                "prefix": ""
               },
               {
                "credits": 3,
                "curriculum_requisites": [
                 {
                  "source_id": 4860464975750942000,
                  "target_id": 8498564432258335000,
                  "type": "prereq"
                 }
                ],
                "id": 8498564432258335000,
                "metrics": {
                 "blocking factor": 0,
                 "centrality": 0,
                 "complexity": 2,
                 "delay factor": 2
                },
                "name": " ",
                "nameSub": "Outside Tech. Elective",
                "num": "",
                "prefix": ""
               },
               {
                "credits": 3,
                "curriculum_requisites": [
                 {
                  "source_id": 4128684444630768000,
                  "target_id": 3831798649895813600,
                  "type": "prereq"
                 },
                 {
                  "source_id": 8562026229982697000,
                  "target_id": 3831798649895813600,
                  "type": "prereq"
                 },
                 {
                  "source_id": 1057118690338357900,
                  "target_id": 3831798649895813600,
                  "type": "prereq"
                 }
                ],
                "id": 3831798649895813600,
                "metrics": {
                 "blocking factor": 0,
                 "centrality": 0,
                 "complexity": 5,
                 "delay factor": 5
                },
                "name": "ECE 3400",
                "nameSub": "ECE 3400",
                "num": "3400",
                "prefix": "ECE"
               },
               {
                "credits": 3,
                "curriculum_requisites": [],
                "id": 7405020695626069000,
                "metrics": {
                 "blocking factor": 0,
                 "centrality": 0,
                 "complexity": 1,
                 "delay factor": 1
                },
                "name": " ",
                "nameSub": "Liberal Studies",
                "num": "",
                "prefix": ""
               }
              ],
              "id": 5,
              "name": "Term 5"
             },
             {
              "curriculum_items": [
               {
                "credits": 3,
                "curriculum_requisites": [],
                "id": 3103415124466020000,
                "metrics": {
                 "blocking factor": 0,
                 "centrality": 0,
                 "complexity": 1,
                 "delay factor": 1
                },
                "name": " ",
                "nameSub": "ECE Foundations",
                "num": "",
                "prefix": ""
               },
               {
                "credits": 3,
                "curriculum_requisites": [],
                "id": 3103415124466020000,
                "metrics": {
                 "blocking factor": 0,
                 "centrality": 0,
                 "complexity": 1,
                 "delay factor": 1
                },
                "name": " ",
                "nameSub": "ECE Foundations",
                "num": "",
                "prefix": ""
               },
               {
                "credits": 3,
                "curriculum_requisites": [],
                "id": 8498564432258335000,
                "metrics": {
                 "blocking factor": 0,
                 "centrality": 0,
                 "complexity": 1,
                 "delay factor": 1
                },
                "name": " ",
                "nameSub": "Outside Tech. Elective",
                "num": "",
                "prefix": ""
               },
               {
                "credits": 3,
                "curriculum_requisites": [],
                "id": 6401834934519423000,
                "metrics": {
                 "blocking factor": 0,
                 "centrality": 0,
                 "complexity": 1,
                 "delay factor": 1
                },
                "name": " ",
                "nameSub": "Elective",
                "num": "",
                "prefix": ""
               },
               {
                "credits": 3,
                "curriculum_requisites": [],
                "id": 7405020695626069000,
                "metrics": {
                 "blocking factor": 0,
                 "centrality": 0,
                 "complexity": 1,
                 "delay factor": 1
                },
                "name": " ",
                "nameSub": "Liberal Studies",
                "num": "",
                "prefix": ""
               }
              ],
              "id": 6,
              "name": "Term 6"
             },
             {
              "curriculum_items": [
               {
                "credits": 3,
                "curriculum_requisites": [],
                "id": 4052882504505960400,
                "metrics": {
                 "blocking factor": 0,
                 "centrality": 0,
                 "complexity": 1,
                 "delay factor": 1
                },
                "name": " ",
                "nameSub": "ECE Elective ",
                "num": "",
                "prefix": ""
               },
               {
                "credits": 3,
                "curriculum_requisites": [],
                "id": 3101766117420039000,
                "metrics": {
                 "blocking factor": 0,
                 "centrality": 0,
                 "complexity": 1,
                 "delay factor": 1
                },
                "name": " ",
                "nameSub": "ECE Elective",
                "num": "",
                "prefix": ""
               },
               {
                "credits": 3,
                "curriculum_requisites": [],
                "id": 8498564432258335000,
                "metrics": {
                 "blocking factor": 0,
                 "centrality": 0,
                 "complexity": 1,
                 "delay factor": 1
                },
                "name": " ",
                "nameSub": "Outside Tech. Elective",
                "num": "",
                "prefix": ""
               },
               {
                "credits": 3,
                "curriculum_requisites": [],
                "id": 7405020695626069000,
                "metrics": {
                 "blocking factor": 0,
                 "centrality": 0,
                 "complexity": 1,
                 "delay factor": 1
                },
                "name": " ",
                "nameSub": "Liberal Studies",
                "num": "",
                "prefix": ""
               }
              ],
              "id": 7,
              "name": "Term 7"
             },
             {
              "curriculum_items": [
               {
                "credits": 3,
                "curriculum_requisites": [],
                "id": 3101766117420039000,
                "metrics": {
                 "blocking factor": 0,
                 "centrality": 0,
                 "complexity": 1,
                 "delay factor": 1
                },
                "name": " ",
                "nameSub": "ECE Elective",
                "num": "",
                "prefix": ""
               },
               {
                "credits": 3,
                "curriculum_requisites": [],
                "id": 3101766117420039000,
                "metrics": {
                 "blocking factor": 0,
                 "centrality": 0,
                 "complexity": 1,
                 "delay factor": 1
                },
                "name": " ",
                "nameSub": "ECE Elective",
                "num": "",
                "prefix": ""
               },
               {
                "credits": 3,
                "curriculum_requisites": [],
                "id": 3101766117420039000,
                "metrics": {
                 "blocking factor": 0,
                 "centrality": 0,
                 "complexity": 1,
                 "delay factor": 1
                },
                "name": " ",
                "nameSub": "ECE Elective",
                "num": "",
                "prefix": ""
               },
               {
                "credits": 3,
                "curriculum_requisites": [],
                "id": 7405020695626069000,
                "metrics": {
                 "blocking factor": 0,
                 "centrality": 0,
                 "complexity": 1,
                 "delay factor": 1
                },
                "name": " ",
                "nameSub": "Liberal Studies",
                "num": "",
                "prefix": ""
               }
              ],
              "id": 8,
              "name": "Term 8"
             }
            ],
            "name": "University of Houston EE Program 4-year Plan"
           }
          }
         }
        },
        "systemjs_options": null
       },
       "nodeType": "Scope",
       "props": {},
       "type": "node"
      },
      "text/html": [
       "<div\n",
       "    class=\"webio-mountpoint\"\n",
       "    data-webio-mountpoint=\"6063215317739433498\"\n",
       ">\n",
       "    <script>\n",
       "    if (window.require && require.defined && require.defined(\"nbextensions/webio/main\")) {\n",
       "        console.log(\"Jupyter WebIO extension detected, not mounting.\");\n",
       "    } else if (window.WebIO) {\n",
       "        WebIO.mount(\n",
       "            document.querySelector('[data-webio-mountpoint=\"6063215317739433498\"]'),\n",
       "            {\"props\":{},\"nodeType\":\"Scope\",\"type\":\"node\",\"instanceArgs\":{\"imports\":{\"data\":[],\"type\":\"async_block\"},\"id\":\"scope-f4c0aaf0-5b54-47d1-ae47-dc929ee432e2\",\"handlers\":{},\"systemjs_options\":null,\"observables\":{\"curriculum-data\":{\"sync\":true,\"id\":\"ob_03\",\"value\":{\"curriculum\":{\"name\":\"University of Houston EE Program 4-year Plan\",\"curriculum_terms\":[{\"name\":\"Term 1\",\"curriculum_items\":[{\"curriculum_requisites\":[],\"name\":\"CHEM 2090\",\"metrics\":{\"centrality\":0,\"complexity\":1.0,\"blocking factor\":0,\"delay factor\":1.0},\"nameSub\":\"CHEM 2090\",\"id\":7068313545565755395,\"num\":\"2090\",\"credits\":3,\"prefix\":\"CHEM\"},{\"curriculum_requisites\":[],\"name\":\"MATH 1910\",\"metrics\":{\"centrality\":0,\"complexity\":15.0,\"blocking factor\":10,\"delay factor\":5.0},\"nameSub\":\"MATH 1910\",\"id\":1707017729329769916,\"num\":\"1910\",\"credits\":3,\"prefix\":\"MATH\"},{\"curriculum_requisites\":[],\"name\":\"ENGRI 1xxx\",\"metrics\":{\"centrality\":0,\"complexity\":1.0,\"blocking factor\":0,\"delay factor\":1.0},\"nameSub\":\"ENGRI 1xxx\",\"id\":1723960521387587606,\"num\":\"1xxx\",\"credits\":3,\"prefix\":\"ENGRI\"},{\"curriculum_requisites\":[],\"name\":\" \",\"metrics\":{\"centrality\":0,\"complexity\":1.0,\"blocking factor\":0,\"delay factor\":1.0},\"nameSub\":\"1st Yr Writing Seminar\",\"id\":8770489525253060652,\"num\":\"\",\"credits\":3,\"prefix\":\"\"},{\"curriculum_requisites\":[],\"name\":\" \",\"metrics\":{\"centrality\":0,\"complexity\":1.0,\"blocking factor\":0,\"delay factor\":1.0},\"nameSub\":\"PE\",\"id\":1219938783301979825,\"num\":\"\",\"credits\":3,\"prefix\":\"\"}],\"id\":1},{\"name\":\"Term 2\",\"curriculum_items\":[{\"curriculum_requisites\":[{\"source_id\":1707017729329769916,\"target_id\":7361622186349540665,\"type\":\"prereq\"}],\"name\":\"PHYS 1112\",\"metrics\":{\"centrality\":9,\"complexity\":9.0,\"blocking factor\":4,\"delay factor\":5.0},\"nameSub\":\"PHYS 1112\",\"id\":7361622186349540665,\"num\":\"1112\",\"credits\":3,\"prefix\":\"PHYS\"},{\"curriculum_requisites\":[{\"source_id\":1707017729329769916,\"target_id\":5953607625038722188,\"type\":\"prereq\"}],\"name\":\"MATH 1920\",\"metrics\":{\"centrality\":28,\"complexity\":12.0,\"blocking factor\":8,\"delay factor\":4.0},\"nameSub\":\"MATH 1920\",\"id\":5953607625038722188,\"num\":\"1920\",\"credits\":3,\"prefix\":\"MATH\"},{\"curriculum_requisites\":[],\"name\":\"CS 111x\",\"metrics\":{\"centrality\":0,\"complexity\":6.0,\"blocking factor\":3,\"delay factor\":3.0},\"nameSub\":\"CS 111x\",\"id\":4860464975750941983,\"num\":\"111x\",\"credits\":3,\"prefix\":\"CS\"},{\"curriculum_requisites\":[],\"name\":\" \",\"metrics\":{\"centrality\":0,\"complexity\":1.0,\"blocking factor\":0,\"delay factor\":1.0},\"nameSub\":\"1st Yr Writing Seminar\",\"id\":2735134719261447963,\"num\":\"\",\"credits\":3,\"prefix\":\"\"},{\"curriculum_requisites\":[],\"name\":\" \",\"metrics\":{\"centrality\":0,\"complexity\":1.0,\"blocking factor\":0,\"delay factor\":1.0},\"nameSub\":\"PE\",\"id\":857458110203130704,\"num\":\"\",\"credits\":3,\"prefix\":\"\"}],\"id\":2},{\"name\":\"Term 3\",\"curriculum_items\":[{\"curriculum_requisites\":[{\"source_id\":5953607625038722188,\"target_id\":8235974756110151101,\"type\":\"prereq\"},{\"source_id\":7361622186349540665,\"target_id\":8235974756110151101,\"type\":\"prereq\"}],\"name\":\"PHYS 2213\",\"metrics\":{\"centrality\":18,\"complexity\":8.0,\"blocking factor\":3,\"delay factor\":5.0},\"nameSub\":\"PHYS 2213\",\"id\":8235974756110151101,\"num\":\"2213\",\"credits\":3,\"prefix\":\"PHYS\"},{\"curriculum_requisites\":[{\"source_id\":5953607625038722188,\"target_id\":3325162549824349428,\"type\":\"prereq\"}],\"name\":\"MATH 2930\",\"metrics\":{\"centrality\":14,\"complexity\":8.0,\"blocking factor\":4,\"delay factor\":4.0},\"nameSub\":\"MATH 2930\",\"id\":3325162549824349428,\"num\":\"2930\",\"credits\":3,\"prefix\":\"MATH\"},{\"curriculum_requisites\":[{\"source_id\":8235974756110151101,\"target_id\":8562026229982697755,\"type\":\"coreq\"},{\"source_id\":3325162549824349428,\"target_id\":8562026229982697755,\"type\":\"coreq\"}],\"name\":\"ECE\\/ENGRD 2100\",\"metrics\":{\"centrality\":15,\"complexity\":6.0,\"blocking factor\":1,\"delay factor\":5.0},\"nameSub\":\"ECE\\/ENGRD 2100\",\"id\":8562026229982697755,\"num\":\"2100\",\"credits\":3,\"prefix\":\"ECE\\/ENGRD\"},{\"curriculum_requisites\":[{\"source_id\":4860464975750941983,\"target_id\":4128684444630768225,\"type\":\"prereq\"}],\"name\":\"MECE\\/ENGRD 2300\",\"metrics\":{\"centrality\":3,\"complexity\":4.0,\"blocking factor\":1,\"delay factor\":3.0},\"nameSub\":\"MECE\\/ENGRD 2300\",\"id\":4128684444630768225,\"num\":\"2300\",\"credits\":3,\"prefix\":\"MECE\\/ENGRD\"},{\"curriculum_requisites\":[],\"name\":\" \",\"metrics\":{\"centrality\":0,\"complexity\":1.0,\"blocking factor\":0,\"delay factor\":1.0},\"nameSub\":\"Liberal Studies\",\"id\":7405020695626068898,\"num\":\"\",\"credits\":3,\"prefix\":\"\"}],\"id\":3},{\"name\":\"Term 4\",\"curriculum_items\":[{\"curriculum_requisites\":[{\"source_id\":3325162549824349428,\"target_id\":315822138579407596,\"type\":\"coreq\"}],\"name\":\"PHYS 2214\",\"metrics\":{\"centrality\":0,\"complexity\":4.0,\"blocking factor\":0,\"delay factor\":4.0},\"nameSub\":\"PHYS 2214\",\"id\":315822138579407596,\"num\":\"2214\",\"credits\":3,\"prefix\":\"PHYS\"},{\"curriculum_requisites\":[{\"source_id\":5953607625038722188,\"target_id\":6676288918718624776,\"type\":\"prereq\"}],\"name\":\"MATH 2940\",\"metrics\":{\"centrality\":5,\"complexity\":5.0,\"blocking factor\":2,\"delay factor\":3.0},\"nameSub\":\"MATH 2940\",\"id\":6676288918718624776,\"num\":\"2940\",\"credits\":3,\"prefix\":\"MATH\"},{\"curriculum_requisites\":[{\"source_id\":8235974756110151101,\"target_id\":4144726292938987559,\"type\":\"prereq\"}],\"name\":\"ENGRD 2xxx\",\"metrics\":{\"centrality\":0,\"complexity\":4.0,\"blocking factor\":0,\"delay factor\":4.0},\"nameSub\":\"ENGRD 2xxx\",\"id\":4144726292938987559,\"num\":\"2xxx\",\"credits\":3,\"prefix\":\"ENGRD\"},{\"curriculum_requisites\":[{\"source_id\":3325162549824349428,\"target_id\":1057118690338357938,\"type\":\"prereq\"},{\"source_id\":6676288918718624776,\"target_id\":1057118690338357938,\"type\":\"coreq\"}],\"name\":\"ECE\\/ENGRD 2200\\/2220\",\"metrics\":{\"centrality\":10,\"complexity\":5.0,\"blocking factor\":1,\"delay factor\":4.0},\"nameSub\":\"ECE 2200\\/ENGRD 2220\",\"id\":1057118690338357938,\"num\":\"2200\\/2220\",\"credits\":3,\"prefix\":\"ECE\\/ENGRD\"},{\"curriculum_requisites\":[],\"name\":\" \",\"metrics\":{\"centrality\":0,\"complexity\":1.0,\"blocking factor\":0,\"delay factor\":1.0},\"nameSub\":\"Liberal Studies\",\"id\":7405020695626068898,\"num\":\"\",\"credits\":3,\"prefix\":\"\"}],\"id\":4},{\"name\":\"Term 5\",\"curriculum_items\":[{\"curriculum_requisites\":[],\"name\":\" \",\"metrics\":{\"centrality\":0,\"complexity\":1.0,\"blocking factor\":0,\"delay factor\":1.0},\"nameSub\":\"ECE Foundations\",\"id\":3103415124466020093,\"num\":\"\",\"credits\":3,\"prefix\":\"\"},{\"curriculum_requisites\":[],\"name\":\" \",\"metrics\":{\"centrality\":0,\"complexity\":1.0,\"blocking factor\":0,\"delay factor\":1.0},\"nameSub\":\"Elective\",\"id\":6401834934519422575,\"num\":\"\",\"credits\":3,\"prefix\":\"\"},{\"curriculum_requisites\":[{\"source_id\":4860464975750941983,\"target_id\":8498564432258334371,\"type\":\"prereq\"}],\"name\":\" \",\"metrics\":{\"centrality\":0,\"complexity\":2.0,\"blocking factor\":0,\"delay factor\":2.0},\"nameSub\":\"Outside Tech. Elective\",\"id\":8498564432258334371,\"num\":\"\",\"credits\":3,\"prefix\":\"\"},{\"curriculum_requisites\":[{\"source_id\":4128684444630768225,\"target_id\":3831798649895813485,\"type\":\"prereq\"},{\"source_id\":8562026229982697755,\"target_id\":3831798649895813485,\"type\":\"prereq\"},{\"source_id\":1057118690338357938,\"target_id\":3831798649895813485,\"type\":\"prereq\"}],\"name\":\"ECE 3400\",\"metrics\":{\"centrality\":0,\"complexity\":5.0,\"blocking factor\":0,\"delay factor\":5.0},\"nameSub\":\"ECE 3400\",\"id\":3831798649895813485,\"num\":\"3400\",\"credits\":3,\"prefix\":\"ECE\"},{\"curriculum_requisites\":[],\"name\":\" \",\"metrics\":{\"centrality\":0,\"complexity\":1.0,\"blocking factor\":0,\"delay factor\":1.0},\"nameSub\":\"Liberal Studies\",\"id\":7405020695626068898,\"num\":\"\",\"credits\":3,\"prefix\":\"\"}],\"id\":5},{\"name\":\"Term 6\",\"curriculum_items\":[{\"curriculum_requisites\":[],\"name\":\" \",\"metrics\":{\"centrality\":0,\"complexity\":1.0,\"blocking factor\":0,\"delay factor\":1.0},\"nameSub\":\"ECE Foundations\",\"id\":3103415124466020093,\"num\":\"\",\"credits\":3,\"prefix\":\"\"},{\"curriculum_requisites\":[],\"name\":\" \",\"metrics\":{\"centrality\":0,\"complexity\":1.0,\"blocking factor\":0,\"delay factor\":1.0},\"nameSub\":\"ECE Foundations\",\"id\":3103415124466020093,\"num\":\"\",\"credits\":3,\"prefix\":\"\"},{\"curriculum_requisites\":[],\"name\":\" \",\"metrics\":{\"centrality\":0,\"complexity\":1.0,\"blocking factor\":0,\"delay factor\":1.0},\"nameSub\":\"Outside Tech. Elective\",\"id\":8498564432258334371,\"num\":\"\",\"credits\":3,\"prefix\":\"\"},{\"curriculum_requisites\":[],\"name\":\" \",\"metrics\":{\"centrality\":0,\"complexity\":1.0,\"blocking factor\":0,\"delay factor\":1.0},\"nameSub\":\"Elective\",\"id\":6401834934519422575,\"num\":\"\",\"credits\":3,\"prefix\":\"\"},{\"curriculum_requisites\":[],\"name\":\" \",\"metrics\":{\"centrality\":0,\"complexity\":1.0,\"blocking factor\":0,\"delay factor\":1.0},\"nameSub\":\"Liberal Studies\",\"id\":7405020695626068898,\"num\":\"\",\"credits\":3,\"prefix\":\"\"}],\"id\":6},{\"name\":\"Term 7\",\"curriculum_items\":[{\"curriculum_requisites\":[],\"name\":\" \",\"metrics\":{\"centrality\":0,\"complexity\":1.0,\"blocking factor\":0,\"delay factor\":1.0},\"nameSub\":\"ECE Elective \",\"id\":4052882504505960646,\"num\":\"\",\"credits\":3,\"prefix\":\"\"},{\"curriculum_requisites\":[],\"name\":\" \",\"metrics\":{\"centrality\":0,\"complexity\":1.0,\"blocking factor\":0,\"delay factor\":1.0},\"nameSub\":\"ECE Elective\",\"id\":3101766117420039194,\"num\":\"\",\"credits\":3,\"prefix\":\"\"},{\"curriculum_requisites\":[],\"name\":\" \",\"metrics\":{\"centrality\":0,\"complexity\":1.0,\"blocking factor\":0,\"delay factor\":1.0},\"nameSub\":\"Outside Tech. Elective\",\"id\":8498564432258334371,\"num\":\"\",\"credits\":3,\"prefix\":\"\"},{\"curriculum_requisites\":[],\"name\":\" \",\"metrics\":{\"centrality\":0,\"complexity\":1.0,\"blocking factor\":0,\"delay factor\":1.0},\"nameSub\":\"Liberal Studies\",\"id\":7405020695626068898,\"num\":\"\",\"credits\":3,\"prefix\":\"\"}],\"id\":7},{\"name\":\"Term 8\",\"curriculum_items\":[{\"curriculum_requisites\":[],\"name\":\" \",\"metrics\":{\"centrality\":0,\"complexity\":1.0,\"blocking factor\":0,\"delay factor\":1.0},\"nameSub\":\"ECE Elective\",\"id\":3101766117420039194,\"num\":\"\",\"credits\":3,\"prefix\":\"\"},{\"curriculum_requisites\":[],\"name\":\" \",\"metrics\":{\"centrality\":0,\"complexity\":1.0,\"blocking factor\":0,\"delay factor\":1.0},\"nameSub\":\"ECE Elective\",\"id\":3101766117420039194,\"num\":\"\",\"credits\":3,\"prefix\":\"\"},{\"curriculum_requisites\":[],\"name\":\" \",\"metrics\":{\"centrality\":0,\"complexity\":1.0,\"blocking factor\":0,\"delay factor\":1.0},\"nameSub\":\"ECE Elective\",\"id\":3101766117420039194,\"num\":\"\",\"credits\":3,\"prefix\":\"\"},{\"curriculum_requisites\":[],\"name\":\" \",\"metrics\":{\"centrality\":0,\"complexity\":1.0,\"blocking factor\":0,\"delay factor\":1.0},\"nameSub\":\"Liberal Studies\",\"id\":7405020695626068898,\"num\":\"\",\"credits\":3,\"prefix\":\"\"}],\"id\":8}]}}}}},\"children\":[{\"props\":{\"src\":\"http:\\/\\/localhost:8156\",\"id\":\"curriculum\",\"events\":{\"load\":\"(function (){this.contentWindow.postMessage({\\\"curriculum\\\":{\\\"name\\\":\\\"University of Houston EE Program 4-year Plan\\\",\\\"curriculum_terms\\\":[{\\\"name\\\":\\\"Term 1\\\",\\\"curriculum_items\\\":[{\\\"curriculum_requisites\\\":[],\\\"name\\\":\\\"CHEM 2090\\\",\\\"metrics\\\":{\\\"centrality\\\":0,\\\"complexity\\\":1.0,\\\"blocking factor\\\":0,\\\"delay factor\\\":1.0},\\\"nameSub\\\":\\\"CHEM 2090\\\",\\\"id\\\":7068313545565755395,\\\"num\\\":\\\"2090\\\",\\\"credits\\\":3,\\\"prefix\\\":\\\"CHEM\\\"},{\\\"curriculum_requisites\\\":[],\\\"name\\\":\\\"MATH 1910\\\",\\\"metrics\\\":{\\\"centrality\\\":0,\\\"complexity\\\":15.0,\\\"blocking factor\\\":10,\\\"delay factor\\\":5.0},\\\"nameSub\\\":\\\"MATH 1910\\\",\\\"id\\\":1707017729329769916,\\\"num\\\":\\\"1910\\\",\\\"credits\\\":3,\\\"prefix\\\":\\\"MATH\\\"},{\\\"curriculum_requisites\\\":[],\\\"name\\\":\\\"ENGRI 1xxx\\\",\\\"metrics\\\":{\\\"centrality\\\":0,\\\"complexity\\\":1.0,\\\"blocking factor\\\":0,\\\"delay factor\\\":1.0},\\\"nameSub\\\":\\\"ENGRI 1xxx\\\",\\\"id\\\":1723960521387587606,\\\"num\\\":\\\"1xxx\\\",\\\"credits\\\":3,\\\"prefix\\\":\\\"ENGRI\\\"},{\\\"curriculum_requisites\\\":[],\\\"name\\\":\\\" \\\",\\\"metrics\\\":{\\\"centrality\\\":0,\\\"complexity\\\":1.0,\\\"blocking factor\\\":0,\\\"delay factor\\\":1.0},\\\"nameSub\\\":\\\"1st Yr Writing Seminar\\\",\\\"id\\\":8770489525253060652,\\\"num\\\":\\\"\\\",\\\"credits\\\":3,\\\"prefix\\\":\\\"\\\"},{\\\"curriculum_requisites\\\":[],\\\"name\\\":\\\" \\\",\\\"metrics\\\":{\\\"centrality\\\":0,\\\"complexity\\\":1.0,\\\"blocking factor\\\":0,\\\"delay factor\\\":1.0},\\\"nameSub\\\":\\\"PE\\\",\\\"id\\\":1219938783301979825,\\\"num\\\":\\\"\\\",\\\"credits\\\":3,\\\"prefix\\\":\\\"\\\"}],\\\"id\\\":1},{\\\"name\\\":\\\"Term 2\\\",\\\"curriculum_items\\\":[{\\\"curriculum_requisites\\\":[{\\\"source_id\\\":1707017729329769916,\\\"target_id\\\":7361622186349540665,\\\"type\\\":\\\"prereq\\\"}],\\\"name\\\":\\\"PHYS 1112\\\",\\\"metrics\\\":{\\\"centrality\\\":9,\\\"complexity\\\":9.0,\\\"blocking factor\\\":4,\\\"delay factor\\\":5.0},\\\"nameSub\\\":\\\"PHYS 1112\\\",\\\"id\\\":7361622186349540665,\\\"num\\\":\\\"1112\\\",\\\"credits\\\":3,\\\"prefix\\\":\\\"PHYS\\\"},{\\\"curriculum_requisites\\\":[{\\\"source_id\\\":1707017729329769916,\\\"target_id\\\":5953607625038722188,\\\"type\\\":\\\"prereq\\\"}],\\\"name\\\":\\\"MATH 1920\\\",\\\"metrics\\\":{\\\"centrality\\\":28,\\\"complexity\\\":12.0,\\\"blocking factor\\\":8,\\\"delay factor\\\":4.0},\\\"nameSub\\\":\\\"MATH 1920\\\",\\\"id\\\":5953607625038722188,\\\"num\\\":\\\"1920\\\",\\\"credits\\\":3,\\\"prefix\\\":\\\"MATH\\\"},{\\\"curriculum_requisites\\\":[],\\\"name\\\":\\\"CS 111x\\\",\\\"metrics\\\":{\\\"centrality\\\":0,\\\"complexity\\\":6.0,\\\"blocking factor\\\":3,\\\"delay factor\\\":3.0},\\\"nameSub\\\":\\\"CS 111x\\\",\\\"id\\\":4860464975750941983,\\\"num\\\":\\\"111x\\\",\\\"credits\\\":3,\\\"prefix\\\":\\\"CS\\\"},{\\\"curriculum_requisites\\\":[],\\\"name\\\":\\\" \\\",\\\"metrics\\\":{\\\"centrality\\\":0,\\\"complexity\\\":1.0,\\\"blocking factor\\\":0,\\\"delay factor\\\":1.0},\\\"nameSub\\\":\\\"1st Yr Writing Seminar\\\",\\\"id\\\":2735134719261447963,\\\"num\\\":\\\"\\\",\\\"credits\\\":3,\\\"prefix\\\":\\\"\\\"},{\\\"curriculum_requisites\\\":[],\\\"name\\\":\\\" \\\",\\\"metrics\\\":{\\\"centrality\\\":0,\\\"complexity\\\":1.0,\\\"blocking factor\\\":0,\\\"delay factor\\\":1.0},\\\"nameSub\\\":\\\"PE\\\",\\\"id\\\":857458110203130704,\\\"num\\\":\\\"\\\",\\\"credits\\\":3,\\\"prefix\\\":\\\"\\\"}],\\\"id\\\":2},{\\\"name\\\":\\\"Term 3\\\",\\\"curriculum_items\\\":[{\\\"curriculum_requisites\\\":[{\\\"source_id\\\":5953607625038722188,\\\"target_id\\\":8235974756110151101,\\\"type\\\":\\\"prereq\\\"},{\\\"source_id\\\":7361622186349540665,\\\"target_id\\\":8235974756110151101,\\\"type\\\":\\\"prereq\\\"}],\\\"name\\\":\\\"PHYS 2213\\\",\\\"metrics\\\":{\\\"centrality\\\":18,\\\"complexity\\\":8.0,\\\"blocking factor\\\":3,\\\"delay factor\\\":5.0},\\\"nameSub\\\":\\\"PHYS 2213\\\",\\\"id\\\":8235974756110151101,\\\"num\\\":\\\"2213\\\",\\\"credits\\\":3,\\\"prefix\\\":\\\"PHYS\\\"},{\\\"curriculum_requisites\\\":[{\\\"source_id\\\":5953607625038722188,\\\"target_id\\\":3325162549824349428,\\\"type\\\":\\\"prereq\\\"}],\\\"name\\\":\\\"MATH 2930\\\",\\\"metrics\\\":{\\\"centrality\\\":14,\\\"complexity\\\":8.0,\\\"blocking factor\\\":4,\\\"delay factor\\\":4.0},\\\"nameSub\\\":\\\"MATH 2930\\\",\\\"id\\\":3325162549824349428,\\\"num\\\":\\\"2930\\\",\\\"credits\\\":3,\\\"prefix\\\":\\\"MATH\\\"},{\\\"curriculum_requisites\\\":[{\\\"source_id\\\":8235974756110151101,\\\"target_id\\\":8562026229982697755,\\\"type\\\":\\\"coreq\\\"},{\\\"source_id\\\":3325162549824349428,\\\"target_id\\\":8562026229982697755,\\\"type\\\":\\\"coreq\\\"}],\\\"name\\\":\\\"ECE\\/ENGRD 2100\\\",\\\"metrics\\\":{\\\"centrality\\\":15,\\\"complexity\\\":6.0,\\\"blocking factor\\\":1,\\\"delay factor\\\":5.0},\\\"nameSub\\\":\\\"ECE\\/ENGRD 2100\\\",\\\"id\\\":8562026229982697755,\\\"num\\\":\\\"2100\\\",\\\"credits\\\":3,\\\"prefix\\\":\\\"ECE\\/ENGRD\\\"},{\\\"curriculum_requisites\\\":[{\\\"source_id\\\":4860464975750941983,\\\"target_id\\\":4128684444630768225,\\\"type\\\":\\\"prereq\\\"}],\\\"name\\\":\\\"MECE\\/ENGRD 2300\\\",\\\"metrics\\\":{\\\"centrality\\\":3,\\\"complexity\\\":4.0,\\\"blocking factor\\\":1,\\\"delay factor\\\":3.0},\\\"nameSub\\\":\\\"MECE\\/ENGRD 2300\\\",\\\"id\\\":4128684444630768225,\\\"num\\\":\\\"2300\\\",\\\"credits\\\":3,\\\"prefix\\\":\\\"MECE\\/ENGRD\\\"},{\\\"curriculum_requisites\\\":[],\\\"name\\\":\\\" \\\",\\\"metrics\\\":{\\\"centrality\\\":0,\\\"complexity\\\":1.0,\\\"blocking factor\\\":0,\\\"delay factor\\\":1.0},\\\"nameSub\\\":\\\"Liberal Studies\\\",\\\"id\\\":7405020695626068898,\\\"num\\\":\\\"\\\",\\\"credits\\\":3,\\\"prefix\\\":\\\"\\\"}],\\\"id\\\":3},{\\\"name\\\":\\\"Term 4\\\",\\\"curriculum_items\\\":[{\\\"curriculum_requisites\\\":[{\\\"source_id\\\":3325162549824349428,\\\"target_id\\\":315822138579407596,\\\"type\\\":\\\"coreq\\\"}],\\\"name\\\":\\\"PHYS 2214\\\",\\\"metrics\\\":{\\\"centrality\\\":0,\\\"complexity\\\":4.0,\\\"blocking factor\\\":0,\\\"delay factor\\\":4.0},\\\"nameSub\\\":\\\"PHYS 2214\\\",\\\"id\\\":315822138579407596,\\\"num\\\":\\\"2214\\\",\\\"credits\\\":3,\\\"prefix\\\":\\\"PHYS\\\"},{\\\"curriculum_requisites\\\":[{\\\"source_id\\\":5953607625038722188,\\\"target_id\\\":6676288918718624776,\\\"type\\\":\\\"prereq\\\"}],\\\"name\\\":\\\"MATH 2940\\\",\\\"metrics\\\":{\\\"centrality\\\":5,\\\"complexity\\\":5.0,\\\"blocking factor\\\":2,\\\"delay factor\\\":3.0},\\\"nameSub\\\":\\\"MATH 2940\\\",\\\"id\\\":6676288918718624776,\\\"num\\\":\\\"2940\\\",\\\"credits\\\":3,\\\"prefix\\\":\\\"MATH\\\"},{\\\"curriculum_requisites\\\":[{\\\"source_id\\\":8235974756110151101,\\\"target_id\\\":4144726292938987559,\\\"type\\\":\\\"prereq\\\"}],\\\"name\\\":\\\"ENGRD 2xxx\\\",\\\"metrics\\\":{\\\"centrality\\\":0,\\\"complexity\\\":4.0,\\\"blocking factor\\\":0,\\\"delay factor\\\":4.0},\\\"nameSub\\\":\\\"ENGRD 2xxx\\\",\\\"id\\\":4144726292938987559,\\\"num\\\":\\\"2xxx\\\",\\\"credits\\\":3,\\\"prefix\\\":\\\"ENGRD\\\"},{\\\"curriculum_requisites\\\":[{\\\"source_id\\\":3325162549824349428,\\\"target_id\\\":1057118690338357938,\\\"type\\\":\\\"prereq\\\"},{\\\"source_id\\\":6676288918718624776,\\\"target_id\\\":1057118690338357938,\\\"type\\\":\\\"coreq\\\"}],\\\"name\\\":\\\"ECE\\/ENGRD 2200\\/2220\\\",\\\"metrics\\\":{\\\"centrality\\\":10,\\\"complexity\\\":5.0,\\\"blocking factor\\\":1,\\\"delay factor\\\":4.0},\\\"nameSub\\\":\\\"ECE 2200\\/ENGRD 2220\\\",\\\"id\\\":1057118690338357938,\\\"num\\\":\\\"2200\\/2220\\\",\\\"credits\\\":3,\\\"prefix\\\":\\\"ECE\\/ENGRD\\\"},{\\\"curriculum_requisites\\\":[],\\\"name\\\":\\\" \\\",\\\"metrics\\\":{\\\"centrality\\\":0,\\\"complexity\\\":1.0,\\\"blocking factor\\\":0,\\\"delay factor\\\":1.0},\\\"nameSub\\\":\\\"Liberal Studies\\\",\\\"id\\\":7405020695626068898,\\\"num\\\":\\\"\\\",\\\"credits\\\":3,\\\"prefix\\\":\\\"\\\"}],\\\"id\\\":4},{\\\"name\\\":\\\"Term 5\\\",\\\"curriculum_items\\\":[{\\\"curriculum_requisites\\\":[],\\\"name\\\":\\\" \\\",\\\"metrics\\\":{\\\"centrality\\\":0,\\\"complexity\\\":1.0,\\\"blocking factor\\\":0,\\\"delay factor\\\":1.0},\\\"nameSub\\\":\\\"ECE Foundations\\\",\\\"id\\\":3103415124466020093,\\\"num\\\":\\\"\\\",\\\"credits\\\":3,\\\"prefix\\\":\\\"\\\"},{\\\"curriculum_requisites\\\":[],\\\"name\\\":\\\" \\\",\\\"metrics\\\":{\\\"centrality\\\":0,\\\"complexity\\\":1.0,\\\"blocking factor\\\":0,\\\"delay factor\\\":1.0},\\\"nameSub\\\":\\\"Elective\\\",\\\"id\\\":6401834934519422575,\\\"num\\\":\\\"\\\",\\\"credits\\\":3,\\\"prefix\\\":\\\"\\\"},{\\\"curriculum_requisites\\\":[{\\\"source_id\\\":4860464975750941983,\\\"target_id\\\":8498564432258334371,\\\"type\\\":\\\"prereq\\\"}],\\\"name\\\":\\\" \\\",\\\"metrics\\\":{\\\"centrality\\\":0,\\\"complexity\\\":2.0,\\\"blocking factor\\\":0,\\\"delay factor\\\":2.0},\\\"nameSub\\\":\\\"Outside Tech. Elective\\\",\\\"id\\\":8498564432258334371,\\\"num\\\":\\\"\\\",\\\"credits\\\":3,\\\"prefix\\\":\\\"\\\"},{\\\"curriculum_requisites\\\":[{\\\"source_id\\\":4128684444630768225,\\\"target_id\\\":3831798649895813485,\\\"type\\\":\\\"prereq\\\"},{\\\"source_id\\\":8562026229982697755,\\\"target_id\\\":3831798649895813485,\\\"type\\\":\\\"prereq\\\"},{\\\"source_id\\\":1057118690338357938,\\\"target_id\\\":3831798649895813485,\\\"type\\\":\\\"prereq\\\"}],\\\"name\\\":\\\"ECE 3400\\\",\\\"metrics\\\":{\\\"centrality\\\":0,\\\"complexity\\\":5.0,\\\"blocking factor\\\":0,\\\"delay factor\\\":5.0},\\\"nameSub\\\":\\\"ECE 3400\\\",\\\"id\\\":3831798649895813485,\\\"num\\\":\\\"3400\\\",\\\"credits\\\":3,\\\"prefix\\\":\\\"ECE\\\"},{\\\"curriculum_requisites\\\":[],\\\"name\\\":\\\" \\\",\\\"metrics\\\":{\\\"centrality\\\":0,\\\"complexity\\\":1.0,\\\"blocking factor\\\":0,\\\"delay factor\\\":1.0},\\\"nameSub\\\":\\\"Liberal Studies\\\",\\\"id\\\":7405020695626068898,\\\"num\\\":\\\"\\\",\\\"credits\\\":3,\\\"prefix\\\":\\\"\\\"}],\\\"id\\\":5},{\\\"name\\\":\\\"Term 6\\\",\\\"curriculum_items\\\":[{\\\"curriculum_requisites\\\":[],\\\"name\\\":\\\" \\\",\\\"metrics\\\":{\\\"centrality\\\":0,\\\"complexity\\\":1.0,\\\"blocking factor\\\":0,\\\"delay factor\\\":1.0},\\\"nameSub\\\":\\\"ECE Foundations\\\",\\\"id\\\":3103415124466020093,\\\"num\\\":\\\"\\\",\\\"credits\\\":3,\\\"prefix\\\":\\\"\\\"},{\\\"curriculum_requisites\\\":[],\\\"name\\\":\\\" \\\",\\\"metrics\\\":{\\\"centrality\\\":0,\\\"complexity\\\":1.0,\\\"blocking factor\\\":0,\\\"delay factor\\\":1.0},\\\"nameSub\\\":\\\"ECE Foundations\\\",\\\"id\\\":3103415124466020093,\\\"num\\\":\\\"\\\",\\\"credits\\\":3,\\\"prefix\\\":\\\"\\\"},{\\\"curriculum_requisites\\\":[],\\\"name\\\":\\\" \\\",\\\"metrics\\\":{\\\"centrality\\\":0,\\\"complexity\\\":1.0,\\\"blocking factor\\\":0,\\\"delay factor\\\":1.0},\\\"nameSub\\\":\\\"Outside Tech. Elective\\\",\\\"id\\\":8498564432258334371,\\\"num\\\":\\\"\\\",\\\"credits\\\":3,\\\"prefix\\\":\\\"\\\"},{\\\"curriculum_requisites\\\":[],\\\"name\\\":\\\" \\\",\\\"metrics\\\":{\\\"centrality\\\":0,\\\"complexity\\\":1.0,\\\"blocking factor\\\":0,\\\"delay factor\\\":1.0},\\\"nameSub\\\":\\\"Elective\\\",\\\"id\\\":6401834934519422575,\\\"num\\\":\\\"\\\",\\\"credits\\\":3,\\\"prefix\\\":\\\"\\\"},{\\\"curriculum_requisites\\\":[],\\\"name\\\":\\\" \\\",\\\"metrics\\\":{\\\"centrality\\\":0,\\\"complexity\\\":1.0,\\\"blocking factor\\\":0,\\\"delay factor\\\":1.0},\\\"nameSub\\\":\\\"Liberal Studies\\\",\\\"id\\\":7405020695626068898,\\\"num\\\":\\\"\\\",\\\"credits\\\":3,\\\"prefix\\\":\\\"\\\"}],\\\"id\\\":6},{\\\"name\\\":\\\"Term 7\\\",\\\"curriculum_items\\\":[{\\\"curriculum_requisites\\\":[],\\\"name\\\":\\\" \\\",\\\"metrics\\\":{\\\"centrality\\\":0,\\\"complexity\\\":1.0,\\\"blocking factor\\\":0,\\\"delay factor\\\":1.0},\\\"nameSub\\\":\\\"ECE Elective \\\",\\\"id\\\":4052882504505960646,\\\"num\\\":\\\"\\\",\\\"credits\\\":3,\\\"prefix\\\":\\\"\\\"},{\\\"curriculum_requisites\\\":[],\\\"name\\\":\\\" \\\",\\\"metrics\\\":{\\\"centrality\\\":0,\\\"complexity\\\":1.0,\\\"blocking factor\\\":0,\\\"delay factor\\\":1.0},\\\"nameSub\\\":\\\"ECE Elective\\\",\\\"id\\\":3101766117420039194,\\\"num\\\":\\\"\\\",\\\"credits\\\":3,\\\"prefix\\\":\\\"\\\"},{\\\"curriculum_requisites\\\":[],\\\"name\\\":\\\" \\\",\\\"metrics\\\":{\\\"centrality\\\":0,\\\"complexity\\\":1.0,\\\"blocking factor\\\":0,\\\"delay factor\\\":1.0},\\\"nameSub\\\":\\\"Outside Tech. Elective\\\",\\\"id\\\":8498564432258334371,\\\"num\\\":\\\"\\\",\\\"credits\\\":3,\\\"prefix\\\":\\\"\\\"},{\\\"curriculum_requisites\\\":[],\\\"name\\\":\\\" \\\",\\\"metrics\\\":{\\\"centrality\\\":0,\\\"complexity\\\":1.0,\\\"blocking factor\\\":0,\\\"delay factor\\\":1.0},\\\"nameSub\\\":\\\"Liberal Studies\\\",\\\"id\\\":7405020695626068898,\\\"num\\\":\\\"\\\",\\\"credits\\\":3,\\\"prefix\\\":\\\"\\\"}],\\\"id\\\":7},{\\\"name\\\":\\\"Term 8\\\",\\\"curriculum_items\\\":[{\\\"curriculum_requisites\\\":[],\\\"name\\\":\\\" \\\",\\\"metrics\\\":{\\\"centrality\\\":0,\\\"complexity\\\":1.0,\\\"blocking factor\\\":0,\\\"delay factor\\\":1.0},\\\"nameSub\\\":\\\"ECE Elective\\\",\\\"id\\\":3101766117420039194,\\\"num\\\":\\\"\\\",\\\"credits\\\":3,\\\"prefix\\\":\\\"\\\"},{\\\"curriculum_requisites\\\":[],\\\"name\\\":\\\" \\\",\\\"metrics\\\":{\\\"centrality\\\":0,\\\"complexity\\\":1.0,\\\"blocking factor\\\":0,\\\"delay factor\\\":1.0},\\\"nameSub\\\":\\\"ECE Elective\\\",\\\"id\\\":3101766117420039194,\\\"num\\\":\\\"\\\",\\\"credits\\\":3,\\\"prefix\\\":\\\"\\\"},{\\\"curriculum_requisites\\\":[],\\\"name\\\":\\\" \\\",\\\"metrics\\\":{\\\"centrality\\\":0,\\\"complexity\\\":1.0,\\\"blocking factor\\\":0,\\\"delay factor\\\":1.0},\\\"nameSub\\\":\\\"ECE Elective\\\",\\\"id\\\":3101766117420039194,\\\"num\\\":\\\"\\\",\\\"credits\\\":3,\\\"prefix\\\":\\\"\\\"},{\\\"curriculum_requisites\\\":[],\\\"name\\\":\\\" \\\",\\\"metrics\\\":{\\\"centrality\\\":0,\\\"complexity\\\":1.0,\\\"blocking factor\\\":0,\\\"delay factor\\\":1.0},\\\"nameSub\\\":\\\"Liberal Studies\\\",\\\"id\\\":7405020695626068898,\\\"num\\\":\\\"\\\",\\\"credits\\\":3,\\\"prefix\\\":\\\"\\\"}],\\\"id\\\":8}]}},\\\"*\\\"); window.removeEventListener(\\\"message\\\",window.messageReceived); window.messageReceived=(function (event){return (event.data.curriculum!==undefined) ? (_webIOScope.setObservableValue({\\\"name\\\":\\\"curriculum-data\\\",\\\"scope\\\":\\\"scope-f4c0aaf0-5b54-47d1-ae47-dc929ee432e2\\\",\\\"id\\\":\\\"ob_03\\\",\\\"type\\\":\\\"observable\\\"},event.data.curriculum)) : undefined}); return window.addEventListener(\\\"message\\\",window.messageReceived)})\"},\"style\":{\"padding\":\"0\",\"height\":\"100vh\",\"margin\":\"0\",\"border\":\"none\",\"width\":\"100%\"}},\"nodeType\":\"DOM\",\"type\":\"node\",\"instanceArgs\":{\"namespace\":\"html\",\"tag\":\"iframe\"},\"children\":[\"\"]}]},\n",
       "        );\n",
       "    } else {\n",
       "        document\n",
       "            .querySelector('[data-webio-mountpoint=\"6063215317739433498\"]')\n",
       "            .innerHTML = '<strong>WebIO not detected.</strong>';\n",
       "    }\n",
       "    </script>\n",
       "</div>\n"
      ],
      "text/plain": [
       "WebIO.Scope(\"scope-f4c0aaf0-5b54-47d1-ae47-dc929ee432e2\", WebIO.Node{WebIO.DOM}(WebIO.DOM(:html, :iframe), Any[\"\"], Dict{Symbol,Any}(:src=>\"http://localhost:8156\",:id=>\"curriculum\",:events=>Dict(:load=>JSString(\"(function (){this.contentWindow.postMessage({\\\"curriculum\\\":{\\\"name\\\":\\\"University of Houston EE Program 4-year Plan\\\",\\\"curriculum_terms\\\":[{\\\"name\\\":\\\"Term 1\\\",\\\"curriculum_items\\\":[{\\\"curriculum_requisites\\\":[],\\\"name\\\":\\\"CHEM 2090\\\",\\\"metrics\\\":{\\\"centrality\\\":0,\\\"complexity\\\":1.0,\\\"blocking factor\\\":0,\\\"delay factor\\\":1.0},\\\"nameSub\\\":\\\"CHEM 2090\\\",\\\"id\\\":7068313545565755395,\\\"num\\\":\\\"2090\\\",\\\"credits\\\":3,\\\"prefix\\\":\\\"CHEM\\\"},{\\\"curriculum_requisites\\\":[],\\\"name\\\":\\\"MATH 1910\\\",\\\"metrics\\\":{\\\"centrality\\\":0,\\\"complexity\\\":15.0,\\\"blocking factor\\\":10,\\\"delay factor\\\":5.0},\\\"nameSub\\\":\\\"MATH 1910\\\",\\\"id\\\":1707017729329769916,\\\"num\\\":\\\"1910\\\",\\\"credits\\\":3,\\\"prefix\\\":\\\"MATH\\\"},{\\\"curriculum_requisites\\\":[],\\\"name\\\":\\\"ENGRI 1xxx\\\",\\\"metrics\\\":{\\\"centrality\\\":0,\\\"complexity\\\":1.0,\\\"blocking factor\\\":0,\\\"delay factor\\\":1.0},\\\"nameSub\\\":\\\"ENGRI 1xxx\\\",\\\"id\\\":1723960521387587606,\\\"num\\\":\\\"1xxx\\\",\\\"credits\\\":3,\\\"prefix\\\":\\\"ENGRI\\\"},{\\\"curriculum_requisites\\\":[],\\\"name\\\":\\\" \\\",\\\"metrics\\\":{\\\"centrality\\\":0,\\\"complexity\\\":1.0,\\\"blocking factor\\\":0,\\\"delay factor\\\":1.0},\\\"nameSub\\\":\\\"1st Yr Writing Seminar\\\",\\\"id\\\":8770489525253060652,\\\"num\\\":\\\"\\\",\\\"credits\\\":3,\\\"prefix\\\":\\\"\\\"},{\\\"curriculum_requisites\\\":[],\\\"name\\\":\\\" \\\",\\\"metrics\\\":{\\\"centrality\\\":0,\\\"complexity\\\":1.0,\\\"blocking factor\\\":0,\\\"delay factor\\\":1.0},\\\"nameSub\\\":\\\"PE\\\",\\\"id\\\":1219938783301979825,\\\"num\\\":\\\"\\\",\\\"credits\\\":3,\\\"prefix\\\":\\\"\\\"}],\\\"id\\\":1},{\\\"name\\\":\\\"Term 2\\\",\\\"curriculum_items\\\":[{\\\"curriculum_requisites\\\":[{\\\"source_id\\\":1707017729329769916,\\\"target_id\\\":7361622186349540665,\\\"type\\\":\\\"prereq\\\"}],\\\"name\\\":\\\"PHYS 1112\\\",\\\"metrics\\\":{\\\"centrality\\\":9,\\\"complexity\\\":9.0,\\\"blocking factor\\\":4,\\\"delay factor\\\":5.0},\\\"nameSub\\\":\\\"PHYS 1112\\\",\\\"id\\\":7361622186349540665,\\\"num\\\":\\\"1112\\\",\\\"credits\\\":3,\\\"prefix\\\":\\\"PHYS\\\"},{\\\"curriculum_requisites\\\":[{\\\"source_id\\\":1707017729329769916,\\\"target_id\\\":5953607625038722188,\\\"type\\\":\\\"prereq\\\"}],\\\"name\\\":\\\"MATH 1920\\\",\\\"metrics\\\":{\\\"centrality\\\":28,\\\"complexity\\\":12.0,\\\"blocking factor\\\":8,\\\"delay factor\\\":4.0},\\\"nameSub\\\":\\\"MATH 1920\\\",\\\"id\\\":5953607625038722188,\\\"num\\\":\\\"1920\\\",\\\"credits\\\":3,\\\"prefix\\\":\\\"MATH\\\"},{\\\"curriculum_requisites\\\":[],\\\"name\\\":\\\"CS 111x\\\",\\\"metrics\\\":{\\\"centrality\\\":0,\\\"complexity\\\":6.0,\\\"blocking factor\\\":3,\\\"delay factor\\\":3.0},\\\"nameSub\\\":\\\"CS 111x\\\",\\\"id\\\":4860464975750941983,\\\"num\\\":\\\"111x\\\",\\\"credits\\\":3,\\\"prefix\\\":\\\"CS\\\"},{\\\"curriculum_requisites\\\":[],\\\"name\\\":\\\" \\\",\\\"metrics\\\":{\\\"centrality\\\":0,\\\"complexity\\\":1.0,\\\"blocking factor\\\":0,\\\"delay factor\\\":1.0},\\\"nameSub\\\":\\\"1st Yr Writing Seminar\\\",\\\"id\\\":2735134719261447963,\\\"num\\\":\\\"\\\",\\\"credits\\\":3,\\\"prefix\\\":\\\"\\\"},{\\\"curriculum_requisites\\\":[],\\\"name\\\":\\\" \\\",\\\"metrics\\\":{\\\"centrality\\\":0,\\\"complexity\\\":1.0,\\\"blocking factor\\\":0,\\\"delay factor\\\":1.0},\\\"nameSub\\\":\\\"PE\\\",\\\"id\\\":857458110203130704,\\\"num\\\":\\\"\\\",\\\"credits\\\":3,\\\"prefix\\\":\\\"\\\"}],\\\"id\\\":2},{\\\"name\\\":\\\"Term 3\\\",\\\"curriculum_items\\\":[{\\\"curriculum_requisites\\\":[{\\\"source_id\\\":5953607625038722188,\\\"target_id\\\":8235974756110151101,\\\"type\\\":\\\"prereq\\\"},{\\\"source_id\\\":7361622186349540665,\\\"target_id\\\":8235974756110151101,\\\"type\\\":\\\"prereq\\\"}],\\\"name\\\":\\\"PHYS 2213\\\",\\\"metrics\\\":{\\\"centrality\\\":18,\\\"complexity\\\":8.0,\\\"blocking factor\\\":3,\\\"delay factor\\\":5.0},\\\"nameSub\\\":\\\"PHYS 2213\\\",\\\"id\\\":8235974756110151101,\\\"num\\\":\\\"2213\\\",\\\"credits\\\":3,\\\"prefix\\\":\\\"PHYS\\\"},{\\\"curriculum_requisites\\\":[{\\\"source_id\\\":5953607625038722188,\\\"target_id\\\":3325162549824349428,\\\"type\\\":\\\"prereq\\\"}],\\\"name\\\":\\\"MATH 2930\\\",\\\"metrics\\\":{\\\"centrality\\\":14,\\\"complexity\\\":8.0,\\\"blocking factor\\\":4,\\\"delay factor\\\":4.0},\\\"nameSub\\\":\\\"MATH 2930\\\",\\\"id\\\":3325162549824349428,\\\"num\\\":\\\"2930\\\",\\\"credits\\\":3,\\\"prefix\\\":\\\"MATH\\\"},{\\\"curriculum_requisites\\\":[{\\\"source_id\\\":8235974756110151101,\\\"target_id\\\":8562026229982697755,\\\"type\\\":\\\"coreq\\\"},{\\\"source_id\\\":3325162549824349428,\\\"target_id\\\":8562026229982697755,\\\"type\\\":\\\"coreq\\\"}],\\\"name\\\":\\\"ECE/ENGRD 2100\\\",\\\"metrics\\\":{\\\"centrality\\\":15,\\\"complexity\\\":6.0,\\\"blocking factor\\\":1,\\\"delay factor\\\":5.0},\\\"nameSub\\\":\\\"ECE/ENGRD 2100\\\",\\\"id\\\":8562026229982697755,\\\"num\\\":\\\"2100\\\",\\\"credits\\\":3,\\\"prefix\\\":\\\"ECE/ENGRD\\\"},{\\\"curriculum_requisites\\\":[{\\\"source_id\\\":4860464975750941983,\\\"target_id\\\":4128684444630768225,\\\"type\\\":\\\"prereq\\\"}],\\\"name\\\":\\\"MECE/ENGRD 2300\\\",\\\"metrics\\\":{\\\"centrality\\\":3,\\\"complexity\\\":4.0,\\\"blocking factor\\\":1,\\\"delay factor\\\":3.0},\\\"nameSub\\\":\\\"MECE/ENGRD 2300\\\",\\\"id\\\":4128684444630768225,\\\"num\\\":\\\"2300\\\",\\\"credits\\\":3,\\\"prefix\\\":\\\"MECE/ENGRD\\\"},{\\\"curriculum_requisites\\\":[],\\\"name\\\":\\\" \\\",\\\"metrics\\\":{\\\"centrality\\\":0,\\\"complexity\\\":1.0,\\\"blocking factor\\\":0,\\\"delay factor\\\":1.0},\\\"nameSub\\\":\\\"Liberal Studies\\\",\\\"id\\\":7405020695626068898,\\\"num\\\":\\\"\\\",\\\"credits\\\":3,\\\"prefix\\\":\\\"\\\"}],\\\"id\\\":3},{\\\"name\\\":\\\"Term 4\\\",\\\"curriculum_items\\\":[{\\\"curriculum_requisites\\\":[{\\\"source_id\\\":3325162549824349428,\\\"target_id\\\":315822138579407596,\\\"type\\\":\\\"coreq\\\"}],\\\"name\\\":\\\"PHYS 2214\\\",\\\"metrics\\\":{\\\"centrality\\\":0,\\\"complexity\\\":4.0,\\\"blocking factor\\\":0,\\\"delay factor\\\":4.0},\\\"nameSub\\\":\\\"PHYS 2214\\\",\\\"id\\\":315822138579407596,\\\"num\\\":\\\"2214\\\",\\\"credits\\\":3,\\\"prefix\\\":\\\"PHYS\\\"},{\\\"curriculum_requisites\\\":[{\\\"source_id\\\":5953607625038722188,\\\"target_id\\\":6676288918718624776,\\\"type\\\":\\\"prereq\\\"}],\\\"name\\\":\\\"MATH 2940\\\",\\\"metrics\\\":{\\\"centrality\\\":5,\\\"complexity\\\":5.0,\\\"blocking factor\\\":2,\\\"delay factor\\\":3.0},\\\"nameSub\\\":\\\"MATH 2940\\\",\\\"id\\\":6676288918718624776,\\\"num\\\":\\\"2940\\\",\\\"credits\\\":3,\\\"prefix\\\":\\\"MATH\\\"},{\\\"curriculum_requisites\\\":[{\\\"source_id\\\":8235974756110151101,\\\"target_id\\\":4144726292938987559,\\\"type\\\":\\\"prereq\\\"}],\\\"name\\\":\\\"ENGRD 2xxx\\\",\\\"metrics\\\":{\\\"centrality\\\":0,\\\"complexity\\\":4.0,\\\"blocking factor\\\":0,\\\"delay factor\\\":4.0},\\\"nameSub\\\":\\\"ENGRD 2xxx\\\",\\\"id\\\":4144726292938987559,\\\"num\\\":\\\"2xxx\\\",\\\"credits\\\":3,\\\"prefix\\\":\\\"ENGRD\\\"},{\\\"curriculum_requisites\\\":[{\\\"source_id\\\":3325162549824349428,\\\"target_id\\\":1057118690338357938,\\\"type\\\":\\\"prereq\\\"},{\\\"source_id\\\":6676288918718624776,\\\"target_id\\\":1057118690338357938,\\\"type\\\":\\\"coreq\\\"}],\\\"name\\\":\\\"ECE/ENGRD 2200/2220\\\",\\\"metrics\\\":{\\\"centrality\\\":10,\\\"complexity\\\":5.0,\\\"blocking factor\\\":1,\\\"delay factor\\\":4.0},\\\"nameSub\\\":\\\"ECE 2200/ENGRD 2220\\\",\\\"id\\\":1057118690338357938,\\\"num\\\":\\\"2200/2220\\\",\\\"credits\\\":3,\\\"prefix\\\":\\\"ECE/ENGRD\\\"},{\\\"curriculum_requisites\\\":[],\\\"name\\\":\\\" \\\",\\\"metrics\\\":{\\\"centrality\\\":0,\\\"complexity\\\":1.0,\\\"blocking factor\\\":0,\\\"delay factor\\\":1.0},\\\"nameSub\\\":\\\"Liberal Studies\\\",\\\"id\\\":7405020695626068898,\\\"num\\\":\\\"\\\",\\\"credits\\\":3,\\\"prefix\\\":\\\"\\\"}],\\\"id\\\":4},{\\\"name\\\":\\\"Term 5\\\",\\\"curriculum_items\\\":[{\\\"curriculum_requisites\\\":[],\\\"name\\\":\\\" \\\",\\\"metrics\\\":{\\\"centrality\\\":0,\\\"complexity\\\":1.0,\\\"blocking factor\\\":0,\\\"delay factor\\\":1.0},\\\"nameSub\\\":\\\"ECE Foundations\\\",\\\"id\\\":3103415124466020093,\\\"num\\\":\\\"\\\",\\\"credits\\\":3,\\\"prefix\\\":\\\"\\\"},{\\\"curriculum_requisites\\\":[],\\\"name\\\":\\\" \\\",\\\"metrics\\\":{\\\"centrality\\\":0,\\\"complexity\\\":1.0,\\\"blocking factor\\\":0,\\\"delay factor\\\":1.0},\\\"nameSub\\\":\\\"Elective\\\",\\\"id\\\":6401834934519422575,\\\"num\\\":\\\"\\\",\\\"credits\\\":3,\\\"prefix\\\":\\\"\\\"},{\\\"curriculum_requisites\\\":[{\\\"source_id\\\":4860464975750941983,\\\"target_id\\\":8498564432258334371,\\\"type\\\":\\\"prereq\\\"}],\\\"name\\\":\\\" \\\",\\\"metrics\\\":{\\\"centrality\\\":0,\\\"complexity\\\":2.0,\\\"blocking factor\\\":0,\\\"delay factor\\\":2.0},\\\"nameSub\\\":\\\"Outside Tech. Elective\\\",\\\"id\\\":8498564432258334371,\\\"num\\\":\\\"\\\",\\\"credits\\\":3,\\\"prefix\\\":\\\"\\\"},{\\\"curriculum_requisites\\\":[{\\\"source_id\\\":4128684444630768225,\\\"target_id\\\":3831798649895813485,\\\"type\\\":\\\"prereq\\\"},{\\\"source_id\\\":8562026229982697755,\\\"target_id\\\":3831798649895813485,\\\"type\\\":\\\"prereq\\\"},{\\\"source_id\\\":1057118690338357938,\\\"target_id\\\":3831798649895813485,\\\"type\\\":\\\"prereq\\\"}],\\\"name\\\":\\\"ECE 3400\\\",\\\"metrics\\\":{\\\"centrality\\\":0,\\\"complexity\\\":5.0,\\\"blocking factor\\\":0,\\\"delay factor\\\":5.0},\\\"nameSub\\\":\\\"ECE 3400\\\",\\\"id\\\":3831798649895813485,\\\"num\\\":\\\"3400\\\",\\\"credits\\\":3,\\\"prefix\\\":\\\"ECE\\\"},{\\\"curriculum_requisites\\\":[],\\\"name\\\":\\\" \\\",\\\"metrics\\\":{\\\"centrality\\\":0,\\\"complexity\\\":1.0,\\\"blocking factor\\\":0,\\\"delay factor\\\":1.0},\\\"nameSub\\\":\\\"Liberal Studies\\\",\\\"id\\\":7405020695626068898,\\\"num\\\":\\\"\\\",\\\"credits\\\":3,\\\"prefix\\\":\\\"\\\"}],\\\"id\\\":5},{\\\"name\\\":\\\"Term 6\\\",\\\"curriculum_items\\\":[{\\\"curriculum_requisites\\\":[],\\\"name\\\":\\\" \\\",\\\"metrics\\\":{\\\"centrality\\\":0,\\\"complexity\\\":1.0,\\\"blocking factor\\\":0,\\\"delay factor\\\":1.0},\\\"nameSub\\\":\\\"ECE Foundations\\\",\\\"id\\\":3103415124466020093,\\\"num\\\":\\\"\\\",\\\"credits\\\":3,\\\"prefix\\\":\\\"\\\"},{\\\"curriculum_requisites\\\":[],\\\"name\\\":\\\" \\\",\\\"metrics\\\":{\\\"centrality\\\":0,\\\"complexity\\\":1.0,\\\"blocking factor\\\":0,\\\"delay factor\\\":1.0},\\\"nameSub\\\":\\\"ECE Foundations\\\",\\\"id\\\":3103415124466020093,\\\"num\\\":\\\"\\\",\\\"credits\\\":3,\\\"prefix\\\":\\\"\\\"},{\\\"curriculum_requisites\\\":[],\\\"name\\\":\\\" \\\",\\\"metrics\\\":{\\\"centrality\\\":0,\\\"complexity\\\":1.0,\\\"blocking factor\\\":0,\\\"delay factor\\\":1.0},\\\"nameSub\\\":\\\"Outside Tech. Elective\\\",\\\"id\\\":8498564432258334371,\\\"num\\\":\\\"\\\",\\\"credits\\\":3,\\\"prefix\\\":\\\"\\\"},{\\\"curriculum_requisites\\\":[],\\\"name\\\":\\\" \\\",\\\"metrics\\\":{\\\"centrality\\\":0,\\\"complexity\\\":1.0,\\\"blocking factor\\\":0,\\\"delay factor\\\":1.0},\\\"nameSub\\\":\\\"Elective\\\",\\\"id\\\":6401834934519422575,\\\"num\\\":\\\"\\\",\\\"credits\\\":3,\\\"prefix\\\":\\\"\\\"},{\\\"curriculum_requisites\\\":[],\\\"name\\\":\\\" \\\",\\\"metrics\\\":{\\\"centrality\\\":0,\\\"complexity\\\":1.0,\\\"blocking factor\\\":0,\\\"delay factor\\\":1.0},\\\"nameSub\\\":\\\"Liberal Studies\\\",\\\"id\\\":7405020695626068898,\\\"num\\\":\\\"\\\",\\\"credits\\\":3,\\\"prefix\\\":\\\"\\\"}],\\\"id\\\":6},{\\\"name\\\":\\\"Term 7\\\",\\\"curriculum_items\\\":[{\\\"curriculum_requisites\\\":[],\\\"name\\\":\\\" \\\",\\\"metrics\\\":{\\\"centrality\\\":0,\\\"complexity\\\":1.0,\\\"blocking factor\\\":0,\\\"delay factor\\\":1.0},\\\"nameSub\\\":\\\"ECE Elective \\\",\\\"id\\\":4052882504505960646,\\\"num\\\":\\\"\\\",\\\"credits\\\":3,\\\"prefix\\\":\\\"\\\"},{\\\"curriculum_requisites\\\":[],\\\"name\\\":\\\" \\\",\\\"metrics\\\":{\\\"centrality\\\":0,\\\"complexity\\\":1.0,\\\"blocking factor\\\":0,\\\"delay factor\\\":1.0},\\\"nameSub\\\":\\\"ECE Elective\\\",\\\"id\\\":3101766117420039194,\\\"num\\\":\\\"\\\",\\\"credits\\\":3,\\\"prefix\\\":\\\"\\\"},{\\\"curriculum_requisites\\\":[],\\\"name\\\":\\\" \\\",\\\"metrics\\\":{\\\"centrality\\\":0,\\\"complexity\\\":1.0,\\\"blocking factor\\\":0,\\\"delay factor\\\":1.0},\\\"nameSub\\\":\\\"Outside Tech. Elective\\\",\\\"id\\\":8498564432258334371,\\\"num\\\":\\\"\\\",\\\"credits\\\":3,\\\"prefix\\\":\\\"\\\"},{\\\"curriculum_requisites\\\":[],\\\"name\\\":\\\" \\\",\\\"metrics\\\":{\\\"centrality\\\":0,\\\"complexity\\\":1.0,\\\"blocking factor\\\":0,\\\"delay factor\\\":1.0},\\\"nameSub\\\":\\\"Liberal Studies\\\",\\\"id\\\":7405020695626068898,\\\"num\\\":\\\"\\\",\\\"credits\\\":3,\\\"prefix\\\":\\\"\\\"}],\\\"id\\\":7},{\\\"name\\\":\\\"Term 8\\\",\\\"curriculum_items\\\":[{\\\"curriculum_requisites\\\":[],\\\"name\\\":\\\" \\\",\\\"metrics\\\":{\\\"centrality\\\":0,\\\"complexity\\\":1.0,\\\"blocking factor\\\":0,\\\"delay factor\\\":1.0},\\\"nameSub\\\":\\\"ECE Elective\\\",\\\"id\\\":3101766117420039194,\\\"num\\\":\\\"\\\",\\\"credits\\\":3,\\\"prefix\\\":\\\"\\\"},{\\\"curriculum_requisites\\\":[],\\\"name\\\":\\\" \\\",\\\"metrics\\\":{\\\"centrality\\\":0,\\\"complexity\\\":1.0,\\\"blocking factor\\\":0,\\\"delay factor\\\":1.0},\\\"nameSub\\\":\\\"ECE Elective\\\",\\\"id\\\":3101766117420039194,\\\"num\\\":\\\"\\\",\\\"credits\\\":3,\\\"prefix\\\":\\\"\\\"},{\\\"curriculum_requisites\\\":[],\\\"name\\\":\\\" \\\",\\\"metrics\\\":{\\\"centrality\\\":0,\\\"complexity\\\":1.0,\\\"blocking factor\\\":0,\\\"delay factor\\\":1.0},\\\"nameSub\\\":\\\"ECE Elective\\\",\\\"id\\\":3101766117420039194,\\\"num\\\":\\\"\\\",\\\"credits\\\":3,\\\"prefix\\\":\\\"\\\"},{\\\"curriculum_requisites\\\":[],\\\"name\\\":\\\" \\\",\\\"metrics\\\":{\\\"centrality\\\":0,\\\"complexity\\\":1.0,\\\"blocking factor\\\":0,\\\"delay factor\\\":1.0},\\\"nameSub\\\":\\\"Liberal Studies\\\",\\\"id\\\":7405020695626068898,\\\"num\\\":\\\"\\\",\\\"credits\\\":3,\\\"prefix\\\":\\\"\\\"}],\\\"id\\\":8}]}},\\\"*\\\"); window.removeEventListener(\\\"message\\\",window.messageReceived); window.messageReceived=(function (event){return (event.data.curriculum!==undefined) ? (_webIOScope.setObservableValue({\\\"name\\\":\\\"curriculum-data\\\",\\\"scope\\\":\\\"scope-f4c0aaf0-5b54-47d1-ae47-dc929ee432e2\\\",\\\"id\\\":\\\"ob_03\\\",\\\"type\\\":\\\"observable\\\"},event.data.curriculum)) : undefined}); return window.addEventListener(\\\"message\\\",window.messageReceived)})\")),:style=>Dict(:padding=>\"0\",:height=>\"100vh\",:margin=>\"0\",:border=>\"none\",:width=>\"100%\")), 1), Dict{String,Tuple{Observables.AbstractObservable,Union{Nothing, Bool}}}(\"curriculum-data\"=>(Observable{Dict{String,Any}} with 1 listeners. Value:\n",
       "Dict{String,Any}(\"curriculum\"=>Dict{String,Any}(\"name\"=>\"University of Houston EE Program 4-year Plan\",\"curriculum_terms\"=>Any[Dict{String,Any}(\"name\"=>\"Term 1\",\"curriculum_items\"=>Any[Dict{String,Any}(\"curriculum_requisites\"=>Any[],\"name\"=>\"CHEM 2090\",\"metrics\"=>Dict{String,Any}(\"centrality\"=>0,\"complexity\"=>1.0,\"blocking factor\"=>0,\"delay factor\"=>1.0),\"nameSub\"=>\"CHEM 2090\",\"id\"=>7068313545565755395,\"num\"=>\"2090\",\"credits\"=>3,\"prefix\"=>\"CHEM\"), Dict{String,Any}(\"curriculum_requisites\"=>Any[],\"name\"=>\"MATH 1910\",\"metrics\"=>Dict{String,Any}(\"centrality\"=>0,\"complexity\"=>15.0,\"blocking factor\"=>10,\"delay factor\"=>5.0),\"nameSub\"=>\"MATH 1910\",\"id\"=>1707017729329769916,\"num\"=>\"1910\",\"credits\"=>3,\"prefix\"=>\"MATH\"), Dict{String,Any}(\"curriculum_requisites\"=>Any[],\"name\"=>\"ENGRI 1xxx\",\"metrics\"=>Dict{String,Any}(\"centrality\"=>0,\"complexity\"=>1.0,\"blocking factor\"=>0,\"delay factor\"=>1.0),\"nameSub\"=>\"ENGRI 1xxx\",\"id\"=>1723960521387587606,\"num\"=>\"1xxx\",\"credits\"=>3,\"prefix\"=>\"ENGRI\"), Dict{String,Any}(\"curriculum_requisites\"=>Any[],\"name\"=>\" \",\"metrics\"=>Dict{String,Any}(\"centrality\"=>0,\"complexity\"=>1.0,\"blocking factor\"=>0,\"delay factor\"=>1.0),\"nameSub\"=>\"1st Yr Writing Seminar\",\"id\"=>8770489525253060652,\"num\"=>\"\",\"credits\"=>3,\"prefix\"=>\"\"), Dict{String,Any}(\"curriculum_requisites\"=>Any[],\"name\"=>\" \",\"metrics\"=>Dict{String,Any}(\"centrality\"=>0,\"complexity\"=>1.0,\"blocking factor\"=>0,\"delay factor\"=>1.0),\"nameSub\"=>\"PE\",\"id\"=>1219938783301979825,\"num\"=>\"\",\"credits\"=>3,\"prefix\"=>\"\")],\"id\"=>1), Dict{String,Any}(\"name\"=>\"Term 2\",\"curriculum_items\"=>Any[Dict{String,Any}(\"curriculum_requisites\"=>Any[Dict{String,Any}(\"source_id\"=>1707017729329769916,\"target_id\"=>7361622186349540665,\"type\"=>\"prereq\")],\"name\"=>\"PHYS 1112\",\"metrics\"=>Dict{String,Any}(\"centrality\"=>9,\"complexity\"=>9.0,\"blocking factor\"=>4,\"delay factor\"=>5.0),\"nameSub\"=>\"PHYS 1112\",\"id\"=>7361622186349540665,\"num\"=>\"1112\",\"credits\"=>3,\"prefix\"=>\"PHYS\"), Dict{String,Any}(\"curriculum_requisites\"=>Any[Dict{String,Any}(\"source_id\"=>1707017729329769916,\"target_id\"=>5953607625038722188,\"type\"=>\"prereq\")],\"name\"=>\"MATH 1920\",\"metrics\"=>Dict{String,Any}(\"centrality\"=>28,\"complexity\"=>12.0,\"blocking factor\"=>8,\"delay factor\"=>4.0),\"nameSub\"=>\"MATH 1920\",\"id\"=>5953607625038722188,\"num\"=>\"1920\",\"credits\"=>3,\"prefix\"=>\"MATH\"), Dict{String,Any}(\"curriculum_requisites\"=>Any[],\"name\"=>\"CS 111x\",\"metrics\"=>Dict{String,Any}(\"centrality\"=>0,\"complexity\"=>6.0,\"blocking factor\"=>3,\"delay factor\"=>3.0),\"nameSub\"=>\"CS 111x\",\"id\"=>4860464975750941983,\"num\"=>\"111x\",\"credits\"=>3,\"prefix\"=>\"CS\"), Dict{String,Any}(\"curriculum_requisites\"=>Any[],\"name\"=>\" \",\"metrics\"=>Dict{String,Any}(\"centrality\"=>0,\"complexity\"=>1.0,\"blocking factor\"=>0,\"delay factor\"=>1.0),\"nameSub\"=>\"1st Yr Writing Seminar\",\"id\"=>2735134719261447963,\"num\"=>\"\",\"credits\"=>3,\"prefix\"=>\"\"), Dict{String,Any}(\"curriculum_requisites\"=>Any[],\"name\"=>\" \",\"metrics\"=>Dict{String,Any}(\"centrality\"=>0,\"complexity\"=>1.0,\"blocking factor\"=>0,\"delay factor\"=>1.0),\"nameSub\"=>\"PE\",\"id\"=>857458110203130704,\"num\"=>\"\",\"credits\"=>3,\"prefix\"=>\"\")],\"id\"=>2), Dict{String,Any}(\"name\"=>\"Term 3\",\"curriculum_items\"=>Any[Dict{String,Any}(\"curriculum_requisites\"=>Any[Dict{String,Any}(\"source_id\"=>5953607625038722188,\"target_id\"=>8235974756110151101,\"type\"=>\"prereq\"), Dict{String,Any}(\"source_id\"=>7361622186349540665,\"target_id\"=>8235974756110151101,\"type\"=>\"prereq\")],\"name\"=>\"PHYS 2213\",\"metrics\"=>Dict{String,Any}(\"centrality\"=>18,\"complexity\"=>8.0,\"blocking factor\"=>3,\"delay factor\"=>5.0),\"nameSub\"=>\"PHYS 2213\",\"id\"=>8235974756110151101,\"num\"=>\"2213\",\"credits\"=>3,\"prefix\"=>\"PHYS\"), Dict{String,Any}(\"curriculum_requisites\"=>Any[Dict{String,Any}(\"source_id\"=>5953607625038722188,\"target_id\"=>3325162549824349428,\"type\"=>\"prereq\")],\"name\"=>\"MATH 2930\",\"metrics\"=>Dict{String,Any}(\"centrality\"=>14,\"complexity\"=>8.0,\"blocking factor\"=>4,\"delay factor\"=>4.0),\"nameSub\"=>\"MATH 2930\",\"id\"=>3325162549824349428,\"num\"=>\"2930\",\"credits\"=>3,\"prefix\"=>\"MATH\"), Dict{String,Any}(\"curriculum_requisites\"=>Any[Dict{String,Any}(\"source_id\"=>8235974756110151101,\"target_id\"=>8562026229982697755,\"type\"=>\"coreq\"), Dict{String,Any}(\"source_id\"=>3325162549824349428,\"target_id\"=>8562026229982697755,\"type\"=>\"coreq\")],\"name\"=>\"ECE/ENGRD 2100\",\"metrics\"=>Dict{String,Any}(\"centrality\"=>15,\"complexity\"=>6.0,\"blocking factor\"=>1,\"delay factor\"=>5.0),\"nameSub\"=>\"ECE/ENGRD 2100\",\"id\"=>8562026229982697755,\"num\"=>\"2100\",\"credits\"=>3,\"prefix\"=>\"ECE/ENGRD\"), Dict{String,Any}(\"curriculum_requisites\"=>Any[Dict{String,Any}(\"source_id\"=>4860464975750941983,\"target_id\"=>4128684444630768225,\"type\"=>\"prereq\")],\"name\"=>\"MECE/ENGRD 2300\",\"metrics\"=>Dict{String,Any}(\"centrality\"=>3,\"complexity\"=>4.0,\"blocking factor\"=>1,\"delay factor\"=>3.0),\"nameSub\"=>\"MECE/ENGRD 2300\",\"id\"=>4128684444630768225,\"num\"=>\"2300\",\"credits\"=>3,\"prefix\"=>\"MECE/ENGRD\"), Dict{String,Any}(\"curriculum_requisites\"=>Any[],\"name\"=>\" \",\"metrics\"=>Dict{String,Any}(\"centrality\"=>0,\"complexity\"=>1.0,\"blocking factor\"=>0,\"delay factor\"=>1.0),\"nameSub\"=>\"Liberal Studies\",\"id\"=>7405020695626068898,\"num\"=>\"\",\"credits\"=>3,\"prefix\"=>\"\")],\"id\"=>3), Dict{String,Any}(\"name\"=>\"Term 4\",\"curriculum_items\"=>Any[Dict{String,Any}(\"curriculum_requisites\"=>Any[Dict{String,Any}(\"source_id\"=>3325162549824349428,\"target_id\"=>315822138579407596,\"type\"=>\"coreq\")],\"name\"=>\"PHYS 2214\",\"metrics\"=>Dict{String,Any}(\"centrality\"=>0,\"complexity\"=>4.0,\"blocking factor\"=>0,\"delay factor\"=>4.0),\"nameSub\"=>\"PHYS 2214\",\"id\"=>315822138579407596,\"num\"=>\"2214\",\"credits\"=>3,\"prefix\"=>\"PHYS\"), Dict{String,Any}(\"curriculum_requisites\"=>Any[Dict{String,Any}(\"source_id\"=>5953607625038722188,\"target_id\"=>6676288918718624776,\"type\"=>\"prereq\")],\"name\"=>\"MATH 2940\",\"metrics\"=>Dict{String,Any}(\"centrality\"=>5,\"complexity\"=>5.0,\"blocking factor\"=>2,\"delay factor\"=>3.0),\"nameSub\"=>\"MATH 2940\",\"id\"=>6676288918718624776,\"num\"=>\"2940\",\"credits\"=>3,\"prefix\"=>\"MATH\"), Dict{String,Any}(\"curriculum_requisites\"=>Any[Dict{String,Any}(\"source_id\"=>8235974756110151101,\"target_id\"=>4144726292938987559,\"type\"=>\"prereq\")],\"name\"=>\"ENGRD 2xxx\",\"metrics\"=>Dict{String,Any}(\"centrality\"=>0,\"complexity\"=>4.0,\"blocking factor\"=>0,\"delay factor\"=>4.0),\"nameSub\"=>\"ENGRD 2xxx\",\"id\"=>4144726292938987559,\"num\"=>\"2xxx\",\"credits\"=>3,\"prefix\"=>\"ENGRD\"), Dict{String,Any}(\"curriculum_requisites\"=>Any[Dict{String,Any}(\"source_id\"=>3325162549824349428,\"target_id\"=>1057118690338357938,\"type\"=>\"prereq\"), Dict{String,Any}(\"source_id\"=>6676288918718624776,\"target_id\"=>1057118690338357938,\"type\"=>\"coreq\")],\"name\"=>\"ECE/ENGRD 2200/2220\",\"metrics\"=>Dict{String,Any}(\"centrality\"=>10,\"complexity\"=>5.0,\"blocking factor\"=>1,\"delay factor\"=>4.0),\"nameSub\"=>\"ECE 2200/ENGRD 2220\",\"id\"=>1057118690338357938,\"num\"=>\"2200/2220\",\"credits\"=>3,\"prefix\"=>\"ECE/ENGRD\"), Dict{String,Any}(\"curriculum_requisites\"=>Any[],\"name\"=>\" \",\"metrics\"=>Dict{String,Any}(\"centrality\"=>0,\"complexity\"=>1.0,\"blocking factor\"=>0,\"delay factor\"=>1.0),\"nameSub\"=>\"Liberal Studies\",\"id\"=>7405020695626068898,\"num\"=>\"\",\"credits\"=>3,\"prefix\"=>\"\")],\"id\"=>4), Dict{String,Any}(\"name\"=>\"Term 5\",\"curriculum_items\"=>Any[Dict{String,Any}(\"curriculum_requisites\"=>Any[],\"name\"=>\" \",\"metrics\"=>Dict{String,Any}(\"centrality\"=>0,\"complexity\"=>1.0,\"blocking factor\"=>0,\"delay factor\"=>1.0),\"nameSub\"=>\"ECE Foundations\",\"id\"=>3103415124466020093,\"num\"=>\"\",\"credits\"=>3,\"prefix\"=>\"\"), Dict{String,Any}(\"curriculum_requisites\"=>Any[],\"name\"=>\" \",\"metrics\"=>Dict{String,Any}(\"centrality\"=>0,\"complexity\"=>1.0,\"blocking factor\"=>0,\"delay factor\"=>1.0),\"nameSub\"=>\"Elective\",\"id\"=>6401834934519422575,\"num\"=>\"\",\"credits\"=>3,\"prefix\"=>\"\"), Dict{String,Any}(\"curriculum_requisites\"=>Any[Dict{String,Any}(\"source_id\"=>4860464975750941983,\"target_id\"=>8498564432258334371,\"type\"=>\"prereq\")],\"name\"=>\" \",\"metrics\"=>Dict{String,Any}(\"centrality\"=>0,\"complexity\"=>2.0,\"blocking factor\"=>0,\"delay factor\"=>2.0),\"nameSub\"=>\"Outside Tech. Elective\",\"id\"=>8498564432258334371,\"num\"=>\"\",\"credits\"=>3,\"prefix\"=>\"\"), Dict{String,Any}(\"curriculum_requisites\"=>Any[Dict{String,Any}(\"source_id\"=>4128684444630768225,\"target_id\"=>3831798649895813485,\"type\"=>\"prereq\"), Dict{String,Any}(\"source_id\"=>8562026229982697755,\"target_id\"=>3831798649895813485,\"type\"=>\"prereq\"), Dict{String,Any}(\"source_id\"=>1057118690338357938,\"target_id\"=>3831798649895813485,\"type\"=>\"prereq\")],\"name\"=>\"ECE 3400\",\"metrics\"=>Dict{String,Any}(\"centrality\"=>0,\"complexity\"=>5.0,\"blocking factor\"=>0,\"delay factor\"=>5.0),\"nameSub\"=>\"ECE 3400\",\"id\"=>3831798649895813485,\"num\"=>\"3400\",\"credits\"=>3,\"prefix\"=>\"ECE\"), Dict{String,Any}(\"curriculum_requisites\"=>Any[],\"name\"=>\" \",\"metrics\"=>Dict{String,Any}(\"centrality\"=>0,\"complexity\"=>1.0,\"blocking factor\"=>0,\"delay factor\"=>1.0),\"nameSub\"=>\"Liberal Studies\",\"id\"=>7405020695626068898,\"num\"=>\"\",\"credits\"=>3,\"prefix\"=>\"\")],\"id\"=>5), Dict{String,Any}(\"name\"=>\"Term 6\",\"curriculum_items\"=>Any[Dict{String,Any}(\"curriculum_requisites\"=>Any[],\"name\"=>\" \",\"metrics\"=>Dict{String,Any}(\"centrality\"=>0,\"complexity\"=>1.0,\"blocking factor\"=>0,\"delay factor\"=>1.0),\"nameSub\"=>\"ECE Foundations\",\"id\"=>3103415124466020093,\"num\"=>\"\",\"credits\"=>3,\"prefix\"=>\"\"), Dict{String,Any}(\"curriculum_requisites\"=>Any[],\"name\"=>\" \",\"metrics\"=>Dict{String,Any}(\"centrality\"=>0,\"complexity\"=>1.0,\"blocking factor\"=>0,\"delay factor\"=>1.0),\"nameSub\"=>\"ECE Foundations\",\"id\"=>3103415124466020093,\"num\"=>\"\",\"credits\"=>3,\"prefix\"=>\"\"), Dict{String,Any}(\"curriculum_requisites\"=>Any[],\"name\"=>\" \",\"metrics\"=>Dict{String,Any}(\"centrality\"=>0,\"complexity\"=>1.0,\"blocking factor\"=>0,\"delay factor\"=>1.0),\"nameSub\"=>\"Outside Tech. Elective\",\"id\"=>8498564432258334371,\"num\"=>\"\",\"credits\"=>3,\"prefix\"=>\"\"), Dict{String,Any}(\"curriculum_requisites\"=>Any[],\"name\"=>\" \",\"metrics\"=>Dict{String,Any}(\"centrality\"=>0,\"complexity\"=>1.0,\"blocking factor\"=>0,\"delay factor\"=>1.0),\"nameSub\"=>\"Elective\",\"id\"=>6401834934519422575,\"num\"=>\"\",\"credits\"=>3,\"prefix\"=>\"\"), Dict{String,Any}(\"curriculum_requisites\"=>Any[],\"name\"=>\" \",\"metrics\"=>Dict{String,Any}(\"centrality\"=>0,\"complexity\"=>1.0,\"blocking factor\"=>0,\"delay factor\"=>1.0),\"nameSub\"=>\"Liberal Studies\",\"id\"=>7405020695626068898,\"num\"=>\"\",\"credits\"=>3,\"prefix\"=>\"\")],\"id\"=>6), Dict{String,Any}(\"name\"=>\"Term 7\",\"curriculum_items\"=>Any[Dict{String,Any}(\"curriculum_requisites\"=>Any[],\"name\"=>\" \",\"metrics\"=>Dict{String,Any}(\"centrality\"=>0,\"complexity\"=>1.0,\"blocking factor\"=>0,\"delay factor\"=>1.0),\"nameSub\"=>\"ECE Elective \",\"id\"=>4052882504505960646,\"num\"=>\"\",\"credits\"=>3,\"prefix\"=>\"\"), Dict{String,Any}(\"curriculum_requisites\"=>Any[],\"name\"=>\" \",\"metrics\"=>Dict{String,Any}(\"centrality\"=>0,\"complexity\"=>1.0,\"blocking factor\"=>0,\"delay factor\"=>1.0),\"nameSub\"=>\"ECE Elective\",\"id\"=>3101766117420039194,\"num\"=>\"\",\"credits\"=>3,\"prefix\"=>\"\"), Dict{String,Any}(\"curriculum_requisites\"=>Any[],\"name\"=>\" \",\"metrics\"=>Dict{String,Any}(\"centrality\"=>0,\"complexity\"=>1.0,\"blocking factor\"=>0,\"delay factor\"=>1.0),\"nameSub\"=>\"Outside Tech. Elective\",\"id\"=>8498564432258334371,\"num\"=>\"\",\"credits\"=>3,\"prefix\"=>\"\"), Dict{String,Any}(\"curriculum_requisites\"=>Any[],\"name\"=>\" \",\"metrics\"=>Dict{String,Any}(\"centrality\"=>0,\"complexity\"=>1.0,\"blocking factor\"=>0,\"delay factor\"=>1.0),\"nameSub\"=>\"Liberal Studies\",\"id\"=>7405020695626068898,\"num\"=>\"\",\"credits\"=>3,\"prefix\"=>\"\")],\"id\"=>7), Dict{String,Any}(\"name\"=>\"Term 8\",\"curriculum_items\"=>Any[Dict{String,Any}(\"curriculum_requisites\"=>Any[],\"name\"=>\" \",\"metrics\"=>Dict{String,Any}(\"centrality\"=>0,\"complexity\"=>1.0,\"blocking factor\"=>0,\"delay factor\"=>1.0),\"nameSub\"=>\"ECE Elective\",\"id\"=>3101766117420039194,\"num\"=>\"\",\"credits\"=>3,\"prefix\"=>\"\"), Dict{String,Any}(\"curriculum_requisites\"=>Any[],\"name\"=>\" \",\"metrics\"=>Dict{String,Any}(\"centrality\"=>0,\"complexity\"=>1.0,\"blocking factor\"=>0,\"delay factor\"=>1.0),\"nameSub\"=>\"ECE Elective\",\"id\"=>3101766117420039194,\"num\"=>\"\",\"credits\"=>3,\"prefix\"=>\"\"), Dict{String,Any}(\"curriculum_requisites\"=>Any[],\"name\"=>\" \",\"metrics\"=>Dict{String,Any}(\"centrality\"=>0,\"complexity\"=>1.0,\"blocking factor\"=>0,\"delay factor\"=>1.0),\"nameSub\"=>\"ECE Elective\",\"id\"=>3101766117420039194,\"num\"=>\"\",\"credits\"=>3,\"prefix\"=>\"\"), Dict{String,Any}(\"curriculum_requisites\"=>Any[],\"name\"=>\" \",\"metrics\"=>Dict{String,Any}(\"centrality\"=>0,\"complexity\"=>1.0,\"blocking factor\"=>0,\"delay factor\"=>1.0),\"nameSub\"=>\"Liberal Studies\",\"id\"=>7405020695626068898,\"num\"=>\"\",\"credits\"=>3,\"prefix\"=>\"\")],\"id\"=>8)])), nothing)), Set(String[]), nothing, Any[], Dict{Any,Any}(), WebIO.ConnectionPool(Channel{Any}(sz_max:9223372036854775807,sz_curr:0), Set(WebIO.AbstractConnection[]), Channel{WebIO.AbstractConnection}(sz_max:32,sz_curr:0)))"
      ]
     },
     "execution_count": 4,
     "metadata": {
      "application/vnd.webio.node+json": {
       "kernelId": "a07c1701-4d0a-4b7e-b1a7-9686e2732638"
      }
     },
     "output_type": "execute_result"
    }
   ],
   "source": [
    "#This cell will also read a csv file create a degree plan without exporting to json.\n",
    "#\n",
    "#Activate CurricularAnalytics package and add it\n",
    "using Pkg\n",
    "pkg\"activate .\"\n",
    "using CurricularAnalytics\n",
    "#read Classes from csv file and return list of classes and terms\n",
    "c, terms = read_from_csv(\"examples/CornellECECources.csv\")\n",
    "#Create curriculum from list of classes\n",
    "curric = Curriculum(\"University of Houston EE Program\", c)\n",
    "errors = IOBuffer()\n",
    "if isvalid_curriculum(curric, errors)\n",
    "    println(\"Curriculum $(curric.name) is valid\")\n",
    "    println(\"  delay factor = $(delay_factor(curric))\")\n",
    "    println(\"  blocking factor = $(blocking_factor(curric))\")\n",
    "    println(\"  centrality factor = $(centrality(curric))\")\n",
    "    println(\"  curricular complexity = $(complexity(curric))\")\n",
    "    dp = DegreePlan(\"University of Houston EE Program 4-year Plan\", curric, terms)\n",
    "    take!(errors) # clear the IO buffer\n",
    "    if isvalid_degree_plan(dp, errors)\n",
    "        println(\"Degree plan $(dp.name) is valid\")\n",
    "    else\n",
    "        println(\"Degree plan $(dp.name) is not valid:\")\n",
    "        print(String(take!(errors)))\n",
    "        println(\"\\nDiplaying degree plan for debugging purposes...\")\n",
    "    end\n",
    "    visualize_jupyter(dp)\n",
    "\n",
    "else # invalid curriculum\n",
    "    println(\"Curriculum $(curric.name) is not valid:\")\n",
    "    print(String(take!(errors)))\n",
    "end"
   ]
  },
  {
   "cell_type": "code",
   "execution_count": null,
   "metadata": {
    "collapsed": true
   },
   "outputs": [],
   "source": []
  }
 ],
 "metadata": {
  "@webio": {
   "lastCommId": "EACA472700364B378AB3C3E8B413C714",
   "lastKernelId": "a07c1701-4d0a-4b7e-b1a7-9686e2732638"
  },
  "kernelspec": {
   "display_name": "Julia 1.0.0",
   "language": "julia",
   "name": "julia-1.0"
  },
  "language_info": {
   "file_extension": ".jl",
   "mimetype": "application/julia",
   "name": "julia",
   "version": "1.0.0"
  }
 },
 "nbformat": 4,
 "nbformat_minor": 2
}

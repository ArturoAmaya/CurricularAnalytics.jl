{
 "cells": [
  {
   "cell_type": "markdown",
   "metadata": {},
   "source": [
    "First we need to move our worjking directory to the CurricularAnalytics.jl\n",
    "Next cell needs to be run after each start"
   ]
  },
  {
   "cell_type": "code",
   "execution_count": 2,
   "metadata": {},
   "outputs": [
    {
     "name": "stdout",
     "output_type": "stream",
     "text": [
      "Current directory: CurricularAnalytics.jl\n"
     ]
    }
   ],
   "source": [
    "if split(pwd(),Base.Filesystem.path_separator)[end] != \"CurricularAnalytics.jl\"\n",
    "    cd(\"../..\")\n",
    "end\n",
    "println(\"Current directory: \" * split(pwd(),Base.Filesystem.path_separator)[end])"
   ]
  },
  {
   "cell_type": "code",
   "execution_count": 3,
   "metadata": {},
   "outputs": [
    {
     "name": "stdout",
     "output_type": "stream",
     "text": [
      "Current directory: CurricularAnalytics.jl\n",
      "Curriculum  is valid\n",
      "  delay factor = (80.0, [1.0, 5.0, 1.0, 1.0, 1.0, 5.0, 4.0, 3.0, 1.0, 1.0, 5.0, 4.0, 5.0, 3.0, 1.0, 4.0, 3.0, 4.0, 4.0, 1.0, 1.0, 1.0, 2.0, 5.0, 1.0, 1.0, 1.0, 1.0, 1.0, 1.0, 1.0, 1.0, 1.0, 1.0, 1.0, 1.0, 1.0, 1.0])\n",
      "  blocking factor = (37, [0, 10, 0, 0, 0, 4, 8, 3, 0, 0, 3, 4, 1, 1, 0, 0, 2, 0, 1, 0, 0, 0, 0, 0, 0, 0, 0, 0, 0, 0, 0, 0, 0, 0, 0, 0, 0, 0])\n",
      "  centrality factor = (102, [0, 0, 0, 0, 0, 9, 28, 0, 0, 0, 18, 14, 15, 3, 0, 0, 5, 0, 10, 0, 0, 0, 0, 0, 0, 0, 0, 0, 0, 0, 0, 0, 0, 0, 0, 0, 0, 0])\n",
      "  curricular complexity = (117.0, Number[1.0, 15.0, 1.0, 1.0, 1.0, 9.0, 12.0, 6.0, 1.0, 1.0, 8.0, 8.0, 6.0, 4.0, 1.0, 4.0, 5.0, 4.0, 5.0, 1.0, 1.0, 1.0, 2.0, 5.0, 1.0, 1.0, 1.0, 1.0, 1.0, 1.0, 1.0, 1.0, 1.0, 1.0, 1.0, 1.0, 1.0, 1.0])\n",
      "Degree plan  is valid\n"
     ]
    },
    {
     "data": {
      "application/vnd.webio.node+json": {
       "children": [
        {
         "children": [
          ""
         ],
         "instanceArgs": {
          "namespace": "html",
          "tag": "iframe"
         },
         "nodeType": "DOM",
         "props": {
          "events": {
           "load": "(function (){this.contentWindow.postMessage({\"options\":{\"hideTerms\":false,\"edit\":true},\"name\":\"\",\"curriculum\":{\"name\":\"\",\"curriculum_terms\":[{\"name\":\"Term 1\",\"curriculum_items\":[{\"curriculum_requisites\":[],\"name\":\"CHEM 2090\",\"metrics\":{\"centrality\":0,\"complexity\":1.0,\"blocking factor\":0,\"delay factor\":1.0},\"canonical_name\":\"\",\"nameSub\":\"CHEM 2090\",\"id\":1,\"num\":\"2090\",\"credits\":3,\"institution\":\"\",\"prefix\":\"CHEM\"},{\"curriculum_requisites\":[],\"name\":\"MATH 1910\",\"metrics\":{\"centrality\":0,\"complexity\":15.0,\"blocking factor\":10,\"delay factor\":5.0},\"canonical_name\":\"\",\"nameSub\":\"MATH 1910\",\"id\":2,\"num\":\"1910\",\"credits\":3,\"institution\":\"\",\"prefix\":\"MATH\"},{\"curriculum_requisites\":[],\"name\":\"ENGRI 1xxx\",\"metrics\":{\"centrality\":0,\"complexity\":1.0,\"blocking factor\":0,\"delay factor\":1.0},\"canonical_name\":\"\",\"nameSub\":\"ENGRI 1xxx\",\"id\":3,\"num\":\"1xxx\",\"credits\":3,\"institution\":\"\",\"prefix\":\"ENGRI\"},{\"curriculum_requisites\":[],\"name\":\" \",\"metrics\":{\"centrality\":0,\"complexity\":1.0,\"blocking factor\":0,\"delay factor\":1.0},\"canonical_name\":\"\",\"nameSub\":\"1st Yr Writing Seminar\",\"id\":4,\"num\":\"\",\"credits\":3,\"institution\":\"\",\"prefix\":\"\"},{\"curriculum_requisites\":[],\"name\":\" \",\"metrics\":{\"centrality\":0,\"complexity\":1.0,\"blocking factor\":0,\"delay factor\":1.0},\"canonical_name\":\"\",\"nameSub\":\"PE\",\"id\":5,\"num\":\"\",\"credits\":3,\"institution\":\"\",\"prefix\":\"\"}],\"id\":1},{\"name\":\"Term 2\",\"curriculum_items\":[{\"curriculum_requisites\":[{\"source_id\":2,\"target_id\":6,\"type\":\"strict-coreq\"}],\"name\":\"PHYS 1112\",\"metrics\":{\"centrality\":9,\"complexity\":9.0,\"blocking factor\":4,\"delay factor\":5.0},\"canonical_name\":\"\",\"nameSub\":\"PHYS 1112\",\"id\":6,\"num\":\"1112\",\"credits\":3,\"institution\":\"\",\"prefix\":\"PHYS\"},{\"curriculum_requisites\":[{\"source_id\":2,\"target_id\":7,\"type\":\"strict-coreq\"}],\"name\":\"MATH 1920\",\"metrics\":{\"centrality\":28,\"complexity\":12.0,\"blocking factor\":8,\"delay factor\":4.0},\"canonical_name\":\"\",\"nameSub\":\"MATH 1920\",\"id\":7,\"num\":\"1920\",\"credits\":3,\"institution\":\"\",\"prefix\":\"MATH\"},{\"curriculum_requisites\":[],\"name\":\"CS 111x\",\"metrics\":{\"centrality\":0,\"complexity\":6.0,\"blocking factor\":3,\"delay factor\":3.0},\"canonical_name\":\"\",\"nameSub\":\"CS 111x\",\"id\":8,\"num\":\"111x\",\"credits\":3,\"institution\":\"\",\"prefix\":\"CS\"},{\"curriculum_requisites\":[],\"name\":\" \",\"metrics\":{\"centrality\":0,\"complexity\":1.0,\"blocking factor\":0,\"delay factor\":1.0},\"canonical_name\":\"\",\"nameSub\":\"1st Yr Writing Seminar\",\"id\":9,\"num\":\"\",\"credits\":3,\"institution\":\"\",\"prefix\":\"\"},{\"curriculum_requisites\":[],\"name\":\" \",\"metrics\":{\"centrality\":0,\"complexity\":1.0,\"blocking factor\":0,\"delay factor\":1.0},\"canonical_name\":\"\",\"nameSub\":\"PE\",\"id\":10,\"num\":\"\",\"credits\":3,\"institution\":\"\",\"prefix\":\"\"}],\"id\":2},{\"name\":\"Term 3\",\"curriculum_items\":[{\"curriculum_requisites\":[{\"source_id\":7,\"target_id\":11,\"type\":\"strict-coreq\"},{\"source_id\":6,\"target_id\":11,\"type\":\"strict-coreq\"}],\"name\":\"PHYS 2213\",\"metrics\":{\"centrality\":18,\"complexity\":8.0,\"blocking factor\":3,\"delay factor\":5.0},\"canonical_name\":\"\",\"nameSub\":\"PHYS 2213\",\"id\":11,\"num\":\"2213\",\"credits\":3,\"institution\":\"\",\"prefix\":\"PHYS\"},{\"curriculum_requisites\":[{\"source_id\":7,\"target_id\":12,\"type\":\"strict-coreq\"}],\"name\":\"MATH 2930\",\"metrics\":{\"centrality\":14,\"complexity\":8.0,\"blocking factor\":4,\"delay factor\":4.0},\"canonical_name\":\"\",\"nameSub\":\"MATH 2930\",\"id\":12,\"num\":\"2930\",\"credits\":3,\"institution\":\"\",\"prefix\":\"MATH\"},{\"curriculum_requisites\":[{\"source_id\":11,\"target_id\":13,\"type\":\"strict-coreq\"},{\"source_id\":12,\"target_id\":13,\"type\":\"strict-coreq\"}],\"name\":\"ECE/ENGRD 2100\",\"metrics\":{\"centrality\":15,\"complexity\":6.0,\"blocking factor\":1,\"delay factor\":5.0},\"canonical_name\":\"\",\"nameSub\":\"ECE/ENGRD 2100\",\"id\":13,\"num\":\"2100\",\"credits\":3,\"institution\":\"\",\"prefix\":\"ECE/ENGRD\"},{\"curriculum_requisites\":[{\"source_id\":8,\"target_id\":14,\"type\":\"strict-coreq\"}],\"name\":\"MECE/ENGRD 2300\",\"metrics\":{\"centrality\":3,\"complexity\":4.0,\"blocking factor\":1,\"delay factor\":3.0},\"canonical_name\":\"\",\"nameSub\":\"MECE/ENGRD 2300\",\"id\":14,\"num\":\"2300\",\"credits\":3,\"institution\":\"\",\"prefix\":\"MECE/ENGRD\"},{\"curriculum_requisites\":[],\"name\":\" \",\"metrics\":{\"centrality\":0,\"complexity\":1.0,\"blocking factor\":0,\"delay factor\":1.0},\"canonical_name\":\"\",\"nameSub\":\"Liberal Studies\",\"id\":15,\"num\":\"\",\"credits\":3,\"institution\":\"\",\"prefix\":\"\"}],\"id\":3},{\"name\":\"Term 4\",\"curriculum_items\":[{\"curriculum_requisites\":[{\"source_id\":12,\"target_id\":16,\"type\":\"strict-coreq\"}],\"name\":\"PHYS 2214\",\"metrics\":{\"centrality\":0,\"complexity\":4.0,\"blocking factor\":0,\"delay factor\":4.0},\"canonical_name\":\"\",\"nameSub\":\"PHYS 2214\",\"id\":16,\"num\":\"2214\",\"credits\":3,\"institution\":\"\",\"prefix\":\"PHYS\"},{\"curriculum_requisites\":[{\"source_id\":7,\"target_id\":17,\"type\":\"strict-coreq\"}],\"name\":\"MATH 2940\",\"metrics\":{\"centrality\":5,\"complexity\":5.0,\"blocking factor\":2,\"delay factor\":3.0},\"canonical_name\":\"\",\"nameSub\":\"MATH 2940\",\"id\":17,\"num\":\"2940\",\"credits\":3,\"institution\":\"\",\"prefix\":\"MATH\"},{\"curriculum_requisites\":[{\"source_id\":11,\"target_id\":18,\"type\":\"strict-coreq\"}],\"name\":\"ENGRD 2xxx\",\"metrics\":{\"centrality\":0,\"complexity\":4.0,\"blocking factor\":0,\"delay factor\":4.0},\"canonical_name\":\"\",\"nameSub\":\"ENGRD 2xxx\",\"id\":18,\"num\":\"2xxx\",\"credits\":3,\"institution\":\"\",\"prefix\":\"ENGRD\"},{\"curriculum_requisites\":[{\"source_id\":17,\"target_id\":19,\"type\":\"strict-coreq\"},{\"source_id\":12,\"target_id\":19,\"type\":\"strict-coreq\"}],\"name\":\"ECE/ENGRD 2200/2220\",\"metrics\":{\"centrality\":10,\"complexity\":5.0,\"blocking factor\":1,\"delay factor\":4.0},\"canonical_name\":\"\",\"nameSub\":\"ECE 2200/ENGRD 2220\",\"id\":19,\"num\":\"2200/2220\",\"credits\":3,\"institution\":\"\",\"prefix\":\"ECE/ENGRD\"},{\"curriculum_requisites\":[],\"name\":\" \",\"metrics\":{\"centrality\":0,\"complexity\":1.0,\"blocking factor\":0,\"delay factor\":1.0},\"canonical_name\":\"\",\"nameSub\":\"Liberal Studies\",\"id\":20,\"num\":\"\",\"credits\":3,\"institution\":\"\",\"prefix\":\"\"}],\"id\":4},{\"name\":\"Term 5\",\"curriculum_items\":[{\"curriculum_requisites\":[],\"name\":\" \",\"metrics\":{\"centrality\":0,\"complexity\":1.0,\"blocking factor\":0,\"delay factor\":1.0},\"canonical_name\":\"\",\"nameSub\":\"ECE Foundations\",\"id\":21,\"num\":\"\",\"credits\":3,\"institution\":\"\",\"prefix\":\"\"},{\"curriculum_requisites\":[],\"name\":\" \",\"metrics\":{\"centrality\":0,\"complexity\":1.0,\"blocking factor\":0,\"delay factor\":1.0},\"canonical_name\":\"\",\"nameSub\":\"Elective\",\"id\":22,\"num\":\"\",\"credits\":3,\"institution\":\"\",\"prefix\":\"\"},{\"curriculum_requisites\":[{\"source_id\":8,\"target_id\":23,\"type\":\"strict-coreq\"}],\"name\":\" \",\"metrics\":{\"centrality\":0,\"complexity\":2.0,\"blocking factor\":0,\"delay factor\":2.0},\"canonical_name\":\"\",\"nameSub\":\"Outside Tech. Elective\",\"id\":23,\"num\":\"\",\"credits\":3,\"institution\":\"\",\"prefix\":\"\"},{\"curriculum_requisites\":[{\"source_id\":13,\"target_id\":24,\"type\":\"strict-coreq\"},{\"source_id\":14,\"target_id\":24,\"type\":\"strict-coreq\"},{\"source_id\":19,\"target_id\":24,\"type\":\"strict-coreq\"}],\"name\":\"ECE 3400\",\"metrics\":{\"centrality\":0,\"complexity\":5.0,\"blocking factor\":0,\"delay factor\":5.0},\"canonical_name\":\"\",\"nameSub\":\"ECE 3400\",\"id\":24,\"num\":\"3400\",\"credits\":3,\"institution\":\"\",\"prefix\":\"ECE\"},{\"curriculum_requisites\":[],\"name\":\" \",\"metrics\":{\"centrality\":0,\"complexity\":1.0,\"blocking factor\":0,\"delay factor\":1.0},\"canonical_name\":\"\",\"nameSub\":\"Liberal Studies\",\"id\":25,\"num\":\"\",\"credits\":3,\"institution\":\"\",\"prefix\":\"\"}],\"id\":5},{\"name\":\"Term 6\",\"curriculum_items\":[{\"curriculum_requisites\":[],\"name\":\" \",\"metrics\":{\"centrality\":0,\"complexity\":1.0,\"blocking factor\":0,\"delay factor\":1.0},\"canonical_name\":\"\",\"nameSub\":\"ECE Foundations\",\"id\":26,\"num\":\"\",\"credits\":3,\"institution\":\"\",\"prefix\":\"\"},{\"curriculum_requisites\":[],\"name\":\" \",\"metrics\":{\"centrality\":0,\"complexity\":1.0,\"blocking factor\":0,\"delay factor\":1.0},\"canonical_name\":\"\",\"nameSub\":\"ECE Foundations\",\"id\":27,\"num\":\"\",\"credits\":3,\"institution\":\"\",\"prefix\":\"\"},{\"curriculum_requisites\":[],\"name\":\" \",\"metrics\":{\"centrality\":0,\"complexity\":1.0,\"blocking factor\":0,\"delay factor\":1.0},\"canonical_name\":\"\",\"nameSub\":\"Outside Tech. Elective\",\"id\":28,\"num\":\"\",\"credits\":3,\"institution\":\"\",\"prefix\":\"\"},{\"curriculum_requisites\":[],\"name\":\" \",\"metrics\":{\"centrality\":0,\"complexity\":1.0,\"blocking factor\":0,\"delay factor\":1.0},\"canonical_name\":\"\",\"nameSub\":\"Elective\",\"id\":29,\"num\":\"\",\"credits\":3,\"institution\":\"\",\"prefix\":\"\"},{\"curriculum_requisites\":[],\"name\":\" \",\"metrics\":{\"centrality\":0,\"complexity\":1.0,\"blocking factor\":0,\"delay factor\":1.0},\"canonical_name\":\"\",\"nameSub\":\"Liberal Studies\",\"id\":30,\"num\":\"\",\"credits\":3,\"institution\":\"\",\"prefix\":\"\"}],\"id\":6},{\"name\":\"Term 7\",\"curriculum_items\":[{\"curriculum_requisites\":[],\"name\":\" \",\"metrics\":{\"centrality\":0,\"complexity\":1.0,\"blocking factor\":0,\"delay factor\":1.0},\"canonical_name\":\"\",\"nameSub\":\"ECE Elective \",\"id\":31,\"num\":\"\",\"credits\":3,\"institution\":\"\",\"prefix\":\"\"},{\"curriculum_requisites\":[],\"name\":\" \",\"metrics\":{\"centrality\":0,\"complexity\":1.0,\"blocking factor\":0,\"delay factor\":1.0},\"canonical_name\":\"\",\"nameSub\":\"ECE Elective\",\"id\":32,\"num\":\"\",\"credits\":3,\"institution\":\"\",\"prefix\":\"\"},{\"curriculum_requisites\":[],\"name\":\" \",\"metrics\":{\"centrality\":0,\"complexity\":1.0,\"blocking factor\":0,\"delay factor\":1.0},\"canonical_name\":\"\",\"nameSub\":\"Outside Tech. Elective\",\"id\":33,\"num\":\"\",\"credits\":3,\"institution\":\"\",\"prefix\":\"\"},{\"curriculum_requisites\":[],\"name\":\" \",\"metrics\":{\"centrality\":0,\"complexity\":1.0,\"blocking factor\":0,\"delay factor\":1.0},\"canonical_name\":\"\",\"nameSub\":\"Liberal Studies\",\"id\":34,\"num\":\"\",\"credits\":3,\"institution\":\"\",\"prefix\":\"\"}],\"id\":7},{\"name\":\"Term 8\",\"curriculum_items\":[{\"curriculum_requisites\":[],\"name\":\" \",\"metrics\":{\"centrality\":0,\"complexity\":1.0,\"blocking factor\":0,\"delay factor\":1.0},\"canonical_name\":\"\",\"nameSub\":\"ECE Elective\",\"id\":35,\"num\":\"\",\"credits\":3,\"institution\":\"\",\"prefix\":\"\"},{\"curriculum_requisites\":[],\"name\":\" \",\"metrics\":{\"centrality\":0,\"complexity\":1.0,\"blocking factor\":0,\"delay factor\":1.0},\"canonical_name\":\"\",\"nameSub\":\"ECE Elective\",\"id\":36,\"num\":\"\",\"credits\":3,\"institution\":\"\",\"prefix\":\"\"},{\"curriculum_requisites\":[],\"name\":\" \",\"metrics\":{\"centrality\":0,\"complexity\":1.0,\"blocking factor\":0,\"delay factor\":1.0},\"canonical_name\":\"\",\"nameSub\":\"ECE Elective\",\"id\":37,\"num\":\"\",\"credits\":3,\"institution\":\"\",\"prefix\":\"\"},{\"curriculum_requisites\":[],\"name\":\" \",\"metrics\":{\"centrality\":0,\"complexity\":1.0,\"blocking factor\":0,\"delay factor\":1.0},\"canonical_name\":\"\",\"nameSub\":\"Liberal Studies\",\"id\":38,\"num\":\"\",\"credits\":3,\"institution\":\"\",\"prefix\":\"\"}],\"id\":8}],\"CIP\":\"\",\"id\":62119800256760722,\"institution\":\"\"}},\"*\"); window.removeEventListener(\"message\",window.messageReceived); window.messageReceived=(function (event){return (event.data.curriculum!==undefined) ? (_webIOScope.setObservableValue({\"name\":\"curriculum-data\",\"scope\":\"scope-ae5c0323-3532-4694-b22c-3542f19ab9db\",\"id\":\"ob_03\",\"type\":\"observable\"},event.data.curriculum)) : undefined}); window.addEventListener(\"message\",window.messageReceived); window.removeEventListener(\"message\",window.messageReceived); window.messageReceived=(function (event){return (event.data.curriculum!==undefined) ? (console.log(event.data.curriculum)) : undefined}); return window.addEventListener(\"message\",window.messageReceived)})"
          },
          "id": "curriculum",
          "src": "http://localhost:8156",
          "style": {
           "border": "none",
           "height": "100vh",
           "margin": "0",
           "padding": "0",
           "width": "100%"
          }
         },
         "type": "node"
        }
       ],
       "instanceArgs": {
        "handlers": {},
        "id": "scope-ae5c0323-3532-4694-b22c-3542f19ab9db",
        "imports": {
         "data": [],
         "type": "async_block"
        },
        "observables": {
         "curriculum-data": {
          "id": "ob_03",
          "sync": true,
          "value": {
           "curriculum": {
            "CIP": "",
            "curriculum_terms": [
             {
              "curriculum_items": [
               {
                "canonical_name": "",
                "credits": 3,
                "curriculum_requisites": [],
                "id": 1,
                "institution": "",
                "metrics": {
                 "blocking factor": 0,
                 "centrality": 0,
                 "complexity": 1,
                 "delay factor": 1
                },
                "name": "CHEM 2090",
                "nameSub": "CHEM 2090",
                "num": "2090",
                "prefix": "CHEM"
               },
               {
                "canonical_name": "",
                "credits": 3,
                "curriculum_requisites": [],
                "id": 2,
                "institution": "",
                "metrics": {
                 "blocking factor": 10,
                 "centrality": 0,
                 "complexity": 15,
                 "delay factor": 5
                },
                "name": "MATH 1910",
                "nameSub": "MATH 1910",
                "num": "1910",
                "prefix": "MATH"
               },
               {
                "canonical_name": "",
                "credits": 3,
                "curriculum_requisites": [],
                "id": 3,
                "institution": "",
                "metrics": {
                 "blocking factor": 0,
                 "centrality": 0,
                 "complexity": 1,
                 "delay factor": 1
                },
                "name": "ENGRI 1xxx",
                "nameSub": "ENGRI 1xxx",
                "num": "1xxx",
                "prefix": "ENGRI"
               },
               {
                "canonical_name": "",
                "credits": 3,
                "curriculum_requisites": [],
                "id": 4,
                "institution": "",
                "metrics": {
                 "blocking factor": 0,
                 "centrality": 0,
                 "complexity": 1,
                 "delay factor": 1
                },
                "name": " ",
                "nameSub": "1st Yr Writing Seminar",
                "num": "",
                "prefix": ""
               },
               {
                "canonical_name": "",
                "credits": 3,
                "curriculum_requisites": [],
                "id": 5,
                "institution": "",
                "metrics": {
                 "blocking factor": 0,
                 "centrality": 0,
                 "complexity": 1,
                 "delay factor": 1
                },
                "name": " ",
                "nameSub": "PE",
                "num": "",
                "prefix": ""
               }
              ],
              "id": 1,
              "name": "Term 1"
             },
             {
              "curriculum_items": [
               {
                "canonical_name": "",
                "credits": 3,
                "curriculum_requisites": [
                 {
                  "source_id": 2,
                  "target_id": 6,
                  "type": "strict-coreq"
                 }
                ],
                "id": 6,
                "institution": "",
                "metrics": {
                 "blocking factor": 4,
                 "centrality": 9,
                 "complexity": 9,
                 "delay factor": 5
                },
                "name": "PHYS 1112",
                "nameSub": "PHYS 1112",
                "num": "1112",
                "prefix": "PHYS"
               },
               {
                "canonical_name": "",
                "credits": 3,
                "curriculum_requisites": [
                 {
                  "source_id": 2,
                  "target_id": 7,
                  "type": "strict-coreq"
                 }
                ],
                "id": 7,
                "institution": "",
                "metrics": {
                 "blocking factor": 8,
                 "centrality": 28,
                 "complexity": 12,
                 "delay factor": 4
                },
                "name": "MATH 1920",
                "nameSub": "MATH 1920",
                "num": "1920",
                "prefix": "MATH"
               },
               {
                "canonical_name": "",
                "credits": 3,
                "curriculum_requisites": [],
                "id": 8,
                "institution": "",
                "metrics": {
                 "blocking factor": 3,
                 "centrality": 0,
                 "complexity": 6,
                 "delay factor": 3
                },
                "name": "CS 111x",
                "nameSub": "CS 111x",
                "num": "111x",
                "prefix": "CS"
               },
               {
                "canonical_name": "",
                "credits": 3,
                "curriculum_requisites": [],
                "id": 9,
                "institution": "",
                "metrics": {
                 "blocking factor": 0,
                 "centrality": 0,
                 "complexity": 1,
                 "delay factor": 1
                },
                "name": " ",
                "nameSub": "1st Yr Writing Seminar",
                "num": "",
                "prefix": ""
               },
               {
                "canonical_name": "",
                "credits": 3,
                "curriculum_requisites": [],
                "id": 10,
                "institution": "",
                "metrics": {
                 "blocking factor": 0,
                 "centrality": 0,
                 "complexity": 1,
                 "delay factor": 1
                },
                "name": " ",
                "nameSub": "PE",
                "num": "",
                "prefix": ""
               }
              ],
              "id": 2,
              "name": "Term 2"
             },
             {
              "curriculum_items": [
               {
                "canonical_name": "",
                "credits": 3,
                "curriculum_requisites": [
                 {
                  "source_id": 7,
                  "target_id": 11,
                  "type": "strict-coreq"
                 },
                 {
                  "source_id": 6,
                  "target_id": 11,
                  "type": "strict-coreq"
                 }
                ],
                "id": 11,
                "institution": "",
                "metrics": {
                 "blocking factor": 3,
                 "centrality": 18,
                 "complexity": 8,
                 "delay factor": 5
                },
                "name": "PHYS 2213",
                "nameSub": "PHYS 2213",
                "num": "2213",
                "prefix": "PHYS"
               },
               {
                "canonical_name": "",
                "credits": 3,
                "curriculum_requisites": [
                 {
                  "source_id": 7,
                  "target_id": 12,
                  "type": "strict-coreq"
                 }
                ],
                "id": 12,
                "institution": "",
                "metrics": {
                 "blocking factor": 4,
                 "centrality": 14,
                 "complexity": 8,
                 "delay factor": 4
                },
                "name": "MATH 2930",
                "nameSub": "MATH 2930",
                "num": "2930",
                "prefix": "MATH"
               },
               {
                "canonical_name": "",
                "credits": 3,
                "curriculum_requisites": [
                 {
                  "source_id": 11,
                  "target_id": 13,
                  "type": "strict-coreq"
                 },
                 {
                  "source_id": 12,
                  "target_id": 13,
                  "type": "strict-coreq"
                 }
                ],
                "id": 13,
                "institution": "",
                "metrics": {
                 "blocking factor": 1,
                 "centrality": 15,
                 "complexity": 6,
                 "delay factor": 5
                },
                "name": "ECE/ENGRD 2100",
                "nameSub": "ECE/ENGRD 2100",
                "num": "2100",
                "prefix": "ECE/ENGRD"
               },
               {
                "canonical_name": "",
                "credits": 3,
                "curriculum_requisites": [
                 {
                  "source_id": 8,
                  "target_id": 14,
                  "type": "strict-coreq"
                 }
                ],
                "id": 14,
                "institution": "",
                "metrics": {
                 "blocking factor": 1,
                 "centrality": 3,
                 "complexity": 4,
                 "delay factor": 3
                },
                "name": "MECE/ENGRD 2300",
                "nameSub": "MECE/ENGRD 2300",
                "num": "2300",
                "prefix": "MECE/ENGRD"
               },
               {
                "canonical_name": "",
                "credits": 3,
                "curriculum_requisites": [],
                "id": 15,
                "institution": "",
                "metrics": {
                 "blocking factor": 0,
                 "centrality": 0,
                 "complexity": 1,
                 "delay factor": 1
                },
                "name": " ",
                "nameSub": "Liberal Studies",
                "num": "",
                "prefix": ""
               }
              ],
              "id": 3,
              "name": "Term 3"
             },
             {
              "curriculum_items": [
               {
                "canonical_name": "",
                "credits": 3,
                "curriculum_requisites": [
                 {
                  "source_id": 12,
                  "target_id": 16,
                  "type": "strict-coreq"
                 }
                ],
                "id": 16,
                "institution": "",
                "metrics": {
                 "blocking factor": 0,
                 "centrality": 0,
                 "complexity": 4,
                 "delay factor": 4
                },
                "name": "PHYS 2214",
                "nameSub": "PHYS 2214",
                "num": "2214",
                "prefix": "PHYS"
               },
               {
                "canonical_name": "",
                "credits": 3,
                "curriculum_requisites": [
                 {
                  "source_id": 7,
                  "target_id": 17,
                  "type": "strict-coreq"
                 }
                ],
                "id": 17,
                "institution": "",
                "metrics": {
                 "blocking factor": 2,
                 "centrality": 5,
                 "complexity": 5,
                 "delay factor": 3
                },
                "name": "MATH 2940",
                "nameSub": "MATH 2940",
                "num": "2940",
                "prefix": "MATH"
               },
               {
                "canonical_name": "",
                "credits": 3,
                "curriculum_requisites": [
                 {
                  "source_id": 11,
                  "target_id": 18,
                  "type": "strict-coreq"
                 }
                ],
                "id": 18,
                "institution": "",
                "metrics": {
                 "blocking factor": 0,
                 "centrality": 0,
                 "complexity": 4,
                 "delay factor": 4
                },
                "name": "ENGRD 2xxx",
                "nameSub": "ENGRD 2xxx",
                "num": "2xxx",
                "prefix": "ENGRD"
               },
               {
                "canonical_name": "",
                "credits": 3,
                "curriculum_requisites": [
                 {
                  "source_id": 17,
                  "target_id": 19,
                  "type": "strict-coreq"
                 },
                 {
                  "source_id": 12,
                  "target_id": 19,
                  "type": "strict-coreq"
                 }
                ],
                "id": 19,
                "institution": "",
                "metrics": {
                 "blocking factor": 1,
                 "centrality": 10,
                 "complexity": 5,
                 "delay factor": 4
                },
                "name": "ECE/ENGRD 2200/2220",
                "nameSub": "ECE 2200/ENGRD 2220",
                "num": "2200/2220",
                "prefix": "ECE/ENGRD"
               },
               {
                "canonical_name": "",
                "credits": 3,
                "curriculum_requisites": [],
                "id": 20,
                "institution": "",
                "metrics": {
                 "blocking factor": 0,
                 "centrality": 0,
                 "complexity": 1,
                 "delay factor": 1
                },
                "name": " ",
                "nameSub": "Liberal Studies",
                "num": "",
                "prefix": ""
               }
              ],
              "id": 4,
              "name": "Term 4"
             },
             {
              "curriculum_items": [
               {
                "canonical_name": "",
                "credits": 3,
                "curriculum_requisites": [],
                "id": 21,
                "institution": "",
                "metrics": {
                 "blocking factor": 0,
                 "centrality": 0,
                 "complexity": 1,
                 "delay factor": 1
                },
                "name": " ",
                "nameSub": "ECE Foundations",
                "num": "",
                "prefix": ""
               },
               {
                "canonical_name": "",
                "credits": 3,
                "curriculum_requisites": [],
                "id": 22,
                "institution": "",
                "metrics": {
                 "blocking factor": 0,
                 "centrality": 0,
                 "complexity": 1,
                 "delay factor": 1
                },
                "name": " ",
                "nameSub": "Elective",
                "num": "",
                "prefix": ""
               },
               {
                "canonical_name": "",
                "credits": 3,
                "curriculum_requisites": [
                 {
                  "source_id": 8,
                  "target_id": 23,
                  "type": "strict-coreq"
                 }
                ],
                "id": 23,
                "institution": "",
                "metrics": {
                 "blocking factor": 0,
                 "centrality": 0,
                 "complexity": 2,
                 "delay factor": 2
                },
                "name": " ",
                "nameSub": "Outside Tech. Elective",
                "num": "",
                "prefix": ""
               },
               {
                "canonical_name": "",
                "credits": 3,
                "curriculum_requisites": [
                 {
                  "source_id": 13,
                  "target_id": 24,
                  "type": "strict-coreq"
                 },
                 {
                  "source_id": 14,
                  "target_id": 24,
                  "type": "strict-coreq"
                 },
                 {
                  "source_id": 19,
                  "target_id": 24,
                  "type": "strict-coreq"
                 }
                ],
                "id": 24,
                "institution": "",
                "metrics": {
                 "blocking factor": 0,
                 "centrality": 0,
                 "complexity": 5,
                 "delay factor": 5
                },
                "name": "ECE 3400",
                "nameSub": "ECE 3400",
                "num": "3400",
                "prefix": "ECE"
               },
               {
                "canonical_name": "",
                "credits": 3,
                "curriculum_requisites": [],
                "id": 25,
                "institution": "",
                "metrics": {
                 "blocking factor": 0,
                 "centrality": 0,
                 "complexity": 1,
                 "delay factor": 1
                },
                "name": " ",
                "nameSub": "Liberal Studies",
                "num": "",
                "prefix": ""
               }
              ],
              "id": 5,
              "name": "Term 5"
             },
             {
              "curriculum_items": [
               {
                "canonical_name": "",
                "credits": 3,
                "curriculum_requisites": [],
                "id": 26,
                "institution": "",
                "metrics": {
                 "blocking factor": 0,
                 "centrality": 0,
                 "complexity": 1,
                 "delay factor": 1
                },
                "name": " ",
                "nameSub": "ECE Foundations",
                "num": "",
                "prefix": ""
               },
               {
                "canonical_name": "",
                "credits": 3,
                "curriculum_requisites": [],
                "id": 27,
                "institution": "",
                "metrics": {
                 "blocking factor": 0,
                 "centrality": 0,
                 "complexity": 1,
                 "delay factor": 1
                },
                "name": " ",
                "nameSub": "ECE Foundations",
                "num": "",
                "prefix": ""
               },
               {
                "canonical_name": "",
                "credits": 3,
                "curriculum_requisites": [],
                "id": 28,
                "institution": "",
                "metrics": {
                 "blocking factor": 0,
                 "centrality": 0,
                 "complexity": 1,
                 "delay factor": 1
                },
                "name": " ",
                "nameSub": "Outside Tech. Elective",
                "num": "",
                "prefix": ""
               },
               {
                "canonical_name": "",
                "credits": 3,
                "curriculum_requisites": [],
                "id": 29,
                "institution": "",
                "metrics": {
                 "blocking factor": 0,
                 "centrality": 0,
                 "complexity": 1,
                 "delay factor": 1
                },
                "name": " ",
                "nameSub": "Elective",
                "num": "",
                "prefix": ""
               },
               {
                "canonical_name": "",
                "credits": 3,
                "curriculum_requisites": [],
                "id": 30,
                "institution": "",
                "metrics": {
                 "blocking factor": 0,
                 "centrality": 0,
                 "complexity": 1,
                 "delay factor": 1
                },
                "name": " ",
                "nameSub": "Liberal Studies",
                "num": "",
                "prefix": ""
               }
              ],
              "id": 6,
              "name": "Term 6"
             },
             {
              "curriculum_items": [
               {
                "canonical_name": "",
                "credits": 3,
                "curriculum_requisites": [],
                "id": 31,
                "institution": "",
                "metrics": {
                 "blocking factor": 0,
                 "centrality": 0,
                 "complexity": 1,
                 "delay factor": 1
                },
                "name": " ",
                "nameSub": "ECE Elective ",
                "num": "",
                "prefix": ""
               },
               {
                "canonical_name": "",
                "credits": 3,
                "curriculum_requisites": [],
                "id": 32,
                "institution": "",
                "metrics": {
                 "blocking factor": 0,
                 "centrality": 0,
                 "complexity": 1,
                 "delay factor": 1
                },
                "name": " ",
                "nameSub": "ECE Elective",
                "num": "",
                "prefix": ""
               },
               {
                "canonical_name": "",
                "credits": 3,
                "curriculum_requisites": [],
                "id": 33,
                "institution": "",
                "metrics": {
                 "blocking factor": 0,
                 "centrality": 0,
                 "complexity": 1,
                 "delay factor": 1
                },
                "name": " ",
                "nameSub": "Outside Tech. Elective",
                "num": "",
                "prefix": ""
               },
               {
                "canonical_name": "",
                "credits": 3,
                "curriculum_requisites": [],
                "id": 34,
                "institution": "",
                "metrics": {
                 "blocking factor": 0,
                 "centrality": 0,
                 "complexity": 1,
                 "delay factor": 1
                },
                "name": " ",
                "nameSub": "Liberal Studies",
                "num": "",
                "prefix": ""
               }
              ],
              "id": 7,
              "name": "Term 7"
             },
             {
              "curriculum_items": [
               {
                "canonical_name": "",
                "credits": 3,
                "curriculum_requisites": [],
                "id": 35,
                "institution": "",
                "metrics": {
                 "blocking factor": 0,
                 "centrality": 0,
                 "complexity": 1,
                 "delay factor": 1
                },
                "name": " ",
                "nameSub": "ECE Elective",
                "num": "",
                "prefix": ""
               },
               {
                "canonical_name": "",
                "credits": 3,
                "curriculum_requisites": [],
                "id": 36,
                "institution": "",
                "metrics": {
                 "blocking factor": 0,
                 "centrality": 0,
                 "complexity": 1,
                 "delay factor": 1
                },
                "name": " ",
                "nameSub": "ECE Elective",
                "num": "",
                "prefix": ""
               },
               {
                "canonical_name": "",
                "credits": 3,
                "curriculum_requisites": [],
                "id": 37,
                "institution": "",
                "metrics": {
                 "blocking factor": 0,
                 "centrality": 0,
                 "complexity": 1,
                 "delay factor": 1
                },
                "name": " ",
                "nameSub": "ECE Elective",
                "num": "",
                "prefix": ""
               },
               {
                "canonical_name": "",
                "credits": 3,
                "curriculum_requisites": [],
                "id": 38,
                "institution": "",
                "metrics": {
                 "blocking factor": 0,
                 "centrality": 0,
                 "complexity": 1,
                 "delay factor": 1
                },
                "name": " ",
                "nameSub": "Liberal Studies",
                "num": "",
                "prefix": ""
               }
              ],
              "id": 8,
              "name": "Term 8"
             }
            ],
            "id": 62119800256760720,
            "institution": "",
            "name": ""
           },
           "name": "",
           "options": {
            "edit": true,
            "hideTerms": false
           }
          }
         }
        },
        "systemjs_options": null
       },
       "nodeType": "Scope",
       "props": {},
       "type": "node"
      },
      "text/html": [
       "<div\n",
       "    class=\"webio-mountpoint\"\n",
       "    data-webio-mountpoint=\"8348922482754758874\"\n",
       ">\n",
       "    <script>\n",
       "    if (window.require && require.defined && require.defined(\"nbextensions/webio/main\")) {\n",
       "        console.log(\"Jupyter WebIO extension detected, not mounting.\");\n",
       "    } else if (window.WebIO) {\n",
       "        WebIO.mount(\n",
       "            document.querySelector('[data-webio-mountpoint=\"8348922482754758874\"]'),\n",
       "            {\"props\":{},\"nodeType\":\"Scope\",\"type\":\"node\",\"instanceArgs\":{\"imports\":{\"data\":[],\"type\":\"async_block\"},\"id\":\"scope-ae5c0323-3532-4694-b22c-3542f19ab9db\",\"handlers\":{},\"systemjs_options\":null,\"observables\":{\"curriculum-data\":{\"sync\":true,\"id\":\"ob_03\",\"value\":{\"options\":{\"hideTerms\":false,\"edit\":true},\"name\":\"\",\"curriculum\":{\"name\":\"\",\"curriculum_terms\":[{\"name\":\"Term 1\",\"curriculum_items\":[{\"curriculum_requisites\":[],\"name\":\"CHEM 2090\",\"metrics\":{\"centrality\":0,\"complexity\":1.0,\"blocking factor\":0,\"delay factor\":1.0},\"canonical_name\":\"\",\"nameSub\":\"CHEM 2090\",\"id\":1,\"num\":\"2090\",\"credits\":3,\"institution\":\"\",\"prefix\":\"CHEM\"},{\"curriculum_requisites\":[],\"name\":\"MATH 1910\",\"metrics\":{\"centrality\":0,\"complexity\":15.0,\"blocking factor\":10,\"delay factor\":5.0},\"canonical_name\":\"\",\"nameSub\":\"MATH 1910\",\"id\":2,\"num\":\"1910\",\"credits\":3,\"institution\":\"\",\"prefix\":\"MATH\"},{\"curriculum_requisites\":[],\"name\":\"ENGRI 1xxx\",\"metrics\":{\"centrality\":0,\"complexity\":1.0,\"blocking factor\":0,\"delay factor\":1.0},\"canonical_name\":\"\",\"nameSub\":\"ENGRI 1xxx\",\"id\":3,\"num\":\"1xxx\",\"credits\":3,\"institution\":\"\",\"prefix\":\"ENGRI\"},{\"curriculum_requisites\":[],\"name\":\" \",\"metrics\":{\"centrality\":0,\"complexity\":1.0,\"blocking factor\":0,\"delay factor\":1.0},\"canonical_name\":\"\",\"nameSub\":\"1st Yr Writing Seminar\",\"id\":4,\"num\":\"\",\"credits\":3,\"institution\":\"\",\"prefix\":\"\"},{\"curriculum_requisites\":[],\"name\":\" \",\"metrics\":{\"centrality\":0,\"complexity\":1.0,\"blocking factor\":0,\"delay factor\":1.0},\"canonical_name\":\"\",\"nameSub\":\"PE\",\"id\":5,\"num\":\"\",\"credits\":3,\"institution\":\"\",\"prefix\":\"\"}],\"id\":1},{\"name\":\"Term 2\",\"curriculum_items\":[{\"curriculum_requisites\":[{\"source_id\":2,\"target_id\":6,\"type\":\"strict-coreq\"}],\"name\":\"PHYS 1112\",\"metrics\":{\"centrality\":9,\"complexity\":9.0,\"blocking factor\":4,\"delay factor\":5.0},\"canonical_name\":\"\",\"nameSub\":\"PHYS 1112\",\"id\":6,\"num\":\"1112\",\"credits\":3,\"institution\":\"\",\"prefix\":\"PHYS\"},{\"curriculum_requisites\":[{\"source_id\":2,\"target_id\":7,\"type\":\"strict-coreq\"}],\"name\":\"MATH 1920\",\"metrics\":{\"centrality\":28,\"complexity\":12.0,\"blocking factor\":8,\"delay factor\":4.0},\"canonical_name\":\"\",\"nameSub\":\"MATH 1920\",\"id\":7,\"num\":\"1920\",\"credits\":3,\"institution\":\"\",\"prefix\":\"MATH\"},{\"curriculum_requisites\":[],\"name\":\"CS 111x\",\"metrics\":{\"centrality\":0,\"complexity\":6.0,\"blocking factor\":3,\"delay factor\":3.0},\"canonical_name\":\"\",\"nameSub\":\"CS 111x\",\"id\":8,\"num\":\"111x\",\"credits\":3,\"institution\":\"\",\"prefix\":\"CS\"},{\"curriculum_requisites\":[],\"name\":\" \",\"metrics\":{\"centrality\":0,\"complexity\":1.0,\"blocking factor\":0,\"delay factor\":1.0},\"canonical_name\":\"\",\"nameSub\":\"1st Yr Writing Seminar\",\"id\":9,\"num\":\"\",\"credits\":3,\"institution\":\"\",\"prefix\":\"\"},{\"curriculum_requisites\":[],\"name\":\" \",\"metrics\":{\"centrality\":0,\"complexity\":1.0,\"blocking factor\":0,\"delay factor\":1.0},\"canonical_name\":\"\",\"nameSub\":\"PE\",\"id\":10,\"num\":\"\",\"credits\":3,\"institution\":\"\",\"prefix\":\"\"}],\"id\":2},{\"name\":\"Term 3\",\"curriculum_items\":[{\"curriculum_requisites\":[{\"source_id\":7,\"target_id\":11,\"type\":\"strict-coreq\"},{\"source_id\":6,\"target_id\":11,\"type\":\"strict-coreq\"}],\"name\":\"PHYS 2213\",\"metrics\":{\"centrality\":18,\"complexity\":8.0,\"blocking factor\":3,\"delay factor\":5.0},\"canonical_name\":\"\",\"nameSub\":\"PHYS 2213\",\"id\":11,\"num\":\"2213\",\"credits\":3,\"institution\":\"\",\"prefix\":\"PHYS\"},{\"curriculum_requisites\":[{\"source_id\":7,\"target_id\":12,\"type\":\"strict-coreq\"}],\"name\":\"MATH 2930\",\"metrics\":{\"centrality\":14,\"complexity\":8.0,\"blocking factor\":4,\"delay factor\":4.0},\"canonical_name\":\"\",\"nameSub\":\"MATH 2930\",\"id\":12,\"num\":\"2930\",\"credits\":3,\"institution\":\"\",\"prefix\":\"MATH\"},{\"curriculum_requisites\":[{\"source_id\":11,\"target_id\":13,\"type\":\"strict-coreq\"},{\"source_id\":12,\"target_id\":13,\"type\":\"strict-coreq\"}],\"name\":\"ECE\\/ENGRD 2100\",\"metrics\":{\"centrality\":15,\"complexity\":6.0,\"blocking factor\":1,\"delay factor\":5.0},\"canonical_name\":\"\",\"nameSub\":\"ECE\\/ENGRD 2100\",\"id\":13,\"num\":\"2100\",\"credits\":3,\"institution\":\"\",\"prefix\":\"ECE\\/ENGRD\"},{\"curriculum_requisites\":[{\"source_id\":8,\"target_id\":14,\"type\":\"strict-coreq\"}],\"name\":\"MECE\\/ENGRD 2300\",\"metrics\":{\"centrality\":3,\"complexity\":4.0,\"blocking factor\":1,\"delay factor\":3.0},\"canonical_name\":\"\",\"nameSub\":\"MECE\\/ENGRD 2300\",\"id\":14,\"num\":\"2300\",\"credits\":3,\"institution\":\"\",\"prefix\":\"MECE\\/ENGRD\"},{\"curriculum_requisites\":[],\"name\":\" \",\"metrics\":{\"centrality\":0,\"complexity\":1.0,\"blocking factor\":0,\"delay factor\":1.0},\"canonical_name\":\"\",\"nameSub\":\"Liberal Studies\",\"id\":15,\"num\":\"\",\"credits\":3,\"institution\":\"\",\"prefix\":\"\"}],\"id\":3},{\"name\":\"Term 4\",\"curriculum_items\":[{\"curriculum_requisites\":[{\"source_id\":12,\"target_id\":16,\"type\":\"strict-coreq\"}],\"name\":\"PHYS 2214\",\"metrics\":{\"centrality\":0,\"complexity\":4.0,\"blocking factor\":0,\"delay factor\":4.0},\"canonical_name\":\"\",\"nameSub\":\"PHYS 2214\",\"id\":16,\"num\":\"2214\",\"credits\":3,\"institution\":\"\",\"prefix\":\"PHYS\"},{\"curriculum_requisites\":[{\"source_id\":7,\"target_id\":17,\"type\":\"strict-coreq\"}],\"name\":\"MATH 2940\",\"metrics\":{\"centrality\":5,\"complexity\":5.0,\"blocking factor\":2,\"delay factor\":3.0},\"canonical_name\":\"\",\"nameSub\":\"MATH 2940\",\"id\":17,\"num\":\"2940\",\"credits\":3,\"institution\":\"\",\"prefix\":\"MATH\"},{\"curriculum_requisites\":[{\"source_id\":11,\"target_id\":18,\"type\":\"strict-coreq\"}],\"name\":\"ENGRD 2xxx\",\"metrics\":{\"centrality\":0,\"complexity\":4.0,\"blocking factor\":0,\"delay factor\":4.0},\"canonical_name\":\"\",\"nameSub\":\"ENGRD 2xxx\",\"id\":18,\"num\":\"2xxx\",\"credits\":3,\"institution\":\"\",\"prefix\":\"ENGRD\"},{\"curriculum_requisites\":[{\"source_id\":17,\"target_id\":19,\"type\":\"strict-coreq\"},{\"source_id\":12,\"target_id\":19,\"type\":\"strict-coreq\"}],\"name\":\"ECE\\/ENGRD 2200\\/2220\",\"metrics\":{\"centrality\":10,\"complexity\":5.0,\"blocking factor\":1,\"delay factor\":4.0},\"canonical_name\":\"\",\"nameSub\":\"ECE 2200\\/ENGRD 2220\",\"id\":19,\"num\":\"2200\\/2220\",\"credits\":3,\"institution\":\"\",\"prefix\":\"ECE\\/ENGRD\"},{\"curriculum_requisites\":[],\"name\":\" \",\"metrics\":{\"centrality\":0,\"complexity\":1.0,\"blocking factor\":0,\"delay factor\":1.0},\"canonical_name\":\"\",\"nameSub\":\"Liberal Studies\",\"id\":20,\"num\":\"\",\"credits\":3,\"institution\":\"\",\"prefix\":\"\"}],\"id\":4},{\"name\":\"Term 5\",\"curriculum_items\":[{\"curriculum_requisites\":[],\"name\":\" \",\"metrics\":{\"centrality\":0,\"complexity\":1.0,\"blocking factor\":0,\"delay factor\":1.0},\"canonical_name\":\"\",\"nameSub\":\"ECE Foundations\",\"id\":21,\"num\":\"\",\"credits\":3,\"institution\":\"\",\"prefix\":\"\"},{\"curriculum_requisites\":[],\"name\":\" \",\"metrics\":{\"centrality\":0,\"complexity\":1.0,\"blocking factor\":0,\"delay factor\":1.0},\"canonical_name\":\"\",\"nameSub\":\"Elective\",\"id\":22,\"num\":\"\",\"credits\":3,\"institution\":\"\",\"prefix\":\"\"},{\"curriculum_requisites\":[{\"source_id\":8,\"target_id\":23,\"type\":\"strict-coreq\"}],\"name\":\" \",\"metrics\":{\"centrality\":0,\"complexity\":2.0,\"blocking factor\":0,\"delay factor\":2.0},\"canonical_name\":\"\",\"nameSub\":\"Outside Tech. Elective\",\"id\":23,\"num\":\"\",\"credits\":3,\"institution\":\"\",\"prefix\":\"\"},{\"curriculum_requisites\":[{\"source_id\":13,\"target_id\":24,\"type\":\"strict-coreq\"},{\"source_id\":14,\"target_id\":24,\"type\":\"strict-coreq\"},{\"source_id\":19,\"target_id\":24,\"type\":\"strict-coreq\"}],\"name\":\"ECE 3400\",\"metrics\":{\"centrality\":0,\"complexity\":5.0,\"blocking factor\":0,\"delay factor\":5.0},\"canonical_name\":\"\",\"nameSub\":\"ECE 3400\",\"id\":24,\"num\":\"3400\",\"credits\":3,\"institution\":\"\",\"prefix\":\"ECE\"},{\"curriculum_requisites\":[],\"name\":\" \",\"metrics\":{\"centrality\":0,\"complexity\":1.0,\"blocking factor\":0,\"delay factor\":1.0},\"canonical_name\":\"\",\"nameSub\":\"Liberal Studies\",\"id\":25,\"num\":\"\",\"credits\":3,\"institution\":\"\",\"prefix\":\"\"}],\"id\":5},{\"name\":\"Term 6\",\"curriculum_items\":[{\"curriculum_requisites\":[],\"name\":\" \",\"metrics\":{\"centrality\":0,\"complexity\":1.0,\"blocking factor\":0,\"delay factor\":1.0},\"canonical_name\":\"\",\"nameSub\":\"ECE Foundations\",\"id\":26,\"num\":\"\",\"credits\":3,\"institution\":\"\",\"prefix\":\"\"},{\"curriculum_requisites\":[],\"name\":\" \",\"metrics\":{\"centrality\":0,\"complexity\":1.0,\"blocking factor\":0,\"delay factor\":1.0},\"canonical_name\":\"\",\"nameSub\":\"ECE Foundations\",\"id\":27,\"num\":\"\",\"credits\":3,\"institution\":\"\",\"prefix\":\"\"},{\"curriculum_requisites\":[],\"name\":\" \",\"metrics\":{\"centrality\":0,\"complexity\":1.0,\"blocking factor\":0,\"delay factor\":1.0},\"canonical_name\":\"\",\"nameSub\":\"Outside Tech. Elective\",\"id\":28,\"num\":\"\",\"credits\":3,\"institution\":\"\",\"prefix\":\"\"},{\"curriculum_requisites\":[],\"name\":\" \",\"metrics\":{\"centrality\":0,\"complexity\":1.0,\"blocking factor\":0,\"delay factor\":1.0},\"canonical_name\":\"\",\"nameSub\":\"Elective\",\"id\":29,\"num\":\"\",\"credits\":3,\"institution\":\"\",\"prefix\":\"\"},{\"curriculum_requisites\":[],\"name\":\" \",\"metrics\":{\"centrality\":0,\"complexity\":1.0,\"blocking factor\":0,\"delay factor\":1.0},\"canonical_name\":\"\",\"nameSub\":\"Liberal Studies\",\"id\":30,\"num\":\"\",\"credits\":3,\"institution\":\"\",\"prefix\":\"\"}],\"id\":6},{\"name\":\"Term 7\",\"curriculum_items\":[{\"curriculum_requisites\":[],\"name\":\" \",\"metrics\":{\"centrality\":0,\"complexity\":1.0,\"blocking factor\":0,\"delay factor\":1.0},\"canonical_name\":\"\",\"nameSub\":\"ECE Elective \",\"id\":31,\"num\":\"\",\"credits\":3,\"institution\":\"\",\"prefix\":\"\"},{\"curriculum_requisites\":[],\"name\":\" \",\"metrics\":{\"centrality\":0,\"complexity\":1.0,\"blocking factor\":0,\"delay factor\":1.0},\"canonical_name\":\"\",\"nameSub\":\"ECE Elective\",\"id\":32,\"num\":\"\",\"credits\":3,\"institution\":\"\",\"prefix\":\"\"},{\"curriculum_requisites\":[],\"name\":\" \",\"metrics\":{\"centrality\":0,\"complexity\":1.0,\"blocking factor\":0,\"delay factor\":1.0},\"canonical_name\":\"\",\"nameSub\":\"Outside Tech. Elective\",\"id\":33,\"num\":\"\",\"credits\":3,\"institution\":\"\",\"prefix\":\"\"},{\"curriculum_requisites\":[],\"name\":\" \",\"metrics\":{\"centrality\":0,\"complexity\":1.0,\"blocking factor\":0,\"delay factor\":1.0},\"canonical_name\":\"\",\"nameSub\":\"Liberal Studies\",\"id\":34,\"num\":\"\",\"credits\":3,\"institution\":\"\",\"prefix\":\"\"}],\"id\":7},{\"name\":\"Term 8\",\"curriculum_items\":[{\"curriculum_requisites\":[],\"name\":\" \",\"metrics\":{\"centrality\":0,\"complexity\":1.0,\"blocking factor\":0,\"delay factor\":1.0},\"canonical_name\":\"\",\"nameSub\":\"ECE Elective\",\"id\":35,\"num\":\"\",\"credits\":3,\"institution\":\"\",\"prefix\":\"\"},{\"curriculum_requisites\":[],\"name\":\" \",\"metrics\":{\"centrality\":0,\"complexity\":1.0,\"blocking factor\":0,\"delay factor\":1.0},\"canonical_name\":\"\",\"nameSub\":\"ECE Elective\",\"id\":36,\"num\":\"\",\"credits\":3,\"institution\":\"\",\"prefix\":\"\"},{\"curriculum_requisites\":[],\"name\":\" \",\"metrics\":{\"centrality\":0,\"complexity\":1.0,\"blocking factor\":0,\"delay factor\":1.0},\"canonical_name\":\"\",\"nameSub\":\"ECE Elective\",\"id\":37,\"num\":\"\",\"credits\":3,\"institution\":\"\",\"prefix\":\"\"},{\"curriculum_requisites\":[],\"name\":\" \",\"metrics\":{\"centrality\":0,\"complexity\":1.0,\"blocking factor\":0,\"delay factor\":1.0},\"canonical_name\":\"\",\"nameSub\":\"Liberal Studies\",\"id\":38,\"num\":\"\",\"credits\":3,\"institution\":\"\",\"prefix\":\"\"}],\"id\":8}],\"CIP\":\"\",\"id\":62119800256760722,\"institution\":\"\"}}}}},\"children\":[{\"props\":{\"src\":\"http:\\/\\/localhost:8156\",\"id\":\"curriculum\",\"events\":{\"load\":\"(function (){this.contentWindow.postMessage({\\\"options\\\":{\\\"hideTerms\\\":false,\\\"edit\\\":true},\\\"name\\\":\\\"\\\",\\\"curriculum\\\":{\\\"name\\\":\\\"\\\",\\\"curriculum_terms\\\":[{\\\"name\\\":\\\"Term 1\\\",\\\"curriculum_items\\\":[{\\\"curriculum_requisites\\\":[],\\\"name\\\":\\\"CHEM 2090\\\",\\\"metrics\\\":{\\\"centrality\\\":0,\\\"complexity\\\":1.0,\\\"blocking factor\\\":0,\\\"delay factor\\\":1.0},\\\"canonical_name\\\":\\\"\\\",\\\"nameSub\\\":\\\"CHEM 2090\\\",\\\"id\\\":1,\\\"num\\\":\\\"2090\\\",\\\"credits\\\":3,\\\"institution\\\":\\\"\\\",\\\"prefix\\\":\\\"CHEM\\\"},{\\\"curriculum_requisites\\\":[],\\\"name\\\":\\\"MATH 1910\\\",\\\"metrics\\\":{\\\"centrality\\\":0,\\\"complexity\\\":15.0,\\\"blocking factor\\\":10,\\\"delay factor\\\":5.0},\\\"canonical_name\\\":\\\"\\\",\\\"nameSub\\\":\\\"MATH 1910\\\",\\\"id\\\":2,\\\"num\\\":\\\"1910\\\",\\\"credits\\\":3,\\\"institution\\\":\\\"\\\",\\\"prefix\\\":\\\"MATH\\\"},{\\\"curriculum_requisites\\\":[],\\\"name\\\":\\\"ENGRI 1xxx\\\",\\\"metrics\\\":{\\\"centrality\\\":0,\\\"complexity\\\":1.0,\\\"blocking factor\\\":0,\\\"delay factor\\\":1.0},\\\"canonical_name\\\":\\\"\\\",\\\"nameSub\\\":\\\"ENGRI 1xxx\\\",\\\"id\\\":3,\\\"num\\\":\\\"1xxx\\\",\\\"credits\\\":3,\\\"institution\\\":\\\"\\\",\\\"prefix\\\":\\\"ENGRI\\\"},{\\\"curriculum_requisites\\\":[],\\\"name\\\":\\\" \\\",\\\"metrics\\\":{\\\"centrality\\\":0,\\\"complexity\\\":1.0,\\\"blocking factor\\\":0,\\\"delay factor\\\":1.0},\\\"canonical_name\\\":\\\"\\\",\\\"nameSub\\\":\\\"1st Yr Writing Seminar\\\",\\\"id\\\":4,\\\"num\\\":\\\"\\\",\\\"credits\\\":3,\\\"institution\\\":\\\"\\\",\\\"prefix\\\":\\\"\\\"},{\\\"curriculum_requisites\\\":[],\\\"name\\\":\\\" \\\",\\\"metrics\\\":{\\\"centrality\\\":0,\\\"complexity\\\":1.0,\\\"blocking factor\\\":0,\\\"delay factor\\\":1.0},\\\"canonical_name\\\":\\\"\\\",\\\"nameSub\\\":\\\"PE\\\",\\\"id\\\":5,\\\"num\\\":\\\"\\\",\\\"credits\\\":3,\\\"institution\\\":\\\"\\\",\\\"prefix\\\":\\\"\\\"}],\\\"id\\\":1},{\\\"name\\\":\\\"Term 2\\\",\\\"curriculum_items\\\":[{\\\"curriculum_requisites\\\":[{\\\"source_id\\\":2,\\\"target_id\\\":6,\\\"type\\\":\\\"strict-coreq\\\"}],\\\"name\\\":\\\"PHYS 1112\\\",\\\"metrics\\\":{\\\"centrality\\\":9,\\\"complexity\\\":9.0,\\\"blocking factor\\\":4,\\\"delay factor\\\":5.0},\\\"canonical_name\\\":\\\"\\\",\\\"nameSub\\\":\\\"PHYS 1112\\\",\\\"id\\\":6,\\\"num\\\":\\\"1112\\\",\\\"credits\\\":3,\\\"institution\\\":\\\"\\\",\\\"prefix\\\":\\\"PHYS\\\"},{\\\"curriculum_requisites\\\":[{\\\"source_id\\\":2,\\\"target_id\\\":7,\\\"type\\\":\\\"strict-coreq\\\"}],\\\"name\\\":\\\"MATH 1920\\\",\\\"metrics\\\":{\\\"centrality\\\":28,\\\"complexity\\\":12.0,\\\"blocking factor\\\":8,\\\"delay factor\\\":4.0},\\\"canonical_name\\\":\\\"\\\",\\\"nameSub\\\":\\\"MATH 1920\\\",\\\"id\\\":7,\\\"num\\\":\\\"1920\\\",\\\"credits\\\":3,\\\"institution\\\":\\\"\\\",\\\"prefix\\\":\\\"MATH\\\"},{\\\"curriculum_requisites\\\":[],\\\"name\\\":\\\"CS 111x\\\",\\\"metrics\\\":{\\\"centrality\\\":0,\\\"complexity\\\":6.0,\\\"blocking factor\\\":3,\\\"delay factor\\\":3.0},\\\"canonical_name\\\":\\\"\\\",\\\"nameSub\\\":\\\"CS 111x\\\",\\\"id\\\":8,\\\"num\\\":\\\"111x\\\",\\\"credits\\\":3,\\\"institution\\\":\\\"\\\",\\\"prefix\\\":\\\"CS\\\"},{\\\"curriculum_requisites\\\":[],\\\"name\\\":\\\" \\\",\\\"metrics\\\":{\\\"centrality\\\":0,\\\"complexity\\\":1.0,\\\"blocking factor\\\":0,\\\"delay factor\\\":1.0},\\\"canonical_name\\\":\\\"\\\",\\\"nameSub\\\":\\\"1st Yr Writing Seminar\\\",\\\"id\\\":9,\\\"num\\\":\\\"\\\",\\\"credits\\\":3,\\\"institution\\\":\\\"\\\",\\\"prefix\\\":\\\"\\\"},{\\\"curriculum_requisites\\\":[],\\\"name\\\":\\\" \\\",\\\"metrics\\\":{\\\"centrality\\\":0,\\\"complexity\\\":1.0,\\\"blocking factor\\\":0,\\\"delay factor\\\":1.0},\\\"canonical_name\\\":\\\"\\\",\\\"nameSub\\\":\\\"PE\\\",\\\"id\\\":10,\\\"num\\\":\\\"\\\",\\\"credits\\\":3,\\\"institution\\\":\\\"\\\",\\\"prefix\\\":\\\"\\\"}],\\\"id\\\":2},{\\\"name\\\":\\\"Term 3\\\",\\\"curriculum_items\\\":[{\\\"curriculum_requisites\\\":[{\\\"source_id\\\":7,\\\"target_id\\\":11,\\\"type\\\":\\\"strict-coreq\\\"},{\\\"source_id\\\":6,\\\"target_id\\\":11,\\\"type\\\":\\\"strict-coreq\\\"}],\\\"name\\\":\\\"PHYS 2213\\\",\\\"metrics\\\":{\\\"centrality\\\":18,\\\"complexity\\\":8.0,\\\"blocking factor\\\":3,\\\"delay factor\\\":5.0},\\\"canonical_name\\\":\\\"\\\",\\\"nameSub\\\":\\\"PHYS 2213\\\",\\\"id\\\":11,\\\"num\\\":\\\"2213\\\",\\\"credits\\\":3,\\\"institution\\\":\\\"\\\",\\\"prefix\\\":\\\"PHYS\\\"},{\\\"curriculum_requisites\\\":[{\\\"source_id\\\":7,\\\"target_id\\\":12,\\\"type\\\":\\\"strict-coreq\\\"}],\\\"name\\\":\\\"MATH 2930\\\",\\\"metrics\\\":{\\\"centrality\\\":14,\\\"complexity\\\":8.0,\\\"blocking factor\\\":4,\\\"delay factor\\\":4.0},\\\"canonical_name\\\":\\\"\\\",\\\"nameSub\\\":\\\"MATH 2930\\\",\\\"id\\\":12,\\\"num\\\":\\\"2930\\\",\\\"credits\\\":3,\\\"institution\\\":\\\"\\\",\\\"prefix\\\":\\\"MATH\\\"},{\\\"curriculum_requisites\\\":[{\\\"source_id\\\":11,\\\"target_id\\\":13,\\\"type\\\":\\\"strict-coreq\\\"},{\\\"source_id\\\":12,\\\"target_id\\\":13,\\\"type\\\":\\\"strict-coreq\\\"}],\\\"name\\\":\\\"ECE\\/ENGRD 2100\\\",\\\"metrics\\\":{\\\"centrality\\\":15,\\\"complexity\\\":6.0,\\\"blocking factor\\\":1,\\\"delay factor\\\":5.0},\\\"canonical_name\\\":\\\"\\\",\\\"nameSub\\\":\\\"ECE\\/ENGRD 2100\\\",\\\"id\\\":13,\\\"num\\\":\\\"2100\\\",\\\"credits\\\":3,\\\"institution\\\":\\\"\\\",\\\"prefix\\\":\\\"ECE\\/ENGRD\\\"},{\\\"curriculum_requisites\\\":[{\\\"source_id\\\":8,\\\"target_id\\\":14,\\\"type\\\":\\\"strict-coreq\\\"}],\\\"name\\\":\\\"MECE\\/ENGRD 2300\\\",\\\"metrics\\\":{\\\"centrality\\\":3,\\\"complexity\\\":4.0,\\\"blocking factor\\\":1,\\\"delay factor\\\":3.0},\\\"canonical_name\\\":\\\"\\\",\\\"nameSub\\\":\\\"MECE\\/ENGRD 2300\\\",\\\"id\\\":14,\\\"num\\\":\\\"2300\\\",\\\"credits\\\":3,\\\"institution\\\":\\\"\\\",\\\"prefix\\\":\\\"MECE\\/ENGRD\\\"},{\\\"curriculum_requisites\\\":[],\\\"name\\\":\\\" \\\",\\\"metrics\\\":{\\\"centrality\\\":0,\\\"complexity\\\":1.0,\\\"blocking factor\\\":0,\\\"delay factor\\\":1.0},\\\"canonical_name\\\":\\\"\\\",\\\"nameSub\\\":\\\"Liberal Studies\\\",\\\"id\\\":15,\\\"num\\\":\\\"\\\",\\\"credits\\\":3,\\\"institution\\\":\\\"\\\",\\\"prefix\\\":\\\"\\\"}],\\\"id\\\":3},{\\\"name\\\":\\\"Term 4\\\",\\\"curriculum_items\\\":[{\\\"curriculum_requisites\\\":[{\\\"source_id\\\":12,\\\"target_id\\\":16,\\\"type\\\":\\\"strict-coreq\\\"}],\\\"name\\\":\\\"PHYS 2214\\\",\\\"metrics\\\":{\\\"centrality\\\":0,\\\"complexity\\\":4.0,\\\"blocking factor\\\":0,\\\"delay factor\\\":4.0},\\\"canonical_name\\\":\\\"\\\",\\\"nameSub\\\":\\\"PHYS 2214\\\",\\\"id\\\":16,\\\"num\\\":\\\"2214\\\",\\\"credits\\\":3,\\\"institution\\\":\\\"\\\",\\\"prefix\\\":\\\"PHYS\\\"},{\\\"curriculum_requisites\\\":[{\\\"source_id\\\":7,\\\"target_id\\\":17,\\\"type\\\":\\\"strict-coreq\\\"}],\\\"name\\\":\\\"MATH 2940\\\",\\\"metrics\\\":{\\\"centrality\\\":5,\\\"complexity\\\":5.0,\\\"blocking factor\\\":2,\\\"delay factor\\\":3.0},\\\"canonical_name\\\":\\\"\\\",\\\"nameSub\\\":\\\"MATH 2940\\\",\\\"id\\\":17,\\\"num\\\":\\\"2940\\\",\\\"credits\\\":3,\\\"institution\\\":\\\"\\\",\\\"prefix\\\":\\\"MATH\\\"},{\\\"curriculum_requisites\\\":[{\\\"source_id\\\":11,\\\"target_id\\\":18,\\\"type\\\":\\\"strict-coreq\\\"}],\\\"name\\\":\\\"ENGRD 2xxx\\\",\\\"metrics\\\":{\\\"centrality\\\":0,\\\"complexity\\\":4.0,\\\"blocking factor\\\":0,\\\"delay factor\\\":4.0},\\\"canonical_name\\\":\\\"\\\",\\\"nameSub\\\":\\\"ENGRD 2xxx\\\",\\\"id\\\":18,\\\"num\\\":\\\"2xxx\\\",\\\"credits\\\":3,\\\"institution\\\":\\\"\\\",\\\"prefix\\\":\\\"ENGRD\\\"},{\\\"curriculum_requisites\\\":[{\\\"source_id\\\":17,\\\"target_id\\\":19,\\\"type\\\":\\\"strict-coreq\\\"},{\\\"source_id\\\":12,\\\"target_id\\\":19,\\\"type\\\":\\\"strict-coreq\\\"}],\\\"name\\\":\\\"ECE\\/ENGRD 2200\\/2220\\\",\\\"metrics\\\":{\\\"centrality\\\":10,\\\"complexity\\\":5.0,\\\"blocking factor\\\":1,\\\"delay factor\\\":4.0},\\\"canonical_name\\\":\\\"\\\",\\\"nameSub\\\":\\\"ECE 2200\\/ENGRD 2220\\\",\\\"id\\\":19,\\\"num\\\":\\\"2200\\/2220\\\",\\\"credits\\\":3,\\\"institution\\\":\\\"\\\",\\\"prefix\\\":\\\"ECE\\/ENGRD\\\"},{\\\"curriculum_requisites\\\":[],\\\"name\\\":\\\" \\\",\\\"metrics\\\":{\\\"centrality\\\":0,\\\"complexity\\\":1.0,\\\"blocking factor\\\":0,\\\"delay factor\\\":1.0},\\\"canonical_name\\\":\\\"\\\",\\\"nameSub\\\":\\\"Liberal Studies\\\",\\\"id\\\":20,\\\"num\\\":\\\"\\\",\\\"credits\\\":3,\\\"institution\\\":\\\"\\\",\\\"prefix\\\":\\\"\\\"}],\\\"id\\\":4},{\\\"name\\\":\\\"Term 5\\\",\\\"curriculum_items\\\":[{\\\"curriculum_requisites\\\":[],\\\"name\\\":\\\" \\\",\\\"metrics\\\":{\\\"centrality\\\":0,\\\"complexity\\\":1.0,\\\"blocking factor\\\":0,\\\"delay factor\\\":1.0},\\\"canonical_name\\\":\\\"\\\",\\\"nameSub\\\":\\\"ECE Foundations\\\",\\\"id\\\":21,\\\"num\\\":\\\"\\\",\\\"credits\\\":3,\\\"institution\\\":\\\"\\\",\\\"prefix\\\":\\\"\\\"},{\\\"curriculum_requisites\\\":[],\\\"name\\\":\\\" \\\",\\\"metrics\\\":{\\\"centrality\\\":0,\\\"complexity\\\":1.0,\\\"blocking factor\\\":0,\\\"delay factor\\\":1.0},\\\"canonical_name\\\":\\\"\\\",\\\"nameSub\\\":\\\"Elective\\\",\\\"id\\\":22,\\\"num\\\":\\\"\\\",\\\"credits\\\":3,\\\"institution\\\":\\\"\\\",\\\"prefix\\\":\\\"\\\"},{\\\"curriculum_requisites\\\":[{\\\"source_id\\\":8,\\\"target_id\\\":23,\\\"type\\\":\\\"strict-coreq\\\"}],\\\"name\\\":\\\" \\\",\\\"metrics\\\":{\\\"centrality\\\":0,\\\"complexity\\\":2.0,\\\"blocking factor\\\":0,\\\"delay factor\\\":2.0},\\\"canonical_name\\\":\\\"\\\",\\\"nameSub\\\":\\\"Outside Tech. Elective\\\",\\\"id\\\":23,\\\"num\\\":\\\"\\\",\\\"credits\\\":3,\\\"institution\\\":\\\"\\\",\\\"prefix\\\":\\\"\\\"},{\\\"curriculum_requisites\\\":[{\\\"source_id\\\":13,\\\"target_id\\\":24,\\\"type\\\":\\\"strict-coreq\\\"},{\\\"source_id\\\":14,\\\"target_id\\\":24,\\\"type\\\":\\\"strict-coreq\\\"},{\\\"source_id\\\":19,\\\"target_id\\\":24,\\\"type\\\":\\\"strict-coreq\\\"}],\\\"name\\\":\\\"ECE 3400\\\",\\\"metrics\\\":{\\\"centrality\\\":0,\\\"complexity\\\":5.0,\\\"blocking factor\\\":0,\\\"delay factor\\\":5.0},\\\"canonical_name\\\":\\\"\\\",\\\"nameSub\\\":\\\"ECE 3400\\\",\\\"id\\\":24,\\\"num\\\":\\\"3400\\\",\\\"credits\\\":3,\\\"institution\\\":\\\"\\\",\\\"prefix\\\":\\\"ECE\\\"},{\\\"curriculum_requisites\\\":[],\\\"name\\\":\\\" \\\",\\\"metrics\\\":{\\\"centrality\\\":0,\\\"complexity\\\":1.0,\\\"blocking factor\\\":0,\\\"delay factor\\\":1.0},\\\"canonical_name\\\":\\\"\\\",\\\"nameSub\\\":\\\"Liberal Studies\\\",\\\"id\\\":25,\\\"num\\\":\\\"\\\",\\\"credits\\\":3,\\\"institution\\\":\\\"\\\",\\\"prefix\\\":\\\"\\\"}],\\\"id\\\":5},{\\\"name\\\":\\\"Term 6\\\",\\\"curriculum_items\\\":[{\\\"curriculum_requisites\\\":[],\\\"name\\\":\\\" \\\",\\\"metrics\\\":{\\\"centrality\\\":0,\\\"complexity\\\":1.0,\\\"blocking factor\\\":0,\\\"delay factor\\\":1.0},\\\"canonical_name\\\":\\\"\\\",\\\"nameSub\\\":\\\"ECE Foundations\\\",\\\"id\\\":26,\\\"num\\\":\\\"\\\",\\\"credits\\\":3,\\\"institution\\\":\\\"\\\",\\\"prefix\\\":\\\"\\\"},{\\\"curriculum_requisites\\\":[],\\\"name\\\":\\\" \\\",\\\"metrics\\\":{\\\"centrality\\\":0,\\\"complexity\\\":1.0,\\\"blocking factor\\\":0,\\\"delay factor\\\":1.0},\\\"canonical_name\\\":\\\"\\\",\\\"nameSub\\\":\\\"ECE Foundations\\\",\\\"id\\\":27,\\\"num\\\":\\\"\\\",\\\"credits\\\":3,\\\"institution\\\":\\\"\\\",\\\"prefix\\\":\\\"\\\"},{\\\"curriculum_requisites\\\":[],\\\"name\\\":\\\" \\\",\\\"metrics\\\":{\\\"centrality\\\":0,\\\"complexity\\\":1.0,\\\"blocking factor\\\":0,\\\"delay factor\\\":1.0},\\\"canonical_name\\\":\\\"\\\",\\\"nameSub\\\":\\\"Outside Tech. Elective\\\",\\\"id\\\":28,\\\"num\\\":\\\"\\\",\\\"credits\\\":3,\\\"institution\\\":\\\"\\\",\\\"prefix\\\":\\\"\\\"},{\\\"curriculum_requisites\\\":[],\\\"name\\\":\\\" \\\",\\\"metrics\\\":{\\\"centrality\\\":0,\\\"complexity\\\":1.0,\\\"blocking factor\\\":0,\\\"delay factor\\\":1.0},\\\"canonical_name\\\":\\\"\\\",\\\"nameSub\\\":\\\"Elective\\\",\\\"id\\\":29,\\\"num\\\":\\\"\\\",\\\"credits\\\":3,\\\"institution\\\":\\\"\\\",\\\"prefix\\\":\\\"\\\"},{\\\"curriculum_requisites\\\":[],\\\"name\\\":\\\" \\\",\\\"metrics\\\":{\\\"centrality\\\":0,\\\"complexity\\\":1.0,\\\"blocking factor\\\":0,\\\"delay factor\\\":1.0},\\\"canonical_name\\\":\\\"\\\",\\\"nameSub\\\":\\\"Liberal Studies\\\",\\\"id\\\":30,\\\"num\\\":\\\"\\\",\\\"credits\\\":3,\\\"institution\\\":\\\"\\\",\\\"prefix\\\":\\\"\\\"}],\\\"id\\\":6},{\\\"name\\\":\\\"Term 7\\\",\\\"curriculum_items\\\":[{\\\"curriculum_requisites\\\":[],\\\"name\\\":\\\" \\\",\\\"metrics\\\":{\\\"centrality\\\":0,\\\"complexity\\\":1.0,\\\"blocking factor\\\":0,\\\"delay factor\\\":1.0},\\\"canonical_name\\\":\\\"\\\",\\\"nameSub\\\":\\\"ECE Elective \\\",\\\"id\\\":31,\\\"num\\\":\\\"\\\",\\\"credits\\\":3,\\\"institution\\\":\\\"\\\",\\\"prefix\\\":\\\"\\\"},{\\\"curriculum_requisites\\\":[],\\\"name\\\":\\\" \\\",\\\"metrics\\\":{\\\"centrality\\\":0,\\\"complexity\\\":1.0,\\\"blocking factor\\\":0,\\\"delay factor\\\":1.0},\\\"canonical_name\\\":\\\"\\\",\\\"nameSub\\\":\\\"ECE Elective\\\",\\\"id\\\":32,\\\"num\\\":\\\"\\\",\\\"credits\\\":3,\\\"institution\\\":\\\"\\\",\\\"prefix\\\":\\\"\\\"},{\\\"curriculum_requisites\\\":[],\\\"name\\\":\\\" \\\",\\\"metrics\\\":{\\\"centrality\\\":0,\\\"complexity\\\":1.0,\\\"blocking factor\\\":0,\\\"delay factor\\\":1.0},\\\"canonical_name\\\":\\\"\\\",\\\"nameSub\\\":\\\"Outside Tech. Elective\\\",\\\"id\\\":33,\\\"num\\\":\\\"\\\",\\\"credits\\\":3,\\\"institution\\\":\\\"\\\",\\\"prefix\\\":\\\"\\\"},{\\\"curriculum_requisites\\\":[],\\\"name\\\":\\\" \\\",\\\"metrics\\\":{\\\"centrality\\\":0,\\\"complexity\\\":1.0,\\\"blocking factor\\\":0,\\\"delay factor\\\":1.0},\\\"canonical_name\\\":\\\"\\\",\\\"nameSub\\\":\\\"Liberal Studies\\\",\\\"id\\\":34,\\\"num\\\":\\\"\\\",\\\"credits\\\":3,\\\"institution\\\":\\\"\\\",\\\"prefix\\\":\\\"\\\"}],\\\"id\\\":7},{\\\"name\\\":\\\"Term 8\\\",\\\"curriculum_items\\\":[{\\\"curriculum_requisites\\\":[],\\\"name\\\":\\\" \\\",\\\"metrics\\\":{\\\"centrality\\\":0,\\\"complexity\\\":1.0,\\\"blocking factor\\\":0,\\\"delay factor\\\":1.0},\\\"canonical_name\\\":\\\"\\\",\\\"nameSub\\\":\\\"ECE Elective\\\",\\\"id\\\":35,\\\"num\\\":\\\"\\\",\\\"credits\\\":3,\\\"institution\\\":\\\"\\\",\\\"prefix\\\":\\\"\\\"},{\\\"curriculum_requisites\\\":[],\\\"name\\\":\\\" \\\",\\\"metrics\\\":{\\\"centrality\\\":0,\\\"complexity\\\":1.0,\\\"blocking factor\\\":0,\\\"delay factor\\\":1.0},\\\"canonical_name\\\":\\\"\\\",\\\"nameSub\\\":\\\"ECE Elective\\\",\\\"id\\\":36,\\\"num\\\":\\\"\\\",\\\"credits\\\":3,\\\"institution\\\":\\\"\\\",\\\"prefix\\\":\\\"\\\"},{\\\"curriculum_requisites\\\":[],\\\"name\\\":\\\" \\\",\\\"metrics\\\":{\\\"centrality\\\":0,\\\"complexity\\\":1.0,\\\"blocking factor\\\":0,\\\"delay factor\\\":1.0},\\\"canonical_name\\\":\\\"\\\",\\\"nameSub\\\":\\\"ECE Elective\\\",\\\"id\\\":37,\\\"num\\\":\\\"\\\",\\\"credits\\\":3,\\\"institution\\\":\\\"\\\",\\\"prefix\\\":\\\"\\\"},{\\\"curriculum_requisites\\\":[],\\\"name\\\":\\\" \\\",\\\"metrics\\\":{\\\"centrality\\\":0,\\\"complexity\\\":1.0,\\\"blocking factor\\\":0,\\\"delay factor\\\":1.0},\\\"canonical_name\\\":\\\"\\\",\\\"nameSub\\\":\\\"Liberal Studies\\\",\\\"id\\\":38,\\\"num\\\":\\\"\\\",\\\"credits\\\":3,\\\"institution\\\":\\\"\\\",\\\"prefix\\\":\\\"\\\"}],\\\"id\\\":8}],\\\"CIP\\\":\\\"\\\",\\\"id\\\":62119800256760722,\\\"institution\\\":\\\"\\\"}},\\\"*\\\"); window.removeEventListener(\\\"message\\\",window.messageReceived); window.messageReceived=(function (event){return (event.data.curriculum!==undefined) ? (_webIOScope.setObservableValue({\\\"name\\\":\\\"curriculum-data\\\",\\\"scope\\\":\\\"scope-ae5c0323-3532-4694-b22c-3542f19ab9db\\\",\\\"id\\\":\\\"ob_03\\\",\\\"type\\\":\\\"observable\\\"},event.data.curriculum)) : undefined}); window.addEventListener(\\\"message\\\",window.messageReceived); window.removeEventListener(\\\"message\\\",window.messageReceived); window.messageReceived=(function (event){return (event.data.curriculum!==undefined) ? (console.log(event.data.curriculum)) : undefined}); return window.addEventListener(\\\"message\\\",window.messageReceived)})\"},\"style\":{\"padding\":\"0\",\"height\":\"100vh\",\"margin\":\"0\",\"border\":\"none\",\"width\":\"100%\"}},\"nodeType\":\"DOM\",\"type\":\"node\",\"instanceArgs\":{\"namespace\":\"html\",\"tag\":\"iframe\"},\"children\":[\"\"]}]},\n",
       "        );\n",
       "    } else {\n",
       "        document\n",
       "            .querySelector('[data-webio-mountpoint=\"8348922482754758874\"]')\n",
       "            .innerHTML = '<strong>WebIO not detected.</strong>';\n",
       "    }\n",
       "    </script>\n",
       "</div>\n"
      ],
      "text/plain": [
       "WebIO.Scope(\"scope-ae5c0323-3532-4694-b22c-3542f19ab9db\", WebIO.Node{WebIO.DOM}(WebIO.DOM(:html, :iframe), Any[\"\"], Dict{Symbol,Any}(:src=>\"http://localhost:8156\",:id=>\"curriculum\",:events=>Dict(:load=>JSString(\"(function (){this.contentWindow.postMessage({\\\"options\\\":{\\\"hideTerms\\\":false,\\\"edit\\\":true},\\\"name\\\":\\\"\\\",\\\"curriculum\\\":{\\\"name\\\":\\\"\\\",\\\"curriculum_terms\\\":[{\\\"name\\\":\\\"Term 1\\\",\\\"curriculum_items\\\":[{\\\"curriculum_requisites\\\":[],\\\"name\\\":\\\"CHEM 2090\\\",\\\"metrics\\\":{\\\"centrality\\\":0,\\\"complexity\\\":1.0,\\\"blocking factor\\\":0,\\\"delay factor\\\":1.0},\\\"canonical_name\\\":\\\"\\\",\\\"nameSub\\\":\\\"CHEM 2090\\\",\\\"id\\\":1,\\\"num\\\":\\\"2090\\\",\\\"credits\\\":3,\\\"institution\\\":\\\"\\\",\\\"prefix\\\":\\\"CHEM\\\"},{\\\"curriculum_requisites\\\":[],\\\"name\\\":\\\"MATH 1910\\\",\\\"metrics\\\":{\\\"centrality\\\":0,\\\"complexity\\\":15.0,\\\"blocking factor\\\":10,\\\"delay factor\\\":5.0},\\\"canonical_name\\\":\\\"\\\",\\\"nameSub\\\":\\\"MATH 1910\\\",\\\"id\\\":2,\\\"num\\\":\\\"1910\\\",\\\"credits\\\":3,\\\"institution\\\":\\\"\\\",\\\"prefix\\\":\\\"MATH\\\"},{\\\"curriculum_requisites\\\":[],\\\"name\\\":\\\"ENGRI 1xxx\\\",\\\"metrics\\\":{\\\"centrality\\\":0,\\\"complexity\\\":1.0,\\\"blocking factor\\\":0,\\\"delay factor\\\":1.0},\\\"canonical_name\\\":\\\"\\\",\\\"nameSub\\\":\\\"ENGRI 1xxx\\\",\\\"id\\\":3,\\\"num\\\":\\\"1xxx\\\",\\\"credits\\\":3,\\\"institution\\\":\\\"\\\",\\\"prefix\\\":\\\"ENGRI\\\"},{\\\"curriculum_requisites\\\":[],\\\"name\\\":\\\" \\\",\\\"metrics\\\":{\\\"centrality\\\":0,\\\"complexity\\\":1.0,\\\"blocking factor\\\":0,\\\"delay factor\\\":1.0},\\\"canonical_name\\\":\\\"\\\",\\\"nameSub\\\":\\\"1st Yr Writing Seminar\\\",\\\"id\\\":4,\\\"num\\\":\\\"\\\",\\\"credits\\\":3,\\\"institution\\\":\\\"\\\",\\\"prefix\\\":\\\"\\\"},{\\\"curriculum_requisites\\\":[],\\\"name\\\":\\\" \\\",\\\"metrics\\\":{\\\"centrality\\\":0,\\\"complexity\\\":1.0,\\\"blocking factor\\\":0,\\\"delay factor\\\":1.0},\\\"canonical_name\\\":\\\"\\\",\\\"nameSub\\\":\\\"PE\\\",\\\"id\\\":5,\\\"num\\\":\\\"\\\",\\\"credits\\\":3,\\\"institution\\\":\\\"\\\",\\\"prefix\\\":\\\"\\\"}],\\\"id\\\":1},{\\\"name\\\":\\\"Term 2\\\",\\\"curriculum_items\\\":[{\\\"curriculum_requisites\\\":[{\\\"source_id\\\":2,\\\"target_id\\\":6,\\\"type\\\":\\\"strict-coreq\\\"}],\\\"name\\\":\\\"PHYS 1112\\\",\\\"metrics\\\":{\\\"centrality\\\":9,\\\"complexity\\\":9.0,\\\"blocking factor\\\":4,\\\"delay factor\\\":5.0},\\\"canonical_name\\\":\\\"\\\",\\\"nameSub\\\":\\\"PHYS 1112\\\",\\\"id\\\":6,\\\"num\\\":\\\"1112\\\",\\\"credits\\\":3,\\\"institution\\\":\\\"\\\",\\\"prefix\\\":\\\"PHYS\\\"},{\\\"curriculum_requisites\\\":[{\\\"source_id\\\":2,\\\"target_id\\\":7,\\\"type\\\":\\\"strict-coreq\\\"}],\\\"name\\\":\\\"MATH 1920\\\",\\\"metrics\\\":{\\\"centrality\\\":28,\\\"complexity\\\":12.0,\\\"blocking factor\\\":8,\\\"delay factor\\\":4.0},\\\"canonical_name\\\":\\\"\\\",\\\"nameSub\\\":\\\"MATH 1920\\\",\\\"id\\\":7,\\\"num\\\":\\\"1920\\\",\\\"credits\\\":3,\\\"institution\\\":\\\"\\\",\\\"prefix\\\":\\\"MATH\\\"},{\\\"curriculum_requisites\\\":[],\\\"name\\\":\\\"CS 111x\\\",\\\"metrics\\\":{\\\"centrality\\\":0,\\\"complexity\\\":6.0,\\\"blocking factor\\\":3,\\\"delay factor\\\":3.0},\\\"canonical_name\\\":\\\"\\\",\\\"nameSub\\\":\\\"CS 111x\\\",\\\"id\\\":8,\\\"num\\\":\\\"111x\\\",\\\"credits\\\":3,\\\"institution\\\":\\\"\\\",\\\"prefix\\\":\\\"CS\\\"},{\\\"curriculum_requisites\\\":[],\\\"name\\\":\\\" \\\",\\\"metrics\\\":{\\\"centrality\\\":0,\\\"complexity\\\":1.0,\\\"blocking factor\\\":0,\\\"delay factor\\\":1.0},\\\"canonical_name\\\":\\\"\\\",\\\"nameSub\\\":\\\"1st Yr Writing Seminar\\\",\\\"id\\\":9,\\\"num\\\":\\\"\\\",\\\"credits\\\":3,\\\"institution\\\":\\\"\\\",\\\"prefix\\\":\\\"\\\"},{\\\"curriculum_requisites\\\":[],\\\"name\\\":\\\" \\\",\\\"metrics\\\":{\\\"centrality\\\":0,\\\"complexity\\\":1.0,\\\"blocking factor\\\":0,\\\"delay factor\\\":1.0},\\\"canonical_name\\\":\\\"\\\",\\\"nameSub\\\":\\\"PE\\\",\\\"id\\\":10,\\\"num\\\":\\\"\\\",\\\"credits\\\":3,\\\"institution\\\":\\\"\\\",\\\"prefix\\\":\\\"\\\"}],\\\"id\\\":2},{\\\"name\\\":\\\"Term 3\\\",\\\"curriculum_items\\\":[{\\\"curriculum_requisites\\\":[{\\\"source_id\\\":7,\\\"target_id\\\":11,\\\"type\\\":\\\"strict-coreq\\\"},{\\\"source_id\\\":6,\\\"target_id\\\":11,\\\"type\\\":\\\"strict-coreq\\\"}],\\\"name\\\":\\\"PHYS 2213\\\",\\\"metrics\\\":{\\\"centrality\\\":18,\\\"complexity\\\":8.0,\\\"blocking factor\\\":3,\\\"delay factor\\\":5.0},\\\"canonical_name\\\":\\\"\\\",\\\"nameSub\\\":\\\"PHYS 2213\\\",\\\"id\\\":11,\\\"num\\\":\\\"2213\\\",\\\"credits\\\":3,\\\"institution\\\":\\\"\\\",\\\"prefix\\\":\\\"PHYS\\\"},{\\\"curriculum_requisites\\\":[{\\\"source_id\\\":7,\\\"target_id\\\":12,\\\"type\\\":\\\"strict-coreq\\\"}],\\\"name\\\":\\\"MATH 2930\\\",\\\"metrics\\\":{\\\"centrality\\\":14,\\\"complexity\\\":8.0,\\\"blocking factor\\\":4,\\\"delay factor\\\":4.0},\\\"canonical_name\\\":\\\"\\\",\\\"nameSub\\\":\\\"MATH 2930\\\",\\\"id\\\":12,\\\"num\\\":\\\"2930\\\",\\\"credits\\\":3,\\\"institution\\\":\\\"\\\",\\\"prefix\\\":\\\"MATH\\\"},{\\\"curriculum_requisites\\\":[{\\\"source_id\\\":11,\\\"target_id\\\":13,\\\"type\\\":\\\"strict-coreq\\\"},{\\\"source_id\\\":12,\\\"target_id\\\":13,\\\"type\\\":\\\"strict-coreq\\\"}],\\\"name\\\":\\\"ECE/ENGRD 2100\\\",\\\"metrics\\\":{\\\"centrality\\\":15,\\\"complexity\\\":6.0,\\\"blocking factor\\\":1,\\\"delay factor\\\":5.0},\\\"canonical_name\\\":\\\"\\\",\\\"nameSub\\\":\\\"ECE/ENGRD 2100\\\",\\\"id\\\":13,\\\"num\\\":\\\"2100\\\",\\\"credits\\\":3,\\\"institution\\\":\\\"\\\",\\\"prefix\\\":\\\"ECE/ENGRD\\\"},{\\\"curriculum_requisites\\\":[{\\\"source_id\\\":8,\\\"target_id\\\":14,\\\"type\\\":\\\"strict-coreq\\\"}],\\\"name\\\":\\\"MECE/ENGRD 2300\\\",\\\"metrics\\\":{\\\"centrality\\\":3,\\\"complexity\\\":4.0,\\\"blocking factor\\\":1,\\\"delay factor\\\":3.0},\\\"canonical_name\\\":\\\"\\\",\\\"nameSub\\\":\\\"MECE/ENGRD 2300\\\",\\\"id\\\":14,\\\"num\\\":\\\"2300\\\",\\\"credits\\\":3,\\\"institution\\\":\\\"\\\",\\\"prefix\\\":\\\"MECE/ENGRD\\\"},{\\\"curriculum_requisites\\\":[],\\\"name\\\":\\\" \\\",\\\"metrics\\\":{\\\"centrality\\\":0,\\\"complexity\\\":1.0,\\\"blocking factor\\\":0,\\\"delay factor\\\":1.0},\\\"canonical_name\\\":\\\"\\\",\\\"nameSub\\\":\\\"Liberal Studies\\\",\\\"id\\\":15,\\\"num\\\":\\\"\\\",\\\"credits\\\":3,\\\"institution\\\":\\\"\\\",\\\"prefix\\\":\\\"\\\"}],\\\"id\\\":3},{\\\"name\\\":\\\"Term 4\\\",\\\"curriculum_items\\\":[{\\\"curriculum_requisites\\\":[{\\\"source_id\\\":12,\\\"target_id\\\":16,\\\"type\\\":\\\"strict-coreq\\\"}],\\\"name\\\":\\\"PHYS 2214\\\",\\\"metrics\\\":{\\\"centrality\\\":0,\\\"complexity\\\":4.0,\\\"blocking factor\\\":0,\\\"delay factor\\\":4.0},\\\"canonical_name\\\":\\\"\\\",\\\"nameSub\\\":\\\"PHYS 2214\\\",\\\"id\\\":16,\\\"num\\\":\\\"2214\\\",\\\"credits\\\":3,\\\"institution\\\":\\\"\\\",\\\"prefix\\\":\\\"PHYS\\\"},{\\\"curriculum_requisites\\\":[{\\\"source_id\\\":7,\\\"target_id\\\":17,\\\"type\\\":\\\"strict-coreq\\\"}],\\\"name\\\":\\\"MATH 2940\\\",\\\"metrics\\\":{\\\"centrality\\\":5,\\\"complexity\\\":5.0,\\\"blocking factor\\\":2,\\\"delay factor\\\":3.0},\\\"canonical_name\\\":\\\"\\\",\\\"nameSub\\\":\\\"MATH 2940\\\",\\\"id\\\":17,\\\"num\\\":\\\"2940\\\",\\\"credits\\\":3,\\\"institution\\\":\\\"\\\",\\\"prefix\\\":\\\"MATH\\\"},{\\\"curriculum_requisites\\\":[{\\\"source_id\\\":11,\\\"target_id\\\":18,\\\"type\\\":\\\"strict-coreq\\\"}],\\\"name\\\":\\\"ENGRD 2xxx\\\",\\\"metrics\\\":{\\\"centrality\\\":0,\\\"complexity\\\":4.0,\\\"blocking factor\\\":0,\\\"delay factor\\\":4.0},\\\"canonical_name\\\":\\\"\\\",\\\"nameSub\\\":\\\"ENGRD 2xxx\\\",\\\"id\\\":18,\\\"num\\\":\\\"2xxx\\\",\\\"credits\\\":3,\\\"institution\\\":\\\"\\\",\\\"prefix\\\":\\\"ENGRD\\\"},{\\\"curriculum_requisites\\\":[{\\\"source_id\\\":17,\\\"target_id\\\":19,\\\"type\\\":\\\"strict-coreq\\\"},{\\\"source_id\\\":12,\\\"target_id\\\":19,\\\"type\\\":\\\"strict-coreq\\\"}],\\\"name\\\":\\\"ECE/ENGRD 2200/2220\\\",\\\"metrics\\\":{\\\"centrality\\\":10,\\\"complexity\\\":5.0,\\\"blocking factor\\\":1,\\\"delay factor\\\":4.0},\\\"canonical_name\\\":\\\"\\\",\\\"nameSub\\\":\\\"ECE 2200/ENGRD 2220\\\",\\\"id\\\":19,\\\"num\\\":\\\"2200/2220\\\",\\\"credits\\\":3,\\\"institution\\\":\\\"\\\",\\\"prefix\\\":\\\"ECE/ENGRD\\\"},{\\\"curriculum_requisites\\\":[],\\\"name\\\":\\\" \\\",\\\"metrics\\\":{\\\"centrality\\\":0,\\\"complexity\\\":1.0,\\\"blocking factor\\\":0,\\\"delay factor\\\":1.0},\\\"canonical_name\\\":\\\"\\\",\\\"nameSub\\\":\\\"Liberal Studies\\\",\\\"id\\\":20,\\\"num\\\":\\\"\\\",\\\"credits\\\":3,\\\"institution\\\":\\\"\\\",\\\"prefix\\\":\\\"\\\"}],\\\"id\\\":4},{\\\"name\\\":\\\"Term 5\\\",\\\"curriculum_items\\\":[{\\\"curriculum_requisites\\\":[],\\\"name\\\":\\\" \\\",\\\"metrics\\\":{\\\"centrality\\\":0,\\\"complexity\\\":1.0,\\\"blocking factor\\\":0,\\\"delay factor\\\":1.0},\\\"canonical_name\\\":\\\"\\\",\\\"nameSub\\\":\\\"ECE Foundations\\\",\\\"id\\\":21,\\\"num\\\":\\\"\\\",\\\"credits\\\":3,\\\"institution\\\":\\\"\\\",\\\"prefix\\\":\\\"\\\"},{\\\"curriculum_requisites\\\":[],\\\"name\\\":\\\" \\\",\\\"metrics\\\":{\\\"centrality\\\":0,\\\"complexity\\\":1.0,\\\"blocking factor\\\":0,\\\"delay factor\\\":1.0},\\\"canonical_name\\\":\\\"\\\",\\\"nameSub\\\":\\\"Elective\\\",\\\"id\\\":22,\\\"num\\\":\\\"\\\",\\\"credits\\\":3,\\\"institution\\\":\\\"\\\",\\\"prefix\\\":\\\"\\\"},{\\\"curriculum_requisites\\\":[{\\\"source_id\\\":8,\\\"target_id\\\":23,\\\"type\\\":\\\"strict-coreq\\\"}],\\\"name\\\":\\\" \\\",\\\"metrics\\\":{\\\"centrality\\\":0,\\\"complexity\\\":2.0,\\\"blocking factor\\\":0,\\\"delay factor\\\":2.0},\\\"canonical_name\\\":\\\"\\\",\\\"nameSub\\\":\\\"Outside Tech. Elective\\\",\\\"id\\\":23,\\\"num\\\":\\\"\\\",\\\"credits\\\":3,\\\"institution\\\":\\\"\\\",\\\"prefix\\\":\\\"\\\"},{\\\"curriculum_requisites\\\":[{\\\"source_id\\\":13,\\\"target_id\\\":24,\\\"type\\\":\\\"strict-coreq\\\"},{\\\"source_id\\\":14,\\\"target_id\\\":24,\\\"type\\\":\\\"strict-coreq\\\"},{\\\"source_id\\\":19,\\\"target_id\\\":24,\\\"type\\\":\\\"strict-coreq\\\"}],\\\"name\\\":\\\"ECE 3400\\\",\\\"metrics\\\":{\\\"centrality\\\":0,\\\"complexity\\\":5.0,\\\"blocking factor\\\":0,\\\"delay factor\\\":5.0},\\\"canonical_name\\\":\\\"\\\",\\\"nameSub\\\":\\\"ECE 3400\\\",\\\"id\\\":24,\\\"num\\\":\\\"3400\\\",\\\"credits\\\":3,\\\"institution\\\":\\\"\\\",\\\"prefix\\\":\\\"ECE\\\"},{\\\"curriculum_requisites\\\":[],\\\"name\\\":\\\" \\\",\\\"metrics\\\":{\\\"centrality\\\":0,\\\"complexity\\\":1.0,\\\"blocking factor\\\":0,\\\"delay factor\\\":1.0},\\\"canonical_name\\\":\\\"\\\",\\\"nameSub\\\":\\\"Liberal Studies\\\",\\\"id\\\":25,\\\"num\\\":\\\"\\\",\\\"credits\\\":3,\\\"institution\\\":\\\"\\\",\\\"prefix\\\":\\\"\\\"}],\\\"id\\\":5},{\\\"name\\\":\\\"Term 6\\\",\\\"curriculum_items\\\":[{\\\"curriculum_requisites\\\":[],\\\"name\\\":\\\" \\\",\\\"metrics\\\":{\\\"centrality\\\":0,\\\"complexity\\\":1.0,\\\"blocking factor\\\":0,\\\"delay factor\\\":1.0},\\\"canonical_name\\\":\\\"\\\",\\\"nameSub\\\":\\\"ECE Foundations\\\",\\\"id\\\":26,\\\"num\\\":\\\"\\\",\\\"credits\\\":3,\\\"institution\\\":\\\"\\\",\\\"prefix\\\":\\\"\\\"},{\\\"curriculum_requisites\\\":[],\\\"name\\\":\\\" \\\",\\\"metrics\\\":{\\\"centrality\\\":0,\\\"complexity\\\":1.0,\\\"blocking factor\\\":0,\\\"delay factor\\\":1.0},\\\"canonical_name\\\":\\\"\\\",\\\"nameSub\\\":\\\"ECE Foundations\\\",\\\"id\\\":27,\\\"num\\\":\\\"\\\",\\\"credits\\\":3,\\\"institution\\\":\\\"\\\",\\\"prefix\\\":\\\"\\\"},{\\\"curriculum_requisites\\\":[],\\\"name\\\":\\\" \\\",\\\"metrics\\\":{\\\"centrality\\\":0,\\\"complexity\\\":1.0,\\\"blocking factor\\\":0,\\\"delay factor\\\":1.0},\\\"canonical_name\\\":\\\"\\\",\\\"nameSub\\\":\\\"Outside Tech. Elective\\\",\\\"id\\\":28,\\\"num\\\":\\\"\\\",\\\"credits\\\":3,\\\"institution\\\":\\\"\\\",\\\"prefix\\\":\\\"\\\"},{\\\"curriculum_requisites\\\":[],\\\"name\\\":\\\" \\\",\\\"metrics\\\":{\\\"centrality\\\":0,\\\"complexity\\\":1.0,\\\"blocking factor\\\":0,\\\"delay factor\\\":1.0},\\\"canonical_name\\\":\\\"\\\",\\\"nameSub\\\":\\\"Elective\\\",\\\"id\\\":29,\\\"num\\\":\\\"\\\",\\\"credits\\\":3,\\\"institution\\\":\\\"\\\",\\\"prefix\\\":\\\"\\\"},{\\\"curriculum_requisites\\\":[],\\\"name\\\":\\\" \\\",\\\"metrics\\\":{\\\"centrality\\\":0,\\\"complexity\\\":1.0,\\\"blocking factor\\\":0,\\\"delay factor\\\":1.0},\\\"canonical_name\\\":\\\"\\\",\\\"nameSub\\\":\\\"Liberal Studies\\\",\\\"id\\\":30,\\\"num\\\":\\\"\\\",\\\"credits\\\":3,\\\"institution\\\":\\\"\\\",\\\"prefix\\\":\\\"\\\"}],\\\"id\\\":6},{\\\"name\\\":\\\"Term 7\\\",\\\"curriculum_items\\\":[{\\\"curriculum_requisites\\\":[],\\\"name\\\":\\\" \\\",\\\"metrics\\\":{\\\"centrality\\\":0,\\\"complexity\\\":1.0,\\\"blocking factor\\\":0,\\\"delay factor\\\":1.0},\\\"canonical_name\\\":\\\"\\\",\\\"nameSub\\\":\\\"ECE Elective \\\",\\\"id\\\":31,\\\"num\\\":\\\"\\\",\\\"credits\\\":3,\\\"institution\\\":\\\"\\\",\\\"prefix\\\":\\\"\\\"},{\\\"curriculum_requisites\\\":[],\\\"name\\\":\\\" \\\",\\\"metrics\\\":{\\\"centrality\\\":0,\\\"complexity\\\":1.0,\\\"blocking factor\\\":0,\\\"delay factor\\\":1.0},\\\"canonical_name\\\":\\\"\\\",\\\"nameSub\\\":\\\"ECE Elective\\\",\\\"id\\\":32,\\\"num\\\":\\\"\\\",\\\"credits\\\":3,\\\"institution\\\":\\\"\\\",\\\"prefix\\\":\\\"\\\"},{\\\"curriculum_requisites\\\":[],\\\"name\\\":\\\" \\\",\\\"metrics\\\":{\\\"centrality\\\":0,\\\"complexity\\\":1.0,\\\"blocking factor\\\":0,\\\"delay factor\\\":1.0},\\\"canonical_name\\\":\\\"\\\",\\\"nameSub\\\":\\\"Outside Tech. Elective\\\",\\\"id\\\":33,\\\"num\\\":\\\"\\\",\\\"credits\\\":3,\\\"institution\\\":\\\"\\\",\\\"prefix\\\":\\\"\\\"},{\\\"curriculum_requisites\\\":[],\\\"name\\\":\\\" \\\",\\\"metrics\\\":{\\\"centrality\\\":0,\\\"complexity\\\":1.0,\\\"blocking factor\\\":0,\\\"delay factor\\\":1.0},\\\"canonical_name\\\":\\\"\\\",\\\"nameSub\\\":\\\"Liberal Studies\\\",\\\"id\\\":34,\\\"num\\\":\\\"\\\",\\\"credits\\\":3,\\\"institution\\\":\\\"\\\",\\\"prefix\\\":\\\"\\\"}],\\\"id\\\":7},{\\\"name\\\":\\\"Term 8\\\",\\\"curriculum_items\\\":[{\\\"curriculum_requisites\\\":[],\\\"name\\\":\\\" \\\",\\\"metrics\\\":{\\\"centrality\\\":0,\\\"complexity\\\":1.0,\\\"blocking factor\\\":0,\\\"delay factor\\\":1.0},\\\"canonical_name\\\":\\\"\\\",\\\"nameSub\\\":\\\"ECE Elective\\\",\\\"id\\\":35,\\\"num\\\":\\\"\\\",\\\"credits\\\":3,\\\"institution\\\":\\\"\\\",\\\"prefix\\\":\\\"\\\"},{\\\"curriculum_requisites\\\":[],\\\"name\\\":\\\" \\\",\\\"metrics\\\":{\\\"centrality\\\":0,\\\"complexity\\\":1.0,\\\"blocking factor\\\":0,\\\"delay factor\\\":1.0},\\\"canonical_name\\\":\\\"\\\",\\\"nameSub\\\":\\\"ECE Elective\\\",\\\"id\\\":36,\\\"num\\\":\\\"\\\",\\\"credits\\\":3,\\\"institution\\\":\\\"\\\",\\\"prefix\\\":\\\"\\\"},{\\\"curriculum_requisites\\\":[],\\\"name\\\":\\\" \\\",\\\"metrics\\\":{\\\"centrality\\\":0,\\\"complexity\\\":1.0,\\\"blocking factor\\\":0,\\\"delay factor\\\":1.0},\\\"canonical_name\\\":\\\"\\\",\\\"nameSub\\\":\\\"ECE Elective\\\",\\\"id\\\":37,\\\"num\\\":\\\"\\\",\\\"credits\\\":3,\\\"institution\\\":\\\"\\\",\\\"prefix\\\":\\\"\\\"},{\\\"curriculum_requisites\\\":[],\\\"name\\\":\\\" \\\",\\\"metrics\\\":{\\\"centrality\\\":0,\\\"complexity\\\":1.0,\\\"blocking factor\\\":0,\\\"delay factor\\\":1.0},\\\"canonical_name\\\":\\\"\\\",\\\"nameSub\\\":\\\"Liberal Studies\\\",\\\"id\\\":38,\\\"num\\\":\\\"\\\",\\\"credits\\\":3,\\\"institution\\\":\\\"\\\",\\\"prefix\\\":\\\"\\\"}],\\\"id\\\":8}],\\\"CIP\\\":\\\"\\\",\\\"id\\\":62119800256760722,\\\"institution\\\":\\\"\\\"}},\\\"*\\\"); window.removeEventListener(\\\"message\\\",window.messageReceived); window.messageReceived=(function (event){return (event.data.curriculum!==undefined) ? (_webIOScope.setObservableValue({\\\"name\\\":\\\"curriculum-data\\\",\\\"scope\\\":\\\"scope-ae5c0323-3532-4694-b22c-3542f19ab9db\\\",\\\"id\\\":\\\"ob_03\\\",\\\"type\\\":\\\"observable\\\"},event.data.curriculum)) : undefined}); window.addEventListener(\\\"message\\\",window.messageReceived); window.removeEventListener(\\\"message\\\",window.messageReceived); window.messageReceived=(function (event){return (event.data.curriculum!==undefined) ? (console.log(event.data.curriculum)) : undefined}); return window.addEventListener(\\\"message\\\",window.messageReceived)})\")),:style=>Dict(:padding=>\"0\",:height=>\"100vh\",:margin=>\"0\",:border=>\"none\",:width=>\"100%\")), 1), Dict{String,Tuple{Observables.AbstractObservable,Union{Nothing, Bool}}}(\"curriculum-data\"=>(Observable{Dict{String,Any}} with 1 listeners. Value:\n",
       "Dict{String,Any}(\"options\"=>Dict{String,Any}(\"hideTerms\"=>false,\"edit\"=>true),\"name\"=>\"\",\"curriculum\"=>Dict{String,Any}(\"name\"=>\"\",\"curriculum_terms\"=>Any[Dict{String,Any}(\"name\"=>\"Term 1\",\"curriculum_items\"=>Any[Dict{String,Any}(\"curriculum_requisites\"=>Any[],\"name\"=>\"CHEM 2090\",\"metrics\"=>Dict{String,Any}(\"centrality\"=>0,\"complexity\"=>1.0,\"blocking factor\"=>0,\"delay factor\"=>1.0),\"canonical_name\"=>\"\",\"nameSub\"=>\"CHEM 2090\",\"id\"=>1,\"num\"=>\"2090\",\"credits\"=>3,\"institution\"=>\"\",\"prefix\"=>\"CHEM\"…), Dict{String,Any}(\"curriculum_requisites\"=>Any[],\"name\"=>\"MATH 1910\",\"metrics\"=>Dict{String,Any}(\"centrality\"=>0,\"complexity\"=>15.0,\"blocking factor\"=>10,\"delay factor\"=>5.0),\"canonical_name\"=>\"\",\"nameSub\"=>\"MATH 1910\",\"id\"=>2,\"num\"=>\"1910\",\"credits\"=>3,\"institution\"=>\"\",\"prefix\"=>\"MATH\"…), Dict{String,Any}(\"curriculum_requisites\"=>Any[],\"name\"=>\"ENGRI 1xxx\",\"metrics\"=>Dict{String,Any}(\"centrality\"=>0,\"complexity\"=>1.0,\"blocking factor\"=>0,\"delay factor\"=>1.0),\"canonical_name\"=>\"\",\"nameSub\"=>\"ENGRI 1xxx\",\"id\"=>3,\"num\"=>\"1xxx\",\"credits\"=>3,\"institution\"=>\"\",\"prefix\"=>\"ENGRI\"…), Dict{String,Any}(\"curriculum_requisites\"=>Any[],\"name\"=>\" \",\"metrics\"=>Dict{String,Any}(\"centrality\"=>0,\"complexity\"=>1.0,\"blocking factor\"=>0,\"delay factor\"=>1.0),\"canonical_name\"=>\"\",\"nameSub\"=>\"1st Yr Writing Seminar\",\"id\"=>4,\"num\"=>\"\",\"credits\"=>3,\"institution\"=>\"\",\"prefix\"=>\"\"…), Dict{String,Any}(\"curriculum_requisites\"=>Any[],\"name\"=>\" \",\"metrics\"=>Dict{String,Any}(\"centrality\"=>0,\"complexity\"=>1.0,\"blocking factor\"=>0,\"delay factor\"=>1.0),\"canonical_name\"=>\"\",\"nameSub\"=>\"PE\",\"id\"=>5,\"num\"=>\"\",\"credits\"=>3,\"institution\"=>\"\",\"prefix\"=>\"\"…)],\"id\"=>1), Dict{String,Any}(\"name\"=>\"Term 2\",\"curriculum_items\"=>Any[Dict{String,Any}(\"curriculum_requisites\"=>Any[Dict{String,Any}(\"source_id\"=>2,\"target_id\"=>6,\"type\"=>\"strict-coreq\")],\"name\"=>\"PHYS 1112\",\"metrics\"=>Dict{String,Any}(\"centrality\"=>9,\"complexity\"=>9.0,\"blocking factor\"=>4,\"delay factor\"=>5.0),\"canonical_name\"=>\"\",\"nameSub\"=>\"PHYS 1112\",\"id\"=>6,\"num\"=>\"1112\",\"credits\"=>3,\"institution\"=>\"\",\"prefix\"=>\"PHYS\"…), Dict{String,Any}(\"curriculum_requisites\"=>Any[Dict{String,Any}(\"source_id\"=>2,\"target_id\"=>7,\"type\"=>\"strict-coreq\")],\"name\"=>\"MATH 1920\",\"metrics\"=>Dict{String,Any}(\"centrality\"=>28,\"complexity\"=>12.0,\"blocking factor\"=>8,\"delay factor\"=>4.0),\"canonical_name\"=>\"\",\"nameSub\"=>\"MATH 1920\",\"id\"=>7,\"num\"=>\"1920\",\"credits\"=>3,\"institution\"=>\"\",\"prefix\"=>\"MATH\"…), Dict{String,Any}(\"curriculum_requisites\"=>Any[],\"name\"=>\"CS 111x\",\"metrics\"=>Dict{String,Any}(\"centrality\"=>0,\"complexity\"=>6.0,\"blocking factor\"=>3,\"delay factor\"=>3.0),\"canonical_name\"=>\"\",\"nameSub\"=>\"CS 111x\",\"id\"=>8,\"num\"=>\"111x\",\"credits\"=>3,\"institution\"=>\"\",\"prefix\"=>\"CS\"…), Dict{String,Any}(\"curriculum_requisites\"=>Any[],\"name\"=>\" \",\"metrics\"=>Dict{String,Any}(\"centrality\"=>0,\"complexity\"=>1.0,\"blocking factor\"=>0,\"delay factor\"=>1.0),\"canonical_name\"=>\"\",\"nameSub\"=>\"1st Yr Writing Seminar\",\"id\"=>9,\"num\"=>\"\",\"credits\"=>3,\"institution\"=>\"\",\"prefix\"=>\"\"…), Dict{String,Any}(\"curriculum_requisites\"=>Any[],\"name\"=>\" \",\"metrics\"=>Dict{String,Any}(\"centrality\"=>0,\"complexity\"=>1.0,\"blocking factor\"=>0,\"delay factor\"=>1.0),\"canonical_name\"=>\"\",\"nameSub\"=>\"PE\",\"id\"=>10,\"num\"=>\"\",\"credits\"=>3,\"institution\"=>\"\",\"prefix\"=>\"\"…)],\"id\"=>2), Dict{String,Any}(\"name\"=>\"Term 3\",\"curriculum_items\"=>Any[Dict{String,Any}(\"curriculum_requisites\"=>Any[Dict{String,Any}(\"source_id\"=>7,\"target_id\"=>11,\"type\"=>\"strict-coreq\"), Dict{String,Any}(\"source_id\"=>6,\"target_id\"=>11,\"type\"=>\"strict-coreq\")],\"name\"=>\"PHYS 2213\",\"metrics\"=>Dict{String,Any}(\"centrality\"=>18,\"complexity\"=>8.0,\"blocking factor\"=>3,\"delay factor\"=>5.0),\"canonical_name\"=>\"\",\"nameSub\"=>\"PHYS 2213\",\"id\"=>11,\"num\"=>\"2213\",\"credits\"=>3,\"institution\"=>\"\",\"prefix\"=>\"PHYS\"…), Dict{String,Any}(\"curriculum_requisites\"=>Any[Dict{String,Any}(\"source_id\"=>7,\"target_id\"=>12,\"type\"=>\"strict-coreq\")],\"name\"=>\"MATH 2930\",\"metrics\"=>Dict{String,Any}(\"centrality\"=>14,\"complexity\"=>8.0,\"blocking factor\"=>4,\"delay factor\"=>4.0),\"canonical_name\"=>\"\",\"nameSub\"=>\"MATH 2930\",\"id\"=>12,\"num\"=>\"2930\",\"credits\"=>3,\"institution\"=>\"\",\"prefix\"=>\"MATH\"…), Dict{String,Any}(\"curriculum_requisites\"=>Any[Dict{String,Any}(\"source_id\"=>11,\"target_id\"=>13,\"type\"=>\"strict-coreq\"), Dict{String,Any}(\"source_id\"=>12,\"target_id\"=>13,\"type\"=>\"strict-coreq\")],\"name\"=>\"ECE/ENGRD 2100\",\"metrics\"=>Dict{String,Any}(\"centrality\"=>15,\"complexity\"=>6.0,\"blocking factor\"=>1,\"delay factor\"=>5.0),\"canonical_name\"=>\"\",\"nameSub\"=>\"ECE/ENGRD 2100\",\"id\"=>13,\"num\"=>\"2100\",\"credits\"=>3,\"institution\"=>\"\",\"prefix\"=>\"ECE/ENGRD\"…), Dict{String,Any}(\"curriculum_requisites\"=>Any[Dict{String,Any}(\"source_id\"=>8,\"target_id\"=>14,\"type\"=>\"strict-coreq\")],\"name\"=>\"MECE/ENGRD 2300\",\"metrics\"=>Dict{String,Any}(\"centrality\"=>3,\"complexity\"=>4.0,\"blocking factor\"=>1,\"delay factor\"=>3.0),\"canonical_name\"=>\"\",\"nameSub\"=>\"MECE/ENGRD 2300\",\"id\"=>14,\"num\"=>\"2300\",\"credits\"=>3,\"institution\"=>\"\",\"prefix\"=>\"MECE/ENGRD\"…), Dict{String,Any}(\"curriculum_requisites\"=>Any[],\"name\"=>\" \",\"metrics\"=>Dict{String,Any}(\"centrality\"=>0,\"complexity\"=>1.0,\"blocking factor\"=>0,\"delay factor\"=>1.0),\"canonical_name\"=>\"\",\"nameSub\"=>\"Liberal Studies\",\"id\"=>15,\"num\"=>\"\",\"credits\"=>3,\"institution\"=>\"\",\"prefix\"=>\"\"…)],\"id\"=>3), Dict{String,Any}(\"name\"=>\"Term 4\",\"curriculum_items\"=>Any[Dict{String,Any}(\"curriculum_requisites\"=>Any[Dict{String,Any}(\"source_id\"=>12,\"target_id\"=>16,\"type\"=>\"strict-coreq\")],\"name\"=>\"PHYS 2214\",\"metrics\"=>Dict{String,Any}(\"centrality\"=>0,\"complexity\"=>4.0,\"blocking factor\"=>0,\"delay factor\"=>4.0),\"canonical_name\"=>\"\",\"nameSub\"=>\"PHYS 2214\",\"id\"=>16,\"num\"=>\"2214\",\"credits\"=>3,\"institution\"=>\"\",\"prefix\"=>\"PHYS\"…), Dict{String,Any}(\"curriculum_requisites\"=>Any[Dict{String,Any}(\"source_id\"=>7,\"target_id\"=>17,\"type\"=>\"strict-coreq\")],\"name\"=>\"MATH 2940\",\"metrics\"=>Dict{String,Any}(\"centrality\"=>5,\"complexity\"=>5.0,\"blocking factor\"=>2,\"delay factor\"=>3.0),\"canonical_name\"=>\"\",\"nameSub\"=>\"MATH 2940\",\"id\"=>17,\"num\"=>\"2940\",\"credits\"=>3,\"institution\"=>\"\",\"prefix\"=>\"MATH\"…), Dict{String,Any}(\"curriculum_requisites\"=>Any[Dict{String,Any}(\"source_id\"=>11,\"target_id\"=>18,\"type\"=>\"strict-coreq\")],\"name\"=>\"ENGRD 2xxx\",\"metrics\"=>Dict{String,Any}(\"centrality\"=>0,\"complexity\"=>4.0,\"blocking factor\"=>0,\"delay factor\"=>4.0),\"canonical_name\"=>\"\",\"nameSub\"=>\"ENGRD 2xxx\",\"id\"=>18,\"num\"=>\"2xxx\",\"credits\"=>3,\"institution\"=>\"\",\"prefix\"=>\"ENGRD\"…), Dict{String,Any}(\"curriculum_requisites\"=>Any[Dict{String,Any}(\"source_id\"=>17,\"target_id\"=>19,\"type\"=>\"strict-coreq\"), Dict{String,Any}(\"source_id\"=>12,\"target_id\"=>19,\"type\"=>\"strict-coreq\")],\"name\"=>\"ECE/ENGRD 2200/2220\",\"metrics\"=>Dict{String,Any}(\"centrality\"=>10,\"complexity\"=>5.0,\"blocking factor\"=>1,\"delay factor\"=>4.0),\"canonical_name\"=>\"\",\"nameSub\"=>\"ECE 2200/ENGRD 2220\",\"id\"=>19,\"num\"=>\"2200/2220\",\"credits\"=>3,\"institution\"=>\"\",\"prefix\"=>\"ECE/ENGRD\"…), Dict{String,Any}(\"curriculum_requisites\"=>Any[],\"name\"=>\" \",\"metrics\"=>Dict{String,Any}(\"centrality\"=>0,\"complexity\"=>1.0,\"blocking factor\"=>0,\"delay factor\"=>1.0),\"canonical_name\"=>\"\",\"nameSub\"=>\"Liberal Studies\",\"id\"=>20,\"num\"=>\"\",\"credits\"=>3,\"institution\"=>\"\",\"prefix\"=>\"\"…)],\"id\"=>4), Dict{String,Any}(\"name\"=>\"Term 5\",\"curriculum_items\"=>Any[Dict{String,Any}(\"curriculum_requisites\"=>Any[],\"name\"=>\" \",\"metrics\"=>Dict{String,Any}(\"centrality\"=>0,\"complexity\"=>1.0,\"blocking factor\"=>0,\"delay factor\"=>1.0),\"canonical_name\"=>\"\",\"nameSub\"=>\"ECE Foundations\",\"id\"=>21,\"num\"=>\"\",\"credits\"=>3,\"institution\"=>\"\",\"prefix\"=>\"\"…), Dict{String,Any}(\"curriculum_requisites\"=>Any[],\"name\"=>\" \",\"metrics\"=>Dict{String,Any}(\"centrality\"=>0,\"complexity\"=>1.0,\"blocking factor\"=>0,\"delay factor\"=>1.0),\"canonical_name\"=>\"\",\"nameSub\"=>\"Elective\",\"id\"=>22,\"num\"=>\"\",\"credits\"=>3,\"institution\"=>\"\",\"prefix\"=>\"\"…), Dict{String,Any}(\"curriculum_requisites\"=>Any[Dict{String,Any}(\"source_id\"=>8,\"target_id\"=>23,\"type\"=>\"strict-coreq\")],\"name\"=>\" \",\"metrics\"=>Dict{String,Any}(\"centrality\"=>0,\"complexity\"=>2.0,\"blocking factor\"=>0,\"delay factor\"=>2.0),\"canonical_name\"=>\"\",\"nameSub\"=>\"Outside Tech. Elective\",\"id\"=>23,\"num\"=>\"\",\"credits\"=>3,\"institution\"=>\"\",\"prefix\"=>\"\"…), Dict{String,Any}(\"curriculum_requisites\"=>Any[Dict{String,Any}(\"source_id\"=>13,\"target_id\"=>24,\"type\"=>\"strict-coreq\"), Dict{String,Any}(\"source_id\"=>14,\"target_id\"=>24,\"type\"=>\"strict-coreq\"), Dict{String,Any}(\"source_id\"=>19,\"target_id\"=>24,\"type\"=>\"strict-coreq\")],\"name\"=>\"ECE 3400\",\"metrics\"=>Dict{String,Any}(\"centrality\"=>0,\"complexity\"=>5.0,\"blocking factor\"=>0,\"delay factor\"=>5.0),\"canonical_name\"=>\"\",\"nameSub\"=>\"ECE 3400\",\"id\"=>24,\"num\"=>\"3400\",\"credits\"=>3,\"institution\"=>\"\",\"prefix\"=>\"ECE\"…), Dict{String,Any}(\"curriculum_requisites\"=>Any[],\"name\"=>\" \",\"metrics\"=>Dict{String,Any}(\"centrality\"=>0,\"complexity\"=>1.0,\"blocking factor\"=>0,\"delay factor\"=>1.0),\"canonical_name\"=>\"\",\"nameSub\"=>\"Liberal Studies\",\"id\"=>25,\"num\"=>\"\",\"credits\"=>3,\"institution\"=>\"\",\"prefix\"=>\"\"…)],\"id\"=>5), Dict{String,Any}(\"name\"=>\"Term 6\",\"curriculum_items\"=>Any[Dict{String,Any}(\"curriculum_requisites\"=>Any[],\"name\"=>\" \",\"metrics\"=>Dict{String,Any}(\"centrality\"=>0,\"complexity\"=>1.0,\"blocking factor\"=>0,\"delay factor\"=>1.0),\"canonical_name\"=>\"\",\"nameSub\"=>\"ECE Foundations\",\"id\"=>26,\"num\"=>\"\",\"credits\"=>3,\"institution\"=>\"\",\"prefix\"=>\"\"…), Dict{String,Any}(\"curriculum_requisites\"=>Any[],\"name\"=>\" \",\"metrics\"=>Dict{String,Any}(\"centrality\"=>0,\"complexity\"=>1.0,\"blocking factor\"=>0,\"delay factor\"=>1.0),\"canonical_name\"=>\"\",\"nameSub\"=>\"ECE Foundations\",\"id\"=>27,\"num\"=>\"\",\"credits\"=>3,\"institution\"=>\"\",\"prefix\"=>\"\"…), Dict{String,Any}(\"curriculum_requisites\"=>Any[],\"name\"=>\" \",\"metrics\"=>Dict{String,Any}(\"centrality\"=>0,\"complexity\"=>1.0,\"blocking factor\"=>0,\"delay factor\"=>1.0),\"canonical_name\"=>\"\",\"nameSub\"=>\"Outside Tech. Elective\",\"id\"=>28,\"num\"=>\"\",\"credits\"=>3,\"institution\"=>\"\",\"prefix\"=>\"\"…), Dict{String,Any}(\"curriculum_requisites\"=>Any[],\"name\"=>\" \",\"metrics\"=>Dict{String,Any}(\"centrality\"=>0,\"complexity\"=>1.0,\"blocking factor\"=>0,\"delay factor\"=>1.0),\"canonical_name\"=>\"\",\"nameSub\"=>\"Elective\",\"id\"=>29,\"num\"=>\"\",\"credits\"=>3,\"institution\"=>\"\",\"prefix\"=>\"\"…), Dict{String,Any}(\"curriculum_requisites\"=>Any[],\"name\"=>\" \",\"metrics\"=>Dict{String,Any}(\"centrality\"=>0,\"complexity\"=>1.0,\"blocking factor\"=>0,\"delay factor\"=>1.0),\"canonical_name\"=>\"\",\"nameSub\"=>\"Liberal Studies\",\"id\"=>30,\"num\"=>\"\",\"credits\"=>3,\"institution\"=>\"\",\"prefix\"=>\"\"…)],\"id\"=>6), Dict{String,Any}(\"name\"=>\"Term 7\",\"curriculum_items\"=>Any[Dict{String,Any}(\"curriculum_requisites\"=>Any[],\"name\"=>\" \",\"metrics\"=>Dict{String,Any}(\"centrality\"=>0,\"complexity\"=>1.0,\"blocking factor\"=>0,\"delay factor\"=>1.0),\"canonical_name\"=>\"\",\"nameSub\"=>\"ECE Elective \",\"id\"=>31,\"num\"=>\"\",\"credits\"=>3,\"institution\"=>\"\",\"prefix\"=>\"\"…), Dict{String,Any}(\"curriculum_requisites\"=>Any[],\"name\"=>\" \",\"metrics\"=>Dict{String,Any}(\"centrality\"=>0,\"complexity\"=>1.0,\"blocking factor\"=>0,\"delay factor\"=>1.0),\"canonical_name\"=>\"\",\"nameSub\"=>\"ECE Elective\",\"id\"=>32,\"num\"=>\"\",\"credits\"=>3,\"institution\"=>\"\",\"prefix\"=>\"\"…), Dict{String,Any}(\"curriculum_requisites\"=>Any[],\"name\"=>\" \",\"metrics\"=>Dict{String,Any}(\"centrality\"=>0,\"complexity\"=>1.0,\"blocking factor\"=>0,\"delay factor\"=>1.0),\"canonical_name\"=>\"\",\"nameSub\"=>\"Outside Tech. Elective\",\"id\"=>33,\"num\"=>\"\",\"credits\"=>3,\"institution\"=>\"\",\"prefix\"=>\"\"…), Dict{String,Any}(\"curriculum_requisites\"=>Any[],\"name\"=>\" \",\"metrics\"=>Dict{String,Any}(\"centrality\"=>0,\"complexity\"=>1.0,\"blocking factor\"=>0,\"delay factor\"=>1.0),\"canonical_name\"=>\"\",\"nameSub\"=>\"Liberal Studies\",\"id\"=>34,\"num\"=>\"\",\"credits\"=>3,\"institution\"=>\"\",\"prefix\"=>\"\"…)],\"id\"=>7), Dict{String,Any}(\"name\"=>\"Term 8\",\"curriculum_items\"=>Any[Dict{String,Any}(\"curriculum_requisites\"=>Any[],\"name\"=>\" \",\"metrics\"=>Dict{String,Any}(\"centrality\"=>0,\"complexity\"=>1.0,\"blocking factor\"=>0,\"delay factor\"=>1.0),\"canonical_name\"=>\"\",\"nameSub\"=>\"ECE Elective\",\"id\"=>35,\"num\"=>\"\",\"credits\"=>3,\"institution\"=>\"\",\"prefix\"=>\"\"…), Dict{String,Any}(\"curriculum_requisites\"=>Any[],\"name\"=>\" \",\"metrics\"=>Dict{String,Any}(\"centrality\"=>0,\"complexity\"=>1.0,\"blocking factor\"=>0,\"delay factor\"=>1.0),\"canonical_name\"=>\"\",\"nameSub\"=>\"ECE Elective\",\"id\"=>36,\"num\"=>\"\",\"credits\"=>3,\"institution\"=>\"\",\"prefix\"=>\"\"…), Dict{String,Any}(\"curriculum_requisites\"=>Any[],\"name\"=>\" \",\"metrics\"=>Dict{String,Any}(\"centrality\"=>0,\"complexity\"=>1.0,\"blocking factor\"=>0,\"delay factor\"=>1.0),\"canonical_name\"=>\"\",\"nameSub\"=>\"ECE Elective\",\"id\"=>37,\"num\"=>\"\",\"credits\"=>3,\"institution\"=>\"\",\"prefix\"=>\"\"…), Dict{String,Any}(\"curriculum_requisites\"=>Any[],\"name\"=>\" \",\"metrics\"=>Dict{String,Any}(\"centrality\"=>0,\"complexity\"=>1.0,\"blocking factor\"=>0,\"delay factor\"=>1.0),\"canonical_name\"=>\"\",\"nameSub\"=>\"Liberal Studies\",\"id\"=>38,\"num\"=>\"\",\"credits\"=>3,\"institution\"=>\"\",\"prefix\"=>\"\"…)],\"id\"=>8)],\"CIP\"=>\"\",\"id\"=>62119800256760722,\"institution\"=>\"\")), nothing)), Set(String[]), nothing, Any[], Dict{Any,Any}(), WebIO.ConnectionPool(Channel{Any}(sz_max:9223372036854775807,sz_curr:0), Set(WebIO.AbstractConnection[]), Channel{WebIO.AbstractConnection}(sz_max:32,sz_curr:0)))"
      ]
     },
     "execution_count": 3,
     "metadata": {
      "application/vnd.webio.node+json": {
       "kernelId": "00b814db-0dcd-4031-a56e-56d576ca79dd"
      }
     },
     "output_type": "execute_result"
    },
    {
     "name": "stderr",
     "output_type": "stream",
     "text": [
      "┌ Info: Accept (1):  🔗    0↑     0↓    0s 127.0.0.1:8156:8156 ≣16\n",
      "└ @ HTTP.Servers /Users/heileman/.julia/packages/HTTP/YjRCz/src/Servers.jl:343\n",
      "┌ Info: Accept (2):  🔗    0↑     0↓    0s 127.0.0.1:8156:8156 ≣16\n",
      "└ @ HTTP.Servers /Users/heileman/.julia/packages/HTTP/YjRCz/src/Servers.jl:343\n",
      "┌ Info: Accept (3):  🔗    0↑     0↓    0s 127.0.0.1:8156:8156 ≣16\n",
      "└ @ HTTP.Servers /Users/heileman/.julia/packages/HTTP/YjRCz/src/Servers.jl:343\n",
      "┌ Info: Accept (4):  🔗    0↑     0↓    0s 127.0.0.1:8156:8156 ≣16\n",
      "└ @ HTTP.Servers /Users/heileman/.julia/packages/HTTP/YjRCz/src/Servers.jl:343\n",
      "┌ Info: Closed (3):  💀    1↑     1↓🔒 532s 127.0.0.1:8156:8156 ≣16\n",
      "└ @ HTTP.Servers /Users/heileman/.julia/packages/HTTP/YjRCz/src/Servers.jl:351\n",
      "┌ Info: Closed (2):  💀    1↑     1↓🔒 532s 127.0.0.1:8156:8156 ≣16\n",
      "└ @ HTTP.Servers /Users/heileman/.julia/packages/HTTP/YjRCz/src/Servers.jl:351\n",
      "┌ Info: Closed (1):  💀    2↑     2↓🔒 532s 127.0.0.1:8156:8156 ≣16\n",
      "└ @ HTTP.Servers /Users/heileman/.julia/packages/HTTP/YjRCz/src/Servers.jl:351\n",
      "┌ Info: Closed (4):  💀    2↑     2↓🔒 532s 127.0.0.1:8156:8156 ≣16\n",
      "└ @ HTTP.Servers /Users/heileman/.julia/packages/HTTP/YjRCz/src/Servers.jl:351\n"
     ]
    }
   ],
   "source": [
    "#This cell shows does not use Blink, so the output will will be shown in Jupyter with visualize_jupyter function\n",
    "\n",
    "#Activate CurricularAnalytics package and add it\n",
    "if split(pwd(),Base.Filesystem.path_separator)[end] != \"CurricularAnalytics.jl\"\n",
    "    cd(\"../..\")\n",
    "end\n",
    "println(\"Current directory: \" * split(pwd(),Base.Filesystem.path_separator)[end])\n",
    "using Pkg\n",
    "pkg \"activate .\"\n",
    "using CurricularAnalytics\n",
    "\n",
    "#read Classes from csv file and dump as .json\n",
    "csv_to_json(\"examples/CornellECECources.csv\", \"recent-visualization.json\")\n",
    "#Load classes from .json file created\n",
    "dp = read_degree_plan(\"recent-visualization.json\")\n",
    "curric = dp.curriculum\n",
    "\n",
    "errors = IOBuffer()\n",
    "if isvalid_curriculum(curric, errors)\n",
    "    println(\"Curriculum $(curric.name) is valid\")\n",
    "    println(\"  delay factor = $(delay_factor(curric))\")\n",
    "    println(\"  blocking factor = $(blocking_factor(curric))\")\n",
    "    println(\"  centrality factor = $(centrality(curric))\")\n",
    "    println(\"  curricular complexity = $(complexity(curric))\")\n",
    "    take!(errors) # clear the IO buffer\n",
    "    if isvalid_degree_plan(dp, errors)\n",
    "        println(\"Degree plan $(dp.name) is valid\")\n",
    "    else\n",
    "        println(\"Degree plan $(dp.name) is not valid:\")\n",
    "        print(String(take!(errors)))\n",
    "        println(\"\\nDiplaying degree plan for debugging purposes...\")\n",
    "    end\n",
    "    #visualize(dp)\n",
    "    visualize(dp; notebook=true, edit=true)\n",
    "else # invalid curriculum\n",
    "    println(\"Curriculum $(curric.name) is not valid:\")\n",
    "    print(String(take!(errors)))\n",
    "end"
   ]
  },
  {
   "cell_type": "code",
   "execution_count": 2,
   "metadata": {},
   "outputs": [
    {
     "name": "stdout",
     "output_type": "stream",
     "text": [
      "Current directory: CurricularAnalytics.jl\n",
      "Curriculum  is valid\n",
      "  delay factor = (80.0, [1.0, 5.0, 1.0, 1.0, 1.0, 5.0, 4.0, 3.0, 1.0, 1.0, 5.0, 4.0, 5.0, 3.0, 1.0, 4.0, 3.0, 4.0, 4.0, 1.0, 1.0, 1.0, 2.0, 5.0, 1.0, 1.0, 1.0, 1.0, 1.0, 1.0, 1.0, 1.0, 1.0, 1.0, 1.0, 1.0, 1.0, 1.0])\n",
      "  blocking factor = (37, [0, 10, 0, 0, 0, 4, 8, 3, 0, 0, 3, 4, 1, 1, 0, 0, 2, 0, 1, 0, 0, 0, 0, 0, 0, 0, 0, 0, 0, 0, 0, 0, 0, 0, 0, 0, 0, 0])\n",
      "  centrality factor = (102, [0, 0, 0, 0, 0, 9, 28, 0, 0, 0, 18, 14, 15, 3, 0, 0, 5, 0, 10, 0, 0, 0, 0, 0, 0, 0, 0, 0, 0, 0, 0, 0, 0, 0, 0, 0, 0, 0])\n",
      "  curricular complexity = (117.0, Number[1.0, 15.0, 1.0, 1.0, 1.0, 9.0, 12.0, 6.0, 1.0, 1.0, 8.0, 8.0, 6.0, 4.0, 1.0, 4.0, 5.0, 4.0, 5.0, 1.0, 1.0, 1.0, 2.0, 5.0, 1.0, 1.0, 1.0, 1.0, 1.0, 1.0, 1.0, 1.0, 1.0, 1.0, 1.0, 1.0, 1.0, 1.0])\n",
      "Degree plan  is valid\n"
     ]
    },
    {
     "name": "stderr",
     "output_type": "stream",
     "text": [
      "┌ Info: Accept (0):  🔗    0↑     0↓    1s 127.0.0.1:8156:8156 ≣16\n",
      "└ @ HTTP.Servers /Users/heileman/.julia/packages/HTTP/YjRCz/src/Servers.jl:343\n"
     ]
    }
   ],
   "source": [
    "#This cell shows does not use Blink, so the output will will be shown in Jupyter with visualize_jupyter function\n",
    "\n",
    "#Activate CurricularAnalytics package and add it\n",
    "if split(pwd(),Base.Filesystem.path_separator)[end] != \"CurricularAnalytics.jl\"\n",
    "    cd(\"../..\")\n",
    "end\n",
    "println(\"Current directory: \" * split(pwd(),Base.Filesystem.path_separator)[end])\n",
    "using Pkg\n",
    "pkg\"activate .\"\n",
    "using CurricularAnalytics\n",
    "\n",
    "#read Classes from csv file and dump as .json\n",
    "csv_to_json(\"examples/CornellECECources.csv\", \"recent-visualization.json\")\n",
    "#Load classes from .json file created\n",
    "dp = read_degree_plan(\"recent-visualization.json\")\n",
    "curric = dp.curriculum\n",
    "\n",
    "errors = IOBuffer()\n",
    "if isvalid_curriculum(curric, errors)\n",
    "    println(\"Curriculum $(curric.name) is valid\")\n",
    "    println(\"  delay factor = $(delay_factor(curric))\")\n",
    "    println(\"  blocking factor = $(blocking_factor(curric))\")\n",
    "    println(\"  centrality factor = $(centrality(curric))\")\n",
    "    println(\"  curricular complexity = $(complexity(curric))\")\n",
    "    take!(errors) # clear the IO buffer\n",
    "    if isvalid_degree_plan(dp, errors)\n",
    "        println(\"Degree plan $(dp.name) is valid\")\n",
    "    else\n",
    "        println(\"Degree plan $(dp.name) is not valid:\")\n",
    "        print(String(take!(errors)))\n",
    "        println(\"\\nDiplaying degree plan for debugging purposes...\")\n",
    "    end\n",
    "    #visualize(dp)\n",
    "    visualize(dp; notebook=true)\n",
    "else # invalid curriculum\n",
    "    println(\"Curriculum $(curric.name) is not valid:\")\n",
    "    print(String(take!(errors)))\n",
    "end"
   ]
  },
  {
   "cell_type": "code",
   "execution_count": 4,
   "metadata": {},
   "outputs": [
    {
     "name": "stdout",
     "output_type": "stream",
     "text": [
      "Current directory: CurricularAnalytics.jl\n",
      "Curriculum University of Houston EE Program is valid\n",
      "  delay factor = (279.0, [1.0, 7.0, 9.0, 12.0, 2.0, 2.0, 1.0, 7.0, 9.0, 12.0, 12.0, 4.0, 1.0, 8.0, 12.0, 10.0, 12.0, 12.0, 7.0, 8.0, 12.0, 12.0, 9.0, 9.0, 1.0, 12.0, 12.0, 1.0, 9.0, 1.0, 1.0, 4.0, 1.0, 1.0, 8.0, 1.0, 3.0, 12.0, 1.0, 1.0, 1.0, 1.0, 1.0, 12.0, 1.0, 1.0, 1.0, 1.0, 1.0])\n",
      "  blocking factor = (208, [0, 6, 15, 23, 1, 0, 0, 5, 14, 20, 16, 0, 0, 13, 12, 15, 14, 13, 4, 4, 5, 8, 4, 2, 0, 3, 2, 0, 2, 0, 0, 2, 0, 0, 2, 0, 2, 1, 0, 0, 0, 0, 0, 0, 0, 0, 0, 0, 0])\n",
      "  centrality factor = (5717, [0, 0, 85, 0, 0, 0, 0, 13, 160, 607, 217, 0, 0, 93, 677, 292, 426, 250, 159, 152, 295, 393, 154, 171, 0, 359, 266, 0, 77, 0, 0, 16, 0, 0, 76, 0, 0, 779, 0, 0, 0, 0, 0, 0, 0, 0, 0, 0, 0])\n",
      "  curricular complexity = (487.0, Number[1.0, 13.0, 24.0, 35.0, 3.0, 2.0, 1.0, 12.0, 23.0, 32.0, 28.0, 4.0, 1.0, 21.0, 24.0, 25.0, 26.0, 25.0, 11.0, 12.0, 17.0, 20.0, 13.0, 11.0, 1.0, 15.0, 14.0, 1.0, 11.0, 1.0, 1.0, 6.0, 1.0, 1.0, 10.0, 1.0, 5.0, 13.0, 1.0, 1.0, 1.0, 1.0, 1.0, 12.0, 1.0, 1.0, 1.0, 1.0, 1.0])\n",
      "Degree plan University of Houston EE Program 4-year Plan is not valid:\n",
      "\n",
      "-Course Concentration Elective is listed multiple times in degree plan\n",
      "-Course Concentration Elective is listed multiple times in degree plan\n",
      "-Course Concentration Elective is listed multiple times in degree plan\n",
      "-Course Elective Lab is listed multiple times in degree plan\n",
      "Diplaying degree plan for debugging purposes...\n"
     ]
    },
    {
     "name": "stderr",
     "output_type": "stream",
     "text": [
      "┌ Info: Closed (3):  💀    0↑     0↓🔒  11s 127.0.0.1:8156:8156 ≣16\n",
      "└ @ HTTP.Servers C:\\Users\\orhan\\.julia\\packages\\HTTP\\YjRCz\\src\\Servers.jl:351\n"
     ]
    },
    {
     "data": {
      "text/plain": [
       "Blink.AtomShell.Window(1, Blink.AtomShell.Electron(Process(`\u001b[4m'C:\\Users\\orhan\\.julia\\packages\\Blink\\vKGzM\\deps\\atom\\electron.exe'\u001b[24m \u001b[4m'C:\\Users\\orhan\\.julia\\packages\\Blink\\vKGzM\\src\\AtomShell\\main.js'\u001b[24m \u001b[4mport\u001b[24m \u001b[4m6626\u001b[24m`, ProcessRunning), Sockets.TCPSocket(Base.Libc.WindowsRawSocket(0x0000000000000528) active, 0 bytes waiting), Dict{String,Any}(\"callback\"=>##1#2())), Blink.Page(1, WebSockets.WebSocket{Sockets.TCPSocket}(Sockets.TCPSocket(Base.Libc.WindowsRawSocket(0x00000000000005e8) active, 0 bytes waiting), true, CONNECTED::ReadyState = 1), Dict{String,Any}(\"webio\"=>##101#102{BlinkConnection}(BlinkConnection(Page(#= circular reference @-4 =#))),\"callback\"=>##1#2()), Distributed.Future(1, 1, 1, Some(true))))"
      ]
     },
     "execution_count": 4,
     "metadata": {},
     "output_type": "execute_result"
    },
    {
     "name": "stderr",
     "output_type": "stream",
     "text": [
      "┌ Info: Accept (5):  🔗    0↑     0↓    0s 127.0.0.1:8156:8156 ≣16\n",
      "└ @ HTTP.Servers C:\\Users\\orhan\\.julia\\packages\\HTTP\\YjRCz\\src\\Servers.jl:343\n",
      "┌ Info: Accept (6):  🔗    0↑     0↓    0s 127.0.0.1:8156:8156 ≣16\n",
      "└ @ HTTP.Servers C:\\Users\\orhan\\.julia\\packages\\HTTP\\YjRCz\\src\\Servers.jl:343\n"
     ]
    }
   ],
   "source": [
    "#This cell will run an exapmle file in \"example\" folder\n",
    "#Output will be on Blink window\n",
    "#If you want to show the output on Jupyter, you can change the visualize(dp) function to visualize_jupyter(dp)\n",
    "if split(pwd(),Base.Filesystem.path_separator)[end] != \"CurricularAnalytics.jl\"\n",
    "    cd(\"../..\")\n",
    "end\n",
    "println(\"Current directory: \" * split(pwd(),Base.Filesystem.path_separator)[end])\n",
    "using Pkg\n",
    "pkg\"activate .\"\n",
    "include(\"examples/curric_UH_EE.jl\")"
   ]
  },
  {
   "cell_type": "code",
   "execution_count": 5,
   "metadata": {},
   "outputs": [
    {
     "name": "stdout",
     "output_type": "stream",
     "text": [
      "Current directory: CurricularAnalytics.jl\n",
      "Reading csv file: examples/CornellECECources.csv\n",
      "Curriculum  is valid\n",
      "  delay factor = (80.0, [1.0, 5.0, 1.0, 1.0, 1.0, 5.0, 4.0, 3.0, 1.0, 1.0, 5.0, 4.0, 5.0, 3.0, 1.0, 4.0, 3.0, 4.0, 4.0, 1.0, 1.0, 1.0, 2.0, 5.0, 1.0, 1.0, 1.0, 1.0, 1.0, 1.0, 1.0, 1.0, 1.0, 1.0, 1.0, 1.0, 1.0, 1.0])\n",
      "  blocking factor = (37, [0, 10, 0, 0, 0, 4, 8, 3, 0, 0, 3, 4, 1, 1, 0, 0, 2, 0, 1, 0, 0, 0, 0, 0, 0, 0, 0, 0, 0, 0, 0, 0, 0, 0, 0, 0, 0, 0])\n",
      "  centrality factor = (102, [0, 0, 0, 0, 0, 9, 28, 0, 0, 0, 18, 14, 15, 3, 0, 0, 5, 0, 10, 0, 0, 0, 0, 0, 0, 0, 0, 0, 0, 0, 0, 0, 0, 0, 0, 0, 0, 0])\n",
      "  curricular complexity = (117.0, Number[1.0, 15.0, 1.0, 1.0, 1.0, 9.0, 12.0, 6.0, 1.0, 1.0, 8.0, 8.0, 6.0, 4.0, 1.0, 4.0, 5.0, 4.0, 5.0, 1.0, 1.0, 1.0, 2.0, 5.0, 1.0, 1.0, 1.0, 1.0, 1.0, 1.0, 1.0, 1.0, 1.0, 1.0, 1.0, 1.0, 1.0, 1.0])\n",
      "Degree plan  is valid\n"
     ]
    },
    {
     "name": "stderr",
     "output_type": "stream",
     "text": [
      "┌ Info: Accept (7):  🔗    0↑     0↓    0s 127.0.0.1:8156:8156 ≣16\n",
      "└ @ HTTP.Servers C:\\Users\\orhan\\.julia\\packages\\HTTP\\YjRCz\\src\\Servers.jl:343\n",
      "┌ Info: Accept (8):  🔗    0↑     0↓    0s 127.0.0.1:8156:8156 ≣16\n",
      "└ @ HTTP.Servers C:\\Users\\orhan\\.julia\\packages\\HTTP\\YjRCz\\src\\Servers.jl:343\n",
      "┌ Info: Accept (9):  🔗    0↑     0↓    0s 127.0.0.1:8156:8156 ≣16\n",
      "└ @ HTTP.Servers C:\\Users\\orhan\\.julia\\packages\\HTTP\\YjRCz\\src\\Servers.jl:343\n"
     ]
    },
    {
     "data": {
      "text/plain": [
       "Main.curriculum"
      ]
     },
     "execution_count": 5,
     "metadata": {},
     "output_type": "execute_result"
    }
   ],
   "source": [
    "#This cell will create Curriculum using csv file.\n",
    "if split(pwd(),Base.Filesystem.path_separator)[end] != \"CurricularAnalytics.jl\"\n",
    "    cd(\"../..\")\n",
    "end\n",
    "println(\"Current directory: \" * split(pwd(),Base.Filesystem.path_separator)[end])\n",
    "using Pkg\n",
    "pkg\"activate .\"\n",
    "module curriculum\n",
    "    ARGS = [\"examples/CornellECECources.csv\"]\n",
    "    include(\"examples/curric_from_csv.jl\")\n",
    "end"
   ]
  },
  {
   "cell_type": "code",
   "execution_count": 3,
   "metadata": {},
   "outputs": [
    {
     "name": "stdout",
     "output_type": "stream",
     "text": [
      "Current directory: CurricularAnalytics.jl\n",
      "Curriculum University of Houston EE Program is valid\n",
      "  delay factor = (80.0, [1.0, 5.0, 1.0, 1.0, 1.0, 5.0, 4.0, 3.0, 1.0, 1.0, 5.0, 4.0, 5.0, 3.0, 1.0, 4.0, 3.0, 4.0, 4.0, 1.0, 1.0, 1.0, 2.0, 5.0, 1.0, 1.0, 1.0, 1.0, 1.0, 1.0, 1.0, 1.0, 1.0, 1.0, 1.0, 1.0, 1.0, 1.0])\n",
      "  blocking factor = (37, [0, 10, 0, 0, 0, 4, 8, 3, 0, 0, 3, 4, 1, 1, 0, 0, 2, 0, 1, 0, 0, 0, 0, 0, 0, 0, 0, 0, 0, 0, 0, 0, 0, 0, 0, 0, 0, 0])\n",
      "  centrality factor = (102, [0, 0, 0, 0, 0, 9, 28, 0, 0, 0, 18, 14, 15, 3, 0, 0, 5, 0, 10, 0, 0, 0, 0, 0, 0, 0, 0, 0, 0, 0, 0, 0, 0, 0, 0, 0, 0, 0])\n",
      "  curricular complexity = (117.0, Number[1.0, 15.0, 1.0, 1.0, 1.0, 9.0, 12.0, 6.0, 1.0, 1.0, 8.0, 8.0, 6.0, 4.0, 1.0, 4.0, 5.0, 4.0, 5.0, 1.0, 1.0, 1.0, 2.0, 5.0, 1.0, 1.0, 1.0, 1.0, 1.0, 1.0, 1.0, 1.0, 1.0, 1.0, 1.0, 1.0, 1.0, 1.0])\n",
      "Degree plan University of Houston EE Program 4-year Plan is not valid:\n",
      "\n",
      "-Course 1st Yr Writing Seminar is listed multiple times in degree plan\n",
      "-Course PE is listed multiple times in degree plan\n",
      "-Course Liberal Studies is listed multiple times in degree plan\n",
      "-Course ECE Foundations is listed multiple times in degree plan\n",
      "-Course Liberal Studies is listed multiple times in degree plan\n",
      "-Course Outside Tech. Elective is listed multiple times in degree plan\n",
      "-Course Liberal Studies is listed multiple times in degree plan\n",
      "-Course ECE Elective is listed multiple times in degree plan\n",
      "-Course ECE Elective is listed multiple times in degree plan\n",
      "-Course ECE Elective is listed multiple times in degree plan\n",
      "-Course Liberal Studies is listed multiple times in degree plan\n",
      "Diplaying degree plan for debugging purposes...\n"
     ]
    },
    {
     "data": {
      "text/html": [
       "<div class='display:none'></div><unsafe-script style='display:none'>\n",
       "WebIO.mount(this.previousSibling,{&quot;props&quot;:{},&quot;nodeType&quot;:&quot;Scope&quot;,&quot;type&quot;:&quot;node&quot;,&quot;instanceArgs&quot;:{&quot;imports&quot;:{&quot;data&quot;:[],&quot;type&quot;:&quot;async_block&quot;},&quot;id&quot;:&quot;scope-db2e383e-c478-4f8a-8988-748a56217152&quot;,&quot;handlers&quot;:{},&quot;systemjs_options&quot;:null,&quot;observables&quot;:{&quot;curriculum-data&quot;:{&quot;sync&quot;:true,&quot;id&quot;:&quot;ob_03&quot;,&quot;value&quot;:{&quot;options&quot;:{&quot;hideTerms&quot;:false,&quot;edit&quot;:false},&quot;name&quot;:&quot;University of Houston EE Program 4-year Plan&quot;,&quot;curriculum&quot;:{&quot;name&quot;:&quot;University of Houston EE Program&quot;,&quot;curriculum_terms&quot;:[{&quot;name&quot;:&quot;Term 1&quot;,&quot;curriculum_items&quot;:[{&quot;curriculum_requisites&quot;:[],&quot;name&quot;:&quot;CHEM 2090&quot;,&quot;metrics&quot;:{&quot;centrality&quot;:0,&quot;complexity&quot;:1.0,&quot;blocking factor&quot;:0,&quot;delay factor&quot;:1.0},&quot;canonical_name&quot;:&quot;&quot;,&quot;nameSub&quot;:&quot;CHEM 2090&quot;,&quot;id&quot;:7292922628616907154,&quot;num&quot;:&quot;2090&quot;,&quot;credits&quot;:3,&quot;institution&quot;:&quot;&quot;,&quot;prefix&quot;:&quot;CHEM&quot;},{&quot;curriculum_requisites&quot;:[],&quot;name&quot;:&quot;MATH 1910&quot;,&quot;metrics&quot;:{&quot;centrality&quot;:0,&quot;complexity&quot;:15.0,&quot;blocking factor&quot;:10,&quot;delay factor&quot;:5.0},&quot;canonical_name&quot;:&quot;&quot;,&quot;nameSub&quot;:&quot;MATH 1910&quot;,&quot;id&quot;:3559482830917152852,&quot;num&quot;:&quot;1910&quot;,&quot;credits&quot;:3,&quot;institution&quot;:&quot;&quot;,&quot;prefix&quot;:&quot;MATH&quot;},{&quot;curriculum_requisites&quot;:[],&quot;name&quot;:&quot;ENGRI 1xxx&quot;,&quot;metrics&quot;:{&quot;centrality&quot;:0,&quot;complexity&quot;:1.0,&quot;blocking factor&quot;:0,&quot;delay factor&quot;:1.0},&quot;canonical_name&quot;:&quot;&quot;,&quot;nameSub&quot;:&quot;ENGRI 1xxx&quot;,&quot;id&quot;:6587687013158316857,&quot;num&quot;:&quot;1xxx&quot;,&quot;credits&quot;:3,&quot;institution&quot;:&quot;&quot;,&quot;prefix&quot;:&quot;ENGRI&quot;},{&quot;curriculum_requisites&quot;:[],&quot;name&quot;:&quot; &quot;,&quot;metrics&quot;:{&quot;centrality&quot;:0,&quot;complexity&quot;:1.0,&quot;blocking factor&quot;:0,&quot;delay factor&quot;:1.0},&quot;canonical_name&quot;:&quot;&quot;,&quot;nameSub&quot;:&quot;1st Yr Writing Seminar&quot;,&quot;id&quot;:8609847800665187486,&quot;num&quot;:&quot;&quot;,&quot;credits&quot;:3,&quot;institution&quot;:&quot;&quot;,&quot;prefix&quot;:&quot;&quot;},{&quot;curriculum_requisites&quot;:[],&quot;name&quot;:&quot; &quot;,&quot;metrics&quot;:{&quot;centrality&quot;:0,&quot;complexity&quot;:1.0,&quot;blocking factor&quot;:0,&quot;delay factor&quot;:1.0},&quot;canonical_name&quot;:&quot;&quot;,&quot;nameSub&quot;:&quot;PE&quot;,&quot;id&quot;:7777525252618957972,&quot;num&quot;:&quot;&quot;,&quot;credits&quot;:3,&quot;institution&quot;:&quot;&quot;,&quot;prefix&quot;:&quot;&quot;}],&quot;id&quot;:1},{&quot;name&quot;:&quot;Term 2&quot;,&quot;curriculum_items&quot;:[{&quot;curriculum_requisites&quot;:[{&quot;source_id&quot;:3559482830917152852,&quot;target_id&quot;:2154169429826427523,&quot;type&quot;:&quot;prereq&quot;}],&quot;name&quot;:&quot;PHYS 1112&quot;,&quot;metrics&quot;:{&quot;centrality&quot;:9,&quot;complexity&quot;:9.0,&quot;blocking factor&quot;:4,&quot;delay factor&quot;:5.0},&quot;canonical_name&quot;:&quot;&quot;,&quot;nameSub&quot;:&quot;PHYS 1112&quot;,&quot;id&quot;:2154169429826427523,&quot;num&quot;:&quot;1112&quot;,&quot;credits&quot;:3,&quot;institution&quot;:&quot;&quot;,&quot;prefix&quot;:&quot;PHYS&quot;},{&quot;curriculum_requisites&quot;:[{&quot;source_id&quot;:3559482830917152852,&quot;target_id&quot;:5839083673754738912,&quot;type&quot;:&quot;prereq&quot;}],&quot;name&quot;:&quot;MATH 1920&quot;,&quot;metrics&quot;:{&quot;centrality&quot;:28,&quot;complexity&quot;:12.0,&quot;blocking factor&quot;:8,&quot;delay factor&quot;:4.0},&quot;canonical_name&quot;:&quot;&quot;,&quot;nameSub&quot;:&quot;MATH 1920&quot;,&quot;id&quot;:5839083673754738912,&quot;num&quot;:&quot;1920&quot;,&quot;credits&quot;:3,&quot;institution&quot;:&quot;&quot;,&quot;prefix&quot;:&quot;MATH&quot;},{&quot;curriculum_requisites&quot;:[],&quot;name&quot;:&quot;CS 111x&quot;,&quot;metrics&quot;:{&quot;centrality&quot;:0,&quot;complexity&quot;:6.0,&quot;blocking factor&quot;:3,&quot;delay factor&quot;:3.0},&quot;canonical_name&quot;:&quot;&quot;,&quot;nameSub&quot;:&quot;CS 111x&quot;,&quot;id&quot;:8428277868629534417,&quot;num&quot;:&quot;111x&quot;,&quot;credits&quot;:3,&quot;institution&quot;:&quot;&quot;,&quot;prefix&quot;:&quot;CS&quot;},{&quot;curriculum_requisites&quot;:[],&quot;name&quot;:&quot; &quot;,&quot;metrics&quot;:{&quot;centrality&quot;:0,&quot;complexity&quot;:1.0,&quot;blocking factor&quot;:0,&quot;delay factor&quot;:1.0},&quot;canonical_name&quot;:&quot;&quot;,&quot;nameSub&quot;:&quot;1st Yr Writing Seminar&quot;,&quot;id&quot;:8609847800665187486,&quot;num&quot;:&quot;&quot;,&quot;credits&quot;:3,&quot;institution&quot;:&quot;&quot;,&quot;prefix&quot;:&quot;&quot;},{&quot;curriculum_requisites&quot;:[],&quot;name&quot;:&quot; &quot;,&quot;metrics&quot;:{&quot;centrality&quot;:0,&quot;complexity&quot;:1.0,&quot;blocking factor&quot;:0,&quot;delay factor&quot;:1.0},&quot;canonical_name&quot;:&quot;&quot;,&quot;nameSub&quot;:&quot;PE&quot;,&quot;id&quot;:7777525252618957972,&quot;num&quot;:&quot;&quot;,&quot;credits&quot;:3,&quot;institution&quot;:&quot;&quot;,&quot;prefix&quot;:&quot;&quot;}],&quot;id&quot;:2},{&quot;name&quot;:&quot;Term 3&quot;,&quot;curriculum_items&quot;:[{&quot;curriculum_requisites&quot;:[{&quot;source_id&quot;:5839083673754738912,&quot;target_id&quot;:5781429228378227836,&quot;type&quot;:&quot;prereq&quot;},{&quot;source_id&quot;:2154169429826427523,&quot;target_id&quot;:5781429228378227836,&quot;type&quot;:&quot;prereq&quot;}],&quot;name&quot;:&quot;PHYS 2213&quot;,&quot;metrics&quot;:{&quot;centrality&quot;:18,&quot;complexity&quot;:8.0,&quot;blocking factor&quot;:3,&quot;delay factor&quot;:5.0},&quot;canonical_name&quot;:&quot;&quot;,&quot;nameSub&quot;:&quot;PHYS 2213&quot;,&quot;id&quot;:5781429228378227836,&quot;num&quot;:&quot;2213&quot;,&quot;credits&quot;:3,&quot;institution&quot;:&quot;&quot;,&quot;prefix&quot;:&quot;PHYS&quot;},{&quot;curriculum_requisites&quot;:[{&quot;source_id&quot;:5839083673754738912,&quot;target_id&quot;:8936568786317368118,&quot;type&quot;:&quot;prereq&quot;}],&quot;name&quot;:&quot;MATH 2930&quot;,&quot;metrics&quot;:{&quot;centrality&quot;:14,&quot;complexity&quot;:8.0,&quot;blocking factor&quot;:4,&quot;delay factor&quot;:4.0},&quot;canonical_name&quot;:&quot;&quot;,&quot;nameSub&quot;:&quot;MATH 2930&quot;,&quot;id&quot;:8936568786317368118,&quot;num&quot;:&quot;2930&quot;,&quot;credits&quot;:3,&quot;institution&quot;:&quot;&quot;,&quot;prefix&quot;:&quot;MATH&quot;},{&quot;curriculum_requisites&quot;:[{&quot;source_id&quot;:8936568786317368118,&quot;target_id&quot;:842052082593012137,&quot;type&quot;:&quot;coreq&quot;},{&quot;source_id&quot;:5781429228378227836,&quot;target_id&quot;:842052082593012137,&quot;type&quot;:&quot;coreq&quot;}],&quot;name&quot;:&quot;ECE/ENGRD 2100&quot;,&quot;metrics&quot;:{&quot;centrality&quot;:15,&quot;complexity&quot;:6.0,&quot;blocking factor&quot;:1,&quot;delay factor&quot;:5.0},&quot;canonical_name&quot;:&quot;&quot;,&quot;nameSub&quot;:&quot;ECE/ENGRD 2100&quot;,&quot;id&quot;:842052082593012137,&quot;num&quot;:&quot;2100&quot;,&quot;credits&quot;:3,&quot;institution&quot;:&quot;&quot;,&quot;prefix&quot;:&quot;ECE/ENGRD&quot;},{&quot;curriculum_requisites&quot;:[{&quot;source_id&quot;:8428277868629534417,&quot;target_id&quot;:1482578699905696524,&quot;type&quot;:&quot;prereq&quot;}],&quot;name&quot;:&quot;MECE/ENGRD 2300&quot;,&quot;metrics&quot;:{&quot;centrality&quot;:3,&quot;complexity&quot;:4.0,&quot;blocking factor&quot;:1,&quot;delay factor&quot;:3.0},&quot;canonical_name&quot;:&quot;&quot;,&quot;nameSub&quot;:&quot;MECE/ENGRD 2300&quot;,&quot;id&quot;:1482578699905696524,&quot;num&quot;:&quot;2300&quot;,&quot;credits&quot;:3,&quot;institution&quot;:&quot;&quot;,&quot;prefix&quot;:&quot;MECE/ENGRD&quot;},{&quot;curriculum_requisites&quot;:[],&quot;name&quot;:&quot; &quot;,&quot;metrics&quot;:{&quot;centrality&quot;:0,&quot;complexity&quot;:1.0,&quot;blocking factor&quot;:0,&quot;delay factor&quot;:1.0},&quot;canonical_name&quot;:&quot;&quot;,&quot;nameSub&quot;:&quot;Liberal Studies&quot;,&quot;id&quot;:5747204689871414077,&quot;num&quot;:&quot;&quot;,&quot;credits&quot;:3,&quot;institution&quot;:&quot;&quot;,&quot;prefix&quot;:&quot;&quot;}],&quot;id&quot;:3},{&quot;name&quot;:&quot;Term 4&quot;,&quot;curriculum_items&quot;:[{&quot;curriculum_requisites&quot;:[{&quot;source_id&quot;:8936568786317368118,&quot;target_id&quot;:529659982834695664,&quot;type&quot;:&quot;coreq&quot;}],&quot;name&quot;:&quot;PHYS 2214&quot;,&quot;metrics&quot;:{&quot;centrality&quot;:0,&quot;complexity&quot;:4.0,&quot;blocking factor&quot;:0,&quot;delay factor&quot;:4.0},&quot;canonical_name&quot;:&quot;&quot;,&quot;nameSub&quot;:&quot;PHYS 2214&quot;,&quot;id&quot;:529659982834695664,&quot;num&quot;:&quot;2214&quot;,&quot;credits&quot;:3,&quot;institution&quot;:&quot;&quot;,&quot;prefix&quot;:&quot;PHYS&quot;},{&quot;curriculum_requisites&quot;:[{&quot;source_id&quot;:5839083673754738912,&quot;target_id&quot;:1650735724976218095,&quot;type&quot;:&quot;prereq&quot;}],&quot;name&quot;:&quot;MATH 2940&quot;,&quot;metrics&quot;:{&quot;centrality&quot;:5,&quot;complexity&quot;:5.0,&quot;blocking factor&quot;:2,&quot;delay factor&quot;:3.0},&quot;canonical_name&quot;:&quot;&quot;,&quot;nameSub&quot;:&quot;MATH 2940&quot;,&quot;id&quot;:1650735724976218095,&quot;num&quot;:&quot;2940&quot;,&quot;credits&quot;:3,&quot;institution&quot;:&quot;&quot;,&quot;prefix&quot;:&quot;MATH&quot;},{&quot;curriculum_requisites&quot;:[{&quot;source_id&quot;:5781429228378227836,&quot;target_id&quot;:6659920577067111170,&quot;type&quot;:&quot;prereq&quot;}],&quot;name&quot;:&quot;ENGRD 2xxx&quot;,&quot;metrics&quot;:{&quot;centrality&quot;:0,&quot;complexity&quot;:4.0,&quot;blocking factor&quot;:0,&quot;delay factor&quot;:4.0},&quot;canonical_name&quot;:&quot;&quot;,&quot;nameSub&quot;:&quot;ENGRD 2xxx&quot;,&quot;id&quot;:6659920577067111170,&quot;num&quot;:&quot;2xxx&quot;,&quot;credits&quot;:3,&quot;institution&quot;:&quot;&quot;,&quot;prefix&quot;:&quot;ENGRD&quot;},{&quot;curriculum_requisites&quot;:[{&quot;source_id&quot;:8936568786317368118,&quot;target_id&quot;:1512770721165776213,&quot;type&quot;:&quot;prereq&quot;},{&quot;source_id&quot;:1650735724976218095,&quot;target_id&quot;:1512770721165776213,&quot;type&quot;:&quot;coreq&quot;}],&quot;name&quot;:&quot;ECE/ENGRD 2200/2220&quot;,&quot;metrics&quot;:{&quot;centrality&quot;:10,&quot;complexity&quot;:5.0,&quot;blocking factor&quot;:1,&quot;delay factor&quot;:4.0},&quot;canonical_name&quot;:&quot;&quot;,&quot;nameSub&quot;:&quot;ECE 2200/ENGRD 2220&quot;,&quot;id&quot;:1512770721165776213,&quot;num&quot;:&quot;2200/2220&quot;,&quot;credits&quot;:3,&quot;institution&quot;:&quot;&quot;,&quot;prefix&quot;:&quot;ECE/ENGRD&quot;},{&quot;curriculum_requisites&quot;:[],&quot;name&quot;:&quot; &quot;,&quot;metrics&quot;:{&quot;centrality&quot;:0,&quot;complexity&quot;:1.0,&quot;blocking factor&quot;:0,&quot;delay factor&quot;:1.0},&quot;canonical_name&quot;:&quot;&quot;,&quot;nameSub&quot;:&quot;Liberal Studies&quot;,&quot;id&quot;:5747204689871414077,&quot;num&quot;:&quot;&quot;,&quot;credits&quot;:3,&quot;institution&quot;:&quot;&quot;,&quot;prefix&quot;:&quot;&quot;}],&quot;id&quot;:4},{&quot;name&quot;:&quot;Term 5&quot;,&quot;curriculum_items&quot;:[{&quot;curriculum_requisites&quot;:[],&quot;name&quot;:&quot; &quot;,&quot;metrics&quot;:{&quot;centrality&quot;:0,&quot;complexity&quot;:1.0,&quot;blocking factor&quot;:0,&quot;delay factor&quot;:1.0},&quot;canonical_name&quot;:&quot;&quot;,&quot;nameSub&quot;:&quot;ECE Foundations&quot;,&quot;id&quot;:1896334404333273317,&quot;num&quot;:&quot;&quot;,&quot;credits&quot;:3,&quot;institution&quot;:&quot;&quot;,&quot;prefix&quot;:&quot;&quot;},{&quot;curriculum_requisites&quot;:[],&quot;name&quot;:&quot; &quot;,&quot;metrics&quot;:{&quot;centrality&quot;:0,&quot;complexity&quot;:1.0,&quot;blocking factor&quot;:0,&quot;delay factor&quot;:1.0},&quot;canonical_name&quot;:&quot;&quot;,&quot;nameSub&quot;:&quot;Elective&quot;,&quot;id&quot;:6437116378810353915,&quot;num&quot;:&quot;&quot;,&quot;credits&quot;:3,&quot;institution&quot;:&quot;&quot;,&quot;prefix&quot;:&quot;&quot;},{&quot;curriculum_requisites&quot;:[{&quot;source_id&quot;:8428277868629534417,&quot;target_id&quot;:5491291261260444944,&quot;type&quot;:&quot;prereq&quot;}],&quot;name&quot;:&quot; &quot;,&quot;metrics&quot;:{&quot;centrality&quot;:0,&quot;complexity&quot;:2.0,&quot;blocking factor&quot;:0,&quot;delay factor&quot;:2.0},&quot;canonical_name&quot;:&quot;&quot;,&quot;nameSub&quot;:&quot;Outside Tech. Elective&quot;,&quot;id&quot;:5491291261260444944,&quot;num&quot;:&quot;&quot;,&quot;credits&quot;:3,&quot;institution&quot;:&quot;&quot;,&quot;prefix&quot;:&quot;&quot;},{&quot;curriculum_requisites&quot;:[{&quot;source_id&quot;:1482578699905696524,&quot;target_id&quot;:2998331888620911105,&quot;type&quot;:&quot;prereq&quot;},{&quot;source_id&quot;:1512770721165776213,&quot;target_id&quot;:2998331888620911105,&quot;type&quot;:&quot;prereq&quot;},{&quot;source_id&quot;:842052082593012137,&quot;target_id&quot;:2998331888620911105,&quot;type&quot;:&quot;prereq&quot;}],&quot;name&quot;:&quot;ECE 3400&quot;,&quot;metrics&quot;:{&quot;centrality&quot;:0,&quot;complexity&quot;:5.0,&quot;blocking factor&quot;:0,&quot;delay factor&quot;:5.0},&quot;canonical_name&quot;:&quot;&quot;,&quot;nameSub&quot;:&quot;ECE 3400&quot;,&quot;id&quot;:2998331888620911105,&quot;num&quot;:&quot;3400&quot;,&quot;credits&quot;:3,&quot;institution&quot;:&quot;&quot;,&quot;prefix&quot;:&quot;ECE&quot;},{&quot;curriculum_requisites&quot;:[],&quot;name&quot;:&quot; &quot;,&quot;metrics&quot;:{&quot;centrality&quot;:0,&quot;complexity&quot;:1.0,&quot;blocking factor&quot;:0,&quot;delay factor&quot;:1.0},&quot;canonical_name&quot;:&quot;&quot;,&quot;nameSub&quot;:&quot;Liberal Studies&quot;,&quot;id&quot;:6149945123608526001,&quot;num&quot;:&quot;&quot;,&quot;credits&quot;:3,&quot;institution&quot;:&quot;&quot;,&quot;prefix&quot;:&quot;&quot;}],&quot;id&quot;:5},{&quot;name&quot;:&quot;Term 6&quot;,&quot;curriculum_items&quot;:[{&quot;curriculum_requisites&quot;:[],&quot;name&quot;:&quot; &quot;,&quot;metrics&quot;:{&quot;centrality&quot;:0,&quot;complexity&quot;:1.0,&quot;blocking factor&quot;:0,&quot;delay factor&quot;:1.0},&quot;canonical_name&quot;:&quot;&quot;,&quot;nameSub&quot;:&quot;ECE Foundations&quot;,&quot;id&quot;:2202196078585959088,&quot;num&quot;:&quot;&quot;,&quot;credits&quot;:3,&quot;institution&quot;:&quot;&quot;,&quot;prefix&quot;:&quot;&quot;},{&quot;curriculum_requisites&quot;:[],&quot;name&quot;:&quot; &quot;,&quot;metrics&quot;:{&quot;centrality&quot;:0,&quot;complexity&quot;:1.0,&quot;blocking factor&quot;:0,&quot;delay factor&quot;:1.0},&quot;canonical_name&quot;:&quot;&quot;,&quot;nameSub&quot;:&quot;ECE Foundations&quot;,&quot;id&quot;:2202196078585959088,&quot;num&quot;:&quot;&quot;,&quot;credits&quot;:3,&quot;institution&quot;:&quot;&quot;,&quot;prefix&quot;:&quot;&quot;},{&quot;curriculum_requisites&quot;:[],&quot;name&quot;:&quot; &quot;,&quot;metrics&quot;:{&quot;centrality&quot;:0,&quot;complexity&quot;:1.0,&quot;blocking factor&quot;:0,&quot;delay factor&quot;:1.0},&quot;canonical_name&quot;:&quot;&quot;,&quot;nameSub&quot;:&quot;Outside Tech. Elective&quot;,&quot;id&quot;:2254055589085816520,&quot;num&quot;:&quot;&quot;,&quot;credits&quot;:3,&quot;institution&quot;:&quot;&quot;,&quot;prefix&quot;:&quot;&quot;},{&quot;curriculum_requisites&quot;:[],&quot;name&quot;:&quot; &quot;,&quot;metrics&quot;:{&quot;centrality&quot;:0,&quot;complexity&quot;:1.0,&quot;blocking factor&quot;:0,&quot;delay factor&quot;:1.0},&quot;canonical_name&quot;:&quot;&quot;,&quot;nameSub&quot;:&quot;Elective&quot;,&quot;id&quot;:6025205607123545672,&quot;num&quot;:&quot;&quot;,&quot;credits&quot;:3,&quot;institution&quot;:&quot;&quot;,&quot;prefix&quot;:&quot;&quot;},{&quot;curriculum_requisites&quot;:[],&quot;name&quot;:&quot; &quot;,&quot;metrics&quot;:{&quot;centrality&quot;:0,&quot;complexity&quot;:1.0,&quot;blocking factor&quot;:0,&quot;delay factor&quot;:1.0},&quot;canonical_name&quot;:&quot;&quot;,&quot;nameSub&quot;:&quot;Liberal Studies&quot;,&quot;id&quot;:6149945123608526001,&quot;num&quot;:&quot;&quot;,&quot;credits&quot;:3,&quot;institution&quot;:&quot;&quot;,&quot;prefix&quot;:&quot;&quot;}],&quot;id&quot;:6},{&quot;name&quot;:&quot;Term 7&quot;,&quot;curriculum_items&quot;:[{&quot;curriculum_requisites&quot;:[],&quot;name&quot;:&quot; &quot;,&quot;metrics&quot;:{&quot;centrality&quot;:0,&quot;complexity&quot;:1.0,&quot;blocking factor&quot;:0,&quot;delay factor&quot;:1.0},&quot;canonical_name&quot;:&quot;&quot;,&quot;nameSub&quot;:&quot;ECE Elective &quot;,&quot;id&quot;:4126168628637854400,&quot;num&quot;:&quot;&quot;,&quot;credits&quot;:3,&quot;institution&quot;:&quot;&quot;,&quot;prefix&quot;:&quot;&quot;},{&quot;curriculum_requisites&quot;:[],&quot;name&quot;:&quot; &quot;,&quot;metrics&quot;:{&quot;centrality&quot;:0,&quot;complexity&quot;:1.0,&quot;blocking factor&quot;:0,&quot;delay factor&quot;:1.0},&quot;canonical_name&quot;:&quot;&quot;,&quot;nameSub&quot;:&quot;ECE Elective&quot;,&quot;id&quot;:6649137528136798086,&quot;num&quot;:&quot;&quot;,&quot;credits&quot;:3,&quot;institution&quot;:&quot;&quot;,&quot;prefix&quot;:&quot;&quot;},{&quot;curriculum_requisites&quot;:[],&quot;name&quot;:&quot; &quot;,&quot;metrics&quot;:{&quot;centrality&quot;:0,&quot;complexity&quot;:1.0,&quot;blocking factor&quot;:0,&quot;delay factor&quot;:1.0},&quot;canonical_name&quot;:&quot;&quot;,&quot;nameSub&quot;:&quot;Outside Tech. Elective&quot;,&quot;id&quot;:2254055589085816520,&quot;num&quot;:&quot;&quot;,&quot;credits&quot;:3,&quot;institution&quot;:&quot;&quot;,&quot;prefix&quot;:&quot;&quot;},{&quot;curriculum_requisites&quot;:[],&quot;name&quot;:&quot; &quot;,&quot;metrics&quot;:{&quot;centrality&quot;:0,&quot;complexity&quot;:1.0,&quot;blocking factor&quot;:0,&quot;delay factor&quot;:1.0},&quot;canonical_name&quot;:&quot;&quot;,&quot;nameSub&quot;:&quot;Liberal Studies&quot;,&quot;id&quot;:6149945123608526001,&quot;num&quot;:&quot;&quot;,&quot;credits&quot;:3,&quot;institution&quot;:&quot;&quot;,&quot;prefix&quot;:&quot;&quot;}],&quot;id&quot;:7},{&quot;name&quot;:&quot;Term 8&quot;,&quot;curriculum_items&quot;:[{&quot;curriculum_requisites&quot;:[],&quot;name&quot;:&quot; &quot;,&quot;metrics&quot;:{&quot;centrality&quot;:0,&quot;complexity&quot;:1.0,&quot;blocking factor&quot;:0,&quot;delay factor&quot;:1.0},&quot;canonical_name&quot;:&quot;&quot;,&quot;nameSub&quot;:&quot;ECE Elective&quot;,&quot;id&quot;:6649137528136798086,&quot;num&quot;:&quot;&quot;,&quot;credits&quot;:3,&quot;institution&quot;:&quot;&quot;,&quot;prefix&quot;:&quot;&quot;},{&quot;curriculum_requisites&quot;:[],&quot;name&quot;:&quot; &quot;,&quot;metrics&quot;:{&quot;centrality&quot;:0,&quot;complexity&quot;:1.0,&quot;blocking factor&quot;:0,&quot;delay factor&quot;:1.0},&quot;canonical_name&quot;:&quot;&quot;,&quot;nameSub&quot;:&quot;ECE Elective&quot;,&quot;id&quot;:6649137528136798086,&quot;num&quot;:&quot;&quot;,&quot;credits&quot;:3,&quot;institution&quot;:&quot;&quot;,&quot;prefix&quot;:&quot;&quot;},{&quot;curriculum_requisites&quot;:[],&quot;name&quot;:&quot; &quot;,&quot;metrics&quot;:{&quot;centrality&quot;:0,&quot;complexity&quot;:1.0,&quot;blocking factor&quot;:0,&quot;delay factor&quot;:1.0},&quot;canonical_name&quot;:&quot;&quot;,&quot;nameSub&quot;:&quot;ECE Elective&quot;,&quot;id&quot;:6649137528136798086,&quot;num&quot;:&quot;&quot;,&quot;credits&quot;:3,&quot;institution&quot;:&quot;&quot;,&quot;prefix&quot;:&quot;&quot;},{&quot;curriculum_requisites&quot;:[],&quot;name&quot;:&quot; &quot;,&quot;metrics&quot;:{&quot;centrality&quot;:0,&quot;complexity&quot;:1.0,&quot;blocking factor&quot;:0,&quot;delay factor&quot;:1.0},&quot;canonical_name&quot;:&quot;&quot;,&quot;nameSub&quot;:&quot;Liberal Studies&quot;,&quot;id&quot;:6149945123608526001,&quot;num&quot;:&quot;&quot;,&quot;credits&quot;:3,&quot;institution&quot;:&quot;&quot;,&quot;prefix&quot;:&quot;&quot;}],&quot;id&quot;:8}],&quot;CIP&quot;:&quot;26.0101&quot;,&quot;id&quot;:1251559464807800872,&quot;institution&quot;:&quot;&quot;}}}}},&quot;children&quot;:[{&quot;props&quot;:{&quot;src&quot;:&quot;http://localhost:8156&quot;,&quot;id&quot;:&quot;curriculum&quot;,&quot;events&quot;:{&quot;load&quot;:(function (){this.contentWindow.postMessage({&quot;options&quot;:{&quot;hideTerms&quot;:false,&quot;edit&quot;:false},&quot;name&quot;:&quot;University of Houston EE Program 4-year Plan&quot;,&quot;curriculum&quot;:{&quot;name&quot;:&quot;University of Houston EE Program&quot;,&quot;curriculum_terms&quot;:[{&quot;name&quot;:&quot;Term 1&quot;,&quot;curriculum_items&quot;:[{&quot;curriculum_requisites&quot;:[],&quot;name&quot;:&quot;CHEM 2090&quot;,&quot;metrics&quot;:{&quot;centrality&quot;:0,&quot;complexity&quot;:1.0,&quot;blocking factor&quot;:0,&quot;delay factor&quot;:1.0},&quot;canonical_name&quot;:&quot;&quot;,&quot;nameSub&quot;:&quot;CHEM 2090&quot;,&quot;id&quot;:7292922628616907154,&quot;num&quot;:&quot;2090&quot;,&quot;credits&quot;:3,&quot;institution&quot;:&quot;&quot;,&quot;prefix&quot;:&quot;CHEM&quot;},{&quot;curriculum_requisites&quot;:[],&quot;name&quot;:&quot;MATH 1910&quot;,&quot;metrics&quot;:{&quot;centrality&quot;:0,&quot;complexity&quot;:15.0,&quot;blocking factor&quot;:10,&quot;delay factor&quot;:5.0},&quot;canonical_name&quot;:&quot;&quot;,&quot;nameSub&quot;:&quot;MATH 1910&quot;,&quot;id&quot;:3559482830917152852,&quot;num&quot;:&quot;1910&quot;,&quot;credits&quot;:3,&quot;institution&quot;:&quot;&quot;,&quot;prefix&quot;:&quot;MATH&quot;},{&quot;curriculum_requisites&quot;:[],&quot;name&quot;:&quot;ENGRI 1xxx&quot;,&quot;metrics&quot;:{&quot;centrality&quot;:0,&quot;complexity&quot;:1.0,&quot;blocking factor&quot;:0,&quot;delay factor&quot;:1.0},&quot;canonical_name&quot;:&quot;&quot;,&quot;nameSub&quot;:&quot;ENGRI 1xxx&quot;,&quot;id&quot;:6587687013158316857,&quot;num&quot;:&quot;1xxx&quot;,&quot;credits&quot;:3,&quot;institution&quot;:&quot;&quot;,&quot;prefix&quot;:&quot;ENGRI&quot;},{&quot;curriculum_requisites&quot;:[],&quot;name&quot;:&quot; &quot;,&quot;metrics&quot;:{&quot;centrality&quot;:0,&quot;complexity&quot;:1.0,&quot;blocking factor&quot;:0,&quot;delay factor&quot;:1.0},&quot;canonical_name&quot;:&quot;&quot;,&quot;nameSub&quot;:&quot;1st Yr Writing Seminar&quot;,&quot;id&quot;:8609847800665187486,&quot;num&quot;:&quot;&quot;,&quot;credits&quot;:3,&quot;institution&quot;:&quot;&quot;,&quot;prefix&quot;:&quot;&quot;},{&quot;curriculum_requisites&quot;:[],&quot;name&quot;:&quot; &quot;,&quot;metrics&quot;:{&quot;centrality&quot;:0,&quot;complexity&quot;:1.0,&quot;blocking factor&quot;:0,&quot;delay factor&quot;:1.0},&quot;canonical_name&quot;:&quot;&quot;,&quot;nameSub&quot;:&quot;PE&quot;,&quot;id&quot;:7777525252618957972,&quot;num&quot;:&quot;&quot;,&quot;credits&quot;:3,&quot;institution&quot;:&quot;&quot;,&quot;prefix&quot;:&quot;&quot;}],&quot;id&quot;:1},{&quot;name&quot;:&quot;Term 2&quot;,&quot;curriculum_items&quot;:[{&quot;curriculum_requisites&quot;:[{&quot;source_id&quot;:3559482830917152852,&quot;target_id&quot;:2154169429826427523,&quot;type&quot;:&quot;prereq&quot;}],&quot;name&quot;:&quot;PHYS 1112&quot;,&quot;metrics&quot;:{&quot;centrality&quot;:9,&quot;complexity&quot;:9.0,&quot;blocking factor&quot;:4,&quot;delay factor&quot;:5.0},&quot;canonical_name&quot;:&quot;&quot;,&quot;nameSub&quot;:&quot;PHYS 1112&quot;,&quot;id&quot;:2154169429826427523,&quot;num&quot;:&quot;1112&quot;,&quot;credits&quot;:3,&quot;institution&quot;:&quot;&quot;,&quot;prefix&quot;:&quot;PHYS&quot;},{&quot;curriculum_requisites&quot;:[{&quot;source_id&quot;:3559482830917152852,&quot;target_id&quot;:5839083673754738912,&quot;type&quot;:&quot;prereq&quot;}],&quot;name&quot;:&quot;MATH 1920&quot;,&quot;metrics&quot;:{&quot;centrality&quot;:28,&quot;complexity&quot;:12.0,&quot;blocking factor&quot;:8,&quot;delay factor&quot;:4.0},&quot;canonical_name&quot;:&quot;&quot;,&quot;nameSub&quot;:&quot;MATH 1920&quot;,&quot;id&quot;:5839083673754738912,&quot;num&quot;:&quot;1920&quot;,&quot;credits&quot;:3,&quot;institution&quot;:&quot;&quot;,&quot;prefix&quot;:&quot;MATH&quot;},{&quot;curriculum_requisites&quot;:[],&quot;name&quot;:&quot;CS 111x&quot;,&quot;metrics&quot;:{&quot;centrality&quot;:0,&quot;complexity&quot;:6.0,&quot;blocking factor&quot;:3,&quot;delay factor&quot;:3.0},&quot;canonical_name&quot;:&quot;&quot;,&quot;nameSub&quot;:&quot;CS 111x&quot;,&quot;id&quot;:8428277868629534417,&quot;num&quot;:&quot;111x&quot;,&quot;credits&quot;:3,&quot;institution&quot;:&quot;&quot;,&quot;prefix&quot;:&quot;CS&quot;},{&quot;curriculum_requisites&quot;:[],&quot;name&quot;:&quot; &quot;,&quot;metrics&quot;:{&quot;centrality&quot;:0,&quot;complexity&quot;:1.0,&quot;blocking factor&quot;:0,&quot;delay factor&quot;:1.0},&quot;canonical_name&quot;:&quot;&quot;,&quot;nameSub&quot;:&quot;1st Yr Writing Seminar&quot;,&quot;id&quot;:8609847800665187486,&quot;num&quot;:&quot;&quot;,&quot;credits&quot;:3,&quot;institution&quot;:&quot;&quot;,&quot;prefix&quot;:&quot;&quot;},{&quot;curriculum_requisites&quot;:[],&quot;name&quot;:&quot; &quot;,&quot;metrics&quot;:{&quot;centrality&quot;:0,&quot;complexity&quot;:1.0,&quot;blocking factor&quot;:0,&quot;delay factor&quot;:1.0},&quot;canonical_name&quot;:&quot;&quot;,&quot;nameSub&quot;:&quot;PE&quot;,&quot;id&quot;:7777525252618957972,&quot;num&quot;:&quot;&quot;,&quot;credits&quot;:3,&quot;institution&quot;:&quot;&quot;,&quot;prefix&quot;:&quot;&quot;}],&quot;id&quot;:2},{&quot;name&quot;:&quot;Term 3&quot;,&quot;curriculum_items&quot;:[{&quot;curriculum_requisites&quot;:[{&quot;source_id&quot;:5839083673754738912,&quot;target_id&quot;:5781429228378227836,&quot;type&quot;:&quot;prereq&quot;},{&quot;source_id&quot;:2154169429826427523,&quot;target_id&quot;:5781429228378227836,&quot;type&quot;:&quot;prereq&quot;}],&quot;name&quot;:&quot;PHYS 2213&quot;,&quot;metrics&quot;:{&quot;centrality&quot;:18,&quot;complexity&quot;:8.0,&quot;blocking factor&quot;:3,&quot;delay factor&quot;:5.0},&quot;canonical_name&quot;:&quot;&quot;,&quot;nameSub&quot;:&quot;PHYS 2213&quot;,&quot;id&quot;:5781429228378227836,&quot;num&quot;:&quot;2213&quot;,&quot;credits&quot;:3,&quot;institution&quot;:&quot;&quot;,&quot;prefix&quot;:&quot;PHYS&quot;},{&quot;curriculum_requisites&quot;:[{&quot;source_id&quot;:5839083673754738912,&quot;target_id&quot;:8936568786317368118,&quot;type&quot;:&quot;prereq&quot;}],&quot;name&quot;:&quot;MATH 2930&quot;,&quot;metrics&quot;:{&quot;centrality&quot;:14,&quot;complexity&quot;:8.0,&quot;blocking factor&quot;:4,&quot;delay factor&quot;:4.0},&quot;canonical_name&quot;:&quot;&quot;,&quot;nameSub&quot;:&quot;MATH 2930&quot;,&quot;id&quot;:8936568786317368118,&quot;num&quot;:&quot;2930&quot;,&quot;credits&quot;:3,&quot;institution&quot;:&quot;&quot;,&quot;prefix&quot;:&quot;MATH&quot;},{&quot;curriculum_requisites&quot;:[{&quot;source_id&quot;:8936568786317368118,&quot;target_id&quot;:842052082593012137,&quot;type&quot;:&quot;coreq&quot;},{&quot;source_id&quot;:5781429228378227836,&quot;target_id&quot;:842052082593012137,&quot;type&quot;:&quot;coreq&quot;}],&quot;name&quot;:&quot;ECE/ENGRD 2100&quot;,&quot;metrics&quot;:{&quot;centrality&quot;:15,&quot;complexity&quot;:6.0,&quot;blocking factor&quot;:1,&quot;delay factor&quot;:5.0},&quot;canonical_name&quot;:&quot;&quot;,&quot;nameSub&quot;:&quot;ECE/ENGRD 2100&quot;,&quot;id&quot;:842052082593012137,&quot;num&quot;:&quot;2100&quot;,&quot;credits&quot;:3,&quot;institution&quot;:&quot;&quot;,&quot;prefix&quot;:&quot;ECE/ENGRD&quot;},{&quot;curriculum_requisites&quot;:[{&quot;source_id&quot;:8428277868629534417,&quot;target_id&quot;:1482578699905696524,&quot;type&quot;:&quot;prereq&quot;}],&quot;name&quot;:&quot;MECE/ENGRD 2300&quot;,&quot;metrics&quot;:{&quot;centrality&quot;:3,&quot;complexity&quot;:4.0,&quot;blocking factor&quot;:1,&quot;delay factor&quot;:3.0},&quot;canonical_name&quot;:&quot;&quot;,&quot;nameSub&quot;:&quot;MECE/ENGRD 2300&quot;,&quot;id&quot;:1482578699905696524,&quot;num&quot;:&quot;2300&quot;,&quot;credits&quot;:3,&quot;institution&quot;:&quot;&quot;,&quot;prefix&quot;:&quot;MECE/ENGRD&quot;},{&quot;curriculum_requisites&quot;:[],&quot;name&quot;:&quot; &quot;,&quot;metrics&quot;:{&quot;centrality&quot;:0,&quot;complexity&quot;:1.0,&quot;blocking factor&quot;:0,&quot;delay factor&quot;:1.0},&quot;canonical_name&quot;:&quot;&quot;,&quot;nameSub&quot;:&quot;Liberal Studies&quot;,&quot;id&quot;:5747204689871414077,&quot;num&quot;:&quot;&quot;,&quot;credits&quot;:3,&quot;institution&quot;:&quot;&quot;,&quot;prefix&quot;:&quot;&quot;}],&quot;id&quot;:3},{&quot;name&quot;:&quot;Term 4&quot;,&quot;curriculum_items&quot;:[{&quot;curriculum_requisites&quot;:[{&quot;source_id&quot;:8936568786317368118,&quot;target_id&quot;:529659982834695664,&quot;type&quot;:&quot;coreq&quot;}],&quot;name&quot;:&quot;PHYS 2214&quot;,&quot;metrics&quot;:{&quot;centrality&quot;:0,&quot;complexity&quot;:4.0,&quot;blocking factor&quot;:0,&quot;delay factor&quot;:4.0},&quot;canonical_name&quot;:&quot;&quot;,&quot;nameSub&quot;:&quot;PHYS 2214&quot;,&quot;id&quot;:529659982834695664,&quot;num&quot;:&quot;2214&quot;,&quot;credits&quot;:3,&quot;institution&quot;:&quot;&quot;,&quot;prefix&quot;:&quot;PHYS&quot;},{&quot;curriculum_requisites&quot;:[{&quot;source_id&quot;:5839083673754738912,&quot;target_id&quot;:1650735724976218095,&quot;type&quot;:&quot;prereq&quot;}],&quot;name&quot;:&quot;MATH 2940&quot;,&quot;metrics&quot;:{&quot;centrality&quot;:5,&quot;complexity&quot;:5.0,&quot;blocking factor&quot;:2,&quot;delay factor&quot;:3.0},&quot;canonical_name&quot;:&quot;&quot;,&quot;nameSub&quot;:&quot;MATH 2940&quot;,&quot;id&quot;:1650735724976218095,&quot;num&quot;:&quot;2940&quot;,&quot;credits&quot;:3,&quot;institution&quot;:&quot;&quot;,&quot;prefix&quot;:&quot;MATH&quot;},{&quot;curriculum_requisites&quot;:[{&quot;source_id&quot;:5781429228378227836,&quot;target_id&quot;:6659920577067111170,&quot;type&quot;:&quot;prereq&quot;}],&quot;name&quot;:&quot;ENGRD 2xxx&quot;,&quot;metrics&quot;:{&quot;centrality&quot;:0,&quot;complexity&quot;:4.0,&quot;blocking factor&quot;:0,&quot;delay factor&quot;:4.0},&quot;canonical_name&quot;:&quot;&quot;,&quot;nameSub&quot;:&quot;ENGRD 2xxx&quot;,&quot;id&quot;:6659920577067111170,&quot;num&quot;:&quot;2xxx&quot;,&quot;credits&quot;:3,&quot;institution&quot;:&quot;&quot;,&quot;prefix&quot;:&quot;ENGRD&quot;},{&quot;curriculum_requisites&quot;:[{&quot;source_id&quot;:8936568786317368118,&quot;target_id&quot;:1512770721165776213,&quot;type&quot;:&quot;prereq&quot;},{&quot;source_id&quot;:1650735724976218095,&quot;target_id&quot;:1512770721165776213,&quot;type&quot;:&quot;coreq&quot;}],&quot;name&quot;:&quot;ECE/ENGRD 2200/2220&quot;,&quot;metrics&quot;:{&quot;centrality&quot;:10,&quot;complexity&quot;:5.0,&quot;blocking factor&quot;:1,&quot;delay factor&quot;:4.0},&quot;canonical_name&quot;:&quot;&quot;,&quot;nameSub&quot;:&quot;ECE 2200/ENGRD 2220&quot;,&quot;id&quot;:1512770721165776213,&quot;num&quot;:&quot;2200/2220&quot;,&quot;credits&quot;:3,&quot;institution&quot;:&quot;&quot;,&quot;prefix&quot;:&quot;ECE/ENGRD&quot;},{&quot;curriculum_requisites&quot;:[],&quot;name&quot;:&quot; &quot;,&quot;metrics&quot;:{&quot;centrality&quot;:0,&quot;complexity&quot;:1.0,&quot;blocking factor&quot;:0,&quot;delay factor&quot;:1.0},&quot;canonical_name&quot;:&quot;&quot;,&quot;nameSub&quot;:&quot;Liberal Studies&quot;,&quot;id&quot;:5747204689871414077,&quot;num&quot;:&quot;&quot;,&quot;credits&quot;:3,&quot;institution&quot;:&quot;&quot;,&quot;prefix&quot;:&quot;&quot;}],&quot;id&quot;:4},{&quot;name&quot;:&quot;Term 5&quot;,&quot;curriculum_items&quot;:[{&quot;curriculum_requisites&quot;:[],&quot;name&quot;:&quot; &quot;,&quot;metrics&quot;:{&quot;centrality&quot;:0,&quot;complexity&quot;:1.0,&quot;blocking factor&quot;:0,&quot;delay factor&quot;:1.0},&quot;canonical_name&quot;:&quot;&quot;,&quot;nameSub&quot;:&quot;ECE Foundations&quot;,&quot;id&quot;:1896334404333273317,&quot;num&quot;:&quot;&quot;,&quot;credits&quot;:3,&quot;institution&quot;:&quot;&quot;,&quot;prefix&quot;:&quot;&quot;},{&quot;curriculum_requisites&quot;:[],&quot;name&quot;:&quot; &quot;,&quot;metrics&quot;:{&quot;centrality&quot;:0,&quot;complexity&quot;:1.0,&quot;blocking factor&quot;:0,&quot;delay factor&quot;:1.0},&quot;canonical_name&quot;:&quot;&quot;,&quot;nameSub&quot;:&quot;Elective&quot;,&quot;id&quot;:6437116378810353915,&quot;num&quot;:&quot;&quot;,&quot;credits&quot;:3,&quot;institution&quot;:&quot;&quot;,&quot;prefix&quot;:&quot;&quot;},{&quot;curriculum_requisites&quot;:[{&quot;source_id&quot;:8428277868629534417,&quot;target_id&quot;:5491291261260444944,&quot;type&quot;:&quot;prereq&quot;}],&quot;name&quot;:&quot; &quot;,&quot;metrics&quot;:{&quot;centrality&quot;:0,&quot;complexity&quot;:2.0,&quot;blocking factor&quot;:0,&quot;delay factor&quot;:2.0},&quot;canonical_name&quot;:&quot;&quot;,&quot;nameSub&quot;:&quot;Outside Tech. Elective&quot;,&quot;id&quot;:5491291261260444944,&quot;num&quot;:&quot;&quot;,&quot;credits&quot;:3,&quot;institution&quot;:&quot;&quot;,&quot;prefix&quot;:&quot;&quot;},{&quot;curriculum_requisites&quot;:[{&quot;source_id&quot;:1482578699905696524,&quot;target_id&quot;:2998331888620911105,&quot;type&quot;:&quot;prereq&quot;},{&quot;source_id&quot;:1512770721165776213,&quot;target_id&quot;:2998331888620911105,&quot;type&quot;:&quot;prereq&quot;},{&quot;source_id&quot;:842052082593012137,&quot;target_id&quot;:2998331888620911105,&quot;type&quot;:&quot;prereq&quot;}],&quot;name&quot;:&quot;ECE 3400&quot;,&quot;metrics&quot;:{&quot;centrality&quot;:0,&quot;complexity&quot;:5.0,&quot;blocking factor&quot;:0,&quot;delay factor&quot;:5.0},&quot;canonical_name&quot;:&quot;&quot;,&quot;nameSub&quot;:&quot;ECE 3400&quot;,&quot;id&quot;:2998331888620911105,&quot;num&quot;:&quot;3400&quot;,&quot;credits&quot;:3,&quot;institution&quot;:&quot;&quot;,&quot;prefix&quot;:&quot;ECE&quot;},{&quot;curriculum_requisites&quot;:[],&quot;name&quot;:&quot; &quot;,&quot;metrics&quot;:{&quot;centrality&quot;:0,&quot;complexity&quot;:1.0,&quot;blocking factor&quot;:0,&quot;delay factor&quot;:1.0},&quot;canonical_name&quot;:&quot;&quot;,&quot;nameSub&quot;:&quot;Liberal Studies&quot;,&quot;id&quot;:6149945123608526001,&quot;num&quot;:&quot;&quot;,&quot;credits&quot;:3,&quot;institution&quot;:&quot;&quot;,&quot;prefix&quot;:&quot;&quot;}],&quot;id&quot;:5},{&quot;name&quot;:&quot;Term 6&quot;,&quot;curriculum_items&quot;:[{&quot;curriculum_requisites&quot;:[],&quot;name&quot;:&quot; &quot;,&quot;metrics&quot;:{&quot;centrality&quot;:0,&quot;complexity&quot;:1.0,&quot;blocking factor&quot;:0,&quot;delay factor&quot;:1.0},&quot;canonical_name&quot;:&quot;&quot;,&quot;nameSub&quot;:&quot;ECE Foundations&quot;,&quot;id&quot;:2202196078585959088,&quot;num&quot;:&quot;&quot;,&quot;credits&quot;:3,&quot;institution&quot;:&quot;&quot;,&quot;prefix&quot;:&quot;&quot;},{&quot;curriculum_requisites&quot;:[],&quot;name&quot;:&quot; &quot;,&quot;metrics&quot;:{&quot;centrality&quot;:0,&quot;complexity&quot;:1.0,&quot;blocking factor&quot;:0,&quot;delay factor&quot;:1.0},&quot;canonical_name&quot;:&quot;&quot;,&quot;nameSub&quot;:&quot;ECE Foundations&quot;,&quot;id&quot;:2202196078585959088,&quot;num&quot;:&quot;&quot;,&quot;credits&quot;:3,&quot;institution&quot;:&quot;&quot;,&quot;prefix&quot;:&quot;&quot;},{&quot;curriculum_requisites&quot;:[],&quot;name&quot;:&quot; &quot;,&quot;metrics&quot;:{&quot;centrality&quot;:0,&quot;complexity&quot;:1.0,&quot;blocking factor&quot;:0,&quot;delay factor&quot;:1.0},&quot;canonical_name&quot;:&quot;&quot;,&quot;nameSub&quot;:&quot;Outside Tech. Elective&quot;,&quot;id&quot;:2254055589085816520,&quot;num&quot;:&quot;&quot;,&quot;credits&quot;:3,&quot;institution&quot;:&quot;&quot;,&quot;prefix&quot;:&quot;&quot;},{&quot;curriculum_requisites&quot;:[],&quot;name&quot;:&quot; &quot;,&quot;metrics&quot;:{&quot;centrality&quot;:0,&quot;complexity&quot;:1.0,&quot;blocking factor&quot;:0,&quot;delay factor&quot;:1.0},&quot;canonical_name&quot;:&quot;&quot;,&quot;nameSub&quot;:&quot;Elective&quot;,&quot;id&quot;:6025205607123545672,&quot;num&quot;:&quot;&quot;,&quot;credits&quot;:3,&quot;institution&quot;:&quot;&quot;,&quot;prefix&quot;:&quot;&quot;},{&quot;curriculum_requisites&quot;:[],&quot;name&quot;:&quot; &quot;,&quot;metrics&quot;:{&quot;centrality&quot;:0,&quot;complexity&quot;:1.0,&quot;blocking factor&quot;:0,&quot;delay factor&quot;:1.0},&quot;canonical_name&quot;:&quot;&quot;,&quot;nameSub&quot;:&quot;Liberal Studies&quot;,&quot;id&quot;:6149945123608526001,&quot;num&quot;:&quot;&quot;,&quot;credits&quot;:3,&quot;institution&quot;:&quot;&quot;,&quot;prefix&quot;:&quot;&quot;}],&quot;id&quot;:6},{&quot;name&quot;:&quot;Term 7&quot;,&quot;curriculum_items&quot;:[{&quot;curriculum_requisites&quot;:[],&quot;name&quot;:&quot; &quot;,&quot;metrics&quot;:{&quot;centrality&quot;:0,&quot;complexity&quot;:1.0,&quot;blocking factor&quot;:0,&quot;delay factor&quot;:1.0},&quot;canonical_name&quot;:&quot;&quot;,&quot;nameSub&quot;:&quot;ECE Elective &quot;,&quot;id&quot;:4126168628637854400,&quot;num&quot;:&quot;&quot;,&quot;credits&quot;:3,&quot;institution&quot;:&quot;&quot;,&quot;prefix&quot;:&quot;&quot;},{&quot;curriculum_requisites&quot;:[],&quot;name&quot;:&quot; &quot;,&quot;metrics&quot;:{&quot;centrality&quot;:0,&quot;complexity&quot;:1.0,&quot;blocking factor&quot;:0,&quot;delay factor&quot;:1.0},&quot;canonical_name&quot;:&quot;&quot;,&quot;nameSub&quot;:&quot;ECE Elective&quot;,&quot;id&quot;:6649137528136798086,&quot;num&quot;:&quot;&quot;,&quot;credits&quot;:3,&quot;institution&quot;:&quot;&quot;,&quot;prefix&quot;:&quot;&quot;},{&quot;curriculum_requisites&quot;:[],&quot;name&quot;:&quot; &quot;,&quot;metrics&quot;:{&quot;centrality&quot;:0,&quot;complexity&quot;:1.0,&quot;blocking factor&quot;:0,&quot;delay factor&quot;:1.0},&quot;canonical_name&quot;:&quot;&quot;,&quot;nameSub&quot;:&quot;Outside Tech. Elective&quot;,&quot;id&quot;:2254055589085816520,&quot;num&quot;:&quot;&quot;,&quot;credits&quot;:3,&quot;institution&quot;:&quot;&quot;,&quot;prefix&quot;:&quot;&quot;},{&quot;curriculum_requisites&quot;:[],&quot;name&quot;:&quot; &quot;,&quot;metrics&quot;:{&quot;centrality&quot;:0,&quot;complexity&quot;:1.0,&quot;blocking factor&quot;:0,&quot;delay factor&quot;:1.0},&quot;canonical_name&quot;:&quot;&quot;,&quot;nameSub&quot;:&quot;Liberal Studies&quot;,&quot;id&quot;:6149945123608526001,&quot;num&quot;:&quot;&quot;,&quot;credits&quot;:3,&quot;institution&quot;:&quot;&quot;,&quot;prefix&quot;:&quot;&quot;}],&quot;id&quot;:7},{&quot;name&quot;:&quot;Term 8&quot;,&quot;curriculum_items&quot;:[{&quot;curriculum_requisites&quot;:[],&quot;name&quot;:&quot; &quot;,&quot;metrics&quot;:{&quot;centrality&quot;:0,&quot;complexity&quot;:1.0,&quot;blocking factor&quot;:0,&quot;delay factor&quot;:1.0},&quot;canonical_name&quot;:&quot;&quot;,&quot;nameSub&quot;:&quot;ECE Elective&quot;,&quot;id&quot;:6649137528136798086,&quot;num&quot;:&quot;&quot;,&quot;credits&quot;:3,&quot;institution&quot;:&quot;&quot;,&quot;prefix&quot;:&quot;&quot;},{&quot;curriculum_requisites&quot;:[],&quot;name&quot;:&quot; &quot;,&quot;metrics&quot;:{&quot;centrality&quot;:0,&quot;complexity&quot;:1.0,&quot;blocking factor&quot;:0,&quot;delay factor&quot;:1.0},&quot;canonical_name&quot;:&quot;&quot;,&quot;nameSub&quot;:&quot;ECE Elective&quot;,&quot;id&quot;:6649137528136798086,&quot;num&quot;:&quot;&quot;,&quot;credits&quot;:3,&quot;institution&quot;:&quot;&quot;,&quot;prefix&quot;:&quot;&quot;},{&quot;curriculum_requisites&quot;:[],&quot;name&quot;:&quot; &quot;,&quot;metrics&quot;:{&quot;centrality&quot;:0,&quot;complexity&quot;:1.0,&quot;blocking factor&quot;:0,&quot;delay factor&quot;:1.0},&quot;canonical_name&quot;:&quot;&quot;,&quot;nameSub&quot;:&quot;ECE Elective&quot;,&quot;id&quot;:6649137528136798086,&quot;num&quot;:&quot;&quot;,&quot;credits&quot;:3,&quot;institution&quot;:&quot;&quot;,&quot;prefix&quot;:&quot;&quot;},{&quot;curriculum_requisites&quot;:[],&quot;name&quot;:&quot; &quot;,&quot;metrics&quot;:{&quot;centrality&quot;:0,&quot;complexity&quot;:1.0,&quot;blocking factor&quot;:0,&quot;delay factor&quot;:1.0},&quot;canonical_name&quot;:&quot;&quot;,&quot;nameSub&quot;:&quot;Liberal Studies&quot;,&quot;id&quot;:6149945123608526001,&quot;num&quot;:&quot;&quot;,&quot;credits&quot;:3,&quot;institution&quot;:&quot;&quot;,&quot;prefix&quot;:&quot;&quot;}],&quot;id&quot;:8}],&quot;CIP&quot;:&quot;26.0101&quot;,&quot;id&quot;:1251559464807800872,&quot;institution&quot;:&quot;&quot;}},&quot;*&quot;); window.removeEventListener(&quot;message&quot;,window.messageReceived); window.messageReceived=(function (event){return (event.data.curriculum!==undefined) ? (_webIOScope.setObservableValue({&quot;name&quot;:&quot;curriculum-data&quot;,&quot;scope&quot;:&quot;scope-db2e383e-c478-4f8a-8988-748a56217152&quot;,&quot;id&quot;:&quot;ob_03&quot;,&quot;type&quot;:&quot;observable&quot;},event.data.curriculum)) : undefined}); window.addEventListener(&quot;message&quot;,window.messageReceived); window.removeEventListener(&quot;message&quot;,window.messageReceived); window.messageReceived=(function (event){return (event.data.curriculum!==undefined) ? (console.log(event.data.curriculum)) : undefined}); return window.addEventListener(&quot;message&quot;,window.messageReceived)})},&quot;style&quot;:{&quot;padding&quot;:&quot;0&quot;,&quot;height&quot;:&quot;100vh&quot;,&quot;margin&quot;:&quot;0&quot;,&quot;border&quot;:&quot;none&quot;,&quot;width&quot;:&quot;100%&quot;}},&quot;nodeType&quot;:&quot;DOM&quot;,&quot;type&quot;:&quot;node&quot;,&quot;instanceArgs&quot;:{&quot;namespace&quot;:&quot;html&quot;,&quot;tag&quot;:&quot;iframe&quot;},&quot;children&quot;:[&quot;&quot;]}]})</unsafe-script>"
      ],
      "text/plain": [
       "WebIO.Scope(\"scope-db2e383e-c478-4f8a-8988-748a56217152\", WebIO.Node{WebIO.DOM}(WebIO.DOM(:html, :iframe), Any[\"\"], Dict{Symbol,Any}(:src=>\"http://localhost:8156\",:id=>\"curriculum\",:events=>Dict(:load=>JSString(\"(function (){this.contentWindow.postMessage({\\\"options\\\":{\\\"hideTerms\\\":false,\\\"edit\\\":false},\\\"name\\\":\\\"University of Houston EE Program 4-year Plan\\\",\\\"curriculum\\\":{\\\"name\\\":\\\"University of Houston EE Program\\\",\\\"curriculum_terms\\\":[{\\\"name\\\":\\\"Term 1\\\",\\\"curriculum_items\\\":[{\\\"curriculum_requisites\\\":[],\\\"name\\\":\\\"CHEM 2090\\\",\\\"metrics\\\":{\\\"centrality\\\":0,\\\"complexity\\\":1.0,\\\"blocking factor\\\":0,\\\"delay factor\\\":1.0},\\\"canonical_name\\\":\\\"\\\",\\\"nameSub\\\":\\\"CHEM 2090\\\",\\\"id\\\":7292922628616907154,\\\"num\\\":\\\"2090\\\",\\\"credits\\\":3,\\\"institution\\\":\\\"\\\",\\\"prefix\\\":\\\"CHEM\\\"},{\\\"curriculum_requisites\\\":[],\\\"name\\\":\\\"MATH 1910\\\",\\\"metrics\\\":{\\\"centrality\\\":0,\\\"complexity\\\":15.0,\\\"blocking factor\\\":10,\\\"delay factor\\\":5.0},\\\"canonical_name\\\":\\\"\\\",\\\"nameSub\\\":\\\"MATH 1910\\\",\\\"id\\\":3559482830917152852,\\\"num\\\":\\\"1910\\\",\\\"credits\\\":3,\\\"institution\\\":\\\"\\\",\\\"prefix\\\":\\\"MATH\\\"},{\\\"curriculum_requisites\\\":[],\\\"name\\\":\\\"ENGRI 1xxx\\\",\\\"metrics\\\":{\\\"centrality\\\":0,\\\"complexity\\\":1.0,\\\"blocking factor\\\":0,\\\"delay factor\\\":1.0},\\\"canonical_name\\\":\\\"\\\",\\\"nameSub\\\":\\\"ENGRI 1xxx\\\",\\\"id\\\":6587687013158316857,\\\"num\\\":\\\"1xxx\\\",\\\"credits\\\":3,\\\"institution\\\":\\\"\\\",\\\"prefix\\\":\\\"ENGRI\\\"},{\\\"curriculum_requisites\\\":[],\\\"name\\\":\\\" \\\",\\\"metrics\\\":{\\\"centrality\\\":0,\\\"complexity\\\":1.0,\\\"blocking factor\\\":0,\\\"delay factor\\\":1.0},\\\"canonical_name\\\":\\\"\\\",\\\"nameSub\\\":\\\"1st Yr Writing Seminar\\\",\\\"id\\\":8609847800665187486,\\\"num\\\":\\\"\\\",\\\"credits\\\":3,\\\"institution\\\":\\\"\\\",\\\"prefix\\\":\\\"\\\"},{\\\"curriculum_requisites\\\":[],\\\"name\\\":\\\" \\\",\\\"metrics\\\":{\\\"centrality\\\":0,\\\"complexity\\\":1.0,\\\"blocking factor\\\":0,\\\"delay factor\\\":1.0},\\\"canonical_name\\\":\\\"\\\",\\\"nameSub\\\":\\\"PE\\\",\\\"id\\\":7777525252618957972,\\\"num\\\":\\\"\\\",\\\"credits\\\":3,\\\"institution\\\":\\\"\\\",\\\"prefix\\\":\\\"\\\"}],\\\"id\\\":1},{\\\"name\\\":\\\"Term 2\\\",\\\"curriculum_items\\\":[{\\\"curriculum_requisites\\\":[{\\\"source_id\\\":3559482830917152852,\\\"target_id\\\":2154169429826427523,\\\"type\\\":\\\"prereq\\\"}],\\\"name\\\":\\\"PHYS 1112\\\",\\\"metrics\\\":{\\\"centrality\\\":9,\\\"complexity\\\":9.0,\\\"blocking factor\\\":4,\\\"delay factor\\\":5.0},\\\"canonical_name\\\":\\\"\\\",\\\"nameSub\\\":\\\"PHYS 1112\\\",\\\"id\\\":2154169429826427523,\\\"num\\\":\\\"1112\\\",\\\"credits\\\":3,\\\"institution\\\":\\\"\\\",\\\"prefix\\\":\\\"PHYS\\\"},{\\\"curriculum_requisites\\\":[{\\\"source_id\\\":3559482830917152852,\\\"target_id\\\":5839083673754738912,\\\"type\\\":\\\"prereq\\\"}],\\\"name\\\":\\\"MATH 1920\\\",\\\"metrics\\\":{\\\"centrality\\\":28,\\\"complexity\\\":12.0,\\\"blocking factor\\\":8,\\\"delay factor\\\":4.0},\\\"canonical_name\\\":\\\"\\\",\\\"nameSub\\\":\\\"MATH 1920\\\",\\\"id\\\":5839083673754738912,\\\"num\\\":\\\"1920\\\",\\\"credits\\\":3,\\\"institution\\\":\\\"\\\",\\\"prefix\\\":\\\"MATH\\\"},{\\\"curriculum_requisites\\\":[],\\\"name\\\":\\\"CS 111x\\\",\\\"metrics\\\":{\\\"centrality\\\":0,\\\"complexity\\\":6.0,\\\"blocking factor\\\":3,\\\"delay factor\\\":3.0},\\\"canonical_name\\\":\\\"\\\",\\\"nameSub\\\":\\\"CS 111x\\\",\\\"id\\\":8428277868629534417,\\\"num\\\":\\\"111x\\\",\\\"credits\\\":3,\\\"institution\\\":\\\"\\\",\\\"prefix\\\":\\\"CS\\\"},{\\\"curriculum_requisites\\\":[],\\\"name\\\":\\\" \\\",\\\"metrics\\\":{\\\"centrality\\\":0,\\\"complexity\\\":1.0,\\\"blocking factor\\\":0,\\\"delay factor\\\":1.0},\\\"canonical_name\\\":\\\"\\\",\\\"nameSub\\\":\\\"1st Yr Writing Seminar\\\",\\\"id\\\":8609847800665187486,\\\"num\\\":\\\"\\\",\\\"credits\\\":3,\\\"institution\\\":\\\"\\\",\\\"prefix\\\":\\\"\\\"},{\\\"curriculum_requisites\\\":[],\\\"name\\\":\\\" \\\",\\\"metrics\\\":{\\\"centrality\\\":0,\\\"complexity\\\":1.0,\\\"blocking factor\\\":0,\\\"delay factor\\\":1.0},\\\"canonical_name\\\":\\\"\\\",\\\"nameSub\\\":\\\"PE\\\",\\\"id\\\":7777525252618957972,\\\"num\\\":\\\"\\\",\\\"credits\\\":3,\\\"institution\\\":\\\"\\\",\\\"prefix\\\":\\\"\\\"}],\\\"id\\\":2},{\\\"name\\\":\\\"Term 3\\\",\\\"curriculum_items\\\":[{\\\"curriculum_requisites\\\":[{\\\"source_id\\\":5839083673754738912,\\\"target_id\\\":5781429228378227836,\\\"type\\\":\\\"prereq\\\"},{\\\"source_id\\\":2154169429826427523,\\\"target_id\\\":5781429228378227836,\\\"type\\\":\\\"prereq\\\"}],\\\"name\\\":\\\"PHYS 2213\\\",\\\"metrics\\\":{\\\"centrality\\\":18,\\\"complexity\\\":8.0,\\\"blocking factor\\\":3,\\\"delay factor\\\":5.0},\\\"canonical_name\\\":\\\"\\\",\\\"nameSub\\\":\\\"PHYS 2213\\\",\\\"id\\\":5781429228378227836,\\\"num\\\":\\\"2213\\\",\\\"credits\\\":3,\\\"institution\\\":\\\"\\\",\\\"prefix\\\":\\\"PHYS\\\"},{\\\"curriculum_requisites\\\":[{\\\"source_id\\\":5839083673754738912,\\\"target_id\\\":8936568786317368118,\\\"type\\\":\\\"prereq\\\"}],\\\"name\\\":\\\"MATH 2930\\\",\\\"metrics\\\":{\\\"centrality\\\":14,\\\"complexity\\\":8.0,\\\"blocking factor\\\":4,\\\"delay factor\\\":4.0},\\\"canonical_name\\\":\\\"\\\",\\\"nameSub\\\":\\\"MATH 2930\\\",\\\"id\\\":8936568786317368118,\\\"num\\\":\\\"2930\\\",\\\"credits\\\":3,\\\"institution\\\":\\\"\\\",\\\"prefix\\\":\\\"MATH\\\"},{\\\"curriculum_requisites\\\":[{\\\"source_id\\\":8936568786317368118,\\\"target_id\\\":842052082593012137,\\\"type\\\":\\\"coreq\\\"},{\\\"source_id\\\":5781429228378227836,\\\"target_id\\\":842052082593012137,\\\"type\\\":\\\"coreq\\\"}],\\\"name\\\":\\\"ECE/ENGRD 2100\\\",\\\"metrics\\\":{\\\"centrality\\\":15,\\\"complexity\\\":6.0,\\\"blocking factor\\\":1,\\\"delay factor\\\":5.0},\\\"canonical_name\\\":\\\"\\\",\\\"nameSub\\\":\\\"ECE/ENGRD 2100\\\",\\\"id\\\":842052082593012137,\\\"num\\\":\\\"2100\\\",\\\"credits\\\":3,\\\"institution\\\":\\\"\\\",\\\"prefix\\\":\\\"ECE/ENGRD\\\"},{\\\"curriculum_requisites\\\":[{\\\"source_id\\\":8428277868629534417,\\\"target_id\\\":1482578699905696524,\\\"type\\\":\\\"prereq\\\"}],\\\"name\\\":\\\"MECE/ENGRD 2300\\\",\\\"metrics\\\":{\\\"centrality\\\":3,\\\"complexity\\\":4.0,\\\"blocking factor\\\":1,\\\"delay factor\\\":3.0},\\\"canonical_name\\\":\\\"\\\",\\\"nameSub\\\":\\\"MECE/ENGRD 2300\\\",\\\"id\\\":1482578699905696524,\\\"num\\\":\\\"2300\\\",\\\"credits\\\":3,\\\"institution\\\":\\\"\\\",\\\"prefix\\\":\\\"MECE/ENGRD\\\"},{\\\"curriculum_requisites\\\":[],\\\"name\\\":\\\" \\\",\\\"metrics\\\":{\\\"centrality\\\":0,\\\"complexity\\\":1.0,\\\"blocking factor\\\":0,\\\"delay factor\\\":1.0},\\\"canonical_name\\\":\\\"\\\",\\\"nameSub\\\":\\\"Liberal Studies\\\",\\\"id\\\":5747204689871414077,\\\"num\\\":\\\"\\\",\\\"credits\\\":3,\\\"institution\\\":\\\"\\\",\\\"prefix\\\":\\\"\\\"}],\\\"id\\\":3},{\\\"name\\\":\\\"Term 4\\\",\\\"curriculum_items\\\":[{\\\"curriculum_requisites\\\":[{\\\"source_id\\\":8936568786317368118,\\\"target_id\\\":529659982834695664,\\\"type\\\":\\\"coreq\\\"}],\\\"name\\\":\\\"PHYS 2214\\\",\\\"metrics\\\":{\\\"centrality\\\":0,\\\"complexity\\\":4.0,\\\"blocking factor\\\":0,\\\"delay factor\\\":4.0},\\\"canonical_name\\\":\\\"\\\",\\\"nameSub\\\":\\\"PHYS 2214\\\",\\\"id\\\":529659982834695664,\\\"num\\\":\\\"2214\\\",\\\"credits\\\":3,\\\"institution\\\":\\\"\\\",\\\"prefix\\\":\\\"PHYS\\\"},{\\\"curriculum_requisites\\\":[{\\\"source_id\\\":5839083673754738912,\\\"target_id\\\":1650735724976218095,\\\"type\\\":\\\"prereq\\\"}],\\\"name\\\":\\\"MATH 2940\\\",\\\"metrics\\\":{\\\"centrality\\\":5,\\\"complexity\\\":5.0,\\\"blocking factor\\\":2,\\\"delay factor\\\":3.0},\\\"canonical_name\\\":\\\"\\\",\\\"nameSub\\\":\\\"MATH 2940\\\",\\\"id\\\":1650735724976218095,\\\"num\\\":\\\"2940\\\",\\\"credits\\\":3,\\\"institution\\\":\\\"\\\",\\\"prefix\\\":\\\"MATH\\\"},{\\\"curriculum_requisites\\\":[{\\\"source_id\\\":5781429228378227836,\\\"target_id\\\":6659920577067111170,\\\"type\\\":\\\"prereq\\\"}],\\\"name\\\":\\\"ENGRD 2xxx\\\",\\\"metrics\\\":{\\\"centrality\\\":0,\\\"complexity\\\":4.0,\\\"blocking factor\\\":0,\\\"delay factor\\\":4.0},\\\"canonical_name\\\":\\\"\\\",\\\"nameSub\\\":\\\"ENGRD 2xxx\\\",\\\"id\\\":6659920577067111170,\\\"num\\\":\\\"2xxx\\\",\\\"credits\\\":3,\\\"institution\\\":\\\"\\\",\\\"prefix\\\":\\\"ENGRD\\\"},{\\\"curriculum_requisites\\\":[{\\\"source_id\\\":8936568786317368118,\\\"target_id\\\":1512770721165776213,\\\"type\\\":\\\"prereq\\\"},{\\\"source_id\\\":1650735724976218095,\\\"target_id\\\":1512770721165776213,\\\"type\\\":\\\"coreq\\\"}],\\\"name\\\":\\\"ECE/ENGRD 2200/2220\\\",\\\"metrics\\\":{\\\"centrality\\\":10,\\\"complexity\\\":5.0,\\\"blocking factor\\\":1,\\\"delay factor\\\":4.0},\\\"canonical_name\\\":\\\"\\\",\\\"nameSub\\\":\\\"ECE 2200/ENGRD 2220\\\",\\\"id\\\":1512770721165776213,\\\"num\\\":\\\"2200/2220\\\",\\\"credits\\\":3,\\\"institution\\\":\\\"\\\",\\\"prefix\\\":\\\"ECE/ENGRD\\\"},{\\\"curriculum_requisites\\\":[],\\\"name\\\":\\\" \\\",\\\"metrics\\\":{\\\"centrality\\\":0,\\\"complexity\\\":1.0,\\\"blocking factor\\\":0,\\\"delay factor\\\":1.0},\\\"canonical_name\\\":\\\"\\\",\\\"nameSub\\\":\\\"Liberal Studies\\\",\\\"id\\\":5747204689871414077,\\\"num\\\":\\\"\\\",\\\"credits\\\":3,\\\"institution\\\":\\\"\\\",\\\"prefix\\\":\\\"\\\"}],\\\"id\\\":4},{\\\"name\\\":\\\"Term 5\\\",\\\"curriculum_items\\\":[{\\\"curriculum_requisites\\\":[],\\\"name\\\":\\\" \\\",\\\"metrics\\\":{\\\"centrality\\\":0,\\\"complexity\\\":1.0,\\\"blocking factor\\\":0,\\\"delay factor\\\":1.0},\\\"canonical_name\\\":\\\"\\\",\\\"nameSub\\\":\\\"ECE Foundations\\\",\\\"id\\\":1896334404333273317,\\\"num\\\":\\\"\\\",\\\"credits\\\":3,\\\"institution\\\":\\\"\\\",\\\"prefix\\\":\\\"\\\"},{\\\"curriculum_requisites\\\":[],\\\"name\\\":\\\" \\\",\\\"metrics\\\":{\\\"centrality\\\":0,\\\"complexity\\\":1.0,\\\"blocking factor\\\":0,\\\"delay factor\\\":1.0},\\\"canonical_name\\\":\\\"\\\",\\\"nameSub\\\":\\\"Elective\\\",\\\"id\\\":6437116378810353915,\\\"num\\\":\\\"\\\",\\\"credits\\\":3,\\\"institution\\\":\\\"\\\",\\\"prefix\\\":\\\"\\\"},{\\\"curriculum_requisites\\\":[{\\\"source_id\\\":8428277868629534417,\\\"target_id\\\":5491291261260444944,\\\"type\\\":\\\"prereq\\\"}],\\\"name\\\":\\\" \\\",\\\"metrics\\\":{\\\"centrality\\\":0,\\\"complexity\\\":2.0,\\\"blocking factor\\\":0,\\\"delay factor\\\":2.0},\\\"canonical_name\\\":\\\"\\\",\\\"nameSub\\\":\\\"Outside Tech. Elective\\\",\\\"id\\\":5491291261260444944,\\\"num\\\":\\\"\\\",\\\"credits\\\":3,\\\"institution\\\":\\\"\\\",\\\"prefix\\\":\\\"\\\"},{\\\"curriculum_requisites\\\":[{\\\"source_id\\\":1482578699905696524,\\\"target_id\\\":2998331888620911105,\\\"type\\\":\\\"prereq\\\"},{\\\"source_id\\\":1512770721165776213,\\\"target_id\\\":2998331888620911105,\\\"type\\\":\\\"prereq\\\"},{\\\"source_id\\\":842052082593012137,\\\"target_id\\\":2998331888620911105,\\\"type\\\":\\\"prereq\\\"}],\\\"name\\\":\\\"ECE 3400\\\",\\\"metrics\\\":{\\\"centrality\\\":0,\\\"complexity\\\":5.0,\\\"blocking factor\\\":0,\\\"delay factor\\\":5.0},\\\"canonical_name\\\":\\\"\\\",\\\"nameSub\\\":\\\"ECE 3400\\\",\\\"id\\\":2998331888620911105,\\\"num\\\":\\\"3400\\\",\\\"credits\\\":3,\\\"institution\\\":\\\"\\\",\\\"prefix\\\":\\\"ECE\\\"},{\\\"curriculum_requisites\\\":[],\\\"name\\\":\\\" \\\",\\\"metrics\\\":{\\\"centrality\\\":0,\\\"complexity\\\":1.0,\\\"blocking factor\\\":0,\\\"delay factor\\\":1.0},\\\"canonical_name\\\":\\\"\\\",\\\"nameSub\\\":\\\"Liberal Studies\\\",\\\"id\\\":6149945123608526001,\\\"num\\\":\\\"\\\",\\\"credits\\\":3,\\\"institution\\\":\\\"\\\",\\\"prefix\\\":\\\"\\\"}],\\\"id\\\":5},{\\\"name\\\":\\\"Term 6\\\",\\\"curriculum_items\\\":[{\\\"curriculum_requisites\\\":[],\\\"name\\\":\\\" \\\",\\\"metrics\\\":{\\\"centrality\\\":0,\\\"complexity\\\":1.0,\\\"blocking factor\\\":0,\\\"delay factor\\\":1.0},\\\"canonical_name\\\":\\\"\\\",\\\"nameSub\\\":\\\"ECE Foundations\\\",\\\"id\\\":2202196078585959088,\\\"num\\\":\\\"\\\",\\\"credits\\\":3,\\\"institution\\\":\\\"\\\",\\\"prefix\\\":\\\"\\\"},{\\\"curriculum_requisites\\\":[],\\\"name\\\":\\\" \\\",\\\"metrics\\\":{\\\"centrality\\\":0,\\\"complexity\\\":1.0,\\\"blocking factor\\\":0,\\\"delay factor\\\":1.0},\\\"canonical_name\\\":\\\"\\\",\\\"nameSub\\\":\\\"ECE Foundations\\\",\\\"id\\\":2202196078585959088,\\\"num\\\":\\\"\\\",\\\"credits\\\":3,\\\"institution\\\":\\\"\\\",\\\"prefix\\\":\\\"\\\"},{\\\"curriculum_requisites\\\":[],\\\"name\\\":\\\" \\\",\\\"metrics\\\":{\\\"centrality\\\":0,\\\"complexity\\\":1.0,\\\"blocking factor\\\":0,\\\"delay factor\\\":1.0},\\\"canonical_name\\\":\\\"\\\",\\\"nameSub\\\":\\\"Outside Tech. Elective\\\",\\\"id\\\":2254055589085816520,\\\"num\\\":\\\"\\\",\\\"credits\\\":3,\\\"institution\\\":\\\"\\\",\\\"prefix\\\":\\\"\\\"},{\\\"curriculum_requisites\\\":[],\\\"name\\\":\\\" \\\",\\\"metrics\\\":{\\\"centrality\\\":0,\\\"complexity\\\":1.0,\\\"blocking factor\\\":0,\\\"delay factor\\\":1.0},\\\"canonical_name\\\":\\\"\\\",\\\"nameSub\\\":\\\"Elective\\\",\\\"id\\\":6025205607123545672,\\\"num\\\":\\\"\\\",\\\"credits\\\":3,\\\"institution\\\":\\\"\\\",\\\"prefix\\\":\\\"\\\"},{\\\"curriculum_requisites\\\":[],\\\"name\\\":\\\" \\\",\\\"metrics\\\":{\\\"centrality\\\":0,\\\"complexity\\\":1.0,\\\"blocking factor\\\":0,\\\"delay factor\\\":1.0},\\\"canonical_name\\\":\\\"\\\",\\\"nameSub\\\":\\\"Liberal Studies\\\",\\\"id\\\":6149945123608526001,\\\"num\\\":\\\"\\\",\\\"credits\\\":3,\\\"institution\\\":\\\"\\\",\\\"prefix\\\":\\\"\\\"}],\\\"id\\\":6},{\\\"name\\\":\\\"Term 7\\\",\\\"curriculum_items\\\":[{\\\"curriculum_requisites\\\":[],\\\"name\\\":\\\" \\\",\\\"metrics\\\":{\\\"centrality\\\":0,\\\"complexity\\\":1.0,\\\"blocking factor\\\":0,\\\"delay factor\\\":1.0},\\\"canonical_name\\\":\\\"\\\",\\\"nameSub\\\":\\\"ECE Elective \\\",\\\"id\\\":4126168628637854400,\\\"num\\\":\\\"\\\",\\\"credits\\\":3,\\\"institution\\\":\\\"\\\",\\\"prefix\\\":\\\"\\\"},{\\\"curriculum_requisites\\\":[],\\\"name\\\":\\\" \\\",\\\"metrics\\\":{\\\"centrality\\\":0,\\\"complexity\\\":1.0,\\\"blocking factor\\\":0,\\\"delay factor\\\":1.0},\\\"canonical_name\\\":\\\"\\\",\\\"nameSub\\\":\\\"ECE Elective\\\",\\\"id\\\":6649137528136798086,\\\"num\\\":\\\"\\\",\\\"credits\\\":3,\\\"institution\\\":\\\"\\\",\\\"prefix\\\":\\\"\\\"},{\\\"curriculum_requisites\\\":[],\\\"name\\\":\\\" \\\",\\\"metrics\\\":{\\\"centrality\\\":0,\\\"complexity\\\":1.0,\\\"blocking factor\\\":0,\\\"delay factor\\\":1.0},\\\"canonical_name\\\":\\\"\\\",\\\"nameSub\\\":\\\"Outside Tech. Elective\\\",\\\"id\\\":2254055589085816520,\\\"num\\\":\\\"\\\",\\\"credits\\\":3,\\\"institution\\\":\\\"\\\",\\\"prefix\\\":\\\"\\\"},{\\\"curriculum_requisites\\\":[],\\\"name\\\":\\\" \\\",\\\"metrics\\\":{\\\"centrality\\\":0,\\\"complexity\\\":1.0,\\\"blocking factor\\\":0,\\\"delay factor\\\":1.0},\\\"canonical_name\\\":\\\"\\\",\\\"nameSub\\\":\\\"Liberal Studies\\\",\\\"id\\\":6149945123608526001,\\\"num\\\":\\\"\\\",\\\"credits\\\":3,\\\"institution\\\":\\\"\\\",\\\"prefix\\\":\\\"\\\"}],\\\"id\\\":7},{\\\"name\\\":\\\"Term 8\\\",\\\"curriculum_items\\\":[{\\\"curriculum_requisites\\\":[],\\\"name\\\":\\\" \\\",\\\"metrics\\\":{\\\"centrality\\\":0,\\\"complexity\\\":1.0,\\\"blocking factor\\\":0,\\\"delay factor\\\":1.0},\\\"canonical_name\\\":\\\"\\\",\\\"nameSub\\\":\\\"ECE Elective\\\",\\\"id\\\":6649137528136798086,\\\"num\\\":\\\"\\\",\\\"credits\\\":3,\\\"institution\\\":\\\"\\\",\\\"prefix\\\":\\\"\\\"},{\\\"curriculum_requisites\\\":[],\\\"name\\\":\\\" \\\",\\\"metrics\\\":{\\\"centrality\\\":0,\\\"complexity\\\":1.0,\\\"blocking factor\\\":0,\\\"delay factor\\\":1.0},\\\"canonical_name\\\":\\\"\\\",\\\"nameSub\\\":\\\"ECE Elective\\\",\\\"id\\\":6649137528136798086,\\\"num\\\":\\\"\\\",\\\"credits\\\":3,\\\"institution\\\":\\\"\\\",\\\"prefix\\\":\\\"\\\"},{\\\"curriculum_requisites\\\":[],\\\"name\\\":\\\" \\\",\\\"metrics\\\":{\\\"centrality\\\":0,\\\"complexity\\\":1.0,\\\"blocking factor\\\":0,\\\"delay factor\\\":1.0},\\\"canonical_name\\\":\\\"\\\",\\\"nameSub\\\":\\\"ECE Elective\\\",\\\"id\\\":6649137528136798086,\\\"num\\\":\\\"\\\",\\\"credits\\\":3,\\\"institution\\\":\\\"\\\",\\\"prefix\\\":\\\"\\\"},{\\\"curriculum_requisites\\\":[],\\\"name\\\":\\\" \\\",\\\"metrics\\\":{\\\"centrality\\\":0,\\\"complexity\\\":1.0,\\\"blocking factor\\\":0,\\\"delay factor\\\":1.0},\\\"canonical_name\\\":\\\"\\\",\\\"nameSub\\\":\\\"Liberal Studies\\\",\\\"id\\\":6149945123608526001,\\\"num\\\":\\\"\\\",\\\"credits\\\":3,\\\"institution\\\":\\\"\\\",\\\"prefix\\\":\\\"\\\"}],\\\"id\\\":8}],\\\"CIP\\\":\\\"26.0101\\\",\\\"id\\\":1251559464807800872,\\\"institution\\\":\\\"\\\"}},\\\"*\\\"); window.removeEventListener(\\\"message\\\",window.messageReceived); window.messageReceived=(function (event){return (event.data.curriculum!==undefined) ? (_webIOScope.setObservableValue({\\\"name\\\":\\\"curriculum-data\\\",\\\"scope\\\":\\\"scope-db2e383e-c478-4f8a-8988-748a56217152\\\",\\\"id\\\":\\\"ob_03\\\",\\\"type\\\":\\\"observable\\\"},event.data.curriculum)) : undefined}); window.addEventListener(\\\"message\\\",window.messageReceived); window.removeEventListener(\\\"message\\\",window.messageReceived); window.messageReceived=(function (event){return (event.data.curriculum!==undefined) ? (console.log(event.data.curriculum)) : undefined}); return window.addEventListener(\\\"message\\\",window.messageReceived)})\")),:style=>Dict(:padding=>\"0\",:height=>\"100vh\",:margin=>\"0\",:border=>\"none\",:width=>\"100%\")), 1), Dict{String,Tuple{Observables.AbstractObservable,Union{Nothing, Bool}}}(\"curriculum-data\"=>(Observable{Dict{String,Any}} with 1 listeners. Value:\n",
       "Dict{String,Any}(\"options\"=>Dict{String,Any}(\"hideTerms\"=>false,\"edit\"=>false),\"name\"=>\"University of Houston EE Program 4-year Plan\",\"curriculum\"=>Dict{String,Any}(\"name\"=>\"University of Houston EE Program\",\"curriculum_terms\"=>Any[Dict{String,Any}(\"name\"=>\"Term 1\",\"curriculum_items\"=>Any[Dict{String,Any}(\"curriculum_requisites\"=>Any[],\"name\"=>\"CHEM 2090\",\"metrics\"=>Dict{String,Any}(\"centrality\"=>0,\"complexity\"=>1.0,\"blocking factor\"=>0,\"delay factor\"=>1.0),\"canonical_name\"=>\"\",\"nameSub\"=>\"CHEM 2090\",\"id\"=>7292922628616907154,\"num\"=>\"2090\",\"credits\"=>3,\"institution\"=>\"\",\"prefix\"=>\"CHEM\"…), Dict{String,Any}(\"curriculum_requisites\"=>Any[],\"name\"=>\"MATH 1910\",\"metrics\"=>Dict{String,Any}(\"centrality\"=>0,\"complexity\"=>15.0,\"blocking factor\"=>10,\"delay factor\"=>5.0),\"canonical_name\"=>\"\",\"nameSub\"=>\"MATH 1910\",\"id\"=>3559482830917152852,\"num\"=>\"1910\",\"credits\"=>3,\"institution\"=>\"\",\"prefix\"=>\"MATH\"…), Dict{String,Any}(\"curriculum_requisites\"=>Any[],\"name\"=>\"ENGRI 1xxx\",\"metrics\"=>Dict{String,Any}(\"centrality\"=>0,\"complexity\"=>1.0,\"blocking factor\"=>0,\"delay factor\"=>1.0),\"canonical_name\"=>\"\",\"nameSub\"=>\"ENGRI 1xxx\",\"id\"=>6587687013158316857,\"num\"=>\"1xxx\",\"credits\"=>3,\"institution\"=>\"\",\"prefix\"=>\"ENGRI\"…), Dict{String,Any}(\"curriculum_requisites\"=>Any[],\"name\"=>\" \",\"metrics\"=>Dict{String,Any}(\"centrality\"=>0,\"complexity\"=>1.0,\"blocking factor\"=>0,\"delay factor\"=>1.0),\"canonical_name\"=>\"\",\"nameSub\"=>\"1st Yr Writing Seminar\",\"id\"=>8609847800665187486,\"num\"=>\"\",\"credits\"=>3,\"institution\"=>\"\",\"prefix\"=>\"\"…), Dict{String,Any}(\"curriculum_requisites\"=>Any[],\"name\"=>\" \",\"metrics\"=>Dict{String,Any}(\"centrality\"=>0,\"complexity\"=>1.0,\"blocking factor\"=>0,\"delay factor\"=>1.0),\"canonical_name\"=>\"\",\"nameSub\"=>\"PE\",\"id\"=>7777525252618957972,\"num\"=>\"\",\"credits\"=>3,\"institution\"=>\"\",\"prefix\"=>\"\"…)],\"id\"=>1), Dict{String,Any}(\"name\"=>\"Term 2\",\"curriculum_items\"=>Any[Dict{String,Any}(\"curriculum_requisites\"=>Any[Dict{String,Any}(\"source_id\"=>3559482830917152852,\"target_id\"=>2154169429826427523,\"type\"=>\"prereq\")],\"name\"=>\"PHYS 1112\",\"metrics\"=>Dict{String,Any}(\"centrality\"=>9,\"complexity\"=>9.0,\"blocking factor\"=>4,\"delay factor\"=>5.0),\"canonical_name\"=>\"\",\"nameSub\"=>\"PHYS 1112\",\"id\"=>2154169429826427523,\"num\"=>\"1112\",\"credits\"=>3,\"institution\"=>\"\",\"prefix\"=>\"PHYS\"…), Dict{String,Any}(\"curriculum_requisites\"=>Any[Dict{String,Any}(\"source_id\"=>3559482830917152852,\"target_id\"=>5839083673754738912,\"type\"=>\"prereq\")],\"name\"=>\"MATH 1920\",\"metrics\"=>Dict{String,Any}(\"centrality\"=>28,\"complexity\"=>12.0,\"blocking factor\"=>8,\"delay factor\"=>4.0),\"canonical_name\"=>\"\",\"nameSub\"=>\"MATH 1920\",\"id\"=>5839083673754738912,\"num\"=>\"1920\",\"credits\"=>3,\"institution\"=>\"\",\"prefix\"=>\"MATH\"…), Dict{String,Any}(\"curriculum_requisites\"=>Any[],\"name\"=>\"CS 111x\",\"metrics\"=>Dict{String,Any}(\"centrality\"=>0,\"complexity\"=>6.0,\"blocking factor\"=>3,\"delay factor\"=>3.0),\"canonical_name\"=>\"\",\"nameSub\"=>\"CS 111x\",\"id\"=>8428277868629534417,\"num\"=>\"111x\",\"credits\"=>3,\"institution\"=>\"\",\"prefix\"=>\"CS\"…), Dict{String,Any}(\"curriculum_requisites\"=>Any[],\"name\"=>\" \",\"metrics\"=>Dict{String,Any}(\"centrality\"=>0,\"complexity\"=>1.0,\"blocking factor\"=>0,\"delay factor\"=>1.0),\"canonical_name\"=>\"\",\"nameSub\"=>\"1st Yr Writing Seminar\",\"id\"=>8609847800665187486,\"num\"=>\"\",\"credits\"=>3,\"institution\"=>\"\",\"prefix\"=>\"\"…), Dict{String,Any}(\"curriculum_requisites\"=>Any[],\"name\"=>\" \",\"metrics\"=>Dict{String,Any}(\"centrality\"=>0,\"complexity\"=>1.0,\"blocking factor\"=>0,\"delay factor\"=>1.0),\"canonical_name\"=>\"\",\"nameSub\"=>\"PE\",\"id\"=>7777525252618957972,\"num\"=>\"\",\"credits\"=>3,\"institution\"=>\"\",\"prefix\"=>\"\"…)],\"id\"=>2), Dict{String,Any}(\"name\"=>\"Term 3\",\"curriculum_items\"=>Any[Dict{String,Any}(\"curriculum_requisites\"=>Any[Dict{String,Any}(\"source_id\"=>5839083673754738912,\"target_id\"=>5781429228378227836,\"type\"=>\"prereq\"), Dict{String,Any}(\"source_id\"=>2154169429826427523,\"target_id\"=>5781429228378227836,\"type\"=>\"prereq\")],\"name\"=>\"PHYS 2213\",\"metrics\"=>Dict{String,Any}(\"centrality\"=>18,\"complexity\"=>8.0,\"blocking factor\"=>3,\"delay factor\"=>5.0),\"canonical_name\"=>\"\",\"nameSub\"=>\"PHYS 2213\",\"id\"=>5781429228378227836,\"num\"=>\"2213\",\"credits\"=>3,\"institution\"=>\"\",\"prefix\"=>\"PHYS\"…), Dict{String,Any}(\"curriculum_requisites\"=>Any[Dict{String,Any}(\"source_id\"=>5839083673754738912,\"target_id\"=>8936568786317368118,\"type\"=>\"prereq\")],\"name\"=>\"MATH 2930\",\"metrics\"=>Dict{String,Any}(\"centrality\"=>14,\"complexity\"=>8.0,\"blocking factor\"=>4,\"delay factor\"=>4.0),\"canonical_name\"=>\"\",\"nameSub\"=>\"MATH 2930\",\"id\"=>8936568786317368118,\"num\"=>\"2930\",\"credits\"=>3,\"institution\"=>\"\",\"prefix\"=>\"MATH\"…), Dict{String,Any}(\"curriculum_requisites\"=>Any[Dict{String,Any}(\"source_id\"=>8936568786317368118,\"target_id\"=>842052082593012137,\"type\"=>\"coreq\"), Dict{String,Any}(\"source_id\"=>5781429228378227836,\"target_id\"=>842052082593012137,\"type\"=>\"coreq\")],\"name\"=>\"ECE/ENGRD 2100\",\"metrics\"=>Dict{String,Any}(\"centrality\"=>15,\"complexity\"=>6.0,\"blocking factor\"=>1,\"delay factor\"=>5.0),\"canonical_name\"=>\"\",\"nameSub\"=>\"ECE/ENGRD 2100\",\"id\"=>842052082593012137,\"num\"=>\"2100\",\"credits\"=>3,\"institution\"=>\"\",\"prefix\"=>\"ECE/ENGRD\"…), Dict{String,Any}(\"curriculum_requisites\"=>Any[Dict{String,Any}(\"source_id\"=>8428277868629534417,\"target_id\"=>1482578699905696524,\"type\"=>\"prereq\")],\"name\"=>\"MECE/ENGRD 2300\",\"metrics\"=>Dict{String,Any}(\"centrality\"=>3,\"complexity\"=>4.0,\"blocking factor\"=>1,\"delay factor\"=>3.0),\"canonical_name\"=>\"\",\"nameSub\"=>\"MECE/ENGRD 2300\",\"id\"=>1482578699905696524,\"num\"=>\"2300\",\"credits\"=>3,\"institution\"=>\"\",\"prefix\"=>\"MECE/ENGRD\"…), Dict{String,Any}(\"curriculum_requisites\"=>Any[],\"name\"=>\" \",\"metrics\"=>Dict{String,Any}(\"centrality\"=>0,\"complexity\"=>1.0,\"blocking factor\"=>0,\"delay factor\"=>1.0),\"canonical_name\"=>\"\",\"nameSub\"=>\"Liberal Studies\",\"id\"=>5747204689871414077,\"num\"=>\"\",\"credits\"=>3,\"institution\"=>\"\",\"prefix\"=>\"\"…)],\"id\"=>3), Dict{String,Any}(\"name\"=>\"Term 4\",\"curriculum_items\"=>Any[Dict{String,Any}(\"curriculum_requisites\"=>Any[Dict{String,Any}(\"source_id\"=>8936568786317368118,\"target_id\"=>529659982834695664,\"type\"=>\"coreq\")],\"name\"=>\"PHYS 2214\",\"metrics\"=>Dict{String,Any}(\"centrality\"=>0,\"complexity\"=>4.0,\"blocking factor\"=>0,\"delay factor\"=>4.0),\"canonical_name\"=>\"\",\"nameSub\"=>\"PHYS 2214\",\"id\"=>529659982834695664,\"num\"=>\"2214\",\"credits\"=>3,\"institution\"=>\"\",\"prefix\"=>\"PHYS\"…), Dict{String,Any}(\"curriculum_requisites\"=>Any[Dict{String,Any}(\"source_id\"=>5839083673754738912,\"target_id\"=>1650735724976218095,\"type\"=>\"prereq\")],\"name\"=>\"MATH 2940\",\"metrics\"=>Dict{String,Any}(\"centrality\"=>5,\"complexity\"=>5.0,\"blocking factor\"=>2,\"delay factor\"=>3.0),\"canonical_name\"=>\"\",\"nameSub\"=>\"MATH 2940\",\"id\"=>1650735724976218095,\"num\"=>\"2940\",\"credits\"=>3,\"institution\"=>\"\",\"prefix\"=>\"MATH\"…), Dict{String,Any}(\"curriculum_requisites\"=>Any[Dict{String,Any}(\"source_id\"=>5781429228378227836,\"target_id\"=>6659920577067111170,\"type\"=>\"prereq\")],\"name\"=>\"ENGRD 2xxx\",\"metrics\"=>Dict{String,Any}(\"centrality\"=>0,\"complexity\"=>4.0,\"blocking factor\"=>0,\"delay factor\"=>4.0),\"canonical_name\"=>\"\",\"nameSub\"=>\"ENGRD 2xxx\",\"id\"=>6659920577067111170,\"num\"=>\"2xxx\",\"credits\"=>3,\"institution\"=>\"\",\"prefix\"=>\"ENGRD\"…), Dict{String,Any}(\"curriculum_requisites\"=>Any[Dict{String,Any}(\"source_id\"=>8936568786317368118,\"target_id\"=>1512770721165776213,\"type\"=>\"prereq\"), Dict{String,Any}(\"source_id\"=>1650735724976218095,\"target_id\"=>1512770721165776213,\"type\"=>\"coreq\")],\"name\"=>\"ECE/ENGRD 2200/2220\",\"metrics\"=>Dict{String,Any}(\"centrality\"=>10,\"complexity\"=>5.0,\"blocking factor\"=>1,\"delay factor\"=>4.0),\"canonical_name\"=>\"\",\"nameSub\"=>\"ECE 2200/ENGRD 2220\",\"id\"=>1512770721165776213,\"num\"=>\"2200/2220\",\"credits\"=>3,\"institution\"=>\"\",\"prefix\"=>\"ECE/ENGRD\"…), Dict{String,Any}(\"curriculum_requisites\"=>Any[],\"name\"=>\" \",\"metrics\"=>Dict{String,Any}(\"centrality\"=>0,\"complexity\"=>1.0,\"blocking factor\"=>0,\"delay factor\"=>1.0),\"canonical_name\"=>\"\",\"nameSub\"=>\"Liberal Studies\",\"id\"=>5747204689871414077,\"num\"=>\"\",\"credits\"=>3,\"institution\"=>\"\",\"prefix\"=>\"\"…)],\"id\"=>4), Dict{String,Any}(\"name\"=>\"Term 5\",\"curriculum_items\"=>Any[Dict{String,Any}(\"curriculum_requisites\"=>Any[],\"name\"=>\" \",\"metrics\"=>Dict{String,Any}(\"centrality\"=>0,\"complexity\"=>1.0,\"blocking factor\"=>0,\"delay factor\"=>1.0),\"canonical_name\"=>\"\",\"nameSub\"=>\"ECE Foundations\",\"id\"=>1896334404333273317,\"num\"=>\"\",\"credits\"=>3,\"institution\"=>\"\",\"prefix\"=>\"\"…), Dict{String,Any}(\"curriculum_requisites\"=>Any[],\"name\"=>\" \",\"metrics\"=>Dict{String,Any}(\"centrality\"=>0,\"complexity\"=>1.0,\"blocking factor\"=>0,\"delay factor\"=>1.0),\"canonical_name\"=>\"\",\"nameSub\"=>\"Elective\",\"id\"=>6437116378810353915,\"num\"=>\"\",\"credits\"=>3,\"institution\"=>\"\",\"prefix\"=>\"\"…), Dict{String,Any}(\"curriculum_requisites\"=>Any[Dict{String,Any}(\"source_id\"=>8428277868629534417,\"target_id\"=>5491291261260444944,\"type\"=>\"prereq\")],\"name\"=>\" \",\"metrics\"=>Dict{String,Any}(\"centrality\"=>0,\"complexity\"=>2.0,\"blocking factor\"=>0,\"delay factor\"=>2.0),\"canonical_name\"=>\"\",\"nameSub\"=>\"Outside Tech. Elective\",\"id\"=>5491291261260444944,\"num\"=>\"\",\"credits\"=>3,\"institution\"=>\"\",\"prefix\"=>\"\"…), Dict{String,Any}(\"curriculum_requisites\"=>Any[Dict{String,Any}(\"source_id\"=>1482578699905696524,\"target_id\"=>2998331888620911105,\"type\"=>\"prereq\"), Dict{String,Any}(\"source_id\"=>1512770721165776213,\"target_id\"=>2998331888620911105,\"type\"=>\"prereq\"), Dict{String,Any}(\"source_id\"=>842052082593012137,\"target_id\"=>2998331888620911105,\"type\"=>\"prereq\")],\"name\"=>\"ECE 3400\",\"metrics\"=>Dict{String,Any}(\"centrality\"=>0,\"complexity\"=>5.0,\"blocking factor\"=>0,\"delay factor\"=>5.0),\"canonical_name\"=>\"\",\"nameSub\"=>\"ECE 3400\",\"id\"=>2998331888620911105,\"num\"=>\"3400\",\"credits\"=>3,\"institution\"=>\"\",\"prefix\"=>\"ECE\"…), Dict{String,Any}(\"curriculum_requisites\"=>Any[],\"name\"=>\" \",\"metrics\"=>Dict{String,Any}(\"centrality\"=>0,\"complexity\"=>1.0,\"blocking factor\"=>0,\"delay factor\"=>1.0),\"canonical_name\"=>\"\",\"nameSub\"=>\"Liberal Studies\",\"id\"=>6149945123608526001,\"num\"=>\"\",\"credits\"=>3,\"institution\"=>\"\",\"prefix\"=>\"\"…)],\"id\"=>5), Dict{String,Any}(\"name\"=>\"Term 6\",\"curriculum_items\"=>Any[Dict{String,Any}(\"curriculum_requisites\"=>Any[],\"name\"=>\" \",\"metrics\"=>Dict{String,Any}(\"centrality\"=>0,\"complexity\"=>1.0,\"blocking factor\"=>0,\"delay factor\"=>1.0),\"canonical_name\"=>\"\",\"nameSub\"=>\"ECE Foundations\",\"id\"=>2202196078585959088,\"num\"=>\"\",\"credits\"=>3,\"institution\"=>\"\",\"prefix\"=>\"\"…), Dict{String,Any}(\"curriculum_requisites\"=>Any[],\"name\"=>\" \",\"metrics\"=>Dict{String,Any}(\"centrality\"=>0,\"complexity\"=>1.0,\"blocking factor\"=>0,\"delay factor\"=>1.0),\"canonical_name\"=>\"\",\"nameSub\"=>\"ECE Foundations\",\"id\"=>2202196078585959088,\"num\"=>\"\",\"credits\"=>3,\"institution\"=>\"\",\"prefix\"=>\"\"…), Dict{String,Any}(\"curriculum_requisites\"=>Any[],\"name\"=>\" \",\"metrics\"=>Dict{String,Any}(\"centrality\"=>0,\"complexity\"=>1.0,\"blocking factor\"=>0,\"delay factor\"=>1.0),\"canonical_name\"=>\"\",\"nameSub\"=>\"Outside Tech. Elective\",\"id\"=>2254055589085816520,\"num\"=>\"\",\"credits\"=>3,\"institution\"=>\"\",\"prefix\"=>\"\"…), Dict{String,Any}(\"curriculum_requisites\"=>Any[],\"name\"=>\" \",\"metrics\"=>Dict{String,Any}(\"centrality\"=>0,\"complexity\"=>1.0,\"blocking factor\"=>0,\"delay factor\"=>1.0),\"canonical_name\"=>\"\",\"nameSub\"=>\"Elective\",\"id\"=>6025205607123545672,\"num\"=>\"\",\"credits\"=>3,\"institution\"=>\"\",\"prefix\"=>\"\"…), Dict{String,Any}(\"curriculum_requisites\"=>Any[],\"name\"=>\" \",\"metrics\"=>Dict{String,Any}(\"centrality\"=>0,\"complexity\"=>1.0,\"blocking factor\"=>0,\"delay factor\"=>1.0),\"canonical_name\"=>\"\",\"nameSub\"=>\"Liberal Studies\",\"id\"=>6149945123608526001,\"num\"=>\"\",\"credits\"=>3,\"institution\"=>\"\",\"prefix\"=>\"\"…)],\"id\"=>6), Dict{String,Any}(\"name\"=>\"Term 7\",\"curriculum_items\"=>Any[Dict{String,Any}(\"curriculum_requisites\"=>Any[],\"name\"=>\" \",\"metrics\"=>Dict{String,Any}(\"centrality\"=>0,\"complexity\"=>1.0,\"blocking factor\"=>0,\"delay factor\"=>1.0),\"canonical_name\"=>\"\",\"nameSub\"=>\"ECE Elective \",\"id\"=>4126168628637854400,\"num\"=>\"\",\"credits\"=>3,\"institution\"=>\"\",\"prefix\"=>\"\"…), Dict{String,Any}(\"curriculum_requisites\"=>Any[],\"name\"=>\" \",\"metrics\"=>Dict{String,Any}(\"centrality\"=>0,\"complexity\"=>1.0,\"blocking factor\"=>0,\"delay factor\"=>1.0),\"canonical_name\"=>\"\",\"nameSub\"=>\"ECE Elective\",\"id\"=>6649137528136798086,\"num\"=>\"\",\"credits\"=>3,\"institution\"=>\"\",\"prefix\"=>\"\"…), Dict{String,Any}(\"curriculum_requisites\"=>Any[],\"name\"=>\" \",\"metrics\"=>Dict{String,Any}(\"centrality\"=>0,\"complexity\"=>1.0,\"blocking factor\"=>0,\"delay factor\"=>1.0),\"canonical_name\"=>\"\",\"nameSub\"=>\"Outside Tech. Elective\",\"id\"=>2254055589085816520,\"num\"=>\"\",\"credits\"=>3,\"institution\"=>\"\",\"prefix\"=>\"\"…), Dict{String,Any}(\"curriculum_requisites\"=>Any[],\"name\"=>\" \",\"metrics\"=>Dict{String,Any}(\"centrality\"=>0,\"complexity\"=>1.0,\"blocking factor\"=>0,\"delay factor\"=>1.0),\"canonical_name\"=>\"\",\"nameSub\"=>\"Liberal Studies\",\"id\"=>6149945123608526001,\"num\"=>\"\",\"credits\"=>3,\"institution\"=>\"\",\"prefix\"=>\"\"…)],\"id\"=>7), Dict{String,Any}(\"name\"=>\"Term 8\",\"curriculum_items\"=>Any[Dict{String,Any}(\"curriculum_requisites\"=>Any[],\"name\"=>\" \",\"metrics\"=>Dict{String,Any}(\"centrality\"=>0,\"complexity\"=>1.0,\"blocking factor\"=>0,\"delay factor\"=>1.0),\"canonical_name\"=>\"\",\"nameSub\"=>\"ECE Elective\",\"id\"=>6649137528136798086,\"num\"=>\"\",\"credits\"=>3,\"institution\"=>\"\",\"prefix\"=>\"\"…), Dict{String,Any}(\"curriculum_requisites\"=>Any[],\"name\"=>\" \",\"metrics\"=>Dict{String,Any}(\"centrality\"=>0,\"complexity\"=>1.0,\"blocking factor\"=>0,\"delay factor\"=>1.0),\"canonical_name\"=>\"\",\"nameSub\"=>\"ECE Elective\",\"id\"=>6649137528136798086,\"num\"=>\"\",\"credits\"=>3,\"institution\"=>\"\",\"prefix\"=>\"\"…), Dict{String,Any}(\"curriculum_requisites\"=>Any[],\"name\"=>\" \",\"metrics\"=>Dict{String,Any}(\"centrality\"=>0,\"complexity\"=>1.0,\"blocking factor\"=>0,\"delay factor\"=>1.0),\"canonical_name\"=>\"\",\"nameSub\"=>\"ECE Elective\",\"id\"=>6649137528136798086,\"num\"=>\"\",\"credits\"=>3,\"institution\"=>\"\",\"prefix\"=>\"\"…), Dict{String,Any}(\"curriculum_requisites\"=>Any[],\"name\"=>\" \",\"metrics\"=>Dict{String,Any}(\"centrality\"=>0,\"complexity\"=>1.0,\"blocking factor\"=>0,\"delay factor\"=>1.0),\"canonical_name\"=>\"\",\"nameSub\"=>\"Liberal Studies\",\"id\"=>6149945123608526001,\"num\"=>\"\",\"credits\"=>3,\"institution\"=>\"\",\"prefix\"=>\"\"…)],\"id\"=>8)],\"CIP\"=>\"26.0101\",\"id\"=>1251559464807800872,\"institution\"=>\"\")), nothing)), Set(String[]), nothing, Any[], Dict{Any,Any}(), WebIO.ConnectionPool(Channel{Any}(sz_max:9223372036854775807,sz_curr:1), Set(WebIO.AbstractConnection[]), Channel{WebIO.AbstractConnection}(sz_max:32,sz_curr:0)))"
      ]
     },
     "execution_count": 3,
     "metadata": {},
     "output_type": "execute_result"
    },
    {
     "name": "stderr",
     "output_type": "stream",
     "text": [
      "┌ Info: Accept (6):  🔗    0↑     0↓    0s 127.0.0.1:8156:8156 ≣16\n",
      "└ @ HTTP.Servers C:\\Users\\orhan\\.julia\\packages\\HTTP\\YjRCz\\src\\Servers.jl:343\n",
      "┌ Info: Accept (7):  🔗    0↑     0↓    0s 127.0.0.1:8156:8156 ≣16\n",
      "└ @ HTTP.Servers C:\\Users\\orhan\\.julia\\packages\\HTTP\\YjRCz\\src\\Servers.jl:343\n"
     ]
    }
   ],
   "source": [
    "#This cell will also read a csv file create a degree plan without exporting to json.\n",
    "#\n",
    "#Activate CurricularAnalytics package and add it\n",
    "if split(pwd(),Base.Filesystem.path_separator)[end] != \"CurricularAnalytics.jl\"\n",
    "    cd(\"../..\")\n",
    "end\n",
    "println(\"Current directory: \" * split(pwd(),Base.Filesystem.path_separator)[end])\n",
    "using Pkg\n",
    "pkg\"activate .\"\n",
    "using CurricularAnalytics\n",
    "#read Classes from csv file and return list of classes and terms\n",
    "c, terms = read_csv(\"examples/CornellECECources.csv\")\n",
    "#Create curriculum from list of classes\n",
    "curric = Curriculum(\"University of Houston EE Program\", c)\n",
    "errors = IOBuffer()\n",
    "if isvalid_curriculum(curric, errors)\n",
    "    println(\"Curriculum $(curric.name) is valid\")\n",
    "    println(\"  delay factor = $(delay_factor(curric))\")\n",
    "    println(\"  blocking factor = $(blocking_factor(curric))\")\n",
    "    println(\"  centrality factor = $(centrality(curric))\")\n",
    "    println(\"  curricular complexity = $(complexity(curric))\")\n",
    "    dp = DegreePlan(\"University of Houston EE Program 4-year Plan\", curric, terms)\n",
    "    take!(errors) # clear the IO buffer\n",
    "    if isvalid_degree_plan(dp, errors)\n",
    "        println(\"Degree plan $(dp.name) is valid\")\n",
    "    else\n",
    "        println(\"Degree plan $(dp.name) is not valid:\")\n",
    "        print(String(take!(errors)))\n",
    "        println(\"\\nDiplaying degree plan for debugging purposes...\")\n",
    "    end\n",
    "    visualize(dp, notebook=true,edit=false)\n",
    "\n",
    "else # invalid curriculum\n",
    "    println(\"Curriculum $(curric.name) is not valid:\")\n",
    "    print(String(take!(errors)))\n",
    "end"
   ]
  },
  {
   "cell_type": "code",
   "execution_count": null,
   "metadata": {
    "collapsed": true
   },
   "outputs": [],
   "source": []
  },
  {
   "cell_type": "code",
   "execution_count": null,
   "metadata": {
    "collapsed": true
   },
   "outputs": [],
   "source": []
  }
 ],
 "metadata": {
  "@webio": {
   "lastCommId": "c66d76f04dc04a00999737cd6d5c7df4",
   "lastKernelId": "00b814db-0dcd-4031-a56e-56d576ca79dd"
  },
  "kernelspec": {
   "display_name": "Julia 1.0.0",
   "language": "julia",
   "name": "julia-1.0"
  },
  "language_info": {
   "file_extension": ".jl",
   "mimetype": "application/julia",
   "name": "julia",
   "version": "1.0.0"
  }
 },
 "nbformat": 4,
 "nbformat_minor": 2
}

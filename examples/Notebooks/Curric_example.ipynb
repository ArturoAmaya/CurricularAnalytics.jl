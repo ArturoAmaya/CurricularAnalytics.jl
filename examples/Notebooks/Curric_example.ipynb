{
 "cells": [
  {
   "cell_type": "markdown",
   "metadata": {},
   "source": [
    "First we need to move our working directory to the CurricularAnalytics.jl\n",
    "Next cell needs to be run after each start"
   ]
  },
  {
   "cell_type": "code",
   "execution_count": 1,
   "metadata": {},
   "outputs": [
    {
     "name": "stdout",
     "output_type": "stream",
     "text": [
      "Current directory: CurricularAnalytics.jl\n"
     ]
    }
   ],
   "source": [
    "if split(pwd(),Base.Filesystem.path_separator)[end] != \"CurricularAnalytics.jl\"\n",
    "    cd(\"../..\")\n",
    "end\n",
    "println(\"Current directory: \" * split(pwd(),Base.Filesystem.path_separator)[end])"
   ]
  },
  {
   "cell_type": "code",
   "execution_count": 2,
   "metadata": {
    "scrolled": true
   },
   "outputs": [
    {
     "name": "stdout",
     "output_type": "stream",
     "text": [
      "Current directory: CurricularAnalytics.jl\n"
     ]
    },
    {
     "name": "stderr",
     "output_type": "stream",
     "text": [
      "┌ Info: Recompiling stale cache file C:\\Users\\orhan\\.julia\\compiled\\v1.0\\CurricularAnalytics\\KKMY9.ji for CurricularAnalytics [b915a5b0-c40e-11e8-3dab-39a55ab5c2f7]\n",
      "└ @ Base loading.jl:1187\n"
     ]
    },
    {
     "data": {
      "text/html": [
       "    <script id=\"webio-setup-2098286116067847670\">\n",
       "    // Immediately-invoked-function-expression to avoid global variables.\n",
       "    (function() {\n",
       "        var warning_div = document.getElementById(\"webio-warning-3720974359034276\");\n",
       "        var hide = function () {\n",
       "            var script = document.getElementById(\"webio-setup-2098286116067847670\");\n",
       "            var parent = script && script.parentElement;\n",
       "            var grandparent = parent && parent.parentElement;\n",
       "            if (grandparent) {\n",
       "                grandparent.style.display = \"none\";\n",
       "            }\n",
       "            warning_div.style.display = \"none\";\n",
       "        };\n",
       "        if (window.require && require.defined) {\n",
       "            // Jupyter notebook.\n",
       "            if (require.defined(\"nbextensions/webio/main\")\n",
       "                    || require.defined(\"/assetserver/15060f7913bd455b6698e8bd1357ce9c6553b0bb-dist/main.js\")) {\n",
       "                // Extension already loaded.\n",
       "                hide();\n",
       "                return;\n",
       "            }\n",
       "            console.warn(\"Loading WebIO Jupyter extension on an ad-hoc basis. Consider enabling the WebIO nbextension for a stabler experience (this should happen automatically when building WebIO).\");\n",
       "            require([\"/assetserver/15060f7913bd455b6698e8bd1357ce9c6553b0bb-dist/main.js\"], function (webIOModule) {\n",
       "                webIOModule.load_ipython_extension();\n",
       "            });\n",
       "            warning_div.innerHTML = \"<strong>Loading WebIO Jupyter extension on an ad-hoc basis. Consider enabling the WebIO nbextension for a stabler experience (this should happen automatically when building WebIO).</strong>\";\n",
       "        } else if (window.location.pathname.includes(\"/lab\")) {\n",
       "            // Guessing JupyterLab\n",
       "            warning_div.innerHTML = \"WebIO does not support JupyterLab yet.\";\n",
       "        }\n",
       "    })();\n",
       "    </script>\n",
       "    <div\n",
       "        id=\"webio-warning-3720974359034276\"\n",
       "        class=\"output_text output_stderr\"\n",
       "        style=\"padding: 1em; font-weight: bold;\"\n",
       "    >\n",
       "        Unable to load WebIO. Please make sure WebIO works for your Jupyter client.\n",
       "        <!-- TODO: link to installation docs. -->\n",
       "    </div>\n"
      ],
      "text/plain": [
       "HTML{String}(\"    <script id=\\\"webio-setup-2098286116067847670\\\">\\n    // Immediately-invoked-function-expression to avoid global variables.\\n    (function() {\\n        var warning_div = document.getElementById(\\\"webio-warning-3720974359034276\\\");\\n        var hide = function () {\\n            var script = document.getElementById(\\\"webio-setup-2098286116067847670\\\");\\n            var parent = script && script.parentElement;\\n            var grandparent = parent && parent.parentElement;\\n            if (grandparent) {\\n                grandparent.style.display = \\\"none\\\";\\n            }\\n            warning_div.style.display = \\\"none\\\";\\n        };\\n        if (window.require && require.defined) {\\n            // Jupyter notebook.\\n            if (require.defined(\\\"nbextensions/webio/main\\\")\\n                    || require.defined(\\\"/assetserver/15060f7913bd455b6698e8bd1357ce9c6553b0bb-dist/main.js\\\")) {\\n                // Extension already loaded.\\n                hide();\\n                return;\\n            }\\n            console.warn(\\\"Loading WebIO Jupyter extension on an ad-hoc basis. Consider enabling the WebIO nbextension for a stabler experience (this should happen automatically when building WebIO).\\\");\\n            require([\\\"/assetserver/15060f7913bd455b6698e8bd1357ce9c6553b0bb-dist/main.js\\\"], function (webIOModule) {\\n                webIOModule.load_ipython_extension();\\n            });\\n            warning_div.innerHTML = \\\"<strong>Loading WebIO Jupyter extension on an ad-hoc basis. Consider enabling the WebIO nbextension for a stabler experience (this should happen automatically when building WebIO).</strong>\\\";\\n        } else if (window.location.pathname.includes(\\\"/lab\\\")) {\\n            // Guessing JupyterLab\\n            warning_div.innerHTML = \\\"WebIO does not support JupyterLab yet.\\\";\\n        }\\n    })();\\n    </script>\\n    <div\\n        id=\\\"webio-warning-3720974359034276\\\"\\n        class=\\\"output_text output_stderr\\\"\\n        style=\\\"padding: 1em; font-weight: bold;\\\"\\n    >\\n        Unable to load WebIO. Please make sure WebIO works for your Jupyter client.\\n        <!-- TODO: link to installation docs. -->\\n    </div>\\n\")"
      ]
     },
     "metadata": {},
     "output_type": "display_data"
    },
    {
     "name": "stdout",
     "output_type": "stream",
     "text": [
      "Curriculum  is valid\n",
      "  delay factor = (80.0, [1.0, 5.0, 1.0, 1.0, 1.0, 5.0, 4.0, 3.0, 1.0, 1.0, 5.0, 4.0, 5.0, 3.0, 1.0, 4.0, 3.0, 4.0, 4.0, 1.0, 1.0, 1.0, 2.0, 5.0, 1.0, 1.0, 1.0, 1.0, 1.0, 1.0, 1.0, 1.0, 1.0, 1.0, 1.0, 1.0, 1.0, 1.0])\n",
      "  blocking factor = (37, [0, 10, 0, 0, 0, 4, 8, 3, 0, 0, 3, 4, 1, 1, 0, 0, 2, 0, 1, 0, 0, 0, 0, 0, 0, 0, 0, 0, 0, 0, 0, 0, 0, 0, 0, 0, 0, 0])\n",
      "  centrality factor = (102, [0, 0, 0, 0, 0, 9, 28, 0, 0, 0, 18, 14, 15, 3, 0, 0, 5, 0, 10, 0, 0, 0, 0, 0, 0, 0, 0, 0, 0, 0, 0, 0, 0, 0, 0, 0, 0, 0])\n",
      "  curricular complexity = (117.0, Number[1.0, 15.0, 1.0, 1.0, 1.0, 9.0, 12.0, 6.0, 1.0, 1.0, 8.0, 8.0, 6.0, 4.0, 1.0, 4.0, 5.0, 4.0, 5.0, 1.0, 1.0, 1.0, 2.0, 5.0, 1.0, 1.0, 1.0, 1.0, 1.0, 1.0, 1.0, 1.0, 1.0, 1.0, 1.0, 1.0, 1.0, 1.0])\n",
      "Degree plan  is valid\n"
     ]
    },
    {
     "name": "stderr",
     "output_type": "stream",
     "text": [
      "┌ Info: Listening on: Sockets.InetAddr{Sockets.IPv4}(ip\"127.0.0.1\", 0x1fdc)\n",
      "└ @ HTTP.Servers C:\\Users\\orhan\\.julia\\packages\\HTTP\\YjRCz\\src\\Servers.jl:301\n"
     ]
    },
    {
     "data": {
      "application/vnd.webio.node+json": {
       "children": [
        {
         "children": [
          ""
         ],
         "instanceArgs": {
          "namespace": "html",
          "tag": "iframe"
         },
         "nodeType": "DOM",
         "props": {
          "events": {
           "load": "(function (){this.contentWindow.postMessage({\"options\":{\"hideTerms\":false,\"edit\":true},\"curriculum\":{\"name\":\"\",\"dp_name\":\"\",\"curriculum_terms\":[{\"name\":\"Term 1\",\"curriculum_items\":[{\"curriculum_requisites\":[],\"name\":\"CHEM 2090\",\"metrics\":{\"centrality\":0,\"complexity\":1.0,\"blocking factor\":0,\"delay factor\":1.0},\"nameSub\":\"CHEM 2090\",\"id\":1,\"credits\":3},{\"curriculum_requisites\":[],\"name\":\"MATH 1910\",\"metrics\":{\"centrality\":0,\"complexity\":15.0,\"blocking factor\":10,\"delay factor\":5.0},\"nameSub\":\"MATH 1910\",\"id\":2,\"credits\":3},{\"curriculum_requisites\":[],\"name\":\"ENGRI 1xxx\",\"metrics\":{\"centrality\":0,\"complexity\":1.0,\"blocking factor\":0,\"delay factor\":1.0},\"nameSub\":\"ENGRI 1xxx\",\"id\":3,\"credits\":3},{\"curriculum_requisites\":[],\"name\":\" \",\"metrics\":{\"centrality\":0,\"complexity\":1.0,\"blocking factor\":0,\"delay factor\":1.0},\"nameSub\":\"1st Yr Writing Seminar\",\"id\":4,\"credits\":3},{\"curriculum_requisites\":[],\"name\":\" \",\"metrics\":{\"centrality\":0,\"complexity\":1.0,\"blocking factor\":0,\"delay factor\":1.0},\"nameSub\":\"PE\",\"id\":5,\"credits\":3}],\"id\":1},{\"name\":\"Term 2\",\"curriculum_items\":[{\"curriculum_requisites\":[{\"source_id\":2,\"target_id\":6,\"type\":\"strict-coreq\"}],\"name\":\"PHYS 1112\",\"metrics\":{\"centrality\":9,\"complexity\":9.0,\"blocking factor\":4,\"delay factor\":5.0},\"nameSub\":\"PHYS 1112\",\"id\":6,\"credits\":3},{\"curriculum_requisites\":[{\"source_id\":2,\"target_id\":7,\"type\":\"strict-coreq\"}],\"name\":\"MATH 1920\",\"metrics\":{\"centrality\":28,\"complexity\":12.0,\"blocking factor\":8,\"delay factor\":4.0},\"nameSub\":\"MATH 1920\",\"id\":7,\"credits\":3},{\"curriculum_requisites\":[],\"name\":\"CS 111x\",\"metrics\":{\"centrality\":0,\"complexity\":6.0,\"blocking factor\":3,\"delay factor\":3.0},\"nameSub\":\"CS 111x\",\"id\":8,\"credits\":3},{\"curriculum_requisites\":[],\"name\":\" \",\"metrics\":{\"centrality\":0,\"complexity\":1.0,\"blocking factor\":0,\"delay factor\":1.0},\"nameSub\":\"1st Yr Writing Seminar\",\"id\":9,\"credits\":3},{\"curriculum_requisites\":[],\"name\":\" \",\"metrics\":{\"centrality\":0,\"complexity\":1.0,\"blocking factor\":0,\"delay factor\":1.0},\"nameSub\":\"PE\",\"id\":10,\"credits\":3}],\"id\":2},{\"name\":\"Term 3\",\"curriculum_items\":[{\"curriculum_requisites\":[{\"source_id\":7,\"target_id\":11,\"type\":\"strict-coreq\"},{\"source_id\":6,\"target_id\":11,\"type\":\"strict-coreq\"}],\"name\":\"PHYS 2213\",\"metrics\":{\"centrality\":18,\"complexity\":8.0,\"blocking factor\":3,\"delay factor\":5.0},\"nameSub\":\"PHYS 2213\",\"id\":11,\"credits\":3},{\"curriculum_requisites\":[{\"source_id\":7,\"target_id\":12,\"type\":\"strict-coreq\"}],\"name\":\"MATH 2930\",\"metrics\":{\"centrality\":14,\"complexity\":8.0,\"blocking factor\":4,\"delay factor\":4.0},\"nameSub\":\"MATH 2930\",\"id\":12,\"credits\":3},{\"curriculum_requisites\":[{\"source_id\":11,\"target_id\":13,\"type\":\"strict-coreq\"},{\"source_id\":12,\"target_id\":13,\"type\":\"strict-coreq\"}],\"name\":\"ECE/ENGRD 2100\",\"metrics\":{\"centrality\":15,\"complexity\":6.0,\"blocking factor\":1,\"delay factor\":5.0},\"nameSub\":\"ECE/ENGRD 2100\",\"id\":13,\"credits\":3},{\"curriculum_requisites\":[{\"source_id\":8,\"target_id\":14,\"type\":\"strict-coreq\"}],\"name\":\"MECE/ENGRD 2300\",\"metrics\":{\"centrality\":3,\"complexity\":4.0,\"blocking factor\":1,\"delay factor\":3.0},\"nameSub\":\"MECE/ENGRD 2300\",\"id\":14,\"credits\":3},{\"curriculum_requisites\":[],\"name\":\" \",\"metrics\":{\"centrality\":0,\"complexity\":1.0,\"blocking factor\":0,\"delay factor\":1.0},\"nameSub\":\"Liberal Studies\",\"id\":15,\"credits\":3}],\"id\":3},{\"name\":\"Term 4\",\"curriculum_items\":[{\"curriculum_requisites\":[{\"source_id\":12,\"target_id\":16,\"type\":\"strict-coreq\"}],\"name\":\"PHYS 2214\",\"metrics\":{\"centrality\":0,\"complexity\":4.0,\"blocking factor\":0,\"delay factor\":4.0},\"nameSub\":\"PHYS 2214\",\"id\":16,\"credits\":3},{\"curriculum_requisites\":[{\"source_id\":7,\"target_id\":17,\"type\":\"strict-coreq\"}],\"name\":\"MATH 2940\",\"metrics\":{\"centrality\":5,\"complexity\":5.0,\"blocking factor\":2,\"delay factor\":3.0},\"nameSub\":\"MATH 2940\",\"id\":17,\"credits\":3},{\"curriculum_requisites\":[{\"source_id\":11,\"target_id\":18,\"type\":\"strict-coreq\"}],\"name\":\"ENGRD 2xxx\",\"metrics\":{\"centrality\":0,\"complexity\":4.0,\"blocking factor\":0,\"delay factor\":4.0},\"nameSub\":\"ENGRD 2xxx\",\"id\":18,\"credits\":3},{\"curriculum_requisites\":[{\"source_id\":17,\"target_id\":19,\"type\":\"strict-coreq\"},{\"source_id\":12,\"target_id\":19,\"type\":\"strict-coreq\"}],\"name\":\"ECE/ENGRD 2200/2220\",\"metrics\":{\"centrality\":10,\"complexity\":5.0,\"blocking factor\":1,\"delay factor\":4.0},\"nameSub\":\"ECE 2200/ENGRD 2220\",\"id\":19,\"credits\":3},{\"curriculum_requisites\":[],\"name\":\" \",\"metrics\":{\"centrality\":0,\"complexity\":1.0,\"blocking factor\":0,\"delay factor\":1.0},\"nameSub\":\"Liberal Studies\",\"id\":20,\"credits\":3}],\"id\":4},{\"name\":\"Term 5\",\"curriculum_items\":[{\"curriculum_requisites\":[],\"name\":\" \",\"metrics\":{\"centrality\":0,\"complexity\":1.0,\"blocking factor\":0,\"delay factor\":1.0},\"nameSub\":\"ECE Foundations\",\"id\":21,\"credits\":3},{\"curriculum_requisites\":[],\"name\":\" \",\"metrics\":{\"centrality\":0,\"complexity\":1.0,\"blocking factor\":0,\"delay factor\":1.0},\"nameSub\":\"Elective\",\"id\":22,\"credits\":3},{\"curriculum_requisites\":[{\"source_id\":8,\"target_id\":23,\"type\":\"strict-coreq\"}],\"name\":\" \",\"metrics\":{\"centrality\":0,\"complexity\":2.0,\"blocking factor\":0,\"delay factor\":2.0},\"nameSub\":\"Outside Tech. Elective\",\"id\":23,\"credits\":3},{\"curriculum_requisites\":[{\"source_id\":13,\"target_id\":24,\"type\":\"strict-coreq\"},{\"source_id\":14,\"target_id\":24,\"type\":\"strict-coreq\"},{\"source_id\":19,\"target_id\":24,\"type\":\"strict-coreq\"}],\"name\":\"ECE 3400\",\"metrics\":{\"centrality\":0,\"complexity\":5.0,\"blocking factor\":0,\"delay factor\":5.0},\"nameSub\":\"ECE 3400\",\"id\":24,\"credits\":3},{\"curriculum_requisites\":[],\"name\":\" \",\"metrics\":{\"centrality\":0,\"complexity\":1.0,\"blocking factor\":0,\"delay factor\":1.0},\"nameSub\":\"Liberal Studies\",\"id\":25,\"credits\":3}],\"id\":5},{\"name\":\"Term 6\",\"curriculum_items\":[{\"curriculum_requisites\":[],\"name\":\" \",\"metrics\":{\"centrality\":0,\"complexity\":1.0,\"blocking factor\":0,\"delay factor\":1.0},\"nameSub\":\"ECE Foundations\",\"id\":26,\"credits\":3},{\"curriculum_requisites\":[],\"name\":\" \",\"metrics\":{\"centrality\":0,\"complexity\":1.0,\"blocking factor\":0,\"delay factor\":1.0},\"nameSub\":\"ECE Foundations\",\"id\":27,\"credits\":3},{\"curriculum_requisites\":[],\"name\":\" \",\"metrics\":{\"centrality\":0,\"complexity\":1.0,\"blocking factor\":0,\"delay factor\":1.0},\"nameSub\":\"Outside Tech. Elective\",\"id\":28,\"credits\":3},{\"curriculum_requisites\":[],\"name\":\" \",\"metrics\":{\"centrality\":0,\"complexity\":1.0,\"blocking factor\":0,\"delay factor\":1.0},\"nameSub\":\"Elective\",\"id\":29,\"credits\":3},{\"curriculum_requisites\":[],\"name\":\" \",\"metrics\":{\"centrality\":0,\"complexity\":1.0,\"blocking factor\":0,\"delay factor\":1.0},\"nameSub\":\"Liberal Studies\",\"id\":30,\"credits\":3}],\"id\":6},{\"name\":\"Term 7\",\"curriculum_items\":[{\"curriculum_requisites\":[],\"name\":\" \",\"metrics\":{\"centrality\":0,\"complexity\":1.0,\"blocking factor\":0,\"delay factor\":1.0},\"nameSub\":\"ECE Elective \",\"id\":31,\"credits\":3},{\"curriculum_requisites\":[],\"name\":\" \",\"metrics\":{\"centrality\":0,\"complexity\":1.0,\"blocking factor\":0,\"delay factor\":1.0},\"nameSub\":\"ECE Elective\",\"id\":32,\"credits\":3},{\"curriculum_requisites\":[],\"name\":\" \",\"metrics\":{\"centrality\":0,\"complexity\":1.0,\"blocking factor\":0,\"delay factor\":1.0},\"nameSub\":\"Outside Tech. Elective\",\"id\":33,\"credits\":3},{\"curriculum_requisites\":[],\"name\":\" \",\"metrics\":{\"centrality\":0,\"complexity\":1.0,\"blocking factor\":0,\"delay factor\":1.0},\"nameSub\":\"Liberal Studies\",\"id\":34,\"credits\":3}],\"id\":7},{\"name\":\"Term 8\",\"curriculum_items\":[{\"curriculum_requisites\":[],\"name\":\" \",\"metrics\":{\"centrality\":0,\"complexity\":1.0,\"blocking factor\":0,\"delay factor\":1.0},\"nameSub\":\"ECE Elective\",\"id\":35,\"credits\":3},{\"curriculum_requisites\":[],\"name\":\" \",\"metrics\":{\"centrality\":0,\"complexity\":1.0,\"blocking factor\":0,\"delay factor\":1.0},\"nameSub\":\"ECE Elective\",\"id\":36,\"credits\":3},{\"curriculum_requisites\":[],\"name\":\" \",\"metrics\":{\"centrality\":0,\"complexity\":1.0,\"blocking factor\":0,\"delay factor\":1.0},\"nameSub\":\"ECE Elective\",\"id\":37,\"credits\":3},{\"curriculum_requisites\":[],\"name\":\" \",\"metrics\":{\"centrality\":0,\"complexity\":1.0,\"blocking factor\":0,\"delay factor\":1.0},\"nameSub\":\"Liberal Studies\",\"id\":38,\"credits\":3}],\"id\":8}],\"institution\":\"\"}},\"*\"); window.removeEventListener(\"message\",window.messageReceived); window.messageReceived=(function (event){return (event.data.curriculum!==undefined) ? (_webIOScope.setObservableValue({\"name\":\"curriculum-data\",\"scope\":\"scope-f7b22e2c-a1c5-4513-84dd-ed69bcd8eb66\",\"id\":\"ob_01\",\"type\":\"observable\"},event.data.curriculum)) : undefined}); return window.addEventListener(\"message\",window.messageReceived)})"
          },
          "id": "curriculum",
          "src": "http://localhost:8156",
          "style": {
           "border": "none",
           "height": "100vh",
           "margin": "0",
           "padding": "0",
           "width": "100%"
          }
         },
         "type": "node"
        }
       ],
       "instanceArgs": {
        "handlers": {},
        "id": "scope-f7b22e2c-a1c5-4513-84dd-ed69bcd8eb66",
        "imports": {
         "data": [],
         "type": "async_block"
        },
        "observables": {
         "curriculum-data": {
          "id": "ob_01",
          "sync": true,
          "value": {
           "curriculum": {
            "curriculum_terms": [
             {
              "curriculum_items": [
               {
                "credits": 3,
                "curriculum_requisites": [],
                "id": 1,
                "metrics": {
                 "blocking factor": 0,
                 "centrality": 0,
                 "complexity": 1,
                 "delay factor": 1
                },
                "name": "CHEM 2090",
                "nameSub": "CHEM 2090"
               },
               {
                "credits": 3,
                "curriculum_requisites": [],
                "id": 2,
                "metrics": {
                 "blocking factor": 10,
                 "centrality": 0,
                 "complexity": 15,
                 "delay factor": 5
                },
                "name": "MATH 1910",
                "nameSub": "MATH 1910"
               },
               {
                "credits": 3,
                "curriculum_requisites": [],
                "id": 3,
                "metrics": {
                 "blocking factor": 0,
                 "centrality": 0,
                 "complexity": 1,
                 "delay factor": 1
                },
                "name": "ENGRI 1xxx",
                "nameSub": "ENGRI 1xxx"
               },
               {
                "credits": 3,
                "curriculum_requisites": [],
                "id": 4,
                "metrics": {
                 "blocking factor": 0,
                 "centrality": 0,
                 "complexity": 1,
                 "delay factor": 1
                },
                "name": " ",
                "nameSub": "1st Yr Writing Seminar"
               },
               {
                "credits": 3,
                "curriculum_requisites": [],
                "id": 5,
                "metrics": {
                 "blocking factor": 0,
                 "centrality": 0,
                 "complexity": 1,
                 "delay factor": 1
                },
                "name": " ",
                "nameSub": "PE"
               }
              ],
              "id": 1,
              "name": "Term 1"
             },
             {
              "curriculum_items": [
               {
                "credits": 3,
                "curriculum_requisites": [
                 {
                  "source_id": 2,
                  "target_id": 6,
                  "type": "strict-coreq"
                 }
                ],
                "id": 6,
                "metrics": {
                 "blocking factor": 4,
                 "centrality": 9,
                 "complexity": 9,
                 "delay factor": 5
                },
                "name": "PHYS 1112",
                "nameSub": "PHYS 1112"
               },
               {
                "credits": 3,
                "curriculum_requisites": [
                 {
                  "source_id": 2,
                  "target_id": 7,
                  "type": "strict-coreq"
                 }
                ],
                "id": 7,
                "metrics": {
                 "blocking factor": 8,
                 "centrality": 28,
                 "complexity": 12,
                 "delay factor": 4
                },
                "name": "MATH 1920",
                "nameSub": "MATH 1920"
               },
               {
                "credits": 3,
                "curriculum_requisites": [],
                "id": 8,
                "metrics": {
                 "blocking factor": 3,
                 "centrality": 0,
                 "complexity": 6,
                 "delay factor": 3
                },
                "name": "CS 111x",
                "nameSub": "CS 111x"
               },
               {
                "credits": 3,
                "curriculum_requisites": [],
                "id": 9,
                "metrics": {
                 "blocking factor": 0,
                 "centrality": 0,
                 "complexity": 1,
                 "delay factor": 1
                },
                "name": " ",
                "nameSub": "1st Yr Writing Seminar"
               },
               {
                "credits": 3,
                "curriculum_requisites": [],
                "id": 10,
                "metrics": {
                 "blocking factor": 0,
                 "centrality": 0,
                 "complexity": 1,
                 "delay factor": 1
                },
                "name": " ",
                "nameSub": "PE"
               }
              ],
              "id": 2,
              "name": "Term 2"
             },
             {
              "curriculum_items": [
               {
                "credits": 3,
                "curriculum_requisites": [
                 {
                  "source_id": 7,
                  "target_id": 11,
                  "type": "strict-coreq"
                 },
                 {
                  "source_id": 6,
                  "target_id": 11,
                  "type": "strict-coreq"
                 }
                ],
                "id": 11,
                "metrics": {
                 "blocking factor": 3,
                 "centrality": 18,
                 "complexity": 8,
                 "delay factor": 5
                },
                "name": "PHYS 2213",
                "nameSub": "PHYS 2213"
               },
               {
                "credits": 3,
                "curriculum_requisites": [
                 {
                  "source_id": 7,
                  "target_id": 12,
                  "type": "strict-coreq"
                 }
                ],
                "id": 12,
                "metrics": {
                 "blocking factor": 4,
                 "centrality": 14,
                 "complexity": 8,
                 "delay factor": 4
                },
                "name": "MATH 2930",
                "nameSub": "MATH 2930"
               },
               {
                "credits": 3,
                "curriculum_requisites": [
                 {
                  "source_id": 11,
                  "target_id": 13,
                  "type": "strict-coreq"
                 },
                 {
                  "source_id": 12,
                  "target_id": 13,
                  "type": "strict-coreq"
                 }
                ],
                "id": 13,
                "metrics": {
                 "blocking factor": 1,
                 "centrality": 15,
                 "complexity": 6,
                 "delay factor": 5
                },
                "name": "ECE/ENGRD 2100",
                "nameSub": "ECE/ENGRD 2100"
               },
               {
                "credits": 3,
                "curriculum_requisites": [
                 {
                  "source_id": 8,
                  "target_id": 14,
                  "type": "strict-coreq"
                 }
                ],
                "id": 14,
                "metrics": {
                 "blocking factor": 1,
                 "centrality": 3,
                 "complexity": 4,
                 "delay factor": 3
                },
                "name": "MECE/ENGRD 2300",
                "nameSub": "MECE/ENGRD 2300"
               },
               {
                "credits": 3,
                "curriculum_requisites": [],
                "id": 15,
                "metrics": {
                 "blocking factor": 0,
                 "centrality": 0,
                 "complexity": 1,
                 "delay factor": 1
                },
                "name": " ",
                "nameSub": "Liberal Studies"
               }
              ],
              "id": 3,
              "name": "Term 3"
             },
             {
              "curriculum_items": [
               {
                "credits": 3,
                "curriculum_requisites": [
                 {
                  "source_id": 12,
                  "target_id": 16,
                  "type": "strict-coreq"
                 }
                ],
                "id": 16,
                "metrics": {
                 "blocking factor": 0,
                 "centrality": 0,
                 "complexity": 4,
                 "delay factor": 4
                },
                "name": "PHYS 2214",
                "nameSub": "PHYS 2214"
               },
               {
                "credits": 3,
                "curriculum_requisites": [
                 {
                  "source_id": 7,
                  "target_id": 17,
                  "type": "strict-coreq"
                 }
                ],
                "id": 17,
                "metrics": {
                 "blocking factor": 2,
                 "centrality": 5,
                 "complexity": 5,
                 "delay factor": 3
                },
                "name": "MATH 2940",
                "nameSub": "MATH 2940"
               },
               {
                "credits": 3,
                "curriculum_requisites": [
                 {
                  "source_id": 11,
                  "target_id": 18,
                  "type": "strict-coreq"
                 }
                ],
                "id": 18,
                "metrics": {
                 "blocking factor": 0,
                 "centrality": 0,
                 "complexity": 4,
                 "delay factor": 4
                },
                "name": "ENGRD 2xxx",
                "nameSub": "ENGRD 2xxx"
               },
               {
                "credits": 3,
                "curriculum_requisites": [
                 {
                  "source_id": 17,
                  "target_id": 19,
                  "type": "strict-coreq"
                 },
                 {
                  "source_id": 12,
                  "target_id": 19,
                  "type": "strict-coreq"
                 }
                ],
                "id": 19,
                "metrics": {
                 "blocking factor": 1,
                 "centrality": 10,
                 "complexity": 5,
                 "delay factor": 4
                },
                "name": "ECE/ENGRD 2200/2220",
                "nameSub": "ECE 2200/ENGRD 2220"
               },
               {
                "credits": 3,
                "curriculum_requisites": [],
                "id": 20,
                "metrics": {
                 "blocking factor": 0,
                 "centrality": 0,
                 "complexity": 1,
                 "delay factor": 1
                },
                "name": " ",
                "nameSub": "Liberal Studies"
               }
              ],
              "id": 4,
              "name": "Term 4"
             },
             {
              "curriculum_items": [
               {
                "credits": 3,
                "curriculum_requisites": [],
                "id": 21,
                "metrics": {
                 "blocking factor": 0,
                 "centrality": 0,
                 "complexity": 1,
                 "delay factor": 1
                },
                "name": " ",
                "nameSub": "ECE Foundations"
               },
               {
                "credits": 3,
                "curriculum_requisites": [],
                "id": 22,
                "metrics": {
                 "blocking factor": 0,
                 "centrality": 0,
                 "complexity": 1,
                 "delay factor": 1
                },
                "name": " ",
                "nameSub": "Elective"
               },
               {
                "credits": 3,
                "curriculum_requisites": [
                 {
                  "source_id": 8,
                  "target_id": 23,
                  "type": "strict-coreq"
                 }
                ],
                "id": 23,
                "metrics": {
                 "blocking factor": 0,
                 "centrality": 0,
                 "complexity": 2,
                 "delay factor": 2
                },
                "name": " ",
                "nameSub": "Outside Tech. Elective"
               },
               {
                "credits": 3,
                "curriculum_requisites": [
                 {
                  "source_id": 13,
                  "target_id": 24,
                  "type": "strict-coreq"
                 },
                 {
                  "source_id": 14,
                  "target_id": 24,
                  "type": "strict-coreq"
                 },
                 {
                  "source_id": 19,
                  "target_id": 24,
                  "type": "strict-coreq"
                 }
                ],
                "id": 24,
                "metrics": {
                 "blocking factor": 0,
                 "centrality": 0,
                 "complexity": 5,
                 "delay factor": 5
                },
                "name": "ECE 3400",
                "nameSub": "ECE 3400"
               },
               {
                "credits": 3,
                "curriculum_requisites": [],
                "id": 25,
                "metrics": {
                 "blocking factor": 0,
                 "centrality": 0,
                 "complexity": 1,
                 "delay factor": 1
                },
                "name": " ",
                "nameSub": "Liberal Studies"
               }
              ],
              "id": 5,
              "name": "Term 5"
             },
             {
              "curriculum_items": [
               {
                "credits": 3,
                "curriculum_requisites": [],
                "id": 26,
                "metrics": {
                 "blocking factor": 0,
                 "centrality": 0,
                 "complexity": 1,
                 "delay factor": 1
                },
                "name": " ",
                "nameSub": "ECE Foundations"
               },
               {
                "credits": 3,
                "curriculum_requisites": [],
                "id": 27,
                "metrics": {
                 "blocking factor": 0,
                 "centrality": 0,
                 "complexity": 1,
                 "delay factor": 1
                },
                "name": " ",
                "nameSub": "ECE Foundations"
               },
               {
                "credits": 3,
                "curriculum_requisites": [],
                "id": 28,
                "metrics": {
                 "blocking factor": 0,
                 "centrality": 0,
                 "complexity": 1,
                 "delay factor": 1
                },
                "name": " ",
                "nameSub": "Outside Tech. Elective"
               },
               {
                "credits": 3,
                "curriculum_requisites": [],
                "id": 29,
                "metrics": {
                 "blocking factor": 0,
                 "centrality": 0,
                 "complexity": 1,
                 "delay factor": 1
                },
                "name": " ",
                "nameSub": "Elective"
               },
               {
                "credits": 3,
                "curriculum_requisites": [],
                "id": 30,
                "metrics": {
                 "blocking factor": 0,
                 "centrality": 0,
                 "complexity": 1,
                 "delay factor": 1
                },
                "name": " ",
                "nameSub": "Liberal Studies"
               }
              ],
              "id": 6,
              "name": "Term 6"
             },
             {
              "curriculum_items": [
               {
                "credits": 3,
                "curriculum_requisites": [],
                "id": 31,
                "metrics": {
                 "blocking factor": 0,
                 "centrality": 0,
                 "complexity": 1,
                 "delay factor": 1
                },
                "name": " ",
                "nameSub": "ECE Elective "
               },
               {
                "credits": 3,
                "curriculum_requisites": [],
                "id": 32,
                "metrics": {
                 "blocking factor": 0,
                 "centrality": 0,
                 "complexity": 1,
                 "delay factor": 1
                },
                "name": " ",
                "nameSub": "ECE Elective"
               },
               {
                "credits": 3,
                "curriculum_requisites": [],
                "id": 33,
                "metrics": {
                 "blocking factor": 0,
                 "centrality": 0,
                 "complexity": 1,
                 "delay factor": 1
                },
                "name": " ",
                "nameSub": "Outside Tech. Elective"
               },
               {
                "credits": 3,
                "curriculum_requisites": [],
                "id": 34,
                "metrics": {
                 "blocking factor": 0,
                 "centrality": 0,
                 "complexity": 1,
                 "delay factor": 1
                },
                "name": " ",
                "nameSub": "Liberal Studies"
               }
              ],
              "id": 7,
              "name": "Term 7"
             },
             {
              "curriculum_items": [
               {
                "credits": 3,
                "curriculum_requisites": [],
                "id": 35,
                "metrics": {
                 "blocking factor": 0,
                 "centrality": 0,
                 "complexity": 1,
                 "delay factor": 1
                },
                "name": " ",
                "nameSub": "ECE Elective"
               },
               {
                "credits": 3,
                "curriculum_requisites": [],
                "id": 36,
                "metrics": {
                 "blocking factor": 0,
                 "centrality": 0,
                 "complexity": 1,
                 "delay factor": 1
                },
                "name": " ",
                "nameSub": "ECE Elective"
               },
               {
                "credits": 3,
                "curriculum_requisites": [],
                "id": 37,
                "metrics": {
                 "blocking factor": 0,
                 "centrality": 0,
                 "complexity": 1,
                 "delay factor": 1
                },
                "name": " ",
                "nameSub": "ECE Elective"
               },
               {
                "credits": 3,
                "curriculum_requisites": [],
                "id": 38,
                "metrics": {
                 "blocking factor": 0,
                 "centrality": 0,
                 "complexity": 1,
                 "delay factor": 1
                },
                "name": " ",
                "nameSub": "Liberal Studies"
               }
              ],
              "id": 8,
              "name": "Term 8"
             }
            ],
            "dp_name": "",
            "institution": "",
            "name": ""
           },
           "options": {
            "edit": true,
            "hideTerms": false
           }
          }
         }
        },
        "systemjs_options": null
       },
       "nodeType": "Scope",
       "props": {},
       "type": "node"
      },
      "text/html": [
       "<div\n",
       "    class=\"webio-mountpoint\"\n",
       "    data-webio-mountpoint=\"15759525703369656883\"\n",
       ">\n",
       "    <script>\n",
       "    if (window.require && require.defined && require.defined(\"nbextensions/webio/main\")) {\n",
       "        console.log(\"Jupyter WebIO extension detected, not mounting.\");\n",
       "    } else if (window.WebIO) {\n",
       "        WebIO.mount(\n",
       "            document.querySelector('[data-webio-mountpoint=\"15759525703369656883\"]'),\n",
       "            {\"props\":{},\"nodeType\":\"Scope\",\"type\":\"node\",\"instanceArgs\":{\"imports\":{\"data\":[],\"type\":\"async_block\"},\"id\":\"scope-f7b22e2c-a1c5-4513-84dd-ed69bcd8eb66\",\"handlers\":{},\"systemjs_options\":null,\"observables\":{\"curriculum-data\":{\"sync\":true,\"id\":\"ob_01\",\"value\":{\"options\":{\"hideTerms\":false,\"edit\":true},\"curriculum\":{\"name\":\"\",\"dp_name\":\"\",\"curriculum_terms\":[{\"name\":\"Term 1\",\"curriculum_items\":[{\"curriculum_requisites\":[],\"name\":\"CHEM 2090\",\"metrics\":{\"centrality\":0,\"complexity\":1.0,\"blocking factor\":0,\"delay factor\":1.0},\"nameSub\":\"CHEM 2090\",\"id\":1,\"credits\":3},{\"curriculum_requisites\":[],\"name\":\"MATH 1910\",\"metrics\":{\"centrality\":0,\"complexity\":15.0,\"blocking factor\":10,\"delay factor\":5.0},\"nameSub\":\"MATH 1910\",\"id\":2,\"credits\":3},{\"curriculum_requisites\":[],\"name\":\"ENGRI 1xxx\",\"metrics\":{\"centrality\":0,\"complexity\":1.0,\"blocking factor\":0,\"delay factor\":1.0},\"nameSub\":\"ENGRI 1xxx\",\"id\":3,\"credits\":3},{\"curriculum_requisites\":[],\"name\":\" \",\"metrics\":{\"centrality\":0,\"complexity\":1.0,\"blocking factor\":0,\"delay factor\":1.0},\"nameSub\":\"1st Yr Writing Seminar\",\"id\":4,\"credits\":3},{\"curriculum_requisites\":[],\"name\":\" \",\"metrics\":{\"centrality\":0,\"complexity\":1.0,\"blocking factor\":0,\"delay factor\":1.0},\"nameSub\":\"PE\",\"id\":5,\"credits\":3}],\"id\":1},{\"name\":\"Term 2\",\"curriculum_items\":[{\"curriculum_requisites\":[{\"source_id\":2,\"target_id\":6,\"type\":\"strict-coreq\"}],\"name\":\"PHYS 1112\",\"metrics\":{\"centrality\":9,\"complexity\":9.0,\"blocking factor\":4,\"delay factor\":5.0},\"nameSub\":\"PHYS 1112\",\"id\":6,\"credits\":3},{\"curriculum_requisites\":[{\"source_id\":2,\"target_id\":7,\"type\":\"strict-coreq\"}],\"name\":\"MATH 1920\",\"metrics\":{\"centrality\":28,\"complexity\":12.0,\"blocking factor\":8,\"delay factor\":4.0},\"nameSub\":\"MATH 1920\",\"id\":7,\"credits\":3},{\"curriculum_requisites\":[],\"name\":\"CS 111x\",\"metrics\":{\"centrality\":0,\"complexity\":6.0,\"blocking factor\":3,\"delay factor\":3.0},\"nameSub\":\"CS 111x\",\"id\":8,\"credits\":3},{\"curriculum_requisites\":[],\"name\":\" \",\"metrics\":{\"centrality\":0,\"complexity\":1.0,\"blocking factor\":0,\"delay factor\":1.0},\"nameSub\":\"1st Yr Writing Seminar\",\"id\":9,\"credits\":3},{\"curriculum_requisites\":[],\"name\":\" \",\"metrics\":{\"centrality\":0,\"complexity\":1.0,\"blocking factor\":0,\"delay factor\":1.0},\"nameSub\":\"PE\",\"id\":10,\"credits\":3}],\"id\":2},{\"name\":\"Term 3\",\"curriculum_items\":[{\"curriculum_requisites\":[{\"source_id\":7,\"target_id\":11,\"type\":\"strict-coreq\"},{\"source_id\":6,\"target_id\":11,\"type\":\"strict-coreq\"}],\"name\":\"PHYS 2213\",\"metrics\":{\"centrality\":18,\"complexity\":8.0,\"blocking factor\":3,\"delay factor\":5.0},\"nameSub\":\"PHYS 2213\",\"id\":11,\"credits\":3},{\"curriculum_requisites\":[{\"source_id\":7,\"target_id\":12,\"type\":\"strict-coreq\"}],\"name\":\"MATH 2930\",\"metrics\":{\"centrality\":14,\"complexity\":8.0,\"blocking factor\":4,\"delay factor\":4.0},\"nameSub\":\"MATH 2930\",\"id\":12,\"credits\":3},{\"curriculum_requisites\":[{\"source_id\":11,\"target_id\":13,\"type\":\"strict-coreq\"},{\"source_id\":12,\"target_id\":13,\"type\":\"strict-coreq\"}],\"name\":\"ECE\\/ENGRD 2100\",\"metrics\":{\"centrality\":15,\"complexity\":6.0,\"blocking factor\":1,\"delay factor\":5.0},\"nameSub\":\"ECE\\/ENGRD 2100\",\"id\":13,\"credits\":3},{\"curriculum_requisites\":[{\"source_id\":8,\"target_id\":14,\"type\":\"strict-coreq\"}],\"name\":\"MECE\\/ENGRD 2300\",\"metrics\":{\"centrality\":3,\"complexity\":4.0,\"blocking factor\":1,\"delay factor\":3.0},\"nameSub\":\"MECE\\/ENGRD 2300\",\"id\":14,\"credits\":3},{\"curriculum_requisites\":[],\"name\":\" \",\"metrics\":{\"centrality\":0,\"complexity\":1.0,\"blocking factor\":0,\"delay factor\":1.0},\"nameSub\":\"Liberal Studies\",\"id\":15,\"credits\":3}],\"id\":3},{\"name\":\"Term 4\",\"curriculum_items\":[{\"curriculum_requisites\":[{\"source_id\":12,\"target_id\":16,\"type\":\"strict-coreq\"}],\"name\":\"PHYS 2214\",\"metrics\":{\"centrality\":0,\"complexity\":4.0,\"blocking factor\":0,\"delay factor\":4.0},\"nameSub\":\"PHYS 2214\",\"id\":16,\"credits\":3},{\"curriculum_requisites\":[{\"source_id\":7,\"target_id\":17,\"type\":\"strict-coreq\"}],\"name\":\"MATH 2940\",\"metrics\":{\"centrality\":5,\"complexity\":5.0,\"blocking factor\":2,\"delay factor\":3.0},\"nameSub\":\"MATH 2940\",\"id\":17,\"credits\":3},{\"curriculum_requisites\":[{\"source_id\":11,\"target_id\":18,\"type\":\"strict-coreq\"}],\"name\":\"ENGRD 2xxx\",\"metrics\":{\"centrality\":0,\"complexity\":4.0,\"blocking factor\":0,\"delay factor\":4.0},\"nameSub\":\"ENGRD 2xxx\",\"id\":18,\"credits\":3},{\"curriculum_requisites\":[{\"source_id\":17,\"target_id\":19,\"type\":\"strict-coreq\"},{\"source_id\":12,\"target_id\":19,\"type\":\"strict-coreq\"}],\"name\":\"ECE\\/ENGRD 2200\\/2220\",\"metrics\":{\"centrality\":10,\"complexity\":5.0,\"blocking factor\":1,\"delay factor\":4.0},\"nameSub\":\"ECE 2200\\/ENGRD 2220\",\"id\":19,\"credits\":3},{\"curriculum_requisites\":[],\"name\":\" \",\"metrics\":{\"centrality\":0,\"complexity\":1.0,\"blocking factor\":0,\"delay factor\":1.0},\"nameSub\":\"Liberal Studies\",\"id\":20,\"credits\":3}],\"id\":4},{\"name\":\"Term 5\",\"curriculum_items\":[{\"curriculum_requisites\":[],\"name\":\" \",\"metrics\":{\"centrality\":0,\"complexity\":1.0,\"blocking factor\":0,\"delay factor\":1.0},\"nameSub\":\"ECE Foundations\",\"id\":21,\"credits\":3},{\"curriculum_requisites\":[],\"name\":\" \",\"metrics\":{\"centrality\":0,\"complexity\":1.0,\"blocking factor\":0,\"delay factor\":1.0},\"nameSub\":\"Elective\",\"id\":22,\"credits\":3},{\"curriculum_requisites\":[{\"source_id\":8,\"target_id\":23,\"type\":\"strict-coreq\"}],\"name\":\" \",\"metrics\":{\"centrality\":0,\"complexity\":2.0,\"blocking factor\":0,\"delay factor\":2.0},\"nameSub\":\"Outside Tech. Elective\",\"id\":23,\"credits\":3},{\"curriculum_requisites\":[{\"source_id\":13,\"target_id\":24,\"type\":\"strict-coreq\"},{\"source_id\":14,\"target_id\":24,\"type\":\"strict-coreq\"},{\"source_id\":19,\"target_id\":24,\"type\":\"strict-coreq\"}],\"name\":\"ECE 3400\",\"metrics\":{\"centrality\":0,\"complexity\":5.0,\"blocking factor\":0,\"delay factor\":5.0},\"nameSub\":\"ECE 3400\",\"id\":24,\"credits\":3},{\"curriculum_requisites\":[],\"name\":\" \",\"metrics\":{\"centrality\":0,\"complexity\":1.0,\"blocking factor\":0,\"delay factor\":1.0},\"nameSub\":\"Liberal Studies\",\"id\":25,\"credits\":3}],\"id\":5},{\"name\":\"Term 6\",\"curriculum_items\":[{\"curriculum_requisites\":[],\"name\":\" \",\"metrics\":{\"centrality\":0,\"complexity\":1.0,\"blocking factor\":0,\"delay factor\":1.0},\"nameSub\":\"ECE Foundations\",\"id\":26,\"credits\":3},{\"curriculum_requisites\":[],\"name\":\" \",\"metrics\":{\"centrality\":0,\"complexity\":1.0,\"blocking factor\":0,\"delay factor\":1.0},\"nameSub\":\"ECE Foundations\",\"id\":27,\"credits\":3},{\"curriculum_requisites\":[],\"name\":\" \",\"metrics\":{\"centrality\":0,\"complexity\":1.0,\"blocking factor\":0,\"delay factor\":1.0},\"nameSub\":\"Outside Tech. Elective\",\"id\":28,\"credits\":3},{\"curriculum_requisites\":[],\"name\":\" \",\"metrics\":{\"centrality\":0,\"complexity\":1.0,\"blocking factor\":0,\"delay factor\":1.0},\"nameSub\":\"Elective\",\"id\":29,\"credits\":3},{\"curriculum_requisites\":[],\"name\":\" \",\"metrics\":{\"centrality\":0,\"complexity\":1.0,\"blocking factor\":0,\"delay factor\":1.0},\"nameSub\":\"Liberal Studies\",\"id\":30,\"credits\":3}],\"id\":6},{\"name\":\"Term 7\",\"curriculum_items\":[{\"curriculum_requisites\":[],\"name\":\" \",\"metrics\":{\"centrality\":0,\"complexity\":1.0,\"blocking factor\":0,\"delay factor\":1.0},\"nameSub\":\"ECE Elective \",\"id\":31,\"credits\":3},{\"curriculum_requisites\":[],\"name\":\" \",\"metrics\":{\"centrality\":0,\"complexity\":1.0,\"blocking factor\":0,\"delay factor\":1.0},\"nameSub\":\"ECE Elective\",\"id\":32,\"credits\":3},{\"curriculum_requisites\":[],\"name\":\" \",\"metrics\":{\"centrality\":0,\"complexity\":1.0,\"blocking factor\":0,\"delay factor\":1.0},\"nameSub\":\"Outside Tech. Elective\",\"id\":33,\"credits\":3},{\"curriculum_requisites\":[],\"name\":\" \",\"metrics\":{\"centrality\":0,\"complexity\":1.0,\"blocking factor\":0,\"delay factor\":1.0},\"nameSub\":\"Liberal Studies\",\"id\":34,\"credits\":3}],\"id\":7},{\"name\":\"Term 8\",\"curriculum_items\":[{\"curriculum_requisites\":[],\"name\":\" \",\"metrics\":{\"centrality\":0,\"complexity\":1.0,\"blocking factor\":0,\"delay factor\":1.0},\"nameSub\":\"ECE Elective\",\"id\":35,\"credits\":3},{\"curriculum_requisites\":[],\"name\":\" \",\"metrics\":{\"centrality\":0,\"complexity\":1.0,\"blocking factor\":0,\"delay factor\":1.0},\"nameSub\":\"ECE Elective\",\"id\":36,\"credits\":3},{\"curriculum_requisites\":[],\"name\":\" \",\"metrics\":{\"centrality\":0,\"complexity\":1.0,\"blocking factor\":0,\"delay factor\":1.0},\"nameSub\":\"ECE Elective\",\"id\":37,\"credits\":3},{\"curriculum_requisites\":[],\"name\":\" \",\"metrics\":{\"centrality\":0,\"complexity\":1.0,\"blocking factor\":0,\"delay factor\":1.0},\"nameSub\":\"Liberal Studies\",\"id\":38,\"credits\":3}],\"id\":8}],\"institution\":\"\"}}}}},\"children\":[{\"props\":{\"src\":\"http:\\/\\/localhost:8156\",\"id\":\"curriculum\",\"events\":{\"load\":\"(function (){this.contentWindow.postMessage({\\\"options\\\":{\\\"hideTerms\\\":false,\\\"edit\\\":true},\\\"curriculum\\\":{\\\"name\\\":\\\"\\\",\\\"dp_name\\\":\\\"\\\",\\\"curriculum_terms\\\":[{\\\"name\\\":\\\"Term 1\\\",\\\"curriculum_items\\\":[{\\\"curriculum_requisites\\\":[],\\\"name\\\":\\\"CHEM 2090\\\",\\\"metrics\\\":{\\\"centrality\\\":0,\\\"complexity\\\":1.0,\\\"blocking factor\\\":0,\\\"delay factor\\\":1.0},\\\"nameSub\\\":\\\"CHEM 2090\\\",\\\"id\\\":1,\\\"credits\\\":3},{\\\"curriculum_requisites\\\":[],\\\"name\\\":\\\"MATH 1910\\\",\\\"metrics\\\":{\\\"centrality\\\":0,\\\"complexity\\\":15.0,\\\"blocking factor\\\":10,\\\"delay factor\\\":5.0},\\\"nameSub\\\":\\\"MATH 1910\\\",\\\"id\\\":2,\\\"credits\\\":3},{\\\"curriculum_requisites\\\":[],\\\"name\\\":\\\"ENGRI 1xxx\\\",\\\"metrics\\\":{\\\"centrality\\\":0,\\\"complexity\\\":1.0,\\\"blocking factor\\\":0,\\\"delay factor\\\":1.0},\\\"nameSub\\\":\\\"ENGRI 1xxx\\\",\\\"id\\\":3,\\\"credits\\\":3},{\\\"curriculum_requisites\\\":[],\\\"name\\\":\\\" \\\",\\\"metrics\\\":{\\\"centrality\\\":0,\\\"complexity\\\":1.0,\\\"blocking factor\\\":0,\\\"delay factor\\\":1.0},\\\"nameSub\\\":\\\"1st Yr Writing Seminar\\\",\\\"id\\\":4,\\\"credits\\\":3},{\\\"curriculum_requisites\\\":[],\\\"name\\\":\\\" \\\",\\\"metrics\\\":{\\\"centrality\\\":0,\\\"complexity\\\":1.0,\\\"blocking factor\\\":0,\\\"delay factor\\\":1.0},\\\"nameSub\\\":\\\"PE\\\",\\\"id\\\":5,\\\"credits\\\":3}],\\\"id\\\":1},{\\\"name\\\":\\\"Term 2\\\",\\\"curriculum_items\\\":[{\\\"curriculum_requisites\\\":[{\\\"source_id\\\":2,\\\"target_id\\\":6,\\\"type\\\":\\\"strict-coreq\\\"}],\\\"name\\\":\\\"PHYS 1112\\\",\\\"metrics\\\":{\\\"centrality\\\":9,\\\"complexity\\\":9.0,\\\"blocking factor\\\":4,\\\"delay factor\\\":5.0},\\\"nameSub\\\":\\\"PHYS 1112\\\",\\\"id\\\":6,\\\"credits\\\":3},{\\\"curriculum_requisites\\\":[{\\\"source_id\\\":2,\\\"target_id\\\":7,\\\"type\\\":\\\"strict-coreq\\\"}],\\\"name\\\":\\\"MATH 1920\\\",\\\"metrics\\\":{\\\"centrality\\\":28,\\\"complexity\\\":12.0,\\\"blocking factor\\\":8,\\\"delay factor\\\":4.0},\\\"nameSub\\\":\\\"MATH 1920\\\",\\\"id\\\":7,\\\"credits\\\":3},{\\\"curriculum_requisites\\\":[],\\\"name\\\":\\\"CS 111x\\\",\\\"metrics\\\":{\\\"centrality\\\":0,\\\"complexity\\\":6.0,\\\"blocking factor\\\":3,\\\"delay factor\\\":3.0},\\\"nameSub\\\":\\\"CS 111x\\\",\\\"id\\\":8,\\\"credits\\\":3},{\\\"curriculum_requisites\\\":[],\\\"name\\\":\\\" \\\",\\\"metrics\\\":{\\\"centrality\\\":0,\\\"complexity\\\":1.0,\\\"blocking factor\\\":0,\\\"delay factor\\\":1.0},\\\"nameSub\\\":\\\"1st Yr Writing Seminar\\\",\\\"id\\\":9,\\\"credits\\\":3},{\\\"curriculum_requisites\\\":[],\\\"name\\\":\\\" \\\",\\\"metrics\\\":{\\\"centrality\\\":0,\\\"complexity\\\":1.0,\\\"blocking factor\\\":0,\\\"delay factor\\\":1.0},\\\"nameSub\\\":\\\"PE\\\",\\\"id\\\":10,\\\"credits\\\":3}],\\\"id\\\":2},{\\\"name\\\":\\\"Term 3\\\",\\\"curriculum_items\\\":[{\\\"curriculum_requisites\\\":[{\\\"source_id\\\":7,\\\"target_id\\\":11,\\\"type\\\":\\\"strict-coreq\\\"},{\\\"source_id\\\":6,\\\"target_id\\\":11,\\\"type\\\":\\\"strict-coreq\\\"}],\\\"name\\\":\\\"PHYS 2213\\\",\\\"metrics\\\":{\\\"centrality\\\":18,\\\"complexity\\\":8.0,\\\"blocking factor\\\":3,\\\"delay factor\\\":5.0},\\\"nameSub\\\":\\\"PHYS 2213\\\",\\\"id\\\":11,\\\"credits\\\":3},{\\\"curriculum_requisites\\\":[{\\\"source_id\\\":7,\\\"target_id\\\":12,\\\"type\\\":\\\"strict-coreq\\\"}],\\\"name\\\":\\\"MATH 2930\\\",\\\"metrics\\\":{\\\"centrality\\\":14,\\\"complexity\\\":8.0,\\\"blocking factor\\\":4,\\\"delay factor\\\":4.0},\\\"nameSub\\\":\\\"MATH 2930\\\",\\\"id\\\":12,\\\"credits\\\":3},{\\\"curriculum_requisites\\\":[{\\\"source_id\\\":11,\\\"target_id\\\":13,\\\"type\\\":\\\"strict-coreq\\\"},{\\\"source_id\\\":12,\\\"target_id\\\":13,\\\"type\\\":\\\"strict-coreq\\\"}],\\\"name\\\":\\\"ECE\\/ENGRD 2100\\\",\\\"metrics\\\":{\\\"centrality\\\":15,\\\"complexity\\\":6.0,\\\"blocking factor\\\":1,\\\"delay factor\\\":5.0},\\\"nameSub\\\":\\\"ECE\\/ENGRD 2100\\\",\\\"id\\\":13,\\\"credits\\\":3},{\\\"curriculum_requisites\\\":[{\\\"source_id\\\":8,\\\"target_id\\\":14,\\\"type\\\":\\\"strict-coreq\\\"}],\\\"name\\\":\\\"MECE\\/ENGRD 2300\\\",\\\"metrics\\\":{\\\"centrality\\\":3,\\\"complexity\\\":4.0,\\\"blocking factor\\\":1,\\\"delay factor\\\":3.0},\\\"nameSub\\\":\\\"MECE\\/ENGRD 2300\\\",\\\"id\\\":14,\\\"credits\\\":3},{\\\"curriculum_requisites\\\":[],\\\"name\\\":\\\" \\\",\\\"metrics\\\":{\\\"centrality\\\":0,\\\"complexity\\\":1.0,\\\"blocking factor\\\":0,\\\"delay factor\\\":1.0},\\\"nameSub\\\":\\\"Liberal Studies\\\",\\\"id\\\":15,\\\"credits\\\":3}],\\\"id\\\":3},{\\\"name\\\":\\\"Term 4\\\",\\\"curriculum_items\\\":[{\\\"curriculum_requisites\\\":[{\\\"source_id\\\":12,\\\"target_id\\\":16,\\\"type\\\":\\\"strict-coreq\\\"}],\\\"name\\\":\\\"PHYS 2214\\\",\\\"metrics\\\":{\\\"centrality\\\":0,\\\"complexity\\\":4.0,\\\"blocking factor\\\":0,\\\"delay factor\\\":4.0},\\\"nameSub\\\":\\\"PHYS 2214\\\",\\\"id\\\":16,\\\"credits\\\":3},{\\\"curriculum_requisites\\\":[{\\\"source_id\\\":7,\\\"target_id\\\":17,\\\"type\\\":\\\"strict-coreq\\\"}],\\\"name\\\":\\\"MATH 2940\\\",\\\"metrics\\\":{\\\"centrality\\\":5,\\\"complexity\\\":5.0,\\\"blocking factor\\\":2,\\\"delay factor\\\":3.0},\\\"nameSub\\\":\\\"MATH 2940\\\",\\\"id\\\":17,\\\"credits\\\":3},{\\\"curriculum_requisites\\\":[{\\\"source_id\\\":11,\\\"target_id\\\":18,\\\"type\\\":\\\"strict-coreq\\\"}],\\\"name\\\":\\\"ENGRD 2xxx\\\",\\\"metrics\\\":{\\\"centrality\\\":0,\\\"complexity\\\":4.0,\\\"blocking factor\\\":0,\\\"delay factor\\\":4.0},\\\"nameSub\\\":\\\"ENGRD 2xxx\\\",\\\"id\\\":18,\\\"credits\\\":3},{\\\"curriculum_requisites\\\":[{\\\"source_id\\\":17,\\\"target_id\\\":19,\\\"type\\\":\\\"strict-coreq\\\"},{\\\"source_id\\\":12,\\\"target_id\\\":19,\\\"type\\\":\\\"strict-coreq\\\"}],\\\"name\\\":\\\"ECE\\/ENGRD 2200\\/2220\\\",\\\"metrics\\\":{\\\"centrality\\\":10,\\\"complexity\\\":5.0,\\\"blocking factor\\\":1,\\\"delay factor\\\":4.0},\\\"nameSub\\\":\\\"ECE 2200\\/ENGRD 2220\\\",\\\"id\\\":19,\\\"credits\\\":3},{\\\"curriculum_requisites\\\":[],\\\"name\\\":\\\" \\\",\\\"metrics\\\":{\\\"centrality\\\":0,\\\"complexity\\\":1.0,\\\"blocking factor\\\":0,\\\"delay factor\\\":1.0},\\\"nameSub\\\":\\\"Liberal Studies\\\",\\\"id\\\":20,\\\"credits\\\":3}],\\\"id\\\":4},{\\\"name\\\":\\\"Term 5\\\",\\\"curriculum_items\\\":[{\\\"curriculum_requisites\\\":[],\\\"name\\\":\\\" \\\",\\\"metrics\\\":{\\\"centrality\\\":0,\\\"complexity\\\":1.0,\\\"blocking factor\\\":0,\\\"delay factor\\\":1.0},\\\"nameSub\\\":\\\"ECE Foundations\\\",\\\"id\\\":21,\\\"credits\\\":3},{\\\"curriculum_requisites\\\":[],\\\"name\\\":\\\" \\\",\\\"metrics\\\":{\\\"centrality\\\":0,\\\"complexity\\\":1.0,\\\"blocking factor\\\":0,\\\"delay factor\\\":1.0},\\\"nameSub\\\":\\\"Elective\\\",\\\"id\\\":22,\\\"credits\\\":3},{\\\"curriculum_requisites\\\":[{\\\"source_id\\\":8,\\\"target_id\\\":23,\\\"type\\\":\\\"strict-coreq\\\"}],\\\"name\\\":\\\" \\\",\\\"metrics\\\":{\\\"centrality\\\":0,\\\"complexity\\\":2.0,\\\"blocking factor\\\":0,\\\"delay factor\\\":2.0},\\\"nameSub\\\":\\\"Outside Tech. Elective\\\",\\\"id\\\":23,\\\"credits\\\":3},{\\\"curriculum_requisites\\\":[{\\\"source_id\\\":13,\\\"target_id\\\":24,\\\"type\\\":\\\"strict-coreq\\\"},{\\\"source_id\\\":14,\\\"target_id\\\":24,\\\"type\\\":\\\"strict-coreq\\\"},{\\\"source_id\\\":19,\\\"target_id\\\":24,\\\"type\\\":\\\"strict-coreq\\\"}],\\\"name\\\":\\\"ECE 3400\\\",\\\"metrics\\\":{\\\"centrality\\\":0,\\\"complexity\\\":5.0,\\\"blocking factor\\\":0,\\\"delay factor\\\":5.0},\\\"nameSub\\\":\\\"ECE 3400\\\",\\\"id\\\":24,\\\"credits\\\":3},{\\\"curriculum_requisites\\\":[],\\\"name\\\":\\\" \\\",\\\"metrics\\\":{\\\"centrality\\\":0,\\\"complexity\\\":1.0,\\\"blocking factor\\\":0,\\\"delay factor\\\":1.0},\\\"nameSub\\\":\\\"Liberal Studies\\\",\\\"id\\\":25,\\\"credits\\\":3}],\\\"id\\\":5},{\\\"name\\\":\\\"Term 6\\\",\\\"curriculum_items\\\":[{\\\"curriculum_requisites\\\":[],\\\"name\\\":\\\" \\\",\\\"metrics\\\":{\\\"centrality\\\":0,\\\"complexity\\\":1.0,\\\"blocking factor\\\":0,\\\"delay factor\\\":1.0},\\\"nameSub\\\":\\\"ECE Foundations\\\",\\\"id\\\":26,\\\"credits\\\":3},{\\\"curriculum_requisites\\\":[],\\\"name\\\":\\\" \\\",\\\"metrics\\\":{\\\"centrality\\\":0,\\\"complexity\\\":1.0,\\\"blocking factor\\\":0,\\\"delay factor\\\":1.0},\\\"nameSub\\\":\\\"ECE Foundations\\\",\\\"id\\\":27,\\\"credits\\\":3},{\\\"curriculum_requisites\\\":[],\\\"name\\\":\\\" \\\",\\\"metrics\\\":{\\\"centrality\\\":0,\\\"complexity\\\":1.0,\\\"blocking factor\\\":0,\\\"delay factor\\\":1.0},\\\"nameSub\\\":\\\"Outside Tech. Elective\\\",\\\"id\\\":28,\\\"credits\\\":3},{\\\"curriculum_requisites\\\":[],\\\"name\\\":\\\" \\\",\\\"metrics\\\":{\\\"centrality\\\":0,\\\"complexity\\\":1.0,\\\"blocking factor\\\":0,\\\"delay factor\\\":1.0},\\\"nameSub\\\":\\\"Elective\\\",\\\"id\\\":29,\\\"credits\\\":3},{\\\"curriculum_requisites\\\":[],\\\"name\\\":\\\" \\\",\\\"metrics\\\":{\\\"centrality\\\":0,\\\"complexity\\\":1.0,\\\"blocking factor\\\":0,\\\"delay factor\\\":1.0},\\\"nameSub\\\":\\\"Liberal Studies\\\",\\\"id\\\":30,\\\"credits\\\":3}],\\\"id\\\":6},{\\\"name\\\":\\\"Term 7\\\",\\\"curriculum_items\\\":[{\\\"curriculum_requisites\\\":[],\\\"name\\\":\\\" \\\",\\\"metrics\\\":{\\\"centrality\\\":0,\\\"complexity\\\":1.0,\\\"blocking factor\\\":0,\\\"delay factor\\\":1.0},\\\"nameSub\\\":\\\"ECE Elective \\\",\\\"id\\\":31,\\\"credits\\\":3},{\\\"curriculum_requisites\\\":[],\\\"name\\\":\\\" \\\",\\\"metrics\\\":{\\\"centrality\\\":0,\\\"complexity\\\":1.0,\\\"blocking factor\\\":0,\\\"delay factor\\\":1.0},\\\"nameSub\\\":\\\"ECE Elective\\\",\\\"id\\\":32,\\\"credits\\\":3},{\\\"curriculum_requisites\\\":[],\\\"name\\\":\\\" \\\",\\\"metrics\\\":{\\\"centrality\\\":0,\\\"complexity\\\":1.0,\\\"blocking factor\\\":0,\\\"delay factor\\\":1.0},\\\"nameSub\\\":\\\"Outside Tech. Elective\\\",\\\"id\\\":33,\\\"credits\\\":3},{\\\"curriculum_requisites\\\":[],\\\"name\\\":\\\" \\\",\\\"metrics\\\":{\\\"centrality\\\":0,\\\"complexity\\\":1.0,\\\"blocking factor\\\":0,\\\"delay factor\\\":1.0},\\\"nameSub\\\":\\\"Liberal Studies\\\",\\\"id\\\":34,\\\"credits\\\":3}],\\\"id\\\":7},{\\\"name\\\":\\\"Term 8\\\",\\\"curriculum_items\\\":[{\\\"curriculum_requisites\\\":[],\\\"name\\\":\\\" \\\",\\\"metrics\\\":{\\\"centrality\\\":0,\\\"complexity\\\":1.0,\\\"blocking factor\\\":0,\\\"delay factor\\\":1.0},\\\"nameSub\\\":\\\"ECE Elective\\\",\\\"id\\\":35,\\\"credits\\\":3},{\\\"curriculum_requisites\\\":[],\\\"name\\\":\\\" \\\",\\\"metrics\\\":{\\\"centrality\\\":0,\\\"complexity\\\":1.0,\\\"blocking factor\\\":0,\\\"delay factor\\\":1.0},\\\"nameSub\\\":\\\"ECE Elective\\\",\\\"id\\\":36,\\\"credits\\\":3},{\\\"curriculum_requisites\\\":[],\\\"name\\\":\\\" \\\",\\\"metrics\\\":{\\\"centrality\\\":0,\\\"complexity\\\":1.0,\\\"blocking factor\\\":0,\\\"delay factor\\\":1.0},\\\"nameSub\\\":\\\"ECE Elective\\\",\\\"id\\\":37,\\\"credits\\\":3},{\\\"curriculum_requisites\\\":[],\\\"name\\\":\\\" \\\",\\\"metrics\\\":{\\\"centrality\\\":0,\\\"complexity\\\":1.0,\\\"blocking factor\\\":0,\\\"delay factor\\\":1.0},\\\"nameSub\\\":\\\"Liberal Studies\\\",\\\"id\\\":38,\\\"credits\\\":3}],\\\"id\\\":8}],\\\"institution\\\":\\\"\\\"}},\\\"*\\\"); window.removeEventListener(\\\"message\\\",window.messageReceived); window.messageReceived=(function (event){return (event.data.curriculum!==undefined) ? (_webIOScope.setObservableValue({\\\"name\\\":\\\"curriculum-data\\\",\\\"scope\\\":\\\"scope-f7b22e2c-a1c5-4513-84dd-ed69bcd8eb66\\\",\\\"id\\\":\\\"ob_01\\\",\\\"type\\\":\\\"observable\\\"},event.data.curriculum)) : undefined}); return window.addEventListener(\\\"message\\\",window.messageReceived)})\"},\"style\":{\"padding\":\"0\",\"height\":\"100vh\",\"margin\":\"0\",\"border\":\"none\",\"width\":\"100%\"}},\"nodeType\":\"DOM\",\"type\":\"node\",\"instanceArgs\":{\"namespace\":\"html\",\"tag\":\"iframe\"},\"children\":[\"\"]}]},\n",
       "        );\n",
       "    } else {\n",
       "        document\n",
       "            .querySelector('[data-webio-mountpoint=\"15759525703369656883\"]')\n",
       "            .innerHTML = '<strong>WebIO not detected.</strong>';\n",
       "    }\n",
       "    </script>\n",
       "</div>\n"
      ],
      "text/plain": [
       "WebIO.Scope(\"scope-f7b22e2c-a1c5-4513-84dd-ed69bcd8eb66\", WebIO.Node{WebIO.DOM}(WebIO.DOM(:html, :iframe), Any[\"\"], Dict{Symbol,Any}(:src=>\"http://localhost:8156\",:id=>\"curriculum\",:events=>Dict(:load=>JSString(\"(function (){this.contentWindow.postMessage({\\\"options\\\":{\\\"hideTerms\\\":false,\\\"edit\\\":true},\\\"curriculum\\\":{\\\"name\\\":\\\"\\\",\\\"dp_name\\\":\\\"\\\",\\\"curriculum_terms\\\":[{\\\"name\\\":\\\"Term 1\\\",\\\"curriculum_items\\\":[{\\\"curriculum_requisites\\\":[],\\\"name\\\":\\\"CHEM 2090\\\",\\\"metrics\\\":{\\\"centrality\\\":0,\\\"complexity\\\":1.0,\\\"blocking factor\\\":0,\\\"delay factor\\\":1.0},\\\"nameSub\\\":\\\"CHEM 2090\\\",\\\"id\\\":1,\\\"credits\\\":3},{\\\"curriculum_requisites\\\":[],\\\"name\\\":\\\"MATH 1910\\\",\\\"metrics\\\":{\\\"centrality\\\":0,\\\"complexity\\\":15.0,\\\"blocking factor\\\":10,\\\"delay factor\\\":5.0},\\\"nameSub\\\":\\\"MATH 1910\\\",\\\"id\\\":2,\\\"credits\\\":3},{\\\"curriculum_requisites\\\":[],\\\"name\\\":\\\"ENGRI 1xxx\\\",\\\"metrics\\\":{\\\"centrality\\\":0,\\\"complexity\\\":1.0,\\\"blocking factor\\\":0,\\\"delay factor\\\":1.0},\\\"nameSub\\\":\\\"ENGRI 1xxx\\\",\\\"id\\\":3,\\\"credits\\\":3},{\\\"curriculum_requisites\\\":[],\\\"name\\\":\\\" \\\",\\\"metrics\\\":{\\\"centrality\\\":0,\\\"complexity\\\":1.0,\\\"blocking factor\\\":0,\\\"delay factor\\\":1.0},\\\"nameSub\\\":\\\"1st Yr Writing Seminar\\\",\\\"id\\\":4,\\\"credits\\\":3},{\\\"curriculum_requisites\\\":[],\\\"name\\\":\\\" \\\",\\\"metrics\\\":{\\\"centrality\\\":0,\\\"complexity\\\":1.0,\\\"blocking factor\\\":0,\\\"delay factor\\\":1.0},\\\"nameSub\\\":\\\"PE\\\",\\\"id\\\":5,\\\"credits\\\":3}],\\\"id\\\":1},{\\\"name\\\":\\\"Term 2\\\",\\\"curriculum_items\\\":[{\\\"curriculum_requisites\\\":[{\\\"source_id\\\":2,\\\"target_id\\\":6,\\\"type\\\":\\\"strict-coreq\\\"}],\\\"name\\\":\\\"PHYS 1112\\\",\\\"metrics\\\":{\\\"centrality\\\":9,\\\"complexity\\\":9.0,\\\"blocking factor\\\":4,\\\"delay factor\\\":5.0},\\\"nameSub\\\":\\\"PHYS 1112\\\",\\\"id\\\":6,\\\"credits\\\":3},{\\\"curriculum_requisites\\\":[{\\\"source_id\\\":2,\\\"target_id\\\":7,\\\"type\\\":\\\"strict-coreq\\\"}],\\\"name\\\":\\\"MATH 1920\\\",\\\"metrics\\\":{\\\"centrality\\\":28,\\\"complexity\\\":12.0,\\\"blocking factor\\\":8,\\\"delay factor\\\":4.0},\\\"nameSub\\\":\\\"MATH 1920\\\",\\\"id\\\":7,\\\"credits\\\":3},{\\\"curriculum_requisites\\\":[],\\\"name\\\":\\\"CS 111x\\\",\\\"metrics\\\":{\\\"centrality\\\":0,\\\"complexity\\\":6.0,\\\"blocking factor\\\":3,\\\"delay factor\\\":3.0},\\\"nameSub\\\":\\\"CS 111x\\\",\\\"id\\\":8,\\\"credits\\\":3},{\\\"curriculum_requisites\\\":[],\\\"name\\\":\\\" \\\",\\\"metrics\\\":{\\\"centrality\\\":0,\\\"complexity\\\":1.0,\\\"blocking factor\\\":0,\\\"delay factor\\\":1.0},\\\"nameSub\\\":\\\"1st Yr Writing Seminar\\\",\\\"id\\\":9,\\\"credits\\\":3},{\\\"curriculum_requisites\\\":[],\\\"name\\\":\\\" \\\",\\\"metrics\\\":{\\\"centrality\\\":0,\\\"complexity\\\":1.0,\\\"blocking factor\\\":0,\\\"delay factor\\\":1.0},\\\"nameSub\\\":\\\"PE\\\",\\\"id\\\":10,\\\"credits\\\":3}],\\\"id\\\":2},{\\\"name\\\":\\\"Term 3\\\",\\\"curriculum_items\\\":[{\\\"curriculum_requisites\\\":[{\\\"source_id\\\":7,\\\"target_id\\\":11,\\\"type\\\":\\\"strict-coreq\\\"},{\\\"source_id\\\":6,\\\"target_id\\\":11,\\\"type\\\":\\\"strict-coreq\\\"}],\\\"name\\\":\\\"PHYS 2213\\\",\\\"metrics\\\":{\\\"centrality\\\":18,\\\"complexity\\\":8.0,\\\"blocking factor\\\":3,\\\"delay factor\\\":5.0},\\\"nameSub\\\":\\\"PHYS 2213\\\",\\\"id\\\":11,\\\"credits\\\":3},{\\\"curriculum_requisites\\\":[{\\\"source_id\\\":7,\\\"target_id\\\":12,\\\"type\\\":\\\"strict-coreq\\\"}],\\\"name\\\":\\\"MATH 2930\\\",\\\"metrics\\\":{\\\"centrality\\\":14,\\\"complexity\\\":8.0,\\\"blocking factor\\\":4,\\\"delay factor\\\":4.0},\\\"nameSub\\\":\\\"MATH 2930\\\",\\\"id\\\":12,\\\"credits\\\":3},{\\\"curriculum_requisites\\\":[{\\\"source_id\\\":11,\\\"target_id\\\":13,\\\"type\\\":\\\"strict-coreq\\\"},{\\\"source_id\\\":12,\\\"target_id\\\":13,\\\"type\\\":\\\"strict-coreq\\\"}],\\\"name\\\":\\\"ECE/ENGRD 2100\\\",\\\"metrics\\\":{\\\"centrality\\\":15,\\\"complexity\\\":6.0,\\\"blocking factor\\\":1,\\\"delay factor\\\":5.0},\\\"nameSub\\\":\\\"ECE/ENGRD 2100\\\",\\\"id\\\":13,\\\"credits\\\":3},{\\\"curriculum_requisites\\\":[{\\\"source_id\\\":8,\\\"target_id\\\":14,\\\"type\\\":\\\"strict-coreq\\\"}],\\\"name\\\":\\\"MECE/ENGRD 2300\\\",\\\"metrics\\\":{\\\"centrality\\\":3,\\\"complexity\\\":4.0,\\\"blocking factor\\\":1,\\\"delay factor\\\":3.0},\\\"nameSub\\\":\\\"MECE/ENGRD 2300\\\",\\\"id\\\":14,\\\"credits\\\":3},{\\\"curriculum_requisites\\\":[],\\\"name\\\":\\\" \\\",\\\"metrics\\\":{\\\"centrality\\\":0,\\\"complexity\\\":1.0,\\\"blocking factor\\\":0,\\\"delay factor\\\":1.0},\\\"nameSub\\\":\\\"Liberal Studies\\\",\\\"id\\\":15,\\\"credits\\\":3}],\\\"id\\\":3},{\\\"name\\\":\\\"Term 4\\\",\\\"curriculum_items\\\":[{\\\"curriculum_requisites\\\":[{\\\"source_id\\\":12,\\\"target_id\\\":16,\\\"type\\\":\\\"strict-coreq\\\"}],\\\"name\\\":\\\"PHYS 2214\\\",\\\"metrics\\\":{\\\"centrality\\\":0,\\\"complexity\\\":4.0,\\\"blocking factor\\\":0,\\\"delay factor\\\":4.0},\\\"nameSub\\\":\\\"PHYS 2214\\\",\\\"id\\\":16,\\\"credits\\\":3},{\\\"curriculum_requisites\\\":[{\\\"source_id\\\":7,\\\"target_id\\\":17,\\\"type\\\":\\\"strict-coreq\\\"}],\\\"name\\\":\\\"MATH 2940\\\",\\\"metrics\\\":{\\\"centrality\\\":5,\\\"complexity\\\":5.0,\\\"blocking factor\\\":2,\\\"delay factor\\\":3.0},\\\"nameSub\\\":\\\"MATH 2940\\\",\\\"id\\\":17,\\\"credits\\\":3},{\\\"curriculum_requisites\\\":[{\\\"source_id\\\":11,\\\"target_id\\\":18,\\\"type\\\":\\\"strict-coreq\\\"}],\\\"name\\\":\\\"ENGRD 2xxx\\\",\\\"metrics\\\":{\\\"centrality\\\":0,\\\"complexity\\\":4.0,\\\"blocking factor\\\":0,\\\"delay factor\\\":4.0},\\\"nameSub\\\":\\\"ENGRD 2xxx\\\",\\\"id\\\":18,\\\"credits\\\":3},{\\\"curriculum_requisites\\\":[{\\\"source_id\\\":17,\\\"target_id\\\":19,\\\"type\\\":\\\"strict-coreq\\\"},{\\\"source_id\\\":12,\\\"target_id\\\":19,\\\"type\\\":\\\"strict-coreq\\\"}],\\\"name\\\":\\\"ECE/ENGRD 2200/2220\\\",\\\"metrics\\\":{\\\"centrality\\\":10,\\\"complexity\\\":5.0,\\\"blocking factor\\\":1,\\\"delay factor\\\":4.0},\\\"nameSub\\\":\\\"ECE 2200/ENGRD 2220\\\",\\\"id\\\":19,\\\"credits\\\":3},{\\\"curriculum_requisites\\\":[],\\\"name\\\":\\\" \\\",\\\"metrics\\\":{\\\"centrality\\\":0,\\\"complexity\\\":1.0,\\\"blocking factor\\\":0,\\\"delay factor\\\":1.0},\\\"nameSub\\\":\\\"Liberal Studies\\\",\\\"id\\\":20,\\\"credits\\\":3}],\\\"id\\\":4},{\\\"name\\\":\\\"Term 5\\\",\\\"curriculum_items\\\":[{\\\"curriculum_requisites\\\":[],\\\"name\\\":\\\" \\\",\\\"metrics\\\":{\\\"centrality\\\":0,\\\"complexity\\\":1.0,\\\"blocking factor\\\":0,\\\"delay factor\\\":1.0},\\\"nameSub\\\":\\\"ECE Foundations\\\",\\\"id\\\":21,\\\"credits\\\":3},{\\\"curriculum_requisites\\\":[],\\\"name\\\":\\\" \\\",\\\"metrics\\\":{\\\"centrality\\\":0,\\\"complexity\\\":1.0,\\\"blocking factor\\\":0,\\\"delay factor\\\":1.0},\\\"nameSub\\\":\\\"Elective\\\",\\\"id\\\":22,\\\"credits\\\":3},{\\\"curriculum_requisites\\\":[{\\\"source_id\\\":8,\\\"target_id\\\":23,\\\"type\\\":\\\"strict-coreq\\\"}],\\\"name\\\":\\\" \\\",\\\"metrics\\\":{\\\"centrality\\\":0,\\\"complexity\\\":2.0,\\\"blocking factor\\\":0,\\\"delay factor\\\":2.0},\\\"nameSub\\\":\\\"Outside Tech. Elective\\\",\\\"id\\\":23,\\\"credits\\\":3},{\\\"curriculum_requisites\\\":[{\\\"source_id\\\":13,\\\"target_id\\\":24,\\\"type\\\":\\\"strict-coreq\\\"},{\\\"source_id\\\":14,\\\"target_id\\\":24,\\\"type\\\":\\\"strict-coreq\\\"},{\\\"source_id\\\":19,\\\"target_id\\\":24,\\\"type\\\":\\\"strict-coreq\\\"}],\\\"name\\\":\\\"ECE 3400\\\",\\\"metrics\\\":{\\\"centrality\\\":0,\\\"complexity\\\":5.0,\\\"blocking factor\\\":0,\\\"delay factor\\\":5.0},\\\"nameSub\\\":\\\"ECE 3400\\\",\\\"id\\\":24,\\\"credits\\\":3},{\\\"curriculum_requisites\\\":[],\\\"name\\\":\\\" \\\",\\\"metrics\\\":{\\\"centrality\\\":0,\\\"complexity\\\":1.0,\\\"blocking factor\\\":0,\\\"delay factor\\\":1.0},\\\"nameSub\\\":\\\"Liberal Studies\\\",\\\"id\\\":25,\\\"credits\\\":3}],\\\"id\\\":5},{\\\"name\\\":\\\"Term 6\\\",\\\"curriculum_items\\\":[{\\\"curriculum_requisites\\\":[],\\\"name\\\":\\\" \\\",\\\"metrics\\\":{\\\"centrality\\\":0,\\\"complexity\\\":1.0,\\\"blocking factor\\\":0,\\\"delay factor\\\":1.0},\\\"nameSub\\\":\\\"ECE Foundations\\\",\\\"id\\\":26,\\\"credits\\\":3},{\\\"curriculum_requisites\\\":[],\\\"name\\\":\\\" \\\",\\\"metrics\\\":{\\\"centrality\\\":0,\\\"complexity\\\":1.0,\\\"blocking factor\\\":0,\\\"delay factor\\\":1.0},\\\"nameSub\\\":\\\"ECE Foundations\\\",\\\"id\\\":27,\\\"credits\\\":3},{\\\"curriculum_requisites\\\":[],\\\"name\\\":\\\" \\\",\\\"metrics\\\":{\\\"centrality\\\":0,\\\"complexity\\\":1.0,\\\"blocking factor\\\":0,\\\"delay factor\\\":1.0},\\\"nameSub\\\":\\\"Outside Tech. Elective\\\",\\\"id\\\":28,\\\"credits\\\":3},{\\\"curriculum_requisites\\\":[],\\\"name\\\":\\\" \\\",\\\"metrics\\\":{\\\"centrality\\\":0,\\\"complexity\\\":1.0,\\\"blocking factor\\\":0,\\\"delay factor\\\":1.0},\\\"nameSub\\\":\\\"Elective\\\",\\\"id\\\":29,\\\"credits\\\":3},{\\\"curriculum_requisites\\\":[],\\\"name\\\":\\\" \\\",\\\"metrics\\\":{\\\"centrality\\\":0,\\\"complexity\\\":1.0,\\\"blocking factor\\\":0,\\\"delay factor\\\":1.0},\\\"nameSub\\\":\\\"Liberal Studies\\\",\\\"id\\\":30,\\\"credits\\\":3}],\\\"id\\\":6},{\\\"name\\\":\\\"Term 7\\\",\\\"curriculum_items\\\":[{\\\"curriculum_requisites\\\":[],\\\"name\\\":\\\" \\\",\\\"metrics\\\":{\\\"centrality\\\":0,\\\"complexity\\\":1.0,\\\"blocking factor\\\":0,\\\"delay factor\\\":1.0},\\\"nameSub\\\":\\\"ECE Elective \\\",\\\"id\\\":31,\\\"credits\\\":3},{\\\"curriculum_requisites\\\":[],\\\"name\\\":\\\" \\\",\\\"metrics\\\":{\\\"centrality\\\":0,\\\"complexity\\\":1.0,\\\"blocking factor\\\":0,\\\"delay factor\\\":1.0},\\\"nameSub\\\":\\\"ECE Elective\\\",\\\"id\\\":32,\\\"credits\\\":3},{\\\"curriculum_requisites\\\":[],\\\"name\\\":\\\" \\\",\\\"metrics\\\":{\\\"centrality\\\":0,\\\"complexity\\\":1.0,\\\"blocking factor\\\":0,\\\"delay factor\\\":1.0},\\\"nameSub\\\":\\\"Outside Tech. Elective\\\",\\\"id\\\":33,\\\"credits\\\":3},{\\\"curriculum_requisites\\\":[],\\\"name\\\":\\\" \\\",\\\"metrics\\\":{\\\"centrality\\\":0,\\\"complexity\\\":1.0,\\\"blocking factor\\\":0,\\\"delay factor\\\":1.0},\\\"nameSub\\\":\\\"Liberal Studies\\\",\\\"id\\\":34,\\\"credits\\\":3}],\\\"id\\\":7},{\\\"name\\\":\\\"Term 8\\\",\\\"curriculum_items\\\":[{\\\"curriculum_requisites\\\":[],\\\"name\\\":\\\" \\\",\\\"metrics\\\":{\\\"centrality\\\":0,\\\"complexity\\\":1.0,\\\"blocking factor\\\":0,\\\"delay factor\\\":1.0},\\\"nameSub\\\":\\\"ECE Elective\\\",\\\"id\\\":35,\\\"credits\\\":3},{\\\"curriculum_requisites\\\":[],\\\"name\\\":\\\" \\\",\\\"metrics\\\":{\\\"centrality\\\":0,\\\"complexity\\\":1.0,\\\"blocking factor\\\":0,\\\"delay factor\\\":1.0},\\\"nameSub\\\":\\\"ECE Elective\\\",\\\"id\\\":36,\\\"credits\\\":3},{\\\"curriculum_requisites\\\":[],\\\"name\\\":\\\" \\\",\\\"metrics\\\":{\\\"centrality\\\":0,\\\"complexity\\\":1.0,\\\"blocking factor\\\":0,\\\"delay factor\\\":1.0},\\\"nameSub\\\":\\\"ECE Elective\\\",\\\"id\\\":37,\\\"credits\\\":3},{\\\"curriculum_requisites\\\":[],\\\"name\\\":\\\" \\\",\\\"metrics\\\":{\\\"centrality\\\":0,\\\"complexity\\\":1.0,\\\"blocking factor\\\":0,\\\"delay factor\\\":1.0},\\\"nameSub\\\":\\\"Liberal Studies\\\",\\\"id\\\":38,\\\"credits\\\":3}],\\\"id\\\":8}],\\\"institution\\\":\\\"\\\"}},\\\"*\\\"); window.removeEventListener(\\\"message\\\",window.messageReceived); window.messageReceived=(function (event){return (event.data.curriculum!==undefined) ? (_webIOScope.setObservableValue({\\\"name\\\":\\\"curriculum-data\\\",\\\"scope\\\":\\\"scope-f7b22e2c-a1c5-4513-84dd-ed69bcd8eb66\\\",\\\"id\\\":\\\"ob_01\\\",\\\"type\\\":\\\"observable\\\"},event.data.curriculum)) : undefined}); return window.addEventListener(\\\"message\\\",window.messageReceived)})\")),:style=>Dict(:padding=>\"0\",:height=>\"100vh\",:margin=>\"0\",:border=>\"none\",:width=>\"100%\")), 1), Dict{String,Tuple{Observables.AbstractObservable,Union{Nothing, Bool}}}(\"curriculum-data\"=>(Observable{Dict{String,Any}} with 1 listeners. Value:\n",
       "Dict{String,Any}(\"options\"=>Dict{String,Any}(\"hideTerms\"=>false,\"edit\"=>true),\"curriculum\"=>Dict{String,Any}(\"name\"=>\"\",\"dp_name\"=>\"\",\"curriculum_terms\"=>Dict{String,Any}[Dict(\"name\"=>\"Term 1\",\"curriculum_items\"=>Dict{String,Any}[Dict(\"curriculum_requisites\"=>Dict{String,Any}[],\"name\"=>\"CHEM 2090\",\"metrics\"=>Dict{String,Any}(\"centrality\"=>0,\"complexity\"=>1.0,\"blocking factor\"=>0,\"delay factor\"=>1.0),\"nameSub\"=>\"CHEM 2090\",\"id\"=>1,\"credits\"=>3), Dict(\"curriculum_requisites\"=>Dict{String,Any}[],\"name\"=>\"MATH 1910\",\"metrics\"=>Dict{String,Any}(\"centrality\"=>0,\"complexity\"=>15.0,\"blocking factor\"=>10,\"delay factor\"=>5.0),\"nameSub\"=>\"MATH 1910\",\"id\"=>2,\"credits\"=>3), Dict(\"curriculum_requisites\"=>Dict{String,Any}[],\"name\"=>\"ENGRI 1xxx\",\"metrics\"=>Dict{String,Any}(\"centrality\"=>0,\"complexity\"=>1.0,\"blocking factor\"=>0,\"delay factor\"=>1.0),\"nameSub\"=>\"ENGRI 1xxx\",\"id\"=>3,\"credits\"=>3), Dict(\"curriculum_requisites\"=>Dict{String,Any}[],\"name\"=>\" \",\"metrics\"=>Dict{String,Any}(\"centrality\"=>0,\"complexity\"=>1.0,\"blocking factor\"=>0,\"delay factor\"=>1.0),\"nameSub\"=>\"1st Yr Writing Seminar\",\"id\"=>4,\"credits\"=>3), Dict(\"curriculum_requisites\"=>Dict{String,Any}[],\"name\"=>\" \",\"metrics\"=>Dict{String,Any}(\"centrality\"=>0,\"complexity\"=>1.0,\"blocking factor\"=>0,\"delay factor\"=>1.0),\"nameSub\"=>\"PE\",\"id\"=>5,\"credits\"=>3)],\"id\"=>1), Dict(\"name\"=>\"Term 2\",\"curriculum_items\"=>Dict{String,Any}[Dict(\"curriculum_requisites\"=>Dict{String,Any}[Dict(\"source_id\"=>2,\"target_id\"=>6,\"type\"=>\"strict-coreq\")],\"name\"=>\"PHYS 1112\",\"metrics\"=>Dict{String,Any}(\"centrality\"=>9,\"complexity\"=>9.0,\"blocking factor\"=>4,\"delay factor\"=>5.0),\"nameSub\"=>\"PHYS 1112\",\"id\"=>6,\"credits\"=>3), Dict(\"curriculum_requisites\"=>Dict{String,Any}[Dict(\"source_id\"=>2,\"target_id\"=>7,\"type\"=>\"strict-coreq\")],\"name\"=>\"MATH 1920\",\"metrics\"=>Dict{String,Any}(\"centrality\"=>28,\"complexity\"=>12.0,\"blocking factor\"=>8,\"delay factor\"=>4.0),\"nameSub\"=>\"MATH 1920\",\"id\"=>7,\"credits\"=>3), Dict(\"curriculum_requisites\"=>Dict{String,Any}[],\"name\"=>\"CS 111x\",\"metrics\"=>Dict{String,Any}(\"centrality\"=>0,\"complexity\"=>6.0,\"blocking factor\"=>3,\"delay factor\"=>3.0),\"nameSub\"=>\"CS 111x\",\"id\"=>8,\"credits\"=>3), Dict(\"curriculum_requisites\"=>Dict{String,Any}[],\"name\"=>\" \",\"metrics\"=>Dict{String,Any}(\"centrality\"=>0,\"complexity\"=>1.0,\"blocking factor\"=>0,\"delay factor\"=>1.0),\"nameSub\"=>\"1st Yr Writing Seminar\",\"id\"=>9,\"credits\"=>3), Dict(\"curriculum_requisites\"=>Dict{String,Any}[],\"name\"=>\" \",\"metrics\"=>Dict{String,Any}(\"centrality\"=>0,\"complexity\"=>1.0,\"blocking factor\"=>0,\"delay factor\"=>1.0),\"nameSub\"=>\"PE\",\"id\"=>10,\"credits\"=>3)],\"id\"=>2), Dict(\"name\"=>\"Term 3\",\"curriculum_items\"=>Dict{String,Any}[Dict(\"curriculum_requisites\"=>Dict{String,Any}[Dict(\"source_id\"=>7,\"target_id\"=>11,\"type\"=>\"strict-coreq\"), Dict(\"source_id\"=>6,\"target_id\"=>11,\"type\"=>\"strict-coreq\")],\"name\"=>\"PHYS 2213\",\"metrics\"=>Dict{String,Any}(\"centrality\"=>18,\"complexity\"=>8.0,\"blocking factor\"=>3,\"delay factor\"=>5.0),\"nameSub\"=>\"PHYS 2213\",\"id\"=>11,\"credits\"=>3), Dict(\"curriculum_requisites\"=>Dict{String,Any}[Dict(\"source_id\"=>7,\"target_id\"=>12,\"type\"=>\"strict-coreq\")],\"name\"=>\"MATH 2930\",\"metrics\"=>Dict{String,Any}(\"centrality\"=>14,\"complexity\"=>8.0,\"blocking factor\"=>4,\"delay factor\"=>4.0),\"nameSub\"=>\"MATH 2930\",\"id\"=>12,\"credits\"=>3), Dict(\"curriculum_requisites\"=>Dict{String,Any}[Dict(\"source_id\"=>11,\"target_id\"=>13,\"type\"=>\"strict-coreq\"), Dict(\"source_id\"=>12,\"target_id\"=>13,\"type\"=>\"strict-coreq\")],\"name\"=>\"ECE/ENGRD 2100\",\"metrics\"=>Dict{String,Any}(\"centrality\"=>15,\"complexity\"=>6.0,\"blocking factor\"=>1,\"delay factor\"=>5.0),\"nameSub\"=>\"ECE/ENGRD 2100\",\"id\"=>13,\"credits\"=>3), Dict(\"curriculum_requisites\"=>Dict{String,Any}[Dict(\"source_id\"=>8,\"target_id\"=>14,\"type\"=>\"strict-coreq\")],\"name\"=>\"MECE/ENGRD 2300\",\"metrics\"=>Dict{String,Any}(\"centrality\"=>3,\"complexity\"=>4.0,\"blocking factor\"=>1,\"delay factor\"=>3.0),\"nameSub\"=>\"MECE/ENGRD 2300\",\"id\"=>14,\"credits\"=>3), Dict(\"curriculum_requisites\"=>Dict{String,Any}[],\"name\"=>\" \",\"metrics\"=>Dict{String,Any}(\"centrality\"=>0,\"complexity\"=>1.0,\"blocking factor\"=>0,\"delay factor\"=>1.0),\"nameSub\"=>\"Liberal Studies\",\"id\"=>15,\"credits\"=>3)],\"id\"=>3), Dict(\"name\"=>\"Term 4\",\"curriculum_items\"=>Dict{String,Any}[Dict(\"curriculum_requisites\"=>Dict{String,Any}[Dict(\"source_id\"=>12,\"target_id\"=>16,\"type\"=>\"strict-coreq\")],\"name\"=>\"PHYS 2214\",\"metrics\"=>Dict{String,Any}(\"centrality\"=>0,\"complexity\"=>4.0,\"blocking factor\"=>0,\"delay factor\"=>4.0),\"nameSub\"=>\"PHYS 2214\",\"id\"=>16,\"credits\"=>3), Dict(\"curriculum_requisites\"=>Dict{String,Any}[Dict(\"source_id\"=>7,\"target_id\"=>17,\"type\"=>\"strict-coreq\")],\"name\"=>\"MATH 2940\",\"metrics\"=>Dict{String,Any}(\"centrality\"=>5,\"complexity\"=>5.0,\"blocking factor\"=>2,\"delay factor\"=>3.0),\"nameSub\"=>\"MATH 2940\",\"id\"=>17,\"credits\"=>3), Dict(\"curriculum_requisites\"=>Dict{String,Any}[Dict(\"source_id\"=>11,\"target_id\"=>18,\"type\"=>\"strict-coreq\")],\"name\"=>\"ENGRD 2xxx\",\"metrics\"=>Dict{String,Any}(\"centrality\"=>0,\"complexity\"=>4.0,\"blocking factor\"=>0,\"delay factor\"=>4.0),\"nameSub\"=>\"ENGRD 2xxx\",\"id\"=>18,\"credits\"=>3), Dict(\"curriculum_requisites\"=>Dict{String,Any}[Dict(\"source_id\"=>17,\"target_id\"=>19,\"type\"=>\"strict-coreq\"), Dict(\"source_id\"=>12,\"target_id\"=>19,\"type\"=>\"strict-coreq\")],\"name\"=>\"ECE/ENGRD 2200/2220\",\"metrics\"=>Dict{String,Any}(\"centrality\"=>10,\"complexity\"=>5.0,\"blocking factor\"=>1,\"delay factor\"=>4.0),\"nameSub\"=>\"ECE 2200/ENGRD 2220\",\"id\"=>19,\"credits\"=>3), Dict(\"curriculum_requisites\"=>Dict{String,Any}[],\"name\"=>\" \",\"metrics\"=>Dict{String,Any}(\"centrality\"=>0,\"complexity\"=>1.0,\"blocking factor\"=>0,\"delay factor\"=>1.0),\"nameSub\"=>\"Liberal Studies\",\"id\"=>20,\"credits\"=>3)],\"id\"=>4), Dict(\"name\"=>\"Term 5\",\"curriculum_items\"=>Dict{String,Any}[Dict(\"curriculum_requisites\"=>Dict{String,Any}[],\"name\"=>\" \",\"metrics\"=>Dict{String,Any}(\"centrality\"=>0,\"complexity\"=>1.0,\"blocking factor\"=>0,\"delay factor\"=>1.0),\"nameSub\"=>\"ECE Foundations\",\"id\"=>21,\"credits\"=>3), Dict(\"curriculum_requisites\"=>Dict{String,Any}[],\"name\"=>\" \",\"metrics\"=>Dict{String,Any}(\"centrality\"=>0,\"complexity\"=>1.0,\"blocking factor\"=>0,\"delay factor\"=>1.0),\"nameSub\"=>\"Elective\",\"id\"=>22,\"credits\"=>3), Dict(\"curriculum_requisites\"=>Dict{String,Any}[Dict(\"source_id\"=>8,\"target_id\"=>23,\"type\"=>\"strict-coreq\")],\"name\"=>\" \",\"metrics\"=>Dict{String,Any}(\"centrality\"=>0,\"complexity\"=>2.0,\"blocking factor\"=>0,\"delay factor\"=>2.0),\"nameSub\"=>\"Outside Tech. Elective\",\"id\"=>23,\"credits\"=>3), Dict(\"curriculum_requisites\"=>Dict{String,Any}[Dict(\"source_id\"=>13,\"target_id\"=>24,\"type\"=>\"strict-coreq\"), Dict(\"source_id\"=>14,\"target_id\"=>24,\"type\"=>\"strict-coreq\"), Dict(\"source_id\"=>19,\"target_id\"=>24,\"type\"=>\"strict-coreq\")],\"name\"=>\"ECE 3400\",\"metrics\"=>Dict{String,Any}(\"centrality\"=>0,\"complexity\"=>5.0,\"blocking factor\"=>0,\"delay factor\"=>5.0),\"nameSub\"=>\"ECE 3400\",\"id\"=>24,\"credits\"=>3), Dict(\"curriculum_requisites\"=>Dict{String,Any}[],\"name\"=>\" \",\"metrics\"=>Dict{String,Any}(\"centrality\"=>0,\"complexity\"=>1.0,\"blocking factor\"=>0,\"delay factor\"=>1.0),\"nameSub\"=>\"Liberal Studies\",\"id\"=>25,\"credits\"=>3)],\"id\"=>5), Dict(\"name\"=>\"Term 6\",\"curriculum_items\"=>Dict{String,Any}[Dict(\"curriculum_requisites\"=>Dict{String,Any}[],\"name\"=>\" \",\"metrics\"=>Dict{String,Any}(\"centrality\"=>0,\"complexity\"=>1.0,\"blocking factor\"=>0,\"delay factor\"=>1.0),\"nameSub\"=>\"ECE Foundations\",\"id\"=>26,\"credits\"=>3), Dict(\"curriculum_requisites\"=>Dict{String,Any}[],\"name\"=>\" \",\"metrics\"=>Dict{String,Any}(\"centrality\"=>0,\"complexity\"=>1.0,\"blocking factor\"=>0,\"delay factor\"=>1.0),\"nameSub\"=>\"ECE Foundations\",\"id\"=>27,\"credits\"=>3), Dict(\"curriculum_requisites\"=>Dict{String,Any}[],\"name\"=>\" \",\"metrics\"=>Dict{String,Any}(\"centrality\"=>0,\"complexity\"=>1.0,\"blocking factor\"=>0,\"delay factor\"=>1.0),\"nameSub\"=>\"Outside Tech. Elective\",\"id\"=>28,\"credits\"=>3), Dict(\"curriculum_requisites\"=>Dict{String,Any}[],\"name\"=>\" \",\"metrics\"=>Dict{String,Any}(\"centrality\"=>0,\"complexity\"=>1.0,\"blocking factor\"=>0,\"delay factor\"=>1.0),\"nameSub\"=>\"Elective\",\"id\"=>29,\"credits\"=>3), Dict(\"curriculum_requisites\"=>Dict{String,Any}[],\"name\"=>\" \",\"metrics\"=>Dict{String,Any}(\"centrality\"=>0,\"complexity\"=>1.0,\"blocking factor\"=>0,\"delay factor\"=>1.0),\"nameSub\"=>\"Liberal Studies\",\"id\"=>30,\"credits\"=>3)],\"id\"=>6), Dict(\"name\"=>\"Term 7\",\"curriculum_items\"=>Dict{String,Any}[Dict(\"curriculum_requisites\"=>Dict{String,Any}[],\"name\"=>\" \",\"metrics\"=>Dict{String,Any}(\"centrality\"=>0,\"complexity\"=>1.0,\"blocking factor\"=>0,\"delay factor\"=>1.0),\"nameSub\"=>\"ECE Elective \",\"id\"=>31,\"credits\"=>3), Dict(\"curriculum_requisites\"=>Dict{String,Any}[],\"name\"=>\" \",\"metrics\"=>Dict{String,Any}(\"centrality\"=>0,\"complexity\"=>1.0,\"blocking factor\"=>0,\"delay factor\"=>1.0),\"nameSub\"=>\"ECE Elective\",\"id\"=>32,\"credits\"=>3), Dict(\"curriculum_requisites\"=>Dict{String,Any}[],\"name\"=>\" \",\"metrics\"=>Dict{String,Any}(\"centrality\"=>0,\"complexity\"=>1.0,\"blocking factor\"=>0,\"delay factor\"=>1.0),\"nameSub\"=>\"Outside Tech. Elective\",\"id\"=>33,\"credits\"=>3), Dict(\"curriculum_requisites\"=>Dict{String,Any}[],\"name\"=>\" \",\"metrics\"=>Dict{String,Any}(\"centrality\"=>0,\"complexity\"=>1.0,\"blocking factor\"=>0,\"delay factor\"=>1.0),\"nameSub\"=>\"Liberal Studies\",\"id\"=>34,\"credits\"=>3)],\"id\"=>7), Dict(\"name\"=>\"Term 8\",\"curriculum_items\"=>Dict{String,Any}[Dict(\"curriculum_requisites\"=>Dict{String,Any}[],\"name\"=>\" \",\"metrics\"=>Dict{String,Any}(\"centrality\"=>0,\"complexity\"=>1.0,\"blocking factor\"=>0,\"delay factor\"=>1.0),\"nameSub\"=>\"ECE Elective\",\"id\"=>35,\"credits\"=>3), Dict(\"curriculum_requisites\"=>Dict{String,Any}[],\"name\"=>\" \",\"metrics\"=>Dict{String,Any}(\"centrality\"=>0,\"complexity\"=>1.0,\"blocking factor\"=>0,\"delay factor\"=>1.0),\"nameSub\"=>\"ECE Elective\",\"id\"=>36,\"credits\"=>3), Dict(\"curriculum_requisites\"=>Dict{String,Any}[],\"name\"=>\" \",\"metrics\"=>Dict{String,Any}(\"centrality\"=>0,\"complexity\"=>1.0,\"blocking factor\"=>0,\"delay factor\"=>1.0),\"nameSub\"=>\"ECE Elective\",\"id\"=>37,\"credits\"=>3), Dict(\"curriculum_requisites\"=>Dict{String,Any}[],\"name\"=>\" \",\"metrics\"=>Dict{String,Any}(\"centrality\"=>0,\"complexity\"=>1.0,\"blocking factor\"=>0,\"delay factor\"=>1.0),\"nameSub\"=>\"Liberal Studies\",\"id\"=>38,\"credits\"=>3)],\"id\"=>8)],\"institution\"=>\"\")), nothing)), Set(String[]), nothing, Any[], Dict{Any,Any}(), WebIO.ConnectionPool(Channel{Any}(sz_max:9223372036854775807,sz_curr:0), Set(WebIO.AbstractConnection[]), Channel{WebIO.AbstractConnection}(sz_max:32,sz_curr:0)))"
      ]
     },
     "execution_count": 2,
     "metadata": {
      "application/vnd.webio.node+json": {
       "kernelId": "a4b0d7ae-75b5-437e-82b7-56b9b831a235"
      }
     },
     "output_type": "execute_result"
    }
   ],
   "source": [
    "#This cell shows does not use Blink, so the output will will be shown in Jupyter with visualize_jupyter function\n",
    "\n",
    "#Activate CurricularAnalytics package and add it\n",
    "if split(pwd(),Base.Filesystem.path_separator)[end] != \"CurricularAnalytics.jl\"\n",
    "    cd(\"../..\")\n",
    "end\n",
    "println(\"Current directory: \" * split(pwd(),Base.Filesystem.path_separator)[end])\n",
    "using Pkg\n",
    "pkg\"activate .\"\n",
    "using CurricularAnalytics\n",
    "\n",
    "#read Classes from csv file and dump as .json\n",
    "csv_to_json(\"examples/CornellECECources.csv\", \"recent-visualization.json\")\n",
    "#Load classes from .json file created\n",
    "dp = read_degree_plan(\"recent-visualization.json\")\n",
    "curric = dp.curriculum\n",
    "\n",
    "errors = IOBuffer()\n",
    "if isvalid_curriculum(curric, errors)\n",
    "    println(\"Curriculum $(curric.name) is valid\")\n",
    "    println(\"  delay factor = $(delay_factor(curric))\")\n",
    "    println(\"  blocking factor = $(blocking_factor(curric))\")\n",
    "    println(\"  centrality factor = $(centrality(curric))\")\n",
    "    println(\"  curricular complexity = $(complexity(curric))\")\n",
    "    take!(errors) # clear the IO buffer\n",
    "    if isvalid_degree_plan(dp, errors)\n",
    "        println(\"Degree plan $(dp.name) is valid\")\n",
    "    else\n",
    "        println(\"Degree plan $(dp.name) is not valid:\")\n",
    "        print(String(take!(errors)))\n",
    "        println(\"\\nDiplaying degree plan for debugging purposes...\")\n",
    "    end\n",
    "    #visualize(dp)\n",
    "    visualize(dp; notebook=true, edit=true)\n",
    "else # invalid curriculum\n",
    "    println(\"Curriculum $(curric.name) is not valid:\")\n",
    "    print(String(take!(errors)))\n",
    "end"
   ]
  },
  {
   "cell_type": "code",
   "execution_count": 3,
   "metadata": {},
   "outputs": [
    {
     "name": "stdout",
     "output_type": "stream",
     "text": [
      "Current directory: CurricularAnalytics.jl\n"
     ]
    },
    {
     "name": "stderr",
     "output_type": "stream",
     "text": [
      "┌ Info: Accept (0):  🔗    0↑     0↓    1s 127.0.0.1:8156:8156 ≣16\n",
      "└ @ HTTP.Servers C:\\Users\\orhan\\.julia\\packages\\HTTP\\YjRCz\\src\\Servers.jl:343\n",
      "┌ Info: Accept (1):  🔗    0↑     0↓    1s 127.0.0.1:8156:8156 ≣16\n",
      "└ @ HTTP.Servers C:\\Users\\orhan\\.julia\\packages\\HTTP\\YjRCz\\src\\Servers.jl:343\n"
     ]
    },
    {
     "name": "stdout",
     "output_type": "stream",
     "text": [
      "Curriculum  is valid\n",
      "  delay factor = (80.0, [1.0, 5.0, 1.0, 1.0, 1.0, 5.0, 4.0, 3.0, 1.0, 1.0, 5.0, 4.0, 5.0, 3.0, 1.0, 4.0, 3.0, 4.0, 4.0, 1.0, 1.0, 1.0, 2.0, 5.0, 1.0, 1.0, 1.0, 1.0, 1.0, 1.0, 1.0, 1.0, 1.0, 1.0, 1.0, 1.0, 1.0, 1.0])\n",
      "  blocking factor = (37, [0, 10, 0, 0, 0, 4, 8, 3, 0, 0, 3, 4, 1, 1, 0, 0, 2, 0, 1, 0, 0, 0, 0, 0, 0, 0, 0, 0, 0, 0, 0, 0, 0, 0, 0, 0, 0, 0])\n",
      "  centrality factor = (102, [0, 0, 0, 0, 0, 9, 28, 0, 0, 0, 18, 14, 15, 3, 0, 0, 5, 0, 10, 0, 0, 0, 0, 0, 0, 0, 0, 0, 0, 0, 0, 0, 0, 0, 0, 0, 0, 0])\n",
      "  curricular complexity = (117.0, Number[1.0, 15.0, 1.0, 1.0, 1.0, 9.0, 12.0, 6.0, 1.0, 1.0, 8.0, 8.0, 6.0, 4.0, 1.0, 4.0, 5.0, 4.0, 5.0, 1.0, 1.0, 1.0, 2.0, 5.0, 1.0, 1.0, 1.0, 1.0, 1.0, 1.0, 1.0, 1.0, 1.0, 1.0, 1.0, 1.0, 1.0, 1.0])"
     ]
    },
    {
     "name": "stderr",
     "output_type": "stream",
     "text": [
      "┌ Info: Closed (0):  💀    0↑     0↓🔒   1s 127.0.0.1:8156:8156 ≣16\n",
      "└ @ HTTP.Servers C:\\Users\\orhan\\.julia\\packages\\HTTP\\YjRCz\\src\\Servers.jl:351\n"
     ]
    },
    {
     "name": "stdout",
     "output_type": "stream",
     "text": [
      "\n",
      "Degree plan  is valid\n"
     ]
    },
    {
     "name": "stderr",
     "output_type": "stream",
     "text": [
      "┌ Info: Accept (2):  🔗    0↑     0↓    0s 127.0.0.1:8156:8156 ≣16\n",
      "└ @ HTTP.Servers C:\\Users\\orhan\\.julia\\packages\\HTTP\\YjRCz\\src\\Servers.jl:343\n",
      "┌ Info: Accept (3):  🔗    0↑     0↓    0s 127.0.0.1:8156:8156 ≣16\n",
      "└ @ HTTP.Servers C:\\Users\\orhan\\.julia\\packages\\HTTP\\YjRCz\\src\\Servers.jl:343\n",
      "┌ Info: Accept (4):  🔗    0↑     0↓    0s 127.0.0.1:8156:8156 ≣16\n",
      "└ @ HTTP.Servers C:\\Users\\orhan\\.julia\\packages\\HTTP\\YjRCz\\src\\Servers.jl:343\n",
      "┌ Info: Accept (5):  🔗    0↑     0↓    0s 127.0.0.1:8156:8156 ≣16\n",
      "└ @ HTTP.Servers C:\\Users\\orhan\\.julia\\packages\\HTTP\\YjRCz\\src\\Servers.jl:343\n"
     ]
    },
    {
     "data": {
      "application/vnd.webio.node+json": {
       "children": [
        {
         "children": [
          ""
         ],
         "instanceArgs": {
          "namespace": "html",
          "tag": "iframe"
         },
         "nodeType": "DOM",
         "props": {
          "events": {
           "load": "(function (){this.contentWindow.postMessage({\"options\":{\"hideTerms\":false,\"edit\":false},\"curriculum\":{\"name\":\"\",\"dp_name\":\"\",\"curriculum_terms\":[{\"name\":\"Term 1\",\"curriculum_items\":[{\"curriculum_requisites\":[],\"name\":\"CHEM 2090\",\"metrics\":{\"centrality\":0,\"complexity\":1.0,\"blocking factor\":0,\"delay factor\":1.0},\"nameSub\":\"CHEM 2090\",\"id\":1,\"credits\":3},{\"curriculum_requisites\":[],\"name\":\"MATH 1910\",\"metrics\":{\"centrality\":0,\"complexity\":15.0,\"blocking factor\":10,\"delay factor\":5.0},\"nameSub\":\"MATH 1910\",\"id\":2,\"credits\":3},{\"curriculum_requisites\":[],\"name\":\"ENGRI 1xxx\",\"metrics\":{\"centrality\":0,\"complexity\":1.0,\"blocking factor\":0,\"delay factor\":1.0},\"nameSub\":\"ENGRI 1xxx\",\"id\":3,\"credits\":3},{\"curriculum_requisites\":[],\"name\":\" \",\"metrics\":{\"centrality\":0,\"complexity\":1.0,\"blocking factor\":0,\"delay factor\":1.0},\"nameSub\":\"1st Yr Writing Seminar\",\"id\":4,\"credits\":3},{\"curriculum_requisites\":[],\"name\":\" \",\"metrics\":{\"centrality\":0,\"complexity\":1.0,\"blocking factor\":0,\"delay factor\":1.0},\"nameSub\":\"PE\",\"id\":5,\"credits\":3}],\"id\":1},{\"name\":\"Term 2\",\"curriculum_items\":[{\"curriculum_requisites\":[{\"source_id\":2,\"target_id\":6,\"type\":\"strict-coreq\"}],\"name\":\"PHYS 1112\",\"metrics\":{\"centrality\":9,\"complexity\":9.0,\"blocking factor\":4,\"delay factor\":5.0},\"nameSub\":\"PHYS 1112\",\"id\":6,\"credits\":3},{\"curriculum_requisites\":[{\"source_id\":2,\"target_id\":7,\"type\":\"strict-coreq\"}],\"name\":\"MATH 1920\",\"metrics\":{\"centrality\":28,\"complexity\":12.0,\"blocking factor\":8,\"delay factor\":4.0},\"nameSub\":\"MATH 1920\",\"id\":7,\"credits\":3},{\"curriculum_requisites\":[],\"name\":\"CS 111x\",\"metrics\":{\"centrality\":0,\"complexity\":6.0,\"blocking factor\":3,\"delay factor\":3.0},\"nameSub\":\"CS 111x\",\"id\":8,\"credits\":3},{\"curriculum_requisites\":[],\"name\":\" \",\"metrics\":{\"centrality\":0,\"complexity\":1.0,\"blocking factor\":0,\"delay factor\":1.0},\"nameSub\":\"1st Yr Writing Seminar\",\"id\":9,\"credits\":3},{\"curriculum_requisites\":[],\"name\":\" \",\"metrics\":{\"centrality\":0,\"complexity\":1.0,\"blocking factor\":0,\"delay factor\":1.0},\"nameSub\":\"PE\",\"id\":10,\"credits\":3}],\"id\":2},{\"name\":\"Term 3\",\"curriculum_items\":[{\"curriculum_requisites\":[{\"source_id\":7,\"target_id\":11,\"type\":\"strict-coreq\"},{\"source_id\":6,\"target_id\":11,\"type\":\"strict-coreq\"}],\"name\":\"PHYS 2213\",\"metrics\":{\"centrality\":18,\"complexity\":8.0,\"blocking factor\":3,\"delay factor\":5.0},\"nameSub\":\"PHYS 2213\",\"id\":11,\"credits\":3},{\"curriculum_requisites\":[{\"source_id\":7,\"target_id\":12,\"type\":\"strict-coreq\"}],\"name\":\"MATH 2930\",\"metrics\":{\"centrality\":14,\"complexity\":8.0,\"blocking factor\":4,\"delay factor\":4.0},\"nameSub\":\"MATH 2930\",\"id\":12,\"credits\":3},{\"curriculum_requisites\":[{\"source_id\":11,\"target_id\":13,\"type\":\"strict-coreq\"},{\"source_id\":12,\"target_id\":13,\"type\":\"strict-coreq\"}],\"name\":\"ECE/ENGRD 2100\",\"metrics\":{\"centrality\":15,\"complexity\":6.0,\"blocking factor\":1,\"delay factor\":5.0},\"nameSub\":\"ECE/ENGRD 2100\",\"id\":13,\"credits\":3},{\"curriculum_requisites\":[{\"source_id\":8,\"target_id\":14,\"type\":\"strict-coreq\"}],\"name\":\"MECE/ENGRD 2300\",\"metrics\":{\"centrality\":3,\"complexity\":4.0,\"blocking factor\":1,\"delay factor\":3.0},\"nameSub\":\"MECE/ENGRD 2300\",\"id\":14,\"credits\":3},{\"curriculum_requisites\":[],\"name\":\" \",\"metrics\":{\"centrality\":0,\"complexity\":1.0,\"blocking factor\":0,\"delay factor\":1.0},\"nameSub\":\"Liberal Studies\",\"id\":15,\"credits\":3}],\"id\":3},{\"name\":\"Term 4\",\"curriculum_items\":[{\"curriculum_requisites\":[{\"source_id\":12,\"target_id\":16,\"type\":\"strict-coreq\"}],\"name\":\"PHYS 2214\",\"metrics\":{\"centrality\":0,\"complexity\":4.0,\"blocking factor\":0,\"delay factor\":4.0},\"nameSub\":\"PHYS 2214\",\"id\":16,\"credits\":3},{\"curriculum_requisites\":[{\"source_id\":7,\"target_id\":17,\"type\":\"strict-coreq\"}],\"name\":\"MATH 2940\",\"metrics\":{\"centrality\":5,\"complexity\":5.0,\"blocking factor\":2,\"delay factor\":3.0},\"nameSub\":\"MATH 2940\",\"id\":17,\"credits\":3},{\"curriculum_requisites\":[{\"source_id\":11,\"target_id\":18,\"type\":\"strict-coreq\"}],\"name\":\"ENGRD 2xxx\",\"metrics\":{\"centrality\":0,\"complexity\":4.0,\"blocking factor\":0,\"delay factor\":4.0},\"nameSub\":\"ENGRD 2xxx\",\"id\":18,\"credits\":3},{\"curriculum_requisites\":[{\"source_id\":17,\"target_id\":19,\"type\":\"strict-coreq\"},{\"source_id\":12,\"target_id\":19,\"type\":\"strict-coreq\"}],\"name\":\"ECE/ENGRD 2200/2220\",\"metrics\":{\"centrality\":10,\"complexity\":5.0,\"blocking factor\":1,\"delay factor\":4.0},\"nameSub\":\"ECE 2200/ENGRD 2220\",\"id\":19,\"credits\":3},{\"curriculum_requisites\":[],\"name\":\" \",\"metrics\":{\"centrality\":0,\"complexity\":1.0,\"blocking factor\":0,\"delay factor\":1.0},\"nameSub\":\"Liberal Studies\",\"id\":20,\"credits\":3}],\"id\":4},{\"name\":\"Term 5\",\"curriculum_items\":[{\"curriculum_requisites\":[],\"name\":\" \",\"metrics\":{\"centrality\":0,\"complexity\":1.0,\"blocking factor\":0,\"delay factor\":1.0},\"nameSub\":\"ECE Foundations\",\"id\":21,\"credits\":3},{\"curriculum_requisites\":[],\"name\":\" \",\"metrics\":{\"centrality\":0,\"complexity\":1.0,\"blocking factor\":0,\"delay factor\":1.0},\"nameSub\":\"Elective\",\"id\":22,\"credits\":3},{\"curriculum_requisites\":[{\"source_id\":8,\"target_id\":23,\"type\":\"strict-coreq\"}],\"name\":\" \",\"metrics\":{\"centrality\":0,\"complexity\":2.0,\"blocking factor\":0,\"delay factor\":2.0},\"nameSub\":\"Outside Tech. Elective\",\"id\":23,\"credits\":3},{\"curriculum_requisites\":[{\"source_id\":13,\"target_id\":24,\"type\":\"strict-coreq\"},{\"source_id\":14,\"target_id\":24,\"type\":\"strict-coreq\"},{\"source_id\":19,\"target_id\":24,\"type\":\"strict-coreq\"}],\"name\":\"ECE 3400\",\"metrics\":{\"centrality\":0,\"complexity\":5.0,\"blocking factor\":0,\"delay factor\":5.0},\"nameSub\":\"ECE 3400\",\"id\":24,\"credits\":3},{\"curriculum_requisites\":[],\"name\":\" \",\"metrics\":{\"centrality\":0,\"complexity\":1.0,\"blocking factor\":0,\"delay factor\":1.0},\"nameSub\":\"Liberal Studies\",\"id\":25,\"credits\":3}],\"id\":5},{\"name\":\"Term 6\",\"curriculum_items\":[{\"curriculum_requisites\":[],\"name\":\" \",\"metrics\":{\"centrality\":0,\"complexity\":1.0,\"blocking factor\":0,\"delay factor\":1.0},\"nameSub\":\"ECE Foundations\",\"id\":26,\"credits\":3},{\"curriculum_requisites\":[],\"name\":\" \",\"metrics\":{\"centrality\":0,\"complexity\":1.0,\"blocking factor\":0,\"delay factor\":1.0},\"nameSub\":\"ECE Foundations\",\"id\":27,\"credits\":3},{\"curriculum_requisites\":[],\"name\":\" \",\"metrics\":{\"centrality\":0,\"complexity\":1.0,\"blocking factor\":0,\"delay factor\":1.0},\"nameSub\":\"Outside Tech. Elective\",\"id\":28,\"credits\":3},{\"curriculum_requisites\":[],\"name\":\" \",\"metrics\":{\"centrality\":0,\"complexity\":1.0,\"blocking factor\":0,\"delay factor\":1.0},\"nameSub\":\"Elective\",\"id\":29,\"credits\":3},{\"curriculum_requisites\":[],\"name\":\" \",\"metrics\":{\"centrality\":0,\"complexity\":1.0,\"blocking factor\":0,\"delay factor\":1.0},\"nameSub\":\"Liberal Studies\",\"id\":30,\"credits\":3}],\"id\":6},{\"name\":\"Term 7\",\"curriculum_items\":[{\"curriculum_requisites\":[],\"name\":\" \",\"metrics\":{\"centrality\":0,\"complexity\":1.0,\"blocking factor\":0,\"delay factor\":1.0},\"nameSub\":\"ECE Elective \",\"id\":31,\"credits\":3},{\"curriculum_requisites\":[],\"name\":\" \",\"metrics\":{\"centrality\":0,\"complexity\":1.0,\"blocking factor\":0,\"delay factor\":1.0},\"nameSub\":\"ECE Elective\",\"id\":32,\"credits\":3},{\"curriculum_requisites\":[],\"name\":\" \",\"metrics\":{\"centrality\":0,\"complexity\":1.0,\"blocking factor\":0,\"delay factor\":1.0},\"nameSub\":\"Outside Tech. Elective\",\"id\":33,\"credits\":3},{\"curriculum_requisites\":[],\"name\":\" \",\"metrics\":{\"centrality\":0,\"complexity\":1.0,\"blocking factor\":0,\"delay factor\":1.0},\"nameSub\":\"Liberal Studies\",\"id\":34,\"credits\":3}],\"id\":7},{\"name\":\"Term 8\",\"curriculum_items\":[{\"curriculum_requisites\":[],\"name\":\" \",\"metrics\":{\"centrality\":0,\"complexity\":1.0,\"blocking factor\":0,\"delay factor\":1.0},\"nameSub\":\"ECE Elective\",\"id\":35,\"credits\":3},{\"curriculum_requisites\":[],\"name\":\" \",\"metrics\":{\"centrality\":0,\"complexity\":1.0,\"blocking factor\":0,\"delay factor\":1.0},\"nameSub\":\"ECE Elective\",\"id\":36,\"credits\":3},{\"curriculum_requisites\":[],\"name\":\" \",\"metrics\":{\"centrality\":0,\"complexity\":1.0,\"blocking factor\":0,\"delay factor\":1.0},\"nameSub\":\"ECE Elective\",\"id\":37,\"credits\":3},{\"curriculum_requisites\":[],\"name\":\" \",\"metrics\":{\"centrality\":0,\"complexity\":1.0,\"blocking factor\":0,\"delay factor\":1.0},\"nameSub\":\"Liberal Studies\",\"id\":38,\"credits\":3}],\"id\":8}],\"institution\":\"\"}},\"*\"); window.removeEventListener(\"message\",window.messageReceived); window.messageReceived=(function (event){return (event.data.curriculum!==undefined) ? (_webIOScope.setObservableValue({\"name\":\"curriculum-data\",\"scope\":\"scope-26f3879b-6d68-4532-8cf1-d0bc514d6f31\",\"id\":\"ob_02\",\"type\":\"observable\"},event.data.curriculum)) : undefined}); return window.addEventListener(\"message\",window.messageReceived)})"
          },
          "id": "curriculum",
          "src": "http://localhost:8156",
          "style": {
           "border": "none",
           "height": "100vh",
           "margin": "0",
           "padding": "0",
           "width": "100%"
          }
         },
         "type": "node"
        }
       ],
       "instanceArgs": {
        "handlers": {},
        "id": "scope-26f3879b-6d68-4532-8cf1-d0bc514d6f31",
        "imports": {
         "data": [],
         "type": "async_block"
        },
        "observables": {
         "curriculum-data": {
          "id": "ob_02",
          "sync": true,
          "value": {
           "curriculum": {
            "curriculum_terms": [
             {
              "curriculum_items": [
               {
                "credits": 3,
                "curriculum_requisites": [],
                "id": 1,
                "metrics": {
                 "blocking factor": 0,
                 "centrality": 0,
                 "complexity": 1,
                 "delay factor": 1
                },
                "name": "CHEM 2090",
                "nameSub": "CHEM 2090"
               },
               {
                "credits": 3,
                "curriculum_requisites": [],
                "id": 2,
                "metrics": {
                 "blocking factor": 10,
                 "centrality": 0,
                 "complexity": 15,
                 "delay factor": 5
                },
                "name": "MATH 1910",
                "nameSub": "MATH 1910"
               },
               {
                "credits": 3,
                "curriculum_requisites": [],
                "id": 3,
                "metrics": {
                 "blocking factor": 0,
                 "centrality": 0,
                 "complexity": 1,
                 "delay factor": 1
                },
                "name": "ENGRI 1xxx",
                "nameSub": "ENGRI 1xxx"
               },
               {
                "credits": 3,
                "curriculum_requisites": [],
                "id": 4,
                "metrics": {
                 "blocking factor": 0,
                 "centrality": 0,
                 "complexity": 1,
                 "delay factor": 1
                },
                "name": " ",
                "nameSub": "1st Yr Writing Seminar"
               },
               {
                "credits": 3,
                "curriculum_requisites": [],
                "id": 5,
                "metrics": {
                 "blocking factor": 0,
                 "centrality": 0,
                 "complexity": 1,
                 "delay factor": 1
                },
                "name": " ",
                "nameSub": "PE"
               }
              ],
              "id": 1,
              "name": "Term 1"
             },
             {
              "curriculum_items": [
               {
                "credits": 3,
                "curriculum_requisites": [
                 {
                  "source_id": 2,
                  "target_id": 6,
                  "type": "strict-coreq"
                 }
                ],
                "id": 6,
                "metrics": {
                 "blocking factor": 4,
                 "centrality": 9,
                 "complexity": 9,
                 "delay factor": 5
                },
                "name": "PHYS 1112",
                "nameSub": "PHYS 1112"
               },
               {
                "credits": 3,
                "curriculum_requisites": [
                 {
                  "source_id": 2,
                  "target_id": 7,
                  "type": "strict-coreq"
                 }
                ],
                "id": 7,
                "metrics": {
                 "blocking factor": 8,
                 "centrality": 28,
                 "complexity": 12,
                 "delay factor": 4
                },
                "name": "MATH 1920",
                "nameSub": "MATH 1920"
               },
               {
                "credits": 3,
                "curriculum_requisites": [],
                "id": 8,
                "metrics": {
                 "blocking factor": 3,
                 "centrality": 0,
                 "complexity": 6,
                 "delay factor": 3
                },
                "name": "CS 111x",
                "nameSub": "CS 111x"
               },
               {
                "credits": 3,
                "curriculum_requisites": [],
                "id": 9,
                "metrics": {
                 "blocking factor": 0,
                 "centrality": 0,
                 "complexity": 1,
                 "delay factor": 1
                },
                "name": " ",
                "nameSub": "1st Yr Writing Seminar"
               },
               {
                "credits": 3,
                "curriculum_requisites": [],
                "id": 10,
                "metrics": {
                 "blocking factor": 0,
                 "centrality": 0,
                 "complexity": 1,
                 "delay factor": 1
                },
                "name": " ",
                "nameSub": "PE"
               }
              ],
              "id": 2,
              "name": "Term 2"
             },
             {
              "curriculum_items": [
               {
                "credits": 3,
                "curriculum_requisites": [
                 {
                  "source_id": 7,
                  "target_id": 11,
                  "type": "strict-coreq"
                 },
                 {
                  "source_id": 6,
                  "target_id": 11,
                  "type": "strict-coreq"
                 }
                ],
                "id": 11,
                "metrics": {
                 "blocking factor": 3,
                 "centrality": 18,
                 "complexity": 8,
                 "delay factor": 5
                },
                "name": "PHYS 2213",
                "nameSub": "PHYS 2213"
               },
               {
                "credits": 3,
                "curriculum_requisites": [
                 {
                  "source_id": 7,
                  "target_id": 12,
                  "type": "strict-coreq"
                 }
                ],
                "id": 12,
                "metrics": {
                 "blocking factor": 4,
                 "centrality": 14,
                 "complexity": 8,
                 "delay factor": 4
                },
                "name": "MATH 2930",
                "nameSub": "MATH 2930"
               },
               {
                "credits": 3,
                "curriculum_requisites": [
                 {
                  "source_id": 11,
                  "target_id": 13,
                  "type": "strict-coreq"
                 },
                 {
                  "source_id": 12,
                  "target_id": 13,
                  "type": "strict-coreq"
                 }
                ],
                "id": 13,
                "metrics": {
                 "blocking factor": 1,
                 "centrality": 15,
                 "complexity": 6,
                 "delay factor": 5
                },
                "name": "ECE/ENGRD 2100",
                "nameSub": "ECE/ENGRD 2100"
               },
               {
                "credits": 3,
                "curriculum_requisites": [
                 {
                  "source_id": 8,
                  "target_id": 14,
                  "type": "strict-coreq"
                 }
                ],
                "id": 14,
                "metrics": {
                 "blocking factor": 1,
                 "centrality": 3,
                 "complexity": 4,
                 "delay factor": 3
                },
                "name": "MECE/ENGRD 2300",
                "nameSub": "MECE/ENGRD 2300"
               },
               {
                "credits": 3,
                "curriculum_requisites": [],
                "id": 15,
                "metrics": {
                 "blocking factor": 0,
                 "centrality": 0,
                 "complexity": 1,
                 "delay factor": 1
                },
                "name": " ",
                "nameSub": "Liberal Studies"
               }
              ],
              "id": 3,
              "name": "Term 3"
             },
             {
              "curriculum_items": [
               {
                "credits": 3,
                "curriculum_requisites": [
                 {
                  "source_id": 12,
                  "target_id": 16,
                  "type": "strict-coreq"
                 }
                ],
                "id": 16,
                "metrics": {
                 "blocking factor": 0,
                 "centrality": 0,
                 "complexity": 4,
                 "delay factor": 4
                },
                "name": "PHYS 2214",
                "nameSub": "PHYS 2214"
               },
               {
                "credits": 3,
                "curriculum_requisites": [
                 {
                  "source_id": 7,
                  "target_id": 17,
                  "type": "strict-coreq"
                 }
                ],
                "id": 17,
                "metrics": {
                 "blocking factor": 2,
                 "centrality": 5,
                 "complexity": 5,
                 "delay factor": 3
                },
                "name": "MATH 2940",
                "nameSub": "MATH 2940"
               },
               {
                "credits": 3,
                "curriculum_requisites": [
                 {
                  "source_id": 11,
                  "target_id": 18,
                  "type": "strict-coreq"
                 }
                ],
                "id": 18,
                "metrics": {
                 "blocking factor": 0,
                 "centrality": 0,
                 "complexity": 4,
                 "delay factor": 4
                },
                "name": "ENGRD 2xxx",
                "nameSub": "ENGRD 2xxx"
               },
               {
                "credits": 3,
                "curriculum_requisites": [
                 {
                  "source_id": 17,
                  "target_id": 19,
                  "type": "strict-coreq"
                 },
                 {
                  "source_id": 12,
                  "target_id": 19,
                  "type": "strict-coreq"
                 }
                ],
                "id": 19,
                "metrics": {
                 "blocking factor": 1,
                 "centrality": 10,
                 "complexity": 5,
                 "delay factor": 4
                },
                "name": "ECE/ENGRD 2200/2220",
                "nameSub": "ECE 2200/ENGRD 2220"
               },
               {
                "credits": 3,
                "curriculum_requisites": [],
                "id": 20,
                "metrics": {
                 "blocking factor": 0,
                 "centrality": 0,
                 "complexity": 1,
                 "delay factor": 1
                },
                "name": " ",
                "nameSub": "Liberal Studies"
               }
              ],
              "id": 4,
              "name": "Term 4"
             },
             {
              "curriculum_items": [
               {
                "credits": 3,
                "curriculum_requisites": [],
                "id": 21,
                "metrics": {
                 "blocking factor": 0,
                 "centrality": 0,
                 "complexity": 1,
                 "delay factor": 1
                },
                "name": " ",
                "nameSub": "ECE Foundations"
               },
               {
                "credits": 3,
                "curriculum_requisites": [],
                "id": 22,
                "metrics": {
                 "blocking factor": 0,
                 "centrality": 0,
                 "complexity": 1,
                 "delay factor": 1
                },
                "name": " ",
                "nameSub": "Elective"
               },
               {
                "credits": 3,
                "curriculum_requisites": [
                 {
                  "source_id": 8,
                  "target_id": 23,
                  "type": "strict-coreq"
                 }
                ],
                "id": 23,
                "metrics": {
                 "blocking factor": 0,
                 "centrality": 0,
                 "complexity": 2,
                 "delay factor": 2
                },
                "name": " ",
                "nameSub": "Outside Tech. Elective"
               },
               {
                "credits": 3,
                "curriculum_requisites": [
                 {
                  "source_id": 13,
                  "target_id": 24,
                  "type": "strict-coreq"
                 },
                 {
                  "source_id": 14,
                  "target_id": 24,
                  "type": "strict-coreq"
                 },
                 {
                  "source_id": 19,
                  "target_id": 24,
                  "type": "strict-coreq"
                 }
                ],
                "id": 24,
                "metrics": {
                 "blocking factor": 0,
                 "centrality": 0,
                 "complexity": 5,
                 "delay factor": 5
                },
                "name": "ECE 3400",
                "nameSub": "ECE 3400"
               },
               {
                "credits": 3,
                "curriculum_requisites": [],
                "id": 25,
                "metrics": {
                 "blocking factor": 0,
                 "centrality": 0,
                 "complexity": 1,
                 "delay factor": 1
                },
                "name": " ",
                "nameSub": "Liberal Studies"
               }
              ],
              "id": 5,
              "name": "Term 5"
             },
             {
              "curriculum_items": [
               {
                "credits": 3,
                "curriculum_requisites": [],
                "id": 26,
                "metrics": {
                 "blocking factor": 0,
                 "centrality": 0,
                 "complexity": 1,
                 "delay factor": 1
                },
                "name": " ",
                "nameSub": "ECE Foundations"
               },
               {
                "credits": 3,
                "curriculum_requisites": [],
                "id": 27,
                "metrics": {
                 "blocking factor": 0,
                 "centrality": 0,
                 "complexity": 1,
                 "delay factor": 1
                },
                "name": " ",
                "nameSub": "ECE Foundations"
               },
               {
                "credits": 3,
                "curriculum_requisites": [],
                "id": 28,
                "metrics": {
                 "blocking factor": 0,
                 "centrality": 0,
                 "complexity": 1,
                 "delay factor": 1
                },
                "name": " ",
                "nameSub": "Outside Tech. Elective"
               },
               {
                "credits": 3,
                "curriculum_requisites": [],
                "id": 29,
                "metrics": {
                 "blocking factor": 0,
                 "centrality": 0,
                 "complexity": 1,
                 "delay factor": 1
                },
                "name": " ",
                "nameSub": "Elective"
               },
               {
                "credits": 3,
                "curriculum_requisites": [],
                "id": 30,
                "metrics": {
                 "blocking factor": 0,
                 "centrality": 0,
                 "complexity": 1,
                 "delay factor": 1
                },
                "name": " ",
                "nameSub": "Liberal Studies"
               }
              ],
              "id": 6,
              "name": "Term 6"
             },
             {
              "curriculum_items": [
               {
                "credits": 3,
                "curriculum_requisites": [],
                "id": 31,
                "metrics": {
                 "blocking factor": 0,
                 "centrality": 0,
                 "complexity": 1,
                 "delay factor": 1
                },
                "name": " ",
                "nameSub": "ECE Elective "
               },
               {
                "credits": 3,
                "curriculum_requisites": [],
                "id": 32,
                "metrics": {
                 "blocking factor": 0,
                 "centrality": 0,
                 "complexity": 1,
                 "delay factor": 1
                },
                "name": " ",
                "nameSub": "ECE Elective"
               },
               {
                "credits": 3,
                "curriculum_requisites": [],
                "id": 33,
                "metrics": {
                 "blocking factor": 0,
                 "centrality": 0,
                 "complexity": 1,
                 "delay factor": 1
                },
                "name": " ",
                "nameSub": "Outside Tech. Elective"
               },
               {
                "credits": 3,
                "curriculum_requisites": [],
                "id": 34,
                "metrics": {
                 "blocking factor": 0,
                 "centrality": 0,
                 "complexity": 1,
                 "delay factor": 1
                },
                "name": " ",
                "nameSub": "Liberal Studies"
               }
              ],
              "id": 7,
              "name": "Term 7"
             },
             {
              "curriculum_items": [
               {
                "credits": 3,
                "curriculum_requisites": [],
                "id": 35,
                "metrics": {
                 "blocking factor": 0,
                 "centrality": 0,
                 "complexity": 1,
                 "delay factor": 1
                },
                "name": " ",
                "nameSub": "ECE Elective"
               },
               {
                "credits": 3,
                "curriculum_requisites": [],
                "id": 36,
                "metrics": {
                 "blocking factor": 0,
                 "centrality": 0,
                 "complexity": 1,
                 "delay factor": 1
                },
                "name": " ",
                "nameSub": "ECE Elective"
               },
               {
                "credits": 3,
                "curriculum_requisites": [],
                "id": 37,
                "metrics": {
                 "blocking factor": 0,
                 "centrality": 0,
                 "complexity": 1,
                 "delay factor": 1
                },
                "name": " ",
                "nameSub": "ECE Elective"
               },
               {
                "credits": 3,
                "curriculum_requisites": [],
                "id": 38,
                "metrics": {
                 "blocking factor": 0,
                 "centrality": 0,
                 "complexity": 1,
                 "delay factor": 1
                },
                "name": " ",
                "nameSub": "Liberal Studies"
               }
              ],
              "id": 8,
              "name": "Term 8"
             }
            ],
            "dp_name": "",
            "institution": "",
            "name": ""
           },
           "options": {
            "edit": false,
            "hideTerms": false
           }
          }
         }
        },
        "systemjs_options": null
       },
       "nodeType": "Scope",
       "props": {},
       "type": "node"
      },
      "text/html": [
       "<div\n",
       "    class=\"webio-mountpoint\"\n",
       "    data-webio-mountpoint=\"13666602685982485499\"\n",
       ">\n",
       "    <script>\n",
       "    if (window.require && require.defined && require.defined(\"nbextensions/webio/main\")) {\n",
       "        console.log(\"Jupyter WebIO extension detected, not mounting.\");\n",
       "    } else if (window.WebIO) {\n",
       "        WebIO.mount(\n",
       "            document.querySelector('[data-webio-mountpoint=\"13666602685982485499\"]'),\n",
       "            {\"props\":{},\"nodeType\":\"Scope\",\"type\":\"node\",\"instanceArgs\":{\"imports\":{\"data\":[],\"type\":\"async_block\"},\"id\":\"scope-26f3879b-6d68-4532-8cf1-d0bc514d6f31\",\"handlers\":{},\"systemjs_options\":null,\"observables\":{\"curriculum-data\":{\"sync\":true,\"id\":\"ob_02\",\"value\":{\"options\":{\"hideTerms\":false,\"edit\":false},\"curriculum\":{\"name\":\"\",\"dp_name\":\"\",\"curriculum_terms\":[{\"name\":\"Term 1\",\"curriculum_items\":[{\"curriculum_requisites\":[],\"name\":\"CHEM 2090\",\"metrics\":{\"centrality\":0,\"complexity\":1.0,\"blocking factor\":0,\"delay factor\":1.0},\"nameSub\":\"CHEM 2090\",\"id\":1,\"credits\":3},{\"curriculum_requisites\":[],\"name\":\"MATH 1910\",\"metrics\":{\"centrality\":0,\"complexity\":15.0,\"blocking factor\":10,\"delay factor\":5.0},\"nameSub\":\"MATH 1910\",\"id\":2,\"credits\":3},{\"curriculum_requisites\":[],\"name\":\"ENGRI 1xxx\",\"metrics\":{\"centrality\":0,\"complexity\":1.0,\"blocking factor\":0,\"delay factor\":1.0},\"nameSub\":\"ENGRI 1xxx\",\"id\":3,\"credits\":3},{\"curriculum_requisites\":[],\"name\":\" \",\"metrics\":{\"centrality\":0,\"complexity\":1.0,\"blocking factor\":0,\"delay factor\":1.0},\"nameSub\":\"1st Yr Writing Seminar\",\"id\":4,\"credits\":3},{\"curriculum_requisites\":[],\"name\":\" \",\"metrics\":{\"centrality\":0,\"complexity\":1.0,\"blocking factor\":0,\"delay factor\":1.0},\"nameSub\":\"PE\",\"id\":5,\"credits\":3}],\"id\":1},{\"name\":\"Term 2\",\"curriculum_items\":[{\"curriculum_requisites\":[{\"source_id\":2,\"target_id\":6,\"type\":\"strict-coreq\"}],\"name\":\"PHYS 1112\",\"metrics\":{\"centrality\":9,\"complexity\":9.0,\"blocking factor\":4,\"delay factor\":5.0},\"nameSub\":\"PHYS 1112\",\"id\":6,\"credits\":3},{\"curriculum_requisites\":[{\"source_id\":2,\"target_id\":7,\"type\":\"strict-coreq\"}],\"name\":\"MATH 1920\",\"metrics\":{\"centrality\":28,\"complexity\":12.0,\"blocking factor\":8,\"delay factor\":4.0},\"nameSub\":\"MATH 1920\",\"id\":7,\"credits\":3},{\"curriculum_requisites\":[],\"name\":\"CS 111x\",\"metrics\":{\"centrality\":0,\"complexity\":6.0,\"blocking factor\":3,\"delay factor\":3.0},\"nameSub\":\"CS 111x\",\"id\":8,\"credits\":3},{\"curriculum_requisites\":[],\"name\":\" \",\"metrics\":{\"centrality\":0,\"complexity\":1.0,\"blocking factor\":0,\"delay factor\":1.0},\"nameSub\":\"1st Yr Writing Seminar\",\"id\":9,\"credits\":3},{\"curriculum_requisites\":[],\"name\":\" \",\"metrics\":{\"centrality\":0,\"complexity\":1.0,\"blocking factor\":0,\"delay factor\":1.0},\"nameSub\":\"PE\",\"id\":10,\"credits\":3}],\"id\":2},{\"name\":\"Term 3\",\"curriculum_items\":[{\"curriculum_requisites\":[{\"source_id\":7,\"target_id\":11,\"type\":\"strict-coreq\"},{\"source_id\":6,\"target_id\":11,\"type\":\"strict-coreq\"}],\"name\":\"PHYS 2213\",\"metrics\":{\"centrality\":18,\"complexity\":8.0,\"blocking factor\":3,\"delay factor\":5.0},\"nameSub\":\"PHYS 2213\",\"id\":11,\"credits\":3},{\"curriculum_requisites\":[{\"source_id\":7,\"target_id\":12,\"type\":\"strict-coreq\"}],\"name\":\"MATH 2930\",\"metrics\":{\"centrality\":14,\"complexity\":8.0,\"blocking factor\":4,\"delay factor\":4.0},\"nameSub\":\"MATH 2930\",\"id\":12,\"credits\":3},{\"curriculum_requisites\":[{\"source_id\":11,\"target_id\":13,\"type\":\"strict-coreq\"},{\"source_id\":12,\"target_id\":13,\"type\":\"strict-coreq\"}],\"name\":\"ECE\\/ENGRD 2100\",\"metrics\":{\"centrality\":15,\"complexity\":6.0,\"blocking factor\":1,\"delay factor\":5.0},\"nameSub\":\"ECE\\/ENGRD 2100\",\"id\":13,\"credits\":3},{\"curriculum_requisites\":[{\"source_id\":8,\"target_id\":14,\"type\":\"strict-coreq\"}],\"name\":\"MECE\\/ENGRD 2300\",\"metrics\":{\"centrality\":3,\"complexity\":4.0,\"blocking factor\":1,\"delay factor\":3.0},\"nameSub\":\"MECE\\/ENGRD 2300\",\"id\":14,\"credits\":3},{\"curriculum_requisites\":[],\"name\":\" \",\"metrics\":{\"centrality\":0,\"complexity\":1.0,\"blocking factor\":0,\"delay factor\":1.0},\"nameSub\":\"Liberal Studies\",\"id\":15,\"credits\":3}],\"id\":3},{\"name\":\"Term 4\",\"curriculum_items\":[{\"curriculum_requisites\":[{\"source_id\":12,\"target_id\":16,\"type\":\"strict-coreq\"}],\"name\":\"PHYS 2214\",\"metrics\":{\"centrality\":0,\"complexity\":4.0,\"blocking factor\":0,\"delay factor\":4.0},\"nameSub\":\"PHYS 2214\",\"id\":16,\"credits\":3},{\"curriculum_requisites\":[{\"source_id\":7,\"target_id\":17,\"type\":\"strict-coreq\"}],\"name\":\"MATH 2940\",\"metrics\":{\"centrality\":5,\"complexity\":5.0,\"blocking factor\":2,\"delay factor\":3.0},\"nameSub\":\"MATH 2940\",\"id\":17,\"credits\":3},{\"curriculum_requisites\":[{\"source_id\":11,\"target_id\":18,\"type\":\"strict-coreq\"}],\"name\":\"ENGRD 2xxx\",\"metrics\":{\"centrality\":0,\"complexity\":4.0,\"blocking factor\":0,\"delay factor\":4.0},\"nameSub\":\"ENGRD 2xxx\",\"id\":18,\"credits\":3},{\"curriculum_requisites\":[{\"source_id\":17,\"target_id\":19,\"type\":\"strict-coreq\"},{\"source_id\":12,\"target_id\":19,\"type\":\"strict-coreq\"}],\"name\":\"ECE\\/ENGRD 2200\\/2220\",\"metrics\":{\"centrality\":10,\"complexity\":5.0,\"blocking factor\":1,\"delay factor\":4.0},\"nameSub\":\"ECE 2200\\/ENGRD 2220\",\"id\":19,\"credits\":3},{\"curriculum_requisites\":[],\"name\":\" \",\"metrics\":{\"centrality\":0,\"complexity\":1.0,\"blocking factor\":0,\"delay factor\":1.0},\"nameSub\":\"Liberal Studies\",\"id\":20,\"credits\":3}],\"id\":4},{\"name\":\"Term 5\",\"curriculum_items\":[{\"curriculum_requisites\":[],\"name\":\" \",\"metrics\":{\"centrality\":0,\"complexity\":1.0,\"blocking factor\":0,\"delay factor\":1.0},\"nameSub\":\"ECE Foundations\",\"id\":21,\"credits\":3},{\"curriculum_requisites\":[],\"name\":\" \",\"metrics\":{\"centrality\":0,\"complexity\":1.0,\"blocking factor\":0,\"delay factor\":1.0},\"nameSub\":\"Elective\",\"id\":22,\"credits\":3},{\"curriculum_requisites\":[{\"source_id\":8,\"target_id\":23,\"type\":\"strict-coreq\"}],\"name\":\" \",\"metrics\":{\"centrality\":0,\"complexity\":2.0,\"blocking factor\":0,\"delay factor\":2.0},\"nameSub\":\"Outside Tech. Elective\",\"id\":23,\"credits\":3},{\"curriculum_requisites\":[{\"source_id\":13,\"target_id\":24,\"type\":\"strict-coreq\"},{\"source_id\":14,\"target_id\":24,\"type\":\"strict-coreq\"},{\"source_id\":19,\"target_id\":24,\"type\":\"strict-coreq\"}],\"name\":\"ECE 3400\",\"metrics\":{\"centrality\":0,\"complexity\":5.0,\"blocking factor\":0,\"delay factor\":5.0},\"nameSub\":\"ECE 3400\",\"id\":24,\"credits\":3},{\"curriculum_requisites\":[],\"name\":\" \",\"metrics\":{\"centrality\":0,\"complexity\":1.0,\"blocking factor\":0,\"delay factor\":1.0},\"nameSub\":\"Liberal Studies\",\"id\":25,\"credits\":3}],\"id\":5},{\"name\":\"Term 6\",\"curriculum_items\":[{\"curriculum_requisites\":[],\"name\":\" \",\"metrics\":{\"centrality\":0,\"complexity\":1.0,\"blocking factor\":0,\"delay factor\":1.0},\"nameSub\":\"ECE Foundations\",\"id\":26,\"credits\":3},{\"curriculum_requisites\":[],\"name\":\" \",\"metrics\":{\"centrality\":0,\"complexity\":1.0,\"blocking factor\":0,\"delay factor\":1.0},\"nameSub\":\"ECE Foundations\",\"id\":27,\"credits\":3},{\"curriculum_requisites\":[],\"name\":\" \",\"metrics\":{\"centrality\":0,\"complexity\":1.0,\"blocking factor\":0,\"delay factor\":1.0},\"nameSub\":\"Outside Tech. Elective\",\"id\":28,\"credits\":3},{\"curriculum_requisites\":[],\"name\":\" \",\"metrics\":{\"centrality\":0,\"complexity\":1.0,\"blocking factor\":0,\"delay factor\":1.0},\"nameSub\":\"Elective\",\"id\":29,\"credits\":3},{\"curriculum_requisites\":[],\"name\":\" \",\"metrics\":{\"centrality\":0,\"complexity\":1.0,\"blocking factor\":0,\"delay factor\":1.0},\"nameSub\":\"Liberal Studies\",\"id\":30,\"credits\":3}],\"id\":6},{\"name\":\"Term 7\",\"curriculum_items\":[{\"curriculum_requisites\":[],\"name\":\" \",\"metrics\":{\"centrality\":0,\"complexity\":1.0,\"blocking factor\":0,\"delay factor\":1.0},\"nameSub\":\"ECE Elective \",\"id\":31,\"credits\":3},{\"curriculum_requisites\":[],\"name\":\" \",\"metrics\":{\"centrality\":0,\"complexity\":1.0,\"blocking factor\":0,\"delay factor\":1.0},\"nameSub\":\"ECE Elective\",\"id\":32,\"credits\":3},{\"curriculum_requisites\":[],\"name\":\" \",\"metrics\":{\"centrality\":0,\"complexity\":1.0,\"blocking factor\":0,\"delay factor\":1.0},\"nameSub\":\"Outside Tech. Elective\",\"id\":33,\"credits\":3},{\"curriculum_requisites\":[],\"name\":\" \",\"metrics\":{\"centrality\":0,\"complexity\":1.0,\"blocking factor\":0,\"delay factor\":1.0},\"nameSub\":\"Liberal Studies\",\"id\":34,\"credits\":3}],\"id\":7},{\"name\":\"Term 8\",\"curriculum_items\":[{\"curriculum_requisites\":[],\"name\":\" \",\"metrics\":{\"centrality\":0,\"complexity\":1.0,\"blocking factor\":0,\"delay factor\":1.0},\"nameSub\":\"ECE Elective\",\"id\":35,\"credits\":3},{\"curriculum_requisites\":[],\"name\":\" \",\"metrics\":{\"centrality\":0,\"complexity\":1.0,\"blocking factor\":0,\"delay factor\":1.0},\"nameSub\":\"ECE Elective\",\"id\":36,\"credits\":3},{\"curriculum_requisites\":[],\"name\":\" \",\"metrics\":{\"centrality\":0,\"complexity\":1.0,\"blocking factor\":0,\"delay factor\":1.0},\"nameSub\":\"ECE Elective\",\"id\":37,\"credits\":3},{\"curriculum_requisites\":[],\"name\":\" \",\"metrics\":{\"centrality\":0,\"complexity\":1.0,\"blocking factor\":0,\"delay factor\":1.0},\"nameSub\":\"Liberal Studies\",\"id\":38,\"credits\":3}],\"id\":8}],\"institution\":\"\"}}}}},\"children\":[{\"props\":{\"src\":\"http:\\/\\/localhost:8156\",\"id\":\"curriculum\",\"events\":{\"load\":\"(function (){this.contentWindow.postMessage({\\\"options\\\":{\\\"hideTerms\\\":false,\\\"edit\\\":false},\\\"curriculum\\\":{\\\"name\\\":\\\"\\\",\\\"dp_name\\\":\\\"\\\",\\\"curriculum_terms\\\":[{\\\"name\\\":\\\"Term 1\\\",\\\"curriculum_items\\\":[{\\\"curriculum_requisites\\\":[],\\\"name\\\":\\\"CHEM 2090\\\",\\\"metrics\\\":{\\\"centrality\\\":0,\\\"complexity\\\":1.0,\\\"blocking factor\\\":0,\\\"delay factor\\\":1.0},\\\"nameSub\\\":\\\"CHEM 2090\\\",\\\"id\\\":1,\\\"credits\\\":3},{\\\"curriculum_requisites\\\":[],\\\"name\\\":\\\"MATH 1910\\\",\\\"metrics\\\":{\\\"centrality\\\":0,\\\"complexity\\\":15.0,\\\"blocking factor\\\":10,\\\"delay factor\\\":5.0},\\\"nameSub\\\":\\\"MATH 1910\\\",\\\"id\\\":2,\\\"credits\\\":3},{\\\"curriculum_requisites\\\":[],\\\"name\\\":\\\"ENGRI 1xxx\\\",\\\"metrics\\\":{\\\"centrality\\\":0,\\\"complexity\\\":1.0,\\\"blocking factor\\\":0,\\\"delay factor\\\":1.0},\\\"nameSub\\\":\\\"ENGRI 1xxx\\\",\\\"id\\\":3,\\\"credits\\\":3},{\\\"curriculum_requisites\\\":[],\\\"name\\\":\\\" \\\",\\\"metrics\\\":{\\\"centrality\\\":0,\\\"complexity\\\":1.0,\\\"blocking factor\\\":0,\\\"delay factor\\\":1.0},\\\"nameSub\\\":\\\"1st Yr Writing Seminar\\\",\\\"id\\\":4,\\\"credits\\\":3},{\\\"curriculum_requisites\\\":[],\\\"name\\\":\\\" \\\",\\\"metrics\\\":{\\\"centrality\\\":0,\\\"complexity\\\":1.0,\\\"blocking factor\\\":0,\\\"delay factor\\\":1.0},\\\"nameSub\\\":\\\"PE\\\",\\\"id\\\":5,\\\"credits\\\":3}],\\\"id\\\":1},{\\\"name\\\":\\\"Term 2\\\",\\\"curriculum_items\\\":[{\\\"curriculum_requisites\\\":[{\\\"source_id\\\":2,\\\"target_id\\\":6,\\\"type\\\":\\\"strict-coreq\\\"}],\\\"name\\\":\\\"PHYS 1112\\\",\\\"metrics\\\":{\\\"centrality\\\":9,\\\"complexity\\\":9.0,\\\"blocking factor\\\":4,\\\"delay factor\\\":5.0},\\\"nameSub\\\":\\\"PHYS 1112\\\",\\\"id\\\":6,\\\"credits\\\":3},{\\\"curriculum_requisites\\\":[{\\\"source_id\\\":2,\\\"target_id\\\":7,\\\"type\\\":\\\"strict-coreq\\\"}],\\\"name\\\":\\\"MATH 1920\\\",\\\"metrics\\\":{\\\"centrality\\\":28,\\\"complexity\\\":12.0,\\\"blocking factor\\\":8,\\\"delay factor\\\":4.0},\\\"nameSub\\\":\\\"MATH 1920\\\",\\\"id\\\":7,\\\"credits\\\":3},{\\\"curriculum_requisites\\\":[],\\\"name\\\":\\\"CS 111x\\\",\\\"metrics\\\":{\\\"centrality\\\":0,\\\"complexity\\\":6.0,\\\"blocking factor\\\":3,\\\"delay factor\\\":3.0},\\\"nameSub\\\":\\\"CS 111x\\\",\\\"id\\\":8,\\\"credits\\\":3},{\\\"curriculum_requisites\\\":[],\\\"name\\\":\\\" \\\",\\\"metrics\\\":{\\\"centrality\\\":0,\\\"complexity\\\":1.0,\\\"blocking factor\\\":0,\\\"delay factor\\\":1.0},\\\"nameSub\\\":\\\"1st Yr Writing Seminar\\\",\\\"id\\\":9,\\\"credits\\\":3},{\\\"curriculum_requisites\\\":[],\\\"name\\\":\\\" \\\",\\\"metrics\\\":{\\\"centrality\\\":0,\\\"complexity\\\":1.0,\\\"blocking factor\\\":0,\\\"delay factor\\\":1.0},\\\"nameSub\\\":\\\"PE\\\",\\\"id\\\":10,\\\"credits\\\":3}],\\\"id\\\":2},{\\\"name\\\":\\\"Term 3\\\",\\\"curriculum_items\\\":[{\\\"curriculum_requisites\\\":[{\\\"source_id\\\":7,\\\"target_id\\\":11,\\\"type\\\":\\\"strict-coreq\\\"},{\\\"source_id\\\":6,\\\"target_id\\\":11,\\\"type\\\":\\\"strict-coreq\\\"}],\\\"name\\\":\\\"PHYS 2213\\\",\\\"metrics\\\":{\\\"centrality\\\":18,\\\"complexity\\\":8.0,\\\"blocking factor\\\":3,\\\"delay factor\\\":5.0},\\\"nameSub\\\":\\\"PHYS 2213\\\",\\\"id\\\":11,\\\"credits\\\":3},{\\\"curriculum_requisites\\\":[{\\\"source_id\\\":7,\\\"target_id\\\":12,\\\"type\\\":\\\"strict-coreq\\\"}],\\\"name\\\":\\\"MATH 2930\\\",\\\"metrics\\\":{\\\"centrality\\\":14,\\\"complexity\\\":8.0,\\\"blocking factor\\\":4,\\\"delay factor\\\":4.0},\\\"nameSub\\\":\\\"MATH 2930\\\",\\\"id\\\":12,\\\"credits\\\":3},{\\\"curriculum_requisites\\\":[{\\\"source_id\\\":11,\\\"target_id\\\":13,\\\"type\\\":\\\"strict-coreq\\\"},{\\\"source_id\\\":12,\\\"target_id\\\":13,\\\"type\\\":\\\"strict-coreq\\\"}],\\\"name\\\":\\\"ECE\\/ENGRD 2100\\\",\\\"metrics\\\":{\\\"centrality\\\":15,\\\"complexity\\\":6.0,\\\"blocking factor\\\":1,\\\"delay factor\\\":5.0},\\\"nameSub\\\":\\\"ECE\\/ENGRD 2100\\\",\\\"id\\\":13,\\\"credits\\\":3},{\\\"curriculum_requisites\\\":[{\\\"source_id\\\":8,\\\"target_id\\\":14,\\\"type\\\":\\\"strict-coreq\\\"}],\\\"name\\\":\\\"MECE\\/ENGRD 2300\\\",\\\"metrics\\\":{\\\"centrality\\\":3,\\\"complexity\\\":4.0,\\\"blocking factor\\\":1,\\\"delay factor\\\":3.0},\\\"nameSub\\\":\\\"MECE\\/ENGRD 2300\\\",\\\"id\\\":14,\\\"credits\\\":3},{\\\"curriculum_requisites\\\":[],\\\"name\\\":\\\" \\\",\\\"metrics\\\":{\\\"centrality\\\":0,\\\"complexity\\\":1.0,\\\"blocking factor\\\":0,\\\"delay factor\\\":1.0},\\\"nameSub\\\":\\\"Liberal Studies\\\",\\\"id\\\":15,\\\"credits\\\":3}],\\\"id\\\":3},{\\\"name\\\":\\\"Term 4\\\",\\\"curriculum_items\\\":[{\\\"curriculum_requisites\\\":[{\\\"source_id\\\":12,\\\"target_id\\\":16,\\\"type\\\":\\\"strict-coreq\\\"}],\\\"name\\\":\\\"PHYS 2214\\\",\\\"metrics\\\":{\\\"centrality\\\":0,\\\"complexity\\\":4.0,\\\"blocking factor\\\":0,\\\"delay factor\\\":4.0},\\\"nameSub\\\":\\\"PHYS 2214\\\",\\\"id\\\":16,\\\"credits\\\":3},{\\\"curriculum_requisites\\\":[{\\\"source_id\\\":7,\\\"target_id\\\":17,\\\"type\\\":\\\"strict-coreq\\\"}],\\\"name\\\":\\\"MATH 2940\\\",\\\"metrics\\\":{\\\"centrality\\\":5,\\\"complexity\\\":5.0,\\\"blocking factor\\\":2,\\\"delay factor\\\":3.0},\\\"nameSub\\\":\\\"MATH 2940\\\",\\\"id\\\":17,\\\"credits\\\":3},{\\\"curriculum_requisites\\\":[{\\\"source_id\\\":11,\\\"target_id\\\":18,\\\"type\\\":\\\"strict-coreq\\\"}],\\\"name\\\":\\\"ENGRD 2xxx\\\",\\\"metrics\\\":{\\\"centrality\\\":0,\\\"complexity\\\":4.0,\\\"blocking factor\\\":0,\\\"delay factor\\\":4.0},\\\"nameSub\\\":\\\"ENGRD 2xxx\\\",\\\"id\\\":18,\\\"credits\\\":3},{\\\"curriculum_requisites\\\":[{\\\"source_id\\\":17,\\\"target_id\\\":19,\\\"type\\\":\\\"strict-coreq\\\"},{\\\"source_id\\\":12,\\\"target_id\\\":19,\\\"type\\\":\\\"strict-coreq\\\"}],\\\"name\\\":\\\"ECE\\/ENGRD 2200\\/2220\\\",\\\"metrics\\\":{\\\"centrality\\\":10,\\\"complexity\\\":5.0,\\\"blocking factor\\\":1,\\\"delay factor\\\":4.0},\\\"nameSub\\\":\\\"ECE 2200\\/ENGRD 2220\\\",\\\"id\\\":19,\\\"credits\\\":3},{\\\"curriculum_requisites\\\":[],\\\"name\\\":\\\" \\\",\\\"metrics\\\":{\\\"centrality\\\":0,\\\"complexity\\\":1.0,\\\"blocking factor\\\":0,\\\"delay factor\\\":1.0},\\\"nameSub\\\":\\\"Liberal Studies\\\",\\\"id\\\":20,\\\"credits\\\":3}],\\\"id\\\":4},{\\\"name\\\":\\\"Term 5\\\",\\\"curriculum_items\\\":[{\\\"curriculum_requisites\\\":[],\\\"name\\\":\\\" \\\",\\\"metrics\\\":{\\\"centrality\\\":0,\\\"complexity\\\":1.0,\\\"blocking factor\\\":0,\\\"delay factor\\\":1.0},\\\"nameSub\\\":\\\"ECE Foundations\\\",\\\"id\\\":21,\\\"credits\\\":3},{\\\"curriculum_requisites\\\":[],\\\"name\\\":\\\" \\\",\\\"metrics\\\":{\\\"centrality\\\":0,\\\"complexity\\\":1.0,\\\"blocking factor\\\":0,\\\"delay factor\\\":1.0},\\\"nameSub\\\":\\\"Elective\\\",\\\"id\\\":22,\\\"credits\\\":3},{\\\"curriculum_requisites\\\":[{\\\"source_id\\\":8,\\\"target_id\\\":23,\\\"type\\\":\\\"strict-coreq\\\"}],\\\"name\\\":\\\" \\\",\\\"metrics\\\":{\\\"centrality\\\":0,\\\"complexity\\\":2.0,\\\"blocking factor\\\":0,\\\"delay factor\\\":2.0},\\\"nameSub\\\":\\\"Outside Tech. Elective\\\",\\\"id\\\":23,\\\"credits\\\":3},{\\\"curriculum_requisites\\\":[{\\\"source_id\\\":13,\\\"target_id\\\":24,\\\"type\\\":\\\"strict-coreq\\\"},{\\\"source_id\\\":14,\\\"target_id\\\":24,\\\"type\\\":\\\"strict-coreq\\\"},{\\\"source_id\\\":19,\\\"target_id\\\":24,\\\"type\\\":\\\"strict-coreq\\\"}],\\\"name\\\":\\\"ECE 3400\\\",\\\"metrics\\\":{\\\"centrality\\\":0,\\\"complexity\\\":5.0,\\\"blocking factor\\\":0,\\\"delay factor\\\":5.0},\\\"nameSub\\\":\\\"ECE 3400\\\",\\\"id\\\":24,\\\"credits\\\":3},{\\\"curriculum_requisites\\\":[],\\\"name\\\":\\\" \\\",\\\"metrics\\\":{\\\"centrality\\\":0,\\\"complexity\\\":1.0,\\\"blocking factor\\\":0,\\\"delay factor\\\":1.0},\\\"nameSub\\\":\\\"Liberal Studies\\\",\\\"id\\\":25,\\\"credits\\\":3}],\\\"id\\\":5},{\\\"name\\\":\\\"Term 6\\\",\\\"curriculum_items\\\":[{\\\"curriculum_requisites\\\":[],\\\"name\\\":\\\" \\\",\\\"metrics\\\":{\\\"centrality\\\":0,\\\"complexity\\\":1.0,\\\"blocking factor\\\":0,\\\"delay factor\\\":1.0},\\\"nameSub\\\":\\\"ECE Foundations\\\",\\\"id\\\":26,\\\"credits\\\":3},{\\\"curriculum_requisites\\\":[],\\\"name\\\":\\\" \\\",\\\"metrics\\\":{\\\"centrality\\\":0,\\\"complexity\\\":1.0,\\\"blocking factor\\\":0,\\\"delay factor\\\":1.0},\\\"nameSub\\\":\\\"ECE Foundations\\\",\\\"id\\\":27,\\\"credits\\\":3},{\\\"curriculum_requisites\\\":[],\\\"name\\\":\\\" \\\",\\\"metrics\\\":{\\\"centrality\\\":0,\\\"complexity\\\":1.0,\\\"blocking factor\\\":0,\\\"delay factor\\\":1.0},\\\"nameSub\\\":\\\"Outside Tech. Elective\\\",\\\"id\\\":28,\\\"credits\\\":3},{\\\"curriculum_requisites\\\":[],\\\"name\\\":\\\" \\\",\\\"metrics\\\":{\\\"centrality\\\":0,\\\"complexity\\\":1.0,\\\"blocking factor\\\":0,\\\"delay factor\\\":1.0},\\\"nameSub\\\":\\\"Elective\\\",\\\"id\\\":29,\\\"credits\\\":3},{\\\"curriculum_requisites\\\":[],\\\"name\\\":\\\" \\\",\\\"metrics\\\":{\\\"centrality\\\":0,\\\"complexity\\\":1.0,\\\"blocking factor\\\":0,\\\"delay factor\\\":1.0},\\\"nameSub\\\":\\\"Liberal Studies\\\",\\\"id\\\":30,\\\"credits\\\":3}],\\\"id\\\":6},{\\\"name\\\":\\\"Term 7\\\",\\\"curriculum_items\\\":[{\\\"curriculum_requisites\\\":[],\\\"name\\\":\\\" \\\",\\\"metrics\\\":{\\\"centrality\\\":0,\\\"complexity\\\":1.0,\\\"blocking factor\\\":0,\\\"delay factor\\\":1.0},\\\"nameSub\\\":\\\"ECE Elective \\\",\\\"id\\\":31,\\\"credits\\\":3},{\\\"curriculum_requisites\\\":[],\\\"name\\\":\\\" \\\",\\\"metrics\\\":{\\\"centrality\\\":0,\\\"complexity\\\":1.0,\\\"blocking factor\\\":0,\\\"delay factor\\\":1.0},\\\"nameSub\\\":\\\"ECE Elective\\\",\\\"id\\\":32,\\\"credits\\\":3},{\\\"curriculum_requisites\\\":[],\\\"name\\\":\\\" \\\",\\\"metrics\\\":{\\\"centrality\\\":0,\\\"complexity\\\":1.0,\\\"blocking factor\\\":0,\\\"delay factor\\\":1.0},\\\"nameSub\\\":\\\"Outside Tech. Elective\\\",\\\"id\\\":33,\\\"credits\\\":3},{\\\"curriculum_requisites\\\":[],\\\"name\\\":\\\" \\\",\\\"metrics\\\":{\\\"centrality\\\":0,\\\"complexity\\\":1.0,\\\"blocking factor\\\":0,\\\"delay factor\\\":1.0},\\\"nameSub\\\":\\\"Liberal Studies\\\",\\\"id\\\":34,\\\"credits\\\":3}],\\\"id\\\":7},{\\\"name\\\":\\\"Term 8\\\",\\\"curriculum_items\\\":[{\\\"curriculum_requisites\\\":[],\\\"name\\\":\\\" \\\",\\\"metrics\\\":{\\\"centrality\\\":0,\\\"complexity\\\":1.0,\\\"blocking factor\\\":0,\\\"delay factor\\\":1.0},\\\"nameSub\\\":\\\"ECE Elective\\\",\\\"id\\\":35,\\\"credits\\\":3},{\\\"curriculum_requisites\\\":[],\\\"name\\\":\\\" \\\",\\\"metrics\\\":{\\\"centrality\\\":0,\\\"complexity\\\":1.0,\\\"blocking factor\\\":0,\\\"delay factor\\\":1.0},\\\"nameSub\\\":\\\"ECE Elective\\\",\\\"id\\\":36,\\\"credits\\\":3},{\\\"curriculum_requisites\\\":[],\\\"name\\\":\\\" \\\",\\\"metrics\\\":{\\\"centrality\\\":0,\\\"complexity\\\":1.0,\\\"blocking factor\\\":0,\\\"delay factor\\\":1.0},\\\"nameSub\\\":\\\"ECE Elective\\\",\\\"id\\\":37,\\\"credits\\\":3},{\\\"curriculum_requisites\\\":[],\\\"name\\\":\\\" \\\",\\\"metrics\\\":{\\\"centrality\\\":0,\\\"complexity\\\":1.0,\\\"blocking factor\\\":0,\\\"delay factor\\\":1.0},\\\"nameSub\\\":\\\"Liberal Studies\\\",\\\"id\\\":38,\\\"credits\\\":3}],\\\"id\\\":8}],\\\"institution\\\":\\\"\\\"}},\\\"*\\\"); window.removeEventListener(\\\"message\\\",window.messageReceived); window.messageReceived=(function (event){return (event.data.curriculum!==undefined) ? (_webIOScope.setObservableValue({\\\"name\\\":\\\"curriculum-data\\\",\\\"scope\\\":\\\"scope-26f3879b-6d68-4532-8cf1-d0bc514d6f31\\\",\\\"id\\\":\\\"ob_02\\\",\\\"type\\\":\\\"observable\\\"},event.data.curriculum)) : undefined}); return window.addEventListener(\\\"message\\\",window.messageReceived)})\"},\"style\":{\"padding\":\"0\",\"height\":\"100vh\",\"margin\":\"0\",\"border\":\"none\",\"width\":\"100%\"}},\"nodeType\":\"DOM\",\"type\":\"node\",\"instanceArgs\":{\"namespace\":\"html\",\"tag\":\"iframe\"},\"children\":[\"\"]}]},\n",
       "        );\n",
       "    } else {\n",
       "        document\n",
       "            .querySelector('[data-webio-mountpoint=\"13666602685982485499\"]')\n",
       "            .innerHTML = '<strong>WebIO not detected.</strong>';\n",
       "    }\n",
       "    </script>\n",
       "</div>\n"
      ],
      "text/plain": [
       "WebIO.Scope(\"scope-26f3879b-6d68-4532-8cf1-d0bc514d6f31\", WebIO.Node{WebIO.DOM}(WebIO.DOM(:html, :iframe), Any[\"\"], Dict{Symbol,Any}(:src=>\"http://localhost:8156\",:id=>\"curriculum\",:events=>Dict(:load=>JSString(\"(function (){this.contentWindow.postMessage({\\\"options\\\":{\\\"hideTerms\\\":false,\\\"edit\\\":false},\\\"curriculum\\\":{\\\"name\\\":\\\"\\\",\\\"dp_name\\\":\\\"\\\",\\\"curriculum_terms\\\":[{\\\"name\\\":\\\"Term 1\\\",\\\"curriculum_items\\\":[{\\\"curriculum_requisites\\\":[],\\\"name\\\":\\\"CHEM 2090\\\",\\\"metrics\\\":{\\\"centrality\\\":0,\\\"complexity\\\":1.0,\\\"blocking factor\\\":0,\\\"delay factor\\\":1.0},\\\"nameSub\\\":\\\"CHEM 2090\\\",\\\"id\\\":1,\\\"credits\\\":3},{\\\"curriculum_requisites\\\":[],\\\"name\\\":\\\"MATH 1910\\\",\\\"metrics\\\":{\\\"centrality\\\":0,\\\"complexity\\\":15.0,\\\"blocking factor\\\":10,\\\"delay factor\\\":5.0},\\\"nameSub\\\":\\\"MATH 1910\\\",\\\"id\\\":2,\\\"credits\\\":3},{\\\"curriculum_requisites\\\":[],\\\"name\\\":\\\"ENGRI 1xxx\\\",\\\"metrics\\\":{\\\"centrality\\\":0,\\\"complexity\\\":1.0,\\\"blocking factor\\\":0,\\\"delay factor\\\":1.0},\\\"nameSub\\\":\\\"ENGRI 1xxx\\\",\\\"id\\\":3,\\\"credits\\\":3},{\\\"curriculum_requisites\\\":[],\\\"name\\\":\\\" \\\",\\\"metrics\\\":{\\\"centrality\\\":0,\\\"complexity\\\":1.0,\\\"blocking factor\\\":0,\\\"delay factor\\\":1.0},\\\"nameSub\\\":\\\"1st Yr Writing Seminar\\\",\\\"id\\\":4,\\\"credits\\\":3},{\\\"curriculum_requisites\\\":[],\\\"name\\\":\\\" \\\",\\\"metrics\\\":{\\\"centrality\\\":0,\\\"complexity\\\":1.0,\\\"blocking factor\\\":0,\\\"delay factor\\\":1.0},\\\"nameSub\\\":\\\"PE\\\",\\\"id\\\":5,\\\"credits\\\":3}],\\\"id\\\":1},{\\\"name\\\":\\\"Term 2\\\",\\\"curriculum_items\\\":[{\\\"curriculum_requisites\\\":[{\\\"source_id\\\":2,\\\"target_id\\\":6,\\\"type\\\":\\\"strict-coreq\\\"}],\\\"name\\\":\\\"PHYS 1112\\\",\\\"metrics\\\":{\\\"centrality\\\":9,\\\"complexity\\\":9.0,\\\"blocking factor\\\":4,\\\"delay factor\\\":5.0},\\\"nameSub\\\":\\\"PHYS 1112\\\",\\\"id\\\":6,\\\"credits\\\":3},{\\\"curriculum_requisites\\\":[{\\\"source_id\\\":2,\\\"target_id\\\":7,\\\"type\\\":\\\"strict-coreq\\\"}],\\\"name\\\":\\\"MATH 1920\\\",\\\"metrics\\\":{\\\"centrality\\\":28,\\\"complexity\\\":12.0,\\\"blocking factor\\\":8,\\\"delay factor\\\":4.0},\\\"nameSub\\\":\\\"MATH 1920\\\",\\\"id\\\":7,\\\"credits\\\":3},{\\\"curriculum_requisites\\\":[],\\\"name\\\":\\\"CS 111x\\\",\\\"metrics\\\":{\\\"centrality\\\":0,\\\"complexity\\\":6.0,\\\"blocking factor\\\":3,\\\"delay factor\\\":3.0},\\\"nameSub\\\":\\\"CS 111x\\\",\\\"id\\\":8,\\\"credits\\\":3},{\\\"curriculum_requisites\\\":[],\\\"name\\\":\\\" \\\",\\\"metrics\\\":{\\\"centrality\\\":0,\\\"complexity\\\":1.0,\\\"blocking factor\\\":0,\\\"delay factor\\\":1.0},\\\"nameSub\\\":\\\"1st Yr Writing Seminar\\\",\\\"id\\\":9,\\\"credits\\\":3},{\\\"curriculum_requisites\\\":[],\\\"name\\\":\\\" \\\",\\\"metrics\\\":{\\\"centrality\\\":0,\\\"complexity\\\":1.0,\\\"blocking factor\\\":0,\\\"delay factor\\\":1.0},\\\"nameSub\\\":\\\"PE\\\",\\\"id\\\":10,\\\"credits\\\":3}],\\\"id\\\":2},{\\\"name\\\":\\\"Term 3\\\",\\\"curriculum_items\\\":[{\\\"curriculum_requisites\\\":[{\\\"source_id\\\":7,\\\"target_id\\\":11,\\\"type\\\":\\\"strict-coreq\\\"},{\\\"source_id\\\":6,\\\"target_id\\\":11,\\\"type\\\":\\\"strict-coreq\\\"}],\\\"name\\\":\\\"PHYS 2213\\\",\\\"metrics\\\":{\\\"centrality\\\":18,\\\"complexity\\\":8.0,\\\"blocking factor\\\":3,\\\"delay factor\\\":5.0},\\\"nameSub\\\":\\\"PHYS 2213\\\",\\\"id\\\":11,\\\"credits\\\":3},{\\\"curriculum_requisites\\\":[{\\\"source_id\\\":7,\\\"target_id\\\":12,\\\"type\\\":\\\"strict-coreq\\\"}],\\\"name\\\":\\\"MATH 2930\\\",\\\"metrics\\\":{\\\"centrality\\\":14,\\\"complexity\\\":8.0,\\\"blocking factor\\\":4,\\\"delay factor\\\":4.0},\\\"nameSub\\\":\\\"MATH 2930\\\",\\\"id\\\":12,\\\"credits\\\":3},{\\\"curriculum_requisites\\\":[{\\\"source_id\\\":11,\\\"target_id\\\":13,\\\"type\\\":\\\"strict-coreq\\\"},{\\\"source_id\\\":12,\\\"target_id\\\":13,\\\"type\\\":\\\"strict-coreq\\\"}],\\\"name\\\":\\\"ECE/ENGRD 2100\\\",\\\"metrics\\\":{\\\"centrality\\\":15,\\\"complexity\\\":6.0,\\\"blocking factor\\\":1,\\\"delay factor\\\":5.0},\\\"nameSub\\\":\\\"ECE/ENGRD 2100\\\",\\\"id\\\":13,\\\"credits\\\":3},{\\\"curriculum_requisites\\\":[{\\\"source_id\\\":8,\\\"target_id\\\":14,\\\"type\\\":\\\"strict-coreq\\\"}],\\\"name\\\":\\\"MECE/ENGRD 2300\\\",\\\"metrics\\\":{\\\"centrality\\\":3,\\\"complexity\\\":4.0,\\\"blocking factor\\\":1,\\\"delay factor\\\":3.0},\\\"nameSub\\\":\\\"MECE/ENGRD 2300\\\",\\\"id\\\":14,\\\"credits\\\":3},{\\\"curriculum_requisites\\\":[],\\\"name\\\":\\\" \\\",\\\"metrics\\\":{\\\"centrality\\\":0,\\\"complexity\\\":1.0,\\\"blocking factor\\\":0,\\\"delay factor\\\":1.0},\\\"nameSub\\\":\\\"Liberal Studies\\\",\\\"id\\\":15,\\\"credits\\\":3}],\\\"id\\\":3},{\\\"name\\\":\\\"Term 4\\\",\\\"curriculum_items\\\":[{\\\"curriculum_requisites\\\":[{\\\"source_id\\\":12,\\\"target_id\\\":16,\\\"type\\\":\\\"strict-coreq\\\"}],\\\"name\\\":\\\"PHYS 2214\\\",\\\"metrics\\\":{\\\"centrality\\\":0,\\\"complexity\\\":4.0,\\\"blocking factor\\\":0,\\\"delay factor\\\":4.0},\\\"nameSub\\\":\\\"PHYS 2214\\\",\\\"id\\\":16,\\\"credits\\\":3},{\\\"curriculum_requisites\\\":[{\\\"source_id\\\":7,\\\"target_id\\\":17,\\\"type\\\":\\\"strict-coreq\\\"}],\\\"name\\\":\\\"MATH 2940\\\",\\\"metrics\\\":{\\\"centrality\\\":5,\\\"complexity\\\":5.0,\\\"blocking factor\\\":2,\\\"delay factor\\\":3.0},\\\"nameSub\\\":\\\"MATH 2940\\\",\\\"id\\\":17,\\\"credits\\\":3},{\\\"curriculum_requisites\\\":[{\\\"source_id\\\":11,\\\"target_id\\\":18,\\\"type\\\":\\\"strict-coreq\\\"}],\\\"name\\\":\\\"ENGRD 2xxx\\\",\\\"metrics\\\":{\\\"centrality\\\":0,\\\"complexity\\\":4.0,\\\"blocking factor\\\":0,\\\"delay factor\\\":4.0},\\\"nameSub\\\":\\\"ENGRD 2xxx\\\",\\\"id\\\":18,\\\"credits\\\":3},{\\\"curriculum_requisites\\\":[{\\\"source_id\\\":17,\\\"target_id\\\":19,\\\"type\\\":\\\"strict-coreq\\\"},{\\\"source_id\\\":12,\\\"target_id\\\":19,\\\"type\\\":\\\"strict-coreq\\\"}],\\\"name\\\":\\\"ECE/ENGRD 2200/2220\\\",\\\"metrics\\\":{\\\"centrality\\\":10,\\\"complexity\\\":5.0,\\\"blocking factor\\\":1,\\\"delay factor\\\":4.0},\\\"nameSub\\\":\\\"ECE 2200/ENGRD 2220\\\",\\\"id\\\":19,\\\"credits\\\":3},{\\\"curriculum_requisites\\\":[],\\\"name\\\":\\\" \\\",\\\"metrics\\\":{\\\"centrality\\\":0,\\\"complexity\\\":1.0,\\\"blocking factor\\\":0,\\\"delay factor\\\":1.0},\\\"nameSub\\\":\\\"Liberal Studies\\\",\\\"id\\\":20,\\\"credits\\\":3}],\\\"id\\\":4},{\\\"name\\\":\\\"Term 5\\\",\\\"curriculum_items\\\":[{\\\"curriculum_requisites\\\":[],\\\"name\\\":\\\" \\\",\\\"metrics\\\":{\\\"centrality\\\":0,\\\"complexity\\\":1.0,\\\"blocking factor\\\":0,\\\"delay factor\\\":1.0},\\\"nameSub\\\":\\\"ECE Foundations\\\",\\\"id\\\":21,\\\"credits\\\":3},{\\\"curriculum_requisites\\\":[],\\\"name\\\":\\\" \\\",\\\"metrics\\\":{\\\"centrality\\\":0,\\\"complexity\\\":1.0,\\\"blocking factor\\\":0,\\\"delay factor\\\":1.0},\\\"nameSub\\\":\\\"Elective\\\",\\\"id\\\":22,\\\"credits\\\":3},{\\\"curriculum_requisites\\\":[{\\\"source_id\\\":8,\\\"target_id\\\":23,\\\"type\\\":\\\"strict-coreq\\\"}],\\\"name\\\":\\\" \\\",\\\"metrics\\\":{\\\"centrality\\\":0,\\\"complexity\\\":2.0,\\\"blocking factor\\\":0,\\\"delay factor\\\":2.0},\\\"nameSub\\\":\\\"Outside Tech. Elective\\\",\\\"id\\\":23,\\\"credits\\\":3},{\\\"curriculum_requisites\\\":[{\\\"source_id\\\":13,\\\"target_id\\\":24,\\\"type\\\":\\\"strict-coreq\\\"},{\\\"source_id\\\":14,\\\"target_id\\\":24,\\\"type\\\":\\\"strict-coreq\\\"},{\\\"source_id\\\":19,\\\"target_id\\\":24,\\\"type\\\":\\\"strict-coreq\\\"}],\\\"name\\\":\\\"ECE 3400\\\",\\\"metrics\\\":{\\\"centrality\\\":0,\\\"complexity\\\":5.0,\\\"blocking factor\\\":0,\\\"delay factor\\\":5.0},\\\"nameSub\\\":\\\"ECE 3400\\\",\\\"id\\\":24,\\\"credits\\\":3},{\\\"curriculum_requisites\\\":[],\\\"name\\\":\\\" \\\",\\\"metrics\\\":{\\\"centrality\\\":0,\\\"complexity\\\":1.0,\\\"blocking factor\\\":0,\\\"delay factor\\\":1.0},\\\"nameSub\\\":\\\"Liberal Studies\\\",\\\"id\\\":25,\\\"credits\\\":3}],\\\"id\\\":5},{\\\"name\\\":\\\"Term 6\\\",\\\"curriculum_items\\\":[{\\\"curriculum_requisites\\\":[],\\\"name\\\":\\\" \\\",\\\"metrics\\\":{\\\"centrality\\\":0,\\\"complexity\\\":1.0,\\\"blocking factor\\\":0,\\\"delay factor\\\":1.0},\\\"nameSub\\\":\\\"ECE Foundations\\\",\\\"id\\\":26,\\\"credits\\\":3},{\\\"curriculum_requisites\\\":[],\\\"name\\\":\\\" \\\",\\\"metrics\\\":{\\\"centrality\\\":0,\\\"complexity\\\":1.0,\\\"blocking factor\\\":0,\\\"delay factor\\\":1.0},\\\"nameSub\\\":\\\"ECE Foundations\\\",\\\"id\\\":27,\\\"credits\\\":3},{\\\"curriculum_requisites\\\":[],\\\"name\\\":\\\" \\\",\\\"metrics\\\":{\\\"centrality\\\":0,\\\"complexity\\\":1.0,\\\"blocking factor\\\":0,\\\"delay factor\\\":1.0},\\\"nameSub\\\":\\\"Outside Tech. Elective\\\",\\\"id\\\":28,\\\"credits\\\":3},{\\\"curriculum_requisites\\\":[],\\\"name\\\":\\\" \\\",\\\"metrics\\\":{\\\"centrality\\\":0,\\\"complexity\\\":1.0,\\\"blocking factor\\\":0,\\\"delay factor\\\":1.0},\\\"nameSub\\\":\\\"Elective\\\",\\\"id\\\":29,\\\"credits\\\":3},{\\\"curriculum_requisites\\\":[],\\\"name\\\":\\\" \\\",\\\"metrics\\\":{\\\"centrality\\\":0,\\\"complexity\\\":1.0,\\\"blocking factor\\\":0,\\\"delay factor\\\":1.0},\\\"nameSub\\\":\\\"Liberal Studies\\\",\\\"id\\\":30,\\\"credits\\\":3}],\\\"id\\\":6},{\\\"name\\\":\\\"Term 7\\\",\\\"curriculum_items\\\":[{\\\"curriculum_requisites\\\":[],\\\"name\\\":\\\" \\\",\\\"metrics\\\":{\\\"centrality\\\":0,\\\"complexity\\\":1.0,\\\"blocking factor\\\":0,\\\"delay factor\\\":1.0},\\\"nameSub\\\":\\\"ECE Elective \\\",\\\"id\\\":31,\\\"credits\\\":3},{\\\"curriculum_requisites\\\":[],\\\"name\\\":\\\" \\\",\\\"metrics\\\":{\\\"centrality\\\":0,\\\"complexity\\\":1.0,\\\"blocking factor\\\":0,\\\"delay factor\\\":1.0},\\\"nameSub\\\":\\\"ECE Elective\\\",\\\"id\\\":32,\\\"credits\\\":3},{\\\"curriculum_requisites\\\":[],\\\"name\\\":\\\" \\\",\\\"metrics\\\":{\\\"centrality\\\":0,\\\"complexity\\\":1.0,\\\"blocking factor\\\":0,\\\"delay factor\\\":1.0},\\\"nameSub\\\":\\\"Outside Tech. Elective\\\",\\\"id\\\":33,\\\"credits\\\":3},{\\\"curriculum_requisites\\\":[],\\\"name\\\":\\\" \\\",\\\"metrics\\\":{\\\"centrality\\\":0,\\\"complexity\\\":1.0,\\\"blocking factor\\\":0,\\\"delay factor\\\":1.0},\\\"nameSub\\\":\\\"Liberal Studies\\\",\\\"id\\\":34,\\\"credits\\\":3}],\\\"id\\\":7},{\\\"name\\\":\\\"Term 8\\\",\\\"curriculum_items\\\":[{\\\"curriculum_requisites\\\":[],\\\"name\\\":\\\" \\\",\\\"metrics\\\":{\\\"centrality\\\":0,\\\"complexity\\\":1.0,\\\"blocking factor\\\":0,\\\"delay factor\\\":1.0},\\\"nameSub\\\":\\\"ECE Elective\\\",\\\"id\\\":35,\\\"credits\\\":3},{\\\"curriculum_requisites\\\":[],\\\"name\\\":\\\" \\\",\\\"metrics\\\":{\\\"centrality\\\":0,\\\"complexity\\\":1.0,\\\"blocking factor\\\":0,\\\"delay factor\\\":1.0},\\\"nameSub\\\":\\\"ECE Elective\\\",\\\"id\\\":36,\\\"credits\\\":3},{\\\"curriculum_requisites\\\":[],\\\"name\\\":\\\" \\\",\\\"metrics\\\":{\\\"centrality\\\":0,\\\"complexity\\\":1.0,\\\"blocking factor\\\":0,\\\"delay factor\\\":1.0},\\\"nameSub\\\":\\\"ECE Elective\\\",\\\"id\\\":37,\\\"credits\\\":3},{\\\"curriculum_requisites\\\":[],\\\"name\\\":\\\" \\\",\\\"metrics\\\":{\\\"centrality\\\":0,\\\"complexity\\\":1.0,\\\"blocking factor\\\":0,\\\"delay factor\\\":1.0},\\\"nameSub\\\":\\\"Liberal Studies\\\",\\\"id\\\":38,\\\"credits\\\":3}],\\\"id\\\":8}],\\\"institution\\\":\\\"\\\"}},\\\"*\\\"); window.removeEventListener(\\\"message\\\",window.messageReceived); window.messageReceived=(function (event){return (event.data.curriculum!==undefined) ? (_webIOScope.setObservableValue({\\\"name\\\":\\\"curriculum-data\\\",\\\"scope\\\":\\\"scope-26f3879b-6d68-4532-8cf1-d0bc514d6f31\\\",\\\"id\\\":\\\"ob_02\\\",\\\"type\\\":\\\"observable\\\"},event.data.curriculum)) : undefined}); return window.addEventListener(\\\"message\\\",window.messageReceived)})\")),:style=>Dict(:padding=>\"0\",:height=>\"100vh\",:margin=>\"0\",:border=>\"none\",:width=>\"100%\")), 1), Dict{String,Tuple{Observables.AbstractObservable,Union{Nothing, Bool}}}(\"curriculum-data\"=>(Observable{Dict{String,Any}} with 1 listeners. Value:\n",
       "Dict{String,Any}(\"options\"=>Dict{String,Any}(\"hideTerms\"=>false,\"edit\"=>false),\"curriculum\"=>Dict{String,Any}(\"name\"=>\"\",\"dp_name\"=>\"\",\"curriculum_terms\"=>Dict{String,Any}[Dict(\"name\"=>\"Term 1\",\"curriculum_items\"=>Dict{String,Any}[Dict(\"curriculum_requisites\"=>Dict{String,Any}[],\"name\"=>\"CHEM 2090\",\"metrics\"=>Dict{String,Any}(\"centrality\"=>0,\"complexity\"=>1.0,\"blocking factor\"=>0,\"delay factor\"=>1.0),\"nameSub\"=>\"CHEM 2090\",\"id\"=>1,\"credits\"=>3), Dict(\"curriculum_requisites\"=>Dict{String,Any}[],\"name\"=>\"MATH 1910\",\"metrics\"=>Dict{String,Any}(\"centrality\"=>0,\"complexity\"=>15.0,\"blocking factor\"=>10,\"delay factor\"=>5.0),\"nameSub\"=>\"MATH 1910\",\"id\"=>2,\"credits\"=>3), Dict(\"curriculum_requisites\"=>Dict{String,Any}[],\"name\"=>\"ENGRI 1xxx\",\"metrics\"=>Dict{String,Any}(\"centrality\"=>0,\"complexity\"=>1.0,\"blocking factor\"=>0,\"delay factor\"=>1.0),\"nameSub\"=>\"ENGRI 1xxx\",\"id\"=>3,\"credits\"=>3), Dict(\"curriculum_requisites\"=>Dict{String,Any}[],\"name\"=>\" \",\"metrics\"=>Dict{String,Any}(\"centrality\"=>0,\"complexity\"=>1.0,\"blocking factor\"=>0,\"delay factor\"=>1.0),\"nameSub\"=>\"1st Yr Writing Seminar\",\"id\"=>4,\"credits\"=>3), Dict(\"curriculum_requisites\"=>Dict{String,Any}[],\"name\"=>\" \",\"metrics\"=>Dict{String,Any}(\"centrality\"=>0,\"complexity\"=>1.0,\"blocking factor\"=>0,\"delay factor\"=>1.0),\"nameSub\"=>\"PE\",\"id\"=>5,\"credits\"=>3)],\"id\"=>1), Dict(\"name\"=>\"Term 2\",\"curriculum_items\"=>Dict{String,Any}[Dict(\"curriculum_requisites\"=>Dict{String,Any}[Dict(\"source_id\"=>2,\"target_id\"=>6,\"type\"=>\"strict-coreq\")],\"name\"=>\"PHYS 1112\",\"metrics\"=>Dict{String,Any}(\"centrality\"=>9,\"complexity\"=>9.0,\"blocking factor\"=>4,\"delay factor\"=>5.0),\"nameSub\"=>\"PHYS 1112\",\"id\"=>6,\"credits\"=>3), Dict(\"curriculum_requisites\"=>Dict{String,Any}[Dict(\"source_id\"=>2,\"target_id\"=>7,\"type\"=>\"strict-coreq\")],\"name\"=>\"MATH 1920\",\"metrics\"=>Dict{String,Any}(\"centrality\"=>28,\"complexity\"=>12.0,\"blocking factor\"=>8,\"delay factor\"=>4.0),\"nameSub\"=>\"MATH 1920\",\"id\"=>7,\"credits\"=>3), Dict(\"curriculum_requisites\"=>Dict{String,Any}[],\"name\"=>\"CS 111x\",\"metrics\"=>Dict{String,Any}(\"centrality\"=>0,\"complexity\"=>6.0,\"blocking factor\"=>3,\"delay factor\"=>3.0),\"nameSub\"=>\"CS 111x\",\"id\"=>8,\"credits\"=>3), Dict(\"curriculum_requisites\"=>Dict{String,Any}[],\"name\"=>\" \",\"metrics\"=>Dict{String,Any}(\"centrality\"=>0,\"complexity\"=>1.0,\"blocking factor\"=>0,\"delay factor\"=>1.0),\"nameSub\"=>\"1st Yr Writing Seminar\",\"id\"=>9,\"credits\"=>3), Dict(\"curriculum_requisites\"=>Dict{String,Any}[],\"name\"=>\" \",\"metrics\"=>Dict{String,Any}(\"centrality\"=>0,\"complexity\"=>1.0,\"blocking factor\"=>0,\"delay factor\"=>1.0),\"nameSub\"=>\"PE\",\"id\"=>10,\"credits\"=>3)],\"id\"=>2), Dict(\"name\"=>\"Term 3\",\"curriculum_items\"=>Dict{String,Any}[Dict(\"curriculum_requisites\"=>Dict{String,Any}[Dict(\"source_id\"=>7,\"target_id\"=>11,\"type\"=>\"strict-coreq\"), Dict(\"source_id\"=>6,\"target_id\"=>11,\"type\"=>\"strict-coreq\")],\"name\"=>\"PHYS 2213\",\"metrics\"=>Dict{String,Any}(\"centrality\"=>18,\"complexity\"=>8.0,\"blocking factor\"=>3,\"delay factor\"=>5.0),\"nameSub\"=>\"PHYS 2213\",\"id\"=>11,\"credits\"=>3), Dict(\"curriculum_requisites\"=>Dict{String,Any}[Dict(\"source_id\"=>7,\"target_id\"=>12,\"type\"=>\"strict-coreq\")],\"name\"=>\"MATH 2930\",\"metrics\"=>Dict{String,Any}(\"centrality\"=>14,\"complexity\"=>8.0,\"blocking factor\"=>4,\"delay factor\"=>4.0),\"nameSub\"=>\"MATH 2930\",\"id\"=>12,\"credits\"=>3), Dict(\"curriculum_requisites\"=>Dict{String,Any}[Dict(\"source_id\"=>11,\"target_id\"=>13,\"type\"=>\"strict-coreq\"), Dict(\"source_id\"=>12,\"target_id\"=>13,\"type\"=>\"strict-coreq\")],\"name\"=>\"ECE/ENGRD 2100\",\"metrics\"=>Dict{String,Any}(\"centrality\"=>15,\"complexity\"=>6.0,\"blocking factor\"=>1,\"delay factor\"=>5.0),\"nameSub\"=>\"ECE/ENGRD 2100\",\"id\"=>13,\"credits\"=>3), Dict(\"curriculum_requisites\"=>Dict{String,Any}[Dict(\"source_id\"=>8,\"target_id\"=>14,\"type\"=>\"strict-coreq\")],\"name\"=>\"MECE/ENGRD 2300\",\"metrics\"=>Dict{String,Any}(\"centrality\"=>3,\"complexity\"=>4.0,\"blocking factor\"=>1,\"delay factor\"=>3.0),\"nameSub\"=>\"MECE/ENGRD 2300\",\"id\"=>14,\"credits\"=>3), Dict(\"curriculum_requisites\"=>Dict{String,Any}[],\"name\"=>\" \",\"metrics\"=>Dict{String,Any}(\"centrality\"=>0,\"complexity\"=>1.0,\"blocking factor\"=>0,\"delay factor\"=>1.0),\"nameSub\"=>\"Liberal Studies\",\"id\"=>15,\"credits\"=>3)],\"id\"=>3), Dict(\"name\"=>\"Term 4\",\"curriculum_items\"=>Dict{String,Any}[Dict(\"curriculum_requisites\"=>Dict{String,Any}[Dict(\"source_id\"=>12,\"target_id\"=>16,\"type\"=>\"strict-coreq\")],\"name\"=>\"PHYS 2214\",\"metrics\"=>Dict{String,Any}(\"centrality\"=>0,\"complexity\"=>4.0,\"blocking factor\"=>0,\"delay factor\"=>4.0),\"nameSub\"=>\"PHYS 2214\",\"id\"=>16,\"credits\"=>3), Dict(\"curriculum_requisites\"=>Dict{String,Any}[Dict(\"source_id\"=>7,\"target_id\"=>17,\"type\"=>\"strict-coreq\")],\"name\"=>\"MATH 2940\",\"metrics\"=>Dict{String,Any}(\"centrality\"=>5,\"complexity\"=>5.0,\"blocking factor\"=>2,\"delay factor\"=>3.0),\"nameSub\"=>\"MATH 2940\",\"id\"=>17,\"credits\"=>3), Dict(\"curriculum_requisites\"=>Dict{String,Any}[Dict(\"source_id\"=>11,\"target_id\"=>18,\"type\"=>\"strict-coreq\")],\"name\"=>\"ENGRD 2xxx\",\"metrics\"=>Dict{String,Any}(\"centrality\"=>0,\"complexity\"=>4.0,\"blocking factor\"=>0,\"delay factor\"=>4.0),\"nameSub\"=>\"ENGRD 2xxx\",\"id\"=>18,\"credits\"=>3), Dict(\"curriculum_requisites\"=>Dict{String,Any}[Dict(\"source_id\"=>17,\"target_id\"=>19,\"type\"=>\"strict-coreq\"), Dict(\"source_id\"=>12,\"target_id\"=>19,\"type\"=>\"strict-coreq\")],\"name\"=>\"ECE/ENGRD 2200/2220\",\"metrics\"=>Dict{String,Any}(\"centrality\"=>10,\"complexity\"=>5.0,\"blocking factor\"=>1,\"delay factor\"=>4.0),\"nameSub\"=>\"ECE 2200/ENGRD 2220\",\"id\"=>19,\"credits\"=>3), Dict(\"curriculum_requisites\"=>Dict{String,Any}[],\"name\"=>\" \",\"metrics\"=>Dict{String,Any}(\"centrality\"=>0,\"complexity\"=>1.0,\"blocking factor\"=>0,\"delay factor\"=>1.0),\"nameSub\"=>\"Liberal Studies\",\"id\"=>20,\"credits\"=>3)],\"id\"=>4), Dict(\"name\"=>\"Term 5\",\"curriculum_items\"=>Dict{String,Any}[Dict(\"curriculum_requisites\"=>Dict{String,Any}[],\"name\"=>\" \",\"metrics\"=>Dict{String,Any}(\"centrality\"=>0,\"complexity\"=>1.0,\"blocking factor\"=>0,\"delay factor\"=>1.0),\"nameSub\"=>\"ECE Foundations\",\"id\"=>21,\"credits\"=>3), Dict(\"curriculum_requisites\"=>Dict{String,Any}[],\"name\"=>\" \",\"metrics\"=>Dict{String,Any}(\"centrality\"=>0,\"complexity\"=>1.0,\"blocking factor\"=>0,\"delay factor\"=>1.0),\"nameSub\"=>\"Elective\",\"id\"=>22,\"credits\"=>3), Dict(\"curriculum_requisites\"=>Dict{String,Any}[Dict(\"source_id\"=>8,\"target_id\"=>23,\"type\"=>\"strict-coreq\")],\"name\"=>\" \",\"metrics\"=>Dict{String,Any}(\"centrality\"=>0,\"complexity\"=>2.0,\"blocking factor\"=>0,\"delay factor\"=>2.0),\"nameSub\"=>\"Outside Tech. Elective\",\"id\"=>23,\"credits\"=>3), Dict(\"curriculum_requisites\"=>Dict{String,Any}[Dict(\"source_id\"=>13,\"target_id\"=>24,\"type\"=>\"strict-coreq\"), Dict(\"source_id\"=>14,\"target_id\"=>24,\"type\"=>\"strict-coreq\"), Dict(\"source_id\"=>19,\"target_id\"=>24,\"type\"=>\"strict-coreq\")],\"name\"=>\"ECE 3400\",\"metrics\"=>Dict{String,Any}(\"centrality\"=>0,\"complexity\"=>5.0,\"blocking factor\"=>0,\"delay factor\"=>5.0),\"nameSub\"=>\"ECE 3400\",\"id\"=>24,\"credits\"=>3), Dict(\"curriculum_requisites\"=>Dict{String,Any}[],\"name\"=>\" \",\"metrics\"=>Dict{String,Any}(\"centrality\"=>0,\"complexity\"=>1.0,\"blocking factor\"=>0,\"delay factor\"=>1.0),\"nameSub\"=>\"Liberal Studies\",\"id\"=>25,\"credits\"=>3)],\"id\"=>5), Dict(\"name\"=>\"Term 6\",\"curriculum_items\"=>Dict{String,Any}[Dict(\"curriculum_requisites\"=>Dict{String,Any}[],\"name\"=>\" \",\"metrics\"=>Dict{String,Any}(\"centrality\"=>0,\"complexity\"=>1.0,\"blocking factor\"=>0,\"delay factor\"=>1.0),\"nameSub\"=>\"ECE Foundations\",\"id\"=>26,\"credits\"=>3), Dict(\"curriculum_requisites\"=>Dict{String,Any}[],\"name\"=>\" \",\"metrics\"=>Dict{String,Any}(\"centrality\"=>0,\"complexity\"=>1.0,\"blocking factor\"=>0,\"delay factor\"=>1.0),\"nameSub\"=>\"ECE Foundations\",\"id\"=>27,\"credits\"=>3), Dict(\"curriculum_requisites\"=>Dict{String,Any}[],\"name\"=>\" \",\"metrics\"=>Dict{String,Any}(\"centrality\"=>0,\"complexity\"=>1.0,\"blocking factor\"=>0,\"delay factor\"=>1.0),\"nameSub\"=>\"Outside Tech. Elective\",\"id\"=>28,\"credits\"=>3), Dict(\"curriculum_requisites\"=>Dict{String,Any}[],\"name\"=>\" \",\"metrics\"=>Dict{String,Any}(\"centrality\"=>0,\"complexity\"=>1.0,\"blocking factor\"=>0,\"delay factor\"=>1.0),\"nameSub\"=>\"Elective\",\"id\"=>29,\"credits\"=>3), Dict(\"curriculum_requisites\"=>Dict{String,Any}[],\"name\"=>\" \",\"metrics\"=>Dict{String,Any}(\"centrality\"=>0,\"complexity\"=>1.0,\"blocking factor\"=>0,\"delay factor\"=>1.0),\"nameSub\"=>\"Liberal Studies\",\"id\"=>30,\"credits\"=>3)],\"id\"=>6), Dict(\"name\"=>\"Term 7\",\"curriculum_items\"=>Dict{String,Any}[Dict(\"curriculum_requisites\"=>Dict{String,Any}[],\"name\"=>\" \",\"metrics\"=>Dict{String,Any}(\"centrality\"=>0,\"complexity\"=>1.0,\"blocking factor\"=>0,\"delay factor\"=>1.0),\"nameSub\"=>\"ECE Elective \",\"id\"=>31,\"credits\"=>3), Dict(\"curriculum_requisites\"=>Dict{String,Any}[],\"name\"=>\" \",\"metrics\"=>Dict{String,Any}(\"centrality\"=>0,\"complexity\"=>1.0,\"blocking factor\"=>0,\"delay factor\"=>1.0),\"nameSub\"=>\"ECE Elective\",\"id\"=>32,\"credits\"=>3), Dict(\"curriculum_requisites\"=>Dict{String,Any}[],\"name\"=>\" \",\"metrics\"=>Dict{String,Any}(\"centrality\"=>0,\"complexity\"=>1.0,\"blocking factor\"=>0,\"delay factor\"=>1.0),\"nameSub\"=>\"Outside Tech. Elective\",\"id\"=>33,\"credits\"=>3), Dict(\"curriculum_requisites\"=>Dict{String,Any}[],\"name\"=>\" \",\"metrics\"=>Dict{String,Any}(\"centrality\"=>0,\"complexity\"=>1.0,\"blocking factor\"=>0,\"delay factor\"=>1.0),\"nameSub\"=>\"Liberal Studies\",\"id\"=>34,\"credits\"=>3)],\"id\"=>7), Dict(\"name\"=>\"Term 8\",\"curriculum_items\"=>Dict{String,Any}[Dict(\"curriculum_requisites\"=>Dict{String,Any}[],\"name\"=>\" \",\"metrics\"=>Dict{String,Any}(\"centrality\"=>0,\"complexity\"=>1.0,\"blocking factor\"=>0,\"delay factor\"=>1.0),\"nameSub\"=>\"ECE Elective\",\"id\"=>35,\"credits\"=>3), Dict(\"curriculum_requisites\"=>Dict{String,Any}[],\"name\"=>\" \",\"metrics\"=>Dict{String,Any}(\"centrality\"=>0,\"complexity\"=>1.0,\"blocking factor\"=>0,\"delay factor\"=>1.0),\"nameSub\"=>\"ECE Elective\",\"id\"=>36,\"credits\"=>3), Dict(\"curriculum_requisites\"=>Dict{String,Any}[],\"name\"=>\" \",\"metrics\"=>Dict{String,Any}(\"centrality\"=>0,\"complexity\"=>1.0,\"blocking factor\"=>0,\"delay factor\"=>1.0),\"nameSub\"=>\"ECE Elective\",\"id\"=>37,\"credits\"=>3), Dict(\"curriculum_requisites\"=>Dict{String,Any}[],\"name\"=>\" \",\"metrics\"=>Dict{String,Any}(\"centrality\"=>0,\"complexity\"=>1.0,\"blocking factor\"=>0,\"delay factor\"=>1.0),\"nameSub\"=>\"Liberal Studies\",\"id\"=>38,\"credits\"=>3)],\"id\"=>8)],\"institution\"=>\"\")), nothing)), Set(String[]), nothing, Any[], Dict{Any,Any}(), WebIO.ConnectionPool(Channel{Any}(sz_max:9223372036854775807,sz_curr:0), Set(WebIO.AbstractConnection[]), Channel{WebIO.AbstractConnection}(sz_max:32,sz_curr:0)))"
      ]
     },
     "execution_count": 3,
     "metadata": {
      "application/vnd.webio.node+json": {
       "kernelId": "a4b0d7ae-75b5-437e-82b7-56b9b831a235"
      }
     },
     "output_type": "execute_result"
    }
   ],
   "source": [
    "#This cell shows does not use Blink, so the output will will be shown in Jupyter with visualize_jupyter function\n",
    "\n",
    "#Activate CurricularAnalytics package and add it\n",
    "if split(pwd(),Base.Filesystem.path_separator)[end] != \"CurricularAnalytics.jl\"\n",
    "    cd(\"../..\")\n",
    "end\n",
    "println(\"Current directory: \" * split(pwd(),Base.Filesystem.path_separator)[end])\n",
    "using Pkg\n",
    "pkg\"activate .\"\n",
    "using CurricularAnalytics\n",
    "\n",
    "#read Classes from csv file and dump as .json\n",
    "csv_to_json(\"examples/CornellECECources.csv\", \"recent-visualization.json\")\n",
    "#Load classes from .json file created\n",
    "dp = read_degree_plan(\"recent-visualization.json\")\n",
    "curric = dp.curriculum\n",
    "\n",
    "errors = IOBuffer()\n",
    "if isvalid_curriculum(curric, errors)\n",
    "    println(\"Curriculum $(curric.name) is valid\")\n",
    "    println(\"  delay factor = $(delay_factor(curric))\")\n",
    "    println(\"  blocking factor = $(blocking_factor(curric))\")\n",
    "    println(\"  centrality factor = $(centrality(curric))\")\n",
    "    println(\"  curricular complexity = $(complexity(curric))\")\n",
    "    take!(errors) # clear the IO buffer\n",
    "    if isvalid_degree_plan(dp, errors)\n",
    "        println(\"Degree plan $(dp.name) is valid\")\n",
    "    else\n",
    "        println(\"Degree plan $(dp.name) is not valid:\")\n",
    "        print(String(take!(errors)))\n",
    "        println(\"\\nDiplaying degree plan for debugging purposes...\")\n",
    "    end\n",
    "    #visualize(dp)\n",
    "    visualize(dp; notebook=true)\n",
    "else # invalid curriculum\n",
    "    println(\"Curriculum $(curric.name) is not valid:\")\n",
    "    print(String(take!(errors)))\n",
    "end"
   ]
  },
  {
   "cell_type": "code",
   "execution_count": 4,
   "metadata": {},
   "outputs": [
    {
     "name": "stdout",
     "output_type": "stream",
     "text": [
      "Current directory: CurricularAnalytics.jl\n",
      "Curriculum University of Houston EE Program is valid\n",
      "  delay factor = (279.0, [1.0, 7.0, 9.0, 12.0, 2.0, 2.0, 1.0, 7.0, 9.0, 12.0, 12.0, 4.0, 1.0, 8.0, 12.0, 10.0, 12.0, 12.0, 7.0, 8.0, 12.0, 12.0, 9.0, 9.0, 1.0, 12.0, 12.0, 1.0, 9.0, 1.0, 1.0, 4.0, 1.0, 1.0, 8.0, 1.0, 3.0, 12.0, 1.0, 1.0, 1.0, 1.0, 1.0, 12.0, 1.0, 1.0, 1.0, 1.0, 1.0])\n",
      "  blocking factor = (208, [0, 6, 15, 23, 1, 0, 0, 5, 14, 20, 16, 0, 0, 13, 12, 15, 14, 13, 4, 4, 5, 8, 4, 2, 0, 3, 2, 0, 2, 0, 0, 2, 0, 0, 2, 0, 2, 1, 0, 0, 0, 0, 0, 0, 0, 0, 0, 0, 0])\n",
      "  centrality factor = (5717, [0, 0, 85, 0, 0, 0, 0, 13, 160, 607, 217, 0, 0, 93, 677, 292, 426, 250, 159, 152, 295, 393, 154, 171, 0, 359, 266, 0, 77, 0, 0, 16, 0, 0, 76, 0, 0, 779, 0, 0, 0, 0, 0, 0, 0, 0, 0, 0, 0])\n",
      "  curricular complexity = (487.0, Number[1.0, 13.0, 24.0, 35.0, 3.0, 2.0, 1.0, 12.0, 23.0, 32.0, 28.0, 4.0, 1.0, 21.0, 24.0, 25.0, 26.0, 25.0, 11.0, 12.0, 17.0, 20.0, 13.0, 11.0, 1.0, 15.0, 14.0, 1.0, 11.0, 1.0, 1.0, 6.0, 1.0, 1.0, 10.0, 1.0, 5.0, 13.0, 1.0, 1.0, 1.0, 1.0, 1.0, 12.0, 1.0, 1.0, 1.0, 1.0, 1.0])\n",
      "Degree plan University of Houston EE Program 4-year Plan is not valid:\n",
      "\n",
      "-Course Concentration Elective is listed multiple times in degree plan\n",
      "-Course Concentration Elective is listed multiple times in degree plan\n",
      "-Course Concentration Elective is listed multiple times in degree plan\n",
      "Diplaying degree plan for debugging purposes...\n"
     ]
    },
    {
     "data": {
      "text/plain": [
       "Blink.AtomShell.Window(1, Blink.AtomShell.Electron(Process(`\u001b[4m'C:\\Users\\orhan\\.julia\\packages\\Blink\\vKGzM\\deps\\atom\\electron.exe'\u001b[24m \u001b[4m'C:\\Users\\orhan\\.julia\\packages\\Blink\\vKGzM\\src\\AtomShell\\main.js'\u001b[24m \u001b[4mport\u001b[24m \u001b[4m5429\u001b[24m`, ProcessRunning), Sockets.TCPSocket(Base.Libc.WindowsRawSocket(0x000000000000054c) active, 0 bytes waiting), Dict{String,Any}(\"callback\"=>##1#2())), Blink.Page(1, WebSockets.WebSocket{Sockets.TCPSocket}(Sockets.TCPSocket(Base.Libc.WindowsRawSocket(0x00000000000005f4) active, 0 bytes waiting), true, CONNECTED::ReadyState = 1), Dict{String,Any}(\"webio\"=>##95#96{BlinkConnection}(BlinkConnection(Page(#= circular reference @-4 =#))),\"callback\"=>##1#2()), Distributed.Future(1, 1, 1, Some(true))))"
      ]
     },
     "execution_count": 4,
     "metadata": {},
     "output_type": "execute_result"
    },
    {
     "name": "stderr",
     "output_type": "stream",
     "text": [
      "┌ Info: Accept (6):  🔗    0↑     0↓    0s 127.0.0.1:8156:8156 ≣16\n",
      "└ @ HTTP.Servers C:\\Users\\orhan\\.julia\\packages\\HTTP\\YjRCz\\src\\Servers.jl:343\n",
      "┌ Info: Accept (7):  🔗    0↑     0↓    0s 127.0.0.1:8156:8156 ≣16\n",
      "└ @ HTTP.Servers C:\\Users\\orhan\\.julia\\packages\\HTTP\\YjRCz\\src\\Servers.jl:343\n",
      "┌ Info: Accept (8):  🔗    0↑     0↓    0s 127.0.0.1:8156:8156 ≣16\n",
      "└ @ HTTP.Servers C:\\Users\\orhan\\.julia\\packages\\HTTP\\YjRCz\\src\\Servers.jl:343\n",
      "┌ Info: Accept (9):  🔗    0↑     0↓    0s 127.0.0.1:8156:8156 ≣16\n",
      "└ @ HTTP.Servers C:\\Users\\orhan\\.julia\\packages\\HTTP\\YjRCz\\src\\Servers.jl:343\n"
     ]
    }
   ],
   "source": [
    "#This cell will run an exapmle file in \"example\" folder\n",
    "#Output will be on Blink window\n",
    "#If you want to show the output on Jupyter, you can change the visualize(dp) function to visualize_jupyter(dp)\n",
    "if split(pwd(),Base.Filesystem.path_separator)[end] != \"CurricularAnalytics.jl\"\n",
    "    cd(\"../..\")\n",
    "end\n",
    "println(\"Current directory: \" * split(pwd(),Base.Filesystem.path_separator)[end])\n",
    "using Pkg\n",
    "pkg\"activate .\"\n",
    "include(\"examples/curric_UH_EE.jl\")"
   ]
  },
  {
   "cell_type": "code",
   "execution_count": 5,
   "metadata": {},
   "outputs": [
    {
     "name": "stdout",
     "output_type": "stream",
     "text": [
      "Current directory: CurricularAnalytics.jl\n",
      "Reading csv file: examples/CornellECECources.csv\n",
      "Curriculum  is valid\n",
      "  delay factor = (80.0, [1.0, 5.0, 1.0, 1.0, 1.0, 5.0, 4.0, 3.0, 1.0, 1.0, 5.0, 4.0, 5.0, 3.0, 1.0, 4.0, 3.0, 4.0, 4.0, 1.0, 1.0, 1.0, 2.0, 5.0, 1.0, 1.0, 1.0, 1.0, 1.0, 1.0, 1.0, 1.0, 1.0, 1.0, 1.0, 1.0, 1.0, 1.0])\n",
      "  blocking factor = (37, [0, 10, 0, 0, 0, 4, 8, 3, 0, 0, 3, 4, 1, 1, 0, 0, 2, 0, 1, 0, 0, 0, 0, 0, 0, 0, 0, 0, 0, 0, 0, 0, 0, 0, 0, 0, 0, 0])\n",
      "  centrality factor = (102, [0, 0, 0, 0, 0, 9, 28, 0, 0, 0, 18, 14, 15, 3, 0, 0, 5, 0, 10, 0, 0, 0, 0, 0, 0, 0, 0, 0, 0, 0, 0, 0, 0, 0, 0, 0, 0, 0])\n",
      "  curricular complexity = (117.0, Number[1.0, 15.0, 1.0, 1.0, 1.0, 9.0, 12.0, 6.0, 1.0, 1.0, 8.0, 8.0, 6.0, 4.0, 1.0, 4.0, 5.0, 4.0, 5.0, 1.0, 1.0, 1.0, 2.0, 5.0, 1.0, 1.0, 1.0, 1.0, 1.0, 1.0, 1.0, 1.0, 1.0, 1.0, 1.0, 1.0, 1.0, 1.0])\n",
      "Degree plan  is valid\n"
     ]
    },
    {
     "data": {
      "text/plain": [
       "Main.curriculum"
      ]
     },
     "execution_count": 5,
     "metadata": {},
     "output_type": "execute_result"
    }
   ],
   "source": [
    "#This cell will create Curriculum using csv file.\n",
    "if split(pwd(),Base.Filesystem.path_separator)[end] != \"CurricularAnalytics.jl\"\n",
    "    cd(\"../..\")\n",
    "end\n",
    "println(\"Current directory: \" * split(pwd(),Base.Filesystem.path_separator)[end])\n",
    "using Pkg\n",
    "pkg\"activate .\"\n",
    "module curriculum\n",
    "    ARGS = [\"examples/CornellECECources.csv\"]\n",
    "    include(\"examples/curric_from_csv.jl\")\n",
    "end"
   ]
  },
  {
   "cell_type": "code",
   "execution_count": 6,
   "metadata": {},
   "outputs": [
    {
     "name": "stdout",
     "output_type": "stream",
     "text": [
      "Current directory: CurricularAnalytics.jl\n",
      "Curriculum University of Houston EE Program is valid\n",
      "  delay factor = (80.0, [1.0, 5.0, 1.0, 1.0, 1.0, 5.0, 4.0, 3.0, 1.0, 1.0, 5.0, 4.0, 5.0, 3.0, 1.0, 4.0, 3.0, 4.0, 4.0, 1.0, 1.0, 1.0, 2.0, 5.0, 1.0, 1.0, 1.0, 1.0, 1.0, 1.0, 1.0, 1.0, 1.0, 1.0, 1.0, 1.0, 1.0, 1.0])\n",
      "  blocking factor = (37, [0, 10, 0, 0, 0, 4, 8, 3, 0, 0, 3, 4, 1, 1, 0, 0, 2, 0, 1, 0, 0, 0, 0, 0, 0, 0, 0, 0, 0, 0, 0, 0, 0, 0, 0, 0, 0, 0])\n",
      "  centrality factor = (102, [0, 0, 0, 0, 0, 9, 28, 0, 0, 0, 18, 14, 15, 3, 0, 0, 5, 0, 10, 0, 0, 0, 0, 0, 0, 0, 0, 0, 0, 0, 0, 0, 0, 0, 0, 0, 0, 0])\n",
      "  curricular complexity = (117.0, Number[1.0, 15.0, 1.0, 1.0, 1.0, 9.0, 12.0, 6.0, 1.0, 1.0, 8.0, 8.0, 6.0, 4.0, 1.0, 4.0, 5.0, 4.0, 5.0, 1.0, 1.0, 1.0, 2.0, 5.0, 1.0, 1.0, 1.0, 1.0, 1.0, 1.0, 1.0, 1.0, 1.0, 1.0, 1.0, 1.0, 1.0, 1.0])\n",
      "Degree plan University of Houston EE Program 4-year Plan is not valid:\n",
      "\n",
      "-Course Liberal Studies is listed multiple times in degree plan\n",
      "-Course Liberal Studies is listed multiple times in degree plan\n",
      "-Course ECE Foundations is listed multiple times in degree plan\n",
      "-Course ECE Foundations is listed multiple times in degree plan\n",
      "-Course Outside Tech. Elective is listed multiple times in degree plan\n",
      "-Course Elective is listed multiple times in degree plan\n",
      "-Course Liberal Studies is listed multiple times in degree plan\n",
      "-Course Outside Tech. Elective is listed multiple times in degree plan\n",
      "-Course Liberal Studies is listed multiple times in degree plan\n",
      "-Course ECE Elective is listed multiple times in degree plan\n",
      "-Course ECE Elective is listed multiple times in degree plan\n",
      "-Course ECE Elective is listed multiple times in degree plan\n",
      "-Course Liberal Studies is listed multiple times in degree plan\n",
      "Diplaying degree plan for debugging purposes...\n"
     ]
    },
    {
     "name": "stderr",
     "output_type": "stream",
     "text": [
      "┌ Info: Accept (10):  🔗    0↑     0↓    0s 127.0.0.1:8156:8156 ≣16\n",
      "└ @ HTTP.Servers C:\\Users\\orhan\\.julia\\packages\\HTTP\\YjRCz\\src\\Servers.jl:343\n"
     ]
    },
    {
     "data": {
      "application/vnd.webio.node+json": {
       "children": [
        {
         "children": [
          ""
         ],
         "instanceArgs": {
          "namespace": "html",
          "tag": "iframe"
         },
         "nodeType": "DOM",
         "props": {
          "events": {
           "load": "(function (){this.contentWindow.postMessage({\"options\":{\"hideTerms\":false,\"edit\":false},\"curriculum\":{\"name\":\"University of Houston EE Program\",\"dp_name\":\"University of Houston EE Program 4-year Plan\",\"curriculum_terms\":[{\"name\":\"Term 1\",\"curriculum_items\":[{\"curriculum_requisites\":[],\"name\":\"CHEM 2090\",\"metrics\":{\"centrality\":0,\"complexity\":1.0,\"blocking factor\":0,\"delay factor\":1.0},\"nameSub\":\"CHEM 2090\",\"id\":2912506918863088116,\"credits\":3},{\"curriculum_requisites\":[],\"name\":\"MATH 1910\",\"metrics\":{\"centrality\":0,\"complexity\":15.0,\"blocking factor\":10,\"delay factor\":5.0},\"nameSub\":\"MATH 1910\",\"id\":7314782300610548763,\"credits\":3},{\"curriculum_requisites\":[],\"name\":\"ENGRI 1xxx\",\"metrics\":{\"centrality\":0,\"complexity\":1.0,\"blocking factor\":0,\"delay factor\":1.0},\"nameSub\":\"ENGRI 1xxx\",\"id\":5610600558886129243,\"credits\":3},{\"curriculum_requisites\":[],\"name\":\" \",\"metrics\":{\"centrality\":0,\"complexity\":1.0,\"blocking factor\":0,\"delay factor\":1.0},\"nameSub\":\"1st Yr Writing Seminar\",\"id\":1725816399570281613,\"credits\":3},{\"curriculum_requisites\":[],\"name\":\" \",\"metrics\":{\"centrality\":0,\"complexity\":1.0,\"blocking factor\":0,\"delay factor\":1.0},\"nameSub\":\"PE\",\"id\":4109982533878459085,\"credits\":3}],\"id\":1},{\"name\":\"Term 2\",\"curriculum_items\":[{\"curriculum_requisites\":[{\"source_id\":7314782300610548763,\"target_id\":1911849541899956786,\"type\":\"prereq\"}],\"name\":\"PHYS 1112\",\"metrics\":{\"centrality\":9,\"complexity\":9.0,\"blocking factor\":4,\"delay factor\":5.0},\"nameSub\":\"PHYS 1112\",\"id\":1911849541899956786,\"credits\":3},{\"curriculum_requisites\":[{\"source_id\":7314782300610548763,\"target_id\":7212214069911803948,\"type\":\"prereq\"}],\"name\":\"MATH 1920\",\"metrics\":{\"centrality\":28,\"complexity\":12.0,\"blocking factor\":8,\"delay factor\":4.0},\"nameSub\":\"MATH 1920\",\"id\":7212214069911803948,\"credits\":3},{\"curriculum_requisites\":[],\"name\":\"CS 111x\",\"metrics\":{\"centrality\":0,\"complexity\":6.0,\"blocking factor\":3,\"delay factor\":3.0},\"nameSub\":\"CS 111x\",\"id\":79570227037231851,\"credits\":3},{\"curriculum_requisites\":[],\"name\":\" \",\"metrics\":{\"centrality\":0,\"complexity\":1.0,\"blocking factor\":0,\"delay factor\":1.0},\"nameSub\":\"1st Yr Writing Seminar\",\"id\":3532248776098122316,\"credits\":3},{\"curriculum_requisites\":[],\"name\":\" \",\"metrics\":{\"centrality\":0,\"complexity\":1.0,\"blocking factor\":0,\"delay factor\":1.0},\"nameSub\":\"PE\",\"id\":5893816761635752618,\"credits\":3}],\"id\":2},{\"name\":\"Term 3\",\"curriculum_items\":[{\"curriculum_requisites\":[{\"source_id\":1911849541899956786,\"target_id\":6425753310902685014,\"type\":\"prereq\"},{\"source_id\":7212214069911803948,\"target_id\":6425753310902685014,\"type\":\"prereq\"}],\"name\":\"PHYS 2213\",\"metrics\":{\"centrality\":18,\"complexity\":8.0,\"blocking factor\":3,\"delay factor\":5.0},\"nameSub\":\"PHYS 2213\",\"id\":6425753310902685014,\"credits\":3},{\"curriculum_requisites\":[{\"source_id\":7212214069911803948,\"target_id\":4707901693699956298,\"type\":\"prereq\"}],\"name\":\"MATH 2930\",\"metrics\":{\"centrality\":14,\"complexity\":8.0,\"blocking factor\":4,\"delay factor\":4.0},\"nameSub\":\"MATH 2930\",\"id\":4707901693699956298,\"credits\":3},{\"curriculum_requisites\":[{\"source_id\":6425753310902685014,\"target_id\":6439002488888680888,\"type\":\"coreq\"},{\"source_id\":4707901693699956298,\"target_id\":6439002488888680888,\"type\":\"coreq\"}],\"name\":\"ECE/ENGRD 2100\",\"metrics\":{\"centrality\":15,\"complexity\":6.0,\"blocking factor\":1,\"delay factor\":5.0},\"nameSub\":\"ECE/ENGRD 2100\",\"id\":6439002488888680888,\"credits\":3},{\"curriculum_requisites\":[{\"source_id\":79570227037231851,\"target_id\":1015818811103848899,\"type\":\"prereq\"}],\"name\":\"MECE/ENGRD 2300\",\"metrics\":{\"centrality\":3,\"complexity\":4.0,\"blocking factor\":1,\"delay factor\":3.0},\"nameSub\":\"MECE/ENGRD 2300\",\"id\":1015818811103848899,\"credits\":3},{\"curriculum_requisites\":[],\"name\":\" \",\"metrics\":{\"centrality\":0,\"complexity\":1.0,\"blocking factor\":0,\"delay factor\":1.0},\"nameSub\":\"Liberal Studies\",\"id\":6703606396640405916,\"credits\":3}],\"id\":3},{\"name\":\"Term 4\",\"curriculum_items\":[{\"curriculum_requisites\":[{\"source_id\":4707901693699956298,\"target_id\":3244401470927726854,\"type\":\"coreq\"}],\"name\":\"PHYS 2214\",\"metrics\":{\"centrality\":0,\"complexity\":4.0,\"blocking factor\":0,\"delay factor\":4.0},\"nameSub\":\"PHYS 2214\",\"id\":3244401470927726854,\"credits\":3},{\"curriculum_requisites\":[{\"source_id\":7212214069911803948,\"target_id\":5483120187411208071,\"type\":\"prereq\"}],\"name\":\"MATH 2940\",\"metrics\":{\"centrality\":5,\"complexity\":5.0,\"blocking factor\":2,\"delay factor\":3.0},\"nameSub\":\"MATH 2940\",\"id\":5483120187411208071,\"credits\":3},{\"curriculum_requisites\":[{\"source_id\":6425753310902685014,\"target_id\":1426341919018516802,\"type\":\"prereq\"}],\"name\":\"ENGRD 2xxx\",\"metrics\":{\"centrality\":0,\"complexity\":4.0,\"blocking factor\":0,\"delay factor\":4.0},\"nameSub\":\"ENGRD 2xxx\",\"id\":1426341919018516802,\"credits\":3},{\"curriculum_requisites\":[{\"source_id\":5483120187411208071,\"target_id\":7461595864409778664,\"type\":\"coreq\"},{\"source_id\":4707901693699956298,\"target_id\":7461595864409778664,\"type\":\"prereq\"}],\"name\":\"ECE/ENGRD 2200/2220\",\"metrics\":{\"centrality\":10,\"complexity\":5.0,\"blocking factor\":1,\"delay factor\":4.0},\"nameSub\":\"ECE 2200/ENGRD 2220\",\"id\":7461595864409778664,\"credits\":3},{\"curriculum_requisites\":[],\"name\":\" \",\"metrics\":{\"centrality\":0,\"complexity\":1.0,\"blocking factor\":0,\"delay factor\":1.0},\"nameSub\":\"Liberal Studies\",\"id\":6703606396640405916,\"credits\":3}],\"id\":4},{\"name\":\"Term 5\",\"curriculum_items\":[{\"curriculum_requisites\":[],\"name\":\" \",\"metrics\":{\"centrality\":0,\"complexity\":1.0,\"blocking factor\":0,\"delay factor\":1.0},\"nameSub\":\"ECE Foundations\",\"id\":2730056093824477443,\"credits\":3},{\"curriculum_requisites\":[],\"name\":\" \",\"metrics\":{\"centrality\":0,\"complexity\":1.0,\"blocking factor\":0,\"delay factor\":1.0},\"nameSub\":\"Elective\",\"id\":4222238180234606594,\"credits\":3},{\"curriculum_requisites\":[{\"source_id\":79570227037231851,\"target_id\":2707622294404830366,\"type\":\"prereq\"}],\"name\":\" \",\"metrics\":{\"centrality\":0,\"complexity\":2.0,\"blocking factor\":0,\"delay factor\":2.0},\"nameSub\":\"Outside Tech. Elective\",\"id\":2707622294404830366,\"credits\":3},{\"curriculum_requisites\":[{\"source_id\":6439002488888680888,\"target_id\":5840212054897932487,\"type\":\"prereq\"},{\"source_id\":1015818811103848899,\"target_id\":5840212054897932487,\"type\":\"prereq\"},{\"source_id\":7461595864409778664,\"target_id\":5840212054897932487,\"type\":\"prereq\"}],\"name\":\"ECE 3400\",\"metrics\":{\"centrality\":0,\"complexity\":5.0,\"blocking factor\":0,\"delay factor\":5.0},\"nameSub\":\"ECE 3400\",\"id\":5840212054897932487,\"credits\":3},{\"curriculum_requisites\":[],\"name\":\" \",\"metrics\":{\"centrality\":0,\"complexity\":1.0,\"blocking factor\":0,\"delay factor\":1.0},\"nameSub\":\"Liberal Studies\",\"id\":6703606396640405916,\"credits\":3}],\"id\":5},{\"name\":\"Term 6\",\"curriculum_items\":[{\"curriculum_requisites\":[],\"name\":\" \",\"metrics\":{\"centrality\":0,\"complexity\":1.0,\"blocking factor\":0,\"delay factor\":1.0},\"nameSub\":\"ECE Foundations\",\"id\":2730056093824477443,\"credits\":3},{\"curriculum_requisites\":[],\"name\":\" \",\"metrics\":{\"centrality\":0,\"complexity\":1.0,\"blocking factor\":0,\"delay factor\":1.0},\"nameSub\":\"ECE Foundations\",\"id\":2730056093824477443,\"credits\":3},{\"curriculum_requisites\":[],\"name\":\" \",\"metrics\":{\"centrality\":0,\"complexity\":1.0,\"blocking factor\":0,\"delay factor\":1.0},\"nameSub\":\"Outside Tech. Elective\",\"id\":2707622294404830366,\"credits\":3},{\"curriculum_requisites\":[],\"name\":\" \",\"metrics\":{\"centrality\":0,\"complexity\":1.0,\"blocking factor\":0,\"delay factor\":1.0},\"nameSub\":\"Elective\",\"id\":4222238180234606594,\"credits\":3},{\"curriculum_requisites\":[],\"name\":\" \",\"metrics\":{\"centrality\":0,\"complexity\":1.0,\"blocking factor\":0,\"delay factor\":1.0},\"nameSub\":\"Liberal Studies\",\"id\":6703606396640405916,\"credits\":3}],\"id\":6},{\"name\":\"Term 7\",\"curriculum_items\":[{\"curriculum_requisites\":[],\"name\":\" \",\"metrics\":{\"centrality\":0,\"complexity\":1.0,\"blocking factor\":0,\"delay factor\":1.0},\"nameSub\":\"ECE Elective \",\"id\":5561213124461592638,\"credits\":3},{\"curriculum_requisites\":[],\"name\":\" \",\"metrics\":{\"centrality\":0,\"complexity\":1.0,\"blocking factor\":0,\"delay factor\":1.0},\"nameSub\":\"ECE Elective\",\"id\":2669111135963361097,\"credits\":3},{\"curriculum_requisites\":[],\"name\":\" \",\"metrics\":{\"centrality\":0,\"complexity\":1.0,\"blocking factor\":0,\"delay factor\":1.0},\"nameSub\":\"Outside Tech. Elective\",\"id\":2707622294404830366,\"credits\":3},{\"curriculum_requisites\":[],\"name\":\" \",\"metrics\":{\"centrality\":0,\"complexity\":1.0,\"blocking factor\":0,\"delay factor\":1.0},\"nameSub\":\"Liberal Studies\",\"id\":6703606396640405916,\"credits\":3}],\"id\":7},{\"name\":\"Term 8\",\"curriculum_items\":[{\"curriculum_requisites\":[],\"name\":\" \",\"metrics\":{\"centrality\":0,\"complexity\":1.0,\"blocking factor\":0,\"delay factor\":1.0},\"nameSub\":\"ECE Elective\",\"id\":2669111135963361097,\"credits\":3},{\"curriculum_requisites\":[],\"name\":\" \",\"metrics\":{\"centrality\":0,\"complexity\":1.0,\"blocking factor\":0,\"delay factor\":1.0},\"nameSub\":\"ECE Elective\",\"id\":2669111135963361097,\"credits\":3},{\"curriculum_requisites\":[],\"name\":\" \",\"metrics\":{\"centrality\":0,\"complexity\":1.0,\"blocking factor\":0,\"delay factor\":1.0},\"nameSub\":\"ECE Elective\",\"id\":2669111135963361097,\"credits\":3},{\"curriculum_requisites\":[],\"name\":\" \",\"metrics\":{\"centrality\":0,\"complexity\":1.0,\"blocking factor\":0,\"delay factor\":1.0},\"nameSub\":\"Liberal Studies\",\"id\":6703606396640405916,\"credits\":3}],\"id\":8}],\"institution\":\"\"}},\"*\"); window.removeEventListener(\"message\",window.messageReceived); window.messageReceived=(function (event){return (event.data.curriculum!==undefined) ? (_webIOScope.setObservableValue({\"name\":\"curriculum-data\",\"scope\":\"scope-5f0d5119-bea2-4906-9fbd-34175a953745\",\"id\":\"ob_05\",\"type\":\"observable\"},event.data.curriculum)) : undefined}); return window.addEventListener(\"message\",window.messageReceived)})"
          },
          "id": "curriculum",
          "src": "http://localhost:8156",
          "style": {
           "border": "none",
           "height": "100vh",
           "margin": "0",
           "padding": "0",
           "width": "100%"
          }
         },
         "type": "node"
        }
       ],
       "instanceArgs": {
        "handlers": {},
        "id": "scope-5f0d5119-bea2-4906-9fbd-34175a953745",
        "imports": {
         "data": [],
         "type": "async_block"
        },
        "observables": {
         "curriculum-data": {
          "id": "ob_05",
          "sync": true,
          "value": {
           "curriculum": {
            "curriculum_terms": [
             {
              "curriculum_items": [
               {
                "credits": 3,
                "curriculum_requisites": [],
                "id": 2912506918863088000,
                "metrics": {
                 "blocking factor": 0,
                 "centrality": 0,
                 "complexity": 1,
                 "delay factor": 1
                },
                "name": "CHEM 2090",
                "nameSub": "CHEM 2090"
               },
               {
                "credits": 3,
                "curriculum_requisites": [],
                "id": 7314782300610549000,
                "metrics": {
                 "blocking factor": 10,
                 "centrality": 0,
                 "complexity": 15,
                 "delay factor": 5
                },
                "name": "MATH 1910",
                "nameSub": "MATH 1910"
               },
               {
                "credits": 3,
                "curriculum_requisites": [],
                "id": 5610600558886130000,
                "metrics": {
                 "blocking factor": 0,
                 "centrality": 0,
                 "complexity": 1,
                 "delay factor": 1
                },
                "name": "ENGRI 1xxx",
                "nameSub": "ENGRI 1xxx"
               },
               {
                "credits": 3,
                "curriculum_requisites": [],
                "id": 1725816399570281700,
                "metrics": {
                 "blocking factor": 0,
                 "centrality": 0,
                 "complexity": 1,
                 "delay factor": 1
                },
                "name": " ",
                "nameSub": "1st Yr Writing Seminar"
               },
               {
                "credits": 3,
                "curriculum_requisites": [],
                "id": 4109982533878459000,
                "metrics": {
                 "blocking factor": 0,
                 "centrality": 0,
                 "complexity": 1,
                 "delay factor": 1
                },
                "name": " ",
                "nameSub": "PE"
               }
              ],
              "id": 1,
              "name": "Term 1"
             },
             {
              "curriculum_items": [
               {
                "credits": 3,
                "curriculum_requisites": [
                 {
                  "source_id": 7314782300610549000,
                  "target_id": 1911849541899956700,
                  "type": "prereq"
                 }
                ],
                "id": 1911849541899956700,
                "metrics": {
                 "blocking factor": 4,
                 "centrality": 9,
                 "complexity": 9,
                 "delay factor": 5
                },
                "name": "PHYS 1112",
                "nameSub": "PHYS 1112"
               },
               {
                "credits": 3,
                "curriculum_requisites": [
                 {
                  "source_id": 7314782300610549000,
                  "target_id": 7212214069911804000,
                  "type": "prereq"
                 }
                ],
                "id": 7212214069911804000,
                "metrics": {
                 "blocking factor": 8,
                 "centrality": 28,
                 "complexity": 12,
                 "delay factor": 4
                },
                "name": "MATH 1920",
                "nameSub": "MATH 1920"
               },
               {
                "credits": 3,
                "curriculum_requisites": [],
                "id": 79570227037231860,
                "metrics": {
                 "blocking factor": 3,
                 "centrality": 0,
                 "complexity": 6,
                 "delay factor": 3
                },
                "name": "CS 111x",
                "nameSub": "CS 111x"
               },
               {
                "credits": 3,
                "curriculum_requisites": [],
                "id": 3532248776098122000,
                "metrics": {
                 "blocking factor": 0,
                 "centrality": 0,
                 "complexity": 1,
                 "delay factor": 1
                },
                "name": " ",
                "nameSub": "1st Yr Writing Seminar"
               },
               {
                "credits": 3,
                "curriculum_requisites": [],
                "id": 5893816761635753000,
                "metrics": {
                 "blocking factor": 0,
                 "centrality": 0,
                 "complexity": 1,
                 "delay factor": 1
                },
                "name": " ",
                "nameSub": "PE"
               }
              ],
              "id": 2,
              "name": "Term 2"
             },
             {
              "curriculum_items": [
               {
                "credits": 3,
                "curriculum_requisites": [
                 {
                  "source_id": 1911849541899956700,
                  "target_id": 6425753310902685000,
                  "type": "prereq"
                 },
                 {
                  "source_id": 7212214069911804000,
                  "target_id": 6425753310902685000,
                  "type": "prereq"
                 }
                ],
                "id": 6425753310902685000,
                "metrics": {
                 "blocking factor": 3,
                 "centrality": 18,
                 "complexity": 8,
                 "delay factor": 5
                },
                "name": "PHYS 2213",
                "nameSub": "PHYS 2213"
               },
               {
                "credits": 3,
                "curriculum_requisites": [
                 {
                  "source_id": 7212214069911804000,
                  "target_id": 4707901693699957000,
                  "type": "prereq"
                 }
                ],
                "id": 4707901693699957000,
                "metrics": {
                 "blocking factor": 4,
                 "centrality": 14,
                 "complexity": 8,
                 "delay factor": 4
                },
                "name": "MATH 2930",
                "nameSub": "MATH 2930"
               },
               {
                "credits": 3,
                "curriculum_requisites": [
                 {
                  "source_id": 6425753310902685000,
                  "target_id": 6439002488888680000,
                  "type": "coreq"
                 },
                 {
                  "source_id": 4707901693699957000,
                  "target_id": 6439002488888680000,
                  "type": "coreq"
                 }
                ],
                "id": 6439002488888680000,
                "metrics": {
                 "blocking factor": 1,
                 "centrality": 15,
                 "complexity": 6,
                 "delay factor": 5
                },
                "name": "ECE/ENGRD 2100",
                "nameSub": "ECE/ENGRD 2100"
               },
               {
                "credits": 3,
                "curriculum_requisites": [
                 {
                  "source_id": 79570227037231860,
                  "target_id": 1015818811103849000,
                  "type": "prereq"
                 }
                ],
                "id": 1015818811103849000,
                "metrics": {
                 "blocking factor": 1,
                 "centrality": 3,
                 "complexity": 4,
                 "delay factor": 3
                },
                "name": "MECE/ENGRD 2300",
                "nameSub": "MECE/ENGRD 2300"
               },
               {
                "credits": 3,
                "curriculum_requisites": [],
                "id": 6703606396640406000,
                "metrics": {
                 "blocking factor": 0,
                 "centrality": 0,
                 "complexity": 1,
                 "delay factor": 1
                },
                "name": " ",
                "nameSub": "Liberal Studies"
               }
              ],
              "id": 3,
              "name": "Term 3"
             },
             {
              "curriculum_items": [
               {
                "credits": 3,
                "curriculum_requisites": [
                 {
                  "source_id": 4707901693699957000,
                  "target_id": 3244401470927727000,
                  "type": "coreq"
                 }
                ],
                "id": 3244401470927727000,
                "metrics": {
                 "blocking factor": 0,
                 "centrality": 0,
                 "complexity": 4,
                 "delay factor": 4
                },
                "name": "PHYS 2214",
                "nameSub": "PHYS 2214"
               },
               {
                "credits": 3,
                "curriculum_requisites": [
                 {
                  "source_id": 7212214069911804000,
                  "target_id": 5483120187411208000,
                  "type": "prereq"
                 }
                ],
                "id": 5483120187411208000,
                "metrics": {
                 "blocking factor": 2,
                 "centrality": 5,
                 "complexity": 5,
                 "delay factor": 3
                },
                "name": "MATH 2940",
                "nameSub": "MATH 2940"
               },
               {
                "credits": 3,
                "curriculum_requisites": [
                 {
                  "source_id": 6425753310902685000,
                  "target_id": 1426341919018516700,
                  "type": "prereq"
                 }
                ],
                "id": 1426341919018516700,
                "metrics": {
                 "blocking factor": 0,
                 "centrality": 0,
                 "complexity": 4,
                 "delay factor": 4
                },
                "name": "ENGRD 2xxx",
                "nameSub": "ENGRD 2xxx"
               },
               {
                "credits": 3,
                "curriculum_requisites": [
                 {
                  "source_id": 5483120187411208000,
                  "target_id": 7461595864409778000,
                  "type": "coreq"
                 },
                 {
                  "source_id": 4707901693699957000,
                  "target_id": 7461595864409778000,
                  "type": "prereq"
                 }
                ],
                "id": 7461595864409778000,
                "metrics": {
                 "blocking factor": 1,
                 "centrality": 10,
                 "complexity": 5,
                 "delay factor": 4
                },
                "name": "ECE/ENGRD 2200/2220",
                "nameSub": "ECE 2200/ENGRD 2220"
               },
               {
                "credits": 3,
                "curriculum_requisites": [],
                "id": 6703606396640406000,
                "metrics": {
                 "blocking factor": 0,
                 "centrality": 0,
                 "complexity": 1,
                 "delay factor": 1
                },
                "name": " ",
                "nameSub": "Liberal Studies"
               }
              ],
              "id": 4,
              "name": "Term 4"
             },
             {
              "curriculum_items": [
               {
                "credits": 3,
                "curriculum_requisites": [],
                "id": 2730056093824477700,
                "metrics": {
                 "blocking factor": 0,
                 "centrality": 0,
                 "complexity": 1,
                 "delay factor": 1
                },
                "name": " ",
                "nameSub": "ECE Foundations"
               },
               {
                "credits": 3,
                "curriculum_requisites": [],
                "id": 4222238180234606600,
                "metrics": {
                 "blocking factor": 0,
                 "centrality": 0,
                 "complexity": 1,
                 "delay factor": 1
                },
                "name": " ",
                "nameSub": "Elective"
               },
               {
                "credits": 3,
                "curriculum_requisites": [
                 {
                  "source_id": 79570227037231860,
                  "target_id": 2707622294404830000,
                  "type": "prereq"
                 }
                ],
                "id": 2707622294404830000,
                "metrics": {
                 "blocking factor": 0,
                 "centrality": 0,
                 "complexity": 2,
                 "delay factor": 2
                },
                "name": " ",
                "nameSub": "Outside Tech. Elective"
               },
               {
                "credits": 3,
                "curriculum_requisites": [
                 {
                  "source_id": 6439002488888680000,
                  "target_id": 5840212054897932000,
                  "type": "prereq"
                 },
                 {
                  "source_id": 1015818811103849000,
                  "target_id": 5840212054897932000,
                  "type": "prereq"
                 },
                 {
                  "source_id": 7461595864409778000,
                  "target_id": 5840212054897932000,
                  "type": "prereq"
                 }
                ],
                "id": 5840212054897932000,
                "metrics": {
                 "blocking factor": 0,
                 "centrality": 0,
                 "complexity": 5,
                 "delay factor": 5
                },
                "name": "ECE 3400",
                "nameSub": "ECE 3400"
               },
               {
                "credits": 3,
                "curriculum_requisites": [],
                "id": 6703606396640406000,
                "metrics": {
                 "blocking factor": 0,
                 "centrality": 0,
                 "complexity": 1,
                 "delay factor": 1
                },
                "name": " ",
                "nameSub": "Liberal Studies"
               }
              ],
              "id": 5,
              "name": "Term 5"
             },
             {
              "curriculum_items": [
               {
                "credits": 3,
                "curriculum_requisites": [],
                "id": 2730056093824477700,
                "metrics": {
                 "blocking factor": 0,
                 "centrality": 0,
                 "complexity": 1,
                 "delay factor": 1
                },
                "name": " ",
                "nameSub": "ECE Foundations"
               },
               {
                "credits": 3,
                "curriculum_requisites": [],
                "id": 2730056093824477700,
                "metrics": {
                 "blocking factor": 0,
                 "centrality": 0,
                 "complexity": 1,
                 "delay factor": 1
                },
                "name": " ",
                "nameSub": "ECE Foundations"
               },
               {
                "credits": 3,
                "curriculum_requisites": [],
                "id": 2707622294404830000,
                "metrics": {
                 "blocking factor": 0,
                 "centrality": 0,
                 "complexity": 1,
                 "delay factor": 1
                },
                "name": " ",
                "nameSub": "Outside Tech. Elective"
               },
               {
                "credits": 3,
                "curriculum_requisites": [],
                "id": 4222238180234606600,
                "metrics": {
                 "blocking factor": 0,
                 "centrality": 0,
                 "complexity": 1,
                 "delay factor": 1
                },
                "name": " ",
                "nameSub": "Elective"
               },
               {
                "credits": 3,
                "curriculum_requisites": [],
                "id": 6703606396640406000,
                "metrics": {
                 "blocking factor": 0,
                 "centrality": 0,
                 "complexity": 1,
                 "delay factor": 1
                },
                "name": " ",
                "nameSub": "Liberal Studies"
               }
              ],
              "id": 6,
              "name": "Term 6"
             },
             {
              "curriculum_items": [
               {
                "credits": 3,
                "curriculum_requisites": [],
                "id": 5561213124461593000,
                "metrics": {
                 "blocking factor": 0,
                 "centrality": 0,
                 "complexity": 1,
                 "delay factor": 1
                },
                "name": " ",
                "nameSub": "ECE Elective "
               },
               {
                "credits": 3,
                "curriculum_requisites": [],
                "id": 2669111135963361300,
                "metrics": {
                 "blocking factor": 0,
                 "centrality": 0,
                 "complexity": 1,
                 "delay factor": 1
                },
                "name": " ",
                "nameSub": "ECE Elective"
               },
               {
                "credits": 3,
                "curriculum_requisites": [],
                "id": 2707622294404830000,
                "metrics": {
                 "blocking factor": 0,
                 "centrality": 0,
                 "complexity": 1,
                 "delay factor": 1
                },
                "name": " ",
                "nameSub": "Outside Tech. Elective"
               },
               {
                "credits": 3,
                "curriculum_requisites": [],
                "id": 6703606396640406000,
                "metrics": {
                 "blocking factor": 0,
                 "centrality": 0,
                 "complexity": 1,
                 "delay factor": 1
                },
                "name": " ",
                "nameSub": "Liberal Studies"
               }
              ],
              "id": 7,
              "name": "Term 7"
             },
             {
              "curriculum_items": [
               {
                "credits": 3,
                "curriculum_requisites": [],
                "id": 2669111135963361300,
                "metrics": {
                 "blocking factor": 0,
                 "centrality": 0,
                 "complexity": 1,
                 "delay factor": 1
                },
                "name": " ",
                "nameSub": "ECE Elective"
               },
               {
                "credits": 3,
                "curriculum_requisites": [],
                "id": 2669111135963361300,
                "metrics": {
                 "blocking factor": 0,
                 "centrality": 0,
                 "complexity": 1,
                 "delay factor": 1
                },
                "name": " ",
                "nameSub": "ECE Elective"
               },
               {
                "credits": 3,
                "curriculum_requisites": [],
                "id": 2669111135963361300,
                "metrics": {
                 "blocking factor": 0,
                 "centrality": 0,
                 "complexity": 1,
                 "delay factor": 1
                },
                "name": " ",
                "nameSub": "ECE Elective"
               },
               {
                "credits": 3,
                "curriculum_requisites": [],
                "id": 6703606396640406000,
                "metrics": {
                 "blocking factor": 0,
                 "centrality": 0,
                 "complexity": 1,
                 "delay factor": 1
                },
                "name": " ",
                "nameSub": "Liberal Studies"
               }
              ],
              "id": 8,
              "name": "Term 8"
             }
            ],
            "dp_name": "University of Houston EE Program 4-year Plan",
            "institution": "",
            "name": "University of Houston EE Program"
           },
           "options": {
            "edit": false,
            "hideTerms": false
           }
          }
         }
        },
        "systemjs_options": null
       },
       "nodeType": "Scope",
       "props": {},
       "type": "node"
      },
      "text/html": [
       "<div\n",
       "    class=\"webio-mountpoint\"\n",
       "    data-webio-mountpoint=\"14116944059734559480\"\n",
       ">\n",
       "    <script>\n",
       "    if (window.require && require.defined && require.defined(\"nbextensions/webio/main\")) {\n",
       "        console.log(\"Jupyter WebIO extension detected, not mounting.\");\n",
       "    } else if (window.WebIO) {\n",
       "        WebIO.mount(\n",
       "            document.querySelector('[data-webio-mountpoint=\"14116944059734559480\"]'),\n",
       "            {\"props\":{},\"nodeType\":\"Scope\",\"type\":\"node\",\"instanceArgs\":{\"imports\":{\"data\":[],\"type\":\"async_block\"},\"id\":\"scope-5f0d5119-bea2-4906-9fbd-34175a953745\",\"handlers\":{},\"systemjs_options\":null,\"observables\":{\"curriculum-data\":{\"sync\":true,\"id\":\"ob_05\",\"value\":{\"options\":{\"hideTerms\":false,\"edit\":false},\"curriculum\":{\"name\":\"University of Houston EE Program\",\"dp_name\":\"University of Houston EE Program 4-year Plan\",\"curriculum_terms\":[{\"name\":\"Term 1\",\"curriculum_items\":[{\"curriculum_requisites\":[],\"name\":\"CHEM 2090\",\"metrics\":{\"centrality\":0,\"complexity\":1.0,\"blocking factor\":0,\"delay factor\":1.0},\"nameSub\":\"CHEM 2090\",\"id\":2912506918863088116,\"credits\":3},{\"curriculum_requisites\":[],\"name\":\"MATH 1910\",\"metrics\":{\"centrality\":0,\"complexity\":15.0,\"blocking factor\":10,\"delay factor\":5.0},\"nameSub\":\"MATH 1910\",\"id\":7314782300610548763,\"credits\":3},{\"curriculum_requisites\":[],\"name\":\"ENGRI 1xxx\",\"metrics\":{\"centrality\":0,\"complexity\":1.0,\"blocking factor\":0,\"delay factor\":1.0},\"nameSub\":\"ENGRI 1xxx\",\"id\":5610600558886129243,\"credits\":3},{\"curriculum_requisites\":[],\"name\":\" \",\"metrics\":{\"centrality\":0,\"complexity\":1.0,\"blocking factor\":0,\"delay factor\":1.0},\"nameSub\":\"1st Yr Writing Seminar\",\"id\":1725816399570281613,\"credits\":3},{\"curriculum_requisites\":[],\"name\":\" \",\"metrics\":{\"centrality\":0,\"complexity\":1.0,\"blocking factor\":0,\"delay factor\":1.0},\"nameSub\":\"PE\",\"id\":4109982533878459085,\"credits\":3}],\"id\":1},{\"name\":\"Term 2\",\"curriculum_items\":[{\"curriculum_requisites\":[{\"source_id\":7314782300610548763,\"target_id\":1911849541899956786,\"type\":\"prereq\"}],\"name\":\"PHYS 1112\",\"metrics\":{\"centrality\":9,\"complexity\":9.0,\"blocking factor\":4,\"delay factor\":5.0},\"nameSub\":\"PHYS 1112\",\"id\":1911849541899956786,\"credits\":3},{\"curriculum_requisites\":[{\"source_id\":7314782300610548763,\"target_id\":7212214069911803948,\"type\":\"prereq\"}],\"name\":\"MATH 1920\",\"metrics\":{\"centrality\":28,\"complexity\":12.0,\"blocking factor\":8,\"delay factor\":4.0},\"nameSub\":\"MATH 1920\",\"id\":7212214069911803948,\"credits\":3},{\"curriculum_requisites\":[],\"name\":\"CS 111x\",\"metrics\":{\"centrality\":0,\"complexity\":6.0,\"blocking factor\":3,\"delay factor\":3.0},\"nameSub\":\"CS 111x\",\"id\":79570227037231851,\"credits\":3},{\"curriculum_requisites\":[],\"name\":\" \",\"metrics\":{\"centrality\":0,\"complexity\":1.0,\"blocking factor\":0,\"delay factor\":1.0},\"nameSub\":\"1st Yr Writing Seminar\",\"id\":3532248776098122316,\"credits\":3},{\"curriculum_requisites\":[],\"name\":\" \",\"metrics\":{\"centrality\":0,\"complexity\":1.0,\"blocking factor\":0,\"delay factor\":1.0},\"nameSub\":\"PE\",\"id\":5893816761635752618,\"credits\":3}],\"id\":2},{\"name\":\"Term 3\",\"curriculum_items\":[{\"curriculum_requisites\":[{\"source_id\":1911849541899956786,\"target_id\":6425753310902685014,\"type\":\"prereq\"},{\"source_id\":7212214069911803948,\"target_id\":6425753310902685014,\"type\":\"prereq\"}],\"name\":\"PHYS 2213\",\"metrics\":{\"centrality\":18,\"complexity\":8.0,\"blocking factor\":3,\"delay factor\":5.0},\"nameSub\":\"PHYS 2213\",\"id\":6425753310902685014,\"credits\":3},{\"curriculum_requisites\":[{\"source_id\":7212214069911803948,\"target_id\":4707901693699956298,\"type\":\"prereq\"}],\"name\":\"MATH 2930\",\"metrics\":{\"centrality\":14,\"complexity\":8.0,\"blocking factor\":4,\"delay factor\":4.0},\"nameSub\":\"MATH 2930\",\"id\":4707901693699956298,\"credits\":3},{\"curriculum_requisites\":[{\"source_id\":6425753310902685014,\"target_id\":6439002488888680888,\"type\":\"coreq\"},{\"source_id\":4707901693699956298,\"target_id\":6439002488888680888,\"type\":\"coreq\"}],\"name\":\"ECE\\/ENGRD 2100\",\"metrics\":{\"centrality\":15,\"complexity\":6.0,\"blocking factor\":1,\"delay factor\":5.0},\"nameSub\":\"ECE\\/ENGRD 2100\",\"id\":6439002488888680888,\"credits\":3},{\"curriculum_requisites\":[{\"source_id\":79570227037231851,\"target_id\":1015818811103848899,\"type\":\"prereq\"}],\"name\":\"MECE\\/ENGRD 2300\",\"metrics\":{\"centrality\":3,\"complexity\":4.0,\"blocking factor\":1,\"delay factor\":3.0},\"nameSub\":\"MECE\\/ENGRD 2300\",\"id\":1015818811103848899,\"credits\":3},{\"curriculum_requisites\":[],\"name\":\" \",\"metrics\":{\"centrality\":0,\"complexity\":1.0,\"blocking factor\":0,\"delay factor\":1.0},\"nameSub\":\"Liberal Studies\",\"id\":6703606396640405916,\"credits\":3}],\"id\":3},{\"name\":\"Term 4\",\"curriculum_items\":[{\"curriculum_requisites\":[{\"source_id\":4707901693699956298,\"target_id\":3244401470927726854,\"type\":\"coreq\"}],\"name\":\"PHYS 2214\",\"metrics\":{\"centrality\":0,\"complexity\":4.0,\"blocking factor\":0,\"delay factor\":4.0},\"nameSub\":\"PHYS 2214\",\"id\":3244401470927726854,\"credits\":3},{\"curriculum_requisites\":[{\"source_id\":7212214069911803948,\"target_id\":5483120187411208071,\"type\":\"prereq\"}],\"name\":\"MATH 2940\",\"metrics\":{\"centrality\":5,\"complexity\":5.0,\"blocking factor\":2,\"delay factor\":3.0},\"nameSub\":\"MATH 2940\",\"id\":5483120187411208071,\"credits\":3},{\"curriculum_requisites\":[{\"source_id\":6425753310902685014,\"target_id\":1426341919018516802,\"type\":\"prereq\"}],\"name\":\"ENGRD 2xxx\",\"metrics\":{\"centrality\":0,\"complexity\":4.0,\"blocking factor\":0,\"delay factor\":4.0},\"nameSub\":\"ENGRD 2xxx\",\"id\":1426341919018516802,\"credits\":3},{\"curriculum_requisites\":[{\"source_id\":5483120187411208071,\"target_id\":7461595864409778664,\"type\":\"coreq\"},{\"source_id\":4707901693699956298,\"target_id\":7461595864409778664,\"type\":\"prereq\"}],\"name\":\"ECE\\/ENGRD 2200\\/2220\",\"metrics\":{\"centrality\":10,\"complexity\":5.0,\"blocking factor\":1,\"delay factor\":4.0},\"nameSub\":\"ECE 2200\\/ENGRD 2220\",\"id\":7461595864409778664,\"credits\":3},{\"curriculum_requisites\":[],\"name\":\" \",\"metrics\":{\"centrality\":0,\"complexity\":1.0,\"blocking factor\":0,\"delay factor\":1.0},\"nameSub\":\"Liberal Studies\",\"id\":6703606396640405916,\"credits\":3}],\"id\":4},{\"name\":\"Term 5\",\"curriculum_items\":[{\"curriculum_requisites\":[],\"name\":\" \",\"metrics\":{\"centrality\":0,\"complexity\":1.0,\"blocking factor\":0,\"delay factor\":1.0},\"nameSub\":\"ECE Foundations\",\"id\":2730056093824477443,\"credits\":3},{\"curriculum_requisites\":[],\"name\":\" \",\"metrics\":{\"centrality\":0,\"complexity\":1.0,\"blocking factor\":0,\"delay factor\":1.0},\"nameSub\":\"Elective\",\"id\":4222238180234606594,\"credits\":3},{\"curriculum_requisites\":[{\"source_id\":79570227037231851,\"target_id\":2707622294404830366,\"type\":\"prereq\"}],\"name\":\" \",\"metrics\":{\"centrality\":0,\"complexity\":2.0,\"blocking factor\":0,\"delay factor\":2.0},\"nameSub\":\"Outside Tech. Elective\",\"id\":2707622294404830366,\"credits\":3},{\"curriculum_requisites\":[{\"source_id\":6439002488888680888,\"target_id\":5840212054897932487,\"type\":\"prereq\"},{\"source_id\":1015818811103848899,\"target_id\":5840212054897932487,\"type\":\"prereq\"},{\"source_id\":7461595864409778664,\"target_id\":5840212054897932487,\"type\":\"prereq\"}],\"name\":\"ECE 3400\",\"metrics\":{\"centrality\":0,\"complexity\":5.0,\"blocking factor\":0,\"delay factor\":5.0},\"nameSub\":\"ECE 3400\",\"id\":5840212054897932487,\"credits\":3},{\"curriculum_requisites\":[],\"name\":\" \",\"metrics\":{\"centrality\":0,\"complexity\":1.0,\"blocking factor\":0,\"delay factor\":1.0},\"nameSub\":\"Liberal Studies\",\"id\":6703606396640405916,\"credits\":3}],\"id\":5},{\"name\":\"Term 6\",\"curriculum_items\":[{\"curriculum_requisites\":[],\"name\":\" \",\"metrics\":{\"centrality\":0,\"complexity\":1.0,\"blocking factor\":0,\"delay factor\":1.0},\"nameSub\":\"ECE Foundations\",\"id\":2730056093824477443,\"credits\":3},{\"curriculum_requisites\":[],\"name\":\" \",\"metrics\":{\"centrality\":0,\"complexity\":1.0,\"blocking factor\":0,\"delay factor\":1.0},\"nameSub\":\"ECE Foundations\",\"id\":2730056093824477443,\"credits\":3},{\"curriculum_requisites\":[],\"name\":\" \",\"metrics\":{\"centrality\":0,\"complexity\":1.0,\"blocking factor\":0,\"delay factor\":1.0},\"nameSub\":\"Outside Tech. Elective\",\"id\":2707622294404830366,\"credits\":3},{\"curriculum_requisites\":[],\"name\":\" \",\"metrics\":{\"centrality\":0,\"complexity\":1.0,\"blocking factor\":0,\"delay factor\":1.0},\"nameSub\":\"Elective\",\"id\":4222238180234606594,\"credits\":3},{\"curriculum_requisites\":[],\"name\":\" \",\"metrics\":{\"centrality\":0,\"complexity\":1.0,\"blocking factor\":0,\"delay factor\":1.0},\"nameSub\":\"Liberal Studies\",\"id\":6703606396640405916,\"credits\":3}],\"id\":6},{\"name\":\"Term 7\",\"curriculum_items\":[{\"curriculum_requisites\":[],\"name\":\" \",\"metrics\":{\"centrality\":0,\"complexity\":1.0,\"blocking factor\":0,\"delay factor\":1.0},\"nameSub\":\"ECE Elective \",\"id\":5561213124461592638,\"credits\":3},{\"curriculum_requisites\":[],\"name\":\" \",\"metrics\":{\"centrality\":0,\"complexity\":1.0,\"blocking factor\":0,\"delay factor\":1.0},\"nameSub\":\"ECE Elective\",\"id\":2669111135963361097,\"credits\":3},{\"curriculum_requisites\":[],\"name\":\" \",\"metrics\":{\"centrality\":0,\"complexity\":1.0,\"blocking factor\":0,\"delay factor\":1.0},\"nameSub\":\"Outside Tech. Elective\",\"id\":2707622294404830366,\"credits\":3},{\"curriculum_requisites\":[],\"name\":\" \",\"metrics\":{\"centrality\":0,\"complexity\":1.0,\"blocking factor\":0,\"delay factor\":1.0},\"nameSub\":\"Liberal Studies\",\"id\":6703606396640405916,\"credits\":3}],\"id\":7},{\"name\":\"Term 8\",\"curriculum_items\":[{\"curriculum_requisites\":[],\"name\":\" \",\"metrics\":{\"centrality\":0,\"complexity\":1.0,\"blocking factor\":0,\"delay factor\":1.0},\"nameSub\":\"ECE Elective\",\"id\":2669111135963361097,\"credits\":3},{\"curriculum_requisites\":[],\"name\":\" \",\"metrics\":{\"centrality\":0,\"complexity\":1.0,\"blocking factor\":0,\"delay factor\":1.0},\"nameSub\":\"ECE Elective\",\"id\":2669111135963361097,\"credits\":3},{\"curriculum_requisites\":[],\"name\":\" \",\"metrics\":{\"centrality\":0,\"complexity\":1.0,\"blocking factor\":0,\"delay factor\":1.0},\"nameSub\":\"ECE Elective\",\"id\":2669111135963361097,\"credits\":3},{\"curriculum_requisites\":[],\"name\":\" \",\"metrics\":{\"centrality\":0,\"complexity\":1.0,\"blocking factor\":0,\"delay factor\":1.0},\"nameSub\":\"Liberal Studies\",\"id\":6703606396640405916,\"credits\":3}],\"id\":8}],\"institution\":\"\"}}}}},\"children\":[{\"props\":{\"src\":\"http:\\/\\/localhost:8156\",\"id\":\"curriculum\",\"events\":{\"load\":\"(function (){this.contentWindow.postMessage({\\\"options\\\":{\\\"hideTerms\\\":false,\\\"edit\\\":false},\\\"curriculum\\\":{\\\"name\\\":\\\"University of Houston EE Program\\\",\\\"dp_name\\\":\\\"University of Houston EE Program 4-year Plan\\\",\\\"curriculum_terms\\\":[{\\\"name\\\":\\\"Term 1\\\",\\\"curriculum_items\\\":[{\\\"curriculum_requisites\\\":[],\\\"name\\\":\\\"CHEM 2090\\\",\\\"metrics\\\":{\\\"centrality\\\":0,\\\"complexity\\\":1.0,\\\"blocking factor\\\":0,\\\"delay factor\\\":1.0},\\\"nameSub\\\":\\\"CHEM 2090\\\",\\\"id\\\":2912506918863088116,\\\"credits\\\":3},{\\\"curriculum_requisites\\\":[],\\\"name\\\":\\\"MATH 1910\\\",\\\"metrics\\\":{\\\"centrality\\\":0,\\\"complexity\\\":15.0,\\\"blocking factor\\\":10,\\\"delay factor\\\":5.0},\\\"nameSub\\\":\\\"MATH 1910\\\",\\\"id\\\":7314782300610548763,\\\"credits\\\":3},{\\\"curriculum_requisites\\\":[],\\\"name\\\":\\\"ENGRI 1xxx\\\",\\\"metrics\\\":{\\\"centrality\\\":0,\\\"complexity\\\":1.0,\\\"blocking factor\\\":0,\\\"delay factor\\\":1.0},\\\"nameSub\\\":\\\"ENGRI 1xxx\\\",\\\"id\\\":5610600558886129243,\\\"credits\\\":3},{\\\"curriculum_requisites\\\":[],\\\"name\\\":\\\" \\\",\\\"metrics\\\":{\\\"centrality\\\":0,\\\"complexity\\\":1.0,\\\"blocking factor\\\":0,\\\"delay factor\\\":1.0},\\\"nameSub\\\":\\\"1st Yr Writing Seminar\\\",\\\"id\\\":1725816399570281613,\\\"credits\\\":3},{\\\"curriculum_requisites\\\":[],\\\"name\\\":\\\" \\\",\\\"metrics\\\":{\\\"centrality\\\":0,\\\"complexity\\\":1.0,\\\"blocking factor\\\":0,\\\"delay factor\\\":1.0},\\\"nameSub\\\":\\\"PE\\\",\\\"id\\\":4109982533878459085,\\\"credits\\\":3}],\\\"id\\\":1},{\\\"name\\\":\\\"Term 2\\\",\\\"curriculum_items\\\":[{\\\"curriculum_requisites\\\":[{\\\"source_id\\\":7314782300610548763,\\\"target_id\\\":1911849541899956786,\\\"type\\\":\\\"prereq\\\"}],\\\"name\\\":\\\"PHYS 1112\\\",\\\"metrics\\\":{\\\"centrality\\\":9,\\\"complexity\\\":9.0,\\\"blocking factor\\\":4,\\\"delay factor\\\":5.0},\\\"nameSub\\\":\\\"PHYS 1112\\\",\\\"id\\\":1911849541899956786,\\\"credits\\\":3},{\\\"curriculum_requisites\\\":[{\\\"source_id\\\":7314782300610548763,\\\"target_id\\\":7212214069911803948,\\\"type\\\":\\\"prereq\\\"}],\\\"name\\\":\\\"MATH 1920\\\",\\\"metrics\\\":{\\\"centrality\\\":28,\\\"complexity\\\":12.0,\\\"blocking factor\\\":8,\\\"delay factor\\\":4.0},\\\"nameSub\\\":\\\"MATH 1920\\\",\\\"id\\\":7212214069911803948,\\\"credits\\\":3},{\\\"curriculum_requisites\\\":[],\\\"name\\\":\\\"CS 111x\\\",\\\"metrics\\\":{\\\"centrality\\\":0,\\\"complexity\\\":6.0,\\\"blocking factor\\\":3,\\\"delay factor\\\":3.0},\\\"nameSub\\\":\\\"CS 111x\\\",\\\"id\\\":79570227037231851,\\\"credits\\\":3},{\\\"curriculum_requisites\\\":[],\\\"name\\\":\\\" \\\",\\\"metrics\\\":{\\\"centrality\\\":0,\\\"complexity\\\":1.0,\\\"blocking factor\\\":0,\\\"delay factor\\\":1.0},\\\"nameSub\\\":\\\"1st Yr Writing Seminar\\\",\\\"id\\\":3532248776098122316,\\\"credits\\\":3},{\\\"curriculum_requisites\\\":[],\\\"name\\\":\\\" \\\",\\\"metrics\\\":{\\\"centrality\\\":0,\\\"complexity\\\":1.0,\\\"blocking factor\\\":0,\\\"delay factor\\\":1.0},\\\"nameSub\\\":\\\"PE\\\",\\\"id\\\":5893816761635752618,\\\"credits\\\":3}],\\\"id\\\":2},{\\\"name\\\":\\\"Term 3\\\",\\\"curriculum_items\\\":[{\\\"curriculum_requisites\\\":[{\\\"source_id\\\":1911849541899956786,\\\"target_id\\\":6425753310902685014,\\\"type\\\":\\\"prereq\\\"},{\\\"source_id\\\":7212214069911803948,\\\"target_id\\\":6425753310902685014,\\\"type\\\":\\\"prereq\\\"}],\\\"name\\\":\\\"PHYS 2213\\\",\\\"metrics\\\":{\\\"centrality\\\":18,\\\"complexity\\\":8.0,\\\"blocking factor\\\":3,\\\"delay factor\\\":5.0},\\\"nameSub\\\":\\\"PHYS 2213\\\",\\\"id\\\":6425753310902685014,\\\"credits\\\":3},{\\\"curriculum_requisites\\\":[{\\\"source_id\\\":7212214069911803948,\\\"target_id\\\":4707901693699956298,\\\"type\\\":\\\"prereq\\\"}],\\\"name\\\":\\\"MATH 2930\\\",\\\"metrics\\\":{\\\"centrality\\\":14,\\\"complexity\\\":8.0,\\\"blocking factor\\\":4,\\\"delay factor\\\":4.0},\\\"nameSub\\\":\\\"MATH 2930\\\",\\\"id\\\":4707901693699956298,\\\"credits\\\":3},{\\\"curriculum_requisites\\\":[{\\\"source_id\\\":6425753310902685014,\\\"target_id\\\":6439002488888680888,\\\"type\\\":\\\"coreq\\\"},{\\\"source_id\\\":4707901693699956298,\\\"target_id\\\":6439002488888680888,\\\"type\\\":\\\"coreq\\\"}],\\\"name\\\":\\\"ECE\\/ENGRD 2100\\\",\\\"metrics\\\":{\\\"centrality\\\":15,\\\"complexity\\\":6.0,\\\"blocking factor\\\":1,\\\"delay factor\\\":5.0},\\\"nameSub\\\":\\\"ECE\\/ENGRD 2100\\\",\\\"id\\\":6439002488888680888,\\\"credits\\\":3},{\\\"curriculum_requisites\\\":[{\\\"source_id\\\":79570227037231851,\\\"target_id\\\":1015818811103848899,\\\"type\\\":\\\"prereq\\\"}],\\\"name\\\":\\\"MECE\\/ENGRD 2300\\\",\\\"metrics\\\":{\\\"centrality\\\":3,\\\"complexity\\\":4.0,\\\"blocking factor\\\":1,\\\"delay factor\\\":3.0},\\\"nameSub\\\":\\\"MECE\\/ENGRD 2300\\\",\\\"id\\\":1015818811103848899,\\\"credits\\\":3},{\\\"curriculum_requisites\\\":[],\\\"name\\\":\\\" \\\",\\\"metrics\\\":{\\\"centrality\\\":0,\\\"complexity\\\":1.0,\\\"blocking factor\\\":0,\\\"delay factor\\\":1.0},\\\"nameSub\\\":\\\"Liberal Studies\\\",\\\"id\\\":6703606396640405916,\\\"credits\\\":3}],\\\"id\\\":3},{\\\"name\\\":\\\"Term 4\\\",\\\"curriculum_items\\\":[{\\\"curriculum_requisites\\\":[{\\\"source_id\\\":4707901693699956298,\\\"target_id\\\":3244401470927726854,\\\"type\\\":\\\"coreq\\\"}],\\\"name\\\":\\\"PHYS 2214\\\",\\\"metrics\\\":{\\\"centrality\\\":0,\\\"complexity\\\":4.0,\\\"blocking factor\\\":0,\\\"delay factor\\\":4.0},\\\"nameSub\\\":\\\"PHYS 2214\\\",\\\"id\\\":3244401470927726854,\\\"credits\\\":3},{\\\"curriculum_requisites\\\":[{\\\"source_id\\\":7212214069911803948,\\\"target_id\\\":5483120187411208071,\\\"type\\\":\\\"prereq\\\"}],\\\"name\\\":\\\"MATH 2940\\\",\\\"metrics\\\":{\\\"centrality\\\":5,\\\"complexity\\\":5.0,\\\"blocking factor\\\":2,\\\"delay factor\\\":3.0},\\\"nameSub\\\":\\\"MATH 2940\\\",\\\"id\\\":5483120187411208071,\\\"credits\\\":3},{\\\"curriculum_requisites\\\":[{\\\"source_id\\\":6425753310902685014,\\\"target_id\\\":1426341919018516802,\\\"type\\\":\\\"prereq\\\"}],\\\"name\\\":\\\"ENGRD 2xxx\\\",\\\"metrics\\\":{\\\"centrality\\\":0,\\\"complexity\\\":4.0,\\\"blocking factor\\\":0,\\\"delay factor\\\":4.0},\\\"nameSub\\\":\\\"ENGRD 2xxx\\\",\\\"id\\\":1426341919018516802,\\\"credits\\\":3},{\\\"curriculum_requisites\\\":[{\\\"source_id\\\":5483120187411208071,\\\"target_id\\\":7461595864409778664,\\\"type\\\":\\\"coreq\\\"},{\\\"source_id\\\":4707901693699956298,\\\"target_id\\\":7461595864409778664,\\\"type\\\":\\\"prereq\\\"}],\\\"name\\\":\\\"ECE\\/ENGRD 2200\\/2220\\\",\\\"metrics\\\":{\\\"centrality\\\":10,\\\"complexity\\\":5.0,\\\"blocking factor\\\":1,\\\"delay factor\\\":4.0},\\\"nameSub\\\":\\\"ECE 2200\\/ENGRD 2220\\\",\\\"id\\\":7461595864409778664,\\\"credits\\\":3},{\\\"curriculum_requisites\\\":[],\\\"name\\\":\\\" \\\",\\\"metrics\\\":{\\\"centrality\\\":0,\\\"complexity\\\":1.0,\\\"blocking factor\\\":0,\\\"delay factor\\\":1.0},\\\"nameSub\\\":\\\"Liberal Studies\\\",\\\"id\\\":6703606396640405916,\\\"credits\\\":3}],\\\"id\\\":4},{\\\"name\\\":\\\"Term 5\\\",\\\"curriculum_items\\\":[{\\\"curriculum_requisites\\\":[],\\\"name\\\":\\\" \\\",\\\"metrics\\\":{\\\"centrality\\\":0,\\\"complexity\\\":1.0,\\\"blocking factor\\\":0,\\\"delay factor\\\":1.0},\\\"nameSub\\\":\\\"ECE Foundations\\\",\\\"id\\\":2730056093824477443,\\\"credits\\\":3},{\\\"curriculum_requisites\\\":[],\\\"name\\\":\\\" \\\",\\\"metrics\\\":{\\\"centrality\\\":0,\\\"complexity\\\":1.0,\\\"blocking factor\\\":0,\\\"delay factor\\\":1.0},\\\"nameSub\\\":\\\"Elective\\\",\\\"id\\\":4222238180234606594,\\\"credits\\\":3},{\\\"curriculum_requisites\\\":[{\\\"source_id\\\":79570227037231851,\\\"target_id\\\":2707622294404830366,\\\"type\\\":\\\"prereq\\\"}],\\\"name\\\":\\\" \\\",\\\"metrics\\\":{\\\"centrality\\\":0,\\\"complexity\\\":2.0,\\\"blocking factor\\\":0,\\\"delay factor\\\":2.0},\\\"nameSub\\\":\\\"Outside Tech. Elective\\\",\\\"id\\\":2707622294404830366,\\\"credits\\\":3},{\\\"curriculum_requisites\\\":[{\\\"source_id\\\":6439002488888680888,\\\"target_id\\\":5840212054897932487,\\\"type\\\":\\\"prereq\\\"},{\\\"source_id\\\":1015818811103848899,\\\"target_id\\\":5840212054897932487,\\\"type\\\":\\\"prereq\\\"},{\\\"source_id\\\":7461595864409778664,\\\"target_id\\\":5840212054897932487,\\\"type\\\":\\\"prereq\\\"}],\\\"name\\\":\\\"ECE 3400\\\",\\\"metrics\\\":{\\\"centrality\\\":0,\\\"complexity\\\":5.0,\\\"blocking factor\\\":0,\\\"delay factor\\\":5.0},\\\"nameSub\\\":\\\"ECE 3400\\\",\\\"id\\\":5840212054897932487,\\\"credits\\\":3},{\\\"curriculum_requisites\\\":[],\\\"name\\\":\\\" \\\",\\\"metrics\\\":{\\\"centrality\\\":0,\\\"complexity\\\":1.0,\\\"blocking factor\\\":0,\\\"delay factor\\\":1.0},\\\"nameSub\\\":\\\"Liberal Studies\\\",\\\"id\\\":6703606396640405916,\\\"credits\\\":3}],\\\"id\\\":5},{\\\"name\\\":\\\"Term 6\\\",\\\"curriculum_items\\\":[{\\\"curriculum_requisites\\\":[],\\\"name\\\":\\\" \\\",\\\"metrics\\\":{\\\"centrality\\\":0,\\\"complexity\\\":1.0,\\\"blocking factor\\\":0,\\\"delay factor\\\":1.0},\\\"nameSub\\\":\\\"ECE Foundations\\\",\\\"id\\\":2730056093824477443,\\\"credits\\\":3},{\\\"curriculum_requisites\\\":[],\\\"name\\\":\\\" \\\",\\\"metrics\\\":{\\\"centrality\\\":0,\\\"complexity\\\":1.0,\\\"blocking factor\\\":0,\\\"delay factor\\\":1.0},\\\"nameSub\\\":\\\"ECE Foundations\\\",\\\"id\\\":2730056093824477443,\\\"credits\\\":3},{\\\"curriculum_requisites\\\":[],\\\"name\\\":\\\" \\\",\\\"metrics\\\":{\\\"centrality\\\":0,\\\"complexity\\\":1.0,\\\"blocking factor\\\":0,\\\"delay factor\\\":1.0},\\\"nameSub\\\":\\\"Outside Tech. Elective\\\",\\\"id\\\":2707622294404830366,\\\"credits\\\":3},{\\\"curriculum_requisites\\\":[],\\\"name\\\":\\\" \\\",\\\"metrics\\\":{\\\"centrality\\\":0,\\\"complexity\\\":1.0,\\\"blocking factor\\\":0,\\\"delay factor\\\":1.0},\\\"nameSub\\\":\\\"Elective\\\",\\\"id\\\":4222238180234606594,\\\"credits\\\":3},{\\\"curriculum_requisites\\\":[],\\\"name\\\":\\\" \\\",\\\"metrics\\\":{\\\"centrality\\\":0,\\\"complexity\\\":1.0,\\\"blocking factor\\\":0,\\\"delay factor\\\":1.0},\\\"nameSub\\\":\\\"Liberal Studies\\\",\\\"id\\\":6703606396640405916,\\\"credits\\\":3}],\\\"id\\\":6},{\\\"name\\\":\\\"Term 7\\\",\\\"curriculum_items\\\":[{\\\"curriculum_requisites\\\":[],\\\"name\\\":\\\" \\\",\\\"metrics\\\":{\\\"centrality\\\":0,\\\"complexity\\\":1.0,\\\"blocking factor\\\":0,\\\"delay factor\\\":1.0},\\\"nameSub\\\":\\\"ECE Elective \\\",\\\"id\\\":5561213124461592638,\\\"credits\\\":3},{\\\"curriculum_requisites\\\":[],\\\"name\\\":\\\" \\\",\\\"metrics\\\":{\\\"centrality\\\":0,\\\"complexity\\\":1.0,\\\"blocking factor\\\":0,\\\"delay factor\\\":1.0},\\\"nameSub\\\":\\\"ECE Elective\\\",\\\"id\\\":2669111135963361097,\\\"credits\\\":3},{\\\"curriculum_requisites\\\":[],\\\"name\\\":\\\" \\\",\\\"metrics\\\":{\\\"centrality\\\":0,\\\"complexity\\\":1.0,\\\"blocking factor\\\":0,\\\"delay factor\\\":1.0},\\\"nameSub\\\":\\\"Outside Tech. Elective\\\",\\\"id\\\":2707622294404830366,\\\"credits\\\":3},{\\\"curriculum_requisites\\\":[],\\\"name\\\":\\\" \\\",\\\"metrics\\\":{\\\"centrality\\\":0,\\\"complexity\\\":1.0,\\\"blocking factor\\\":0,\\\"delay factor\\\":1.0},\\\"nameSub\\\":\\\"Liberal Studies\\\",\\\"id\\\":6703606396640405916,\\\"credits\\\":3}],\\\"id\\\":7},{\\\"name\\\":\\\"Term 8\\\",\\\"curriculum_items\\\":[{\\\"curriculum_requisites\\\":[],\\\"name\\\":\\\" \\\",\\\"metrics\\\":{\\\"centrality\\\":0,\\\"complexity\\\":1.0,\\\"blocking factor\\\":0,\\\"delay factor\\\":1.0},\\\"nameSub\\\":\\\"ECE Elective\\\",\\\"id\\\":2669111135963361097,\\\"credits\\\":3},{\\\"curriculum_requisites\\\":[],\\\"name\\\":\\\" \\\",\\\"metrics\\\":{\\\"centrality\\\":0,\\\"complexity\\\":1.0,\\\"blocking factor\\\":0,\\\"delay factor\\\":1.0},\\\"nameSub\\\":\\\"ECE Elective\\\",\\\"id\\\":2669111135963361097,\\\"credits\\\":3},{\\\"curriculum_requisites\\\":[],\\\"name\\\":\\\" \\\",\\\"metrics\\\":{\\\"centrality\\\":0,\\\"complexity\\\":1.0,\\\"blocking factor\\\":0,\\\"delay factor\\\":1.0},\\\"nameSub\\\":\\\"ECE Elective\\\",\\\"id\\\":2669111135963361097,\\\"credits\\\":3},{\\\"curriculum_requisites\\\":[],\\\"name\\\":\\\" \\\",\\\"metrics\\\":{\\\"centrality\\\":0,\\\"complexity\\\":1.0,\\\"blocking factor\\\":0,\\\"delay factor\\\":1.0},\\\"nameSub\\\":\\\"Liberal Studies\\\",\\\"id\\\":6703606396640405916,\\\"credits\\\":3}],\\\"id\\\":8}],\\\"institution\\\":\\\"\\\"}},\\\"*\\\"); window.removeEventListener(\\\"message\\\",window.messageReceived); window.messageReceived=(function (event){return (event.data.curriculum!==undefined) ? (_webIOScope.setObservableValue({\\\"name\\\":\\\"curriculum-data\\\",\\\"scope\\\":\\\"scope-5f0d5119-bea2-4906-9fbd-34175a953745\\\",\\\"id\\\":\\\"ob_05\\\",\\\"type\\\":\\\"observable\\\"},event.data.curriculum)) : undefined}); return window.addEventListener(\\\"message\\\",window.messageReceived)})\"},\"style\":{\"padding\":\"0\",\"height\":\"100vh\",\"margin\":\"0\",\"border\":\"none\",\"width\":\"100%\"}},\"nodeType\":\"DOM\",\"type\":\"node\",\"instanceArgs\":{\"namespace\":\"html\",\"tag\":\"iframe\"},\"children\":[\"\"]}]},\n",
       "        );\n",
       "    } else {\n",
       "        document\n",
       "            .querySelector('[data-webio-mountpoint=\"14116944059734559480\"]')\n",
       "            .innerHTML = '<strong>WebIO not detected.</strong>';\n",
       "    }\n",
       "    </script>\n",
       "</div>\n"
      ],
      "text/plain": [
       "WebIO.Scope(\"scope-5f0d5119-bea2-4906-9fbd-34175a953745\", WebIO.Node{WebIO.DOM}(WebIO.DOM(:html, :iframe), Any[\"\"], Dict{Symbol,Any}(:src=>\"http://localhost:8156\",:id=>\"curriculum\",:events=>Dict(:load=>JSString(\"(function (){this.contentWindow.postMessage({\\\"options\\\":{\\\"hideTerms\\\":false,\\\"edit\\\":false},\\\"curriculum\\\":{\\\"name\\\":\\\"University of Houston EE Program\\\",\\\"dp_name\\\":\\\"University of Houston EE Program 4-year Plan\\\",\\\"curriculum_terms\\\":[{\\\"name\\\":\\\"Term 1\\\",\\\"curriculum_items\\\":[{\\\"curriculum_requisites\\\":[],\\\"name\\\":\\\"CHEM 2090\\\",\\\"metrics\\\":{\\\"centrality\\\":0,\\\"complexity\\\":1.0,\\\"blocking factor\\\":0,\\\"delay factor\\\":1.0},\\\"nameSub\\\":\\\"CHEM 2090\\\",\\\"id\\\":2912506918863088116,\\\"credits\\\":3},{\\\"curriculum_requisites\\\":[],\\\"name\\\":\\\"MATH 1910\\\",\\\"metrics\\\":{\\\"centrality\\\":0,\\\"complexity\\\":15.0,\\\"blocking factor\\\":10,\\\"delay factor\\\":5.0},\\\"nameSub\\\":\\\"MATH 1910\\\",\\\"id\\\":7314782300610548763,\\\"credits\\\":3},{\\\"curriculum_requisites\\\":[],\\\"name\\\":\\\"ENGRI 1xxx\\\",\\\"metrics\\\":{\\\"centrality\\\":0,\\\"complexity\\\":1.0,\\\"blocking factor\\\":0,\\\"delay factor\\\":1.0},\\\"nameSub\\\":\\\"ENGRI 1xxx\\\",\\\"id\\\":5610600558886129243,\\\"credits\\\":3},{\\\"curriculum_requisites\\\":[],\\\"name\\\":\\\" \\\",\\\"metrics\\\":{\\\"centrality\\\":0,\\\"complexity\\\":1.0,\\\"blocking factor\\\":0,\\\"delay factor\\\":1.0},\\\"nameSub\\\":\\\"1st Yr Writing Seminar\\\",\\\"id\\\":1725816399570281613,\\\"credits\\\":3},{\\\"curriculum_requisites\\\":[],\\\"name\\\":\\\" \\\",\\\"metrics\\\":{\\\"centrality\\\":0,\\\"complexity\\\":1.0,\\\"blocking factor\\\":0,\\\"delay factor\\\":1.0},\\\"nameSub\\\":\\\"PE\\\",\\\"id\\\":4109982533878459085,\\\"credits\\\":3}],\\\"id\\\":1},{\\\"name\\\":\\\"Term 2\\\",\\\"curriculum_items\\\":[{\\\"curriculum_requisites\\\":[{\\\"source_id\\\":7314782300610548763,\\\"target_id\\\":1911849541899956786,\\\"type\\\":\\\"prereq\\\"}],\\\"name\\\":\\\"PHYS 1112\\\",\\\"metrics\\\":{\\\"centrality\\\":9,\\\"complexity\\\":9.0,\\\"blocking factor\\\":4,\\\"delay factor\\\":5.0},\\\"nameSub\\\":\\\"PHYS 1112\\\",\\\"id\\\":1911849541899956786,\\\"credits\\\":3},{\\\"curriculum_requisites\\\":[{\\\"source_id\\\":7314782300610548763,\\\"target_id\\\":7212214069911803948,\\\"type\\\":\\\"prereq\\\"}],\\\"name\\\":\\\"MATH 1920\\\",\\\"metrics\\\":{\\\"centrality\\\":28,\\\"complexity\\\":12.0,\\\"blocking factor\\\":8,\\\"delay factor\\\":4.0},\\\"nameSub\\\":\\\"MATH 1920\\\",\\\"id\\\":7212214069911803948,\\\"credits\\\":3},{\\\"curriculum_requisites\\\":[],\\\"name\\\":\\\"CS 111x\\\",\\\"metrics\\\":{\\\"centrality\\\":0,\\\"complexity\\\":6.0,\\\"blocking factor\\\":3,\\\"delay factor\\\":3.0},\\\"nameSub\\\":\\\"CS 111x\\\",\\\"id\\\":79570227037231851,\\\"credits\\\":3},{\\\"curriculum_requisites\\\":[],\\\"name\\\":\\\" \\\",\\\"metrics\\\":{\\\"centrality\\\":0,\\\"complexity\\\":1.0,\\\"blocking factor\\\":0,\\\"delay factor\\\":1.0},\\\"nameSub\\\":\\\"1st Yr Writing Seminar\\\",\\\"id\\\":3532248776098122316,\\\"credits\\\":3},{\\\"curriculum_requisites\\\":[],\\\"name\\\":\\\" \\\",\\\"metrics\\\":{\\\"centrality\\\":0,\\\"complexity\\\":1.0,\\\"blocking factor\\\":0,\\\"delay factor\\\":1.0},\\\"nameSub\\\":\\\"PE\\\",\\\"id\\\":5893816761635752618,\\\"credits\\\":3}],\\\"id\\\":2},{\\\"name\\\":\\\"Term 3\\\",\\\"curriculum_items\\\":[{\\\"curriculum_requisites\\\":[{\\\"source_id\\\":1911849541899956786,\\\"target_id\\\":6425753310902685014,\\\"type\\\":\\\"prereq\\\"},{\\\"source_id\\\":7212214069911803948,\\\"target_id\\\":6425753310902685014,\\\"type\\\":\\\"prereq\\\"}],\\\"name\\\":\\\"PHYS 2213\\\",\\\"metrics\\\":{\\\"centrality\\\":18,\\\"complexity\\\":8.0,\\\"blocking factor\\\":3,\\\"delay factor\\\":5.0},\\\"nameSub\\\":\\\"PHYS 2213\\\",\\\"id\\\":6425753310902685014,\\\"credits\\\":3},{\\\"curriculum_requisites\\\":[{\\\"source_id\\\":7212214069911803948,\\\"target_id\\\":4707901693699956298,\\\"type\\\":\\\"prereq\\\"}],\\\"name\\\":\\\"MATH 2930\\\",\\\"metrics\\\":{\\\"centrality\\\":14,\\\"complexity\\\":8.0,\\\"blocking factor\\\":4,\\\"delay factor\\\":4.0},\\\"nameSub\\\":\\\"MATH 2930\\\",\\\"id\\\":4707901693699956298,\\\"credits\\\":3},{\\\"curriculum_requisites\\\":[{\\\"source_id\\\":6425753310902685014,\\\"target_id\\\":6439002488888680888,\\\"type\\\":\\\"coreq\\\"},{\\\"source_id\\\":4707901693699956298,\\\"target_id\\\":6439002488888680888,\\\"type\\\":\\\"coreq\\\"}],\\\"name\\\":\\\"ECE/ENGRD 2100\\\",\\\"metrics\\\":{\\\"centrality\\\":15,\\\"complexity\\\":6.0,\\\"blocking factor\\\":1,\\\"delay factor\\\":5.0},\\\"nameSub\\\":\\\"ECE/ENGRD 2100\\\",\\\"id\\\":6439002488888680888,\\\"credits\\\":3},{\\\"curriculum_requisites\\\":[{\\\"source_id\\\":79570227037231851,\\\"target_id\\\":1015818811103848899,\\\"type\\\":\\\"prereq\\\"}],\\\"name\\\":\\\"MECE/ENGRD 2300\\\",\\\"metrics\\\":{\\\"centrality\\\":3,\\\"complexity\\\":4.0,\\\"blocking factor\\\":1,\\\"delay factor\\\":3.0},\\\"nameSub\\\":\\\"MECE/ENGRD 2300\\\",\\\"id\\\":1015818811103848899,\\\"credits\\\":3},{\\\"curriculum_requisites\\\":[],\\\"name\\\":\\\" \\\",\\\"metrics\\\":{\\\"centrality\\\":0,\\\"complexity\\\":1.0,\\\"blocking factor\\\":0,\\\"delay factor\\\":1.0},\\\"nameSub\\\":\\\"Liberal Studies\\\",\\\"id\\\":6703606396640405916,\\\"credits\\\":3}],\\\"id\\\":3},{\\\"name\\\":\\\"Term 4\\\",\\\"curriculum_items\\\":[{\\\"curriculum_requisites\\\":[{\\\"source_id\\\":4707901693699956298,\\\"target_id\\\":3244401470927726854,\\\"type\\\":\\\"coreq\\\"}],\\\"name\\\":\\\"PHYS 2214\\\",\\\"metrics\\\":{\\\"centrality\\\":0,\\\"complexity\\\":4.0,\\\"blocking factor\\\":0,\\\"delay factor\\\":4.0},\\\"nameSub\\\":\\\"PHYS 2214\\\",\\\"id\\\":3244401470927726854,\\\"credits\\\":3},{\\\"curriculum_requisites\\\":[{\\\"source_id\\\":7212214069911803948,\\\"target_id\\\":5483120187411208071,\\\"type\\\":\\\"prereq\\\"}],\\\"name\\\":\\\"MATH 2940\\\",\\\"metrics\\\":{\\\"centrality\\\":5,\\\"complexity\\\":5.0,\\\"blocking factor\\\":2,\\\"delay factor\\\":3.0},\\\"nameSub\\\":\\\"MATH 2940\\\",\\\"id\\\":5483120187411208071,\\\"credits\\\":3},{\\\"curriculum_requisites\\\":[{\\\"source_id\\\":6425753310902685014,\\\"target_id\\\":1426341919018516802,\\\"type\\\":\\\"prereq\\\"}],\\\"name\\\":\\\"ENGRD 2xxx\\\",\\\"metrics\\\":{\\\"centrality\\\":0,\\\"complexity\\\":4.0,\\\"blocking factor\\\":0,\\\"delay factor\\\":4.0},\\\"nameSub\\\":\\\"ENGRD 2xxx\\\",\\\"id\\\":1426341919018516802,\\\"credits\\\":3},{\\\"curriculum_requisites\\\":[{\\\"source_id\\\":5483120187411208071,\\\"target_id\\\":7461595864409778664,\\\"type\\\":\\\"coreq\\\"},{\\\"source_id\\\":4707901693699956298,\\\"target_id\\\":7461595864409778664,\\\"type\\\":\\\"prereq\\\"}],\\\"name\\\":\\\"ECE/ENGRD 2200/2220\\\",\\\"metrics\\\":{\\\"centrality\\\":10,\\\"complexity\\\":5.0,\\\"blocking factor\\\":1,\\\"delay factor\\\":4.0},\\\"nameSub\\\":\\\"ECE 2200/ENGRD 2220\\\",\\\"id\\\":7461595864409778664,\\\"credits\\\":3},{\\\"curriculum_requisites\\\":[],\\\"name\\\":\\\" \\\",\\\"metrics\\\":{\\\"centrality\\\":0,\\\"complexity\\\":1.0,\\\"blocking factor\\\":0,\\\"delay factor\\\":1.0},\\\"nameSub\\\":\\\"Liberal Studies\\\",\\\"id\\\":6703606396640405916,\\\"credits\\\":3}],\\\"id\\\":4},{\\\"name\\\":\\\"Term 5\\\",\\\"curriculum_items\\\":[{\\\"curriculum_requisites\\\":[],\\\"name\\\":\\\" \\\",\\\"metrics\\\":{\\\"centrality\\\":0,\\\"complexity\\\":1.0,\\\"blocking factor\\\":0,\\\"delay factor\\\":1.0},\\\"nameSub\\\":\\\"ECE Foundations\\\",\\\"id\\\":2730056093824477443,\\\"credits\\\":3},{\\\"curriculum_requisites\\\":[],\\\"name\\\":\\\" \\\",\\\"metrics\\\":{\\\"centrality\\\":0,\\\"complexity\\\":1.0,\\\"blocking factor\\\":0,\\\"delay factor\\\":1.0},\\\"nameSub\\\":\\\"Elective\\\",\\\"id\\\":4222238180234606594,\\\"credits\\\":3},{\\\"curriculum_requisites\\\":[{\\\"source_id\\\":79570227037231851,\\\"target_id\\\":2707622294404830366,\\\"type\\\":\\\"prereq\\\"}],\\\"name\\\":\\\" \\\",\\\"metrics\\\":{\\\"centrality\\\":0,\\\"complexity\\\":2.0,\\\"blocking factor\\\":0,\\\"delay factor\\\":2.0},\\\"nameSub\\\":\\\"Outside Tech. Elective\\\",\\\"id\\\":2707622294404830366,\\\"credits\\\":3},{\\\"curriculum_requisites\\\":[{\\\"source_id\\\":6439002488888680888,\\\"target_id\\\":5840212054897932487,\\\"type\\\":\\\"prereq\\\"},{\\\"source_id\\\":1015818811103848899,\\\"target_id\\\":5840212054897932487,\\\"type\\\":\\\"prereq\\\"},{\\\"source_id\\\":7461595864409778664,\\\"target_id\\\":5840212054897932487,\\\"type\\\":\\\"prereq\\\"}],\\\"name\\\":\\\"ECE 3400\\\",\\\"metrics\\\":{\\\"centrality\\\":0,\\\"complexity\\\":5.0,\\\"blocking factor\\\":0,\\\"delay factor\\\":5.0},\\\"nameSub\\\":\\\"ECE 3400\\\",\\\"id\\\":5840212054897932487,\\\"credits\\\":3},{\\\"curriculum_requisites\\\":[],\\\"name\\\":\\\" \\\",\\\"metrics\\\":{\\\"centrality\\\":0,\\\"complexity\\\":1.0,\\\"blocking factor\\\":0,\\\"delay factor\\\":1.0},\\\"nameSub\\\":\\\"Liberal Studies\\\",\\\"id\\\":6703606396640405916,\\\"credits\\\":3}],\\\"id\\\":5},{\\\"name\\\":\\\"Term 6\\\",\\\"curriculum_items\\\":[{\\\"curriculum_requisites\\\":[],\\\"name\\\":\\\" \\\",\\\"metrics\\\":{\\\"centrality\\\":0,\\\"complexity\\\":1.0,\\\"blocking factor\\\":0,\\\"delay factor\\\":1.0},\\\"nameSub\\\":\\\"ECE Foundations\\\",\\\"id\\\":2730056093824477443,\\\"credits\\\":3},{\\\"curriculum_requisites\\\":[],\\\"name\\\":\\\" \\\",\\\"metrics\\\":{\\\"centrality\\\":0,\\\"complexity\\\":1.0,\\\"blocking factor\\\":0,\\\"delay factor\\\":1.0},\\\"nameSub\\\":\\\"ECE Foundations\\\",\\\"id\\\":2730056093824477443,\\\"credits\\\":3},{\\\"curriculum_requisites\\\":[],\\\"name\\\":\\\" \\\",\\\"metrics\\\":{\\\"centrality\\\":0,\\\"complexity\\\":1.0,\\\"blocking factor\\\":0,\\\"delay factor\\\":1.0},\\\"nameSub\\\":\\\"Outside Tech. Elective\\\",\\\"id\\\":2707622294404830366,\\\"credits\\\":3},{\\\"curriculum_requisites\\\":[],\\\"name\\\":\\\" \\\",\\\"metrics\\\":{\\\"centrality\\\":0,\\\"complexity\\\":1.0,\\\"blocking factor\\\":0,\\\"delay factor\\\":1.0},\\\"nameSub\\\":\\\"Elective\\\",\\\"id\\\":4222238180234606594,\\\"credits\\\":3},{\\\"curriculum_requisites\\\":[],\\\"name\\\":\\\" \\\",\\\"metrics\\\":{\\\"centrality\\\":0,\\\"complexity\\\":1.0,\\\"blocking factor\\\":0,\\\"delay factor\\\":1.0},\\\"nameSub\\\":\\\"Liberal Studies\\\",\\\"id\\\":6703606396640405916,\\\"credits\\\":3}],\\\"id\\\":6},{\\\"name\\\":\\\"Term 7\\\",\\\"curriculum_items\\\":[{\\\"curriculum_requisites\\\":[],\\\"name\\\":\\\" \\\",\\\"metrics\\\":{\\\"centrality\\\":0,\\\"complexity\\\":1.0,\\\"blocking factor\\\":0,\\\"delay factor\\\":1.0},\\\"nameSub\\\":\\\"ECE Elective \\\",\\\"id\\\":5561213124461592638,\\\"credits\\\":3},{\\\"curriculum_requisites\\\":[],\\\"name\\\":\\\" \\\",\\\"metrics\\\":{\\\"centrality\\\":0,\\\"complexity\\\":1.0,\\\"blocking factor\\\":0,\\\"delay factor\\\":1.0},\\\"nameSub\\\":\\\"ECE Elective\\\",\\\"id\\\":2669111135963361097,\\\"credits\\\":3},{\\\"curriculum_requisites\\\":[],\\\"name\\\":\\\" \\\",\\\"metrics\\\":{\\\"centrality\\\":0,\\\"complexity\\\":1.0,\\\"blocking factor\\\":0,\\\"delay factor\\\":1.0},\\\"nameSub\\\":\\\"Outside Tech. Elective\\\",\\\"id\\\":2707622294404830366,\\\"credits\\\":3},{\\\"curriculum_requisites\\\":[],\\\"name\\\":\\\" \\\",\\\"metrics\\\":{\\\"centrality\\\":0,\\\"complexity\\\":1.0,\\\"blocking factor\\\":0,\\\"delay factor\\\":1.0},\\\"nameSub\\\":\\\"Liberal Studies\\\",\\\"id\\\":6703606396640405916,\\\"credits\\\":3}],\\\"id\\\":7},{\\\"name\\\":\\\"Term 8\\\",\\\"curriculum_items\\\":[{\\\"curriculum_requisites\\\":[],\\\"name\\\":\\\" \\\",\\\"metrics\\\":{\\\"centrality\\\":0,\\\"complexity\\\":1.0,\\\"blocking factor\\\":0,\\\"delay factor\\\":1.0},\\\"nameSub\\\":\\\"ECE Elective\\\",\\\"id\\\":2669111135963361097,\\\"credits\\\":3},{\\\"curriculum_requisites\\\":[],\\\"name\\\":\\\" \\\",\\\"metrics\\\":{\\\"centrality\\\":0,\\\"complexity\\\":1.0,\\\"blocking factor\\\":0,\\\"delay factor\\\":1.0},\\\"nameSub\\\":\\\"ECE Elective\\\",\\\"id\\\":2669111135963361097,\\\"credits\\\":3},{\\\"curriculum_requisites\\\":[],\\\"name\\\":\\\" \\\",\\\"metrics\\\":{\\\"centrality\\\":0,\\\"complexity\\\":1.0,\\\"blocking factor\\\":0,\\\"delay factor\\\":1.0},\\\"nameSub\\\":\\\"ECE Elective\\\",\\\"id\\\":2669111135963361097,\\\"credits\\\":3},{\\\"curriculum_requisites\\\":[],\\\"name\\\":\\\" \\\",\\\"metrics\\\":{\\\"centrality\\\":0,\\\"complexity\\\":1.0,\\\"blocking factor\\\":0,\\\"delay factor\\\":1.0},\\\"nameSub\\\":\\\"Liberal Studies\\\",\\\"id\\\":6703606396640405916,\\\"credits\\\":3}],\\\"id\\\":8}],\\\"institution\\\":\\\"\\\"}},\\\"*\\\"); window.removeEventListener(\\\"message\\\",window.messageReceived); window.messageReceived=(function (event){return (event.data.curriculum!==undefined) ? (_webIOScope.setObservableValue({\\\"name\\\":\\\"curriculum-data\\\",\\\"scope\\\":\\\"scope-5f0d5119-bea2-4906-9fbd-34175a953745\\\",\\\"id\\\":\\\"ob_05\\\",\\\"type\\\":\\\"observable\\\"},event.data.curriculum)) : undefined}); return window.addEventListener(\\\"message\\\",window.messageReceived)})\")),:style=>Dict(:padding=>\"0\",:height=>\"100vh\",:margin=>\"0\",:border=>\"none\",:width=>\"100%\")), 1), Dict{String,Tuple{Observables.AbstractObservable,Union{Nothing, Bool}}}(\"curriculum-data\"=>(Observable{Dict{String,Any}} with 1 listeners. Value:\n",
       "Dict{String,Any}(\"options\"=>Dict{String,Any}(\"hideTerms\"=>false,\"edit\"=>false),\"curriculum\"=>Dict{String,Any}(\"name\"=>\"University of Houston EE Program\",\"dp_name\"=>\"University of Houston EE Program 4-year Plan\",\"curriculum_terms\"=>Dict{String,Any}[Dict(\"name\"=>\"Term 1\",\"curriculum_items\"=>Dict{String,Any}[Dict(\"curriculum_requisites\"=>Dict{String,Any}[],\"name\"=>\"CHEM 2090\",\"metrics\"=>Dict{String,Any}(\"centrality\"=>0,\"complexity\"=>1.0,\"blocking factor\"=>0,\"delay factor\"=>1.0),\"nameSub\"=>\"CHEM 2090\",\"id\"=>2912506918863088116,\"credits\"=>3), Dict(\"curriculum_requisites\"=>Dict{String,Any}[],\"name\"=>\"MATH 1910\",\"metrics\"=>Dict{String,Any}(\"centrality\"=>0,\"complexity\"=>15.0,\"blocking factor\"=>10,\"delay factor\"=>5.0),\"nameSub\"=>\"MATH 1910\",\"id\"=>7314782300610548763,\"credits\"=>3), Dict(\"curriculum_requisites\"=>Dict{String,Any}[],\"name\"=>\"ENGRI 1xxx\",\"metrics\"=>Dict{String,Any}(\"centrality\"=>0,\"complexity\"=>1.0,\"blocking factor\"=>0,\"delay factor\"=>1.0),\"nameSub\"=>\"ENGRI 1xxx\",\"id\"=>5610600558886129243,\"credits\"=>3), Dict(\"curriculum_requisites\"=>Dict{String,Any}[],\"name\"=>\" \",\"metrics\"=>Dict{String,Any}(\"centrality\"=>0,\"complexity\"=>1.0,\"blocking factor\"=>0,\"delay factor\"=>1.0),\"nameSub\"=>\"1st Yr Writing Seminar\",\"id\"=>1725816399570281613,\"credits\"=>3), Dict(\"curriculum_requisites\"=>Dict{String,Any}[],\"name\"=>\" \",\"metrics\"=>Dict{String,Any}(\"centrality\"=>0,\"complexity\"=>1.0,\"blocking factor\"=>0,\"delay factor\"=>1.0),\"nameSub\"=>\"PE\",\"id\"=>4109982533878459085,\"credits\"=>3)],\"id\"=>1), Dict(\"name\"=>\"Term 2\",\"curriculum_items\"=>Dict{String,Any}[Dict(\"curriculum_requisites\"=>Dict{String,Any}[Dict(\"source_id\"=>7314782300610548763,\"target_id\"=>1911849541899956786,\"type\"=>\"prereq\")],\"name\"=>\"PHYS 1112\",\"metrics\"=>Dict{String,Any}(\"centrality\"=>9,\"complexity\"=>9.0,\"blocking factor\"=>4,\"delay factor\"=>5.0),\"nameSub\"=>\"PHYS 1112\",\"id\"=>1911849541899956786,\"credits\"=>3), Dict(\"curriculum_requisites\"=>Dict{String,Any}[Dict(\"source_id\"=>7314782300610548763,\"target_id\"=>7212214069911803948,\"type\"=>\"prereq\")],\"name\"=>\"MATH 1920\",\"metrics\"=>Dict{String,Any}(\"centrality\"=>28,\"complexity\"=>12.0,\"blocking factor\"=>8,\"delay factor\"=>4.0),\"nameSub\"=>\"MATH 1920\",\"id\"=>7212214069911803948,\"credits\"=>3), Dict(\"curriculum_requisites\"=>Dict{String,Any}[],\"name\"=>\"CS 111x\",\"metrics\"=>Dict{String,Any}(\"centrality\"=>0,\"complexity\"=>6.0,\"blocking factor\"=>3,\"delay factor\"=>3.0),\"nameSub\"=>\"CS 111x\",\"id\"=>79570227037231851,\"credits\"=>3), Dict(\"curriculum_requisites\"=>Dict{String,Any}[],\"name\"=>\" \",\"metrics\"=>Dict{String,Any}(\"centrality\"=>0,\"complexity\"=>1.0,\"blocking factor\"=>0,\"delay factor\"=>1.0),\"nameSub\"=>\"1st Yr Writing Seminar\",\"id\"=>3532248776098122316,\"credits\"=>3), Dict(\"curriculum_requisites\"=>Dict{String,Any}[],\"name\"=>\" \",\"metrics\"=>Dict{String,Any}(\"centrality\"=>0,\"complexity\"=>1.0,\"blocking factor\"=>0,\"delay factor\"=>1.0),\"nameSub\"=>\"PE\",\"id\"=>5893816761635752618,\"credits\"=>3)],\"id\"=>2), Dict(\"name\"=>\"Term 3\",\"curriculum_items\"=>Dict{String,Any}[Dict(\"curriculum_requisites\"=>Dict{String,Any}[Dict(\"source_id\"=>1911849541899956786,\"target_id\"=>6425753310902685014,\"type\"=>\"prereq\"), Dict(\"source_id\"=>7212214069911803948,\"target_id\"=>6425753310902685014,\"type\"=>\"prereq\")],\"name\"=>\"PHYS 2213\",\"metrics\"=>Dict{String,Any}(\"centrality\"=>18,\"complexity\"=>8.0,\"blocking factor\"=>3,\"delay factor\"=>5.0),\"nameSub\"=>\"PHYS 2213\",\"id\"=>6425753310902685014,\"credits\"=>3), Dict(\"curriculum_requisites\"=>Dict{String,Any}[Dict(\"source_id\"=>7212214069911803948,\"target_id\"=>4707901693699956298,\"type\"=>\"prereq\")],\"name\"=>\"MATH 2930\",\"metrics\"=>Dict{String,Any}(\"centrality\"=>14,\"complexity\"=>8.0,\"blocking factor\"=>4,\"delay factor\"=>4.0),\"nameSub\"=>\"MATH 2930\",\"id\"=>4707901693699956298,\"credits\"=>3), Dict(\"curriculum_requisites\"=>Dict{String,Any}[Dict(\"source_id\"=>6425753310902685014,\"target_id\"=>6439002488888680888,\"type\"=>\"coreq\"), Dict(\"source_id\"=>4707901693699956298,\"target_id\"=>6439002488888680888,\"type\"=>\"coreq\")],\"name\"=>\"ECE/ENGRD 2100\",\"metrics\"=>Dict{String,Any}(\"centrality\"=>15,\"complexity\"=>6.0,\"blocking factor\"=>1,\"delay factor\"=>5.0),\"nameSub\"=>\"ECE/ENGRD 2100\",\"id\"=>6439002488888680888,\"credits\"=>3), Dict(\"curriculum_requisites\"=>Dict{String,Any}[Dict(\"source_id\"=>79570227037231851,\"target_id\"=>1015818811103848899,\"type\"=>\"prereq\")],\"name\"=>\"MECE/ENGRD 2300\",\"metrics\"=>Dict{String,Any}(\"centrality\"=>3,\"complexity\"=>4.0,\"blocking factor\"=>1,\"delay factor\"=>3.0),\"nameSub\"=>\"MECE/ENGRD 2300\",\"id\"=>1015818811103848899,\"credits\"=>3), Dict(\"curriculum_requisites\"=>Dict{String,Any}[],\"name\"=>\" \",\"metrics\"=>Dict{String,Any}(\"centrality\"=>0,\"complexity\"=>1.0,\"blocking factor\"=>0,\"delay factor\"=>1.0),\"nameSub\"=>\"Liberal Studies\",\"id\"=>6703606396640405916,\"credits\"=>3)],\"id\"=>3), Dict(\"name\"=>\"Term 4\",\"curriculum_items\"=>Dict{String,Any}[Dict(\"curriculum_requisites\"=>Dict{String,Any}[Dict(\"source_id\"=>4707901693699956298,\"target_id\"=>3244401470927726854,\"type\"=>\"coreq\")],\"name\"=>\"PHYS 2214\",\"metrics\"=>Dict{String,Any}(\"centrality\"=>0,\"complexity\"=>4.0,\"blocking factor\"=>0,\"delay factor\"=>4.0),\"nameSub\"=>\"PHYS 2214\",\"id\"=>3244401470927726854,\"credits\"=>3), Dict(\"curriculum_requisites\"=>Dict{String,Any}[Dict(\"source_id\"=>7212214069911803948,\"target_id\"=>5483120187411208071,\"type\"=>\"prereq\")],\"name\"=>\"MATH 2940\",\"metrics\"=>Dict{String,Any}(\"centrality\"=>5,\"complexity\"=>5.0,\"blocking factor\"=>2,\"delay factor\"=>3.0),\"nameSub\"=>\"MATH 2940\",\"id\"=>5483120187411208071,\"credits\"=>3), Dict(\"curriculum_requisites\"=>Dict{String,Any}[Dict(\"source_id\"=>6425753310902685014,\"target_id\"=>1426341919018516802,\"type\"=>\"prereq\")],\"name\"=>\"ENGRD 2xxx\",\"metrics\"=>Dict{String,Any}(\"centrality\"=>0,\"complexity\"=>4.0,\"blocking factor\"=>0,\"delay factor\"=>4.0),\"nameSub\"=>\"ENGRD 2xxx\",\"id\"=>1426341919018516802,\"credits\"=>3), Dict(\"curriculum_requisites\"=>Dict{String,Any}[Dict(\"source_id\"=>5483120187411208071,\"target_id\"=>7461595864409778664,\"type\"=>\"coreq\"), Dict(\"source_id\"=>4707901693699956298,\"target_id\"=>7461595864409778664,\"type\"=>\"prereq\")],\"name\"=>\"ECE/ENGRD 2200/2220\",\"metrics\"=>Dict{String,Any}(\"centrality\"=>10,\"complexity\"=>5.0,\"blocking factor\"=>1,\"delay factor\"=>4.0),\"nameSub\"=>\"ECE 2200/ENGRD 2220\",\"id\"=>7461595864409778664,\"credits\"=>3), Dict(\"curriculum_requisites\"=>Dict{String,Any}[],\"name\"=>\" \",\"metrics\"=>Dict{String,Any}(\"centrality\"=>0,\"complexity\"=>1.0,\"blocking factor\"=>0,\"delay factor\"=>1.0),\"nameSub\"=>\"Liberal Studies\",\"id\"=>6703606396640405916,\"credits\"=>3)],\"id\"=>4), Dict(\"name\"=>\"Term 5\",\"curriculum_items\"=>Dict{String,Any}[Dict(\"curriculum_requisites\"=>Dict{String,Any}[],\"name\"=>\" \",\"metrics\"=>Dict{String,Any}(\"centrality\"=>0,\"complexity\"=>1.0,\"blocking factor\"=>0,\"delay factor\"=>1.0),\"nameSub\"=>\"ECE Foundations\",\"id\"=>2730056093824477443,\"credits\"=>3), Dict(\"curriculum_requisites\"=>Dict{String,Any}[],\"name\"=>\" \",\"metrics\"=>Dict{String,Any}(\"centrality\"=>0,\"complexity\"=>1.0,\"blocking factor\"=>0,\"delay factor\"=>1.0),\"nameSub\"=>\"Elective\",\"id\"=>4222238180234606594,\"credits\"=>3), Dict(\"curriculum_requisites\"=>Dict{String,Any}[Dict(\"source_id\"=>79570227037231851,\"target_id\"=>2707622294404830366,\"type\"=>\"prereq\")],\"name\"=>\" \",\"metrics\"=>Dict{String,Any}(\"centrality\"=>0,\"complexity\"=>2.0,\"blocking factor\"=>0,\"delay factor\"=>2.0),\"nameSub\"=>\"Outside Tech. Elective\",\"id\"=>2707622294404830366,\"credits\"=>3), Dict(\"curriculum_requisites\"=>Dict{String,Any}[Dict(\"source_id\"=>6439002488888680888,\"target_id\"=>5840212054897932487,\"type\"=>\"prereq\"), Dict(\"source_id\"=>1015818811103848899,\"target_id\"=>5840212054897932487,\"type\"=>\"prereq\"), Dict(\"source_id\"=>7461595864409778664,\"target_id\"=>5840212054897932487,\"type\"=>\"prereq\")],\"name\"=>\"ECE 3400\",\"metrics\"=>Dict{String,Any}(\"centrality\"=>0,\"complexity\"=>5.0,\"blocking factor\"=>0,\"delay factor\"=>5.0),\"nameSub\"=>\"ECE 3400\",\"id\"=>5840212054897932487,\"credits\"=>3), Dict(\"curriculum_requisites\"=>Dict{String,Any}[],\"name\"=>\" \",\"metrics\"=>Dict{String,Any}(\"centrality\"=>0,\"complexity\"=>1.0,\"blocking factor\"=>0,\"delay factor\"=>1.0),\"nameSub\"=>\"Liberal Studies\",\"id\"=>6703606396640405916,\"credits\"=>3)],\"id\"=>5), Dict(\"name\"=>\"Term 6\",\"curriculum_items\"=>Dict{String,Any}[Dict(\"curriculum_requisites\"=>Dict{String,Any}[],\"name\"=>\" \",\"metrics\"=>Dict{String,Any}(\"centrality\"=>0,\"complexity\"=>1.0,\"blocking factor\"=>0,\"delay factor\"=>1.0),\"nameSub\"=>\"ECE Foundations\",\"id\"=>2730056093824477443,\"credits\"=>3), Dict(\"curriculum_requisites\"=>Dict{String,Any}[],\"name\"=>\" \",\"metrics\"=>Dict{String,Any}(\"centrality\"=>0,\"complexity\"=>1.0,\"blocking factor\"=>0,\"delay factor\"=>1.0),\"nameSub\"=>\"ECE Foundations\",\"id\"=>2730056093824477443,\"credits\"=>3), Dict(\"curriculum_requisites\"=>Dict{String,Any}[],\"name\"=>\" \",\"metrics\"=>Dict{String,Any}(\"centrality\"=>0,\"complexity\"=>1.0,\"blocking factor\"=>0,\"delay factor\"=>1.0),\"nameSub\"=>\"Outside Tech. Elective\",\"id\"=>2707622294404830366,\"credits\"=>3), Dict(\"curriculum_requisites\"=>Dict{String,Any}[],\"name\"=>\" \",\"metrics\"=>Dict{String,Any}(\"centrality\"=>0,\"complexity\"=>1.0,\"blocking factor\"=>0,\"delay factor\"=>1.0),\"nameSub\"=>\"Elective\",\"id\"=>4222238180234606594,\"credits\"=>3), Dict(\"curriculum_requisites\"=>Dict{String,Any}[],\"name\"=>\" \",\"metrics\"=>Dict{String,Any}(\"centrality\"=>0,\"complexity\"=>1.0,\"blocking factor\"=>0,\"delay factor\"=>1.0),\"nameSub\"=>\"Liberal Studies\",\"id\"=>6703606396640405916,\"credits\"=>3)],\"id\"=>6), Dict(\"name\"=>\"Term 7\",\"curriculum_items\"=>Dict{String,Any}[Dict(\"curriculum_requisites\"=>Dict{String,Any}[],\"name\"=>\" \",\"metrics\"=>Dict{String,Any}(\"centrality\"=>0,\"complexity\"=>1.0,\"blocking factor\"=>0,\"delay factor\"=>1.0),\"nameSub\"=>\"ECE Elective \",\"id\"=>5561213124461592638,\"credits\"=>3), Dict(\"curriculum_requisites\"=>Dict{String,Any}[],\"name\"=>\" \",\"metrics\"=>Dict{String,Any}(\"centrality\"=>0,\"complexity\"=>1.0,\"blocking factor\"=>0,\"delay factor\"=>1.0),\"nameSub\"=>\"ECE Elective\",\"id\"=>2669111135963361097,\"credits\"=>3), Dict(\"curriculum_requisites\"=>Dict{String,Any}[],\"name\"=>\" \",\"metrics\"=>Dict{String,Any}(\"centrality\"=>0,\"complexity\"=>1.0,\"blocking factor\"=>0,\"delay factor\"=>1.0),\"nameSub\"=>\"Outside Tech. Elective\",\"id\"=>2707622294404830366,\"credits\"=>3), Dict(\"curriculum_requisites\"=>Dict{String,Any}[],\"name\"=>\" \",\"metrics\"=>Dict{String,Any}(\"centrality\"=>0,\"complexity\"=>1.0,\"blocking factor\"=>0,\"delay factor\"=>1.0),\"nameSub\"=>\"Liberal Studies\",\"id\"=>6703606396640405916,\"credits\"=>3)],\"id\"=>7), Dict(\"name\"=>\"Term 8\",\"curriculum_items\"=>Dict{String,Any}[Dict(\"curriculum_requisites\"=>Dict{String,Any}[],\"name\"=>\" \",\"metrics\"=>Dict{String,Any}(\"centrality\"=>0,\"complexity\"=>1.0,\"blocking factor\"=>0,\"delay factor\"=>1.0),\"nameSub\"=>\"ECE Elective\",\"id\"=>2669111135963361097,\"credits\"=>3), Dict(\"curriculum_requisites\"=>Dict{String,Any}[],\"name\"=>\" \",\"metrics\"=>Dict{String,Any}(\"centrality\"=>0,\"complexity\"=>1.0,\"blocking factor\"=>0,\"delay factor\"=>1.0),\"nameSub\"=>\"ECE Elective\",\"id\"=>2669111135963361097,\"credits\"=>3), Dict(\"curriculum_requisites\"=>Dict{String,Any}[],\"name\"=>\" \",\"metrics\"=>Dict{String,Any}(\"centrality\"=>0,\"complexity\"=>1.0,\"blocking factor\"=>0,\"delay factor\"=>1.0),\"nameSub\"=>\"ECE Elective\",\"id\"=>2669111135963361097,\"credits\"=>3), Dict(\"curriculum_requisites\"=>Dict{String,Any}[],\"name\"=>\" \",\"metrics\"=>Dict{String,Any}(\"centrality\"=>0,\"complexity\"=>1.0,\"blocking factor\"=>0,\"delay factor\"=>1.0),\"nameSub\"=>\"Liberal Studies\",\"id\"=>6703606396640405916,\"credits\"=>3)],\"id\"=>8)],\"institution\"=>\"\")), nothing)), Set(String[]), nothing, Any[], Dict{Any,Any}(), WebIO.ConnectionPool(Channel{Any}(sz_max:9223372036854775807,sz_curr:0), Set(WebIO.AbstractConnection[]), Channel{WebIO.AbstractConnection}(sz_max:32,sz_curr:0)))"
      ]
     },
     "execution_count": 6,
     "metadata": {
      "application/vnd.webio.node+json": {
       "kernelId": "a4b0d7ae-75b5-437e-82b7-56b9b831a235"
      }
     },
     "output_type": "execute_result"
    }
   ],
   "source": [
    "#This cell will also read a csv file create a degree plan without exporting to json.\n",
    "#\n",
    "#Activate CurricularAnalytics package and add it\n",
    "if split(pwd(),Base.Filesystem.path_separator)[end] != \"CurricularAnalytics.jl\"\n",
    "    cd(\"../..\")\n",
    "end\n",
    "println(\"Current directory: \" * split(pwd(),Base.Filesystem.path_separator)[end])\n",
    "using Pkg\n",
    "pkg\"activate .\"\n",
    "using CurricularAnalytics\n",
    "#read Classes from csv file and return list of classes and terms\n",
    "c, terms = read_csv(\"examples/CornellECECources.csv\")\n",
    "#Create curriculum from list of classes\n",
    "curric = Curriculum(\"University of Houston EE Program\", c)\n",
    "errors = IOBuffer()\n",
    "if isvalid_curriculum(curric, errors)\n",
    "    println(\"Curriculum $(curric.name) is valid\")\n",
    "    println(\"  delay factor = $(delay_factor(curric))\")\n",
    "    println(\"  blocking factor = $(blocking_factor(curric))\")\n",
    "    println(\"  centrality factor = $(centrality(curric))\")\n",
    "    println(\"  curricular complexity = $(complexity(curric))\")\n",
    "    dp = DegreePlan(\"University of Houston EE Program 4-year Plan\", curric, terms)\n",
    "    take!(errors) # clear the IO buffer\n",
    "    if isvalid_degree_plan(dp, errors)\n",
    "        println(\"Degree plan $(dp.name) is valid\")\n",
    "    else\n",
    "        println(\"Degree plan $(dp.name) is not valid:\")\n",
    "        print(String(take!(errors)))\n",
    "        println(\"\\nDiplaying degree plan for debugging purposes...\")\n",
    "    end\n",
    "    visualize(dp, notebook=true,edit=false)\n",
    "\n",
    "else # invalid curriculum\n",
    "    println(\"Curriculum $(curric.name) is not valid:\")\n",
    "    print(String(take!(errors)))\n",
    "end"
   ]
  }
 ],
 "metadata": {
  "@webio": {
   "lastCommId": "1ED498CA8A6142D48C5B8513B1B525D1",
   "lastKernelId": "a4b0d7ae-75b5-437e-82b7-56b9b831a235"
  },
  "kernelspec": {
   "display_name": "Julia 1.0.1",
   "language": "julia",
   "name": "julia-1.0"
  },
  "language_info": {
   "file_extension": ".jl",
   "mimetype": "application/julia",
   "name": "julia",
   "version": "1.0.1"
  }
 },
 "nbformat": 4,
 "nbformat_minor": 2
}

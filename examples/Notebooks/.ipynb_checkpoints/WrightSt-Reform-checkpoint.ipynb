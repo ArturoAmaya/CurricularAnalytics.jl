{
 "cells": [
  {
   "cell_type": "markdown",
   "metadata": {},
   "source": [
    "# Adapting EE curricula to Incomimg Student Preparation \n",
    "\n",
    "This notebook analyzes, at a fundamental level, the curricular reforms implemented by the College of Engineering at Wright St. University.  This analysis is specific to the Electrical Engineering (EE) program, and is broadly applicable to EE undergradaute programs at any institution. \n",
    "\n",
    "To learn more about the reforms implemented at Wright St. Unviersity, see:"
   ]
  },
  {
   "cell_type": "code",
   "execution_count": 3,
   "metadata": {},
   "outputs": [
    {
     "name": "stdout",
     "output_type": "stream",
     "text": [
      "Current directory: CurricularAnalytics.jl\n"
     ]
    }
   ],
   "source": [
    "# Activate the CurricularAnalytics.jl package.  You won't need to do this in the future ... \n",
    "if split(pwd(),Base.Filesystem.path_separator)[end] != \"CurricularAnalytics.jl\"\n",
    "    cd(\"../..\")\n",
    "end\n",
    "println(\"Current directory: \" * split(pwd(),Base.Filesystem.path_separator)[end])\n",
    "using Pkg\n",
    "pkg\"activate .\"\n",
    "# ... you'll just need to do this\n",
    "import CurricularAnalytics"
   ]
  },
  {
   "cell_type": "code",
   "execution_count": 2,
   "metadata": {},
   "outputs": [
    {
     "ename": "UndefVarError",
     "evalue": "UndefVarError: csv_to_json not defined",
     "output_type": "error",
     "traceback": [
      "UndefVarError: csv_to_json not defined",
      "",
      "Stacktrace:",
      " [1] top-level scope at In[2]:1"
     ]
    }
   ],
   "source": [
    "# read curricular design pattern from csv file\n",
    "csv_to_json(\"./examples/Notebooks/EE-CalculusReady.csv\", \"recent-visualization.json\")\n",
    "# load classes from .json file created\n",
    "dp = read_degree_plan(\"recent-visualization.json\")\n",
    "curric = dp.curriculum\n",
    "# compute the complexity of the curricular design pattern\n",
    "complexity(curric)\n",
    "# visualize the design pattern\n",
    "visualize(dp; notebook=true)"
   ]
  },
  {
   "cell_type": "code",
   "execution_count": null,
   "metadata": {},
   "outputs": [],
   "source": [
    "# read curricular design pattern from csv file\n",
    "csv_to_json(\"./examples/Notebooks/EE-PrecalculusReady.csv\", \"recent-visualization.json\")\n",
    "# load classes from .json file created\n",
    "dp = read_degree_plan(\"recent-visualization.json\")\n",
    "curric = dp.curriculum\n",
    "# compute the complexity of the curricular design pattern\n",
    "complexity(curric)\n",
    "# visualize the design pattern\n",
    "visualize(dp; notebook=true)"
   ]
  },
  {
   "cell_type": "code",
   "execution_count": 11,
   "metadata": {},
   "outputs": [
    {
     "data": {
      "application/vnd.webio.node+json": {
       "children": [
        {
         "children": [
          ""
         ],
         "instanceArgs": {
          "namespace": "html",
          "tag": "iframe"
         },
         "nodeType": "DOM",
         "props": {
          "events": {
           "load": "(function (){this.contentWindow.postMessage({\"options\":{\"hideTerms\":false,\"edit\":false},\"name\":\"\",\"curriculum\":{\"name\":\"\",\"curriculum_terms\":[{\"name\":\"Term 1\",\"curriculum_items\":[{\"curriculum_requisites\":[],\"name\":\" \",\"metrics\":{\"complexity\":14.0,\"blocking factor\":8,\"delay factor\":6.0},\"canonical_name\":\"\",\"nameSub\":\"College Algebra\",\"id\":1,\"num\":\"\",\"credits\":3,\"institution\":\"\",\"prefix\":\"\"}],\"id\":1},{\"name\":\"Term 2\",\"curriculum_items\":[{\"curriculum_requisites\":[{\"source_id\":1,\"target_id\":2,\"type\":\"strict-coreq\"}],\"name\":\" \",\"metrics\":{\"complexity\":13.0,\"blocking factor\":7,\"delay factor\":6.0},\"canonical_name\":\"\",\"nameSub\":\"Precalculus\",\"id\":2,\"num\":\"\",\"credits\":3,\"institution\":\"\",\"prefix\":\"\"}],\"id\":2},{\"name\":\"Term 3\",\"curriculum_items\":[{\"curriculum_requisites\":[{\"source_id\":2,\"target_id\":3,\"type\":\"strict-coreq\"}],\"name\":\" \",\"metrics\":{\"complexity\":12.0,\"blocking factor\":6,\"delay factor\":6.0},\"canonical_name\":\"\",\"nameSub\":\"Calculus I\",\"id\":3,\"num\":\"\",\"credits\":4,\"institution\":\"\",\"prefix\":\"\"}],\"id\":3},{\"name\":\"Term 4\",\"curriculum_items\":[{\"curriculum_requisites\":[{\"source_id\":3,\"target_id\":4,\"type\":\"strict-coreq\"}],\"name\":\" \",\"metrics\":{\"complexity\":9.0,\"blocking factor\":3,\"delay factor\":6.0},\"canonical_name\":\"\",\"nameSub\":\"Calculus II\",\"id\":4,\"num\":\"\",\"credits\":4,\"institution\":\"\",\"prefix\":\"\"},{\"curriculum_requisites\":[{\"source_id\":3,\"target_id\":5,\"type\":\"strict-coreq\"}],\"name\":\" \",\"metrics\":{\"complexity\":5.0,\"blocking factor\":1,\"delay factor\":4.0},\"canonical_name\":\"\",\"nameSub\":\"Physics I\",\"id\":5,\"num\":\"\",\"credits\":4,\"institution\":\"\",\"prefix\":\"\"},{\"curriculum_requisites\":[{\"source_id\":3,\"target_id\":6,\"type\":\"strict-coreq\"}],\"name\":\" \",\"metrics\":{\"complexity\":5.0,\"blocking factor\":1,\"delay factor\":4.0},\"canonical_name\":\"\",\"nameSub\":\"Programming I\",\"id\":6,\"num\":\"\",\"credits\":3,\"institution\":\"\",\"prefix\":\"\"}],\"id\":4},{\"name\":\"Term 5\",\"curriculum_items\":[{\"curriculum_requisites\":[{\"source_id\":4,\"target_id\":7,\"type\":\"strict-coreq\"}],\"name\":\" \",\"metrics\":{\"complexity\":5.0,\"blocking factor\":0,\"delay factor\":5.0},\"canonical_name\":\"\",\"nameSub\":\"Calculus III\",\"id\":7,\"num\":\"\",\"credits\":4,\"institution\":\"\",\"prefix\":\"\"},{\"curriculum_requisites\":[{\"source_id\":4,\"target_id\":8,\"type\":\"strict-coreq\"}],\"name\":\" \",\"metrics\":{\"complexity\":7.0,\"blocking factor\":1,\"delay factor\":6.0},\"canonical_name\":\"\",\"nameSub\":\"Differential Eqs.\",\"id\":8,\"num\":\"\",\"credits\":3,\"institution\":\"\",\"prefix\":\"\"}],\"id\":5},{\"name\":\"Term 6\",\"curriculum_items\":[{\"curriculum_requisites\":[{\"source_id\":5,\"target_id\":9,\"type\":\"strict-coreq\"},{\"source_id\":8,\"target_id\":9,\"type\":\"strict-coreq\"},{\"source_id\":6,\"target_id\":9,\"type\":\"strict-coreq\"}],\"name\":\" \",\"metrics\":{\"complexity\":6.0,\"blocking factor\":0,\"delay factor\":6.0},\"canonical_name\":\"\",\"nameSub\":\"Circuits I\",\"id\":9,\"num\":\"\",\"credits\":3,\"institution\":\"\",\"prefix\":\"\"}],\"id\":6}],\"CIP\":\"\",\"id\":62119800256760722,\"institution\":\"\"}},\"*\"); window.removeEventListener(\"message\",window.messageReceived); window.messageReceived=(function (event){return (event.data.curriculum!==undefined) ? (_webIOScope.setObservableValue({\"name\":\"curriculum-data\",\"scope\":\"scope-79761aa2-0ac6-41dc-aaf4-b30d10f4872d\",\"id\":\"ob_04\",\"type\":\"observable\"},event.data.curriculum)) : undefined}); window.addEventListener(\"message\",window.messageReceived); window.removeEventListener(\"message\",window.messageReceived); window.messageReceived=(function (event){return (event.data.curriculum!==undefined) ? (console.log(event.data.curriculum)) : undefined}); return window.addEventListener(\"message\",window.messageReceived)})"
          },
          "id": "curriculum",
          "src": "http://localhost:8156",
          "style": {
           "border": "none",
           "height": "100vh",
           "margin": "0",
           "padding": "0",
           "width": "100%"
          }
         },
         "type": "node"
        }
       ],
       "instanceArgs": {
        "handlers": {},
        "id": "scope-79761aa2-0ac6-41dc-aaf4-b30d10f4872d",
        "imports": {
         "data": [],
         "type": "async_block"
        },
        "observables": {
         "curriculum-data": {
          "id": "ob_04",
          "sync": true,
          "value": {
           "curriculum": {
            "CIP": "",
            "curriculum_terms": [
             {
              "curriculum_items": [
               {
                "canonical_name": "",
                "credits": 3,
                "curriculum_requisites": [],
                "id": 1,
                "institution": "",
                "metrics": {
                 "blocking factor": 8,
                 "complexity": 14,
                 "delay factor": 6
                },
                "name": " ",
                "nameSub": "College Algebra",
                "num": "",
                "prefix": ""
               }
              ],
              "id": 1,
              "name": "Term 1"
             },
             {
              "curriculum_items": [
               {
                "canonical_name": "",
                "credits": 3,
                "curriculum_requisites": [
                 {
                  "source_id": 1,
                  "target_id": 2,
                  "type": "strict-coreq"
                 }
                ],
                "id": 2,
                "institution": "",
                "metrics": {
                 "blocking factor": 7,
                 "complexity": 13,
                 "delay factor": 6
                },
                "name": " ",
                "nameSub": "Precalculus",
                "num": "",
                "prefix": ""
               }
              ],
              "id": 2,
              "name": "Term 2"
             },
             {
              "curriculum_items": [
               {
                "canonical_name": "",
                "credits": 4,
                "curriculum_requisites": [
                 {
                  "source_id": 2,
                  "target_id": 3,
                  "type": "strict-coreq"
                 }
                ],
                "id": 3,
                "institution": "",
                "metrics": {
                 "blocking factor": 6,
                 "complexity": 12,
                 "delay factor": 6
                },
                "name": " ",
                "nameSub": "Calculus I",
                "num": "",
                "prefix": ""
               }
              ],
              "id": 3,
              "name": "Term 3"
             },
             {
              "curriculum_items": [
               {
                "canonical_name": "",
                "credits": 4,
                "curriculum_requisites": [
                 {
                  "source_id": 3,
                  "target_id": 4,
                  "type": "strict-coreq"
                 }
                ],
                "id": 4,
                "institution": "",
                "metrics": {
                 "blocking factor": 3,
                 "complexity": 9,
                 "delay factor": 6
                },
                "name": " ",
                "nameSub": "Calculus II",
                "num": "",
                "prefix": ""
               },
               {
                "canonical_name": "",
                "credits": 4,
                "curriculum_requisites": [
                 {
                  "source_id": 3,
                  "target_id": 5,
                  "type": "strict-coreq"
                 }
                ],
                "id": 5,
                "institution": "",
                "metrics": {
                 "blocking factor": 1,
                 "complexity": 5,
                 "delay factor": 4
                },
                "name": " ",
                "nameSub": "Physics I",
                "num": "",
                "prefix": ""
               },
               {
                "canonical_name": "",
                "credits": 3,
                "curriculum_requisites": [
                 {
                  "source_id": 3,
                  "target_id": 6,
                  "type": "strict-coreq"
                 }
                ],
                "id": 6,
                "institution": "",
                "metrics": {
                 "blocking factor": 1,
                 "complexity": 5,
                 "delay factor": 4
                },
                "name": " ",
                "nameSub": "Programming I",
                "num": "",
                "prefix": ""
               }
              ],
              "id": 4,
              "name": "Term 4"
             },
             {
              "curriculum_items": [
               {
                "canonical_name": "",
                "credits": 4,
                "curriculum_requisites": [
                 {
                  "source_id": 4,
                  "target_id": 7,
                  "type": "strict-coreq"
                 }
                ],
                "id": 7,
                "institution": "",
                "metrics": {
                 "blocking factor": 0,
                 "complexity": 5,
                 "delay factor": 5
                },
                "name": " ",
                "nameSub": "Calculus III",
                "num": "",
                "prefix": ""
               },
               {
                "canonical_name": "",
                "credits": 3,
                "curriculum_requisites": [
                 {
                  "source_id": 4,
                  "target_id": 8,
                  "type": "strict-coreq"
                 }
                ],
                "id": 8,
                "institution": "",
                "metrics": {
                 "blocking factor": 1,
                 "complexity": 7,
                 "delay factor": 6
                },
                "name": " ",
                "nameSub": "Differential Eqs.",
                "num": "",
                "prefix": ""
               }
              ],
              "id": 5,
              "name": "Term 5"
             },
             {
              "curriculum_items": [
               {
                "canonical_name": "",
                "credits": 3,
                "curriculum_requisites": [
                 {
                  "source_id": 5,
                  "target_id": 9,
                  "type": "strict-coreq"
                 },
                 {
                  "source_id": 8,
                  "target_id": 9,
                  "type": "strict-coreq"
                 },
                 {
                  "source_id": 6,
                  "target_id": 9,
                  "type": "strict-coreq"
                 }
                ],
                "id": 9,
                "institution": "",
                "metrics": {
                 "blocking factor": 0,
                 "complexity": 6,
                 "delay factor": 6
                },
                "name": " ",
                "nameSub": "Circuits I",
                "num": "",
                "prefix": ""
               }
              ],
              "id": 6,
              "name": "Term 6"
             }
            ],
            "id": 62119800256760720,
            "institution": "",
            "name": ""
           },
           "name": "",
           "options": {
            "edit": false,
            "hideTerms": false
           }
          }
         }
        },
        "systemjs_options": null
       },
       "nodeType": "Scope",
       "props": {},
       "type": "node"
      },
      "text/html": [
       "<div\n",
       "    class=\"webio-mountpoint\"\n",
       "    data-webio-mountpoint=\"7622742918157953950\"\n",
       ">\n",
       "    <script>\n",
       "    if (window.require && require.defined && require.defined(\"nbextensions/webio/main\")) {\n",
       "        console.log(\"Jupyter WebIO extension detected, not mounting.\");\n",
       "    } else if (window.WebIO) {\n",
       "        WebIO.mount(\n",
       "            document.querySelector('[data-webio-mountpoint=\"7622742918157953950\"]'),\n",
       "            {\"props\":{},\"nodeType\":\"Scope\",\"type\":\"node\",\"instanceArgs\":{\"imports\":{\"data\":[],\"type\":\"async_block\"},\"id\":\"scope-79761aa2-0ac6-41dc-aaf4-b30d10f4872d\",\"handlers\":{},\"systemjs_options\":null,\"observables\":{\"curriculum-data\":{\"sync\":true,\"id\":\"ob_04\",\"value\":{\"options\":{\"hideTerms\":false,\"edit\":false},\"name\":\"\",\"curriculum\":{\"name\":\"\",\"curriculum_terms\":[{\"name\":\"Term 1\",\"curriculum_items\":[{\"curriculum_requisites\":[],\"name\":\" \",\"metrics\":{\"complexity\":14.0,\"blocking factor\":8,\"delay factor\":6.0},\"canonical_name\":\"\",\"nameSub\":\"College Algebra\",\"id\":1,\"num\":\"\",\"credits\":3,\"institution\":\"\",\"prefix\":\"\"}],\"id\":1},{\"name\":\"Term 2\",\"curriculum_items\":[{\"curriculum_requisites\":[{\"source_id\":1,\"target_id\":2,\"type\":\"strict-coreq\"}],\"name\":\" \",\"metrics\":{\"complexity\":13.0,\"blocking factor\":7,\"delay factor\":6.0},\"canonical_name\":\"\",\"nameSub\":\"Precalculus\",\"id\":2,\"num\":\"\",\"credits\":3,\"institution\":\"\",\"prefix\":\"\"}],\"id\":2},{\"name\":\"Term 3\",\"curriculum_items\":[{\"curriculum_requisites\":[{\"source_id\":2,\"target_id\":3,\"type\":\"strict-coreq\"}],\"name\":\" \",\"metrics\":{\"complexity\":12.0,\"blocking factor\":6,\"delay factor\":6.0},\"canonical_name\":\"\",\"nameSub\":\"Calculus I\",\"id\":3,\"num\":\"\",\"credits\":4,\"institution\":\"\",\"prefix\":\"\"}],\"id\":3},{\"name\":\"Term 4\",\"curriculum_items\":[{\"curriculum_requisites\":[{\"source_id\":3,\"target_id\":4,\"type\":\"strict-coreq\"}],\"name\":\" \",\"metrics\":{\"complexity\":9.0,\"blocking factor\":3,\"delay factor\":6.0},\"canonical_name\":\"\",\"nameSub\":\"Calculus II\",\"id\":4,\"num\":\"\",\"credits\":4,\"institution\":\"\",\"prefix\":\"\"},{\"curriculum_requisites\":[{\"source_id\":3,\"target_id\":5,\"type\":\"strict-coreq\"}],\"name\":\" \",\"metrics\":{\"complexity\":5.0,\"blocking factor\":1,\"delay factor\":4.0},\"canonical_name\":\"\",\"nameSub\":\"Physics I\",\"id\":5,\"num\":\"\",\"credits\":4,\"institution\":\"\",\"prefix\":\"\"},{\"curriculum_requisites\":[{\"source_id\":3,\"target_id\":6,\"type\":\"strict-coreq\"}],\"name\":\" \",\"metrics\":{\"complexity\":5.0,\"blocking factor\":1,\"delay factor\":4.0},\"canonical_name\":\"\",\"nameSub\":\"Programming I\",\"id\":6,\"num\":\"\",\"credits\":3,\"institution\":\"\",\"prefix\":\"\"}],\"id\":4},{\"name\":\"Term 5\",\"curriculum_items\":[{\"curriculum_requisites\":[{\"source_id\":4,\"target_id\":7,\"type\":\"strict-coreq\"}],\"name\":\" \",\"metrics\":{\"complexity\":5.0,\"blocking factor\":0,\"delay factor\":5.0},\"canonical_name\":\"\",\"nameSub\":\"Calculus III\",\"id\":7,\"num\":\"\",\"credits\":4,\"institution\":\"\",\"prefix\":\"\"},{\"curriculum_requisites\":[{\"source_id\":4,\"target_id\":8,\"type\":\"strict-coreq\"}],\"name\":\" \",\"metrics\":{\"complexity\":7.0,\"blocking factor\":1,\"delay factor\":6.0},\"canonical_name\":\"\",\"nameSub\":\"Differential Eqs.\",\"id\":8,\"num\":\"\",\"credits\":3,\"institution\":\"\",\"prefix\":\"\"}],\"id\":5},{\"name\":\"Term 6\",\"curriculum_items\":[{\"curriculum_requisites\":[{\"source_id\":5,\"target_id\":9,\"type\":\"strict-coreq\"},{\"source_id\":8,\"target_id\":9,\"type\":\"strict-coreq\"},{\"source_id\":6,\"target_id\":9,\"type\":\"strict-coreq\"}],\"name\":\" \",\"metrics\":{\"complexity\":6.0,\"blocking factor\":0,\"delay factor\":6.0},\"canonical_name\":\"\",\"nameSub\":\"Circuits I\",\"id\":9,\"num\":\"\",\"credits\":3,\"institution\":\"\",\"prefix\":\"\"}],\"id\":6}],\"CIP\":\"\",\"id\":62119800256760722,\"institution\":\"\"}}}}},\"children\":[{\"props\":{\"src\":\"http:\\/\\/localhost:8156\",\"id\":\"curriculum\",\"events\":{\"load\":\"(function (){this.contentWindow.postMessage({\\\"options\\\":{\\\"hideTerms\\\":false,\\\"edit\\\":false},\\\"name\\\":\\\"\\\",\\\"curriculum\\\":{\\\"name\\\":\\\"\\\",\\\"curriculum_terms\\\":[{\\\"name\\\":\\\"Term 1\\\",\\\"curriculum_items\\\":[{\\\"curriculum_requisites\\\":[],\\\"name\\\":\\\" \\\",\\\"metrics\\\":{\\\"complexity\\\":14.0,\\\"blocking factor\\\":8,\\\"delay factor\\\":6.0},\\\"canonical_name\\\":\\\"\\\",\\\"nameSub\\\":\\\"College Algebra\\\",\\\"id\\\":1,\\\"num\\\":\\\"\\\",\\\"credits\\\":3,\\\"institution\\\":\\\"\\\",\\\"prefix\\\":\\\"\\\"}],\\\"id\\\":1},{\\\"name\\\":\\\"Term 2\\\",\\\"curriculum_items\\\":[{\\\"curriculum_requisites\\\":[{\\\"source_id\\\":1,\\\"target_id\\\":2,\\\"type\\\":\\\"strict-coreq\\\"}],\\\"name\\\":\\\" \\\",\\\"metrics\\\":{\\\"complexity\\\":13.0,\\\"blocking factor\\\":7,\\\"delay factor\\\":6.0},\\\"canonical_name\\\":\\\"\\\",\\\"nameSub\\\":\\\"Precalculus\\\",\\\"id\\\":2,\\\"num\\\":\\\"\\\",\\\"credits\\\":3,\\\"institution\\\":\\\"\\\",\\\"prefix\\\":\\\"\\\"}],\\\"id\\\":2},{\\\"name\\\":\\\"Term 3\\\",\\\"curriculum_items\\\":[{\\\"curriculum_requisites\\\":[{\\\"source_id\\\":2,\\\"target_id\\\":3,\\\"type\\\":\\\"strict-coreq\\\"}],\\\"name\\\":\\\" \\\",\\\"metrics\\\":{\\\"complexity\\\":12.0,\\\"blocking factor\\\":6,\\\"delay factor\\\":6.0},\\\"canonical_name\\\":\\\"\\\",\\\"nameSub\\\":\\\"Calculus I\\\",\\\"id\\\":3,\\\"num\\\":\\\"\\\",\\\"credits\\\":4,\\\"institution\\\":\\\"\\\",\\\"prefix\\\":\\\"\\\"}],\\\"id\\\":3},{\\\"name\\\":\\\"Term 4\\\",\\\"curriculum_items\\\":[{\\\"curriculum_requisites\\\":[{\\\"source_id\\\":3,\\\"target_id\\\":4,\\\"type\\\":\\\"strict-coreq\\\"}],\\\"name\\\":\\\" \\\",\\\"metrics\\\":{\\\"complexity\\\":9.0,\\\"blocking factor\\\":3,\\\"delay factor\\\":6.0},\\\"canonical_name\\\":\\\"\\\",\\\"nameSub\\\":\\\"Calculus II\\\",\\\"id\\\":4,\\\"num\\\":\\\"\\\",\\\"credits\\\":4,\\\"institution\\\":\\\"\\\",\\\"prefix\\\":\\\"\\\"},{\\\"curriculum_requisites\\\":[{\\\"source_id\\\":3,\\\"target_id\\\":5,\\\"type\\\":\\\"strict-coreq\\\"}],\\\"name\\\":\\\" \\\",\\\"metrics\\\":{\\\"complexity\\\":5.0,\\\"blocking factor\\\":1,\\\"delay factor\\\":4.0},\\\"canonical_name\\\":\\\"\\\",\\\"nameSub\\\":\\\"Physics I\\\",\\\"id\\\":5,\\\"num\\\":\\\"\\\",\\\"credits\\\":4,\\\"institution\\\":\\\"\\\",\\\"prefix\\\":\\\"\\\"},{\\\"curriculum_requisites\\\":[{\\\"source_id\\\":3,\\\"target_id\\\":6,\\\"type\\\":\\\"strict-coreq\\\"}],\\\"name\\\":\\\" \\\",\\\"metrics\\\":{\\\"complexity\\\":5.0,\\\"blocking factor\\\":1,\\\"delay factor\\\":4.0},\\\"canonical_name\\\":\\\"\\\",\\\"nameSub\\\":\\\"Programming I\\\",\\\"id\\\":6,\\\"num\\\":\\\"\\\",\\\"credits\\\":3,\\\"institution\\\":\\\"\\\",\\\"prefix\\\":\\\"\\\"}],\\\"id\\\":4},{\\\"name\\\":\\\"Term 5\\\",\\\"curriculum_items\\\":[{\\\"curriculum_requisites\\\":[{\\\"source_id\\\":4,\\\"target_id\\\":7,\\\"type\\\":\\\"strict-coreq\\\"}],\\\"name\\\":\\\" \\\",\\\"metrics\\\":{\\\"complexity\\\":5.0,\\\"blocking factor\\\":0,\\\"delay factor\\\":5.0},\\\"canonical_name\\\":\\\"\\\",\\\"nameSub\\\":\\\"Calculus III\\\",\\\"id\\\":7,\\\"num\\\":\\\"\\\",\\\"credits\\\":4,\\\"institution\\\":\\\"\\\",\\\"prefix\\\":\\\"\\\"},{\\\"curriculum_requisites\\\":[{\\\"source_id\\\":4,\\\"target_id\\\":8,\\\"type\\\":\\\"strict-coreq\\\"}],\\\"name\\\":\\\" \\\",\\\"metrics\\\":{\\\"complexity\\\":7.0,\\\"blocking factor\\\":1,\\\"delay factor\\\":6.0},\\\"canonical_name\\\":\\\"\\\",\\\"nameSub\\\":\\\"Differential Eqs.\\\",\\\"id\\\":8,\\\"num\\\":\\\"\\\",\\\"credits\\\":3,\\\"institution\\\":\\\"\\\",\\\"prefix\\\":\\\"\\\"}],\\\"id\\\":5},{\\\"name\\\":\\\"Term 6\\\",\\\"curriculum_items\\\":[{\\\"curriculum_requisites\\\":[{\\\"source_id\\\":5,\\\"target_id\\\":9,\\\"type\\\":\\\"strict-coreq\\\"},{\\\"source_id\\\":8,\\\"target_id\\\":9,\\\"type\\\":\\\"strict-coreq\\\"},{\\\"source_id\\\":6,\\\"target_id\\\":9,\\\"type\\\":\\\"strict-coreq\\\"}],\\\"name\\\":\\\" \\\",\\\"metrics\\\":{\\\"complexity\\\":6.0,\\\"blocking factor\\\":0,\\\"delay factor\\\":6.0},\\\"canonical_name\\\":\\\"\\\",\\\"nameSub\\\":\\\"Circuits I\\\",\\\"id\\\":9,\\\"num\\\":\\\"\\\",\\\"credits\\\":3,\\\"institution\\\":\\\"\\\",\\\"prefix\\\":\\\"\\\"}],\\\"id\\\":6}],\\\"CIP\\\":\\\"\\\",\\\"id\\\":62119800256760722,\\\"institution\\\":\\\"\\\"}},\\\"*\\\"); window.removeEventListener(\\\"message\\\",window.messageReceived); window.messageReceived=(function (event){return (event.data.curriculum!==undefined) ? (_webIOScope.setObservableValue({\\\"name\\\":\\\"curriculum-data\\\",\\\"scope\\\":\\\"scope-79761aa2-0ac6-41dc-aaf4-b30d10f4872d\\\",\\\"id\\\":\\\"ob_04\\\",\\\"type\\\":\\\"observable\\\"},event.data.curriculum)) : undefined}); window.addEventListener(\\\"message\\\",window.messageReceived); window.removeEventListener(\\\"message\\\",window.messageReceived); window.messageReceived=(function (event){return (event.data.curriculum!==undefined) ? (console.log(event.data.curriculum)) : undefined}); return window.addEventListener(\\\"message\\\",window.messageReceived)})\"},\"style\":{\"padding\":\"0\",\"height\":\"100vh\",\"margin\":\"0\",\"border\":\"none\",\"width\":\"100%\"}},\"nodeType\":\"DOM\",\"type\":\"node\",\"instanceArgs\":{\"namespace\":\"html\",\"tag\":\"iframe\"},\"children\":[\"\"]}]},\n",
       "        );\n",
       "    } else {\n",
       "        document\n",
       "            .querySelector('[data-webio-mountpoint=\"7622742918157953950\"]')\n",
       "            .innerHTML = '<strong>WebIO not detected.</strong>';\n",
       "    }\n",
       "    </script>\n",
       "</div>\n"
      ],
      "text/plain": [
       "WebIO.Scope(\"scope-79761aa2-0ac6-41dc-aaf4-b30d10f4872d\", WebIO.Node{WebIO.DOM}(WebIO.DOM(:html, :iframe), Any[\"\"], Dict{Symbol,Any}(:src=>\"http://localhost:8156\",:id=>\"curriculum\",:events=>Dict(:load=>JSString(\"(function (){this.contentWindow.postMessage({\\\"options\\\":{\\\"hideTerms\\\":false,\\\"edit\\\":false},\\\"name\\\":\\\"\\\",\\\"curriculum\\\":{\\\"name\\\":\\\"\\\",\\\"curriculum_terms\\\":[{\\\"name\\\":\\\"Term 1\\\",\\\"curriculum_items\\\":[{\\\"curriculum_requisites\\\":[],\\\"name\\\":\\\" \\\",\\\"metrics\\\":{\\\"complexity\\\":14.0,\\\"blocking factor\\\":8,\\\"delay factor\\\":6.0},\\\"canonical_name\\\":\\\"\\\",\\\"nameSub\\\":\\\"College Algebra\\\",\\\"id\\\":1,\\\"num\\\":\\\"\\\",\\\"credits\\\":3,\\\"institution\\\":\\\"\\\",\\\"prefix\\\":\\\"\\\"}],\\\"id\\\":1},{\\\"name\\\":\\\"Term 2\\\",\\\"curriculum_items\\\":[{\\\"curriculum_requisites\\\":[{\\\"source_id\\\":1,\\\"target_id\\\":2,\\\"type\\\":\\\"strict-coreq\\\"}],\\\"name\\\":\\\" \\\",\\\"metrics\\\":{\\\"complexity\\\":13.0,\\\"blocking factor\\\":7,\\\"delay factor\\\":6.0},\\\"canonical_name\\\":\\\"\\\",\\\"nameSub\\\":\\\"Precalculus\\\",\\\"id\\\":2,\\\"num\\\":\\\"\\\",\\\"credits\\\":3,\\\"institution\\\":\\\"\\\",\\\"prefix\\\":\\\"\\\"}],\\\"id\\\":2},{\\\"name\\\":\\\"Term 3\\\",\\\"curriculum_items\\\":[{\\\"curriculum_requisites\\\":[{\\\"source_id\\\":2,\\\"target_id\\\":3,\\\"type\\\":\\\"strict-coreq\\\"}],\\\"name\\\":\\\" \\\",\\\"metrics\\\":{\\\"complexity\\\":12.0,\\\"blocking factor\\\":6,\\\"delay factor\\\":6.0},\\\"canonical_name\\\":\\\"\\\",\\\"nameSub\\\":\\\"Calculus I\\\",\\\"id\\\":3,\\\"num\\\":\\\"\\\",\\\"credits\\\":4,\\\"institution\\\":\\\"\\\",\\\"prefix\\\":\\\"\\\"}],\\\"id\\\":3},{\\\"name\\\":\\\"Term 4\\\",\\\"curriculum_items\\\":[{\\\"curriculum_requisites\\\":[{\\\"source_id\\\":3,\\\"target_id\\\":4,\\\"type\\\":\\\"strict-coreq\\\"}],\\\"name\\\":\\\" \\\",\\\"metrics\\\":{\\\"complexity\\\":9.0,\\\"blocking factor\\\":3,\\\"delay factor\\\":6.0},\\\"canonical_name\\\":\\\"\\\",\\\"nameSub\\\":\\\"Calculus II\\\",\\\"id\\\":4,\\\"num\\\":\\\"\\\",\\\"credits\\\":4,\\\"institution\\\":\\\"\\\",\\\"prefix\\\":\\\"\\\"},{\\\"curriculum_requisites\\\":[{\\\"source_id\\\":3,\\\"target_id\\\":5,\\\"type\\\":\\\"strict-coreq\\\"}],\\\"name\\\":\\\" \\\",\\\"metrics\\\":{\\\"complexity\\\":5.0,\\\"blocking factor\\\":1,\\\"delay factor\\\":4.0},\\\"canonical_name\\\":\\\"\\\",\\\"nameSub\\\":\\\"Physics I\\\",\\\"id\\\":5,\\\"num\\\":\\\"\\\",\\\"credits\\\":4,\\\"institution\\\":\\\"\\\",\\\"prefix\\\":\\\"\\\"},{\\\"curriculum_requisites\\\":[{\\\"source_id\\\":3,\\\"target_id\\\":6,\\\"type\\\":\\\"strict-coreq\\\"}],\\\"name\\\":\\\" \\\",\\\"metrics\\\":{\\\"complexity\\\":5.0,\\\"blocking factor\\\":1,\\\"delay factor\\\":4.0},\\\"canonical_name\\\":\\\"\\\",\\\"nameSub\\\":\\\"Programming I\\\",\\\"id\\\":6,\\\"num\\\":\\\"\\\",\\\"credits\\\":3,\\\"institution\\\":\\\"\\\",\\\"prefix\\\":\\\"\\\"}],\\\"id\\\":4},{\\\"name\\\":\\\"Term 5\\\",\\\"curriculum_items\\\":[{\\\"curriculum_requisites\\\":[{\\\"source_id\\\":4,\\\"target_id\\\":7,\\\"type\\\":\\\"strict-coreq\\\"}],\\\"name\\\":\\\" \\\",\\\"metrics\\\":{\\\"complexity\\\":5.0,\\\"blocking factor\\\":0,\\\"delay factor\\\":5.0},\\\"canonical_name\\\":\\\"\\\",\\\"nameSub\\\":\\\"Calculus III\\\",\\\"id\\\":7,\\\"num\\\":\\\"\\\",\\\"credits\\\":4,\\\"institution\\\":\\\"\\\",\\\"prefix\\\":\\\"\\\"},{\\\"curriculum_requisites\\\":[{\\\"source_id\\\":4,\\\"target_id\\\":8,\\\"type\\\":\\\"strict-coreq\\\"}],\\\"name\\\":\\\" \\\",\\\"metrics\\\":{\\\"complexity\\\":7.0,\\\"blocking factor\\\":1,\\\"delay factor\\\":6.0},\\\"canonical_name\\\":\\\"\\\",\\\"nameSub\\\":\\\"Differential Eqs.\\\",\\\"id\\\":8,\\\"num\\\":\\\"\\\",\\\"credits\\\":3,\\\"institution\\\":\\\"\\\",\\\"prefix\\\":\\\"\\\"}],\\\"id\\\":5},{\\\"name\\\":\\\"Term 6\\\",\\\"curriculum_items\\\":[{\\\"curriculum_requisites\\\":[{\\\"source_id\\\":5,\\\"target_id\\\":9,\\\"type\\\":\\\"strict-coreq\\\"},{\\\"source_id\\\":8,\\\"target_id\\\":9,\\\"type\\\":\\\"strict-coreq\\\"},{\\\"source_id\\\":6,\\\"target_id\\\":9,\\\"type\\\":\\\"strict-coreq\\\"}],\\\"name\\\":\\\" \\\",\\\"metrics\\\":{\\\"complexity\\\":6.0,\\\"blocking factor\\\":0,\\\"delay factor\\\":6.0},\\\"canonical_name\\\":\\\"\\\",\\\"nameSub\\\":\\\"Circuits I\\\",\\\"id\\\":9,\\\"num\\\":\\\"\\\",\\\"credits\\\":3,\\\"institution\\\":\\\"\\\",\\\"prefix\\\":\\\"\\\"}],\\\"id\\\":6}],\\\"CIP\\\":\\\"\\\",\\\"id\\\":62119800256760722,\\\"institution\\\":\\\"\\\"}},\\\"*\\\"); window.removeEventListener(\\\"message\\\",window.messageReceived); window.messageReceived=(function (event){return (event.data.curriculum!==undefined) ? (_webIOScope.setObservableValue({\\\"name\\\":\\\"curriculum-data\\\",\\\"scope\\\":\\\"scope-79761aa2-0ac6-41dc-aaf4-b30d10f4872d\\\",\\\"id\\\":\\\"ob_04\\\",\\\"type\\\":\\\"observable\\\"},event.data.curriculum)) : undefined}); window.addEventListener(\\\"message\\\",window.messageReceived); window.removeEventListener(\\\"message\\\",window.messageReceived); window.messageReceived=(function (event){return (event.data.curriculum!==undefined) ? (console.log(event.data.curriculum)) : undefined}); return window.addEventListener(\\\"message\\\",window.messageReceived)})\")),:style=>Dict(:padding=>\"0\",:height=>\"100vh\",:margin=>\"0\",:border=>\"none\",:width=>\"100%\")), 1), Dict{String,Tuple{Observables.AbstractObservable,Union{Nothing, Bool}}}(\"curriculum-data\"=>(Observable{Dict{String,Any}} with 1 listeners. Value:\n",
       "Dict{String,Any}(\"options\"=>Dict{String,Any}(\"hideTerms\"=>false,\"edit\"=>false),\"name\"=>\"\",\"curriculum\"=>Dict{String,Any}(\"name\"=>\"\",\"curriculum_terms\"=>Any[Dict{String,Any}(\"name\"=>\"Term 1\",\"curriculum_items\"=>Any[Dict{String,Any}(\"curriculum_requisites\"=>Any[],\"name\"=>\" \",\"metrics\"=>Dict{String,Any}(\"complexity\"=>14.0,\"blocking factor\"=>8,\"delay factor\"=>6.0),\"canonical_name\"=>\"\",\"nameSub\"=>\"College Algebra\",\"id\"=>1,\"num\"=>\"\",\"credits\"=>3,\"institution\"=>\"\",\"prefix\"=>\"\"…)],\"id\"=>1), Dict{String,Any}(\"name\"=>\"Term 2\",\"curriculum_items\"=>Any[Dict{String,Any}(\"curriculum_requisites\"=>Any[Dict{String,Any}(\"source_id\"=>1,\"target_id\"=>2,\"type\"=>\"strict-coreq\")],\"name\"=>\" \",\"metrics\"=>Dict{String,Any}(\"complexity\"=>13.0,\"blocking factor\"=>7,\"delay factor\"=>6.0),\"canonical_name\"=>\"\",\"nameSub\"=>\"Precalculus\",\"id\"=>2,\"num\"=>\"\",\"credits\"=>3,\"institution\"=>\"\",\"prefix\"=>\"\"…)],\"id\"=>2), Dict{String,Any}(\"name\"=>\"Term 3\",\"curriculum_items\"=>Any[Dict{String,Any}(\"curriculum_requisites\"=>Any[Dict{String,Any}(\"source_id\"=>2,\"target_id\"=>3,\"type\"=>\"strict-coreq\")],\"name\"=>\" \",\"metrics\"=>Dict{String,Any}(\"complexity\"=>12.0,\"blocking factor\"=>6,\"delay factor\"=>6.0),\"canonical_name\"=>\"\",\"nameSub\"=>\"Calculus I\",\"id\"=>3,\"num\"=>\"\",\"credits\"=>4,\"institution\"=>\"\",\"prefix\"=>\"\"…)],\"id\"=>3), Dict{String,Any}(\"name\"=>\"Term 4\",\"curriculum_items\"=>Any[Dict{String,Any}(\"curriculum_requisites\"=>Any[Dict{String,Any}(\"source_id\"=>3,\"target_id\"=>4,\"type\"=>\"strict-coreq\")],\"name\"=>\" \",\"metrics\"=>Dict{String,Any}(\"complexity\"=>9.0,\"blocking factor\"=>3,\"delay factor\"=>6.0),\"canonical_name\"=>\"\",\"nameSub\"=>\"Calculus II\",\"id\"=>4,\"num\"=>\"\",\"credits\"=>4,\"institution\"=>\"\",\"prefix\"=>\"\"…), Dict{String,Any}(\"curriculum_requisites\"=>Any[Dict{String,Any}(\"source_id\"=>3,\"target_id\"=>5,\"type\"=>\"strict-coreq\")],\"name\"=>\" \",\"metrics\"=>Dict{String,Any}(\"complexity\"=>5.0,\"blocking factor\"=>1,\"delay factor\"=>4.0),\"canonical_name\"=>\"\",\"nameSub\"=>\"Physics I\",\"id\"=>5,\"num\"=>\"\",\"credits\"=>4,\"institution\"=>\"\",\"prefix\"=>\"\"…), Dict{String,Any}(\"curriculum_requisites\"=>Any[Dict{String,Any}(\"source_id\"=>3,\"target_id\"=>6,\"type\"=>\"strict-coreq\")],\"name\"=>\" \",\"metrics\"=>Dict{String,Any}(\"complexity\"=>5.0,\"blocking factor\"=>1,\"delay factor\"=>4.0),\"canonical_name\"=>\"\",\"nameSub\"=>\"Programming I\",\"id\"=>6,\"num\"=>\"\",\"credits\"=>3,\"institution\"=>\"\",\"prefix\"=>\"\"…)],\"id\"=>4), Dict{String,Any}(\"name\"=>\"Term 5\",\"curriculum_items\"=>Any[Dict{String,Any}(\"curriculum_requisites\"=>Any[Dict{String,Any}(\"source_id\"=>4,\"target_id\"=>7,\"type\"=>\"strict-coreq\")],\"name\"=>\" \",\"metrics\"=>Dict{String,Any}(\"complexity\"=>5.0,\"blocking factor\"=>0,\"delay factor\"=>5.0),\"canonical_name\"=>\"\",\"nameSub\"=>\"Calculus III\",\"id\"=>7,\"num\"=>\"\",\"credits\"=>4,\"institution\"=>\"\",\"prefix\"=>\"\"…), Dict{String,Any}(\"curriculum_requisites\"=>Any[Dict{String,Any}(\"source_id\"=>4,\"target_id\"=>8,\"type\"=>\"strict-coreq\")],\"name\"=>\" \",\"metrics\"=>Dict{String,Any}(\"complexity\"=>7.0,\"blocking factor\"=>1,\"delay factor\"=>6.0),\"canonical_name\"=>\"\",\"nameSub\"=>\"Differential Eqs.\",\"id\"=>8,\"num\"=>\"\",\"credits\"=>3,\"institution\"=>\"\",\"prefix\"=>\"\"…)],\"id\"=>5), Dict{String,Any}(\"name\"=>\"Term 6\",\"curriculum_items\"=>Any[Dict{String,Any}(\"curriculum_requisites\"=>Any[Dict{String,Any}(\"source_id\"=>5,\"target_id\"=>9,\"type\"=>\"strict-coreq\"), Dict{String,Any}(\"source_id\"=>8,\"target_id\"=>9,\"type\"=>\"strict-coreq\"), Dict{String,Any}(\"source_id\"=>6,\"target_id\"=>9,\"type\"=>\"strict-coreq\")],\"name\"=>\" \",\"metrics\"=>Dict{String,Any}(\"complexity\"=>6.0,\"blocking factor\"=>0,\"delay factor\"=>6.0),\"canonical_name\"=>\"\",\"nameSub\"=>\"Circuits I\",\"id\"=>9,\"num\"=>\"\",\"credits\"=>3,\"institution\"=>\"\",\"prefix\"=>\"\"…)],\"id\"=>6)],\"CIP\"=>\"\",\"id\"=>62119800256760722,\"institution\"=>\"\")), nothing)), Set(String[]), nothing, Any[], Dict{Any,Any}(), WebIO.ConnectionPool(Channel{Any}(sz_max:9223372036854775807,sz_curr:0), Set(WebIO.AbstractConnection[]), Channel{WebIO.AbstractConnection}(sz_max:32,sz_curr:0)))"
      ]
     },
     "execution_count": 11,
     "metadata": {
      "application/vnd.webio.node+json": {
       "kernelId": "3ad0d25e-8b60-4ea4-995a-3bd4f6c17c10"
      }
     },
     "output_type": "execute_result"
    }
   ],
   "source": [
    "# read curricular design pattern from csv file\n",
    "csv_to_json(\"./examples/Notebooks/EE-AlgebraReady.csv\", \"recent-visualization.json\")\n",
    "# load classes from .json file created\n",
    "dp = read_degree_plan(\"recent-visualization.json\")\n",
    "curric = dp.curriculum\n",
    "# compute the complexity of the curricular design pattern\n",
    "complexity(curric)\n",
    "# visualize the design pattern\n",
    "visualize(dp; notebook=true)"
   ]
  },
  {
   "cell_type": "code",
   "execution_count": 1,
   "metadata": {},
   "outputs": [
    {
     "ename": "UndefVarError",
     "evalue": "UndefVarError: csv_to_json not defined",
     "output_type": "error",
     "traceback": [
      "UndefVarError: csv_to_json not defined",
      "",
      "Stacktrace:",
      " [1] top-level scope at In[1]:1"
     ]
    }
   ],
   "source": [
    "# read curricular design pattern from csv file\n",
    "csv_to_json(\"./examples/Notebooks/EE-FoundationalMath.csv\", \"recent-visualization.json\")\n",
    "# load classes from .json file created\n",
    "dp = read_degree_plan(\"recent-visualization.json\")\n",
    "curric = dp.curriculum\n",
    "# compute the complexity of the curricular design pattern\n",
    "complexity(curric)\n",
    "# visualize the design pattern\n",
    "visualize(dp; notebook=true)"
   ]
  },
  {
   "cell_type": "code",
   "execution_count": null,
   "metadata": {},
   "outputs": [],
   "source": []
  },
  {
   "cell_type": "code",
   "execution_count": null,
   "metadata": {},
   "outputs": [],
   "source": []
  }
 ],
 "metadata": {
  "@webio": {
   "lastCommId": "c70810654b3e4a5386fe98480b22d58d",
   "lastKernelId": "3ad0d25e-8b60-4ea4-995a-3bd4f6c17c10"
  },
  "kernelspec": {
   "display_name": "Julia 1.0.0",
   "language": "julia",
   "name": "julia-1.0"
  },
  "language_info": {
   "file_extension": ".jl",
   "mimetype": "application/julia",
   "name": "julia",
   "version": "1.0.0"
  }
 },
 "nbformat": 4,
 "nbformat_minor": 2
}

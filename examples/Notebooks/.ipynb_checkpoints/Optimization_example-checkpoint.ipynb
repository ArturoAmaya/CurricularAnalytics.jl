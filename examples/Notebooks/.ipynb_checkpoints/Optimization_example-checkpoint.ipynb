{
 "cells": [
  {
   "cell_type": "code",
   "execution_count": 4,
   "metadata": {
    "scrolled": false
   },
   "outputs": [
    {
     "name": "stdout",
     "output_type": "stream",
     "text": [
      "Current directory: CurricularAnalytics.jl\n",
      "114\n",
      "Minimum of 6 terms needed to complete this curriculum\n",
      "Could not create a plan for 6 term, try for one more term\n",
      "Curriculum University of Houston EE Program is valid\n",
      "  delay factor = (80.0, [1.0, 5.0, 1.0, 1.0, 1.0, 5.0, 4.0, 3.0, 1.0, 1.0, 5.0, 4.0, 5.0, 3.0, 1.0, 4.0, 3.0, 4.0, 4.0, 1.0, 1.0, 1.0, 2.0, 5.0, 1.0, 1.0, 1.0, 1.0, 1.0, 1.0, 1.0, 1.0, 1.0, 1.0, 1.0, 1.0, 1.0, 1.0])\n",
      "  blocking factor = (37, [0, 10, 0, 0, 0, 4, 8, 3, 0, 0, 3, 4, 1, 1, 0, 0, 2, 0, 1, 0, 0, 0, 0, 0, 0, 0, 0, 0, 0, 0, 0, 0, 0, 0, 0, 0, 0, 0])\n",
      "  centrality factor = (102, [0, 0, 0, 0, 0, 9, 28, 0, 0, 0, 18, 14, 15, 3, 0, 0, 5, 0, 10, 0, 0, 0, 0, 0, 0, 0, 0, 0, 0, 0, 0, 0, 0, 0, 0, 0, 0, 0])\n",
      "  curricular complexity = (117.0, Number[1.0, 15.0, 1.0, 1.0, 1.0, 9.0, 12.0, 6.0, 1.0, 1.0, 8.0, 8.0, 6.0, 4.0, 1.0, 4.0, 5.0, 4.0, 5.0, 1.0, 1.0, 1.0, 2.0, 5.0, 1.0, 1.0, 1.0, 1.0, 1.0, 1.0, 1.0, 1.0, 1.0, 1.0, 1.0, 1.0, 1.0, 1.0])\n",
      "Degree plan University of Houston EE Program 4-year Plan is not valid:\n",
      "\n",
      "-Course 1st Yr Writing Seminar is listed multiple times in degree plan\n",
      "-Course PE is listed multiple times in degree plan\n",
      "-Course Liberal Studies is listed multiple times in degree plan\n",
      "-Course ECE Foundations is listed multiple times in degree plan\n",
      "-Course Liberal Studies is listed multiple times in degree plan\n",
      "-Course Outside Tech. Elective is listed multiple times in degree plan\n",
      "-Course Liberal Studies is listed multiple times in degree plan\n",
      "-Course ECE Elective is listed multiple times in degree plan\n",
      "-Course ECE Elective is listed multiple times in degree plan\n",
      "-Course ECE Elective is listed multiple times in degree plan\n",
      "-Course Liberal Studies is listed multiple times in degree plan\n",
      "Diplaying degree plan for debugging purposes...\n"
     ]
    },
    {
     "data": {
      "application/vnd.webio.node+json": {
       "children": [
        {
         "children": [
          ""
         ],
         "instanceArgs": {
          "namespace": "html",
          "tag": "iframe"
         },
         "nodeType": "DOM",
         "props": {
          "events": {
           "load": "(function (){this.contentWindow.postMessage({\"curriculum\":{\"name\":\"University of Houston EE Program 4-year Plan\",\"curriculum_terms\":[{\"name\":\"Term 1\",\"curriculum_items\":[{\"curriculum_requisites\":[],\"name\":\"MATH 1910\",\"metrics\":{\"complexity\":15.0,\"centrality\":0,\"blocking factor\":10,\"delay factor\":5.0},\"nameSub\":\"MATH 1910\",\"id\":2860424617853342477,\"num\":\"1910\",\"credits\":3,\"prefix\":\"MATH\"},{\"curriculum_requisites\":[],\"name\":\"CS 111x\",\"metrics\":{\"complexity\":6.0,\"centrality\":0,\"blocking factor\":3,\"delay factor\":3.0},\"nameSub\":\"CS 111x\",\"id\":4438860497225219087,\"num\":\"111x\",\"credits\":3,\"prefix\":\"CS\"},{\"curriculum_requisites\":[],\"name\":\"CHEM 2090\",\"metrics\":{\"complexity\":1.0,\"centrality\":0,\"blocking factor\":0,\"delay factor\":1.0},\"nameSub\":\"CHEM 2090\",\"id\":7422469933730204034,\"num\":\"2090\",\"credits\":3,\"prefix\":\"CHEM\"},{\"curriculum_requisites\":[],\"name\":\"ENGRI 1xxx\",\"metrics\":{\"complexity\":1.0,\"centrality\":0,\"blocking factor\":0,\"delay factor\":1.0},\"nameSub\":\"ENGRI 1xxx\",\"id\":442791780827562763,\"num\":\"1xxx\",\"credits\":3,\"prefix\":\"ENGRI\"},{\"curriculum_requisites\":[],\"name\":\" \",\"metrics\":{\"complexity\":1.0,\"centrality\":0,\"blocking factor\":0,\"delay factor\":1.0},\"nameSub\":\"1st Yr Writing Seminar\",\"id\":5824016370803301643,\"num\":\"\",\"credits\":3,\"prefix\":\"\"}],\"id\":1},{\"name\":\"Term 2\",\"curriculum_items\":[{\"curriculum_requisites\":[{\"source_id\":2860424617853342477,\"target_id\":1238892148558496518,\"type\":\"prereq\"}],\"name\":\"MATH 1920\",\"metrics\":{\"complexity\":12.0,\"centrality\":28,\"blocking factor\":8,\"delay factor\":4.0},\"nameSub\":\"MATH 1920\",\"id\":1238892148558496518,\"num\":\"1920\",\"credits\":3,\"prefix\":\"MATH\"},{\"curriculum_requisites\":[{\"source_id\":2860424617853342477,\"target_id\":8629252422314081316,\"type\":\"prereq\"}],\"name\":\"PHYS 1112\",\"metrics\":{\"complexity\":9.0,\"centrality\":9,\"blocking factor\":4,\"delay factor\":5.0},\"nameSub\":\"PHYS 1112\",\"id\":8629252422314081316,\"num\":\"1112\",\"credits\":3,\"prefix\":\"PHYS\"},{\"curriculum_requisites\":[{\"source_id\":4438860497225219087,\"target_id\":8502450016903464997,\"type\":\"prereq\"}],\"name\":\"MECE/ENGRD 2300\",\"metrics\":{\"complexity\":4.0,\"centrality\":3,\"blocking factor\":1,\"delay factor\":3.0},\"nameSub\":\"MECE/ENGRD 2300\",\"id\":8502450016903464997,\"num\":\"2300\",\"credits\":3,\"prefix\":\"MECE/ENGRD\"},{\"curriculum_requisites\":[{\"source_id\":4438860497225219087,\"target_id\":2701582232574944581,\"type\":\"prereq\"}],\"name\":\" \",\"metrics\":{\"complexity\":2.0,\"centrality\":0,\"blocking factor\":0,\"delay factor\":2.0},\"nameSub\":\"Outside Tech. Elective\",\"id\":2701582232574944581,\"num\":\"\",\"credits\":3,\"prefix\":\"\"},{\"curriculum_requisites\":[],\"name\":\" \",\"metrics\":{\"complexity\":1.0,\"centrality\":0,\"blocking factor\":0,\"delay factor\":1.0},\"nameSub\":\"PE\",\"id\":3004148118477990719,\"num\":\"\",\"credits\":3,\"prefix\":\"\"}],\"id\":2},{\"name\":\"Term 3\",\"curriculum_items\":[{\"curriculum_requisites\":[{\"source_id\":1238892148558496518,\"target_id\":5881390984337343440,\"type\":\"prereq\"},{\"source_id\":8629252422314081316,\"target_id\":5881390984337343440,\"type\":\"prereq\"}],\"name\":\"PHYS 2213\",\"metrics\":{\"complexity\":8.0,\"centrality\":18,\"blocking factor\":3,\"delay factor\":5.0},\"nameSub\":\"PHYS 2213\",\"id\":5881390984337343440,\"num\":\"2213\",\"credits\":3,\"prefix\":\"PHYS\"},{\"curriculum_requisites\":[{\"source_id\":1238892148558496518,\"target_id\":4264529605907154296,\"type\":\"prereq\"}],\"name\":\"MATH 2930\",\"metrics\":{\"complexity\":8.0,\"centrality\":14,\"blocking factor\":4,\"delay factor\":4.0},\"nameSub\":\"MATH 2930\",\"id\":4264529605907154296,\"num\":\"2930\",\"credits\":3,\"prefix\":\"MATH\"},{\"curriculum_requisites\":[{\"source_id\":4264529605907154296,\"target_id\":2844184663688839040,\"type\":\"coreq\"},{\"source_id\":5881390984337343440,\"target_id\":2844184663688839040,\"type\":\"coreq\"}],\"name\":\"ECE/ENGRD 2100\",\"metrics\":{\"complexity\":6.0,\"centrality\":15,\"blocking factor\":1,\"delay factor\":5.0},\"nameSub\":\"ECE/ENGRD 2100\",\"id\":2844184663688839040,\"num\":\"2100\",\"credits\":3,\"prefix\":\"ECE/ENGRD\"},{\"curriculum_requisites\":[{\"source_id\":1238892148558496518,\"target_id\":1675867110926617872,\"type\":\"prereq\"}],\"name\":\"MATH 2940\",\"metrics\":{\"complexity\":5.0,\"centrality\":5,\"blocking factor\":2,\"delay factor\":3.0},\"nameSub\":\"MATH 2940\",\"id\":1675867110926617872,\"num\":\"2940\",\"credits\":3,\"prefix\":\"MATH\"},{\"curriculum_requisites\":[{\"source_id\":4264529605907154296,\"target_id\":2909400198342253741,\"type\":\"coreq\"}],\"name\":\"PHYS 2214\",\"metrics\":{\"complexity\":4.0,\"centrality\":0,\"blocking factor\":0,\"delay factor\":4.0},\"nameSub\":\"PHYS 2214\",\"id\":2909400198342253741,\"num\":\"2214\",\"credits\":3,\"prefix\":\"PHYS\"}],\"id\":3},{\"name\":\"Term 4\",\"curriculum_items\":[{\"curriculum_requisites\":[{\"source_id\":4264529605907154296,\"target_id\":6336361301974639547,\"type\":\"prereq\"},{\"source_id\":1675867110926617872,\"target_id\":6336361301974639547,\"type\":\"coreq\"}],\"name\":\"ECE/ENGRD 2200/2220\",\"metrics\":{\"complexity\":5.0,\"centrality\":10,\"blocking factor\":1,\"delay factor\":4.0},\"nameSub\":\"ECE 2200/ENGRD 2220\",\"id\":6336361301974639547,\"num\":\"2200/2220\",\"credits\":3,\"prefix\":\"ECE/ENGRD\"},{\"curriculum_requisites\":[{\"source_id\":5881390984337343440,\"target_id\":8994290780344555469,\"type\":\"prereq\"}],\"name\":\"ENGRD 2xxx\",\"metrics\":{\"complexity\":4.0,\"centrality\":0,\"blocking factor\":0,\"delay factor\":4.0},\"nameSub\":\"ENGRD 2xxx\",\"id\":8994290780344555469,\"num\":\"2xxx\",\"credits\":3,\"prefix\":\"ENGRD\"},{\"curriculum_requisites\":[],\"name\":\" \",\"metrics\":{\"complexity\":1.0,\"centrality\":0,\"blocking factor\":0,\"delay factor\":1.0},\"nameSub\":\"1st Yr Writing Seminar\",\"id\":5824016370803301643,\"num\":\"\",\"credits\":3,\"prefix\":\"\"},{\"curriculum_requisites\":[],\"name\":\" \",\"metrics\":{\"complexity\":1.0,\"centrality\":0,\"blocking factor\":0,\"delay factor\":1.0},\"nameSub\":\"PE\",\"id\":3004148118477990719,\"num\":\"\",\"credits\":3,\"prefix\":\"\"},{\"curriculum_requisites\":[],\"name\":\" \",\"metrics\":{\"complexity\":1.0,\"centrality\":0,\"blocking factor\":0,\"delay factor\":1.0},\"nameSub\":\"Liberal Studies\",\"id\":4940268582285830954,\"num\":\"\",\"credits\":3,\"prefix\":\"\"},{\"curriculum_requisites\":[],\"name\":\" \",\"metrics\":{\"complexity\":1.0,\"centrality\":0,\"blocking factor\":0,\"delay factor\":1.0},\"nameSub\":\"Liberal Studies\",\"id\":4940268582285830954,\"num\":\"\",\"credits\":3,\"prefix\":\"\"}],\"id\":4},{\"name\":\"Term 5\",\"curriculum_items\":[{\"curriculum_requisites\":[{\"source_id\":2844184663688839040,\"target_id\":5709302311956589457,\"type\":\"prereq\"},{\"source_id\":6336361301974639547,\"target_id\":5709302311956589457,\"type\":\"prereq\"},{\"source_id\":8502450016903464997,\"target_id\":5709302311956589457,\"type\":\"prereq\"}],\"name\":\"ECE 3400\",\"metrics\":{\"complexity\":5.0,\"centrality\":0,\"blocking factor\":0,\"delay factor\":5.0},\"nameSub\":\"ECE 3400\",\"id\":5709302311956589457,\"num\":\"3400\",\"credits\":3,\"prefix\":\"ECE\"},{\"curriculum_requisites\":[],\"name\":\" \",\"metrics\":{\"complexity\":1.0,\"centrality\":0,\"blocking factor\":0,\"delay factor\":1.0},\"nameSub\":\"ECE Foundations\",\"id\":400792165392060279,\"num\":\"\",\"credits\":3,\"prefix\":\"\"},{\"curriculum_requisites\":[],\"name\":\" \",\"metrics\":{\"complexity\":1.0,\"centrality\":0,\"blocking factor\":0,\"delay factor\":1.0},\"nameSub\":\"Elective\",\"id\":5566218276427494512,\"num\":\"\",\"credits\":3,\"prefix\":\"\"},{\"curriculum_requisites\":[],\"name\":\" \",\"metrics\":{\"complexity\":1.0,\"centrality\":0,\"blocking factor\":0,\"delay factor\":1.0},\"nameSub\":\"Liberal Studies\",\"id\":8464616986137667545,\"num\":\"\",\"credits\":3,\"prefix\":\"\"},{\"curriculum_requisites\":[],\"name\":\" \",\"metrics\":{\"complexity\":1.0,\"centrality\":0,\"blocking factor\":0,\"delay factor\":1.0},\"nameSub\":\"ECE Foundations\",\"id\":3058367666291139559,\"num\":\"\",\"credits\":3,\"prefix\":\"\"}],\"id\":5},{\"name\":\"Term 6\",\"curriculum_items\":[{\"curriculum_requisites\":[],\"name\":\" \",\"metrics\":{\"complexity\":1.0,\"centrality\":0,\"blocking factor\":0,\"delay factor\":1.0},\"nameSub\":\"ECE Foundations\",\"id\":3058367666291139559,\"num\":\"\",\"credits\":3,\"prefix\":\"\"},{\"curriculum_requisites\":[],\"name\":\" \",\"metrics\":{\"complexity\":1.0,\"centrality\":0,\"blocking factor\":0,\"delay factor\":1.0},\"nameSub\":\"Outside Tech. Elective\",\"id\":1757535333827983393,\"num\":\"\",\"credits\":3,\"prefix\":\"\"},{\"curriculum_requisites\":[],\"name\":\" \",\"metrics\":{\"complexity\":1.0,\"centrality\":0,\"blocking factor\":0,\"delay factor\":1.0},\"nameSub\":\"Elective\",\"id\":4668214588652646988,\"num\":\"\",\"credits\":3,\"prefix\":\"\"},{\"curriculum_requisites\":[],\"name\":\" \",\"metrics\":{\"complexity\":1.0,\"centrality\":0,\"blocking factor\":0,\"delay factor\":1.0},\"nameSub\":\"Liberal Studies\",\"id\":8464616986137667545,\"num\":\"\",\"credits\":3,\"prefix\":\"\"},{\"curriculum_requisites\":[],\"name\":\" \",\"metrics\":{\"complexity\":1.0,\"centrality\":0,\"blocking factor\":0,\"delay factor\":1.0},\"nameSub\":\"ECE Elective \",\"id\":6174919176379868120,\"num\":\"\",\"credits\":3,\"prefix\":\"\"},{\"curriculum_requisites\":[],\"name\":\" \",\"metrics\":{\"complexity\":1.0,\"centrality\":0,\"blocking factor\":0,\"delay factor\":1.0},\"nameSub\":\"ECE Elective\",\"id\":3501367336646347911,\"num\":\"\",\"credits\":3,\"prefix\":\"\"}],\"id\":6},{\"name\":\"Term 7\",\"curriculum_items\":[{\"curriculum_requisites\":[],\"name\":\" \",\"metrics\":{\"complexity\":1.0,\"centrality\":0,\"blocking factor\":0,\"delay factor\":1.0},\"nameSub\":\"Outside Tech. Elective\",\"id\":1757535333827983393,\"num\":\"\",\"credits\":3,\"prefix\":\"\"},{\"curriculum_requisites\":[],\"name\":\" \",\"metrics\":{\"complexity\":1.0,\"centrality\":0,\"blocking factor\":0,\"delay factor\":1.0},\"nameSub\":\"Liberal Studies\",\"id\":8464616986137667545,\"num\":\"\",\"credits\":3,\"prefix\":\"\"},{\"curriculum_requisites\":[],\"name\":\" \",\"metrics\":{\"complexity\":1.0,\"centrality\":0,\"blocking factor\":0,\"delay factor\":1.0},\"nameSub\":\"ECE Elective\",\"id\":3501367336646347911,\"num\":\"\",\"credits\":3,\"prefix\":\"\"},{\"curriculum_requisites\":[],\"name\":\" \",\"metrics\":{\"complexity\":1.0,\"centrality\":0,\"blocking factor\":0,\"delay factor\":1.0},\"nameSub\":\"ECE Elective\",\"id\":3501367336646347911,\"num\":\"\",\"credits\":3,\"prefix\":\"\"},{\"curriculum_requisites\":[],\"name\":\" \",\"metrics\":{\"complexity\":1.0,\"centrality\":0,\"blocking factor\":0,\"delay factor\":1.0},\"nameSub\":\"ECE Elective\",\"id\":3501367336646347911,\"num\":\"\",\"credits\":3,\"prefix\":\"\"},{\"curriculum_requisites\":[],\"name\":\" \",\"metrics\":{\"complexity\":1.0,\"centrality\":0,\"blocking factor\":0,\"delay factor\":1.0},\"nameSub\":\"Liberal Studies\",\"id\":8464616986137667545,\"num\":\"\",\"credits\":3,\"prefix\":\"\"}],\"id\":7}]}},\"*\"); window.removeEventListener(\"message\",window.messageReceived); window.messageReceived=(function (event){return (event.data.curriculum!==undefined) ? (_webIOScope.setObservableValue({\"name\":\"curriculum-data\",\"scope\":\"scope-b11ab88e-672d-4148-8a1e-08f16f4e6b6d\",\"id\":\"ob_02\",\"type\":\"observable\"},event.data.curriculum)) : undefined}); return window.addEventListener(\"message\",window.messageReceived)})"
          },
          "id": "curriculum",
          "src": "http://localhost:8156",
          "style": {
           "border": "none",
           "height": "100vh",
           "margin": "0",
           "padding": "0",
           "width": "100%"
          }
         },
         "type": "node"
        }
       ],
       "instanceArgs": {
        "handlers": {},
        "id": "scope-b11ab88e-672d-4148-8a1e-08f16f4e6b6d",
        "imports": {
         "data": [],
         "type": "async_block"
        },
        "observables": {
         "curriculum-data": {
          "id": "ob_02",
          "sync": true,
          "value": {
           "curriculum": {
            "curriculum_terms": [
             {
              "curriculum_items": [
               {
                "credits": 3,
                "curriculum_requisites": [],
                "id": 2860424617853342700,
                "metrics": {
                 "blocking factor": 10,
                 "centrality": 0,
                 "complexity": 15,
                 "delay factor": 5
                },
                "name": "MATH 1910",
                "nameSub": "MATH 1910",
                "num": "1910",
                "prefix": "MATH"
               },
               {
                "credits": 3,
                "curriculum_requisites": [],
                "id": 4438860497225219000,
                "metrics": {
                 "blocking factor": 3,
                 "centrality": 0,
                 "complexity": 6,
                 "delay factor": 3
                },
                "name": "CS 111x",
                "nameSub": "CS 111x",
                "num": "111x",
                "prefix": "CS"
               },
               {
                "credits": 3,
                "curriculum_requisites": [],
                "id": 7422469933730204000,
                "metrics": {
                 "blocking factor": 0,
                 "centrality": 0,
                 "complexity": 1,
                 "delay factor": 1
                },
                "name": "CHEM 2090",
                "nameSub": "CHEM 2090",
                "num": "2090",
                "prefix": "CHEM"
               },
               {
                "credits": 3,
                "curriculum_requisites": [],
                "id": 442791780827562750,
                "metrics": {
                 "blocking factor": 0,
                 "centrality": 0,
                 "complexity": 1,
                 "delay factor": 1
                },
                "name": "ENGRI 1xxx",
                "nameSub": "ENGRI 1xxx",
                "num": "1xxx",
                "prefix": "ENGRI"
               },
               {
                "credits": 3,
                "curriculum_requisites": [],
                "id": 5824016370803301000,
                "metrics": {
                 "blocking factor": 0,
                 "centrality": 0,
                 "complexity": 1,
                 "delay factor": 1
                },
                "name": " ",
                "nameSub": "1st Yr Writing Seminar",
                "num": "",
                "prefix": ""
               }
              ],
              "id": 1,
              "name": "Term 1"
             },
             {
              "curriculum_items": [
               {
                "credits": 3,
                "curriculum_requisites": [
                 {
                  "source_id": 2860424617853342700,
                  "target_id": 1238892148558496500,
                  "type": "prereq"
                 }
                ],
                "id": 1238892148558496500,
                "metrics": {
                 "blocking factor": 8,
                 "centrality": 28,
                 "complexity": 12,
                 "delay factor": 4
                },
                "name": "MATH 1920",
                "nameSub": "MATH 1920",
                "num": "1920",
                "prefix": "MATH"
               },
               {
                "credits": 3,
                "curriculum_requisites": [
                 {
                  "source_id": 2860424617853342700,
                  "target_id": 8629252422314081000,
                  "type": "prereq"
                 }
                ],
                "id": 8629252422314081000,
                "metrics": {
                 "blocking factor": 4,
                 "centrality": 9,
                 "complexity": 9,
                 "delay factor": 5
                },
                "name": "PHYS 1112",
                "nameSub": "PHYS 1112",
                "num": "1112",
                "prefix": "PHYS"
               },
               {
                "credits": 3,
                "curriculum_requisites": [
                 {
                  "source_id": 4438860497225219000,
                  "target_id": 8502450016903465000,
                  "type": "prereq"
                 }
                ],
                "id": 8502450016903465000,
                "metrics": {
                 "blocking factor": 1,
                 "centrality": 3,
                 "complexity": 4,
                 "delay factor": 3
                },
                "name": "MECE/ENGRD 2300",
                "nameSub": "MECE/ENGRD 2300",
                "num": "2300",
                "prefix": "MECE/ENGRD"
               },
               {
                "credits": 3,
                "curriculum_requisites": [
                 {
                  "source_id": 4438860497225219000,
                  "target_id": 2701582232574945000,
                  "type": "prereq"
                 }
                ],
                "id": 2701582232574945000,
                "metrics": {
                 "blocking factor": 0,
                 "centrality": 0,
                 "complexity": 2,
                 "delay factor": 2
                },
                "name": " ",
                "nameSub": "Outside Tech. Elective",
                "num": "",
                "prefix": ""
               },
               {
                "credits": 3,
                "curriculum_requisites": [],
                "id": 3004148118477991000,
                "metrics": {
                 "blocking factor": 0,
                 "centrality": 0,
                 "complexity": 1,
                 "delay factor": 1
                },
                "name": " ",
                "nameSub": "PE",
                "num": "",
                "prefix": ""
               }
              ],
              "id": 2,
              "name": "Term 2"
             },
             {
              "curriculum_items": [
               {
                "credits": 3,
                "curriculum_requisites": [
                 {
                  "source_id": 1238892148558496500,
                  "target_id": 5881390984337343000,
                  "type": "prereq"
                 },
                 {
                  "source_id": 8629252422314081000,
                  "target_id": 5881390984337343000,
                  "type": "prereq"
                 }
                ],
                "id": 5881390984337343000,
                "metrics": {
                 "blocking factor": 3,
                 "centrality": 18,
                 "complexity": 8,
                 "delay factor": 5
                },
                "name": "PHYS 2213",
                "nameSub": "PHYS 2213",
                "num": "2213",
                "prefix": "PHYS"
               },
               {
                "credits": 3,
                "curriculum_requisites": [
                 {
                  "source_id": 1238892148558496500,
                  "target_id": 4264529605907154400,
                  "type": "prereq"
                 }
                ],
                "id": 4264529605907154400,
                "metrics": {
                 "blocking factor": 4,
                 "centrality": 14,
                 "complexity": 8,
                 "delay factor": 4
                },
                "name": "MATH 2930",
                "nameSub": "MATH 2930",
                "num": "2930",
                "prefix": "MATH"
               },
               {
                "credits": 3,
                "curriculum_requisites": [
                 {
                  "source_id": 4264529605907154400,
                  "target_id": 2844184663688839000,
                  "type": "coreq"
                 },
                 {
                  "source_id": 5881390984337343000,
                  "target_id": 2844184663688839000,
                  "type": "coreq"
                 }
                ],
                "id": 2844184663688839000,
                "metrics": {
                 "blocking factor": 1,
                 "centrality": 15,
                 "complexity": 6,
                 "delay factor": 5
                },
                "name": "ECE/ENGRD 2100",
                "nameSub": "ECE/ENGRD 2100",
                "num": "2100",
                "prefix": "ECE/ENGRD"
               },
               {
                "credits": 3,
                "curriculum_requisites": [
                 {
                  "source_id": 1238892148558496500,
                  "target_id": 1675867110926617900,
                  "type": "prereq"
                 }
                ],
                "id": 1675867110926617900,
                "metrics": {
                 "blocking factor": 2,
                 "centrality": 5,
                 "complexity": 5,
                 "delay factor": 3
                },
                "name": "MATH 2940",
                "nameSub": "MATH 2940",
                "num": "2940",
                "prefix": "MATH"
               },
               {
                "credits": 3,
                "curriculum_requisites": [
                 {
                  "source_id": 4264529605907154400,
                  "target_id": 2909400198342253600,
                  "type": "coreq"
                 }
                ],
                "id": 2909400198342253600,
                "metrics": {
                 "blocking factor": 0,
                 "centrality": 0,
                 "complexity": 4,
                 "delay factor": 4
                },
                "name": "PHYS 2214",
                "nameSub": "PHYS 2214",
                "num": "2214",
                "prefix": "PHYS"
               }
              ],
              "id": 3,
              "name": "Term 3"
             },
             {
              "curriculum_items": [
               {
                "credits": 3,
                "curriculum_requisites": [
                 {
                  "source_id": 4264529605907154400,
                  "target_id": 6336361301974640000,
                  "type": "prereq"
                 },
                 {
                  "source_id": 1675867110926617900,
                  "target_id": 6336361301974640000,
                  "type": "coreq"
                 }
                ],
                "id": 6336361301974640000,
                "metrics": {
                 "blocking factor": 1,
                 "centrality": 10,
                 "complexity": 5,
                 "delay factor": 4
                },
                "name": "ECE/ENGRD 2200/2220",
                "nameSub": "ECE 2200/ENGRD 2220",
                "num": "2200/2220",
                "prefix": "ECE/ENGRD"
               },
               {
                "credits": 3,
                "curriculum_requisites": [
                 {
                  "source_id": 5881390984337343000,
                  "target_id": 8994290780344556000,
                  "type": "prereq"
                 }
                ],
                "id": 8994290780344556000,
                "metrics": {
                 "blocking factor": 0,
                 "centrality": 0,
                 "complexity": 4,
                 "delay factor": 4
                },
                "name": "ENGRD 2xxx",
                "nameSub": "ENGRD 2xxx",
                "num": "2xxx",
                "prefix": "ENGRD"
               },
               {
                "credits": 3,
                "curriculum_requisites": [],
                "id": 5824016370803301000,
                "metrics": {
                 "blocking factor": 0,
                 "centrality": 0,
                 "complexity": 1,
                 "delay factor": 1
                },
                "name": " ",
                "nameSub": "1st Yr Writing Seminar",
                "num": "",
                "prefix": ""
               },
               {
                "credits": 3,
                "curriculum_requisites": [],
                "id": 3004148118477991000,
                "metrics": {
                 "blocking factor": 0,
                 "centrality": 0,
                 "complexity": 1,
                 "delay factor": 1
                },
                "name": " ",
                "nameSub": "PE",
                "num": "",
                "prefix": ""
               },
               {
                "credits": 3,
                "curriculum_requisites": [],
                "id": 4940268582285831000,
                "metrics": {
                 "blocking factor": 0,
                 "centrality": 0,
                 "complexity": 1,
                 "delay factor": 1
                },
                "name": " ",
                "nameSub": "Liberal Studies",
                "num": "",
                "prefix": ""
               },
               {
                "credits": 3,
                "curriculum_requisites": [],
                "id": 4940268582285831000,
                "metrics": {
                 "blocking factor": 0,
                 "centrality": 0,
                 "complexity": 1,
                 "delay factor": 1
                },
                "name": " ",
                "nameSub": "Liberal Studies",
                "num": "",
                "prefix": ""
               }
              ],
              "id": 4,
              "name": "Term 4"
             },
             {
              "curriculum_items": [
               {
                "credits": 3,
                "curriculum_requisites": [
                 {
                  "source_id": 2844184663688839000,
                  "target_id": 5709302311956590000,
                  "type": "prereq"
                 },
                 {
                  "source_id": 6336361301974640000,
                  "target_id": 5709302311956590000,
                  "type": "prereq"
                 },
                 {
                  "source_id": 8502450016903465000,
                  "target_id": 5709302311956590000,
                  "type": "prereq"
                 }
                ],
                "id": 5709302311956590000,
                "metrics": {
                 "blocking factor": 0,
                 "centrality": 0,
                 "complexity": 5,
                 "delay factor": 5
                },
                "name": "ECE 3400",
                "nameSub": "ECE 3400",
                "num": "3400",
                "prefix": "ECE"
               },
               {
                "credits": 3,
                "curriculum_requisites": [],
                "id": 400792165392060300,
                "metrics": {
                 "blocking factor": 0,
                 "centrality": 0,
                 "complexity": 1,
                 "delay factor": 1
                },
                "name": " ",
                "nameSub": "ECE Foundations",
                "num": "",
                "prefix": ""
               },
               {
                "credits": 3,
                "curriculum_requisites": [],
                "id": 5566218276427494000,
                "metrics": {
                 "blocking factor": 0,
                 "centrality": 0,
                 "complexity": 1,
                 "delay factor": 1
                },
                "name": " ",
                "nameSub": "Elective",
                "num": "",
                "prefix": ""
               },
               {
                "credits": 3,
                "curriculum_requisites": [],
                "id": 8464616986137668000,
                "metrics": {
                 "blocking factor": 0,
                 "centrality": 0,
                 "complexity": 1,
                 "delay factor": 1
                },
                "name": " ",
                "nameSub": "Liberal Studies",
                "num": "",
                "prefix": ""
               },
               {
                "credits": 3,
                "curriculum_requisites": [],
                "id": 3058367666291139600,
                "metrics": {
                 "blocking factor": 0,
                 "centrality": 0,
                 "complexity": 1,
                 "delay factor": 1
                },
                "name": " ",
                "nameSub": "ECE Foundations",
                "num": "",
                "prefix": ""
               }
              ],
              "id": 5,
              "name": "Term 5"
             },
             {
              "curriculum_items": [
               {
                "credits": 3,
                "curriculum_requisites": [],
                "id": 3058367666291139600,
                "metrics": {
                 "blocking factor": 0,
                 "centrality": 0,
                 "complexity": 1,
                 "delay factor": 1
                },
                "name": " ",
                "nameSub": "ECE Foundations",
                "num": "",
                "prefix": ""
               },
               {
                "credits": 3,
                "curriculum_requisites": [],
                "id": 1757535333827983400,
                "metrics": {
                 "blocking factor": 0,
                 "centrality": 0,
                 "complexity": 1,
                 "delay factor": 1
                },
                "name": " ",
                "nameSub": "Outside Tech. Elective",
                "num": "",
                "prefix": ""
               },
               {
                "credits": 3,
                "curriculum_requisites": [],
                "id": 4668214588652647000,
                "metrics": {
                 "blocking factor": 0,
                 "centrality": 0,
                 "complexity": 1,
                 "delay factor": 1
                },
                "name": " ",
                "nameSub": "Elective",
                "num": "",
                "prefix": ""
               },
               {
                "credits": 3,
                "curriculum_requisites": [],
                "id": 8464616986137668000,
                "metrics": {
                 "blocking factor": 0,
                 "centrality": 0,
                 "complexity": 1,
                 "delay factor": 1
                },
                "name": " ",
                "nameSub": "Liberal Studies",
                "num": "",
                "prefix": ""
               },
               {
                "credits": 3,
                "curriculum_requisites": [],
                "id": 6174919176379868000,
                "metrics": {
                 "blocking factor": 0,
                 "centrality": 0,
                 "complexity": 1,
                 "delay factor": 1
                },
                "name": " ",
                "nameSub": "ECE Elective ",
                "num": "",
                "prefix": ""
               },
               {
                "credits": 3,
                "curriculum_requisites": [],
                "id": 3501367336646348000,
                "metrics": {
                 "blocking factor": 0,
                 "centrality": 0,
                 "complexity": 1,
                 "delay factor": 1
                },
                "name": " ",
                "nameSub": "ECE Elective",
                "num": "",
                "prefix": ""
               }
              ],
              "id": 6,
              "name": "Term 6"
             },
             {
              "curriculum_items": [
               {
                "credits": 3,
                "curriculum_requisites": [],
                "id": 1757535333827983400,
                "metrics": {
                 "blocking factor": 0,
                 "centrality": 0,
                 "complexity": 1,
                 "delay factor": 1
                },
                "name": " ",
                "nameSub": "Outside Tech. Elective",
                "num": "",
                "prefix": ""
               },
               {
                "credits": 3,
                "curriculum_requisites": [],
                "id": 8464616986137668000,
                "metrics": {
                 "blocking factor": 0,
                 "centrality": 0,
                 "complexity": 1,
                 "delay factor": 1
                },
                "name": " ",
                "nameSub": "Liberal Studies",
                "num": "",
                "prefix": ""
               },
               {
                "credits": 3,
                "curriculum_requisites": [],
                "id": 3501367336646348000,
                "metrics": {
                 "blocking factor": 0,
                 "centrality": 0,
                 "complexity": 1,
                 "delay factor": 1
                },
                "name": " ",
                "nameSub": "ECE Elective",
                "num": "",
                "prefix": ""
               },
               {
                "credits": 3,
                "curriculum_requisites": [],
                "id": 3501367336646348000,
                "metrics": {
                 "blocking factor": 0,
                 "centrality": 0,
                 "complexity": 1,
                 "delay factor": 1
                },
                "name": " ",
                "nameSub": "ECE Elective",
                "num": "",
                "prefix": ""
               },
               {
                "credits": 3,
                "curriculum_requisites": [],
                "id": 3501367336646348000,
                "metrics": {
                 "blocking factor": 0,
                 "centrality": 0,
                 "complexity": 1,
                 "delay factor": 1
                },
                "name": " ",
                "nameSub": "ECE Elective",
                "num": "",
                "prefix": ""
               },
               {
                "credits": 3,
                "curriculum_requisites": [],
                "id": 8464616986137668000,
                "metrics": {
                 "blocking factor": 0,
                 "centrality": 0,
                 "complexity": 1,
                 "delay factor": 1
                },
                "name": " ",
                "nameSub": "Liberal Studies",
                "num": "",
                "prefix": ""
               }
              ],
              "id": 7,
              "name": "Term 7"
             }
            ],
            "name": "University of Houston EE Program 4-year Plan"
           }
          }
         }
        },
        "systemjs_options": null
       },
       "nodeType": "Scope",
       "props": {},
       "type": "node"
      },
      "text/html": [
       "<div\n",
       "    class=\"webio-mountpoint\"\n",
       "    data-webio-mountpoint=\"656564977957893832\"\n",
       ">\n",
       "    <script>\n",
       "    if (window.require && require.defined && require.defined(\"nbextensions/webio/main\")) {\n",
       "        console.log(\"Jupyter WebIO extension detected, not mounting.\");\n",
       "    } else if (window.WebIO) {\n",
       "        WebIO.mount(\n",
       "            document.querySelector('[data-webio-mountpoint=\"656564977957893832\"]'),\n",
       "            {\"props\":{},\"nodeType\":\"Scope\",\"type\":\"node\",\"instanceArgs\":{\"imports\":{\"data\":[],\"type\":\"async_block\"},\"id\":\"scope-b11ab88e-672d-4148-8a1e-08f16f4e6b6d\",\"handlers\":{},\"systemjs_options\":null,\"observables\":{\"curriculum-data\":{\"sync\":true,\"id\":\"ob_02\",\"value\":{\"curriculum\":{\"name\":\"University of Houston EE Program 4-year Plan\",\"curriculum_terms\":[{\"name\":\"Term 1\",\"curriculum_items\":[{\"curriculum_requisites\":[],\"name\":\"MATH 1910\",\"metrics\":{\"complexity\":15.0,\"centrality\":0,\"blocking factor\":10,\"delay factor\":5.0},\"nameSub\":\"MATH 1910\",\"id\":2860424617853342477,\"num\":\"1910\",\"credits\":3,\"prefix\":\"MATH\"},{\"curriculum_requisites\":[],\"name\":\"CS 111x\",\"metrics\":{\"complexity\":6.0,\"centrality\":0,\"blocking factor\":3,\"delay factor\":3.0},\"nameSub\":\"CS 111x\",\"id\":4438860497225219087,\"num\":\"111x\",\"credits\":3,\"prefix\":\"CS\"},{\"curriculum_requisites\":[],\"name\":\"CHEM 2090\",\"metrics\":{\"complexity\":1.0,\"centrality\":0,\"blocking factor\":0,\"delay factor\":1.0},\"nameSub\":\"CHEM 2090\",\"id\":7422469933730204034,\"num\":\"2090\",\"credits\":3,\"prefix\":\"CHEM\"},{\"curriculum_requisites\":[],\"name\":\"ENGRI 1xxx\",\"metrics\":{\"complexity\":1.0,\"centrality\":0,\"blocking factor\":0,\"delay factor\":1.0},\"nameSub\":\"ENGRI 1xxx\",\"id\":442791780827562763,\"num\":\"1xxx\",\"credits\":3,\"prefix\":\"ENGRI\"},{\"curriculum_requisites\":[],\"name\":\" \",\"metrics\":{\"complexity\":1.0,\"centrality\":0,\"blocking factor\":0,\"delay factor\":1.0},\"nameSub\":\"1st Yr Writing Seminar\",\"id\":5824016370803301643,\"num\":\"\",\"credits\":3,\"prefix\":\"\"}],\"id\":1},{\"name\":\"Term 2\",\"curriculum_items\":[{\"curriculum_requisites\":[{\"source_id\":2860424617853342477,\"target_id\":1238892148558496518,\"type\":\"prereq\"}],\"name\":\"MATH 1920\",\"metrics\":{\"complexity\":12.0,\"centrality\":28,\"blocking factor\":8,\"delay factor\":4.0},\"nameSub\":\"MATH 1920\",\"id\":1238892148558496518,\"num\":\"1920\",\"credits\":3,\"prefix\":\"MATH\"},{\"curriculum_requisites\":[{\"source_id\":2860424617853342477,\"target_id\":8629252422314081316,\"type\":\"prereq\"}],\"name\":\"PHYS 1112\",\"metrics\":{\"complexity\":9.0,\"centrality\":9,\"blocking factor\":4,\"delay factor\":5.0},\"nameSub\":\"PHYS 1112\",\"id\":8629252422314081316,\"num\":\"1112\",\"credits\":3,\"prefix\":\"PHYS\"},{\"curriculum_requisites\":[{\"source_id\":4438860497225219087,\"target_id\":8502450016903464997,\"type\":\"prereq\"}],\"name\":\"MECE\\/ENGRD 2300\",\"metrics\":{\"complexity\":4.0,\"centrality\":3,\"blocking factor\":1,\"delay factor\":3.0},\"nameSub\":\"MECE\\/ENGRD 2300\",\"id\":8502450016903464997,\"num\":\"2300\",\"credits\":3,\"prefix\":\"MECE\\/ENGRD\"},{\"curriculum_requisites\":[{\"source_id\":4438860497225219087,\"target_id\":2701582232574944581,\"type\":\"prereq\"}],\"name\":\" \",\"metrics\":{\"complexity\":2.0,\"centrality\":0,\"blocking factor\":0,\"delay factor\":2.0},\"nameSub\":\"Outside Tech. Elective\",\"id\":2701582232574944581,\"num\":\"\",\"credits\":3,\"prefix\":\"\"},{\"curriculum_requisites\":[],\"name\":\" \",\"metrics\":{\"complexity\":1.0,\"centrality\":0,\"blocking factor\":0,\"delay factor\":1.0},\"nameSub\":\"PE\",\"id\":3004148118477990719,\"num\":\"\",\"credits\":3,\"prefix\":\"\"}],\"id\":2},{\"name\":\"Term 3\",\"curriculum_items\":[{\"curriculum_requisites\":[{\"source_id\":1238892148558496518,\"target_id\":5881390984337343440,\"type\":\"prereq\"},{\"source_id\":8629252422314081316,\"target_id\":5881390984337343440,\"type\":\"prereq\"}],\"name\":\"PHYS 2213\",\"metrics\":{\"complexity\":8.0,\"centrality\":18,\"blocking factor\":3,\"delay factor\":5.0},\"nameSub\":\"PHYS 2213\",\"id\":5881390984337343440,\"num\":\"2213\",\"credits\":3,\"prefix\":\"PHYS\"},{\"curriculum_requisites\":[{\"source_id\":1238892148558496518,\"target_id\":4264529605907154296,\"type\":\"prereq\"}],\"name\":\"MATH 2930\",\"metrics\":{\"complexity\":8.0,\"centrality\":14,\"blocking factor\":4,\"delay factor\":4.0},\"nameSub\":\"MATH 2930\",\"id\":4264529605907154296,\"num\":\"2930\",\"credits\":3,\"prefix\":\"MATH\"},{\"curriculum_requisites\":[{\"source_id\":4264529605907154296,\"target_id\":2844184663688839040,\"type\":\"coreq\"},{\"source_id\":5881390984337343440,\"target_id\":2844184663688839040,\"type\":\"coreq\"}],\"name\":\"ECE\\/ENGRD 2100\",\"metrics\":{\"complexity\":6.0,\"centrality\":15,\"blocking factor\":1,\"delay factor\":5.0},\"nameSub\":\"ECE\\/ENGRD 2100\",\"id\":2844184663688839040,\"num\":\"2100\",\"credits\":3,\"prefix\":\"ECE\\/ENGRD\"},{\"curriculum_requisites\":[{\"source_id\":1238892148558496518,\"target_id\":1675867110926617872,\"type\":\"prereq\"}],\"name\":\"MATH 2940\",\"metrics\":{\"complexity\":5.0,\"centrality\":5,\"blocking factor\":2,\"delay factor\":3.0},\"nameSub\":\"MATH 2940\",\"id\":1675867110926617872,\"num\":\"2940\",\"credits\":3,\"prefix\":\"MATH\"},{\"curriculum_requisites\":[{\"source_id\":4264529605907154296,\"target_id\":2909400198342253741,\"type\":\"coreq\"}],\"name\":\"PHYS 2214\",\"metrics\":{\"complexity\":4.0,\"centrality\":0,\"blocking factor\":0,\"delay factor\":4.0},\"nameSub\":\"PHYS 2214\",\"id\":2909400198342253741,\"num\":\"2214\",\"credits\":3,\"prefix\":\"PHYS\"}],\"id\":3},{\"name\":\"Term 4\",\"curriculum_items\":[{\"curriculum_requisites\":[{\"source_id\":4264529605907154296,\"target_id\":6336361301974639547,\"type\":\"prereq\"},{\"source_id\":1675867110926617872,\"target_id\":6336361301974639547,\"type\":\"coreq\"}],\"name\":\"ECE\\/ENGRD 2200\\/2220\",\"metrics\":{\"complexity\":5.0,\"centrality\":10,\"blocking factor\":1,\"delay factor\":4.0},\"nameSub\":\"ECE 2200\\/ENGRD 2220\",\"id\":6336361301974639547,\"num\":\"2200\\/2220\",\"credits\":3,\"prefix\":\"ECE\\/ENGRD\"},{\"curriculum_requisites\":[{\"source_id\":5881390984337343440,\"target_id\":8994290780344555469,\"type\":\"prereq\"}],\"name\":\"ENGRD 2xxx\",\"metrics\":{\"complexity\":4.0,\"centrality\":0,\"blocking factor\":0,\"delay factor\":4.0},\"nameSub\":\"ENGRD 2xxx\",\"id\":8994290780344555469,\"num\":\"2xxx\",\"credits\":3,\"prefix\":\"ENGRD\"},{\"curriculum_requisites\":[],\"name\":\" \",\"metrics\":{\"complexity\":1.0,\"centrality\":0,\"blocking factor\":0,\"delay factor\":1.0},\"nameSub\":\"1st Yr Writing Seminar\",\"id\":5824016370803301643,\"num\":\"\",\"credits\":3,\"prefix\":\"\"},{\"curriculum_requisites\":[],\"name\":\" \",\"metrics\":{\"complexity\":1.0,\"centrality\":0,\"blocking factor\":0,\"delay factor\":1.0},\"nameSub\":\"PE\",\"id\":3004148118477990719,\"num\":\"\",\"credits\":3,\"prefix\":\"\"},{\"curriculum_requisites\":[],\"name\":\" \",\"metrics\":{\"complexity\":1.0,\"centrality\":0,\"blocking factor\":0,\"delay factor\":1.0},\"nameSub\":\"Liberal Studies\",\"id\":4940268582285830954,\"num\":\"\",\"credits\":3,\"prefix\":\"\"},{\"curriculum_requisites\":[],\"name\":\" \",\"metrics\":{\"complexity\":1.0,\"centrality\":0,\"blocking factor\":0,\"delay factor\":1.0},\"nameSub\":\"Liberal Studies\",\"id\":4940268582285830954,\"num\":\"\",\"credits\":3,\"prefix\":\"\"}],\"id\":4},{\"name\":\"Term 5\",\"curriculum_items\":[{\"curriculum_requisites\":[{\"source_id\":2844184663688839040,\"target_id\":5709302311956589457,\"type\":\"prereq\"},{\"source_id\":6336361301974639547,\"target_id\":5709302311956589457,\"type\":\"prereq\"},{\"source_id\":8502450016903464997,\"target_id\":5709302311956589457,\"type\":\"prereq\"}],\"name\":\"ECE 3400\",\"metrics\":{\"complexity\":5.0,\"centrality\":0,\"blocking factor\":0,\"delay factor\":5.0},\"nameSub\":\"ECE 3400\",\"id\":5709302311956589457,\"num\":\"3400\",\"credits\":3,\"prefix\":\"ECE\"},{\"curriculum_requisites\":[],\"name\":\" \",\"metrics\":{\"complexity\":1.0,\"centrality\":0,\"blocking factor\":0,\"delay factor\":1.0},\"nameSub\":\"ECE Foundations\",\"id\":400792165392060279,\"num\":\"\",\"credits\":3,\"prefix\":\"\"},{\"curriculum_requisites\":[],\"name\":\" \",\"metrics\":{\"complexity\":1.0,\"centrality\":0,\"blocking factor\":0,\"delay factor\":1.0},\"nameSub\":\"Elective\",\"id\":5566218276427494512,\"num\":\"\",\"credits\":3,\"prefix\":\"\"},{\"curriculum_requisites\":[],\"name\":\" \",\"metrics\":{\"complexity\":1.0,\"centrality\":0,\"blocking factor\":0,\"delay factor\":1.0},\"nameSub\":\"Liberal Studies\",\"id\":8464616986137667545,\"num\":\"\",\"credits\":3,\"prefix\":\"\"},{\"curriculum_requisites\":[],\"name\":\" \",\"metrics\":{\"complexity\":1.0,\"centrality\":0,\"blocking factor\":0,\"delay factor\":1.0},\"nameSub\":\"ECE Foundations\",\"id\":3058367666291139559,\"num\":\"\",\"credits\":3,\"prefix\":\"\"}],\"id\":5},{\"name\":\"Term 6\",\"curriculum_items\":[{\"curriculum_requisites\":[],\"name\":\" \",\"metrics\":{\"complexity\":1.0,\"centrality\":0,\"blocking factor\":0,\"delay factor\":1.0},\"nameSub\":\"ECE Foundations\",\"id\":3058367666291139559,\"num\":\"\",\"credits\":3,\"prefix\":\"\"},{\"curriculum_requisites\":[],\"name\":\" \",\"metrics\":{\"complexity\":1.0,\"centrality\":0,\"blocking factor\":0,\"delay factor\":1.0},\"nameSub\":\"Outside Tech. Elective\",\"id\":1757535333827983393,\"num\":\"\",\"credits\":3,\"prefix\":\"\"},{\"curriculum_requisites\":[],\"name\":\" \",\"metrics\":{\"complexity\":1.0,\"centrality\":0,\"blocking factor\":0,\"delay factor\":1.0},\"nameSub\":\"Elective\",\"id\":4668214588652646988,\"num\":\"\",\"credits\":3,\"prefix\":\"\"},{\"curriculum_requisites\":[],\"name\":\" \",\"metrics\":{\"complexity\":1.0,\"centrality\":0,\"blocking factor\":0,\"delay factor\":1.0},\"nameSub\":\"Liberal Studies\",\"id\":8464616986137667545,\"num\":\"\",\"credits\":3,\"prefix\":\"\"},{\"curriculum_requisites\":[],\"name\":\" \",\"metrics\":{\"complexity\":1.0,\"centrality\":0,\"blocking factor\":0,\"delay factor\":1.0},\"nameSub\":\"ECE Elective \",\"id\":6174919176379868120,\"num\":\"\",\"credits\":3,\"prefix\":\"\"},{\"curriculum_requisites\":[],\"name\":\" \",\"metrics\":{\"complexity\":1.0,\"centrality\":0,\"blocking factor\":0,\"delay factor\":1.0},\"nameSub\":\"ECE Elective\",\"id\":3501367336646347911,\"num\":\"\",\"credits\":3,\"prefix\":\"\"}],\"id\":6},{\"name\":\"Term 7\",\"curriculum_items\":[{\"curriculum_requisites\":[],\"name\":\" \",\"metrics\":{\"complexity\":1.0,\"centrality\":0,\"blocking factor\":0,\"delay factor\":1.0},\"nameSub\":\"Outside Tech. Elective\",\"id\":1757535333827983393,\"num\":\"\",\"credits\":3,\"prefix\":\"\"},{\"curriculum_requisites\":[],\"name\":\" \",\"metrics\":{\"complexity\":1.0,\"centrality\":0,\"blocking factor\":0,\"delay factor\":1.0},\"nameSub\":\"Liberal Studies\",\"id\":8464616986137667545,\"num\":\"\",\"credits\":3,\"prefix\":\"\"},{\"curriculum_requisites\":[],\"name\":\" \",\"metrics\":{\"complexity\":1.0,\"centrality\":0,\"blocking factor\":0,\"delay factor\":1.0},\"nameSub\":\"ECE Elective\",\"id\":3501367336646347911,\"num\":\"\",\"credits\":3,\"prefix\":\"\"},{\"curriculum_requisites\":[],\"name\":\" \",\"metrics\":{\"complexity\":1.0,\"centrality\":0,\"blocking factor\":0,\"delay factor\":1.0},\"nameSub\":\"ECE Elective\",\"id\":3501367336646347911,\"num\":\"\",\"credits\":3,\"prefix\":\"\"},{\"curriculum_requisites\":[],\"name\":\" \",\"metrics\":{\"complexity\":1.0,\"centrality\":0,\"blocking factor\":0,\"delay factor\":1.0},\"nameSub\":\"ECE Elective\",\"id\":3501367336646347911,\"num\":\"\",\"credits\":3,\"prefix\":\"\"},{\"curriculum_requisites\":[],\"name\":\" \",\"metrics\":{\"complexity\":1.0,\"centrality\":0,\"blocking factor\":0,\"delay factor\":1.0},\"nameSub\":\"Liberal Studies\",\"id\":8464616986137667545,\"num\":\"\",\"credits\":3,\"prefix\":\"\"}],\"id\":7}]}}}}},\"children\":[{\"props\":{\"src\":\"http:\\/\\/localhost:8156\",\"id\":\"curriculum\",\"events\":{\"load\":\"(function (){this.contentWindow.postMessage({\\\"curriculum\\\":{\\\"name\\\":\\\"University of Houston EE Program 4-year Plan\\\",\\\"curriculum_terms\\\":[{\\\"name\\\":\\\"Term 1\\\",\\\"curriculum_items\\\":[{\\\"curriculum_requisites\\\":[],\\\"name\\\":\\\"MATH 1910\\\",\\\"metrics\\\":{\\\"complexity\\\":15.0,\\\"centrality\\\":0,\\\"blocking factor\\\":10,\\\"delay factor\\\":5.0},\\\"nameSub\\\":\\\"MATH 1910\\\",\\\"id\\\":2860424617853342477,\\\"num\\\":\\\"1910\\\",\\\"credits\\\":3,\\\"prefix\\\":\\\"MATH\\\"},{\\\"curriculum_requisites\\\":[],\\\"name\\\":\\\"CS 111x\\\",\\\"metrics\\\":{\\\"complexity\\\":6.0,\\\"centrality\\\":0,\\\"blocking factor\\\":3,\\\"delay factor\\\":3.0},\\\"nameSub\\\":\\\"CS 111x\\\",\\\"id\\\":4438860497225219087,\\\"num\\\":\\\"111x\\\",\\\"credits\\\":3,\\\"prefix\\\":\\\"CS\\\"},{\\\"curriculum_requisites\\\":[],\\\"name\\\":\\\"CHEM 2090\\\",\\\"metrics\\\":{\\\"complexity\\\":1.0,\\\"centrality\\\":0,\\\"blocking factor\\\":0,\\\"delay factor\\\":1.0},\\\"nameSub\\\":\\\"CHEM 2090\\\",\\\"id\\\":7422469933730204034,\\\"num\\\":\\\"2090\\\",\\\"credits\\\":3,\\\"prefix\\\":\\\"CHEM\\\"},{\\\"curriculum_requisites\\\":[],\\\"name\\\":\\\"ENGRI 1xxx\\\",\\\"metrics\\\":{\\\"complexity\\\":1.0,\\\"centrality\\\":0,\\\"blocking factor\\\":0,\\\"delay factor\\\":1.0},\\\"nameSub\\\":\\\"ENGRI 1xxx\\\",\\\"id\\\":442791780827562763,\\\"num\\\":\\\"1xxx\\\",\\\"credits\\\":3,\\\"prefix\\\":\\\"ENGRI\\\"},{\\\"curriculum_requisites\\\":[],\\\"name\\\":\\\" \\\",\\\"metrics\\\":{\\\"complexity\\\":1.0,\\\"centrality\\\":0,\\\"blocking factor\\\":0,\\\"delay factor\\\":1.0},\\\"nameSub\\\":\\\"1st Yr Writing Seminar\\\",\\\"id\\\":5824016370803301643,\\\"num\\\":\\\"\\\",\\\"credits\\\":3,\\\"prefix\\\":\\\"\\\"}],\\\"id\\\":1},{\\\"name\\\":\\\"Term 2\\\",\\\"curriculum_items\\\":[{\\\"curriculum_requisites\\\":[{\\\"source_id\\\":2860424617853342477,\\\"target_id\\\":1238892148558496518,\\\"type\\\":\\\"prereq\\\"}],\\\"name\\\":\\\"MATH 1920\\\",\\\"metrics\\\":{\\\"complexity\\\":12.0,\\\"centrality\\\":28,\\\"blocking factor\\\":8,\\\"delay factor\\\":4.0},\\\"nameSub\\\":\\\"MATH 1920\\\",\\\"id\\\":1238892148558496518,\\\"num\\\":\\\"1920\\\",\\\"credits\\\":3,\\\"prefix\\\":\\\"MATH\\\"},{\\\"curriculum_requisites\\\":[{\\\"source_id\\\":2860424617853342477,\\\"target_id\\\":8629252422314081316,\\\"type\\\":\\\"prereq\\\"}],\\\"name\\\":\\\"PHYS 1112\\\",\\\"metrics\\\":{\\\"complexity\\\":9.0,\\\"centrality\\\":9,\\\"blocking factor\\\":4,\\\"delay factor\\\":5.0},\\\"nameSub\\\":\\\"PHYS 1112\\\",\\\"id\\\":8629252422314081316,\\\"num\\\":\\\"1112\\\",\\\"credits\\\":3,\\\"prefix\\\":\\\"PHYS\\\"},{\\\"curriculum_requisites\\\":[{\\\"source_id\\\":4438860497225219087,\\\"target_id\\\":8502450016903464997,\\\"type\\\":\\\"prereq\\\"}],\\\"name\\\":\\\"MECE\\/ENGRD 2300\\\",\\\"metrics\\\":{\\\"complexity\\\":4.0,\\\"centrality\\\":3,\\\"blocking factor\\\":1,\\\"delay factor\\\":3.0},\\\"nameSub\\\":\\\"MECE\\/ENGRD 2300\\\",\\\"id\\\":8502450016903464997,\\\"num\\\":\\\"2300\\\",\\\"credits\\\":3,\\\"prefix\\\":\\\"MECE\\/ENGRD\\\"},{\\\"curriculum_requisites\\\":[{\\\"source_id\\\":4438860497225219087,\\\"target_id\\\":2701582232574944581,\\\"type\\\":\\\"prereq\\\"}],\\\"name\\\":\\\" \\\",\\\"metrics\\\":{\\\"complexity\\\":2.0,\\\"centrality\\\":0,\\\"blocking factor\\\":0,\\\"delay factor\\\":2.0},\\\"nameSub\\\":\\\"Outside Tech. Elective\\\",\\\"id\\\":2701582232574944581,\\\"num\\\":\\\"\\\",\\\"credits\\\":3,\\\"prefix\\\":\\\"\\\"},{\\\"curriculum_requisites\\\":[],\\\"name\\\":\\\" \\\",\\\"metrics\\\":{\\\"complexity\\\":1.0,\\\"centrality\\\":0,\\\"blocking factor\\\":0,\\\"delay factor\\\":1.0},\\\"nameSub\\\":\\\"PE\\\",\\\"id\\\":3004148118477990719,\\\"num\\\":\\\"\\\",\\\"credits\\\":3,\\\"prefix\\\":\\\"\\\"}],\\\"id\\\":2},{\\\"name\\\":\\\"Term 3\\\",\\\"curriculum_items\\\":[{\\\"curriculum_requisites\\\":[{\\\"source_id\\\":1238892148558496518,\\\"target_id\\\":5881390984337343440,\\\"type\\\":\\\"prereq\\\"},{\\\"source_id\\\":8629252422314081316,\\\"target_id\\\":5881390984337343440,\\\"type\\\":\\\"prereq\\\"}],\\\"name\\\":\\\"PHYS 2213\\\",\\\"metrics\\\":{\\\"complexity\\\":8.0,\\\"centrality\\\":18,\\\"blocking factor\\\":3,\\\"delay factor\\\":5.0},\\\"nameSub\\\":\\\"PHYS 2213\\\",\\\"id\\\":5881390984337343440,\\\"num\\\":\\\"2213\\\",\\\"credits\\\":3,\\\"prefix\\\":\\\"PHYS\\\"},{\\\"curriculum_requisites\\\":[{\\\"source_id\\\":1238892148558496518,\\\"target_id\\\":4264529605907154296,\\\"type\\\":\\\"prereq\\\"}],\\\"name\\\":\\\"MATH 2930\\\",\\\"metrics\\\":{\\\"complexity\\\":8.0,\\\"centrality\\\":14,\\\"blocking factor\\\":4,\\\"delay factor\\\":4.0},\\\"nameSub\\\":\\\"MATH 2930\\\",\\\"id\\\":4264529605907154296,\\\"num\\\":\\\"2930\\\",\\\"credits\\\":3,\\\"prefix\\\":\\\"MATH\\\"},{\\\"curriculum_requisites\\\":[{\\\"source_id\\\":4264529605907154296,\\\"target_id\\\":2844184663688839040,\\\"type\\\":\\\"coreq\\\"},{\\\"source_id\\\":5881390984337343440,\\\"target_id\\\":2844184663688839040,\\\"type\\\":\\\"coreq\\\"}],\\\"name\\\":\\\"ECE\\/ENGRD 2100\\\",\\\"metrics\\\":{\\\"complexity\\\":6.0,\\\"centrality\\\":15,\\\"blocking factor\\\":1,\\\"delay factor\\\":5.0},\\\"nameSub\\\":\\\"ECE\\/ENGRD 2100\\\",\\\"id\\\":2844184663688839040,\\\"num\\\":\\\"2100\\\",\\\"credits\\\":3,\\\"prefix\\\":\\\"ECE\\/ENGRD\\\"},{\\\"curriculum_requisites\\\":[{\\\"source_id\\\":1238892148558496518,\\\"target_id\\\":1675867110926617872,\\\"type\\\":\\\"prereq\\\"}],\\\"name\\\":\\\"MATH 2940\\\",\\\"metrics\\\":{\\\"complexity\\\":5.0,\\\"centrality\\\":5,\\\"blocking factor\\\":2,\\\"delay factor\\\":3.0},\\\"nameSub\\\":\\\"MATH 2940\\\",\\\"id\\\":1675867110926617872,\\\"num\\\":\\\"2940\\\",\\\"credits\\\":3,\\\"prefix\\\":\\\"MATH\\\"},{\\\"curriculum_requisites\\\":[{\\\"source_id\\\":4264529605907154296,\\\"target_id\\\":2909400198342253741,\\\"type\\\":\\\"coreq\\\"}],\\\"name\\\":\\\"PHYS 2214\\\",\\\"metrics\\\":{\\\"complexity\\\":4.0,\\\"centrality\\\":0,\\\"blocking factor\\\":0,\\\"delay factor\\\":4.0},\\\"nameSub\\\":\\\"PHYS 2214\\\",\\\"id\\\":2909400198342253741,\\\"num\\\":\\\"2214\\\",\\\"credits\\\":3,\\\"prefix\\\":\\\"PHYS\\\"}],\\\"id\\\":3},{\\\"name\\\":\\\"Term 4\\\",\\\"curriculum_items\\\":[{\\\"curriculum_requisites\\\":[{\\\"source_id\\\":4264529605907154296,\\\"target_id\\\":6336361301974639547,\\\"type\\\":\\\"prereq\\\"},{\\\"source_id\\\":1675867110926617872,\\\"target_id\\\":6336361301974639547,\\\"type\\\":\\\"coreq\\\"}],\\\"name\\\":\\\"ECE\\/ENGRD 2200\\/2220\\\",\\\"metrics\\\":{\\\"complexity\\\":5.0,\\\"centrality\\\":10,\\\"blocking factor\\\":1,\\\"delay factor\\\":4.0},\\\"nameSub\\\":\\\"ECE 2200\\/ENGRD 2220\\\",\\\"id\\\":6336361301974639547,\\\"num\\\":\\\"2200\\/2220\\\",\\\"credits\\\":3,\\\"prefix\\\":\\\"ECE\\/ENGRD\\\"},{\\\"curriculum_requisites\\\":[{\\\"source_id\\\":5881390984337343440,\\\"target_id\\\":8994290780344555469,\\\"type\\\":\\\"prereq\\\"}],\\\"name\\\":\\\"ENGRD 2xxx\\\",\\\"metrics\\\":{\\\"complexity\\\":4.0,\\\"centrality\\\":0,\\\"blocking factor\\\":0,\\\"delay factor\\\":4.0},\\\"nameSub\\\":\\\"ENGRD 2xxx\\\",\\\"id\\\":8994290780344555469,\\\"num\\\":\\\"2xxx\\\",\\\"credits\\\":3,\\\"prefix\\\":\\\"ENGRD\\\"},{\\\"curriculum_requisites\\\":[],\\\"name\\\":\\\" \\\",\\\"metrics\\\":{\\\"complexity\\\":1.0,\\\"centrality\\\":0,\\\"blocking factor\\\":0,\\\"delay factor\\\":1.0},\\\"nameSub\\\":\\\"1st Yr Writing Seminar\\\",\\\"id\\\":5824016370803301643,\\\"num\\\":\\\"\\\",\\\"credits\\\":3,\\\"prefix\\\":\\\"\\\"},{\\\"curriculum_requisites\\\":[],\\\"name\\\":\\\" \\\",\\\"metrics\\\":{\\\"complexity\\\":1.0,\\\"centrality\\\":0,\\\"blocking factor\\\":0,\\\"delay factor\\\":1.0},\\\"nameSub\\\":\\\"PE\\\",\\\"id\\\":3004148118477990719,\\\"num\\\":\\\"\\\",\\\"credits\\\":3,\\\"prefix\\\":\\\"\\\"},{\\\"curriculum_requisites\\\":[],\\\"name\\\":\\\" \\\",\\\"metrics\\\":{\\\"complexity\\\":1.0,\\\"centrality\\\":0,\\\"blocking factor\\\":0,\\\"delay factor\\\":1.0},\\\"nameSub\\\":\\\"Liberal Studies\\\",\\\"id\\\":4940268582285830954,\\\"num\\\":\\\"\\\",\\\"credits\\\":3,\\\"prefix\\\":\\\"\\\"},{\\\"curriculum_requisites\\\":[],\\\"name\\\":\\\" \\\",\\\"metrics\\\":{\\\"complexity\\\":1.0,\\\"centrality\\\":0,\\\"blocking factor\\\":0,\\\"delay factor\\\":1.0},\\\"nameSub\\\":\\\"Liberal Studies\\\",\\\"id\\\":4940268582285830954,\\\"num\\\":\\\"\\\",\\\"credits\\\":3,\\\"prefix\\\":\\\"\\\"}],\\\"id\\\":4},{\\\"name\\\":\\\"Term 5\\\",\\\"curriculum_items\\\":[{\\\"curriculum_requisites\\\":[{\\\"source_id\\\":2844184663688839040,\\\"target_id\\\":5709302311956589457,\\\"type\\\":\\\"prereq\\\"},{\\\"source_id\\\":6336361301974639547,\\\"target_id\\\":5709302311956589457,\\\"type\\\":\\\"prereq\\\"},{\\\"source_id\\\":8502450016903464997,\\\"target_id\\\":5709302311956589457,\\\"type\\\":\\\"prereq\\\"}],\\\"name\\\":\\\"ECE 3400\\\",\\\"metrics\\\":{\\\"complexity\\\":5.0,\\\"centrality\\\":0,\\\"blocking factor\\\":0,\\\"delay factor\\\":5.0},\\\"nameSub\\\":\\\"ECE 3400\\\",\\\"id\\\":5709302311956589457,\\\"num\\\":\\\"3400\\\",\\\"credits\\\":3,\\\"prefix\\\":\\\"ECE\\\"},{\\\"curriculum_requisites\\\":[],\\\"name\\\":\\\" \\\",\\\"metrics\\\":{\\\"complexity\\\":1.0,\\\"centrality\\\":0,\\\"blocking factor\\\":0,\\\"delay factor\\\":1.0},\\\"nameSub\\\":\\\"ECE Foundations\\\",\\\"id\\\":400792165392060279,\\\"num\\\":\\\"\\\",\\\"credits\\\":3,\\\"prefix\\\":\\\"\\\"},{\\\"curriculum_requisites\\\":[],\\\"name\\\":\\\" \\\",\\\"metrics\\\":{\\\"complexity\\\":1.0,\\\"centrality\\\":0,\\\"blocking factor\\\":0,\\\"delay factor\\\":1.0},\\\"nameSub\\\":\\\"Elective\\\",\\\"id\\\":5566218276427494512,\\\"num\\\":\\\"\\\",\\\"credits\\\":3,\\\"prefix\\\":\\\"\\\"},{\\\"curriculum_requisites\\\":[],\\\"name\\\":\\\" \\\",\\\"metrics\\\":{\\\"complexity\\\":1.0,\\\"centrality\\\":0,\\\"blocking factor\\\":0,\\\"delay factor\\\":1.0},\\\"nameSub\\\":\\\"Liberal Studies\\\",\\\"id\\\":8464616986137667545,\\\"num\\\":\\\"\\\",\\\"credits\\\":3,\\\"prefix\\\":\\\"\\\"},{\\\"curriculum_requisites\\\":[],\\\"name\\\":\\\" \\\",\\\"metrics\\\":{\\\"complexity\\\":1.0,\\\"centrality\\\":0,\\\"blocking factor\\\":0,\\\"delay factor\\\":1.0},\\\"nameSub\\\":\\\"ECE Foundations\\\",\\\"id\\\":3058367666291139559,\\\"num\\\":\\\"\\\",\\\"credits\\\":3,\\\"prefix\\\":\\\"\\\"}],\\\"id\\\":5},{\\\"name\\\":\\\"Term 6\\\",\\\"curriculum_items\\\":[{\\\"curriculum_requisites\\\":[],\\\"name\\\":\\\" \\\",\\\"metrics\\\":{\\\"complexity\\\":1.0,\\\"centrality\\\":0,\\\"blocking factor\\\":0,\\\"delay factor\\\":1.0},\\\"nameSub\\\":\\\"ECE Foundations\\\",\\\"id\\\":3058367666291139559,\\\"num\\\":\\\"\\\",\\\"credits\\\":3,\\\"prefix\\\":\\\"\\\"},{\\\"curriculum_requisites\\\":[],\\\"name\\\":\\\" \\\",\\\"metrics\\\":{\\\"complexity\\\":1.0,\\\"centrality\\\":0,\\\"blocking factor\\\":0,\\\"delay factor\\\":1.0},\\\"nameSub\\\":\\\"Outside Tech. Elective\\\",\\\"id\\\":1757535333827983393,\\\"num\\\":\\\"\\\",\\\"credits\\\":3,\\\"prefix\\\":\\\"\\\"},{\\\"curriculum_requisites\\\":[],\\\"name\\\":\\\" \\\",\\\"metrics\\\":{\\\"complexity\\\":1.0,\\\"centrality\\\":0,\\\"blocking factor\\\":0,\\\"delay factor\\\":1.0},\\\"nameSub\\\":\\\"Elective\\\",\\\"id\\\":4668214588652646988,\\\"num\\\":\\\"\\\",\\\"credits\\\":3,\\\"prefix\\\":\\\"\\\"},{\\\"curriculum_requisites\\\":[],\\\"name\\\":\\\" \\\",\\\"metrics\\\":{\\\"complexity\\\":1.0,\\\"centrality\\\":0,\\\"blocking factor\\\":0,\\\"delay factor\\\":1.0},\\\"nameSub\\\":\\\"Liberal Studies\\\",\\\"id\\\":8464616986137667545,\\\"num\\\":\\\"\\\",\\\"credits\\\":3,\\\"prefix\\\":\\\"\\\"},{\\\"curriculum_requisites\\\":[],\\\"name\\\":\\\" \\\",\\\"metrics\\\":{\\\"complexity\\\":1.0,\\\"centrality\\\":0,\\\"blocking factor\\\":0,\\\"delay factor\\\":1.0},\\\"nameSub\\\":\\\"ECE Elective \\\",\\\"id\\\":6174919176379868120,\\\"num\\\":\\\"\\\",\\\"credits\\\":3,\\\"prefix\\\":\\\"\\\"},{\\\"curriculum_requisites\\\":[],\\\"name\\\":\\\" \\\",\\\"metrics\\\":{\\\"complexity\\\":1.0,\\\"centrality\\\":0,\\\"blocking factor\\\":0,\\\"delay factor\\\":1.0},\\\"nameSub\\\":\\\"ECE Elective\\\",\\\"id\\\":3501367336646347911,\\\"num\\\":\\\"\\\",\\\"credits\\\":3,\\\"prefix\\\":\\\"\\\"}],\\\"id\\\":6},{\\\"name\\\":\\\"Term 7\\\",\\\"curriculum_items\\\":[{\\\"curriculum_requisites\\\":[],\\\"name\\\":\\\" \\\",\\\"metrics\\\":{\\\"complexity\\\":1.0,\\\"centrality\\\":0,\\\"blocking factor\\\":0,\\\"delay factor\\\":1.0},\\\"nameSub\\\":\\\"Outside Tech. Elective\\\",\\\"id\\\":1757535333827983393,\\\"num\\\":\\\"\\\",\\\"credits\\\":3,\\\"prefix\\\":\\\"\\\"},{\\\"curriculum_requisites\\\":[],\\\"name\\\":\\\" \\\",\\\"metrics\\\":{\\\"complexity\\\":1.0,\\\"centrality\\\":0,\\\"blocking factor\\\":0,\\\"delay factor\\\":1.0},\\\"nameSub\\\":\\\"Liberal Studies\\\",\\\"id\\\":8464616986137667545,\\\"num\\\":\\\"\\\",\\\"credits\\\":3,\\\"prefix\\\":\\\"\\\"},{\\\"curriculum_requisites\\\":[],\\\"name\\\":\\\" \\\",\\\"metrics\\\":{\\\"complexity\\\":1.0,\\\"centrality\\\":0,\\\"blocking factor\\\":0,\\\"delay factor\\\":1.0},\\\"nameSub\\\":\\\"ECE Elective\\\",\\\"id\\\":3501367336646347911,\\\"num\\\":\\\"\\\",\\\"credits\\\":3,\\\"prefix\\\":\\\"\\\"},{\\\"curriculum_requisites\\\":[],\\\"name\\\":\\\" \\\",\\\"metrics\\\":{\\\"complexity\\\":1.0,\\\"centrality\\\":0,\\\"blocking factor\\\":0,\\\"delay factor\\\":1.0},\\\"nameSub\\\":\\\"ECE Elective\\\",\\\"id\\\":3501367336646347911,\\\"num\\\":\\\"\\\",\\\"credits\\\":3,\\\"prefix\\\":\\\"\\\"},{\\\"curriculum_requisites\\\":[],\\\"name\\\":\\\" \\\",\\\"metrics\\\":{\\\"complexity\\\":1.0,\\\"centrality\\\":0,\\\"blocking factor\\\":0,\\\"delay factor\\\":1.0},\\\"nameSub\\\":\\\"ECE Elective\\\",\\\"id\\\":3501367336646347911,\\\"num\\\":\\\"\\\",\\\"credits\\\":3,\\\"prefix\\\":\\\"\\\"},{\\\"curriculum_requisites\\\":[],\\\"name\\\":\\\" \\\",\\\"metrics\\\":{\\\"complexity\\\":1.0,\\\"centrality\\\":0,\\\"blocking factor\\\":0,\\\"delay factor\\\":1.0},\\\"nameSub\\\":\\\"Liberal Studies\\\",\\\"id\\\":8464616986137667545,\\\"num\\\":\\\"\\\",\\\"credits\\\":3,\\\"prefix\\\":\\\"\\\"}],\\\"id\\\":7}]}},\\\"*\\\"); window.removeEventListener(\\\"message\\\",window.messageReceived); window.messageReceived=(function (event){return (event.data.curriculum!==undefined) ? (_webIOScope.setObservableValue({\\\"name\\\":\\\"curriculum-data\\\",\\\"scope\\\":\\\"scope-b11ab88e-672d-4148-8a1e-08f16f4e6b6d\\\",\\\"id\\\":\\\"ob_02\\\",\\\"type\\\":\\\"observable\\\"},event.data.curriculum)) : undefined}); return window.addEventListener(\\\"message\\\",window.messageReceived)})\"},\"style\":{\"padding\":\"0\",\"height\":\"100vh\",\"margin\":\"0\",\"border\":\"none\",\"width\":\"100%\"}},\"nodeType\":\"DOM\",\"type\":\"node\",\"instanceArgs\":{\"namespace\":\"html\",\"tag\":\"iframe\"},\"children\":[\"\"]}]},\n",
       "        );\n",
       "    } else {\n",
       "        document\n",
       "            .querySelector('[data-webio-mountpoint=\"656564977957893832\"]')\n",
       "            .innerHTML = '<strong>WebIO not detected.</strong>';\n",
       "    }\n",
       "    </script>\n",
       "</div>\n"
      ],
      "text/plain": [
       "WebIO.Scope(\"scope-b11ab88e-672d-4148-8a1e-08f16f4e6b6d\", WebIO.Node{WebIO.DOM}(WebIO.DOM(:html, :iframe), Any[\"\"], Dict{Symbol,Any}(:src=>\"http://localhost:8156\",:id=>\"curriculum\",:events=>Dict(:load=>JSString(\"(function (){this.contentWindow.postMessage({\\\"curriculum\\\":{\\\"name\\\":\\\"University of Houston EE Program 4-year Plan\\\",\\\"curriculum_terms\\\":[{\\\"name\\\":\\\"Term 1\\\",\\\"curriculum_items\\\":[{\\\"curriculum_requisites\\\":[],\\\"name\\\":\\\"MATH 1910\\\",\\\"metrics\\\":{\\\"complexity\\\":15.0,\\\"centrality\\\":0,\\\"blocking factor\\\":10,\\\"delay factor\\\":5.0},\\\"nameSub\\\":\\\"MATH 1910\\\",\\\"id\\\":2860424617853342477,\\\"num\\\":\\\"1910\\\",\\\"credits\\\":3,\\\"prefix\\\":\\\"MATH\\\"},{\\\"curriculum_requisites\\\":[],\\\"name\\\":\\\"CS 111x\\\",\\\"metrics\\\":{\\\"complexity\\\":6.0,\\\"centrality\\\":0,\\\"blocking factor\\\":3,\\\"delay factor\\\":3.0},\\\"nameSub\\\":\\\"CS 111x\\\",\\\"id\\\":4438860497225219087,\\\"num\\\":\\\"111x\\\",\\\"credits\\\":3,\\\"prefix\\\":\\\"CS\\\"},{\\\"curriculum_requisites\\\":[],\\\"name\\\":\\\"CHEM 2090\\\",\\\"metrics\\\":{\\\"complexity\\\":1.0,\\\"centrality\\\":0,\\\"blocking factor\\\":0,\\\"delay factor\\\":1.0},\\\"nameSub\\\":\\\"CHEM 2090\\\",\\\"id\\\":7422469933730204034,\\\"num\\\":\\\"2090\\\",\\\"credits\\\":3,\\\"prefix\\\":\\\"CHEM\\\"},{\\\"curriculum_requisites\\\":[],\\\"name\\\":\\\"ENGRI 1xxx\\\",\\\"metrics\\\":{\\\"complexity\\\":1.0,\\\"centrality\\\":0,\\\"blocking factor\\\":0,\\\"delay factor\\\":1.0},\\\"nameSub\\\":\\\"ENGRI 1xxx\\\",\\\"id\\\":442791780827562763,\\\"num\\\":\\\"1xxx\\\",\\\"credits\\\":3,\\\"prefix\\\":\\\"ENGRI\\\"},{\\\"curriculum_requisites\\\":[],\\\"name\\\":\\\" \\\",\\\"metrics\\\":{\\\"complexity\\\":1.0,\\\"centrality\\\":0,\\\"blocking factor\\\":0,\\\"delay factor\\\":1.0},\\\"nameSub\\\":\\\"1st Yr Writing Seminar\\\",\\\"id\\\":5824016370803301643,\\\"num\\\":\\\"\\\",\\\"credits\\\":3,\\\"prefix\\\":\\\"\\\"}],\\\"id\\\":1},{\\\"name\\\":\\\"Term 2\\\",\\\"curriculum_items\\\":[{\\\"curriculum_requisites\\\":[{\\\"source_id\\\":2860424617853342477,\\\"target_id\\\":1238892148558496518,\\\"type\\\":\\\"prereq\\\"}],\\\"name\\\":\\\"MATH 1920\\\",\\\"metrics\\\":{\\\"complexity\\\":12.0,\\\"centrality\\\":28,\\\"blocking factor\\\":8,\\\"delay factor\\\":4.0},\\\"nameSub\\\":\\\"MATH 1920\\\",\\\"id\\\":1238892148558496518,\\\"num\\\":\\\"1920\\\",\\\"credits\\\":3,\\\"prefix\\\":\\\"MATH\\\"},{\\\"curriculum_requisites\\\":[{\\\"source_id\\\":2860424617853342477,\\\"target_id\\\":8629252422314081316,\\\"type\\\":\\\"prereq\\\"}],\\\"name\\\":\\\"PHYS 1112\\\",\\\"metrics\\\":{\\\"complexity\\\":9.0,\\\"centrality\\\":9,\\\"blocking factor\\\":4,\\\"delay factor\\\":5.0},\\\"nameSub\\\":\\\"PHYS 1112\\\",\\\"id\\\":8629252422314081316,\\\"num\\\":\\\"1112\\\",\\\"credits\\\":3,\\\"prefix\\\":\\\"PHYS\\\"},{\\\"curriculum_requisites\\\":[{\\\"source_id\\\":4438860497225219087,\\\"target_id\\\":8502450016903464997,\\\"type\\\":\\\"prereq\\\"}],\\\"name\\\":\\\"MECE/ENGRD 2300\\\",\\\"metrics\\\":{\\\"complexity\\\":4.0,\\\"centrality\\\":3,\\\"blocking factor\\\":1,\\\"delay factor\\\":3.0},\\\"nameSub\\\":\\\"MECE/ENGRD 2300\\\",\\\"id\\\":8502450016903464997,\\\"num\\\":\\\"2300\\\",\\\"credits\\\":3,\\\"prefix\\\":\\\"MECE/ENGRD\\\"},{\\\"curriculum_requisites\\\":[{\\\"source_id\\\":4438860497225219087,\\\"target_id\\\":2701582232574944581,\\\"type\\\":\\\"prereq\\\"}],\\\"name\\\":\\\" \\\",\\\"metrics\\\":{\\\"complexity\\\":2.0,\\\"centrality\\\":0,\\\"blocking factor\\\":0,\\\"delay factor\\\":2.0},\\\"nameSub\\\":\\\"Outside Tech. Elective\\\",\\\"id\\\":2701582232574944581,\\\"num\\\":\\\"\\\",\\\"credits\\\":3,\\\"prefix\\\":\\\"\\\"},{\\\"curriculum_requisites\\\":[],\\\"name\\\":\\\" \\\",\\\"metrics\\\":{\\\"complexity\\\":1.0,\\\"centrality\\\":0,\\\"blocking factor\\\":0,\\\"delay factor\\\":1.0},\\\"nameSub\\\":\\\"PE\\\",\\\"id\\\":3004148118477990719,\\\"num\\\":\\\"\\\",\\\"credits\\\":3,\\\"prefix\\\":\\\"\\\"}],\\\"id\\\":2},{\\\"name\\\":\\\"Term 3\\\",\\\"curriculum_items\\\":[{\\\"curriculum_requisites\\\":[{\\\"source_id\\\":1238892148558496518,\\\"target_id\\\":5881390984337343440,\\\"type\\\":\\\"prereq\\\"},{\\\"source_id\\\":8629252422314081316,\\\"target_id\\\":5881390984337343440,\\\"type\\\":\\\"prereq\\\"}],\\\"name\\\":\\\"PHYS 2213\\\",\\\"metrics\\\":{\\\"complexity\\\":8.0,\\\"centrality\\\":18,\\\"blocking factor\\\":3,\\\"delay factor\\\":5.0},\\\"nameSub\\\":\\\"PHYS 2213\\\",\\\"id\\\":5881390984337343440,\\\"num\\\":\\\"2213\\\",\\\"credits\\\":3,\\\"prefix\\\":\\\"PHYS\\\"},{\\\"curriculum_requisites\\\":[{\\\"source_id\\\":1238892148558496518,\\\"target_id\\\":4264529605907154296,\\\"type\\\":\\\"prereq\\\"}],\\\"name\\\":\\\"MATH 2930\\\",\\\"metrics\\\":{\\\"complexity\\\":8.0,\\\"centrality\\\":14,\\\"blocking factor\\\":4,\\\"delay factor\\\":4.0},\\\"nameSub\\\":\\\"MATH 2930\\\",\\\"id\\\":4264529605907154296,\\\"num\\\":\\\"2930\\\",\\\"credits\\\":3,\\\"prefix\\\":\\\"MATH\\\"},{\\\"curriculum_requisites\\\":[{\\\"source_id\\\":4264529605907154296,\\\"target_id\\\":2844184663688839040,\\\"type\\\":\\\"coreq\\\"},{\\\"source_id\\\":5881390984337343440,\\\"target_id\\\":2844184663688839040,\\\"type\\\":\\\"coreq\\\"}],\\\"name\\\":\\\"ECE/ENGRD 2100\\\",\\\"metrics\\\":{\\\"complexity\\\":6.0,\\\"centrality\\\":15,\\\"blocking factor\\\":1,\\\"delay factor\\\":5.0},\\\"nameSub\\\":\\\"ECE/ENGRD 2100\\\",\\\"id\\\":2844184663688839040,\\\"num\\\":\\\"2100\\\",\\\"credits\\\":3,\\\"prefix\\\":\\\"ECE/ENGRD\\\"},{\\\"curriculum_requisites\\\":[{\\\"source_id\\\":1238892148558496518,\\\"target_id\\\":1675867110926617872,\\\"type\\\":\\\"prereq\\\"}],\\\"name\\\":\\\"MATH 2940\\\",\\\"metrics\\\":{\\\"complexity\\\":5.0,\\\"centrality\\\":5,\\\"blocking factor\\\":2,\\\"delay factor\\\":3.0},\\\"nameSub\\\":\\\"MATH 2940\\\",\\\"id\\\":1675867110926617872,\\\"num\\\":\\\"2940\\\",\\\"credits\\\":3,\\\"prefix\\\":\\\"MATH\\\"},{\\\"curriculum_requisites\\\":[{\\\"source_id\\\":4264529605907154296,\\\"target_id\\\":2909400198342253741,\\\"type\\\":\\\"coreq\\\"}],\\\"name\\\":\\\"PHYS 2214\\\",\\\"metrics\\\":{\\\"complexity\\\":4.0,\\\"centrality\\\":0,\\\"blocking factor\\\":0,\\\"delay factor\\\":4.0},\\\"nameSub\\\":\\\"PHYS 2214\\\",\\\"id\\\":2909400198342253741,\\\"num\\\":\\\"2214\\\",\\\"credits\\\":3,\\\"prefix\\\":\\\"PHYS\\\"}],\\\"id\\\":3},{\\\"name\\\":\\\"Term 4\\\",\\\"curriculum_items\\\":[{\\\"curriculum_requisites\\\":[{\\\"source_id\\\":4264529605907154296,\\\"target_id\\\":6336361301974639547,\\\"type\\\":\\\"prereq\\\"},{\\\"source_id\\\":1675867110926617872,\\\"target_id\\\":6336361301974639547,\\\"type\\\":\\\"coreq\\\"}],\\\"name\\\":\\\"ECE/ENGRD 2200/2220\\\",\\\"metrics\\\":{\\\"complexity\\\":5.0,\\\"centrality\\\":10,\\\"blocking factor\\\":1,\\\"delay factor\\\":4.0},\\\"nameSub\\\":\\\"ECE 2200/ENGRD 2220\\\",\\\"id\\\":6336361301974639547,\\\"num\\\":\\\"2200/2220\\\",\\\"credits\\\":3,\\\"prefix\\\":\\\"ECE/ENGRD\\\"},{\\\"curriculum_requisites\\\":[{\\\"source_id\\\":5881390984337343440,\\\"target_id\\\":8994290780344555469,\\\"type\\\":\\\"prereq\\\"}],\\\"name\\\":\\\"ENGRD 2xxx\\\",\\\"metrics\\\":{\\\"complexity\\\":4.0,\\\"centrality\\\":0,\\\"blocking factor\\\":0,\\\"delay factor\\\":4.0},\\\"nameSub\\\":\\\"ENGRD 2xxx\\\",\\\"id\\\":8994290780344555469,\\\"num\\\":\\\"2xxx\\\",\\\"credits\\\":3,\\\"prefix\\\":\\\"ENGRD\\\"},{\\\"curriculum_requisites\\\":[],\\\"name\\\":\\\" \\\",\\\"metrics\\\":{\\\"complexity\\\":1.0,\\\"centrality\\\":0,\\\"blocking factor\\\":0,\\\"delay factor\\\":1.0},\\\"nameSub\\\":\\\"1st Yr Writing Seminar\\\",\\\"id\\\":5824016370803301643,\\\"num\\\":\\\"\\\",\\\"credits\\\":3,\\\"prefix\\\":\\\"\\\"},{\\\"curriculum_requisites\\\":[],\\\"name\\\":\\\" \\\",\\\"metrics\\\":{\\\"complexity\\\":1.0,\\\"centrality\\\":0,\\\"blocking factor\\\":0,\\\"delay factor\\\":1.0},\\\"nameSub\\\":\\\"PE\\\",\\\"id\\\":3004148118477990719,\\\"num\\\":\\\"\\\",\\\"credits\\\":3,\\\"prefix\\\":\\\"\\\"},{\\\"curriculum_requisites\\\":[],\\\"name\\\":\\\" \\\",\\\"metrics\\\":{\\\"complexity\\\":1.0,\\\"centrality\\\":0,\\\"blocking factor\\\":0,\\\"delay factor\\\":1.0},\\\"nameSub\\\":\\\"Liberal Studies\\\",\\\"id\\\":4940268582285830954,\\\"num\\\":\\\"\\\",\\\"credits\\\":3,\\\"prefix\\\":\\\"\\\"},{\\\"curriculum_requisites\\\":[],\\\"name\\\":\\\" \\\",\\\"metrics\\\":{\\\"complexity\\\":1.0,\\\"centrality\\\":0,\\\"blocking factor\\\":0,\\\"delay factor\\\":1.0},\\\"nameSub\\\":\\\"Liberal Studies\\\",\\\"id\\\":4940268582285830954,\\\"num\\\":\\\"\\\",\\\"credits\\\":3,\\\"prefix\\\":\\\"\\\"}],\\\"id\\\":4},{\\\"name\\\":\\\"Term 5\\\",\\\"curriculum_items\\\":[{\\\"curriculum_requisites\\\":[{\\\"source_id\\\":2844184663688839040,\\\"target_id\\\":5709302311956589457,\\\"type\\\":\\\"prereq\\\"},{\\\"source_id\\\":6336361301974639547,\\\"target_id\\\":5709302311956589457,\\\"type\\\":\\\"prereq\\\"},{\\\"source_id\\\":8502450016903464997,\\\"target_id\\\":5709302311956589457,\\\"type\\\":\\\"prereq\\\"}],\\\"name\\\":\\\"ECE 3400\\\",\\\"metrics\\\":{\\\"complexity\\\":5.0,\\\"centrality\\\":0,\\\"blocking factor\\\":0,\\\"delay factor\\\":5.0},\\\"nameSub\\\":\\\"ECE 3400\\\",\\\"id\\\":5709302311956589457,\\\"num\\\":\\\"3400\\\",\\\"credits\\\":3,\\\"prefix\\\":\\\"ECE\\\"},{\\\"curriculum_requisites\\\":[],\\\"name\\\":\\\" \\\",\\\"metrics\\\":{\\\"complexity\\\":1.0,\\\"centrality\\\":0,\\\"blocking factor\\\":0,\\\"delay factor\\\":1.0},\\\"nameSub\\\":\\\"ECE Foundations\\\",\\\"id\\\":400792165392060279,\\\"num\\\":\\\"\\\",\\\"credits\\\":3,\\\"prefix\\\":\\\"\\\"},{\\\"curriculum_requisites\\\":[],\\\"name\\\":\\\" \\\",\\\"metrics\\\":{\\\"complexity\\\":1.0,\\\"centrality\\\":0,\\\"blocking factor\\\":0,\\\"delay factor\\\":1.0},\\\"nameSub\\\":\\\"Elective\\\",\\\"id\\\":5566218276427494512,\\\"num\\\":\\\"\\\",\\\"credits\\\":3,\\\"prefix\\\":\\\"\\\"},{\\\"curriculum_requisites\\\":[],\\\"name\\\":\\\" \\\",\\\"metrics\\\":{\\\"complexity\\\":1.0,\\\"centrality\\\":0,\\\"blocking factor\\\":0,\\\"delay factor\\\":1.0},\\\"nameSub\\\":\\\"Liberal Studies\\\",\\\"id\\\":8464616986137667545,\\\"num\\\":\\\"\\\",\\\"credits\\\":3,\\\"prefix\\\":\\\"\\\"},{\\\"curriculum_requisites\\\":[],\\\"name\\\":\\\" \\\",\\\"metrics\\\":{\\\"complexity\\\":1.0,\\\"centrality\\\":0,\\\"blocking factor\\\":0,\\\"delay factor\\\":1.0},\\\"nameSub\\\":\\\"ECE Foundations\\\",\\\"id\\\":3058367666291139559,\\\"num\\\":\\\"\\\",\\\"credits\\\":3,\\\"prefix\\\":\\\"\\\"}],\\\"id\\\":5},{\\\"name\\\":\\\"Term 6\\\",\\\"curriculum_items\\\":[{\\\"curriculum_requisites\\\":[],\\\"name\\\":\\\" \\\",\\\"metrics\\\":{\\\"complexity\\\":1.0,\\\"centrality\\\":0,\\\"blocking factor\\\":0,\\\"delay factor\\\":1.0},\\\"nameSub\\\":\\\"ECE Foundations\\\",\\\"id\\\":3058367666291139559,\\\"num\\\":\\\"\\\",\\\"credits\\\":3,\\\"prefix\\\":\\\"\\\"},{\\\"curriculum_requisites\\\":[],\\\"name\\\":\\\" \\\",\\\"metrics\\\":{\\\"complexity\\\":1.0,\\\"centrality\\\":0,\\\"blocking factor\\\":0,\\\"delay factor\\\":1.0},\\\"nameSub\\\":\\\"Outside Tech. Elective\\\",\\\"id\\\":1757535333827983393,\\\"num\\\":\\\"\\\",\\\"credits\\\":3,\\\"prefix\\\":\\\"\\\"},{\\\"curriculum_requisites\\\":[],\\\"name\\\":\\\" \\\",\\\"metrics\\\":{\\\"complexity\\\":1.0,\\\"centrality\\\":0,\\\"blocking factor\\\":0,\\\"delay factor\\\":1.0},\\\"nameSub\\\":\\\"Elective\\\",\\\"id\\\":4668214588652646988,\\\"num\\\":\\\"\\\",\\\"credits\\\":3,\\\"prefix\\\":\\\"\\\"},{\\\"curriculum_requisites\\\":[],\\\"name\\\":\\\" \\\",\\\"metrics\\\":{\\\"complexity\\\":1.0,\\\"centrality\\\":0,\\\"blocking factor\\\":0,\\\"delay factor\\\":1.0},\\\"nameSub\\\":\\\"Liberal Studies\\\",\\\"id\\\":8464616986137667545,\\\"num\\\":\\\"\\\",\\\"credits\\\":3,\\\"prefix\\\":\\\"\\\"},{\\\"curriculum_requisites\\\":[],\\\"name\\\":\\\" \\\",\\\"metrics\\\":{\\\"complexity\\\":1.0,\\\"centrality\\\":0,\\\"blocking factor\\\":0,\\\"delay factor\\\":1.0},\\\"nameSub\\\":\\\"ECE Elective \\\",\\\"id\\\":6174919176379868120,\\\"num\\\":\\\"\\\",\\\"credits\\\":3,\\\"prefix\\\":\\\"\\\"},{\\\"curriculum_requisites\\\":[],\\\"name\\\":\\\" \\\",\\\"metrics\\\":{\\\"complexity\\\":1.0,\\\"centrality\\\":0,\\\"blocking factor\\\":0,\\\"delay factor\\\":1.0},\\\"nameSub\\\":\\\"ECE Elective\\\",\\\"id\\\":3501367336646347911,\\\"num\\\":\\\"\\\",\\\"credits\\\":3,\\\"prefix\\\":\\\"\\\"}],\\\"id\\\":6},{\\\"name\\\":\\\"Term 7\\\",\\\"curriculum_items\\\":[{\\\"curriculum_requisites\\\":[],\\\"name\\\":\\\" \\\",\\\"metrics\\\":{\\\"complexity\\\":1.0,\\\"centrality\\\":0,\\\"blocking factor\\\":0,\\\"delay factor\\\":1.0},\\\"nameSub\\\":\\\"Outside Tech. Elective\\\",\\\"id\\\":1757535333827983393,\\\"num\\\":\\\"\\\",\\\"credits\\\":3,\\\"prefix\\\":\\\"\\\"},{\\\"curriculum_requisites\\\":[],\\\"name\\\":\\\" \\\",\\\"metrics\\\":{\\\"complexity\\\":1.0,\\\"centrality\\\":0,\\\"blocking factor\\\":0,\\\"delay factor\\\":1.0},\\\"nameSub\\\":\\\"Liberal Studies\\\",\\\"id\\\":8464616986137667545,\\\"num\\\":\\\"\\\",\\\"credits\\\":3,\\\"prefix\\\":\\\"\\\"},{\\\"curriculum_requisites\\\":[],\\\"name\\\":\\\" \\\",\\\"metrics\\\":{\\\"complexity\\\":1.0,\\\"centrality\\\":0,\\\"blocking factor\\\":0,\\\"delay factor\\\":1.0},\\\"nameSub\\\":\\\"ECE Elective\\\",\\\"id\\\":3501367336646347911,\\\"num\\\":\\\"\\\",\\\"credits\\\":3,\\\"prefix\\\":\\\"\\\"},{\\\"curriculum_requisites\\\":[],\\\"name\\\":\\\" \\\",\\\"metrics\\\":{\\\"complexity\\\":1.0,\\\"centrality\\\":0,\\\"blocking factor\\\":0,\\\"delay factor\\\":1.0},\\\"nameSub\\\":\\\"ECE Elective\\\",\\\"id\\\":3501367336646347911,\\\"num\\\":\\\"\\\",\\\"credits\\\":3,\\\"prefix\\\":\\\"\\\"},{\\\"curriculum_requisites\\\":[],\\\"name\\\":\\\" \\\",\\\"metrics\\\":{\\\"complexity\\\":1.0,\\\"centrality\\\":0,\\\"blocking factor\\\":0,\\\"delay factor\\\":1.0},\\\"nameSub\\\":\\\"ECE Elective\\\",\\\"id\\\":3501367336646347911,\\\"num\\\":\\\"\\\",\\\"credits\\\":3,\\\"prefix\\\":\\\"\\\"},{\\\"curriculum_requisites\\\":[],\\\"name\\\":\\\" \\\",\\\"metrics\\\":{\\\"complexity\\\":1.0,\\\"centrality\\\":0,\\\"blocking factor\\\":0,\\\"delay factor\\\":1.0},\\\"nameSub\\\":\\\"Liberal Studies\\\",\\\"id\\\":8464616986137667545,\\\"num\\\":\\\"\\\",\\\"credits\\\":3,\\\"prefix\\\":\\\"\\\"}],\\\"id\\\":7}]}},\\\"*\\\"); window.removeEventListener(\\\"message\\\",window.messageReceived); window.messageReceived=(function (event){return (event.data.curriculum!==undefined) ? (_webIOScope.setObservableValue({\\\"name\\\":\\\"curriculum-data\\\",\\\"scope\\\":\\\"scope-b11ab88e-672d-4148-8a1e-08f16f4e6b6d\\\",\\\"id\\\":\\\"ob_02\\\",\\\"type\\\":\\\"observable\\\"},event.data.curriculum)) : undefined}); return window.addEventListener(\\\"message\\\",window.messageReceived)})\")),:style=>Dict(:padding=>\"0\",:height=>\"100vh\",:margin=>\"0\",:border=>\"none\",:width=>\"100%\")), 1), Dict{String,Tuple{Observables.AbstractObservable,Union{Nothing, Bool}}}(\"curriculum-data\"=>(Observable{Dict{String,Any}} with 1 listeners. Value:\n",
       "Dict{String,Any}(\"curriculum\"=>Dict{String,Any}(\"name\"=>\"University of Houston EE Program 4-year Plan\",\"curriculum_terms\"=>Any[Dict{String,Any}(\"name\"=>\"Term 1\",\"curriculum_items\"=>Any[Dict{String,Any}(\"curriculum_requisites\"=>Any[],\"name\"=>\"MATH 1910\",\"metrics\"=>Dict{String,Any}(\"complexity\"=>15.0,\"centrality\"=>0,\"blocking factor\"=>10,\"delay factor\"=>5.0),\"nameSub\"=>\"MATH 1910\",\"id\"=>2860424617853342477,\"num\"=>\"1910\",\"credits\"=>3,\"prefix\"=>\"MATH\"), Dict{String,Any}(\"curriculum_requisites\"=>Any[],\"name\"=>\"CS 111x\",\"metrics\"=>Dict{String,Any}(\"complexity\"=>6.0,\"centrality\"=>0,\"blocking factor\"=>3,\"delay factor\"=>3.0),\"nameSub\"=>\"CS 111x\",\"id\"=>4438860497225219087,\"num\"=>\"111x\",\"credits\"=>3,\"prefix\"=>\"CS\"), Dict{String,Any}(\"curriculum_requisites\"=>Any[],\"name\"=>\"CHEM 2090\",\"metrics\"=>Dict{String,Any}(\"complexity\"=>1.0,\"centrality\"=>0,\"blocking factor\"=>0,\"delay factor\"=>1.0),\"nameSub\"=>\"CHEM 2090\",\"id\"=>7422469933730204034,\"num\"=>\"2090\",\"credits\"=>3,\"prefix\"=>\"CHEM\"), Dict{String,Any}(\"curriculum_requisites\"=>Any[],\"name\"=>\"ENGRI 1xxx\",\"metrics\"=>Dict{String,Any}(\"complexity\"=>1.0,\"centrality\"=>0,\"blocking factor\"=>0,\"delay factor\"=>1.0),\"nameSub\"=>\"ENGRI 1xxx\",\"id\"=>442791780827562763,\"num\"=>\"1xxx\",\"credits\"=>3,\"prefix\"=>\"ENGRI\"), Dict{String,Any}(\"curriculum_requisites\"=>Any[],\"name\"=>\" \",\"metrics\"=>Dict{String,Any}(\"complexity\"=>1.0,\"centrality\"=>0,\"blocking factor\"=>0,\"delay factor\"=>1.0),\"nameSub\"=>\"1st Yr Writing Seminar\",\"id\"=>5824016370803301643,\"num\"=>\"\",\"credits\"=>3,\"prefix\"=>\"\")],\"id\"=>1), Dict{String,Any}(\"name\"=>\"Term 2\",\"curriculum_items\"=>Any[Dict{String,Any}(\"curriculum_requisites\"=>Any[Dict{String,Any}(\"source_id\"=>2860424617853342477,\"target_id\"=>1238892148558496518,\"type\"=>\"prereq\")],\"name\"=>\"MATH 1920\",\"metrics\"=>Dict{String,Any}(\"complexity\"=>12.0,\"centrality\"=>28,\"blocking factor\"=>8,\"delay factor\"=>4.0),\"nameSub\"=>\"MATH 1920\",\"id\"=>1238892148558496518,\"num\"=>\"1920\",\"credits\"=>3,\"prefix\"=>\"MATH\"), Dict{String,Any}(\"curriculum_requisites\"=>Any[Dict{String,Any}(\"source_id\"=>2860424617853342477,\"target_id\"=>8629252422314081316,\"type\"=>\"prereq\")],\"name\"=>\"PHYS 1112\",\"metrics\"=>Dict{String,Any}(\"complexity\"=>9.0,\"centrality\"=>9,\"blocking factor\"=>4,\"delay factor\"=>5.0),\"nameSub\"=>\"PHYS 1112\",\"id\"=>8629252422314081316,\"num\"=>\"1112\",\"credits\"=>3,\"prefix\"=>\"PHYS\"), Dict{String,Any}(\"curriculum_requisites\"=>Any[Dict{String,Any}(\"source_id\"=>4438860497225219087,\"target_id\"=>8502450016903464997,\"type\"=>\"prereq\")],\"name\"=>\"MECE/ENGRD 2300\",\"metrics\"=>Dict{String,Any}(\"complexity\"=>4.0,\"centrality\"=>3,\"blocking factor\"=>1,\"delay factor\"=>3.0),\"nameSub\"=>\"MECE/ENGRD 2300\",\"id\"=>8502450016903464997,\"num\"=>\"2300\",\"credits\"=>3,\"prefix\"=>\"MECE/ENGRD\"), Dict{String,Any}(\"curriculum_requisites\"=>Any[Dict{String,Any}(\"source_id\"=>4438860497225219087,\"target_id\"=>2701582232574944581,\"type\"=>\"prereq\")],\"name\"=>\" \",\"metrics\"=>Dict{String,Any}(\"complexity\"=>2.0,\"centrality\"=>0,\"blocking factor\"=>0,\"delay factor\"=>2.0),\"nameSub\"=>\"Outside Tech. Elective\",\"id\"=>2701582232574944581,\"num\"=>\"\",\"credits\"=>3,\"prefix\"=>\"\"), Dict{String,Any}(\"curriculum_requisites\"=>Any[],\"name\"=>\" \",\"metrics\"=>Dict{String,Any}(\"complexity\"=>1.0,\"centrality\"=>0,\"blocking factor\"=>0,\"delay factor\"=>1.0),\"nameSub\"=>\"PE\",\"id\"=>3004148118477990719,\"num\"=>\"\",\"credits\"=>3,\"prefix\"=>\"\")],\"id\"=>2), Dict{String,Any}(\"name\"=>\"Term 3\",\"curriculum_items\"=>Any[Dict{String,Any}(\"curriculum_requisites\"=>Any[Dict{String,Any}(\"source_id\"=>1238892148558496518,\"target_id\"=>5881390984337343440,\"type\"=>\"prereq\"), Dict{String,Any}(\"source_id\"=>8629252422314081316,\"target_id\"=>5881390984337343440,\"type\"=>\"prereq\")],\"name\"=>\"PHYS 2213\",\"metrics\"=>Dict{String,Any}(\"complexity\"=>8.0,\"centrality\"=>18,\"blocking factor\"=>3,\"delay factor\"=>5.0),\"nameSub\"=>\"PHYS 2213\",\"id\"=>5881390984337343440,\"num\"=>\"2213\",\"credits\"=>3,\"prefix\"=>\"PHYS\"), Dict{String,Any}(\"curriculum_requisites\"=>Any[Dict{String,Any}(\"source_id\"=>1238892148558496518,\"target_id\"=>4264529605907154296,\"type\"=>\"prereq\")],\"name\"=>\"MATH 2930\",\"metrics\"=>Dict{String,Any}(\"complexity\"=>8.0,\"centrality\"=>14,\"blocking factor\"=>4,\"delay factor\"=>4.0),\"nameSub\"=>\"MATH 2930\",\"id\"=>4264529605907154296,\"num\"=>\"2930\",\"credits\"=>3,\"prefix\"=>\"MATH\"), Dict{String,Any}(\"curriculum_requisites\"=>Any[Dict{String,Any}(\"source_id\"=>4264529605907154296,\"target_id\"=>2844184663688839040,\"type\"=>\"coreq\"), Dict{String,Any}(\"source_id\"=>5881390984337343440,\"target_id\"=>2844184663688839040,\"type\"=>\"coreq\")],\"name\"=>\"ECE/ENGRD 2100\",\"metrics\"=>Dict{String,Any}(\"complexity\"=>6.0,\"centrality\"=>15,\"blocking factor\"=>1,\"delay factor\"=>5.0),\"nameSub\"=>\"ECE/ENGRD 2100\",\"id\"=>2844184663688839040,\"num\"=>\"2100\",\"credits\"=>3,\"prefix\"=>\"ECE/ENGRD\"), Dict{String,Any}(\"curriculum_requisites\"=>Any[Dict{String,Any}(\"source_id\"=>1238892148558496518,\"target_id\"=>1675867110926617872,\"type\"=>\"prereq\")],\"name\"=>\"MATH 2940\",\"metrics\"=>Dict{String,Any}(\"complexity\"=>5.0,\"centrality\"=>5,\"blocking factor\"=>2,\"delay factor\"=>3.0),\"nameSub\"=>\"MATH 2940\",\"id\"=>1675867110926617872,\"num\"=>\"2940\",\"credits\"=>3,\"prefix\"=>\"MATH\"), Dict{String,Any}(\"curriculum_requisites\"=>Any[Dict{String,Any}(\"source_id\"=>4264529605907154296,\"target_id\"=>2909400198342253741,\"type\"=>\"coreq\")],\"name\"=>\"PHYS 2214\",\"metrics\"=>Dict{String,Any}(\"complexity\"=>4.0,\"centrality\"=>0,\"blocking factor\"=>0,\"delay factor\"=>4.0),\"nameSub\"=>\"PHYS 2214\",\"id\"=>2909400198342253741,\"num\"=>\"2214\",\"credits\"=>3,\"prefix\"=>\"PHYS\")],\"id\"=>3), Dict{String,Any}(\"name\"=>\"Term 4\",\"curriculum_items\"=>Any[Dict{String,Any}(\"curriculum_requisites\"=>Any[Dict{String,Any}(\"source_id\"=>4264529605907154296,\"target_id\"=>6336361301974639547,\"type\"=>\"prereq\"), Dict{String,Any}(\"source_id\"=>1675867110926617872,\"target_id\"=>6336361301974639547,\"type\"=>\"coreq\")],\"name\"=>\"ECE/ENGRD 2200/2220\",\"metrics\"=>Dict{String,Any}(\"complexity\"=>5.0,\"centrality\"=>10,\"blocking factor\"=>1,\"delay factor\"=>4.0),\"nameSub\"=>\"ECE 2200/ENGRD 2220\",\"id\"=>6336361301974639547,\"num\"=>\"2200/2220\",\"credits\"=>3,\"prefix\"=>\"ECE/ENGRD\"), Dict{String,Any}(\"curriculum_requisites\"=>Any[Dict{String,Any}(\"source_id\"=>5881390984337343440,\"target_id\"=>8994290780344555469,\"type\"=>\"prereq\")],\"name\"=>\"ENGRD 2xxx\",\"metrics\"=>Dict{String,Any}(\"complexity\"=>4.0,\"centrality\"=>0,\"blocking factor\"=>0,\"delay factor\"=>4.0),\"nameSub\"=>\"ENGRD 2xxx\",\"id\"=>8994290780344555469,\"num\"=>\"2xxx\",\"credits\"=>3,\"prefix\"=>\"ENGRD\"), Dict{String,Any}(\"curriculum_requisites\"=>Any[],\"name\"=>\" \",\"metrics\"=>Dict{String,Any}(\"complexity\"=>1.0,\"centrality\"=>0,\"blocking factor\"=>0,\"delay factor\"=>1.0),\"nameSub\"=>\"1st Yr Writing Seminar\",\"id\"=>5824016370803301643,\"num\"=>\"\",\"credits\"=>3,\"prefix\"=>\"\"), Dict{String,Any}(\"curriculum_requisites\"=>Any[],\"name\"=>\" \",\"metrics\"=>Dict{String,Any}(\"complexity\"=>1.0,\"centrality\"=>0,\"blocking factor\"=>0,\"delay factor\"=>1.0),\"nameSub\"=>\"PE\",\"id\"=>3004148118477990719,\"num\"=>\"\",\"credits\"=>3,\"prefix\"=>\"\"), Dict{String,Any}(\"curriculum_requisites\"=>Any[],\"name\"=>\" \",\"metrics\"=>Dict{String,Any}(\"complexity\"=>1.0,\"centrality\"=>0,\"blocking factor\"=>0,\"delay factor\"=>1.0),\"nameSub\"=>\"Liberal Studies\",\"id\"=>4940268582285830954,\"num\"=>\"\",\"credits\"=>3,\"prefix\"=>\"\"), Dict{String,Any}(\"curriculum_requisites\"=>Any[],\"name\"=>\" \",\"metrics\"=>Dict{String,Any}(\"complexity\"=>1.0,\"centrality\"=>0,\"blocking factor\"=>0,\"delay factor\"=>1.0),\"nameSub\"=>\"Liberal Studies\",\"id\"=>4940268582285830954,\"num\"=>\"\",\"credits\"=>3,\"prefix\"=>\"\")],\"id\"=>4), Dict{String,Any}(\"name\"=>\"Term 5\",\"curriculum_items\"=>Any[Dict{String,Any}(\"curriculum_requisites\"=>Any[Dict{String,Any}(\"source_id\"=>2844184663688839040,\"target_id\"=>5709302311956589457,\"type\"=>\"prereq\"), Dict{String,Any}(\"source_id\"=>6336361301974639547,\"target_id\"=>5709302311956589457,\"type\"=>\"prereq\"), Dict{String,Any}(\"source_id\"=>8502450016903464997,\"target_id\"=>5709302311956589457,\"type\"=>\"prereq\")],\"name\"=>\"ECE 3400\",\"metrics\"=>Dict{String,Any}(\"complexity\"=>5.0,\"centrality\"=>0,\"blocking factor\"=>0,\"delay factor\"=>5.0),\"nameSub\"=>\"ECE 3400\",\"id\"=>5709302311956589457,\"num\"=>\"3400\",\"credits\"=>3,\"prefix\"=>\"ECE\"), Dict{String,Any}(\"curriculum_requisites\"=>Any[],\"name\"=>\" \",\"metrics\"=>Dict{String,Any}(\"complexity\"=>1.0,\"centrality\"=>0,\"blocking factor\"=>0,\"delay factor\"=>1.0),\"nameSub\"=>\"ECE Foundations\",\"id\"=>400792165392060279,\"num\"=>\"\",\"credits\"=>3,\"prefix\"=>\"\"), Dict{String,Any}(\"curriculum_requisites\"=>Any[],\"name\"=>\" \",\"metrics\"=>Dict{String,Any}(\"complexity\"=>1.0,\"centrality\"=>0,\"blocking factor\"=>0,\"delay factor\"=>1.0),\"nameSub\"=>\"Elective\",\"id\"=>5566218276427494512,\"num\"=>\"\",\"credits\"=>3,\"prefix\"=>\"\"), Dict{String,Any}(\"curriculum_requisites\"=>Any[],\"name\"=>\" \",\"metrics\"=>Dict{String,Any}(\"complexity\"=>1.0,\"centrality\"=>0,\"blocking factor\"=>0,\"delay factor\"=>1.0),\"nameSub\"=>\"Liberal Studies\",\"id\"=>8464616986137667545,\"num\"=>\"\",\"credits\"=>3,\"prefix\"=>\"\"), Dict{String,Any}(\"curriculum_requisites\"=>Any[],\"name\"=>\" \",\"metrics\"=>Dict{String,Any}(\"complexity\"=>1.0,\"centrality\"=>0,\"blocking factor\"=>0,\"delay factor\"=>1.0),\"nameSub\"=>\"ECE Foundations\",\"id\"=>3058367666291139559,\"num\"=>\"\",\"credits\"=>3,\"prefix\"=>\"\")],\"id\"=>5), Dict{String,Any}(\"name\"=>\"Term 6\",\"curriculum_items\"=>Any[Dict{String,Any}(\"curriculum_requisites\"=>Any[],\"name\"=>\" \",\"metrics\"=>Dict{String,Any}(\"complexity\"=>1.0,\"centrality\"=>0,\"blocking factor\"=>0,\"delay factor\"=>1.0),\"nameSub\"=>\"ECE Foundations\",\"id\"=>3058367666291139559,\"num\"=>\"\",\"credits\"=>3,\"prefix\"=>\"\"), Dict{String,Any}(\"curriculum_requisites\"=>Any[],\"name\"=>\" \",\"metrics\"=>Dict{String,Any}(\"complexity\"=>1.0,\"centrality\"=>0,\"blocking factor\"=>0,\"delay factor\"=>1.0),\"nameSub\"=>\"Outside Tech. Elective\",\"id\"=>1757535333827983393,\"num\"=>\"\",\"credits\"=>3,\"prefix\"=>\"\"), Dict{String,Any}(\"curriculum_requisites\"=>Any[],\"name\"=>\" \",\"metrics\"=>Dict{String,Any}(\"complexity\"=>1.0,\"centrality\"=>0,\"blocking factor\"=>0,\"delay factor\"=>1.0),\"nameSub\"=>\"Elective\",\"id\"=>4668214588652646988,\"num\"=>\"\",\"credits\"=>3,\"prefix\"=>\"\"), Dict{String,Any}(\"curriculum_requisites\"=>Any[],\"name\"=>\" \",\"metrics\"=>Dict{String,Any}(\"complexity\"=>1.0,\"centrality\"=>0,\"blocking factor\"=>0,\"delay factor\"=>1.0),\"nameSub\"=>\"Liberal Studies\",\"id\"=>8464616986137667545,\"num\"=>\"\",\"credits\"=>3,\"prefix\"=>\"\"), Dict{String,Any}(\"curriculum_requisites\"=>Any[],\"name\"=>\" \",\"metrics\"=>Dict{String,Any}(\"complexity\"=>1.0,\"centrality\"=>0,\"blocking factor\"=>0,\"delay factor\"=>1.0),\"nameSub\"=>\"ECE Elective \",\"id\"=>6174919176379868120,\"num\"=>\"\",\"credits\"=>3,\"prefix\"=>\"\"), Dict{String,Any}(\"curriculum_requisites\"=>Any[],\"name\"=>\" \",\"metrics\"=>Dict{String,Any}(\"complexity\"=>1.0,\"centrality\"=>0,\"blocking factor\"=>0,\"delay factor\"=>1.0),\"nameSub\"=>\"ECE Elective\",\"id\"=>3501367336646347911,\"num\"=>\"\",\"credits\"=>3,\"prefix\"=>\"\")],\"id\"=>6), Dict{String,Any}(\"name\"=>\"Term 7\",\"curriculum_items\"=>Any[Dict{String,Any}(\"curriculum_requisites\"=>Any[],\"name\"=>\" \",\"metrics\"=>Dict{String,Any}(\"complexity\"=>1.0,\"centrality\"=>0,\"blocking factor\"=>0,\"delay factor\"=>1.0),\"nameSub\"=>\"Outside Tech. Elective\",\"id\"=>1757535333827983393,\"num\"=>\"\",\"credits\"=>3,\"prefix\"=>\"\"), Dict{String,Any}(\"curriculum_requisites\"=>Any[],\"name\"=>\" \",\"metrics\"=>Dict{String,Any}(\"complexity\"=>1.0,\"centrality\"=>0,\"blocking factor\"=>0,\"delay factor\"=>1.0),\"nameSub\"=>\"Liberal Studies\",\"id\"=>8464616986137667545,\"num\"=>\"\",\"credits\"=>3,\"prefix\"=>\"\"), Dict{String,Any}(\"curriculum_requisites\"=>Any[],\"name\"=>\" \",\"metrics\"=>Dict{String,Any}(\"complexity\"=>1.0,\"centrality\"=>0,\"blocking factor\"=>0,\"delay factor\"=>1.0),\"nameSub\"=>\"ECE Elective\",\"id\"=>3501367336646347911,\"num\"=>\"\",\"credits\"=>3,\"prefix\"=>\"\"), Dict{String,Any}(\"curriculum_requisites\"=>Any[],\"name\"=>\" \",\"metrics\"=>Dict{String,Any}(\"complexity\"=>1.0,\"centrality\"=>0,\"blocking factor\"=>0,\"delay factor\"=>1.0),\"nameSub\"=>\"ECE Elective\",\"id\"=>3501367336646347911,\"num\"=>\"\",\"credits\"=>3,\"prefix\"=>\"\"), Dict{String,Any}(\"curriculum_requisites\"=>Any[],\"name\"=>\" \",\"metrics\"=>Dict{String,Any}(\"complexity\"=>1.0,\"centrality\"=>0,\"blocking factor\"=>0,\"delay factor\"=>1.0),\"nameSub\"=>\"ECE Elective\",\"id\"=>3501367336646347911,\"num\"=>\"\",\"credits\"=>3,\"prefix\"=>\"\"), Dict{String,Any}(\"curriculum_requisites\"=>Any[],\"name\"=>\" \",\"metrics\"=>Dict{String,Any}(\"complexity\"=>1.0,\"centrality\"=>0,\"blocking factor\"=>0,\"delay factor\"=>1.0),\"nameSub\"=>\"Liberal Studies\",\"id\"=>8464616986137667545,\"num\"=>\"\",\"credits\"=>3,\"prefix\"=>\"\")],\"id\"=>7)])), nothing)), Set(String[]), nothing, Any[], Dict{Any,Any}(), WebIO.ConnectionPool(Channel{Any}(sz_max:9223372036854775807,sz_curr:0), Set(WebIO.AbstractConnection[]), Channel{WebIO.AbstractConnection}(sz_max:32,sz_curr:0)))"
      ]
     },
     "execution_count": 4,
     "metadata": {
      "application/vnd.webio.node+json": {
       "kernelId": "78f68fa4-f0f9-4cff-ac9b-b8cba23bfb21"
      }
     },
     "output_type": "execute_result"
    }
   ],
   "source": [
    "#Activate CurricularAnalytics package and add it\n",
    "if split(pwd(),Base.Filesystem.path_separator)[end] != \"CurricularAnalytics.jl\"\n",
    "    cd(\"../..\")\n",
    "end\n",
    "println(\"Current directory: \" * split(pwd(),\"\\\\\")[end])\n",
    "using Pkg\n",
    "pkg\"activate .\"\n",
    "using CurricularAnalytics\n",
    "#using TikzGraphs\n",
    "#using LightGraphs\n",
    "\n",
    "#read Classes from csv file and return list of classes and create curriculum\n",
    "c, _ = read_csv(\"examples/CornellECECources.csv\")\n",
    "curric = Curriculum(\"University of Houston EE Program\", c)\n",
    "#calculate complexity to order courses\n",
    "complexity(curric)\n",
    "#Get indexes of cources after sorting according to the complexity score\n",
    "sorted_index = sortperm(curric.metrics[\"complexity\"][2], rev=true)\n",
    "#Input maximum credit allowed each term (in UKY it is 19)\n",
    "max_credit_each_term = 19\n",
    "#total number of credits\n",
    "curric_total_credit=total_credits(curric)\n",
    "println(curric_total_credit)\n",
    "#to round to upper limit \n",
    "min_term =floor(Int, (curric_total_credit + max_credit_each_term - 1)/max_credit_each_term)\n",
    "println(\"Minimum of $min_term terms needed to complete this curriculum\")\n",
    "#Get optimum terms according to the req\n",
    "terms = create_terms(curric, min_term, max_credit_each_term)\n",
    "\n",
    "# Output degree plan\n",
    "errors = IOBuffer()\n",
    "if isvalid_curriculum(curric, errors)\n",
    "    println(\"Curriculum $(curric.name) is valid\")\n",
    "    println(\"  delay factor = $(delay_factor(curric))\")\n",
    "    println(\"  blocking factor = $(blocking_factor(curric))\")\n",
    "    println(\"  centrality factor = $(centrality(curric))\")\n",
    "    println(\"  curricular complexity = $(complexity(curric))\")\n",
    "    dp = DegreePlan(\"University of Houston EE Program 4-year Plan\", curric, terms)\n",
    "    take!(errors) # clear the IO buffer\n",
    "    if isvalid_degree_plan(dp, errors)\n",
    "        println(\"Degree plan $(dp.name) is valid\")\n",
    "    else\n",
    "        println(\"Degree plan $(dp.name) is not valid:\")\n",
    "        print(String(take!(errors)))\n",
    "        println(\"\\nDiplaying degree plan for debugging purposes...\")\n",
    "    end\n",
    "    visualize_jupyter(dp)\n",
    "\n",
    "else # invalid curriculum\n",
    "    println(\"Curriculum $(curric.name) is not valid:\")\n",
    "    print(String(take!(errors)))\n",
    "end\n"
   ]
  },
  {
   "cell_type": "code",
   "execution_count": 3,
   "metadata": {},
   "outputs": [
    {
     "data": {
      "text/plain": [
       "isnotebook (generic function with 1 method)"
      ]
     },
     "execution_count": 3,
     "metadata": {},
     "output_type": "execute_result"
    }
   ],
   "source": [
    "function isnotebook()\n",
    "    try\n",
    "        shell = get_ipython().__class__.__name__\n",
    "        println(shell)\n",
    "        if shell == \"ZMQInteractiveShell\"\n",
    "            return true   # Jupyter notebook or qtconsole\n",
    "        elseif shell == \"TerminalInteractiveShell\"\n",
    "            return false  # Terminal running IPython\n",
    "        else\n",
    "            return false  # Other type (?)\n",
    "        end\n",
    "    catch\n",
    "        return false      # Probably standard Python interpreter\n",
    "    end\n",
    "end"
   ]
  },
  {
   "cell_type": "code",
   "execution_count": 5,
   "metadata": {},
   "outputs": [
    {
     "name": "stdout",
     "output_type": "stream",
     "text": [
      "false"
     ]
    }
   ],
   "source": [
    "print(isnotebook())"
   ]
  },
  {
   "cell_type": "code",
   "execution_count": 6,
   "metadata": {},
   "outputs": [
    {
     "ename": "UndefVarError",
     "evalue": "UndefVarError: get_ipython not defined",
     "output_type": "error",
     "traceback": [
      "UndefVarError: get_ipython not defined",
      "",
      "Stacktrace:",
      " [1] top-level scope at In[6]:1"
     ]
    }
   ],
   "source": [
    "println(get_ipython())"
   ]
  },
  {
   "cell_type": "code",
   "execution_count": null,
   "metadata": {
    "collapsed": true
   },
   "outputs": [],
   "source": []
  }
 ],
 "metadata": {
  "@webio": {
   "lastCommId": "FCC94464933E4A048C1FCC801FEE9876",
   "lastKernelId": "78f68fa4-f0f9-4cff-ac9b-b8cba23bfb21"
  },
  "kernelspec": {
   "display_name": "Julia 1.0.1",
   "language": "julia",
   "name": "julia-1.0"
  },
  "language_info": {
   "file_extension": ".jl",
   "mimetype": "application/julia",
   "name": "julia",
   "version": "1.0.1"
  }
 },
 "nbformat": 4,
 "nbformat_minor": 2
}

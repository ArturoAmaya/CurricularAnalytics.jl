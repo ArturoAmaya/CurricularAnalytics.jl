{
 "cells": [
  {
   "cell_type": "code",
   "execution_count": 2,
   "metadata": {
    "scrolled": false
   },
   "outputs": [
    {
     "name": "stdout",
     "output_type": "stream",
     "text": [
      "Current directory: CurricularAnalytics.jl\n",
      "114\n",
      "Minimum of 6 terms needed to complete this curriculum\n",
      "Could not create a plan for 6 term, try for one more term\n",
      "Curriculum University of Houston EE Program is valid\n",
      "  delay factor = (80.0, [1.0, 5.0, 1.0, 1.0, 1.0, 5.0, 4.0, 3.0, 1.0, 1.0, 5.0, 4.0, 5.0, 3.0, 1.0, 4.0, 3.0, 4.0, 4.0, 1.0, 1.0, 1.0, 2.0, 5.0, 1.0, 1.0, 1.0, 1.0, 1.0, 1.0, 1.0, 1.0, 1.0, 1.0, 1.0, 1.0, 1.0, 1.0])\n",
      "  blocking factor = (37, [0, 10, 0, 0, 0, 4, 8, 3, 0, 0, 3, 4, 1, 1, 0, 0, 2, 0, 1, 0, 0, 0, 0, 0, 0, 0, 0, 0, 0, 0, 0, 0, 0, 0, 0, 0, 0, 0])\n",
      "  centrality factor = (102, [0, 0, 0, 0, 0, 9, 28, 0, 0, 0, 18, 14, 15, 3, 0, 0, 5, 0, 10, 0, 0, 0, 0, 0, 0, 0, 0, 0, 0, 0, 0, 0, 0, 0, 0, 0, 0, 0])\n",
      "  curricular complexity = (117.0, Number[1.0, 15.0, 1.0, 1.0, 1.0, 9.0, 12.0, 6.0, 1.0, 1.0, 8.0, 8.0, 6.0, 4.0, 1.0, 4.0, 5.0, 4.0, 5.0, 1.0, 1.0, 1.0, 2.0, 5.0, 1.0, 1.0, 1.0, 1.0, 1.0, 1.0, 1.0, 1.0, 1.0, 1.0, 1.0, 1.0, 1.0, 1.0])\n",
      "Degree plan Cornell EE Program 4-year Plan is not valid:\n",
      "\n",
      "-Course 1st Yr Writing Seminar is listed multiple times in degree plan\n",
      "-Course PE is listed multiple times in degree plan\n",
      "-Course Liberal Studies is listed multiple times in degree plan\n",
      "-Course Liberal Studies is listed multiple times in degree plan\n",
      "-Course ECE Foundations is listed multiple times in degree plan\n",
      "-Course ECE Foundations is listed multiple times in degree plan\n",
      "-Course Outside Tech. Elective is listed multiple times in degree plan\n",
      "-Course Elective is listed multiple times in degree plan\n",
      "-Course Liberal Studies is listed multiple times in degree plan\n",
      "-Course Outside Tech. Elective is listed multiple times in degree plan\n",
      "-Course Liberal Studies is listed multiple times in degree plan\n",
      "-Course ECE Elective is listed multiple times in degree plan\n",
      "-Course ECE Elective is listed multiple times in degree plan\n",
      "-Course ECE Elective is listed multiple times in degree plan\n",
      "-Course Liberal Studies is listed multiple times in degree plan\n",
      "Diplaying degree plan for debugging purposes...\n"
     ]
    },
    {
     "name": "stderr",
     "output_type": "stream",
     "text": [
      "┌ Info: Accept (0):  🔗    0↑     0↓    1s 127.0.0.1:8156:8156 ≣16\n",
      "└ @ HTTP.Servers C:\\Users\\orhan\\.julia\\packages\\HTTP\\YjRCz\\src\\Servers.jl:343\n"
     ]
    },
    {
     "data": {
      "application/vnd.webio.node+json": {
       "children": [
        {
         "children": [
          ""
         ],
         "instanceArgs": {
          "namespace": "html",
          "tag": "iframe"
         },
         "nodeType": "DOM",
         "props": {
          "events": {
           "load": "(function (){this.contentWindow.postMessage({\"options\":{\"hideTerms\":false,\"edit\":true},\"curriculum\":{\"name\":\"University of Houston EE Program\",\"dp_name\":\"Cornell EE Program 4-year Plan\",\"curriculum_terms\":[{\"name\":\"Term 1\",\"curriculum_items\":[{\"curriculum_requisites\":[],\"name\":\"MATH 1910\",\"metrics\":{\"complexity\":15.0,\"centrality\":0,\"blocking factor\":10,\"delay factor\":5.0},\"nameSub\":\"MATH 1910\",\"id\":8313278572805838038,\"credits\":3},{\"curriculum_requisites\":[],\"name\":\"CS 111x\",\"metrics\":{\"complexity\":6.0,\"centrality\":0,\"blocking factor\":3,\"delay factor\":3.0},\"nameSub\":\"CS 111x\",\"id\":5064249191167198867,\"credits\":3},{\"curriculum_requisites\":[],\"name\":\"CHEM 2090\",\"metrics\":{\"complexity\":1.0,\"centrality\":0,\"blocking factor\":0,\"delay factor\":1.0},\"nameSub\":\"CHEM 2090\",\"id\":8160942477924229752,\"credits\":3},{\"curriculum_requisites\":[],\"name\":\"ENGRI 1xxx\",\"metrics\":{\"complexity\":1.0,\"centrality\":0,\"blocking factor\":0,\"delay factor\":1.0},\"nameSub\":\"ENGRI 1xxx\",\"id\":2875301839579592813,\"credits\":3},{\"curriculum_requisites\":[],\"name\":\" \",\"metrics\":{\"complexity\":1.0,\"centrality\":0,\"blocking factor\":0,\"delay factor\":1.0},\"nameSub\":\"1st Yr Writing Seminar\",\"id\":6947838602140191202,\"credits\":3}],\"id\":1},{\"name\":\"Term 2\",\"curriculum_items\":[{\"curriculum_requisites\":[{\"source_id\":8313278572805838038,\"target_id\":3190317415296560580,\"type\":\"prereq\"}],\"name\":\"MATH 1920\",\"metrics\":{\"complexity\":12.0,\"centrality\":28,\"blocking factor\":8,\"delay factor\":4.0},\"nameSub\":\"MATH 1920\",\"id\":3190317415296560580,\"credits\":3},{\"curriculum_requisites\":[{\"source_id\":8313278572805838038,\"target_id\":1975022711718740449,\"type\":\"prereq\"}],\"name\":\"PHYS 1112\",\"metrics\":{\"complexity\":9.0,\"centrality\":9,\"blocking factor\":4,\"delay factor\":5.0},\"nameSub\":\"PHYS 1112\",\"id\":1975022711718740449,\"credits\":3},{\"curriculum_requisites\":[{\"source_id\":5064249191167198867,\"target_id\":1636238990205895497,\"type\":\"prereq\"}],\"name\":\"MECE/ENGRD 2300\",\"metrics\":{\"complexity\":4.0,\"centrality\":3,\"blocking factor\":1,\"delay factor\":3.0},\"nameSub\":\"MECE/ENGRD 2300\",\"id\":1636238990205895497,\"credits\":3},{\"curriculum_requisites\":[{\"source_id\":5064249191167198867,\"target_id\":8246304382802822903,\"type\":\"prereq\"}],\"name\":\" \",\"metrics\":{\"complexity\":2.0,\"centrality\":0,\"blocking factor\":0,\"delay factor\":2.0},\"nameSub\":\"Outside Tech. Elective\",\"id\":8246304382802822903,\"credits\":3},{\"curriculum_requisites\":[],\"name\":\" \",\"metrics\":{\"complexity\":1.0,\"centrality\":0,\"blocking factor\":0,\"delay factor\":1.0},\"nameSub\":\"PE\",\"id\":6570063555578612175,\"credits\":3}],\"id\":2},{\"name\":\"Term 3\",\"curriculum_items\":[{\"curriculum_requisites\":[{\"source_id\":1975022711718740449,\"target_id\":5894592768647373025,\"type\":\"prereq\"},{\"source_id\":3190317415296560580,\"target_id\":5894592768647373025,\"type\":\"prereq\"}],\"name\":\"PHYS 2213\",\"metrics\":{\"complexity\":8.0,\"centrality\":18,\"blocking factor\":3,\"delay factor\":5.0},\"nameSub\":\"PHYS 2213\",\"id\":5894592768647373025,\"credits\":3},{\"curriculum_requisites\":[{\"source_id\":3190317415296560580,\"target_id\":5080248561481203972,\"type\":\"prereq\"}],\"name\":\"MATH 2930\",\"metrics\":{\"complexity\":8.0,\"centrality\":14,\"blocking factor\":4,\"delay factor\":4.0},\"nameSub\":\"MATH 2930\",\"id\":5080248561481203972,\"credits\":3},{\"curriculum_requisites\":[{\"source_id\":5894592768647373025,\"target_id\":3315950941386074789,\"type\":\"coreq\"},{\"source_id\":5080248561481203972,\"target_id\":3315950941386074789,\"type\":\"coreq\"}],\"name\":\"ECE/ENGRD 2100\",\"metrics\":{\"complexity\":6.0,\"centrality\":15,\"blocking factor\":1,\"delay factor\":5.0},\"nameSub\":\"ECE/ENGRD 2100\",\"id\":3315950941386074789,\"credits\":3},{\"curriculum_requisites\":[{\"source_id\":3190317415296560580,\"target_id\":253672194665637221,\"type\":\"prereq\"}],\"name\":\"MATH 2940\",\"metrics\":{\"complexity\":5.0,\"centrality\":5,\"blocking factor\":2,\"delay factor\":3.0},\"nameSub\":\"MATH 2940\",\"id\":253672194665637221,\"credits\":3},{\"curriculum_requisites\":[{\"source_id\":5080248561481203972,\"target_id\":2116344654823900524,\"type\":\"coreq\"}],\"name\":\"PHYS 2214\",\"metrics\":{\"complexity\":4.0,\"centrality\":0,\"blocking factor\":0,\"delay factor\":4.0},\"nameSub\":\"PHYS 2214\",\"id\":2116344654823900524,\"credits\":3}],\"id\":3},{\"name\":\"Term 4\",\"curriculum_items\":[{\"curriculum_requisites\":[{\"source_id\":5080248561481203972,\"target_id\":7499028772336587772,\"type\":\"prereq\"},{\"source_id\":253672194665637221,\"target_id\":7499028772336587772,\"type\":\"coreq\"}],\"name\":\"ECE/ENGRD 2200/2220\",\"metrics\":{\"complexity\":5.0,\"centrality\":10,\"blocking factor\":1,\"delay factor\":4.0},\"nameSub\":\"ECE 2200/ENGRD 2220\",\"id\":7499028772336587772,\"credits\":3},{\"curriculum_requisites\":[{\"source_id\":5894592768647373025,\"target_id\":258541464445700654,\"type\":\"prereq\"}],\"name\":\"ENGRD 2xxx\",\"metrics\":{\"complexity\":4.0,\"centrality\":0,\"blocking factor\":0,\"delay factor\":4.0},\"nameSub\":\"ENGRD 2xxx\",\"id\":258541464445700654,\"credits\":3},{\"curriculum_requisites\":[],\"name\":\" \",\"metrics\":{\"complexity\":1.0,\"centrality\":0,\"blocking factor\":0,\"delay factor\":1.0},\"nameSub\":\"1st Yr Writing Seminar\",\"id\":6947838602140191202,\"credits\":3},{\"curriculum_requisites\":[],\"name\":\" \",\"metrics\":{\"complexity\":1.0,\"centrality\":0,\"blocking factor\":0,\"delay factor\":1.0},\"nameSub\":\"PE\",\"id\":6570063555578612175,\"credits\":3},{\"curriculum_requisites\":[],\"name\":\" \",\"metrics\":{\"complexity\":1.0,\"centrality\":0,\"blocking factor\":0,\"delay factor\":1.0},\"nameSub\":\"Liberal Studies\",\"id\":477560406490072048,\"credits\":3},{\"curriculum_requisites\":[],\"name\":\" \",\"metrics\":{\"complexity\":1.0,\"centrality\":0,\"blocking factor\":0,\"delay factor\":1.0},\"nameSub\":\"Liberal Studies\",\"id\":477560406490072048,\"credits\":3}],\"id\":4},{\"name\":\"Term 5\",\"curriculum_items\":[{\"curriculum_requisites\":[{\"source_id\":1636238990205895497,\"target_id\":1954000883185819961,\"type\":\"prereq\"},{\"source_id\":3315950941386074789,\"target_id\":1954000883185819961,\"type\":\"prereq\"},{\"source_id\":7499028772336587772,\"target_id\":1954000883185819961,\"type\":\"prereq\"}],\"name\":\"ECE 3400\",\"metrics\":{\"complexity\":5.0,\"centrality\":0,\"blocking factor\":0,\"delay factor\":5.0},\"nameSub\":\"ECE 3400\",\"id\":1954000883185819961,\"credits\":3},{\"curriculum_requisites\":[],\"name\":\" \",\"metrics\":{\"complexity\":1.0,\"centrality\":0,\"blocking factor\":0,\"delay factor\":1.0},\"nameSub\":\"ECE Foundations\",\"id\":8035499742881410880,\"credits\":3},{\"curriculum_requisites\":[],\"name\":\" \",\"metrics\":{\"complexity\":1.0,\"centrality\":0,\"blocking factor\":0,\"delay factor\":1.0},\"nameSub\":\"Elective\",\"id\":1820568072605266228,\"credits\":3},{\"curriculum_requisites\":[],\"name\":\" \",\"metrics\":{\"complexity\":1.0,\"centrality\":0,\"blocking factor\":0,\"delay factor\":1.0},\"nameSub\":\"Liberal Studies\",\"id\":477560406490072048,\"credits\":3},{\"curriculum_requisites\":[],\"name\":\" \",\"metrics\":{\"complexity\":1.0,\"centrality\":0,\"blocking factor\":0,\"delay factor\":1.0},\"nameSub\":\"ECE Foundations\",\"id\":8035499742881410880,\"credits\":3}],\"id\":5},{\"name\":\"Term 6\",\"curriculum_items\":[{\"curriculum_requisites\":[],\"name\":\" \",\"metrics\":{\"complexity\":1.0,\"centrality\":0,\"blocking factor\":0,\"delay factor\":1.0},\"nameSub\":\"ECE Foundations\",\"id\":8035499742881410880,\"credits\":3},{\"curriculum_requisites\":[],\"name\":\" \",\"metrics\":{\"complexity\":1.0,\"centrality\":0,\"blocking factor\":0,\"delay factor\":1.0},\"nameSub\":\"Outside Tech. Elective\",\"id\":8246304382802822903,\"credits\":3},{\"curriculum_requisites\":[],\"name\":\" \",\"metrics\":{\"complexity\":1.0,\"centrality\":0,\"blocking factor\":0,\"delay factor\":1.0},\"nameSub\":\"Elective\",\"id\":1820568072605266228,\"credits\":3},{\"curriculum_requisites\":[],\"name\":\" \",\"metrics\":{\"complexity\":1.0,\"centrality\":0,\"blocking factor\":0,\"delay factor\":1.0},\"nameSub\":\"Liberal Studies\",\"id\":477560406490072048,\"credits\":3},{\"curriculum_requisites\":[],\"name\":\" \",\"metrics\":{\"complexity\":1.0,\"centrality\":0,\"blocking factor\":0,\"delay factor\":1.0},\"nameSub\":\"ECE Elective \",\"id\":5881086909490932740,\"credits\":3},{\"curriculum_requisites\":[],\"name\":\" \",\"metrics\":{\"complexity\":1.0,\"centrality\":0,\"blocking factor\":0,\"delay factor\":1.0},\"nameSub\":\"ECE Elective\",\"id\":6580266358031979777,\"credits\":3}],\"id\":6},{\"name\":\"Term 7\",\"curriculum_items\":[{\"curriculum_requisites\":[],\"name\":\" \",\"metrics\":{\"complexity\":1.0,\"centrality\":0,\"blocking factor\":0,\"delay factor\":1.0},\"nameSub\":\"Outside Tech. Elective\",\"id\":8246304382802822903,\"credits\":3},{\"curriculum_requisites\":[],\"name\":\" \",\"metrics\":{\"complexity\":1.0,\"centrality\":0,\"blocking factor\":0,\"delay factor\":1.0},\"nameSub\":\"Liberal Studies\",\"id\":477560406490072048,\"credits\":3},{\"curriculum_requisites\":[],\"name\":\" \",\"metrics\":{\"complexity\":1.0,\"centrality\":0,\"blocking factor\":0,\"delay factor\":1.0},\"nameSub\":\"ECE Elective\",\"id\":6580266358031979777,\"credits\":3},{\"curriculum_requisites\":[],\"name\":\" \",\"metrics\":{\"complexity\":1.0,\"centrality\":0,\"blocking factor\":0,\"delay factor\":1.0},\"nameSub\":\"ECE Elective\",\"id\":6580266358031979777,\"credits\":3},{\"curriculum_requisites\":[],\"name\":\" \",\"metrics\":{\"complexity\":1.0,\"centrality\":0,\"blocking factor\":0,\"delay factor\":1.0},\"nameSub\":\"ECE Elective\",\"id\":6580266358031979777,\"credits\":3},{\"curriculum_requisites\":[],\"name\":\" \",\"metrics\":{\"complexity\":1.0,\"centrality\":0,\"blocking factor\":0,\"delay factor\":1.0},\"nameSub\":\"Liberal Studies\",\"id\":477560406490072048,\"credits\":3}],\"id\":7}],\"institution\":\"\"}},\"*\"); window.removeEventListener(\"message\",window.messageReceived); window.messageReceived=(function (event){return (event.data.curriculum!==undefined) ? (_webIOScope.setObservableValue({\"name\":\"curriculum-data\",\"scope\":\"scope-611cf523-73b4-4d80-a780-1b2d92226a1d\",\"id\":\"ob_02\",\"type\":\"observable\"},event.data.curriculum)) : undefined}); return window.addEventListener(\"message\",window.messageReceived)})"
          },
          "id": "curriculum",
          "src": "http://localhost:8156",
          "style": {
           "border": "none",
           "height": "100vh",
           "margin": "0",
           "padding": "0",
           "width": "100%"
          }
         },
         "type": "node"
        }
       ],
       "instanceArgs": {
        "handlers": {},
        "id": "scope-611cf523-73b4-4d80-a780-1b2d92226a1d",
        "imports": {
         "data": [],
         "type": "async_block"
        },
        "observables": {
         "curriculum-data": {
          "id": "ob_02",
          "sync": true,
          "value": {
           "curriculum": {
            "curriculum_terms": [
             {
              "curriculum_items": [
               {
                "credits": 3,
                "curriculum_requisites": [],
                "id": 8313278572805838000,
                "metrics": {
                 "blocking factor": 10,
                 "centrality": 0,
                 "complexity": 15,
                 "delay factor": 5
                },
                "name": "MATH 1910",
                "nameSub": "MATH 1910"
               },
               {
                "credits": 3,
                "curriculum_requisites": [],
                "id": 5064249191167199000,
                "metrics": {
                 "blocking factor": 3,
                 "centrality": 0,
                 "complexity": 6,
                 "delay factor": 3
                },
                "name": "CS 111x",
                "nameSub": "CS 111x"
               },
               {
                "credits": 3,
                "curriculum_requisites": [],
                "id": 8160942477924230000,
                "metrics": {
                 "blocking factor": 0,
                 "centrality": 0,
                 "complexity": 1,
                 "delay factor": 1
                },
                "name": "CHEM 2090",
                "nameSub": "CHEM 2090"
               },
               {
                "credits": 3,
                "curriculum_requisites": [],
                "id": 2875301839579592700,
                "metrics": {
                 "blocking factor": 0,
                 "centrality": 0,
                 "complexity": 1,
                 "delay factor": 1
                },
                "name": "ENGRI 1xxx",
                "nameSub": "ENGRI 1xxx"
               },
               {
                "credits": 3,
                "curriculum_requisites": [],
                "id": 6947838602140191000,
                "metrics": {
                 "blocking factor": 0,
                 "centrality": 0,
                 "complexity": 1,
                 "delay factor": 1
                },
                "name": " ",
                "nameSub": "1st Yr Writing Seminar"
               }
              ],
              "id": 1,
              "name": "Term 1"
             },
             {
              "curriculum_items": [
               {
                "credits": 3,
                "curriculum_requisites": [
                 {
                  "source_id": 8313278572805838000,
                  "target_id": 3190317415296560600,
                  "type": "prereq"
                 }
                ],
                "id": 3190317415296560600,
                "metrics": {
                 "blocking factor": 8,
                 "centrality": 28,
                 "complexity": 12,
                 "delay factor": 4
                },
                "name": "MATH 1920",
                "nameSub": "MATH 1920"
               },
               {
                "credits": 3,
                "curriculum_requisites": [
                 {
                  "source_id": 8313278572805838000,
                  "target_id": 1975022711718740500,
                  "type": "prereq"
                 }
                ],
                "id": 1975022711718740500,
                "metrics": {
                 "blocking factor": 4,
                 "centrality": 9,
                 "complexity": 9,
                 "delay factor": 5
                },
                "name": "PHYS 1112",
                "nameSub": "PHYS 1112"
               },
               {
                "credits": 3,
                "curriculum_requisites": [
                 {
                  "source_id": 5064249191167199000,
                  "target_id": 1636238990205895400,
                  "type": "prereq"
                 }
                ],
                "id": 1636238990205895400,
                "metrics": {
                 "blocking factor": 1,
                 "centrality": 3,
                 "complexity": 4,
                 "delay factor": 3
                },
                "name": "MECE/ENGRD 2300",
                "nameSub": "MECE/ENGRD 2300"
               },
               {
                "credits": 3,
                "curriculum_requisites": [
                 {
                  "source_id": 5064249191167199000,
                  "target_id": 8246304382802823000,
                  "type": "prereq"
                 }
                ],
                "id": 8246304382802823000,
                "metrics": {
                 "blocking factor": 0,
                 "centrality": 0,
                 "complexity": 2,
                 "delay factor": 2
                },
                "name": " ",
                "nameSub": "Outside Tech. Elective"
               },
               {
                "credits": 3,
                "curriculum_requisites": [],
                "id": 6570063555578612000,
                "metrics": {
                 "blocking factor": 0,
                 "centrality": 0,
                 "complexity": 1,
                 "delay factor": 1
                },
                "name": " ",
                "nameSub": "PE"
               }
              ],
              "id": 2,
              "name": "Term 2"
             },
             {
              "curriculum_items": [
               {
                "credits": 3,
                "curriculum_requisites": [
                 {
                  "source_id": 1975022711718740500,
                  "target_id": 5894592768647373000,
                  "type": "prereq"
                 },
                 {
                  "source_id": 3190317415296560600,
                  "target_id": 5894592768647373000,
                  "type": "prereq"
                 }
                ],
                "id": 5894592768647373000,
                "metrics": {
                 "blocking factor": 3,
                 "centrality": 18,
                 "complexity": 8,
                 "delay factor": 5
                },
                "name": "PHYS 2213",
                "nameSub": "PHYS 2213"
               },
               {
                "credits": 3,
                "curriculum_requisites": [
                 {
                  "source_id": 3190317415296560600,
                  "target_id": 5080248561481204000,
                  "type": "prereq"
                 }
                ],
                "id": 5080248561481204000,
                "metrics": {
                 "blocking factor": 4,
                 "centrality": 14,
                 "complexity": 8,
                 "delay factor": 4
                },
                "name": "MATH 2930",
                "nameSub": "MATH 2930"
               },
               {
                "credits": 3,
                "curriculum_requisites": [
                 {
                  "source_id": 5894592768647373000,
                  "target_id": 3315950941386074600,
                  "type": "coreq"
                 },
                 {
                  "source_id": 5080248561481204000,
                  "target_id": 3315950941386074600,
                  "type": "coreq"
                 }
                ],
                "id": 3315950941386074600,
                "metrics": {
                 "blocking factor": 1,
                 "centrality": 15,
                 "complexity": 6,
                 "delay factor": 5
                },
                "name": "ECE/ENGRD 2100",
                "nameSub": "ECE/ENGRD 2100"
               },
               {
                "credits": 3,
                "curriculum_requisites": [
                 {
                  "source_id": 3190317415296560600,
                  "target_id": 253672194665637220,
                  "type": "prereq"
                 }
                ],
                "id": 253672194665637220,
                "metrics": {
                 "blocking factor": 2,
                 "centrality": 5,
                 "complexity": 5,
                 "delay factor": 3
                },
                "name": "MATH 2940",
                "nameSub": "MATH 2940"
               },
               {
                "credits": 3,
                "curriculum_requisites": [
                 {
                  "source_id": 5080248561481204000,
                  "target_id": 2116344654823900400,
                  "type": "coreq"
                 }
                ],
                "id": 2116344654823900400,
                "metrics": {
                 "blocking factor": 0,
                 "centrality": 0,
                 "complexity": 4,
                 "delay factor": 4
                },
                "name": "PHYS 2214",
                "nameSub": "PHYS 2214"
               }
              ],
              "id": 3,
              "name": "Term 3"
             },
             {
              "curriculum_items": [
               {
                "credits": 3,
                "curriculum_requisites": [
                 {
                  "source_id": 5080248561481204000,
                  "target_id": 7499028772336588000,
                  "type": "prereq"
                 },
                 {
                  "source_id": 253672194665637220,
                  "target_id": 7499028772336588000,
                  "type": "coreq"
                 }
                ],
                "id": 7499028772336588000,
                "metrics": {
                 "blocking factor": 1,
                 "centrality": 10,
                 "complexity": 5,
                 "delay factor": 4
                },
                "name": "ECE/ENGRD 2200/2220",
                "nameSub": "ECE 2200/ENGRD 2220"
               },
               {
                "credits": 3,
                "curriculum_requisites": [
                 {
                  "source_id": 5894592768647373000,
                  "target_id": 258541464445700640,
                  "type": "prereq"
                 }
                ],
                "id": 258541464445700640,
                "metrics": {
                 "blocking factor": 0,
                 "centrality": 0,
                 "complexity": 4,
                 "delay factor": 4
                },
                "name": "ENGRD 2xxx",
                "nameSub": "ENGRD 2xxx"
               },
               {
                "credits": 3,
                "curriculum_requisites": [],
                "id": 6947838602140191000,
                "metrics": {
                 "blocking factor": 0,
                 "centrality": 0,
                 "complexity": 1,
                 "delay factor": 1
                },
                "name": " ",
                "nameSub": "1st Yr Writing Seminar"
               },
               {
                "credits": 3,
                "curriculum_requisites": [],
                "id": 6570063555578612000,
                "metrics": {
                 "blocking factor": 0,
                 "centrality": 0,
                 "complexity": 1,
                 "delay factor": 1
                },
                "name": " ",
                "nameSub": "PE"
               },
               {
                "credits": 3,
                "curriculum_requisites": [],
                "id": 477560406490072060,
                "metrics": {
                 "blocking factor": 0,
                 "centrality": 0,
                 "complexity": 1,
                 "delay factor": 1
                },
                "name": " ",
                "nameSub": "Liberal Studies"
               },
               {
                "credits": 3,
                "curriculum_requisites": [],
                "id": 477560406490072060,
                "metrics": {
                 "blocking factor": 0,
                 "centrality": 0,
                 "complexity": 1,
                 "delay factor": 1
                },
                "name": " ",
                "nameSub": "Liberal Studies"
               }
              ],
              "id": 4,
              "name": "Term 4"
             },
             {
              "curriculum_items": [
               {
                "credits": 3,
                "curriculum_requisites": [
                 {
                  "source_id": 1636238990205895400,
                  "target_id": 1954000883185820000,
                  "type": "prereq"
                 },
                 {
                  "source_id": 3315950941386074600,
                  "target_id": 1954000883185820000,
                  "type": "prereq"
                 },
                 {
                  "source_id": 7499028772336588000,
                  "target_id": 1954000883185820000,
                  "type": "prereq"
                 }
                ],
                "id": 1954000883185820000,
                "metrics": {
                 "blocking factor": 0,
                 "centrality": 0,
                 "complexity": 5,
                 "delay factor": 5
                },
                "name": "ECE 3400",
                "nameSub": "ECE 3400"
               },
               {
                "credits": 3,
                "curriculum_requisites": [],
                "id": 8035499742881411000,
                "metrics": {
                 "blocking factor": 0,
                 "centrality": 0,
                 "complexity": 1,
                 "delay factor": 1
                },
                "name": " ",
                "nameSub": "ECE Foundations"
               },
               {
                "credits": 3,
                "curriculum_requisites": [],
                "id": 1820568072605266200,
                "metrics": {
                 "blocking factor": 0,
                 "centrality": 0,
                 "complexity": 1,
                 "delay factor": 1
                },
                "name": " ",
                "nameSub": "Elective"
               },
               {
                "credits": 3,
                "curriculum_requisites": [],
                "id": 477560406490072060,
                "metrics": {
                 "blocking factor": 0,
                 "centrality": 0,
                 "complexity": 1,
                 "delay factor": 1
                },
                "name": " ",
                "nameSub": "Liberal Studies"
               },
               {
                "credits": 3,
                "curriculum_requisites": [],
                "id": 8035499742881411000,
                "metrics": {
                 "blocking factor": 0,
                 "centrality": 0,
                 "complexity": 1,
                 "delay factor": 1
                },
                "name": " ",
                "nameSub": "ECE Foundations"
               }
              ],
              "id": 5,
              "name": "Term 5"
             },
             {
              "curriculum_items": [
               {
                "credits": 3,
                "curriculum_requisites": [],
                "id": 8035499742881411000,
                "metrics": {
                 "blocking factor": 0,
                 "centrality": 0,
                 "complexity": 1,
                 "delay factor": 1
                },
                "name": " ",
                "nameSub": "ECE Foundations"
               },
               {
                "credits": 3,
                "curriculum_requisites": [],
                "id": 8246304382802823000,
                "metrics": {
                 "blocking factor": 0,
                 "centrality": 0,
                 "complexity": 1,
                 "delay factor": 1
                },
                "name": " ",
                "nameSub": "Outside Tech. Elective"
               },
               {
                "credits": 3,
                "curriculum_requisites": [],
                "id": 1820568072605266200,
                "metrics": {
                 "blocking factor": 0,
                 "centrality": 0,
                 "complexity": 1,
                 "delay factor": 1
                },
                "name": " ",
                "nameSub": "Elective"
               },
               {
                "credits": 3,
                "curriculum_requisites": [],
                "id": 477560406490072060,
                "metrics": {
                 "blocking factor": 0,
                 "centrality": 0,
                 "complexity": 1,
                 "delay factor": 1
                },
                "name": " ",
                "nameSub": "Liberal Studies"
               },
               {
                "credits": 3,
                "curriculum_requisites": [],
                "id": 5881086909490933000,
                "metrics": {
                 "blocking factor": 0,
                 "centrality": 0,
                 "complexity": 1,
                 "delay factor": 1
                },
                "name": " ",
                "nameSub": "ECE Elective "
               },
               {
                "credits": 3,
                "curriculum_requisites": [],
                "id": 6580266358031980000,
                "metrics": {
                 "blocking factor": 0,
                 "centrality": 0,
                 "complexity": 1,
                 "delay factor": 1
                },
                "name": " ",
                "nameSub": "ECE Elective"
               }
              ],
              "id": 6,
              "name": "Term 6"
             },
             {
              "curriculum_items": [
               {
                "credits": 3,
                "curriculum_requisites": [],
                "id": 8246304382802823000,
                "metrics": {
                 "blocking factor": 0,
                 "centrality": 0,
                 "complexity": 1,
                 "delay factor": 1
                },
                "name": " ",
                "nameSub": "Outside Tech. Elective"
               },
               {
                "credits": 3,
                "curriculum_requisites": [],
                "id": 477560406490072060,
                "metrics": {
                 "blocking factor": 0,
                 "centrality": 0,
                 "complexity": 1,
                 "delay factor": 1
                },
                "name": " ",
                "nameSub": "Liberal Studies"
               },
               {
                "credits": 3,
                "curriculum_requisites": [],
                "id": 6580266358031980000,
                "metrics": {
                 "blocking factor": 0,
                 "centrality": 0,
                 "complexity": 1,
                 "delay factor": 1
                },
                "name": " ",
                "nameSub": "ECE Elective"
               },
               {
                "credits": 3,
                "curriculum_requisites": [],
                "id": 6580266358031980000,
                "metrics": {
                 "blocking factor": 0,
                 "centrality": 0,
                 "complexity": 1,
                 "delay factor": 1
                },
                "name": " ",
                "nameSub": "ECE Elective"
               },
               {
                "credits": 3,
                "curriculum_requisites": [],
                "id": 6580266358031980000,
                "metrics": {
                 "blocking factor": 0,
                 "centrality": 0,
                 "complexity": 1,
                 "delay factor": 1
                },
                "name": " ",
                "nameSub": "ECE Elective"
               },
               {
                "credits": 3,
                "curriculum_requisites": [],
                "id": 477560406490072060,
                "metrics": {
                 "blocking factor": 0,
                 "centrality": 0,
                 "complexity": 1,
                 "delay factor": 1
                },
                "name": " ",
                "nameSub": "Liberal Studies"
               }
              ],
              "id": 7,
              "name": "Term 7"
             }
            ],
            "dp_name": "Cornell EE Program 4-year Plan",
            "institution": "",
            "name": "University of Houston EE Program"
           },
           "options": {
            "edit": true,
            "hideTerms": false
           }
          }
         }
        },
        "systemjs_options": null
       },
       "nodeType": "Scope",
       "props": {},
       "type": "node"
      },
      "text/html": [
       "<div\n",
       "    class=\"webio-mountpoint\"\n",
       "    data-webio-mountpoint=\"8567075871318782233\"\n",
       ">\n",
       "    <script>\n",
       "    if (window.require && require.defined && require.defined(\"nbextensions/webio/main\")) {\n",
       "        console.log(\"Jupyter WebIO extension detected, not mounting.\");\n",
       "    } else if (window.WebIO) {\n",
       "        WebIO.mount(\n",
       "            document.querySelector('[data-webio-mountpoint=\"8567075871318782233\"]'),\n",
       "            {\"props\":{},\"nodeType\":\"Scope\",\"type\":\"node\",\"instanceArgs\":{\"imports\":{\"data\":[],\"type\":\"async_block\"},\"id\":\"scope-611cf523-73b4-4d80-a780-1b2d92226a1d\",\"handlers\":{},\"systemjs_options\":null,\"observables\":{\"curriculum-data\":{\"sync\":true,\"id\":\"ob_02\",\"value\":{\"options\":{\"hideTerms\":false,\"edit\":true},\"curriculum\":{\"name\":\"University of Houston EE Program\",\"dp_name\":\"Cornell EE Program 4-year Plan\",\"curriculum_terms\":[{\"name\":\"Term 1\",\"curriculum_items\":[{\"curriculum_requisites\":[],\"name\":\"MATH 1910\",\"metrics\":{\"complexity\":15.0,\"centrality\":0,\"blocking factor\":10,\"delay factor\":5.0},\"nameSub\":\"MATH 1910\",\"id\":8313278572805838038,\"credits\":3},{\"curriculum_requisites\":[],\"name\":\"CS 111x\",\"metrics\":{\"complexity\":6.0,\"centrality\":0,\"blocking factor\":3,\"delay factor\":3.0},\"nameSub\":\"CS 111x\",\"id\":5064249191167198867,\"credits\":3},{\"curriculum_requisites\":[],\"name\":\"CHEM 2090\",\"metrics\":{\"complexity\":1.0,\"centrality\":0,\"blocking factor\":0,\"delay factor\":1.0},\"nameSub\":\"CHEM 2090\",\"id\":8160942477924229752,\"credits\":3},{\"curriculum_requisites\":[],\"name\":\"ENGRI 1xxx\",\"metrics\":{\"complexity\":1.0,\"centrality\":0,\"blocking factor\":0,\"delay factor\":1.0},\"nameSub\":\"ENGRI 1xxx\",\"id\":2875301839579592813,\"credits\":3},{\"curriculum_requisites\":[],\"name\":\" \",\"metrics\":{\"complexity\":1.0,\"centrality\":0,\"blocking factor\":0,\"delay factor\":1.0},\"nameSub\":\"1st Yr Writing Seminar\",\"id\":6947838602140191202,\"credits\":3}],\"id\":1},{\"name\":\"Term 2\",\"curriculum_items\":[{\"curriculum_requisites\":[{\"source_id\":8313278572805838038,\"target_id\":3190317415296560580,\"type\":\"prereq\"}],\"name\":\"MATH 1920\",\"metrics\":{\"complexity\":12.0,\"centrality\":28,\"blocking factor\":8,\"delay factor\":4.0},\"nameSub\":\"MATH 1920\",\"id\":3190317415296560580,\"credits\":3},{\"curriculum_requisites\":[{\"source_id\":8313278572805838038,\"target_id\":1975022711718740449,\"type\":\"prereq\"}],\"name\":\"PHYS 1112\",\"metrics\":{\"complexity\":9.0,\"centrality\":9,\"blocking factor\":4,\"delay factor\":5.0},\"nameSub\":\"PHYS 1112\",\"id\":1975022711718740449,\"credits\":3},{\"curriculum_requisites\":[{\"source_id\":5064249191167198867,\"target_id\":1636238990205895497,\"type\":\"prereq\"}],\"name\":\"MECE\\/ENGRD 2300\",\"metrics\":{\"complexity\":4.0,\"centrality\":3,\"blocking factor\":1,\"delay factor\":3.0},\"nameSub\":\"MECE\\/ENGRD 2300\",\"id\":1636238990205895497,\"credits\":3},{\"curriculum_requisites\":[{\"source_id\":5064249191167198867,\"target_id\":8246304382802822903,\"type\":\"prereq\"}],\"name\":\" \",\"metrics\":{\"complexity\":2.0,\"centrality\":0,\"blocking factor\":0,\"delay factor\":2.0},\"nameSub\":\"Outside Tech. Elective\",\"id\":8246304382802822903,\"credits\":3},{\"curriculum_requisites\":[],\"name\":\" \",\"metrics\":{\"complexity\":1.0,\"centrality\":0,\"blocking factor\":0,\"delay factor\":1.0},\"nameSub\":\"PE\",\"id\":6570063555578612175,\"credits\":3}],\"id\":2},{\"name\":\"Term 3\",\"curriculum_items\":[{\"curriculum_requisites\":[{\"source_id\":1975022711718740449,\"target_id\":5894592768647373025,\"type\":\"prereq\"},{\"source_id\":3190317415296560580,\"target_id\":5894592768647373025,\"type\":\"prereq\"}],\"name\":\"PHYS 2213\",\"metrics\":{\"complexity\":8.0,\"centrality\":18,\"blocking factor\":3,\"delay factor\":5.0},\"nameSub\":\"PHYS 2213\",\"id\":5894592768647373025,\"credits\":3},{\"curriculum_requisites\":[{\"source_id\":3190317415296560580,\"target_id\":5080248561481203972,\"type\":\"prereq\"}],\"name\":\"MATH 2930\",\"metrics\":{\"complexity\":8.0,\"centrality\":14,\"blocking factor\":4,\"delay factor\":4.0},\"nameSub\":\"MATH 2930\",\"id\":5080248561481203972,\"credits\":3},{\"curriculum_requisites\":[{\"source_id\":5894592768647373025,\"target_id\":3315950941386074789,\"type\":\"coreq\"},{\"source_id\":5080248561481203972,\"target_id\":3315950941386074789,\"type\":\"coreq\"}],\"name\":\"ECE\\/ENGRD 2100\",\"metrics\":{\"complexity\":6.0,\"centrality\":15,\"blocking factor\":1,\"delay factor\":5.0},\"nameSub\":\"ECE\\/ENGRD 2100\",\"id\":3315950941386074789,\"credits\":3},{\"curriculum_requisites\":[{\"source_id\":3190317415296560580,\"target_id\":253672194665637221,\"type\":\"prereq\"}],\"name\":\"MATH 2940\",\"metrics\":{\"complexity\":5.0,\"centrality\":5,\"blocking factor\":2,\"delay factor\":3.0},\"nameSub\":\"MATH 2940\",\"id\":253672194665637221,\"credits\":3},{\"curriculum_requisites\":[{\"source_id\":5080248561481203972,\"target_id\":2116344654823900524,\"type\":\"coreq\"}],\"name\":\"PHYS 2214\",\"metrics\":{\"complexity\":4.0,\"centrality\":0,\"blocking factor\":0,\"delay factor\":4.0},\"nameSub\":\"PHYS 2214\",\"id\":2116344654823900524,\"credits\":3}],\"id\":3},{\"name\":\"Term 4\",\"curriculum_items\":[{\"curriculum_requisites\":[{\"source_id\":5080248561481203972,\"target_id\":7499028772336587772,\"type\":\"prereq\"},{\"source_id\":253672194665637221,\"target_id\":7499028772336587772,\"type\":\"coreq\"}],\"name\":\"ECE\\/ENGRD 2200\\/2220\",\"metrics\":{\"complexity\":5.0,\"centrality\":10,\"blocking factor\":1,\"delay factor\":4.0},\"nameSub\":\"ECE 2200\\/ENGRD 2220\",\"id\":7499028772336587772,\"credits\":3},{\"curriculum_requisites\":[{\"source_id\":5894592768647373025,\"target_id\":258541464445700654,\"type\":\"prereq\"}],\"name\":\"ENGRD 2xxx\",\"metrics\":{\"complexity\":4.0,\"centrality\":0,\"blocking factor\":0,\"delay factor\":4.0},\"nameSub\":\"ENGRD 2xxx\",\"id\":258541464445700654,\"credits\":3},{\"curriculum_requisites\":[],\"name\":\" \",\"metrics\":{\"complexity\":1.0,\"centrality\":0,\"blocking factor\":0,\"delay factor\":1.0},\"nameSub\":\"1st Yr Writing Seminar\",\"id\":6947838602140191202,\"credits\":3},{\"curriculum_requisites\":[],\"name\":\" \",\"metrics\":{\"complexity\":1.0,\"centrality\":0,\"blocking factor\":0,\"delay factor\":1.0},\"nameSub\":\"PE\",\"id\":6570063555578612175,\"credits\":3},{\"curriculum_requisites\":[],\"name\":\" \",\"metrics\":{\"complexity\":1.0,\"centrality\":0,\"blocking factor\":0,\"delay factor\":1.0},\"nameSub\":\"Liberal Studies\",\"id\":477560406490072048,\"credits\":3},{\"curriculum_requisites\":[],\"name\":\" \",\"metrics\":{\"complexity\":1.0,\"centrality\":0,\"blocking factor\":0,\"delay factor\":1.0},\"nameSub\":\"Liberal Studies\",\"id\":477560406490072048,\"credits\":3}],\"id\":4},{\"name\":\"Term 5\",\"curriculum_items\":[{\"curriculum_requisites\":[{\"source_id\":1636238990205895497,\"target_id\":1954000883185819961,\"type\":\"prereq\"},{\"source_id\":3315950941386074789,\"target_id\":1954000883185819961,\"type\":\"prereq\"},{\"source_id\":7499028772336587772,\"target_id\":1954000883185819961,\"type\":\"prereq\"}],\"name\":\"ECE 3400\",\"metrics\":{\"complexity\":5.0,\"centrality\":0,\"blocking factor\":0,\"delay factor\":5.0},\"nameSub\":\"ECE 3400\",\"id\":1954000883185819961,\"credits\":3},{\"curriculum_requisites\":[],\"name\":\" \",\"metrics\":{\"complexity\":1.0,\"centrality\":0,\"blocking factor\":0,\"delay factor\":1.0},\"nameSub\":\"ECE Foundations\",\"id\":8035499742881410880,\"credits\":3},{\"curriculum_requisites\":[],\"name\":\" \",\"metrics\":{\"complexity\":1.0,\"centrality\":0,\"blocking factor\":0,\"delay factor\":1.0},\"nameSub\":\"Elective\",\"id\":1820568072605266228,\"credits\":3},{\"curriculum_requisites\":[],\"name\":\" \",\"metrics\":{\"complexity\":1.0,\"centrality\":0,\"blocking factor\":0,\"delay factor\":1.0},\"nameSub\":\"Liberal Studies\",\"id\":477560406490072048,\"credits\":3},{\"curriculum_requisites\":[],\"name\":\" \",\"metrics\":{\"complexity\":1.0,\"centrality\":0,\"blocking factor\":0,\"delay factor\":1.0},\"nameSub\":\"ECE Foundations\",\"id\":8035499742881410880,\"credits\":3}],\"id\":5},{\"name\":\"Term 6\",\"curriculum_items\":[{\"curriculum_requisites\":[],\"name\":\" \",\"metrics\":{\"complexity\":1.0,\"centrality\":0,\"blocking factor\":0,\"delay factor\":1.0},\"nameSub\":\"ECE Foundations\",\"id\":8035499742881410880,\"credits\":3},{\"curriculum_requisites\":[],\"name\":\" \",\"metrics\":{\"complexity\":1.0,\"centrality\":0,\"blocking factor\":0,\"delay factor\":1.0},\"nameSub\":\"Outside Tech. Elective\",\"id\":8246304382802822903,\"credits\":3},{\"curriculum_requisites\":[],\"name\":\" \",\"metrics\":{\"complexity\":1.0,\"centrality\":0,\"blocking factor\":0,\"delay factor\":1.0},\"nameSub\":\"Elective\",\"id\":1820568072605266228,\"credits\":3},{\"curriculum_requisites\":[],\"name\":\" \",\"metrics\":{\"complexity\":1.0,\"centrality\":0,\"blocking factor\":0,\"delay factor\":1.0},\"nameSub\":\"Liberal Studies\",\"id\":477560406490072048,\"credits\":3},{\"curriculum_requisites\":[],\"name\":\" \",\"metrics\":{\"complexity\":1.0,\"centrality\":0,\"blocking factor\":0,\"delay factor\":1.0},\"nameSub\":\"ECE Elective \",\"id\":5881086909490932740,\"credits\":3},{\"curriculum_requisites\":[],\"name\":\" \",\"metrics\":{\"complexity\":1.0,\"centrality\":0,\"blocking factor\":0,\"delay factor\":1.0},\"nameSub\":\"ECE Elective\",\"id\":6580266358031979777,\"credits\":3}],\"id\":6},{\"name\":\"Term 7\",\"curriculum_items\":[{\"curriculum_requisites\":[],\"name\":\" \",\"metrics\":{\"complexity\":1.0,\"centrality\":0,\"blocking factor\":0,\"delay factor\":1.0},\"nameSub\":\"Outside Tech. Elective\",\"id\":8246304382802822903,\"credits\":3},{\"curriculum_requisites\":[],\"name\":\" \",\"metrics\":{\"complexity\":1.0,\"centrality\":0,\"blocking factor\":0,\"delay factor\":1.0},\"nameSub\":\"Liberal Studies\",\"id\":477560406490072048,\"credits\":3},{\"curriculum_requisites\":[],\"name\":\" \",\"metrics\":{\"complexity\":1.0,\"centrality\":0,\"blocking factor\":0,\"delay factor\":1.0},\"nameSub\":\"ECE Elective\",\"id\":6580266358031979777,\"credits\":3},{\"curriculum_requisites\":[],\"name\":\" \",\"metrics\":{\"complexity\":1.0,\"centrality\":0,\"blocking factor\":0,\"delay factor\":1.0},\"nameSub\":\"ECE Elective\",\"id\":6580266358031979777,\"credits\":3},{\"curriculum_requisites\":[],\"name\":\" \",\"metrics\":{\"complexity\":1.0,\"centrality\":0,\"blocking factor\":0,\"delay factor\":1.0},\"nameSub\":\"ECE Elective\",\"id\":6580266358031979777,\"credits\":3},{\"curriculum_requisites\":[],\"name\":\" \",\"metrics\":{\"complexity\":1.0,\"centrality\":0,\"blocking factor\":0,\"delay factor\":1.0},\"nameSub\":\"Liberal Studies\",\"id\":477560406490072048,\"credits\":3}],\"id\":7}],\"institution\":\"\"}}}}},\"children\":[{\"props\":{\"src\":\"http:\\/\\/localhost:8156\",\"id\":\"curriculum\",\"events\":{\"load\":\"(function (){this.contentWindow.postMessage({\\\"options\\\":{\\\"hideTerms\\\":false,\\\"edit\\\":true},\\\"curriculum\\\":{\\\"name\\\":\\\"University of Houston EE Program\\\",\\\"dp_name\\\":\\\"Cornell EE Program 4-year Plan\\\",\\\"curriculum_terms\\\":[{\\\"name\\\":\\\"Term 1\\\",\\\"curriculum_items\\\":[{\\\"curriculum_requisites\\\":[],\\\"name\\\":\\\"MATH 1910\\\",\\\"metrics\\\":{\\\"complexity\\\":15.0,\\\"centrality\\\":0,\\\"blocking factor\\\":10,\\\"delay factor\\\":5.0},\\\"nameSub\\\":\\\"MATH 1910\\\",\\\"id\\\":8313278572805838038,\\\"credits\\\":3},{\\\"curriculum_requisites\\\":[],\\\"name\\\":\\\"CS 111x\\\",\\\"metrics\\\":{\\\"complexity\\\":6.0,\\\"centrality\\\":0,\\\"blocking factor\\\":3,\\\"delay factor\\\":3.0},\\\"nameSub\\\":\\\"CS 111x\\\",\\\"id\\\":5064249191167198867,\\\"credits\\\":3},{\\\"curriculum_requisites\\\":[],\\\"name\\\":\\\"CHEM 2090\\\",\\\"metrics\\\":{\\\"complexity\\\":1.0,\\\"centrality\\\":0,\\\"blocking factor\\\":0,\\\"delay factor\\\":1.0},\\\"nameSub\\\":\\\"CHEM 2090\\\",\\\"id\\\":8160942477924229752,\\\"credits\\\":3},{\\\"curriculum_requisites\\\":[],\\\"name\\\":\\\"ENGRI 1xxx\\\",\\\"metrics\\\":{\\\"complexity\\\":1.0,\\\"centrality\\\":0,\\\"blocking factor\\\":0,\\\"delay factor\\\":1.0},\\\"nameSub\\\":\\\"ENGRI 1xxx\\\",\\\"id\\\":2875301839579592813,\\\"credits\\\":3},{\\\"curriculum_requisites\\\":[],\\\"name\\\":\\\" \\\",\\\"metrics\\\":{\\\"complexity\\\":1.0,\\\"centrality\\\":0,\\\"blocking factor\\\":0,\\\"delay factor\\\":1.0},\\\"nameSub\\\":\\\"1st Yr Writing Seminar\\\",\\\"id\\\":6947838602140191202,\\\"credits\\\":3}],\\\"id\\\":1},{\\\"name\\\":\\\"Term 2\\\",\\\"curriculum_items\\\":[{\\\"curriculum_requisites\\\":[{\\\"source_id\\\":8313278572805838038,\\\"target_id\\\":3190317415296560580,\\\"type\\\":\\\"prereq\\\"}],\\\"name\\\":\\\"MATH 1920\\\",\\\"metrics\\\":{\\\"complexity\\\":12.0,\\\"centrality\\\":28,\\\"blocking factor\\\":8,\\\"delay factor\\\":4.0},\\\"nameSub\\\":\\\"MATH 1920\\\",\\\"id\\\":3190317415296560580,\\\"credits\\\":3},{\\\"curriculum_requisites\\\":[{\\\"source_id\\\":8313278572805838038,\\\"target_id\\\":1975022711718740449,\\\"type\\\":\\\"prereq\\\"}],\\\"name\\\":\\\"PHYS 1112\\\",\\\"metrics\\\":{\\\"complexity\\\":9.0,\\\"centrality\\\":9,\\\"blocking factor\\\":4,\\\"delay factor\\\":5.0},\\\"nameSub\\\":\\\"PHYS 1112\\\",\\\"id\\\":1975022711718740449,\\\"credits\\\":3},{\\\"curriculum_requisites\\\":[{\\\"source_id\\\":5064249191167198867,\\\"target_id\\\":1636238990205895497,\\\"type\\\":\\\"prereq\\\"}],\\\"name\\\":\\\"MECE\\/ENGRD 2300\\\",\\\"metrics\\\":{\\\"complexity\\\":4.0,\\\"centrality\\\":3,\\\"blocking factor\\\":1,\\\"delay factor\\\":3.0},\\\"nameSub\\\":\\\"MECE\\/ENGRD 2300\\\",\\\"id\\\":1636238990205895497,\\\"credits\\\":3},{\\\"curriculum_requisites\\\":[{\\\"source_id\\\":5064249191167198867,\\\"target_id\\\":8246304382802822903,\\\"type\\\":\\\"prereq\\\"}],\\\"name\\\":\\\" \\\",\\\"metrics\\\":{\\\"complexity\\\":2.0,\\\"centrality\\\":0,\\\"blocking factor\\\":0,\\\"delay factor\\\":2.0},\\\"nameSub\\\":\\\"Outside Tech. Elective\\\",\\\"id\\\":8246304382802822903,\\\"credits\\\":3},{\\\"curriculum_requisites\\\":[],\\\"name\\\":\\\" \\\",\\\"metrics\\\":{\\\"complexity\\\":1.0,\\\"centrality\\\":0,\\\"blocking factor\\\":0,\\\"delay factor\\\":1.0},\\\"nameSub\\\":\\\"PE\\\",\\\"id\\\":6570063555578612175,\\\"credits\\\":3}],\\\"id\\\":2},{\\\"name\\\":\\\"Term 3\\\",\\\"curriculum_items\\\":[{\\\"curriculum_requisites\\\":[{\\\"source_id\\\":1975022711718740449,\\\"target_id\\\":5894592768647373025,\\\"type\\\":\\\"prereq\\\"},{\\\"source_id\\\":3190317415296560580,\\\"target_id\\\":5894592768647373025,\\\"type\\\":\\\"prereq\\\"}],\\\"name\\\":\\\"PHYS 2213\\\",\\\"metrics\\\":{\\\"complexity\\\":8.0,\\\"centrality\\\":18,\\\"blocking factor\\\":3,\\\"delay factor\\\":5.0},\\\"nameSub\\\":\\\"PHYS 2213\\\",\\\"id\\\":5894592768647373025,\\\"credits\\\":3},{\\\"curriculum_requisites\\\":[{\\\"source_id\\\":3190317415296560580,\\\"target_id\\\":5080248561481203972,\\\"type\\\":\\\"prereq\\\"}],\\\"name\\\":\\\"MATH 2930\\\",\\\"metrics\\\":{\\\"complexity\\\":8.0,\\\"centrality\\\":14,\\\"blocking factor\\\":4,\\\"delay factor\\\":4.0},\\\"nameSub\\\":\\\"MATH 2930\\\",\\\"id\\\":5080248561481203972,\\\"credits\\\":3},{\\\"curriculum_requisites\\\":[{\\\"source_id\\\":5894592768647373025,\\\"target_id\\\":3315950941386074789,\\\"type\\\":\\\"coreq\\\"},{\\\"source_id\\\":5080248561481203972,\\\"target_id\\\":3315950941386074789,\\\"type\\\":\\\"coreq\\\"}],\\\"name\\\":\\\"ECE\\/ENGRD 2100\\\",\\\"metrics\\\":{\\\"complexity\\\":6.0,\\\"centrality\\\":15,\\\"blocking factor\\\":1,\\\"delay factor\\\":5.0},\\\"nameSub\\\":\\\"ECE\\/ENGRD 2100\\\",\\\"id\\\":3315950941386074789,\\\"credits\\\":3},{\\\"curriculum_requisites\\\":[{\\\"source_id\\\":3190317415296560580,\\\"target_id\\\":253672194665637221,\\\"type\\\":\\\"prereq\\\"}],\\\"name\\\":\\\"MATH 2940\\\",\\\"metrics\\\":{\\\"complexity\\\":5.0,\\\"centrality\\\":5,\\\"blocking factor\\\":2,\\\"delay factor\\\":3.0},\\\"nameSub\\\":\\\"MATH 2940\\\",\\\"id\\\":253672194665637221,\\\"credits\\\":3},{\\\"curriculum_requisites\\\":[{\\\"source_id\\\":5080248561481203972,\\\"target_id\\\":2116344654823900524,\\\"type\\\":\\\"coreq\\\"}],\\\"name\\\":\\\"PHYS 2214\\\",\\\"metrics\\\":{\\\"complexity\\\":4.0,\\\"centrality\\\":0,\\\"blocking factor\\\":0,\\\"delay factor\\\":4.0},\\\"nameSub\\\":\\\"PHYS 2214\\\",\\\"id\\\":2116344654823900524,\\\"credits\\\":3}],\\\"id\\\":3},{\\\"name\\\":\\\"Term 4\\\",\\\"curriculum_items\\\":[{\\\"curriculum_requisites\\\":[{\\\"source_id\\\":5080248561481203972,\\\"target_id\\\":7499028772336587772,\\\"type\\\":\\\"prereq\\\"},{\\\"source_id\\\":253672194665637221,\\\"target_id\\\":7499028772336587772,\\\"type\\\":\\\"coreq\\\"}],\\\"name\\\":\\\"ECE\\/ENGRD 2200\\/2220\\\",\\\"metrics\\\":{\\\"complexity\\\":5.0,\\\"centrality\\\":10,\\\"blocking factor\\\":1,\\\"delay factor\\\":4.0},\\\"nameSub\\\":\\\"ECE 2200\\/ENGRD 2220\\\",\\\"id\\\":7499028772336587772,\\\"credits\\\":3},{\\\"curriculum_requisites\\\":[{\\\"source_id\\\":5894592768647373025,\\\"target_id\\\":258541464445700654,\\\"type\\\":\\\"prereq\\\"}],\\\"name\\\":\\\"ENGRD 2xxx\\\",\\\"metrics\\\":{\\\"complexity\\\":4.0,\\\"centrality\\\":0,\\\"blocking factor\\\":0,\\\"delay factor\\\":4.0},\\\"nameSub\\\":\\\"ENGRD 2xxx\\\",\\\"id\\\":258541464445700654,\\\"credits\\\":3},{\\\"curriculum_requisites\\\":[],\\\"name\\\":\\\" \\\",\\\"metrics\\\":{\\\"complexity\\\":1.0,\\\"centrality\\\":0,\\\"blocking factor\\\":0,\\\"delay factor\\\":1.0},\\\"nameSub\\\":\\\"1st Yr Writing Seminar\\\",\\\"id\\\":6947838602140191202,\\\"credits\\\":3},{\\\"curriculum_requisites\\\":[],\\\"name\\\":\\\" \\\",\\\"metrics\\\":{\\\"complexity\\\":1.0,\\\"centrality\\\":0,\\\"blocking factor\\\":0,\\\"delay factor\\\":1.0},\\\"nameSub\\\":\\\"PE\\\",\\\"id\\\":6570063555578612175,\\\"credits\\\":3},{\\\"curriculum_requisites\\\":[],\\\"name\\\":\\\" \\\",\\\"metrics\\\":{\\\"complexity\\\":1.0,\\\"centrality\\\":0,\\\"blocking factor\\\":0,\\\"delay factor\\\":1.0},\\\"nameSub\\\":\\\"Liberal Studies\\\",\\\"id\\\":477560406490072048,\\\"credits\\\":3},{\\\"curriculum_requisites\\\":[],\\\"name\\\":\\\" \\\",\\\"metrics\\\":{\\\"complexity\\\":1.0,\\\"centrality\\\":0,\\\"blocking factor\\\":0,\\\"delay factor\\\":1.0},\\\"nameSub\\\":\\\"Liberal Studies\\\",\\\"id\\\":477560406490072048,\\\"credits\\\":3}],\\\"id\\\":4},{\\\"name\\\":\\\"Term 5\\\",\\\"curriculum_items\\\":[{\\\"curriculum_requisites\\\":[{\\\"source_id\\\":1636238990205895497,\\\"target_id\\\":1954000883185819961,\\\"type\\\":\\\"prereq\\\"},{\\\"source_id\\\":3315950941386074789,\\\"target_id\\\":1954000883185819961,\\\"type\\\":\\\"prereq\\\"},{\\\"source_id\\\":7499028772336587772,\\\"target_id\\\":1954000883185819961,\\\"type\\\":\\\"prereq\\\"}],\\\"name\\\":\\\"ECE 3400\\\",\\\"metrics\\\":{\\\"complexity\\\":5.0,\\\"centrality\\\":0,\\\"blocking factor\\\":0,\\\"delay factor\\\":5.0},\\\"nameSub\\\":\\\"ECE 3400\\\",\\\"id\\\":1954000883185819961,\\\"credits\\\":3},{\\\"curriculum_requisites\\\":[],\\\"name\\\":\\\" \\\",\\\"metrics\\\":{\\\"complexity\\\":1.0,\\\"centrality\\\":0,\\\"blocking factor\\\":0,\\\"delay factor\\\":1.0},\\\"nameSub\\\":\\\"ECE Foundations\\\",\\\"id\\\":8035499742881410880,\\\"credits\\\":3},{\\\"curriculum_requisites\\\":[],\\\"name\\\":\\\" \\\",\\\"metrics\\\":{\\\"complexity\\\":1.0,\\\"centrality\\\":0,\\\"blocking factor\\\":0,\\\"delay factor\\\":1.0},\\\"nameSub\\\":\\\"Elective\\\",\\\"id\\\":1820568072605266228,\\\"credits\\\":3},{\\\"curriculum_requisites\\\":[],\\\"name\\\":\\\" \\\",\\\"metrics\\\":{\\\"complexity\\\":1.0,\\\"centrality\\\":0,\\\"blocking factor\\\":0,\\\"delay factor\\\":1.0},\\\"nameSub\\\":\\\"Liberal Studies\\\",\\\"id\\\":477560406490072048,\\\"credits\\\":3},{\\\"curriculum_requisites\\\":[],\\\"name\\\":\\\" \\\",\\\"metrics\\\":{\\\"complexity\\\":1.0,\\\"centrality\\\":0,\\\"blocking factor\\\":0,\\\"delay factor\\\":1.0},\\\"nameSub\\\":\\\"ECE Foundations\\\",\\\"id\\\":8035499742881410880,\\\"credits\\\":3}],\\\"id\\\":5},{\\\"name\\\":\\\"Term 6\\\",\\\"curriculum_items\\\":[{\\\"curriculum_requisites\\\":[],\\\"name\\\":\\\" \\\",\\\"metrics\\\":{\\\"complexity\\\":1.0,\\\"centrality\\\":0,\\\"blocking factor\\\":0,\\\"delay factor\\\":1.0},\\\"nameSub\\\":\\\"ECE Foundations\\\",\\\"id\\\":8035499742881410880,\\\"credits\\\":3},{\\\"curriculum_requisites\\\":[],\\\"name\\\":\\\" \\\",\\\"metrics\\\":{\\\"complexity\\\":1.0,\\\"centrality\\\":0,\\\"blocking factor\\\":0,\\\"delay factor\\\":1.0},\\\"nameSub\\\":\\\"Outside Tech. Elective\\\",\\\"id\\\":8246304382802822903,\\\"credits\\\":3},{\\\"curriculum_requisites\\\":[],\\\"name\\\":\\\" \\\",\\\"metrics\\\":{\\\"complexity\\\":1.0,\\\"centrality\\\":0,\\\"blocking factor\\\":0,\\\"delay factor\\\":1.0},\\\"nameSub\\\":\\\"Elective\\\",\\\"id\\\":1820568072605266228,\\\"credits\\\":3},{\\\"curriculum_requisites\\\":[],\\\"name\\\":\\\" \\\",\\\"metrics\\\":{\\\"complexity\\\":1.0,\\\"centrality\\\":0,\\\"blocking factor\\\":0,\\\"delay factor\\\":1.0},\\\"nameSub\\\":\\\"Liberal Studies\\\",\\\"id\\\":477560406490072048,\\\"credits\\\":3},{\\\"curriculum_requisites\\\":[],\\\"name\\\":\\\" \\\",\\\"metrics\\\":{\\\"complexity\\\":1.0,\\\"centrality\\\":0,\\\"blocking factor\\\":0,\\\"delay factor\\\":1.0},\\\"nameSub\\\":\\\"ECE Elective \\\",\\\"id\\\":5881086909490932740,\\\"credits\\\":3},{\\\"curriculum_requisites\\\":[],\\\"name\\\":\\\" \\\",\\\"metrics\\\":{\\\"complexity\\\":1.0,\\\"centrality\\\":0,\\\"blocking factor\\\":0,\\\"delay factor\\\":1.0},\\\"nameSub\\\":\\\"ECE Elective\\\",\\\"id\\\":6580266358031979777,\\\"credits\\\":3}],\\\"id\\\":6},{\\\"name\\\":\\\"Term 7\\\",\\\"curriculum_items\\\":[{\\\"curriculum_requisites\\\":[],\\\"name\\\":\\\" \\\",\\\"metrics\\\":{\\\"complexity\\\":1.0,\\\"centrality\\\":0,\\\"blocking factor\\\":0,\\\"delay factor\\\":1.0},\\\"nameSub\\\":\\\"Outside Tech. Elective\\\",\\\"id\\\":8246304382802822903,\\\"credits\\\":3},{\\\"curriculum_requisites\\\":[],\\\"name\\\":\\\" \\\",\\\"metrics\\\":{\\\"complexity\\\":1.0,\\\"centrality\\\":0,\\\"blocking factor\\\":0,\\\"delay factor\\\":1.0},\\\"nameSub\\\":\\\"Liberal Studies\\\",\\\"id\\\":477560406490072048,\\\"credits\\\":3},{\\\"curriculum_requisites\\\":[],\\\"name\\\":\\\" \\\",\\\"metrics\\\":{\\\"complexity\\\":1.0,\\\"centrality\\\":0,\\\"blocking factor\\\":0,\\\"delay factor\\\":1.0},\\\"nameSub\\\":\\\"ECE Elective\\\",\\\"id\\\":6580266358031979777,\\\"credits\\\":3},{\\\"curriculum_requisites\\\":[],\\\"name\\\":\\\" \\\",\\\"metrics\\\":{\\\"complexity\\\":1.0,\\\"centrality\\\":0,\\\"blocking factor\\\":0,\\\"delay factor\\\":1.0},\\\"nameSub\\\":\\\"ECE Elective\\\",\\\"id\\\":6580266358031979777,\\\"credits\\\":3},{\\\"curriculum_requisites\\\":[],\\\"name\\\":\\\" \\\",\\\"metrics\\\":{\\\"complexity\\\":1.0,\\\"centrality\\\":0,\\\"blocking factor\\\":0,\\\"delay factor\\\":1.0},\\\"nameSub\\\":\\\"ECE Elective\\\",\\\"id\\\":6580266358031979777,\\\"credits\\\":3},{\\\"curriculum_requisites\\\":[],\\\"name\\\":\\\" \\\",\\\"metrics\\\":{\\\"complexity\\\":1.0,\\\"centrality\\\":0,\\\"blocking factor\\\":0,\\\"delay factor\\\":1.0},\\\"nameSub\\\":\\\"Liberal Studies\\\",\\\"id\\\":477560406490072048,\\\"credits\\\":3}],\\\"id\\\":7}],\\\"institution\\\":\\\"\\\"}},\\\"*\\\"); window.removeEventListener(\\\"message\\\",window.messageReceived); window.messageReceived=(function (event){return (event.data.curriculum!==undefined) ? (_webIOScope.setObservableValue({\\\"name\\\":\\\"curriculum-data\\\",\\\"scope\\\":\\\"scope-611cf523-73b4-4d80-a780-1b2d92226a1d\\\",\\\"id\\\":\\\"ob_02\\\",\\\"type\\\":\\\"observable\\\"},event.data.curriculum)) : undefined}); return window.addEventListener(\\\"message\\\",window.messageReceived)})\"},\"style\":{\"padding\":\"0\",\"height\":\"100vh\",\"margin\":\"0\",\"border\":\"none\",\"width\":\"100%\"}},\"nodeType\":\"DOM\",\"type\":\"node\",\"instanceArgs\":{\"namespace\":\"html\",\"tag\":\"iframe\"},\"children\":[\"\"]}]},\n",
       "        );\n",
       "    } else {\n",
       "        document\n",
       "            .querySelector('[data-webio-mountpoint=\"8567075871318782233\"]')\n",
       "            .innerHTML = '<strong>WebIO not detected.</strong>';\n",
       "    }\n",
       "    </script>\n",
       "</div>\n"
      ],
      "text/plain": [
       "WebIO.Scope(\"scope-611cf523-73b4-4d80-a780-1b2d92226a1d\", WebIO.Node{WebIO.DOM}(WebIO.DOM(:html, :iframe), Any[\"\"], Dict{Symbol,Any}(:src=>\"http://localhost:8156\",:id=>\"curriculum\",:events=>Dict(:load=>JSString(\"(function (){this.contentWindow.postMessage({\\\"options\\\":{\\\"hideTerms\\\":false,\\\"edit\\\":true},\\\"curriculum\\\":{\\\"name\\\":\\\"University of Houston EE Program\\\",\\\"dp_name\\\":\\\"Cornell EE Program 4-year Plan\\\",\\\"curriculum_terms\\\":[{\\\"name\\\":\\\"Term 1\\\",\\\"curriculum_items\\\":[{\\\"curriculum_requisites\\\":[],\\\"name\\\":\\\"MATH 1910\\\",\\\"metrics\\\":{\\\"complexity\\\":15.0,\\\"centrality\\\":0,\\\"blocking factor\\\":10,\\\"delay factor\\\":5.0},\\\"nameSub\\\":\\\"MATH 1910\\\",\\\"id\\\":8313278572805838038,\\\"credits\\\":3},{\\\"curriculum_requisites\\\":[],\\\"name\\\":\\\"CS 111x\\\",\\\"metrics\\\":{\\\"complexity\\\":6.0,\\\"centrality\\\":0,\\\"blocking factor\\\":3,\\\"delay factor\\\":3.0},\\\"nameSub\\\":\\\"CS 111x\\\",\\\"id\\\":5064249191167198867,\\\"credits\\\":3},{\\\"curriculum_requisites\\\":[],\\\"name\\\":\\\"CHEM 2090\\\",\\\"metrics\\\":{\\\"complexity\\\":1.0,\\\"centrality\\\":0,\\\"blocking factor\\\":0,\\\"delay factor\\\":1.0},\\\"nameSub\\\":\\\"CHEM 2090\\\",\\\"id\\\":8160942477924229752,\\\"credits\\\":3},{\\\"curriculum_requisites\\\":[],\\\"name\\\":\\\"ENGRI 1xxx\\\",\\\"metrics\\\":{\\\"complexity\\\":1.0,\\\"centrality\\\":0,\\\"blocking factor\\\":0,\\\"delay factor\\\":1.0},\\\"nameSub\\\":\\\"ENGRI 1xxx\\\",\\\"id\\\":2875301839579592813,\\\"credits\\\":3},{\\\"curriculum_requisites\\\":[],\\\"name\\\":\\\" \\\",\\\"metrics\\\":{\\\"complexity\\\":1.0,\\\"centrality\\\":0,\\\"blocking factor\\\":0,\\\"delay factor\\\":1.0},\\\"nameSub\\\":\\\"1st Yr Writing Seminar\\\",\\\"id\\\":6947838602140191202,\\\"credits\\\":3}],\\\"id\\\":1},{\\\"name\\\":\\\"Term 2\\\",\\\"curriculum_items\\\":[{\\\"curriculum_requisites\\\":[{\\\"source_id\\\":8313278572805838038,\\\"target_id\\\":3190317415296560580,\\\"type\\\":\\\"prereq\\\"}],\\\"name\\\":\\\"MATH 1920\\\",\\\"metrics\\\":{\\\"complexity\\\":12.0,\\\"centrality\\\":28,\\\"blocking factor\\\":8,\\\"delay factor\\\":4.0},\\\"nameSub\\\":\\\"MATH 1920\\\",\\\"id\\\":3190317415296560580,\\\"credits\\\":3},{\\\"curriculum_requisites\\\":[{\\\"source_id\\\":8313278572805838038,\\\"target_id\\\":1975022711718740449,\\\"type\\\":\\\"prereq\\\"}],\\\"name\\\":\\\"PHYS 1112\\\",\\\"metrics\\\":{\\\"complexity\\\":9.0,\\\"centrality\\\":9,\\\"blocking factor\\\":4,\\\"delay factor\\\":5.0},\\\"nameSub\\\":\\\"PHYS 1112\\\",\\\"id\\\":1975022711718740449,\\\"credits\\\":3},{\\\"curriculum_requisites\\\":[{\\\"source_id\\\":5064249191167198867,\\\"target_id\\\":1636238990205895497,\\\"type\\\":\\\"prereq\\\"}],\\\"name\\\":\\\"MECE/ENGRD 2300\\\",\\\"metrics\\\":{\\\"complexity\\\":4.0,\\\"centrality\\\":3,\\\"blocking factor\\\":1,\\\"delay factor\\\":3.0},\\\"nameSub\\\":\\\"MECE/ENGRD 2300\\\",\\\"id\\\":1636238990205895497,\\\"credits\\\":3},{\\\"curriculum_requisites\\\":[{\\\"source_id\\\":5064249191167198867,\\\"target_id\\\":8246304382802822903,\\\"type\\\":\\\"prereq\\\"}],\\\"name\\\":\\\" \\\",\\\"metrics\\\":{\\\"complexity\\\":2.0,\\\"centrality\\\":0,\\\"blocking factor\\\":0,\\\"delay factor\\\":2.0},\\\"nameSub\\\":\\\"Outside Tech. Elective\\\",\\\"id\\\":8246304382802822903,\\\"credits\\\":3},{\\\"curriculum_requisites\\\":[],\\\"name\\\":\\\" \\\",\\\"metrics\\\":{\\\"complexity\\\":1.0,\\\"centrality\\\":0,\\\"blocking factor\\\":0,\\\"delay factor\\\":1.0},\\\"nameSub\\\":\\\"PE\\\",\\\"id\\\":6570063555578612175,\\\"credits\\\":3}],\\\"id\\\":2},{\\\"name\\\":\\\"Term 3\\\",\\\"curriculum_items\\\":[{\\\"curriculum_requisites\\\":[{\\\"source_id\\\":1975022711718740449,\\\"target_id\\\":5894592768647373025,\\\"type\\\":\\\"prereq\\\"},{\\\"source_id\\\":3190317415296560580,\\\"target_id\\\":5894592768647373025,\\\"type\\\":\\\"prereq\\\"}],\\\"name\\\":\\\"PHYS 2213\\\",\\\"metrics\\\":{\\\"complexity\\\":8.0,\\\"centrality\\\":18,\\\"blocking factor\\\":3,\\\"delay factor\\\":5.0},\\\"nameSub\\\":\\\"PHYS 2213\\\",\\\"id\\\":5894592768647373025,\\\"credits\\\":3},{\\\"curriculum_requisites\\\":[{\\\"source_id\\\":3190317415296560580,\\\"target_id\\\":5080248561481203972,\\\"type\\\":\\\"prereq\\\"}],\\\"name\\\":\\\"MATH 2930\\\",\\\"metrics\\\":{\\\"complexity\\\":8.0,\\\"centrality\\\":14,\\\"blocking factor\\\":4,\\\"delay factor\\\":4.0},\\\"nameSub\\\":\\\"MATH 2930\\\",\\\"id\\\":5080248561481203972,\\\"credits\\\":3},{\\\"curriculum_requisites\\\":[{\\\"source_id\\\":5894592768647373025,\\\"target_id\\\":3315950941386074789,\\\"type\\\":\\\"coreq\\\"},{\\\"source_id\\\":5080248561481203972,\\\"target_id\\\":3315950941386074789,\\\"type\\\":\\\"coreq\\\"}],\\\"name\\\":\\\"ECE/ENGRD 2100\\\",\\\"metrics\\\":{\\\"complexity\\\":6.0,\\\"centrality\\\":15,\\\"blocking factor\\\":1,\\\"delay factor\\\":5.0},\\\"nameSub\\\":\\\"ECE/ENGRD 2100\\\",\\\"id\\\":3315950941386074789,\\\"credits\\\":3},{\\\"curriculum_requisites\\\":[{\\\"source_id\\\":3190317415296560580,\\\"target_id\\\":253672194665637221,\\\"type\\\":\\\"prereq\\\"}],\\\"name\\\":\\\"MATH 2940\\\",\\\"metrics\\\":{\\\"complexity\\\":5.0,\\\"centrality\\\":5,\\\"blocking factor\\\":2,\\\"delay factor\\\":3.0},\\\"nameSub\\\":\\\"MATH 2940\\\",\\\"id\\\":253672194665637221,\\\"credits\\\":3},{\\\"curriculum_requisites\\\":[{\\\"source_id\\\":5080248561481203972,\\\"target_id\\\":2116344654823900524,\\\"type\\\":\\\"coreq\\\"}],\\\"name\\\":\\\"PHYS 2214\\\",\\\"metrics\\\":{\\\"complexity\\\":4.0,\\\"centrality\\\":0,\\\"blocking factor\\\":0,\\\"delay factor\\\":4.0},\\\"nameSub\\\":\\\"PHYS 2214\\\",\\\"id\\\":2116344654823900524,\\\"credits\\\":3}],\\\"id\\\":3},{\\\"name\\\":\\\"Term 4\\\",\\\"curriculum_items\\\":[{\\\"curriculum_requisites\\\":[{\\\"source_id\\\":5080248561481203972,\\\"target_id\\\":7499028772336587772,\\\"type\\\":\\\"prereq\\\"},{\\\"source_id\\\":253672194665637221,\\\"target_id\\\":7499028772336587772,\\\"type\\\":\\\"coreq\\\"}],\\\"name\\\":\\\"ECE/ENGRD 2200/2220\\\",\\\"metrics\\\":{\\\"complexity\\\":5.0,\\\"centrality\\\":10,\\\"blocking factor\\\":1,\\\"delay factor\\\":4.0},\\\"nameSub\\\":\\\"ECE 2200/ENGRD 2220\\\",\\\"id\\\":7499028772336587772,\\\"credits\\\":3},{\\\"curriculum_requisites\\\":[{\\\"source_id\\\":5894592768647373025,\\\"target_id\\\":258541464445700654,\\\"type\\\":\\\"prereq\\\"}],\\\"name\\\":\\\"ENGRD 2xxx\\\",\\\"metrics\\\":{\\\"complexity\\\":4.0,\\\"centrality\\\":0,\\\"blocking factor\\\":0,\\\"delay factor\\\":4.0},\\\"nameSub\\\":\\\"ENGRD 2xxx\\\",\\\"id\\\":258541464445700654,\\\"credits\\\":3},{\\\"curriculum_requisites\\\":[],\\\"name\\\":\\\" \\\",\\\"metrics\\\":{\\\"complexity\\\":1.0,\\\"centrality\\\":0,\\\"blocking factor\\\":0,\\\"delay factor\\\":1.0},\\\"nameSub\\\":\\\"1st Yr Writing Seminar\\\",\\\"id\\\":6947838602140191202,\\\"credits\\\":3},{\\\"curriculum_requisites\\\":[],\\\"name\\\":\\\" \\\",\\\"metrics\\\":{\\\"complexity\\\":1.0,\\\"centrality\\\":0,\\\"blocking factor\\\":0,\\\"delay factor\\\":1.0},\\\"nameSub\\\":\\\"PE\\\",\\\"id\\\":6570063555578612175,\\\"credits\\\":3},{\\\"curriculum_requisites\\\":[],\\\"name\\\":\\\" \\\",\\\"metrics\\\":{\\\"complexity\\\":1.0,\\\"centrality\\\":0,\\\"blocking factor\\\":0,\\\"delay factor\\\":1.0},\\\"nameSub\\\":\\\"Liberal Studies\\\",\\\"id\\\":477560406490072048,\\\"credits\\\":3},{\\\"curriculum_requisites\\\":[],\\\"name\\\":\\\" \\\",\\\"metrics\\\":{\\\"complexity\\\":1.0,\\\"centrality\\\":0,\\\"blocking factor\\\":0,\\\"delay factor\\\":1.0},\\\"nameSub\\\":\\\"Liberal Studies\\\",\\\"id\\\":477560406490072048,\\\"credits\\\":3}],\\\"id\\\":4},{\\\"name\\\":\\\"Term 5\\\",\\\"curriculum_items\\\":[{\\\"curriculum_requisites\\\":[{\\\"source_id\\\":1636238990205895497,\\\"target_id\\\":1954000883185819961,\\\"type\\\":\\\"prereq\\\"},{\\\"source_id\\\":3315950941386074789,\\\"target_id\\\":1954000883185819961,\\\"type\\\":\\\"prereq\\\"},{\\\"source_id\\\":7499028772336587772,\\\"target_id\\\":1954000883185819961,\\\"type\\\":\\\"prereq\\\"}],\\\"name\\\":\\\"ECE 3400\\\",\\\"metrics\\\":{\\\"complexity\\\":5.0,\\\"centrality\\\":0,\\\"blocking factor\\\":0,\\\"delay factor\\\":5.0},\\\"nameSub\\\":\\\"ECE 3400\\\",\\\"id\\\":1954000883185819961,\\\"credits\\\":3},{\\\"curriculum_requisites\\\":[],\\\"name\\\":\\\" \\\",\\\"metrics\\\":{\\\"complexity\\\":1.0,\\\"centrality\\\":0,\\\"blocking factor\\\":0,\\\"delay factor\\\":1.0},\\\"nameSub\\\":\\\"ECE Foundations\\\",\\\"id\\\":8035499742881410880,\\\"credits\\\":3},{\\\"curriculum_requisites\\\":[],\\\"name\\\":\\\" \\\",\\\"metrics\\\":{\\\"complexity\\\":1.0,\\\"centrality\\\":0,\\\"blocking factor\\\":0,\\\"delay factor\\\":1.0},\\\"nameSub\\\":\\\"Elective\\\",\\\"id\\\":1820568072605266228,\\\"credits\\\":3},{\\\"curriculum_requisites\\\":[],\\\"name\\\":\\\" \\\",\\\"metrics\\\":{\\\"complexity\\\":1.0,\\\"centrality\\\":0,\\\"blocking factor\\\":0,\\\"delay factor\\\":1.0},\\\"nameSub\\\":\\\"Liberal Studies\\\",\\\"id\\\":477560406490072048,\\\"credits\\\":3},{\\\"curriculum_requisites\\\":[],\\\"name\\\":\\\" \\\",\\\"metrics\\\":{\\\"complexity\\\":1.0,\\\"centrality\\\":0,\\\"blocking factor\\\":0,\\\"delay factor\\\":1.0},\\\"nameSub\\\":\\\"ECE Foundations\\\",\\\"id\\\":8035499742881410880,\\\"credits\\\":3}],\\\"id\\\":5},{\\\"name\\\":\\\"Term 6\\\",\\\"curriculum_items\\\":[{\\\"curriculum_requisites\\\":[],\\\"name\\\":\\\" \\\",\\\"metrics\\\":{\\\"complexity\\\":1.0,\\\"centrality\\\":0,\\\"blocking factor\\\":0,\\\"delay factor\\\":1.0},\\\"nameSub\\\":\\\"ECE Foundations\\\",\\\"id\\\":8035499742881410880,\\\"credits\\\":3},{\\\"curriculum_requisites\\\":[],\\\"name\\\":\\\" \\\",\\\"metrics\\\":{\\\"complexity\\\":1.0,\\\"centrality\\\":0,\\\"blocking factor\\\":0,\\\"delay factor\\\":1.0},\\\"nameSub\\\":\\\"Outside Tech. Elective\\\",\\\"id\\\":8246304382802822903,\\\"credits\\\":3},{\\\"curriculum_requisites\\\":[],\\\"name\\\":\\\" \\\",\\\"metrics\\\":{\\\"complexity\\\":1.0,\\\"centrality\\\":0,\\\"blocking factor\\\":0,\\\"delay factor\\\":1.0},\\\"nameSub\\\":\\\"Elective\\\",\\\"id\\\":1820568072605266228,\\\"credits\\\":3},{\\\"curriculum_requisites\\\":[],\\\"name\\\":\\\" \\\",\\\"metrics\\\":{\\\"complexity\\\":1.0,\\\"centrality\\\":0,\\\"blocking factor\\\":0,\\\"delay factor\\\":1.0},\\\"nameSub\\\":\\\"Liberal Studies\\\",\\\"id\\\":477560406490072048,\\\"credits\\\":3},{\\\"curriculum_requisites\\\":[],\\\"name\\\":\\\" \\\",\\\"metrics\\\":{\\\"complexity\\\":1.0,\\\"centrality\\\":0,\\\"blocking factor\\\":0,\\\"delay factor\\\":1.0},\\\"nameSub\\\":\\\"ECE Elective \\\",\\\"id\\\":5881086909490932740,\\\"credits\\\":3},{\\\"curriculum_requisites\\\":[],\\\"name\\\":\\\" \\\",\\\"metrics\\\":{\\\"complexity\\\":1.0,\\\"centrality\\\":0,\\\"blocking factor\\\":0,\\\"delay factor\\\":1.0},\\\"nameSub\\\":\\\"ECE Elective\\\",\\\"id\\\":6580266358031979777,\\\"credits\\\":3}],\\\"id\\\":6},{\\\"name\\\":\\\"Term 7\\\",\\\"curriculum_items\\\":[{\\\"curriculum_requisites\\\":[],\\\"name\\\":\\\" \\\",\\\"metrics\\\":{\\\"complexity\\\":1.0,\\\"centrality\\\":0,\\\"blocking factor\\\":0,\\\"delay factor\\\":1.0},\\\"nameSub\\\":\\\"Outside Tech. Elective\\\",\\\"id\\\":8246304382802822903,\\\"credits\\\":3},{\\\"curriculum_requisites\\\":[],\\\"name\\\":\\\" \\\",\\\"metrics\\\":{\\\"complexity\\\":1.0,\\\"centrality\\\":0,\\\"blocking factor\\\":0,\\\"delay factor\\\":1.0},\\\"nameSub\\\":\\\"Liberal Studies\\\",\\\"id\\\":477560406490072048,\\\"credits\\\":3},{\\\"curriculum_requisites\\\":[],\\\"name\\\":\\\" \\\",\\\"metrics\\\":{\\\"complexity\\\":1.0,\\\"centrality\\\":0,\\\"blocking factor\\\":0,\\\"delay factor\\\":1.0},\\\"nameSub\\\":\\\"ECE Elective\\\",\\\"id\\\":6580266358031979777,\\\"credits\\\":3},{\\\"curriculum_requisites\\\":[],\\\"name\\\":\\\" \\\",\\\"metrics\\\":{\\\"complexity\\\":1.0,\\\"centrality\\\":0,\\\"blocking factor\\\":0,\\\"delay factor\\\":1.0},\\\"nameSub\\\":\\\"ECE Elective\\\",\\\"id\\\":6580266358031979777,\\\"credits\\\":3},{\\\"curriculum_requisites\\\":[],\\\"name\\\":\\\" \\\",\\\"metrics\\\":{\\\"complexity\\\":1.0,\\\"centrality\\\":0,\\\"blocking factor\\\":0,\\\"delay factor\\\":1.0},\\\"nameSub\\\":\\\"ECE Elective\\\",\\\"id\\\":6580266358031979777,\\\"credits\\\":3},{\\\"curriculum_requisites\\\":[],\\\"name\\\":\\\" \\\",\\\"metrics\\\":{\\\"complexity\\\":1.0,\\\"centrality\\\":0,\\\"blocking factor\\\":0,\\\"delay factor\\\":1.0},\\\"nameSub\\\":\\\"Liberal Studies\\\",\\\"id\\\":477560406490072048,\\\"credits\\\":3}],\\\"id\\\":7}],\\\"institution\\\":\\\"\\\"}},\\\"*\\\"); window.removeEventListener(\\\"message\\\",window.messageReceived); window.messageReceived=(function (event){return (event.data.curriculum!==undefined) ? (_webIOScope.setObservableValue({\\\"name\\\":\\\"curriculum-data\\\",\\\"scope\\\":\\\"scope-611cf523-73b4-4d80-a780-1b2d92226a1d\\\",\\\"id\\\":\\\"ob_02\\\",\\\"type\\\":\\\"observable\\\"},event.data.curriculum)) : undefined}); return window.addEventListener(\\\"message\\\",window.messageReceived)})\")),:style=>Dict(:padding=>\"0\",:height=>\"100vh\",:margin=>\"0\",:border=>\"none\",:width=>\"100%\")), 1), Dict{String,Tuple{Observables.AbstractObservable,Union{Nothing, Bool}}}(\"curriculum-data\"=>(Observable{Dict{String,Any}} with 1 listeners. Value:\n",
       "Dict{String,Any}(\"options\"=>Dict{String,Any}(\"hideTerms\"=>false,\"edit\"=>true),\"curriculum\"=>Dict{String,Any}(\"name\"=>\"University of Houston EE Program\",\"dp_name\"=>\"Cornell EE Program 4-year Plan\",\"curriculum_terms\"=>Dict{String,Any}[Dict(\"name\"=>\"Term 1\",\"curriculum_items\"=>Dict{String,Any}[Dict(\"curriculum_requisites\"=>Dict{String,Any}[],\"name\"=>\"MATH 1910\",\"metrics\"=>Dict{String,Any}(\"complexity\"=>15.0,\"centrality\"=>0,\"blocking factor\"=>10,\"delay factor\"=>5.0),\"nameSub\"=>\"MATH 1910\",\"id\"=>8313278572805838038,\"credits\"=>3), Dict(\"curriculum_requisites\"=>Dict{String,Any}[],\"name\"=>\"CS 111x\",\"metrics\"=>Dict{String,Any}(\"complexity\"=>6.0,\"centrality\"=>0,\"blocking factor\"=>3,\"delay factor\"=>3.0),\"nameSub\"=>\"CS 111x\",\"id\"=>5064249191167198867,\"credits\"=>3), Dict(\"curriculum_requisites\"=>Dict{String,Any}[],\"name\"=>\"CHEM 2090\",\"metrics\"=>Dict{String,Any}(\"complexity\"=>1.0,\"centrality\"=>0,\"blocking factor\"=>0,\"delay factor\"=>1.0),\"nameSub\"=>\"CHEM 2090\",\"id\"=>8160942477924229752,\"credits\"=>3), Dict(\"curriculum_requisites\"=>Dict{String,Any}[],\"name\"=>\"ENGRI 1xxx\",\"metrics\"=>Dict{String,Any}(\"complexity\"=>1.0,\"centrality\"=>0,\"blocking factor\"=>0,\"delay factor\"=>1.0),\"nameSub\"=>\"ENGRI 1xxx\",\"id\"=>2875301839579592813,\"credits\"=>3), Dict(\"curriculum_requisites\"=>Dict{String,Any}[],\"name\"=>\" \",\"metrics\"=>Dict{String,Any}(\"complexity\"=>1.0,\"centrality\"=>0,\"blocking factor\"=>0,\"delay factor\"=>1.0),\"nameSub\"=>\"1st Yr Writing Seminar\",\"id\"=>6947838602140191202,\"credits\"=>3)],\"id\"=>1), Dict(\"name\"=>\"Term 2\",\"curriculum_items\"=>Dict{String,Any}[Dict(\"curriculum_requisites\"=>Dict{String,Any}[Dict(\"source_id\"=>8313278572805838038,\"target_id\"=>3190317415296560580,\"type\"=>\"prereq\")],\"name\"=>\"MATH 1920\",\"metrics\"=>Dict{String,Any}(\"complexity\"=>12.0,\"centrality\"=>28,\"blocking factor\"=>8,\"delay factor\"=>4.0),\"nameSub\"=>\"MATH 1920\",\"id\"=>3190317415296560580,\"credits\"=>3), Dict(\"curriculum_requisites\"=>Dict{String,Any}[Dict(\"source_id\"=>8313278572805838038,\"target_id\"=>1975022711718740449,\"type\"=>\"prereq\")],\"name\"=>\"PHYS 1112\",\"metrics\"=>Dict{String,Any}(\"complexity\"=>9.0,\"centrality\"=>9,\"blocking factor\"=>4,\"delay factor\"=>5.0),\"nameSub\"=>\"PHYS 1112\",\"id\"=>1975022711718740449,\"credits\"=>3), Dict(\"curriculum_requisites\"=>Dict{String,Any}[Dict(\"source_id\"=>5064249191167198867,\"target_id\"=>1636238990205895497,\"type\"=>\"prereq\")],\"name\"=>\"MECE/ENGRD 2300\",\"metrics\"=>Dict{String,Any}(\"complexity\"=>4.0,\"centrality\"=>3,\"blocking factor\"=>1,\"delay factor\"=>3.0),\"nameSub\"=>\"MECE/ENGRD 2300\",\"id\"=>1636238990205895497,\"credits\"=>3), Dict(\"curriculum_requisites\"=>Dict{String,Any}[Dict(\"source_id\"=>5064249191167198867,\"target_id\"=>8246304382802822903,\"type\"=>\"prereq\")],\"name\"=>\" \",\"metrics\"=>Dict{String,Any}(\"complexity\"=>2.0,\"centrality\"=>0,\"blocking factor\"=>0,\"delay factor\"=>2.0),\"nameSub\"=>\"Outside Tech. Elective\",\"id\"=>8246304382802822903,\"credits\"=>3), Dict(\"curriculum_requisites\"=>Dict{String,Any}[],\"name\"=>\" \",\"metrics\"=>Dict{String,Any}(\"complexity\"=>1.0,\"centrality\"=>0,\"blocking factor\"=>0,\"delay factor\"=>1.0),\"nameSub\"=>\"PE\",\"id\"=>6570063555578612175,\"credits\"=>3)],\"id\"=>2), Dict(\"name\"=>\"Term 3\",\"curriculum_items\"=>Dict{String,Any}[Dict(\"curriculum_requisites\"=>Dict{String,Any}[Dict(\"source_id\"=>1975022711718740449,\"target_id\"=>5894592768647373025,\"type\"=>\"prereq\"), Dict(\"source_id\"=>3190317415296560580,\"target_id\"=>5894592768647373025,\"type\"=>\"prereq\")],\"name\"=>\"PHYS 2213\",\"metrics\"=>Dict{String,Any}(\"complexity\"=>8.0,\"centrality\"=>18,\"blocking factor\"=>3,\"delay factor\"=>5.0),\"nameSub\"=>\"PHYS 2213\",\"id\"=>5894592768647373025,\"credits\"=>3), Dict(\"curriculum_requisites\"=>Dict{String,Any}[Dict(\"source_id\"=>3190317415296560580,\"target_id\"=>5080248561481203972,\"type\"=>\"prereq\")],\"name\"=>\"MATH 2930\",\"metrics\"=>Dict{String,Any}(\"complexity\"=>8.0,\"centrality\"=>14,\"blocking factor\"=>4,\"delay factor\"=>4.0),\"nameSub\"=>\"MATH 2930\",\"id\"=>5080248561481203972,\"credits\"=>3), Dict(\"curriculum_requisites\"=>Dict{String,Any}[Dict(\"source_id\"=>5894592768647373025,\"target_id\"=>3315950941386074789,\"type\"=>\"coreq\"), Dict(\"source_id\"=>5080248561481203972,\"target_id\"=>3315950941386074789,\"type\"=>\"coreq\")],\"name\"=>\"ECE/ENGRD 2100\",\"metrics\"=>Dict{String,Any}(\"complexity\"=>6.0,\"centrality\"=>15,\"blocking factor\"=>1,\"delay factor\"=>5.0),\"nameSub\"=>\"ECE/ENGRD 2100\",\"id\"=>3315950941386074789,\"credits\"=>3), Dict(\"curriculum_requisites\"=>Dict{String,Any}[Dict(\"source_id\"=>3190317415296560580,\"target_id\"=>253672194665637221,\"type\"=>\"prereq\")],\"name\"=>\"MATH 2940\",\"metrics\"=>Dict{String,Any}(\"complexity\"=>5.0,\"centrality\"=>5,\"blocking factor\"=>2,\"delay factor\"=>3.0),\"nameSub\"=>\"MATH 2940\",\"id\"=>253672194665637221,\"credits\"=>3), Dict(\"curriculum_requisites\"=>Dict{String,Any}[Dict(\"source_id\"=>5080248561481203972,\"target_id\"=>2116344654823900524,\"type\"=>\"coreq\")],\"name\"=>\"PHYS 2214\",\"metrics\"=>Dict{String,Any}(\"complexity\"=>4.0,\"centrality\"=>0,\"blocking factor\"=>0,\"delay factor\"=>4.0),\"nameSub\"=>\"PHYS 2214\",\"id\"=>2116344654823900524,\"credits\"=>3)],\"id\"=>3), Dict(\"name\"=>\"Term 4\",\"curriculum_items\"=>Dict{String,Any}[Dict(\"curriculum_requisites\"=>Dict{String,Any}[Dict(\"source_id\"=>5080248561481203972,\"target_id\"=>7499028772336587772,\"type\"=>\"prereq\"), Dict(\"source_id\"=>253672194665637221,\"target_id\"=>7499028772336587772,\"type\"=>\"coreq\")],\"name\"=>\"ECE/ENGRD 2200/2220\",\"metrics\"=>Dict{String,Any}(\"complexity\"=>5.0,\"centrality\"=>10,\"blocking factor\"=>1,\"delay factor\"=>4.0),\"nameSub\"=>\"ECE 2200/ENGRD 2220\",\"id\"=>7499028772336587772,\"credits\"=>3), Dict(\"curriculum_requisites\"=>Dict{String,Any}[Dict(\"source_id\"=>5894592768647373025,\"target_id\"=>258541464445700654,\"type\"=>\"prereq\")],\"name\"=>\"ENGRD 2xxx\",\"metrics\"=>Dict{String,Any}(\"complexity\"=>4.0,\"centrality\"=>0,\"blocking factor\"=>0,\"delay factor\"=>4.0),\"nameSub\"=>\"ENGRD 2xxx\",\"id\"=>258541464445700654,\"credits\"=>3), Dict(\"curriculum_requisites\"=>Dict{String,Any}[],\"name\"=>\" \",\"metrics\"=>Dict{String,Any}(\"complexity\"=>1.0,\"centrality\"=>0,\"blocking factor\"=>0,\"delay factor\"=>1.0),\"nameSub\"=>\"1st Yr Writing Seminar\",\"id\"=>6947838602140191202,\"credits\"=>3), Dict(\"curriculum_requisites\"=>Dict{String,Any}[],\"name\"=>\" \",\"metrics\"=>Dict{String,Any}(\"complexity\"=>1.0,\"centrality\"=>0,\"blocking factor\"=>0,\"delay factor\"=>1.0),\"nameSub\"=>\"PE\",\"id\"=>6570063555578612175,\"credits\"=>3), Dict(\"curriculum_requisites\"=>Dict{String,Any}[],\"name\"=>\" \",\"metrics\"=>Dict{String,Any}(\"complexity\"=>1.0,\"centrality\"=>0,\"blocking factor\"=>0,\"delay factor\"=>1.0),\"nameSub\"=>\"Liberal Studies\",\"id\"=>477560406490072048,\"credits\"=>3), Dict(\"curriculum_requisites\"=>Dict{String,Any}[],\"name\"=>\" \",\"metrics\"=>Dict{String,Any}(\"complexity\"=>1.0,\"centrality\"=>0,\"blocking factor\"=>0,\"delay factor\"=>1.0),\"nameSub\"=>\"Liberal Studies\",\"id\"=>477560406490072048,\"credits\"=>3)],\"id\"=>4), Dict(\"name\"=>\"Term 5\",\"curriculum_items\"=>Dict{String,Any}[Dict(\"curriculum_requisites\"=>Dict{String,Any}[Dict(\"source_id\"=>1636238990205895497,\"target_id\"=>1954000883185819961,\"type\"=>\"prereq\"), Dict(\"source_id\"=>3315950941386074789,\"target_id\"=>1954000883185819961,\"type\"=>\"prereq\"), Dict(\"source_id\"=>7499028772336587772,\"target_id\"=>1954000883185819961,\"type\"=>\"prereq\")],\"name\"=>\"ECE 3400\",\"metrics\"=>Dict{String,Any}(\"complexity\"=>5.0,\"centrality\"=>0,\"blocking factor\"=>0,\"delay factor\"=>5.0),\"nameSub\"=>\"ECE 3400\",\"id\"=>1954000883185819961,\"credits\"=>3), Dict(\"curriculum_requisites\"=>Dict{String,Any}[],\"name\"=>\" \",\"metrics\"=>Dict{String,Any}(\"complexity\"=>1.0,\"centrality\"=>0,\"blocking factor\"=>0,\"delay factor\"=>1.0),\"nameSub\"=>\"ECE Foundations\",\"id\"=>8035499742881410880,\"credits\"=>3), Dict(\"curriculum_requisites\"=>Dict{String,Any}[],\"name\"=>\" \",\"metrics\"=>Dict{String,Any}(\"complexity\"=>1.0,\"centrality\"=>0,\"blocking factor\"=>0,\"delay factor\"=>1.0),\"nameSub\"=>\"Elective\",\"id\"=>1820568072605266228,\"credits\"=>3), Dict(\"curriculum_requisites\"=>Dict{String,Any}[],\"name\"=>\" \",\"metrics\"=>Dict{String,Any}(\"complexity\"=>1.0,\"centrality\"=>0,\"blocking factor\"=>0,\"delay factor\"=>1.0),\"nameSub\"=>\"Liberal Studies\",\"id\"=>477560406490072048,\"credits\"=>3), Dict(\"curriculum_requisites\"=>Dict{String,Any}[],\"name\"=>\" \",\"metrics\"=>Dict{String,Any}(\"complexity\"=>1.0,\"centrality\"=>0,\"blocking factor\"=>0,\"delay factor\"=>1.0),\"nameSub\"=>\"ECE Foundations\",\"id\"=>8035499742881410880,\"credits\"=>3)],\"id\"=>5), Dict(\"name\"=>\"Term 6\",\"curriculum_items\"=>Dict{String,Any}[Dict(\"curriculum_requisites\"=>Dict{String,Any}[],\"name\"=>\" \",\"metrics\"=>Dict{String,Any}(\"complexity\"=>1.0,\"centrality\"=>0,\"blocking factor\"=>0,\"delay factor\"=>1.0),\"nameSub\"=>\"ECE Foundations\",\"id\"=>8035499742881410880,\"credits\"=>3), Dict(\"curriculum_requisites\"=>Dict{String,Any}[],\"name\"=>\" \",\"metrics\"=>Dict{String,Any}(\"complexity\"=>1.0,\"centrality\"=>0,\"blocking factor\"=>0,\"delay factor\"=>1.0),\"nameSub\"=>\"Outside Tech. Elective\",\"id\"=>8246304382802822903,\"credits\"=>3), Dict(\"curriculum_requisites\"=>Dict{String,Any}[],\"name\"=>\" \",\"metrics\"=>Dict{String,Any}(\"complexity\"=>1.0,\"centrality\"=>0,\"blocking factor\"=>0,\"delay factor\"=>1.0),\"nameSub\"=>\"Elective\",\"id\"=>1820568072605266228,\"credits\"=>3), Dict(\"curriculum_requisites\"=>Dict{String,Any}[],\"name\"=>\" \",\"metrics\"=>Dict{String,Any}(\"complexity\"=>1.0,\"centrality\"=>0,\"blocking factor\"=>0,\"delay factor\"=>1.0),\"nameSub\"=>\"Liberal Studies\",\"id\"=>477560406490072048,\"credits\"=>3), Dict(\"curriculum_requisites\"=>Dict{String,Any}[],\"name\"=>\" \",\"metrics\"=>Dict{String,Any}(\"complexity\"=>1.0,\"centrality\"=>0,\"blocking factor\"=>0,\"delay factor\"=>1.0),\"nameSub\"=>\"ECE Elective \",\"id\"=>5881086909490932740,\"credits\"=>3), Dict(\"curriculum_requisites\"=>Dict{String,Any}[],\"name\"=>\" \",\"metrics\"=>Dict{String,Any}(\"complexity\"=>1.0,\"centrality\"=>0,\"blocking factor\"=>0,\"delay factor\"=>1.0),\"nameSub\"=>\"ECE Elective\",\"id\"=>6580266358031979777,\"credits\"=>3)],\"id\"=>6), Dict(\"name\"=>\"Term 7\",\"curriculum_items\"=>Dict{String,Any}[Dict(\"curriculum_requisites\"=>Dict{String,Any}[],\"name\"=>\" \",\"metrics\"=>Dict{String,Any}(\"complexity\"=>1.0,\"centrality\"=>0,\"blocking factor\"=>0,\"delay factor\"=>1.0),\"nameSub\"=>\"Outside Tech. Elective\",\"id\"=>8246304382802822903,\"credits\"=>3), Dict(\"curriculum_requisites\"=>Dict{String,Any}[],\"name\"=>\" \",\"metrics\"=>Dict{String,Any}(\"complexity\"=>1.0,\"centrality\"=>0,\"blocking factor\"=>0,\"delay factor\"=>1.0),\"nameSub\"=>\"Liberal Studies\",\"id\"=>477560406490072048,\"credits\"=>3), Dict(\"curriculum_requisites\"=>Dict{String,Any}[],\"name\"=>\" \",\"metrics\"=>Dict{String,Any}(\"complexity\"=>1.0,\"centrality\"=>0,\"blocking factor\"=>0,\"delay factor\"=>1.0),\"nameSub\"=>\"ECE Elective\",\"id\"=>6580266358031979777,\"credits\"=>3), Dict(\"curriculum_requisites\"=>Dict{String,Any}[],\"name\"=>\" \",\"metrics\"=>Dict{String,Any}(\"complexity\"=>1.0,\"centrality\"=>0,\"blocking factor\"=>0,\"delay factor\"=>1.0),\"nameSub\"=>\"ECE Elective\",\"id\"=>6580266358031979777,\"credits\"=>3), Dict(\"curriculum_requisites\"=>Dict{String,Any}[],\"name\"=>\" \",\"metrics\"=>Dict{String,Any}(\"complexity\"=>1.0,\"centrality\"=>0,\"blocking factor\"=>0,\"delay factor\"=>1.0),\"nameSub\"=>\"ECE Elective\",\"id\"=>6580266358031979777,\"credits\"=>3), Dict(\"curriculum_requisites\"=>Dict{String,Any}[],\"name\"=>\" \",\"metrics\"=>Dict{String,Any}(\"complexity\"=>1.0,\"centrality\"=>0,\"blocking factor\"=>0,\"delay factor\"=>1.0),\"nameSub\"=>\"Liberal Studies\",\"id\"=>477560406490072048,\"credits\"=>3)],\"id\"=>7)],\"institution\"=>\"\")), nothing)), Set(String[]), nothing, Any[], Dict{Any,Any}(), WebIO.ConnectionPool(Channel{Any}(sz_max:9223372036854775807,sz_curr:0), Set(WebIO.AbstractConnection[]), Channel{WebIO.AbstractConnection}(sz_max:32,sz_curr:0)))"
      ]
     },
     "execution_count": 2,
     "metadata": {
      "application/vnd.webio.node+json": {
       "kernelId": "c702e524-3399-49e0-9573-b15aa1bb0ad3"
      }
     },
     "output_type": "execute_result"
    },
    {
     "name": "stderr",
     "output_type": "stream",
     "text": [
      "┌ Info: Accept (1):  🔗    0↑     0↓    0s 127.0.0.1:8156:8156 ≣16\n",
      "└ @ HTTP.Servers C:\\Users\\orhan\\.julia\\packages\\HTTP\\YjRCz\\src\\Servers.jl:343\n",
      "┌ Info: Accept (2):  🔗    0↑     0↓    0s 127.0.0.1:8156:8156 ≣16\n",
      "└ @ HTTP.Servers C:\\Users\\orhan\\.julia\\packages\\HTTP\\YjRCz\\src\\Servers.jl:343\n",
      "MethodError: no method matching (::getfield(Main, Symbol(\"##5#6\")))(::String)\n",
      "\u001b[0mClosest candidates are:\n",
      "\u001b[0m  #5(::Any, \u001b[91m::Any\u001b[39m) at In[2]:44"
     ]
    },
    {
     "ename": "MethodError",
     "evalue": "MethodError: no method matching (::getfield(Main, Symbol(\"##5#6\")))(::String)\nClosest candidates are:\n  #5(::Any, !Matched::Any) at In[2]:44",
     "output_type": "error",
     "traceback": [
      "KERNEL EXCEPTION",
      "MethodError: no method matching (::getfield(Main, Symbol(\"##5#6\")))(::String)\nClosest candidates are:\n  #5(::Any, !Matched::Any) at In[2]:44",
      ""
     ]
    },
    {
     "name": "stderr",
     "output_type": "stream",
     "text": [
      "MethodError: no method matching (::getfield(Main, Symbol(\"##5#6\")))(::String)\n",
      "\u001b[0mClosest candidates are:\n",
      "\u001b[0m  #5(::Any, \u001b[91m::Any\u001b[39m) at In[2]:44"
     ]
    },
    {
     "ename": "MethodError",
     "evalue": "MethodError: no method matching (::getfield(Main, Symbol(\"##5#6\")))(::String)\nClosest candidates are:\n  #5(::Any, !Matched::Any) at In[2]:44",
     "output_type": "error",
     "traceback": [
      "KERNEL EXCEPTION",
      "MethodError: no method matching (::getfield(Main, Symbol(\"##5#6\")))(::String)\nClosest candidates are:\n  #5(::Any, !Matched::Any) at In[2]:44",
      ""
     ]
    }
   ],
   "source": [
    "#Activate CurricularAnalytics package and add it\n",
    "if split(pwd(),Base.Filesystem.path_separator)[end] != \"CurricularAnalytics.jl\"\n",
    "    cd(\"../..\")\n",
    "end\n",
    "println(\"Current directory: \" * split(pwd(),\"\\\\\")[end])\n",
    "using Pkg\n",
    "pkg\"activate .\"\n",
    "using CurricularAnalytics\n",
    "\n",
    "#read Classes from csv file and return list of classes and create curriculum\n",
    "c, _ = read_csv(\"examples/CornellECECources.csv\")\n",
    "curric = Curriculum(\"University of Houston EE Program\", c)\n",
    "#calculate complexity to order courses\n",
    "complexity(curric)\n",
    "#Get indexes of cources after sorting according to the complexity score\n",
    "sorted_index = sortperm(curric.metrics[\"complexity\"][2], rev=true)\n",
    "#Input maximum credit allowed each term (in UKY it is 19)\n",
    "max_credits_per_term  = 19\n",
    "#total number of credits\n",
    "curric_total_credit=total_credits(curric)\n",
    "println(curric_total_credit)\n",
    "#to round to upper limit \n",
    "min_term =floor(Int, (curric_total_credit + max_credits_per_term  - 1)/max_credits_per_term )\n",
    "println(\"Minimum of $min_term terms needed to complete this curriculum\")\n",
    "#Get optimum terms according to the req\n",
    "dp = create_degree_plan(curric, \"Cornell EE Program 4-year Plan\", \n",
    "    bin_packing,min_terms=min_term,max_terms = length(c),max_credits_per_term=max_credits_per_term)\n",
    "# Output degree plan\n",
    "errors = IOBuffer()\n",
    "if isvalid_curriculum(curric, errors)\n",
    "    println(\"Curriculum $(curric.name) is valid\")\n",
    "    println(\"  delay factor = $(delay_factor(curric))\")\n",
    "    println(\"  blocking factor = $(blocking_factor(curric))\")\n",
    "    println(\"  centrality factor = $(centrality(curric))\")\n",
    "    println(\"  curricular complexity = $(complexity(curric))\")\n",
    "    take!(errors) # clear the IO buffer\n",
    "    if isvalid_degree_plan(dp, errors)\n",
    "        println(\"Degree plan $(dp.name) is valid\")\n",
    "    else\n",
    "        println(\"Degree plan $(dp.name) is not valid:\")\n",
    "        print(String(take!(errors)))\n",
    "        println(\"\\nDiplaying degree plan for debugging purposes...\")\n",
    "    end\n",
    "    visualize(dp, changed = function printsth(new_data) println(\"new_data\")end,notebook=true, edit=true)\n",
    "\n",
    "else # invalid curriculum\n",
    "    println(\"Curriculum $(curric.name) is not valid:\")\n",
    "    print(String(take!(errors)))\n",
    "end"
   ]
  },
  {
   "cell_type": "code",
   "execution_count": null,
   "metadata": {
    "collapsed": true
   },
   "outputs": [],
   "source": []
  }
 ],
 "metadata": {
  "@webio": {
   "lastCommId": "D8E51CAE18654CCC89EA469A4498073F",
   "lastKernelId": "c702e524-3399-49e0-9573-b15aa1bb0ad3"
  },
  "kernelspec": {
   "display_name": "Julia 1.0.1",
   "language": "julia",
   "name": "julia-1.0"
  },
  "language_info": {
   "file_extension": ".jl",
   "mimetype": "application/julia",
   "name": "julia",
   "version": "1.0.1"
  }
 },
 "nbformat": 4,
 "nbformat_minor": 2
}

{
 "cells": [
  {
   "cell_type": "code",
   "execution_count": 1,
   "metadata": {},
   "outputs": [
    {
     "data": {
      "text/html": [
       "    <script class='js-collapse-script'>\n",
       "        var curMatch =\n",
       "            window.location.href\n",
       "            .match(/(.*?)\\/notebooks\\/.*\\.ipynb/);\n",
       "\n",
       "        curMatch = curMatch ||\n",
       "            window.location.href\n",
       "            .match(/(.*?)\\/apps\\/.*\\.ipynb/);\n",
       "\n",
       "        if ( curMatch ) {\n",
       "            $('head').append('<base href=\"' + curMatch[1] + '/\">');\n",
       "        }\n",
       "    </script>\n"
      ],
      "text/plain": [
       "HTML{String}(\"    <script class='js-collapse-script'>\\n        var curMatch =\\n            window.location.href\\n            .match(/(.*?)\\\\/notebooks\\\\/.*\\\\.ipynb/);\\n\\n        curMatch = curMatch ||\\n            window.location.href\\n            .match(/(.*?)\\\\/apps\\\\/.*\\\\.ipynb/);\\n\\n        if ( curMatch ) {\\n            \\$('head').append('<base href=\\\"' + curMatch[1] + '/\\\">');\\n        }\\n    </script>\\n\")"
      ]
     },
     "metadata": {},
     "output_type": "display_data"
    },
    {
     "data": {
      "text/html": [
       "<script class='js-collapse-script' src='/assetserver/915ec9b1c760b4a55fdcd04339125526a31beda4-assets/webio/dist/bundle.js'></script>"
      ],
      "text/plain": [
       "HTML{String}(\"<script class='js-collapse-script' src='/assetserver/915ec9b1c760b4a55fdcd04339125526a31beda4-assets/webio/dist/bundle.js'></script>\")"
      ]
     },
     "metadata": {},
     "output_type": "display_data"
    },
    {
     "data": {
      "text/html": [
       "<script class='js-collapse-script' src='/assetserver/915ec9b1c760b4a55fdcd04339125526a31beda4-assets/providers/ijulia_setup.js'></script>"
      ],
      "text/plain": [
       "HTML{String}(\"<script class='js-collapse-script' src='/assetserver/915ec9b1c760b4a55fdcd04339125526a31beda4-assets/providers/ijulia_setup.js'></script>\")"
      ]
     },
     "metadata": {},
     "output_type": "display_data"
    },
    {
     "data": {
      "text/html": [
       "  <script class='js-collapse-script'>\n",
       "    $('.js-collapse-script').parent('.output_subarea').css('padding', '0');\n",
       "  </script>\n"
      ],
      "text/plain": [
       "HTML{String}(\"  <script class='js-collapse-script'>\\n    \\$('.js-collapse-script').parent('.output_subarea').css('padding', '0');\\n  </script>\\n\")"
      ]
     },
     "metadata": {},
     "output_type": "display_data"
    },
    {
     "name": "stdout",
     "output_type": "stream",
     "text": [
      "Current directory: CurricularAnalytics.jl\n"
     ]
    }
   ],
   "source": [
    "if split(pwd(),Base.Filesystem.path_separator)[end] != \"CurricularAnalytics.jl\"\n",
    "    cd(\"../../../../Master/CurricularAnalytics.jl\")\n",
    "end\n",
    "println(\"Current directory: \" * split(pwd(),Base.Filesystem.path_separator)[end])\n",
    "using Pkg\n",
    "pkg\"activate .\"\n",
    "using CurricularAnalytics"
   ]
  },
  {
   "cell_type": "code",
   "execution_count": 16,
   "metadata": {},
   "outputs": [
    {
     "data": {
      "text/html": [
       "<div class='display:none'></div><unsafe-script style='display:none'>\n",
       "WebIO.mount(this.previousSibling,{&quot;props&quot;:{},&quot;nodeType&quot;:&quot;Scope&quot;,&quot;type&quot;:&quot;node&quot;,&quot;instanceArgs&quot;:{&quot;imports&quot;:{&quot;data&quot;:[],&quot;type&quot;:&quot;async_block&quot;},&quot;id&quot;:&quot;scope-748a3158-1e4c-456b-b7ff-46c5c70140b0&quot;,&quot;handlers&quot;:{},&quot;systemjs_options&quot;:null,&quot;observables&quot;:{&quot;curriculum-data&quot;:{&quot;sync&quot;:true,&quot;id&quot;:&quot;ob_09&quot;,&quot;value&quot;:{&quot;options&quot;:{&quot;hideTerms&quot;:false,&quot;edit&quot;:false},&quot;curriculum&quot;:{&quot;name&quot;:&quot;Toxicity Example&quot;,&quot;dp_name&quot;:&quot;Toxicity Example&quot;,&quot;curriculum_terms&quot;:[{&quot;name&quot;:&quot;Term 1&quot;,&quot;curriculum_items&quot;:[{&quot;curriculum_requisites&quot;:[],&quot;name&quot;:&quot;C 1&quot;,&quot;metrics&quot;:{&quot;centrality&quot;:0,&quot;complexity&quot;:1.0,&quot;blocking factor&quot;:0,&quot;delay factor&quot;:1.0},&quot;nameSub&quot;:&quot;C1&quot;,&quot;id&quot;:1,&quot;credits&quot;:3,&quot;nameCanonical&quot;:&quot;&quot;},{&quot;curriculum_requisites&quot;:[],&quot;name&quot;:&quot;C 2&quot;,&quot;metrics&quot;:{&quot;centrality&quot;:0,&quot;complexity&quot;:3.0,&quot;blocking factor&quot;:1,&quot;delay factor&quot;:2.0},&quot;nameSub&quot;:&quot;C2&quot;,&quot;id&quot;:2,&quot;credits&quot;:3,&quot;nameCanonical&quot;:&quot;&quot;},{&quot;curriculum_requisites&quot;:[],&quot;name&quot;:&quot;C 3&quot;,&quot;metrics&quot;:{&quot;centrality&quot;:0,&quot;complexity&quot;:1.0,&quot;blocking factor&quot;:0,&quot;delay factor&quot;:1.0},&quot;nameSub&quot;:&quot;C3&quot;,&quot;id&quot;:3,&quot;credits&quot;:3,&quot;nameCanonical&quot;:&quot;&quot;}],&quot;id&quot;:1},{&quot;name&quot;:&quot;Term 2&quot;,&quot;curriculum_items&quot;:[{&quot;curriculum_requisites&quot;:[{&quot;source_id&quot;:2,&quot;target_id&quot;:4,&quot;type&quot;:&quot;prereq&quot;}],&quot;name&quot;:&quot;C 4&quot;,&quot;metrics&quot;:{&quot;centrality&quot;:0,&quot;complexity&quot;:2.0,&quot;blocking factor&quot;:0,&quot;delay factor&quot;:2.0},&quot;nameSub&quot;:&quot;C4&quot;,&quot;id&quot;:4,&quot;credits&quot;:3,&quot;nameCanonical&quot;:&quot;&quot;},{&quot;curriculum_requisites&quot;:[],&quot;name&quot;:&quot;C 5&quot;,&quot;metrics&quot;:{&quot;centrality&quot;:0,&quot;complexity&quot;:1.0,&quot;blocking factor&quot;:0,&quot;delay factor&quot;:1.0},&quot;nameSub&quot;:&quot;C5&quot;,&quot;id&quot;:5,&quot;credits&quot;:3,&quot;nameCanonical&quot;:&quot;&quot;},{&quot;curriculum_requisites&quot;:[],&quot;name&quot;:&quot;C 6&quot;,&quot;metrics&quot;:{&quot;centrality&quot;:0,&quot;complexity&quot;:1.0,&quot;blocking factor&quot;:0,&quot;delay factor&quot;:1.0},&quot;nameSub&quot;:&quot;C6&quot;,&quot;id&quot;:6,&quot;credits&quot;:2,&quot;nameCanonical&quot;:&quot;&quot;}],&quot;id&quot;:2}],&quot;institution&quot;:&quot;&quot;}}}}},&quot;children&quot;:[{&quot;props&quot;:{&quot;src&quot;:&quot;http://localhost:8156&quot;,&quot;id&quot;:&quot;curriculum&quot;,&quot;events&quot;:{&quot;load&quot;:(function (){this.contentWindow.postMessage({&quot;options&quot;:{&quot;hideTerms&quot;:false,&quot;edit&quot;:false},&quot;curriculum&quot;:{&quot;name&quot;:&quot;Toxicity Example&quot;,&quot;dp_name&quot;:&quot;Toxicity Example&quot;,&quot;curriculum_terms&quot;:[{&quot;name&quot;:&quot;Term 1&quot;,&quot;curriculum_items&quot;:[{&quot;curriculum_requisites&quot;:[],&quot;name&quot;:&quot;C 1&quot;,&quot;metrics&quot;:{&quot;centrality&quot;:0,&quot;complexity&quot;:1.0,&quot;blocking factor&quot;:0,&quot;delay factor&quot;:1.0},&quot;nameSub&quot;:&quot;C1&quot;,&quot;id&quot;:1,&quot;credits&quot;:3,&quot;nameCanonical&quot;:&quot;&quot;},{&quot;curriculum_requisites&quot;:[],&quot;name&quot;:&quot;C 2&quot;,&quot;metrics&quot;:{&quot;centrality&quot;:0,&quot;complexity&quot;:3.0,&quot;blocking factor&quot;:1,&quot;delay factor&quot;:2.0},&quot;nameSub&quot;:&quot;C2&quot;,&quot;id&quot;:2,&quot;credits&quot;:3,&quot;nameCanonical&quot;:&quot;&quot;},{&quot;curriculum_requisites&quot;:[],&quot;name&quot;:&quot;C 3&quot;,&quot;metrics&quot;:{&quot;centrality&quot;:0,&quot;complexity&quot;:1.0,&quot;blocking factor&quot;:0,&quot;delay factor&quot;:1.0},&quot;nameSub&quot;:&quot;C3&quot;,&quot;id&quot;:3,&quot;credits&quot;:3,&quot;nameCanonical&quot;:&quot;&quot;}],&quot;id&quot;:1},{&quot;name&quot;:&quot;Term 2&quot;,&quot;curriculum_items&quot;:[{&quot;curriculum_requisites&quot;:[{&quot;source_id&quot;:2,&quot;target_id&quot;:4,&quot;type&quot;:&quot;prereq&quot;}],&quot;name&quot;:&quot;C 4&quot;,&quot;metrics&quot;:{&quot;centrality&quot;:0,&quot;complexity&quot;:2.0,&quot;blocking factor&quot;:0,&quot;delay factor&quot;:2.0},&quot;nameSub&quot;:&quot;C4&quot;,&quot;id&quot;:4,&quot;credits&quot;:3,&quot;nameCanonical&quot;:&quot;&quot;},{&quot;curriculum_requisites&quot;:[],&quot;name&quot;:&quot;C 5&quot;,&quot;metrics&quot;:{&quot;centrality&quot;:0,&quot;complexity&quot;:1.0,&quot;blocking factor&quot;:0,&quot;delay factor&quot;:1.0},&quot;nameSub&quot;:&quot;C5&quot;,&quot;id&quot;:5,&quot;credits&quot;:3,&quot;nameCanonical&quot;:&quot;&quot;},{&quot;curriculum_requisites&quot;:[],&quot;name&quot;:&quot;C 6&quot;,&quot;metrics&quot;:{&quot;centrality&quot;:0,&quot;complexity&quot;:1.0,&quot;blocking factor&quot;:0,&quot;delay factor&quot;:1.0},&quot;nameSub&quot;:&quot;C6&quot;,&quot;id&quot;:6,&quot;credits&quot;:2,&quot;nameCanonical&quot;:&quot;&quot;}],&quot;id&quot;:2}],&quot;institution&quot;:&quot;&quot;}},&quot;*&quot;); window.removeEventListener(&quot;message&quot;,window.messageReceived); window.messageReceived=(function (event){return (event.data.curriculum!==undefined) ? (WebIO.setval({&quot;name&quot;:&quot;curriculum-data&quot;,&quot;scope&quot;:&quot;scope-748a3158-1e4c-456b-b7ff-46c5c70140b0&quot;,&quot;id&quot;:&quot;ob_09&quot;,&quot;type&quot;:&quot;observable&quot;},event.data.curriculum)) : undefined}); return window.addEventListener(&quot;message&quot;,window.messageReceived)})},&quot;style&quot;:{&quot;padding&quot;:&quot;0&quot;,&quot;height&quot;:&quot;100vh&quot;,&quot;margin&quot;:&quot;0&quot;,&quot;border&quot;:&quot;none&quot;,&quot;width&quot;:&quot;100%&quot;}},&quot;nodeType&quot;:&quot;DOM&quot;,&quot;type&quot;:&quot;node&quot;,&quot;instanceArgs&quot;:{&quot;namespace&quot;:&quot;html&quot;,&quot;tag&quot;:&quot;iframe&quot;},&quot;children&quot;:[&quot;&quot;]}]})</unsafe-script>"
      ],
      "text/plain": [
       "WebIO.Scope(\"scope-748a3158-1e4c-456b-b7ff-46c5c70140b0\", WebIO.Node{WebIO.DOM}(WebIO.DOM(:html, :iframe), Any[\"\"], Dict{Symbol,Any}(:src=>\"http://localhost:8156\",:id=>\"curriculum\",:events=>Dict(:load=>JSString(\"(function (){this.contentWindow.postMessage({\\\"options\\\":{\\\"hideTerms\\\":false,\\\"edit\\\":false},\\\"curriculum\\\":{\\\"name\\\":\\\"Toxicity Example\\\",\\\"dp_name\\\":\\\"Toxicity Example\\\",\\\"curriculum_terms\\\":[{\\\"name\\\":\\\"Term 1\\\",\\\"curriculum_items\\\":[{\\\"curriculum_requisites\\\":[],\\\"name\\\":\\\"C 1\\\",\\\"metrics\\\":{\\\"centrality\\\":0,\\\"complexity\\\":1.0,\\\"blocking factor\\\":0,\\\"delay factor\\\":1.0},\\\"nameSub\\\":\\\"C1\\\",\\\"id\\\":1,\\\"credits\\\":3,\\\"nameCanonical\\\":\\\"\\\"},{\\\"curriculum_requisites\\\":[],\\\"name\\\":\\\"C 2\\\",\\\"metrics\\\":{\\\"centrality\\\":0,\\\"complexity\\\":3.0,\\\"blocking factor\\\":1,\\\"delay factor\\\":2.0},\\\"nameSub\\\":\\\"C2\\\",\\\"id\\\":2,\\\"credits\\\":3,\\\"nameCanonical\\\":\\\"\\\"},{\\\"curriculum_requisites\\\":[],\\\"name\\\":\\\"C 3\\\",\\\"metrics\\\":{\\\"centrality\\\":0,\\\"complexity\\\":1.0,\\\"blocking factor\\\":0,\\\"delay factor\\\":1.0},\\\"nameSub\\\":\\\"C3\\\",\\\"id\\\":3,\\\"credits\\\":3,\\\"nameCanonical\\\":\\\"\\\"}],\\\"id\\\":1},{\\\"name\\\":\\\"Term 2\\\",\\\"curriculum_items\\\":[{\\\"curriculum_requisites\\\":[{\\\"source_id\\\":2,\\\"target_id\\\":4,\\\"type\\\":\\\"prereq\\\"}],\\\"name\\\":\\\"C 4\\\",\\\"metrics\\\":{\\\"centrality\\\":0,\\\"complexity\\\":2.0,\\\"blocking factor\\\":0,\\\"delay factor\\\":2.0},\\\"nameSub\\\":\\\"C4\\\",\\\"id\\\":4,\\\"credits\\\":3,\\\"nameCanonical\\\":\\\"\\\"},{\\\"curriculum_requisites\\\":[],\\\"name\\\":\\\"C 5\\\",\\\"metrics\\\":{\\\"centrality\\\":0,\\\"complexity\\\":1.0,\\\"blocking factor\\\":0,\\\"delay factor\\\":1.0},\\\"nameSub\\\":\\\"C5\\\",\\\"id\\\":5,\\\"credits\\\":3,\\\"nameCanonical\\\":\\\"\\\"},{\\\"curriculum_requisites\\\":[],\\\"name\\\":\\\"C 6\\\",\\\"metrics\\\":{\\\"centrality\\\":0,\\\"complexity\\\":1.0,\\\"blocking factor\\\":0,\\\"delay factor\\\":1.0},\\\"nameSub\\\":\\\"C6\\\",\\\"id\\\":6,\\\"credits\\\":2,\\\"nameCanonical\\\":\\\"\\\"}],\\\"id\\\":2}],\\\"institution\\\":\\\"\\\"}},\\\"*\\\"); window.removeEventListener(\\\"message\\\",window.messageReceived); window.messageReceived=(function (event){return (event.data.curriculum!==undefined) ? (WebIO.setval({\\\"name\\\":\\\"curriculum-data\\\",\\\"scope\\\":\\\"scope-748a3158-1e4c-456b-b7ff-46c5c70140b0\\\",\\\"id\\\":\\\"ob_09\\\",\\\"type\\\":\\\"observable\\\"},event.data.curriculum)) : undefined}); return window.addEventListener(\\\"message\\\",window.messageReceived)})\")),:style=>Dict(:padding=>\"0\",:height=>\"100vh\",:margin=>\"0\",:border=>\"none\",:width=>\"100%\")), 1), Dict{String,Tuple{Observables.AbstractObservable,Union{Nothing, Bool}}}(\"curriculum-data\"=>(Observable{Dict{String,Any}} with 1 listeners. Value:\n",
       "Dict{String,Any}(\"options\"=>Dict{String,Any}(\"hideTerms\"=>false,\"edit\"=>false),\"curriculum\"=>Dict{String,Any}(\"name\"=>\"Toxicity Example\",\"dp_name\"=>\"Toxicity Example\",\"curriculum_terms\"=>Dict{String,Any}[Dict(\"name\"=>\"Term 1\",\"curriculum_items\"=>Dict{String,Any}[Dict(\"curriculum_requisites\"=>Dict{String,Any}[],\"name\"=>\"C 1\",\"metrics\"=>Dict{String,Any}(\"centrality\"=>0,\"complexity\"=>1.0,\"blocking factor\"=>0,\"delay factor\"=>1.0),\"nameSub\"=>\"C1\",\"id\"=>1,\"credits\"=>3,\"nameCanonical\"=>\"\"), Dict(\"curriculum_requisites\"=>Dict{String,Any}[],\"name\"=>\"C 2\",\"metrics\"=>Dict{String,Any}(\"centrality\"=>0,\"complexity\"=>3.0,\"blocking factor\"=>1,\"delay factor\"=>2.0),\"nameSub\"=>\"C2\",\"id\"=>2,\"credits\"=>3,\"nameCanonical\"=>\"\"), Dict(\"curriculum_requisites\"=>Dict{String,Any}[],\"name\"=>\"C 3\",\"metrics\"=>Dict{String,Any}(\"centrality\"=>0,\"complexity\"=>1.0,\"blocking factor\"=>0,\"delay factor\"=>1.0),\"nameSub\"=>\"C3\",\"id\"=>3,\"credits\"=>3,\"nameCanonical\"=>\"\")],\"id\"=>1), Dict(\"name\"=>\"Term 2\",\"curriculum_items\"=>Dict{String,Any}[Dict(\"curriculum_requisites\"=>Dict{String,Any}[Dict(\"source_id\"=>2,\"target_id\"=>4,\"type\"=>\"prereq\")],\"name\"=>\"C 4\",\"metrics\"=>Dict{String,Any}(\"centrality\"=>0,\"complexity\"=>2.0,\"blocking factor\"=>0,\"delay factor\"=>2.0),\"nameSub\"=>\"C4\",\"id\"=>4,\"credits\"=>3,\"nameCanonical\"=>\"\"), Dict(\"curriculum_requisites\"=>Dict{String,Any}[],\"name\"=>\"C 5\",\"metrics\"=>Dict{String,Any}(\"centrality\"=>0,\"complexity\"=>1.0,\"blocking factor\"=>0,\"delay factor\"=>1.0),\"nameSub\"=>\"C5\",\"id\"=>5,\"credits\"=>3,\"nameCanonical\"=>\"\"), Dict(\"curriculum_requisites\"=>Dict{String,Any}[],\"name\"=>\"C 6\",\"metrics\"=>Dict{String,Any}(\"centrality\"=>0,\"complexity\"=>1.0,\"blocking factor\"=>0,\"delay factor\"=>1.0),\"nameSub\"=>\"C6\",\"id\"=>6,\"credits\"=>2,\"nameCanonical\"=>\"\")],\"id\"=>2)],\"institution\"=>\"\")), nothing)), Set(String[]), nothing, Any[], Dict{Any,Any}(), WebIO.ConnectionPool(Channel{Any}(sz_max:9223372036854775807,sz_curr:1), Set(WebIO.AbstractConnection[]), Channel{WebIO.AbstractConnection}(sz_max:32,sz_curr:0)))"
      ]
     },
     "execution_count": 16,
     "metadata": {},
     "output_type": "execute_result"
    }
   ],
   "source": [
    "dp = read_csv(\"../../Optimization/CurricularAnalytics.jl/examples/Notebooks/Excsv.csv\")\n",
    "visualize(dp, notebook=true)"
   ]
  },
  {
   "cell_type": "code",
   "execution_count": 17,
   "metadata": {},
   "outputs": [
    {
     "data": {
      "text/plain": [
       "Curriculum(3310405271, \"Toxicity Example\", \"\", BS::Degree = 4, semester::System = 0, \"26.0101\", Course[Course(1, Dict(3310405271=>1), \"C1\", 3, \"C\", \"1\", \"\", \"\", Dict{Int64,Requisite}(), LearningOutcome[], Dict{String,Any}(\"centrality\"=>0,\"complexity\"=>1.0,\"blocking factor\"=>0,\"delay factor\"=>1.0)), Course(2, Dict(3310405271=>2), \"C2\", 3, \"C\", \"2\", \"\", \"\", Dict{Int64,Requisite}(), LearningOutcome[], Dict{String,Any}(\"centrality\"=>0,\"complexity\"=>3.0,\"blocking factor\"=>1,\"delay factor\"=>2.0)), Course(3, Dict(3310405271=>3), \"C3\", 3, \"C\", \"3\", \"\", \"\", Dict{Int64,Requisite}(), LearningOutcome[], Dict{String,Any}(\"centrality\"=>0,\"complexity\"=>1.0,\"blocking factor\"=>0,\"delay factor\"=>1.0)), Course(4, Dict(3310405271=>4), \"C4\", 3, \"C\", \"4\", \"\", \"\", Dict(2=>pre), LearningOutcome[], Dict{String,Any}(\"centrality\"=>0,\"complexity\"=>2.0,\"blocking factor\"=>0,\"delay factor\"=>2.0)), Course(5, Dict(3310405271=>5), \"C5\", 3, \"C\", \"5\", \"\", \"\", Dict{Int64,Requisite}(), LearningOutcome[], Dict{String,Any}(\"centrality\"=>0,\"complexity\"=>1.0,\"blocking factor\"=>0,\"delay factor\"=>1.0)), Course(6, Dict(3310405271=>6), \"C6\", 2, \"C\", \"6\", \"\", \"\", Dict{Int64,Requisite}(), LearningOutcome[], Dict{String,Any}(\"centrality\"=>0,\"complexity\"=>1.0,\"blocking factor\"=>0,\"delay factor\"=>1.0))], 6, 17, {6, 1} directed simple Int64 graph, LearningOutcome[], Dict{String,Any}(\"centrality\"=>(0, [0, 0, 0, 0, 0, 0]),\"complexity\"=>(9.0, Number[1.0, 3.0, 1.0, 2.0, 1.0, 1.0]),\"blocking factor\"=>(1, [0, 1, 0, 0, 0, 0]),\"delay factor\"=>(8.0, [1.0, 2.0, 1.0, 2.0, 1.0, 1.0])))"
      ]
     },
     "execution_count": 17,
     "metadata": {},
     "output_type": "execute_result"
    }
   ],
   "source": [
    "comboDict = Dict(\"C1_C3\"=>1.24, \"C1_C6\"=>1.15,\"C3_C1\"=>0.8,\"C6_C1\"=>1.1,\"C6_C3\"=>0.84)\n",
    "dp.curriculum"
   ]
  },
  {
   "cell_type": "code",
   "execution_count": 20,
   "metadata": {
    "scrolled": false
   },
   "outputs": [
    {
     "name": "stdout",
     "output_type": "stream",
     "text": [
      "Number of courses in curriculum: 6\n",
      "Total credit hours: 17\n",
      "[0.0 0.0 1.24 0.0 0.0 1.15; 0.0 0.0 0.0 0.0 0.0 0.0; 0.8 0.0 0.0 0.0 0.0 0.0; 0.0 0.0 0.0 0.0 0.0 0.0; 0.0 0.0 0.0 0.0 0.0 0.0; 1.1 0.0 0.84 0.0 0.0 0.0]\n",
      "started to solve\n",
      "2.04 x[1,1]*x[3,1] + 2.25 x[1,1]*x[6,1] + 0.84 x[3,1]*x[6,1]\n",
      "2.04 x[1,2]*x[3,2] + 2.25 x[1,2]*x[6,2] + 0.84 x[3,2]*x[6,2]\n",
      "Variable[y[1], y[2]]\n",
      "Academic license - for non-commercial use only\n",
      "Optimize a model with 13 rows, 14 columns and 66 nonzeros\n",
      "Model has 6 quadratic objective terms\n",
      "Variable types: 2 continuous, 12 integer (12 binary)\n",
      "Coefficient statistics:\n",
      "  Matrix range     [1e+00, 3e+00]\n",
      "  Objective range  [0e+00, 0e+00]\n",
      "  QObjective range [2e+00, 4e+00]\n",
      "  Bounds range     [1e+00, 1e+01]\n",
      "  RHS range        [1e+00, 1e+01]\n",
      "Found heuristic solution: objective 2.2500000\n",
      "Presolve removed 8 rows and 7 columns\n",
      "Presolve time: 0.00s\n",
      "Presolved: 11 rows, 13 columns, 32 nonzeros\n",
      "Variable types: 0 continuous, 13 integer (13 binary)\n",
      "\n",
      "Root relaxation: objective 0.000000e+00, 9 iterations, 0.00 seconds\n",
      "\n",
      "    Nodes    |    Current Node    |     Objective Bounds      |     Work\n",
      " Expl Unexpl |  Obj  Depth IntInf | Incumbent    BestBd   Gap | It/Node Time\n",
      "\n",
      "     0     0    0.00000    0    7    2.25000    0.00000   100%     -    0s\n",
      "H    0     0                       2.0400000    0.00000   100%     -    0s\n",
      "H    0     0                       0.8400000    0.00000   100%     -    0s\n",
      "     0     0 infeasible    0         0.84000    0.84000  0.00%     -    0s\n",
      "\n",
      "Explored 1 nodes (9 simplex iterations) in 0.00 seconds\n",
      "Thread count was 8 (of 8 available processors)\n",
      "\n",
      "Solution count 3: 0.84 2.04 2.25 \n",
      "\n",
      "Optimal solution found (tolerance 1.00e-04)\n",
      "Best objective 8.400000000000e-01, best bound 8.400000000000e-01, gap 0.0000%\n"
     ]
    },
    {
     "data": {
      "text/html": [
       "<div class='display:none'></div><unsafe-script style='display:none'>\n",
       "WebIO.mount(this.previousSibling,{&quot;props&quot;:{},&quot;nodeType&quot;:&quot;Scope&quot;,&quot;type&quot;:&quot;node&quot;,&quot;instanceArgs&quot;:{&quot;imports&quot;:{&quot;data&quot;:[],&quot;type&quot;:&quot;async_block&quot;},&quot;id&quot;:&quot;scope-8b15fc44-471d-4cf9-9574-64a74be4b182&quot;,&quot;handlers&quot;:{},&quot;systemjs_options&quot;:null,&quot;observables&quot;:{&quot;curriculum-data&quot;:{&quot;sync&quot;:true,&quot;id&quot;:&quot;ob_10&quot;,&quot;value&quot;:{&quot;options&quot;:{&quot;hideTerms&quot;:false,&quot;edit&quot;:false},&quot;curriculum&quot;:{&quot;name&quot;:&quot;Toxicity Example&quot;,&quot;dp_name&quot;:&quot;&quot;,&quot;curriculum_terms&quot;:[{&quot;name&quot;:&quot;Term 1&quot;,&quot;curriculum_items&quot;:[{&quot;curriculum_requisites&quot;:[],&quot;name&quot;:&quot;C 1&quot;,&quot;metrics&quot;:{&quot;centrality&quot;:0,&quot;complexity&quot;:1.0,&quot;blocking factor&quot;:0,&quot;delay factor&quot;:1.0},&quot;nameSub&quot;:&quot;C1&quot;,&quot;id&quot;:1,&quot;credits&quot;:3,&quot;nameCanonical&quot;:&quot;&quot;},{&quot;curriculum_requisites&quot;:[],&quot;name&quot;:&quot;C 2&quot;,&quot;metrics&quot;:{&quot;centrality&quot;:0,&quot;complexity&quot;:3.0,&quot;blocking factor&quot;:1,&quot;delay factor&quot;:2.0},&quot;nameSub&quot;:&quot;C2&quot;,&quot;id&quot;:2,&quot;credits&quot;:3,&quot;nameCanonical&quot;:&quot;&quot;},{&quot;curriculum_requisites&quot;:[],&quot;name&quot;:&quot;C 5&quot;,&quot;metrics&quot;:{&quot;centrality&quot;:0,&quot;complexity&quot;:1.0,&quot;blocking factor&quot;:0,&quot;delay factor&quot;:1.0},&quot;nameSub&quot;:&quot;C5&quot;,&quot;id&quot;:5,&quot;credits&quot;:3,&quot;nameCanonical&quot;:&quot;&quot;}],&quot;id&quot;:1},{&quot;name&quot;:&quot;Term 2&quot;,&quot;curriculum_items&quot;:[{&quot;curriculum_requisites&quot;:[],&quot;name&quot;:&quot;C 3&quot;,&quot;metrics&quot;:{&quot;centrality&quot;:0,&quot;complexity&quot;:1.0,&quot;blocking factor&quot;:0,&quot;delay factor&quot;:1.0},&quot;nameSub&quot;:&quot;C3&quot;,&quot;id&quot;:3,&quot;credits&quot;:3,&quot;nameCanonical&quot;:&quot;&quot;},{&quot;curriculum_requisites&quot;:[{&quot;source_id&quot;:2,&quot;target_id&quot;:4,&quot;type&quot;:&quot;prereq&quot;}],&quot;name&quot;:&quot;C 4&quot;,&quot;metrics&quot;:{&quot;centrality&quot;:0,&quot;complexity&quot;:2.0,&quot;blocking factor&quot;:0,&quot;delay factor&quot;:2.0},&quot;nameSub&quot;:&quot;C4&quot;,&quot;id&quot;:4,&quot;credits&quot;:3,&quot;nameCanonical&quot;:&quot;&quot;},{&quot;curriculum_requisites&quot;:[],&quot;name&quot;:&quot;C 6&quot;,&quot;metrics&quot;:{&quot;centrality&quot;:0,&quot;complexity&quot;:1.0,&quot;blocking factor&quot;:0,&quot;delay factor&quot;:1.0},&quot;nameSub&quot;:&quot;C6&quot;,&quot;id&quot;:6,&quot;credits&quot;:2,&quot;nameCanonical&quot;:&quot;&quot;}],&quot;id&quot;:2}],&quot;institution&quot;:&quot;&quot;}}}}},&quot;children&quot;:[{&quot;props&quot;:{&quot;src&quot;:&quot;http://localhost:8156&quot;,&quot;id&quot;:&quot;curriculum&quot;,&quot;events&quot;:{&quot;load&quot;:(function (){this.contentWindow.postMessage({&quot;options&quot;:{&quot;hideTerms&quot;:false,&quot;edit&quot;:false},&quot;curriculum&quot;:{&quot;name&quot;:&quot;Toxicity Example&quot;,&quot;dp_name&quot;:&quot;&quot;,&quot;curriculum_terms&quot;:[{&quot;name&quot;:&quot;Term 1&quot;,&quot;curriculum_items&quot;:[{&quot;curriculum_requisites&quot;:[],&quot;name&quot;:&quot;C 1&quot;,&quot;metrics&quot;:{&quot;centrality&quot;:0,&quot;complexity&quot;:1.0,&quot;blocking factor&quot;:0,&quot;delay factor&quot;:1.0},&quot;nameSub&quot;:&quot;C1&quot;,&quot;id&quot;:1,&quot;credits&quot;:3,&quot;nameCanonical&quot;:&quot;&quot;},{&quot;curriculum_requisites&quot;:[],&quot;name&quot;:&quot;C 2&quot;,&quot;metrics&quot;:{&quot;centrality&quot;:0,&quot;complexity&quot;:3.0,&quot;blocking factor&quot;:1,&quot;delay factor&quot;:2.0},&quot;nameSub&quot;:&quot;C2&quot;,&quot;id&quot;:2,&quot;credits&quot;:3,&quot;nameCanonical&quot;:&quot;&quot;},{&quot;curriculum_requisites&quot;:[],&quot;name&quot;:&quot;C 5&quot;,&quot;metrics&quot;:{&quot;centrality&quot;:0,&quot;complexity&quot;:1.0,&quot;blocking factor&quot;:0,&quot;delay factor&quot;:1.0},&quot;nameSub&quot;:&quot;C5&quot;,&quot;id&quot;:5,&quot;credits&quot;:3,&quot;nameCanonical&quot;:&quot;&quot;}],&quot;id&quot;:1},{&quot;name&quot;:&quot;Term 2&quot;,&quot;curriculum_items&quot;:[{&quot;curriculum_requisites&quot;:[],&quot;name&quot;:&quot;C 3&quot;,&quot;metrics&quot;:{&quot;centrality&quot;:0,&quot;complexity&quot;:1.0,&quot;blocking factor&quot;:0,&quot;delay factor&quot;:1.0},&quot;nameSub&quot;:&quot;C3&quot;,&quot;id&quot;:3,&quot;credits&quot;:3,&quot;nameCanonical&quot;:&quot;&quot;},{&quot;curriculum_requisites&quot;:[{&quot;source_id&quot;:2,&quot;target_id&quot;:4,&quot;type&quot;:&quot;prereq&quot;}],&quot;name&quot;:&quot;C 4&quot;,&quot;metrics&quot;:{&quot;centrality&quot;:0,&quot;complexity&quot;:2.0,&quot;blocking factor&quot;:0,&quot;delay factor&quot;:2.0},&quot;nameSub&quot;:&quot;C4&quot;,&quot;id&quot;:4,&quot;credits&quot;:3,&quot;nameCanonical&quot;:&quot;&quot;},{&quot;curriculum_requisites&quot;:[],&quot;name&quot;:&quot;C 6&quot;,&quot;metrics&quot;:{&quot;centrality&quot;:0,&quot;complexity&quot;:1.0,&quot;blocking factor&quot;:0,&quot;delay factor&quot;:1.0},&quot;nameSub&quot;:&quot;C6&quot;,&quot;id&quot;:6,&quot;credits&quot;:2,&quot;nameCanonical&quot;:&quot;&quot;}],&quot;id&quot;:2}],&quot;institution&quot;:&quot;&quot;}},&quot;*&quot;); window.removeEventListener(&quot;message&quot;,window.messageReceived); window.messageReceived=(function (event){return (event.data.curriculum!==undefined) ? (WebIO.setval({&quot;name&quot;:&quot;curriculum-data&quot;,&quot;scope&quot;:&quot;scope-8b15fc44-471d-4cf9-9574-64a74be4b182&quot;,&quot;id&quot;:&quot;ob_10&quot;,&quot;type&quot;:&quot;observable&quot;},event.data.curriculum)) : undefined}); return window.addEventListener(&quot;message&quot;,window.messageReceived)})},&quot;style&quot;:{&quot;padding&quot;:&quot;0&quot;,&quot;height&quot;:&quot;100vh&quot;,&quot;margin&quot;:&quot;0&quot;,&quot;border&quot;:&quot;none&quot;,&quot;width&quot;:&quot;100%&quot;}},&quot;nodeType&quot;:&quot;DOM&quot;,&quot;type&quot;:&quot;node&quot;,&quot;instanceArgs&quot;:{&quot;namespace&quot;:&quot;html&quot;,&quot;tag&quot;:&quot;iframe&quot;},&quot;children&quot;:[&quot;&quot;]}]})</unsafe-script>"
      ],
      "text/plain": [
       "WebIO.Scope(\"scope-8b15fc44-471d-4cf9-9574-64a74be4b182\", WebIO.Node{WebIO.DOM}(WebIO.DOM(:html, :iframe), Any[\"\"], Dict{Symbol,Any}(:src=>\"http://localhost:8156\",:id=>\"curriculum\",:events=>Dict(:load=>JSString(\"(function (){this.contentWindow.postMessage({\\\"options\\\":{\\\"hideTerms\\\":false,\\\"edit\\\":false},\\\"curriculum\\\":{\\\"name\\\":\\\"Toxicity Example\\\",\\\"dp_name\\\":\\\"\\\",\\\"curriculum_terms\\\":[{\\\"name\\\":\\\"Term 1\\\",\\\"curriculum_items\\\":[{\\\"curriculum_requisites\\\":[],\\\"name\\\":\\\"C 1\\\",\\\"metrics\\\":{\\\"centrality\\\":0,\\\"complexity\\\":1.0,\\\"blocking factor\\\":0,\\\"delay factor\\\":1.0},\\\"nameSub\\\":\\\"C1\\\",\\\"id\\\":1,\\\"credits\\\":3,\\\"nameCanonical\\\":\\\"\\\"},{\\\"curriculum_requisites\\\":[],\\\"name\\\":\\\"C 2\\\",\\\"metrics\\\":{\\\"centrality\\\":0,\\\"complexity\\\":3.0,\\\"blocking factor\\\":1,\\\"delay factor\\\":2.0},\\\"nameSub\\\":\\\"C2\\\",\\\"id\\\":2,\\\"credits\\\":3,\\\"nameCanonical\\\":\\\"\\\"},{\\\"curriculum_requisites\\\":[],\\\"name\\\":\\\"C 5\\\",\\\"metrics\\\":{\\\"centrality\\\":0,\\\"complexity\\\":1.0,\\\"blocking factor\\\":0,\\\"delay factor\\\":1.0},\\\"nameSub\\\":\\\"C5\\\",\\\"id\\\":5,\\\"credits\\\":3,\\\"nameCanonical\\\":\\\"\\\"}],\\\"id\\\":1},{\\\"name\\\":\\\"Term 2\\\",\\\"curriculum_items\\\":[{\\\"curriculum_requisites\\\":[],\\\"name\\\":\\\"C 3\\\",\\\"metrics\\\":{\\\"centrality\\\":0,\\\"complexity\\\":1.0,\\\"blocking factor\\\":0,\\\"delay factor\\\":1.0},\\\"nameSub\\\":\\\"C3\\\",\\\"id\\\":3,\\\"credits\\\":3,\\\"nameCanonical\\\":\\\"\\\"},{\\\"curriculum_requisites\\\":[{\\\"source_id\\\":2,\\\"target_id\\\":4,\\\"type\\\":\\\"prereq\\\"}],\\\"name\\\":\\\"C 4\\\",\\\"metrics\\\":{\\\"centrality\\\":0,\\\"complexity\\\":2.0,\\\"blocking factor\\\":0,\\\"delay factor\\\":2.0},\\\"nameSub\\\":\\\"C4\\\",\\\"id\\\":4,\\\"credits\\\":3,\\\"nameCanonical\\\":\\\"\\\"},{\\\"curriculum_requisites\\\":[],\\\"name\\\":\\\"C 6\\\",\\\"metrics\\\":{\\\"centrality\\\":0,\\\"complexity\\\":1.0,\\\"blocking factor\\\":0,\\\"delay factor\\\":1.0},\\\"nameSub\\\":\\\"C6\\\",\\\"id\\\":6,\\\"credits\\\":2,\\\"nameCanonical\\\":\\\"\\\"}],\\\"id\\\":2}],\\\"institution\\\":\\\"\\\"}},\\\"*\\\"); window.removeEventListener(\\\"message\\\",window.messageReceived); window.messageReceived=(function (event){return (event.data.curriculum!==undefined) ? (WebIO.setval({\\\"name\\\":\\\"curriculum-data\\\",\\\"scope\\\":\\\"scope-8b15fc44-471d-4cf9-9574-64a74be4b182\\\",\\\"id\\\":\\\"ob_10\\\",\\\"type\\\":\\\"observable\\\"},event.data.curriculum)) : undefined}); return window.addEventListener(\\\"message\\\",window.messageReceived)})\")),:style=>Dict(:padding=>\"0\",:height=>\"100vh\",:margin=>\"0\",:border=>\"none\",:width=>\"100%\")), 1), Dict{String,Tuple{Observables.AbstractObservable,Union{Nothing, Bool}}}(\"curriculum-data\"=>(Observable{Dict{String,Any}} with 1 listeners. Value:\n",
       "Dict{String,Any}(\"options\"=>Dict{String,Any}(\"hideTerms\"=>false,\"edit\"=>false),\"curriculum\"=>Dict{String,Any}(\"name\"=>\"Toxicity Example\",\"dp_name\"=>\"\",\"curriculum_terms\"=>Dict{String,Any}[Dict(\"name\"=>\"Term 1\",\"curriculum_items\"=>Dict{String,Any}[Dict(\"curriculum_requisites\"=>Dict{String,Any}[],\"name\"=>\"C 1\",\"metrics\"=>Dict{String,Any}(\"centrality\"=>0,\"complexity\"=>1.0,\"blocking factor\"=>0,\"delay factor\"=>1.0),\"nameSub\"=>\"C1\",\"id\"=>1,\"credits\"=>3,\"nameCanonical\"=>\"\"), Dict(\"curriculum_requisites\"=>Dict{String,Any}[],\"name\"=>\"C 2\",\"metrics\"=>Dict{String,Any}(\"centrality\"=>0,\"complexity\"=>3.0,\"blocking factor\"=>1,\"delay factor\"=>2.0),\"nameSub\"=>\"C2\",\"id\"=>2,\"credits\"=>3,\"nameCanonical\"=>\"\"), Dict(\"curriculum_requisites\"=>Dict{String,Any}[],\"name\"=>\"C 5\",\"metrics\"=>Dict{String,Any}(\"centrality\"=>0,\"complexity\"=>1.0,\"blocking factor\"=>0,\"delay factor\"=>1.0),\"nameSub\"=>\"C5\",\"id\"=>5,\"credits\"=>3,\"nameCanonical\"=>\"\")],\"id\"=>1), Dict(\"name\"=>\"Term 2\",\"curriculum_items\"=>Dict{String,Any}[Dict(\"curriculum_requisites\"=>Dict{String,Any}[],\"name\"=>\"C 3\",\"metrics\"=>Dict{String,Any}(\"centrality\"=>0,\"complexity\"=>1.0,\"blocking factor\"=>0,\"delay factor\"=>1.0),\"nameSub\"=>\"C3\",\"id\"=>3,\"credits\"=>3,\"nameCanonical\"=>\"\"), Dict(\"curriculum_requisites\"=>Dict{String,Any}[Dict(\"source_id\"=>2,\"target_id\"=>4,\"type\"=>\"prereq\")],\"name\"=>\"C 4\",\"metrics\"=>Dict{String,Any}(\"centrality\"=>0,\"complexity\"=>2.0,\"blocking factor\"=>0,\"delay factor\"=>2.0),\"nameSub\"=>\"C4\",\"id\"=>4,\"credits\"=>3,\"nameCanonical\"=>\"\"), Dict(\"curriculum_requisites\"=>Dict{String,Any}[],\"name\"=>\"C 6\",\"metrics\"=>Dict{String,Any}(\"centrality\"=>0,\"complexity\"=>1.0,\"blocking factor\"=>0,\"delay factor\"=>1.0),\"nameSub\"=>\"C6\",\"id\"=>6,\"credits\"=>2,\"nameCanonical\"=>\"\")],\"id\"=>2)],\"institution\"=>\"\")), nothing)), Set(String[]), nothing, Any[], Dict{Any,Any}(), WebIO.ConnectionPool(Channel{Any}(sz_max:9223372036854775807,sz_curr:1), Set(WebIO.AbstractConnection[]), Channel{WebIO.AbstractConnection}(sz_max:32,sz_curr:0)))"
      ]
     },
     "execution_count": 20,
     "metadata": {},
     "output_type": "execute_result"
    }
   ],
   "source": [
    "using MultiJuMP, JuMP\n",
    "using Gurobi\n",
    "using LinearAlgebra\n",
    "using LightGraphs\n",
    "function getVertex(courses, courseName, curricID)\n",
    "    for course in courses\n",
    "        if course.prefix*course.num == courseName\n",
    "            return course.vertex_id[curricID]\n",
    "        end\n",
    "    end\n",
    "    return 0\n",
    "end\n",
    "#consequtiveCourse = Dict(\"EE490\"=>\"EE491\")\n",
    "#fixedCourses = Dict(\"EGR102\"=>1, \"EGR101\"=>1)\n",
    "#curric = read_csv(\"examples/UKY_EE_curric.csv\")\n",
    "consequtiveCourse = Dict()\n",
    "fixedCourses = Dict()\n",
    "curric = dp.curriculum\n",
    "max_terms = 2\n",
    "max_credits_per_term = 10\n",
    "min_credits_per_term = 1\n",
    "println(\"Number of courses in curriculum: \"*string(length(curric.courses)))\n",
    "println(\"Total credit hours: \"*string(total_credits(curric)))\n",
    "#m = vModel(solver = GurobiSolver())\n",
    "#m = multi_model(solver = GurobiSolver(), linear = true)\n",
    "m = Model(solver=GurobiSolver())\n",
    "courses = curric.courses\n",
    "c_count = length(courses)\n",
    "toxicity_scores = zeros((c_count, c_count))\n",
    "for course in courses\n",
    "    for innerCourse in courses\n",
    "        if course != innerCourse \n",
    "            if course.prefix*course.num*\"_\"*innerCourse.prefix*innerCourse.num in keys(comboDict)\n",
    "                toxicity_scores[course.vertex_id[curric.id],innerCourse.vertex_id[curric.id]] = comboDict[course.prefix*course.num*\"_\"*innerCourse.prefix*innerCourse.num]\n",
    "            end\n",
    "        end\n",
    "    end\n",
    "end\n",
    "println(toxicity_scores)\n",
    "credit = [c.credit_hours for c in curric.courses]\n",
    "\n",
    "mask = [i for i in 1:max_terms]\n",
    "@variable(m, x[1:c_count, 1:max_terms], Bin)\n",
    "ts = []\n",
    "for j=1:max_terms\n",
    "    push!(ts, sum((toxicity_scores .* x[:,j]) .* x[:,j]'))\n",
    "end\n",
    "terms = [sum(dot(x[k,:],mask)) for k = 1:c_count]\n",
    "vertex_map = Dict{Int,Int}(c.id => c.vertex_id[curric.id] for c in curric.courses)\n",
    "total_credit_term = [sum(dot(credit,x[:,j])) for j=1:max_terms]\n",
    "@variable(m, 0 <= y[1:max_terms] <= max_credits_per_term)\n",
    "@constraints m begin\n",
    "    #output must include all courses once\n",
    "    tot[i=1:c_count], sum(x[i,:]) == 1\n",
    "    #Each term must include more or equal than min credit and less or equal than max credit allowed for a term\n",
    "    term_upper[j=1:max_terms], sum(dot(credit,x[:,j])) <= max_credits_per_term\n",
    "    term_lower[j=1:max_terms], sum(dot(credit,x[:,j])) >= min_credits_per_term\n",
    "    abs_val[i=2:max_terms], y[i] >= total_credit_term[i]-total_credit_term[i-1]\n",
    "    abs_val2[i=2:max_terms], y[i] >= -(total_credit_term[i]-total_credit_term[i-1])\n",
    "end\n",
    "for c in courses\n",
    "    for req in c.requisites\n",
    "        if req[2] == pre\n",
    "            @constraint(m, sum(dot(x[vertex_map[req[1]],:],mask)) <= (sum(dot(x[c.vertex_id[curric.id],:],mask))-1))\n",
    "        elseif req[2] == co\n",
    "            @constraint(m, sum(dot(x[vertex_map[req[1]],:],mask)) <= (sum(dot(x[c.vertex_id[curric.id],:],mask))))\n",
    "        elseif req[2] == strict_co\n",
    "            @constraint(m, sum(dot(x[vertex_map[req[1]],:],mask)) == (sum(dot(x[c.vertex_id[curric.id],:],mask))))\n",
    "        else\n",
    "            println(\"req type error\")\n",
    "        end\n",
    "    end   \n",
    "end\n",
    "if length(keys(fixedCourses)) > 0\n",
    "    for courseName in keys(fixedCourses)\n",
    "        vID = getVertex(courses, courseName, curric.id)\n",
    "        if vID != 0\n",
    "            @constraint(m, x[vID,fixedCourses[courseName]] >= 1)\n",
    "        else\n",
    "            println(\"Vertex ID cannot be found for course: \"* courseName)\n",
    "        end\n",
    "        #println(getVertex(courses, courseName, curric.id))\n",
    "    end\n",
    "end\n",
    "if length(keys(consequtiveCourse)) > 0\n",
    "    for (first, second) in consequtiveCourse\n",
    "        vID_first = getVertex(courses, first, curric.id)\n",
    "        vID_second = getVertex(courses, second, curric.id)\n",
    "        if vID_first != 0 && vID_second != 0\n",
    "            @constraint(m, sum(dot(x[vID_first,:],mask)) >= 7)\n",
    "            @constraint(m, sum(dot(x[vID_second,:],mask)) - sum(dot(x[vID_first,:],mask)) <= 1)\n",
    "            @constraint(m, sum(dot(x[vID_second,:],mask)) - sum(dot(x[vID_first,:],mask)) >= 1)\n",
    "        else\n",
    "            println(\"Vertex ID cannot be found for course: \"* first * \" or \" * second)\n",
    "        end\n",
    "    end\n",
    "end\n",
    "total_distance = []\n",
    "for edge in collect(edges(curric.graph))\n",
    "    push!(total_distance, sum(dot(x[dst(edge),:],mask)) - sum(dot(x[src(edge),:],mask)))\n",
    "end\n",
    "\n",
    "exp1 = @expression(m, sum(ts[:]))\n",
    "exp2 = @expression(m, sum(y[:]))\n",
    "#exp3 = @expression(m, sum(total_distance[:]))\n",
    "obj1 = SingleObjective(exp1, sense = :Min)\n",
    "obj2 = SingleObjective(exp2, sense = :Min)\n",
    "#obj3 = SingleObjective(exp3, sense = :Min)\n",
    "#multim = get_multidata(m)\n",
    "#multim.objectives = [obj1, obj2]\n",
    "\n",
    "println(\"started to solve\")\n",
    "println(ts[1])\n",
    "println(ts[2])\n",
    "println(y[:])\n",
    "@objective(m, Min, sum(ts[:]))\n",
    "status = solve(m)\n",
    "if status == :Optimal\n",
    "    output = getvalue(x)\n",
    "    #println(sum(getvalue(y)))\n",
    "    #println(sum(getvalue(ts)))\n",
    "    #println(sum(getvalue(total_distance)))\n",
    "    #println(ts)\n",
    "    optimal_terms = Term[]\n",
    "    for j=1:max_terms\n",
    "        if sum(dot(credit,output[:,j])) > 0 \n",
    "            term = Course[]\n",
    "            for course in 1:length(courses)\n",
    "                if round(output[course,j]) == 1\n",
    "                    push!(term, courses[course])\n",
    "                end \n",
    "            end\n",
    "            push!(optimal_terms, Term(term))\n",
    "        end\n",
    "    end\n",
    "    dp = DegreePlan(\"\", curric, optimal_terms)\n",
    "    visualize(dp, notebook=true)\n",
    "else\n",
    "    println(\"not optimal\")\n",
    "end\n"
   ]
  },
  {
   "cell_type": "code",
   "execution_count": 29,
   "metadata": {},
   "outputs": [
    {
     "data": {
      "text/plain": [
       "1-element Array{Int64,1}:\n",
       " 1"
      ]
     },
     "execution_count": 29,
     "metadata": {},
     "output_type": "execute_result"
    }
   ],
   "source": [
    "mask2 = [i for i in 1:1]"
   ]
  },
  {
   "cell_type": "code",
   "execution_count": 4,
   "metadata": {},
   "outputs": [
    {
     "data": {
      "text/plain": [
       "balance_terms_opt2 (generic function with 2 methods)"
      ]
     },
     "execution_count": 4,
     "metadata": {},
     "output_type": "execute_result"
    }
   ],
   "source": [
    "using JuMP\n",
    "using LinearAlgebra\n",
    "using Gurobi\n",
    "function balance_terms_opt2(curric::Curriculum, additional_courses::Array{Course}=Array{Course,1}();       \n",
    "    min_terms::Int=1, max_terms::Int,min_credits_per_term::Int=1, max_credits_per_term::Int)\n",
    "    m = Model(solver=GurobiSolver())\n",
    "    courses = curric.courses\n",
    "    credit = [c.credit_hours for c in curric.courses]\n",
    "    c_count = length(courses)\n",
    "    mask = [i for i in 1:max_terms]\n",
    "    @variable(m, x[1:c_count, 1:max_terms], Bin)\n",
    "    terms = [sum(dot(x[k,:],mask)) for k = 1:c_count]\n",
    "    vertex_map = Dict{Int,Int}(c.id => c.vertex_id[curric.id] for c in curric.courses)\n",
    "    total_credit_term = [sum(dot(credit,x[:,j])) for j=1:max_terms]\n",
    "    @variable(m, 0 <= y[1:max_terms] <= max_credits_per_term)\n",
    "    @constraints m begin\n",
    "        #output must include all courses once\n",
    "        tot[i=1:c_count], sum(x[i,:]) == 1\n",
    "        #Each term must include more or equal than min credit and less or equal than max credit allowed for a term\n",
    "        term[j=1:max_terms], sum(dot(credit,x[:,j])) <= max_credits_per_term\n",
    "        term[j=1:max_terms], sum(dot(credit,x[:,j])) >= min_credits_per_term\n",
    "        abs_val[i=2:max_terms], y[i] >= total_credit_term[i]-total_credit_term[i-1]\n",
    "        abs_val2[i=2:max_terms], y[i] >= -(total_credit_term[i]-total_credit_term[i-1])\n",
    "    end\n",
    "    for c in courses\n",
    "        for req in c.requisites\n",
    "            if req[2] == pre\n",
    "                @constraint(m, sum(dot(x[vertex_map[req[1]],:],mask)) <= (sum(dot(x[c.vertex_id[curric.id],:],mask))-1))\n",
    "            elseif req[2] == co\n",
    "                @constraint(m, sum(dot(x[vertex_map[req[1]],:],mask)) <= (sum(dot(x[c.vertex_id[curric.id],:],mask))))\n",
    "            elseif req[2] == strict_co\n",
    "                @constraint(m, sum(dot(x[vertex_map[req[1]],:],mask)) == (sum(dot(x[c.vertex_id[curric.id],:],mask))))\n",
    "            else\n",
    "                println(\"req type error\")\n",
    "            end\n",
    "        end   \n",
    "    end\n",
    "    @objective(m, Min, sum(y[:]))\n",
    "    status = solve(m)\n",
    "    output = getvalue(x)\n",
    "    optimal_terms = Term[]\n",
    "    for j=1:max_terms\n",
    "        if sum(dot(credit,output[:,j])) > 0 \n",
    "            term = Course[]\n",
    "            for course in 1:length(courses)\n",
    "                if round(output[course,j]) == 1\n",
    "                    push!(term, courses[course])\n",
    "                end \n",
    "            end\n",
    "            push!(optimal_terms, Term(term))\n",
    "        end\n",
    "    end\n",
    "    if status == :Optimal\n",
    "        return true, optimal_terms, length(optimal_terms)\n",
    "    end\n",
    "    return false, nothing, nothing\n",
    "end"
   ]
  },
  {
   "cell_type": "code",
   "execution_count": 9,
   "metadata": {},
   "outputs": [
    {
     "name": "stdout",
     "output_type": "stream",
     "text": [
      "Academic license - for non-commercial use only\n",
      "Optimize a model with 12 rows, 14 columns and 62 nonzeros\n",
      "Variable types: 2 continuous, 12 integer (12 binary)\n",
      "Coefficient statistics:\n",
      "  Matrix range     [1e+00, 3e+00]\n",
      "  Objective range  [1e+00, 1e+00]\n",
      "  Bounds range     [1e+00, 9e+00]\n",
      "  RHS range        [1e+00, 9e+00]\n",
      "Found heuristic solution: objective 1.0000000\n",
      "Presolve removed 12 rows and 14 columns\n",
      "Presolve time: 0.00s\n",
      "Presolve: All rows and columns removed\n",
      "\n",
      "Explored 0 nodes (0 simplex iterations) in 0.00 seconds\n",
      "Thread count was 1 (of 8 available processors)\n",
      "\n",
      "Solution count 1: 1 \n",
      "\n",
      "Optimal solution found (tolerance 1.00e-04)\n",
      "Best objective 1.000000000000e+00, best bound 1.000000000000e+00, gap 0.0000%\n",
      "Optimal solution found for 2 terms\n"
     ]
    },
    {
     "name": "stderr",
     "output_type": "stream",
     "text": [
      "┌ Warning: A variable or constraint named term is already attached to this model. If creating constraints programmatically, use the anonymous constraint syntax con = @constraint(m, ...).\n",
      "└ @ JuMP /Users/orhanabar/.julia/packages/JuMP/PbnIJ/src/JuMP.jl:852\n"
     ]
    },
    {
     "data": {
      "text/html": [
       "<div class='display:none'></div><unsafe-script style='display:none'>\n",
       "WebIO.mount(this.previousSibling,{&quot;props&quot;:{},&quot;nodeType&quot;:&quot;Scope&quot;,&quot;type&quot;:&quot;node&quot;,&quot;instanceArgs&quot;:{&quot;imports&quot;:{&quot;data&quot;:[],&quot;type&quot;:&quot;async_block&quot;},&quot;id&quot;:&quot;scope-2ba91828-7cf0-4ae8-bcc7-c7ca059f4495&quot;,&quot;handlers&quot;:{},&quot;systemjs_options&quot;:null,&quot;observables&quot;:{&quot;curriculum-data&quot;:{&quot;sync&quot;:true,&quot;id&quot;:&quot;ob_03&quot;,&quot;value&quot;:{&quot;options&quot;:{&quot;hideTerms&quot;:false,&quot;edit&quot;:false},&quot;curriculum&quot;:{&quot;name&quot;:&quot;Toxicity Example&quot;,&quot;dp_name&quot;:&quot;&quot;,&quot;curriculum_terms&quot;:[{&quot;name&quot;:&quot;Term 1&quot;,&quot;curriculum_items&quot;:[{&quot;curriculum_requisites&quot;:[],&quot;name&quot;:&quot;C 1&quot;,&quot;metrics&quot;:{&quot;centrality&quot;:0,&quot;complexity&quot;:1.0,&quot;blocking factor&quot;:0,&quot;delay factor&quot;:1.0},&quot;nameSub&quot;:&quot;C1&quot;,&quot;id&quot;:1,&quot;credits&quot;:3,&quot;nameCanonical&quot;:&quot;&quot;},{&quot;curriculum_requisites&quot;:[],&quot;name&quot;:&quot;C 4&quot;,&quot;metrics&quot;:{&quot;centrality&quot;:0,&quot;complexity&quot;:1.0,&quot;blocking factor&quot;:0,&quot;delay factor&quot;:1.0},&quot;nameSub&quot;:&quot;C4&quot;,&quot;id&quot;:4,&quot;credits&quot;:3,&quot;nameCanonical&quot;:&quot;&quot;},{&quot;curriculum_requisites&quot;:[],&quot;name&quot;:&quot;C 5&quot;,&quot;metrics&quot;:{&quot;centrality&quot;:0,&quot;complexity&quot;:1.0,&quot;blocking factor&quot;:0,&quot;delay factor&quot;:1.0},&quot;nameSub&quot;:&quot;C5&quot;,&quot;id&quot;:5,&quot;credits&quot;:3,&quot;nameCanonical&quot;:&quot;&quot;}],&quot;id&quot;:1},{&quot;name&quot;:&quot;Term 2&quot;,&quot;curriculum_items&quot;:[{&quot;curriculum_requisites&quot;:[],&quot;name&quot;:&quot;C 2&quot;,&quot;metrics&quot;:{&quot;centrality&quot;:0,&quot;complexity&quot;:1.0,&quot;blocking factor&quot;:0,&quot;delay factor&quot;:1.0},&quot;nameSub&quot;:&quot;C2&quot;,&quot;id&quot;:2,&quot;credits&quot;:3,&quot;nameCanonical&quot;:&quot;&quot;},{&quot;curriculum_requisites&quot;:[],&quot;name&quot;:&quot;C 3&quot;,&quot;metrics&quot;:{&quot;centrality&quot;:0,&quot;complexity&quot;:1.0,&quot;blocking factor&quot;:0,&quot;delay factor&quot;:1.0},&quot;nameSub&quot;:&quot;C3&quot;,&quot;id&quot;:3,&quot;credits&quot;:3,&quot;nameCanonical&quot;:&quot;&quot;},{&quot;curriculum_requisites&quot;:[],&quot;name&quot;:&quot;C 6&quot;,&quot;metrics&quot;:{&quot;centrality&quot;:0,&quot;complexity&quot;:1.0,&quot;blocking factor&quot;:0,&quot;delay factor&quot;:1.0},&quot;nameSub&quot;:&quot;C6&quot;,&quot;id&quot;:6,&quot;credits&quot;:2,&quot;nameCanonical&quot;:&quot;&quot;}],&quot;id&quot;:2}],&quot;institution&quot;:&quot;&quot;}}}}},&quot;children&quot;:[{&quot;props&quot;:{&quot;src&quot;:&quot;http://localhost:8156&quot;,&quot;id&quot;:&quot;curriculum&quot;,&quot;events&quot;:{&quot;load&quot;:(function (){this.contentWindow.postMessage({&quot;options&quot;:{&quot;hideTerms&quot;:false,&quot;edit&quot;:false},&quot;curriculum&quot;:{&quot;name&quot;:&quot;Toxicity Example&quot;,&quot;dp_name&quot;:&quot;&quot;,&quot;curriculum_terms&quot;:[{&quot;name&quot;:&quot;Term 1&quot;,&quot;curriculum_items&quot;:[{&quot;curriculum_requisites&quot;:[],&quot;name&quot;:&quot;C 1&quot;,&quot;metrics&quot;:{&quot;centrality&quot;:0,&quot;complexity&quot;:1.0,&quot;blocking factor&quot;:0,&quot;delay factor&quot;:1.0},&quot;nameSub&quot;:&quot;C1&quot;,&quot;id&quot;:1,&quot;credits&quot;:3,&quot;nameCanonical&quot;:&quot;&quot;},{&quot;curriculum_requisites&quot;:[],&quot;name&quot;:&quot;C 4&quot;,&quot;metrics&quot;:{&quot;centrality&quot;:0,&quot;complexity&quot;:1.0,&quot;blocking factor&quot;:0,&quot;delay factor&quot;:1.0},&quot;nameSub&quot;:&quot;C4&quot;,&quot;id&quot;:4,&quot;credits&quot;:3,&quot;nameCanonical&quot;:&quot;&quot;},{&quot;curriculum_requisites&quot;:[],&quot;name&quot;:&quot;C 5&quot;,&quot;metrics&quot;:{&quot;centrality&quot;:0,&quot;complexity&quot;:1.0,&quot;blocking factor&quot;:0,&quot;delay factor&quot;:1.0},&quot;nameSub&quot;:&quot;C5&quot;,&quot;id&quot;:5,&quot;credits&quot;:3,&quot;nameCanonical&quot;:&quot;&quot;}],&quot;id&quot;:1},{&quot;name&quot;:&quot;Term 2&quot;,&quot;curriculum_items&quot;:[{&quot;curriculum_requisites&quot;:[],&quot;name&quot;:&quot;C 2&quot;,&quot;metrics&quot;:{&quot;centrality&quot;:0,&quot;complexity&quot;:1.0,&quot;blocking factor&quot;:0,&quot;delay factor&quot;:1.0},&quot;nameSub&quot;:&quot;C2&quot;,&quot;id&quot;:2,&quot;credits&quot;:3,&quot;nameCanonical&quot;:&quot;&quot;},{&quot;curriculum_requisites&quot;:[],&quot;name&quot;:&quot;C 3&quot;,&quot;metrics&quot;:{&quot;centrality&quot;:0,&quot;complexity&quot;:1.0,&quot;blocking factor&quot;:0,&quot;delay factor&quot;:1.0},&quot;nameSub&quot;:&quot;C3&quot;,&quot;id&quot;:3,&quot;credits&quot;:3,&quot;nameCanonical&quot;:&quot;&quot;},{&quot;curriculum_requisites&quot;:[],&quot;name&quot;:&quot;C 6&quot;,&quot;metrics&quot;:{&quot;centrality&quot;:0,&quot;complexity&quot;:1.0,&quot;blocking factor&quot;:0,&quot;delay factor&quot;:1.0},&quot;nameSub&quot;:&quot;C6&quot;,&quot;id&quot;:6,&quot;credits&quot;:2,&quot;nameCanonical&quot;:&quot;&quot;}],&quot;id&quot;:2}],&quot;institution&quot;:&quot;&quot;}},&quot;*&quot;); window.removeEventListener(&quot;message&quot;,window.messageReceived); window.messageReceived=(function (event){return (event.data.curriculum!==undefined) ? (WebIO.setval({&quot;name&quot;:&quot;curriculum-data&quot;,&quot;scope&quot;:&quot;scope-2ba91828-7cf0-4ae8-bcc7-c7ca059f4495&quot;,&quot;id&quot;:&quot;ob_03&quot;,&quot;type&quot;:&quot;observable&quot;},event.data.curriculum)) : undefined}); return window.addEventListener(&quot;message&quot;,window.messageReceived)})},&quot;style&quot;:{&quot;padding&quot;:&quot;0&quot;,&quot;height&quot;:&quot;100vh&quot;,&quot;margin&quot;:&quot;0&quot;,&quot;border&quot;:&quot;none&quot;,&quot;width&quot;:&quot;100%&quot;}},&quot;nodeType&quot;:&quot;DOM&quot;,&quot;type&quot;:&quot;node&quot;,&quot;instanceArgs&quot;:{&quot;namespace&quot;:&quot;html&quot;,&quot;tag&quot;:&quot;iframe&quot;},&quot;children&quot;:[&quot;&quot;]}]})</unsafe-script>"
      ],
      "text/plain": [
       "WebIO.Scope(\"scope-2ba91828-7cf0-4ae8-bcc7-c7ca059f4495\", WebIO.Node{WebIO.DOM}(WebIO.DOM(:html, :iframe), Any[\"\"], Dict{Symbol,Any}(:src=>\"http://localhost:8156\",:id=>\"curriculum\",:events=>Dict(:load=>JSString(\"(function (){this.contentWindow.postMessage({\\\"options\\\":{\\\"hideTerms\\\":false,\\\"edit\\\":false},\\\"curriculum\\\":{\\\"name\\\":\\\"Toxicity Example\\\",\\\"dp_name\\\":\\\"\\\",\\\"curriculum_terms\\\":[{\\\"name\\\":\\\"Term 1\\\",\\\"curriculum_items\\\":[{\\\"curriculum_requisites\\\":[],\\\"name\\\":\\\"C 1\\\",\\\"metrics\\\":{\\\"centrality\\\":0,\\\"complexity\\\":1.0,\\\"blocking factor\\\":0,\\\"delay factor\\\":1.0},\\\"nameSub\\\":\\\"C1\\\",\\\"id\\\":1,\\\"credits\\\":3,\\\"nameCanonical\\\":\\\"\\\"},{\\\"curriculum_requisites\\\":[],\\\"name\\\":\\\"C 4\\\",\\\"metrics\\\":{\\\"centrality\\\":0,\\\"complexity\\\":1.0,\\\"blocking factor\\\":0,\\\"delay factor\\\":1.0},\\\"nameSub\\\":\\\"C4\\\",\\\"id\\\":4,\\\"credits\\\":3,\\\"nameCanonical\\\":\\\"\\\"},{\\\"curriculum_requisites\\\":[],\\\"name\\\":\\\"C 5\\\",\\\"metrics\\\":{\\\"centrality\\\":0,\\\"complexity\\\":1.0,\\\"blocking factor\\\":0,\\\"delay factor\\\":1.0},\\\"nameSub\\\":\\\"C5\\\",\\\"id\\\":5,\\\"credits\\\":3,\\\"nameCanonical\\\":\\\"\\\"}],\\\"id\\\":1},{\\\"name\\\":\\\"Term 2\\\",\\\"curriculum_items\\\":[{\\\"curriculum_requisites\\\":[],\\\"name\\\":\\\"C 2\\\",\\\"metrics\\\":{\\\"centrality\\\":0,\\\"complexity\\\":1.0,\\\"blocking factor\\\":0,\\\"delay factor\\\":1.0},\\\"nameSub\\\":\\\"C2\\\",\\\"id\\\":2,\\\"credits\\\":3,\\\"nameCanonical\\\":\\\"\\\"},{\\\"curriculum_requisites\\\":[],\\\"name\\\":\\\"C 3\\\",\\\"metrics\\\":{\\\"centrality\\\":0,\\\"complexity\\\":1.0,\\\"blocking factor\\\":0,\\\"delay factor\\\":1.0},\\\"nameSub\\\":\\\"C3\\\",\\\"id\\\":3,\\\"credits\\\":3,\\\"nameCanonical\\\":\\\"\\\"},{\\\"curriculum_requisites\\\":[],\\\"name\\\":\\\"C 6\\\",\\\"metrics\\\":{\\\"centrality\\\":0,\\\"complexity\\\":1.0,\\\"blocking factor\\\":0,\\\"delay factor\\\":1.0},\\\"nameSub\\\":\\\"C6\\\",\\\"id\\\":6,\\\"credits\\\":2,\\\"nameCanonical\\\":\\\"\\\"}],\\\"id\\\":2}],\\\"institution\\\":\\\"\\\"}},\\\"*\\\"); window.removeEventListener(\\\"message\\\",window.messageReceived); window.messageReceived=(function (event){return (event.data.curriculum!==undefined) ? (WebIO.setval({\\\"name\\\":\\\"curriculum-data\\\",\\\"scope\\\":\\\"scope-2ba91828-7cf0-4ae8-bcc7-c7ca059f4495\\\",\\\"id\\\":\\\"ob_03\\\",\\\"type\\\":\\\"observable\\\"},event.data.curriculum)) : undefined}); return window.addEventListener(\\\"message\\\",window.messageReceived)})\")),:style=>Dict(:padding=>\"0\",:height=>\"100vh\",:margin=>\"0\",:border=>\"none\",:width=>\"100%\")), 1), Dict{String,Tuple{Observables.AbstractObservable,Union{Nothing, Bool}}}(\"curriculum-data\"=>(Observable{Dict{String,Any}} with 1 listeners. Value:\n",
       "Dict{String,Any}(\"options\"=>Dict{String,Any}(\"hideTerms\"=>false,\"edit\"=>false),\"curriculum\"=>Dict{String,Any}(\"name\"=>\"Toxicity Example\",\"dp_name\"=>\"\",\"curriculum_terms\"=>Dict{String,Any}[Dict(\"name\"=>\"Term 1\",\"curriculum_items\"=>Dict{String,Any}[Dict(\"curriculum_requisites\"=>Dict{String,Any}[],\"name\"=>\"C 1\",\"metrics\"=>Dict{String,Any}(\"centrality\"=>0,\"complexity\"=>1.0,\"blocking factor\"=>0,\"delay factor\"=>1.0),\"nameSub\"=>\"C1\",\"id\"=>1,\"credits\"=>3,\"nameCanonical\"=>\"\"), Dict(\"curriculum_requisites\"=>Dict{String,Any}[],\"name\"=>\"C 4\",\"metrics\"=>Dict{String,Any}(\"centrality\"=>0,\"complexity\"=>1.0,\"blocking factor\"=>0,\"delay factor\"=>1.0),\"nameSub\"=>\"C4\",\"id\"=>4,\"credits\"=>3,\"nameCanonical\"=>\"\"), Dict(\"curriculum_requisites\"=>Dict{String,Any}[],\"name\"=>\"C 5\",\"metrics\"=>Dict{String,Any}(\"centrality\"=>0,\"complexity\"=>1.0,\"blocking factor\"=>0,\"delay factor\"=>1.0),\"nameSub\"=>\"C5\",\"id\"=>5,\"credits\"=>3,\"nameCanonical\"=>\"\")],\"id\"=>1), Dict(\"name\"=>\"Term 2\",\"curriculum_items\"=>Dict{String,Any}[Dict(\"curriculum_requisites\"=>Dict{String,Any}[],\"name\"=>\"C 2\",\"metrics\"=>Dict{String,Any}(\"centrality\"=>0,\"complexity\"=>1.0,\"blocking factor\"=>0,\"delay factor\"=>1.0),\"nameSub\"=>\"C2\",\"id\"=>2,\"credits\"=>3,\"nameCanonical\"=>\"\"), Dict(\"curriculum_requisites\"=>Dict{String,Any}[],\"name\"=>\"C 3\",\"metrics\"=>Dict{String,Any}(\"centrality\"=>0,\"complexity\"=>1.0,\"blocking factor\"=>0,\"delay factor\"=>1.0),\"nameSub\"=>\"C3\",\"id\"=>3,\"credits\"=>3,\"nameCanonical\"=>\"\"), Dict(\"curriculum_requisites\"=>Dict{String,Any}[],\"name\"=>\"C 6\",\"metrics\"=>Dict{String,Any}(\"centrality\"=>0,\"complexity\"=>1.0,\"blocking factor\"=>0,\"delay factor\"=>1.0),\"nameSub\"=>\"C6\",\"id\"=>6,\"credits\"=>2,\"nameCanonical\"=>\"\")],\"id\"=>2)],\"institution\"=>\"\")), nothing)), Set(String[]), nothing, Any[], Dict{Any,Any}(), WebIO.ConnectionPool(Channel{Any}(sz_max:9223372036854775807,sz_curr:1), Set(WebIO.AbstractConnection[]), Channel{WebIO.AbstractConnection}(sz_max:32,sz_curr:0)))"
      ]
     },
     "execution_count": 9,
     "metadata": {},
     "output_type": "execute_result"
    }
   ],
   "source": [
    "\n",
    "out = balance_terms_opt2(dp.curriculum; max_terms=2,max_credits_per_term=9)\n",
    "if out[1]\n",
    "    println(\"Optimal solution found for \"*string(out[3])*\" terms\")\n",
    "end\n",
    "dp = DegreePlan(\"\", dp.curriculum, out[2])\n",
    "visualize(dp, notebook=true)"
   ]
  },
  {
   "cell_type": "code",
   "execution_count": null,
   "metadata": {},
   "outputs": [],
   "source": []
  }
 ],
 "metadata": {
  "kernelspec": {
   "display_name": "Julia 1.0.3",
   "language": "julia",
   "name": "julia-1.0"
  },
  "language_info": {
   "file_extension": ".jl",
   "mimetype": "application/julia",
   "name": "julia",
   "version": "1.0.3"
  }
 },
 "nbformat": 4,
 "nbformat_minor": 2
}

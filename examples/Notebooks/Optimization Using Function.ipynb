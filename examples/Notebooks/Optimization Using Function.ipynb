{
 "cells": [
  {
   "cell_type": "code",
   "execution_count": 1,
   "metadata": {},
   "outputs": [
    {
     "data": {
      "text/html": [
       "    <script class='js-collapse-script'>\n",
       "        var curMatch =\n",
       "            window.location.href\n",
       "            .match(/(.*?)\\/notebooks\\/.*\\.ipynb/);\n",
       "\n",
       "        curMatch = curMatch ||\n",
       "            window.location.href\n",
       "            .match(/(.*?)\\/apps\\/.*\\.ipynb/);\n",
       "\n",
       "        if ( curMatch ) {\n",
       "            $('head').append('<base href=\"' + curMatch[1] + '/\">');\n",
       "        }\n",
       "    </script>\n"
      ],
      "text/plain": [
       "HTML{String}(\"    <script class='js-collapse-script'>\\n        var curMatch =\\n            window.location.href\\n            .match(/(.*?)\\\\/notebooks\\\\/.*\\\\.ipynb/);\\n\\n        curMatch = curMatch ||\\n            window.location.href\\n            .match(/(.*?)\\\\/apps\\\\/.*\\\\.ipynb/);\\n\\n        if ( curMatch ) {\\n            \\$('head').append('<base href=\\\"' + curMatch[1] + '/\\\">');\\n        }\\n    </script>\\n\")"
      ]
     },
     "metadata": {},
     "output_type": "display_data"
    },
    {
     "data": {
      "text/html": [
       "<script class='js-collapse-script' src='/assetserver/fdc026aee11d0be63dffca41d2ff400d51cedafd-assets/webio/dist/bundle.js'></script>"
      ],
      "text/plain": [
       "HTML{String}(\"<script class='js-collapse-script' src='/assetserver/fdc026aee11d0be63dffca41d2ff400d51cedafd-assets/webio/dist/bundle.js'></script>\")"
      ]
     },
     "metadata": {},
     "output_type": "display_data"
    },
    {
     "data": {
      "text/html": [
       "<script class='js-collapse-script' src='/assetserver/fdc026aee11d0be63dffca41d2ff400d51cedafd-assets/providers/ijulia_setup.js'></script>"
      ],
      "text/plain": [
       "HTML{String}(\"<script class='js-collapse-script' src='/assetserver/fdc026aee11d0be63dffca41d2ff400d51cedafd-assets/providers/ijulia_setup.js'></script>\")"
      ]
     },
     "metadata": {},
     "output_type": "display_data"
    },
    {
     "data": {
      "text/html": [
       "  <script class='js-collapse-script'>\n",
       "    $('.js-collapse-script').parent('.output_subarea').css('padding', '0');\n",
       "  </script>\n"
      ],
      "text/plain": [
       "HTML{String}(\"  <script class='js-collapse-script'>\\n    \\$('.js-collapse-script').parent('.output_subarea').css('padding', '0');\\n  </script>\\n\")"
      ]
     },
     "metadata": {},
     "output_type": "display_data"
    },
    {
     "name": "stdout",
     "output_type": "stream",
     "text": [
      "Current directory: C:\\Users\\orhan\\Desktop\\DrHeileman\\master\\CurricularAnalytics.jl\n"
     ]
    }
   ],
   "source": [
    "if split(pwd(),Base.Filesystem.path_separator)[end] != \"CurricularAnalytics.jl\"\n",
    "    cd(\"../..\")\n",
    "end\n",
    "println(\"Current directory: \" * pwd())\n",
    "using Pkg\n",
    "pkg\"activate .\"\n",
    "using CurricularAnalytics"
   ]
  },
  {
   "cell_type": "code",
   "execution_count": 2,
   "metadata": {},
   "outputs": [
    {
     "name": "stdout",
     "output_type": "stream",
     "text": [
      "Any[\"EE461G\", \"PHY232\", \"EGR102\", \"MA214\", \"CHE105\", \"PHY241\", \"CIS/WRD110\", \"EE211\", \"EE490\", \"EGR103\", \"CS215\", \"EE468G\", \"EE282\", \"EE287\", \"EGR101\", \"MA213\", \"EE223\", \"EE491\", \"MA320\", \"PHY231\", \"EE421G\", \"MA114\", \"MA113\", \"CIS/WRD111\", \"EE415G\", \"PHY242\"]\n"
     ]
    }
   ],
   "source": [
    "curric = read_csv(\"examples/UKY_EE_curric.csv\")\n",
    "coursenames = []\n",
    "for course in curric.courses\n",
    "    if length(course.prefix*course.num) > 0\n",
    "        push!(coursenames, course.prefix*course.num)\n",
    "    end\n",
    "end\n",
    "\n",
    "println(coursenames)"
   ]
  },
  {
   "cell_type": "code",
   "execution_count": null,
   "metadata": {
    "scrolled": false
   },
   "outputs": [
    {
     "name": "stdout",
     "output_type": "stream",
     "text": [
      "Number of courses in curriculum: 43\n",
      "Total credit hours: 131\n",
      "Dict{Any,Any}(7=>19,4=>19,2=>19,3=>19,5=>19,8=>19,6=>10,1=>15)\n"
     ]
    }
   ],
   "source": [
    "include(\"src/Optimization.jl\")\n",
    "dp = optimize_plan(\"examples/Notebooks/Opt_Configurations.csv\", \"examples/UKY_EE_curric.csv\",\"examples/Notebooks/CourseCombinationsWithCond.csv\")\n",
    "visualize(dp, notebook=true)"
   ]
  },
  {
   "cell_type": "code",
   "execution_count": 11,
   "metadata": {
    "scrolled": false
   },
   "outputs": [
    {
     "name": "stdout",
     "output_type": "stream",
     "text": [
      "Number of courses in curriculum: 43\n",
      "Total credit hours: 131\n",
      "Dict{Any,Any}(4=>19,2=>19,3=>19,5=>19,6=>10,1=>15)\n"
     ]
    },
    {
     "ename": "KeyError",
     "evalue": "KeyError: key 7 not found",
     "output_type": "error",
     "traceback": [
      "KeyError: key 7 not found",
      "",
      "Stacktrace:",
      " [1] getindex(::Dict{Any,Any}, ::Int64) at .\\dict.jl:478",
      " [2] macro expansion at C:\\Users\\orhan\\.julia\\packages\\JuMP\\PbnIJ\\src\\macros.jl:493 [inlined]",
      " [3] optimize_plan(::String, ::String, ::String) at C:\\Users\\orhan\\Desktop\\DrHeileman\\master\\CurricularAnalytics.jl\\src\\Optimization.jl:267",
      " [4] top-level scope at In[11]:4"
     ]
    }
   ],
   "source": [
    "using CSV\n",
    "using DataFrames\n",
    "include(\"src/Optimization.jl\")\n",
    "dp = optimize_plan(\"examples/Notebooks/Opt_Configurations.csv\", \"examples/UKY_EE_curric.csv\",\"examples/Notebooks/CourseCombinationsWithCond.csv\")\n",
    "visualize(dp, notebook=true)"
   ]
  },
  {
   "cell_type": "code",
   "execution_count": null,
   "metadata": {
    "collapsed": true
   },
   "outputs": [],
   "source": []
  }
 ],
 "metadata": {
  "kernelspec": {
   "display_name": "Julia 1.1.0",
   "language": "julia",
   "name": "julia-1.1"
  },
  "language_info": {
   "file_extension": ".jl",
   "mimetype": "application/julia",
   "name": "julia",
   "version": "1.1.0"
  }
 },
 "nbformat": 4,
 "nbformat_minor": 2
}

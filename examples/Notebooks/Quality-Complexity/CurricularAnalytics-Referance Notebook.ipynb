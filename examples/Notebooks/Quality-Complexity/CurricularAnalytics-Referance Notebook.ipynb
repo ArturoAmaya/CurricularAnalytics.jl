{
 "cells": [
  {
   "cell_type": "code",
   "execution_count": 18,
   "metadata": {},
   "outputs": [],
   "source": [
    "using CurricularAnalytics\n",
    "using Glob\n",
    "using CSV\n",
    "using DataFrames\n",
    "using Statistics\n",
    "using StatsPlots"
   ]
  },
  {
   "cell_type": "code",
   "execution_count": 19,
   "metadata": {},
   "outputs": [
    {
     "data": {
      "text/plain": [
       "generate_histogram (generic function with 1 method)"
      ]
     },
     "execution_count": 19,
     "metadata": {},
     "output_type": "execute_result"
    }
   ],
   "source": [
    "function generate_histogram(complexity_scores, average, std, title; all::Bool=false)\n",
    "    #kw_args = [:accelerate, :alpha, :backgroundcolor, :color, :colormap, :figsize, :isovalue, :labels, :levels, \n",
    "    #:location, :nbins, :rotation, :size, :tilt, :title, :where, :xflip, :xform, :xlabel, :xlim, :xlog, :yflip, \n",
    "    #:ylabel, :ylim, :ylog, :zflip, :zlabel, :zlim, :zlog]\n",
    "    title_hist = \"The Average Curriculum Complexity for $title Schools is $average\\nwith a standard deviation of $std\\n\"\n",
    "    if all \n",
    "        hist = StatsPlots.histogram(complexity_scores;nbins=5, title = title_hist, xlabel=\"Curricular Complexity\", \n",
    "        #hist = GR.histogram(complexity_scores;nbins=5, xlabel=\"Complexity\",   \n",
    "            ylabel=\"Number of Schools\",xlim=(0,500), ylim=(0,25), alpha = 0.7, color=:dodgerblue3)\n",
    "    else\n",
    "        hist = StatsPlots.histogram(complexity_scores;nbins=5, title = title_hist, xlabel=\"Curricular Complexity\", \n",
    "        #hist = GR.histogram(complexity_scores;nbins=5, xlabel=\"Complexity\",\n",
    "            ylabel=\"Number of Schools\",xlim=(0,500), ylim=(0,15), alpha = 0.7, color=:dodgerblue3)\n",
    "    end\n",
    "    return hist\n",
    "end"
   ]
  },
  {
   "cell_type": "code",
   "execution_count": 20,
   "metadata": {},
   "outputs": [
    {
     "name": "stdout",
     "output_type": "stream",
     "text": [
      "University of California--San Diego => 117.1\n",
      "Columbia University => 246.0\n",
      "Carnegie Mellon University => 139.0\n",
      "University of California--Los Angeles => 154.5\n",
      "Cornell University => 118.0\n",
      "Rice University => 149.0\n",
      "Princeton University => 77.0\n",
      "Purdue University => 237.0\n",
      "University of Michigan--Ann Arbor => 170.0\n",
      "Virginia Polytechnic Institute and State University => 398.0\n",
      "Northwestern University => 208.0\n",
      "California Institute of Technology => 56.2\n",
      "Stanford University => 59.2\n",
      "University of Wisconsin => 278.0\n",
      "Georgia Institute of Technology => 275.0\n",
      "Texas AM University--College Station => 365.0\n",
      "University of California--Berkeley => 38.2\n",
      "Johns Hopkins University => 180.0\n",
      "Duke University => 133.0\n",
      "University of Texas--Austin => 171.0\n",
      "University of Illinois--Urbana-Champaign => 180.0\n"
     ]
    },
    {
     "data": {
      "image/svg+xml": [
       "<?xml version=\"1.0\" encoding=\"utf-8\"?>\n",
       "<svg xmlns=\"http://www.w3.org/2000/svg\" xmlns:xlink=\"http://www.w3.org/1999/xlink\" width=\"600\" height=\"400\" viewBox=\"0 0 2400 1600\">\n",
       "<defs>\n",
       "  <clipPath id=\"clip8100\">\n",
       "    <rect x=\"0\" y=\"0\" width=\"2000\" height=\"2000\"/>\n",
       "  </clipPath>\n",
       "</defs>\n",
       "<defs>\n",
       "  <clipPath id=\"clip8101\">\n",
       "    <rect x=\"0\" y=\"0\" width=\"2400\" height=\"1600\"/>\n",
       "  </clipPath>\n",
       "</defs>\n",
       "<polygon clip-path=\"url(#clip8101)\" points=\"\n",
       "0,1600 2400,1600 2400,0 0,0 \n",
       "  \" fill=\"#ffffff\" fill-rule=\"evenodd\" fill-opacity=\"1\"/>\n",
       "<defs>\n",
       "  <clipPath id=\"clip8102\">\n",
       "    <rect x=\"480\" y=\"0\" width=\"1681\" height=\"1600\"/>\n",
       "  </clipPath>\n",
       "</defs>\n",
       "<polygon clip-path=\"url(#clip8101)\" points=\"\n",
       "211.005,1440.48 2321.26,1440.48 2321.26,125.984 211.005,125.984 \n",
       "  \" fill=\"#ffffff\" fill-rule=\"evenodd\" fill-opacity=\"1\"/>\n",
       "<defs>\n",
       "  <clipPath id=\"clip8103\">\n",
       "    <rect x=\"211\" y=\"125\" width=\"2111\" height=\"1315\"/>\n",
       "  </clipPath>\n",
       "</defs>\n",
       "<polyline clip-path=\"url(#clip8103)\" style=\"stroke:#000000; stroke-width:2; stroke-opacity:0.1; fill:none\" points=\"\n",
       "  211.005,1440.48 211.005,125.984 \n",
       "  \"/>\n",
       "<polyline clip-path=\"url(#clip8103)\" style=\"stroke:#000000; stroke-width:2; stroke-opacity:0.1; fill:none\" points=\"\n",
       "  633.056,1440.48 633.056,125.984 \n",
       "  \"/>\n",
       "<polyline clip-path=\"url(#clip8103)\" style=\"stroke:#000000; stroke-width:2; stroke-opacity:0.1; fill:none\" points=\"\n",
       "  1055.11,1440.48 1055.11,125.984 \n",
       "  \"/>\n",
       "<polyline clip-path=\"url(#clip8103)\" style=\"stroke:#000000; stroke-width:2; stroke-opacity:0.1; fill:none\" points=\"\n",
       "  1477.16,1440.48 1477.16,125.984 \n",
       "  \"/>\n",
       "<polyline clip-path=\"url(#clip8103)\" style=\"stroke:#000000; stroke-width:2; stroke-opacity:0.1; fill:none\" points=\"\n",
       "  1899.21,1440.48 1899.21,125.984 \n",
       "  \"/>\n",
       "<polyline clip-path=\"url(#clip8103)\" style=\"stroke:#000000; stroke-width:2; stroke-opacity:0.1; fill:none\" points=\"\n",
       "  2321.26,1440.48 2321.26,125.984 \n",
       "  \"/>\n",
       "<polyline clip-path=\"url(#clip8103)\" style=\"stroke:#000000; stroke-width:2; stroke-opacity:0.1; fill:none\" points=\"\n",
       "  211.005,1440.48 2321.26,1440.48 \n",
       "  \"/>\n",
       "<polyline clip-path=\"url(#clip8103)\" style=\"stroke:#000000; stroke-width:2; stroke-opacity:0.1; fill:none\" points=\"\n",
       "  211.005,1002.32 2321.26,1002.32 \n",
       "  \"/>\n",
       "<polyline clip-path=\"url(#clip8103)\" style=\"stroke:#000000; stroke-width:2; stroke-opacity:0.1; fill:none\" points=\"\n",
       "  211.005,564.15 2321.26,564.15 \n",
       "  \"/>\n",
       "<polyline clip-path=\"url(#clip8103)\" style=\"stroke:#000000; stroke-width:2; stroke-opacity:0.1; fill:none\" points=\"\n",
       "  211.005,125.984 2321.26,125.984 \n",
       "  \"/>\n",
       "<polyline clip-path=\"url(#clip8101)\" style=\"stroke:#000000; stroke-width:4; stroke-opacity:1; fill:none\" points=\"\n",
       "  211.005,1440.48 2321.26,1440.48 \n",
       "  \"/>\n",
       "<polyline clip-path=\"url(#clip8101)\" style=\"stroke:#000000; stroke-width:4; stroke-opacity:1; fill:none\" points=\"\n",
       "  211.005,1440.48 211.005,125.984 \n",
       "  \"/>\n",
       "<polyline clip-path=\"url(#clip8101)\" style=\"stroke:#000000; stroke-width:4; stroke-opacity:1; fill:none\" points=\"\n",
       "  211.005,1440.48 211.005,1420.77 \n",
       "  \"/>\n",
       "<polyline clip-path=\"url(#clip8101)\" style=\"stroke:#000000; stroke-width:4; stroke-opacity:1; fill:none\" points=\"\n",
       "  633.056,1440.48 633.056,1420.77 \n",
       "  \"/>\n",
       "<polyline clip-path=\"url(#clip8101)\" style=\"stroke:#000000; stroke-width:4; stroke-opacity:1; fill:none\" points=\"\n",
       "  1055.11,1440.48 1055.11,1420.77 \n",
       "  \"/>\n",
       "<polyline clip-path=\"url(#clip8101)\" style=\"stroke:#000000; stroke-width:4; stroke-opacity:1; fill:none\" points=\"\n",
       "  1477.16,1440.48 1477.16,1420.77 \n",
       "  \"/>\n",
       "<polyline clip-path=\"url(#clip8101)\" style=\"stroke:#000000; stroke-width:4; stroke-opacity:1; fill:none\" points=\"\n",
       "  1899.21,1440.48 1899.21,1420.77 \n",
       "  \"/>\n",
       "<polyline clip-path=\"url(#clip8101)\" style=\"stroke:#000000; stroke-width:4; stroke-opacity:1; fill:none\" points=\"\n",
       "  2321.26,1440.48 2321.26,1420.77 \n",
       "  \"/>\n",
       "<polyline clip-path=\"url(#clip8101)\" style=\"stroke:#000000; stroke-width:4; stroke-opacity:1; fill:none\" points=\"\n",
       "  211.005,1440.48 242.659,1440.48 \n",
       "  \"/>\n",
       "<polyline clip-path=\"url(#clip8101)\" style=\"stroke:#000000; stroke-width:4; stroke-opacity:1; fill:none\" points=\"\n",
       "  211.005,1002.32 242.659,1002.32 \n",
       "  \"/>\n",
       "<polyline clip-path=\"url(#clip8101)\" style=\"stroke:#000000; stroke-width:4; stroke-opacity:1; fill:none\" points=\"\n",
       "  211.005,564.15 242.659,564.15 \n",
       "  \"/>\n",
       "<polyline clip-path=\"url(#clip8101)\" style=\"stroke:#000000; stroke-width:4; stroke-opacity:1; fill:none\" points=\"\n",
       "  211.005,125.984 242.659,125.984 \n",
       "  \"/>\n",
       "<g clip-path=\"url(#clip8101)\">\n",
       "<text style=\"fill:#000000; fill-opacity:1; font-family:Arial,Helvetica Neue,Helvetica,sans-serif; font-size:48px; text-anchor:middle;\" transform=\"rotate(0, 211.005, 1494.48)\" x=\"211.005\" y=\"1494.48\">0</text>\n",
       "</g>\n",
       "<g clip-path=\"url(#clip8101)\">\n",
       "<text style=\"fill:#000000; fill-opacity:1; font-family:Arial,Helvetica Neue,Helvetica,sans-serif; font-size:48px; text-anchor:middle;\" transform=\"rotate(0, 633.056, 1494.48)\" x=\"633.056\" y=\"1494.48\">100</text>\n",
       "</g>\n",
       "<g clip-path=\"url(#clip8101)\">\n",
       "<text style=\"fill:#000000; fill-opacity:1; font-family:Arial,Helvetica Neue,Helvetica,sans-serif; font-size:48px; text-anchor:middle;\" transform=\"rotate(0, 1055.11, 1494.48)\" x=\"1055.11\" y=\"1494.48\">200</text>\n",
       "</g>\n",
       "<g clip-path=\"url(#clip8101)\">\n",
       "<text style=\"fill:#000000; fill-opacity:1; font-family:Arial,Helvetica Neue,Helvetica,sans-serif; font-size:48px; text-anchor:middle;\" transform=\"rotate(0, 1477.16, 1494.48)\" x=\"1477.16\" y=\"1494.48\">300</text>\n",
       "</g>\n",
       "<g clip-path=\"url(#clip8101)\">\n",
       "<text style=\"fill:#000000; fill-opacity:1; font-family:Arial,Helvetica Neue,Helvetica,sans-serif; font-size:48px; text-anchor:middle;\" transform=\"rotate(0, 1899.21, 1494.48)\" x=\"1899.21\" y=\"1494.48\">400</text>\n",
       "</g>\n",
       "<g clip-path=\"url(#clip8101)\">\n",
       "<text style=\"fill:#000000; fill-opacity:1; font-family:Arial,Helvetica Neue,Helvetica,sans-serif; font-size:48px; text-anchor:middle;\" transform=\"rotate(0, 2321.26, 1494.48)\" x=\"2321.26\" y=\"1494.48\">500</text>\n",
       "</g>\n",
       "<g clip-path=\"url(#clip8101)\">\n",
       "<text style=\"fill:#000000; fill-opacity:1; font-family:Arial,Helvetica Neue,Helvetica,sans-serif; font-size:48px; text-anchor:end;\" transform=\"rotate(0, 187.005, 1457.98)\" x=\"187.005\" y=\"1457.98\">0</text>\n",
       "</g>\n",
       "<g clip-path=\"url(#clip8101)\">\n",
       "<text style=\"fill:#000000; fill-opacity:1; font-family:Arial,Helvetica Neue,Helvetica,sans-serif; font-size:48px; text-anchor:end;\" transform=\"rotate(0, 187.005, 1019.82)\" x=\"187.005\" y=\"1019.82\">5</text>\n",
       "</g>\n",
       "<g clip-path=\"url(#clip8101)\">\n",
       "<text style=\"fill:#000000; fill-opacity:1; font-family:Arial,Helvetica Neue,Helvetica,sans-serif; font-size:48px; text-anchor:end;\" transform=\"rotate(0, 187.005, 581.65)\" x=\"187.005\" y=\"581.65\">10</text>\n",
       "</g>\n",
       "<g clip-path=\"url(#clip8101)\">\n",
       "<text style=\"fill:#000000; fill-opacity:1; font-family:Arial,Helvetica Neue,Helvetica,sans-serif; font-size:48px; text-anchor:end;\" transform=\"rotate(0, 187.005, 143.484)\" x=\"187.005\" y=\"143.484\">15</text>\n",
       "</g>\n",
       "<g clip-path=\"url(#clip8101)\">\n",
       "<text style=\"fill:#000000; fill-opacity:1; font-family:Arial,Helvetica Neue,Helvetica,sans-serif; font-size:84px; text-anchor:middle;\" transform=\"rotate(0, 1266.13, 73.2)\" x=\"1266.13\" y=\"73.2\">The Average Curriculum Complexity for Tier 1 Schools is 178.53</text>\n",
       "</g>\n",
       "<g clip-path=\"url(#clip8101)\">\n",
       "<text style=\"fill:#000000; fill-opacity:1; font-family:Arial,Helvetica Neue,Helvetica,sans-serif; font-size:84px; text-anchor:middle;\" transform=\"rotate(0, 1266.13, 163.92)\" x=\"1266.13\" y=\"163.92\">with a standard deviation of 95.61375598381925</text>\n",
       "</g>\n",
       "<g clip-path=\"url(#clip8101)\">\n",
       "<text style=\"fill:#000000; fill-opacity:1; font-family:Arial,Helvetica Neue,Helvetica,sans-serif; font-size:66px; text-anchor:middle;\" transform=\"rotate(0, 1266.13, 1590.4)\" x=\"1266.13\" y=\"1590.4\">Curricular Complexity</text>\n",
       "</g>\n",
       "<g clip-path=\"url(#clip8101)\">\n",
       "<text style=\"fill:#000000; fill-opacity:1; font-family:Arial,Helvetica Neue,Helvetica,sans-serif; font-size:66px; text-anchor:middle;\" transform=\"rotate(-90, 57.6, 783.233)\" x=\"57.6\" y=\"783.233\">Number of Schools</text>\n",
       "</g>\n",
       "<polygon clip-path=\"url(#clip8103)\" points=\"\n",
       "211.005,1089.95 211.005,1440.48 633.056,1440.48 633.056,1089.95 211.005,1089.95 211.005,1089.95 \n",
       "  \" fill=\"#1874cd\" fill-rule=\"evenodd\" fill-opacity=\"0.7\"/>\n",
       "<polyline clip-path=\"url(#clip8103)\" style=\"stroke:#000000; stroke-width:4; stroke-opacity:0.7; fill:none\" points=\"\n",
       "  211.005,1089.95 211.005,1440.48 633.056,1440.48 633.056,1089.95 211.005,1089.95 \n",
       "  \"/>\n",
       "<polygon clip-path=\"url(#clip8103)\" points=\"\n",
       "633.056,564.15 633.056,1440.48 1055.11,1440.48 1055.11,564.15 633.056,564.15 633.056,564.15 \n",
       "  \" fill=\"#1874cd\" fill-rule=\"evenodd\" fill-opacity=\"0.7\"/>\n",
       "<polyline clip-path=\"url(#clip8103)\" style=\"stroke:#000000; stroke-width:4; stroke-opacity:0.7; fill:none\" points=\"\n",
       "  633.056,564.15 633.056,1440.48 1055.11,1440.48 1055.11,564.15 633.056,564.15 \n",
       "  \"/>\n",
       "<polygon clip-path=\"url(#clip8103)\" points=\"\n",
       "1055.11,1002.32 1055.11,1440.48 1477.16,1440.48 1477.16,1002.32 1055.11,1002.32 1055.11,1002.32 \n",
       "  \" fill=\"#1874cd\" fill-rule=\"evenodd\" fill-opacity=\"0.7\"/>\n",
       "<polyline clip-path=\"url(#clip8103)\" style=\"stroke:#000000; stroke-width:4; stroke-opacity:0.7; fill:none\" points=\"\n",
       "  1055.11,1002.32 1055.11,1440.48 1477.16,1440.48 1477.16,1002.32 1055.11,1002.32 \n",
       "  \"/>\n",
       "<polygon clip-path=\"url(#clip8103)\" points=\"\n",
       "1477.16,1265.22 1477.16,1440.48 1899.21,1440.48 1899.21,1265.22 1477.16,1265.22 1477.16,1265.22 \n",
       "  \" fill=\"#1874cd\" fill-rule=\"evenodd\" fill-opacity=\"0.7\"/>\n",
       "<polyline clip-path=\"url(#clip8103)\" style=\"stroke:#000000; stroke-width:4; stroke-opacity:0.7; fill:none\" points=\"\n",
       "  1477.16,1265.22 1477.16,1440.48 1899.21,1440.48 1899.21,1265.22 1477.16,1265.22 \n",
       "  \"/>\n",
       "<polygon clip-path=\"url(#clip8101)\" points=\"\n",
       "1958.43,330.464 2249.26,330.464 2249.26,209.504 1958.43,209.504 \n",
       "  \" fill=\"#ffffff\" fill-rule=\"evenodd\" fill-opacity=\"1\"/>\n",
       "<polyline clip-path=\"url(#clip8101)\" style=\"stroke:#000000; stroke-width:4; stroke-opacity:1; fill:none\" points=\"\n",
       "  1958.43,330.464 2249.26,330.464 2249.26,209.504 1958.43,209.504 1958.43,330.464 \n",
       "  \"/>\n",
       "<polygon clip-path=\"url(#clip8101)\" points=\"\n",
       "1982.43,294.176 2126.43,294.176 2126.43,245.792 1982.43,245.792 1982.43,294.176 \n",
       "  \" fill=\"#1874cd\" fill-rule=\"evenodd\" fill-opacity=\"0.7\"/>\n",
       "<polyline clip-path=\"url(#clip8101)\" style=\"stroke:#000000; stroke-width:4; stroke-opacity:1; fill:none\" points=\"\n",
       "  1982.43,294.176 2126.43,294.176 2126.43,245.792 1982.43,245.792 1982.43,294.176 \n",
       "  \"/>\n",
       "<g clip-path=\"url(#clip8101)\">\n",
       "<text style=\"fill:#000000; fill-opacity:1; font-family:Arial,Helvetica Neue,Helvetica,sans-serif; font-size:48px; text-anchor:start;\" transform=\"rotate(0, 2150.43, 287.484)\" x=\"2150.43\" y=\"287.484\">y1</text>\n",
       "</g>\n",
       "</svg>\n"
      ]
     },
     "execution_count": 20,
     "metadata": {},
     "output_type": "execute_result"
    }
   ],
   "source": [
    "tier1files = glob(\"*\",\"Tier1\")\n",
    "tier1 = Dict{String, Any}()\n",
    "for csv_filepath in tier1files\n",
    "    dp = read_csv(csv_filepath)\n",
    "    complexity(dp.curriculum)\n",
    "    curric = dp.curriculum\n",
    "    tier1[csv_filepath] = dp.curriculum.metrics[\"complexity\"][1]\n",
    "    if curric.system_type == quarter\n",
    "        tier1[csv_filepath] = round( tier1[csv_filepath] * 2/3 , digits=1)\n",
    "    end\n",
    "end\n",
    "\n",
    "for (k,v) in tier1\n",
    "    k = split(split(k, \"Tier1/\")[2],\".\")[1]\n",
    "    println(\"$k => $v\")\n",
    "end\n",
    "tier1_complexity_scores = collect(values(tier1))\n",
    "tier1_schools = collect(keys(tier1))\n",
    "#T_1_hat is the Tier 1 sample average.\n",
    "T_1_hat = round(sum(tier1_complexity_scores) / size(tier1_complexity_scores, 1),digits=2)\n",
    "tier1_std = round(std(tier1_complexity_scores),digits=243)\n",
    "\n",
    "first_tier = generate_histogram(tier1_complexity_scores, T_1_hat, tier1_std, \"Tier 1\")"
   ]
  },
  {
   "cell_type": "code",
   "execution_count": 21,
   "metadata": {},
   "outputs": [
    {
     "name": "stdout",
     "output_type": "stream",
     "text": [
      "Could not find a Curriculum\n"
     ]
    },
    {
     "ename": "ErrorException",
     "evalue": "type String has no field curriculum",
     "output_type": "error",
     "traceback": [
      "type String has no field curriculum",
      "",
      "Stacktrace:",
      " [1] getproperty(::Any, ::Symbol) at ./sysimg.jl:18",
      " [2] top-level scope at ./In[21]:6"
     ]
    }
   ],
   "source": [
    "tier2files = glob(\"*\",\"Tier2\")\n",
    "\n",
    "tier2 = Dict{String, Any}()\n",
    "for csv_filepath in tier2files\n",
    "    dp = read_csv(csv_filepath)\n",
    "    complexity(dp.curriculum)\n",
    "    curric = dp.curriculum\n",
    "    tier2[csv_filepath] = dp.curriculum.metrics[\"complexity\"][1]\n",
    "    if curric.system_type == quarter\n",
    "        tier2[csv_filepath] = round( tier2[csv_filepath] * 2/3 , digits=1)\n",
    "    end\n",
    "end\n",
    "for (k,v) in tier2\n",
    "    k = split(split(k, \"Tier2/\")[2],\".\")[1]\n",
    "    println(\"$k => $v\")\n",
    "end\n",
    "\n",
    "tier2_complexity_scores = collect(values(tier2));\n",
    "tier2_schools = collect(keys(tier2));\n",
    "#T_2_hat is the Tier 2 sample average.\n",
    "T_2_hat = round(sum(tier2_complexity_scores) / size(tier2_complexity_scores, 1),digits=2);\n",
    "tier2_std = round(std(tier2_complexity_scores),digits=2);\n",
    "second_tier = generate_histogram(tier2_complexity_scores, T_2_hat, tier2_std, \"Tier 2\")"
   ]
  },
  {
   "cell_type": "code",
   "execution_count": 22,
   "metadata": {},
   "outputs": [
    {
     "name": "stdout",
     "output_type": "stream",
     "text": [
      "San Diego State University => 386.0\n",
      "Tennessee State University => 489.0\n",
      "University of Missouri--Kansas City => 485.0\n",
      "Prairie View AM University => 367.0\n",
      "University of North Dakota => 354.0\n",
      "University of New Orleans => 256.0\n",
      "University of Bridgeport => 167.0\n",
      "Tuskegee University => 384.0\n",
      "Texas AM University--Kingsville => 344.0\n",
      "University of Louisiana--Lafayette => 323.0\n",
      "University of Denver => 353.0\n",
      "Western Michigan University => 300.0\n",
      "Lamar University => 327.0\n",
      "University of Detroit Mercy => 392.0\n",
      "Florida Atlantic University => 294.0\n",
      "Texas State University => 266.0\n",
      "Jackson State University => 298.0\n",
      "Morgan State University => 303.0\n",
      "University of North Texas => 363.0\n",
      "Oakland University => 232.0\n",
      "University of Tennessee--Chattanooga => 394.0\n"
     ]
    },
    {
     "data": {
      "image/svg+xml": [
       "<?xml version=\"1.0\" encoding=\"utf-8\"?>\n",
       "<svg xmlns=\"http://www.w3.org/2000/svg\" xmlns:xlink=\"http://www.w3.org/1999/xlink\" width=\"600\" height=\"400\" viewBox=\"0 0 2400 1600\">\n",
       "<defs>\n",
       "  <clipPath id=\"clip8300\">\n",
       "    <rect x=\"0\" y=\"0\" width=\"2000\" height=\"2000\"/>\n",
       "  </clipPath>\n",
       "</defs>\n",
       "<defs>\n",
       "  <clipPath id=\"clip8301\">\n",
       "    <rect x=\"0\" y=\"0\" width=\"2400\" height=\"1600\"/>\n",
       "  </clipPath>\n",
       "</defs>\n",
       "<polygon clip-path=\"url(#clip8301)\" points=\"\n",
       "0,1600 2400,1600 2400,0 0,0 \n",
       "  \" fill=\"#ffffff\" fill-rule=\"evenodd\" fill-opacity=\"1\"/>\n",
       "<defs>\n",
       "  <clipPath id=\"clip8302\">\n",
       "    <rect x=\"480\" y=\"0\" width=\"1681\" height=\"1600\"/>\n",
       "  </clipPath>\n",
       "</defs>\n",
       "<polygon clip-path=\"url(#clip8301)\" points=\"\n",
       "211.005,1440.48 2321.26,1440.48 2321.26,125.984 211.005,125.984 \n",
       "  \" fill=\"#ffffff\" fill-rule=\"evenodd\" fill-opacity=\"1\"/>\n",
       "<defs>\n",
       "  <clipPath id=\"clip8303\">\n",
       "    <rect x=\"211\" y=\"125\" width=\"2111\" height=\"1315\"/>\n",
       "  </clipPath>\n",
       "</defs>\n",
       "<polyline clip-path=\"url(#clip8303)\" style=\"stroke:#000000; stroke-width:2; stroke-opacity:0.1; fill:none\" points=\"\n",
       "  211.005,1440.48 211.005,125.984 \n",
       "  \"/>\n",
       "<polyline clip-path=\"url(#clip8303)\" style=\"stroke:#000000; stroke-width:2; stroke-opacity:0.1; fill:none\" points=\"\n",
       "  633.056,1440.48 633.056,125.984 \n",
       "  \"/>\n",
       "<polyline clip-path=\"url(#clip8303)\" style=\"stroke:#000000; stroke-width:2; stroke-opacity:0.1; fill:none\" points=\"\n",
       "  1055.11,1440.48 1055.11,125.984 \n",
       "  \"/>\n",
       "<polyline clip-path=\"url(#clip8303)\" style=\"stroke:#000000; stroke-width:2; stroke-opacity:0.1; fill:none\" points=\"\n",
       "  1477.16,1440.48 1477.16,125.984 \n",
       "  \"/>\n",
       "<polyline clip-path=\"url(#clip8303)\" style=\"stroke:#000000; stroke-width:2; stroke-opacity:0.1; fill:none\" points=\"\n",
       "  1899.21,1440.48 1899.21,125.984 \n",
       "  \"/>\n",
       "<polyline clip-path=\"url(#clip8303)\" style=\"stroke:#000000; stroke-width:2; stroke-opacity:0.1; fill:none\" points=\"\n",
       "  2321.26,1440.48 2321.26,125.984 \n",
       "  \"/>\n",
       "<polyline clip-path=\"url(#clip8303)\" style=\"stroke:#000000; stroke-width:2; stroke-opacity:0.1; fill:none\" points=\"\n",
       "  211.005,1440.48 2321.26,1440.48 \n",
       "  \"/>\n",
       "<polyline clip-path=\"url(#clip8303)\" style=\"stroke:#000000; stroke-width:2; stroke-opacity:0.1; fill:none\" points=\"\n",
       "  211.005,1002.32 2321.26,1002.32 \n",
       "  \"/>\n",
       "<polyline clip-path=\"url(#clip8303)\" style=\"stroke:#000000; stroke-width:2; stroke-opacity:0.1; fill:none\" points=\"\n",
       "  211.005,564.15 2321.26,564.15 \n",
       "  \"/>\n",
       "<polyline clip-path=\"url(#clip8303)\" style=\"stroke:#000000; stroke-width:2; stroke-opacity:0.1; fill:none\" points=\"\n",
       "  211.005,125.984 2321.26,125.984 \n",
       "  \"/>\n",
       "<polyline clip-path=\"url(#clip8301)\" style=\"stroke:#000000; stroke-width:4; stroke-opacity:1; fill:none\" points=\"\n",
       "  211.005,1440.48 2321.26,1440.48 \n",
       "  \"/>\n",
       "<polyline clip-path=\"url(#clip8301)\" style=\"stroke:#000000; stroke-width:4; stroke-opacity:1; fill:none\" points=\"\n",
       "  211.005,1440.48 211.005,125.984 \n",
       "  \"/>\n",
       "<polyline clip-path=\"url(#clip8301)\" style=\"stroke:#000000; stroke-width:4; stroke-opacity:1; fill:none\" points=\"\n",
       "  211.005,1440.48 211.005,1420.77 \n",
       "  \"/>\n",
       "<polyline clip-path=\"url(#clip8301)\" style=\"stroke:#000000; stroke-width:4; stroke-opacity:1; fill:none\" points=\"\n",
       "  633.056,1440.48 633.056,1420.77 \n",
       "  \"/>\n",
       "<polyline clip-path=\"url(#clip8301)\" style=\"stroke:#000000; stroke-width:4; stroke-opacity:1; fill:none\" points=\"\n",
       "  1055.11,1440.48 1055.11,1420.77 \n",
       "  \"/>\n",
       "<polyline clip-path=\"url(#clip8301)\" style=\"stroke:#000000; stroke-width:4; stroke-opacity:1; fill:none\" points=\"\n",
       "  1477.16,1440.48 1477.16,1420.77 \n",
       "  \"/>\n",
       "<polyline clip-path=\"url(#clip8301)\" style=\"stroke:#000000; stroke-width:4; stroke-opacity:1; fill:none\" points=\"\n",
       "  1899.21,1440.48 1899.21,1420.77 \n",
       "  \"/>\n",
       "<polyline clip-path=\"url(#clip8301)\" style=\"stroke:#000000; stroke-width:4; stroke-opacity:1; fill:none\" points=\"\n",
       "  2321.26,1440.48 2321.26,1420.77 \n",
       "  \"/>\n",
       "<polyline clip-path=\"url(#clip8301)\" style=\"stroke:#000000; stroke-width:4; stroke-opacity:1; fill:none\" points=\"\n",
       "  211.005,1440.48 242.659,1440.48 \n",
       "  \"/>\n",
       "<polyline clip-path=\"url(#clip8301)\" style=\"stroke:#000000; stroke-width:4; stroke-opacity:1; fill:none\" points=\"\n",
       "  211.005,1002.32 242.659,1002.32 \n",
       "  \"/>\n",
       "<polyline clip-path=\"url(#clip8301)\" style=\"stroke:#000000; stroke-width:4; stroke-opacity:1; fill:none\" points=\"\n",
       "  211.005,564.15 242.659,564.15 \n",
       "  \"/>\n",
       "<polyline clip-path=\"url(#clip8301)\" style=\"stroke:#000000; stroke-width:4; stroke-opacity:1; fill:none\" points=\"\n",
       "  211.005,125.984 242.659,125.984 \n",
       "  \"/>\n",
       "<g clip-path=\"url(#clip8301)\">\n",
       "<text style=\"fill:#000000; fill-opacity:1; font-family:Arial,Helvetica Neue,Helvetica,sans-serif; font-size:48px; text-anchor:middle;\" transform=\"rotate(0, 211.005, 1494.48)\" x=\"211.005\" y=\"1494.48\">0</text>\n",
       "</g>\n",
       "<g clip-path=\"url(#clip8301)\">\n",
       "<text style=\"fill:#000000; fill-opacity:1; font-family:Arial,Helvetica Neue,Helvetica,sans-serif; font-size:48px; text-anchor:middle;\" transform=\"rotate(0, 633.056, 1494.48)\" x=\"633.056\" y=\"1494.48\">100</text>\n",
       "</g>\n",
       "<g clip-path=\"url(#clip8301)\">\n",
       "<text style=\"fill:#000000; fill-opacity:1; font-family:Arial,Helvetica Neue,Helvetica,sans-serif; font-size:48px; text-anchor:middle;\" transform=\"rotate(0, 1055.11, 1494.48)\" x=\"1055.11\" y=\"1494.48\">200</text>\n",
       "</g>\n",
       "<g clip-path=\"url(#clip8301)\">\n",
       "<text style=\"fill:#000000; fill-opacity:1; font-family:Arial,Helvetica Neue,Helvetica,sans-serif; font-size:48px; text-anchor:middle;\" transform=\"rotate(0, 1477.16, 1494.48)\" x=\"1477.16\" y=\"1494.48\">300</text>\n",
       "</g>\n",
       "<g clip-path=\"url(#clip8301)\">\n",
       "<text style=\"fill:#000000; fill-opacity:1; font-family:Arial,Helvetica Neue,Helvetica,sans-serif; font-size:48px; text-anchor:middle;\" transform=\"rotate(0, 1899.21, 1494.48)\" x=\"1899.21\" y=\"1494.48\">400</text>\n",
       "</g>\n",
       "<g clip-path=\"url(#clip8301)\">\n",
       "<text style=\"fill:#000000; fill-opacity:1; font-family:Arial,Helvetica Neue,Helvetica,sans-serif; font-size:48px; text-anchor:middle;\" transform=\"rotate(0, 2321.26, 1494.48)\" x=\"2321.26\" y=\"1494.48\">500</text>\n",
       "</g>\n",
       "<g clip-path=\"url(#clip8301)\">\n",
       "<text style=\"fill:#000000; fill-opacity:1; font-family:Arial,Helvetica Neue,Helvetica,sans-serif; font-size:48px; text-anchor:end;\" transform=\"rotate(0, 187.005, 1457.98)\" x=\"187.005\" y=\"1457.98\">0</text>\n",
       "</g>\n",
       "<g clip-path=\"url(#clip8301)\">\n",
       "<text style=\"fill:#000000; fill-opacity:1; font-family:Arial,Helvetica Neue,Helvetica,sans-serif; font-size:48px; text-anchor:end;\" transform=\"rotate(0, 187.005, 1019.82)\" x=\"187.005\" y=\"1019.82\">5</text>\n",
       "</g>\n",
       "<g clip-path=\"url(#clip8301)\">\n",
       "<text style=\"fill:#000000; fill-opacity:1; font-family:Arial,Helvetica Neue,Helvetica,sans-serif; font-size:48px; text-anchor:end;\" transform=\"rotate(0, 187.005, 581.65)\" x=\"187.005\" y=\"581.65\">10</text>\n",
       "</g>\n",
       "<g clip-path=\"url(#clip8301)\">\n",
       "<text style=\"fill:#000000; fill-opacity:1; font-family:Arial,Helvetica Neue,Helvetica,sans-serif; font-size:48px; text-anchor:end;\" transform=\"rotate(0, 187.005, 143.484)\" x=\"187.005\" y=\"143.484\">15</text>\n",
       "</g>\n",
       "<g clip-path=\"url(#clip8301)\">\n",
       "<text style=\"fill:#000000; fill-opacity:1; font-family:Arial,Helvetica Neue,Helvetica,sans-serif; font-size:84px; text-anchor:middle;\" transform=\"rotate(0, 1266.13, 73.2)\" x=\"1266.13\" y=\"73.2\">The Average Curriculum Complexity for Tier 3 Schools is 337.0</text>\n",
       "</g>\n",
       "<g clip-path=\"url(#clip8301)\">\n",
       "<text style=\"fill:#000000; fill-opacity:1; font-family:Arial,Helvetica Neue,Helvetica,sans-serif; font-size:84px; text-anchor:middle;\" transform=\"rotate(0, 1266.13, 163.92)\" x=\"1266.13\" y=\"163.92\">with a standard deviation of 76.09</text>\n",
       "</g>\n",
       "<g clip-path=\"url(#clip8301)\">\n",
       "<text style=\"fill:#000000; fill-opacity:1; font-family:Arial,Helvetica Neue,Helvetica,sans-serif; font-size:66px; text-anchor:middle;\" transform=\"rotate(0, 1266.13, 1590.4)\" x=\"1266.13\" y=\"1590.4\">Curricular Complexity</text>\n",
       "</g>\n",
       "<g clip-path=\"url(#clip8301)\">\n",
       "<text style=\"fill:#000000; fill-opacity:1; font-family:Arial,Helvetica Neue,Helvetica,sans-serif; font-size:66px; text-anchor:middle;\" transform=\"rotate(-90, 57.6, 783.233)\" x=\"57.6\" y=\"783.233\">Number of Schools</text>\n",
       "</g>\n",
       "<polygon clip-path=\"url(#clip8303)\" points=\"\n",
       "633.056,1352.85 633.056,1440.48 1055.11,1440.48 1055.11,1352.85 633.056,1352.85 633.056,1352.85 \n",
       "  \" fill=\"#1874cd\" fill-rule=\"evenodd\" fill-opacity=\"0.7\"/>\n",
       "<polyline clip-path=\"url(#clip8303)\" style=\"stroke:#000000; stroke-width:4; stroke-opacity:0.7; fill:none\" points=\"\n",
       "  633.056,1352.85 633.056,1440.48 1055.11,1440.48 1055.11,1352.85 633.056,1352.85 \n",
       "  \"/>\n",
       "<polygon clip-path=\"url(#clip8303)\" points=\"\n",
       "1055.11,1002.32 1055.11,1440.48 1477.16,1440.48 1477.16,1002.32 1055.11,1002.32 1055.11,1002.32 \n",
       "  \" fill=\"#1874cd\" fill-rule=\"evenodd\" fill-opacity=\"0.7\"/>\n",
       "<polyline clip-path=\"url(#clip8303)\" style=\"stroke:#000000; stroke-width:4; stroke-opacity:0.7; fill:none\" points=\"\n",
       "  1055.11,1002.32 1055.11,1440.48 1477.16,1440.48 1477.16,1002.32 1055.11,1002.32 \n",
       "  \"/>\n",
       "<polygon clip-path=\"url(#clip8303)\" points=\"\n",
       "1477.16,301.251 1477.16,1440.48 1899.21,1440.48 1899.21,301.251 1477.16,301.251 1477.16,301.251 \n",
       "  \" fill=\"#1874cd\" fill-rule=\"evenodd\" fill-opacity=\"0.7\"/>\n",
       "<polyline clip-path=\"url(#clip8303)\" style=\"stroke:#000000; stroke-width:4; stroke-opacity:0.7; fill:none\" points=\"\n",
       "  1477.16,301.251 1477.16,1440.48 1899.21,1440.48 1899.21,301.251 1477.16,301.251 \n",
       "  \"/>\n",
       "<polygon clip-path=\"url(#clip8303)\" points=\"\n",
       "1899.21,1265.22 1899.21,1440.48 2321.26,1440.48 2321.26,1265.22 1899.21,1265.22 1899.21,1265.22 \n",
       "  \" fill=\"#1874cd\" fill-rule=\"evenodd\" fill-opacity=\"0.7\"/>\n",
       "<polyline clip-path=\"url(#clip8303)\" style=\"stroke:#000000; stroke-width:4; stroke-opacity:0.7; fill:none\" points=\"\n",
       "  1899.21,1265.22 1899.21,1440.48 2321.26,1440.48 2321.26,1265.22 1899.21,1265.22 \n",
       "  \"/>\n",
       "<polygon clip-path=\"url(#clip8301)\" points=\"\n",
       "1958.43,330.464 2249.26,330.464 2249.26,209.504 1958.43,209.504 \n",
       "  \" fill=\"#ffffff\" fill-rule=\"evenodd\" fill-opacity=\"1\"/>\n",
       "<polyline clip-path=\"url(#clip8301)\" style=\"stroke:#000000; stroke-width:4; stroke-opacity:1; fill:none\" points=\"\n",
       "  1958.43,330.464 2249.26,330.464 2249.26,209.504 1958.43,209.504 1958.43,330.464 \n",
       "  \"/>\n",
       "<polygon clip-path=\"url(#clip8301)\" points=\"\n",
       "1982.43,294.176 2126.43,294.176 2126.43,245.792 1982.43,245.792 1982.43,294.176 \n",
       "  \" fill=\"#1874cd\" fill-rule=\"evenodd\" fill-opacity=\"0.7\"/>\n",
       "<polyline clip-path=\"url(#clip8301)\" style=\"stroke:#000000; stroke-width:4; stroke-opacity:1; fill:none\" points=\"\n",
       "  1982.43,294.176 2126.43,294.176 2126.43,245.792 1982.43,245.792 1982.43,294.176 \n",
       "  \"/>\n",
       "<g clip-path=\"url(#clip8301)\">\n",
       "<text style=\"fill:#000000; fill-opacity:1; font-family:Arial,Helvetica Neue,Helvetica,sans-serif; font-size:48px; text-anchor:start;\" transform=\"rotate(0, 2150.43, 287.484)\" x=\"2150.43\" y=\"287.484\">y1</text>\n",
       "</g>\n",
       "</svg>\n"
      ]
     },
     "execution_count": 22,
     "metadata": {},
     "output_type": "execute_result"
    }
   ],
   "source": [
    "tier3files = glob(\"*\",\"Tier3\")\n",
    "\n",
    "tier3 = Dict{String, Any}()\n",
    "for csv_filepath in tier3files\n",
    "    dp = read_csv(csv_filepath)\n",
    "    complexity(dp.curriculum)\n",
    "    curric = dp.curriculum\n",
    "    tier3[csv_filepath] = dp.curriculum.metrics[\"complexity\"][1]\n",
    "    if curric.system_type == quarter\n",
    "        tier3[csv_filepath] = round( tier3[csv_filepath] * 2/3 , digits=1)\n",
    "    end\n",
    "end\n",
    "for (k,v) in tier3\n",
    "    k = split(split(k, \"Tier3/\")[2],\".\")[1]\n",
    "    println(\"$k => $v\")\n",
    "end\n",
    "\n",
    "tier3_complexity_scores = collect(values(tier3));\n",
    "tier3_schools = collect(keys(tier3));\n",
    "#T_3_hat is the Tier 3 sample average.\n",
    "T_3_hat = round(sum(tier3_complexity_scores) / size(tier3_complexity_scores, 1),digits=2);\n",
    "tier3_std = round(std(tier3_complexity_scores),digits=2);\n",
    "third_tier = generate_histogram(tier3_complexity_scores, T_3_hat, tier3_std, \"Tier 3\")"
   ]
  },
  {
   "cell_type": "code",
   "execution_count": 23,
   "metadata": {},
   "outputs": [
    {
     "ename": "UndefVarError",
     "evalue": "UndefVarError: tier2_complexity_scores not defined",
     "output_type": "error",
     "traceback": [
      "UndefVarError: tier2_complexity_scores not defined",
      "",
      "Stacktrace:",
      " [1] top-level scope at In[23]:5"
     ]
    }
   ],
   "source": [
    "title_box=\"Box-and-whisker diagrams for each of the three samples\\ntaken from each of the three defined tiers.\"\n",
    "plot_ylabel = \"Curricular Complexity\"\n",
    "plot_xlabel = \"\"\n",
    "tier = [repeat([\"  Top\"], 21); repeat([\" Mid\"], 26); repeat([\"Bottom\"], 21)]\n",
    "boxplot(tier, [tier1_complexity_scores;tier2_complexity_scores;tier3_complexity_scores],leg=false;ylim=(0,530),\n",
    "    title=title_box, ylabel=plot_ylabel, xlabel=plot_xlabel,alpha = 0.7, color=:dodgerblue3)"
   ]
  },
  {
   "cell_type": "code",
   "execution_count": 24,
   "metadata": {
    "scrolled": false
   },
   "outputs": [
    {
     "ename": "UndefVarError",
     "evalue": "UndefVarError: tier2_complexity_scores not defined",
     "output_type": "error",
     "traceback": [
      "UndefVarError: tier2_complexity_scores not defined",
      "",
      "Stacktrace:",
      " [1] top-level scope at In[24]:1"
     ]
    }
   ],
   "source": [
    "all_scores = vcat(tier1_complexity_scores, tier2_complexity_scores, tier3_complexity_scores)\n",
    "#cc_hat is the sample average of al tiers.\n",
    "cc_hat = round(sum(all_scores) / size(all_scores, 1), digits=2)\n",
    "all_scores_std = round(std(all_scores), digits=2)\n",
    "all_tier = generate_histogram(all_scores, cc_hat, all_scores_std, \"ALL\"; all=true)"
   ]
  },
  {
   "cell_type": "markdown",
   "metadata": {},
   "source": [
    "Let $n_1, n_2$ and $n_3$ be the sample sizes drawn from top, medium and low tier schools, respectively, with $n = n_1 + n_2 + n_3$."
   ]
  },
  {
   "cell_type": "code",
   "execution_count": 25,
   "metadata": {},
   "outputs": [
    {
     "data": {
      "text/plain": [
       "51"
      ]
     },
     "execution_count": 25,
     "metadata": {},
     "output_type": "execute_result"
    }
   ],
   "source": [
    "n_1 = length(tier1)\n",
    "n_2 = length(tier2)\n",
    "n_3 = length(tier3)\n",
    "\n",
    "n = n_1 + n_2 +n_3"
   ]
  },
  {
   "cell_type": "markdown",
   "metadata": {},
   "source": [
    "\\begin{equation}\n",
    " TSS = \\sum_{i=1}^3 \\sum_{j=1}^{n_i} \\left(cc_{ij} - \\overline{cc}\\right)^2\n",
    "\\end{equation}\n",
    "\n",
    "where $TSS$ denotes the total sum of squares of deviations, and $\\overline{cc}$ is the sample mean for all samples drawn over all tiers."
   ]
  },
  {
   "cell_type": "code",
   "execution_count": 26,
   "metadata": {},
   "outputs": [
    {
     "ename": "UndefVarError",
     "evalue": "UndefVarError: cc_hat not defined",
     "output_type": "error",
     "traceback": [
      "UndefVarError: cc_hat not defined",
      "",
      "Stacktrace:",
      " [1] top-level scope at ./In[26]:4"
     ]
    }
   ],
   "source": [
    "# Combined TSS \n",
    "TSS =0.0\n",
    "for cc_ij in values(tier1)\n",
    "    TSS += (cc_ij - cc_hat) ^ 2\n",
    "end\n",
    "for cc_ij in values(tier2)\n",
    "    TSS += (cc_ij - cc_hat) ^ 2\n",
    "end\n",
    "for cc_ij in values(tier3)\n",
    "    TSS += (cc_ij - cc_hat) ^ 2\n",
    "end\n",
    "TSS = round(TSS, digits=2)"
   ]
  },
  {
   "cell_type": "markdown",
   "metadata": {},
   "source": [
    "\\begin{equation}\n",
    " TSS = SST + SSE\n",
    "\\end{equation}\n",
    "where $SST$ represents the sum of squares of the deviations between the tiers, and SSE is the sum of squares attributed to errors or noise. SST can be calculated as: \n",
    "\\begin{equation}\n",
    " SST = \\sum_{i=1}^3 n_i\\left(\\overline{T}_i - \\overline{cc}\\right)^2\n",
    "\\end{equation}\n",
    "where $T_i$ is the total curricular complexity of the schools sampled from the $i$-th tier, and $\\overline{T}_i = T_i/n_i, i = 1,2,3$, are the tier sample averages."
   ]
  },
  {
   "cell_type": "code",
   "execution_count": 27,
   "metadata": {},
   "outputs": [
    {
     "ename": "UndefVarError",
     "evalue": "UndefVarError: cc_hat not defined",
     "output_type": "error",
     "traceback": [
      "UndefVarError: cc_hat not defined",
      "",
      "Stacktrace:",
      " [1] top-level scope at In[27]:1"
     ]
    }
   ],
   "source": [
    "#Seperated Calculation (SST +SSE)\n",
    "# SST \n",
    "SST =  round(length(tier1)*((T_1_hat - cc_hat)^2) + length(tier1)*((T_2_hat - cc_hat)^2) + length(tier1)*((T_3_hat - cc_hat)^2),digits=2)"
   ]
  },
  {
   "cell_type": "markdown",
   "metadata": {},
   "source": [
    "The value of SSE can be calculated as: \n",
    "\\begin{equation}\n",
    " SSE = {\\sum_{i=1}^3 \\sum_{j=1}^{n_i} \\left(cc_{ij} - \\bar{T}_i\\right)^2}\n",
    "\\end{equation}"
   ]
  },
  {
   "cell_type": "code",
   "execution_count": 28,
   "metadata": {},
   "outputs": [
    {
     "ename": "UndefVarError",
     "evalue": "UndefVarError: T_2_hat not defined",
     "output_type": "error",
     "traceback": [
      "UndefVarError: T_2_hat not defined",
      "",
      "Stacktrace:",
      " [1] top-level scope at ./In[28]:7"
     ]
    }
   ],
   "source": [
    "# SSE\n",
    "SSE = 0.0\n",
    "for cc_ij in values(tier1)\n",
    "    SSE += (cc_ij - T_1_hat) ^ 2\n",
    "end\n",
    "for cc_ij in values(tier2)\n",
    "    SSE += (cc_ij - T_2_hat) ^ 2\n",
    "end\n",
    "for cc_ij in values(tier3)\n",
    "    SSE += (cc_ij - T_3_hat) ^ 2\n",
    "end\n",
    "SSE = round(SSE, digits=2)\n",
    "println(SST)\n",
    "println(SSE)\n",
    "println(SST+SSE)\n"
   ]
  },
  {
   "cell_type": "markdown",
   "metadata": {},
   "source": [
    "\\begin{equation}\n",
    " MSE = {SSE \\over n - 3}\n",
    "\\end{equation}"
   ]
  },
  {
   "cell_type": "code",
   "execution_count": 29,
   "metadata": {},
   "outputs": [
    {
     "data": {
      "text/plain": [
       "3809.16"
      ]
     },
     "execution_count": 29,
     "metadata": {},
     "output_type": "execute_result"
    }
   ],
   "source": [
    "MSE = round(SSE / (n-3), digits=2)"
   ]
  },
  {
   "cell_type": "markdown",
   "metadata": {},
   "source": [
    "\\begin{equation}\n",
    " MST = {SST \\over 2}\n",
    "\\end{equation}"
   ]
  },
  {
   "cell_type": "code",
   "execution_count": 30,
   "metadata": {},
   "outputs": [
    {
     "ename": "UndefVarError",
     "evalue": "UndefVarError: SST not defined",
     "output_type": "error",
     "traceback": [
      "UndefVarError: SST not defined",
      "",
      "Stacktrace:",
      " [1] top-level scope at In[30]:1"
     ]
    }
   ],
   "source": [
    "MST = round(SST / 2, digits=2)"
   ]
  },
  {
   "cell_type": "markdown",
   "metadata": {},
   "source": [
    "The $F$-test statistic is given by\n",
    "\\begin{equation}\n",
    "F = {MST \\over MSE}\n",
    "\\end{equation}"
   ]
  },
  {
   "cell_type": "code",
   "execution_count": 31,
   "metadata": {},
   "outputs": [
    {
     "ename": "UndefVarError",
     "evalue": "UndefVarError: MST not defined",
     "output_type": "error",
     "traceback": [
      "UndefVarError: MST not defined",
      "",
      "Stacktrace:",
      " [1] top-level scope at In[31]:1"
     ]
    }
   ],
   "source": [
    "F = round(MST / MSE, digits=2)"
   ]
  },
  {
   "cell_type": "code",
   "execution_count": 32,
   "metadata": {},
   "outputs": [
    {
     "name": "stdout",
     "output_type": "stream",
     "text": [
      "Source\tSS\t\tdf\t\tMS\t\tF\n"
     ]
    },
    {
     "ename": "UndefVarError",
     "evalue": "UndefVarError: SST not defined",
     "output_type": "error",
     "traceback": [
      "UndefVarError: SST not defined",
      "",
      "Stacktrace:",
      " [1] top-level scope at In[32]:2"
     ]
    }
   ],
   "source": [
    "println(\"Source\\tSS\\t\\tdf\\t\\tMS\\t\\tF\")\n",
    "println(\"Groups\\t$SST\\t2\\t\\t$MST\\t$F\")\n",
    "println(\"Error\\t$SSE\\t$(n-3)\\t\\t$MSE\")\n",
    "println(\"Totals\\t$(SST+SSE)\\t$(n-1)\")"
   ]
  },
  {
   "cell_type": "code",
   "execution_count": 33,
   "metadata": {},
   "outputs": [
    {
     "data": {
      "text/plain": [
       "\"\""
      ]
     },
     "execution_count": 33,
     "metadata": {},
     "output_type": "execute_result"
    }
   ],
   "source": [
    "tier = [repeat([\"  Top\"], 21); repeat([\" Mid\"], 26); repeat([\"Bottom\"], 21)]\n",
    "plot_title = \"Box plot for ANOVA statistics\"\n",
    "plot_ylabel = \"Curricular Complexity\"\n",
    "plot_xlabel = \"\""
   ]
  },
  {
   "cell_type": "code",
   "execution_count": 34,
   "metadata": {},
   "outputs": [
    {
     "ename": "UndefVarError",
     "evalue": "UndefVarError: tier2_complexity_scores not defined",
     "output_type": "error",
     "traceback": [
      "UndefVarError: tier2_complexity_scores not defined",
      "",
      "Stacktrace:",
      " [1] top-level scope at In[34]:1"
     ]
    }
   ],
   "source": [
    "boxplot(tier, [tier1_complexity_scores;tier2_complexity_scores;tier3_complexity_scores],\n",
    "    leg=false;notch=true,ylim=(0,530),title=plot_title, ylabel=plot_ylabel, xlabel=plot_xlabel,alpha = 0.7, color=:dodgerblue3)"
   ]
  },
  {
   "cell_type": "code",
   "execution_count": null,
   "metadata": {
    "collapsed": true
   },
   "outputs": [],
   "source": []
  }
 ],
 "metadata": {
  "@webio": {
   "lastCommId": "32F0A74DB2BF4741BF3E1AD0D8A21862",
   "lastKernelId": "b55276b8-5905-42a8-b273-08e410d409f1"
  },
  "kernelspec": {
   "display_name": "Julia 1.0.2",
   "language": "julia",
   "name": "julia-1.0"
  },
  "language_info": {
   "file_extension": ".jl",
   "mimetype": "application/julia",
   "name": "julia",
   "version": "1.0.2"
  }
 },
 "nbformat": 4,
 "nbformat_minor": 2
}

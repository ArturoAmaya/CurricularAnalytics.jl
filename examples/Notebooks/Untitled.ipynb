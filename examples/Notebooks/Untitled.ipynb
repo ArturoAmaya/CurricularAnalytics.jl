{
 "cells": [
  {
   "cell_type": "markdown",
   "metadata": {},
   "source": [
    "# Introducation to Curricular Analytics"
   ]
  },
  {
   "cell_type": "code",
   "execution_count": null,
   "metadata": {},
   "outputs": [],
   "source": [
    "This notebook provides a basic introducton to curricular analytics, and a brief tutorial on how to use \n",
    "the CurricularAnalytics.jl toolbox to analyze curricula.\n",
    "\n",
    "For a more detailed description of the curricular analytics concepts we have developed, please see:\n"
   ]
  }
 ],
 "metadata": {
  "kernelspec": {
   "display_name": "Julia 1.0.0",
   "language": "julia",
   "name": "julia-1.0"
  },
  "language_info": {
   "file_extension": ".jl",
   "mimetype": "application/julia",
   "name": "julia",
   "version": "1.0.0"
  }
 },
 "nbformat": 4,
 "nbformat_minor": 2
}

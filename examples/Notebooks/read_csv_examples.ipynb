{
 "cells": [
  {
   "cell_type": "code",
   "execution_count": 1,
   "metadata": {},
   "outputs": [
    {
     "name": "stdout",
     "output_type": "stream",
     "text": [
      "Current directory: CurricularAnalytics.jl\n"
     ]
    },
    {
     "name": "stderr",
     "output_type": "stream",
     "text": [
      "┌ Info: Recompiling stale cache file C:\\Users\\orhan\\.julia\\compiled\\v1.0\\CurricularAnalytics\\KKMY9.ji for CurricularAnalytics [b915a5b0-c40e-11e8-3dab-39a55ab5c2f7]\n",
      "└ @ Base loading.jl:1187\n"
     ]
    },
    {
     "data": {
      "text/html": [
       "    <script id=\"webio-setup-11257735218755823792\">\n",
       "    // Immediately-invoked-function-expression to avoid global variables.\n",
       "    (function() {\n",
       "        var warning_div = document.getElementById(\"webio-warning-1104217334105654195\");\n",
       "        var hide = function () {\n",
       "            var script = document.getElementById(\"webio-setup-11257735218755823792\");\n",
       "            var parent = script && script.parentElement;\n",
       "            var grandparent = parent && parent.parentElement;\n",
       "            if (grandparent) {\n",
       "                grandparent.style.display = \"none\";\n",
       "            }\n",
       "            warning_div.style.display = \"none\";\n",
       "        };\n",
       "        if (window.require && require.defined) {\n",
       "            // Jupyter notebook.\n",
       "            if (require.defined(\"nbextensions/webio/main\")\n",
       "                    || require.defined(\"/assetserver/15060f7913bd455b6698e8bd1357ce9c6553b0bb-dist/main.js\")) {\n",
       "                // Extension already loaded.\n",
       "                hide();\n",
       "                return;\n",
       "            }\n",
       "            console.warn(\"Loading WebIO Jupyter extension on an ad-hoc basis. Consider enabling the WebIO nbextension for a stabler experience (this should happen automatically when building WebIO).\");\n",
       "            require([\"/assetserver/15060f7913bd455b6698e8bd1357ce9c6553b0bb-dist/main.js\"], function (webIOModule) {\n",
       "                webIOModule.load_ipython_extension();\n",
       "            });\n",
       "            warning_div.innerHTML = \"<strong>Loading WebIO Jupyter extension on an ad-hoc basis. Consider enabling the WebIO nbextension for a stabler experience (this should happen automatically when building WebIO).</strong>\";\n",
       "        } else if (window.location.pathname.includes(\"/lab\")) {\n",
       "            // Guessing JupyterLab\n",
       "            warning_div.innerHTML = \"WebIO does not support JupyterLab yet.\";\n",
       "        }\n",
       "    })();\n",
       "    </script>\n",
       "    <div\n",
       "        id=\"webio-warning-1104217334105654195\"\n",
       "        class=\"output_text output_stderr\"\n",
       "        style=\"padding: 1em; font-weight: bold;\"\n",
       "    >\n",
       "        Unable to load WebIO. Please make sure WebIO works for your Jupyter client.\n",
       "        <!-- TODO: link to installation docs. -->\n",
       "    </div>\n"
      ],
      "text/plain": [
       "HTML{String}(\"    <script id=\\\"webio-setup-11257735218755823792\\\">\\n    // Immediately-invoked-function-expression to avoid global variables.\\n    (function() {\\n        var warning_div = document.getElementById(\\\"webio-warning-1104217334105654195\\\");\\n        var hide = function () {\\n            var script = document.getElementById(\\\"webio-setup-11257735218755823792\\\");\\n            var parent = script && script.parentElement;\\n            var grandparent = parent && parent.parentElement;\\n            if (grandparent) {\\n                grandparent.style.display = \\\"none\\\";\\n            }\\n            warning_div.style.display = \\\"none\\\";\\n        };\\n        if (window.require && require.defined) {\\n            // Jupyter notebook.\\n            if (require.defined(\\\"nbextensions/webio/main\\\")\\n                    || require.defined(\\\"/assetserver/15060f7913bd455b6698e8bd1357ce9c6553b0bb-dist/main.js\\\")) {\\n                // Extension already loaded.\\n                hide();\\n                return;\\n            }\\n            console.warn(\\\"Loading WebIO Jupyter extension on an ad-hoc basis. Consider enabling the WebIO nbextension for a stabler experience (this should happen automatically when building WebIO).\\\");\\n            require([\\\"/assetserver/15060f7913bd455b6698e8bd1357ce9c6553b0bb-dist/main.js\\\"], function (webIOModule) {\\n                webIOModule.load_ipython_extension();\\n            });\\n            warning_div.innerHTML = \\\"<strong>Loading WebIO Jupyter extension on an ad-hoc basis. Consider enabling the WebIO nbextension for a stabler experience (this should happen automatically when building WebIO).</strong>\\\";\\n        } else if (window.location.pathname.includes(\\\"/lab\\\")) {\\n            // Guessing JupyterLab\\n            warning_div.innerHTML = \\\"WebIO does not support JupyterLab yet.\\\";\\n        }\\n    })();\\n    </script>\\n    <div\\n        id=\\\"webio-warning-1104217334105654195\\\"\\n        class=\\\"output_text output_stderr\\\"\\n        style=\\\"padding: 1em; font-weight: bold;\\\"\\n    >\\n        Unable to load WebIO. Please make sure WebIO works for your Jupyter client.\\n        <!-- TODO: link to installation docs. -->\\n    </div>\\n\")"
      ]
     },
     "metadata": {},
     "output_type": "display_data"
    }
   ],
   "source": [
    "if split(pwd(),Base.Filesystem.path_separator)[end] != \"CurricularAnalytics.jl\"\n",
    "    cd(\"../..\")\n",
    "end\n",
    "println(\"Current directory: \" * split(pwd(),\"\\\\\")[end])\n",
    "using Pkg\n",
    "pkg\"activate .\"\n",
    "using CurricularAnalytics"
   ]
  },
  {
   "cell_type": "code",
   "execution_count": 2,
   "metadata": {
    "scrolled": false
   },
   "outputs": [
    {
     "name": "stdout",
     "output_type": "stream",
     "text": [
      "Could not create a plan for 0 term, tring for 1 term\n",
      "Could not create a plan for 1 term, tring for 2 term\n",
      "Could not create a plan for 2 term, tring for 3 term\n"
     ]
    },
    {
     "name": "stderr",
     "output_type": "stream",
     "text": [
      "┌ Info: Listening on: Sockets.InetAddr{Sockets.IPv4}(ip\"127.0.0.1\", 0x1fdc)\n",
      "└ @ HTTP.Servers C:\\Users\\orhan\\.julia\\packages\\HTTP\\YjRCz\\src\\Servers.jl:301\n"
     ]
    },
    {
     "data": {
      "application/vnd.webio.node+json": {
       "children": [
        {
         "children": [
          ""
         ],
         "instanceArgs": {
          "namespace": "html",
          "tag": "iframe"
         },
         "nodeType": "DOM",
         "props": {
          "events": {
           "load": "(function (){this.contentWindow.postMessage({\"options\":{\"hideTerms\":true,\"edit\":true},\"curriculum\":{\"name\":\"Underwater Basket Weaving\",\"dp_name\":\"\",\"curriculum_terms\":[{\"name\":\"Term 1\",\"curriculum_items\":[{\"curriculum_requisites\":[],\"name\":\"BW 101\",\"metrics\":{},\"nameSub\":\"Introduction to Baskets\",\"id\":1,\"credits\":3,\"nameCanonical\":\"Baskets I\"},{\"curriculum_requisites\":[],\"name\":\"PE 115\",\"metrics\":{},\"nameSub\":\"Swimming\",\"id\":2,\"credits\":3,\"nameCanonical\":\"Physical Education\"},{\"curriculum_requisites\":[],\"name\":\"MA 116\",\"metrics\":{},\"nameSub\":\"Introductory Calculus w/ Applications\",\"id\":3,\"credits\":4,\"nameCanonical\":\"Calculus I\"}],\"id\":1},{\"name\":\"Term 2\",\"curriculum_items\":[{\"curriculum_requisites\":[],\"name\":\"BW 111L\",\"metrics\":{},\"nameSub\":\"Basic Basket Forms Lab\",\"id\":5,\"credits\":1,\"nameCanonical\":\"Baskets II Laboratory\"},{\"curriculum_requisites\":[{\"source_id\":5,\"target_id\":4,\"type\":\"strict-coreq\"},{\"source_id\":1,\"target_id\":4,\"type\":\"prereq\"}],\"name\":\"BW 111\",\"metrics\":{},\"nameSub\":\"Basic Basket Forms\",\"id\":4,\"credits\":3,\"nameCanonical\":\"Baskets II\"},{\"curriculum_requisites\":[{\"source_id\":1,\"target_id\":7,\"type\":\"prereq\"}],\"name\":\"BW 214\",\"metrics\":{},\"nameSub\":\"Basket Materials & Decoration\",\"id\":7,\"credits\":3,\"nameCanonical\":\"Basket Materials\"},{\"curriculum_requisites\":[{\"source_id\":5,\"target_id\":4,\"type\":\"strict-coreq\"},{\"source_id\":1,\"target_id\":4,\"type\":\"prereq\"}],\"name\":\"BW 111\",\"metrics\":{},\"nameSub\":\"Basic Basket Forms\",\"id\":4,\"credits\":3,\"nameCanonical\":\"Baskets II\"},{\"curriculum_requisites\":[],\"name\":\" \",\"metrics\":{},\"nameSub\":\"Technical Elective\",\"id\":11,\"credits\":3,\"nameCanonical\":\"\"}],\"id\":2},{\"name\":\"Term 3\",\"curriculum_items\":[{\"curriculum_requisites\":[{\"source_id\":7,\"target_id\":8,\"type\":\"prereq\"},{\"source_id\":2,\"target_id\":8,\"type\":\"prereq\"}],\"name\":\"BW 301\",\"metrics\":{},\"nameSub\":\"Underwater Weaving\",\"id\":8,\"credits\":3,\"nameCanonical\":\"Baskets IV\"},{\"curriculum_requisites\":[{\"source_id\":4,\"target_id\":6,\"type\":\"prereq\"},{\"source_id\":3,\"target_id\":6,\"type\":\"prereq\"},{\"source_id\":5,\"target_id\":6,\"type\":\"prereq\"}],\"name\":\"BW 201\",\"metrics\":{},\"nameSub\":\"Advanced Basketry\",\"id\":6,\"credits\":3,\"nameCanonical\":\"Baskets III\"},{\"curriculum_requisites\":[],\"name\":\" \",\"metrics\":{},\"nameSub\":\"Humanitites Elective\",\"id\":9,\"credits\":3,\"nameCanonical\":\"Humanitites Core\"},{\"curriculum_requisites\":[],\"name\":\" \",\"metrics\":{},\"nameSub\":\"Social Sciences Elective\",\"id\":10,\"credits\":3,\"nameCanonical\":\"\"}],\"id\":3}],\"institution\":\"\"}},\"*\"); window.removeEventListener(\"message\",window.messageReceived); window.messageReceived=(function (event){return (event.data.curriculum!==undefined) ? (_webIOScope.setObservableValue({\"name\":\"curriculum-data\",\"scope\":\"scope-c2829c16-ff19-4301-bf64-ff212b42edda\",\"id\":\"ob_01\",\"type\":\"observable\"},event.data.curriculum)) : undefined}); return window.addEventListener(\"message\",window.messageReceived)})"
          },
          "id": "curriculum",
          "src": "http://localhost:8156",
          "style": {
           "border": "none",
           "height": "100vh",
           "margin": "0",
           "padding": "0",
           "width": "100%"
          }
         },
         "type": "node"
        }
       ],
       "instanceArgs": {
        "handlers": {},
        "id": "scope-c2829c16-ff19-4301-bf64-ff212b42edda",
        "imports": {
         "data": [],
         "type": "async_block"
        },
        "observables": {
         "curriculum-data": {
          "id": "ob_01",
          "sync": true,
          "value": {
           "curriculum": {
            "curriculum_terms": [
             {
              "curriculum_items": [
               {
                "credits": 3,
                "curriculum_requisites": [],
                "id": 1,
                "metrics": {},
                "name": "BW 101",
                "nameCanonical": "Baskets I",
                "nameSub": "Introduction to Baskets"
               },
               {
                "credits": 3,
                "curriculum_requisites": [],
                "id": 2,
                "metrics": {},
                "name": "PE 115",
                "nameCanonical": "Physical Education",
                "nameSub": "Swimming"
               },
               {
                "credits": 4,
                "curriculum_requisites": [],
                "id": 3,
                "metrics": {},
                "name": "MA 116",
                "nameCanonical": "Calculus I",
                "nameSub": "Introductory Calculus w/ Applications"
               }
              ],
              "id": 1,
              "name": "Term 1"
             },
             {
              "curriculum_items": [
               {
                "credits": 1,
                "curriculum_requisites": [],
                "id": 5,
                "metrics": {},
                "name": "BW 111L",
                "nameCanonical": "Baskets II Laboratory",
                "nameSub": "Basic Basket Forms Lab"
               },
               {
                "credits": 3,
                "curriculum_requisites": [
                 {
                  "source_id": 5,
                  "target_id": 4,
                  "type": "strict-coreq"
                 },
                 {
                  "source_id": 1,
                  "target_id": 4,
                  "type": "prereq"
                 }
                ],
                "id": 4,
                "metrics": {},
                "name": "BW 111",
                "nameCanonical": "Baskets II",
                "nameSub": "Basic Basket Forms"
               },
               {
                "credits": 3,
                "curriculum_requisites": [
                 {
                  "source_id": 1,
                  "target_id": 7,
                  "type": "prereq"
                 }
                ],
                "id": 7,
                "metrics": {},
                "name": "BW 214",
                "nameCanonical": "Basket Materials",
                "nameSub": "Basket Materials & Decoration"
               },
               {
                "credits": 3,
                "curriculum_requisites": [
                 {
                  "source_id": 5,
                  "target_id": 4,
                  "type": "strict-coreq"
                 },
                 {
                  "source_id": 1,
                  "target_id": 4,
                  "type": "prereq"
                 }
                ],
                "id": 4,
                "metrics": {},
                "name": "BW 111",
                "nameCanonical": "Baskets II",
                "nameSub": "Basic Basket Forms"
               },
               {
                "credits": 3,
                "curriculum_requisites": [],
                "id": 11,
                "metrics": {},
                "name": " ",
                "nameCanonical": "",
                "nameSub": "Technical Elective"
               }
              ],
              "id": 2,
              "name": "Term 2"
             },
             {
              "curriculum_items": [
               {
                "credits": 3,
                "curriculum_requisites": [
                 {
                  "source_id": 7,
                  "target_id": 8,
                  "type": "prereq"
                 },
                 {
                  "source_id": 2,
                  "target_id": 8,
                  "type": "prereq"
                 }
                ],
                "id": 8,
                "metrics": {},
                "name": "BW 301",
                "nameCanonical": "Baskets IV",
                "nameSub": "Underwater Weaving"
               },
               {
                "credits": 3,
                "curriculum_requisites": [
                 {
                  "source_id": 4,
                  "target_id": 6,
                  "type": "prereq"
                 },
                 {
                  "source_id": 3,
                  "target_id": 6,
                  "type": "prereq"
                 },
                 {
                  "source_id": 5,
                  "target_id": 6,
                  "type": "prereq"
                 }
                ],
                "id": 6,
                "metrics": {},
                "name": "BW 201",
                "nameCanonical": "Baskets III",
                "nameSub": "Advanced Basketry"
               },
               {
                "credits": 3,
                "curriculum_requisites": [],
                "id": 9,
                "metrics": {},
                "name": " ",
                "nameCanonical": "Humanitites Core",
                "nameSub": "Humanitites Elective"
               },
               {
                "credits": 3,
                "curriculum_requisites": [],
                "id": 10,
                "metrics": {},
                "name": " ",
                "nameCanonical": "",
                "nameSub": "Social Sciences Elective"
               }
              ],
              "id": 3,
              "name": "Term 3"
             }
            ],
            "dp_name": "",
            "institution": "",
            "name": "Underwater Basket Weaving"
           },
           "options": {
            "edit": true,
            "hideTerms": true
           }
          }
         }
        },
        "systemjs_options": null
       },
       "nodeType": "Scope",
       "props": {},
       "type": "node"
      },
      "text/html": [
       "<div\n",
       "    class=\"webio-mountpoint\"\n",
       "    data-webio-mountpoint=\"16421326773656207049\"\n",
       ">\n",
       "    <script>\n",
       "    if (window.require && require.defined && require.defined(\"nbextensions/webio/main\")) {\n",
       "        console.log(\"Jupyter WebIO extension detected, not mounting.\");\n",
       "    } else if (window.WebIO) {\n",
       "        WebIO.mount(\n",
       "            document.querySelector('[data-webio-mountpoint=\"16421326773656207049\"]'),\n",
       "            {\"props\":{},\"nodeType\":\"Scope\",\"type\":\"node\",\"instanceArgs\":{\"imports\":{\"data\":[],\"type\":\"async_block\"},\"id\":\"scope-c2829c16-ff19-4301-bf64-ff212b42edda\",\"handlers\":{},\"systemjs_options\":null,\"observables\":{\"curriculum-data\":{\"sync\":true,\"id\":\"ob_01\",\"value\":{\"options\":{\"hideTerms\":true,\"edit\":true},\"curriculum\":{\"name\":\"Underwater Basket Weaving\",\"dp_name\":\"\",\"curriculum_terms\":[{\"name\":\"Term 1\",\"curriculum_items\":[{\"curriculum_requisites\":[],\"name\":\"BW 101\",\"metrics\":{},\"nameSub\":\"Introduction to Baskets\",\"id\":1,\"credits\":3,\"nameCanonical\":\"Baskets I\"},{\"curriculum_requisites\":[],\"name\":\"PE 115\",\"metrics\":{},\"nameSub\":\"Swimming\",\"id\":2,\"credits\":3,\"nameCanonical\":\"Physical Education\"},{\"curriculum_requisites\":[],\"name\":\"MA 116\",\"metrics\":{},\"nameSub\":\"Introductory Calculus w\\/ Applications\",\"id\":3,\"credits\":4,\"nameCanonical\":\"Calculus I\"}],\"id\":1},{\"name\":\"Term 2\",\"curriculum_items\":[{\"curriculum_requisites\":[],\"name\":\"BW 111L\",\"metrics\":{},\"nameSub\":\"Basic Basket Forms Lab\",\"id\":5,\"credits\":1,\"nameCanonical\":\"Baskets II Laboratory\"},{\"curriculum_requisites\":[{\"source_id\":5,\"target_id\":4,\"type\":\"strict-coreq\"},{\"source_id\":1,\"target_id\":4,\"type\":\"prereq\"}],\"name\":\"BW 111\",\"metrics\":{},\"nameSub\":\"Basic Basket Forms\",\"id\":4,\"credits\":3,\"nameCanonical\":\"Baskets II\"},{\"curriculum_requisites\":[{\"source_id\":1,\"target_id\":7,\"type\":\"prereq\"}],\"name\":\"BW 214\",\"metrics\":{},\"nameSub\":\"Basket Materials & Decoration\",\"id\":7,\"credits\":3,\"nameCanonical\":\"Basket Materials\"},{\"curriculum_requisites\":[{\"source_id\":5,\"target_id\":4,\"type\":\"strict-coreq\"},{\"source_id\":1,\"target_id\":4,\"type\":\"prereq\"}],\"name\":\"BW 111\",\"metrics\":{},\"nameSub\":\"Basic Basket Forms\",\"id\":4,\"credits\":3,\"nameCanonical\":\"Baskets II\"},{\"curriculum_requisites\":[],\"name\":\" \",\"metrics\":{},\"nameSub\":\"Technical Elective\",\"id\":11,\"credits\":3,\"nameCanonical\":\"\"}],\"id\":2},{\"name\":\"Term 3\",\"curriculum_items\":[{\"curriculum_requisites\":[{\"source_id\":7,\"target_id\":8,\"type\":\"prereq\"},{\"source_id\":2,\"target_id\":8,\"type\":\"prereq\"}],\"name\":\"BW 301\",\"metrics\":{},\"nameSub\":\"Underwater Weaving\",\"id\":8,\"credits\":3,\"nameCanonical\":\"Baskets IV\"},{\"curriculum_requisites\":[{\"source_id\":4,\"target_id\":6,\"type\":\"prereq\"},{\"source_id\":3,\"target_id\":6,\"type\":\"prereq\"},{\"source_id\":5,\"target_id\":6,\"type\":\"prereq\"}],\"name\":\"BW 201\",\"metrics\":{},\"nameSub\":\"Advanced Basketry\",\"id\":6,\"credits\":3,\"nameCanonical\":\"Baskets III\"},{\"curriculum_requisites\":[],\"name\":\" \",\"metrics\":{},\"nameSub\":\"Humanitites Elective\",\"id\":9,\"credits\":3,\"nameCanonical\":\"Humanitites Core\"},{\"curriculum_requisites\":[],\"name\":\" \",\"metrics\":{},\"nameSub\":\"Social Sciences Elective\",\"id\":10,\"credits\":3,\"nameCanonical\":\"\"}],\"id\":3}],\"institution\":\"\"}}}}},\"children\":[{\"props\":{\"src\":\"http:\\/\\/localhost:8156\",\"id\":\"curriculum\",\"events\":{\"load\":\"(function (){this.contentWindow.postMessage({\\\"options\\\":{\\\"hideTerms\\\":true,\\\"edit\\\":true},\\\"curriculum\\\":{\\\"name\\\":\\\"Underwater Basket Weaving\\\",\\\"dp_name\\\":\\\"\\\",\\\"curriculum_terms\\\":[{\\\"name\\\":\\\"Term 1\\\",\\\"curriculum_items\\\":[{\\\"curriculum_requisites\\\":[],\\\"name\\\":\\\"BW 101\\\",\\\"metrics\\\":{},\\\"nameSub\\\":\\\"Introduction to Baskets\\\",\\\"id\\\":1,\\\"credits\\\":3,\\\"nameCanonical\\\":\\\"Baskets I\\\"},{\\\"curriculum_requisites\\\":[],\\\"name\\\":\\\"PE 115\\\",\\\"metrics\\\":{},\\\"nameSub\\\":\\\"Swimming\\\",\\\"id\\\":2,\\\"credits\\\":3,\\\"nameCanonical\\\":\\\"Physical Education\\\"},{\\\"curriculum_requisites\\\":[],\\\"name\\\":\\\"MA 116\\\",\\\"metrics\\\":{},\\\"nameSub\\\":\\\"Introductory Calculus w\\/ Applications\\\",\\\"id\\\":3,\\\"credits\\\":4,\\\"nameCanonical\\\":\\\"Calculus I\\\"}],\\\"id\\\":1},{\\\"name\\\":\\\"Term 2\\\",\\\"curriculum_items\\\":[{\\\"curriculum_requisites\\\":[],\\\"name\\\":\\\"BW 111L\\\",\\\"metrics\\\":{},\\\"nameSub\\\":\\\"Basic Basket Forms Lab\\\",\\\"id\\\":5,\\\"credits\\\":1,\\\"nameCanonical\\\":\\\"Baskets II Laboratory\\\"},{\\\"curriculum_requisites\\\":[{\\\"source_id\\\":5,\\\"target_id\\\":4,\\\"type\\\":\\\"strict-coreq\\\"},{\\\"source_id\\\":1,\\\"target_id\\\":4,\\\"type\\\":\\\"prereq\\\"}],\\\"name\\\":\\\"BW 111\\\",\\\"metrics\\\":{},\\\"nameSub\\\":\\\"Basic Basket Forms\\\",\\\"id\\\":4,\\\"credits\\\":3,\\\"nameCanonical\\\":\\\"Baskets II\\\"},{\\\"curriculum_requisites\\\":[{\\\"source_id\\\":1,\\\"target_id\\\":7,\\\"type\\\":\\\"prereq\\\"}],\\\"name\\\":\\\"BW 214\\\",\\\"metrics\\\":{},\\\"nameSub\\\":\\\"Basket Materials & Decoration\\\",\\\"id\\\":7,\\\"credits\\\":3,\\\"nameCanonical\\\":\\\"Basket Materials\\\"},{\\\"curriculum_requisites\\\":[{\\\"source_id\\\":5,\\\"target_id\\\":4,\\\"type\\\":\\\"strict-coreq\\\"},{\\\"source_id\\\":1,\\\"target_id\\\":4,\\\"type\\\":\\\"prereq\\\"}],\\\"name\\\":\\\"BW 111\\\",\\\"metrics\\\":{},\\\"nameSub\\\":\\\"Basic Basket Forms\\\",\\\"id\\\":4,\\\"credits\\\":3,\\\"nameCanonical\\\":\\\"Baskets II\\\"},{\\\"curriculum_requisites\\\":[],\\\"name\\\":\\\" \\\",\\\"metrics\\\":{},\\\"nameSub\\\":\\\"Technical Elective\\\",\\\"id\\\":11,\\\"credits\\\":3,\\\"nameCanonical\\\":\\\"\\\"}],\\\"id\\\":2},{\\\"name\\\":\\\"Term 3\\\",\\\"curriculum_items\\\":[{\\\"curriculum_requisites\\\":[{\\\"source_id\\\":7,\\\"target_id\\\":8,\\\"type\\\":\\\"prereq\\\"},{\\\"source_id\\\":2,\\\"target_id\\\":8,\\\"type\\\":\\\"prereq\\\"}],\\\"name\\\":\\\"BW 301\\\",\\\"metrics\\\":{},\\\"nameSub\\\":\\\"Underwater Weaving\\\",\\\"id\\\":8,\\\"credits\\\":3,\\\"nameCanonical\\\":\\\"Baskets IV\\\"},{\\\"curriculum_requisites\\\":[{\\\"source_id\\\":4,\\\"target_id\\\":6,\\\"type\\\":\\\"prereq\\\"},{\\\"source_id\\\":3,\\\"target_id\\\":6,\\\"type\\\":\\\"prereq\\\"},{\\\"source_id\\\":5,\\\"target_id\\\":6,\\\"type\\\":\\\"prereq\\\"}],\\\"name\\\":\\\"BW 201\\\",\\\"metrics\\\":{},\\\"nameSub\\\":\\\"Advanced Basketry\\\",\\\"id\\\":6,\\\"credits\\\":3,\\\"nameCanonical\\\":\\\"Baskets III\\\"},{\\\"curriculum_requisites\\\":[],\\\"name\\\":\\\" \\\",\\\"metrics\\\":{},\\\"nameSub\\\":\\\"Humanitites Elective\\\",\\\"id\\\":9,\\\"credits\\\":3,\\\"nameCanonical\\\":\\\"Humanitites Core\\\"},{\\\"curriculum_requisites\\\":[],\\\"name\\\":\\\" \\\",\\\"metrics\\\":{},\\\"nameSub\\\":\\\"Social Sciences Elective\\\",\\\"id\\\":10,\\\"credits\\\":3,\\\"nameCanonical\\\":\\\"\\\"}],\\\"id\\\":3}],\\\"institution\\\":\\\"\\\"}},\\\"*\\\"); window.removeEventListener(\\\"message\\\",window.messageReceived); window.messageReceived=(function (event){return (event.data.curriculum!==undefined) ? (_webIOScope.setObservableValue({\\\"name\\\":\\\"curriculum-data\\\",\\\"scope\\\":\\\"scope-c2829c16-ff19-4301-bf64-ff212b42edda\\\",\\\"id\\\":\\\"ob_01\\\",\\\"type\\\":\\\"observable\\\"},event.data.curriculum)) : undefined}); return window.addEventListener(\\\"message\\\",window.messageReceived)})\"},\"style\":{\"padding\":\"0\",\"height\":\"100vh\",\"margin\":\"0\",\"border\":\"none\",\"width\":\"100%\"}},\"nodeType\":\"DOM\",\"type\":\"node\",\"instanceArgs\":{\"namespace\":\"html\",\"tag\":\"iframe\"},\"children\":[\"\"]}]},\n",
       "        );\n",
       "    } else {\n",
       "        document\n",
       "            .querySelector('[data-webio-mountpoint=\"16421326773656207049\"]')\n",
       "            .innerHTML = '<strong>WebIO not detected.</strong>';\n",
       "    }\n",
       "    </script>\n",
       "</div>\n"
      ],
      "text/plain": [
       "WebIO.Scope(\"scope-c2829c16-ff19-4301-bf64-ff212b42edda\", WebIO.Node{WebIO.DOM}(WebIO.DOM(:html, :iframe), Any[\"\"], Dict{Symbol,Any}(:src=>\"http://localhost:8156\",:id=>\"curriculum\",:events=>Dict(:load=>JSString(\"(function (){this.contentWindow.postMessage({\\\"options\\\":{\\\"hideTerms\\\":true,\\\"edit\\\":true},\\\"curriculum\\\":{\\\"name\\\":\\\"Underwater Basket Weaving\\\",\\\"dp_name\\\":\\\"\\\",\\\"curriculum_terms\\\":[{\\\"name\\\":\\\"Term 1\\\",\\\"curriculum_items\\\":[{\\\"curriculum_requisites\\\":[],\\\"name\\\":\\\"BW 101\\\",\\\"metrics\\\":{},\\\"nameSub\\\":\\\"Introduction to Baskets\\\",\\\"id\\\":1,\\\"credits\\\":3,\\\"nameCanonical\\\":\\\"Baskets I\\\"},{\\\"curriculum_requisites\\\":[],\\\"name\\\":\\\"PE 115\\\",\\\"metrics\\\":{},\\\"nameSub\\\":\\\"Swimming\\\",\\\"id\\\":2,\\\"credits\\\":3,\\\"nameCanonical\\\":\\\"Physical Education\\\"},{\\\"curriculum_requisites\\\":[],\\\"name\\\":\\\"MA 116\\\",\\\"metrics\\\":{},\\\"nameSub\\\":\\\"Introductory Calculus w/ Applications\\\",\\\"id\\\":3,\\\"credits\\\":4,\\\"nameCanonical\\\":\\\"Calculus I\\\"}],\\\"id\\\":1},{\\\"name\\\":\\\"Term 2\\\",\\\"curriculum_items\\\":[{\\\"curriculum_requisites\\\":[],\\\"name\\\":\\\"BW 111L\\\",\\\"metrics\\\":{},\\\"nameSub\\\":\\\"Basic Basket Forms Lab\\\",\\\"id\\\":5,\\\"credits\\\":1,\\\"nameCanonical\\\":\\\"Baskets II Laboratory\\\"},{\\\"curriculum_requisites\\\":[{\\\"source_id\\\":5,\\\"target_id\\\":4,\\\"type\\\":\\\"strict-coreq\\\"},{\\\"source_id\\\":1,\\\"target_id\\\":4,\\\"type\\\":\\\"prereq\\\"}],\\\"name\\\":\\\"BW 111\\\",\\\"metrics\\\":{},\\\"nameSub\\\":\\\"Basic Basket Forms\\\",\\\"id\\\":4,\\\"credits\\\":3,\\\"nameCanonical\\\":\\\"Baskets II\\\"},{\\\"curriculum_requisites\\\":[{\\\"source_id\\\":1,\\\"target_id\\\":7,\\\"type\\\":\\\"prereq\\\"}],\\\"name\\\":\\\"BW 214\\\",\\\"metrics\\\":{},\\\"nameSub\\\":\\\"Basket Materials & Decoration\\\",\\\"id\\\":7,\\\"credits\\\":3,\\\"nameCanonical\\\":\\\"Basket Materials\\\"},{\\\"curriculum_requisites\\\":[{\\\"source_id\\\":5,\\\"target_id\\\":4,\\\"type\\\":\\\"strict-coreq\\\"},{\\\"source_id\\\":1,\\\"target_id\\\":4,\\\"type\\\":\\\"prereq\\\"}],\\\"name\\\":\\\"BW 111\\\",\\\"metrics\\\":{},\\\"nameSub\\\":\\\"Basic Basket Forms\\\",\\\"id\\\":4,\\\"credits\\\":3,\\\"nameCanonical\\\":\\\"Baskets II\\\"},{\\\"curriculum_requisites\\\":[],\\\"name\\\":\\\" \\\",\\\"metrics\\\":{},\\\"nameSub\\\":\\\"Technical Elective\\\",\\\"id\\\":11,\\\"credits\\\":3,\\\"nameCanonical\\\":\\\"\\\"}],\\\"id\\\":2},{\\\"name\\\":\\\"Term 3\\\",\\\"curriculum_items\\\":[{\\\"curriculum_requisites\\\":[{\\\"source_id\\\":7,\\\"target_id\\\":8,\\\"type\\\":\\\"prereq\\\"},{\\\"source_id\\\":2,\\\"target_id\\\":8,\\\"type\\\":\\\"prereq\\\"}],\\\"name\\\":\\\"BW 301\\\",\\\"metrics\\\":{},\\\"nameSub\\\":\\\"Underwater Weaving\\\",\\\"id\\\":8,\\\"credits\\\":3,\\\"nameCanonical\\\":\\\"Baskets IV\\\"},{\\\"curriculum_requisites\\\":[{\\\"source_id\\\":4,\\\"target_id\\\":6,\\\"type\\\":\\\"prereq\\\"},{\\\"source_id\\\":3,\\\"target_id\\\":6,\\\"type\\\":\\\"prereq\\\"},{\\\"source_id\\\":5,\\\"target_id\\\":6,\\\"type\\\":\\\"prereq\\\"}],\\\"name\\\":\\\"BW 201\\\",\\\"metrics\\\":{},\\\"nameSub\\\":\\\"Advanced Basketry\\\",\\\"id\\\":6,\\\"credits\\\":3,\\\"nameCanonical\\\":\\\"Baskets III\\\"},{\\\"curriculum_requisites\\\":[],\\\"name\\\":\\\" \\\",\\\"metrics\\\":{},\\\"nameSub\\\":\\\"Humanitites Elective\\\",\\\"id\\\":9,\\\"credits\\\":3,\\\"nameCanonical\\\":\\\"Humanitites Core\\\"},{\\\"curriculum_requisites\\\":[],\\\"name\\\":\\\" \\\",\\\"metrics\\\":{},\\\"nameSub\\\":\\\"Social Sciences Elective\\\",\\\"id\\\":10,\\\"credits\\\":3,\\\"nameCanonical\\\":\\\"\\\"}],\\\"id\\\":3}],\\\"institution\\\":\\\"\\\"}},\\\"*\\\"); window.removeEventListener(\\\"message\\\",window.messageReceived); window.messageReceived=(function (event){return (event.data.curriculum!==undefined) ? (_webIOScope.setObservableValue({\\\"name\\\":\\\"curriculum-data\\\",\\\"scope\\\":\\\"scope-c2829c16-ff19-4301-bf64-ff212b42edda\\\",\\\"id\\\":\\\"ob_01\\\",\\\"type\\\":\\\"observable\\\"},event.data.curriculum)) : undefined}); return window.addEventListener(\\\"message\\\",window.messageReceived)})\")),:style=>Dict(:padding=>\"0\",:height=>\"100vh\",:margin=>\"0\",:border=>\"none\",:width=>\"100%\")), 1), Dict{String,Tuple{Observables.AbstractObservable,Union{Nothing, Bool}}}(\"curriculum-data\"=>(Observable{Dict{String,Any}} with 1 listeners. Value:\n",
       "Dict{String,Any}(\"options\"=>Dict{String,Any}(\"hideTerms\"=>true,\"edit\"=>true),\"curriculum\"=>Dict{String,Any}(\"name\"=>\"Underwater Basket Weaving\",\"dp_name\"=>\"\",\"curriculum_terms\"=>Dict{String,Any}[Dict(\"name\"=>\"Term 1\",\"curriculum_items\"=>Dict{String,Any}[Dict(\"curriculum_requisites\"=>Dict{String,Any}[],\"name\"=>\"BW 101\",\"metrics\"=>Dict{String,Any}(),\"nameSub\"=>\"Introduction to Baskets\",\"id\"=>1,\"credits\"=>3,\"nameCanonical\"=>\"Baskets I\"), Dict(\"curriculum_requisites\"=>Dict{String,Any}[],\"name\"=>\"PE 115\",\"metrics\"=>Dict{String,Any}(),\"nameSub\"=>\"Swimming\",\"id\"=>2,\"credits\"=>3,\"nameCanonical\"=>\"Physical Education\"), Dict(\"curriculum_requisites\"=>Dict{String,Any}[],\"name\"=>\"MA 116\",\"metrics\"=>Dict{String,Any}(),\"nameSub\"=>\"Introductory Calculus w/ Applications\",\"id\"=>3,\"credits\"=>4,\"nameCanonical\"=>\"Calculus I\")],\"id\"=>1), Dict(\"name\"=>\"Term 2\",\"curriculum_items\"=>Dict{String,Any}[Dict(\"curriculum_requisites\"=>Dict{String,Any}[],\"name\"=>\"BW 111L\",\"metrics\"=>Dict{String,Any}(),\"nameSub\"=>\"Basic Basket Forms Lab\",\"id\"=>5,\"credits\"=>1,\"nameCanonical\"=>\"Baskets II Laboratory\"), Dict(\"curriculum_requisites\"=>Dict{String,Any}[Dict(\"source_id\"=>5,\"target_id\"=>4,\"type\"=>\"strict-coreq\"), Dict(\"source_id\"=>1,\"target_id\"=>4,\"type\"=>\"prereq\")],\"name\"=>\"BW 111\",\"metrics\"=>Dict{String,Any}(),\"nameSub\"=>\"Basic Basket Forms\",\"id\"=>4,\"credits\"=>3,\"nameCanonical\"=>\"Baskets II\"), Dict(\"curriculum_requisites\"=>Dict{String,Any}[Dict(\"source_id\"=>1,\"target_id\"=>7,\"type\"=>\"prereq\")],\"name\"=>\"BW 214\",\"metrics\"=>Dict{String,Any}(),\"nameSub\"=>\"Basket Materials & Decoration\",\"id\"=>7,\"credits\"=>3,\"nameCanonical\"=>\"Basket Materials\"), Dict(\"curriculum_requisites\"=>Dict{String,Any}[Dict(\"source_id\"=>5,\"target_id\"=>4,\"type\"=>\"strict-coreq\"), Dict(\"source_id\"=>1,\"target_id\"=>4,\"type\"=>\"prereq\")],\"name\"=>\"BW 111\",\"metrics\"=>Dict{String,Any}(),\"nameSub\"=>\"Basic Basket Forms\",\"id\"=>4,\"credits\"=>3,\"nameCanonical\"=>\"Baskets II\"), Dict(\"curriculum_requisites\"=>Dict{String,Any}[],\"name\"=>\" \",\"metrics\"=>Dict{String,Any}(),\"nameSub\"=>\"Technical Elective\",\"id\"=>11,\"credits\"=>3,\"nameCanonical\"=>\"\")],\"id\"=>2), Dict(\"name\"=>\"Term 3\",\"curriculum_items\"=>Dict{String,Any}[Dict(\"curriculum_requisites\"=>Dict{String,Any}[Dict(\"source_id\"=>7,\"target_id\"=>8,\"type\"=>\"prereq\"), Dict(\"source_id\"=>2,\"target_id\"=>8,\"type\"=>\"prereq\")],\"name\"=>\"BW 301\",\"metrics\"=>Dict{String,Any}(),\"nameSub\"=>\"Underwater Weaving\",\"id\"=>8,\"credits\"=>3,\"nameCanonical\"=>\"Baskets IV\"), Dict(\"curriculum_requisites\"=>Dict{String,Any}[Dict(\"source_id\"=>4,\"target_id\"=>6,\"type\"=>\"prereq\"), Dict(\"source_id\"=>3,\"target_id\"=>6,\"type\"=>\"prereq\"), Dict(\"source_id\"=>5,\"target_id\"=>6,\"type\"=>\"prereq\")],\"name\"=>\"BW 201\",\"metrics\"=>Dict{String,Any}(),\"nameSub\"=>\"Advanced Basketry\",\"id\"=>6,\"credits\"=>3,\"nameCanonical\"=>\"Baskets III\"), Dict(\"curriculum_requisites\"=>Dict{String,Any}[],\"name\"=>\" \",\"metrics\"=>Dict{String,Any}(),\"nameSub\"=>\"Humanitites Elective\",\"id\"=>9,\"credits\"=>3,\"nameCanonical\"=>\"Humanitites Core\"), Dict(\"curriculum_requisites\"=>Dict{String,Any}[],\"name\"=>\" \",\"metrics\"=>Dict{String,Any}(),\"nameSub\"=>\"Social Sciences Elective\",\"id\"=>10,\"credits\"=>3,\"nameCanonical\"=>\"\")],\"id\"=>3)],\"institution\"=>\"\")), nothing)), Set(String[]), nothing, Any[], Dict{Any,Any}(), WebIO.ConnectionPool(Channel{Any}(sz_max:9223372036854775807,sz_curr:0), Set(WebIO.AbstractConnection[]), Channel{WebIO.AbstractConnection}(sz_max:32,sz_curr:0)))"
      ]
     },
     "execution_count": 2,
     "metadata": {
      "application/vnd.webio.node+json": {
       "kernelId": "612a2187-f96f-475f-b4b4-5595b6e5042d"
      }
     },
     "output_type": "execute_result"
    }
   ],
   "source": [
    "out = read_csv(\"examples\\\\UBW_curric_canonical.csv\")\n",
    "#visualize(out, notebook=true)\n",
    "visualize(out , changed=update_plan, edit=true, notebook=true)"
   ]
  },
  {
   "cell_type": "code",
   "execution_count": 3,
   "metadata": {
    "scrolled": false
   },
   "outputs": [
    {
     "name": "stdout",
     "output_type": "stream",
     "text": [
      "Could not create a plan for 0 term, tring for 1 term\n",
      "Could not create a plan for 1 term, tring for 2 term\n",
      "Could not create a plan for 2 term, tring for 3 term\n"
     ]
    },
    {
     "name": "stderr",
     "output_type": "stream",
     "text": [
      "┌ Info: Accept (0):  🔗    0↑     0↓    1s 127.0.0.1:8156:8156 ≣16\n",
      "└ @ HTTP.Servers C:\\Users\\orhan\\.julia\\packages\\HTTP\\YjRCz\\src\\Servers.jl:343\n",
      "┌ Info: Accept (1):  🔗    0↑     0↓    1s 127.0.0.1:8156:8156 ≣16\n",
      "└ @ HTTP.Servers C:\\Users\\orhan\\.julia\\packages\\HTTP\\YjRCz\\src\\Servers.jl:343\n",
      "┌ Info: Accept (2):  🔗    0↑     0↓    1s 127.0.0.1:8156:8156 ≣16\n",
      "└ @ HTTP.Servers C:\\Users\\orhan\\.julia\\packages\\HTTP\\YjRCz\\src\\Servers.jl:343\n"
     ]
    },
    {
     "data": {
      "application/vnd.webio.node+json": {
       "children": [
        {
         "children": [
          ""
         ],
         "instanceArgs": {
          "namespace": "html",
          "tag": "iframe"
         },
         "nodeType": "DOM",
         "props": {
          "events": {
           "load": "(function (){this.contentWindow.postMessage({\"options\":{\"hideTerms\":true,\"edit\":true},\"curriculum\":{\"name\":\"Underwater Basket Weaving\",\"dp_name\":\"\",\"curriculum_terms\":[{\"name\":\"Term 1\",\"curriculum_items\":[{\"curriculum_requisites\":[],\"name\":\"BW 101\",\"metrics\":{\"complexity\":7.0,\"centrality\":0,\"blocking factor\":4,\"delay factor\":3.0},\"nameSub\":\"Introduction to Baskets\",\"id\":1,\"credits\":3,\"nameCanonical\":\"Baskets I\"},{\"curriculum_requisites\":[],\"name\":\"PE 115\",\"metrics\":{\"complexity\":3.0,\"centrality\":0,\"blocking factor\":1,\"delay factor\":2.0},\"nameSub\":\"Swimming\",\"id\":2,\"credits\":3,\"nameCanonical\":\"Physical Education\"},{\"curriculum_requisites\":[],\"name\":\"MA 116\",\"metrics\":{\"complexity\":3.0,\"centrality\":0,\"blocking factor\":1,\"delay factor\":2.0},\"nameSub\":\"Introductory Calculus w/ Basketry Applications\",\"id\":3,\"credits\":4,\"nameCanonical\":\"Calculus I\"}],\"id\":1},{\"name\":\"Term 2\",\"curriculum_items\":[{\"curriculum_requisites\":[],\"name\":\"BW 111L\",\"metrics\":{\"complexity\":5.0,\"centrality\":0,\"blocking factor\":2,\"delay factor\":3.0},\"nameSub\":\"Basic Basket Forms Lab\",\"id\":5,\"credits\":1,\"nameCanonical\":\"Baskets II Laboratory\"},{\"curriculum_requisites\":[{\"source_id\":5,\"target_id\":4,\"type\":\"strict-coreq\"},{\"source_id\":1,\"target_id\":4,\"type\":\"prereq\"}],\"name\":\"BW 111\",\"metrics\":{\"complexity\":4.0,\"centrality\":6,\"blocking factor\":1,\"delay factor\":3.0},\"nameSub\":\"Basic Basket Forms\",\"id\":4,\"credits\":3,\"nameCanonical\":\"Baskets II\"},{\"curriculum_requisites\":[{\"source_id\":1,\"target_id\":7,\"type\":\"prereq\"}],\"name\":\"BW 214\",\"metrics\":{\"complexity\":4.0,\"centrality\":3,\"blocking factor\":1,\"delay factor\":3.0},\"nameSub\":\"Basket Materials & Decoration\",\"id\":7,\"credits\":3,\"nameCanonical\":\"Basket Materials\"},{\"curriculum_requisites\":[{\"source_id\":5,\"target_id\":4,\"type\":\"strict-coreq\"},{\"source_id\":1,\"target_id\":4,\"type\":\"prereq\"}],\"name\":\"BW 111\",\"metrics\":{\"complexity\":4.0,\"centrality\":6,\"blocking factor\":1,\"delay factor\":3.0},\"nameSub\":\"Basic Basket Forms\",\"id\":4,\"credits\":3,\"nameCanonical\":\"Baskets II\"},{\"curriculum_requisites\":[{\"source_id\":7,\"target_id\":8,\"type\":\"coreq\"},{\"source_id\":2,\"target_id\":8,\"type\":\"prereq\"}],\"name\":\"BW 301\",\"metrics\":{\"complexity\":3.0,\"centrality\":0,\"blocking factor\":0,\"delay factor\":3.0},\"nameSub\":\"Underwater Weaving\",\"id\":8,\"credits\":3,\"nameCanonical\":\"Baskets IV\"}],\"id\":2},{\"name\":\"Term 3\",\"curriculum_items\":[{\"curriculum_requisites\":[{\"source_id\":4,\"target_id\":6,\"type\":\"prereq\"},{\"source_id\":3,\"target_id\":6,\"type\":\"prereq\"},{\"source_id\":5,\"target_id\":6,\"type\":\"prereq\"}],\"name\":\"BW 201\",\"metrics\":{\"complexity\":3.0,\"centrality\":0,\"blocking factor\":0,\"delay factor\":3.0},\"nameSub\":\"Advanced Basketry\",\"id\":6,\"credits\":3,\"nameCanonical\":\"Baskets III\"},{\"curriculum_requisites\":[],\"name\":\" \",\"metrics\":{\"complexity\":1.0,\"centrality\":0,\"blocking factor\":0,\"delay factor\":1.0},\"nameSub\":\"Technical Elective\",\"id\":11,\"credits\":3,\"nameCanonical\":\"\"},{\"curriculum_requisites\":[],\"name\":\" \",\"metrics\":{\"complexity\":1.0,\"centrality\":0,\"blocking factor\":0,\"delay factor\":1.0},\"nameSub\":\"Humanitites Elective\",\"id\":9,\"credits\":3,\"nameCanonical\":\"Humanitites Core\"},{\"curriculum_requisites\":[],\"name\":\" \",\"metrics\":{\"complexity\":1.0,\"centrality\":0,\"blocking factor\":0,\"delay factor\":1.0},\"nameSub\":\"Social Sciences Elective\",\"id\":10,\"credits\":3,\"nameCanonical\":\"\"}],\"id\":3}],\"institution\":\"ACME State University\"}},\"*\"); window.removeEventListener(\"message\",window.messageReceived); window.messageReceived=(function (event){return (event.data.curriculum!==undefined) ? (_webIOScope.setObservableValue({\"name\":\"curriculum-data\",\"scope\":\"scope-6b62f440-1a20-42ff-9866-70911e652948\",\"id\":\"ob_02\",\"type\":\"observable\"},event.data.curriculum)) : undefined}); return window.addEventListener(\"message\",window.messageReceived)})"
          },
          "id": "curriculum",
          "src": "http://localhost:8156",
          "style": {
           "border": "none",
           "height": "100vh",
           "margin": "0",
           "padding": "0",
           "width": "100%"
          }
         },
         "type": "node"
        }
       ],
       "instanceArgs": {
        "handlers": {},
        "id": "scope-6b62f440-1a20-42ff-9866-70911e652948",
        "imports": {
         "data": [],
         "type": "async_block"
        },
        "observables": {
         "curriculum-data": {
          "id": "ob_02",
          "sync": true,
          "value": {
           "curriculum": {
            "curriculum_terms": [
             {
              "curriculum_items": [
               {
                "credits": 3,
                "curriculum_requisites": [],
                "id": 1,
                "metrics": {
                 "blocking factor": 4,
                 "centrality": 0,
                 "complexity": 7,
                 "delay factor": 3
                },
                "name": "BW 101",
                "nameCanonical": "Baskets I",
                "nameSub": "Introduction to Baskets"
               },
               {
                "credits": 3,
                "curriculum_requisites": [],
                "id": 2,
                "metrics": {
                 "blocking factor": 1,
                 "centrality": 0,
                 "complexity": 3,
                 "delay factor": 2
                },
                "name": "PE 115",
                "nameCanonical": "Physical Education",
                "nameSub": "Swimming"
               },
               {
                "credits": 4,
                "curriculum_requisites": [],
                "id": 3,
                "metrics": {
                 "blocking factor": 1,
                 "centrality": 0,
                 "complexity": 3,
                 "delay factor": 2
                },
                "name": "MA 116",
                "nameCanonical": "Calculus I",
                "nameSub": "Introductory Calculus w/ Basketry Applications"
               }
              ],
              "id": 1,
              "name": "Term 1"
             },
             {
              "curriculum_items": [
               {
                "credits": 1,
                "curriculum_requisites": [],
                "id": 5,
                "metrics": {
                 "blocking factor": 2,
                 "centrality": 0,
                 "complexity": 5,
                 "delay factor": 3
                },
                "name": "BW 111L",
                "nameCanonical": "Baskets II Laboratory",
                "nameSub": "Basic Basket Forms Lab"
               },
               {
                "credits": 3,
                "curriculum_requisites": [
                 {
                  "source_id": 5,
                  "target_id": 4,
                  "type": "strict-coreq"
                 },
                 {
                  "source_id": 1,
                  "target_id": 4,
                  "type": "prereq"
                 }
                ],
                "id": 4,
                "metrics": {
                 "blocking factor": 1,
                 "centrality": 6,
                 "complexity": 4,
                 "delay factor": 3
                },
                "name": "BW 111",
                "nameCanonical": "Baskets II",
                "nameSub": "Basic Basket Forms"
               },
               {
                "credits": 3,
                "curriculum_requisites": [
                 {
                  "source_id": 1,
                  "target_id": 7,
                  "type": "prereq"
                 }
                ],
                "id": 7,
                "metrics": {
                 "blocking factor": 1,
                 "centrality": 3,
                 "complexity": 4,
                 "delay factor": 3
                },
                "name": "BW 214",
                "nameCanonical": "Basket Materials",
                "nameSub": "Basket Materials & Decoration"
               },
               {
                "credits": 3,
                "curriculum_requisites": [
                 {
                  "source_id": 5,
                  "target_id": 4,
                  "type": "strict-coreq"
                 },
                 {
                  "source_id": 1,
                  "target_id": 4,
                  "type": "prereq"
                 }
                ],
                "id": 4,
                "metrics": {
                 "blocking factor": 1,
                 "centrality": 6,
                 "complexity": 4,
                 "delay factor": 3
                },
                "name": "BW 111",
                "nameCanonical": "Baskets II",
                "nameSub": "Basic Basket Forms"
               },
               {
                "credits": 3,
                "curriculum_requisites": [
                 {
                  "source_id": 7,
                  "target_id": 8,
                  "type": "coreq"
                 },
                 {
                  "source_id": 2,
                  "target_id": 8,
                  "type": "prereq"
                 }
                ],
                "id": 8,
                "metrics": {
                 "blocking factor": 0,
                 "centrality": 0,
                 "complexity": 3,
                 "delay factor": 3
                },
                "name": "BW 301",
                "nameCanonical": "Baskets IV",
                "nameSub": "Underwater Weaving"
               }
              ],
              "id": 2,
              "name": "Term 2"
             },
             {
              "curriculum_items": [
               {
                "credits": 3,
                "curriculum_requisites": [
                 {
                  "source_id": 4,
                  "target_id": 6,
                  "type": "prereq"
                 },
                 {
                  "source_id": 3,
                  "target_id": 6,
                  "type": "prereq"
                 },
                 {
                  "source_id": 5,
                  "target_id": 6,
                  "type": "prereq"
                 }
                ],
                "id": 6,
                "metrics": {
                 "blocking factor": 0,
                 "centrality": 0,
                 "complexity": 3,
                 "delay factor": 3
                },
                "name": "BW 201",
                "nameCanonical": "Baskets III",
                "nameSub": "Advanced Basketry"
               },
               {
                "credits": 3,
                "curriculum_requisites": [],
                "id": 11,
                "metrics": {
                 "blocking factor": 0,
                 "centrality": 0,
                 "complexity": 1,
                 "delay factor": 1
                },
                "name": " ",
                "nameCanonical": "",
                "nameSub": "Technical Elective"
               },
               {
                "credits": 3,
                "curriculum_requisites": [],
                "id": 9,
                "metrics": {
                 "blocking factor": 0,
                 "centrality": 0,
                 "complexity": 1,
                 "delay factor": 1
                },
                "name": " ",
                "nameCanonical": "Humanitites Core",
                "nameSub": "Humanitites Elective"
               },
               {
                "credits": 3,
                "curriculum_requisites": [],
                "id": 10,
                "metrics": {
                 "blocking factor": 0,
                 "centrality": 0,
                 "complexity": 1,
                 "delay factor": 1
                },
                "name": " ",
                "nameCanonical": "",
                "nameSub": "Social Sciences Elective"
               }
              ],
              "id": 3,
              "name": "Term 3"
             }
            ],
            "dp_name": "",
            "institution": "ACME State University",
            "name": "Underwater Basket Weaving"
           },
           "options": {
            "edit": true,
            "hideTerms": true
           }
          }
         }
        },
        "systemjs_options": null
       },
       "nodeType": "Scope",
       "props": {},
       "type": "node"
      },
      "text/html": [
       "<div\n",
       "    class=\"webio-mountpoint\"\n",
       "    data-webio-mountpoint=\"18395750608309129274\"\n",
       ">\n",
       "    <script>\n",
       "    if (window.require && require.defined && require.defined(\"nbextensions/webio/main\")) {\n",
       "        console.log(\"Jupyter WebIO extension detected, not mounting.\");\n",
       "    } else if (window.WebIO) {\n",
       "        WebIO.mount(\n",
       "            document.querySelector('[data-webio-mountpoint=\"18395750608309129274\"]'),\n",
       "            {\"props\":{},\"nodeType\":\"Scope\",\"type\":\"node\",\"instanceArgs\":{\"imports\":{\"data\":[],\"type\":\"async_block\"},\"id\":\"scope-6b62f440-1a20-42ff-9866-70911e652948\",\"handlers\":{},\"systemjs_options\":null,\"observables\":{\"curriculum-data\":{\"sync\":true,\"id\":\"ob_02\",\"value\":{\"options\":{\"hideTerms\":true,\"edit\":true},\"curriculum\":{\"name\":\"Underwater Basket Weaving\",\"dp_name\":\"\",\"curriculum_terms\":[{\"name\":\"Term 1\",\"curriculum_items\":[{\"curriculum_requisites\":[],\"name\":\"BW 101\",\"metrics\":{\"complexity\":7.0,\"centrality\":0,\"blocking factor\":4,\"delay factor\":3.0},\"nameSub\":\"Introduction to Baskets\",\"id\":1,\"credits\":3,\"nameCanonical\":\"Baskets I\"},{\"curriculum_requisites\":[],\"name\":\"PE 115\",\"metrics\":{\"complexity\":3.0,\"centrality\":0,\"blocking factor\":1,\"delay factor\":2.0},\"nameSub\":\"Swimming\",\"id\":2,\"credits\":3,\"nameCanonical\":\"Physical Education\"},{\"curriculum_requisites\":[],\"name\":\"MA 116\",\"metrics\":{\"complexity\":3.0,\"centrality\":0,\"blocking factor\":1,\"delay factor\":2.0},\"nameSub\":\"Introductory Calculus w\\/ Basketry Applications\",\"id\":3,\"credits\":4,\"nameCanonical\":\"Calculus I\"}],\"id\":1},{\"name\":\"Term 2\",\"curriculum_items\":[{\"curriculum_requisites\":[],\"name\":\"BW 111L\",\"metrics\":{\"complexity\":5.0,\"centrality\":0,\"blocking factor\":2,\"delay factor\":3.0},\"nameSub\":\"Basic Basket Forms Lab\",\"id\":5,\"credits\":1,\"nameCanonical\":\"Baskets II Laboratory\"},{\"curriculum_requisites\":[{\"source_id\":5,\"target_id\":4,\"type\":\"strict-coreq\"},{\"source_id\":1,\"target_id\":4,\"type\":\"prereq\"}],\"name\":\"BW 111\",\"metrics\":{\"complexity\":4.0,\"centrality\":6,\"blocking factor\":1,\"delay factor\":3.0},\"nameSub\":\"Basic Basket Forms\",\"id\":4,\"credits\":3,\"nameCanonical\":\"Baskets II\"},{\"curriculum_requisites\":[{\"source_id\":1,\"target_id\":7,\"type\":\"prereq\"}],\"name\":\"BW 214\",\"metrics\":{\"complexity\":4.0,\"centrality\":3,\"blocking factor\":1,\"delay factor\":3.0},\"nameSub\":\"Basket Materials & Decoration\",\"id\":7,\"credits\":3,\"nameCanonical\":\"Basket Materials\"},{\"curriculum_requisites\":[{\"source_id\":5,\"target_id\":4,\"type\":\"strict-coreq\"},{\"source_id\":1,\"target_id\":4,\"type\":\"prereq\"}],\"name\":\"BW 111\",\"metrics\":{\"complexity\":4.0,\"centrality\":6,\"blocking factor\":1,\"delay factor\":3.0},\"nameSub\":\"Basic Basket Forms\",\"id\":4,\"credits\":3,\"nameCanonical\":\"Baskets II\"},{\"curriculum_requisites\":[{\"source_id\":7,\"target_id\":8,\"type\":\"coreq\"},{\"source_id\":2,\"target_id\":8,\"type\":\"prereq\"}],\"name\":\"BW 301\",\"metrics\":{\"complexity\":3.0,\"centrality\":0,\"blocking factor\":0,\"delay factor\":3.0},\"nameSub\":\"Underwater Weaving\",\"id\":8,\"credits\":3,\"nameCanonical\":\"Baskets IV\"}],\"id\":2},{\"name\":\"Term 3\",\"curriculum_items\":[{\"curriculum_requisites\":[{\"source_id\":4,\"target_id\":6,\"type\":\"prereq\"},{\"source_id\":3,\"target_id\":6,\"type\":\"prereq\"},{\"source_id\":5,\"target_id\":6,\"type\":\"prereq\"}],\"name\":\"BW 201\",\"metrics\":{\"complexity\":3.0,\"centrality\":0,\"blocking factor\":0,\"delay factor\":3.0},\"nameSub\":\"Advanced Basketry\",\"id\":6,\"credits\":3,\"nameCanonical\":\"Baskets III\"},{\"curriculum_requisites\":[],\"name\":\" \",\"metrics\":{\"complexity\":1.0,\"centrality\":0,\"blocking factor\":0,\"delay factor\":1.0},\"nameSub\":\"Technical Elective\",\"id\":11,\"credits\":3,\"nameCanonical\":\"\"},{\"curriculum_requisites\":[],\"name\":\" \",\"metrics\":{\"complexity\":1.0,\"centrality\":0,\"blocking factor\":0,\"delay factor\":1.0},\"nameSub\":\"Humanitites Elective\",\"id\":9,\"credits\":3,\"nameCanonical\":\"Humanitites Core\"},{\"curriculum_requisites\":[],\"name\":\" \",\"metrics\":{\"complexity\":1.0,\"centrality\":0,\"blocking factor\":0,\"delay factor\":1.0},\"nameSub\":\"Social Sciences Elective\",\"id\":10,\"credits\":3,\"nameCanonical\":\"\"}],\"id\":3}],\"institution\":\"ACME State University\"}}}}},\"children\":[{\"props\":{\"src\":\"http:\\/\\/localhost:8156\",\"id\":\"curriculum\",\"events\":{\"load\":\"(function (){this.contentWindow.postMessage({\\\"options\\\":{\\\"hideTerms\\\":true,\\\"edit\\\":true},\\\"curriculum\\\":{\\\"name\\\":\\\"Underwater Basket Weaving\\\",\\\"dp_name\\\":\\\"\\\",\\\"curriculum_terms\\\":[{\\\"name\\\":\\\"Term 1\\\",\\\"curriculum_items\\\":[{\\\"curriculum_requisites\\\":[],\\\"name\\\":\\\"BW 101\\\",\\\"metrics\\\":{\\\"complexity\\\":7.0,\\\"centrality\\\":0,\\\"blocking factor\\\":4,\\\"delay factor\\\":3.0},\\\"nameSub\\\":\\\"Introduction to Baskets\\\",\\\"id\\\":1,\\\"credits\\\":3,\\\"nameCanonical\\\":\\\"Baskets I\\\"},{\\\"curriculum_requisites\\\":[],\\\"name\\\":\\\"PE 115\\\",\\\"metrics\\\":{\\\"complexity\\\":3.0,\\\"centrality\\\":0,\\\"blocking factor\\\":1,\\\"delay factor\\\":2.0},\\\"nameSub\\\":\\\"Swimming\\\",\\\"id\\\":2,\\\"credits\\\":3,\\\"nameCanonical\\\":\\\"Physical Education\\\"},{\\\"curriculum_requisites\\\":[],\\\"name\\\":\\\"MA 116\\\",\\\"metrics\\\":{\\\"complexity\\\":3.0,\\\"centrality\\\":0,\\\"blocking factor\\\":1,\\\"delay factor\\\":2.0},\\\"nameSub\\\":\\\"Introductory Calculus w\\/ Basketry Applications\\\",\\\"id\\\":3,\\\"credits\\\":4,\\\"nameCanonical\\\":\\\"Calculus I\\\"}],\\\"id\\\":1},{\\\"name\\\":\\\"Term 2\\\",\\\"curriculum_items\\\":[{\\\"curriculum_requisites\\\":[],\\\"name\\\":\\\"BW 111L\\\",\\\"metrics\\\":{\\\"complexity\\\":5.0,\\\"centrality\\\":0,\\\"blocking factor\\\":2,\\\"delay factor\\\":3.0},\\\"nameSub\\\":\\\"Basic Basket Forms Lab\\\",\\\"id\\\":5,\\\"credits\\\":1,\\\"nameCanonical\\\":\\\"Baskets II Laboratory\\\"},{\\\"curriculum_requisites\\\":[{\\\"source_id\\\":5,\\\"target_id\\\":4,\\\"type\\\":\\\"strict-coreq\\\"},{\\\"source_id\\\":1,\\\"target_id\\\":4,\\\"type\\\":\\\"prereq\\\"}],\\\"name\\\":\\\"BW 111\\\",\\\"metrics\\\":{\\\"complexity\\\":4.0,\\\"centrality\\\":6,\\\"blocking factor\\\":1,\\\"delay factor\\\":3.0},\\\"nameSub\\\":\\\"Basic Basket Forms\\\",\\\"id\\\":4,\\\"credits\\\":3,\\\"nameCanonical\\\":\\\"Baskets II\\\"},{\\\"curriculum_requisites\\\":[{\\\"source_id\\\":1,\\\"target_id\\\":7,\\\"type\\\":\\\"prereq\\\"}],\\\"name\\\":\\\"BW 214\\\",\\\"metrics\\\":{\\\"complexity\\\":4.0,\\\"centrality\\\":3,\\\"blocking factor\\\":1,\\\"delay factor\\\":3.0},\\\"nameSub\\\":\\\"Basket Materials & Decoration\\\",\\\"id\\\":7,\\\"credits\\\":3,\\\"nameCanonical\\\":\\\"Basket Materials\\\"},{\\\"curriculum_requisites\\\":[{\\\"source_id\\\":5,\\\"target_id\\\":4,\\\"type\\\":\\\"strict-coreq\\\"},{\\\"source_id\\\":1,\\\"target_id\\\":4,\\\"type\\\":\\\"prereq\\\"}],\\\"name\\\":\\\"BW 111\\\",\\\"metrics\\\":{\\\"complexity\\\":4.0,\\\"centrality\\\":6,\\\"blocking factor\\\":1,\\\"delay factor\\\":3.0},\\\"nameSub\\\":\\\"Basic Basket Forms\\\",\\\"id\\\":4,\\\"credits\\\":3,\\\"nameCanonical\\\":\\\"Baskets II\\\"},{\\\"curriculum_requisites\\\":[{\\\"source_id\\\":7,\\\"target_id\\\":8,\\\"type\\\":\\\"coreq\\\"},{\\\"source_id\\\":2,\\\"target_id\\\":8,\\\"type\\\":\\\"prereq\\\"}],\\\"name\\\":\\\"BW 301\\\",\\\"metrics\\\":{\\\"complexity\\\":3.0,\\\"centrality\\\":0,\\\"blocking factor\\\":0,\\\"delay factor\\\":3.0},\\\"nameSub\\\":\\\"Underwater Weaving\\\",\\\"id\\\":8,\\\"credits\\\":3,\\\"nameCanonical\\\":\\\"Baskets IV\\\"}],\\\"id\\\":2},{\\\"name\\\":\\\"Term 3\\\",\\\"curriculum_items\\\":[{\\\"curriculum_requisites\\\":[{\\\"source_id\\\":4,\\\"target_id\\\":6,\\\"type\\\":\\\"prereq\\\"},{\\\"source_id\\\":3,\\\"target_id\\\":6,\\\"type\\\":\\\"prereq\\\"},{\\\"source_id\\\":5,\\\"target_id\\\":6,\\\"type\\\":\\\"prereq\\\"}],\\\"name\\\":\\\"BW 201\\\",\\\"metrics\\\":{\\\"complexity\\\":3.0,\\\"centrality\\\":0,\\\"blocking factor\\\":0,\\\"delay factor\\\":3.0},\\\"nameSub\\\":\\\"Advanced Basketry\\\",\\\"id\\\":6,\\\"credits\\\":3,\\\"nameCanonical\\\":\\\"Baskets III\\\"},{\\\"curriculum_requisites\\\":[],\\\"name\\\":\\\" \\\",\\\"metrics\\\":{\\\"complexity\\\":1.0,\\\"centrality\\\":0,\\\"blocking factor\\\":0,\\\"delay factor\\\":1.0},\\\"nameSub\\\":\\\"Technical Elective\\\",\\\"id\\\":11,\\\"credits\\\":3,\\\"nameCanonical\\\":\\\"\\\"},{\\\"curriculum_requisites\\\":[],\\\"name\\\":\\\" \\\",\\\"metrics\\\":{\\\"complexity\\\":1.0,\\\"centrality\\\":0,\\\"blocking factor\\\":0,\\\"delay factor\\\":1.0},\\\"nameSub\\\":\\\"Humanitites Elective\\\",\\\"id\\\":9,\\\"credits\\\":3,\\\"nameCanonical\\\":\\\"Humanitites Core\\\"},{\\\"curriculum_requisites\\\":[],\\\"name\\\":\\\" \\\",\\\"metrics\\\":{\\\"complexity\\\":1.0,\\\"centrality\\\":0,\\\"blocking factor\\\":0,\\\"delay factor\\\":1.0},\\\"nameSub\\\":\\\"Social Sciences Elective\\\",\\\"id\\\":10,\\\"credits\\\":3,\\\"nameCanonical\\\":\\\"\\\"}],\\\"id\\\":3}],\\\"institution\\\":\\\"ACME State University\\\"}},\\\"*\\\"); window.removeEventListener(\\\"message\\\",window.messageReceived); window.messageReceived=(function (event){return (event.data.curriculum!==undefined) ? (_webIOScope.setObservableValue({\\\"name\\\":\\\"curriculum-data\\\",\\\"scope\\\":\\\"scope-6b62f440-1a20-42ff-9866-70911e652948\\\",\\\"id\\\":\\\"ob_02\\\",\\\"type\\\":\\\"observable\\\"},event.data.curriculum)) : undefined}); return window.addEventListener(\\\"message\\\",window.messageReceived)})\"},\"style\":{\"padding\":\"0\",\"height\":\"100vh\",\"margin\":\"0\",\"border\":\"none\",\"width\":\"100%\"}},\"nodeType\":\"DOM\",\"type\":\"node\",\"instanceArgs\":{\"namespace\":\"html\",\"tag\":\"iframe\"},\"children\":[\"\"]}]},\n",
       "        );\n",
       "    } else {\n",
       "        document\n",
       "            .querySelector('[data-webio-mountpoint=\"18395750608309129274\"]')\n",
       "            .innerHTML = '<strong>WebIO not detected.</strong>';\n",
       "    }\n",
       "    </script>\n",
       "</div>\n"
      ],
      "text/plain": [
       "WebIO.Scope(\"scope-6b62f440-1a20-42ff-9866-70911e652948\", WebIO.Node{WebIO.DOM}(WebIO.DOM(:html, :iframe), Any[\"\"], Dict{Symbol,Any}(:src=>\"http://localhost:8156\",:id=>\"curriculum\",:events=>Dict(:load=>JSString(\"(function (){this.contentWindow.postMessage({\\\"options\\\":{\\\"hideTerms\\\":true,\\\"edit\\\":true},\\\"curriculum\\\":{\\\"name\\\":\\\"Underwater Basket Weaving\\\",\\\"dp_name\\\":\\\"\\\",\\\"curriculum_terms\\\":[{\\\"name\\\":\\\"Term 1\\\",\\\"curriculum_items\\\":[{\\\"curriculum_requisites\\\":[],\\\"name\\\":\\\"BW 101\\\",\\\"metrics\\\":{\\\"complexity\\\":7.0,\\\"centrality\\\":0,\\\"blocking factor\\\":4,\\\"delay factor\\\":3.0},\\\"nameSub\\\":\\\"Introduction to Baskets\\\",\\\"id\\\":1,\\\"credits\\\":3,\\\"nameCanonical\\\":\\\"Baskets I\\\"},{\\\"curriculum_requisites\\\":[],\\\"name\\\":\\\"PE 115\\\",\\\"metrics\\\":{\\\"complexity\\\":3.0,\\\"centrality\\\":0,\\\"blocking factor\\\":1,\\\"delay factor\\\":2.0},\\\"nameSub\\\":\\\"Swimming\\\",\\\"id\\\":2,\\\"credits\\\":3,\\\"nameCanonical\\\":\\\"Physical Education\\\"},{\\\"curriculum_requisites\\\":[],\\\"name\\\":\\\"MA 116\\\",\\\"metrics\\\":{\\\"complexity\\\":3.0,\\\"centrality\\\":0,\\\"blocking factor\\\":1,\\\"delay factor\\\":2.0},\\\"nameSub\\\":\\\"Introductory Calculus w/ Basketry Applications\\\",\\\"id\\\":3,\\\"credits\\\":4,\\\"nameCanonical\\\":\\\"Calculus I\\\"}],\\\"id\\\":1},{\\\"name\\\":\\\"Term 2\\\",\\\"curriculum_items\\\":[{\\\"curriculum_requisites\\\":[],\\\"name\\\":\\\"BW 111L\\\",\\\"metrics\\\":{\\\"complexity\\\":5.0,\\\"centrality\\\":0,\\\"blocking factor\\\":2,\\\"delay factor\\\":3.0},\\\"nameSub\\\":\\\"Basic Basket Forms Lab\\\",\\\"id\\\":5,\\\"credits\\\":1,\\\"nameCanonical\\\":\\\"Baskets II Laboratory\\\"},{\\\"curriculum_requisites\\\":[{\\\"source_id\\\":5,\\\"target_id\\\":4,\\\"type\\\":\\\"strict-coreq\\\"},{\\\"source_id\\\":1,\\\"target_id\\\":4,\\\"type\\\":\\\"prereq\\\"}],\\\"name\\\":\\\"BW 111\\\",\\\"metrics\\\":{\\\"complexity\\\":4.0,\\\"centrality\\\":6,\\\"blocking factor\\\":1,\\\"delay factor\\\":3.0},\\\"nameSub\\\":\\\"Basic Basket Forms\\\",\\\"id\\\":4,\\\"credits\\\":3,\\\"nameCanonical\\\":\\\"Baskets II\\\"},{\\\"curriculum_requisites\\\":[{\\\"source_id\\\":1,\\\"target_id\\\":7,\\\"type\\\":\\\"prereq\\\"}],\\\"name\\\":\\\"BW 214\\\",\\\"metrics\\\":{\\\"complexity\\\":4.0,\\\"centrality\\\":3,\\\"blocking factor\\\":1,\\\"delay factor\\\":3.0},\\\"nameSub\\\":\\\"Basket Materials & Decoration\\\",\\\"id\\\":7,\\\"credits\\\":3,\\\"nameCanonical\\\":\\\"Basket Materials\\\"},{\\\"curriculum_requisites\\\":[{\\\"source_id\\\":5,\\\"target_id\\\":4,\\\"type\\\":\\\"strict-coreq\\\"},{\\\"source_id\\\":1,\\\"target_id\\\":4,\\\"type\\\":\\\"prereq\\\"}],\\\"name\\\":\\\"BW 111\\\",\\\"metrics\\\":{\\\"complexity\\\":4.0,\\\"centrality\\\":6,\\\"blocking factor\\\":1,\\\"delay factor\\\":3.0},\\\"nameSub\\\":\\\"Basic Basket Forms\\\",\\\"id\\\":4,\\\"credits\\\":3,\\\"nameCanonical\\\":\\\"Baskets II\\\"},{\\\"curriculum_requisites\\\":[{\\\"source_id\\\":7,\\\"target_id\\\":8,\\\"type\\\":\\\"coreq\\\"},{\\\"source_id\\\":2,\\\"target_id\\\":8,\\\"type\\\":\\\"prereq\\\"}],\\\"name\\\":\\\"BW 301\\\",\\\"metrics\\\":{\\\"complexity\\\":3.0,\\\"centrality\\\":0,\\\"blocking factor\\\":0,\\\"delay factor\\\":3.0},\\\"nameSub\\\":\\\"Underwater Weaving\\\",\\\"id\\\":8,\\\"credits\\\":3,\\\"nameCanonical\\\":\\\"Baskets IV\\\"}],\\\"id\\\":2},{\\\"name\\\":\\\"Term 3\\\",\\\"curriculum_items\\\":[{\\\"curriculum_requisites\\\":[{\\\"source_id\\\":4,\\\"target_id\\\":6,\\\"type\\\":\\\"prereq\\\"},{\\\"source_id\\\":3,\\\"target_id\\\":6,\\\"type\\\":\\\"prereq\\\"},{\\\"source_id\\\":5,\\\"target_id\\\":6,\\\"type\\\":\\\"prereq\\\"}],\\\"name\\\":\\\"BW 201\\\",\\\"metrics\\\":{\\\"complexity\\\":3.0,\\\"centrality\\\":0,\\\"blocking factor\\\":0,\\\"delay factor\\\":3.0},\\\"nameSub\\\":\\\"Advanced Basketry\\\",\\\"id\\\":6,\\\"credits\\\":3,\\\"nameCanonical\\\":\\\"Baskets III\\\"},{\\\"curriculum_requisites\\\":[],\\\"name\\\":\\\" \\\",\\\"metrics\\\":{\\\"complexity\\\":1.0,\\\"centrality\\\":0,\\\"blocking factor\\\":0,\\\"delay factor\\\":1.0},\\\"nameSub\\\":\\\"Technical Elective\\\",\\\"id\\\":11,\\\"credits\\\":3,\\\"nameCanonical\\\":\\\"\\\"},{\\\"curriculum_requisites\\\":[],\\\"name\\\":\\\" \\\",\\\"metrics\\\":{\\\"complexity\\\":1.0,\\\"centrality\\\":0,\\\"blocking factor\\\":0,\\\"delay factor\\\":1.0},\\\"nameSub\\\":\\\"Humanitites Elective\\\",\\\"id\\\":9,\\\"credits\\\":3,\\\"nameCanonical\\\":\\\"Humanitites Core\\\"},{\\\"curriculum_requisites\\\":[],\\\"name\\\":\\\" \\\",\\\"metrics\\\":{\\\"complexity\\\":1.0,\\\"centrality\\\":0,\\\"blocking factor\\\":0,\\\"delay factor\\\":1.0},\\\"nameSub\\\":\\\"Social Sciences Elective\\\",\\\"id\\\":10,\\\"credits\\\":3,\\\"nameCanonical\\\":\\\"\\\"}],\\\"id\\\":3}],\\\"institution\\\":\\\"ACME State University\\\"}},\\\"*\\\"); window.removeEventListener(\\\"message\\\",window.messageReceived); window.messageReceived=(function (event){return (event.data.curriculum!==undefined) ? (_webIOScope.setObservableValue({\\\"name\\\":\\\"curriculum-data\\\",\\\"scope\\\":\\\"scope-6b62f440-1a20-42ff-9866-70911e652948\\\",\\\"id\\\":\\\"ob_02\\\",\\\"type\\\":\\\"observable\\\"},event.data.curriculum)) : undefined}); return window.addEventListener(\\\"message\\\",window.messageReceived)})\")),:style=>Dict(:padding=>\"0\",:height=>\"100vh\",:margin=>\"0\",:border=>\"none\",:width=>\"100%\")), 1), Dict{String,Tuple{Observables.AbstractObservable,Union{Nothing, Bool}}}(\"curriculum-data\"=>(Observable{Dict{String,Any}} with 1 listeners. Value:\n",
       "Dict{String,Any}(\"options\"=>Dict{String,Any}(\"hideTerms\"=>true,\"edit\"=>true),\"curriculum\"=>Dict{String,Any}(\"name\"=>\"Underwater Basket Weaving\",\"dp_name\"=>\"\",\"curriculum_terms\"=>Dict{String,Any}[Dict(\"name\"=>\"Term 1\",\"curriculum_items\"=>Dict{String,Any}[Dict(\"curriculum_requisites\"=>Dict{String,Any}[],\"name\"=>\"BW 101\",\"metrics\"=>Dict{String,Any}(\"complexity\"=>7.0,\"centrality\"=>0,\"blocking factor\"=>4,\"delay factor\"=>3.0),\"nameSub\"=>\"Introduction to Baskets\",\"id\"=>1,\"credits\"=>3,\"nameCanonical\"=>\"Baskets I\"), Dict(\"curriculum_requisites\"=>Dict{String,Any}[],\"name\"=>\"PE 115\",\"metrics\"=>Dict{String,Any}(\"complexity\"=>3.0,\"centrality\"=>0,\"blocking factor\"=>1,\"delay factor\"=>2.0),\"nameSub\"=>\"Swimming\",\"id\"=>2,\"credits\"=>3,\"nameCanonical\"=>\"Physical Education\"), Dict(\"curriculum_requisites\"=>Dict{String,Any}[],\"name\"=>\"MA 116\",\"metrics\"=>Dict{String,Any}(\"complexity\"=>3.0,\"centrality\"=>0,\"blocking factor\"=>1,\"delay factor\"=>2.0),\"nameSub\"=>\"Introductory Calculus w/ Basketry Applications\",\"id\"=>3,\"credits\"=>4,\"nameCanonical\"=>\"Calculus I\")],\"id\"=>1), Dict(\"name\"=>\"Term 2\",\"curriculum_items\"=>Dict{String,Any}[Dict(\"curriculum_requisites\"=>Dict{String,Any}[],\"name\"=>\"BW 111L\",\"metrics\"=>Dict{String,Any}(\"complexity\"=>5.0,\"centrality\"=>0,\"blocking factor\"=>2,\"delay factor\"=>3.0),\"nameSub\"=>\"Basic Basket Forms Lab\",\"id\"=>5,\"credits\"=>1,\"nameCanonical\"=>\"Baskets II Laboratory\"), Dict(\"curriculum_requisites\"=>Dict{String,Any}[Dict(\"source_id\"=>5,\"target_id\"=>4,\"type\"=>\"strict-coreq\"), Dict(\"source_id\"=>1,\"target_id\"=>4,\"type\"=>\"prereq\")],\"name\"=>\"BW 111\",\"metrics\"=>Dict{String,Any}(\"complexity\"=>4.0,\"centrality\"=>6,\"blocking factor\"=>1,\"delay factor\"=>3.0),\"nameSub\"=>\"Basic Basket Forms\",\"id\"=>4,\"credits\"=>3,\"nameCanonical\"=>\"Baskets II\"), Dict(\"curriculum_requisites\"=>Dict{String,Any}[Dict(\"source_id\"=>1,\"target_id\"=>7,\"type\"=>\"prereq\")],\"name\"=>\"BW 214\",\"metrics\"=>Dict{String,Any}(\"complexity\"=>4.0,\"centrality\"=>3,\"blocking factor\"=>1,\"delay factor\"=>3.0),\"nameSub\"=>\"Basket Materials & Decoration\",\"id\"=>7,\"credits\"=>3,\"nameCanonical\"=>\"Basket Materials\"), Dict(\"curriculum_requisites\"=>Dict{String,Any}[Dict(\"source_id\"=>5,\"target_id\"=>4,\"type\"=>\"strict-coreq\"), Dict(\"source_id\"=>1,\"target_id\"=>4,\"type\"=>\"prereq\")],\"name\"=>\"BW 111\",\"metrics\"=>Dict{String,Any}(\"complexity\"=>4.0,\"centrality\"=>6,\"blocking factor\"=>1,\"delay factor\"=>3.0),\"nameSub\"=>\"Basic Basket Forms\",\"id\"=>4,\"credits\"=>3,\"nameCanonical\"=>\"Baskets II\"), Dict(\"curriculum_requisites\"=>Dict{String,Any}[Dict(\"source_id\"=>7,\"target_id\"=>8,\"type\"=>\"coreq\"), Dict(\"source_id\"=>2,\"target_id\"=>8,\"type\"=>\"prereq\")],\"name\"=>\"BW 301\",\"metrics\"=>Dict{String,Any}(\"complexity\"=>3.0,\"centrality\"=>0,\"blocking factor\"=>0,\"delay factor\"=>3.0),\"nameSub\"=>\"Underwater Weaving\",\"id\"=>8,\"credits\"=>3,\"nameCanonical\"=>\"Baskets IV\")],\"id\"=>2), Dict(\"name\"=>\"Term 3\",\"curriculum_items\"=>Dict{String,Any}[Dict(\"curriculum_requisites\"=>Dict{String,Any}[Dict(\"source_id\"=>4,\"target_id\"=>6,\"type\"=>\"prereq\"), Dict(\"source_id\"=>3,\"target_id\"=>6,\"type\"=>\"prereq\"), Dict(\"source_id\"=>5,\"target_id\"=>6,\"type\"=>\"prereq\")],\"name\"=>\"BW 201\",\"metrics\"=>Dict{String,Any}(\"complexity\"=>3.0,\"centrality\"=>0,\"blocking factor\"=>0,\"delay factor\"=>3.0),\"nameSub\"=>\"Advanced Basketry\",\"id\"=>6,\"credits\"=>3,\"nameCanonical\"=>\"Baskets III\"), Dict(\"curriculum_requisites\"=>Dict{String,Any}[],\"name\"=>\" \",\"metrics\"=>Dict{String,Any}(\"complexity\"=>1.0,\"centrality\"=>0,\"blocking factor\"=>0,\"delay factor\"=>1.0),\"nameSub\"=>\"Technical Elective\",\"id\"=>11,\"credits\"=>3,\"nameCanonical\"=>\"\"), Dict(\"curriculum_requisites\"=>Dict{String,Any}[],\"name\"=>\" \",\"metrics\"=>Dict{String,Any}(\"complexity\"=>1.0,\"centrality\"=>0,\"blocking factor\"=>0,\"delay factor\"=>1.0),\"nameSub\"=>\"Humanitites Elective\",\"id\"=>9,\"credits\"=>3,\"nameCanonical\"=>\"Humanitites Core\"), Dict(\"curriculum_requisites\"=>Dict{String,Any}[],\"name\"=>\" \",\"metrics\"=>Dict{String,Any}(\"complexity\"=>1.0,\"centrality\"=>0,\"blocking factor\"=>0,\"delay factor\"=>1.0),\"nameSub\"=>\"Social Sciences Elective\",\"id\"=>10,\"credits\"=>3,\"nameCanonical\"=>\"\")],\"id\"=>3)],\"institution\"=>\"ACME State University\")), nothing)), Set(String[]), nothing, Any[], Dict{Any,Any}(), WebIO.ConnectionPool(Channel{Any}(sz_max:9223372036854775807,sz_curr:0), Set(WebIO.AbstractConnection[]), Channel{WebIO.AbstractConnection}(sz_max:32,sz_curr:0)))"
      ]
     },
     "execution_count": 3,
     "metadata": {
      "application/vnd.webio.node+json": {
       "kernelId": "612a2187-f96f-475f-b4b4-5595b6e5042d"
      }
     },
     "output_type": "execute_result"
    },
    {
     "name": "stderr",
     "output_type": "stream",
     "text": [
      "┌ Info: Accept (3):  🔗    0↑     0↓    0s 127.0.0.1:8156:8156 ≣16\n",
      "└ @ HTTP.Servers C:\\Users\\orhan\\.julia\\packages\\HTTP\\YjRCz\\src\\Servers.jl:343\n",
      "┌ Info: Accept (4):  🔗    0↑     0↓    0s 127.0.0.1:8156:8156 ≣16\n",
      "└ @ HTTP.Servers C:\\Users\\orhan\\.julia\\packages\\HTTP\\YjRCz\\src\\Servers.jl:343\n",
      "┌ Info: Accept (5):  🔗    0↑     0↓    0s 127.0.0.1:8156:8156 ≣16\n",
      "└ @ HTTP.Servers C:\\Users\\orhan\\.julia\\packages\\HTTP\\YjRCz\\src\\Servers.jl:343\n"
     ]
    }
   ],
   "source": [
    "out = read_csv(\"examples\\\\UBW_curric.csv\")\n",
    "visualize(out, edit=true, notebook=true,show_delay=true, show_blocking=true, show_centrality=true, show_complexity=true)"
   ]
  },
  {
   "cell_type": "code",
   "execution_count": 4,
   "metadata": {
    "scrolled": false
   },
   "outputs": [
    {
     "data": {
      "application/vnd.webio.node+json": {
       "children": [
        {
         "children": [
          ""
         ],
         "instanceArgs": {
          "namespace": "html",
          "tag": "iframe"
         },
         "nodeType": "DOM",
         "props": {
          "events": {
           "load": "(function (){this.contentWindow.postMessage({\"options\":{\"hideTerms\":false,\"edit\":true},\"curriculum\":{\"name\":\"Curriculum 1\",\"dp_name\":\"\",\"curriculum_terms\":[{\"name\":\"Term 1\",\"curriculum_items\":[{\"curriculum_requisites\":[],\"name\":\"C 1\",\"metrics\":{\"centrality\":0,\"complexity\":5.0,\"blocking factor\":2,\"delay factor\":3.0},\"nameSub\":\"Course 1\",\"id\":1,\"credits\":3,\"nameCanonical\":\"Course Example 1\"},{\"curriculum_requisites\":[{\"source_id\":1,\"target_id\":2,\"type\":\"prereq\"}],\"name\":\"C 2\",\"metrics\":{\"centrality\":3,\"complexity\":4.0,\"blocking factor\":1,\"delay factor\":3.0},\"nameSub\":\"Course 2\",\"id\":2,\"credits\":2,\"nameCanonical\":\"Course Example 2\"}],\"id\":1},{\"name\":\"Term 2\",\"curriculum_items\":[{\"curriculum_requisites\":[{\"source_id\":2,\"target_id\":3,\"type\":\"prereq\"},{\"source_id\":1,\"target_id\":3,\"type\":\"prereq\"}],\"name\":\"AC 1\",\"metrics\":{\"centrality\":0,\"complexity\":3.0,\"blocking factor\":0,\"delay factor\":3.0},\"nameSub\":\"Additional Course 1\",\"id\":3,\"credits\":3,\"nameCanonical\":\"\"},{\"curriculum_requisites\":[],\"name\":\"AC 2\",\"metrics\":{\"centrality\":0,\"complexity\":1.0,\"blocking factor\":0,\"delay factor\":1.0},\"nameSub\":\"Additional Course 2\",\"id\":4,\"credits\":3,\"nameCanonical\":\"\"}],\"id\":2}],\"institution\":\"Name of the Institution\"}},\"*\"); window.removeEventListener(\"message\",window.messageReceived); window.messageReceived=(function (event){return (event.data.curriculum!==undefined) ? (_webIOScope.setObservableValue({\"name\":\"curriculum-data\",\"scope\":\"scope-003d03e3-b6b7-4bce-ae17-9eba553fcacb\",\"id\":\"ob_03\",\"type\":\"observable\"},event.data.curriculum)) : undefined}); return window.addEventListener(\"message\",window.messageReceived)})"
          },
          "id": "curriculum",
          "src": "http://localhost:8156",
          "style": {
           "border": "none",
           "height": "100vh",
           "margin": "0",
           "padding": "0",
           "width": "100%"
          }
         },
         "type": "node"
        }
       ],
       "instanceArgs": {
        "handlers": {},
        "id": "scope-003d03e3-b6b7-4bce-ae17-9eba553fcacb",
        "imports": {
         "data": [],
         "type": "async_block"
        },
        "observables": {
         "curriculum-data": {
          "id": "ob_03",
          "sync": true,
          "value": {
           "curriculum": {
            "curriculum_terms": [
             {
              "curriculum_items": [
               {
                "credits": 3,
                "curriculum_requisites": [],
                "id": 1,
                "metrics": {
                 "blocking factor": 2,
                 "centrality": 0,
                 "complexity": 5,
                 "delay factor": 3
                },
                "name": "C 1",
                "nameCanonical": "Course Example 1",
                "nameSub": "Course 1"
               },
               {
                "credits": 2,
                "curriculum_requisites": [
                 {
                  "source_id": 1,
                  "target_id": 2,
                  "type": "prereq"
                 }
                ],
                "id": 2,
                "metrics": {
                 "blocking factor": 1,
                 "centrality": 3,
                 "complexity": 4,
                 "delay factor": 3
                },
                "name": "C 2",
                "nameCanonical": "Course Example 2",
                "nameSub": "Course 2"
               }
              ],
              "id": 1,
              "name": "Term 1"
             },
             {
              "curriculum_items": [
               {
                "credits": 3,
                "curriculum_requisites": [
                 {
                  "source_id": 2,
                  "target_id": 3,
                  "type": "prereq"
                 },
                 {
                  "source_id": 1,
                  "target_id": 3,
                  "type": "prereq"
                 }
                ],
                "id": 3,
                "metrics": {
                 "blocking factor": 0,
                 "centrality": 0,
                 "complexity": 3,
                 "delay factor": 3
                },
                "name": "AC 1",
                "nameCanonical": "",
                "nameSub": "Additional Course 1"
               },
               {
                "credits": 3,
                "curriculum_requisites": [],
                "id": 4,
                "metrics": {
                 "blocking factor": 0,
                 "centrality": 0,
                 "complexity": 1,
                 "delay factor": 1
                },
                "name": "AC 2",
                "nameCanonical": "",
                "nameSub": "Additional Course 2"
               }
              ],
              "id": 2,
              "name": "Term 2"
             }
            ],
            "dp_name": "",
            "institution": "Name of the Institution",
            "name": "Curriculum 1"
           },
           "options": {
            "edit": true,
            "hideTerms": false
           }
          }
         }
        },
        "systemjs_options": null
       },
       "nodeType": "Scope",
       "props": {},
       "type": "node"
      },
      "text/html": [
       "<div\n",
       "    class=\"webio-mountpoint\"\n",
       "    data-webio-mountpoint=\"9214896981901907554\"\n",
       ">\n",
       "    <script>\n",
       "    if (window.require && require.defined && require.defined(\"nbextensions/webio/main\")) {\n",
       "        console.log(\"Jupyter WebIO extension detected, not mounting.\");\n",
       "    } else if (window.WebIO) {\n",
       "        WebIO.mount(\n",
       "            document.querySelector('[data-webio-mountpoint=\"9214896981901907554\"]'),\n",
       "            {\"props\":{},\"nodeType\":\"Scope\",\"type\":\"node\",\"instanceArgs\":{\"imports\":{\"data\":[],\"type\":\"async_block\"},\"id\":\"scope-003d03e3-b6b7-4bce-ae17-9eba553fcacb\",\"handlers\":{},\"systemjs_options\":null,\"observables\":{\"curriculum-data\":{\"sync\":true,\"id\":\"ob_03\",\"value\":{\"options\":{\"hideTerms\":false,\"edit\":true},\"curriculum\":{\"name\":\"Curriculum 1\",\"dp_name\":\"\",\"curriculum_terms\":[{\"name\":\"Term 1\",\"curriculum_items\":[{\"curriculum_requisites\":[],\"name\":\"C 1\",\"metrics\":{\"centrality\":0,\"complexity\":5.0,\"blocking factor\":2,\"delay factor\":3.0},\"nameSub\":\"Course 1\",\"id\":1,\"credits\":3,\"nameCanonical\":\"Course Example 1\"},{\"curriculum_requisites\":[{\"source_id\":1,\"target_id\":2,\"type\":\"prereq\"}],\"name\":\"C 2\",\"metrics\":{\"centrality\":3,\"complexity\":4.0,\"blocking factor\":1,\"delay factor\":3.0},\"nameSub\":\"Course 2\",\"id\":2,\"credits\":2,\"nameCanonical\":\"Course Example 2\"}],\"id\":1},{\"name\":\"Term 2\",\"curriculum_items\":[{\"curriculum_requisites\":[{\"source_id\":2,\"target_id\":3,\"type\":\"prereq\"},{\"source_id\":1,\"target_id\":3,\"type\":\"prereq\"}],\"name\":\"AC 1\",\"metrics\":{\"centrality\":0,\"complexity\":3.0,\"blocking factor\":0,\"delay factor\":3.0},\"nameSub\":\"Additional Course 1\",\"id\":3,\"credits\":3,\"nameCanonical\":\"\"},{\"curriculum_requisites\":[],\"name\":\"AC 2\",\"metrics\":{\"centrality\":0,\"complexity\":1.0,\"blocking factor\":0,\"delay factor\":1.0},\"nameSub\":\"Additional Course 2\",\"id\":4,\"credits\":3,\"nameCanonical\":\"\"}],\"id\":2}],\"institution\":\"Name of the Institution\"}}}}},\"children\":[{\"props\":{\"src\":\"http:\\/\\/localhost:8156\",\"id\":\"curriculum\",\"events\":{\"load\":\"(function (){this.contentWindow.postMessage({\\\"options\\\":{\\\"hideTerms\\\":false,\\\"edit\\\":true},\\\"curriculum\\\":{\\\"name\\\":\\\"Curriculum 1\\\",\\\"dp_name\\\":\\\"\\\",\\\"curriculum_terms\\\":[{\\\"name\\\":\\\"Term 1\\\",\\\"curriculum_items\\\":[{\\\"curriculum_requisites\\\":[],\\\"name\\\":\\\"C 1\\\",\\\"metrics\\\":{\\\"centrality\\\":0,\\\"complexity\\\":5.0,\\\"blocking factor\\\":2,\\\"delay factor\\\":3.0},\\\"nameSub\\\":\\\"Course 1\\\",\\\"id\\\":1,\\\"credits\\\":3,\\\"nameCanonical\\\":\\\"Course Example 1\\\"},{\\\"curriculum_requisites\\\":[{\\\"source_id\\\":1,\\\"target_id\\\":2,\\\"type\\\":\\\"prereq\\\"}],\\\"name\\\":\\\"C 2\\\",\\\"metrics\\\":{\\\"centrality\\\":3,\\\"complexity\\\":4.0,\\\"blocking factor\\\":1,\\\"delay factor\\\":3.0},\\\"nameSub\\\":\\\"Course 2\\\",\\\"id\\\":2,\\\"credits\\\":2,\\\"nameCanonical\\\":\\\"Course Example 2\\\"}],\\\"id\\\":1},{\\\"name\\\":\\\"Term 2\\\",\\\"curriculum_items\\\":[{\\\"curriculum_requisites\\\":[{\\\"source_id\\\":2,\\\"target_id\\\":3,\\\"type\\\":\\\"prereq\\\"},{\\\"source_id\\\":1,\\\"target_id\\\":3,\\\"type\\\":\\\"prereq\\\"}],\\\"name\\\":\\\"AC 1\\\",\\\"metrics\\\":{\\\"centrality\\\":0,\\\"complexity\\\":3.0,\\\"blocking factor\\\":0,\\\"delay factor\\\":3.0},\\\"nameSub\\\":\\\"Additional Course 1\\\",\\\"id\\\":3,\\\"credits\\\":3,\\\"nameCanonical\\\":\\\"\\\"},{\\\"curriculum_requisites\\\":[],\\\"name\\\":\\\"AC 2\\\",\\\"metrics\\\":{\\\"centrality\\\":0,\\\"complexity\\\":1.0,\\\"blocking factor\\\":0,\\\"delay factor\\\":1.0},\\\"nameSub\\\":\\\"Additional Course 2\\\",\\\"id\\\":4,\\\"credits\\\":3,\\\"nameCanonical\\\":\\\"\\\"}],\\\"id\\\":2}],\\\"institution\\\":\\\"Name of the Institution\\\"}},\\\"*\\\"); window.removeEventListener(\\\"message\\\",window.messageReceived); window.messageReceived=(function (event){return (event.data.curriculum!==undefined) ? (_webIOScope.setObservableValue({\\\"name\\\":\\\"curriculum-data\\\",\\\"scope\\\":\\\"scope-003d03e3-b6b7-4bce-ae17-9eba553fcacb\\\",\\\"id\\\":\\\"ob_03\\\",\\\"type\\\":\\\"observable\\\"},event.data.curriculum)) : undefined}); return window.addEventListener(\\\"message\\\",window.messageReceived)})\"},\"style\":{\"padding\":\"0\",\"height\":\"100vh\",\"margin\":\"0\",\"border\":\"none\",\"width\":\"100%\"}},\"nodeType\":\"DOM\",\"type\":\"node\",\"instanceArgs\":{\"namespace\":\"html\",\"tag\":\"iframe\"},\"children\":[\"\"]}]},\n",
       "        );\n",
       "    } else {\n",
       "        document\n",
       "            .querySelector('[data-webio-mountpoint=\"9214896981901907554\"]')\n",
       "            .innerHTML = '<strong>WebIO not detected.</strong>';\n",
       "    }\n",
       "    </script>\n",
       "</div>\n"
      ],
      "text/plain": [
       "WebIO.Scope(\"scope-003d03e3-b6b7-4bce-ae17-9eba553fcacb\", WebIO.Node{WebIO.DOM}(WebIO.DOM(:html, :iframe), Any[\"\"], Dict{Symbol,Any}(:src=>\"http://localhost:8156\",:id=>\"curriculum\",:events=>Dict(:load=>JSString(\"(function (){this.contentWindow.postMessage({\\\"options\\\":{\\\"hideTerms\\\":false,\\\"edit\\\":true},\\\"curriculum\\\":{\\\"name\\\":\\\"Curriculum 1\\\",\\\"dp_name\\\":\\\"\\\",\\\"curriculum_terms\\\":[{\\\"name\\\":\\\"Term 1\\\",\\\"curriculum_items\\\":[{\\\"curriculum_requisites\\\":[],\\\"name\\\":\\\"C 1\\\",\\\"metrics\\\":{\\\"centrality\\\":0,\\\"complexity\\\":5.0,\\\"blocking factor\\\":2,\\\"delay factor\\\":3.0},\\\"nameSub\\\":\\\"Course 1\\\",\\\"id\\\":1,\\\"credits\\\":3,\\\"nameCanonical\\\":\\\"Course Example 1\\\"},{\\\"curriculum_requisites\\\":[{\\\"source_id\\\":1,\\\"target_id\\\":2,\\\"type\\\":\\\"prereq\\\"}],\\\"name\\\":\\\"C 2\\\",\\\"metrics\\\":{\\\"centrality\\\":3,\\\"complexity\\\":4.0,\\\"blocking factor\\\":1,\\\"delay factor\\\":3.0},\\\"nameSub\\\":\\\"Course 2\\\",\\\"id\\\":2,\\\"credits\\\":2,\\\"nameCanonical\\\":\\\"Course Example 2\\\"}],\\\"id\\\":1},{\\\"name\\\":\\\"Term 2\\\",\\\"curriculum_items\\\":[{\\\"curriculum_requisites\\\":[{\\\"source_id\\\":2,\\\"target_id\\\":3,\\\"type\\\":\\\"prereq\\\"},{\\\"source_id\\\":1,\\\"target_id\\\":3,\\\"type\\\":\\\"prereq\\\"}],\\\"name\\\":\\\"AC 1\\\",\\\"metrics\\\":{\\\"centrality\\\":0,\\\"complexity\\\":3.0,\\\"blocking factor\\\":0,\\\"delay factor\\\":3.0},\\\"nameSub\\\":\\\"Additional Course 1\\\",\\\"id\\\":3,\\\"credits\\\":3,\\\"nameCanonical\\\":\\\"\\\"},{\\\"curriculum_requisites\\\":[],\\\"name\\\":\\\"AC 2\\\",\\\"metrics\\\":{\\\"centrality\\\":0,\\\"complexity\\\":1.0,\\\"blocking factor\\\":0,\\\"delay factor\\\":1.0},\\\"nameSub\\\":\\\"Additional Course 2\\\",\\\"id\\\":4,\\\"credits\\\":3,\\\"nameCanonical\\\":\\\"\\\"}],\\\"id\\\":2}],\\\"institution\\\":\\\"Name of the Institution\\\"}},\\\"*\\\"); window.removeEventListener(\\\"message\\\",window.messageReceived); window.messageReceived=(function (event){return (event.data.curriculum!==undefined) ? (_webIOScope.setObservableValue({\\\"name\\\":\\\"curriculum-data\\\",\\\"scope\\\":\\\"scope-003d03e3-b6b7-4bce-ae17-9eba553fcacb\\\",\\\"id\\\":\\\"ob_03\\\",\\\"type\\\":\\\"observable\\\"},event.data.curriculum)) : undefined}); return window.addEventListener(\\\"message\\\",window.messageReceived)})\")),:style=>Dict(:padding=>\"0\",:height=>\"100vh\",:margin=>\"0\",:border=>\"none\",:width=>\"100%\")), 1), Dict{String,Tuple{Observables.AbstractObservable,Union{Nothing, Bool}}}(\"curriculum-data\"=>(Observable{Dict{String,Any}} with 1 listeners. Value:\n",
       "Dict{String,Any}(\"options\"=>Dict{String,Any}(\"hideTerms\"=>false,\"edit\"=>true),\"curriculum\"=>Dict{String,Any}(\"name\"=>\"Curriculum 1\",\"dp_name\"=>\"\",\"curriculum_terms\"=>Dict{String,Any}[Dict(\"name\"=>\"Term 1\",\"curriculum_items\"=>Dict{String,Any}[Dict(\"curriculum_requisites\"=>Dict{String,Any}[],\"name\"=>\"C 1\",\"metrics\"=>Dict{String,Any}(\"centrality\"=>0,\"complexity\"=>5.0,\"blocking factor\"=>2,\"delay factor\"=>3.0),\"nameSub\"=>\"Course 1\",\"id\"=>1,\"credits\"=>3,\"nameCanonical\"=>\"Course Example 1\"), Dict(\"curriculum_requisites\"=>Dict{String,Any}[Dict(\"source_id\"=>1,\"target_id\"=>2,\"type\"=>\"prereq\")],\"name\"=>\"C 2\",\"metrics\"=>Dict{String,Any}(\"centrality\"=>3,\"complexity\"=>4.0,\"blocking factor\"=>1,\"delay factor\"=>3.0),\"nameSub\"=>\"Course 2\",\"id\"=>2,\"credits\"=>2,\"nameCanonical\"=>\"Course Example 2\")],\"id\"=>1), Dict(\"name\"=>\"Term 2\",\"curriculum_items\"=>Dict{String,Any}[Dict(\"curriculum_requisites\"=>Dict{String,Any}[Dict(\"source_id\"=>2,\"target_id\"=>3,\"type\"=>\"prereq\"), Dict(\"source_id\"=>1,\"target_id\"=>3,\"type\"=>\"prereq\")],\"name\"=>\"AC 1\",\"metrics\"=>Dict{String,Any}(\"centrality\"=>0,\"complexity\"=>3.0,\"blocking factor\"=>0,\"delay factor\"=>3.0),\"nameSub\"=>\"Additional Course 1\",\"id\"=>3,\"credits\"=>3,\"nameCanonical\"=>\"\"), Dict(\"curriculum_requisites\"=>Dict{String,Any}[],\"name\"=>\"AC 2\",\"metrics\"=>Dict{String,Any}(\"centrality\"=>0,\"complexity\"=>1.0,\"blocking factor\"=>0,\"delay factor\"=>1.0),\"nameSub\"=>\"Additional Course 2\",\"id\"=>4,\"credits\"=>3,\"nameCanonical\"=>\"\")],\"id\"=>2)],\"institution\"=>\"Name of the Institution\")), nothing)), Set(String[]), nothing, Any[], Dict{Any,Any}(), WebIO.ConnectionPool(Channel{Any}(sz_max:9223372036854775807,sz_curr:0), Set(WebIO.AbstractConnection[]), Channel{WebIO.AbstractConnection}(sz_max:32,sz_curr:0)))"
      ]
     },
     "execution_count": 4,
     "metadata": {
      "application/vnd.webio.node+json": {
       "kernelId": "612a2187-f96f-475f-b4b4-5595b6e5042d"
      }
     },
     "output_type": "execute_result"
    }
   ],
   "source": [
    "out = read_csv(\"examples\\\\template.csv\")\n",
    "#write_csv(out)\n",
    "visualize(out, changed=update_plan , edit=true, notebook=true)"
   ]
  },
  {
   "cell_type": "code",
   "execution_count": 5,
   "metadata": {},
   "outputs": [
    {
     "data": {
      "application/vnd.webio.node+json": {
       "children": [
        {
         "children": [
          ""
         ],
         "instanceArgs": {
          "namespace": "html",
          "tag": "iframe"
         },
         "nodeType": "DOM",
         "props": {
          "events": {
           "load": "(function (){this.contentWindow.postMessage({\"options\":{\"hideTerms\":false,\"edit\":true},\"curriculum\":{\"name\":\"Underwater Basket Weaving\",\"dp_name\":\"2-year plan\",\"curriculum_terms\":[{\"name\":\"Term 1\",\"curriculum_items\":[{\"curriculum_requisites\":[],\"name\":\"BW 101\",\"metrics\":{},\"nameSub\":\"Introduction to Baskets\",\"id\":1,\"credits\":3,\"nameCanonical\":\"Baskets I\"},{\"curriculum_requisites\":[],\"name\":\"PE 115\",\"metrics\":{},\"nameSub\":\"Swimming\",\"id\":2,\"credits\":3,\"nameCanonical\":\"Physical Education\"},{\"curriculum_requisites\":[],\"name\":\"MA 116\",\"metrics\":{},\"nameSub\":\"Introductory Calculus w/ Applications\",\"id\":3,\"credits\":4,\"nameCanonical\":\"Calculus I\"}],\"id\":1},{\"name\":\"Term 2\",\"curriculum_items\":[{\"curriculum_requisites\":[{\"source_id\":5,\"target_id\":4,\"type\":\"strict-coreq\"},{\"source_id\":1,\"target_id\":4,\"type\":\"prereq\"}],\"name\":\"BW 111\",\"metrics\":{},\"nameSub\":\"Basic Basket Forms\",\"id\":4,\"credits\":3,\"nameCanonical\":\"Baskets II\"},{\"curriculum_requisites\":[],\"name\":\"BW 111L\",\"metrics\":{},\"nameSub\":\"Basic Basket Forms Lab\",\"id\":5,\"credits\":1,\"nameCanonical\":\"Baskets II Laboratory\"},{\"curriculum_requisites\":[{\"source_id\":4,\"target_id\":6,\"type\":\"prereq\"},{\"source_id\":3,\"target_id\":6,\"type\":\"prereq\"},{\"source_id\":5,\"target_id\":6,\"type\":\"prereq\"}],\"name\":\"BW 201\",\"metrics\":{},\"nameSub\":\"Advanced Basketry\",\"id\":6,\"credits\":3,\"nameCanonical\":\"Baskets III\"},{\"curriculum_requisites\":[],\"name\":\" \",\"metrics\":{},\"nameSub\":\"Humanitites Elective\",\"id\":9,\"credits\":3,\"nameCanonical\":\"Humanitites Core\"}],\"id\":2},{\"name\":\"Term 3\",\"curriculum_items\":[{\"curriculum_requisites\":[{\"source_id\":1,\"target_id\":7,\"type\":\"prereq\"}],\"name\":\"BW 214\",\"metrics\":{},\"nameSub\":\"Basket Materials & Decoration\",\"id\":7,\"credits\":3,\"nameCanonical\":\"Basket Materials\"},{\"curriculum_requisites\":[{\"source_id\":7,\"target_id\":8,\"type\":\"prereq\"},{\"source_id\":2,\"target_id\":8,\"type\":\"prereq\"}],\"name\":\"BW 301\",\"metrics\":{},\"nameSub\":\"Underwater Weaving\",\"id\":8,\"credits\":3,\"nameCanonical\":\"Baskets IV\"},{\"curriculum_requisites\":[],\"name\":\" \",\"metrics\":{},\"nameSub\":\"Social Sciences Elective\",\"id\":10,\"credits\":3,\"nameCanonical\":\"\"}],\"id\":3},{\"name\":\"Term 4\",\"curriculum_items\":[{\"curriculum_requisites\":[],\"name\":\" \",\"metrics\":{},\"nameSub\":\"Technical Elective\",\"id\":11,\"credits\":3,\"nameCanonical\":\"\"},{\"curriculum_requisites\":[],\"name\":\" \",\"metrics\":{},\"nameSub\":\"General Elective\",\"id\":12,\"credits\":3,\"nameCanonical\":\"\"}],\"id\":4}],\"institution\":\"ACME State University\"}},\"*\"); window.removeEventListener(\"message\",window.messageReceived); window.messageReceived=(function (event){return (event.data.curriculum!==undefined) ? (_webIOScope.setObservableValue({\"name\":\"curriculum-data\",\"scope\":\"scope-8322691a-366b-4554-899a-289258ec6391\",\"id\":\"ob_04\",\"type\":\"observable\"},event.data.curriculum)) : undefined}); return window.addEventListener(\"message\",window.messageReceived)})"
          },
          "id": "curriculum",
          "src": "http://localhost:8156",
          "style": {
           "border": "none",
           "height": "100vh",
           "margin": "0",
           "padding": "0",
           "width": "100%"
          }
         },
         "type": "node"
        }
       ],
       "instanceArgs": {
        "handlers": {},
        "id": "scope-8322691a-366b-4554-899a-289258ec6391",
        "imports": {
         "data": [],
         "type": "async_block"
        },
        "observables": {
         "curriculum-data": {
          "id": "ob_04",
          "sync": true,
          "value": {
           "curriculum": {
            "curriculum_terms": [
             {
              "curriculum_items": [
               {
                "credits": 3,
                "curriculum_requisites": [],
                "id": 1,
                "metrics": {},
                "name": "BW 101",
                "nameCanonical": "Baskets I",
                "nameSub": "Introduction to Baskets"
               },
               {
                "credits": 3,
                "curriculum_requisites": [],
                "id": 2,
                "metrics": {},
                "name": "PE 115",
                "nameCanonical": "Physical Education",
                "nameSub": "Swimming"
               },
               {
                "credits": 4,
                "curriculum_requisites": [],
                "id": 3,
                "metrics": {},
                "name": "MA 116",
                "nameCanonical": "Calculus I",
                "nameSub": "Introductory Calculus w/ Applications"
               }
              ],
              "id": 1,
              "name": "Term 1"
             },
             {
              "curriculum_items": [
               {
                "credits": 3,
                "curriculum_requisites": [
                 {
                  "source_id": 5,
                  "target_id": 4,
                  "type": "strict-coreq"
                 },
                 {
                  "source_id": 1,
                  "target_id": 4,
                  "type": "prereq"
                 }
                ],
                "id": 4,
                "metrics": {},
                "name": "BW 111",
                "nameCanonical": "Baskets II",
                "nameSub": "Basic Basket Forms"
               },
               {
                "credits": 1,
                "curriculum_requisites": [],
                "id": 5,
                "metrics": {},
                "name": "BW 111L",
                "nameCanonical": "Baskets II Laboratory",
                "nameSub": "Basic Basket Forms Lab"
               },
               {
                "credits": 3,
                "curriculum_requisites": [
                 {
                  "source_id": 4,
                  "target_id": 6,
                  "type": "prereq"
                 },
                 {
                  "source_id": 3,
                  "target_id": 6,
                  "type": "prereq"
                 },
                 {
                  "source_id": 5,
                  "target_id": 6,
                  "type": "prereq"
                 }
                ],
                "id": 6,
                "metrics": {},
                "name": "BW 201",
                "nameCanonical": "Baskets III",
                "nameSub": "Advanced Basketry"
               },
               {
                "credits": 3,
                "curriculum_requisites": [],
                "id": 9,
                "metrics": {},
                "name": " ",
                "nameCanonical": "Humanitites Core",
                "nameSub": "Humanitites Elective"
               }
              ],
              "id": 2,
              "name": "Term 2"
             },
             {
              "curriculum_items": [
               {
                "credits": 3,
                "curriculum_requisites": [
                 {
                  "source_id": 1,
                  "target_id": 7,
                  "type": "prereq"
                 }
                ],
                "id": 7,
                "metrics": {},
                "name": "BW 214",
                "nameCanonical": "Basket Materials",
                "nameSub": "Basket Materials & Decoration"
               },
               {
                "credits": 3,
                "curriculum_requisites": [
                 {
                  "source_id": 7,
                  "target_id": 8,
                  "type": "prereq"
                 },
                 {
                  "source_id": 2,
                  "target_id": 8,
                  "type": "prereq"
                 }
                ],
                "id": 8,
                "metrics": {},
                "name": "BW 301",
                "nameCanonical": "Baskets IV",
                "nameSub": "Underwater Weaving"
               },
               {
                "credits": 3,
                "curriculum_requisites": [],
                "id": 10,
                "metrics": {},
                "name": " ",
                "nameCanonical": "",
                "nameSub": "Social Sciences Elective"
               }
              ],
              "id": 3,
              "name": "Term 3"
             },
             {
              "curriculum_items": [
               {
                "credits": 3,
                "curriculum_requisites": [],
                "id": 11,
                "metrics": {},
                "name": " ",
                "nameCanonical": "",
                "nameSub": "Technical Elective"
               },
               {
                "credits": 3,
                "curriculum_requisites": [],
                "id": 12,
                "metrics": {},
                "name": " ",
                "nameCanonical": "",
                "nameSub": "General Elective"
               }
              ],
              "id": 4,
              "name": "Term 4"
             }
            ],
            "dp_name": "2-year plan",
            "institution": "ACME State University",
            "name": "Underwater Basket Weaving"
           },
           "options": {
            "edit": true,
            "hideTerms": false
           }
          }
         }
        },
        "systemjs_options": null
       },
       "nodeType": "Scope",
       "props": {},
       "type": "node"
      },
      "text/html": [
       "<div\n",
       "    class=\"webio-mountpoint\"\n",
       "    data-webio-mountpoint=\"13925145109105420793\"\n",
       ">\n",
       "    <script>\n",
       "    if (window.require && require.defined && require.defined(\"nbextensions/webio/main\")) {\n",
       "        console.log(\"Jupyter WebIO extension detected, not mounting.\");\n",
       "    } else if (window.WebIO) {\n",
       "        WebIO.mount(\n",
       "            document.querySelector('[data-webio-mountpoint=\"13925145109105420793\"]'),\n",
       "            {\"props\":{},\"nodeType\":\"Scope\",\"type\":\"node\",\"instanceArgs\":{\"imports\":{\"data\":[],\"type\":\"async_block\"},\"id\":\"scope-8322691a-366b-4554-899a-289258ec6391\",\"handlers\":{},\"systemjs_options\":null,\"observables\":{\"curriculum-data\":{\"sync\":true,\"id\":\"ob_04\",\"value\":{\"options\":{\"hideTerms\":false,\"edit\":true},\"curriculum\":{\"name\":\"Underwater Basket Weaving\",\"dp_name\":\"2-year plan\",\"curriculum_terms\":[{\"name\":\"Term 1\",\"curriculum_items\":[{\"curriculum_requisites\":[],\"name\":\"BW 101\",\"metrics\":{},\"nameSub\":\"Introduction to Baskets\",\"id\":1,\"credits\":3,\"nameCanonical\":\"Baskets I\"},{\"curriculum_requisites\":[],\"name\":\"PE 115\",\"metrics\":{},\"nameSub\":\"Swimming\",\"id\":2,\"credits\":3,\"nameCanonical\":\"Physical Education\"},{\"curriculum_requisites\":[],\"name\":\"MA 116\",\"metrics\":{},\"nameSub\":\"Introductory Calculus w\\/ Applications\",\"id\":3,\"credits\":4,\"nameCanonical\":\"Calculus I\"}],\"id\":1},{\"name\":\"Term 2\",\"curriculum_items\":[{\"curriculum_requisites\":[{\"source_id\":5,\"target_id\":4,\"type\":\"strict-coreq\"},{\"source_id\":1,\"target_id\":4,\"type\":\"prereq\"}],\"name\":\"BW 111\",\"metrics\":{},\"nameSub\":\"Basic Basket Forms\",\"id\":4,\"credits\":3,\"nameCanonical\":\"Baskets II\"},{\"curriculum_requisites\":[],\"name\":\"BW 111L\",\"metrics\":{},\"nameSub\":\"Basic Basket Forms Lab\",\"id\":5,\"credits\":1,\"nameCanonical\":\"Baskets II Laboratory\"},{\"curriculum_requisites\":[{\"source_id\":4,\"target_id\":6,\"type\":\"prereq\"},{\"source_id\":3,\"target_id\":6,\"type\":\"prereq\"},{\"source_id\":5,\"target_id\":6,\"type\":\"prereq\"}],\"name\":\"BW 201\",\"metrics\":{},\"nameSub\":\"Advanced Basketry\",\"id\":6,\"credits\":3,\"nameCanonical\":\"Baskets III\"},{\"curriculum_requisites\":[],\"name\":\" \",\"metrics\":{},\"nameSub\":\"Humanitites Elective\",\"id\":9,\"credits\":3,\"nameCanonical\":\"Humanitites Core\"}],\"id\":2},{\"name\":\"Term 3\",\"curriculum_items\":[{\"curriculum_requisites\":[{\"source_id\":1,\"target_id\":7,\"type\":\"prereq\"}],\"name\":\"BW 214\",\"metrics\":{},\"nameSub\":\"Basket Materials & Decoration\",\"id\":7,\"credits\":3,\"nameCanonical\":\"Basket Materials\"},{\"curriculum_requisites\":[{\"source_id\":7,\"target_id\":8,\"type\":\"prereq\"},{\"source_id\":2,\"target_id\":8,\"type\":\"prereq\"}],\"name\":\"BW 301\",\"metrics\":{},\"nameSub\":\"Underwater Weaving\",\"id\":8,\"credits\":3,\"nameCanonical\":\"Baskets IV\"},{\"curriculum_requisites\":[],\"name\":\" \",\"metrics\":{},\"nameSub\":\"Social Sciences Elective\",\"id\":10,\"credits\":3,\"nameCanonical\":\"\"}],\"id\":3},{\"name\":\"Term 4\",\"curriculum_items\":[{\"curriculum_requisites\":[],\"name\":\" \",\"metrics\":{},\"nameSub\":\"Technical Elective\",\"id\":11,\"credits\":3,\"nameCanonical\":\"\"},{\"curriculum_requisites\":[],\"name\":\" \",\"metrics\":{},\"nameSub\":\"General Elective\",\"id\":12,\"credits\":3,\"nameCanonical\":\"\"}],\"id\":4}],\"institution\":\"ACME State University\"}}}}},\"children\":[{\"props\":{\"src\":\"http:\\/\\/localhost:8156\",\"id\":\"curriculum\",\"events\":{\"load\":\"(function (){this.contentWindow.postMessage({\\\"options\\\":{\\\"hideTerms\\\":false,\\\"edit\\\":true},\\\"curriculum\\\":{\\\"name\\\":\\\"Underwater Basket Weaving\\\",\\\"dp_name\\\":\\\"2-year plan\\\",\\\"curriculum_terms\\\":[{\\\"name\\\":\\\"Term 1\\\",\\\"curriculum_items\\\":[{\\\"curriculum_requisites\\\":[],\\\"name\\\":\\\"BW 101\\\",\\\"metrics\\\":{},\\\"nameSub\\\":\\\"Introduction to Baskets\\\",\\\"id\\\":1,\\\"credits\\\":3,\\\"nameCanonical\\\":\\\"Baskets I\\\"},{\\\"curriculum_requisites\\\":[],\\\"name\\\":\\\"PE 115\\\",\\\"metrics\\\":{},\\\"nameSub\\\":\\\"Swimming\\\",\\\"id\\\":2,\\\"credits\\\":3,\\\"nameCanonical\\\":\\\"Physical Education\\\"},{\\\"curriculum_requisites\\\":[],\\\"name\\\":\\\"MA 116\\\",\\\"metrics\\\":{},\\\"nameSub\\\":\\\"Introductory Calculus w\\/ Applications\\\",\\\"id\\\":3,\\\"credits\\\":4,\\\"nameCanonical\\\":\\\"Calculus I\\\"}],\\\"id\\\":1},{\\\"name\\\":\\\"Term 2\\\",\\\"curriculum_items\\\":[{\\\"curriculum_requisites\\\":[{\\\"source_id\\\":5,\\\"target_id\\\":4,\\\"type\\\":\\\"strict-coreq\\\"},{\\\"source_id\\\":1,\\\"target_id\\\":4,\\\"type\\\":\\\"prereq\\\"}],\\\"name\\\":\\\"BW 111\\\",\\\"metrics\\\":{},\\\"nameSub\\\":\\\"Basic Basket Forms\\\",\\\"id\\\":4,\\\"credits\\\":3,\\\"nameCanonical\\\":\\\"Baskets II\\\"},{\\\"curriculum_requisites\\\":[],\\\"name\\\":\\\"BW 111L\\\",\\\"metrics\\\":{},\\\"nameSub\\\":\\\"Basic Basket Forms Lab\\\",\\\"id\\\":5,\\\"credits\\\":1,\\\"nameCanonical\\\":\\\"Baskets II Laboratory\\\"},{\\\"curriculum_requisites\\\":[{\\\"source_id\\\":4,\\\"target_id\\\":6,\\\"type\\\":\\\"prereq\\\"},{\\\"source_id\\\":3,\\\"target_id\\\":6,\\\"type\\\":\\\"prereq\\\"},{\\\"source_id\\\":5,\\\"target_id\\\":6,\\\"type\\\":\\\"prereq\\\"}],\\\"name\\\":\\\"BW 201\\\",\\\"metrics\\\":{},\\\"nameSub\\\":\\\"Advanced Basketry\\\",\\\"id\\\":6,\\\"credits\\\":3,\\\"nameCanonical\\\":\\\"Baskets III\\\"},{\\\"curriculum_requisites\\\":[],\\\"name\\\":\\\" \\\",\\\"metrics\\\":{},\\\"nameSub\\\":\\\"Humanitites Elective\\\",\\\"id\\\":9,\\\"credits\\\":3,\\\"nameCanonical\\\":\\\"Humanitites Core\\\"}],\\\"id\\\":2},{\\\"name\\\":\\\"Term 3\\\",\\\"curriculum_items\\\":[{\\\"curriculum_requisites\\\":[{\\\"source_id\\\":1,\\\"target_id\\\":7,\\\"type\\\":\\\"prereq\\\"}],\\\"name\\\":\\\"BW 214\\\",\\\"metrics\\\":{},\\\"nameSub\\\":\\\"Basket Materials & Decoration\\\",\\\"id\\\":7,\\\"credits\\\":3,\\\"nameCanonical\\\":\\\"Basket Materials\\\"},{\\\"curriculum_requisites\\\":[{\\\"source_id\\\":7,\\\"target_id\\\":8,\\\"type\\\":\\\"prereq\\\"},{\\\"source_id\\\":2,\\\"target_id\\\":8,\\\"type\\\":\\\"prereq\\\"}],\\\"name\\\":\\\"BW 301\\\",\\\"metrics\\\":{},\\\"nameSub\\\":\\\"Underwater Weaving\\\",\\\"id\\\":8,\\\"credits\\\":3,\\\"nameCanonical\\\":\\\"Baskets IV\\\"},{\\\"curriculum_requisites\\\":[],\\\"name\\\":\\\" \\\",\\\"metrics\\\":{},\\\"nameSub\\\":\\\"Social Sciences Elective\\\",\\\"id\\\":10,\\\"credits\\\":3,\\\"nameCanonical\\\":\\\"\\\"}],\\\"id\\\":3},{\\\"name\\\":\\\"Term 4\\\",\\\"curriculum_items\\\":[{\\\"curriculum_requisites\\\":[],\\\"name\\\":\\\" \\\",\\\"metrics\\\":{},\\\"nameSub\\\":\\\"Technical Elective\\\",\\\"id\\\":11,\\\"credits\\\":3,\\\"nameCanonical\\\":\\\"\\\"},{\\\"curriculum_requisites\\\":[],\\\"name\\\":\\\" \\\",\\\"metrics\\\":{},\\\"nameSub\\\":\\\"General Elective\\\",\\\"id\\\":12,\\\"credits\\\":3,\\\"nameCanonical\\\":\\\"\\\"}],\\\"id\\\":4}],\\\"institution\\\":\\\"ACME State University\\\"}},\\\"*\\\"); window.removeEventListener(\\\"message\\\",window.messageReceived); window.messageReceived=(function (event){return (event.data.curriculum!==undefined) ? (_webIOScope.setObservableValue({\\\"name\\\":\\\"curriculum-data\\\",\\\"scope\\\":\\\"scope-8322691a-366b-4554-899a-289258ec6391\\\",\\\"id\\\":\\\"ob_04\\\",\\\"type\\\":\\\"observable\\\"},event.data.curriculum)) : undefined}); return window.addEventListener(\\\"message\\\",window.messageReceived)})\"},\"style\":{\"padding\":\"0\",\"height\":\"100vh\",\"margin\":\"0\",\"border\":\"none\",\"width\":\"100%\"}},\"nodeType\":\"DOM\",\"type\":\"node\",\"instanceArgs\":{\"namespace\":\"html\",\"tag\":\"iframe\"},\"children\":[\"\"]}]},\n",
       "        );\n",
       "    } else {\n",
       "        document\n",
       "            .querySelector('[data-webio-mountpoint=\"13925145109105420793\"]')\n",
       "            .innerHTML = '<strong>WebIO not detected.</strong>';\n",
       "    }\n",
       "    </script>\n",
       "</div>\n"
      ],
      "text/plain": [
       "WebIO.Scope(\"scope-8322691a-366b-4554-899a-289258ec6391\", WebIO.Node{WebIO.DOM}(WebIO.DOM(:html, :iframe), Any[\"\"], Dict{Symbol,Any}(:src=>\"http://localhost:8156\",:id=>\"curriculum\",:events=>Dict(:load=>JSString(\"(function (){this.contentWindow.postMessage({\\\"options\\\":{\\\"hideTerms\\\":false,\\\"edit\\\":true},\\\"curriculum\\\":{\\\"name\\\":\\\"Underwater Basket Weaving\\\",\\\"dp_name\\\":\\\"2-year plan\\\",\\\"curriculum_terms\\\":[{\\\"name\\\":\\\"Term 1\\\",\\\"curriculum_items\\\":[{\\\"curriculum_requisites\\\":[],\\\"name\\\":\\\"BW 101\\\",\\\"metrics\\\":{},\\\"nameSub\\\":\\\"Introduction to Baskets\\\",\\\"id\\\":1,\\\"credits\\\":3,\\\"nameCanonical\\\":\\\"Baskets I\\\"},{\\\"curriculum_requisites\\\":[],\\\"name\\\":\\\"PE 115\\\",\\\"metrics\\\":{},\\\"nameSub\\\":\\\"Swimming\\\",\\\"id\\\":2,\\\"credits\\\":3,\\\"nameCanonical\\\":\\\"Physical Education\\\"},{\\\"curriculum_requisites\\\":[],\\\"name\\\":\\\"MA 116\\\",\\\"metrics\\\":{},\\\"nameSub\\\":\\\"Introductory Calculus w/ Applications\\\",\\\"id\\\":3,\\\"credits\\\":4,\\\"nameCanonical\\\":\\\"Calculus I\\\"}],\\\"id\\\":1},{\\\"name\\\":\\\"Term 2\\\",\\\"curriculum_items\\\":[{\\\"curriculum_requisites\\\":[{\\\"source_id\\\":5,\\\"target_id\\\":4,\\\"type\\\":\\\"strict-coreq\\\"},{\\\"source_id\\\":1,\\\"target_id\\\":4,\\\"type\\\":\\\"prereq\\\"}],\\\"name\\\":\\\"BW 111\\\",\\\"metrics\\\":{},\\\"nameSub\\\":\\\"Basic Basket Forms\\\",\\\"id\\\":4,\\\"credits\\\":3,\\\"nameCanonical\\\":\\\"Baskets II\\\"},{\\\"curriculum_requisites\\\":[],\\\"name\\\":\\\"BW 111L\\\",\\\"metrics\\\":{},\\\"nameSub\\\":\\\"Basic Basket Forms Lab\\\",\\\"id\\\":5,\\\"credits\\\":1,\\\"nameCanonical\\\":\\\"Baskets II Laboratory\\\"},{\\\"curriculum_requisites\\\":[{\\\"source_id\\\":4,\\\"target_id\\\":6,\\\"type\\\":\\\"prereq\\\"},{\\\"source_id\\\":3,\\\"target_id\\\":6,\\\"type\\\":\\\"prereq\\\"},{\\\"source_id\\\":5,\\\"target_id\\\":6,\\\"type\\\":\\\"prereq\\\"}],\\\"name\\\":\\\"BW 201\\\",\\\"metrics\\\":{},\\\"nameSub\\\":\\\"Advanced Basketry\\\",\\\"id\\\":6,\\\"credits\\\":3,\\\"nameCanonical\\\":\\\"Baskets III\\\"},{\\\"curriculum_requisites\\\":[],\\\"name\\\":\\\" \\\",\\\"metrics\\\":{},\\\"nameSub\\\":\\\"Humanitites Elective\\\",\\\"id\\\":9,\\\"credits\\\":3,\\\"nameCanonical\\\":\\\"Humanitites Core\\\"}],\\\"id\\\":2},{\\\"name\\\":\\\"Term 3\\\",\\\"curriculum_items\\\":[{\\\"curriculum_requisites\\\":[{\\\"source_id\\\":1,\\\"target_id\\\":7,\\\"type\\\":\\\"prereq\\\"}],\\\"name\\\":\\\"BW 214\\\",\\\"metrics\\\":{},\\\"nameSub\\\":\\\"Basket Materials & Decoration\\\",\\\"id\\\":7,\\\"credits\\\":3,\\\"nameCanonical\\\":\\\"Basket Materials\\\"},{\\\"curriculum_requisites\\\":[{\\\"source_id\\\":7,\\\"target_id\\\":8,\\\"type\\\":\\\"prereq\\\"},{\\\"source_id\\\":2,\\\"target_id\\\":8,\\\"type\\\":\\\"prereq\\\"}],\\\"name\\\":\\\"BW 301\\\",\\\"metrics\\\":{},\\\"nameSub\\\":\\\"Underwater Weaving\\\",\\\"id\\\":8,\\\"credits\\\":3,\\\"nameCanonical\\\":\\\"Baskets IV\\\"},{\\\"curriculum_requisites\\\":[],\\\"name\\\":\\\" \\\",\\\"metrics\\\":{},\\\"nameSub\\\":\\\"Social Sciences Elective\\\",\\\"id\\\":10,\\\"credits\\\":3,\\\"nameCanonical\\\":\\\"\\\"}],\\\"id\\\":3},{\\\"name\\\":\\\"Term 4\\\",\\\"curriculum_items\\\":[{\\\"curriculum_requisites\\\":[],\\\"name\\\":\\\" \\\",\\\"metrics\\\":{},\\\"nameSub\\\":\\\"Technical Elective\\\",\\\"id\\\":11,\\\"credits\\\":3,\\\"nameCanonical\\\":\\\"\\\"},{\\\"curriculum_requisites\\\":[],\\\"name\\\":\\\" \\\",\\\"metrics\\\":{},\\\"nameSub\\\":\\\"General Elective\\\",\\\"id\\\":12,\\\"credits\\\":3,\\\"nameCanonical\\\":\\\"\\\"}],\\\"id\\\":4}],\\\"institution\\\":\\\"ACME State University\\\"}},\\\"*\\\"); window.removeEventListener(\\\"message\\\",window.messageReceived); window.messageReceived=(function (event){return (event.data.curriculum!==undefined) ? (_webIOScope.setObservableValue({\\\"name\\\":\\\"curriculum-data\\\",\\\"scope\\\":\\\"scope-8322691a-366b-4554-899a-289258ec6391\\\",\\\"id\\\":\\\"ob_04\\\",\\\"type\\\":\\\"observable\\\"},event.data.curriculum)) : undefined}); return window.addEventListener(\\\"message\\\",window.messageReceived)})\")),:style=>Dict(:padding=>\"0\",:height=>\"100vh\",:margin=>\"0\",:border=>\"none\",:width=>\"100%\")), 1), Dict{String,Tuple{Observables.AbstractObservable,Union{Nothing, Bool}}}(\"curriculum-data\"=>(Observable{Dict{String,Any}} with 1 listeners. Value:\n",
       "Dict{String,Any}(\"options\"=>Dict{String,Any}(\"hideTerms\"=>false,\"edit\"=>true),\"curriculum\"=>Dict{String,Any}(\"name\"=>\"Underwater Basket Weaving\",\"dp_name\"=>\"2-year plan\",\"curriculum_terms\"=>Dict{String,Any}[Dict(\"name\"=>\"Term 1\",\"curriculum_items\"=>Dict{String,Any}[Dict(\"curriculum_requisites\"=>Dict{String,Any}[],\"name\"=>\"BW 101\",\"metrics\"=>Dict{String,Any}(),\"nameSub\"=>\"Introduction to Baskets\",\"id\"=>1,\"credits\"=>3,\"nameCanonical\"=>\"Baskets I\"), Dict(\"curriculum_requisites\"=>Dict{String,Any}[],\"name\"=>\"PE 115\",\"metrics\"=>Dict{String,Any}(),\"nameSub\"=>\"Swimming\",\"id\"=>2,\"credits\"=>3,\"nameCanonical\"=>\"Physical Education\"), Dict(\"curriculum_requisites\"=>Dict{String,Any}[],\"name\"=>\"MA 116\",\"metrics\"=>Dict{String,Any}(),\"nameSub\"=>\"Introductory Calculus w/ Applications\",\"id\"=>3,\"credits\"=>4,\"nameCanonical\"=>\"Calculus I\")],\"id\"=>1), Dict(\"name\"=>\"Term 2\",\"curriculum_items\"=>Dict{String,Any}[Dict(\"curriculum_requisites\"=>Dict{String,Any}[Dict(\"source_id\"=>5,\"target_id\"=>4,\"type\"=>\"strict-coreq\"), Dict(\"source_id\"=>1,\"target_id\"=>4,\"type\"=>\"prereq\")],\"name\"=>\"BW 111\",\"metrics\"=>Dict{String,Any}(),\"nameSub\"=>\"Basic Basket Forms\",\"id\"=>4,\"credits\"=>3,\"nameCanonical\"=>\"Baskets II\"), Dict(\"curriculum_requisites\"=>Dict{String,Any}[],\"name\"=>\"BW 111L\",\"metrics\"=>Dict{String,Any}(),\"nameSub\"=>\"Basic Basket Forms Lab\",\"id\"=>5,\"credits\"=>1,\"nameCanonical\"=>\"Baskets II Laboratory\"), Dict(\"curriculum_requisites\"=>Dict{String,Any}[Dict(\"source_id\"=>4,\"target_id\"=>6,\"type\"=>\"prereq\"), Dict(\"source_id\"=>3,\"target_id\"=>6,\"type\"=>\"prereq\"), Dict(\"source_id\"=>5,\"target_id\"=>6,\"type\"=>\"prereq\")],\"name\"=>\"BW 201\",\"metrics\"=>Dict{String,Any}(),\"nameSub\"=>\"Advanced Basketry\",\"id\"=>6,\"credits\"=>3,\"nameCanonical\"=>\"Baskets III\"), Dict(\"curriculum_requisites\"=>Dict{String,Any}[],\"name\"=>\" \",\"metrics\"=>Dict{String,Any}(),\"nameSub\"=>\"Humanitites Elective\",\"id\"=>9,\"credits\"=>3,\"nameCanonical\"=>\"Humanitites Core\")],\"id\"=>2), Dict(\"name\"=>\"Term 3\",\"curriculum_items\"=>Dict{String,Any}[Dict(\"curriculum_requisites\"=>Dict{String,Any}[Dict(\"source_id\"=>1,\"target_id\"=>7,\"type\"=>\"prereq\")],\"name\"=>\"BW 214\",\"metrics\"=>Dict{String,Any}(),\"nameSub\"=>\"Basket Materials & Decoration\",\"id\"=>7,\"credits\"=>3,\"nameCanonical\"=>\"Basket Materials\"), Dict(\"curriculum_requisites\"=>Dict{String,Any}[Dict(\"source_id\"=>7,\"target_id\"=>8,\"type\"=>\"prereq\"), Dict(\"source_id\"=>2,\"target_id\"=>8,\"type\"=>\"prereq\")],\"name\"=>\"BW 301\",\"metrics\"=>Dict{String,Any}(),\"nameSub\"=>\"Underwater Weaving\",\"id\"=>8,\"credits\"=>3,\"nameCanonical\"=>\"Baskets IV\"), Dict(\"curriculum_requisites\"=>Dict{String,Any}[],\"name\"=>\" \",\"metrics\"=>Dict{String,Any}(),\"nameSub\"=>\"Social Sciences Elective\",\"id\"=>10,\"credits\"=>3,\"nameCanonical\"=>\"\")],\"id\"=>3), Dict(\"name\"=>\"Term 4\",\"curriculum_items\"=>Dict{String,Any}[Dict(\"curriculum_requisites\"=>Dict{String,Any}[],\"name\"=>\" \",\"metrics\"=>Dict{String,Any}(),\"nameSub\"=>\"Technical Elective\",\"id\"=>11,\"credits\"=>3,\"nameCanonical\"=>\"\"), Dict(\"curriculum_requisites\"=>Dict{String,Any}[],\"name\"=>\" \",\"metrics\"=>Dict{String,Any}(),\"nameSub\"=>\"General Elective\",\"id\"=>12,\"credits\"=>3,\"nameCanonical\"=>\"\")],\"id\"=>4)],\"institution\"=>\"ACME State University\")), nothing)), Set(String[]), nothing, Any[], Dict{Any,Any}(), WebIO.ConnectionPool(Channel{Any}(sz_max:9223372036854775807,sz_curr:0), Set(WebIO.AbstractConnection[]), Channel{WebIO.AbstractConnection}(sz_max:32,sz_curr:0)))"
      ]
     },
     "execution_count": 5,
     "metadata": {
      "application/vnd.webio.node+json": {
       "kernelId": "612a2187-f96f-475f-b4b4-5595b6e5042d"
      }
     },
     "output_type": "execute_result"
    }
   ],
   "source": [
    "out = read_csv(\"examples\\\\UBW_degree_plan.csv\")\n",
    "#write_csv(out)\n",
    "visualize(out, changed=update_plan , edit=true, notebook=true, \n",
    "    show_blocking=false, show_delay=false,\n",
    "    show_centrality=false, show_complexity = false)"
   ]
  },
  {
   "cell_type": "code",
   "execution_count": 6,
   "metadata": {},
   "outputs": [
    {
     "ename": "String",
     "evalue": "\"Curriculum cannot have term information.\"",
     "output_type": "error",
     "traceback": [
      "\"Curriculum cannot have term information.\"",
      "",
      "Stacktrace:",
      " [1] (::getfield(CurricularAnalytics, Symbol(\"##22#26\")){Dict{String,Degree},Dict{String,System}})(::IOStream) at C:\\Users\\orhan\\Desktop\\JuliaRelated\\11-27-18-Development\\CurricularAnalytics.jl\\src\\DataHandler.jl:583",
      " [2] #open#294(::Base.Iterators.Pairs{Union{},Union{},Tuple{},NamedTuple{(),Tuple{}}}, ::Function, ::getfield(CurricularAnalytics, Symbol(\"##22#26\")){Dict{String,Degree},Dict{String,System}}, ::String) at .\\iostream.jl:369",
      " [3] open(::Function, ::String) at .\\iostream.jl:367",
      " [4] read_csv(::String) at C:\\Users\\orhan\\Desktop\\JuliaRelated\\11-27-18-Development\\CurricularAnalytics.jl\\src\\DataHandler.jl:528",
      " [5] top-level scope at In[6]:1"
     ]
    }
   ],
   "source": [
    "out = read_csv(\"examples\\\\UBW_curriculum2.csv\")\n",
    "#write_csv(out)\n",
    "visualize(out, changed=update_plan , edit=false, notebook=true, \n",
    "    show_blocking=false, show_delay=false,\n",
    "    show_centrality=false, show_complexity = false)"
   ]
  },
  {
   "cell_type": "code",
   "execution_count": 7,
   "metadata": {},
   "outputs": [
    {
     "data": {
      "text/plain": [
       "Blink.AtomShell.Window(1, Blink.AtomShell.Electron(Process(`\u001b[4m'C:\\Users\\orhan\\.julia\\packages\\Blink\\vKGzM\\deps\\atom\\electron.exe'\u001b[24m \u001b[4m'C:\\Users\\orhan\\.julia\\packages\\Blink\\vKGzM\\src\\AtomShell\\main.js'\u001b[24m \u001b[4mport\u001b[24m \u001b[4m2101\u001b[24m`, ProcessRunning), Sockets.TCPSocket(Base.Libc.WindowsRawSocket(0x0000000000000550) active, 0 bytes waiting), Dict{String,Any}(\"callback\"=>##1#2())), Blink.Page(1, WebSockets.WebSocket{Sockets.TCPSocket}(Sockets.TCPSocket(Base.Libc.WindowsRawSocket(0x00000000000005e8) active, 0 bytes waiting), true, CONNECTED::ReadyState = 1), Dict{String,Any}(\"webio\"=>##95#96{BlinkConnection}(BlinkConnection(Page(#= circular reference @-4 =#))),\"callback\"=>##1#2()), Distributed.Future(1, 1, 1, Some(true))))"
      ]
     },
     "execution_count": 7,
     "metadata": {},
     "output_type": "execute_result"
    },
    {
     "name": "stderr",
     "output_type": "stream",
     "text": [
      "┌ Info: Accept (6):  🔗    0↑     0↓    0s 127.0.0.1:8156:8156 ≣16\n",
      "└ @ HTTP.Servers C:\\Users\\orhan\\.julia\\packages\\HTTP\\YjRCz\\src\\Servers.jl:343\n",
      "┌ Info: Accept (7):  🔗    0↑     0↓    0s 127.0.0.1:8156:8156 ≣16\n",
      "└ @ HTTP.Servers C:\\Users\\orhan\\.julia\\packages\\HTTP\\YjRCz\\src\\Servers.jl:343\n",
      "┌ Info: Accept (8):  🔗    0↑     0↓    0s 127.0.0.1:8156:8156 ≣16\n",
      "└ @ HTTP.Servers C:\\Users\\orhan\\.julia\\packages\\HTTP\\YjRCz\\src\\Servers.jl:343\n",
      "┌ Info: Accept (9):  🔗    0↑     0↓    0s 127.0.0.1:8156:8156 ≣16\n",
      "└ @ HTTP.Servers C:\\Users\\orhan\\.julia\\packages\\HTTP\\YjRCz\\src\\Servers.jl:343\n",
      "┌ Info: Closed (5):  💀    2↑     2↓🔒 303s 127.0.0.1:8156:8156 ≣16\n",
      "└ @ HTTP.Servers C:\\Users\\orhan\\.julia\\packages\\HTTP\\YjRCz\\src\\Servers.jl:351\n",
      "┌ Info: Closed (4):  💀    4↑     4↓🔒 302s 127.0.0.1:8156:8156 ≣16\n",
      "└ @ HTTP.Servers C:\\Users\\orhan\\.julia\\packages\\HTTP\\YjRCz\\src\\Servers.jl:351\n",
      "┌ Info: Closed (3):  💀    2↑     2↓🔒 302s 127.0.0.1:8156:8156 ≣16\n",
      "└ @ HTTP.Servers C:\\Users\\orhan\\.julia\\packages\\HTTP\\YjRCz\\src\\Servers.jl:351\n",
      "┌ Info: Closed (0):  💀    6↑     6↓🔒 302s 127.0.0.1:8156:8156 ≣16\n",
      "└ @ HTTP.Servers C:\\Users\\orhan\\.julia\\packages\\HTTP\\YjRCz\\src\\Servers.jl:351\n",
      "┌ Info: Closed (1):  💀    6↑     6↓🔒 302s 127.0.0.1:8156:8156 ≣16\n",
      "└ @ HTTP.Servers C:\\Users\\orhan\\.julia\\packages\\HTTP\\YjRCz\\src\\Servers.jl:351\n",
      "┌ Info: Closed (9):  💀    0↑     0↓🔒 886s 127.0.0.1:8156:8156 ≣16\n",
      "└ @ HTTP.Servers C:\\Users\\orhan\\.julia\\packages\\HTTP\\YjRCz\\src\\Servers.jl:351\n",
      "┌ Info: Closed (8):  💀    0↑     0↓🔒 886s 127.0.0.1:8156:8156 ≣16\n",
      "└ @ HTTP.Servers C:\\Users\\orhan\\.julia\\packages\\HTTP\\YjRCz\\src\\Servers.jl:351\n",
      "┌ Info: Closed (6):  💀    2↑     2↓🔒 886s 127.0.0.1:8156:8156 ≣16\n",
      "└ @ HTTP.Servers C:\\Users\\orhan\\.julia\\packages\\HTTP\\YjRCz\\src\\Servers.jl:351\n",
      "┌ Info: Closed (7):  💀    3↑     3↓🔒 886s 127.0.0.1:8156:8156 ≣16\n",
      "└ @ HTTP.Servers C:\\Users\\orhan\\.julia\\packages\\HTTP\\YjRCz\\src\\Servers.jl:351\n"
     ]
    }
   ],
   "source": [
    "out = read_csv(\"examples\\\\WSU-EE-PrecalcReady.csv\")\n",
    "#write_csv(out)\n",
    "visualize(out, changed=update_plan , edit=true, notebook=false, \n",
    "    show_blocking=false, show_delay=false,\n",
    "    show_centrality=false, show_complexity = false)"
   ]
  },
  {
   "cell_type": "code",
   "execution_count": null,
   "metadata": {},
   "outputs": [],
   "source": []
  }
 ],
 "metadata": {
  "@webio": {
   "lastCommId": "fbcb508106dd497e811730c9be6e3d32",
   "lastKernelId": "612a2187-f96f-475f-b4b4-5595b6e5042d"
  },
  "kernelspec": {
   "display_name": "Julia 1.0.1",
   "language": "julia",
   "name": "julia-1.0"
  },
  "language_info": {
   "file_extension": ".jl",
   "mimetype": "application/julia",
   "name": "julia",
   "version": "1.0.1"
  }
 },
 "nbformat": 4,
 "nbformat_minor": 2
}

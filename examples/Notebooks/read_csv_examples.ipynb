{
 "cells": [
  {
   "cell_type": "code",
   "execution_count": 1,
   "metadata": {},
   "outputs": [
    {
     "name": "stdout",
     "output_type": "stream",
     "text": [
      "Current directory: /Users/orhanabar/Desktop/CA_Project/CurricularAnalytics.jl\n"
     ]
    },
    {
     "name": "stderr",
     "output_type": "stream",
     "text": [
      "┌ Info: Recompiling stale cache file /Users/orhanabar/.julia/compiled/v1.0/CurricularAnalytics/KKMY9.ji for CurricularAnalytics [b915a5b0-c40e-11e8-3dab-39a55ab5c2f7]\n",
      "└ @ Base loading.jl:1190\n"
     ]
    },
    {
     "data": {
      "text/html": [
       "    <script id=\"webio-setup-8537614616423421010\">\n",
       "    // Immediately-invoked-function-expression to avoid global variables.\n",
       "    (function() {\n",
       "        var warning_div = document.getElementById(\"webio-warning-1924563403620258424\");\n",
       "        var hide = function () {\n",
       "            var script = document.getElementById(\"webio-setup-8537614616423421010\");\n",
       "            var parent = script && script.parentElement;\n",
       "            var grandparent = parent && parent.parentElement;\n",
       "            if (grandparent) {\n",
       "                grandparent.style.display = \"none\";\n",
       "            }\n",
       "            warning_div.style.display = \"none\";\n",
       "        };\n",
       "        if (window.require && require.defined) {\n",
       "            // Jupyter notebook.\n",
       "            if (require.defined(\"nbextensions/webio/main\")\n",
       "                    || require.defined(\"/assetserver/aed209047cbd07a7dfe044357377772902d2fc87-dist/main.js\")) {\n",
       "                // Extension already loaded.\n",
       "                hide();\n",
       "                return;\n",
       "            }\n",
       "            console.warn(\"Loading WebIO Jupyter extension on an ad-hoc basis. Consider enabling the WebIO nbextension for a stabler experience (this should happen automatically when building WebIO).\");\n",
       "            require([\"/assetserver/aed209047cbd07a7dfe044357377772902d2fc87-dist/main.js\"], function (webIOModule) {\n",
       "                webIOModule.load_ipython_extension();\n",
       "            });\n",
       "            warning_div.innerHTML = \"<strong>Loading WebIO Jupyter extension on an ad-hoc basis. Consider enabling the WebIO nbextension for a stabler experience (this should happen automatically when building WebIO).</strong>\";\n",
       "        } else if (window.location.pathname.includes(\"/lab\")) {\n",
       "            // Guessing JupyterLab\n",
       "            warning_div.innerHTML = \"WebIO does not support JupyterLab yet.\";\n",
       "        }\n",
       "    })();\n",
       "    </script>\n",
       "    <div\n",
       "        id=\"webio-warning-1924563403620258424\"\n",
       "        class=\"output_text output_stderr\"\n",
       "        style=\"padding: 1em; font-weight: bold;\"\n",
       "    >\n",
       "        Unable to load WebIO. Please make sure WebIO works for your Jupyter client.\n",
       "        <!-- TODO: link to installation docs. -->\n",
       "    </div>\n"
      ],
      "text/plain": [
       "HTML{String}(\"    <script id=\\\"webio-setup-8537614616423421010\\\">\\n    // Immediately-invoked-function-expression to avoid global variables.\\n    (function() {\\n        var warning_div = document.getElementById(\\\"webio-warning-1924563403620258424\\\");\\n        var hide = function () {\\n            var script = document.getElementById(\\\"webio-setup-8537614616423421010\\\");\\n            var parent = script && script.parentElement;\\n            var grandparent = parent && parent.parentElement;\\n            if (grandparent) {\\n                grandparent.style.display = \\\"none\\\";\\n            }\\n            warning_div.style.display = \\\"none\\\";\\n        };\\n        if (window.require && require.defined) {\\n            // Jupyter notebook.\\n            if (require.defined(\\\"nbextensions/webio/main\\\")\\n                    || require.defined(\\\"/assetserver/aed209047cbd07a7dfe044357377772902d2fc87-dist/main.js\\\")) {\\n                // Extension already loaded.\\n                hide();\\n                return;\\n            }\\n            console.warn(\\\"Loading WebIO Jupyter extension on an ad-hoc basis. Consider enabling the WebIO nbextension for a stabler experience (this should happen automatically when building WebIO).\\\");\\n            require([\\\"/assetserver/aed209047cbd07a7dfe044357377772902d2fc87-dist/main.js\\\"], function (webIOModule) {\\n                webIOModule.load_ipython_extension();\\n            });\\n            warning_div.innerHTML = \\\"<strong>Loading WebIO Jupyter extension on an ad-hoc basis. Consider enabling the WebIO nbextension for a stabler experience (this should happen automatically when building WebIO).</strong>\\\";\\n        } else if (window.location.pathname.includes(\\\"/lab\\\")) {\\n            // Guessing JupyterLab\\n            warning_div.innerHTML = \\\"WebIO does not support JupyterLab yet.\\\";\\n        }\\n    })();\\n    </script>\\n    <div\\n        id=\\\"webio-warning-1924563403620258424\\\"\\n        class=\\\"output_text output_stderr\\\"\\n        style=\\\"padding: 1em; font-weight: bold;\\\"\\n    >\\n        Unable to load WebIO. Please make sure WebIO works for your Jupyter client.\\n        <!-- TODO: link to installation docs. -->\\n    </div>\\n\")"
      ]
     },
     "metadata": {},
     "output_type": "display_data"
    }
   ],
   "source": [
    "if split(pwd(),Base.Filesystem.path_separator)[end] != \"CurricularAnalytics.jl\"\n",
    "    cd(\"../..\")\n",
    "end\n",
    "println(\"Current directory: \" * split(pwd(),\"\\\\\")[end])\n",
    "using Pkg\n",
    "pkg\"activate .\"\n",
    "using CurricularAnalytics"
   ]
  },
  {
   "cell_type": "code",
   "execution_count": 2,
   "metadata": {
    "scrolled": false
   },
   "outputs": [
    {
     "data": {
      "application/vnd.webio.node+json": {
       "children": [
        {
         "children": [
          ""
         ],
         "instanceArgs": {
          "namespace": "html",
          "tag": "iframe"
         },
         "nodeType": "DOM",
         "props": {
          "events": {
           "load": "(function (){this.contentWindow.postMessage({\"options\":{\"hideTerms\":true,\"edit\":true},\"curriculum\":{\"name\":\"University of Kentucky EE Program\",\"dp_name\":\"\",\"curriculum_terms\":[{\"name\":\"Term 1\",\"curriculum_items\":[{\"curriculum_requisites\":[],\"name\":\"MA 113\",\"metrics\":{},\"nameSub\":\"Calculus I\",\"id\":3389674827,\"credits\":4,\"nameCanonical\":\"\"},{\"curriculum_requisites\":[{\"source_id\":3389674827,\"target_id\":2865398329,\"type\":\"coreq\"}],\"name\":\"PHY 231\",\"metrics\":{},\"nameSub\":\"General University Physics\",\"id\":2865398329,\"credits\":4,\"nameCanonical\":\"\"},{\"curriculum_requisites\":[],\"name\":\"EGR 102\",\"metrics\":{},\"nameSub\":\"Fundamentals of Engineering Computing\",\"id\":502542156,\"credits\":2,\"nameCanonical\":\"\"},{\"curriculum_requisites\":[],\"name\":\"CHE 105\",\"metrics\":{},\"nameSub\":\"General College Chemistry I\",\"id\":738464693,\"credits\":4,\"nameCanonical\":\"\"},{\"curriculum_requisites\":[{\"source_id\":2865398329,\"target_id\":746915474,\"type\":\"coreq\"}],\"name\":\"PHY 241\",\"metrics\":{},\"nameSub\":\"General University Physics Lab\",\"id\":746915474,\"credits\":1,\"nameCanonical\":\"\"},{\"curriculum_requisites\":[],\"name\":\"CIS/WRD 110\",\"metrics\":{},\"nameSub\":\"Composition and Communication I\",\"id\":858428248,\"credits\":3,\"nameCanonical\":\"\"},{\"curriculum_requisites\":[],\"name\":\"EE 490\",\"metrics\":{},\"nameSub\":\"EE Capstone Design\",\"id\":1116551982,\"credits\":3,\"nameCanonical\":\"\"},{\"curriculum_requisites\":[],\"name\":\"EGR 101\",\"metrics\":{},\"nameSub\":\"Engineering Exploration I\",\"id\":2071595408,\"credits\":1,\"nameCanonical\":\"\"}],\"id\":1},{\"name\":\"Term 2\",\"curriculum_items\":[{\"curriculum_requisites\":[{\"source_id\":3389674827,\"target_id\":2966989896,\"type\":\"prereq\"}],\"name\":\"MA 114\",\"metrics\":{},\"nameSub\":\"Calculus II\",\"id\":2966989896,\"credits\":4,\"nameCanonical\":\"\"},{\"curriculum_requisites\":[{\"source_id\":502542156,\"target_id\":1416959221,\"type\":\"prereq\"}],\"name\":\"EE 282\",\"metrics\":{},\"nameSub\":\"Digital Logic Design\",\"id\":1416959221,\"credits\":4,\"nameCanonical\":\"\"},{\"curriculum_requisites\":[{\"source_id\":502542156,\"target_id\":1123828828,\"type\":\"prereq\"},{\"source_id\":3389674827,\"target_id\":1123828828,\"type\":\"coreq\"},{\"source_id\":2865398329,\"target_id\":1123828828,\"type\":\"coreq\"},{\"source_id\":738464693,\"target_id\":1123828828,\"type\":\"coreq\"}],\"name\":\"EGR 103\",\"metrics\":{},\"nameSub\":\"Engineering Exploration II\",\"id\":1123828828,\"credits\":2,\"nameCanonical\":\"\"},{\"curriculum_requisites\":[],\"name\":\"CS 215\",\"metrics\":{},\"nameSub\":\"Intro. to Program Design Abstraction and Problem Solving\",\"id\":1332377596,\"credits\":4,\"nameCanonical\":\"\"},{\"curriculum_requisites\":[{\"source_id\":1116551982,\"target_id\":2674820998,\"type\":\"prereq\"}],\"name\":\"EE 491\",\"metrics\":{},\"nameSub\":\"EE Capstone Design\",\"id\":2674820998,\"credits\":3,\"nameCanonical\":\"\"},{\"curriculum_requisites\":[{\"source_id\":858428248,\"target_id\":3660518225,\"type\":\"prereq\"}],\"name\":\"CIS/WRD 111\",\"metrics\":{},\"nameSub\":\"Composition and Communication II\",\"id\":3660518225,\"credits\":3,\"nameCanonical\":\"\"},{\"curriculum_requisites\":[],\"name\":\" \",\"metrics\":{},\"nameSub\":\"Elective EE Laboratory 1\",\"id\":448709314,\"credits\":2,\"nameCanonical\":\"\"}],\"id\":2},{\"name\":\"Term 3\",\"curriculum_items\":[{\"curriculum_requisites\":[{\"source_id\":2966989896,\"target_id\":2193700744,\"type\":\"prereq\"}],\"name\":\"MA 213\",\"metrics\":{},\"nameSub\":\"Calculus III\",\"id\":2193700744,\"credits\":4,\"nameCanonical\":\"\"},{\"curriculum_requisites\":[{\"source_id\":2865398329,\"target_id\":24551683,\"type\":\"prereq\"},{\"source_id\":2193700744,\"target_id\":24551683,\"type\":\"coreq\"}],\"name\":\"PHY 232\",\"metrics\":{},\"nameSub\":\"General University Physics\",\"id\":24551683,\"credits\":4,\"nameCanonical\":\"\"},{\"curriculum_requisites\":[{\"source_id\":24551683,\"target_id\":4109240503,\"type\":\"coreq\"}],\"name\":\"PHY 242\",\"metrics\":{},\"nameSub\":\"General University Physics Lab\",\"id\":4109240503,\"credits\":1,\"nameCanonical\":\"\"},{\"curriculum_requisites\":[{\"source_id\":24551683,\"target_id\":1017230148,\"type\":\"coreq\"},{\"source_id\":4109240503,\"target_id\":1017230148,\"type\":\"coreq\"}],\"name\":\"EE 211\",\"metrics\":{},\"nameSub\":\"Circuits I\",\"id\":1017230148,\"credits\":4,\"nameCanonical\":\"\"},{\"curriculum_requisites\":[{\"source_id\":1416959221,\"target_id\":1647567702,\"type\":\"prereq\"},{\"source_id\":1332377596,\"target_id\":1647567702,\"type\":\"coreq\"}],\"name\":\"EE 287\",\"metrics\":{},\"nameSub\":\"Intro. to Embedded Systems\",\"id\":1647567702,\"credits\":4,\"nameCanonical\":\"\"},{\"curriculum_requisites\":[],\"name\":\" \",\"metrics\":{},\"nameSub\":\"Supportive Elective\",\"id\":109586583,\"credits\":3,\"nameCanonical\":\"\"},{\"curriculum_requisites\":[],\"name\":\" \",\"metrics\":{},\"nameSub\":\"Elective EE Laboratory 2\",\"id\":3008452217,\"credits\":2,\"nameCanonical\":\"\"}],\"id\":3},{\"name\":\"Term 4\",\"curriculum_items\":[{\"curriculum_requisites\":[{\"source_id\":2193700744,\"target_id\":713164423,\"type\":\"prereq\"}],\"name\":\"MA 214\",\"metrics\":{},\"nameSub\":\"Calculus IV\",\"id\":713164423,\"credits\":3,\"nameCanonical\":\"\"},{\"curriculum_requisites\":[{\"source_id\":2193700744,\"target_id\":2756944549,\"type\":\"prereq\"}],\"name\":\"MA 320\",\"metrics\":{},\"nameSub\":\"Introductory Probability\",\"id\":2756944549,\"credits\":3,\"nameCanonical\":\"\"},{\"curriculum_requisites\":[],\"name\":\" \",\"metrics\":{},\"nameSub\":\"Math/Statistics Elective\",\"id\":147960851,\"credits\":3,\"nameCanonical\":\"\"},{\"curriculum_requisites\":[],\"name\":\" \",\"metrics\":{},\"nameSub\":\"UK Core - Statistical Inferential Reasoning\",\"id\":599971617,\"credits\":3,\"nameCanonical\":\"\"},{\"curriculum_requisites\":[],\"name\":\" \",\"metrics\":{},\"nameSub\":\"UK Core - Humanities\",\"id\":699408466,\"credits\":3,\"nameCanonical\":\"\"},{\"curriculum_requisites\":[],\"name\":\" \",\"metrics\":{},\"nameSub\":\"UK Core - Global Dynamics\",\"id\":819264340,\"credits\":3,\"nameCanonical\":\"\"},{\"curriculum_requisites\":[],\"name\":\" \",\"metrics\":{},\"nameSub\":\"Engineering/Science Elective 2\",\"id\":1227973603,\"credits\":3,\"nameCanonical\":\"\"}],\"id\":4},{\"name\":\"Term 5\",\"curriculum_items\":[{\"curriculum_requisites\":[{\"source_id\":1017230148,\"target_id\":2281989961,\"type\":\"prereq\"},{\"source_id\":713164423,\"target_id\":2281989961,\"type\":\"coreq\"}],\"name\":\"EE 223\",\"metrics\":{},\"nameSub\":\"AC Circuits\",\"id\":2281989961,\"credits\":4,\"nameCanonical\":\"\"},{\"curriculum_requisites\":[],\"name\":\" \",\"metrics\":{},\"nameSub\":\"EE Technical Elective 1\",\"id\":1373040133,\"credits\":3,\"nameCanonical\":\"\"},{\"curriculum_requisites\":[],\"name\":\" \",\"metrics\":{},\"nameSub\":\"UK Core - Citizenship - USA\",\"id\":1496407185,\"credits\":3,\"nameCanonical\":\"\"},{\"curriculum_requisites\":[],\"name\":\" \",\"metrics\":{},\"nameSub\":\"UK Core - Social Sciences\",\"id\":1586162741,\"credits\":3,\"nameCanonical\":\"\"},{\"curriculum_requisites\":[],\"name\":\" \",\"metrics\":{},\"nameSub\":\"Engineering/Science Elective 1\",\"id\":1824271747,\"credits\":3,\"nameCanonical\":\"\"},{\"curriculum_requisites\":[],\"name\":\" \",\"metrics\":{},\"nameSub\":\"EE Technical Elective 2\",\"id\":2900608954,\"credits\":3,\"nameCanonical\":\"\"},{\"curriculum_requisites\":[],\"name\":\" \",\"metrics\":{},\"nameSub\":\"EE Technical Elective 4\",\"id\":3141179749,\"credits\":3,\"nameCanonical\":\"\"}],\"id\":5},{\"name\":\"Term 6\",\"curriculum_items\":[{\"curriculum_requisites\":[{\"source_id\":2281989961,\"target_id\":16242192,\"type\":\"prereq\"}],\"name\":\"EE 461G\",\"metrics\":{},\"nameSub\":\"Intro. to Electronics\",\"id\":16242192,\"credits\":3,\"nameCanonical\":\"\"},{\"curriculum_requisites\":[{\"source_id\":2281989961,\"target_id\":1400716874,\"type\":\"prereq\"},{\"source_id\":2193700744,\"target_id\":1400716874,\"type\":\"prereq\"}],\"name\":\"EE 468G\",\"metrics\":{},\"nameSub\":\"Intro. to Engineering Electromagnetics\",\"id\":1400716874,\"credits\":4,\"nameCanonical\":\"\"},{\"curriculum_requisites\":[{\"source_id\":2281989961,\"target_id\":2950065960,\"type\":\"prereq\"},{\"source_id\":713164423,\"target_id\":2950065960,\"type\":\"prereq\"}],\"name\":\"EE 421G\",\"metrics\":{},\"nameSub\":\"Signals & Systems\",\"id\":2950065960,\"credits\":3,\"nameCanonical\":\"\"},{\"curriculum_requisites\":[{\"source_id\":2281989961,\"target_id\":3945639322,\"type\":\"prereq\"},{\"source_id\":24551683,\"target_id\":3945639322,\"type\":\"prereq\"}],\"name\":\"EE 415G\",\"metrics\":{},\"nameSub\":\"Electromechanics\",\"id\":3945639322,\"credits\":3,\"nameCanonical\":\"\"},{\"curriculum_requisites\":[],\"name\":\" \",\"metrics\":{},\"nameSub\":\"EE Technical Elective 3\",\"id\":3472050261,\"credits\":3,\"nameCanonical\":\"\"},{\"curriculum_requisites\":[],\"name\":\" \",\"metrics\":{},\"nameSub\":\"Technical Elective 1\",\"id\":3654615878,\"credits\":3,\"nameCanonical\":\"\"},{\"curriculum_requisites\":[],\"name\":\" \",\"metrics\":{},\"nameSub\":\"Technical Elective 2\",\"id\":3697264218,\"credits\":3,\"nameCanonical\":\"\"}],\"id\":6}],\"institution\":\"\"}},\"*\"); window.removeEventListener(\"message\",window.messageReceived); window.messageReceived=(function (event){return (event.data.curriculum!==undefined) ? (_webIOScope.setObservableValue({\"name\":\"curriculum-data\",\"scope\":\"scope-6cbc4276-9096-4631-9351-e4db44a9a9b8\",\"id\":\"ob_01\",\"type\":\"observable\"},event.data.curriculum)) : undefined}); return window.addEventListener(\"message\",window.messageReceived)})"
          },
          "id": "curriculum",
          "src": "http://localhost:8156",
          "style": {
           "border": "none",
           "height": "100vh",
           "margin": "0",
           "padding": "0",
           "width": "100%"
          }
         },
         "type": "node"
        }
       ],
       "instanceArgs": {
        "handlers": {},
        "id": "scope-6cbc4276-9096-4631-9351-e4db44a9a9b8",
        "imports": {
         "data": [],
         "type": "async_block"
        },
        "observables": {
         "curriculum-data": {
          "id": "ob_01",
          "sync": true,
          "value": {
           "curriculum": {
            "curriculum_terms": [
             {
              "curriculum_items": [
               {
                "credits": 4,
                "curriculum_requisites": [],
                "id": 3389674827,
                "metrics": {},
                "name": "MA 113",
                "nameCanonical": "",
                "nameSub": "Calculus I"
               },
               {
                "credits": 4,
                "curriculum_requisites": [
                 {
                  "source_id": 3389674827,
                  "target_id": 2865398329,
                  "type": "coreq"
                 }
                ],
                "id": 2865398329,
                "metrics": {},
                "name": "PHY 231",
                "nameCanonical": "",
                "nameSub": "General University Physics"
               },
               {
                "credits": 2,
                "curriculum_requisites": [],
                "id": 502542156,
                "metrics": {},
                "name": "EGR 102",
                "nameCanonical": "",
                "nameSub": "Fundamentals of Engineering Computing"
               },
               {
                "credits": 4,
                "curriculum_requisites": [],
                "id": 738464693,
                "metrics": {},
                "name": "CHE 105",
                "nameCanonical": "",
                "nameSub": "General College Chemistry I"
               },
               {
                "credits": 1,
                "curriculum_requisites": [
                 {
                  "source_id": 2865398329,
                  "target_id": 746915474,
                  "type": "coreq"
                 }
                ],
                "id": 746915474,
                "metrics": {},
                "name": "PHY 241",
                "nameCanonical": "",
                "nameSub": "General University Physics Lab"
               },
               {
                "credits": 3,
                "curriculum_requisites": [],
                "id": 858428248,
                "metrics": {},
                "name": "CIS/WRD 110",
                "nameCanonical": "",
                "nameSub": "Composition and Communication I"
               },
               {
                "credits": 3,
                "curriculum_requisites": [],
                "id": 1116551982,
                "metrics": {},
                "name": "EE 490",
                "nameCanonical": "",
                "nameSub": "EE Capstone Design"
               },
               {
                "credits": 1,
                "curriculum_requisites": [],
                "id": 2071595408,
                "metrics": {},
                "name": "EGR 101",
                "nameCanonical": "",
                "nameSub": "Engineering Exploration I"
               }
              ],
              "id": 1,
              "name": "Term 1"
             },
             {
              "curriculum_items": [
               {
                "credits": 4,
                "curriculum_requisites": [
                 {
                  "source_id": 3389674827,
                  "target_id": 2966989896,
                  "type": "prereq"
                 }
                ],
                "id": 2966989896,
                "metrics": {},
                "name": "MA 114",
                "nameCanonical": "",
                "nameSub": "Calculus II"
               },
               {
                "credits": 4,
                "curriculum_requisites": [
                 {
                  "source_id": 502542156,
                  "target_id": 1416959221,
                  "type": "prereq"
                 }
                ],
                "id": 1416959221,
                "metrics": {},
                "name": "EE 282",
                "nameCanonical": "",
                "nameSub": "Digital Logic Design"
               },
               {
                "credits": 2,
                "curriculum_requisites": [
                 {
                  "source_id": 502542156,
                  "target_id": 1123828828,
                  "type": "prereq"
                 },
                 {
                  "source_id": 3389674827,
                  "target_id": 1123828828,
                  "type": "coreq"
                 },
                 {
                  "source_id": 2865398329,
                  "target_id": 1123828828,
                  "type": "coreq"
                 },
                 {
                  "source_id": 738464693,
                  "target_id": 1123828828,
                  "type": "coreq"
                 }
                ],
                "id": 1123828828,
                "metrics": {},
                "name": "EGR 103",
                "nameCanonical": "",
                "nameSub": "Engineering Exploration II"
               },
               {
                "credits": 4,
                "curriculum_requisites": [],
                "id": 1332377596,
                "metrics": {},
                "name": "CS 215",
                "nameCanonical": "",
                "nameSub": "Intro. to Program Design Abstraction and Problem Solving"
               },
               {
                "credits": 3,
                "curriculum_requisites": [
                 {
                  "source_id": 1116551982,
                  "target_id": 2674820998,
                  "type": "prereq"
                 }
                ],
                "id": 2674820998,
                "metrics": {},
                "name": "EE 491",
                "nameCanonical": "",
                "nameSub": "EE Capstone Design"
               },
               {
                "credits": 3,
                "curriculum_requisites": [
                 {
                  "source_id": 858428248,
                  "target_id": 3660518225,
                  "type": "prereq"
                 }
                ],
                "id": 3660518225,
                "metrics": {},
                "name": "CIS/WRD 111",
                "nameCanonical": "",
                "nameSub": "Composition and Communication II"
               },
               {
                "credits": 2,
                "curriculum_requisites": [],
                "id": 448709314,
                "metrics": {},
                "name": " ",
                "nameCanonical": "",
                "nameSub": "Elective EE Laboratory 1"
               }
              ],
              "id": 2,
              "name": "Term 2"
             },
             {
              "curriculum_items": [
               {
                "credits": 4,
                "curriculum_requisites": [
                 {
                  "source_id": 2966989896,
                  "target_id": 2193700744,
                  "type": "prereq"
                 }
                ],
                "id": 2193700744,
                "metrics": {},
                "name": "MA 213",
                "nameCanonical": "",
                "nameSub": "Calculus III"
               },
               {
                "credits": 4,
                "curriculum_requisites": [
                 {
                  "source_id": 2865398329,
                  "target_id": 24551683,
                  "type": "prereq"
                 },
                 {
                  "source_id": 2193700744,
                  "target_id": 24551683,
                  "type": "coreq"
                 }
                ],
                "id": 24551683,
                "metrics": {},
                "name": "PHY 232",
                "nameCanonical": "",
                "nameSub": "General University Physics"
               },
               {
                "credits": 1,
                "curriculum_requisites": [
                 {
                  "source_id": 24551683,
                  "target_id": 4109240503,
                  "type": "coreq"
                 }
                ],
                "id": 4109240503,
                "metrics": {},
                "name": "PHY 242",
                "nameCanonical": "",
                "nameSub": "General University Physics Lab"
               },
               {
                "credits": 4,
                "curriculum_requisites": [
                 {
                  "source_id": 24551683,
                  "target_id": 1017230148,
                  "type": "coreq"
                 },
                 {
                  "source_id": 4109240503,
                  "target_id": 1017230148,
                  "type": "coreq"
                 }
                ],
                "id": 1017230148,
                "metrics": {},
                "name": "EE 211",
                "nameCanonical": "",
                "nameSub": "Circuits I"
               },
               {
                "credits": 4,
                "curriculum_requisites": [
                 {
                  "source_id": 1416959221,
                  "target_id": 1647567702,
                  "type": "prereq"
                 },
                 {
                  "source_id": 1332377596,
                  "target_id": 1647567702,
                  "type": "coreq"
                 }
                ],
                "id": 1647567702,
                "metrics": {},
                "name": "EE 287",
                "nameCanonical": "",
                "nameSub": "Intro. to Embedded Systems"
               },
               {
                "credits": 3,
                "curriculum_requisites": [],
                "id": 109586583,
                "metrics": {},
                "name": " ",
                "nameCanonical": "",
                "nameSub": "Supportive Elective"
               },
               {
                "credits": 2,
                "curriculum_requisites": [],
                "id": 3008452217,
                "metrics": {},
                "name": " ",
                "nameCanonical": "",
                "nameSub": "Elective EE Laboratory 2"
               }
              ],
              "id": 3,
              "name": "Term 3"
             },
             {
              "curriculum_items": [
               {
                "credits": 3,
                "curriculum_requisites": [
                 {
                  "source_id": 2193700744,
                  "target_id": 713164423,
                  "type": "prereq"
                 }
                ],
                "id": 713164423,
                "metrics": {},
                "name": "MA 214",
                "nameCanonical": "",
                "nameSub": "Calculus IV"
               },
               {
                "credits": 3,
                "curriculum_requisites": [
                 {
                  "source_id": 2193700744,
                  "target_id": 2756944549,
                  "type": "prereq"
                 }
                ],
                "id": 2756944549,
                "metrics": {},
                "name": "MA 320",
                "nameCanonical": "",
                "nameSub": "Introductory Probability"
               },
               {
                "credits": 3,
                "curriculum_requisites": [],
                "id": 147960851,
                "metrics": {},
                "name": " ",
                "nameCanonical": "",
                "nameSub": "Math/Statistics Elective"
               },
               {
                "credits": 3,
                "curriculum_requisites": [],
                "id": 599971617,
                "metrics": {},
                "name": " ",
                "nameCanonical": "",
                "nameSub": "UK Core - Statistical Inferential Reasoning"
               },
               {
                "credits": 3,
                "curriculum_requisites": [],
                "id": 699408466,
                "metrics": {},
                "name": " ",
                "nameCanonical": "",
                "nameSub": "UK Core - Humanities"
               },
               {
                "credits": 3,
                "curriculum_requisites": [],
                "id": 819264340,
                "metrics": {},
                "name": " ",
                "nameCanonical": "",
                "nameSub": "UK Core - Global Dynamics"
               },
               {
                "credits": 3,
                "curriculum_requisites": [],
                "id": 1227973603,
                "metrics": {},
                "name": " ",
                "nameCanonical": "",
                "nameSub": "Engineering/Science Elective 2"
               }
              ],
              "id": 4,
              "name": "Term 4"
             },
             {
              "curriculum_items": [
               {
                "credits": 4,
                "curriculum_requisites": [
                 {
                  "source_id": 1017230148,
                  "target_id": 2281989961,
                  "type": "prereq"
                 },
                 {
                  "source_id": 713164423,
                  "target_id": 2281989961,
                  "type": "coreq"
                 }
                ],
                "id": 2281989961,
                "metrics": {},
                "name": "EE 223",
                "nameCanonical": "",
                "nameSub": "AC Circuits"
               },
               {
                "credits": 3,
                "curriculum_requisites": [],
                "id": 1373040133,
                "metrics": {},
                "name": " ",
                "nameCanonical": "",
                "nameSub": "EE Technical Elective 1"
               },
               {
                "credits": 3,
                "curriculum_requisites": [],
                "id": 1496407185,
                "metrics": {},
                "name": " ",
                "nameCanonical": "",
                "nameSub": "UK Core - Citizenship - USA"
               },
               {
                "credits": 3,
                "curriculum_requisites": [],
                "id": 1586162741,
                "metrics": {},
                "name": " ",
                "nameCanonical": "",
                "nameSub": "UK Core - Social Sciences"
               },
               {
                "credits": 3,
                "curriculum_requisites": [],
                "id": 1824271747,
                "metrics": {},
                "name": " ",
                "nameCanonical": "",
                "nameSub": "Engineering/Science Elective 1"
               },
               {
                "credits": 3,
                "curriculum_requisites": [],
                "id": 2900608954,
                "metrics": {},
                "name": " ",
                "nameCanonical": "",
                "nameSub": "EE Technical Elective 2"
               },
               {
                "credits": 3,
                "curriculum_requisites": [],
                "id": 3141179749,
                "metrics": {},
                "name": " ",
                "nameCanonical": "",
                "nameSub": "EE Technical Elective 4"
               }
              ],
              "id": 5,
              "name": "Term 5"
             },
             {
              "curriculum_items": [
               {
                "credits": 3,
                "curriculum_requisites": [
                 {
                  "source_id": 2281989961,
                  "target_id": 16242192,
                  "type": "prereq"
                 }
                ],
                "id": 16242192,
                "metrics": {},
                "name": "EE 461G",
                "nameCanonical": "",
                "nameSub": "Intro. to Electronics"
               },
               {
                "credits": 4,
                "curriculum_requisites": [
                 {
                  "source_id": 2281989961,
                  "target_id": 1400716874,
                  "type": "prereq"
                 },
                 {
                  "source_id": 2193700744,
                  "target_id": 1400716874,
                  "type": "prereq"
                 }
                ],
                "id": 1400716874,
                "metrics": {},
                "name": "EE 468G",
                "nameCanonical": "",
                "nameSub": "Intro. to Engineering Electromagnetics"
               },
               {
                "credits": 3,
                "curriculum_requisites": [
                 {
                  "source_id": 2281989961,
                  "target_id": 2950065960,
                  "type": "prereq"
                 },
                 {
                  "source_id": 713164423,
                  "target_id": 2950065960,
                  "type": "prereq"
                 }
                ],
                "id": 2950065960,
                "metrics": {},
                "name": "EE 421G",
                "nameCanonical": "",
                "nameSub": "Signals & Systems"
               },
               {
                "credits": 3,
                "curriculum_requisites": [
                 {
                  "source_id": 2281989961,
                  "target_id": 3945639322,
                  "type": "prereq"
                 },
                 {
                  "source_id": 24551683,
                  "target_id": 3945639322,
                  "type": "prereq"
                 }
                ],
                "id": 3945639322,
                "metrics": {},
                "name": "EE 415G",
                "nameCanonical": "",
                "nameSub": "Electromechanics"
               },
               {
                "credits": 3,
                "curriculum_requisites": [],
                "id": 3472050261,
                "metrics": {},
                "name": " ",
                "nameCanonical": "",
                "nameSub": "EE Technical Elective 3"
               },
               {
                "credits": 3,
                "curriculum_requisites": [],
                "id": 3654615878,
                "metrics": {},
                "name": " ",
                "nameCanonical": "",
                "nameSub": "Technical Elective 1"
               },
               {
                "credits": 3,
                "curriculum_requisites": [],
                "id": 3697264218,
                "metrics": {},
                "name": " ",
                "nameCanonical": "",
                "nameSub": "Technical Elective 2"
               }
              ],
              "id": 6,
              "name": "Term 6"
             }
            ],
            "dp_name": "",
            "institution": "",
            "name": "University of Kentucky EE Program"
           },
           "options": {
            "edit": true,
            "hideTerms": true
           }
          }
         }
        },
        "systemjs_options": null
       },
       "nodeType": "Scope",
       "props": {},
       "type": "node"
      },
      "text/html": [
       "<div\n",
       "    class=\"webio-mountpoint\"\n",
       "    data-webio-mountpoint=\"1961068132132660125\"\n",
       ">\n",
       "    <script>\n",
       "    if (window.require && require.defined && require.defined(\"nbextensions/webio/main\")) {\n",
       "        console.log(\"Jupyter WebIO extension detected, not mounting.\");\n",
       "    } else if (window.WebIO) {\n",
       "        WebIO.mount(\n",
       "            document.querySelector('[data-webio-mountpoint=\"1961068132132660125\"]'),\n",
       "            {\"props\":{},\"nodeType\":\"Scope\",\"type\":\"node\",\"instanceArgs\":{\"imports\":{\"data\":[],\"type\":\"async_block\"},\"id\":\"scope-6cbc4276-9096-4631-9351-e4db44a9a9b8\",\"handlers\":{},\"systemjs_options\":null,\"observables\":{\"curriculum-data\":{\"sync\":true,\"id\":\"ob_01\",\"value\":{\"options\":{\"hideTerms\":true,\"edit\":true},\"curriculum\":{\"name\":\"University of Kentucky EE Program\",\"dp_name\":\"\",\"curriculum_terms\":[{\"name\":\"Term 1\",\"curriculum_items\":[{\"curriculum_requisites\":[],\"name\":\"MA 113\",\"metrics\":{},\"nameSub\":\"Calculus I\",\"id\":3389674827,\"credits\":4,\"nameCanonical\":\"\"},{\"curriculum_requisites\":[{\"source_id\":3389674827,\"target_id\":2865398329,\"type\":\"coreq\"}],\"name\":\"PHY 231\",\"metrics\":{},\"nameSub\":\"General University Physics\",\"id\":2865398329,\"credits\":4,\"nameCanonical\":\"\"},{\"curriculum_requisites\":[],\"name\":\"EGR 102\",\"metrics\":{},\"nameSub\":\"Fundamentals of Engineering Computing\",\"id\":502542156,\"credits\":2,\"nameCanonical\":\"\"},{\"curriculum_requisites\":[],\"name\":\"CHE 105\",\"metrics\":{},\"nameSub\":\"General College Chemistry I\",\"id\":738464693,\"credits\":4,\"nameCanonical\":\"\"},{\"curriculum_requisites\":[{\"source_id\":2865398329,\"target_id\":746915474,\"type\":\"coreq\"}],\"name\":\"PHY 241\",\"metrics\":{},\"nameSub\":\"General University Physics Lab\",\"id\":746915474,\"credits\":1,\"nameCanonical\":\"\"},{\"curriculum_requisites\":[],\"name\":\"CIS\\/WRD 110\",\"metrics\":{},\"nameSub\":\"Composition and Communication I\",\"id\":858428248,\"credits\":3,\"nameCanonical\":\"\"},{\"curriculum_requisites\":[],\"name\":\"EE 490\",\"metrics\":{},\"nameSub\":\"EE Capstone Design\",\"id\":1116551982,\"credits\":3,\"nameCanonical\":\"\"},{\"curriculum_requisites\":[],\"name\":\"EGR 101\",\"metrics\":{},\"nameSub\":\"Engineering Exploration I\",\"id\":2071595408,\"credits\":1,\"nameCanonical\":\"\"}],\"id\":1},{\"name\":\"Term 2\",\"curriculum_items\":[{\"curriculum_requisites\":[{\"source_id\":3389674827,\"target_id\":2966989896,\"type\":\"prereq\"}],\"name\":\"MA 114\",\"metrics\":{},\"nameSub\":\"Calculus II\",\"id\":2966989896,\"credits\":4,\"nameCanonical\":\"\"},{\"curriculum_requisites\":[{\"source_id\":502542156,\"target_id\":1416959221,\"type\":\"prereq\"}],\"name\":\"EE 282\",\"metrics\":{},\"nameSub\":\"Digital Logic Design\",\"id\":1416959221,\"credits\":4,\"nameCanonical\":\"\"},{\"curriculum_requisites\":[{\"source_id\":502542156,\"target_id\":1123828828,\"type\":\"prereq\"},{\"source_id\":3389674827,\"target_id\":1123828828,\"type\":\"coreq\"},{\"source_id\":2865398329,\"target_id\":1123828828,\"type\":\"coreq\"},{\"source_id\":738464693,\"target_id\":1123828828,\"type\":\"coreq\"}],\"name\":\"EGR 103\",\"metrics\":{},\"nameSub\":\"Engineering Exploration II\",\"id\":1123828828,\"credits\":2,\"nameCanonical\":\"\"},{\"curriculum_requisites\":[],\"name\":\"CS 215\",\"metrics\":{},\"nameSub\":\"Intro. to Program Design Abstraction and Problem Solving\",\"id\":1332377596,\"credits\":4,\"nameCanonical\":\"\"},{\"curriculum_requisites\":[{\"source_id\":1116551982,\"target_id\":2674820998,\"type\":\"prereq\"}],\"name\":\"EE 491\",\"metrics\":{},\"nameSub\":\"EE Capstone Design\",\"id\":2674820998,\"credits\":3,\"nameCanonical\":\"\"},{\"curriculum_requisites\":[{\"source_id\":858428248,\"target_id\":3660518225,\"type\":\"prereq\"}],\"name\":\"CIS\\/WRD 111\",\"metrics\":{},\"nameSub\":\"Composition and Communication II\",\"id\":3660518225,\"credits\":3,\"nameCanonical\":\"\"},{\"curriculum_requisites\":[],\"name\":\" \",\"metrics\":{},\"nameSub\":\"Elective EE Laboratory 1\",\"id\":448709314,\"credits\":2,\"nameCanonical\":\"\"}],\"id\":2},{\"name\":\"Term 3\",\"curriculum_items\":[{\"curriculum_requisites\":[{\"source_id\":2966989896,\"target_id\":2193700744,\"type\":\"prereq\"}],\"name\":\"MA 213\",\"metrics\":{},\"nameSub\":\"Calculus III\",\"id\":2193700744,\"credits\":4,\"nameCanonical\":\"\"},{\"curriculum_requisites\":[{\"source_id\":2865398329,\"target_id\":24551683,\"type\":\"prereq\"},{\"source_id\":2193700744,\"target_id\":24551683,\"type\":\"coreq\"}],\"name\":\"PHY 232\",\"metrics\":{},\"nameSub\":\"General University Physics\",\"id\":24551683,\"credits\":4,\"nameCanonical\":\"\"},{\"curriculum_requisites\":[{\"source_id\":24551683,\"target_id\":4109240503,\"type\":\"coreq\"}],\"name\":\"PHY 242\",\"metrics\":{},\"nameSub\":\"General University Physics Lab\",\"id\":4109240503,\"credits\":1,\"nameCanonical\":\"\"},{\"curriculum_requisites\":[{\"source_id\":24551683,\"target_id\":1017230148,\"type\":\"coreq\"},{\"source_id\":4109240503,\"target_id\":1017230148,\"type\":\"coreq\"}],\"name\":\"EE 211\",\"metrics\":{},\"nameSub\":\"Circuits I\",\"id\":1017230148,\"credits\":4,\"nameCanonical\":\"\"},{\"curriculum_requisites\":[{\"source_id\":1416959221,\"target_id\":1647567702,\"type\":\"prereq\"},{\"source_id\":1332377596,\"target_id\":1647567702,\"type\":\"coreq\"}],\"name\":\"EE 287\",\"metrics\":{},\"nameSub\":\"Intro. to Embedded Systems\",\"id\":1647567702,\"credits\":4,\"nameCanonical\":\"\"},{\"curriculum_requisites\":[],\"name\":\" \",\"metrics\":{},\"nameSub\":\"Supportive Elective\",\"id\":109586583,\"credits\":3,\"nameCanonical\":\"\"},{\"curriculum_requisites\":[],\"name\":\" \",\"metrics\":{},\"nameSub\":\"Elective EE Laboratory 2\",\"id\":3008452217,\"credits\":2,\"nameCanonical\":\"\"}],\"id\":3},{\"name\":\"Term 4\",\"curriculum_items\":[{\"curriculum_requisites\":[{\"source_id\":2193700744,\"target_id\":713164423,\"type\":\"prereq\"}],\"name\":\"MA 214\",\"metrics\":{},\"nameSub\":\"Calculus IV\",\"id\":713164423,\"credits\":3,\"nameCanonical\":\"\"},{\"curriculum_requisites\":[{\"source_id\":2193700744,\"target_id\":2756944549,\"type\":\"prereq\"}],\"name\":\"MA 320\",\"metrics\":{},\"nameSub\":\"Introductory Probability\",\"id\":2756944549,\"credits\":3,\"nameCanonical\":\"\"},{\"curriculum_requisites\":[],\"name\":\" \",\"metrics\":{},\"nameSub\":\"Math\\/Statistics Elective\",\"id\":147960851,\"credits\":3,\"nameCanonical\":\"\"},{\"curriculum_requisites\":[],\"name\":\" \",\"metrics\":{},\"nameSub\":\"UK Core - Statistical Inferential Reasoning\",\"id\":599971617,\"credits\":3,\"nameCanonical\":\"\"},{\"curriculum_requisites\":[],\"name\":\" \",\"metrics\":{},\"nameSub\":\"UK Core - Humanities\",\"id\":699408466,\"credits\":3,\"nameCanonical\":\"\"},{\"curriculum_requisites\":[],\"name\":\" \",\"metrics\":{},\"nameSub\":\"UK Core - Global Dynamics\",\"id\":819264340,\"credits\":3,\"nameCanonical\":\"\"},{\"curriculum_requisites\":[],\"name\":\" \",\"metrics\":{},\"nameSub\":\"Engineering\\/Science Elective 2\",\"id\":1227973603,\"credits\":3,\"nameCanonical\":\"\"}],\"id\":4},{\"name\":\"Term 5\",\"curriculum_items\":[{\"curriculum_requisites\":[{\"source_id\":1017230148,\"target_id\":2281989961,\"type\":\"prereq\"},{\"source_id\":713164423,\"target_id\":2281989961,\"type\":\"coreq\"}],\"name\":\"EE 223\",\"metrics\":{},\"nameSub\":\"AC Circuits\",\"id\":2281989961,\"credits\":4,\"nameCanonical\":\"\"},{\"curriculum_requisites\":[],\"name\":\" \",\"metrics\":{},\"nameSub\":\"EE Technical Elective 1\",\"id\":1373040133,\"credits\":3,\"nameCanonical\":\"\"},{\"curriculum_requisites\":[],\"name\":\" \",\"metrics\":{},\"nameSub\":\"UK Core - Citizenship - USA\",\"id\":1496407185,\"credits\":3,\"nameCanonical\":\"\"},{\"curriculum_requisites\":[],\"name\":\" \",\"metrics\":{},\"nameSub\":\"UK Core - Social Sciences\",\"id\":1586162741,\"credits\":3,\"nameCanonical\":\"\"},{\"curriculum_requisites\":[],\"name\":\" \",\"metrics\":{},\"nameSub\":\"Engineering\\/Science Elective 1\",\"id\":1824271747,\"credits\":3,\"nameCanonical\":\"\"},{\"curriculum_requisites\":[],\"name\":\" \",\"metrics\":{},\"nameSub\":\"EE Technical Elective 2\",\"id\":2900608954,\"credits\":3,\"nameCanonical\":\"\"},{\"curriculum_requisites\":[],\"name\":\" \",\"metrics\":{},\"nameSub\":\"EE Technical Elective 4\",\"id\":3141179749,\"credits\":3,\"nameCanonical\":\"\"}],\"id\":5},{\"name\":\"Term 6\",\"curriculum_items\":[{\"curriculum_requisites\":[{\"source_id\":2281989961,\"target_id\":16242192,\"type\":\"prereq\"}],\"name\":\"EE 461G\",\"metrics\":{},\"nameSub\":\"Intro. to Electronics\",\"id\":16242192,\"credits\":3,\"nameCanonical\":\"\"},{\"curriculum_requisites\":[{\"source_id\":2281989961,\"target_id\":1400716874,\"type\":\"prereq\"},{\"source_id\":2193700744,\"target_id\":1400716874,\"type\":\"prereq\"}],\"name\":\"EE 468G\",\"metrics\":{},\"nameSub\":\"Intro. to Engineering Electromagnetics\",\"id\":1400716874,\"credits\":4,\"nameCanonical\":\"\"},{\"curriculum_requisites\":[{\"source_id\":2281989961,\"target_id\":2950065960,\"type\":\"prereq\"},{\"source_id\":713164423,\"target_id\":2950065960,\"type\":\"prereq\"}],\"name\":\"EE 421G\",\"metrics\":{},\"nameSub\":\"Signals & Systems\",\"id\":2950065960,\"credits\":3,\"nameCanonical\":\"\"},{\"curriculum_requisites\":[{\"source_id\":2281989961,\"target_id\":3945639322,\"type\":\"prereq\"},{\"source_id\":24551683,\"target_id\":3945639322,\"type\":\"prereq\"}],\"name\":\"EE 415G\",\"metrics\":{},\"nameSub\":\"Electromechanics\",\"id\":3945639322,\"credits\":3,\"nameCanonical\":\"\"},{\"curriculum_requisites\":[],\"name\":\" \",\"metrics\":{},\"nameSub\":\"EE Technical Elective 3\",\"id\":3472050261,\"credits\":3,\"nameCanonical\":\"\"},{\"curriculum_requisites\":[],\"name\":\" \",\"metrics\":{},\"nameSub\":\"Technical Elective 1\",\"id\":3654615878,\"credits\":3,\"nameCanonical\":\"\"},{\"curriculum_requisites\":[],\"name\":\" \",\"metrics\":{},\"nameSub\":\"Technical Elective 2\",\"id\":3697264218,\"credits\":3,\"nameCanonical\":\"\"}],\"id\":6}],\"institution\":\"\"}}}}},\"children\":[{\"props\":{\"src\":\"http:\\/\\/localhost:8156\",\"id\":\"curriculum\",\"events\":{\"load\":\"(function (){this.contentWindow.postMessage({\\\"options\\\":{\\\"hideTerms\\\":true,\\\"edit\\\":true},\\\"curriculum\\\":{\\\"name\\\":\\\"University of Kentucky EE Program\\\",\\\"dp_name\\\":\\\"\\\",\\\"curriculum_terms\\\":[{\\\"name\\\":\\\"Term 1\\\",\\\"curriculum_items\\\":[{\\\"curriculum_requisites\\\":[],\\\"name\\\":\\\"MA 113\\\",\\\"metrics\\\":{},\\\"nameSub\\\":\\\"Calculus I\\\",\\\"id\\\":3389674827,\\\"credits\\\":4,\\\"nameCanonical\\\":\\\"\\\"},{\\\"curriculum_requisites\\\":[{\\\"source_id\\\":3389674827,\\\"target_id\\\":2865398329,\\\"type\\\":\\\"coreq\\\"}],\\\"name\\\":\\\"PHY 231\\\",\\\"metrics\\\":{},\\\"nameSub\\\":\\\"General University Physics\\\",\\\"id\\\":2865398329,\\\"credits\\\":4,\\\"nameCanonical\\\":\\\"\\\"},{\\\"curriculum_requisites\\\":[],\\\"name\\\":\\\"EGR 102\\\",\\\"metrics\\\":{},\\\"nameSub\\\":\\\"Fundamentals of Engineering Computing\\\",\\\"id\\\":502542156,\\\"credits\\\":2,\\\"nameCanonical\\\":\\\"\\\"},{\\\"curriculum_requisites\\\":[],\\\"name\\\":\\\"CHE 105\\\",\\\"metrics\\\":{},\\\"nameSub\\\":\\\"General College Chemistry I\\\",\\\"id\\\":738464693,\\\"credits\\\":4,\\\"nameCanonical\\\":\\\"\\\"},{\\\"curriculum_requisites\\\":[{\\\"source_id\\\":2865398329,\\\"target_id\\\":746915474,\\\"type\\\":\\\"coreq\\\"}],\\\"name\\\":\\\"PHY 241\\\",\\\"metrics\\\":{},\\\"nameSub\\\":\\\"General University Physics Lab\\\",\\\"id\\\":746915474,\\\"credits\\\":1,\\\"nameCanonical\\\":\\\"\\\"},{\\\"curriculum_requisites\\\":[],\\\"name\\\":\\\"CIS\\/WRD 110\\\",\\\"metrics\\\":{},\\\"nameSub\\\":\\\"Composition and Communication I\\\",\\\"id\\\":858428248,\\\"credits\\\":3,\\\"nameCanonical\\\":\\\"\\\"},{\\\"curriculum_requisites\\\":[],\\\"name\\\":\\\"EE 490\\\",\\\"metrics\\\":{},\\\"nameSub\\\":\\\"EE Capstone Design\\\",\\\"id\\\":1116551982,\\\"credits\\\":3,\\\"nameCanonical\\\":\\\"\\\"},{\\\"curriculum_requisites\\\":[],\\\"name\\\":\\\"EGR 101\\\",\\\"metrics\\\":{},\\\"nameSub\\\":\\\"Engineering Exploration I\\\",\\\"id\\\":2071595408,\\\"credits\\\":1,\\\"nameCanonical\\\":\\\"\\\"}],\\\"id\\\":1},{\\\"name\\\":\\\"Term 2\\\",\\\"curriculum_items\\\":[{\\\"curriculum_requisites\\\":[{\\\"source_id\\\":3389674827,\\\"target_id\\\":2966989896,\\\"type\\\":\\\"prereq\\\"}],\\\"name\\\":\\\"MA 114\\\",\\\"metrics\\\":{},\\\"nameSub\\\":\\\"Calculus II\\\",\\\"id\\\":2966989896,\\\"credits\\\":4,\\\"nameCanonical\\\":\\\"\\\"},{\\\"curriculum_requisites\\\":[{\\\"source_id\\\":502542156,\\\"target_id\\\":1416959221,\\\"type\\\":\\\"prereq\\\"}],\\\"name\\\":\\\"EE 282\\\",\\\"metrics\\\":{},\\\"nameSub\\\":\\\"Digital Logic Design\\\",\\\"id\\\":1416959221,\\\"credits\\\":4,\\\"nameCanonical\\\":\\\"\\\"},{\\\"curriculum_requisites\\\":[{\\\"source_id\\\":502542156,\\\"target_id\\\":1123828828,\\\"type\\\":\\\"prereq\\\"},{\\\"source_id\\\":3389674827,\\\"target_id\\\":1123828828,\\\"type\\\":\\\"coreq\\\"},{\\\"source_id\\\":2865398329,\\\"target_id\\\":1123828828,\\\"type\\\":\\\"coreq\\\"},{\\\"source_id\\\":738464693,\\\"target_id\\\":1123828828,\\\"type\\\":\\\"coreq\\\"}],\\\"name\\\":\\\"EGR 103\\\",\\\"metrics\\\":{},\\\"nameSub\\\":\\\"Engineering Exploration II\\\",\\\"id\\\":1123828828,\\\"credits\\\":2,\\\"nameCanonical\\\":\\\"\\\"},{\\\"curriculum_requisites\\\":[],\\\"name\\\":\\\"CS 215\\\",\\\"metrics\\\":{},\\\"nameSub\\\":\\\"Intro. to Program Design Abstraction and Problem Solving\\\",\\\"id\\\":1332377596,\\\"credits\\\":4,\\\"nameCanonical\\\":\\\"\\\"},{\\\"curriculum_requisites\\\":[{\\\"source_id\\\":1116551982,\\\"target_id\\\":2674820998,\\\"type\\\":\\\"prereq\\\"}],\\\"name\\\":\\\"EE 491\\\",\\\"metrics\\\":{},\\\"nameSub\\\":\\\"EE Capstone Design\\\",\\\"id\\\":2674820998,\\\"credits\\\":3,\\\"nameCanonical\\\":\\\"\\\"},{\\\"curriculum_requisites\\\":[{\\\"source_id\\\":858428248,\\\"target_id\\\":3660518225,\\\"type\\\":\\\"prereq\\\"}],\\\"name\\\":\\\"CIS\\/WRD 111\\\",\\\"metrics\\\":{},\\\"nameSub\\\":\\\"Composition and Communication II\\\",\\\"id\\\":3660518225,\\\"credits\\\":3,\\\"nameCanonical\\\":\\\"\\\"},{\\\"curriculum_requisites\\\":[],\\\"name\\\":\\\" \\\",\\\"metrics\\\":{},\\\"nameSub\\\":\\\"Elective EE Laboratory 1\\\",\\\"id\\\":448709314,\\\"credits\\\":2,\\\"nameCanonical\\\":\\\"\\\"}],\\\"id\\\":2},{\\\"name\\\":\\\"Term 3\\\",\\\"curriculum_items\\\":[{\\\"curriculum_requisites\\\":[{\\\"source_id\\\":2966989896,\\\"target_id\\\":2193700744,\\\"type\\\":\\\"prereq\\\"}],\\\"name\\\":\\\"MA 213\\\",\\\"metrics\\\":{},\\\"nameSub\\\":\\\"Calculus III\\\",\\\"id\\\":2193700744,\\\"credits\\\":4,\\\"nameCanonical\\\":\\\"\\\"},{\\\"curriculum_requisites\\\":[{\\\"source_id\\\":2865398329,\\\"target_id\\\":24551683,\\\"type\\\":\\\"prereq\\\"},{\\\"source_id\\\":2193700744,\\\"target_id\\\":24551683,\\\"type\\\":\\\"coreq\\\"}],\\\"name\\\":\\\"PHY 232\\\",\\\"metrics\\\":{},\\\"nameSub\\\":\\\"General University Physics\\\",\\\"id\\\":24551683,\\\"credits\\\":4,\\\"nameCanonical\\\":\\\"\\\"},{\\\"curriculum_requisites\\\":[{\\\"source_id\\\":24551683,\\\"target_id\\\":4109240503,\\\"type\\\":\\\"coreq\\\"}],\\\"name\\\":\\\"PHY 242\\\",\\\"metrics\\\":{},\\\"nameSub\\\":\\\"General University Physics Lab\\\",\\\"id\\\":4109240503,\\\"credits\\\":1,\\\"nameCanonical\\\":\\\"\\\"},{\\\"curriculum_requisites\\\":[{\\\"source_id\\\":24551683,\\\"target_id\\\":1017230148,\\\"type\\\":\\\"coreq\\\"},{\\\"source_id\\\":4109240503,\\\"target_id\\\":1017230148,\\\"type\\\":\\\"coreq\\\"}],\\\"name\\\":\\\"EE 211\\\",\\\"metrics\\\":{},\\\"nameSub\\\":\\\"Circuits I\\\",\\\"id\\\":1017230148,\\\"credits\\\":4,\\\"nameCanonical\\\":\\\"\\\"},{\\\"curriculum_requisites\\\":[{\\\"source_id\\\":1416959221,\\\"target_id\\\":1647567702,\\\"type\\\":\\\"prereq\\\"},{\\\"source_id\\\":1332377596,\\\"target_id\\\":1647567702,\\\"type\\\":\\\"coreq\\\"}],\\\"name\\\":\\\"EE 287\\\",\\\"metrics\\\":{},\\\"nameSub\\\":\\\"Intro. to Embedded Systems\\\",\\\"id\\\":1647567702,\\\"credits\\\":4,\\\"nameCanonical\\\":\\\"\\\"},{\\\"curriculum_requisites\\\":[],\\\"name\\\":\\\" \\\",\\\"metrics\\\":{},\\\"nameSub\\\":\\\"Supportive Elective\\\",\\\"id\\\":109586583,\\\"credits\\\":3,\\\"nameCanonical\\\":\\\"\\\"},{\\\"curriculum_requisites\\\":[],\\\"name\\\":\\\" \\\",\\\"metrics\\\":{},\\\"nameSub\\\":\\\"Elective EE Laboratory 2\\\",\\\"id\\\":3008452217,\\\"credits\\\":2,\\\"nameCanonical\\\":\\\"\\\"}],\\\"id\\\":3},{\\\"name\\\":\\\"Term 4\\\",\\\"curriculum_items\\\":[{\\\"curriculum_requisites\\\":[{\\\"source_id\\\":2193700744,\\\"target_id\\\":713164423,\\\"type\\\":\\\"prereq\\\"}],\\\"name\\\":\\\"MA 214\\\",\\\"metrics\\\":{},\\\"nameSub\\\":\\\"Calculus IV\\\",\\\"id\\\":713164423,\\\"credits\\\":3,\\\"nameCanonical\\\":\\\"\\\"},{\\\"curriculum_requisites\\\":[{\\\"source_id\\\":2193700744,\\\"target_id\\\":2756944549,\\\"type\\\":\\\"prereq\\\"}],\\\"name\\\":\\\"MA 320\\\",\\\"metrics\\\":{},\\\"nameSub\\\":\\\"Introductory Probability\\\",\\\"id\\\":2756944549,\\\"credits\\\":3,\\\"nameCanonical\\\":\\\"\\\"},{\\\"curriculum_requisites\\\":[],\\\"name\\\":\\\" \\\",\\\"metrics\\\":{},\\\"nameSub\\\":\\\"Math\\/Statistics Elective\\\",\\\"id\\\":147960851,\\\"credits\\\":3,\\\"nameCanonical\\\":\\\"\\\"},{\\\"curriculum_requisites\\\":[],\\\"name\\\":\\\" \\\",\\\"metrics\\\":{},\\\"nameSub\\\":\\\"UK Core - Statistical Inferential Reasoning\\\",\\\"id\\\":599971617,\\\"credits\\\":3,\\\"nameCanonical\\\":\\\"\\\"},{\\\"curriculum_requisites\\\":[],\\\"name\\\":\\\" \\\",\\\"metrics\\\":{},\\\"nameSub\\\":\\\"UK Core - Humanities\\\",\\\"id\\\":699408466,\\\"credits\\\":3,\\\"nameCanonical\\\":\\\"\\\"},{\\\"curriculum_requisites\\\":[],\\\"name\\\":\\\" \\\",\\\"metrics\\\":{},\\\"nameSub\\\":\\\"UK Core - Global Dynamics\\\",\\\"id\\\":819264340,\\\"credits\\\":3,\\\"nameCanonical\\\":\\\"\\\"},{\\\"curriculum_requisites\\\":[],\\\"name\\\":\\\" \\\",\\\"metrics\\\":{},\\\"nameSub\\\":\\\"Engineering\\/Science Elective 2\\\",\\\"id\\\":1227973603,\\\"credits\\\":3,\\\"nameCanonical\\\":\\\"\\\"}],\\\"id\\\":4},{\\\"name\\\":\\\"Term 5\\\",\\\"curriculum_items\\\":[{\\\"curriculum_requisites\\\":[{\\\"source_id\\\":1017230148,\\\"target_id\\\":2281989961,\\\"type\\\":\\\"prereq\\\"},{\\\"source_id\\\":713164423,\\\"target_id\\\":2281989961,\\\"type\\\":\\\"coreq\\\"}],\\\"name\\\":\\\"EE 223\\\",\\\"metrics\\\":{},\\\"nameSub\\\":\\\"AC Circuits\\\",\\\"id\\\":2281989961,\\\"credits\\\":4,\\\"nameCanonical\\\":\\\"\\\"},{\\\"curriculum_requisites\\\":[],\\\"name\\\":\\\" \\\",\\\"metrics\\\":{},\\\"nameSub\\\":\\\"EE Technical Elective 1\\\",\\\"id\\\":1373040133,\\\"credits\\\":3,\\\"nameCanonical\\\":\\\"\\\"},{\\\"curriculum_requisites\\\":[],\\\"name\\\":\\\" \\\",\\\"metrics\\\":{},\\\"nameSub\\\":\\\"UK Core - Citizenship - USA\\\",\\\"id\\\":1496407185,\\\"credits\\\":3,\\\"nameCanonical\\\":\\\"\\\"},{\\\"curriculum_requisites\\\":[],\\\"name\\\":\\\" \\\",\\\"metrics\\\":{},\\\"nameSub\\\":\\\"UK Core - Social Sciences\\\",\\\"id\\\":1586162741,\\\"credits\\\":3,\\\"nameCanonical\\\":\\\"\\\"},{\\\"curriculum_requisites\\\":[],\\\"name\\\":\\\" \\\",\\\"metrics\\\":{},\\\"nameSub\\\":\\\"Engineering\\/Science Elective 1\\\",\\\"id\\\":1824271747,\\\"credits\\\":3,\\\"nameCanonical\\\":\\\"\\\"},{\\\"curriculum_requisites\\\":[],\\\"name\\\":\\\" \\\",\\\"metrics\\\":{},\\\"nameSub\\\":\\\"EE Technical Elective 2\\\",\\\"id\\\":2900608954,\\\"credits\\\":3,\\\"nameCanonical\\\":\\\"\\\"},{\\\"curriculum_requisites\\\":[],\\\"name\\\":\\\" \\\",\\\"metrics\\\":{},\\\"nameSub\\\":\\\"EE Technical Elective 4\\\",\\\"id\\\":3141179749,\\\"credits\\\":3,\\\"nameCanonical\\\":\\\"\\\"}],\\\"id\\\":5},{\\\"name\\\":\\\"Term 6\\\",\\\"curriculum_items\\\":[{\\\"curriculum_requisites\\\":[{\\\"source_id\\\":2281989961,\\\"target_id\\\":16242192,\\\"type\\\":\\\"prereq\\\"}],\\\"name\\\":\\\"EE 461G\\\",\\\"metrics\\\":{},\\\"nameSub\\\":\\\"Intro. to Electronics\\\",\\\"id\\\":16242192,\\\"credits\\\":3,\\\"nameCanonical\\\":\\\"\\\"},{\\\"curriculum_requisites\\\":[{\\\"source_id\\\":2281989961,\\\"target_id\\\":1400716874,\\\"type\\\":\\\"prereq\\\"},{\\\"source_id\\\":2193700744,\\\"target_id\\\":1400716874,\\\"type\\\":\\\"prereq\\\"}],\\\"name\\\":\\\"EE 468G\\\",\\\"metrics\\\":{},\\\"nameSub\\\":\\\"Intro. to Engineering Electromagnetics\\\",\\\"id\\\":1400716874,\\\"credits\\\":4,\\\"nameCanonical\\\":\\\"\\\"},{\\\"curriculum_requisites\\\":[{\\\"source_id\\\":2281989961,\\\"target_id\\\":2950065960,\\\"type\\\":\\\"prereq\\\"},{\\\"source_id\\\":713164423,\\\"target_id\\\":2950065960,\\\"type\\\":\\\"prereq\\\"}],\\\"name\\\":\\\"EE 421G\\\",\\\"metrics\\\":{},\\\"nameSub\\\":\\\"Signals & Systems\\\",\\\"id\\\":2950065960,\\\"credits\\\":3,\\\"nameCanonical\\\":\\\"\\\"},{\\\"curriculum_requisites\\\":[{\\\"source_id\\\":2281989961,\\\"target_id\\\":3945639322,\\\"type\\\":\\\"prereq\\\"},{\\\"source_id\\\":24551683,\\\"target_id\\\":3945639322,\\\"type\\\":\\\"prereq\\\"}],\\\"name\\\":\\\"EE 415G\\\",\\\"metrics\\\":{},\\\"nameSub\\\":\\\"Electromechanics\\\",\\\"id\\\":3945639322,\\\"credits\\\":3,\\\"nameCanonical\\\":\\\"\\\"},{\\\"curriculum_requisites\\\":[],\\\"name\\\":\\\" \\\",\\\"metrics\\\":{},\\\"nameSub\\\":\\\"EE Technical Elective 3\\\",\\\"id\\\":3472050261,\\\"credits\\\":3,\\\"nameCanonical\\\":\\\"\\\"},{\\\"curriculum_requisites\\\":[],\\\"name\\\":\\\" \\\",\\\"metrics\\\":{},\\\"nameSub\\\":\\\"Technical Elective 1\\\",\\\"id\\\":3654615878,\\\"credits\\\":3,\\\"nameCanonical\\\":\\\"\\\"},{\\\"curriculum_requisites\\\":[],\\\"name\\\":\\\" \\\",\\\"metrics\\\":{},\\\"nameSub\\\":\\\"Technical Elective 2\\\",\\\"id\\\":3697264218,\\\"credits\\\":3,\\\"nameCanonical\\\":\\\"\\\"}],\\\"id\\\":6}],\\\"institution\\\":\\\"\\\"}},\\\"*\\\"); window.removeEventListener(\\\"message\\\",window.messageReceived); window.messageReceived=(function (event){return (event.data.curriculum!==undefined) ? (_webIOScope.setObservableValue({\\\"name\\\":\\\"curriculum-data\\\",\\\"scope\\\":\\\"scope-6cbc4276-9096-4631-9351-e4db44a9a9b8\\\",\\\"id\\\":\\\"ob_01\\\",\\\"type\\\":\\\"observable\\\"},event.data.curriculum)) : undefined}); return window.addEventListener(\\\"message\\\",window.messageReceived)})\"},\"style\":{\"padding\":\"0\",\"height\":\"100vh\",\"margin\":\"0\",\"border\":\"none\",\"width\":\"100%\"}},\"nodeType\":\"DOM\",\"type\":\"node\",\"instanceArgs\":{\"namespace\":\"html\",\"tag\":\"iframe\"},\"children\":[\"\"]}]},\n",
       "        );\n",
       "    } else {\n",
       "        document\n",
       "            .querySelector('[data-webio-mountpoint=\"1961068132132660125\"]')\n",
       "            .innerHTML = '<strong>WebIO not detected.</strong>';\n",
       "    }\n",
       "    </script>\n",
       "</div>\n"
      ],
      "text/plain": [
       "WebIO.Scope(\"scope-6cbc4276-9096-4631-9351-e4db44a9a9b8\", WebIO.Node{WebIO.DOM}(WebIO.DOM(:html, :iframe), Any[\"\"], Dict{Symbol,Any}(:src=>\"http://localhost:8156\",:id=>\"curriculum\",:events=>Dict(:load=>JSString(\"(function (){this.contentWindow.postMessage({\\\"options\\\":{\\\"hideTerms\\\":true,\\\"edit\\\":true},\\\"curriculum\\\":{\\\"name\\\":\\\"University of Kentucky EE Program\\\",\\\"dp_name\\\":\\\"\\\",\\\"curriculum_terms\\\":[{\\\"name\\\":\\\"Term 1\\\",\\\"curriculum_items\\\":[{\\\"curriculum_requisites\\\":[],\\\"name\\\":\\\"MA 113\\\",\\\"metrics\\\":{},\\\"nameSub\\\":\\\"Calculus I\\\",\\\"id\\\":3389674827,\\\"credits\\\":4,\\\"nameCanonical\\\":\\\"\\\"},{\\\"curriculum_requisites\\\":[{\\\"source_id\\\":3389674827,\\\"target_id\\\":2865398329,\\\"type\\\":\\\"coreq\\\"}],\\\"name\\\":\\\"PHY 231\\\",\\\"metrics\\\":{},\\\"nameSub\\\":\\\"General University Physics\\\",\\\"id\\\":2865398329,\\\"credits\\\":4,\\\"nameCanonical\\\":\\\"\\\"},{\\\"curriculum_requisites\\\":[],\\\"name\\\":\\\"EGR 102\\\",\\\"metrics\\\":{},\\\"nameSub\\\":\\\"Fundamentals of Engineering Computing\\\",\\\"id\\\":502542156,\\\"credits\\\":2,\\\"nameCanonical\\\":\\\"\\\"},{\\\"curriculum_requisites\\\":[],\\\"name\\\":\\\"CHE 105\\\",\\\"metrics\\\":{},\\\"nameSub\\\":\\\"General College Chemistry I\\\",\\\"id\\\":738464693,\\\"credits\\\":4,\\\"nameCanonical\\\":\\\"\\\"},{\\\"curriculum_requisites\\\":[{\\\"source_id\\\":2865398329,\\\"target_id\\\":746915474,\\\"type\\\":\\\"coreq\\\"}],\\\"name\\\":\\\"PHY 241\\\",\\\"metrics\\\":{},\\\"nameSub\\\":\\\"General University Physics Lab\\\",\\\"id\\\":746915474,\\\"credits\\\":1,\\\"nameCanonical\\\":\\\"\\\"},{\\\"curriculum_requisites\\\":[],\\\"name\\\":\\\"CIS/WRD 110\\\",\\\"metrics\\\":{},\\\"nameSub\\\":\\\"Composition and Communication I\\\",\\\"id\\\":858428248,\\\"credits\\\":3,\\\"nameCanonical\\\":\\\"\\\"},{\\\"curriculum_requisites\\\":[],\\\"name\\\":\\\"EE 490\\\",\\\"metrics\\\":{},\\\"nameSub\\\":\\\"EE Capstone Design\\\",\\\"id\\\":1116551982,\\\"credits\\\":3,\\\"nameCanonical\\\":\\\"\\\"},{\\\"curriculum_requisites\\\":[],\\\"name\\\":\\\"EGR 101\\\",\\\"metrics\\\":{},\\\"nameSub\\\":\\\"Engineering Exploration I\\\",\\\"id\\\":2071595408,\\\"credits\\\":1,\\\"nameCanonical\\\":\\\"\\\"}],\\\"id\\\":1},{\\\"name\\\":\\\"Term 2\\\",\\\"curriculum_items\\\":[{\\\"curriculum_requisites\\\":[{\\\"source_id\\\":3389674827,\\\"target_id\\\":2966989896,\\\"type\\\":\\\"prereq\\\"}],\\\"name\\\":\\\"MA 114\\\",\\\"metrics\\\":{},\\\"nameSub\\\":\\\"Calculus II\\\",\\\"id\\\":2966989896,\\\"credits\\\":4,\\\"nameCanonical\\\":\\\"\\\"},{\\\"curriculum_requisites\\\":[{\\\"source_id\\\":502542156,\\\"target_id\\\":1416959221,\\\"type\\\":\\\"prereq\\\"}],\\\"name\\\":\\\"EE 282\\\",\\\"metrics\\\":{},\\\"nameSub\\\":\\\"Digital Logic Design\\\",\\\"id\\\":1416959221,\\\"credits\\\":4,\\\"nameCanonical\\\":\\\"\\\"},{\\\"curriculum_requisites\\\":[{\\\"source_id\\\":502542156,\\\"target_id\\\":1123828828,\\\"type\\\":\\\"prereq\\\"},{\\\"source_id\\\":3389674827,\\\"target_id\\\":1123828828,\\\"type\\\":\\\"coreq\\\"},{\\\"source_id\\\":2865398329,\\\"target_id\\\":1123828828,\\\"type\\\":\\\"coreq\\\"},{\\\"source_id\\\":738464693,\\\"target_id\\\":1123828828,\\\"type\\\":\\\"coreq\\\"}],\\\"name\\\":\\\"EGR 103\\\",\\\"metrics\\\":{},\\\"nameSub\\\":\\\"Engineering Exploration II\\\",\\\"id\\\":1123828828,\\\"credits\\\":2,\\\"nameCanonical\\\":\\\"\\\"},{\\\"curriculum_requisites\\\":[],\\\"name\\\":\\\"CS 215\\\",\\\"metrics\\\":{},\\\"nameSub\\\":\\\"Intro. to Program Design Abstraction and Problem Solving\\\",\\\"id\\\":1332377596,\\\"credits\\\":4,\\\"nameCanonical\\\":\\\"\\\"},{\\\"curriculum_requisites\\\":[{\\\"source_id\\\":1116551982,\\\"target_id\\\":2674820998,\\\"type\\\":\\\"prereq\\\"}],\\\"name\\\":\\\"EE 491\\\",\\\"metrics\\\":{},\\\"nameSub\\\":\\\"EE Capstone Design\\\",\\\"id\\\":2674820998,\\\"credits\\\":3,\\\"nameCanonical\\\":\\\"\\\"},{\\\"curriculum_requisites\\\":[{\\\"source_id\\\":858428248,\\\"target_id\\\":3660518225,\\\"type\\\":\\\"prereq\\\"}],\\\"name\\\":\\\"CIS/WRD 111\\\",\\\"metrics\\\":{},\\\"nameSub\\\":\\\"Composition and Communication II\\\",\\\"id\\\":3660518225,\\\"credits\\\":3,\\\"nameCanonical\\\":\\\"\\\"},{\\\"curriculum_requisites\\\":[],\\\"name\\\":\\\" \\\",\\\"metrics\\\":{},\\\"nameSub\\\":\\\"Elective EE Laboratory 1\\\",\\\"id\\\":448709314,\\\"credits\\\":2,\\\"nameCanonical\\\":\\\"\\\"}],\\\"id\\\":2},{\\\"name\\\":\\\"Term 3\\\",\\\"curriculum_items\\\":[{\\\"curriculum_requisites\\\":[{\\\"source_id\\\":2966989896,\\\"target_id\\\":2193700744,\\\"type\\\":\\\"prereq\\\"}],\\\"name\\\":\\\"MA 213\\\",\\\"metrics\\\":{},\\\"nameSub\\\":\\\"Calculus III\\\",\\\"id\\\":2193700744,\\\"credits\\\":4,\\\"nameCanonical\\\":\\\"\\\"},{\\\"curriculum_requisites\\\":[{\\\"source_id\\\":2865398329,\\\"target_id\\\":24551683,\\\"type\\\":\\\"prereq\\\"},{\\\"source_id\\\":2193700744,\\\"target_id\\\":24551683,\\\"type\\\":\\\"coreq\\\"}],\\\"name\\\":\\\"PHY 232\\\",\\\"metrics\\\":{},\\\"nameSub\\\":\\\"General University Physics\\\",\\\"id\\\":24551683,\\\"credits\\\":4,\\\"nameCanonical\\\":\\\"\\\"},{\\\"curriculum_requisites\\\":[{\\\"source_id\\\":24551683,\\\"target_id\\\":4109240503,\\\"type\\\":\\\"coreq\\\"}],\\\"name\\\":\\\"PHY 242\\\",\\\"metrics\\\":{},\\\"nameSub\\\":\\\"General University Physics Lab\\\",\\\"id\\\":4109240503,\\\"credits\\\":1,\\\"nameCanonical\\\":\\\"\\\"},{\\\"curriculum_requisites\\\":[{\\\"source_id\\\":24551683,\\\"target_id\\\":1017230148,\\\"type\\\":\\\"coreq\\\"},{\\\"source_id\\\":4109240503,\\\"target_id\\\":1017230148,\\\"type\\\":\\\"coreq\\\"}],\\\"name\\\":\\\"EE 211\\\",\\\"metrics\\\":{},\\\"nameSub\\\":\\\"Circuits I\\\",\\\"id\\\":1017230148,\\\"credits\\\":4,\\\"nameCanonical\\\":\\\"\\\"},{\\\"curriculum_requisites\\\":[{\\\"source_id\\\":1416959221,\\\"target_id\\\":1647567702,\\\"type\\\":\\\"prereq\\\"},{\\\"source_id\\\":1332377596,\\\"target_id\\\":1647567702,\\\"type\\\":\\\"coreq\\\"}],\\\"name\\\":\\\"EE 287\\\",\\\"metrics\\\":{},\\\"nameSub\\\":\\\"Intro. to Embedded Systems\\\",\\\"id\\\":1647567702,\\\"credits\\\":4,\\\"nameCanonical\\\":\\\"\\\"},{\\\"curriculum_requisites\\\":[],\\\"name\\\":\\\" \\\",\\\"metrics\\\":{},\\\"nameSub\\\":\\\"Supportive Elective\\\",\\\"id\\\":109586583,\\\"credits\\\":3,\\\"nameCanonical\\\":\\\"\\\"},{\\\"curriculum_requisites\\\":[],\\\"name\\\":\\\" \\\",\\\"metrics\\\":{},\\\"nameSub\\\":\\\"Elective EE Laboratory 2\\\",\\\"id\\\":3008452217,\\\"credits\\\":2,\\\"nameCanonical\\\":\\\"\\\"}],\\\"id\\\":3},{\\\"name\\\":\\\"Term 4\\\",\\\"curriculum_items\\\":[{\\\"curriculum_requisites\\\":[{\\\"source_id\\\":2193700744,\\\"target_id\\\":713164423,\\\"type\\\":\\\"prereq\\\"}],\\\"name\\\":\\\"MA 214\\\",\\\"metrics\\\":{},\\\"nameSub\\\":\\\"Calculus IV\\\",\\\"id\\\":713164423,\\\"credits\\\":3,\\\"nameCanonical\\\":\\\"\\\"},{\\\"curriculum_requisites\\\":[{\\\"source_id\\\":2193700744,\\\"target_id\\\":2756944549,\\\"type\\\":\\\"prereq\\\"}],\\\"name\\\":\\\"MA 320\\\",\\\"metrics\\\":{},\\\"nameSub\\\":\\\"Introductory Probability\\\",\\\"id\\\":2756944549,\\\"credits\\\":3,\\\"nameCanonical\\\":\\\"\\\"},{\\\"curriculum_requisites\\\":[],\\\"name\\\":\\\" \\\",\\\"metrics\\\":{},\\\"nameSub\\\":\\\"Math/Statistics Elective\\\",\\\"id\\\":147960851,\\\"credits\\\":3,\\\"nameCanonical\\\":\\\"\\\"},{\\\"curriculum_requisites\\\":[],\\\"name\\\":\\\" \\\",\\\"metrics\\\":{},\\\"nameSub\\\":\\\"UK Core - Statistical Inferential Reasoning\\\",\\\"id\\\":599971617,\\\"credits\\\":3,\\\"nameCanonical\\\":\\\"\\\"},{\\\"curriculum_requisites\\\":[],\\\"name\\\":\\\" \\\",\\\"metrics\\\":{},\\\"nameSub\\\":\\\"UK Core - Humanities\\\",\\\"id\\\":699408466,\\\"credits\\\":3,\\\"nameCanonical\\\":\\\"\\\"},{\\\"curriculum_requisites\\\":[],\\\"name\\\":\\\" \\\",\\\"metrics\\\":{},\\\"nameSub\\\":\\\"UK Core - Global Dynamics\\\",\\\"id\\\":819264340,\\\"credits\\\":3,\\\"nameCanonical\\\":\\\"\\\"},{\\\"curriculum_requisites\\\":[],\\\"name\\\":\\\" \\\",\\\"metrics\\\":{},\\\"nameSub\\\":\\\"Engineering/Science Elective 2\\\",\\\"id\\\":1227973603,\\\"credits\\\":3,\\\"nameCanonical\\\":\\\"\\\"}],\\\"id\\\":4},{\\\"name\\\":\\\"Term 5\\\",\\\"curriculum_items\\\":[{\\\"curriculum_requisites\\\":[{\\\"source_id\\\":1017230148,\\\"target_id\\\":2281989961,\\\"type\\\":\\\"prereq\\\"},{\\\"source_id\\\":713164423,\\\"target_id\\\":2281989961,\\\"type\\\":\\\"coreq\\\"}],\\\"name\\\":\\\"EE 223\\\",\\\"metrics\\\":{},\\\"nameSub\\\":\\\"AC Circuits\\\",\\\"id\\\":2281989961,\\\"credits\\\":4,\\\"nameCanonical\\\":\\\"\\\"},{\\\"curriculum_requisites\\\":[],\\\"name\\\":\\\" \\\",\\\"metrics\\\":{},\\\"nameSub\\\":\\\"EE Technical Elective 1\\\",\\\"id\\\":1373040133,\\\"credits\\\":3,\\\"nameCanonical\\\":\\\"\\\"},{\\\"curriculum_requisites\\\":[],\\\"name\\\":\\\" \\\",\\\"metrics\\\":{},\\\"nameSub\\\":\\\"UK Core - Citizenship - USA\\\",\\\"id\\\":1496407185,\\\"credits\\\":3,\\\"nameCanonical\\\":\\\"\\\"},{\\\"curriculum_requisites\\\":[],\\\"name\\\":\\\" \\\",\\\"metrics\\\":{},\\\"nameSub\\\":\\\"UK Core - Social Sciences\\\",\\\"id\\\":1586162741,\\\"credits\\\":3,\\\"nameCanonical\\\":\\\"\\\"},{\\\"curriculum_requisites\\\":[],\\\"name\\\":\\\" \\\",\\\"metrics\\\":{},\\\"nameSub\\\":\\\"Engineering/Science Elective 1\\\",\\\"id\\\":1824271747,\\\"credits\\\":3,\\\"nameCanonical\\\":\\\"\\\"},{\\\"curriculum_requisites\\\":[],\\\"name\\\":\\\" \\\",\\\"metrics\\\":{},\\\"nameSub\\\":\\\"EE Technical Elective 2\\\",\\\"id\\\":2900608954,\\\"credits\\\":3,\\\"nameCanonical\\\":\\\"\\\"},{\\\"curriculum_requisites\\\":[],\\\"name\\\":\\\" \\\",\\\"metrics\\\":{},\\\"nameSub\\\":\\\"EE Technical Elective 4\\\",\\\"id\\\":3141179749,\\\"credits\\\":3,\\\"nameCanonical\\\":\\\"\\\"}],\\\"id\\\":5},{\\\"name\\\":\\\"Term 6\\\",\\\"curriculum_items\\\":[{\\\"curriculum_requisites\\\":[{\\\"source_id\\\":2281989961,\\\"target_id\\\":16242192,\\\"type\\\":\\\"prereq\\\"}],\\\"name\\\":\\\"EE 461G\\\",\\\"metrics\\\":{},\\\"nameSub\\\":\\\"Intro. to Electronics\\\",\\\"id\\\":16242192,\\\"credits\\\":3,\\\"nameCanonical\\\":\\\"\\\"},{\\\"curriculum_requisites\\\":[{\\\"source_id\\\":2281989961,\\\"target_id\\\":1400716874,\\\"type\\\":\\\"prereq\\\"},{\\\"source_id\\\":2193700744,\\\"target_id\\\":1400716874,\\\"type\\\":\\\"prereq\\\"}],\\\"name\\\":\\\"EE 468G\\\",\\\"metrics\\\":{},\\\"nameSub\\\":\\\"Intro. to Engineering Electromagnetics\\\",\\\"id\\\":1400716874,\\\"credits\\\":4,\\\"nameCanonical\\\":\\\"\\\"},{\\\"curriculum_requisites\\\":[{\\\"source_id\\\":2281989961,\\\"target_id\\\":2950065960,\\\"type\\\":\\\"prereq\\\"},{\\\"source_id\\\":713164423,\\\"target_id\\\":2950065960,\\\"type\\\":\\\"prereq\\\"}],\\\"name\\\":\\\"EE 421G\\\",\\\"metrics\\\":{},\\\"nameSub\\\":\\\"Signals & Systems\\\",\\\"id\\\":2950065960,\\\"credits\\\":3,\\\"nameCanonical\\\":\\\"\\\"},{\\\"curriculum_requisites\\\":[{\\\"source_id\\\":2281989961,\\\"target_id\\\":3945639322,\\\"type\\\":\\\"prereq\\\"},{\\\"source_id\\\":24551683,\\\"target_id\\\":3945639322,\\\"type\\\":\\\"prereq\\\"}],\\\"name\\\":\\\"EE 415G\\\",\\\"metrics\\\":{},\\\"nameSub\\\":\\\"Electromechanics\\\",\\\"id\\\":3945639322,\\\"credits\\\":3,\\\"nameCanonical\\\":\\\"\\\"},{\\\"curriculum_requisites\\\":[],\\\"name\\\":\\\" \\\",\\\"metrics\\\":{},\\\"nameSub\\\":\\\"EE Technical Elective 3\\\",\\\"id\\\":3472050261,\\\"credits\\\":3,\\\"nameCanonical\\\":\\\"\\\"},{\\\"curriculum_requisites\\\":[],\\\"name\\\":\\\" \\\",\\\"metrics\\\":{},\\\"nameSub\\\":\\\"Technical Elective 1\\\",\\\"id\\\":3654615878,\\\"credits\\\":3,\\\"nameCanonical\\\":\\\"\\\"},{\\\"curriculum_requisites\\\":[],\\\"name\\\":\\\" \\\",\\\"metrics\\\":{},\\\"nameSub\\\":\\\"Technical Elective 2\\\",\\\"id\\\":3697264218,\\\"credits\\\":3,\\\"nameCanonical\\\":\\\"\\\"}],\\\"id\\\":6}],\\\"institution\\\":\\\"\\\"}},\\\"*\\\"); window.removeEventListener(\\\"message\\\",window.messageReceived); window.messageReceived=(function (event){return (event.data.curriculum!==undefined) ? (_webIOScope.setObservableValue({\\\"name\\\":\\\"curriculum-data\\\",\\\"scope\\\":\\\"scope-6cbc4276-9096-4631-9351-e4db44a9a9b8\\\",\\\"id\\\":\\\"ob_01\\\",\\\"type\\\":\\\"observable\\\"},event.data.curriculum)) : undefined}); return window.addEventListener(\\\"message\\\",window.messageReceived)})\")),:style=>Dict(:padding=>\"0\",:height=>\"100vh\",:margin=>\"0\",:border=>\"none\",:width=>\"100%\")), 1), Dict{String,Tuple{Observables.AbstractObservable,Union{Nothing, Bool}}}(\"curriculum-data\"=>(Observable{Dict{String,Any}} with 1 listeners. Value:\n",
       "Dict{String,Any}(\"options\"=>Dict{String,Any}(\"hideTerms\"=>true,\"edit\"=>true),\"curriculum\"=>Dict{String,Any}(\"name\"=>\"University of Kentucky EE Program\",\"dp_name\"=>\"\",\"curriculum_terms\"=>Dict{String,Any}[Dict(\"name\"=>\"Term 1\",\"curriculum_items\"=>Dict{String,Any}[Dict(\"curriculum_requisites\"=>Dict{String,Any}[],\"name\"=>\"MA 113\",\"metrics\"=>Dict{String,Any}(),\"nameSub\"=>\"Calculus I\",\"id\"=>3389674827,\"credits\"=>4,\"nameCanonical\"=>\"\"), Dict(\"curriculum_requisites\"=>Dict{String,Any}[Dict(\"source_id\"=>3389674827,\"target_id\"=>2865398329,\"type\"=>\"coreq\")],\"name\"=>\"PHY 231\",\"metrics\"=>Dict{String,Any}(),\"nameSub\"=>\"General University Physics\",\"id\"=>2865398329,\"credits\"=>4,\"nameCanonical\"=>\"\"), Dict(\"curriculum_requisites\"=>Dict{String,Any}[],\"name\"=>\"EGR 102\",\"metrics\"=>Dict{String,Any}(),\"nameSub\"=>\"Fundamentals of Engineering Computing\",\"id\"=>502542156,\"credits\"=>2,\"nameCanonical\"=>\"\"), Dict(\"curriculum_requisites\"=>Dict{String,Any}[],\"name\"=>\"CHE 105\",\"metrics\"=>Dict{String,Any}(),\"nameSub\"=>\"General College Chemistry I\",\"id\"=>738464693,\"credits\"=>4,\"nameCanonical\"=>\"\"), Dict(\"curriculum_requisites\"=>Dict{String,Any}[Dict(\"source_id\"=>2865398329,\"target_id\"=>746915474,\"type\"=>\"coreq\")],\"name\"=>\"PHY 241\",\"metrics\"=>Dict{String,Any}(),\"nameSub\"=>\"General University Physics Lab\",\"id\"=>746915474,\"credits\"=>1,\"nameCanonical\"=>\"\"), Dict(\"curriculum_requisites\"=>Dict{String,Any}[],\"name\"=>\"CIS/WRD 110\",\"metrics\"=>Dict{String,Any}(),\"nameSub\"=>\"Composition and Communication I\",\"id\"=>858428248,\"credits\"=>3,\"nameCanonical\"=>\"\"), Dict(\"curriculum_requisites\"=>Dict{String,Any}[],\"name\"=>\"EE 490\",\"metrics\"=>Dict{String,Any}(),\"nameSub\"=>\"EE Capstone Design\",\"id\"=>1116551982,\"credits\"=>3,\"nameCanonical\"=>\"\"), Dict(\"curriculum_requisites\"=>Dict{String,Any}[],\"name\"=>\"EGR 101\",\"metrics\"=>Dict{String,Any}(),\"nameSub\"=>\"Engineering Exploration I\",\"id\"=>2071595408,\"credits\"=>1,\"nameCanonical\"=>\"\")],\"id\"=>1), Dict(\"name\"=>\"Term 2\",\"curriculum_items\"=>Dict{String,Any}[Dict(\"curriculum_requisites\"=>Dict{String,Any}[Dict(\"source_id\"=>3389674827,\"target_id\"=>2966989896,\"type\"=>\"prereq\")],\"name\"=>\"MA 114\",\"metrics\"=>Dict{String,Any}(),\"nameSub\"=>\"Calculus II\",\"id\"=>2966989896,\"credits\"=>4,\"nameCanonical\"=>\"\"), Dict(\"curriculum_requisites\"=>Dict{String,Any}[Dict(\"source_id\"=>502542156,\"target_id\"=>1416959221,\"type\"=>\"prereq\")],\"name\"=>\"EE 282\",\"metrics\"=>Dict{String,Any}(),\"nameSub\"=>\"Digital Logic Design\",\"id\"=>1416959221,\"credits\"=>4,\"nameCanonical\"=>\"\"), Dict(\"curriculum_requisites\"=>Dict{String,Any}[Dict(\"source_id\"=>502542156,\"target_id\"=>1123828828,\"type\"=>\"prereq\"), Dict(\"source_id\"=>3389674827,\"target_id\"=>1123828828,\"type\"=>\"coreq\"), Dict(\"source_id\"=>2865398329,\"target_id\"=>1123828828,\"type\"=>\"coreq\"), Dict(\"source_id\"=>738464693,\"target_id\"=>1123828828,\"type\"=>\"coreq\")],\"name\"=>\"EGR 103\",\"metrics\"=>Dict{String,Any}(),\"nameSub\"=>\"Engineering Exploration II\",\"id\"=>1123828828,\"credits\"=>2,\"nameCanonical\"=>\"\"), Dict(\"curriculum_requisites\"=>Dict{String,Any}[],\"name\"=>\"CS 215\",\"metrics\"=>Dict{String,Any}(),\"nameSub\"=>\"Intro. to Program Design Abstraction and Problem Solving\",\"id\"=>1332377596,\"credits\"=>4,\"nameCanonical\"=>\"\"), Dict(\"curriculum_requisites\"=>Dict{String,Any}[Dict(\"source_id\"=>1116551982,\"target_id\"=>2674820998,\"type\"=>\"prereq\")],\"name\"=>\"EE 491\",\"metrics\"=>Dict{String,Any}(),\"nameSub\"=>\"EE Capstone Design\",\"id\"=>2674820998,\"credits\"=>3,\"nameCanonical\"=>\"\"), Dict(\"curriculum_requisites\"=>Dict{String,Any}[Dict(\"source_id\"=>858428248,\"target_id\"=>3660518225,\"type\"=>\"prereq\")],\"name\"=>\"CIS/WRD 111\",\"metrics\"=>Dict{String,Any}(),\"nameSub\"=>\"Composition and Communication II\",\"id\"=>3660518225,\"credits\"=>3,\"nameCanonical\"=>\"\"), Dict(\"curriculum_requisites\"=>Dict{String,Any}[],\"name\"=>\" \",\"metrics\"=>Dict{String,Any}(),\"nameSub\"=>\"Elective EE Laboratory 1\",\"id\"=>448709314,\"credits\"=>2,\"nameCanonical\"=>\"\")],\"id\"=>2), Dict(\"name\"=>\"Term 3\",\"curriculum_items\"=>Dict{String,Any}[Dict(\"curriculum_requisites\"=>Dict{String,Any}[Dict(\"source_id\"=>2966989896,\"target_id\"=>2193700744,\"type\"=>\"prereq\")],\"name\"=>\"MA 213\",\"metrics\"=>Dict{String,Any}(),\"nameSub\"=>\"Calculus III\",\"id\"=>2193700744,\"credits\"=>4,\"nameCanonical\"=>\"\"), Dict(\"curriculum_requisites\"=>Dict{String,Any}[Dict(\"source_id\"=>2865398329,\"target_id\"=>24551683,\"type\"=>\"prereq\"), Dict(\"source_id\"=>2193700744,\"target_id\"=>24551683,\"type\"=>\"coreq\")],\"name\"=>\"PHY 232\",\"metrics\"=>Dict{String,Any}(),\"nameSub\"=>\"General University Physics\",\"id\"=>24551683,\"credits\"=>4,\"nameCanonical\"=>\"\"), Dict(\"curriculum_requisites\"=>Dict{String,Any}[Dict(\"source_id\"=>24551683,\"target_id\"=>4109240503,\"type\"=>\"coreq\")],\"name\"=>\"PHY 242\",\"metrics\"=>Dict{String,Any}(),\"nameSub\"=>\"General University Physics Lab\",\"id\"=>4109240503,\"credits\"=>1,\"nameCanonical\"=>\"\"), Dict(\"curriculum_requisites\"=>Dict{String,Any}[Dict(\"source_id\"=>24551683,\"target_id\"=>1017230148,\"type\"=>\"coreq\"), Dict(\"source_id\"=>4109240503,\"target_id\"=>1017230148,\"type\"=>\"coreq\")],\"name\"=>\"EE 211\",\"metrics\"=>Dict{String,Any}(),\"nameSub\"=>\"Circuits I\",\"id\"=>1017230148,\"credits\"=>4,\"nameCanonical\"=>\"\"), Dict(\"curriculum_requisites\"=>Dict{String,Any}[Dict(\"source_id\"=>1416959221,\"target_id\"=>1647567702,\"type\"=>\"prereq\"), Dict(\"source_id\"=>1332377596,\"target_id\"=>1647567702,\"type\"=>\"coreq\")],\"name\"=>\"EE 287\",\"metrics\"=>Dict{String,Any}(),\"nameSub\"=>\"Intro. to Embedded Systems\",\"id\"=>1647567702,\"credits\"=>4,\"nameCanonical\"=>\"\"), Dict(\"curriculum_requisites\"=>Dict{String,Any}[],\"name\"=>\" \",\"metrics\"=>Dict{String,Any}(),\"nameSub\"=>\"Supportive Elective\",\"id\"=>109586583,\"credits\"=>3,\"nameCanonical\"=>\"\"), Dict(\"curriculum_requisites\"=>Dict{String,Any}[],\"name\"=>\" \",\"metrics\"=>Dict{String,Any}(),\"nameSub\"=>\"Elective EE Laboratory 2\",\"id\"=>3008452217,\"credits\"=>2,\"nameCanonical\"=>\"\")],\"id\"=>3), Dict(\"name\"=>\"Term 4\",\"curriculum_items\"=>Dict{String,Any}[Dict(\"curriculum_requisites\"=>Dict{String,Any}[Dict(\"source_id\"=>2193700744,\"target_id\"=>713164423,\"type\"=>\"prereq\")],\"name\"=>\"MA 214\",\"metrics\"=>Dict{String,Any}(),\"nameSub\"=>\"Calculus IV\",\"id\"=>713164423,\"credits\"=>3,\"nameCanonical\"=>\"\"), Dict(\"curriculum_requisites\"=>Dict{String,Any}[Dict(\"source_id\"=>2193700744,\"target_id\"=>2756944549,\"type\"=>\"prereq\")],\"name\"=>\"MA 320\",\"metrics\"=>Dict{String,Any}(),\"nameSub\"=>\"Introductory Probability\",\"id\"=>2756944549,\"credits\"=>3,\"nameCanonical\"=>\"\"), Dict(\"curriculum_requisites\"=>Dict{String,Any}[],\"name\"=>\" \",\"metrics\"=>Dict{String,Any}(),\"nameSub\"=>\"Math/Statistics Elective\",\"id\"=>147960851,\"credits\"=>3,\"nameCanonical\"=>\"\"), Dict(\"curriculum_requisites\"=>Dict{String,Any}[],\"name\"=>\" \",\"metrics\"=>Dict{String,Any}(),\"nameSub\"=>\"UK Core - Statistical Inferential Reasoning\",\"id\"=>599971617,\"credits\"=>3,\"nameCanonical\"=>\"\"), Dict(\"curriculum_requisites\"=>Dict{String,Any}[],\"name\"=>\" \",\"metrics\"=>Dict{String,Any}(),\"nameSub\"=>\"UK Core - Humanities\",\"id\"=>699408466,\"credits\"=>3,\"nameCanonical\"=>\"\"), Dict(\"curriculum_requisites\"=>Dict{String,Any}[],\"name\"=>\" \",\"metrics\"=>Dict{String,Any}(),\"nameSub\"=>\"UK Core - Global Dynamics\",\"id\"=>819264340,\"credits\"=>3,\"nameCanonical\"=>\"\"), Dict(\"curriculum_requisites\"=>Dict{String,Any}[],\"name\"=>\" \",\"metrics\"=>Dict{String,Any}(),\"nameSub\"=>\"Engineering/Science Elective 2\",\"id\"=>1227973603,\"credits\"=>3,\"nameCanonical\"=>\"\")],\"id\"=>4), Dict(\"name\"=>\"Term 5\",\"curriculum_items\"=>Dict{String,Any}[Dict(\"curriculum_requisites\"=>Dict{String,Any}[Dict(\"source_id\"=>1017230148,\"target_id\"=>2281989961,\"type\"=>\"prereq\"), Dict(\"source_id\"=>713164423,\"target_id\"=>2281989961,\"type\"=>\"coreq\")],\"name\"=>\"EE 223\",\"metrics\"=>Dict{String,Any}(),\"nameSub\"=>\"AC Circuits\",\"id\"=>2281989961,\"credits\"=>4,\"nameCanonical\"=>\"\"), Dict(\"curriculum_requisites\"=>Dict{String,Any}[],\"name\"=>\" \",\"metrics\"=>Dict{String,Any}(),\"nameSub\"=>\"EE Technical Elective 1\",\"id\"=>1373040133,\"credits\"=>3,\"nameCanonical\"=>\"\"), Dict(\"curriculum_requisites\"=>Dict{String,Any}[],\"name\"=>\" \",\"metrics\"=>Dict{String,Any}(),\"nameSub\"=>\"UK Core - Citizenship - USA\",\"id\"=>1496407185,\"credits\"=>3,\"nameCanonical\"=>\"\"), Dict(\"curriculum_requisites\"=>Dict{String,Any}[],\"name\"=>\" \",\"metrics\"=>Dict{String,Any}(),\"nameSub\"=>\"UK Core - Social Sciences\",\"id\"=>1586162741,\"credits\"=>3,\"nameCanonical\"=>\"\"), Dict(\"curriculum_requisites\"=>Dict{String,Any}[],\"name\"=>\" \",\"metrics\"=>Dict{String,Any}(),\"nameSub\"=>\"Engineering/Science Elective 1\",\"id\"=>1824271747,\"credits\"=>3,\"nameCanonical\"=>\"\"), Dict(\"curriculum_requisites\"=>Dict{String,Any}[],\"name\"=>\" \",\"metrics\"=>Dict{String,Any}(),\"nameSub\"=>\"EE Technical Elective 2\",\"id\"=>2900608954,\"credits\"=>3,\"nameCanonical\"=>\"\"), Dict(\"curriculum_requisites\"=>Dict{String,Any}[],\"name\"=>\" \",\"metrics\"=>Dict{String,Any}(),\"nameSub\"=>\"EE Technical Elective 4\",\"id\"=>3141179749,\"credits\"=>3,\"nameCanonical\"=>\"\")],\"id\"=>5), Dict(\"name\"=>\"Term 6\",\"curriculum_items\"=>Dict{String,Any}[Dict(\"curriculum_requisites\"=>Dict{String,Any}[Dict(\"source_id\"=>2281989961,\"target_id\"=>16242192,\"type\"=>\"prereq\")],\"name\"=>\"EE 461G\",\"metrics\"=>Dict{String,Any}(),\"nameSub\"=>\"Intro. to Electronics\",\"id\"=>16242192,\"credits\"=>3,\"nameCanonical\"=>\"\"), Dict(\"curriculum_requisites\"=>Dict{String,Any}[Dict(\"source_id\"=>2281989961,\"target_id\"=>1400716874,\"type\"=>\"prereq\"), Dict(\"source_id\"=>2193700744,\"target_id\"=>1400716874,\"type\"=>\"prereq\")],\"name\"=>\"EE 468G\",\"metrics\"=>Dict{String,Any}(),\"nameSub\"=>\"Intro. to Engineering Electromagnetics\",\"id\"=>1400716874,\"credits\"=>4,\"nameCanonical\"=>\"\"), Dict(\"curriculum_requisites\"=>Dict{String,Any}[Dict(\"source_id\"=>2281989961,\"target_id\"=>2950065960,\"type\"=>\"prereq\"), Dict(\"source_id\"=>713164423,\"target_id\"=>2950065960,\"type\"=>\"prereq\")],\"name\"=>\"EE 421G\",\"metrics\"=>Dict{String,Any}(),\"nameSub\"=>\"Signals & Systems\",\"id\"=>2950065960,\"credits\"=>3,\"nameCanonical\"=>\"\"), Dict(\"curriculum_requisites\"=>Dict{String,Any}[Dict(\"source_id\"=>2281989961,\"target_id\"=>3945639322,\"type\"=>\"prereq\"), Dict(\"source_id\"=>24551683,\"target_id\"=>3945639322,\"type\"=>\"prereq\")],\"name\"=>\"EE 415G\",\"metrics\"=>Dict{String,Any}(),\"nameSub\"=>\"Electromechanics\",\"id\"=>3945639322,\"credits\"=>3,\"nameCanonical\"=>\"\"), Dict(\"curriculum_requisites\"=>Dict{String,Any}[],\"name\"=>\" \",\"metrics\"=>Dict{String,Any}(),\"nameSub\"=>\"EE Technical Elective 3\",\"id\"=>3472050261,\"credits\"=>3,\"nameCanonical\"=>\"\"), Dict(\"curriculum_requisites\"=>Dict{String,Any}[],\"name\"=>\" \",\"metrics\"=>Dict{String,Any}(),\"nameSub\"=>\"Technical Elective 1\",\"id\"=>3654615878,\"credits\"=>3,\"nameCanonical\"=>\"\"), Dict(\"curriculum_requisites\"=>Dict{String,Any}[],\"name\"=>\" \",\"metrics\"=>Dict{String,Any}(),\"nameSub\"=>\"Technical Elective 2\",\"id\"=>3697264218,\"credits\"=>3,\"nameCanonical\"=>\"\")],\"id\"=>6)],\"institution\"=>\"\")), nothing)), Set(String[]), nothing, Any[], Dict{Any,Any}(), WebIO.ConnectionPool(Channel{Any}(sz_max:9223372036854775807,sz_curr:0), Set(WebIO.AbstractConnection[]), Channel{WebIO.AbstractConnection}(sz_max:32,sz_curr:0)))"
      ]
     },
     "execution_count": 2,
     "metadata": {
      "application/vnd.webio.node+json": {
       "kernelId": "e8f6a052-c55d-498d-96c7-663575dc89c9"
      }
     },
     "output_type": "execute_result"
    },
    {
     "name": "stdout",
     "output_type": "stream",
     "text": [
      "wewwqeqwe\n"
     ]
    }
   ],
   "source": [
    "out = read_csv(\"examples/UKY_EE_curric.csv\")\n",
    "#visualize(out, notebook=true)\n",
    "visualize(out , changed=update_plan, edit=true, notebook=true)"
   ]
  },
  {
   "cell_type": "code",
   "execution_count": 11,
   "metadata": {
    "scrolled": false
   },
   "outputs": [
    {
     "data": {
      "application/vnd.webio.node+json": {
       "children": [
        {
         "children": [
          ""
         ],
         "instanceArgs": {
          "namespace": "html",
          "tag": "iframe"
         },
         "nodeType": "DOM",
         "props": {
          "events": {
           "load": "(function (){this.contentWindow.postMessage({\"options\":{\"hideTerms\":false,\"edit\":true},\"curriculum\":{\"name\":\"University of Kentucky EE Program\",\"dp_name\":\"University of Kentucky EE Program 4-year Plan\",\"curriculum_terms\":[{\"name\":\"Term 1\",\"curriculum_items\":[{\"curriculum_requisites\":[],\"name\":\"EGR 101\",\"metrics\":{\"centrality\":0,\"complexity\":1.0,\"blocking factor\":0,\"delay factor\":1.0},\"nameSub\":\"Engineering Exploration I\",\"id\":2071595408,\"credits\":1,\"nameCanonical\":\"\"},{\"curriculum_requisites\":[],\"name\":\"EGR 102\",\"metrics\":{\"centrality\":0,\"complexity\":6.0,\"blocking factor\":3,\"delay factor\":3.0},\"nameSub\":\"Fundamentals of Engineering Computing\",\"id\":502542156,\"credits\":2,\"nameCanonical\":\"\"},{\"curriculum_requisites\":[{\"source_id\":3389674827,\"target_id\":2865398329,\"type\":\"coreq\"}],\"name\":\"PHY 231\",\"metrics\":{\"centrality\":62,\"complexity\":16.0,\"blocking factor\":10,\"delay factor\":6.0},\"nameSub\":\"General University Physics\",\"id\":2865398329,\"credits\":4,\"nameCanonical\":\"\"},{\"curriculum_requisites\":[{\"source_id\":2865398329,\"target_id\":746915474,\"type\":\"coreq\"}],\"name\":\"PHY 241\",\"metrics\":{\"centrality\":0,\"complexity\":3.0,\"blocking factor\":0,\"delay factor\":3.0},\"nameSub\":\"General University Physics Lab\",\"id\":746915474,\"credits\":1,\"nameCanonical\":\"\"},{\"curriculum_requisites\":[],\"name\":\"CIS/WRD 110\",\"metrics\":{\"centrality\":0,\"complexity\":3.0,\"blocking factor\":1,\"delay factor\":2.0},\"nameSub\":\"Composition and Communication I\",\"id\":858428248,\"credits\":3,\"nameCanonical\":\"\"},{\"curriculum_requisites\":[],\"name\":\"MA 113\",\"metrics\":{\"centrality\":0,\"complexity\":23.0,\"blocking factor\":15,\"delay factor\":8.0},\"nameSub\":\"Calculus I\",\"id\":3389674827,\"credits\":4,\"nameCanonical\":\"\"}],\"id\":1},{\"name\":\"Term 2\",\"curriculum_items\":[{\"curriculum_requisites\":[{\"source_id\":502542156,\"target_id\":1123828828,\"type\":\"prereq\"},{\"source_id\":3389674827,\"target_id\":1123828828,\"type\":\"coreq\"},{\"source_id\":2865398329,\"target_id\":1123828828,\"type\":\"coreq\"},{\"source_id\":738464693,\"target_id\":1123828828,\"type\":\"coreq\"}],\"name\":\"EGR 103\",\"metrics\":{\"centrality\":0,\"complexity\":3.0,\"blocking factor\":0,\"delay factor\":3.0},\"nameSub\":\"Engineering Exploration II\",\"id\":1123828828,\"credits\":2,\"nameCanonical\":\"\"},{\"curriculum_requisites\":[{\"source_id\":858428248,\"target_id\":3660518225,\"type\":\"prereq\"}],\"name\":\"CIS/WRD 111\",\"metrics\":{\"centrality\":0,\"complexity\":2.0,\"blocking factor\":0,\"delay factor\":2.0},\"nameSub\":\"Composition and Communication II\",\"id\":3660518225,\"credits\":3,\"nameCanonical\":\"\"},{\"curriculum_requisites\":[{\"source_id\":3389674827,\"target_id\":2966989896,\"type\":\"prereq\"}],\"name\":\"MA 114\",\"metrics\":{\"centrality\":102,\"complexity\":19.0,\"blocking factor\":11,\"delay factor\":8.0},\"nameSub\":\"Calculus II\",\"id\":2966989896,\"credits\":4,\"nameCanonical\":\"\"},{\"curriculum_requisites\":[],\"name\":\"CHE 105\",\"metrics\":{\"centrality\":0,\"complexity\":3.0,\"blocking factor\":1,\"delay factor\":2.0},\"nameSub\":\"General College Chemistry I\",\"id\":738464693,\"credits\":4,\"nameCanonical\":\"\"},{\"curriculum_requisites\":[],\"name\":\" \",\"metrics\":{\"centrality\":0,\"complexity\":1.0,\"blocking factor\":0,\"delay factor\":1.0},\"nameSub\":\"UK Core - Social Sciences\",\"id\":1586162741,\"credits\":3,\"nameCanonical\":\"\"}],\"id\":2},{\"name\":\"Term 3\",\"curriculum_items\":[{\"curriculum_requisites\":[{\"source_id\":2966989896,\"target_id\":2193700744,\"type\":\"prereq\"}],\"name\":\"MA 213\",\"metrics\":{\"centrality\":102,\"complexity\":18.0,\"blocking factor\":10,\"delay factor\":8.0},\"nameSub\":\"Calculus III\",\"id\":2193700744,\"credits\":4,\"nameCanonical\":\"\"},{\"curriculum_requisites\":[{\"source_id\":2865398329,\"target_id\":24551683,\"type\":\"prereq\"},{\"source_id\":2193700744,\"target_id\":24551683,\"type\":\"coreq\"}],\"name\":\"PHY 232\",\"metrics\":{\"centrality\":121,\"complexity\":15.0,\"blocking factor\":7,\"delay factor\":8.0},\"nameSub\":\"General University Physics\",\"id\":24551683,\"credits\":4,\"nameCanonical\":\"\"},{\"curriculum_requisites\":[{\"source_id\":24551683,\"target_id\":4109240503,\"type\":\"coreq\"}],\"name\":\"PHY 242\",\"metrics\":{\"centrality\":60,\"complexity\":14.0,\"blocking factor\":6,\"delay factor\":8.0},\"nameSub\":\"General University Physics Lab\",\"id\":4109240503,\"credits\":1,\"nameCanonical\":\"\"},{\"curriculum_requisites\":[{\"source_id\":24551683,\"target_id\":1017230148,\"type\":\"coreq\"},{\"source_id\":4109240503,\"target_id\":1017230148,\"type\":\"coreq\"}],\"name\":\"EE 211\",\"metrics\":{\"centrality\":112,\"complexity\":13.0,\"blocking factor\":5,\"delay factor\":8.0},\"nameSub\":\"Circuits I\",\"id\":1017230148,\"credits\":4,\"nameCanonical\":\"\"},{\"curriculum_requisites\":[{\"source_id\":502542156,\"target_id\":1416959221,\"type\":\"prereq\"}],\"name\":\"EE 282\",\"metrics\":{\"centrality\":3,\"complexity\":4.0,\"blocking factor\":1,\"delay factor\":3.0},\"nameSub\":\"Digital Logic Design\",\"id\":1416959221,\"credits\":4,\"nameCanonical\":\"\"}],\"id\":3},{\"name\":\"Term 4\",\"curriculum_items\":[{\"curriculum_requisites\":[{\"source_id\":2193700744,\"target_id\":713164423,\"type\":\"prereq\"}],\"name\":\"MA 214\",\"metrics\":{\"centrality\":29,\"complexity\":9.0,\"blocking factor\":5,\"delay factor\":4.0},\"nameSub\":\"Calculus IV\",\"id\":713164423,\"credits\":3,\"nameCanonical\":\"\"},{\"curriculum_requisites\":[{\"source_id\":1017230148,\"target_id\":2281989961,\"type\":\"prereq\"},{\"source_id\":713164423,\"target_id\":2281989961,\"type\":\"coreq\"}],\"name\":\"EE 223\",\"metrics\":{\"centrality\":136,\"complexity\":12.0,\"blocking factor\":4,\"delay factor\":8.0},\"nameSub\":\"AC Circuits\",\"id\":2281989961,\"credits\":4,\"nameCanonical\":\"\"},{\"curriculum_requisites\":[{\"source_id\":1416959221,\"target_id\":1647567702,\"type\":\"prereq\"},{\"source_id\":1332377596,\"target_id\":1647567702,\"type\":\"coreq\"}],\"name\":\"EE 287\",\"metrics\":{\"centrality\":0,\"complexity\":3.0,\"blocking factor\":0,\"delay factor\":3.0},\"nameSub\":\"Intro. to Embedded Systems\",\"id\":1647567702,\"credits\":4,\"nameCanonical\":\"\"},{\"curriculum_requisites\":[],\"name\":\"CS 215\",\"metrics\":{\"centrality\":0,\"complexity\":3.0,\"blocking factor\":1,\"delay factor\":2.0},\"nameSub\":\"Intro. to Program Design Abstraction and Problem Solving\",\"id\":1332377596,\"credits\":4,\"nameCanonical\":\"\"},{\"curriculum_requisites\":[],\"name\":\" \",\"metrics\":{\"centrality\":0,\"complexity\":1.0,\"blocking factor\":0,\"delay factor\":1.0},\"nameSub\":\"UK Core - Humanities\",\"id\":699408466,\"credits\":3,\"nameCanonical\":\"\"}],\"id\":4},{\"name\":\"Term 5\",\"curriculum_items\":[{\"curriculum_requisites\":[{\"source_id\":2281989961,\"target_id\":3945639322,\"type\":\"prereq\"},{\"source_id\":24551683,\"target_id\":3945639322,\"type\":\"prereq\"}],\"name\":\"EE 415G\",\"metrics\":{\"centrality\":0,\"complexity\":8.0,\"blocking factor\":0,\"delay factor\":8.0},\"nameSub\":\"Electromechanics\",\"id\":3945639322,\"credits\":3,\"nameCanonical\":\"\"},{\"curriculum_requisites\":[{\"source_id\":2281989961,\"target_id\":2950065960,\"type\":\"prereq\"},{\"source_id\":713164423,\"target_id\":2950065960,\"type\":\"prereq\"}],\"name\":\"EE 421G\",\"metrics\":{\"centrality\":0,\"complexity\":8.0,\"blocking factor\":0,\"delay factor\":8.0},\"nameSub\":\"Signals & Systems\",\"id\":2950065960,\"credits\":3,\"nameCanonical\":\"\"},{\"curriculum_requisites\":[],\"name\":\" \",\"metrics\":{\"centrality\":0,\"complexity\":1.0,\"blocking factor\":0,\"delay factor\":1.0},\"nameSub\":\"Elective EE Laboratory 1\",\"id\":448709314,\"credits\":2,\"nameCanonical\":\"\"},{\"curriculum_requisites\":[{\"source_id\":2281989961,\"target_id\":16242192,\"type\":\"prereq\"}],\"name\":\"EE 461G\",\"metrics\":{\"centrality\":0,\"complexity\":8.0,\"blocking factor\":0,\"delay factor\":8.0},\"nameSub\":\"Intro. to Electronics\",\"id\":16242192,\"credits\":3,\"nameCanonical\":\"\"},{\"curriculum_requisites\":[{\"source_id\":2193700744,\"target_id\":2756944549,\"type\":\"prereq\"}],\"name\":\"MA 320\",\"metrics\":{\"centrality\":0,\"complexity\":4.0,\"blocking factor\":0,\"delay factor\":4.0},\"nameSub\":\"Introductory Probability\",\"id\":2756944549,\"credits\":3,\"nameCanonical\":\"\"},{\"curriculum_requisites\":[],\"name\":\" \",\"metrics\":{\"centrality\":0,\"complexity\":1.0,\"blocking factor\":0,\"delay factor\":1.0},\"nameSub\":\"Technical Elective 1\",\"id\":3654615878,\"credits\":3,\"nameCanonical\":\"\"}],\"id\":5},{\"name\":\"Term 6\",\"curriculum_items\":[{\"curriculum_requisites\":[{\"source_id\":2281989961,\"target_id\":1400716874,\"type\":\"prereq\"},{\"source_id\":2193700744,\"target_id\":1400716874,\"type\":\"prereq\"}],\"name\":\"EE 468G\",\"metrics\":{\"centrality\":0,\"complexity\":8.0,\"blocking factor\":0,\"delay factor\":8.0},\"nameSub\":\"Intro. to Engineering Electromagnetics\",\"id\":1400716874,\"credits\":4,\"nameCanonical\":\"\"},{\"curriculum_requisites\":[],\"name\":\" \",\"metrics\":{\"centrality\":0,\"complexity\":1.0,\"blocking factor\":0,\"delay factor\":1.0},\"nameSub\":\"Elective EE Laboratory 2\",\"id\":3008452217,\"credits\":2,\"nameCanonical\":\"\"},{\"curriculum_requisites\":[],\"name\":\" \",\"metrics\":{\"centrality\":0,\"complexity\":1.0,\"blocking factor\":0,\"delay factor\":1.0},\"nameSub\":\"Engineering/Science Elective 1\",\"id\":1824271747,\"credits\":3,\"nameCanonical\":\"\"},{\"curriculum_requisites\":[],\"name\":\" \",\"metrics\":{\"centrality\":0,\"complexity\":1.0,\"blocking factor\":0,\"delay factor\":1.0},\"nameSub\":\"Technical Elective 2\",\"id\":3697264218,\"credits\":3,\"nameCanonical\":\"\"},{\"curriculum_requisites\":[],\"name\":\" \",\"metrics\":{\"centrality\":0,\"complexity\":1.0,\"blocking factor\":0,\"delay factor\":1.0},\"nameSub\":\"UK Core - Citizenship - USA\",\"id\":1496407185,\"credits\":3,\"nameCanonical\":\"\"}],\"id\":6},{\"name\":\"Term 7\",\"curriculum_items\":[{\"curriculum_requisites\":[],\"name\":\"EE 490\",\"metrics\":{\"centrality\":0,\"complexity\":3.0,\"blocking factor\":1,\"delay factor\":2.0},\"nameSub\":\"EE Capstone Design\",\"id\":1116551982,\"credits\":3,\"nameCanonical\":\"\"},{\"curriculum_requisites\":[],\"name\":\" \",\"metrics\":{\"centrality\":0,\"complexity\":1.0,\"blocking factor\":0,\"delay factor\":1.0},\"nameSub\":\"EE Technical Elective 1\",\"id\":1373040133,\"credits\":3,\"nameCanonical\":\"\"},{\"curriculum_requisites\":[],\"name\":\" \",\"metrics\":{\"centrality\":0,\"complexity\":1.0,\"blocking factor\":0,\"delay factor\":1.0},\"nameSub\":\"EE Technical Elective 2\",\"id\":2900608954,\"credits\":3,\"nameCanonical\":\"\"},{\"curriculum_requisites\":[],\"name\":\" \",\"metrics\":{\"centrality\":0,\"complexity\":1.0,\"blocking factor\":0,\"delay factor\":1.0},\"nameSub\":\"Math/Statistics Elective\",\"id\":147960851,\"credits\":3,\"nameCanonical\":\"\"},{\"curriculum_requisites\":[],\"name\":\" \",\"metrics\":{\"centrality\":0,\"complexity\":1.0,\"blocking factor\":0,\"delay factor\":1.0},\"nameSub\":\"UK Core - Global Dynamics\",\"id\":819264340,\"credits\":3,\"nameCanonical\":\"\"}],\"id\":7},{\"name\":\"Term 8\",\"curriculum_items\":[{\"curriculum_requisites\":[{\"source_id\":1116551982,\"target_id\":2674820998,\"type\":\"prereq\"}],\"name\":\"EE 491\",\"metrics\":{\"centrality\":0,\"complexity\":2.0,\"blocking factor\":0,\"delay factor\":2.0},\"nameSub\":\"EE Capstone Design\",\"id\":2674820998,\"credits\":3,\"nameCanonical\":\"\"},{\"curriculum_requisites\":[],\"name\":\" \",\"metrics\":{\"centrality\":0,\"complexity\":1.0,\"blocking factor\":0,\"delay factor\":1.0},\"nameSub\":\"EE Technical Elective 3\",\"id\":3472050261,\"credits\":3,\"nameCanonical\":\"\"},{\"curriculum_requisites\":[],\"name\":\" \",\"metrics\":{\"centrality\":0,\"complexity\":1.0,\"blocking factor\":0,\"delay factor\":1.0},\"nameSub\":\"EE Technical Elective 4\",\"id\":3141179749,\"credits\":3,\"nameCanonical\":\"\"},{\"curriculum_requisites\":[],\"name\":\" \",\"metrics\":{\"centrality\":0,\"complexity\":1.0,\"blocking factor\":0,\"delay factor\":1.0},\"nameSub\":\"Supportive Elective\",\"id\":109586583,\"credits\":3,\"nameCanonical\":\"\"},{\"curriculum_requisites\":[],\"name\":\" \",\"metrics\":{\"centrality\":0,\"complexity\":1.0,\"blocking factor\":0,\"delay factor\":1.0},\"nameSub\":\"Engineering/Science Elective 2\",\"id\":1227973603,\"credits\":3,\"nameCanonical\":\"\"},{\"curriculum_requisites\":[],\"name\":\" \",\"metrics\":{\"centrality\":0,\"complexity\":1.0,\"blocking factor\":0,\"delay factor\":1.0},\"nameSub\":\"UK Core - Statistical Inferential Reasoning\",\"id\":599971617,\"credits\":3,\"nameCanonical\":\"\"}],\"id\":8}],\"institution\":\"\"}},\"*\"); window.removeEventListener(\"message\",window.messageReceived); window.messageReceived=(function (event){return (event.data.curriculum!==undefined) ? (_webIOScope.setObservableValue({\"name\":\"curriculum-data\",\"scope\":\"scope-e38fddb2-88c5-4710-8860-ffbce72681ea\",\"id\":\"ob_03\",\"type\":\"observable\"},event.data.curriculum)) : undefined}); return window.addEventListener(\"message\",window.messageReceived)})"
          },
          "id": "curriculum",
          "src": "http://localhost:8156",
          "style": {
           "border": "none",
           "height": "100vh",
           "margin": "0",
           "padding": "0",
           "width": "100%"
          }
         },
         "type": "node"
        }
       ],
       "instanceArgs": {
        "handlers": {},
        "id": "scope-e38fddb2-88c5-4710-8860-ffbce72681ea",
        "imports": {
         "data": [],
         "type": "async_block"
        },
        "observables": {
         "curriculum-data": {
          "id": "ob_03",
          "sync": true,
          "value": {
           "curriculum": {
            "curriculum_terms": [
             {
              "curriculum_items": [
               {
                "credits": 1,
                "curriculum_requisites": [],
                "id": 2071595408,
                "metrics": {
                 "blocking factor": 0,
                 "centrality": 0,
                 "complexity": 1,
                 "delay factor": 1
                },
                "name": "EGR 101",
                "nameCanonical": "",
                "nameSub": "Engineering Exploration I"
               },
               {
                "credits": 2,
                "curriculum_requisites": [],
                "id": 502542156,
                "metrics": {
                 "blocking factor": 3,
                 "centrality": 0,
                 "complexity": 6,
                 "delay factor": 3
                },
                "name": "EGR 102",
                "nameCanonical": "",
                "nameSub": "Fundamentals of Engineering Computing"
               },
               {
                "credits": 4,
                "curriculum_requisites": [
                 {
                  "source_id": 3389674827,
                  "target_id": 2865398329,
                  "type": "coreq"
                 }
                ],
                "id": 2865398329,
                "metrics": {
                 "blocking factor": 10,
                 "centrality": 62,
                 "complexity": 16,
                 "delay factor": 6
                },
                "name": "PHY 231",
                "nameCanonical": "",
                "nameSub": "General University Physics"
               },
               {
                "credits": 1,
                "curriculum_requisites": [
                 {
                  "source_id": 2865398329,
                  "target_id": 746915474,
                  "type": "coreq"
                 }
                ],
                "id": 746915474,
                "metrics": {
                 "blocking factor": 0,
                 "centrality": 0,
                 "complexity": 3,
                 "delay factor": 3
                },
                "name": "PHY 241",
                "nameCanonical": "",
                "nameSub": "General University Physics Lab"
               },
               {
                "credits": 3,
                "curriculum_requisites": [],
                "id": 858428248,
                "metrics": {
                 "blocking factor": 1,
                 "centrality": 0,
                 "complexity": 3,
                 "delay factor": 2
                },
                "name": "CIS/WRD 110",
                "nameCanonical": "",
                "nameSub": "Composition and Communication I"
               },
               {
                "credits": 4,
                "curriculum_requisites": [],
                "id": 3389674827,
                "metrics": {
                 "blocking factor": 15,
                 "centrality": 0,
                 "complexity": 23,
                 "delay factor": 8
                },
                "name": "MA 113",
                "nameCanonical": "",
                "nameSub": "Calculus I"
               }
              ],
              "id": 1,
              "name": "Term 1"
             },
             {
              "curriculum_items": [
               {
                "credits": 2,
                "curriculum_requisites": [
                 {
                  "source_id": 502542156,
                  "target_id": 1123828828,
                  "type": "prereq"
                 },
                 {
                  "source_id": 3389674827,
                  "target_id": 1123828828,
                  "type": "coreq"
                 },
                 {
                  "source_id": 2865398329,
                  "target_id": 1123828828,
                  "type": "coreq"
                 },
                 {
                  "source_id": 738464693,
                  "target_id": 1123828828,
                  "type": "coreq"
                 }
                ],
                "id": 1123828828,
                "metrics": {
                 "blocking factor": 0,
                 "centrality": 0,
                 "complexity": 3,
                 "delay factor": 3
                },
                "name": "EGR 103",
                "nameCanonical": "",
                "nameSub": "Engineering Exploration II"
               },
               {
                "credits": 3,
                "curriculum_requisites": [
                 {
                  "source_id": 858428248,
                  "target_id": 3660518225,
                  "type": "prereq"
                 }
                ],
                "id": 3660518225,
                "metrics": {
                 "blocking factor": 0,
                 "centrality": 0,
                 "complexity": 2,
                 "delay factor": 2
                },
                "name": "CIS/WRD 111",
                "nameCanonical": "",
                "nameSub": "Composition and Communication II"
               },
               {
                "credits": 4,
                "curriculum_requisites": [
                 {
                  "source_id": 3389674827,
                  "target_id": 2966989896,
                  "type": "prereq"
                 }
                ],
                "id": 2966989896,
                "metrics": {
                 "blocking factor": 11,
                 "centrality": 102,
                 "complexity": 19,
                 "delay factor": 8
                },
                "name": "MA 114",
                "nameCanonical": "",
                "nameSub": "Calculus II"
               },
               {
                "credits": 4,
                "curriculum_requisites": [],
                "id": 738464693,
                "metrics": {
                 "blocking factor": 1,
                 "centrality": 0,
                 "complexity": 3,
                 "delay factor": 2
                },
                "name": "CHE 105",
                "nameCanonical": "",
                "nameSub": "General College Chemistry I"
               },
               {
                "credits": 3,
                "curriculum_requisites": [],
                "id": 1586162741,
                "metrics": {
                 "blocking factor": 0,
                 "centrality": 0,
                 "complexity": 1,
                 "delay factor": 1
                },
                "name": " ",
                "nameCanonical": "",
                "nameSub": "UK Core - Social Sciences"
               }
              ],
              "id": 2,
              "name": "Term 2"
             },
             {
              "curriculum_items": [
               {
                "credits": 4,
                "curriculum_requisites": [
                 {
                  "source_id": 2966989896,
                  "target_id": 2193700744,
                  "type": "prereq"
                 }
                ],
                "id": 2193700744,
                "metrics": {
                 "blocking factor": 10,
                 "centrality": 102,
                 "complexity": 18,
                 "delay factor": 8
                },
                "name": "MA 213",
                "nameCanonical": "",
                "nameSub": "Calculus III"
               },
               {
                "credits": 4,
                "curriculum_requisites": [
                 {
                  "source_id": 2865398329,
                  "target_id": 24551683,
                  "type": "prereq"
                 },
                 {
                  "source_id": 2193700744,
                  "target_id": 24551683,
                  "type": "coreq"
                 }
                ],
                "id": 24551683,
                "metrics": {
                 "blocking factor": 7,
                 "centrality": 121,
                 "complexity": 15,
                 "delay factor": 8
                },
                "name": "PHY 232",
                "nameCanonical": "",
                "nameSub": "General University Physics"
               },
               {
                "credits": 1,
                "curriculum_requisites": [
                 {
                  "source_id": 24551683,
                  "target_id": 4109240503,
                  "type": "coreq"
                 }
                ],
                "id": 4109240503,
                "metrics": {
                 "blocking factor": 6,
                 "centrality": 60,
                 "complexity": 14,
                 "delay factor": 8
                },
                "name": "PHY 242",
                "nameCanonical": "",
                "nameSub": "General University Physics Lab"
               },
               {
                "credits": 4,
                "curriculum_requisites": [
                 {
                  "source_id": 24551683,
                  "target_id": 1017230148,
                  "type": "coreq"
                 },
                 {
                  "source_id": 4109240503,
                  "target_id": 1017230148,
                  "type": "coreq"
                 }
                ],
                "id": 1017230148,
                "metrics": {
                 "blocking factor": 5,
                 "centrality": 112,
                 "complexity": 13,
                 "delay factor": 8
                },
                "name": "EE 211",
                "nameCanonical": "",
                "nameSub": "Circuits I"
               },
               {
                "credits": 4,
                "curriculum_requisites": [
                 {
                  "source_id": 502542156,
                  "target_id": 1416959221,
                  "type": "prereq"
                 }
                ],
                "id": 1416959221,
                "metrics": {
                 "blocking factor": 1,
                 "centrality": 3,
                 "complexity": 4,
                 "delay factor": 3
                },
                "name": "EE 282",
                "nameCanonical": "",
                "nameSub": "Digital Logic Design"
               }
              ],
              "id": 3,
              "name": "Term 3"
             },
             {
              "curriculum_items": [
               {
                "credits": 3,
                "curriculum_requisites": [
                 {
                  "source_id": 2193700744,
                  "target_id": 713164423,
                  "type": "prereq"
                 }
                ],
                "id": 713164423,
                "metrics": {
                 "blocking factor": 5,
                 "centrality": 29,
                 "complexity": 9,
                 "delay factor": 4
                },
                "name": "MA 214",
                "nameCanonical": "",
                "nameSub": "Calculus IV"
               },
               {
                "credits": 4,
                "curriculum_requisites": [
                 {
                  "source_id": 1017230148,
                  "target_id": 2281989961,
                  "type": "prereq"
                 },
                 {
                  "source_id": 713164423,
                  "target_id": 2281989961,
                  "type": "coreq"
                 }
                ],
                "id": 2281989961,
                "metrics": {
                 "blocking factor": 4,
                 "centrality": 136,
                 "complexity": 12,
                 "delay factor": 8
                },
                "name": "EE 223",
                "nameCanonical": "",
                "nameSub": "AC Circuits"
               },
               {
                "credits": 4,
                "curriculum_requisites": [
                 {
                  "source_id": 1416959221,
                  "target_id": 1647567702,
                  "type": "prereq"
                 },
                 {
                  "source_id": 1332377596,
                  "target_id": 1647567702,
                  "type": "coreq"
                 }
                ],
                "id": 1647567702,
                "metrics": {
                 "blocking factor": 0,
                 "centrality": 0,
                 "complexity": 3,
                 "delay factor": 3
                },
                "name": "EE 287",
                "nameCanonical": "",
                "nameSub": "Intro. to Embedded Systems"
               },
               {
                "credits": 4,
                "curriculum_requisites": [],
                "id": 1332377596,
                "metrics": {
                 "blocking factor": 1,
                 "centrality": 0,
                 "complexity": 3,
                 "delay factor": 2
                },
                "name": "CS 215",
                "nameCanonical": "",
                "nameSub": "Intro. to Program Design Abstraction and Problem Solving"
               },
               {
                "credits": 3,
                "curriculum_requisites": [],
                "id": 699408466,
                "metrics": {
                 "blocking factor": 0,
                 "centrality": 0,
                 "complexity": 1,
                 "delay factor": 1
                },
                "name": " ",
                "nameCanonical": "",
                "nameSub": "UK Core - Humanities"
               }
              ],
              "id": 4,
              "name": "Term 4"
             },
             {
              "curriculum_items": [
               {
                "credits": 3,
                "curriculum_requisites": [
                 {
                  "source_id": 2281989961,
                  "target_id": 3945639322,
                  "type": "prereq"
                 },
                 {
                  "source_id": 24551683,
                  "target_id": 3945639322,
                  "type": "prereq"
                 }
                ],
                "id": 3945639322,
                "metrics": {
                 "blocking factor": 0,
                 "centrality": 0,
                 "complexity": 8,
                 "delay factor": 8
                },
                "name": "EE 415G",
                "nameCanonical": "",
                "nameSub": "Electromechanics"
               },
               {
                "credits": 3,
                "curriculum_requisites": [
                 {
                  "source_id": 2281989961,
                  "target_id": 2950065960,
                  "type": "prereq"
                 },
                 {
                  "source_id": 713164423,
                  "target_id": 2950065960,
                  "type": "prereq"
                 }
                ],
                "id": 2950065960,
                "metrics": {
                 "blocking factor": 0,
                 "centrality": 0,
                 "complexity": 8,
                 "delay factor": 8
                },
                "name": "EE 421G",
                "nameCanonical": "",
                "nameSub": "Signals & Systems"
               },
               {
                "credits": 2,
                "curriculum_requisites": [],
                "id": 448709314,
                "metrics": {
                 "blocking factor": 0,
                 "centrality": 0,
                 "complexity": 1,
                 "delay factor": 1
                },
                "name": " ",
                "nameCanonical": "",
                "nameSub": "Elective EE Laboratory 1"
               },
               {
                "credits": 3,
                "curriculum_requisites": [
                 {
                  "source_id": 2281989961,
                  "target_id": 16242192,
                  "type": "prereq"
                 }
                ],
                "id": 16242192,
                "metrics": {
                 "blocking factor": 0,
                 "centrality": 0,
                 "complexity": 8,
                 "delay factor": 8
                },
                "name": "EE 461G",
                "nameCanonical": "",
                "nameSub": "Intro. to Electronics"
               },
               {
                "credits": 3,
                "curriculum_requisites": [
                 {
                  "source_id": 2193700744,
                  "target_id": 2756944549,
                  "type": "prereq"
                 }
                ],
                "id": 2756944549,
                "metrics": {
                 "blocking factor": 0,
                 "centrality": 0,
                 "complexity": 4,
                 "delay factor": 4
                },
                "name": "MA 320",
                "nameCanonical": "",
                "nameSub": "Introductory Probability"
               },
               {
                "credits": 3,
                "curriculum_requisites": [],
                "id": 3654615878,
                "metrics": {
                 "blocking factor": 0,
                 "centrality": 0,
                 "complexity": 1,
                 "delay factor": 1
                },
                "name": " ",
                "nameCanonical": "",
                "nameSub": "Technical Elective 1"
               }
              ],
              "id": 5,
              "name": "Term 5"
             },
             {
              "curriculum_items": [
               {
                "credits": 4,
                "curriculum_requisites": [
                 {
                  "source_id": 2281989961,
                  "target_id": 1400716874,
                  "type": "prereq"
                 },
                 {
                  "source_id": 2193700744,
                  "target_id": 1400716874,
                  "type": "prereq"
                 }
                ],
                "id": 1400716874,
                "metrics": {
                 "blocking factor": 0,
                 "centrality": 0,
                 "complexity": 8,
                 "delay factor": 8
                },
                "name": "EE 468G",
                "nameCanonical": "",
                "nameSub": "Intro. to Engineering Electromagnetics"
               },
               {
                "credits": 2,
                "curriculum_requisites": [],
                "id": 3008452217,
                "metrics": {
                 "blocking factor": 0,
                 "centrality": 0,
                 "complexity": 1,
                 "delay factor": 1
                },
                "name": " ",
                "nameCanonical": "",
                "nameSub": "Elective EE Laboratory 2"
               },
               {
                "credits": 3,
                "curriculum_requisites": [],
                "id": 1824271747,
                "metrics": {
                 "blocking factor": 0,
                 "centrality": 0,
                 "complexity": 1,
                 "delay factor": 1
                },
                "name": " ",
                "nameCanonical": "",
                "nameSub": "Engineering/Science Elective 1"
               },
               {
                "credits": 3,
                "curriculum_requisites": [],
                "id": 3697264218,
                "metrics": {
                 "blocking factor": 0,
                 "centrality": 0,
                 "complexity": 1,
                 "delay factor": 1
                },
                "name": " ",
                "nameCanonical": "",
                "nameSub": "Technical Elective 2"
               },
               {
                "credits": 3,
                "curriculum_requisites": [],
                "id": 1496407185,
                "metrics": {
                 "blocking factor": 0,
                 "centrality": 0,
                 "complexity": 1,
                 "delay factor": 1
                },
                "name": " ",
                "nameCanonical": "",
                "nameSub": "UK Core - Citizenship - USA"
               }
              ],
              "id": 6,
              "name": "Term 6"
             },
             {
              "curriculum_items": [
               {
                "credits": 3,
                "curriculum_requisites": [],
                "id": 1116551982,
                "metrics": {
                 "blocking factor": 1,
                 "centrality": 0,
                 "complexity": 3,
                 "delay factor": 2
                },
                "name": "EE 490",
                "nameCanonical": "",
                "nameSub": "EE Capstone Design"
               },
               {
                "credits": 3,
                "curriculum_requisites": [],
                "id": 1373040133,
                "metrics": {
                 "blocking factor": 0,
                 "centrality": 0,
                 "complexity": 1,
                 "delay factor": 1
                },
                "name": " ",
                "nameCanonical": "",
                "nameSub": "EE Technical Elective 1"
               },
               {
                "credits": 3,
                "curriculum_requisites": [],
                "id": 2900608954,
                "metrics": {
                 "blocking factor": 0,
                 "centrality": 0,
                 "complexity": 1,
                 "delay factor": 1
                },
                "name": " ",
                "nameCanonical": "",
                "nameSub": "EE Technical Elective 2"
               },
               {
                "credits": 3,
                "curriculum_requisites": [],
                "id": 147960851,
                "metrics": {
                 "blocking factor": 0,
                 "centrality": 0,
                 "complexity": 1,
                 "delay factor": 1
                },
                "name": " ",
                "nameCanonical": "",
                "nameSub": "Math/Statistics Elective"
               },
               {
                "credits": 3,
                "curriculum_requisites": [],
                "id": 819264340,
                "metrics": {
                 "blocking factor": 0,
                 "centrality": 0,
                 "complexity": 1,
                 "delay factor": 1
                },
                "name": " ",
                "nameCanonical": "",
                "nameSub": "UK Core - Global Dynamics"
               }
              ],
              "id": 7,
              "name": "Term 7"
             },
             {
              "curriculum_items": [
               {
                "credits": 3,
                "curriculum_requisites": [
                 {
                  "source_id": 1116551982,
                  "target_id": 2674820998,
                  "type": "prereq"
                 }
                ],
                "id": 2674820998,
                "metrics": {
                 "blocking factor": 0,
                 "centrality": 0,
                 "complexity": 2,
                 "delay factor": 2
                },
                "name": "EE 491",
                "nameCanonical": "",
                "nameSub": "EE Capstone Design"
               },
               {
                "credits": 3,
                "curriculum_requisites": [],
                "id": 3472050261,
                "metrics": {
                 "blocking factor": 0,
                 "centrality": 0,
                 "complexity": 1,
                 "delay factor": 1
                },
                "name": " ",
                "nameCanonical": "",
                "nameSub": "EE Technical Elective 3"
               },
               {
                "credits": 3,
                "curriculum_requisites": [],
                "id": 3141179749,
                "metrics": {
                 "blocking factor": 0,
                 "centrality": 0,
                 "complexity": 1,
                 "delay factor": 1
                },
                "name": " ",
                "nameCanonical": "",
                "nameSub": "EE Technical Elective 4"
               },
               {
                "credits": 3,
                "curriculum_requisites": [],
                "id": 109586583,
                "metrics": {
                 "blocking factor": 0,
                 "centrality": 0,
                 "complexity": 1,
                 "delay factor": 1
                },
                "name": " ",
                "nameCanonical": "",
                "nameSub": "Supportive Elective"
               },
               {
                "credits": 3,
                "curriculum_requisites": [],
                "id": 1227973603,
                "metrics": {
                 "blocking factor": 0,
                 "centrality": 0,
                 "complexity": 1,
                 "delay factor": 1
                },
                "name": " ",
                "nameCanonical": "",
                "nameSub": "Engineering/Science Elective 2"
               },
               {
                "credits": 3,
                "curriculum_requisites": [],
                "id": 599971617,
                "metrics": {
                 "blocking factor": 0,
                 "centrality": 0,
                 "complexity": 1,
                 "delay factor": 1
                },
                "name": " ",
                "nameCanonical": "",
                "nameSub": "UK Core - Statistical Inferential Reasoning"
               }
              ],
              "id": 8,
              "name": "Term 8"
             }
            ],
            "dp_name": "University of Kentucky EE Program 4-year Plan",
            "institution": "",
            "name": "University of Kentucky EE Program"
           },
           "options": {
            "edit": true,
            "hideTerms": false
           }
          }
         }
        },
        "systemjs_options": null
       },
       "nodeType": "Scope",
       "props": {},
       "type": "node"
      },
      "text/html": [
       "<div\n",
       "    class=\"webio-mountpoint\"\n",
       "    data-webio-mountpoint=\"7051462051100721838\"\n",
       ">\n",
       "    <script>\n",
       "    if (window.require && require.defined && require.defined(\"nbextensions/webio/main\")) {\n",
       "        console.log(\"Jupyter WebIO extension detected, not mounting.\");\n",
       "    } else if (window.WebIO) {\n",
       "        WebIO.mount(\n",
       "            document.querySelector('[data-webio-mountpoint=\"7051462051100721838\"]'),\n",
       "            {\"props\":{},\"nodeType\":\"Scope\",\"type\":\"node\",\"instanceArgs\":{\"imports\":{\"data\":[],\"type\":\"async_block\"},\"id\":\"scope-e38fddb2-88c5-4710-8860-ffbce72681ea\",\"handlers\":{},\"systemjs_options\":null,\"observables\":{\"curriculum-data\":{\"sync\":true,\"id\":\"ob_03\",\"value\":{\"options\":{\"hideTerms\":false,\"edit\":true},\"curriculum\":{\"name\":\"University of Kentucky EE Program\",\"dp_name\":\"University of Kentucky EE Program 4-year Plan\",\"curriculum_terms\":[{\"name\":\"Term 1\",\"curriculum_items\":[{\"curriculum_requisites\":[],\"name\":\"EGR 101\",\"metrics\":{\"centrality\":0,\"complexity\":1.0,\"blocking factor\":0,\"delay factor\":1.0},\"nameSub\":\"Engineering Exploration I\",\"id\":2071595408,\"credits\":1,\"nameCanonical\":\"\"},{\"curriculum_requisites\":[],\"name\":\"EGR 102\",\"metrics\":{\"centrality\":0,\"complexity\":6.0,\"blocking factor\":3,\"delay factor\":3.0},\"nameSub\":\"Fundamentals of Engineering Computing\",\"id\":502542156,\"credits\":2,\"nameCanonical\":\"\"},{\"curriculum_requisites\":[{\"source_id\":3389674827,\"target_id\":2865398329,\"type\":\"coreq\"}],\"name\":\"PHY 231\",\"metrics\":{\"centrality\":62,\"complexity\":16.0,\"blocking factor\":10,\"delay factor\":6.0},\"nameSub\":\"General University Physics\",\"id\":2865398329,\"credits\":4,\"nameCanonical\":\"\"},{\"curriculum_requisites\":[{\"source_id\":2865398329,\"target_id\":746915474,\"type\":\"coreq\"}],\"name\":\"PHY 241\",\"metrics\":{\"centrality\":0,\"complexity\":3.0,\"blocking factor\":0,\"delay factor\":3.0},\"nameSub\":\"General University Physics Lab\",\"id\":746915474,\"credits\":1,\"nameCanonical\":\"\"},{\"curriculum_requisites\":[],\"name\":\"CIS\\/WRD 110\",\"metrics\":{\"centrality\":0,\"complexity\":3.0,\"blocking factor\":1,\"delay factor\":2.0},\"nameSub\":\"Composition and Communication I\",\"id\":858428248,\"credits\":3,\"nameCanonical\":\"\"},{\"curriculum_requisites\":[],\"name\":\"MA 113\",\"metrics\":{\"centrality\":0,\"complexity\":23.0,\"blocking factor\":15,\"delay factor\":8.0},\"nameSub\":\"Calculus I\",\"id\":3389674827,\"credits\":4,\"nameCanonical\":\"\"}],\"id\":1},{\"name\":\"Term 2\",\"curriculum_items\":[{\"curriculum_requisites\":[{\"source_id\":502542156,\"target_id\":1123828828,\"type\":\"prereq\"},{\"source_id\":3389674827,\"target_id\":1123828828,\"type\":\"coreq\"},{\"source_id\":2865398329,\"target_id\":1123828828,\"type\":\"coreq\"},{\"source_id\":738464693,\"target_id\":1123828828,\"type\":\"coreq\"}],\"name\":\"EGR 103\",\"metrics\":{\"centrality\":0,\"complexity\":3.0,\"blocking factor\":0,\"delay factor\":3.0},\"nameSub\":\"Engineering Exploration II\",\"id\":1123828828,\"credits\":2,\"nameCanonical\":\"\"},{\"curriculum_requisites\":[{\"source_id\":858428248,\"target_id\":3660518225,\"type\":\"prereq\"}],\"name\":\"CIS\\/WRD 111\",\"metrics\":{\"centrality\":0,\"complexity\":2.0,\"blocking factor\":0,\"delay factor\":2.0},\"nameSub\":\"Composition and Communication II\",\"id\":3660518225,\"credits\":3,\"nameCanonical\":\"\"},{\"curriculum_requisites\":[{\"source_id\":3389674827,\"target_id\":2966989896,\"type\":\"prereq\"}],\"name\":\"MA 114\",\"metrics\":{\"centrality\":102,\"complexity\":19.0,\"blocking factor\":11,\"delay factor\":8.0},\"nameSub\":\"Calculus II\",\"id\":2966989896,\"credits\":4,\"nameCanonical\":\"\"},{\"curriculum_requisites\":[],\"name\":\"CHE 105\",\"metrics\":{\"centrality\":0,\"complexity\":3.0,\"blocking factor\":1,\"delay factor\":2.0},\"nameSub\":\"General College Chemistry I\",\"id\":738464693,\"credits\":4,\"nameCanonical\":\"\"},{\"curriculum_requisites\":[],\"name\":\" \",\"metrics\":{\"centrality\":0,\"complexity\":1.0,\"blocking factor\":0,\"delay factor\":1.0},\"nameSub\":\"UK Core - Social Sciences\",\"id\":1586162741,\"credits\":3,\"nameCanonical\":\"\"}],\"id\":2},{\"name\":\"Term 3\",\"curriculum_items\":[{\"curriculum_requisites\":[{\"source_id\":2966989896,\"target_id\":2193700744,\"type\":\"prereq\"}],\"name\":\"MA 213\",\"metrics\":{\"centrality\":102,\"complexity\":18.0,\"blocking factor\":10,\"delay factor\":8.0},\"nameSub\":\"Calculus III\",\"id\":2193700744,\"credits\":4,\"nameCanonical\":\"\"},{\"curriculum_requisites\":[{\"source_id\":2865398329,\"target_id\":24551683,\"type\":\"prereq\"},{\"source_id\":2193700744,\"target_id\":24551683,\"type\":\"coreq\"}],\"name\":\"PHY 232\",\"metrics\":{\"centrality\":121,\"complexity\":15.0,\"blocking factor\":7,\"delay factor\":8.0},\"nameSub\":\"General University Physics\",\"id\":24551683,\"credits\":4,\"nameCanonical\":\"\"},{\"curriculum_requisites\":[{\"source_id\":24551683,\"target_id\":4109240503,\"type\":\"coreq\"}],\"name\":\"PHY 242\",\"metrics\":{\"centrality\":60,\"complexity\":14.0,\"blocking factor\":6,\"delay factor\":8.0},\"nameSub\":\"General University Physics Lab\",\"id\":4109240503,\"credits\":1,\"nameCanonical\":\"\"},{\"curriculum_requisites\":[{\"source_id\":24551683,\"target_id\":1017230148,\"type\":\"coreq\"},{\"source_id\":4109240503,\"target_id\":1017230148,\"type\":\"coreq\"}],\"name\":\"EE 211\",\"metrics\":{\"centrality\":112,\"complexity\":13.0,\"blocking factor\":5,\"delay factor\":8.0},\"nameSub\":\"Circuits I\",\"id\":1017230148,\"credits\":4,\"nameCanonical\":\"\"},{\"curriculum_requisites\":[{\"source_id\":502542156,\"target_id\":1416959221,\"type\":\"prereq\"}],\"name\":\"EE 282\",\"metrics\":{\"centrality\":3,\"complexity\":4.0,\"blocking factor\":1,\"delay factor\":3.0},\"nameSub\":\"Digital Logic Design\",\"id\":1416959221,\"credits\":4,\"nameCanonical\":\"\"}],\"id\":3},{\"name\":\"Term 4\",\"curriculum_items\":[{\"curriculum_requisites\":[{\"source_id\":2193700744,\"target_id\":713164423,\"type\":\"prereq\"}],\"name\":\"MA 214\",\"metrics\":{\"centrality\":29,\"complexity\":9.0,\"blocking factor\":5,\"delay factor\":4.0},\"nameSub\":\"Calculus IV\",\"id\":713164423,\"credits\":3,\"nameCanonical\":\"\"},{\"curriculum_requisites\":[{\"source_id\":1017230148,\"target_id\":2281989961,\"type\":\"prereq\"},{\"source_id\":713164423,\"target_id\":2281989961,\"type\":\"coreq\"}],\"name\":\"EE 223\",\"metrics\":{\"centrality\":136,\"complexity\":12.0,\"blocking factor\":4,\"delay factor\":8.0},\"nameSub\":\"AC Circuits\",\"id\":2281989961,\"credits\":4,\"nameCanonical\":\"\"},{\"curriculum_requisites\":[{\"source_id\":1416959221,\"target_id\":1647567702,\"type\":\"prereq\"},{\"source_id\":1332377596,\"target_id\":1647567702,\"type\":\"coreq\"}],\"name\":\"EE 287\",\"metrics\":{\"centrality\":0,\"complexity\":3.0,\"blocking factor\":0,\"delay factor\":3.0},\"nameSub\":\"Intro. to Embedded Systems\",\"id\":1647567702,\"credits\":4,\"nameCanonical\":\"\"},{\"curriculum_requisites\":[],\"name\":\"CS 215\",\"metrics\":{\"centrality\":0,\"complexity\":3.0,\"blocking factor\":1,\"delay factor\":2.0},\"nameSub\":\"Intro. to Program Design Abstraction and Problem Solving\",\"id\":1332377596,\"credits\":4,\"nameCanonical\":\"\"},{\"curriculum_requisites\":[],\"name\":\" \",\"metrics\":{\"centrality\":0,\"complexity\":1.0,\"blocking factor\":0,\"delay factor\":1.0},\"nameSub\":\"UK Core - Humanities\",\"id\":699408466,\"credits\":3,\"nameCanonical\":\"\"}],\"id\":4},{\"name\":\"Term 5\",\"curriculum_items\":[{\"curriculum_requisites\":[{\"source_id\":2281989961,\"target_id\":3945639322,\"type\":\"prereq\"},{\"source_id\":24551683,\"target_id\":3945639322,\"type\":\"prereq\"}],\"name\":\"EE 415G\",\"metrics\":{\"centrality\":0,\"complexity\":8.0,\"blocking factor\":0,\"delay factor\":8.0},\"nameSub\":\"Electromechanics\",\"id\":3945639322,\"credits\":3,\"nameCanonical\":\"\"},{\"curriculum_requisites\":[{\"source_id\":2281989961,\"target_id\":2950065960,\"type\":\"prereq\"},{\"source_id\":713164423,\"target_id\":2950065960,\"type\":\"prereq\"}],\"name\":\"EE 421G\",\"metrics\":{\"centrality\":0,\"complexity\":8.0,\"blocking factor\":0,\"delay factor\":8.0},\"nameSub\":\"Signals & Systems\",\"id\":2950065960,\"credits\":3,\"nameCanonical\":\"\"},{\"curriculum_requisites\":[],\"name\":\" \",\"metrics\":{\"centrality\":0,\"complexity\":1.0,\"blocking factor\":0,\"delay factor\":1.0},\"nameSub\":\"Elective EE Laboratory 1\",\"id\":448709314,\"credits\":2,\"nameCanonical\":\"\"},{\"curriculum_requisites\":[{\"source_id\":2281989961,\"target_id\":16242192,\"type\":\"prereq\"}],\"name\":\"EE 461G\",\"metrics\":{\"centrality\":0,\"complexity\":8.0,\"blocking factor\":0,\"delay factor\":8.0},\"nameSub\":\"Intro. to Electronics\",\"id\":16242192,\"credits\":3,\"nameCanonical\":\"\"},{\"curriculum_requisites\":[{\"source_id\":2193700744,\"target_id\":2756944549,\"type\":\"prereq\"}],\"name\":\"MA 320\",\"metrics\":{\"centrality\":0,\"complexity\":4.0,\"blocking factor\":0,\"delay factor\":4.0},\"nameSub\":\"Introductory Probability\",\"id\":2756944549,\"credits\":3,\"nameCanonical\":\"\"},{\"curriculum_requisites\":[],\"name\":\" \",\"metrics\":{\"centrality\":0,\"complexity\":1.0,\"blocking factor\":0,\"delay factor\":1.0},\"nameSub\":\"Technical Elective 1\",\"id\":3654615878,\"credits\":3,\"nameCanonical\":\"\"}],\"id\":5},{\"name\":\"Term 6\",\"curriculum_items\":[{\"curriculum_requisites\":[{\"source_id\":2281989961,\"target_id\":1400716874,\"type\":\"prereq\"},{\"source_id\":2193700744,\"target_id\":1400716874,\"type\":\"prereq\"}],\"name\":\"EE 468G\",\"metrics\":{\"centrality\":0,\"complexity\":8.0,\"blocking factor\":0,\"delay factor\":8.0},\"nameSub\":\"Intro. to Engineering Electromagnetics\",\"id\":1400716874,\"credits\":4,\"nameCanonical\":\"\"},{\"curriculum_requisites\":[],\"name\":\" \",\"metrics\":{\"centrality\":0,\"complexity\":1.0,\"blocking factor\":0,\"delay factor\":1.0},\"nameSub\":\"Elective EE Laboratory 2\",\"id\":3008452217,\"credits\":2,\"nameCanonical\":\"\"},{\"curriculum_requisites\":[],\"name\":\" \",\"metrics\":{\"centrality\":0,\"complexity\":1.0,\"blocking factor\":0,\"delay factor\":1.0},\"nameSub\":\"Engineering\\/Science Elective 1\",\"id\":1824271747,\"credits\":3,\"nameCanonical\":\"\"},{\"curriculum_requisites\":[],\"name\":\" \",\"metrics\":{\"centrality\":0,\"complexity\":1.0,\"blocking factor\":0,\"delay factor\":1.0},\"nameSub\":\"Technical Elective 2\",\"id\":3697264218,\"credits\":3,\"nameCanonical\":\"\"},{\"curriculum_requisites\":[],\"name\":\" \",\"metrics\":{\"centrality\":0,\"complexity\":1.0,\"blocking factor\":0,\"delay factor\":1.0},\"nameSub\":\"UK Core - Citizenship - USA\",\"id\":1496407185,\"credits\":3,\"nameCanonical\":\"\"}],\"id\":6},{\"name\":\"Term 7\",\"curriculum_items\":[{\"curriculum_requisites\":[],\"name\":\"EE 490\",\"metrics\":{\"centrality\":0,\"complexity\":3.0,\"blocking factor\":1,\"delay factor\":2.0},\"nameSub\":\"EE Capstone Design\",\"id\":1116551982,\"credits\":3,\"nameCanonical\":\"\"},{\"curriculum_requisites\":[],\"name\":\" \",\"metrics\":{\"centrality\":0,\"complexity\":1.0,\"blocking factor\":0,\"delay factor\":1.0},\"nameSub\":\"EE Technical Elective 1\",\"id\":1373040133,\"credits\":3,\"nameCanonical\":\"\"},{\"curriculum_requisites\":[],\"name\":\" \",\"metrics\":{\"centrality\":0,\"complexity\":1.0,\"blocking factor\":0,\"delay factor\":1.0},\"nameSub\":\"EE Technical Elective 2\",\"id\":2900608954,\"credits\":3,\"nameCanonical\":\"\"},{\"curriculum_requisites\":[],\"name\":\" \",\"metrics\":{\"centrality\":0,\"complexity\":1.0,\"blocking factor\":0,\"delay factor\":1.0},\"nameSub\":\"Math\\/Statistics Elective\",\"id\":147960851,\"credits\":3,\"nameCanonical\":\"\"},{\"curriculum_requisites\":[],\"name\":\" \",\"metrics\":{\"centrality\":0,\"complexity\":1.0,\"blocking factor\":0,\"delay factor\":1.0},\"nameSub\":\"UK Core - Global Dynamics\",\"id\":819264340,\"credits\":3,\"nameCanonical\":\"\"}],\"id\":7},{\"name\":\"Term 8\",\"curriculum_items\":[{\"curriculum_requisites\":[{\"source_id\":1116551982,\"target_id\":2674820998,\"type\":\"prereq\"}],\"name\":\"EE 491\",\"metrics\":{\"centrality\":0,\"complexity\":2.0,\"blocking factor\":0,\"delay factor\":2.0},\"nameSub\":\"EE Capstone Design\",\"id\":2674820998,\"credits\":3,\"nameCanonical\":\"\"},{\"curriculum_requisites\":[],\"name\":\" \",\"metrics\":{\"centrality\":0,\"complexity\":1.0,\"blocking factor\":0,\"delay factor\":1.0},\"nameSub\":\"EE Technical Elective 3\",\"id\":3472050261,\"credits\":3,\"nameCanonical\":\"\"},{\"curriculum_requisites\":[],\"name\":\" \",\"metrics\":{\"centrality\":0,\"complexity\":1.0,\"blocking factor\":0,\"delay factor\":1.0},\"nameSub\":\"EE Technical Elective 4\",\"id\":3141179749,\"credits\":3,\"nameCanonical\":\"\"},{\"curriculum_requisites\":[],\"name\":\" \",\"metrics\":{\"centrality\":0,\"complexity\":1.0,\"blocking factor\":0,\"delay factor\":1.0},\"nameSub\":\"Supportive Elective\",\"id\":109586583,\"credits\":3,\"nameCanonical\":\"\"},{\"curriculum_requisites\":[],\"name\":\" \",\"metrics\":{\"centrality\":0,\"complexity\":1.0,\"blocking factor\":0,\"delay factor\":1.0},\"nameSub\":\"Engineering\\/Science Elective 2\",\"id\":1227973603,\"credits\":3,\"nameCanonical\":\"\"},{\"curriculum_requisites\":[],\"name\":\" \",\"metrics\":{\"centrality\":0,\"complexity\":1.0,\"blocking factor\":0,\"delay factor\":1.0},\"nameSub\":\"UK Core - Statistical Inferential Reasoning\",\"id\":599971617,\"credits\":3,\"nameCanonical\":\"\"}],\"id\":8}],\"institution\":\"\"}}}}},\"children\":[{\"props\":{\"src\":\"http:\\/\\/localhost:8156\",\"id\":\"curriculum\",\"events\":{\"load\":\"(function (){this.contentWindow.postMessage({\\\"options\\\":{\\\"hideTerms\\\":false,\\\"edit\\\":true},\\\"curriculum\\\":{\\\"name\\\":\\\"University of Kentucky EE Program\\\",\\\"dp_name\\\":\\\"University of Kentucky EE Program 4-year Plan\\\",\\\"curriculum_terms\\\":[{\\\"name\\\":\\\"Term 1\\\",\\\"curriculum_items\\\":[{\\\"curriculum_requisites\\\":[],\\\"name\\\":\\\"EGR 101\\\",\\\"metrics\\\":{\\\"centrality\\\":0,\\\"complexity\\\":1.0,\\\"blocking factor\\\":0,\\\"delay factor\\\":1.0},\\\"nameSub\\\":\\\"Engineering Exploration I\\\",\\\"id\\\":2071595408,\\\"credits\\\":1,\\\"nameCanonical\\\":\\\"\\\"},{\\\"curriculum_requisites\\\":[],\\\"name\\\":\\\"EGR 102\\\",\\\"metrics\\\":{\\\"centrality\\\":0,\\\"complexity\\\":6.0,\\\"blocking factor\\\":3,\\\"delay factor\\\":3.0},\\\"nameSub\\\":\\\"Fundamentals of Engineering Computing\\\",\\\"id\\\":502542156,\\\"credits\\\":2,\\\"nameCanonical\\\":\\\"\\\"},{\\\"curriculum_requisites\\\":[{\\\"source_id\\\":3389674827,\\\"target_id\\\":2865398329,\\\"type\\\":\\\"coreq\\\"}],\\\"name\\\":\\\"PHY 231\\\",\\\"metrics\\\":{\\\"centrality\\\":62,\\\"complexity\\\":16.0,\\\"blocking factor\\\":10,\\\"delay factor\\\":6.0},\\\"nameSub\\\":\\\"General University Physics\\\",\\\"id\\\":2865398329,\\\"credits\\\":4,\\\"nameCanonical\\\":\\\"\\\"},{\\\"curriculum_requisites\\\":[{\\\"source_id\\\":2865398329,\\\"target_id\\\":746915474,\\\"type\\\":\\\"coreq\\\"}],\\\"name\\\":\\\"PHY 241\\\",\\\"metrics\\\":{\\\"centrality\\\":0,\\\"complexity\\\":3.0,\\\"blocking factor\\\":0,\\\"delay factor\\\":3.0},\\\"nameSub\\\":\\\"General University Physics Lab\\\",\\\"id\\\":746915474,\\\"credits\\\":1,\\\"nameCanonical\\\":\\\"\\\"},{\\\"curriculum_requisites\\\":[],\\\"name\\\":\\\"CIS\\/WRD 110\\\",\\\"metrics\\\":{\\\"centrality\\\":0,\\\"complexity\\\":3.0,\\\"blocking factor\\\":1,\\\"delay factor\\\":2.0},\\\"nameSub\\\":\\\"Composition and Communication I\\\",\\\"id\\\":858428248,\\\"credits\\\":3,\\\"nameCanonical\\\":\\\"\\\"},{\\\"curriculum_requisites\\\":[],\\\"name\\\":\\\"MA 113\\\",\\\"metrics\\\":{\\\"centrality\\\":0,\\\"complexity\\\":23.0,\\\"blocking factor\\\":15,\\\"delay factor\\\":8.0},\\\"nameSub\\\":\\\"Calculus I\\\",\\\"id\\\":3389674827,\\\"credits\\\":4,\\\"nameCanonical\\\":\\\"\\\"}],\\\"id\\\":1},{\\\"name\\\":\\\"Term 2\\\",\\\"curriculum_items\\\":[{\\\"curriculum_requisites\\\":[{\\\"source_id\\\":502542156,\\\"target_id\\\":1123828828,\\\"type\\\":\\\"prereq\\\"},{\\\"source_id\\\":3389674827,\\\"target_id\\\":1123828828,\\\"type\\\":\\\"coreq\\\"},{\\\"source_id\\\":2865398329,\\\"target_id\\\":1123828828,\\\"type\\\":\\\"coreq\\\"},{\\\"source_id\\\":738464693,\\\"target_id\\\":1123828828,\\\"type\\\":\\\"coreq\\\"}],\\\"name\\\":\\\"EGR 103\\\",\\\"metrics\\\":{\\\"centrality\\\":0,\\\"complexity\\\":3.0,\\\"blocking factor\\\":0,\\\"delay factor\\\":3.0},\\\"nameSub\\\":\\\"Engineering Exploration II\\\",\\\"id\\\":1123828828,\\\"credits\\\":2,\\\"nameCanonical\\\":\\\"\\\"},{\\\"curriculum_requisites\\\":[{\\\"source_id\\\":858428248,\\\"target_id\\\":3660518225,\\\"type\\\":\\\"prereq\\\"}],\\\"name\\\":\\\"CIS\\/WRD 111\\\",\\\"metrics\\\":{\\\"centrality\\\":0,\\\"complexity\\\":2.0,\\\"blocking factor\\\":0,\\\"delay factor\\\":2.0},\\\"nameSub\\\":\\\"Composition and Communication II\\\",\\\"id\\\":3660518225,\\\"credits\\\":3,\\\"nameCanonical\\\":\\\"\\\"},{\\\"curriculum_requisites\\\":[{\\\"source_id\\\":3389674827,\\\"target_id\\\":2966989896,\\\"type\\\":\\\"prereq\\\"}],\\\"name\\\":\\\"MA 114\\\",\\\"metrics\\\":{\\\"centrality\\\":102,\\\"complexity\\\":19.0,\\\"blocking factor\\\":11,\\\"delay factor\\\":8.0},\\\"nameSub\\\":\\\"Calculus II\\\",\\\"id\\\":2966989896,\\\"credits\\\":4,\\\"nameCanonical\\\":\\\"\\\"},{\\\"curriculum_requisites\\\":[],\\\"name\\\":\\\"CHE 105\\\",\\\"metrics\\\":{\\\"centrality\\\":0,\\\"complexity\\\":3.0,\\\"blocking factor\\\":1,\\\"delay factor\\\":2.0},\\\"nameSub\\\":\\\"General College Chemistry I\\\",\\\"id\\\":738464693,\\\"credits\\\":4,\\\"nameCanonical\\\":\\\"\\\"},{\\\"curriculum_requisites\\\":[],\\\"name\\\":\\\" \\\",\\\"metrics\\\":{\\\"centrality\\\":0,\\\"complexity\\\":1.0,\\\"blocking factor\\\":0,\\\"delay factor\\\":1.0},\\\"nameSub\\\":\\\"UK Core - Social Sciences\\\",\\\"id\\\":1586162741,\\\"credits\\\":3,\\\"nameCanonical\\\":\\\"\\\"}],\\\"id\\\":2},{\\\"name\\\":\\\"Term 3\\\",\\\"curriculum_items\\\":[{\\\"curriculum_requisites\\\":[{\\\"source_id\\\":2966989896,\\\"target_id\\\":2193700744,\\\"type\\\":\\\"prereq\\\"}],\\\"name\\\":\\\"MA 213\\\",\\\"metrics\\\":{\\\"centrality\\\":102,\\\"complexity\\\":18.0,\\\"blocking factor\\\":10,\\\"delay factor\\\":8.0},\\\"nameSub\\\":\\\"Calculus III\\\",\\\"id\\\":2193700744,\\\"credits\\\":4,\\\"nameCanonical\\\":\\\"\\\"},{\\\"curriculum_requisites\\\":[{\\\"source_id\\\":2865398329,\\\"target_id\\\":24551683,\\\"type\\\":\\\"prereq\\\"},{\\\"source_id\\\":2193700744,\\\"target_id\\\":24551683,\\\"type\\\":\\\"coreq\\\"}],\\\"name\\\":\\\"PHY 232\\\",\\\"metrics\\\":{\\\"centrality\\\":121,\\\"complexity\\\":15.0,\\\"blocking factor\\\":7,\\\"delay factor\\\":8.0},\\\"nameSub\\\":\\\"General University Physics\\\",\\\"id\\\":24551683,\\\"credits\\\":4,\\\"nameCanonical\\\":\\\"\\\"},{\\\"curriculum_requisites\\\":[{\\\"source_id\\\":24551683,\\\"target_id\\\":4109240503,\\\"type\\\":\\\"coreq\\\"}],\\\"name\\\":\\\"PHY 242\\\",\\\"metrics\\\":{\\\"centrality\\\":60,\\\"complexity\\\":14.0,\\\"blocking factor\\\":6,\\\"delay factor\\\":8.0},\\\"nameSub\\\":\\\"General University Physics Lab\\\",\\\"id\\\":4109240503,\\\"credits\\\":1,\\\"nameCanonical\\\":\\\"\\\"},{\\\"curriculum_requisites\\\":[{\\\"source_id\\\":24551683,\\\"target_id\\\":1017230148,\\\"type\\\":\\\"coreq\\\"},{\\\"source_id\\\":4109240503,\\\"target_id\\\":1017230148,\\\"type\\\":\\\"coreq\\\"}],\\\"name\\\":\\\"EE 211\\\",\\\"metrics\\\":{\\\"centrality\\\":112,\\\"complexity\\\":13.0,\\\"blocking factor\\\":5,\\\"delay factor\\\":8.0},\\\"nameSub\\\":\\\"Circuits I\\\",\\\"id\\\":1017230148,\\\"credits\\\":4,\\\"nameCanonical\\\":\\\"\\\"},{\\\"curriculum_requisites\\\":[{\\\"source_id\\\":502542156,\\\"target_id\\\":1416959221,\\\"type\\\":\\\"prereq\\\"}],\\\"name\\\":\\\"EE 282\\\",\\\"metrics\\\":{\\\"centrality\\\":3,\\\"complexity\\\":4.0,\\\"blocking factor\\\":1,\\\"delay factor\\\":3.0},\\\"nameSub\\\":\\\"Digital Logic Design\\\",\\\"id\\\":1416959221,\\\"credits\\\":4,\\\"nameCanonical\\\":\\\"\\\"}],\\\"id\\\":3},{\\\"name\\\":\\\"Term 4\\\",\\\"curriculum_items\\\":[{\\\"curriculum_requisites\\\":[{\\\"source_id\\\":2193700744,\\\"target_id\\\":713164423,\\\"type\\\":\\\"prereq\\\"}],\\\"name\\\":\\\"MA 214\\\",\\\"metrics\\\":{\\\"centrality\\\":29,\\\"complexity\\\":9.0,\\\"blocking factor\\\":5,\\\"delay factor\\\":4.0},\\\"nameSub\\\":\\\"Calculus IV\\\",\\\"id\\\":713164423,\\\"credits\\\":3,\\\"nameCanonical\\\":\\\"\\\"},{\\\"curriculum_requisites\\\":[{\\\"source_id\\\":1017230148,\\\"target_id\\\":2281989961,\\\"type\\\":\\\"prereq\\\"},{\\\"source_id\\\":713164423,\\\"target_id\\\":2281989961,\\\"type\\\":\\\"coreq\\\"}],\\\"name\\\":\\\"EE 223\\\",\\\"metrics\\\":{\\\"centrality\\\":136,\\\"complexity\\\":12.0,\\\"blocking factor\\\":4,\\\"delay factor\\\":8.0},\\\"nameSub\\\":\\\"AC Circuits\\\",\\\"id\\\":2281989961,\\\"credits\\\":4,\\\"nameCanonical\\\":\\\"\\\"},{\\\"curriculum_requisites\\\":[{\\\"source_id\\\":1416959221,\\\"target_id\\\":1647567702,\\\"type\\\":\\\"prereq\\\"},{\\\"source_id\\\":1332377596,\\\"target_id\\\":1647567702,\\\"type\\\":\\\"coreq\\\"}],\\\"name\\\":\\\"EE 287\\\",\\\"metrics\\\":{\\\"centrality\\\":0,\\\"complexity\\\":3.0,\\\"blocking factor\\\":0,\\\"delay factor\\\":3.0},\\\"nameSub\\\":\\\"Intro. to Embedded Systems\\\",\\\"id\\\":1647567702,\\\"credits\\\":4,\\\"nameCanonical\\\":\\\"\\\"},{\\\"curriculum_requisites\\\":[],\\\"name\\\":\\\"CS 215\\\",\\\"metrics\\\":{\\\"centrality\\\":0,\\\"complexity\\\":3.0,\\\"blocking factor\\\":1,\\\"delay factor\\\":2.0},\\\"nameSub\\\":\\\"Intro. to Program Design Abstraction and Problem Solving\\\",\\\"id\\\":1332377596,\\\"credits\\\":4,\\\"nameCanonical\\\":\\\"\\\"},{\\\"curriculum_requisites\\\":[],\\\"name\\\":\\\" \\\",\\\"metrics\\\":{\\\"centrality\\\":0,\\\"complexity\\\":1.0,\\\"blocking factor\\\":0,\\\"delay factor\\\":1.0},\\\"nameSub\\\":\\\"UK Core - Humanities\\\",\\\"id\\\":699408466,\\\"credits\\\":3,\\\"nameCanonical\\\":\\\"\\\"}],\\\"id\\\":4},{\\\"name\\\":\\\"Term 5\\\",\\\"curriculum_items\\\":[{\\\"curriculum_requisites\\\":[{\\\"source_id\\\":2281989961,\\\"target_id\\\":3945639322,\\\"type\\\":\\\"prereq\\\"},{\\\"source_id\\\":24551683,\\\"target_id\\\":3945639322,\\\"type\\\":\\\"prereq\\\"}],\\\"name\\\":\\\"EE 415G\\\",\\\"metrics\\\":{\\\"centrality\\\":0,\\\"complexity\\\":8.0,\\\"blocking factor\\\":0,\\\"delay factor\\\":8.0},\\\"nameSub\\\":\\\"Electromechanics\\\",\\\"id\\\":3945639322,\\\"credits\\\":3,\\\"nameCanonical\\\":\\\"\\\"},{\\\"curriculum_requisites\\\":[{\\\"source_id\\\":2281989961,\\\"target_id\\\":2950065960,\\\"type\\\":\\\"prereq\\\"},{\\\"source_id\\\":713164423,\\\"target_id\\\":2950065960,\\\"type\\\":\\\"prereq\\\"}],\\\"name\\\":\\\"EE 421G\\\",\\\"metrics\\\":{\\\"centrality\\\":0,\\\"complexity\\\":8.0,\\\"blocking factor\\\":0,\\\"delay factor\\\":8.0},\\\"nameSub\\\":\\\"Signals & Systems\\\",\\\"id\\\":2950065960,\\\"credits\\\":3,\\\"nameCanonical\\\":\\\"\\\"},{\\\"curriculum_requisites\\\":[],\\\"name\\\":\\\" \\\",\\\"metrics\\\":{\\\"centrality\\\":0,\\\"complexity\\\":1.0,\\\"blocking factor\\\":0,\\\"delay factor\\\":1.0},\\\"nameSub\\\":\\\"Elective EE Laboratory 1\\\",\\\"id\\\":448709314,\\\"credits\\\":2,\\\"nameCanonical\\\":\\\"\\\"},{\\\"curriculum_requisites\\\":[{\\\"source_id\\\":2281989961,\\\"target_id\\\":16242192,\\\"type\\\":\\\"prereq\\\"}],\\\"name\\\":\\\"EE 461G\\\",\\\"metrics\\\":{\\\"centrality\\\":0,\\\"complexity\\\":8.0,\\\"blocking factor\\\":0,\\\"delay factor\\\":8.0},\\\"nameSub\\\":\\\"Intro. to Electronics\\\",\\\"id\\\":16242192,\\\"credits\\\":3,\\\"nameCanonical\\\":\\\"\\\"},{\\\"curriculum_requisites\\\":[{\\\"source_id\\\":2193700744,\\\"target_id\\\":2756944549,\\\"type\\\":\\\"prereq\\\"}],\\\"name\\\":\\\"MA 320\\\",\\\"metrics\\\":{\\\"centrality\\\":0,\\\"complexity\\\":4.0,\\\"blocking factor\\\":0,\\\"delay factor\\\":4.0},\\\"nameSub\\\":\\\"Introductory Probability\\\",\\\"id\\\":2756944549,\\\"credits\\\":3,\\\"nameCanonical\\\":\\\"\\\"},{\\\"curriculum_requisites\\\":[],\\\"name\\\":\\\" \\\",\\\"metrics\\\":{\\\"centrality\\\":0,\\\"complexity\\\":1.0,\\\"blocking factor\\\":0,\\\"delay factor\\\":1.0},\\\"nameSub\\\":\\\"Technical Elective 1\\\",\\\"id\\\":3654615878,\\\"credits\\\":3,\\\"nameCanonical\\\":\\\"\\\"}],\\\"id\\\":5},{\\\"name\\\":\\\"Term 6\\\",\\\"curriculum_items\\\":[{\\\"curriculum_requisites\\\":[{\\\"source_id\\\":2281989961,\\\"target_id\\\":1400716874,\\\"type\\\":\\\"prereq\\\"},{\\\"source_id\\\":2193700744,\\\"target_id\\\":1400716874,\\\"type\\\":\\\"prereq\\\"}],\\\"name\\\":\\\"EE 468G\\\",\\\"metrics\\\":{\\\"centrality\\\":0,\\\"complexity\\\":8.0,\\\"blocking factor\\\":0,\\\"delay factor\\\":8.0},\\\"nameSub\\\":\\\"Intro. to Engineering Electromagnetics\\\",\\\"id\\\":1400716874,\\\"credits\\\":4,\\\"nameCanonical\\\":\\\"\\\"},{\\\"curriculum_requisites\\\":[],\\\"name\\\":\\\" \\\",\\\"metrics\\\":{\\\"centrality\\\":0,\\\"complexity\\\":1.0,\\\"blocking factor\\\":0,\\\"delay factor\\\":1.0},\\\"nameSub\\\":\\\"Elective EE Laboratory 2\\\",\\\"id\\\":3008452217,\\\"credits\\\":2,\\\"nameCanonical\\\":\\\"\\\"},{\\\"curriculum_requisites\\\":[],\\\"name\\\":\\\" \\\",\\\"metrics\\\":{\\\"centrality\\\":0,\\\"complexity\\\":1.0,\\\"blocking factor\\\":0,\\\"delay factor\\\":1.0},\\\"nameSub\\\":\\\"Engineering\\/Science Elective 1\\\",\\\"id\\\":1824271747,\\\"credits\\\":3,\\\"nameCanonical\\\":\\\"\\\"},{\\\"curriculum_requisites\\\":[],\\\"name\\\":\\\" \\\",\\\"metrics\\\":{\\\"centrality\\\":0,\\\"complexity\\\":1.0,\\\"blocking factor\\\":0,\\\"delay factor\\\":1.0},\\\"nameSub\\\":\\\"Technical Elective 2\\\",\\\"id\\\":3697264218,\\\"credits\\\":3,\\\"nameCanonical\\\":\\\"\\\"},{\\\"curriculum_requisites\\\":[],\\\"name\\\":\\\" \\\",\\\"metrics\\\":{\\\"centrality\\\":0,\\\"complexity\\\":1.0,\\\"blocking factor\\\":0,\\\"delay factor\\\":1.0},\\\"nameSub\\\":\\\"UK Core - Citizenship - USA\\\",\\\"id\\\":1496407185,\\\"credits\\\":3,\\\"nameCanonical\\\":\\\"\\\"}],\\\"id\\\":6},{\\\"name\\\":\\\"Term 7\\\",\\\"curriculum_items\\\":[{\\\"curriculum_requisites\\\":[],\\\"name\\\":\\\"EE 490\\\",\\\"metrics\\\":{\\\"centrality\\\":0,\\\"complexity\\\":3.0,\\\"blocking factor\\\":1,\\\"delay factor\\\":2.0},\\\"nameSub\\\":\\\"EE Capstone Design\\\",\\\"id\\\":1116551982,\\\"credits\\\":3,\\\"nameCanonical\\\":\\\"\\\"},{\\\"curriculum_requisites\\\":[],\\\"name\\\":\\\" \\\",\\\"metrics\\\":{\\\"centrality\\\":0,\\\"complexity\\\":1.0,\\\"blocking factor\\\":0,\\\"delay factor\\\":1.0},\\\"nameSub\\\":\\\"EE Technical Elective 1\\\",\\\"id\\\":1373040133,\\\"credits\\\":3,\\\"nameCanonical\\\":\\\"\\\"},{\\\"curriculum_requisites\\\":[],\\\"name\\\":\\\" \\\",\\\"metrics\\\":{\\\"centrality\\\":0,\\\"complexity\\\":1.0,\\\"blocking factor\\\":0,\\\"delay factor\\\":1.0},\\\"nameSub\\\":\\\"EE Technical Elective 2\\\",\\\"id\\\":2900608954,\\\"credits\\\":3,\\\"nameCanonical\\\":\\\"\\\"},{\\\"curriculum_requisites\\\":[],\\\"name\\\":\\\" \\\",\\\"metrics\\\":{\\\"centrality\\\":0,\\\"complexity\\\":1.0,\\\"blocking factor\\\":0,\\\"delay factor\\\":1.0},\\\"nameSub\\\":\\\"Math\\/Statistics Elective\\\",\\\"id\\\":147960851,\\\"credits\\\":3,\\\"nameCanonical\\\":\\\"\\\"},{\\\"curriculum_requisites\\\":[],\\\"name\\\":\\\" \\\",\\\"metrics\\\":{\\\"centrality\\\":0,\\\"complexity\\\":1.0,\\\"blocking factor\\\":0,\\\"delay factor\\\":1.0},\\\"nameSub\\\":\\\"UK Core - Global Dynamics\\\",\\\"id\\\":819264340,\\\"credits\\\":3,\\\"nameCanonical\\\":\\\"\\\"}],\\\"id\\\":7},{\\\"name\\\":\\\"Term 8\\\",\\\"curriculum_items\\\":[{\\\"curriculum_requisites\\\":[{\\\"source_id\\\":1116551982,\\\"target_id\\\":2674820998,\\\"type\\\":\\\"prereq\\\"}],\\\"name\\\":\\\"EE 491\\\",\\\"metrics\\\":{\\\"centrality\\\":0,\\\"complexity\\\":2.0,\\\"blocking factor\\\":0,\\\"delay factor\\\":2.0},\\\"nameSub\\\":\\\"EE Capstone Design\\\",\\\"id\\\":2674820998,\\\"credits\\\":3,\\\"nameCanonical\\\":\\\"\\\"},{\\\"curriculum_requisites\\\":[],\\\"name\\\":\\\" \\\",\\\"metrics\\\":{\\\"centrality\\\":0,\\\"complexity\\\":1.0,\\\"blocking factor\\\":0,\\\"delay factor\\\":1.0},\\\"nameSub\\\":\\\"EE Technical Elective 3\\\",\\\"id\\\":3472050261,\\\"credits\\\":3,\\\"nameCanonical\\\":\\\"\\\"},{\\\"curriculum_requisites\\\":[],\\\"name\\\":\\\" \\\",\\\"metrics\\\":{\\\"centrality\\\":0,\\\"complexity\\\":1.0,\\\"blocking factor\\\":0,\\\"delay factor\\\":1.0},\\\"nameSub\\\":\\\"EE Technical Elective 4\\\",\\\"id\\\":3141179749,\\\"credits\\\":3,\\\"nameCanonical\\\":\\\"\\\"},{\\\"curriculum_requisites\\\":[],\\\"name\\\":\\\" \\\",\\\"metrics\\\":{\\\"centrality\\\":0,\\\"complexity\\\":1.0,\\\"blocking factor\\\":0,\\\"delay factor\\\":1.0},\\\"nameSub\\\":\\\"Supportive Elective\\\",\\\"id\\\":109586583,\\\"credits\\\":3,\\\"nameCanonical\\\":\\\"\\\"},{\\\"curriculum_requisites\\\":[],\\\"name\\\":\\\" \\\",\\\"metrics\\\":{\\\"centrality\\\":0,\\\"complexity\\\":1.0,\\\"blocking factor\\\":0,\\\"delay factor\\\":1.0},\\\"nameSub\\\":\\\"Engineering\\/Science Elective 2\\\",\\\"id\\\":1227973603,\\\"credits\\\":3,\\\"nameCanonical\\\":\\\"\\\"},{\\\"curriculum_requisites\\\":[],\\\"name\\\":\\\" \\\",\\\"metrics\\\":{\\\"centrality\\\":0,\\\"complexity\\\":1.0,\\\"blocking factor\\\":0,\\\"delay factor\\\":1.0},\\\"nameSub\\\":\\\"UK Core - Statistical Inferential Reasoning\\\",\\\"id\\\":599971617,\\\"credits\\\":3,\\\"nameCanonical\\\":\\\"\\\"}],\\\"id\\\":8}],\\\"institution\\\":\\\"\\\"}},\\\"*\\\"); window.removeEventListener(\\\"message\\\",window.messageReceived); window.messageReceived=(function (event){return (event.data.curriculum!==undefined) ? (_webIOScope.setObservableValue({\\\"name\\\":\\\"curriculum-data\\\",\\\"scope\\\":\\\"scope-e38fddb2-88c5-4710-8860-ffbce72681ea\\\",\\\"id\\\":\\\"ob_03\\\",\\\"type\\\":\\\"observable\\\"},event.data.curriculum)) : undefined}); return window.addEventListener(\\\"message\\\",window.messageReceived)})\"},\"style\":{\"padding\":\"0\",\"height\":\"100vh\",\"margin\":\"0\",\"border\":\"none\",\"width\":\"100%\"}},\"nodeType\":\"DOM\",\"type\":\"node\",\"instanceArgs\":{\"namespace\":\"html\",\"tag\":\"iframe\"},\"children\":[\"\"]}]},\n",
       "        );\n",
       "    } else {\n",
       "        document\n",
       "            .querySelector('[data-webio-mountpoint=\"7051462051100721838\"]')\n",
       "            .innerHTML = '<strong>WebIO not detected.</strong>';\n",
       "    }\n",
       "    </script>\n",
       "</div>\n"
      ],
      "text/plain": [
       "WebIO.Scope(\"scope-e38fddb2-88c5-4710-8860-ffbce72681ea\", WebIO.Node{WebIO.DOM}(WebIO.DOM(:html, :iframe), Any[\"\"], Dict{Symbol,Any}(:src=>\"http://localhost:8156\",:id=>\"curriculum\",:events=>Dict(:load=>JSString(\"(function (){this.contentWindow.postMessage({\\\"options\\\":{\\\"hideTerms\\\":false,\\\"edit\\\":true},\\\"curriculum\\\":{\\\"name\\\":\\\"University of Kentucky EE Program\\\",\\\"dp_name\\\":\\\"University of Kentucky EE Program 4-year Plan\\\",\\\"curriculum_terms\\\":[{\\\"name\\\":\\\"Term 1\\\",\\\"curriculum_items\\\":[{\\\"curriculum_requisites\\\":[],\\\"name\\\":\\\"EGR 101\\\",\\\"metrics\\\":{\\\"centrality\\\":0,\\\"complexity\\\":1.0,\\\"blocking factor\\\":0,\\\"delay factor\\\":1.0},\\\"nameSub\\\":\\\"Engineering Exploration I\\\",\\\"id\\\":2071595408,\\\"credits\\\":1,\\\"nameCanonical\\\":\\\"\\\"},{\\\"curriculum_requisites\\\":[],\\\"name\\\":\\\"EGR 102\\\",\\\"metrics\\\":{\\\"centrality\\\":0,\\\"complexity\\\":6.0,\\\"blocking factor\\\":3,\\\"delay factor\\\":3.0},\\\"nameSub\\\":\\\"Fundamentals of Engineering Computing\\\",\\\"id\\\":502542156,\\\"credits\\\":2,\\\"nameCanonical\\\":\\\"\\\"},{\\\"curriculum_requisites\\\":[{\\\"source_id\\\":3389674827,\\\"target_id\\\":2865398329,\\\"type\\\":\\\"coreq\\\"}],\\\"name\\\":\\\"PHY 231\\\",\\\"metrics\\\":{\\\"centrality\\\":62,\\\"complexity\\\":16.0,\\\"blocking factor\\\":10,\\\"delay factor\\\":6.0},\\\"nameSub\\\":\\\"General University Physics\\\",\\\"id\\\":2865398329,\\\"credits\\\":4,\\\"nameCanonical\\\":\\\"\\\"},{\\\"curriculum_requisites\\\":[{\\\"source_id\\\":2865398329,\\\"target_id\\\":746915474,\\\"type\\\":\\\"coreq\\\"}],\\\"name\\\":\\\"PHY 241\\\",\\\"metrics\\\":{\\\"centrality\\\":0,\\\"complexity\\\":3.0,\\\"blocking factor\\\":0,\\\"delay factor\\\":3.0},\\\"nameSub\\\":\\\"General University Physics Lab\\\",\\\"id\\\":746915474,\\\"credits\\\":1,\\\"nameCanonical\\\":\\\"\\\"},{\\\"curriculum_requisites\\\":[],\\\"name\\\":\\\"CIS/WRD 110\\\",\\\"metrics\\\":{\\\"centrality\\\":0,\\\"complexity\\\":3.0,\\\"blocking factor\\\":1,\\\"delay factor\\\":2.0},\\\"nameSub\\\":\\\"Composition and Communication I\\\",\\\"id\\\":858428248,\\\"credits\\\":3,\\\"nameCanonical\\\":\\\"\\\"},{\\\"curriculum_requisites\\\":[],\\\"name\\\":\\\"MA 113\\\",\\\"metrics\\\":{\\\"centrality\\\":0,\\\"complexity\\\":23.0,\\\"blocking factor\\\":15,\\\"delay factor\\\":8.0},\\\"nameSub\\\":\\\"Calculus I\\\",\\\"id\\\":3389674827,\\\"credits\\\":4,\\\"nameCanonical\\\":\\\"\\\"}],\\\"id\\\":1},{\\\"name\\\":\\\"Term 2\\\",\\\"curriculum_items\\\":[{\\\"curriculum_requisites\\\":[{\\\"source_id\\\":502542156,\\\"target_id\\\":1123828828,\\\"type\\\":\\\"prereq\\\"},{\\\"source_id\\\":3389674827,\\\"target_id\\\":1123828828,\\\"type\\\":\\\"coreq\\\"},{\\\"source_id\\\":2865398329,\\\"target_id\\\":1123828828,\\\"type\\\":\\\"coreq\\\"},{\\\"source_id\\\":738464693,\\\"target_id\\\":1123828828,\\\"type\\\":\\\"coreq\\\"}],\\\"name\\\":\\\"EGR 103\\\",\\\"metrics\\\":{\\\"centrality\\\":0,\\\"complexity\\\":3.0,\\\"blocking factor\\\":0,\\\"delay factor\\\":3.0},\\\"nameSub\\\":\\\"Engineering Exploration II\\\",\\\"id\\\":1123828828,\\\"credits\\\":2,\\\"nameCanonical\\\":\\\"\\\"},{\\\"curriculum_requisites\\\":[{\\\"source_id\\\":858428248,\\\"target_id\\\":3660518225,\\\"type\\\":\\\"prereq\\\"}],\\\"name\\\":\\\"CIS/WRD 111\\\",\\\"metrics\\\":{\\\"centrality\\\":0,\\\"complexity\\\":2.0,\\\"blocking factor\\\":0,\\\"delay factor\\\":2.0},\\\"nameSub\\\":\\\"Composition and Communication II\\\",\\\"id\\\":3660518225,\\\"credits\\\":3,\\\"nameCanonical\\\":\\\"\\\"},{\\\"curriculum_requisites\\\":[{\\\"source_id\\\":3389674827,\\\"target_id\\\":2966989896,\\\"type\\\":\\\"prereq\\\"}],\\\"name\\\":\\\"MA 114\\\",\\\"metrics\\\":{\\\"centrality\\\":102,\\\"complexity\\\":19.0,\\\"blocking factor\\\":11,\\\"delay factor\\\":8.0},\\\"nameSub\\\":\\\"Calculus II\\\",\\\"id\\\":2966989896,\\\"credits\\\":4,\\\"nameCanonical\\\":\\\"\\\"},{\\\"curriculum_requisites\\\":[],\\\"name\\\":\\\"CHE 105\\\",\\\"metrics\\\":{\\\"centrality\\\":0,\\\"complexity\\\":3.0,\\\"blocking factor\\\":1,\\\"delay factor\\\":2.0},\\\"nameSub\\\":\\\"General College Chemistry I\\\",\\\"id\\\":738464693,\\\"credits\\\":4,\\\"nameCanonical\\\":\\\"\\\"},{\\\"curriculum_requisites\\\":[],\\\"name\\\":\\\" \\\",\\\"metrics\\\":{\\\"centrality\\\":0,\\\"complexity\\\":1.0,\\\"blocking factor\\\":0,\\\"delay factor\\\":1.0},\\\"nameSub\\\":\\\"UK Core - Social Sciences\\\",\\\"id\\\":1586162741,\\\"credits\\\":3,\\\"nameCanonical\\\":\\\"\\\"}],\\\"id\\\":2},{\\\"name\\\":\\\"Term 3\\\",\\\"curriculum_items\\\":[{\\\"curriculum_requisites\\\":[{\\\"source_id\\\":2966989896,\\\"target_id\\\":2193700744,\\\"type\\\":\\\"prereq\\\"}],\\\"name\\\":\\\"MA 213\\\",\\\"metrics\\\":{\\\"centrality\\\":102,\\\"complexity\\\":18.0,\\\"blocking factor\\\":10,\\\"delay factor\\\":8.0},\\\"nameSub\\\":\\\"Calculus III\\\",\\\"id\\\":2193700744,\\\"credits\\\":4,\\\"nameCanonical\\\":\\\"\\\"},{\\\"curriculum_requisites\\\":[{\\\"source_id\\\":2865398329,\\\"target_id\\\":24551683,\\\"type\\\":\\\"prereq\\\"},{\\\"source_id\\\":2193700744,\\\"target_id\\\":24551683,\\\"type\\\":\\\"coreq\\\"}],\\\"name\\\":\\\"PHY 232\\\",\\\"metrics\\\":{\\\"centrality\\\":121,\\\"complexity\\\":15.0,\\\"blocking factor\\\":7,\\\"delay factor\\\":8.0},\\\"nameSub\\\":\\\"General University Physics\\\",\\\"id\\\":24551683,\\\"credits\\\":4,\\\"nameCanonical\\\":\\\"\\\"},{\\\"curriculum_requisites\\\":[{\\\"source_id\\\":24551683,\\\"target_id\\\":4109240503,\\\"type\\\":\\\"coreq\\\"}],\\\"name\\\":\\\"PHY 242\\\",\\\"metrics\\\":{\\\"centrality\\\":60,\\\"complexity\\\":14.0,\\\"blocking factor\\\":6,\\\"delay factor\\\":8.0},\\\"nameSub\\\":\\\"General University Physics Lab\\\",\\\"id\\\":4109240503,\\\"credits\\\":1,\\\"nameCanonical\\\":\\\"\\\"},{\\\"curriculum_requisites\\\":[{\\\"source_id\\\":24551683,\\\"target_id\\\":1017230148,\\\"type\\\":\\\"coreq\\\"},{\\\"source_id\\\":4109240503,\\\"target_id\\\":1017230148,\\\"type\\\":\\\"coreq\\\"}],\\\"name\\\":\\\"EE 211\\\",\\\"metrics\\\":{\\\"centrality\\\":112,\\\"complexity\\\":13.0,\\\"blocking factor\\\":5,\\\"delay factor\\\":8.0},\\\"nameSub\\\":\\\"Circuits I\\\",\\\"id\\\":1017230148,\\\"credits\\\":4,\\\"nameCanonical\\\":\\\"\\\"},{\\\"curriculum_requisites\\\":[{\\\"source_id\\\":502542156,\\\"target_id\\\":1416959221,\\\"type\\\":\\\"prereq\\\"}],\\\"name\\\":\\\"EE 282\\\",\\\"metrics\\\":{\\\"centrality\\\":3,\\\"complexity\\\":4.0,\\\"blocking factor\\\":1,\\\"delay factor\\\":3.0},\\\"nameSub\\\":\\\"Digital Logic Design\\\",\\\"id\\\":1416959221,\\\"credits\\\":4,\\\"nameCanonical\\\":\\\"\\\"}],\\\"id\\\":3},{\\\"name\\\":\\\"Term 4\\\",\\\"curriculum_items\\\":[{\\\"curriculum_requisites\\\":[{\\\"source_id\\\":2193700744,\\\"target_id\\\":713164423,\\\"type\\\":\\\"prereq\\\"}],\\\"name\\\":\\\"MA 214\\\",\\\"metrics\\\":{\\\"centrality\\\":29,\\\"complexity\\\":9.0,\\\"blocking factor\\\":5,\\\"delay factor\\\":4.0},\\\"nameSub\\\":\\\"Calculus IV\\\",\\\"id\\\":713164423,\\\"credits\\\":3,\\\"nameCanonical\\\":\\\"\\\"},{\\\"curriculum_requisites\\\":[{\\\"source_id\\\":1017230148,\\\"target_id\\\":2281989961,\\\"type\\\":\\\"prereq\\\"},{\\\"source_id\\\":713164423,\\\"target_id\\\":2281989961,\\\"type\\\":\\\"coreq\\\"}],\\\"name\\\":\\\"EE 223\\\",\\\"metrics\\\":{\\\"centrality\\\":136,\\\"complexity\\\":12.0,\\\"blocking factor\\\":4,\\\"delay factor\\\":8.0},\\\"nameSub\\\":\\\"AC Circuits\\\",\\\"id\\\":2281989961,\\\"credits\\\":4,\\\"nameCanonical\\\":\\\"\\\"},{\\\"curriculum_requisites\\\":[{\\\"source_id\\\":1416959221,\\\"target_id\\\":1647567702,\\\"type\\\":\\\"prereq\\\"},{\\\"source_id\\\":1332377596,\\\"target_id\\\":1647567702,\\\"type\\\":\\\"coreq\\\"}],\\\"name\\\":\\\"EE 287\\\",\\\"metrics\\\":{\\\"centrality\\\":0,\\\"complexity\\\":3.0,\\\"blocking factor\\\":0,\\\"delay factor\\\":3.0},\\\"nameSub\\\":\\\"Intro. to Embedded Systems\\\",\\\"id\\\":1647567702,\\\"credits\\\":4,\\\"nameCanonical\\\":\\\"\\\"},{\\\"curriculum_requisites\\\":[],\\\"name\\\":\\\"CS 215\\\",\\\"metrics\\\":{\\\"centrality\\\":0,\\\"complexity\\\":3.0,\\\"blocking factor\\\":1,\\\"delay factor\\\":2.0},\\\"nameSub\\\":\\\"Intro. to Program Design Abstraction and Problem Solving\\\",\\\"id\\\":1332377596,\\\"credits\\\":4,\\\"nameCanonical\\\":\\\"\\\"},{\\\"curriculum_requisites\\\":[],\\\"name\\\":\\\" \\\",\\\"metrics\\\":{\\\"centrality\\\":0,\\\"complexity\\\":1.0,\\\"blocking factor\\\":0,\\\"delay factor\\\":1.0},\\\"nameSub\\\":\\\"UK Core - Humanities\\\",\\\"id\\\":699408466,\\\"credits\\\":3,\\\"nameCanonical\\\":\\\"\\\"}],\\\"id\\\":4},{\\\"name\\\":\\\"Term 5\\\",\\\"curriculum_items\\\":[{\\\"curriculum_requisites\\\":[{\\\"source_id\\\":2281989961,\\\"target_id\\\":3945639322,\\\"type\\\":\\\"prereq\\\"},{\\\"source_id\\\":24551683,\\\"target_id\\\":3945639322,\\\"type\\\":\\\"prereq\\\"}],\\\"name\\\":\\\"EE 415G\\\",\\\"metrics\\\":{\\\"centrality\\\":0,\\\"complexity\\\":8.0,\\\"blocking factor\\\":0,\\\"delay factor\\\":8.0},\\\"nameSub\\\":\\\"Electromechanics\\\",\\\"id\\\":3945639322,\\\"credits\\\":3,\\\"nameCanonical\\\":\\\"\\\"},{\\\"curriculum_requisites\\\":[{\\\"source_id\\\":2281989961,\\\"target_id\\\":2950065960,\\\"type\\\":\\\"prereq\\\"},{\\\"source_id\\\":713164423,\\\"target_id\\\":2950065960,\\\"type\\\":\\\"prereq\\\"}],\\\"name\\\":\\\"EE 421G\\\",\\\"metrics\\\":{\\\"centrality\\\":0,\\\"complexity\\\":8.0,\\\"blocking factor\\\":0,\\\"delay factor\\\":8.0},\\\"nameSub\\\":\\\"Signals & Systems\\\",\\\"id\\\":2950065960,\\\"credits\\\":3,\\\"nameCanonical\\\":\\\"\\\"},{\\\"curriculum_requisites\\\":[],\\\"name\\\":\\\" \\\",\\\"metrics\\\":{\\\"centrality\\\":0,\\\"complexity\\\":1.0,\\\"blocking factor\\\":0,\\\"delay factor\\\":1.0},\\\"nameSub\\\":\\\"Elective EE Laboratory 1\\\",\\\"id\\\":448709314,\\\"credits\\\":2,\\\"nameCanonical\\\":\\\"\\\"},{\\\"curriculum_requisites\\\":[{\\\"source_id\\\":2281989961,\\\"target_id\\\":16242192,\\\"type\\\":\\\"prereq\\\"}],\\\"name\\\":\\\"EE 461G\\\",\\\"metrics\\\":{\\\"centrality\\\":0,\\\"complexity\\\":8.0,\\\"blocking factor\\\":0,\\\"delay factor\\\":8.0},\\\"nameSub\\\":\\\"Intro. to Electronics\\\",\\\"id\\\":16242192,\\\"credits\\\":3,\\\"nameCanonical\\\":\\\"\\\"},{\\\"curriculum_requisites\\\":[{\\\"source_id\\\":2193700744,\\\"target_id\\\":2756944549,\\\"type\\\":\\\"prereq\\\"}],\\\"name\\\":\\\"MA 320\\\",\\\"metrics\\\":{\\\"centrality\\\":0,\\\"complexity\\\":4.0,\\\"blocking factor\\\":0,\\\"delay factor\\\":4.0},\\\"nameSub\\\":\\\"Introductory Probability\\\",\\\"id\\\":2756944549,\\\"credits\\\":3,\\\"nameCanonical\\\":\\\"\\\"},{\\\"curriculum_requisites\\\":[],\\\"name\\\":\\\" \\\",\\\"metrics\\\":{\\\"centrality\\\":0,\\\"complexity\\\":1.0,\\\"blocking factor\\\":0,\\\"delay factor\\\":1.0},\\\"nameSub\\\":\\\"Technical Elective 1\\\",\\\"id\\\":3654615878,\\\"credits\\\":3,\\\"nameCanonical\\\":\\\"\\\"}],\\\"id\\\":5},{\\\"name\\\":\\\"Term 6\\\",\\\"curriculum_items\\\":[{\\\"curriculum_requisites\\\":[{\\\"source_id\\\":2281989961,\\\"target_id\\\":1400716874,\\\"type\\\":\\\"prereq\\\"},{\\\"source_id\\\":2193700744,\\\"target_id\\\":1400716874,\\\"type\\\":\\\"prereq\\\"}],\\\"name\\\":\\\"EE 468G\\\",\\\"metrics\\\":{\\\"centrality\\\":0,\\\"complexity\\\":8.0,\\\"blocking factor\\\":0,\\\"delay factor\\\":8.0},\\\"nameSub\\\":\\\"Intro. to Engineering Electromagnetics\\\",\\\"id\\\":1400716874,\\\"credits\\\":4,\\\"nameCanonical\\\":\\\"\\\"},{\\\"curriculum_requisites\\\":[],\\\"name\\\":\\\" \\\",\\\"metrics\\\":{\\\"centrality\\\":0,\\\"complexity\\\":1.0,\\\"blocking factor\\\":0,\\\"delay factor\\\":1.0},\\\"nameSub\\\":\\\"Elective EE Laboratory 2\\\",\\\"id\\\":3008452217,\\\"credits\\\":2,\\\"nameCanonical\\\":\\\"\\\"},{\\\"curriculum_requisites\\\":[],\\\"name\\\":\\\" \\\",\\\"metrics\\\":{\\\"centrality\\\":0,\\\"complexity\\\":1.0,\\\"blocking factor\\\":0,\\\"delay factor\\\":1.0},\\\"nameSub\\\":\\\"Engineering/Science Elective 1\\\",\\\"id\\\":1824271747,\\\"credits\\\":3,\\\"nameCanonical\\\":\\\"\\\"},{\\\"curriculum_requisites\\\":[],\\\"name\\\":\\\" \\\",\\\"metrics\\\":{\\\"centrality\\\":0,\\\"complexity\\\":1.0,\\\"blocking factor\\\":0,\\\"delay factor\\\":1.0},\\\"nameSub\\\":\\\"Technical Elective 2\\\",\\\"id\\\":3697264218,\\\"credits\\\":3,\\\"nameCanonical\\\":\\\"\\\"},{\\\"curriculum_requisites\\\":[],\\\"name\\\":\\\" \\\",\\\"metrics\\\":{\\\"centrality\\\":0,\\\"complexity\\\":1.0,\\\"blocking factor\\\":0,\\\"delay factor\\\":1.0},\\\"nameSub\\\":\\\"UK Core - Citizenship - USA\\\",\\\"id\\\":1496407185,\\\"credits\\\":3,\\\"nameCanonical\\\":\\\"\\\"}],\\\"id\\\":6},{\\\"name\\\":\\\"Term 7\\\",\\\"curriculum_items\\\":[{\\\"curriculum_requisites\\\":[],\\\"name\\\":\\\"EE 490\\\",\\\"metrics\\\":{\\\"centrality\\\":0,\\\"complexity\\\":3.0,\\\"blocking factor\\\":1,\\\"delay factor\\\":2.0},\\\"nameSub\\\":\\\"EE Capstone Design\\\",\\\"id\\\":1116551982,\\\"credits\\\":3,\\\"nameCanonical\\\":\\\"\\\"},{\\\"curriculum_requisites\\\":[],\\\"name\\\":\\\" \\\",\\\"metrics\\\":{\\\"centrality\\\":0,\\\"complexity\\\":1.0,\\\"blocking factor\\\":0,\\\"delay factor\\\":1.0},\\\"nameSub\\\":\\\"EE Technical Elective 1\\\",\\\"id\\\":1373040133,\\\"credits\\\":3,\\\"nameCanonical\\\":\\\"\\\"},{\\\"curriculum_requisites\\\":[],\\\"name\\\":\\\" \\\",\\\"metrics\\\":{\\\"centrality\\\":0,\\\"complexity\\\":1.0,\\\"blocking factor\\\":0,\\\"delay factor\\\":1.0},\\\"nameSub\\\":\\\"EE Technical Elective 2\\\",\\\"id\\\":2900608954,\\\"credits\\\":3,\\\"nameCanonical\\\":\\\"\\\"},{\\\"curriculum_requisites\\\":[],\\\"name\\\":\\\" \\\",\\\"metrics\\\":{\\\"centrality\\\":0,\\\"complexity\\\":1.0,\\\"blocking factor\\\":0,\\\"delay factor\\\":1.0},\\\"nameSub\\\":\\\"Math/Statistics Elective\\\",\\\"id\\\":147960851,\\\"credits\\\":3,\\\"nameCanonical\\\":\\\"\\\"},{\\\"curriculum_requisites\\\":[],\\\"name\\\":\\\" \\\",\\\"metrics\\\":{\\\"centrality\\\":0,\\\"complexity\\\":1.0,\\\"blocking factor\\\":0,\\\"delay factor\\\":1.0},\\\"nameSub\\\":\\\"UK Core - Global Dynamics\\\",\\\"id\\\":819264340,\\\"credits\\\":3,\\\"nameCanonical\\\":\\\"\\\"}],\\\"id\\\":7},{\\\"name\\\":\\\"Term 8\\\",\\\"curriculum_items\\\":[{\\\"curriculum_requisites\\\":[{\\\"source_id\\\":1116551982,\\\"target_id\\\":2674820998,\\\"type\\\":\\\"prereq\\\"}],\\\"name\\\":\\\"EE 491\\\",\\\"metrics\\\":{\\\"centrality\\\":0,\\\"complexity\\\":2.0,\\\"blocking factor\\\":0,\\\"delay factor\\\":2.0},\\\"nameSub\\\":\\\"EE Capstone Design\\\",\\\"id\\\":2674820998,\\\"credits\\\":3,\\\"nameCanonical\\\":\\\"\\\"},{\\\"curriculum_requisites\\\":[],\\\"name\\\":\\\" \\\",\\\"metrics\\\":{\\\"centrality\\\":0,\\\"complexity\\\":1.0,\\\"blocking factor\\\":0,\\\"delay factor\\\":1.0},\\\"nameSub\\\":\\\"EE Technical Elective 3\\\",\\\"id\\\":3472050261,\\\"credits\\\":3,\\\"nameCanonical\\\":\\\"\\\"},{\\\"curriculum_requisites\\\":[],\\\"name\\\":\\\" \\\",\\\"metrics\\\":{\\\"centrality\\\":0,\\\"complexity\\\":1.0,\\\"blocking factor\\\":0,\\\"delay factor\\\":1.0},\\\"nameSub\\\":\\\"EE Technical Elective 4\\\",\\\"id\\\":3141179749,\\\"credits\\\":3,\\\"nameCanonical\\\":\\\"\\\"},{\\\"curriculum_requisites\\\":[],\\\"name\\\":\\\" \\\",\\\"metrics\\\":{\\\"centrality\\\":0,\\\"complexity\\\":1.0,\\\"blocking factor\\\":0,\\\"delay factor\\\":1.0},\\\"nameSub\\\":\\\"Supportive Elective\\\",\\\"id\\\":109586583,\\\"credits\\\":3,\\\"nameCanonical\\\":\\\"\\\"},{\\\"curriculum_requisites\\\":[],\\\"name\\\":\\\" \\\",\\\"metrics\\\":{\\\"centrality\\\":0,\\\"complexity\\\":1.0,\\\"blocking factor\\\":0,\\\"delay factor\\\":1.0},\\\"nameSub\\\":\\\"Engineering/Science Elective 2\\\",\\\"id\\\":1227973603,\\\"credits\\\":3,\\\"nameCanonical\\\":\\\"\\\"},{\\\"curriculum_requisites\\\":[],\\\"name\\\":\\\" \\\",\\\"metrics\\\":{\\\"centrality\\\":0,\\\"complexity\\\":1.0,\\\"blocking factor\\\":0,\\\"delay factor\\\":1.0},\\\"nameSub\\\":\\\"UK Core - Statistical Inferential Reasoning\\\",\\\"id\\\":599971617,\\\"credits\\\":3,\\\"nameCanonical\\\":\\\"\\\"}],\\\"id\\\":8}],\\\"institution\\\":\\\"\\\"}},\\\"*\\\"); window.removeEventListener(\\\"message\\\",window.messageReceived); window.messageReceived=(function (event){return (event.data.curriculum!==undefined) ? (_webIOScope.setObservableValue({\\\"name\\\":\\\"curriculum-data\\\",\\\"scope\\\":\\\"scope-e38fddb2-88c5-4710-8860-ffbce72681ea\\\",\\\"id\\\":\\\"ob_03\\\",\\\"type\\\":\\\"observable\\\"},event.data.curriculum)) : undefined}); return window.addEventListener(\\\"message\\\",window.messageReceived)})\")),:style=>Dict(:padding=>\"0\",:height=>\"100vh\",:margin=>\"0\",:border=>\"none\",:width=>\"100%\")), 1), Dict{String,Tuple{Observables.AbstractObservable,Union{Nothing, Bool}}}(\"curriculum-data\"=>(Observable{Dict{String,Any}} with 1 listeners. Value:\n",
       "Dict{String,Any}(\"options\"=>Dict{String,Any}(\"hideTerms\"=>false,\"edit\"=>true),\"curriculum\"=>Dict{String,Any}(\"name\"=>\"University of Kentucky EE Program\",\"dp_name\"=>\"University of Kentucky EE Program 4-year Plan\",\"curriculum_terms\"=>Dict{String,Any}[Dict(\"name\"=>\"Term 1\",\"curriculum_items\"=>Dict{String,Any}[Dict(\"curriculum_requisites\"=>Dict{String,Any}[],\"name\"=>\"EGR 101\",\"metrics\"=>Dict{String,Any}(\"centrality\"=>0,\"complexity\"=>1.0,\"blocking factor\"=>0,\"delay factor\"=>1.0),\"nameSub\"=>\"Engineering Exploration I\",\"id\"=>2071595408,\"credits\"=>1,\"nameCanonical\"=>\"\"), Dict(\"curriculum_requisites\"=>Dict{String,Any}[],\"name\"=>\"EGR 102\",\"metrics\"=>Dict{String,Any}(\"centrality\"=>0,\"complexity\"=>6.0,\"blocking factor\"=>3,\"delay factor\"=>3.0),\"nameSub\"=>\"Fundamentals of Engineering Computing\",\"id\"=>502542156,\"credits\"=>2,\"nameCanonical\"=>\"\"), Dict(\"curriculum_requisites\"=>Dict{String,Any}[Dict(\"source_id\"=>3389674827,\"target_id\"=>2865398329,\"type\"=>\"coreq\")],\"name\"=>\"PHY 231\",\"metrics\"=>Dict{String,Any}(\"centrality\"=>62,\"complexity\"=>16.0,\"blocking factor\"=>10,\"delay factor\"=>6.0),\"nameSub\"=>\"General University Physics\",\"id\"=>2865398329,\"credits\"=>4,\"nameCanonical\"=>\"\"), Dict(\"curriculum_requisites\"=>Dict{String,Any}[Dict(\"source_id\"=>2865398329,\"target_id\"=>746915474,\"type\"=>\"coreq\")],\"name\"=>\"PHY 241\",\"metrics\"=>Dict{String,Any}(\"centrality\"=>0,\"complexity\"=>3.0,\"blocking factor\"=>0,\"delay factor\"=>3.0),\"nameSub\"=>\"General University Physics Lab\",\"id\"=>746915474,\"credits\"=>1,\"nameCanonical\"=>\"\"), Dict(\"curriculum_requisites\"=>Dict{String,Any}[],\"name\"=>\"CIS/WRD 110\",\"metrics\"=>Dict{String,Any}(\"centrality\"=>0,\"complexity\"=>3.0,\"blocking factor\"=>1,\"delay factor\"=>2.0),\"nameSub\"=>\"Composition and Communication I\",\"id\"=>858428248,\"credits\"=>3,\"nameCanonical\"=>\"\"), Dict(\"curriculum_requisites\"=>Dict{String,Any}[],\"name\"=>\"MA 113\",\"metrics\"=>Dict{String,Any}(\"centrality\"=>0,\"complexity\"=>23.0,\"blocking factor\"=>15,\"delay factor\"=>8.0),\"nameSub\"=>\"Calculus I\",\"id\"=>3389674827,\"credits\"=>4,\"nameCanonical\"=>\"\")],\"id\"=>1), Dict(\"name\"=>\"Term 2\",\"curriculum_items\"=>Dict{String,Any}[Dict(\"curriculum_requisites\"=>Dict{String,Any}[Dict(\"source_id\"=>502542156,\"target_id\"=>1123828828,\"type\"=>\"prereq\"), Dict(\"source_id\"=>3389674827,\"target_id\"=>1123828828,\"type\"=>\"coreq\"), Dict(\"source_id\"=>2865398329,\"target_id\"=>1123828828,\"type\"=>\"coreq\"), Dict(\"source_id\"=>738464693,\"target_id\"=>1123828828,\"type\"=>\"coreq\")],\"name\"=>\"EGR 103\",\"metrics\"=>Dict{String,Any}(\"centrality\"=>0,\"complexity\"=>3.0,\"blocking factor\"=>0,\"delay factor\"=>3.0),\"nameSub\"=>\"Engineering Exploration II\",\"id\"=>1123828828,\"credits\"=>2,\"nameCanonical\"=>\"\"), Dict(\"curriculum_requisites\"=>Dict{String,Any}[Dict(\"source_id\"=>858428248,\"target_id\"=>3660518225,\"type\"=>\"prereq\")],\"name\"=>\"CIS/WRD 111\",\"metrics\"=>Dict{String,Any}(\"centrality\"=>0,\"complexity\"=>2.0,\"blocking factor\"=>0,\"delay factor\"=>2.0),\"nameSub\"=>\"Composition and Communication II\",\"id\"=>3660518225,\"credits\"=>3,\"nameCanonical\"=>\"\"), Dict(\"curriculum_requisites\"=>Dict{String,Any}[Dict(\"source_id\"=>3389674827,\"target_id\"=>2966989896,\"type\"=>\"prereq\")],\"name\"=>\"MA 114\",\"metrics\"=>Dict{String,Any}(\"centrality\"=>102,\"complexity\"=>19.0,\"blocking factor\"=>11,\"delay factor\"=>8.0),\"nameSub\"=>\"Calculus II\",\"id\"=>2966989896,\"credits\"=>4,\"nameCanonical\"=>\"\"), Dict(\"curriculum_requisites\"=>Dict{String,Any}[],\"name\"=>\"CHE 105\",\"metrics\"=>Dict{String,Any}(\"centrality\"=>0,\"complexity\"=>3.0,\"blocking factor\"=>1,\"delay factor\"=>2.0),\"nameSub\"=>\"General College Chemistry I\",\"id\"=>738464693,\"credits\"=>4,\"nameCanonical\"=>\"\"), Dict(\"curriculum_requisites\"=>Dict{String,Any}[],\"name\"=>\" \",\"metrics\"=>Dict{String,Any}(\"centrality\"=>0,\"complexity\"=>1.0,\"blocking factor\"=>0,\"delay factor\"=>1.0),\"nameSub\"=>\"UK Core - Social Sciences\",\"id\"=>1586162741,\"credits\"=>3,\"nameCanonical\"=>\"\")],\"id\"=>2), Dict(\"name\"=>\"Term 3\",\"curriculum_items\"=>Dict{String,Any}[Dict(\"curriculum_requisites\"=>Dict{String,Any}[Dict(\"source_id\"=>2966989896,\"target_id\"=>2193700744,\"type\"=>\"prereq\")],\"name\"=>\"MA 213\",\"metrics\"=>Dict{String,Any}(\"centrality\"=>102,\"complexity\"=>18.0,\"blocking factor\"=>10,\"delay factor\"=>8.0),\"nameSub\"=>\"Calculus III\",\"id\"=>2193700744,\"credits\"=>4,\"nameCanonical\"=>\"\"), Dict(\"curriculum_requisites\"=>Dict{String,Any}[Dict(\"source_id\"=>2865398329,\"target_id\"=>24551683,\"type\"=>\"prereq\"), Dict(\"source_id\"=>2193700744,\"target_id\"=>24551683,\"type\"=>\"coreq\")],\"name\"=>\"PHY 232\",\"metrics\"=>Dict{String,Any}(\"centrality\"=>121,\"complexity\"=>15.0,\"blocking factor\"=>7,\"delay factor\"=>8.0),\"nameSub\"=>\"General University Physics\",\"id\"=>24551683,\"credits\"=>4,\"nameCanonical\"=>\"\"), Dict(\"curriculum_requisites\"=>Dict{String,Any}[Dict(\"source_id\"=>24551683,\"target_id\"=>4109240503,\"type\"=>\"coreq\")],\"name\"=>\"PHY 242\",\"metrics\"=>Dict{String,Any}(\"centrality\"=>60,\"complexity\"=>14.0,\"blocking factor\"=>6,\"delay factor\"=>8.0),\"nameSub\"=>\"General University Physics Lab\",\"id\"=>4109240503,\"credits\"=>1,\"nameCanonical\"=>\"\"), Dict(\"curriculum_requisites\"=>Dict{String,Any}[Dict(\"source_id\"=>24551683,\"target_id\"=>1017230148,\"type\"=>\"coreq\"), Dict(\"source_id\"=>4109240503,\"target_id\"=>1017230148,\"type\"=>\"coreq\")],\"name\"=>\"EE 211\",\"metrics\"=>Dict{String,Any}(\"centrality\"=>112,\"complexity\"=>13.0,\"blocking factor\"=>5,\"delay factor\"=>8.0),\"nameSub\"=>\"Circuits I\",\"id\"=>1017230148,\"credits\"=>4,\"nameCanonical\"=>\"\"), Dict(\"curriculum_requisites\"=>Dict{String,Any}[Dict(\"source_id\"=>502542156,\"target_id\"=>1416959221,\"type\"=>\"prereq\")],\"name\"=>\"EE 282\",\"metrics\"=>Dict{String,Any}(\"centrality\"=>3,\"complexity\"=>4.0,\"blocking factor\"=>1,\"delay factor\"=>3.0),\"nameSub\"=>\"Digital Logic Design\",\"id\"=>1416959221,\"credits\"=>4,\"nameCanonical\"=>\"\")],\"id\"=>3), Dict(\"name\"=>\"Term 4\",\"curriculum_items\"=>Dict{String,Any}[Dict(\"curriculum_requisites\"=>Dict{String,Any}[Dict(\"source_id\"=>2193700744,\"target_id\"=>713164423,\"type\"=>\"prereq\")],\"name\"=>\"MA 214\",\"metrics\"=>Dict{String,Any}(\"centrality\"=>29,\"complexity\"=>9.0,\"blocking factor\"=>5,\"delay factor\"=>4.0),\"nameSub\"=>\"Calculus IV\",\"id\"=>713164423,\"credits\"=>3,\"nameCanonical\"=>\"\"), Dict(\"curriculum_requisites\"=>Dict{String,Any}[Dict(\"source_id\"=>1017230148,\"target_id\"=>2281989961,\"type\"=>\"prereq\"), Dict(\"source_id\"=>713164423,\"target_id\"=>2281989961,\"type\"=>\"coreq\")],\"name\"=>\"EE 223\",\"metrics\"=>Dict{String,Any}(\"centrality\"=>136,\"complexity\"=>12.0,\"blocking factor\"=>4,\"delay factor\"=>8.0),\"nameSub\"=>\"AC Circuits\",\"id\"=>2281989961,\"credits\"=>4,\"nameCanonical\"=>\"\"), Dict(\"curriculum_requisites\"=>Dict{String,Any}[Dict(\"source_id\"=>1416959221,\"target_id\"=>1647567702,\"type\"=>\"prereq\"), Dict(\"source_id\"=>1332377596,\"target_id\"=>1647567702,\"type\"=>\"coreq\")],\"name\"=>\"EE 287\",\"metrics\"=>Dict{String,Any}(\"centrality\"=>0,\"complexity\"=>3.0,\"blocking factor\"=>0,\"delay factor\"=>3.0),\"nameSub\"=>\"Intro. to Embedded Systems\",\"id\"=>1647567702,\"credits\"=>4,\"nameCanonical\"=>\"\"), Dict(\"curriculum_requisites\"=>Dict{String,Any}[],\"name\"=>\"CS 215\",\"metrics\"=>Dict{String,Any}(\"centrality\"=>0,\"complexity\"=>3.0,\"blocking factor\"=>1,\"delay factor\"=>2.0),\"nameSub\"=>\"Intro. to Program Design Abstraction and Problem Solving\",\"id\"=>1332377596,\"credits\"=>4,\"nameCanonical\"=>\"\"), Dict(\"curriculum_requisites\"=>Dict{String,Any}[],\"name\"=>\" \",\"metrics\"=>Dict{String,Any}(\"centrality\"=>0,\"complexity\"=>1.0,\"blocking factor\"=>0,\"delay factor\"=>1.0),\"nameSub\"=>\"UK Core - Humanities\",\"id\"=>699408466,\"credits\"=>3,\"nameCanonical\"=>\"\")],\"id\"=>4), Dict(\"name\"=>\"Term 5\",\"curriculum_items\"=>Dict{String,Any}[Dict(\"curriculum_requisites\"=>Dict{String,Any}[Dict(\"source_id\"=>2281989961,\"target_id\"=>3945639322,\"type\"=>\"prereq\"), Dict(\"source_id\"=>24551683,\"target_id\"=>3945639322,\"type\"=>\"prereq\")],\"name\"=>\"EE 415G\",\"metrics\"=>Dict{String,Any}(\"centrality\"=>0,\"complexity\"=>8.0,\"blocking factor\"=>0,\"delay factor\"=>8.0),\"nameSub\"=>\"Electromechanics\",\"id\"=>3945639322,\"credits\"=>3,\"nameCanonical\"=>\"\"), Dict(\"curriculum_requisites\"=>Dict{String,Any}[Dict(\"source_id\"=>2281989961,\"target_id\"=>2950065960,\"type\"=>\"prereq\"), Dict(\"source_id\"=>713164423,\"target_id\"=>2950065960,\"type\"=>\"prereq\")],\"name\"=>\"EE 421G\",\"metrics\"=>Dict{String,Any}(\"centrality\"=>0,\"complexity\"=>8.0,\"blocking factor\"=>0,\"delay factor\"=>8.0),\"nameSub\"=>\"Signals & Systems\",\"id\"=>2950065960,\"credits\"=>3,\"nameCanonical\"=>\"\"), Dict(\"curriculum_requisites\"=>Dict{String,Any}[],\"name\"=>\" \",\"metrics\"=>Dict{String,Any}(\"centrality\"=>0,\"complexity\"=>1.0,\"blocking factor\"=>0,\"delay factor\"=>1.0),\"nameSub\"=>\"Elective EE Laboratory 1\",\"id\"=>448709314,\"credits\"=>2,\"nameCanonical\"=>\"\"), Dict(\"curriculum_requisites\"=>Dict{String,Any}[Dict(\"source_id\"=>2281989961,\"target_id\"=>16242192,\"type\"=>\"prereq\")],\"name\"=>\"EE 461G\",\"metrics\"=>Dict{String,Any}(\"centrality\"=>0,\"complexity\"=>8.0,\"blocking factor\"=>0,\"delay factor\"=>8.0),\"nameSub\"=>\"Intro. to Electronics\",\"id\"=>16242192,\"credits\"=>3,\"nameCanonical\"=>\"\"), Dict(\"curriculum_requisites\"=>Dict{String,Any}[Dict(\"source_id\"=>2193700744,\"target_id\"=>2756944549,\"type\"=>\"prereq\")],\"name\"=>\"MA 320\",\"metrics\"=>Dict{String,Any}(\"centrality\"=>0,\"complexity\"=>4.0,\"blocking factor\"=>0,\"delay factor\"=>4.0),\"nameSub\"=>\"Introductory Probability\",\"id\"=>2756944549,\"credits\"=>3,\"nameCanonical\"=>\"\"), Dict(\"curriculum_requisites\"=>Dict{String,Any}[],\"name\"=>\" \",\"metrics\"=>Dict{String,Any}(\"centrality\"=>0,\"complexity\"=>1.0,\"blocking factor\"=>0,\"delay factor\"=>1.0),\"nameSub\"=>\"Technical Elective 1\",\"id\"=>3654615878,\"credits\"=>3,\"nameCanonical\"=>\"\")],\"id\"=>5), Dict(\"name\"=>\"Term 6\",\"curriculum_items\"=>Dict{String,Any}[Dict(\"curriculum_requisites\"=>Dict{String,Any}[Dict(\"source_id\"=>2281989961,\"target_id\"=>1400716874,\"type\"=>\"prereq\"), Dict(\"source_id\"=>2193700744,\"target_id\"=>1400716874,\"type\"=>\"prereq\")],\"name\"=>\"EE 468G\",\"metrics\"=>Dict{String,Any}(\"centrality\"=>0,\"complexity\"=>8.0,\"blocking factor\"=>0,\"delay factor\"=>8.0),\"nameSub\"=>\"Intro. to Engineering Electromagnetics\",\"id\"=>1400716874,\"credits\"=>4,\"nameCanonical\"=>\"\"), Dict(\"curriculum_requisites\"=>Dict{String,Any}[],\"name\"=>\" \",\"metrics\"=>Dict{String,Any}(\"centrality\"=>0,\"complexity\"=>1.0,\"blocking factor\"=>0,\"delay factor\"=>1.0),\"nameSub\"=>\"Elective EE Laboratory 2\",\"id\"=>3008452217,\"credits\"=>2,\"nameCanonical\"=>\"\"), Dict(\"curriculum_requisites\"=>Dict{String,Any}[],\"name\"=>\" \",\"metrics\"=>Dict{String,Any}(\"centrality\"=>0,\"complexity\"=>1.0,\"blocking factor\"=>0,\"delay factor\"=>1.0),\"nameSub\"=>\"Engineering/Science Elective 1\",\"id\"=>1824271747,\"credits\"=>3,\"nameCanonical\"=>\"\"), Dict(\"curriculum_requisites\"=>Dict{String,Any}[],\"name\"=>\" \",\"metrics\"=>Dict{String,Any}(\"centrality\"=>0,\"complexity\"=>1.0,\"blocking factor\"=>0,\"delay factor\"=>1.0),\"nameSub\"=>\"Technical Elective 2\",\"id\"=>3697264218,\"credits\"=>3,\"nameCanonical\"=>\"\"), Dict(\"curriculum_requisites\"=>Dict{String,Any}[],\"name\"=>\" \",\"metrics\"=>Dict{String,Any}(\"centrality\"=>0,\"complexity\"=>1.0,\"blocking factor\"=>0,\"delay factor\"=>1.0),\"nameSub\"=>\"UK Core - Citizenship - USA\",\"id\"=>1496407185,\"credits\"=>3,\"nameCanonical\"=>\"\")],\"id\"=>6), Dict(\"name\"=>\"Term 7\",\"curriculum_items\"=>Dict{String,Any}[Dict(\"curriculum_requisites\"=>Dict{String,Any}[],\"name\"=>\"EE 490\",\"metrics\"=>Dict{String,Any}(\"centrality\"=>0,\"complexity\"=>3.0,\"blocking factor\"=>1,\"delay factor\"=>2.0),\"nameSub\"=>\"EE Capstone Design\",\"id\"=>1116551982,\"credits\"=>3,\"nameCanonical\"=>\"\"), Dict(\"curriculum_requisites\"=>Dict{String,Any}[],\"name\"=>\" \",\"metrics\"=>Dict{String,Any}(\"centrality\"=>0,\"complexity\"=>1.0,\"blocking factor\"=>0,\"delay factor\"=>1.0),\"nameSub\"=>\"EE Technical Elective 1\",\"id\"=>1373040133,\"credits\"=>3,\"nameCanonical\"=>\"\"), Dict(\"curriculum_requisites\"=>Dict{String,Any}[],\"name\"=>\" \",\"metrics\"=>Dict{String,Any}(\"centrality\"=>0,\"complexity\"=>1.0,\"blocking factor\"=>0,\"delay factor\"=>1.0),\"nameSub\"=>\"EE Technical Elective 2\",\"id\"=>2900608954,\"credits\"=>3,\"nameCanonical\"=>\"\"), Dict(\"curriculum_requisites\"=>Dict{String,Any}[],\"name\"=>\" \",\"metrics\"=>Dict{String,Any}(\"centrality\"=>0,\"complexity\"=>1.0,\"blocking factor\"=>0,\"delay factor\"=>1.0),\"nameSub\"=>\"Math/Statistics Elective\",\"id\"=>147960851,\"credits\"=>3,\"nameCanonical\"=>\"\"), Dict(\"curriculum_requisites\"=>Dict{String,Any}[],\"name\"=>\" \",\"metrics\"=>Dict{String,Any}(\"centrality\"=>0,\"complexity\"=>1.0,\"blocking factor\"=>0,\"delay factor\"=>1.0),\"nameSub\"=>\"UK Core - Global Dynamics\",\"id\"=>819264340,\"credits\"=>3,\"nameCanonical\"=>\"\")],\"id\"=>7), Dict(\"name\"=>\"Term 8\",\"curriculum_items\"=>Dict{String,Any}[Dict(\"curriculum_requisites\"=>Dict{String,Any}[Dict(\"source_id\"=>1116551982,\"target_id\"=>2674820998,\"type\"=>\"prereq\")],\"name\"=>\"EE 491\",\"metrics\"=>Dict{String,Any}(\"centrality\"=>0,\"complexity\"=>2.0,\"blocking factor\"=>0,\"delay factor\"=>2.0),\"nameSub\"=>\"EE Capstone Design\",\"id\"=>2674820998,\"credits\"=>3,\"nameCanonical\"=>\"\"), Dict(\"curriculum_requisites\"=>Dict{String,Any}[],\"name\"=>\" \",\"metrics\"=>Dict{String,Any}(\"centrality\"=>0,\"complexity\"=>1.0,\"blocking factor\"=>0,\"delay factor\"=>1.0),\"nameSub\"=>\"EE Technical Elective 3\",\"id\"=>3472050261,\"credits\"=>3,\"nameCanonical\"=>\"\"), Dict(\"curriculum_requisites\"=>Dict{String,Any}[],\"name\"=>\" \",\"metrics\"=>Dict{String,Any}(\"centrality\"=>0,\"complexity\"=>1.0,\"blocking factor\"=>0,\"delay factor\"=>1.0),\"nameSub\"=>\"EE Technical Elective 4\",\"id\"=>3141179749,\"credits\"=>3,\"nameCanonical\"=>\"\"), Dict(\"curriculum_requisites\"=>Dict{String,Any}[],\"name\"=>\" \",\"metrics\"=>Dict{String,Any}(\"centrality\"=>0,\"complexity\"=>1.0,\"blocking factor\"=>0,\"delay factor\"=>1.0),\"nameSub\"=>\"Supportive Elective\",\"id\"=>109586583,\"credits\"=>3,\"nameCanonical\"=>\"\"), Dict(\"curriculum_requisites\"=>Dict{String,Any}[],\"name\"=>\" \",\"metrics\"=>Dict{String,Any}(\"centrality\"=>0,\"complexity\"=>1.0,\"blocking factor\"=>0,\"delay factor\"=>1.0),\"nameSub\"=>\"Engineering/Science Elective 2\",\"id\"=>1227973603,\"credits\"=>3,\"nameCanonical\"=>\"\"), Dict(\"curriculum_requisites\"=>Dict{String,Any}[],\"name\"=>\" \",\"metrics\"=>Dict{String,Any}(\"centrality\"=>0,\"complexity\"=>1.0,\"blocking factor\"=>0,\"delay factor\"=>1.0),\"nameSub\"=>\"UK Core - Statistical Inferential Reasoning\",\"id\"=>599971617,\"credits\"=>3,\"nameCanonical\"=>\"\")],\"id\"=>8)],\"institution\"=>\"\")), nothing)), Set(String[]), nothing, Any[], Dict{Any,Any}(), WebIO.ConnectionPool(Channel{Any}(sz_max:9223372036854775807,sz_curr:0), Set(WebIO.AbstractConnection[]), Channel{WebIO.AbstractConnection}(sz_max:32,sz_curr:0)))"
      ]
     },
     "execution_count": 11,
     "metadata": {
      "application/vnd.webio.node+json": {
       "kernelId": "e59e4496-4133-43f1-8c59-e56f5c991cf4"
      }
     },
     "output_type": "execute_result"
    }
   ],
   "source": [
    "out = read_csv(\"examples/UKY_EE_plan.csv\")\n",
    "visualize(out, edit=true, notebook=true,show_delay=true, show_blocking=true, show_centrality=true, show_complexity=true)\n",
    "#visualize(out, changed=update_plan , edit=true, notebook=true, show_blocking=false, show_delay=false, show_centrality=false, show_complexity = false)\n"
   ]
  },
  {
   "cell_type": "code",
   "execution_count": 12,
   "metadata": {},
   "outputs": [
    {
     "name": "stdout",
     "output_type": "stream",
     "text": [
      "Curriculum Cornell University EE Program is valid\n",
      "  delay factor = (81.0, [5.0, 2.0, 1.0, 1.0, 5.0, 1.0, 1.0, 1.0, 1.0, 1.0, 1.0, 1.0, 1.0, 1.0, 3.0, 4.0, 4.0, 1.0, 1.0, 5.0, 4.0, 4.0, 1.0, 1.0, 1.0, 1.0, 1.0, 1.0, 4.0, 1.0, 1.0, 1.0, 4.0, 1.0, 5.0, 1.0, 3.0, 5.0])\n",
      "  blocking factor = (37, [4, 0, 0, 0, 3, 0, 0, 0, 0, 0, 0, 0, 0, 0, 1, 0, 2, 0, 0, 0, 4, 1, 0, 0, 0, 0, 0, 0, 8, 0, 0, 0, 0, 0, 1, 0, 3, 10])\n",
      "  centrality factor = (102, [9, 0, 0, 0, 18, 0, 0, 0, 0, 0, 0, 0, 0, 0, 3, 0, 5, 0, 0, 0, 14, 10, 0, 0, 0, 0, 0, 0, 28, 0, 0, 0, 0, 0, 15, 0, 0, 0])\n",
      "  curricular complexity = (118.0, Number[9.0, 2.0, 1.0, 1.0, 8.0, 1.0, 1.0, 1.0, 1.0, 1.0, 1.0, 1.0, 1.0, 1.0, 4.0, 4.0, 6.0, 1.0, 1.0, 5.0, 8.0, 5.0, 1.0, 1.0, 1.0, 1.0, 1.0, 1.0, 12.0, 1.0, 1.0, 1.0, 4.0, 1.0, 6.0, 1.0, 6.0, 15.0])\n"
     ]
    },
    {
     "data": {
      "text/plain": [
       "Window(1, Electron(Process(`\u001b[4m/Users/orhanabar/.julia/packages/Blink/vKGzM/deps/Julia.app/Contents/MacOS/Julia\u001b[24m \u001b[4m/Users/orhanabar/.julia/packages/Blink/vKGzM/src/AtomShell/main.js\u001b[24m \u001b[4mport\u001b[24m \u001b[4m2727\u001b[24m`, ProcessRunning), Sockets.TCPSocket(RawFD(0x0000003c) active, 0 bytes waiting), Dict{String,Any}(\"callback\"=>##1#2())), Page(1, WebSockets.WebSocket{Sockets.TCPSocket}(Sockets.TCPSocket(RawFD(0x00000042) active, 0 bytes waiting), true, CONNECTED::ReadyState = 1), Dict{String,Any}(\"webio\"=>##95#96{BlinkConnection}(BlinkConnection(Page(#= circular reference @-4 =#))),\"callback\"=>##1#2()), Distributed.Future(1, 1, 1, Some(true))))"
      ]
     },
     "execution_count": 12,
     "metadata": {},
     "output_type": "execute_result"
    },
    {
     "name": "stderr",
     "output_type": "stream",
     "text": [
      "┌ Info: Accept (9):  🔗    0↑     0↓    0s 127.0.0.1:8156:8156 ≣16\n",
      "└ @ HTTP.Servers /Users/orhanabar/.julia/packages/HTTP/YjRCz/src/Servers.jl:343\n",
      "┌ Info: Accept (10):  🔗    0↑     0↓    0s 127.0.0.1:8156:8156 ≣16\n",
      "└ @ HTTP.Servers /Users/orhanabar/.julia/packages/HTTP/YjRCz/src/Servers.jl:343\n",
      "┌ Info: Accept (11):  🔗    0↑     0↓    0s 127.0.0.1:8156:8156 ≣16\n",
      "└ @ HTTP.Servers /Users/orhanabar/.julia/packages/HTTP/YjRCz/src/Servers.jl:343\n",
      "┌ Info: Accept (12):  🔗    0↑     0↓    0s 127.0.0.1:8156:8156 ≣16\n",
      "└ @ HTTP.Servers /Users/orhanabar/.julia/packages/HTTP/YjRCz/src/Servers.jl:343\n",
      "┌ Info: Closed (5):  💀    4↑     4↓🔒 1302s 127.0.0.1:8156:8156 ≣16\n",
      "└ @ HTTP.Servers /Users/orhanabar/.julia/packages/HTTP/YjRCz/src/Servers.jl:351\n",
      "┌ Info: Closed (6):  💀    2↑     2↓🔒 1302s 127.0.0.1:8156:8156 ≣16\n",
      "└ @ HTTP.Servers /Users/orhanabar/.julia/packages/HTTP/YjRCz/src/Servers.jl:351\n",
      "┌ Info: Closed (8):  💀    4↑     4↓🔒 1302s 127.0.0.1:8156:8156 ≣16\n",
      "└ @ HTTP.Servers /Users/orhanabar/.julia/packages/HTTP/YjRCz/src/Servers.jl:351\n",
      "┌ Info: Closed (7):  💀    2↑     2↓🔒 1302s 127.0.0.1:8156:8156 ≣16\n",
      "└ @ HTTP.Servers /Users/orhanabar/.julia/packages/HTTP/YjRCz/src/Servers.jl:351\n",
      "┌ Info: Accept (13):  🔗    0↑     0↓    0s 127.0.0.1:8156:8156 ≣16\n",
      "└ @ HTTP.Servers /Users/orhanabar/.julia/packages/HTTP/YjRCz/src/Servers.jl:343\n",
      "┌ Info: Accept (14):  🔗    0↑     0↓    0s 127.0.0.1:8156:8156 ≣16\n",
      "└ @ HTTP.Servers /Users/orhanabar/.julia/packages/HTTP/YjRCz/src/Servers.jl:343\n",
      "┌ Info: Accept (15):  🔗    0↑     0↓    0s 127.0.0.1:8156:8156 ≣16\n",
      "└ @ HTTP.Servers /Users/orhanabar/.julia/packages/HTTP/YjRCz/src/Servers.jl:343\n",
      "┌ Info: Accept (16):  🔗    0↑     0↓    0s 127.0.0.1:8156:8156 ≣16\n",
      "└ @ HTTP.Servers /Users/orhanabar/.julia/packages/HTTP/YjRCz/src/Servers.jl:343\n",
      "┌ Info: Accept (17):  🔗    0↑     0↓    0s 127.0.0.1:8156:8156 ≣16\n",
      "└ @ HTTP.Servers /Users/orhanabar/.julia/packages/HTTP/YjRCz/src/Servers.jl:343\n",
      "┌ Info: Closed (14):  💀    2↑     2↓🔒  15s 127.0.0.1:8156:8156 ≣16\n",
      "└ @ HTTP.Servers /Users/orhanabar/.julia/packages/HTTP/YjRCz/src/Servers.jl:351\n",
      "┌ Info: Closed (17):  💀    1↑     1↓🔒  15s 127.0.0.1:8156:8156 ≣16\n",
      "└ @ HTTP.Servers /Users/orhanabar/.julia/packages/HTTP/YjRCz/src/Servers.jl:351\n",
      "┌ Info: Closed (16):  💀    1↑     1↓🔒  15s 127.0.0.1:8156:8156 ≣16\n",
      "└ @ HTTP.Servers /Users/orhanabar/.julia/packages/HTTP/YjRCz/src/Servers.jl:351\n",
      "┌ Info: Closed (15):  💀    1↑     1↓🔒  15s 127.0.0.1:8156:8156 ≣16\n",
      "└ @ HTTP.Servers /Users/orhanabar/.julia/packages/HTTP/YjRCz/src/Servers.jl:351\n",
      "┌ Info: Closed (12):  💀    1↑     1↓🔒 1439s 127.0.0.1:8156:8156 ≣16\n",
      "└ @ HTTP.Servers /Users/orhanabar/.julia/packages/HTTP/YjRCz/src/Servers.jl:351\n",
      "┌ Info: Closed (10):  💀    1↑     1↓🔒 1439s 127.0.0.1:8156:8156 ≣16\n",
      "└ @ HTTP.Servers /Users/orhanabar/.julia/packages/HTTP/YjRCz/src/Servers.jl:351\n",
      "┌ Info: Closed (11):  💀    1↑     1↓🔒 1439s 127.0.0.1:8156:8156 ≣16\n",
      "└ @ HTTP.Servers /Users/orhanabar/.julia/packages/HTTP/YjRCz/src/Servers.jl:351\n",
      "┌ Info: Closed (9):  💀    2↑     2↓🔒 1439s 127.0.0.1:8156:8156 ≣16\n",
      "└ @ HTTP.Servers /Users/orhanabar/.julia/packages/HTTP/YjRCz/src/Servers.jl:351\n",
      "\u001b[91mUnexpected end of input\u001b[39m\n",
      "\u001b[91m ...when parsing byte with value '0'\u001b[39m\n",
      "Stacktrace:\n",
      " [1] \u001b[1merror\u001b[22m\u001b[1m(\u001b[22m::String\u001b[1m)\u001b[22m at \u001b[1m./error.jl:33\u001b[22m\n",
      " [2] \u001b[1m_error\u001b[22m\u001b[1m(\u001b[22m::String, ::JSON.Parser.StreamingParserState{Sockets.TCPSocket}\u001b[1m)\u001b[22m at \u001b[1m/Users/orhanabar/.julia/packages/JSON/ebvl3/src/Parser.jl:150\u001b[22m\n",
      " [3] \u001b[1mbyteat\u001b[22m\u001b[1m(\u001b[22m::JSON.Parser.StreamingParserState{Sockets.TCPSocket}\u001b[1m)\u001b[22m at \u001b[1m/Users/orhanabar/.julia/packages/JSON/ebvl3/src/Parser.jl:59\u001b[22m\n",
      " [4] \u001b[1mchomp_space!\u001b[22m at \u001b[1m/Users/orhanabar/.julia/packages/JSON/ebvl3/src/Parser.jl:72\u001b[22m [inlined]\n",
      " [5] \u001b[1mparse_value\u001b[22m\u001b[1m(\u001b[22m::JSON.Parser.ParserContext{Dict{String,Any},Int64}, ::JSON.Parser.StreamingParserState{Sockets.TCPSocket}\u001b[1m)\u001b[22m at \u001b[1m/Users/orhanabar/.julia/packages/JSON/ebvl3/src/Parser.jl:160\u001b[22m\n",
      " [6] \u001b[1m#parse#2\u001b[22m at \u001b[1m/Users/orhanabar/.julia/packages/JSON/ebvl3/src/Parser.jl:427\u001b[22m [inlined]\n",
      " [7] \u001b[1mparse\u001b[22m at \u001b[1m/Users/orhanabar/.julia/packages/JSON/ebvl3/src/Parser.jl:425\u001b[22m [inlined]\n",
      " [8] \u001b[1mmacro expansion\u001b[22m at \u001b[1m/Users/orhanabar/.julia/packages/Lazy/ZAeCx/src/macros.jl:256\u001b[22m [inlined]\n",
      " [9] \u001b[1mmacro expansion\u001b[22m at \u001b[1m/Users/orhanabar/.julia/packages/Blink/vKGzM/src/AtomShell/process.jl:103\u001b[22m [inlined]\n",
      " [10] \u001b[1m(::getfield(Blink.AtomShell, Symbol(\"##9#10\")){Electron})\u001b[22m\u001b[1m(\u001b[22m\u001b[1m)\u001b[22m at \u001b[1m./task.jl:259\u001b[22m\n",
      "┌ Info: Closed (13):  💀    1↑     1↓🔒  68s 127.0.0.1:8156:8156 ≣16\n",
      "└ @ HTTP.Servers /Users/orhanabar/.julia/packages/HTTP/YjRCz/src/Servers.jl:351\n",
      "┌ Info: Accept (18):  🔗    0↑     0↓    0s 127.0.0.1:8156:8156 ≣16\n",
      "└ @ HTTP.Servers /Users/orhanabar/.julia/packages/HTTP/YjRCz/src/Servers.jl:343\n",
      "┌ Info: Accept (19):  🔗    0↑     0↓    0s 127.0.0.1:8156:8156 ≣16\n",
      "└ @ HTTP.Servers /Users/orhanabar/.julia/packages/HTTP/YjRCz/src/Servers.jl:343\n",
      "┌ Info: Accept (20):  🔗    0↑     0↓    0s 127.0.0.1:8156:8156 ≣16\n",
      "└ @ HTTP.Servers /Users/orhanabar/.julia/packages/HTTP/YjRCz/src/Servers.jl:343\n",
      "┌ Info: Accept (21):  🔗    0↑     0↓    0s 127.0.0.1:8156:8156 ≣16\n",
      "└ @ HTTP.Servers /Users/orhanabar/.julia/packages/HTTP/YjRCz/src/Servers.jl:343\n",
      "┌ Info: Accept (22):  🔗    0↑     0↓    0s 127.0.0.1:8156:8156 ≣16\n",
      "└ @ HTTP.Servers /Users/orhanabar/.julia/packages/HTTP/YjRCz/src/Servers.jl:343\n",
      "┌ Info: Closed (21):  💀    1↑     1↓🔒   8s 127.0.0.1:8156:8156 ≣16\n",
      "└ @ HTTP.Servers /Users/orhanabar/.julia/packages/HTTP/YjRCz/src/Servers.jl:351\n",
      "┌ Info: Closed (20):  💀    1↑     1↓🔒   8s 127.0.0.1:8156:8156 ≣16\n",
      "└ @ HTTP.Servers /Users/orhanabar/.julia/packages/HTTP/YjRCz/src/Servers.jl:351\n",
      "┌ Info: Closed (19):  💀    2↑     2↓🔒   8s 127.0.0.1:8156:8156 ≣16\n",
      "└ @ HTTP.Servers /Users/orhanabar/.julia/packages/HTTP/YjRCz/src/Servers.jl:351\n",
      "┌ Info: Closed (22):  💀    1↑     1↓🔒   8s 127.0.0.1:8156:8156 ≣16\n",
      "└ @ HTTP.Servers /Users/orhanabar/.julia/packages/HTTP/YjRCz/src/Servers.jl:351\n",
      "┌ Info: Accept (23):  🔗    0↑     0↓    0s 127.0.0.1:8156:8156 ≣16\n",
      "└ @ HTTP.Servers /Users/orhanabar/.julia/packages/HTTP/YjRCz/src/Servers.jl:343\n",
      "┌ Info: Accept (24):  🔗    0↑     0↓    0s 127.0.0.1:8156:8156 ≣16\n",
      "└ @ HTTP.Servers /Users/orhanabar/.julia/packages/HTTP/YjRCz/src/Servers.jl:343\n",
      "┌ Info: Accept (25):  🔗    0↑     0↓    0s 127.0.0.1:8156:8156 ≣16\n",
      "└ @ HTTP.Servers /Users/orhanabar/.julia/packages/HTTP/YjRCz/src/Servers.jl:343\n",
      "┌ Info: Accept (26):  🔗    0↑     0↓    0s 127.0.0.1:8156:8156 ≣16\n",
      "└ @ HTTP.Servers /Users/orhanabar/.julia/packages/HTTP/YjRCz/src/Servers.jl:343\n",
      "┌ Info: Closed (26):  💀    1↑     1↓🔒   7s 127.0.0.1:8156:8156 ≣16\n",
      "└ @ HTTP.Servers /Users/orhanabar/.julia/packages/HTTP/YjRCz/src/Servers.jl:351\n",
      "┌ Info: Closed (25):  💀    1↑     1↓🔒   7s 127.0.0.1:8156:8156 ≣16\n",
      "└ @ HTTP.Servers /Users/orhanabar/.julia/packages/HTTP/YjRCz/src/Servers.jl:351\n",
      "┌ Info: Closed (24):  💀    1↑     1↓🔒   7s 127.0.0.1:8156:8156 ≣16\n",
      "└ @ HTTP.Servers /Users/orhanabar/.julia/packages/HTTP/YjRCz/src/Servers.jl:351\n",
      "┌ Info: Closed (23):  💀    2↑     2↓🔒   7s 127.0.0.1:8156:8156 ≣16\n",
      "└ @ HTTP.Servers /Users/orhanabar/.julia/packages/HTTP/YjRCz/src/Servers.jl:351\n",
      "┌ Info: Accept (27):  🔗    0↑     0↓    0s 127.0.0.1:8156:8156 ≣16\n",
      "└ @ HTTP.Servers /Users/orhanabar/.julia/packages/HTTP/YjRCz/src/Servers.jl:343\n",
      "┌ Info: Accept (28):  🔗    0↑     0↓    0s 127.0.0.1:8156:8156 ≣16\n",
      "└ @ HTTP.Servers /Users/orhanabar/.julia/packages/HTTP/YjRCz/src/Servers.jl:343\n",
      "┌ Info: Accept (29):  🔗    0↑     0↓    0s 127.0.0.1:8156:8156 ≣16\n",
      "└ @ HTTP.Servers /Users/orhanabar/.julia/packages/HTTP/YjRCz/src/Servers.jl:343\n",
      "┌ Info: Accept (30):  🔗    0↑     0↓    0s 127.0.0.1:8156:8156 ≣16\n",
      "└ @ HTTP.Servers /Users/orhanabar/.julia/packages/HTTP/YjRCz/src/Servers.jl:343\n"
     ]
    }
   ],
   "source": [
    "include(\"examples/Cornell_EE_curric.jl\")\n",
    "#write_csv(out)"
   ]
  },
  {
   "cell_type": "code",
   "execution_count": null,
   "metadata": {},
   "outputs": [],
   "source": []
  }
 ],
 "metadata": {
  "@webio": {
   "lastCommId": "1d52f51b2d9849508da221e64b53e741",
   "lastKernelId": "e8f6a052-c55d-498d-96c7-663575dc89c9"
  },
  "kernelspec": {
   "display_name": "Julia 1.0.3",
   "language": "julia",
   "name": "julia-1.0"
  },
  "language_info": {
   "file_extension": ".jl",
   "mimetype": "application/julia",
   "name": "julia",
   "version": "1.0.3"
  }
 },
 "nbformat": 4,
 "nbformat_minor": 2
}

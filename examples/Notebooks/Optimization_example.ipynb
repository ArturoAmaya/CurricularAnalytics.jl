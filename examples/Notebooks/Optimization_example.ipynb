{
 "cells": [
  {
   "cell_type": "code",
   "execution_count": 1,
   "metadata": {
    "scrolled": false
   },
   "outputs": [
    {
     "name": "stderr",
     "output_type": "stream",
     "text": [
      "┌ Info: Recompiling stale cache file /Users/heileman/.julia/compiled/v1.0/CurricularAnalytics/KKMY9.ji for CurricularAnalytics [b915a5b0-c40e-11e8-3dab-39a55ab5c2f7]\n",
      "└ @ Base loading.jl:1184\n",
      "ERROR: LoadError: LoadError: ArgumentError: Package CSV [336ed68f-0bac-5ca0-87d4-7b16caf5d00b] is required but does not seem to be installed:\n",
      " - Run `Pkg.instantiate()` to install all recorded dependencies.\n",
      "\n",
      "Stacktrace:\n",
      " [1] _require(::Base.PkgId) at ./loading.jl:923\n",
      " [2] require(::Base.PkgId) at ./loading.jl:852\n",
      " [3] macro expansion at ./logging.jl:311 [inlined]\n",
      " [4] require(::Module, ::Symbol) at ./loading.jl:834\n",
      " [5] include at ./boot.jl:317 [inlined]\n",
      " [6] include_relative(::Module, ::String) at ./loading.jl:1038\n",
      " [7] include at ./sysimg.jl:29 [inlined]\n",
      " [8] include(::String) at /Users/heileman/Library/Mobile Documents/com~apple~CloudDocs/work/research/Curricular Analytics/CurricularAnalytics.jl/src/CurricularAnalytics.jl:9\n",
      " [9] top-level scope at none:0\n",
      " [10] include at ./boot.jl:317 [inlined]\n",
      " [11] include_relative(::Module, ::String) at ./loading.jl:1038\n",
      " [12] include(::Module, ::String) at ./sysimg.jl:29\n",
      " [13] top-level scope at none:2\n",
      " [14] eval at ./boot.jl:319 [inlined]\n",
      " [15] eval(::Expr) at ./client.jl:389\n",
      " [16] top-level scope at ./none:3\n",
      "in expression starting at /Users/heileman/Library/Mobile Documents/com~apple~CloudDocs/work/research/Curricular Analytics/CurricularAnalytics.jl/src/DataHandler.jl:2\n",
      "in expression starting at /Users/heileman/Library/Mobile Documents/com~apple~CloudDocs/work/research/Curricular Analytics/CurricularAnalytics.jl/src/CurricularAnalytics.jl:20\n"
     ]
    },
    {
     "ename": "ErrorException",
     "evalue": "Failed to precompile CurricularAnalytics [b915a5b0-c40e-11e8-3dab-39a55ab5c2f7] to /Users/heileman/.julia/compiled/v1.0/CurricularAnalytics/KKMY9.ji.",
     "output_type": "error",
     "traceback": [
      "Failed to precompile CurricularAnalytics [b915a5b0-c40e-11e8-3dab-39a55ab5c2f7] to /Users/heileman/.julia/compiled/v1.0/CurricularAnalytics/KKMY9.ji.",
      "",
      "Stacktrace:",
      " [1] error(::String) at ./error.jl:33",
      " [2] macro expansion at ./logging.jl:313 [inlined]",
      " [3] compilecache(::Base.PkgId, ::String) at ./loading.jl:1184",
      " [4] macro expansion at ./logging.jl:311 [inlined]",
      " [5] _require(::Base.PkgId) at ./loading.jl:941",
      " [6] require(::Base.PkgId) at ./loading.jl:852",
      " [7] macro expansion at ./logging.jl:311 [inlined]",
      " [8] require(::Module, ::Symbol) at ./loading.jl:834",
      " [9] top-level scope at In[1]:4"
     ]
    }
   ],
   "source": [
    "#Activate CurricularAnalytics package and add it\n",
    "using Pkg\n",
    "pkg\"activate .\"\n",
    "using CurricularAnalytics\n",
    "#using TikzGraphs\n",
    "#using LightGraphs\n",
    "\n",
    "#read Classes from csv file and return list of classes and create curriculum\n",
    "c, _ = read_from_csv(\"examples/CornellECECources.csv\")\n",
    "curric = Curriculum(\"University of Houston EE Program\", c)\n",
    "#calculate complexity to order courses\n",
    "complexity(curric)\n",
    "#Get indexes of cources after sorting according to the complexity score\n",
    "sorted_index = sortperm(curric.metrics[\"complexity\"][2], rev=true)\n",
    "#Input maximum credit allowed each term (in UKY it is 19)\n",
    "max_credit_each_term = 19\n",
    "#total number of credits\n",
    "curric_total_credit=total_credit(curric)\n",
    "println(Tcurric_total_credit)\n",
    "#to round to upper limit \n",
    "min_term =floor(Int, (curric_total_credit + max_credit_each_term - 1)/max_credit_each_term)\n",
    "println(\"Minimum of $min_term terms needed to complete this curriculum\")\n",
    "#Get optimum terms according to the req\n",
    "terms = create_terms(curric, min_term, max_credit_each_term)\n",
    "\n",
    "# Output degree plan\n",
    "errors = IOBuffer()\n",
    "if isvalid_curriculum(curric, errors)\n",
    "    println(\"Curriculum $(curric.name) is valid\")\n",
    "    println(\"  delay factor = $(delay_factor(curric))\")\n",
    "    println(\"  blocking factor = $(blocking_factor(curric))\")\n",
    "    println(\"  centrality factor = $(centrality(curric))\")\n",
    "    println(\"  curricular complexity = $(complexity(curric))\")\n",
    "    dp = DegreePlan(\"University of Houston EE Program 4-year Plan\", curric, terms)\n",
    "    take!(errors) # clear the IO buffer\n",
    "    if isvalid_degree_plan(dp, errors)\n",
    "        println(\"Degree plan $(dp.name) is valid\")\n",
    "    else\n",
    "        println(\"Degree plan $(dp.name) is not valid:\")\n",
    "        print(String(take!(errors)))\n",
    "        println(\"\\nDiplaying degree plan for debugging purposes...\")\n",
    "    end\n",
    "    visualize_jupyter(dp)\n",
    "\n",
    "else # invalid curriculum\n",
    "    println(\"Curriculum $(curric.name) is not valid:\")\n",
    "    print(String(take!(errors)))\n",
    "end\n"
   ]
  },
  {
   "cell_type": "code",
   "execution_count": null,
   "metadata": {
    "collapsed": true
   },
   "outputs": [],
   "source": []
  }
 ],
 "metadata": {
  "@webio": {
   "lastCommId": "F924CBDBAC2E493B9804CA78ECF9D6A3",
   "lastKernelId": "649d89c1-8126-4054-b943-ed58b317bf20"
  },
  "kernelspec": {
   "display_name": "Julia 1.0.0",
   "language": "julia",
   "name": "julia-1.0"
  },
  "language_info": {
   "file_extension": ".jl",
   "mimetype": "application/julia",
   "name": "julia",
   "version": "1.0.0"
  }
 },
 "nbformat": 4,
 "nbformat_minor": 2
}

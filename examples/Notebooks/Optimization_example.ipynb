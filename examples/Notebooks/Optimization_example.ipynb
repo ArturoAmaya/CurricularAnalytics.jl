{
 "cells": [
  {
   "cell_type": "code",
   "execution_count": 4,
   "metadata": {
    "scrolled": false
   },
   "outputs": [
    {
     "name": "stdout",
     "output_type": "stream",
     "text": [
      "Current directory: CurricularAnalytics.jl\n",
      "114\n",
      "Minimum of 6 terms needed to complete this curriculum\n",
      "Could not create a plan for 6 term, try for one more term\n",
      "Curriculum University of Houston EE Program is valid\n",
      "  delay factor = (80.0, [1.0, 5.0, 1.0, 1.0, 1.0, 5.0, 4.0, 3.0, 1.0, 1.0, 5.0, 4.0, 5.0, 3.0, 1.0, 4.0, 3.0, 4.0, 4.0, 1.0, 1.0, 1.0, 2.0, 5.0, 1.0, 1.0, 1.0, 1.0, 1.0, 1.0, 1.0, 1.0, 1.0, 1.0, 1.0, 1.0, 1.0, 1.0])\n",
      "  blocking factor = (37, [0, 10, 0, 0, 0, 4, 8, 3, 0, 0, 3, 4, 1, 1, 0, 0, 2, 0, 1, 0, 0, 0, 0, 0, 0, 0, 0, 0, 0, 0, 0, 0, 0, 0, 0, 0, 0, 0])\n",
      "  centrality factor = (102, [0, 0, 0, 0, 0, 9, 28, 0, 0, 0, 18, 14, 15, 3, 0, 0, 5, 0, 10, 0, 0, 0, 0, 0, 0, 0, 0, 0, 0, 0, 0, 0, 0, 0, 0, 0, 0, 0])\n",
      "  curricular complexity = (117.0, Number[1.0, 15.0, 1.0, 1.0, 1.0, 9.0, 12.0, 6.0, 1.0, 1.0, 8.0, 8.0, 6.0, 4.0, 1.0, 4.0, 5.0, 4.0, 5.0, 1.0, 1.0, 1.0, 2.0, 5.0, 1.0, 1.0, 1.0, 1.0, 1.0, 1.0, 1.0, 1.0, 1.0, 1.0, 1.0, 1.0, 1.0, 1.0])\n",
      "Degree plan Cornell EE Program 4-year Plan is not valid:\n",
      "\n",
      "-Course Liberal Studies is listed multiple times in degree plan\n",
      "-Course Liberal Studies is listed multiple times in degree plan\n",
      "-Course ECE Foundations is listed multiple times in degree plan\n",
      "-Course ECE Foundations is listed multiple times in degree plan\n",
      "-Course Outside Tech. Elective is listed multiple times in degree plan\n",
      "-Course Elective is listed multiple times in degree plan\n",
      "-Course Liberal Studies is listed multiple times in degree plan\n",
      "-Course Outside Tech. Elective is listed multiple times in degree plan\n",
      "-Course Liberal Studies is listed multiple times in degree plan\n",
      "-Course ECE Elective is listed multiple times in degree plan\n",
      "-Course ECE Elective is listed multiple times in degree plan\n",
      "-Course ECE Elective is listed multiple times in degree plan\n",
      "-Course Liberal Studies is listed multiple times in degree plan\n",
      "Diplaying degree plan for debugging purposes...\n"
     ]
    },
    {
     "data": {
      "application/vnd.webio.node+json": {
       "children": [
        {
         "children": [
          ""
         ],
         "instanceArgs": {
          "namespace": "html",
          "tag": "iframe"
         },
         "nodeType": "DOM",
         "props": {
          "events": {
           "load": "(function (){this.contentWindow.postMessage({\"options\":{\"hideTerms\":false,\"edit\":true},\"name\":\"Cornell EE Program 4-year Plan\",\"curriculum\":{\"name\":\"University of Houston EE Program\",\"curriculum_terms\":[{\"name\":\"Term 1\",\"curriculum_items\":[{\"curriculum_requisites\":[],\"name\":\"MATH 1910\",\"metrics\":{\"complexity\":15.0,\"centrality\":0,\"blocking factor\":10,\"delay factor\":5.0},\"canonical_name\":\"\",\"nameSub\":\"MATH 1910\",\"id\":7940807734347851363,\"num\":\"1910\",\"credits\":3,\"institution\":\"\",\"prefix\":\"MATH\"},{\"curriculum_requisites\":[],\"name\":\"CS 111x\",\"metrics\":{\"complexity\":6.0,\"centrality\":0,\"blocking factor\":3,\"delay factor\":3.0},\"canonical_name\":\"\",\"nameSub\":\"CS 111x\",\"id\":2239246769743611145,\"num\":\"111x\",\"credits\":3,\"institution\":\"\",\"prefix\":\"CS\"},{\"curriculum_requisites\":[],\"name\":\"CHEM 2090\",\"metrics\":{\"complexity\":1.0,\"centrality\":0,\"blocking factor\":0,\"delay factor\":1.0},\"canonical_name\":\"\",\"nameSub\":\"CHEM 2090\",\"id\":6770672880485073610,\"num\":\"2090\",\"credits\":3,\"institution\":\"\",\"prefix\":\"CHEM\"},{\"curriculum_requisites\":[],\"name\":\"ENGRI 1xxx\",\"metrics\":{\"complexity\":1.0,\"centrality\":0,\"blocking factor\":0,\"delay factor\":1.0},\"canonical_name\":\"\",\"nameSub\":\"ENGRI 1xxx\",\"id\":7172848357117752859,\"num\":\"1xxx\",\"credits\":3,\"institution\":\"\",\"prefix\":\"ENGRI\"},{\"curriculum_requisites\":[],\"name\":\" \",\"metrics\":{\"complexity\":1.0,\"centrality\":0,\"blocking factor\":0,\"delay factor\":1.0},\"canonical_name\":\"\",\"nameSub\":\"1st Yr Writing Seminar\",\"id\":7026777172015772801,\"num\":\"\",\"credits\":3,\"institution\":\"\",\"prefix\":\"\"}],\"id\":1},{\"name\":\"Term 2\",\"curriculum_items\":[{\"curriculum_requisites\":[{\"source_id\":7940807734347851363,\"target_id\":7448585689169123210,\"type\":\"prereq\"}],\"name\":\"MATH 1920\",\"metrics\":{\"complexity\":12.0,\"centrality\":28,\"blocking factor\":8,\"delay factor\":4.0},\"canonical_name\":\"\",\"nameSub\":\"MATH 1920\",\"id\":7448585689169123210,\"num\":\"1920\",\"credits\":3,\"institution\":\"\",\"prefix\":\"MATH\"},{\"curriculum_requisites\":[{\"source_id\":7940807734347851363,\"target_id\":4211457302845222500,\"type\":\"prereq\"}],\"name\":\"PHYS 1112\",\"metrics\":{\"complexity\":9.0,\"centrality\":9,\"blocking factor\":4,\"delay factor\":5.0},\"canonical_name\":\"\",\"nameSub\":\"PHYS 1112\",\"id\":4211457302845222500,\"num\":\"1112\",\"credits\":3,\"institution\":\"\",\"prefix\":\"PHYS\"},{\"curriculum_requisites\":[{\"source_id\":2239246769743611145,\"target_id\":2647182358228915730,\"type\":\"prereq\"}],\"name\":\"MECE/ENGRD 2300\",\"metrics\":{\"complexity\":4.0,\"centrality\":3,\"blocking factor\":1,\"delay factor\":3.0},\"canonical_name\":\"\",\"nameSub\":\"MECE/ENGRD 2300\",\"id\":2647182358228915730,\"num\":\"2300\",\"credits\":3,\"institution\":\"\",\"prefix\":\"MECE/ENGRD\"},{\"curriculum_requisites\":[{\"source_id\":2239246769743611145,\"target_id\":2281305921937565035,\"type\":\"prereq\"}],\"name\":\" \",\"metrics\":{\"complexity\":2.0,\"centrality\":0,\"blocking factor\":0,\"delay factor\":2.0},\"canonical_name\":\"\",\"nameSub\":\"Outside Tech. Elective\",\"id\":2281305921937565035,\"num\":\"\",\"credits\":3,\"institution\":\"\",\"prefix\":\"\"},{\"curriculum_requisites\":[],\"name\":\" \",\"metrics\":{\"complexity\":1.0,\"centrality\":0,\"blocking factor\":0,\"delay factor\":1.0},\"canonical_name\":\"\",\"nameSub\":\"PE\",\"id\":7830184675769763022,\"num\":\"\",\"credits\":3,\"institution\":\"\",\"prefix\":\"\"}],\"id\":2},{\"name\":\"Term 3\",\"curriculum_items\":[{\"curriculum_requisites\":[{\"source_id\":4211457302845222500,\"target_id\":6324856946212884305,\"type\":\"prereq\"},{\"source_id\":7448585689169123210,\"target_id\":6324856946212884305,\"type\":\"prereq\"}],\"name\":\"PHYS 2213\",\"metrics\":{\"complexity\":8.0,\"centrality\":18,\"blocking factor\":3,\"delay factor\":5.0},\"canonical_name\":\"\",\"nameSub\":\"PHYS 2213\",\"id\":6324856946212884305,\"num\":\"2213\",\"credits\":3,\"institution\":\"\",\"prefix\":\"PHYS\"},{\"curriculum_requisites\":[{\"source_id\":7448585689169123210,\"target_id\":7950540942817884079,\"type\":\"prereq\"}],\"name\":\"MATH 2930\",\"metrics\":{\"complexity\":8.0,\"centrality\":14,\"blocking factor\":4,\"delay factor\":4.0},\"canonical_name\":\"\",\"nameSub\":\"MATH 2930\",\"id\":7950540942817884079,\"num\":\"2930\",\"credits\":3,\"institution\":\"\",\"prefix\":\"MATH\"},{\"curriculum_requisites\":[{\"source_id\":7950540942817884079,\"target_id\":4978141728192012090,\"type\":\"coreq\"},{\"source_id\":6324856946212884305,\"target_id\":4978141728192012090,\"type\":\"coreq\"}],\"name\":\"ECE/ENGRD 2100\",\"metrics\":{\"complexity\":6.0,\"centrality\":15,\"blocking factor\":1,\"delay factor\":5.0},\"canonical_name\":\"\",\"nameSub\":\"ECE/ENGRD 2100\",\"id\":4978141728192012090,\"num\":\"2100\",\"credits\":3,\"institution\":\"\",\"prefix\":\"ECE/ENGRD\"},{\"curriculum_requisites\":[{\"source_id\":7448585689169123210,\"target_id\":3634268837195515932,\"type\":\"prereq\"}],\"name\":\"MATH 2940\",\"metrics\":{\"complexity\":5.0,\"centrality\":5,\"blocking factor\":2,\"delay factor\":3.0},\"canonical_name\":\"\",\"nameSub\":\"MATH 2940\",\"id\":3634268837195515932,\"num\":\"2940\",\"credits\":3,\"institution\":\"\",\"prefix\":\"MATH\"},{\"curriculum_requisites\":[{\"source_id\":7950540942817884079,\"target_id\":7403402144251581422,\"type\":\"coreq\"}],\"name\":\"PHYS 2214\",\"metrics\":{\"complexity\":4.0,\"centrality\":0,\"blocking factor\":0,\"delay factor\":4.0},\"canonical_name\":\"\",\"nameSub\":\"PHYS 2214\",\"id\":7403402144251581422,\"num\":\"2214\",\"credits\":3,\"institution\":\"\",\"prefix\":\"PHYS\"}],\"id\":3},{\"name\":\"Term 4\",\"curriculum_items\":[{\"curriculum_requisites\":[{\"source_id\":7950540942817884079,\"target_id\":6843366697047705531,\"type\":\"prereq\"},{\"source_id\":3634268837195515932,\"target_id\":6843366697047705531,\"type\":\"coreq\"}],\"name\":\"ECE/ENGRD 2200/2220\",\"metrics\":{\"complexity\":5.0,\"centrality\":10,\"blocking factor\":1,\"delay factor\":4.0},\"canonical_name\":\"\",\"nameSub\":\"ECE 2200/ENGRD 2220\",\"id\":6843366697047705531,\"num\":\"2200/2220\",\"credits\":3,\"institution\":\"\",\"prefix\":\"ECE/ENGRD\"},{\"curriculum_requisites\":[{\"source_id\":6324856946212884305,\"target_id\":6415543480532149818,\"type\":\"prereq\"}],\"name\":\"ENGRD 2xxx\",\"metrics\":{\"complexity\":4.0,\"centrality\":0,\"blocking factor\":0,\"delay factor\":4.0},\"canonical_name\":\"\",\"nameSub\":\"ENGRD 2xxx\",\"id\":6415543480532149818,\"num\":\"2xxx\",\"credits\":3,\"institution\":\"\",\"prefix\":\"ENGRD\"},{\"curriculum_requisites\":[],\"name\":\" \",\"metrics\":{\"complexity\":1.0,\"centrality\":0,\"blocking factor\":0,\"delay factor\":1.0},\"canonical_name\":\"\",\"nameSub\":\"1st Yr Writing Seminar\",\"id\":9122671688911084431,\"num\":\"\",\"credits\":3,\"institution\":\"\",\"prefix\":\"\"},{\"curriculum_requisites\":[],\"name\":\" \",\"metrics\":{\"complexity\":1.0,\"centrality\":0,\"blocking factor\":0,\"delay factor\":1.0},\"canonical_name\":\"\",\"nameSub\":\"PE\",\"id\":7970813346049898195,\"num\":\"\",\"credits\":3,\"institution\":\"\",\"prefix\":\"\"},{\"curriculum_requisites\":[],\"name\":\" \",\"metrics\":{\"complexity\":1.0,\"centrality\":0,\"blocking factor\":0,\"delay factor\":1.0},\"canonical_name\":\"\",\"nameSub\":\"Liberal Studies\",\"id\":1699551443070609335,\"num\":\"\",\"credits\":3,\"institution\":\"\",\"prefix\":\"\"},{\"curriculum_requisites\":[],\"name\":\" \",\"metrics\":{\"complexity\":1.0,\"centrality\":0,\"blocking factor\":0,\"delay factor\":1.0},\"canonical_name\":\"\",\"nameSub\":\"Liberal Studies\",\"id\":1699551443070609335,\"num\":\"\",\"credits\":3,\"institution\":\"\",\"prefix\":\"\"}],\"id\":4},{\"name\":\"Term 5\",\"curriculum_items\":[{\"curriculum_requisites\":[{\"source_id\":4978141728192012090,\"target_id\":5405614217005188477,\"type\":\"prereq\"},{\"source_id\":6843366697047705531,\"target_id\":5405614217005188477,\"type\":\"prereq\"},{\"source_id\":2647182358228915730,\"target_id\":5405614217005188477,\"type\":\"prereq\"}],\"name\":\"ECE 3400\",\"metrics\":{\"complexity\":5.0,\"centrality\":0,\"blocking factor\":0,\"delay factor\":5.0},\"canonical_name\":\"\",\"nameSub\":\"ECE 3400\",\"id\":5405614217005188477,\"num\":\"3400\",\"credits\":3,\"institution\":\"\",\"prefix\":\"ECE\"},{\"curriculum_requisites\":[],\"name\":\" \",\"metrics\":{\"complexity\":1.0,\"centrality\":0,\"blocking factor\":0,\"delay factor\":1.0},\"canonical_name\":\"\",\"nameSub\":\"ECE Foundations\",\"id\":3978012133872591598,\"num\":\"\",\"credits\":3,\"institution\":\"\",\"prefix\":\"\"},{\"curriculum_requisites\":[],\"name\":\" \",\"metrics\":{\"complexity\":1.0,\"centrality\":0,\"blocking factor\":0,\"delay factor\":1.0},\"canonical_name\":\"\",\"nameSub\":\"Elective\",\"id\":8181286562162832065,\"num\":\"\",\"credits\":3,\"institution\":\"\",\"prefix\":\"\"},{\"curriculum_requisites\":[],\"name\":\" \",\"metrics\":{\"complexity\":1.0,\"centrality\":0,\"blocking factor\":0,\"delay factor\":1.0},\"canonical_name\":\"\",\"nameSub\":\"Liberal Studies\",\"id\":1699551443070609335,\"num\":\"\",\"credits\":3,\"institution\":\"\",\"prefix\":\"\"},{\"curriculum_requisites\":[],\"name\":\" \",\"metrics\":{\"complexity\":1.0,\"centrality\":0,\"blocking factor\":0,\"delay factor\":1.0},\"canonical_name\":\"\",\"nameSub\":\"ECE Foundations\",\"id\":3978012133872591598,\"num\":\"\",\"credits\":3,\"institution\":\"\",\"prefix\":\"\"}],\"id\":5},{\"name\":\"Term 6\",\"curriculum_items\":[{\"curriculum_requisites\":[],\"name\":\" \",\"metrics\":{\"complexity\":1.0,\"centrality\":0,\"blocking factor\":0,\"delay factor\":1.0},\"canonical_name\":\"\",\"nameSub\":\"ECE Foundations\",\"id\":3978012133872591598,\"num\":\"\",\"credits\":3,\"institution\":\"\",\"prefix\":\"\"},{\"curriculum_requisites\":[],\"name\":\" \",\"metrics\":{\"complexity\":1.0,\"centrality\":0,\"blocking factor\":0,\"delay factor\":1.0},\"canonical_name\":\"\",\"nameSub\":\"Outside Tech. Elective\",\"id\":2281305921937565035,\"num\":\"\",\"credits\":3,\"institution\":\"\",\"prefix\":\"\"},{\"curriculum_requisites\":[],\"name\":\" \",\"metrics\":{\"complexity\":1.0,\"centrality\":0,\"blocking factor\":0,\"delay factor\":1.0},\"canonical_name\":\"\",\"nameSub\":\"Elective\",\"id\":8181286562162832065,\"num\":\"\",\"credits\":3,\"institution\":\"\",\"prefix\":\"\"},{\"curriculum_requisites\":[],\"name\":\" \",\"metrics\":{\"complexity\":1.0,\"centrality\":0,\"blocking factor\":0,\"delay factor\":1.0},\"canonical_name\":\"\",\"nameSub\":\"Liberal Studies\",\"id\":1699551443070609335,\"num\":\"\",\"credits\":3,\"institution\":\"\",\"prefix\":\"\"},{\"curriculum_requisites\":[],\"name\":\" \",\"metrics\":{\"complexity\":1.0,\"centrality\":0,\"blocking factor\":0,\"delay factor\":1.0},\"canonical_name\":\"\",\"nameSub\":\"ECE Elective \",\"id\":7511740048072076999,\"num\":\"\",\"credits\":3,\"institution\":\"\",\"prefix\":\"\"},{\"curriculum_requisites\":[],\"name\":\" \",\"metrics\":{\"complexity\":1.0,\"centrality\":0,\"blocking factor\":0,\"delay factor\":1.0},\"canonical_name\":\"\",\"nameSub\":\"ECE Elective\",\"id\":1575668531190766598,\"num\":\"\",\"credits\":3,\"institution\":\"\",\"prefix\":\"\"}],\"id\":6},{\"name\":\"Term 7\",\"curriculum_items\":[{\"curriculum_requisites\":[],\"name\":\" \",\"metrics\":{\"complexity\":1.0,\"centrality\":0,\"blocking factor\":0,\"delay factor\":1.0},\"canonical_name\":\"\",\"nameSub\":\"Outside Tech. Elective\",\"id\":2281305921937565035,\"num\":\"\",\"credits\":3,\"institution\":\"\",\"prefix\":\"\"},{\"curriculum_requisites\":[],\"name\":\" \",\"metrics\":{\"complexity\":1.0,\"centrality\":0,\"blocking factor\":0,\"delay factor\":1.0},\"canonical_name\":\"\",\"nameSub\":\"Liberal Studies\",\"id\":1699551443070609335,\"num\":\"\",\"credits\":3,\"institution\":\"\",\"prefix\":\"\"},{\"curriculum_requisites\":[],\"name\":\" \",\"metrics\":{\"complexity\":1.0,\"centrality\":0,\"blocking factor\":0,\"delay factor\":1.0},\"canonical_name\":\"\",\"nameSub\":\"ECE Elective\",\"id\":1575668531190766598,\"num\":\"\",\"credits\":3,\"institution\":\"\",\"prefix\":\"\"},{\"curriculum_requisites\":[],\"name\":\" \",\"metrics\":{\"complexity\":1.0,\"centrality\":0,\"blocking factor\":0,\"delay factor\":1.0},\"canonical_name\":\"\",\"nameSub\":\"ECE Elective\",\"id\":1575668531190766598,\"num\":\"\",\"credits\":3,\"institution\":\"\",\"prefix\":\"\"},{\"curriculum_requisites\":[],\"name\":\" \",\"metrics\":{\"complexity\":1.0,\"centrality\":0,\"blocking factor\":0,\"delay factor\":1.0},\"canonical_name\":\"\",\"nameSub\":\"ECE Elective\",\"id\":1575668531190766598,\"num\":\"\",\"credits\":3,\"institution\":\"\",\"prefix\":\"\"},{\"curriculum_requisites\":[],\"name\":\" \",\"metrics\":{\"complexity\":1.0,\"centrality\":0,\"blocking factor\":0,\"delay factor\":1.0},\"canonical_name\":\"\",\"nameSub\":\"Liberal Studies\",\"id\":1699551443070609335,\"num\":\"\",\"credits\":3,\"institution\":\"\",\"prefix\":\"\"}],\"id\":7}],\"CIP\":\"26.0101\",\"id\":1251559464807800872,\"institution\":\"\"}},\"*\"); window.removeEventListener(\"message\",window.messageReceived); window.messageReceived=(function (event){return (event.data.curriculum!==undefined) ? (_webIOScope.setObservableValue({\"name\":\"curriculum-data\",\"scope\":\"scope-9f2d904d-9573-48f8-a25d-16c18465e34f\",\"id\":\"ob_04\",\"type\":\"observable\"},event.data.curriculum)) : undefined}); return window.addEventListener(\"message\",window.messageReceived)})"
          },
          "id": "curriculum",
          "src": "http://localhost:8156",
          "style": {
           "border": "none",
           "height": "100vh",
           "margin": "0",
           "padding": "0",
           "width": "100%"
          }
         },
         "type": "node"
        }
       ],
       "instanceArgs": {
        "handlers": {},
        "id": "scope-9f2d904d-9573-48f8-a25d-16c18465e34f",
        "imports": {
         "data": [],
         "type": "async_block"
        },
        "observables": {
         "curriculum-data": {
          "id": "ob_04",
          "sync": true,
          "value": {
           "curriculum": {
            "CIP": "26.0101",
            "curriculum_terms": [
             {
              "curriculum_items": [
               {
                "canonical_name": "",
                "credits": 3,
                "curriculum_requisites": [],
                "id": 7940807734347852000,
                "institution": "",
                "metrics": {
                 "blocking factor": 10,
                 "centrality": 0,
                 "complexity": 15,
                 "delay factor": 5
                },
                "name": "MATH 1910",
                "nameSub": "MATH 1910",
                "num": "1910",
                "prefix": "MATH"
               },
               {
                "canonical_name": "",
                "credits": 3,
                "curriculum_requisites": [],
                "id": 2239246769743611100,
                "institution": "",
                "metrics": {
                 "blocking factor": 3,
                 "centrality": 0,
                 "complexity": 6,
                 "delay factor": 3
                },
                "name": "CS 111x",
                "nameSub": "CS 111x",
                "num": "111x",
                "prefix": "CS"
               },
               {
                "canonical_name": "",
                "credits": 3,
                "curriculum_requisites": [],
                "id": 6770672880485074000,
                "institution": "",
                "metrics": {
                 "blocking factor": 0,
                 "centrality": 0,
                 "complexity": 1,
                 "delay factor": 1
                },
                "name": "CHEM 2090",
                "nameSub": "CHEM 2090",
                "num": "2090",
                "prefix": "CHEM"
               },
               {
                "canonical_name": "",
                "credits": 3,
                "curriculum_requisites": [],
                "id": 7172848357117753000,
                "institution": "",
                "metrics": {
                 "blocking factor": 0,
                 "centrality": 0,
                 "complexity": 1,
                 "delay factor": 1
                },
                "name": "ENGRI 1xxx",
                "nameSub": "ENGRI 1xxx",
                "num": "1xxx",
                "prefix": "ENGRI"
               },
               {
                "canonical_name": "",
                "credits": 3,
                "curriculum_requisites": [],
                "id": 7026777172015773000,
                "institution": "",
                "metrics": {
                 "blocking factor": 0,
                 "centrality": 0,
                 "complexity": 1,
                 "delay factor": 1
                },
                "name": " ",
                "nameSub": "1st Yr Writing Seminar",
                "num": "",
                "prefix": ""
               }
              ],
              "id": 1,
              "name": "Term 1"
             },
             {
              "curriculum_items": [
               {
                "canonical_name": "",
                "credits": 3,
                "curriculum_requisites": [
                 {
                  "source_id": 7940807734347852000,
                  "target_id": 7448585689169123000,
                  "type": "prereq"
                 }
                ],
                "id": 7448585689169123000,
                "institution": "",
                "metrics": {
                 "blocking factor": 8,
                 "centrality": 28,
                 "complexity": 12,
                 "delay factor": 4
                },
                "name": "MATH 1920",
                "nameSub": "MATH 1920",
                "num": "1920",
                "prefix": "MATH"
               },
               {
                "canonical_name": "",
                "credits": 3,
                "curriculum_requisites": [
                 {
                  "source_id": 7940807734347852000,
                  "target_id": 4211457302845222400,
                  "type": "prereq"
                 }
                ],
                "id": 4211457302845222400,
                "institution": "",
                "metrics": {
                 "blocking factor": 4,
                 "centrality": 9,
                 "complexity": 9,
                 "delay factor": 5
                },
                "name": "PHYS 1112",
                "nameSub": "PHYS 1112",
                "num": "1112",
                "prefix": "PHYS"
               },
               {
                "canonical_name": "",
                "credits": 3,
                "curriculum_requisites": [
                 {
                  "source_id": 2239246769743611100,
                  "target_id": 2647182358228915700,
                  "type": "prereq"
                 }
                ],
                "id": 2647182358228915700,
                "institution": "",
                "metrics": {
                 "blocking factor": 1,
                 "centrality": 3,
                 "complexity": 4,
                 "delay factor": 3
                },
                "name": "MECE/ENGRD 2300",
                "nameSub": "MECE/ENGRD 2300",
                "num": "2300",
                "prefix": "MECE/ENGRD"
               },
               {
                "canonical_name": "",
                "credits": 3,
                "curriculum_requisites": [
                 {
                  "source_id": 2239246769743611100,
                  "target_id": 2281305921937565000,
                  "type": "prereq"
                 }
                ],
                "id": 2281305921937565000,
                "institution": "",
                "metrics": {
                 "blocking factor": 0,
                 "centrality": 0,
                 "complexity": 2,
                 "delay factor": 2
                },
                "name": " ",
                "nameSub": "Outside Tech. Elective",
                "num": "",
                "prefix": ""
               },
               {
                "canonical_name": "",
                "credits": 3,
                "curriculum_requisites": [],
                "id": 7830184675769763000,
                "institution": "",
                "metrics": {
                 "blocking factor": 0,
                 "centrality": 0,
                 "complexity": 1,
                 "delay factor": 1
                },
                "name": " ",
                "nameSub": "PE",
                "num": "",
                "prefix": ""
               }
              ],
              "id": 2,
              "name": "Term 2"
             },
             {
              "curriculum_items": [
               {
                "canonical_name": "",
                "credits": 3,
                "curriculum_requisites": [
                 {
                  "source_id": 4211457302845222400,
                  "target_id": 6324856946212884000,
                  "type": "prereq"
                 },
                 {
                  "source_id": 7448585689169123000,
                  "target_id": 6324856946212884000,
                  "type": "prereq"
                 }
                ],
                "id": 6324856946212884000,
                "institution": "",
                "metrics": {
                 "blocking factor": 3,
                 "centrality": 18,
                 "complexity": 8,
                 "delay factor": 5
                },
                "name": "PHYS 2213",
                "nameSub": "PHYS 2213",
                "num": "2213",
                "prefix": "PHYS"
               },
               {
                "canonical_name": "",
                "credits": 3,
                "curriculum_requisites": [
                 {
                  "source_id": 7448585689169123000,
                  "target_id": 7950540942817884000,
                  "type": "prereq"
                 }
                ],
                "id": 7950540942817884000,
                "institution": "",
                "metrics": {
                 "blocking factor": 4,
                 "centrality": 14,
                 "complexity": 8,
                 "delay factor": 4
                },
                "name": "MATH 2930",
                "nameSub": "MATH 2930",
                "num": "2930",
                "prefix": "MATH"
               },
               {
                "canonical_name": "",
                "credits": 3,
                "curriculum_requisites": [
                 {
                  "source_id": 7950540942817884000,
                  "target_id": 4978141728192012000,
                  "type": "coreq"
                 },
                 {
                  "source_id": 6324856946212884000,
                  "target_id": 4978141728192012000,
                  "type": "coreq"
                 }
                ],
                "id": 4978141728192012000,
                "institution": "",
                "metrics": {
                 "blocking factor": 1,
                 "centrality": 15,
                 "complexity": 6,
                 "delay factor": 5
                },
                "name": "ECE/ENGRD 2100",
                "nameSub": "ECE/ENGRD 2100",
                "num": "2100",
                "prefix": "ECE/ENGRD"
               },
               {
                "canonical_name": "",
                "credits": 3,
                "curriculum_requisites": [
                 {
                  "source_id": 7448585689169123000,
                  "target_id": 3634268837195516000,
                  "type": "prereq"
                 }
                ],
                "id": 3634268837195516000,
                "institution": "",
                "metrics": {
                 "blocking factor": 2,
                 "centrality": 5,
                 "complexity": 5,
                 "delay factor": 3
                },
                "name": "MATH 2940",
                "nameSub": "MATH 2940",
                "num": "2940",
                "prefix": "MATH"
               },
               {
                "canonical_name": "",
                "credits": 3,
                "curriculum_requisites": [
                 {
                  "source_id": 7950540942817884000,
                  "target_id": 7403402144251581000,
                  "type": "coreq"
                 }
                ],
                "id": 7403402144251581000,
                "institution": "",
                "metrics": {
                 "blocking factor": 0,
                 "centrality": 0,
                 "complexity": 4,
                 "delay factor": 4
                },
                "name": "PHYS 2214",
                "nameSub": "PHYS 2214",
                "num": "2214",
                "prefix": "PHYS"
               }
              ],
              "id": 3,
              "name": "Term 3"
             },
             {
              "curriculum_items": [
               {
                "canonical_name": "",
                "credits": 3,
                "curriculum_requisites": [
                 {
                  "source_id": 7950540942817884000,
                  "target_id": 6843366697047706000,
                  "type": "prereq"
                 },
                 {
                  "source_id": 3634268837195516000,
                  "target_id": 6843366697047706000,
                  "type": "coreq"
                 }
                ],
                "id": 6843366697047706000,
                "institution": "",
                "metrics": {
                 "blocking factor": 1,
                 "centrality": 10,
                 "complexity": 5,
                 "delay factor": 4
                },
                "name": "ECE/ENGRD 2200/2220",
                "nameSub": "ECE 2200/ENGRD 2220",
                "num": "2200/2220",
                "prefix": "ECE/ENGRD"
               },
               {
                "canonical_name": "",
                "credits": 3,
                "curriculum_requisites": [
                 {
                  "source_id": 6324856946212884000,
                  "target_id": 6415543480532150000,
                  "type": "prereq"
                 }
                ],
                "id": 6415543480532150000,
                "institution": "",
                "metrics": {
                 "blocking factor": 0,
                 "centrality": 0,
                 "complexity": 4,
                 "delay factor": 4
                },
                "name": "ENGRD 2xxx",
                "nameSub": "ENGRD 2xxx",
                "num": "2xxx",
                "prefix": "ENGRD"
               },
               {
                "canonical_name": "",
                "credits": 3,
                "curriculum_requisites": [],
                "id": 9122671688911085000,
                "institution": "",
                "metrics": {
                 "blocking factor": 0,
                 "centrality": 0,
                 "complexity": 1,
                 "delay factor": 1
                },
                "name": " ",
                "nameSub": "1st Yr Writing Seminar",
                "num": "",
                "prefix": ""
               },
               {
                "canonical_name": "",
                "credits": 3,
                "curriculum_requisites": [],
                "id": 7970813346049898000,
                "institution": "",
                "metrics": {
                 "blocking factor": 0,
                 "centrality": 0,
                 "complexity": 1,
                 "delay factor": 1
                },
                "name": " ",
                "nameSub": "PE",
                "num": "",
                "prefix": ""
               },
               {
                "canonical_name": "",
                "credits": 3,
                "curriculum_requisites": [],
                "id": 1699551443070609400,
                "institution": "",
                "metrics": {
                 "blocking factor": 0,
                 "centrality": 0,
                 "complexity": 1,
                 "delay factor": 1
                },
                "name": " ",
                "nameSub": "Liberal Studies",
                "num": "",
                "prefix": ""
               },
               {
                "canonical_name": "",
                "credits": 3,
                "curriculum_requisites": [],
                "id": 1699551443070609400,
                "institution": "",
                "metrics": {
                 "blocking factor": 0,
                 "centrality": 0,
                 "complexity": 1,
                 "delay factor": 1
                },
                "name": " ",
                "nameSub": "Liberal Studies",
                "num": "",
                "prefix": ""
               }
              ],
              "id": 4,
              "name": "Term 4"
             },
             {
              "curriculum_items": [
               {
                "canonical_name": "",
                "credits": 3,
                "curriculum_requisites": [
                 {
                  "source_id": 4978141728192012000,
                  "target_id": 5405614217005188000,
                  "type": "prereq"
                 },
                 {
                  "source_id": 6843366697047706000,
                  "target_id": 5405614217005188000,
                  "type": "prereq"
                 },
                 {
                  "source_id": 2647182358228915700,
                  "target_id": 5405614217005188000,
                  "type": "prereq"
                 }
                ],
                "id": 5405614217005188000,
                "institution": "",
                "metrics": {
                 "blocking factor": 0,
                 "centrality": 0,
                 "complexity": 5,
                 "delay factor": 5
                },
                "name": "ECE 3400",
                "nameSub": "ECE 3400",
                "num": "3400",
                "prefix": "ECE"
               },
               {
                "canonical_name": "",
                "credits": 3,
                "curriculum_requisites": [],
                "id": 3978012133872591400,
                "institution": "",
                "metrics": {
                 "blocking factor": 0,
                 "centrality": 0,
                 "complexity": 1,
                 "delay factor": 1
                },
                "name": " ",
                "nameSub": "ECE Foundations",
                "num": "",
                "prefix": ""
               },
               {
                "canonical_name": "",
                "credits": 3,
                "curriculum_requisites": [],
                "id": 8181286562162832000,
                "institution": "",
                "metrics": {
                 "blocking factor": 0,
                 "centrality": 0,
                 "complexity": 1,
                 "delay factor": 1
                },
                "name": " ",
                "nameSub": "Elective",
                "num": "",
                "prefix": ""
               },
               {
                "canonical_name": "",
                "credits": 3,
                "curriculum_requisites": [],
                "id": 1699551443070609400,
                "institution": "",
                "metrics": {
                 "blocking factor": 0,
                 "centrality": 0,
                 "complexity": 1,
                 "delay factor": 1
                },
                "name": " ",
                "nameSub": "Liberal Studies",
                "num": "",
                "prefix": ""
               },
               {
                "canonical_name": "",
                "credits": 3,
                "curriculum_requisites": [],
                "id": 3978012133872591400,
                "institution": "",
                "metrics": {
                 "blocking factor": 0,
                 "centrality": 0,
                 "complexity": 1,
                 "delay factor": 1
                },
                "name": " ",
                "nameSub": "ECE Foundations",
                "num": "",
                "prefix": ""
               }
              ],
              "id": 5,
              "name": "Term 5"
             },
             {
              "curriculum_items": [
               {
                "canonical_name": "",
                "credits": 3,
                "curriculum_requisites": [],
                "id": 3978012133872591400,
                "institution": "",
                "metrics": {
                 "blocking factor": 0,
                 "centrality": 0,
                 "complexity": 1,
                 "delay factor": 1
                },
                "name": " ",
                "nameSub": "ECE Foundations",
                "num": "",
                "prefix": ""
               },
               {
                "canonical_name": "",
                "credits": 3,
                "curriculum_requisites": [],
                "id": 2281305921937565000,
                "institution": "",
                "metrics": {
                 "blocking factor": 0,
                 "centrality": 0,
                 "complexity": 1,
                 "delay factor": 1
                },
                "name": " ",
                "nameSub": "Outside Tech. Elective",
                "num": "",
                "prefix": ""
               },
               {
                "canonical_name": "",
                "credits": 3,
                "curriculum_requisites": [],
                "id": 8181286562162832000,
                "institution": "",
                "metrics": {
                 "blocking factor": 0,
                 "centrality": 0,
                 "complexity": 1,
                 "delay factor": 1
                },
                "name": " ",
                "nameSub": "Elective",
                "num": "",
                "prefix": ""
               },
               {
                "canonical_name": "",
                "credits": 3,
                "curriculum_requisites": [],
                "id": 1699551443070609400,
                "institution": "",
                "metrics": {
                 "blocking factor": 0,
                 "centrality": 0,
                 "complexity": 1,
                 "delay factor": 1
                },
                "name": " ",
                "nameSub": "Liberal Studies",
                "num": "",
                "prefix": ""
               },
               {
                "canonical_name": "",
                "credits": 3,
                "curriculum_requisites": [],
                "id": 7511740048072077000,
                "institution": "",
                "metrics": {
                 "blocking factor": 0,
                 "centrality": 0,
                 "complexity": 1,
                 "delay factor": 1
                },
                "name": " ",
                "nameSub": "ECE Elective ",
                "num": "",
                "prefix": ""
               },
               {
                "canonical_name": "",
                "credits": 3,
                "curriculum_requisites": [],
                "id": 1575668531190766600,
                "institution": "",
                "metrics": {
                 "blocking factor": 0,
                 "centrality": 0,
                 "complexity": 1,
                 "delay factor": 1
                },
                "name": " ",
                "nameSub": "ECE Elective",
                "num": "",
                "prefix": ""
               }
              ],
              "id": 6,
              "name": "Term 6"
             },
             {
              "curriculum_items": [
               {
                "canonical_name": "",
                "credits": 3,
                "curriculum_requisites": [],
                "id": 2281305921937565000,
                "institution": "",
                "metrics": {
                 "blocking factor": 0,
                 "centrality": 0,
                 "complexity": 1,
                 "delay factor": 1
                },
                "name": " ",
                "nameSub": "Outside Tech. Elective",
                "num": "",
                "prefix": ""
               },
               {
                "canonical_name": "",
                "credits": 3,
                "curriculum_requisites": [],
                "id": 1699551443070609400,
                "institution": "",
                "metrics": {
                 "blocking factor": 0,
                 "centrality": 0,
                 "complexity": 1,
                 "delay factor": 1
                },
                "name": " ",
                "nameSub": "Liberal Studies",
                "num": "",
                "prefix": ""
               },
               {
                "canonical_name": "",
                "credits": 3,
                "curriculum_requisites": [],
                "id": 1575668531190766600,
                "institution": "",
                "metrics": {
                 "blocking factor": 0,
                 "centrality": 0,
                 "complexity": 1,
                 "delay factor": 1
                },
                "name": " ",
                "nameSub": "ECE Elective",
                "num": "",
                "prefix": ""
               },
               {
                "canonical_name": "",
                "credits": 3,
                "curriculum_requisites": [],
                "id": 1575668531190766600,
                "institution": "",
                "metrics": {
                 "blocking factor": 0,
                 "centrality": 0,
                 "complexity": 1,
                 "delay factor": 1
                },
                "name": " ",
                "nameSub": "ECE Elective",
                "num": "",
                "prefix": ""
               },
               {
                "canonical_name": "",
                "credits": 3,
                "curriculum_requisites": [],
                "id": 1575668531190766600,
                "institution": "",
                "metrics": {
                 "blocking factor": 0,
                 "centrality": 0,
                 "complexity": 1,
                 "delay factor": 1
                },
                "name": " ",
                "nameSub": "ECE Elective",
                "num": "",
                "prefix": ""
               },
               {
                "canonical_name": "",
                "credits": 3,
                "curriculum_requisites": [],
                "id": 1699551443070609400,
                "institution": "",
                "metrics": {
                 "blocking factor": 0,
                 "centrality": 0,
                 "complexity": 1,
                 "delay factor": 1
                },
                "name": " ",
                "nameSub": "Liberal Studies",
                "num": "",
                "prefix": ""
               }
              ],
              "id": 7,
              "name": "Term 7"
             }
            ],
            "id": 1251559464807800800,
            "institution": "",
            "name": "University of Houston EE Program"
           },
           "name": "Cornell EE Program 4-year Plan",
           "options": {
            "edit": true,
            "hideTerms": false
           }
          }
         }
        },
        "systemjs_options": null
       },
       "nodeType": "Scope",
       "props": {},
       "type": "node"
      },
      "text/html": [
       "<div\n",
       "    class=\"webio-mountpoint\"\n",
       "    data-webio-mountpoint=\"7727999060128424626\"\n",
       ">\n",
       "    <script>\n",
       "    if (window.require && require.defined && require.defined(\"nbextensions/webio/main\")) {\n",
       "        console.log(\"Jupyter WebIO extension detected, not mounting.\");\n",
       "    } else if (window.WebIO) {\n",
       "        WebIO.mount(\n",
       "            document.querySelector('[data-webio-mountpoint=\"7727999060128424626\"]'),\n",
       "            {\"props\":{},\"nodeType\":\"Scope\",\"type\":\"node\",\"instanceArgs\":{\"imports\":{\"data\":[],\"type\":\"async_block\"},\"id\":\"scope-9f2d904d-9573-48f8-a25d-16c18465e34f\",\"handlers\":{},\"systemjs_options\":null,\"observables\":{\"curriculum-data\":{\"sync\":true,\"id\":\"ob_04\",\"value\":{\"options\":{\"hideTerms\":false,\"edit\":true},\"name\":\"Cornell EE Program 4-year Plan\",\"curriculum\":{\"name\":\"University of Houston EE Program\",\"curriculum_terms\":[{\"name\":\"Term 1\",\"curriculum_items\":[{\"curriculum_requisites\":[],\"name\":\"MATH 1910\",\"metrics\":{\"complexity\":15.0,\"centrality\":0,\"blocking factor\":10,\"delay factor\":5.0},\"canonical_name\":\"\",\"nameSub\":\"MATH 1910\",\"id\":7940807734347851363,\"num\":\"1910\",\"credits\":3,\"institution\":\"\",\"prefix\":\"MATH\"},{\"curriculum_requisites\":[],\"name\":\"CS 111x\",\"metrics\":{\"complexity\":6.0,\"centrality\":0,\"blocking factor\":3,\"delay factor\":3.0},\"canonical_name\":\"\",\"nameSub\":\"CS 111x\",\"id\":2239246769743611145,\"num\":\"111x\",\"credits\":3,\"institution\":\"\",\"prefix\":\"CS\"},{\"curriculum_requisites\":[],\"name\":\"CHEM 2090\",\"metrics\":{\"complexity\":1.0,\"centrality\":0,\"blocking factor\":0,\"delay factor\":1.0},\"canonical_name\":\"\",\"nameSub\":\"CHEM 2090\",\"id\":6770672880485073610,\"num\":\"2090\",\"credits\":3,\"institution\":\"\",\"prefix\":\"CHEM\"},{\"curriculum_requisites\":[],\"name\":\"ENGRI 1xxx\",\"metrics\":{\"complexity\":1.0,\"centrality\":0,\"blocking factor\":0,\"delay factor\":1.0},\"canonical_name\":\"\",\"nameSub\":\"ENGRI 1xxx\",\"id\":7172848357117752859,\"num\":\"1xxx\",\"credits\":3,\"institution\":\"\",\"prefix\":\"ENGRI\"},{\"curriculum_requisites\":[],\"name\":\" \",\"metrics\":{\"complexity\":1.0,\"centrality\":0,\"blocking factor\":0,\"delay factor\":1.0},\"canonical_name\":\"\",\"nameSub\":\"1st Yr Writing Seminar\",\"id\":7026777172015772801,\"num\":\"\",\"credits\":3,\"institution\":\"\",\"prefix\":\"\"}],\"id\":1},{\"name\":\"Term 2\",\"curriculum_items\":[{\"curriculum_requisites\":[{\"source_id\":7940807734347851363,\"target_id\":7448585689169123210,\"type\":\"prereq\"}],\"name\":\"MATH 1920\",\"metrics\":{\"complexity\":12.0,\"centrality\":28,\"blocking factor\":8,\"delay factor\":4.0},\"canonical_name\":\"\",\"nameSub\":\"MATH 1920\",\"id\":7448585689169123210,\"num\":\"1920\",\"credits\":3,\"institution\":\"\",\"prefix\":\"MATH\"},{\"curriculum_requisites\":[{\"source_id\":7940807734347851363,\"target_id\":4211457302845222500,\"type\":\"prereq\"}],\"name\":\"PHYS 1112\",\"metrics\":{\"complexity\":9.0,\"centrality\":9,\"blocking factor\":4,\"delay factor\":5.0},\"canonical_name\":\"\",\"nameSub\":\"PHYS 1112\",\"id\":4211457302845222500,\"num\":\"1112\",\"credits\":3,\"institution\":\"\",\"prefix\":\"PHYS\"},{\"curriculum_requisites\":[{\"source_id\":2239246769743611145,\"target_id\":2647182358228915730,\"type\":\"prereq\"}],\"name\":\"MECE\\/ENGRD 2300\",\"metrics\":{\"complexity\":4.0,\"centrality\":3,\"blocking factor\":1,\"delay factor\":3.0},\"canonical_name\":\"\",\"nameSub\":\"MECE\\/ENGRD 2300\",\"id\":2647182358228915730,\"num\":\"2300\",\"credits\":3,\"institution\":\"\",\"prefix\":\"MECE\\/ENGRD\"},{\"curriculum_requisites\":[{\"source_id\":2239246769743611145,\"target_id\":2281305921937565035,\"type\":\"prereq\"}],\"name\":\" \",\"metrics\":{\"complexity\":2.0,\"centrality\":0,\"blocking factor\":0,\"delay factor\":2.0},\"canonical_name\":\"\",\"nameSub\":\"Outside Tech. Elective\",\"id\":2281305921937565035,\"num\":\"\",\"credits\":3,\"institution\":\"\",\"prefix\":\"\"},{\"curriculum_requisites\":[],\"name\":\" \",\"metrics\":{\"complexity\":1.0,\"centrality\":0,\"blocking factor\":0,\"delay factor\":1.0},\"canonical_name\":\"\",\"nameSub\":\"PE\",\"id\":7830184675769763022,\"num\":\"\",\"credits\":3,\"institution\":\"\",\"prefix\":\"\"}],\"id\":2},{\"name\":\"Term 3\",\"curriculum_items\":[{\"curriculum_requisites\":[{\"source_id\":4211457302845222500,\"target_id\":6324856946212884305,\"type\":\"prereq\"},{\"source_id\":7448585689169123210,\"target_id\":6324856946212884305,\"type\":\"prereq\"}],\"name\":\"PHYS 2213\",\"metrics\":{\"complexity\":8.0,\"centrality\":18,\"blocking factor\":3,\"delay factor\":5.0},\"canonical_name\":\"\",\"nameSub\":\"PHYS 2213\",\"id\":6324856946212884305,\"num\":\"2213\",\"credits\":3,\"institution\":\"\",\"prefix\":\"PHYS\"},{\"curriculum_requisites\":[{\"source_id\":7448585689169123210,\"target_id\":7950540942817884079,\"type\":\"prereq\"}],\"name\":\"MATH 2930\",\"metrics\":{\"complexity\":8.0,\"centrality\":14,\"blocking factor\":4,\"delay factor\":4.0},\"canonical_name\":\"\",\"nameSub\":\"MATH 2930\",\"id\":7950540942817884079,\"num\":\"2930\",\"credits\":3,\"institution\":\"\",\"prefix\":\"MATH\"},{\"curriculum_requisites\":[{\"source_id\":7950540942817884079,\"target_id\":4978141728192012090,\"type\":\"coreq\"},{\"source_id\":6324856946212884305,\"target_id\":4978141728192012090,\"type\":\"coreq\"}],\"name\":\"ECE\\/ENGRD 2100\",\"metrics\":{\"complexity\":6.0,\"centrality\":15,\"blocking factor\":1,\"delay factor\":5.0},\"canonical_name\":\"\",\"nameSub\":\"ECE\\/ENGRD 2100\",\"id\":4978141728192012090,\"num\":\"2100\",\"credits\":3,\"institution\":\"\",\"prefix\":\"ECE\\/ENGRD\"},{\"curriculum_requisites\":[{\"source_id\":7448585689169123210,\"target_id\":3634268837195515932,\"type\":\"prereq\"}],\"name\":\"MATH 2940\",\"metrics\":{\"complexity\":5.0,\"centrality\":5,\"blocking factor\":2,\"delay factor\":3.0},\"canonical_name\":\"\",\"nameSub\":\"MATH 2940\",\"id\":3634268837195515932,\"num\":\"2940\",\"credits\":3,\"institution\":\"\",\"prefix\":\"MATH\"},{\"curriculum_requisites\":[{\"source_id\":7950540942817884079,\"target_id\":7403402144251581422,\"type\":\"coreq\"}],\"name\":\"PHYS 2214\",\"metrics\":{\"complexity\":4.0,\"centrality\":0,\"blocking factor\":0,\"delay factor\":4.0},\"canonical_name\":\"\",\"nameSub\":\"PHYS 2214\",\"id\":7403402144251581422,\"num\":\"2214\",\"credits\":3,\"institution\":\"\",\"prefix\":\"PHYS\"}],\"id\":3},{\"name\":\"Term 4\",\"curriculum_items\":[{\"curriculum_requisites\":[{\"source_id\":7950540942817884079,\"target_id\":6843366697047705531,\"type\":\"prereq\"},{\"source_id\":3634268837195515932,\"target_id\":6843366697047705531,\"type\":\"coreq\"}],\"name\":\"ECE\\/ENGRD 2200\\/2220\",\"metrics\":{\"complexity\":5.0,\"centrality\":10,\"blocking factor\":1,\"delay factor\":4.0},\"canonical_name\":\"\",\"nameSub\":\"ECE 2200\\/ENGRD 2220\",\"id\":6843366697047705531,\"num\":\"2200\\/2220\",\"credits\":3,\"institution\":\"\",\"prefix\":\"ECE\\/ENGRD\"},{\"curriculum_requisites\":[{\"source_id\":6324856946212884305,\"target_id\":6415543480532149818,\"type\":\"prereq\"}],\"name\":\"ENGRD 2xxx\",\"metrics\":{\"complexity\":4.0,\"centrality\":0,\"blocking factor\":0,\"delay factor\":4.0},\"canonical_name\":\"\",\"nameSub\":\"ENGRD 2xxx\",\"id\":6415543480532149818,\"num\":\"2xxx\",\"credits\":3,\"institution\":\"\",\"prefix\":\"ENGRD\"},{\"curriculum_requisites\":[],\"name\":\" \",\"metrics\":{\"complexity\":1.0,\"centrality\":0,\"blocking factor\":0,\"delay factor\":1.0},\"canonical_name\":\"\",\"nameSub\":\"1st Yr Writing Seminar\",\"id\":9122671688911084431,\"num\":\"\",\"credits\":3,\"institution\":\"\",\"prefix\":\"\"},{\"curriculum_requisites\":[],\"name\":\" \",\"metrics\":{\"complexity\":1.0,\"centrality\":0,\"blocking factor\":0,\"delay factor\":1.0},\"canonical_name\":\"\",\"nameSub\":\"PE\",\"id\":7970813346049898195,\"num\":\"\",\"credits\":3,\"institution\":\"\",\"prefix\":\"\"},{\"curriculum_requisites\":[],\"name\":\" \",\"metrics\":{\"complexity\":1.0,\"centrality\":0,\"blocking factor\":0,\"delay factor\":1.0},\"canonical_name\":\"\",\"nameSub\":\"Liberal Studies\",\"id\":1699551443070609335,\"num\":\"\",\"credits\":3,\"institution\":\"\",\"prefix\":\"\"},{\"curriculum_requisites\":[],\"name\":\" \",\"metrics\":{\"complexity\":1.0,\"centrality\":0,\"blocking factor\":0,\"delay factor\":1.0},\"canonical_name\":\"\",\"nameSub\":\"Liberal Studies\",\"id\":1699551443070609335,\"num\":\"\",\"credits\":3,\"institution\":\"\",\"prefix\":\"\"}],\"id\":4},{\"name\":\"Term 5\",\"curriculum_items\":[{\"curriculum_requisites\":[{\"source_id\":4978141728192012090,\"target_id\":5405614217005188477,\"type\":\"prereq\"},{\"source_id\":6843366697047705531,\"target_id\":5405614217005188477,\"type\":\"prereq\"},{\"source_id\":2647182358228915730,\"target_id\":5405614217005188477,\"type\":\"prereq\"}],\"name\":\"ECE 3400\",\"metrics\":{\"complexity\":5.0,\"centrality\":0,\"blocking factor\":0,\"delay factor\":5.0},\"canonical_name\":\"\",\"nameSub\":\"ECE 3400\",\"id\":5405614217005188477,\"num\":\"3400\",\"credits\":3,\"institution\":\"\",\"prefix\":\"ECE\"},{\"curriculum_requisites\":[],\"name\":\" \",\"metrics\":{\"complexity\":1.0,\"centrality\":0,\"blocking factor\":0,\"delay factor\":1.0},\"canonical_name\":\"\",\"nameSub\":\"ECE Foundations\",\"id\":3978012133872591598,\"num\":\"\",\"credits\":3,\"institution\":\"\",\"prefix\":\"\"},{\"curriculum_requisites\":[],\"name\":\" \",\"metrics\":{\"complexity\":1.0,\"centrality\":0,\"blocking factor\":0,\"delay factor\":1.0},\"canonical_name\":\"\",\"nameSub\":\"Elective\",\"id\":8181286562162832065,\"num\":\"\",\"credits\":3,\"institution\":\"\",\"prefix\":\"\"},{\"curriculum_requisites\":[],\"name\":\" \",\"metrics\":{\"complexity\":1.0,\"centrality\":0,\"blocking factor\":0,\"delay factor\":1.0},\"canonical_name\":\"\",\"nameSub\":\"Liberal Studies\",\"id\":1699551443070609335,\"num\":\"\",\"credits\":3,\"institution\":\"\",\"prefix\":\"\"},{\"curriculum_requisites\":[],\"name\":\" \",\"metrics\":{\"complexity\":1.0,\"centrality\":0,\"blocking factor\":0,\"delay factor\":1.0},\"canonical_name\":\"\",\"nameSub\":\"ECE Foundations\",\"id\":3978012133872591598,\"num\":\"\",\"credits\":3,\"institution\":\"\",\"prefix\":\"\"}],\"id\":5},{\"name\":\"Term 6\",\"curriculum_items\":[{\"curriculum_requisites\":[],\"name\":\" \",\"metrics\":{\"complexity\":1.0,\"centrality\":0,\"blocking factor\":0,\"delay factor\":1.0},\"canonical_name\":\"\",\"nameSub\":\"ECE Foundations\",\"id\":3978012133872591598,\"num\":\"\",\"credits\":3,\"institution\":\"\",\"prefix\":\"\"},{\"curriculum_requisites\":[],\"name\":\" \",\"metrics\":{\"complexity\":1.0,\"centrality\":0,\"blocking factor\":0,\"delay factor\":1.0},\"canonical_name\":\"\",\"nameSub\":\"Outside Tech. Elective\",\"id\":2281305921937565035,\"num\":\"\",\"credits\":3,\"institution\":\"\",\"prefix\":\"\"},{\"curriculum_requisites\":[],\"name\":\" \",\"metrics\":{\"complexity\":1.0,\"centrality\":0,\"blocking factor\":0,\"delay factor\":1.0},\"canonical_name\":\"\",\"nameSub\":\"Elective\",\"id\":8181286562162832065,\"num\":\"\",\"credits\":3,\"institution\":\"\",\"prefix\":\"\"},{\"curriculum_requisites\":[],\"name\":\" \",\"metrics\":{\"complexity\":1.0,\"centrality\":0,\"blocking factor\":0,\"delay factor\":1.0},\"canonical_name\":\"\",\"nameSub\":\"Liberal Studies\",\"id\":1699551443070609335,\"num\":\"\",\"credits\":3,\"institution\":\"\",\"prefix\":\"\"},{\"curriculum_requisites\":[],\"name\":\" \",\"metrics\":{\"complexity\":1.0,\"centrality\":0,\"blocking factor\":0,\"delay factor\":1.0},\"canonical_name\":\"\",\"nameSub\":\"ECE Elective \",\"id\":7511740048072076999,\"num\":\"\",\"credits\":3,\"institution\":\"\",\"prefix\":\"\"},{\"curriculum_requisites\":[],\"name\":\" \",\"metrics\":{\"complexity\":1.0,\"centrality\":0,\"blocking factor\":0,\"delay factor\":1.0},\"canonical_name\":\"\",\"nameSub\":\"ECE Elective\",\"id\":1575668531190766598,\"num\":\"\",\"credits\":3,\"institution\":\"\",\"prefix\":\"\"}],\"id\":6},{\"name\":\"Term 7\",\"curriculum_items\":[{\"curriculum_requisites\":[],\"name\":\" \",\"metrics\":{\"complexity\":1.0,\"centrality\":0,\"blocking factor\":0,\"delay factor\":1.0},\"canonical_name\":\"\",\"nameSub\":\"Outside Tech. Elective\",\"id\":2281305921937565035,\"num\":\"\",\"credits\":3,\"institution\":\"\",\"prefix\":\"\"},{\"curriculum_requisites\":[],\"name\":\" \",\"metrics\":{\"complexity\":1.0,\"centrality\":0,\"blocking factor\":0,\"delay factor\":1.0},\"canonical_name\":\"\",\"nameSub\":\"Liberal Studies\",\"id\":1699551443070609335,\"num\":\"\",\"credits\":3,\"institution\":\"\",\"prefix\":\"\"},{\"curriculum_requisites\":[],\"name\":\" \",\"metrics\":{\"complexity\":1.0,\"centrality\":0,\"blocking factor\":0,\"delay factor\":1.0},\"canonical_name\":\"\",\"nameSub\":\"ECE Elective\",\"id\":1575668531190766598,\"num\":\"\",\"credits\":3,\"institution\":\"\",\"prefix\":\"\"},{\"curriculum_requisites\":[],\"name\":\" \",\"metrics\":{\"complexity\":1.0,\"centrality\":0,\"blocking factor\":0,\"delay factor\":1.0},\"canonical_name\":\"\",\"nameSub\":\"ECE Elective\",\"id\":1575668531190766598,\"num\":\"\",\"credits\":3,\"institution\":\"\",\"prefix\":\"\"},{\"curriculum_requisites\":[],\"name\":\" \",\"metrics\":{\"complexity\":1.0,\"centrality\":0,\"blocking factor\":0,\"delay factor\":1.0},\"canonical_name\":\"\",\"nameSub\":\"ECE Elective\",\"id\":1575668531190766598,\"num\":\"\",\"credits\":3,\"institution\":\"\",\"prefix\":\"\"},{\"curriculum_requisites\":[],\"name\":\" \",\"metrics\":{\"complexity\":1.0,\"centrality\":0,\"blocking factor\":0,\"delay factor\":1.0},\"canonical_name\":\"\",\"nameSub\":\"Liberal Studies\",\"id\":1699551443070609335,\"num\":\"\",\"credits\":3,\"institution\":\"\",\"prefix\":\"\"}],\"id\":7}],\"CIP\":\"26.0101\",\"id\":1251559464807800872,\"institution\":\"\"}}}}},\"children\":[{\"props\":{\"src\":\"http:\\/\\/localhost:8156\",\"id\":\"curriculum\",\"events\":{\"load\":\"(function (){this.contentWindow.postMessage({\\\"options\\\":{\\\"hideTerms\\\":false,\\\"edit\\\":true},\\\"name\\\":\\\"Cornell EE Program 4-year Plan\\\",\\\"curriculum\\\":{\\\"name\\\":\\\"University of Houston EE Program\\\",\\\"curriculum_terms\\\":[{\\\"name\\\":\\\"Term 1\\\",\\\"curriculum_items\\\":[{\\\"curriculum_requisites\\\":[],\\\"name\\\":\\\"MATH 1910\\\",\\\"metrics\\\":{\\\"complexity\\\":15.0,\\\"centrality\\\":0,\\\"blocking factor\\\":10,\\\"delay factor\\\":5.0},\\\"canonical_name\\\":\\\"\\\",\\\"nameSub\\\":\\\"MATH 1910\\\",\\\"id\\\":7940807734347851363,\\\"num\\\":\\\"1910\\\",\\\"credits\\\":3,\\\"institution\\\":\\\"\\\",\\\"prefix\\\":\\\"MATH\\\"},{\\\"curriculum_requisites\\\":[],\\\"name\\\":\\\"CS 111x\\\",\\\"metrics\\\":{\\\"complexity\\\":6.0,\\\"centrality\\\":0,\\\"blocking factor\\\":3,\\\"delay factor\\\":3.0},\\\"canonical_name\\\":\\\"\\\",\\\"nameSub\\\":\\\"CS 111x\\\",\\\"id\\\":2239246769743611145,\\\"num\\\":\\\"111x\\\",\\\"credits\\\":3,\\\"institution\\\":\\\"\\\",\\\"prefix\\\":\\\"CS\\\"},{\\\"curriculum_requisites\\\":[],\\\"name\\\":\\\"CHEM 2090\\\",\\\"metrics\\\":{\\\"complexity\\\":1.0,\\\"centrality\\\":0,\\\"blocking factor\\\":0,\\\"delay factor\\\":1.0},\\\"canonical_name\\\":\\\"\\\",\\\"nameSub\\\":\\\"CHEM 2090\\\",\\\"id\\\":6770672880485073610,\\\"num\\\":\\\"2090\\\",\\\"credits\\\":3,\\\"institution\\\":\\\"\\\",\\\"prefix\\\":\\\"CHEM\\\"},{\\\"curriculum_requisites\\\":[],\\\"name\\\":\\\"ENGRI 1xxx\\\",\\\"metrics\\\":{\\\"complexity\\\":1.0,\\\"centrality\\\":0,\\\"blocking factor\\\":0,\\\"delay factor\\\":1.0},\\\"canonical_name\\\":\\\"\\\",\\\"nameSub\\\":\\\"ENGRI 1xxx\\\",\\\"id\\\":7172848357117752859,\\\"num\\\":\\\"1xxx\\\",\\\"credits\\\":3,\\\"institution\\\":\\\"\\\",\\\"prefix\\\":\\\"ENGRI\\\"},{\\\"curriculum_requisites\\\":[],\\\"name\\\":\\\" \\\",\\\"metrics\\\":{\\\"complexity\\\":1.0,\\\"centrality\\\":0,\\\"blocking factor\\\":0,\\\"delay factor\\\":1.0},\\\"canonical_name\\\":\\\"\\\",\\\"nameSub\\\":\\\"1st Yr Writing Seminar\\\",\\\"id\\\":7026777172015772801,\\\"num\\\":\\\"\\\",\\\"credits\\\":3,\\\"institution\\\":\\\"\\\",\\\"prefix\\\":\\\"\\\"}],\\\"id\\\":1},{\\\"name\\\":\\\"Term 2\\\",\\\"curriculum_items\\\":[{\\\"curriculum_requisites\\\":[{\\\"source_id\\\":7940807734347851363,\\\"target_id\\\":7448585689169123210,\\\"type\\\":\\\"prereq\\\"}],\\\"name\\\":\\\"MATH 1920\\\",\\\"metrics\\\":{\\\"complexity\\\":12.0,\\\"centrality\\\":28,\\\"blocking factor\\\":8,\\\"delay factor\\\":4.0},\\\"canonical_name\\\":\\\"\\\",\\\"nameSub\\\":\\\"MATH 1920\\\",\\\"id\\\":7448585689169123210,\\\"num\\\":\\\"1920\\\",\\\"credits\\\":3,\\\"institution\\\":\\\"\\\",\\\"prefix\\\":\\\"MATH\\\"},{\\\"curriculum_requisites\\\":[{\\\"source_id\\\":7940807734347851363,\\\"target_id\\\":4211457302845222500,\\\"type\\\":\\\"prereq\\\"}],\\\"name\\\":\\\"PHYS 1112\\\",\\\"metrics\\\":{\\\"complexity\\\":9.0,\\\"centrality\\\":9,\\\"blocking factor\\\":4,\\\"delay factor\\\":5.0},\\\"canonical_name\\\":\\\"\\\",\\\"nameSub\\\":\\\"PHYS 1112\\\",\\\"id\\\":4211457302845222500,\\\"num\\\":\\\"1112\\\",\\\"credits\\\":3,\\\"institution\\\":\\\"\\\",\\\"prefix\\\":\\\"PHYS\\\"},{\\\"curriculum_requisites\\\":[{\\\"source_id\\\":2239246769743611145,\\\"target_id\\\":2647182358228915730,\\\"type\\\":\\\"prereq\\\"}],\\\"name\\\":\\\"MECE\\/ENGRD 2300\\\",\\\"metrics\\\":{\\\"complexity\\\":4.0,\\\"centrality\\\":3,\\\"blocking factor\\\":1,\\\"delay factor\\\":3.0},\\\"canonical_name\\\":\\\"\\\",\\\"nameSub\\\":\\\"MECE\\/ENGRD 2300\\\",\\\"id\\\":2647182358228915730,\\\"num\\\":\\\"2300\\\",\\\"credits\\\":3,\\\"institution\\\":\\\"\\\",\\\"prefix\\\":\\\"MECE\\/ENGRD\\\"},{\\\"curriculum_requisites\\\":[{\\\"source_id\\\":2239246769743611145,\\\"target_id\\\":2281305921937565035,\\\"type\\\":\\\"prereq\\\"}],\\\"name\\\":\\\" \\\",\\\"metrics\\\":{\\\"complexity\\\":2.0,\\\"centrality\\\":0,\\\"blocking factor\\\":0,\\\"delay factor\\\":2.0},\\\"canonical_name\\\":\\\"\\\",\\\"nameSub\\\":\\\"Outside Tech. Elective\\\",\\\"id\\\":2281305921937565035,\\\"num\\\":\\\"\\\",\\\"credits\\\":3,\\\"institution\\\":\\\"\\\",\\\"prefix\\\":\\\"\\\"},{\\\"curriculum_requisites\\\":[],\\\"name\\\":\\\" \\\",\\\"metrics\\\":{\\\"complexity\\\":1.0,\\\"centrality\\\":0,\\\"blocking factor\\\":0,\\\"delay factor\\\":1.0},\\\"canonical_name\\\":\\\"\\\",\\\"nameSub\\\":\\\"PE\\\",\\\"id\\\":7830184675769763022,\\\"num\\\":\\\"\\\",\\\"credits\\\":3,\\\"institution\\\":\\\"\\\",\\\"prefix\\\":\\\"\\\"}],\\\"id\\\":2},{\\\"name\\\":\\\"Term 3\\\",\\\"curriculum_items\\\":[{\\\"curriculum_requisites\\\":[{\\\"source_id\\\":4211457302845222500,\\\"target_id\\\":6324856946212884305,\\\"type\\\":\\\"prereq\\\"},{\\\"source_id\\\":7448585689169123210,\\\"target_id\\\":6324856946212884305,\\\"type\\\":\\\"prereq\\\"}],\\\"name\\\":\\\"PHYS 2213\\\",\\\"metrics\\\":{\\\"complexity\\\":8.0,\\\"centrality\\\":18,\\\"blocking factor\\\":3,\\\"delay factor\\\":5.0},\\\"canonical_name\\\":\\\"\\\",\\\"nameSub\\\":\\\"PHYS 2213\\\",\\\"id\\\":6324856946212884305,\\\"num\\\":\\\"2213\\\",\\\"credits\\\":3,\\\"institution\\\":\\\"\\\",\\\"prefix\\\":\\\"PHYS\\\"},{\\\"curriculum_requisites\\\":[{\\\"source_id\\\":7448585689169123210,\\\"target_id\\\":7950540942817884079,\\\"type\\\":\\\"prereq\\\"}],\\\"name\\\":\\\"MATH 2930\\\",\\\"metrics\\\":{\\\"complexity\\\":8.0,\\\"centrality\\\":14,\\\"blocking factor\\\":4,\\\"delay factor\\\":4.0},\\\"canonical_name\\\":\\\"\\\",\\\"nameSub\\\":\\\"MATH 2930\\\",\\\"id\\\":7950540942817884079,\\\"num\\\":\\\"2930\\\",\\\"credits\\\":3,\\\"institution\\\":\\\"\\\",\\\"prefix\\\":\\\"MATH\\\"},{\\\"curriculum_requisites\\\":[{\\\"source_id\\\":7950540942817884079,\\\"target_id\\\":4978141728192012090,\\\"type\\\":\\\"coreq\\\"},{\\\"source_id\\\":6324856946212884305,\\\"target_id\\\":4978141728192012090,\\\"type\\\":\\\"coreq\\\"}],\\\"name\\\":\\\"ECE\\/ENGRD 2100\\\",\\\"metrics\\\":{\\\"complexity\\\":6.0,\\\"centrality\\\":15,\\\"blocking factor\\\":1,\\\"delay factor\\\":5.0},\\\"canonical_name\\\":\\\"\\\",\\\"nameSub\\\":\\\"ECE\\/ENGRD 2100\\\",\\\"id\\\":4978141728192012090,\\\"num\\\":\\\"2100\\\",\\\"credits\\\":3,\\\"institution\\\":\\\"\\\",\\\"prefix\\\":\\\"ECE\\/ENGRD\\\"},{\\\"curriculum_requisites\\\":[{\\\"source_id\\\":7448585689169123210,\\\"target_id\\\":3634268837195515932,\\\"type\\\":\\\"prereq\\\"}],\\\"name\\\":\\\"MATH 2940\\\",\\\"metrics\\\":{\\\"complexity\\\":5.0,\\\"centrality\\\":5,\\\"blocking factor\\\":2,\\\"delay factor\\\":3.0},\\\"canonical_name\\\":\\\"\\\",\\\"nameSub\\\":\\\"MATH 2940\\\",\\\"id\\\":3634268837195515932,\\\"num\\\":\\\"2940\\\",\\\"credits\\\":3,\\\"institution\\\":\\\"\\\",\\\"prefix\\\":\\\"MATH\\\"},{\\\"curriculum_requisites\\\":[{\\\"source_id\\\":7950540942817884079,\\\"target_id\\\":7403402144251581422,\\\"type\\\":\\\"coreq\\\"}],\\\"name\\\":\\\"PHYS 2214\\\",\\\"metrics\\\":{\\\"complexity\\\":4.0,\\\"centrality\\\":0,\\\"blocking factor\\\":0,\\\"delay factor\\\":4.0},\\\"canonical_name\\\":\\\"\\\",\\\"nameSub\\\":\\\"PHYS 2214\\\",\\\"id\\\":7403402144251581422,\\\"num\\\":\\\"2214\\\",\\\"credits\\\":3,\\\"institution\\\":\\\"\\\",\\\"prefix\\\":\\\"PHYS\\\"}],\\\"id\\\":3},{\\\"name\\\":\\\"Term 4\\\",\\\"curriculum_items\\\":[{\\\"curriculum_requisites\\\":[{\\\"source_id\\\":7950540942817884079,\\\"target_id\\\":6843366697047705531,\\\"type\\\":\\\"prereq\\\"},{\\\"source_id\\\":3634268837195515932,\\\"target_id\\\":6843366697047705531,\\\"type\\\":\\\"coreq\\\"}],\\\"name\\\":\\\"ECE\\/ENGRD 2200\\/2220\\\",\\\"metrics\\\":{\\\"complexity\\\":5.0,\\\"centrality\\\":10,\\\"blocking factor\\\":1,\\\"delay factor\\\":4.0},\\\"canonical_name\\\":\\\"\\\",\\\"nameSub\\\":\\\"ECE 2200\\/ENGRD 2220\\\",\\\"id\\\":6843366697047705531,\\\"num\\\":\\\"2200\\/2220\\\",\\\"credits\\\":3,\\\"institution\\\":\\\"\\\",\\\"prefix\\\":\\\"ECE\\/ENGRD\\\"},{\\\"curriculum_requisites\\\":[{\\\"source_id\\\":6324856946212884305,\\\"target_id\\\":6415543480532149818,\\\"type\\\":\\\"prereq\\\"}],\\\"name\\\":\\\"ENGRD 2xxx\\\",\\\"metrics\\\":{\\\"complexity\\\":4.0,\\\"centrality\\\":0,\\\"blocking factor\\\":0,\\\"delay factor\\\":4.0},\\\"canonical_name\\\":\\\"\\\",\\\"nameSub\\\":\\\"ENGRD 2xxx\\\",\\\"id\\\":6415543480532149818,\\\"num\\\":\\\"2xxx\\\",\\\"credits\\\":3,\\\"institution\\\":\\\"\\\",\\\"prefix\\\":\\\"ENGRD\\\"},{\\\"curriculum_requisites\\\":[],\\\"name\\\":\\\" \\\",\\\"metrics\\\":{\\\"complexity\\\":1.0,\\\"centrality\\\":0,\\\"blocking factor\\\":0,\\\"delay factor\\\":1.0},\\\"canonical_name\\\":\\\"\\\",\\\"nameSub\\\":\\\"1st Yr Writing Seminar\\\",\\\"id\\\":9122671688911084431,\\\"num\\\":\\\"\\\",\\\"credits\\\":3,\\\"institution\\\":\\\"\\\",\\\"prefix\\\":\\\"\\\"},{\\\"curriculum_requisites\\\":[],\\\"name\\\":\\\" \\\",\\\"metrics\\\":{\\\"complexity\\\":1.0,\\\"centrality\\\":0,\\\"blocking factor\\\":0,\\\"delay factor\\\":1.0},\\\"canonical_name\\\":\\\"\\\",\\\"nameSub\\\":\\\"PE\\\",\\\"id\\\":7970813346049898195,\\\"num\\\":\\\"\\\",\\\"credits\\\":3,\\\"institution\\\":\\\"\\\",\\\"prefix\\\":\\\"\\\"},{\\\"curriculum_requisites\\\":[],\\\"name\\\":\\\" \\\",\\\"metrics\\\":{\\\"complexity\\\":1.0,\\\"centrality\\\":0,\\\"blocking factor\\\":0,\\\"delay factor\\\":1.0},\\\"canonical_name\\\":\\\"\\\",\\\"nameSub\\\":\\\"Liberal Studies\\\",\\\"id\\\":1699551443070609335,\\\"num\\\":\\\"\\\",\\\"credits\\\":3,\\\"institution\\\":\\\"\\\",\\\"prefix\\\":\\\"\\\"},{\\\"curriculum_requisites\\\":[],\\\"name\\\":\\\" \\\",\\\"metrics\\\":{\\\"complexity\\\":1.0,\\\"centrality\\\":0,\\\"blocking factor\\\":0,\\\"delay factor\\\":1.0},\\\"canonical_name\\\":\\\"\\\",\\\"nameSub\\\":\\\"Liberal Studies\\\",\\\"id\\\":1699551443070609335,\\\"num\\\":\\\"\\\",\\\"credits\\\":3,\\\"institution\\\":\\\"\\\",\\\"prefix\\\":\\\"\\\"}],\\\"id\\\":4},{\\\"name\\\":\\\"Term 5\\\",\\\"curriculum_items\\\":[{\\\"curriculum_requisites\\\":[{\\\"source_id\\\":4978141728192012090,\\\"target_id\\\":5405614217005188477,\\\"type\\\":\\\"prereq\\\"},{\\\"source_id\\\":6843366697047705531,\\\"target_id\\\":5405614217005188477,\\\"type\\\":\\\"prereq\\\"},{\\\"source_id\\\":2647182358228915730,\\\"target_id\\\":5405614217005188477,\\\"type\\\":\\\"prereq\\\"}],\\\"name\\\":\\\"ECE 3400\\\",\\\"metrics\\\":{\\\"complexity\\\":5.0,\\\"centrality\\\":0,\\\"blocking factor\\\":0,\\\"delay factor\\\":5.0},\\\"canonical_name\\\":\\\"\\\",\\\"nameSub\\\":\\\"ECE 3400\\\",\\\"id\\\":5405614217005188477,\\\"num\\\":\\\"3400\\\",\\\"credits\\\":3,\\\"institution\\\":\\\"\\\",\\\"prefix\\\":\\\"ECE\\\"},{\\\"curriculum_requisites\\\":[],\\\"name\\\":\\\" \\\",\\\"metrics\\\":{\\\"complexity\\\":1.0,\\\"centrality\\\":0,\\\"blocking factor\\\":0,\\\"delay factor\\\":1.0},\\\"canonical_name\\\":\\\"\\\",\\\"nameSub\\\":\\\"ECE Foundations\\\",\\\"id\\\":3978012133872591598,\\\"num\\\":\\\"\\\",\\\"credits\\\":3,\\\"institution\\\":\\\"\\\",\\\"prefix\\\":\\\"\\\"},{\\\"curriculum_requisites\\\":[],\\\"name\\\":\\\" \\\",\\\"metrics\\\":{\\\"complexity\\\":1.0,\\\"centrality\\\":0,\\\"blocking factor\\\":0,\\\"delay factor\\\":1.0},\\\"canonical_name\\\":\\\"\\\",\\\"nameSub\\\":\\\"Elective\\\",\\\"id\\\":8181286562162832065,\\\"num\\\":\\\"\\\",\\\"credits\\\":3,\\\"institution\\\":\\\"\\\",\\\"prefix\\\":\\\"\\\"},{\\\"curriculum_requisites\\\":[],\\\"name\\\":\\\" \\\",\\\"metrics\\\":{\\\"complexity\\\":1.0,\\\"centrality\\\":0,\\\"blocking factor\\\":0,\\\"delay factor\\\":1.0},\\\"canonical_name\\\":\\\"\\\",\\\"nameSub\\\":\\\"Liberal Studies\\\",\\\"id\\\":1699551443070609335,\\\"num\\\":\\\"\\\",\\\"credits\\\":3,\\\"institution\\\":\\\"\\\",\\\"prefix\\\":\\\"\\\"},{\\\"curriculum_requisites\\\":[],\\\"name\\\":\\\" \\\",\\\"metrics\\\":{\\\"complexity\\\":1.0,\\\"centrality\\\":0,\\\"blocking factor\\\":0,\\\"delay factor\\\":1.0},\\\"canonical_name\\\":\\\"\\\",\\\"nameSub\\\":\\\"ECE Foundations\\\",\\\"id\\\":3978012133872591598,\\\"num\\\":\\\"\\\",\\\"credits\\\":3,\\\"institution\\\":\\\"\\\",\\\"prefix\\\":\\\"\\\"}],\\\"id\\\":5},{\\\"name\\\":\\\"Term 6\\\",\\\"curriculum_items\\\":[{\\\"curriculum_requisites\\\":[],\\\"name\\\":\\\" \\\",\\\"metrics\\\":{\\\"complexity\\\":1.0,\\\"centrality\\\":0,\\\"blocking factor\\\":0,\\\"delay factor\\\":1.0},\\\"canonical_name\\\":\\\"\\\",\\\"nameSub\\\":\\\"ECE Foundations\\\",\\\"id\\\":3978012133872591598,\\\"num\\\":\\\"\\\",\\\"credits\\\":3,\\\"institution\\\":\\\"\\\",\\\"prefix\\\":\\\"\\\"},{\\\"curriculum_requisites\\\":[],\\\"name\\\":\\\" \\\",\\\"metrics\\\":{\\\"complexity\\\":1.0,\\\"centrality\\\":0,\\\"blocking factor\\\":0,\\\"delay factor\\\":1.0},\\\"canonical_name\\\":\\\"\\\",\\\"nameSub\\\":\\\"Outside Tech. Elective\\\",\\\"id\\\":2281305921937565035,\\\"num\\\":\\\"\\\",\\\"credits\\\":3,\\\"institution\\\":\\\"\\\",\\\"prefix\\\":\\\"\\\"},{\\\"curriculum_requisites\\\":[],\\\"name\\\":\\\" \\\",\\\"metrics\\\":{\\\"complexity\\\":1.0,\\\"centrality\\\":0,\\\"blocking factor\\\":0,\\\"delay factor\\\":1.0},\\\"canonical_name\\\":\\\"\\\",\\\"nameSub\\\":\\\"Elective\\\",\\\"id\\\":8181286562162832065,\\\"num\\\":\\\"\\\",\\\"credits\\\":3,\\\"institution\\\":\\\"\\\",\\\"prefix\\\":\\\"\\\"},{\\\"curriculum_requisites\\\":[],\\\"name\\\":\\\" \\\",\\\"metrics\\\":{\\\"complexity\\\":1.0,\\\"centrality\\\":0,\\\"blocking factor\\\":0,\\\"delay factor\\\":1.0},\\\"canonical_name\\\":\\\"\\\",\\\"nameSub\\\":\\\"Liberal Studies\\\",\\\"id\\\":1699551443070609335,\\\"num\\\":\\\"\\\",\\\"credits\\\":3,\\\"institution\\\":\\\"\\\",\\\"prefix\\\":\\\"\\\"},{\\\"curriculum_requisites\\\":[],\\\"name\\\":\\\" \\\",\\\"metrics\\\":{\\\"complexity\\\":1.0,\\\"centrality\\\":0,\\\"blocking factor\\\":0,\\\"delay factor\\\":1.0},\\\"canonical_name\\\":\\\"\\\",\\\"nameSub\\\":\\\"ECE Elective \\\",\\\"id\\\":7511740048072076999,\\\"num\\\":\\\"\\\",\\\"credits\\\":3,\\\"institution\\\":\\\"\\\",\\\"prefix\\\":\\\"\\\"},{\\\"curriculum_requisites\\\":[],\\\"name\\\":\\\" \\\",\\\"metrics\\\":{\\\"complexity\\\":1.0,\\\"centrality\\\":0,\\\"blocking factor\\\":0,\\\"delay factor\\\":1.0},\\\"canonical_name\\\":\\\"\\\",\\\"nameSub\\\":\\\"ECE Elective\\\",\\\"id\\\":1575668531190766598,\\\"num\\\":\\\"\\\",\\\"credits\\\":3,\\\"institution\\\":\\\"\\\",\\\"prefix\\\":\\\"\\\"}],\\\"id\\\":6},{\\\"name\\\":\\\"Term 7\\\",\\\"curriculum_items\\\":[{\\\"curriculum_requisites\\\":[],\\\"name\\\":\\\" \\\",\\\"metrics\\\":{\\\"complexity\\\":1.0,\\\"centrality\\\":0,\\\"blocking factor\\\":0,\\\"delay factor\\\":1.0},\\\"canonical_name\\\":\\\"\\\",\\\"nameSub\\\":\\\"Outside Tech. Elective\\\",\\\"id\\\":2281305921937565035,\\\"num\\\":\\\"\\\",\\\"credits\\\":3,\\\"institution\\\":\\\"\\\",\\\"prefix\\\":\\\"\\\"},{\\\"curriculum_requisites\\\":[],\\\"name\\\":\\\" \\\",\\\"metrics\\\":{\\\"complexity\\\":1.0,\\\"centrality\\\":0,\\\"blocking factor\\\":0,\\\"delay factor\\\":1.0},\\\"canonical_name\\\":\\\"\\\",\\\"nameSub\\\":\\\"Liberal Studies\\\",\\\"id\\\":1699551443070609335,\\\"num\\\":\\\"\\\",\\\"credits\\\":3,\\\"institution\\\":\\\"\\\",\\\"prefix\\\":\\\"\\\"},{\\\"curriculum_requisites\\\":[],\\\"name\\\":\\\" \\\",\\\"metrics\\\":{\\\"complexity\\\":1.0,\\\"centrality\\\":0,\\\"blocking factor\\\":0,\\\"delay factor\\\":1.0},\\\"canonical_name\\\":\\\"\\\",\\\"nameSub\\\":\\\"ECE Elective\\\",\\\"id\\\":1575668531190766598,\\\"num\\\":\\\"\\\",\\\"credits\\\":3,\\\"institution\\\":\\\"\\\",\\\"prefix\\\":\\\"\\\"},{\\\"curriculum_requisites\\\":[],\\\"name\\\":\\\" \\\",\\\"metrics\\\":{\\\"complexity\\\":1.0,\\\"centrality\\\":0,\\\"blocking factor\\\":0,\\\"delay factor\\\":1.0},\\\"canonical_name\\\":\\\"\\\",\\\"nameSub\\\":\\\"ECE Elective\\\",\\\"id\\\":1575668531190766598,\\\"num\\\":\\\"\\\",\\\"credits\\\":3,\\\"institution\\\":\\\"\\\",\\\"prefix\\\":\\\"\\\"},{\\\"curriculum_requisites\\\":[],\\\"name\\\":\\\" \\\",\\\"metrics\\\":{\\\"complexity\\\":1.0,\\\"centrality\\\":0,\\\"blocking factor\\\":0,\\\"delay factor\\\":1.0},\\\"canonical_name\\\":\\\"\\\",\\\"nameSub\\\":\\\"ECE Elective\\\",\\\"id\\\":1575668531190766598,\\\"num\\\":\\\"\\\",\\\"credits\\\":3,\\\"institution\\\":\\\"\\\",\\\"prefix\\\":\\\"\\\"},{\\\"curriculum_requisites\\\":[],\\\"name\\\":\\\" \\\",\\\"metrics\\\":{\\\"complexity\\\":1.0,\\\"centrality\\\":0,\\\"blocking factor\\\":0,\\\"delay factor\\\":1.0},\\\"canonical_name\\\":\\\"\\\",\\\"nameSub\\\":\\\"Liberal Studies\\\",\\\"id\\\":1699551443070609335,\\\"num\\\":\\\"\\\",\\\"credits\\\":3,\\\"institution\\\":\\\"\\\",\\\"prefix\\\":\\\"\\\"}],\\\"id\\\":7}],\\\"CIP\\\":\\\"26.0101\\\",\\\"id\\\":1251559464807800872,\\\"institution\\\":\\\"\\\"}},\\\"*\\\"); window.removeEventListener(\\\"message\\\",window.messageReceived); window.messageReceived=(function (event){return (event.data.curriculum!==undefined) ? (_webIOScope.setObservableValue({\\\"name\\\":\\\"curriculum-data\\\",\\\"scope\\\":\\\"scope-9f2d904d-9573-48f8-a25d-16c18465e34f\\\",\\\"id\\\":\\\"ob_04\\\",\\\"type\\\":\\\"observable\\\"},event.data.curriculum)) : undefined}); return window.addEventListener(\\\"message\\\",window.messageReceived)})\"},\"style\":{\"padding\":\"0\",\"height\":\"100vh\",\"margin\":\"0\",\"border\":\"none\",\"width\":\"100%\"}},\"nodeType\":\"DOM\",\"type\":\"node\",\"instanceArgs\":{\"namespace\":\"html\",\"tag\":\"iframe\"},\"children\":[\"\"]}]},\n",
       "        );\n",
       "    } else {\n",
       "        document\n",
       "            .querySelector('[data-webio-mountpoint=\"7727999060128424626\"]')\n",
       "            .innerHTML = '<strong>WebIO not detected.</strong>';\n",
       "    }\n",
       "    </script>\n",
       "</div>\n"
      ],
      "text/plain": [
       "WebIO.Scope(\"scope-9f2d904d-9573-48f8-a25d-16c18465e34f\", WebIO.Node{WebIO.DOM}(WebIO.DOM(:html, :iframe), Any[\"\"], Dict{Symbol,Any}(:src=>\"http://localhost:8156\",:id=>\"curriculum\",:events=>Dict(:load=>JSString(\"(function (){this.contentWindow.postMessage({\\\"options\\\":{\\\"hideTerms\\\":false,\\\"edit\\\":true},\\\"name\\\":\\\"Cornell EE Program 4-year Plan\\\",\\\"curriculum\\\":{\\\"name\\\":\\\"University of Houston EE Program\\\",\\\"curriculum_terms\\\":[{\\\"name\\\":\\\"Term 1\\\",\\\"curriculum_items\\\":[{\\\"curriculum_requisites\\\":[],\\\"name\\\":\\\"MATH 1910\\\",\\\"metrics\\\":{\\\"complexity\\\":15.0,\\\"centrality\\\":0,\\\"blocking factor\\\":10,\\\"delay factor\\\":5.0},\\\"canonical_name\\\":\\\"\\\",\\\"nameSub\\\":\\\"MATH 1910\\\",\\\"id\\\":7940807734347851363,\\\"num\\\":\\\"1910\\\",\\\"credits\\\":3,\\\"institution\\\":\\\"\\\",\\\"prefix\\\":\\\"MATH\\\"},{\\\"curriculum_requisites\\\":[],\\\"name\\\":\\\"CS 111x\\\",\\\"metrics\\\":{\\\"complexity\\\":6.0,\\\"centrality\\\":0,\\\"blocking factor\\\":3,\\\"delay factor\\\":3.0},\\\"canonical_name\\\":\\\"\\\",\\\"nameSub\\\":\\\"CS 111x\\\",\\\"id\\\":2239246769743611145,\\\"num\\\":\\\"111x\\\",\\\"credits\\\":3,\\\"institution\\\":\\\"\\\",\\\"prefix\\\":\\\"CS\\\"},{\\\"curriculum_requisites\\\":[],\\\"name\\\":\\\"CHEM 2090\\\",\\\"metrics\\\":{\\\"complexity\\\":1.0,\\\"centrality\\\":0,\\\"blocking factor\\\":0,\\\"delay factor\\\":1.0},\\\"canonical_name\\\":\\\"\\\",\\\"nameSub\\\":\\\"CHEM 2090\\\",\\\"id\\\":6770672880485073610,\\\"num\\\":\\\"2090\\\",\\\"credits\\\":3,\\\"institution\\\":\\\"\\\",\\\"prefix\\\":\\\"CHEM\\\"},{\\\"curriculum_requisites\\\":[],\\\"name\\\":\\\"ENGRI 1xxx\\\",\\\"metrics\\\":{\\\"complexity\\\":1.0,\\\"centrality\\\":0,\\\"blocking factor\\\":0,\\\"delay factor\\\":1.0},\\\"canonical_name\\\":\\\"\\\",\\\"nameSub\\\":\\\"ENGRI 1xxx\\\",\\\"id\\\":7172848357117752859,\\\"num\\\":\\\"1xxx\\\",\\\"credits\\\":3,\\\"institution\\\":\\\"\\\",\\\"prefix\\\":\\\"ENGRI\\\"},{\\\"curriculum_requisites\\\":[],\\\"name\\\":\\\" \\\",\\\"metrics\\\":{\\\"complexity\\\":1.0,\\\"centrality\\\":0,\\\"blocking factor\\\":0,\\\"delay factor\\\":1.0},\\\"canonical_name\\\":\\\"\\\",\\\"nameSub\\\":\\\"1st Yr Writing Seminar\\\",\\\"id\\\":7026777172015772801,\\\"num\\\":\\\"\\\",\\\"credits\\\":3,\\\"institution\\\":\\\"\\\",\\\"prefix\\\":\\\"\\\"}],\\\"id\\\":1},{\\\"name\\\":\\\"Term 2\\\",\\\"curriculum_items\\\":[{\\\"curriculum_requisites\\\":[{\\\"source_id\\\":7940807734347851363,\\\"target_id\\\":7448585689169123210,\\\"type\\\":\\\"prereq\\\"}],\\\"name\\\":\\\"MATH 1920\\\",\\\"metrics\\\":{\\\"complexity\\\":12.0,\\\"centrality\\\":28,\\\"blocking factor\\\":8,\\\"delay factor\\\":4.0},\\\"canonical_name\\\":\\\"\\\",\\\"nameSub\\\":\\\"MATH 1920\\\",\\\"id\\\":7448585689169123210,\\\"num\\\":\\\"1920\\\",\\\"credits\\\":3,\\\"institution\\\":\\\"\\\",\\\"prefix\\\":\\\"MATH\\\"},{\\\"curriculum_requisites\\\":[{\\\"source_id\\\":7940807734347851363,\\\"target_id\\\":4211457302845222500,\\\"type\\\":\\\"prereq\\\"}],\\\"name\\\":\\\"PHYS 1112\\\",\\\"metrics\\\":{\\\"complexity\\\":9.0,\\\"centrality\\\":9,\\\"blocking factor\\\":4,\\\"delay factor\\\":5.0},\\\"canonical_name\\\":\\\"\\\",\\\"nameSub\\\":\\\"PHYS 1112\\\",\\\"id\\\":4211457302845222500,\\\"num\\\":\\\"1112\\\",\\\"credits\\\":3,\\\"institution\\\":\\\"\\\",\\\"prefix\\\":\\\"PHYS\\\"},{\\\"curriculum_requisites\\\":[{\\\"source_id\\\":2239246769743611145,\\\"target_id\\\":2647182358228915730,\\\"type\\\":\\\"prereq\\\"}],\\\"name\\\":\\\"MECE/ENGRD 2300\\\",\\\"metrics\\\":{\\\"complexity\\\":4.0,\\\"centrality\\\":3,\\\"blocking factor\\\":1,\\\"delay factor\\\":3.0},\\\"canonical_name\\\":\\\"\\\",\\\"nameSub\\\":\\\"MECE/ENGRD 2300\\\",\\\"id\\\":2647182358228915730,\\\"num\\\":\\\"2300\\\",\\\"credits\\\":3,\\\"institution\\\":\\\"\\\",\\\"prefix\\\":\\\"MECE/ENGRD\\\"},{\\\"curriculum_requisites\\\":[{\\\"source_id\\\":2239246769743611145,\\\"target_id\\\":2281305921937565035,\\\"type\\\":\\\"prereq\\\"}],\\\"name\\\":\\\" \\\",\\\"metrics\\\":{\\\"complexity\\\":2.0,\\\"centrality\\\":0,\\\"blocking factor\\\":0,\\\"delay factor\\\":2.0},\\\"canonical_name\\\":\\\"\\\",\\\"nameSub\\\":\\\"Outside Tech. Elective\\\",\\\"id\\\":2281305921937565035,\\\"num\\\":\\\"\\\",\\\"credits\\\":3,\\\"institution\\\":\\\"\\\",\\\"prefix\\\":\\\"\\\"},{\\\"curriculum_requisites\\\":[],\\\"name\\\":\\\" \\\",\\\"metrics\\\":{\\\"complexity\\\":1.0,\\\"centrality\\\":0,\\\"blocking factor\\\":0,\\\"delay factor\\\":1.0},\\\"canonical_name\\\":\\\"\\\",\\\"nameSub\\\":\\\"PE\\\",\\\"id\\\":7830184675769763022,\\\"num\\\":\\\"\\\",\\\"credits\\\":3,\\\"institution\\\":\\\"\\\",\\\"prefix\\\":\\\"\\\"}],\\\"id\\\":2},{\\\"name\\\":\\\"Term 3\\\",\\\"curriculum_items\\\":[{\\\"curriculum_requisites\\\":[{\\\"source_id\\\":4211457302845222500,\\\"target_id\\\":6324856946212884305,\\\"type\\\":\\\"prereq\\\"},{\\\"source_id\\\":7448585689169123210,\\\"target_id\\\":6324856946212884305,\\\"type\\\":\\\"prereq\\\"}],\\\"name\\\":\\\"PHYS 2213\\\",\\\"metrics\\\":{\\\"complexity\\\":8.0,\\\"centrality\\\":18,\\\"blocking factor\\\":3,\\\"delay factor\\\":5.0},\\\"canonical_name\\\":\\\"\\\",\\\"nameSub\\\":\\\"PHYS 2213\\\",\\\"id\\\":6324856946212884305,\\\"num\\\":\\\"2213\\\",\\\"credits\\\":3,\\\"institution\\\":\\\"\\\",\\\"prefix\\\":\\\"PHYS\\\"},{\\\"curriculum_requisites\\\":[{\\\"source_id\\\":7448585689169123210,\\\"target_id\\\":7950540942817884079,\\\"type\\\":\\\"prereq\\\"}],\\\"name\\\":\\\"MATH 2930\\\",\\\"metrics\\\":{\\\"complexity\\\":8.0,\\\"centrality\\\":14,\\\"blocking factor\\\":4,\\\"delay factor\\\":4.0},\\\"canonical_name\\\":\\\"\\\",\\\"nameSub\\\":\\\"MATH 2930\\\",\\\"id\\\":7950540942817884079,\\\"num\\\":\\\"2930\\\",\\\"credits\\\":3,\\\"institution\\\":\\\"\\\",\\\"prefix\\\":\\\"MATH\\\"},{\\\"curriculum_requisites\\\":[{\\\"source_id\\\":7950540942817884079,\\\"target_id\\\":4978141728192012090,\\\"type\\\":\\\"coreq\\\"},{\\\"source_id\\\":6324856946212884305,\\\"target_id\\\":4978141728192012090,\\\"type\\\":\\\"coreq\\\"}],\\\"name\\\":\\\"ECE/ENGRD 2100\\\",\\\"metrics\\\":{\\\"complexity\\\":6.0,\\\"centrality\\\":15,\\\"blocking factor\\\":1,\\\"delay factor\\\":5.0},\\\"canonical_name\\\":\\\"\\\",\\\"nameSub\\\":\\\"ECE/ENGRD 2100\\\",\\\"id\\\":4978141728192012090,\\\"num\\\":\\\"2100\\\",\\\"credits\\\":3,\\\"institution\\\":\\\"\\\",\\\"prefix\\\":\\\"ECE/ENGRD\\\"},{\\\"curriculum_requisites\\\":[{\\\"source_id\\\":7448585689169123210,\\\"target_id\\\":3634268837195515932,\\\"type\\\":\\\"prereq\\\"}],\\\"name\\\":\\\"MATH 2940\\\",\\\"metrics\\\":{\\\"complexity\\\":5.0,\\\"centrality\\\":5,\\\"blocking factor\\\":2,\\\"delay factor\\\":3.0},\\\"canonical_name\\\":\\\"\\\",\\\"nameSub\\\":\\\"MATH 2940\\\",\\\"id\\\":3634268837195515932,\\\"num\\\":\\\"2940\\\",\\\"credits\\\":3,\\\"institution\\\":\\\"\\\",\\\"prefix\\\":\\\"MATH\\\"},{\\\"curriculum_requisites\\\":[{\\\"source_id\\\":7950540942817884079,\\\"target_id\\\":7403402144251581422,\\\"type\\\":\\\"coreq\\\"}],\\\"name\\\":\\\"PHYS 2214\\\",\\\"metrics\\\":{\\\"complexity\\\":4.0,\\\"centrality\\\":0,\\\"blocking factor\\\":0,\\\"delay factor\\\":4.0},\\\"canonical_name\\\":\\\"\\\",\\\"nameSub\\\":\\\"PHYS 2214\\\",\\\"id\\\":7403402144251581422,\\\"num\\\":\\\"2214\\\",\\\"credits\\\":3,\\\"institution\\\":\\\"\\\",\\\"prefix\\\":\\\"PHYS\\\"}],\\\"id\\\":3},{\\\"name\\\":\\\"Term 4\\\",\\\"curriculum_items\\\":[{\\\"curriculum_requisites\\\":[{\\\"source_id\\\":7950540942817884079,\\\"target_id\\\":6843366697047705531,\\\"type\\\":\\\"prereq\\\"},{\\\"source_id\\\":3634268837195515932,\\\"target_id\\\":6843366697047705531,\\\"type\\\":\\\"coreq\\\"}],\\\"name\\\":\\\"ECE/ENGRD 2200/2220\\\",\\\"metrics\\\":{\\\"complexity\\\":5.0,\\\"centrality\\\":10,\\\"blocking factor\\\":1,\\\"delay factor\\\":4.0},\\\"canonical_name\\\":\\\"\\\",\\\"nameSub\\\":\\\"ECE 2200/ENGRD 2220\\\",\\\"id\\\":6843366697047705531,\\\"num\\\":\\\"2200/2220\\\",\\\"credits\\\":3,\\\"institution\\\":\\\"\\\",\\\"prefix\\\":\\\"ECE/ENGRD\\\"},{\\\"curriculum_requisites\\\":[{\\\"source_id\\\":6324856946212884305,\\\"target_id\\\":6415543480532149818,\\\"type\\\":\\\"prereq\\\"}],\\\"name\\\":\\\"ENGRD 2xxx\\\",\\\"metrics\\\":{\\\"complexity\\\":4.0,\\\"centrality\\\":0,\\\"blocking factor\\\":0,\\\"delay factor\\\":4.0},\\\"canonical_name\\\":\\\"\\\",\\\"nameSub\\\":\\\"ENGRD 2xxx\\\",\\\"id\\\":6415543480532149818,\\\"num\\\":\\\"2xxx\\\",\\\"credits\\\":3,\\\"institution\\\":\\\"\\\",\\\"prefix\\\":\\\"ENGRD\\\"},{\\\"curriculum_requisites\\\":[],\\\"name\\\":\\\" \\\",\\\"metrics\\\":{\\\"complexity\\\":1.0,\\\"centrality\\\":0,\\\"blocking factor\\\":0,\\\"delay factor\\\":1.0},\\\"canonical_name\\\":\\\"\\\",\\\"nameSub\\\":\\\"1st Yr Writing Seminar\\\",\\\"id\\\":9122671688911084431,\\\"num\\\":\\\"\\\",\\\"credits\\\":3,\\\"institution\\\":\\\"\\\",\\\"prefix\\\":\\\"\\\"},{\\\"curriculum_requisites\\\":[],\\\"name\\\":\\\" \\\",\\\"metrics\\\":{\\\"complexity\\\":1.0,\\\"centrality\\\":0,\\\"blocking factor\\\":0,\\\"delay factor\\\":1.0},\\\"canonical_name\\\":\\\"\\\",\\\"nameSub\\\":\\\"PE\\\",\\\"id\\\":7970813346049898195,\\\"num\\\":\\\"\\\",\\\"credits\\\":3,\\\"institution\\\":\\\"\\\",\\\"prefix\\\":\\\"\\\"},{\\\"curriculum_requisites\\\":[],\\\"name\\\":\\\" \\\",\\\"metrics\\\":{\\\"complexity\\\":1.0,\\\"centrality\\\":0,\\\"blocking factor\\\":0,\\\"delay factor\\\":1.0},\\\"canonical_name\\\":\\\"\\\",\\\"nameSub\\\":\\\"Liberal Studies\\\",\\\"id\\\":1699551443070609335,\\\"num\\\":\\\"\\\",\\\"credits\\\":3,\\\"institution\\\":\\\"\\\",\\\"prefix\\\":\\\"\\\"},{\\\"curriculum_requisites\\\":[],\\\"name\\\":\\\" \\\",\\\"metrics\\\":{\\\"complexity\\\":1.0,\\\"centrality\\\":0,\\\"blocking factor\\\":0,\\\"delay factor\\\":1.0},\\\"canonical_name\\\":\\\"\\\",\\\"nameSub\\\":\\\"Liberal Studies\\\",\\\"id\\\":1699551443070609335,\\\"num\\\":\\\"\\\",\\\"credits\\\":3,\\\"institution\\\":\\\"\\\",\\\"prefix\\\":\\\"\\\"}],\\\"id\\\":4},{\\\"name\\\":\\\"Term 5\\\",\\\"curriculum_items\\\":[{\\\"curriculum_requisites\\\":[{\\\"source_id\\\":4978141728192012090,\\\"target_id\\\":5405614217005188477,\\\"type\\\":\\\"prereq\\\"},{\\\"source_id\\\":6843366697047705531,\\\"target_id\\\":5405614217005188477,\\\"type\\\":\\\"prereq\\\"},{\\\"source_id\\\":2647182358228915730,\\\"target_id\\\":5405614217005188477,\\\"type\\\":\\\"prereq\\\"}],\\\"name\\\":\\\"ECE 3400\\\",\\\"metrics\\\":{\\\"complexity\\\":5.0,\\\"centrality\\\":0,\\\"blocking factor\\\":0,\\\"delay factor\\\":5.0},\\\"canonical_name\\\":\\\"\\\",\\\"nameSub\\\":\\\"ECE 3400\\\",\\\"id\\\":5405614217005188477,\\\"num\\\":\\\"3400\\\",\\\"credits\\\":3,\\\"institution\\\":\\\"\\\",\\\"prefix\\\":\\\"ECE\\\"},{\\\"curriculum_requisites\\\":[],\\\"name\\\":\\\" \\\",\\\"metrics\\\":{\\\"complexity\\\":1.0,\\\"centrality\\\":0,\\\"blocking factor\\\":0,\\\"delay factor\\\":1.0},\\\"canonical_name\\\":\\\"\\\",\\\"nameSub\\\":\\\"ECE Foundations\\\",\\\"id\\\":3978012133872591598,\\\"num\\\":\\\"\\\",\\\"credits\\\":3,\\\"institution\\\":\\\"\\\",\\\"prefix\\\":\\\"\\\"},{\\\"curriculum_requisites\\\":[],\\\"name\\\":\\\" \\\",\\\"metrics\\\":{\\\"complexity\\\":1.0,\\\"centrality\\\":0,\\\"blocking factor\\\":0,\\\"delay factor\\\":1.0},\\\"canonical_name\\\":\\\"\\\",\\\"nameSub\\\":\\\"Elective\\\",\\\"id\\\":8181286562162832065,\\\"num\\\":\\\"\\\",\\\"credits\\\":3,\\\"institution\\\":\\\"\\\",\\\"prefix\\\":\\\"\\\"},{\\\"curriculum_requisites\\\":[],\\\"name\\\":\\\" \\\",\\\"metrics\\\":{\\\"complexity\\\":1.0,\\\"centrality\\\":0,\\\"blocking factor\\\":0,\\\"delay factor\\\":1.0},\\\"canonical_name\\\":\\\"\\\",\\\"nameSub\\\":\\\"Liberal Studies\\\",\\\"id\\\":1699551443070609335,\\\"num\\\":\\\"\\\",\\\"credits\\\":3,\\\"institution\\\":\\\"\\\",\\\"prefix\\\":\\\"\\\"},{\\\"curriculum_requisites\\\":[],\\\"name\\\":\\\" \\\",\\\"metrics\\\":{\\\"complexity\\\":1.0,\\\"centrality\\\":0,\\\"blocking factor\\\":0,\\\"delay factor\\\":1.0},\\\"canonical_name\\\":\\\"\\\",\\\"nameSub\\\":\\\"ECE Foundations\\\",\\\"id\\\":3978012133872591598,\\\"num\\\":\\\"\\\",\\\"credits\\\":3,\\\"institution\\\":\\\"\\\",\\\"prefix\\\":\\\"\\\"}],\\\"id\\\":5},{\\\"name\\\":\\\"Term 6\\\",\\\"curriculum_items\\\":[{\\\"curriculum_requisites\\\":[],\\\"name\\\":\\\" \\\",\\\"metrics\\\":{\\\"complexity\\\":1.0,\\\"centrality\\\":0,\\\"blocking factor\\\":0,\\\"delay factor\\\":1.0},\\\"canonical_name\\\":\\\"\\\",\\\"nameSub\\\":\\\"ECE Foundations\\\",\\\"id\\\":3978012133872591598,\\\"num\\\":\\\"\\\",\\\"credits\\\":3,\\\"institution\\\":\\\"\\\",\\\"prefix\\\":\\\"\\\"},{\\\"curriculum_requisites\\\":[],\\\"name\\\":\\\" \\\",\\\"metrics\\\":{\\\"complexity\\\":1.0,\\\"centrality\\\":0,\\\"blocking factor\\\":0,\\\"delay factor\\\":1.0},\\\"canonical_name\\\":\\\"\\\",\\\"nameSub\\\":\\\"Outside Tech. Elective\\\",\\\"id\\\":2281305921937565035,\\\"num\\\":\\\"\\\",\\\"credits\\\":3,\\\"institution\\\":\\\"\\\",\\\"prefix\\\":\\\"\\\"},{\\\"curriculum_requisites\\\":[],\\\"name\\\":\\\" \\\",\\\"metrics\\\":{\\\"complexity\\\":1.0,\\\"centrality\\\":0,\\\"blocking factor\\\":0,\\\"delay factor\\\":1.0},\\\"canonical_name\\\":\\\"\\\",\\\"nameSub\\\":\\\"Elective\\\",\\\"id\\\":8181286562162832065,\\\"num\\\":\\\"\\\",\\\"credits\\\":3,\\\"institution\\\":\\\"\\\",\\\"prefix\\\":\\\"\\\"},{\\\"curriculum_requisites\\\":[],\\\"name\\\":\\\" \\\",\\\"metrics\\\":{\\\"complexity\\\":1.0,\\\"centrality\\\":0,\\\"blocking factor\\\":0,\\\"delay factor\\\":1.0},\\\"canonical_name\\\":\\\"\\\",\\\"nameSub\\\":\\\"Liberal Studies\\\",\\\"id\\\":1699551443070609335,\\\"num\\\":\\\"\\\",\\\"credits\\\":3,\\\"institution\\\":\\\"\\\",\\\"prefix\\\":\\\"\\\"},{\\\"curriculum_requisites\\\":[],\\\"name\\\":\\\" \\\",\\\"metrics\\\":{\\\"complexity\\\":1.0,\\\"centrality\\\":0,\\\"blocking factor\\\":0,\\\"delay factor\\\":1.0},\\\"canonical_name\\\":\\\"\\\",\\\"nameSub\\\":\\\"ECE Elective \\\",\\\"id\\\":7511740048072076999,\\\"num\\\":\\\"\\\",\\\"credits\\\":3,\\\"institution\\\":\\\"\\\",\\\"prefix\\\":\\\"\\\"},{\\\"curriculum_requisites\\\":[],\\\"name\\\":\\\" \\\",\\\"metrics\\\":{\\\"complexity\\\":1.0,\\\"centrality\\\":0,\\\"blocking factor\\\":0,\\\"delay factor\\\":1.0},\\\"canonical_name\\\":\\\"\\\",\\\"nameSub\\\":\\\"ECE Elective\\\",\\\"id\\\":1575668531190766598,\\\"num\\\":\\\"\\\",\\\"credits\\\":3,\\\"institution\\\":\\\"\\\",\\\"prefix\\\":\\\"\\\"}],\\\"id\\\":6},{\\\"name\\\":\\\"Term 7\\\",\\\"curriculum_items\\\":[{\\\"curriculum_requisites\\\":[],\\\"name\\\":\\\" \\\",\\\"metrics\\\":{\\\"complexity\\\":1.0,\\\"centrality\\\":0,\\\"blocking factor\\\":0,\\\"delay factor\\\":1.0},\\\"canonical_name\\\":\\\"\\\",\\\"nameSub\\\":\\\"Outside Tech. Elective\\\",\\\"id\\\":2281305921937565035,\\\"num\\\":\\\"\\\",\\\"credits\\\":3,\\\"institution\\\":\\\"\\\",\\\"prefix\\\":\\\"\\\"},{\\\"curriculum_requisites\\\":[],\\\"name\\\":\\\" \\\",\\\"metrics\\\":{\\\"complexity\\\":1.0,\\\"centrality\\\":0,\\\"blocking factor\\\":0,\\\"delay factor\\\":1.0},\\\"canonical_name\\\":\\\"\\\",\\\"nameSub\\\":\\\"Liberal Studies\\\",\\\"id\\\":1699551443070609335,\\\"num\\\":\\\"\\\",\\\"credits\\\":3,\\\"institution\\\":\\\"\\\",\\\"prefix\\\":\\\"\\\"},{\\\"curriculum_requisites\\\":[],\\\"name\\\":\\\" \\\",\\\"metrics\\\":{\\\"complexity\\\":1.0,\\\"centrality\\\":0,\\\"blocking factor\\\":0,\\\"delay factor\\\":1.0},\\\"canonical_name\\\":\\\"\\\",\\\"nameSub\\\":\\\"ECE Elective\\\",\\\"id\\\":1575668531190766598,\\\"num\\\":\\\"\\\",\\\"credits\\\":3,\\\"institution\\\":\\\"\\\",\\\"prefix\\\":\\\"\\\"},{\\\"curriculum_requisites\\\":[],\\\"name\\\":\\\" \\\",\\\"metrics\\\":{\\\"complexity\\\":1.0,\\\"centrality\\\":0,\\\"blocking factor\\\":0,\\\"delay factor\\\":1.0},\\\"canonical_name\\\":\\\"\\\",\\\"nameSub\\\":\\\"ECE Elective\\\",\\\"id\\\":1575668531190766598,\\\"num\\\":\\\"\\\",\\\"credits\\\":3,\\\"institution\\\":\\\"\\\",\\\"prefix\\\":\\\"\\\"},{\\\"curriculum_requisites\\\":[],\\\"name\\\":\\\" \\\",\\\"metrics\\\":{\\\"complexity\\\":1.0,\\\"centrality\\\":0,\\\"blocking factor\\\":0,\\\"delay factor\\\":1.0},\\\"canonical_name\\\":\\\"\\\",\\\"nameSub\\\":\\\"ECE Elective\\\",\\\"id\\\":1575668531190766598,\\\"num\\\":\\\"\\\",\\\"credits\\\":3,\\\"institution\\\":\\\"\\\",\\\"prefix\\\":\\\"\\\"},{\\\"curriculum_requisites\\\":[],\\\"name\\\":\\\" \\\",\\\"metrics\\\":{\\\"complexity\\\":1.0,\\\"centrality\\\":0,\\\"blocking factor\\\":0,\\\"delay factor\\\":1.0},\\\"canonical_name\\\":\\\"\\\",\\\"nameSub\\\":\\\"Liberal Studies\\\",\\\"id\\\":1699551443070609335,\\\"num\\\":\\\"\\\",\\\"credits\\\":3,\\\"institution\\\":\\\"\\\",\\\"prefix\\\":\\\"\\\"}],\\\"id\\\":7}],\\\"CIP\\\":\\\"26.0101\\\",\\\"id\\\":1251559464807800872,\\\"institution\\\":\\\"\\\"}},\\\"*\\\"); window.removeEventListener(\\\"message\\\",window.messageReceived); window.messageReceived=(function (event){return (event.data.curriculum!==undefined) ? (_webIOScope.setObservableValue({\\\"name\\\":\\\"curriculum-data\\\",\\\"scope\\\":\\\"scope-9f2d904d-9573-48f8-a25d-16c18465e34f\\\",\\\"id\\\":\\\"ob_04\\\",\\\"type\\\":\\\"observable\\\"},event.data.curriculum)) : undefined}); return window.addEventListener(\\\"message\\\",window.messageReceived)})\")),:style=>Dict(:padding=>\"0\",:height=>\"100vh\",:margin=>\"0\",:border=>\"none\",:width=>\"100%\")), 1), Dict{String,Tuple{Observables.AbstractObservable,Union{Nothing, Bool}}}(\"curriculum-data\"=>(Observable{Dict{String,Any}} with 1 listeners. Value:\n",
       "Dict{String,Any}(\"options\"=>Dict{String,Any}(\"hideTerms\"=>false,\"edit\"=>true),\"name\"=>\"Cornell EE Program 4-year Plan\",\"curriculum\"=>Dict{String,Any}(\"name\"=>\"University of Houston EE Program\",\"curriculum_terms\"=>Any[Dict{String,Any}(\"name\"=>\"Term 1\",\"curriculum_items\"=>Any[Dict{String,Any}(\"curriculum_requisites\"=>Any[],\"name\"=>\"MATH 1910\",\"metrics\"=>Dict{String,Any}(\"complexity\"=>15.0,\"centrality\"=>0,\"blocking factor\"=>10,\"delay factor\"=>5.0),\"canonical_name\"=>\"\",\"nameSub\"=>\"MATH 1910\",\"id\"=>7940807734347851363,\"num\"=>\"1910\",\"credits\"=>3,\"institution\"=>\"\",\"prefix\"=>\"MATH\"…), Dict{String,Any}(\"curriculum_requisites\"=>Any[],\"name\"=>\"CS 111x\",\"metrics\"=>Dict{String,Any}(\"complexity\"=>6.0,\"centrality\"=>0,\"blocking factor\"=>3,\"delay factor\"=>3.0),\"canonical_name\"=>\"\",\"nameSub\"=>\"CS 111x\",\"id\"=>2239246769743611145,\"num\"=>\"111x\",\"credits\"=>3,\"institution\"=>\"\",\"prefix\"=>\"CS\"…), Dict{String,Any}(\"curriculum_requisites\"=>Any[],\"name\"=>\"CHEM 2090\",\"metrics\"=>Dict{String,Any}(\"complexity\"=>1.0,\"centrality\"=>0,\"blocking factor\"=>0,\"delay factor\"=>1.0),\"canonical_name\"=>\"\",\"nameSub\"=>\"CHEM 2090\",\"id\"=>6770672880485073610,\"num\"=>\"2090\",\"credits\"=>3,\"institution\"=>\"\",\"prefix\"=>\"CHEM\"…), Dict{String,Any}(\"curriculum_requisites\"=>Any[],\"name\"=>\"ENGRI 1xxx\",\"metrics\"=>Dict{String,Any}(\"complexity\"=>1.0,\"centrality\"=>0,\"blocking factor\"=>0,\"delay factor\"=>1.0),\"canonical_name\"=>\"\",\"nameSub\"=>\"ENGRI 1xxx\",\"id\"=>7172848357117752859,\"num\"=>\"1xxx\",\"credits\"=>3,\"institution\"=>\"\",\"prefix\"=>\"ENGRI\"…), Dict{String,Any}(\"curriculum_requisites\"=>Any[],\"name\"=>\" \",\"metrics\"=>Dict{String,Any}(\"complexity\"=>1.0,\"centrality\"=>0,\"blocking factor\"=>0,\"delay factor\"=>1.0),\"canonical_name\"=>\"\",\"nameSub\"=>\"1st Yr Writing Seminar\",\"id\"=>7026777172015772801,\"num\"=>\"\",\"credits\"=>3,\"institution\"=>\"\",\"prefix\"=>\"\"…)],\"id\"=>1), Dict{String,Any}(\"name\"=>\"Term 2\",\"curriculum_items\"=>Any[Dict{String,Any}(\"curriculum_requisites\"=>Any[Dict{String,Any}(\"source_id\"=>7940807734347851363,\"target_id\"=>7448585689169123210,\"type\"=>\"prereq\")],\"name\"=>\"MATH 1920\",\"metrics\"=>Dict{String,Any}(\"complexity\"=>12.0,\"centrality\"=>28,\"blocking factor\"=>8,\"delay factor\"=>4.0),\"canonical_name\"=>\"\",\"nameSub\"=>\"MATH 1920\",\"id\"=>7448585689169123210,\"num\"=>\"1920\",\"credits\"=>3,\"institution\"=>\"\",\"prefix\"=>\"MATH\"…), Dict{String,Any}(\"curriculum_requisites\"=>Any[Dict{String,Any}(\"source_id\"=>7940807734347851363,\"target_id\"=>4211457302845222500,\"type\"=>\"prereq\")],\"name\"=>\"PHYS 1112\",\"metrics\"=>Dict{String,Any}(\"complexity\"=>9.0,\"centrality\"=>9,\"blocking factor\"=>4,\"delay factor\"=>5.0),\"canonical_name\"=>\"\",\"nameSub\"=>\"PHYS 1112\",\"id\"=>4211457302845222500,\"num\"=>\"1112\",\"credits\"=>3,\"institution\"=>\"\",\"prefix\"=>\"PHYS\"…), Dict{String,Any}(\"curriculum_requisites\"=>Any[Dict{String,Any}(\"source_id\"=>2239246769743611145,\"target_id\"=>2647182358228915730,\"type\"=>\"prereq\")],\"name\"=>\"MECE/ENGRD 2300\",\"metrics\"=>Dict{String,Any}(\"complexity\"=>4.0,\"centrality\"=>3,\"blocking factor\"=>1,\"delay factor\"=>3.0),\"canonical_name\"=>\"\",\"nameSub\"=>\"MECE/ENGRD 2300\",\"id\"=>2647182358228915730,\"num\"=>\"2300\",\"credits\"=>3,\"institution\"=>\"\",\"prefix\"=>\"MECE/ENGRD\"…), Dict{String,Any}(\"curriculum_requisites\"=>Any[Dict{String,Any}(\"source_id\"=>2239246769743611145,\"target_id\"=>2281305921937565035,\"type\"=>\"prereq\")],\"name\"=>\" \",\"metrics\"=>Dict{String,Any}(\"complexity\"=>2.0,\"centrality\"=>0,\"blocking factor\"=>0,\"delay factor\"=>2.0),\"canonical_name\"=>\"\",\"nameSub\"=>\"Outside Tech. Elective\",\"id\"=>2281305921937565035,\"num\"=>\"\",\"credits\"=>3,\"institution\"=>\"\",\"prefix\"=>\"\"…), Dict{String,Any}(\"curriculum_requisites\"=>Any[],\"name\"=>\" \",\"metrics\"=>Dict{String,Any}(\"complexity\"=>1.0,\"centrality\"=>0,\"blocking factor\"=>0,\"delay factor\"=>1.0),\"canonical_name\"=>\"\",\"nameSub\"=>\"PE\",\"id\"=>7830184675769763022,\"num\"=>\"\",\"credits\"=>3,\"institution\"=>\"\",\"prefix\"=>\"\"…)],\"id\"=>2), Dict{String,Any}(\"name\"=>\"Term 3\",\"curriculum_items\"=>Any[Dict{String,Any}(\"curriculum_requisites\"=>Any[Dict{String,Any}(\"source_id\"=>4211457302845222500,\"target_id\"=>6324856946212884305,\"type\"=>\"prereq\"), Dict{String,Any}(\"source_id\"=>7448585689169123210,\"target_id\"=>6324856946212884305,\"type\"=>\"prereq\")],\"name\"=>\"PHYS 2213\",\"metrics\"=>Dict{String,Any}(\"complexity\"=>8.0,\"centrality\"=>18,\"blocking factor\"=>3,\"delay factor\"=>5.0),\"canonical_name\"=>\"\",\"nameSub\"=>\"PHYS 2213\",\"id\"=>6324856946212884305,\"num\"=>\"2213\",\"credits\"=>3,\"institution\"=>\"\",\"prefix\"=>\"PHYS\"…), Dict{String,Any}(\"curriculum_requisites\"=>Any[Dict{String,Any}(\"source_id\"=>7448585689169123210,\"target_id\"=>7950540942817884079,\"type\"=>\"prereq\")],\"name\"=>\"MATH 2930\",\"metrics\"=>Dict{String,Any}(\"complexity\"=>8.0,\"centrality\"=>14,\"blocking factor\"=>4,\"delay factor\"=>4.0),\"canonical_name\"=>\"\",\"nameSub\"=>\"MATH 2930\",\"id\"=>7950540942817884079,\"num\"=>\"2930\",\"credits\"=>3,\"institution\"=>\"\",\"prefix\"=>\"MATH\"…), Dict{String,Any}(\"curriculum_requisites\"=>Any[Dict{String,Any}(\"source_id\"=>7950540942817884079,\"target_id\"=>4978141728192012090,\"type\"=>\"coreq\"), Dict{String,Any}(\"source_id\"=>6324856946212884305,\"target_id\"=>4978141728192012090,\"type\"=>\"coreq\")],\"name\"=>\"ECE/ENGRD 2100\",\"metrics\"=>Dict{String,Any}(\"complexity\"=>6.0,\"centrality\"=>15,\"blocking factor\"=>1,\"delay factor\"=>5.0),\"canonical_name\"=>\"\",\"nameSub\"=>\"ECE/ENGRD 2100\",\"id\"=>4978141728192012090,\"num\"=>\"2100\",\"credits\"=>3,\"institution\"=>\"\",\"prefix\"=>\"ECE/ENGRD\"…), Dict{String,Any}(\"curriculum_requisites\"=>Any[Dict{String,Any}(\"source_id\"=>7448585689169123210,\"target_id\"=>3634268837195515932,\"type\"=>\"prereq\")],\"name\"=>\"MATH 2940\",\"metrics\"=>Dict{String,Any}(\"complexity\"=>5.0,\"centrality\"=>5,\"blocking factor\"=>2,\"delay factor\"=>3.0),\"canonical_name\"=>\"\",\"nameSub\"=>\"MATH 2940\",\"id\"=>3634268837195515932,\"num\"=>\"2940\",\"credits\"=>3,\"institution\"=>\"\",\"prefix\"=>\"MATH\"…), Dict{String,Any}(\"curriculum_requisites\"=>Any[Dict{String,Any}(\"source_id\"=>7950540942817884079,\"target_id\"=>7403402144251581422,\"type\"=>\"coreq\")],\"name\"=>\"PHYS 2214\",\"metrics\"=>Dict{String,Any}(\"complexity\"=>4.0,\"centrality\"=>0,\"blocking factor\"=>0,\"delay factor\"=>4.0),\"canonical_name\"=>\"\",\"nameSub\"=>\"PHYS 2214\",\"id\"=>7403402144251581422,\"num\"=>\"2214\",\"credits\"=>3,\"institution\"=>\"\",\"prefix\"=>\"PHYS\"…)],\"id\"=>3), Dict{String,Any}(\"name\"=>\"Term 4\",\"curriculum_items\"=>Any[Dict{String,Any}(\"curriculum_requisites\"=>Any[Dict{String,Any}(\"source_id\"=>7950540942817884079,\"target_id\"=>6843366697047705531,\"type\"=>\"prereq\"), Dict{String,Any}(\"source_id\"=>3634268837195515932,\"target_id\"=>6843366697047705531,\"type\"=>\"coreq\")],\"name\"=>\"ECE/ENGRD 2200/2220\",\"metrics\"=>Dict{String,Any}(\"complexity\"=>5.0,\"centrality\"=>10,\"blocking factor\"=>1,\"delay factor\"=>4.0),\"canonical_name\"=>\"\",\"nameSub\"=>\"ECE 2200/ENGRD 2220\",\"id\"=>6843366697047705531,\"num\"=>\"2200/2220\",\"credits\"=>3,\"institution\"=>\"\",\"prefix\"=>\"ECE/ENGRD\"…), Dict{String,Any}(\"curriculum_requisites\"=>Any[Dict{String,Any}(\"source_id\"=>6324856946212884305,\"target_id\"=>6415543480532149818,\"type\"=>\"prereq\")],\"name\"=>\"ENGRD 2xxx\",\"metrics\"=>Dict{String,Any}(\"complexity\"=>4.0,\"centrality\"=>0,\"blocking factor\"=>0,\"delay factor\"=>4.0),\"canonical_name\"=>\"\",\"nameSub\"=>\"ENGRD 2xxx\",\"id\"=>6415543480532149818,\"num\"=>\"2xxx\",\"credits\"=>3,\"institution\"=>\"\",\"prefix\"=>\"ENGRD\"…), Dict{String,Any}(\"curriculum_requisites\"=>Any[],\"name\"=>\" \",\"metrics\"=>Dict{String,Any}(\"complexity\"=>1.0,\"centrality\"=>0,\"blocking factor\"=>0,\"delay factor\"=>1.0),\"canonical_name\"=>\"\",\"nameSub\"=>\"1st Yr Writing Seminar\",\"id\"=>9122671688911084431,\"num\"=>\"\",\"credits\"=>3,\"institution\"=>\"\",\"prefix\"=>\"\"…), Dict{String,Any}(\"curriculum_requisites\"=>Any[],\"name\"=>\" \",\"metrics\"=>Dict{String,Any}(\"complexity\"=>1.0,\"centrality\"=>0,\"blocking factor\"=>0,\"delay factor\"=>1.0),\"canonical_name\"=>\"\",\"nameSub\"=>\"PE\",\"id\"=>7970813346049898195,\"num\"=>\"\",\"credits\"=>3,\"institution\"=>\"\",\"prefix\"=>\"\"…), Dict{String,Any}(\"curriculum_requisites\"=>Any[],\"name\"=>\" \",\"metrics\"=>Dict{String,Any}(\"complexity\"=>1.0,\"centrality\"=>0,\"blocking factor\"=>0,\"delay factor\"=>1.0),\"canonical_name\"=>\"\",\"nameSub\"=>\"Liberal Studies\",\"id\"=>1699551443070609335,\"num\"=>\"\",\"credits\"=>3,\"institution\"=>\"\",\"prefix\"=>\"\"…), Dict{String,Any}(\"curriculum_requisites\"=>Any[],\"name\"=>\" \",\"metrics\"=>Dict{String,Any}(\"complexity\"=>1.0,\"centrality\"=>0,\"blocking factor\"=>0,\"delay factor\"=>1.0),\"canonical_name\"=>\"\",\"nameSub\"=>\"Liberal Studies\",\"id\"=>1699551443070609335,\"num\"=>\"\",\"credits\"=>3,\"institution\"=>\"\",\"prefix\"=>\"\"…)],\"id\"=>4), Dict{String,Any}(\"name\"=>\"Term 5\",\"curriculum_items\"=>Any[Dict{String,Any}(\"curriculum_requisites\"=>Any[Dict{String,Any}(\"source_id\"=>4978141728192012090,\"target_id\"=>5405614217005188477,\"type\"=>\"prereq\"), Dict{String,Any}(\"source_id\"=>6843366697047705531,\"target_id\"=>5405614217005188477,\"type\"=>\"prereq\"), Dict{String,Any}(\"source_id\"=>2647182358228915730,\"target_id\"=>5405614217005188477,\"type\"=>\"prereq\")],\"name\"=>\"ECE 3400\",\"metrics\"=>Dict{String,Any}(\"complexity\"=>5.0,\"centrality\"=>0,\"blocking factor\"=>0,\"delay factor\"=>5.0),\"canonical_name\"=>\"\",\"nameSub\"=>\"ECE 3400\",\"id\"=>5405614217005188477,\"num\"=>\"3400\",\"credits\"=>3,\"institution\"=>\"\",\"prefix\"=>\"ECE\"…), Dict{String,Any}(\"curriculum_requisites\"=>Any[],\"name\"=>\" \",\"metrics\"=>Dict{String,Any}(\"complexity\"=>1.0,\"centrality\"=>0,\"blocking factor\"=>0,\"delay factor\"=>1.0),\"canonical_name\"=>\"\",\"nameSub\"=>\"ECE Foundations\",\"id\"=>3978012133872591598,\"num\"=>\"\",\"credits\"=>3,\"institution\"=>\"\",\"prefix\"=>\"\"…), Dict{String,Any}(\"curriculum_requisites\"=>Any[],\"name\"=>\" \",\"metrics\"=>Dict{String,Any}(\"complexity\"=>1.0,\"centrality\"=>0,\"blocking factor\"=>0,\"delay factor\"=>1.0),\"canonical_name\"=>\"\",\"nameSub\"=>\"Elective\",\"id\"=>8181286562162832065,\"num\"=>\"\",\"credits\"=>3,\"institution\"=>\"\",\"prefix\"=>\"\"…), Dict{String,Any}(\"curriculum_requisites\"=>Any[],\"name\"=>\" \",\"metrics\"=>Dict{String,Any}(\"complexity\"=>1.0,\"centrality\"=>0,\"blocking factor\"=>0,\"delay factor\"=>1.0),\"canonical_name\"=>\"\",\"nameSub\"=>\"Liberal Studies\",\"id\"=>1699551443070609335,\"num\"=>\"\",\"credits\"=>3,\"institution\"=>\"\",\"prefix\"=>\"\"…), Dict{String,Any}(\"curriculum_requisites\"=>Any[],\"name\"=>\" \",\"metrics\"=>Dict{String,Any}(\"complexity\"=>1.0,\"centrality\"=>0,\"blocking factor\"=>0,\"delay factor\"=>1.0),\"canonical_name\"=>\"\",\"nameSub\"=>\"ECE Foundations\",\"id\"=>3978012133872591598,\"num\"=>\"\",\"credits\"=>3,\"institution\"=>\"\",\"prefix\"=>\"\"…)],\"id\"=>5), Dict{String,Any}(\"name\"=>\"Term 6\",\"curriculum_items\"=>Any[Dict{String,Any}(\"curriculum_requisites\"=>Any[],\"name\"=>\" \",\"metrics\"=>Dict{String,Any}(\"complexity\"=>1.0,\"centrality\"=>0,\"blocking factor\"=>0,\"delay factor\"=>1.0),\"canonical_name\"=>\"\",\"nameSub\"=>\"ECE Foundations\",\"id\"=>3978012133872591598,\"num\"=>\"\",\"credits\"=>3,\"institution\"=>\"\",\"prefix\"=>\"\"…), Dict{String,Any}(\"curriculum_requisites\"=>Any[],\"name\"=>\" \",\"metrics\"=>Dict{String,Any}(\"complexity\"=>1.0,\"centrality\"=>0,\"blocking factor\"=>0,\"delay factor\"=>1.0),\"canonical_name\"=>\"\",\"nameSub\"=>\"Outside Tech. Elective\",\"id\"=>2281305921937565035,\"num\"=>\"\",\"credits\"=>3,\"institution\"=>\"\",\"prefix\"=>\"\"…), Dict{String,Any}(\"curriculum_requisites\"=>Any[],\"name\"=>\" \",\"metrics\"=>Dict{String,Any}(\"complexity\"=>1.0,\"centrality\"=>0,\"blocking factor\"=>0,\"delay factor\"=>1.0),\"canonical_name\"=>\"\",\"nameSub\"=>\"Elective\",\"id\"=>8181286562162832065,\"num\"=>\"\",\"credits\"=>3,\"institution\"=>\"\",\"prefix\"=>\"\"…), Dict{String,Any}(\"curriculum_requisites\"=>Any[],\"name\"=>\" \",\"metrics\"=>Dict{String,Any}(\"complexity\"=>1.0,\"centrality\"=>0,\"blocking factor\"=>0,\"delay factor\"=>1.0),\"canonical_name\"=>\"\",\"nameSub\"=>\"Liberal Studies\",\"id\"=>1699551443070609335,\"num\"=>\"\",\"credits\"=>3,\"institution\"=>\"\",\"prefix\"=>\"\"…), Dict{String,Any}(\"curriculum_requisites\"=>Any[],\"name\"=>\" \",\"metrics\"=>Dict{String,Any}(\"complexity\"=>1.0,\"centrality\"=>0,\"blocking factor\"=>0,\"delay factor\"=>1.0),\"canonical_name\"=>\"\",\"nameSub\"=>\"ECE Elective \",\"id\"=>7511740048072076999,\"num\"=>\"\",\"credits\"=>3,\"institution\"=>\"\",\"prefix\"=>\"\"…), Dict{String,Any}(\"curriculum_requisites\"=>Any[],\"name\"=>\" \",\"metrics\"=>Dict{String,Any}(\"complexity\"=>1.0,\"centrality\"=>0,\"blocking factor\"=>0,\"delay factor\"=>1.0),\"canonical_name\"=>\"\",\"nameSub\"=>\"ECE Elective\",\"id\"=>1575668531190766598,\"num\"=>\"\",\"credits\"=>3,\"institution\"=>\"\",\"prefix\"=>\"\"…)],\"id\"=>6), Dict{String,Any}(\"name\"=>\"Term 7\",\"curriculum_items\"=>Any[Dict{String,Any}(\"curriculum_requisites\"=>Any[],\"name\"=>\" \",\"metrics\"=>Dict{String,Any}(\"complexity\"=>1.0,\"centrality\"=>0,\"blocking factor\"=>0,\"delay factor\"=>1.0),\"canonical_name\"=>\"\",\"nameSub\"=>\"Outside Tech. Elective\",\"id\"=>2281305921937565035,\"num\"=>\"\",\"credits\"=>3,\"institution\"=>\"\",\"prefix\"=>\"\"…), Dict{String,Any}(\"curriculum_requisites\"=>Any[],\"name\"=>\" \",\"metrics\"=>Dict{String,Any}(\"complexity\"=>1.0,\"centrality\"=>0,\"blocking factor\"=>0,\"delay factor\"=>1.0),\"canonical_name\"=>\"\",\"nameSub\"=>\"Liberal Studies\",\"id\"=>1699551443070609335,\"num\"=>\"\",\"credits\"=>3,\"institution\"=>\"\",\"prefix\"=>\"\"…), Dict{String,Any}(\"curriculum_requisites\"=>Any[],\"name\"=>\" \",\"metrics\"=>Dict{String,Any}(\"complexity\"=>1.0,\"centrality\"=>0,\"blocking factor\"=>0,\"delay factor\"=>1.0),\"canonical_name\"=>\"\",\"nameSub\"=>\"ECE Elective\",\"id\"=>1575668531190766598,\"num\"=>\"\",\"credits\"=>3,\"institution\"=>\"\",\"prefix\"=>\"\"…), Dict{String,Any}(\"curriculum_requisites\"=>Any[],\"name\"=>\" \",\"metrics\"=>Dict{String,Any}(\"complexity\"=>1.0,\"centrality\"=>0,\"blocking factor\"=>0,\"delay factor\"=>1.0),\"canonical_name\"=>\"\",\"nameSub\"=>\"ECE Elective\",\"id\"=>1575668531190766598,\"num\"=>\"\",\"credits\"=>3,\"institution\"=>\"\",\"prefix\"=>\"\"…), Dict{String,Any}(\"curriculum_requisites\"=>Any[],\"name\"=>\" \",\"metrics\"=>Dict{String,Any}(\"complexity\"=>1.0,\"centrality\"=>0,\"blocking factor\"=>0,\"delay factor\"=>1.0),\"canonical_name\"=>\"\",\"nameSub\"=>\"ECE Elective\",\"id\"=>1575668531190766598,\"num\"=>\"\",\"credits\"=>3,\"institution\"=>\"\",\"prefix\"=>\"\"…), Dict{String,Any}(\"curriculum_requisites\"=>Any[],\"name\"=>\" \",\"metrics\"=>Dict{String,Any}(\"complexity\"=>1.0,\"centrality\"=>0,\"blocking factor\"=>0,\"delay factor\"=>1.0),\"canonical_name\"=>\"\",\"nameSub\"=>\"Liberal Studies\",\"id\"=>1699551443070609335,\"num\"=>\"\",\"credits\"=>3,\"institution\"=>\"\",\"prefix\"=>\"\"…)],\"id\"=>7)],\"CIP\"=>\"26.0101\",\"id\"=>1251559464807800872,\"institution\"=>\"\")), nothing)), Set(String[]), nothing, Any[], Dict{Any,Any}(), WebIO.ConnectionPool(Channel{Any}(sz_max:9223372036854775807,sz_curr:0), Set(WebIO.AbstractConnection[]), Channel{WebIO.AbstractConnection}(sz_max:32,sz_curr:0)))"
      ]
     },
     "execution_count": 4,
     "metadata": {
      "application/vnd.webio.node+json": {
       "kernelId": "fb54fe9e-29d0-4f12-9136-d6aa28e0c927"
      }
     },
     "output_type": "execute_result"
    },
    {
     "name": "stderr",
     "output_type": "stream",
     "text": [
      "┌ Info: Accept (7):  🔗    0↑     0↓    0s 127.0.0.1:8156:8156 ≣16\n",
      "└ @ HTTP.Servers C:\\Users\\orhan\\.julia\\packages\\HTTP\\YjRCz\\src\\Servers.jl:343\n",
      "┌ Info: Accept (8):  🔗    0↑     0↓    0s 127.0.0.1:8156:8156 ≣16\n",
      "└ @ HTTP.Servers C:\\Users\\orhan\\.julia\\packages\\HTTP\\YjRCz\\src\\Servers.jl:343\n",
      "┌ Info: Accept (9):  🔗    0↑     0↓    0s 127.0.0.1:8156:8156 ≣16\n",
      "└ @ HTTP.Servers C:\\Users\\orhan\\.julia\\packages\\HTTP\\YjRCz\\src\\Servers.jl:343\n",
      "┌ Info: Accept (10):  🔗    0↑     0↓    0s 127.0.0.1:8156:8156 ≣16\n",
      "└ @ HTTP.Servers C:\\Users\\orhan\\.julia\\packages\\HTTP\\YjRCz\\src\\Servers.jl:343\n",
      "┌ Info: Accept (11):  🔗    0↑     0↓    0s 127.0.0.1:8156:8156 ≣16\n",
      "└ @ HTTP.Servers C:\\Users\\orhan\\.julia\\packages\\HTTP\\YjRCz\\src\\Servers.jl:343\n"
     ]
    },
    {
     "name": "stdout",
     "output_type": "stream",
     "text": [
      "new_data\n",
      "new_data\n",
      "new_data\n"
     ]
    },
    {
     "name": "stderr",
     "output_type": "stream",
     "text": [
      "┌ Info: Closed (8):  💀    0↑     0↓🔒  12s 127.0.0.1:8156:8156 ≣16\n",
      "└ @ HTTP.Servers C:\\Users\\orhan\\.julia\\packages\\HTTP\\YjRCz\\src\\Servers.jl:351\n",
      "┌ Info: Closed (10):  💀    0↑     0↓🔒  12s 127.0.0.1:8156:8156 ≣16\n",
      "└ @ HTTP.Servers C:\\Users\\orhan\\.julia\\packages\\HTTP\\YjRCz\\src\\Servers.jl:351\n",
      "┌ Info: Closed (11):  💀    0↑     0↓🔒  12s 127.0.0.1:8156:8156 ≣16\n",
      "└ @ HTTP.Servers C:\\Users\\orhan\\.julia\\packages\\HTTP\\YjRCz\\src\\Servers.jl:351\n",
      "┌ Info: Closed (9):  💀    0↑     0↓🔒  12s 127.0.0.1:8156:8156 ≣16\n",
      "└ @ HTTP.Servers C:\\Users\\orhan\\.julia\\packages\\HTTP\\YjRCz\\src\\Servers.jl:351\n",
      "┌ Info: Closed (7):  💀    5↑     5↓🔒 331s 127.0.0.1:8156:8156 ≣16\n",
      "└ @ HTTP.Servers C:\\Users\\orhan\\.julia\\packages\\HTTP\\YjRCz\\src\\Servers.jl:351\n"
     ]
    }
   ],
   "source": [
    "#Activate CurricularAnalytics package and add it\n",
    "if split(pwd(),Base.Filesystem.path_separator)[end] != \"CurricularAnalytics.jl\"\n",
    "    cd(\"../..\")\n",
    "end\n",
    "println(\"Current directory: \" * split(pwd(),\"\\\\\")[end])\n",
    "using Pkg\n",
    "pkg\"activate .\"\n",
    "using CurricularAnalytics\n",
    "\n",
    "#read Classes from csv file and return list of classes and create curriculum\n",
    "c, _ = read_csv(\"examples/CornellECECources.csv\")\n",
    "curric = Curriculum(\"University of Houston EE Program\", c)\n",
    "#calculate complexity to order courses\n",
    "complexity(curric)\n",
    "#Get indexes of cources after sorting according to the complexity score\n",
    "sorted_index = sortperm(curric.metrics[\"complexity\"][2], rev=true)\n",
    "#Input maximum credit allowed each term (in UKY it is 19)\n",
    "max_credits_per_term  = 19\n",
    "#total number of credits\n",
    "curric_total_credit=total_credits(curric)\n",
    "println(curric_total_credit)\n",
    "#to round to upper limit \n",
    "min_term =floor(Int, (curric_total_credit + max_credits_per_term  - 1)/max_credits_per_term )\n",
    "println(\"Minimum of $min_term terms needed to complete this curriculum\")\n",
    "#Get optimum terms according to the req\n",
    "dp = create_degree_plan(\"Cornell EE Program 4-year Plan\", curric,\n",
    "    bin_packing,min_terms=min_term,max_credits_per_term=max_credits_per_term)\n",
    "\n",
    "# Output degree plan\n",
    "errors = IOBuffer()\n",
    "if isvalid_curriculum(curric, errors)\n",
    "    println(\"Curriculum $(curric.name) is valid\")\n",
    "    println(\"  delay factor = $(delay_factor(curric))\")\n",
    "    println(\"  blocking factor = $(blocking_factor(curric))\")\n",
    "    println(\"  centrality factor = $(centrality(curric))\")\n",
    "    println(\"  curricular complexity = $(complexity(curric))\")\n",
    "    take!(errors) # clear the IO buffer\n",
    "    if isvalid_degree_plan(dp, errors)\n",
    "        println(\"Degree plan $(dp.name) is valid\")\n",
    "    else\n",
    "        println(\"Degree plan $(dp.name) is not valid:\")\n",
    "        print(String(take!(errors)))\n",
    "        println(\"\\nDiplaying degree plan for debugging purposes...\")\n",
    "    end\n",
    "    visualize(dp, changed = function (new_data) println(\"new_data\")end,notebook=true, edit=true)\n",
    "\n",
    "else # invalid curriculum\n",
    "    println(\"Curriculum $(curric.name) is not valid:\")\n",
    "    print(String(take!(errors)))\n",
    "end"
   ]
  },
  {
   "cell_type": "code",
   "execution_count": null,
   "metadata": {
    "collapsed": true
   },
   "outputs": [],
   "source": []
  }
 ],
 "metadata": {
  "@webio": {
   "lastCommId": "A07EF355D63541BA9E863B22A54505BD",
   "lastKernelId": "fb54fe9e-29d0-4f12-9136-d6aa28e0c927"
  },
  "kernelspec": {
   "display_name": "Julia 1.0.1",
   "language": "julia",
   "name": "julia-1.0"
  },
  "language_info": {
   "file_extension": ".jl",
   "mimetype": "application/julia",
   "name": "julia",
   "version": "1.0.1"
  }
 },
 "nbformat": 4,
 "nbformat_minor": 2
}

{
 "cells": [
  {
   "cell_type": "markdown",
   "metadata": {},
   "source": [
    "# Adapting EE curricula to Incomimg Student Preparation \n",
    "\n",
    "This notebook analyzes, at a fundamental level, the curricular reforms implemented by the College of Engineering at Wright St. University.  This analysis is specific to the Electrical Engineering (EE) program, and is broadly applicable to EE undergraduate programs at any institution. \n",
    "\n",
    "To learn more about the reforms implemented at Wright St. University, see:\n",
    "The Wright State Model for Engineering Mathematics Education: Longitu- dinal Impact on Initially Underprepared Students\n",
    "https://www.google.com/url?sa=t&rct=j&q=&esrc=s&source=web&cd=5&ved=2ahUKEwj9iK6alvjfAhWFc98KHa8IACMQFjAEegQIARAC&url=https%3A%2F%2Fwww.asee.org%2Fpublic%2Fconferences%2F56%2Fpapers%2F13229%2Fdownload&usg=AOvVaw1YuU6uySDzLC_5PjiSo7ci\n",
    "\n",
    "First, let's take care of the things that allow you to use the CurricularAnalytics.jl toolbox."
   ]
  },
  {
   "cell_type": "code",
   "execution_count": 1,
   "metadata": {},
   "outputs": [
    {
     "name": "stderr",
     "output_type": "stream",
     "text": [
      "┌ Info: Recompiling stale cache file /Users/orhanabar/.julia/compiled/v1.0/CurricularAnalytics/pJfqI.ji for CurricularAnalytics [593ffa3d-269e-5d81-88bc-c3b6809c35a6]\n",
      "└ @ Base loading.jl:1190\n",
      "WARNING: could not import Base.quit into AtomShell\n"
     ]
    },
    {
     "data": {
      "text/html": [
       "    <script class='js-collapse-script'>\n",
       "        var curMatch =\n",
       "            window.location.href\n",
       "            .match(/(.*?)\\/notebooks\\/.*\\.ipynb/);\n",
       "\n",
       "        curMatch = curMatch ||\n",
       "            window.location.href\n",
       "            .match(/(.*?)\\/apps\\/.*\\.ipynb/);\n",
       "\n",
       "        if ( curMatch ) {\n",
       "            $('head').append('<base href=\"' + curMatch[1] + '/\">');\n",
       "        }\n",
       "    </script>\n"
      ],
      "text/plain": [
       "HTML{String}(\"    <script class='js-collapse-script'>\\n        var curMatch =\\n            window.location.href\\n            .match(/(.*?)\\\\/notebooks\\\\/.*\\\\.ipynb/);\\n\\n        curMatch = curMatch ||\\n            window.location.href\\n            .match(/(.*?)\\\\/apps\\\\/.*\\\\.ipynb/);\\n\\n        if ( curMatch ) {\\n            \\$('head').append('<base href=\\\"' + curMatch[1] + '/\\\">');\\n        }\\n    </script>\\n\")"
      ]
     },
     "metadata": {},
     "output_type": "display_data"
    },
    {
     "data": {
      "text/html": [
       "<script class='js-collapse-script' src='/assetserver/915ec9b1c760b4a55fdcd04339125526a31beda4-assets/webio/dist/bundle.js'></script>"
      ],
      "text/plain": [
       "HTML{String}(\"<script class='js-collapse-script' src='/assetserver/915ec9b1c760b4a55fdcd04339125526a31beda4-assets/webio/dist/bundle.js'></script>\")"
      ]
     },
     "metadata": {},
     "output_type": "display_data"
    },
    {
     "data": {
      "text/html": [
       "<script class='js-collapse-script' src='/assetserver/915ec9b1c760b4a55fdcd04339125526a31beda4-assets/providers/ijulia_setup.js'></script>"
      ],
      "text/plain": [
       "HTML{String}(\"<script class='js-collapse-script' src='/assetserver/915ec9b1c760b4a55fdcd04339125526a31beda4-assets/providers/ijulia_setup.js'></script>\")"
      ]
     },
     "metadata": {},
     "output_type": "display_data"
    },
    {
     "data": {
      "text/html": [
       "  <script class='js-collapse-script'>\n",
       "    $('.js-collapse-script').parent('.output_subarea').css('padding', '0');\n",
       "  </script>\n"
      ],
      "text/plain": [
       "HTML{String}(\"  <script class='js-collapse-script'>\\n    \\$('.js-collapse-script').parent('.output_subarea').css('padding', '0');\\n  </script>\\n\")"
      ]
     },
     "metadata": {},
     "output_type": "display_data"
    }
   ],
   "source": [
    "if split(pwd(), Base.Filesystem.path_separator)[end] != \"CurricularAnalytics.jl\"\n",
    "    cd(\"../../..\")\n",
    "end\n",
    "using Pkg\n",
    "pkg\"activate .\"    \n",
    "using CurricularAnalytics"
   ]
  },
  {
   "cell_type": "markdown",
   "metadata": {},
   "source": [
    "Let's first consider a few electrical engineering curricula."
   ]
  },
  {
   "cell_type": "code",
   "execution_count": null,
   "metadata": {
    "scrolled": false
   },
   "outputs": [],
   "source": [
    "include(\"./examples/notebooks/WrightSt-Reform/UH_EE_curric.jl\")\n",
    "visualize(dp; notebook=true)"
   ]
  },
  {
   "cell_type": "code",
   "execution_count": null,
   "metadata": {
    "scrolled": false
   },
   "outputs": [],
   "source": [
    "include(\"./examples/notebooks/WrightSt-Reform/Cornell_EE_curric.jl\")\n",
    "visualize(dp; notebook=true)"
   ]
  },
  {
   "cell_type": "code",
   "execution_count": null,
   "metadata": {},
   "outputs": [],
   "source": [
    "dp = read_csv(\"./examples/Notebooks/WrightSt-Reform/EE-CalculusReady.csv\")"
   ]
  },
  {
   "cell_type": "markdown",
   "metadata": {},
   "source": [
    "## Analyzing the Complexity of a Curriculum\n",
    "The following command will analyze the complexity of the curriculum associated with the degree plan object that we just created.  To learn more about **curricular complexity**, see:"
   ]
  },
  {
   "cell_type": "code",
   "execution_count": null,
   "metadata": {},
   "outputs": [],
   "source": [
    "complexity(dp.curriculum)"
   ]
  },
  {
   "cell_type": "markdown",
   "metadata": {},
   "source": []
  },
  {
   "cell_type": "code",
   "execution_count": null,
   "metadata": {},
   "outputs": [],
   "source": [
    "visualize(dp; notebook=true, scale=0.5)"
   ]
  },
  {
   "cell_type": "markdown",
   "metadata": {},
   "source": [
    "### Analyzing the Curricular Design Pattern\n",
    "\n",
    "#### The pattern for Calculus I ready students. \n",
    "In the design pattern displayed above, for an electrical engineering program, notice that the assumption is that students enter Calculus I ready, and that if they are able to successfully complete all of the prerequisite courses, they will be able to take Circuits I (a foundational electrical engineering course) in the second semester of their sophomore year. Notice that the overall curricular complexity of this design pattern is ?.\n",
    "\n",
    "#### The pattern for Precalculus ready students.\n",
    "Now let's look at what happens to students who are not Calculus I ready when they enter the institution -- let's assume instead that they are Precalculus ready.  The curricular complexity increases to ?."
   ]
  },
  {
   "cell_type": "code",
   "execution_count": null,
   "metadata": {
    "scrolled": false
   },
   "outputs": [],
   "source": [
    "dp = read_csv(\"./examples/Notebooks/WrightSt-Reform/EE-PrecalculusReady.csv\")\n",
    "complexity(dp.curriculum)\n",
    "visualize(dp; notebook=true)"
   ]
  },
  {
   "cell_type": "markdown",
   "metadata": {},
   "source": [
    "#### The pattern for College Algebra ready students.\n",
    "Now let's look at what happens to students who are not Precalculus ready when they enter the institution -- let's assume instead that they are College Algebra ready. Notice that the longest path through the design pattern is growing, and that due to the prerequisite structure there is limited opportunity to move courses around.  The curricular complexity is now ?. "
   ]
  },
  {
   "cell_type": "code",
   "execution_count": null,
   "metadata": {},
   "outputs": [],
   "source": [
    "dp = read_csv(\"./examples/Notebooks/WrightSt-Reform/EE-AlgebraReady.csv\")\n",
    "complexity(dp.curriculum)\n",
    "visualize(dp; notebook=true)"
   ]
  },
  {
   "cell_type": "markdown",
   "metadata": {},
   "source": [
    "#### The pattern for Foundational Math students\n",
    "Finally let's look at what happens to students who enter the institution starting with Foundational Math.  The curricular complexity is now ?. "
   ]
  },
  {
   "cell_type": "code",
   "execution_count": null,
   "metadata": {},
   "outputs": [],
   "source": [
    "dp = read_csv(\"./examples/Notebooks/WrightSt-Reform/EE-FoundationalMath.csv\")\n",
    "complexity(dp.curriculum)\n",
    "visualize(dp; notebook=true)"
   ]
  },
  {
   "cell_type": "markdown",
   "metadata": {},
   "source": [
    "### Wright State University Reform\n",
    "A reformed curriculum was implemented at Wright State University.  The key factor enabling this innovation is that fact that a typical Circuits I course only requires the ability to solve first order differential equations, and that it's possible to teach basic concepts regarding first order differential equations, as well as solution techniques, to students prior to taking Calculus I.  At Wright State University, this knowledge is imparted in the Engineering 101 class in the very first semester.  Here's what the reformed curriculum looks like:"
   ]
  },
  {
   "cell_type": "code",
   "execution_count": null,
   "metadata": {},
   "outputs": [],
   "source": [
    "dp = read_csv(\"./examples/Notebooks/WrightSt-Reform/EE-Reformed.csv\")\n",
    "complexity(dp.curriculum)\n",
    "visualize(dp; notebook=true)"
   ]
  }
 ],
 "metadata": {
  "@webio": {
   "lastCommId": "d92a46d85fb44bc0a95dd26d5ad8c735",
   "lastKernelId": "192faf43-899b-418b-bca8-48820fd82607"
  },
  "kernelspec": {
   "display_name": "Julia 1.0.3",
   "language": "julia",
   "name": "julia-1.0"
  },
  "language_info": {
   "file_extension": ".jl",
   "mimetype": "application/julia",
   "name": "julia",
   "version": "1.0.3"
  }
 },
 "nbformat": 4,
 "nbformat_minor": 2
}

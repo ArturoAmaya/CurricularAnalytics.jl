{
 "cells": [
  {
   "cell_type": "code",
   "execution_count": 1,
   "metadata": {},
   "outputs": [
    {
     "name": "stderr",
     "output_type": "stream",
     "text": [
      "┌ Info: Recompiling stale cache file C:\\Users\\orhan\\.julia\\compiled\\v1.0\\CurricularAnalytics\\KKMY9.ji for CurricularAnalytics [b915a5b0-c40e-11e8-3dab-39a55ab5c2f7]\n",
      "└ @ Base loading.jl:1187\n"
     ]
    },
    {
     "data": {
      "text/html": [
       "    <script id=\"webio-setup-11737476965535627185\">\n",
       "    // Immediately-invoked-function-expression to avoid global variables.\n",
       "    (function() {\n",
       "        var warning_div = document.getElementById(\"webio-warning-13963898704595461635\");\n",
       "        var hide = function () {\n",
       "            var script = document.getElementById(\"webio-setup-11737476965535627185\");\n",
       "            var parent = script && script.parentElement;\n",
       "            var grandparent = parent && parent.parentElement;\n",
       "            if (grandparent) {\n",
       "                grandparent.style.display = \"none\";\n",
       "            }\n",
       "            warning_div.style.display = \"none\";\n",
       "        };\n",
       "        if (window.require && require.defined) {\n",
       "            // Jupyter notebook.\n",
       "            if (require.defined(\"nbextensions/webio/main\")\n",
       "                    || require.defined(\"/assetserver/15060f7913bd455b6698e8bd1357ce9c6553b0bb-dist/main.js\")) {\n",
       "                // Extension already loaded.\n",
       "                hide();\n",
       "                return;\n",
       "            }\n",
       "            console.warn(\"Loading WebIO Jupyter extension on an ad-hoc basis. Consider enabling the WebIO nbextension for a stabler experience (this should happen automatically when building WebIO).\");\n",
       "            require([\"/assetserver/15060f7913bd455b6698e8bd1357ce9c6553b0bb-dist/main.js\"], function (webIOModule) {\n",
       "                webIOModule.load_ipython_extension();\n",
       "            });\n",
       "            warning_div.innerHTML = \"<strong>Loading WebIO Jupyter extension on an ad-hoc basis. Consider enabling the WebIO nbextension for a stabler experience (this should happen automatically when building WebIO).</strong>\";\n",
       "        } else if (window.location.pathname.includes(\"/lab\")) {\n",
       "            // Guessing JupyterLab\n",
       "            warning_div.innerHTML = \"WebIO does not support JupyterLab yet.\";\n",
       "        }\n",
       "    })();\n",
       "    </script>\n",
       "    <div\n",
       "        id=\"webio-warning-13963898704595461635\"\n",
       "        class=\"output_text output_stderr\"\n",
       "        style=\"padding: 1em; font-weight: bold;\"\n",
       "    >\n",
       "        Unable to load WebIO. Please make sure WebIO works for your Jupyter client.\n",
       "        <!-- TODO: link to installation docs. -->\n",
       "    </div>\n"
      ],
      "text/plain": [
       "HTML{String}(\"    <script id=\\\"webio-setup-11737476965535627185\\\">\\n    // Immediately-invoked-function-expression to avoid global variables.\\n    (function() {\\n        var warning_div = document.getElementById(\\\"webio-warning-13963898704595461635\\\");\\n        var hide = function () {\\n            var script = document.getElementById(\\\"webio-setup-11737476965535627185\\\");\\n            var parent = script && script.parentElement;\\n            var grandparent = parent && parent.parentElement;\\n            if (grandparent) {\\n                grandparent.style.display = \\\"none\\\";\\n            }\\n            warning_div.style.display = \\\"none\\\";\\n        };\\n        if (window.require && require.defined) {\\n            // Jupyter notebook.\\n            if (require.defined(\\\"nbextensions/webio/main\\\")\\n                    || require.defined(\\\"/assetserver/15060f7913bd455b6698e8bd1357ce9c6553b0bb-dist/main.js\\\")) {\\n                // Extension already loaded.\\n                hide();\\n                return;\\n            }\\n            console.warn(\\\"Loading WebIO Jupyter extension on an ad-hoc basis. Consider enabling the WebIO nbextension for a stabler experience (this should happen automatically when building WebIO).\\\");\\n            require([\\\"/assetserver/15060f7913bd455b6698e8bd1357ce9c6553b0bb-dist/main.js\\\"], function (webIOModule) {\\n                webIOModule.load_ipython_extension();\\n            });\\n            warning_div.innerHTML = \\\"<strong>Loading WebIO Jupyter extension on an ad-hoc basis. Consider enabling the WebIO nbextension for a stabler experience (this should happen automatically when building WebIO).</strong>\\\";\\n        } else if (window.location.pathname.includes(\\\"/lab\\\")) {\\n            // Guessing JupyterLab\\n            warning_div.innerHTML = \\\"WebIO does not support JupyterLab yet.\\\";\\n        }\\n    })();\\n    </script>\\n    <div\\n        id=\\\"webio-warning-13963898704595461635\\\"\\n        class=\\\"output_text output_stderr\\\"\\n        style=\\\"padding: 1em; font-weight: bold;\\\"\\n    >\\n        Unable to load WebIO. Please make sure WebIO works for your Jupyter client.\\n        <!-- TODO: link to installation docs. -->\\n    </div>\\n\")"
      ]
     },
     "metadata": {},
     "output_type": "display_data"
    },
    {
     "name": "stdout",
     "output_type": "stream",
     "text": [
      "Curriculum Underwater Basket Weaving is valid\n",
      "  delay factor = (80.0, [1.0, 5.0, 1.0, 1.0, 1.0, 5.0, 4.0, 3.0, 1.0, 1.0, 5.0, 4.0, 5.0, 3.0, 1.0, 4.0, 3.0, 4.0, 4.0, 1.0, 1.0, 1.0, 2.0, 5.0, 1.0, 1.0, 1.0, 1.0, 1.0, 1.0, 1.0, 1.0, 1.0, 1.0, 1.0, 1.0, 1.0, 1.0])\n",
      "  blocking factor = (37, [0, 10, 0, 0, 0, 4, 8, 3, 0, 0, 3, 4, 1, 1, 0, 0, 2, 0, 1, 0, 0, 0, 0, 0, 0, 0, 0, 0, 0, 0, 0, 0, 0, 0, 0, 0, 0, 0])\n",
      "  centrality factor = (102, [0, 0, 0, 0, 0, 9, 28, 0, 0, 0, 18, 14, 15, 3, 0, 0, 5, 0, 10, 0, 0, 0, 0, 0, 0, 0, 0, 0, 0, 0, 0, 0, 0, 0, 0, 0, 0, 0])\n",
      "  curricular complexity = (117.0, Number[1.0, 15.0, 1.0, 1.0, 1.0, 9.0, 12.0, 6.0, 1.0, 1.0, 8.0, 8.0, 6.0, 4.0, 1.0, 4.0, 5.0, 4.0, 5.0, 1.0, 1.0, 1.0, 2.0, 5.0, 1.0, 1.0, 1.0, 1.0, 1.0, 1.0, 1.0, 1.0, 1.0, 1.0, 1.0, 1.0, 1.0, 1.0])\n",
      "Degree plan MyPlan is not valid:\n",
      "\n",
      "-Course 1st Yr Writing Seminar is listed multiple times in degree plan\n",
      "-Course PE is listed multiple times in degree plan\n",
      "-Course Liberal Studies is listed multiple times in degree plan\n",
      "-Course Liberal Studies is listed multiple times in degree plan\n",
      "-Course ECE Foundations is listed multiple times in degree plan\n",
      "-Course ECE Foundations is listed multiple times in degree plan\n",
      "-Course Outside Tech. Elective is listed multiple times in degree plan\n",
      "-Course Elective is listed multiple times in degree plan\n",
      "-Course Liberal Studies is listed multiple times in degree plan\n",
      "-Course Outside Tech. Elective is listed multiple times in degree plan\n",
      "-Course Liberal Studies is listed multiple times in degree plan\n",
      "-Course ECE Elective is listed multiple times in degree plan\n",
      "-Course ECE Elective is listed multiple times in degree plan\n",
      "-Course ECE Elective is listed multiple times in degree plan\n",
      "-Course Liberal Studies is listed multiple times in degree plan\n",
      "Diplaying degree plan for debugging purposes...\n"
     ]
    },
    {
     "data": {
      "application/vnd.webio.node+json": {
       "children": [
        {
         "children": [
          ""
         ],
         "instanceArgs": {
          "namespace": "html",
          "tag": "iframe"
         },
         "nodeType": "DOM",
         "props": {
          "events": {
           "load": "(function (){this.contentWindow.postMessage({\"curriculum\":{\"name\":\"MyPlan\",\"curriculum_terms\":[{\"name\":\"Term 1\",\"curriculum_items\":[{\"curriculum_requisites\":[],\"name\":\"CHEM 2090\",\"metrics\":{\"centrality\":0,\"complexity\":1.0,\"blocking factor\":0,\"delay factor\":1.0},\"nameSub\":\"CHEM 2090\",\"id\":712321689191628892,\"num\":\"2090\",\"credits\":3,\"prefix\":\"CHEM\"},{\"curriculum_requisites\":[],\"name\":\"MATH 1910\",\"metrics\":{\"centrality\":0,\"complexity\":15.0,\"blocking factor\":10,\"delay factor\":5.0},\"nameSub\":\"MATH 1910\",\"id\":4248919933258379146,\"num\":\"1910\",\"credits\":3,\"prefix\":\"MATH\"},{\"curriculum_requisites\":[],\"name\":\"ENGRI 1xxx\",\"metrics\":{\"centrality\":0,\"complexity\":1.0,\"blocking factor\":0,\"delay factor\":1.0},\"nameSub\":\"ENGRI 1xxx\",\"id\":5805080075235225040,\"num\":\"1xxx\",\"credits\":3,\"prefix\":\"ENGRI\"},{\"curriculum_requisites\":[],\"name\":\" \",\"metrics\":{\"centrality\":0,\"complexity\":1.0,\"blocking factor\":0,\"delay factor\":1.0},\"nameSub\":\"1st Yr Writing Seminar\",\"id\":777522438065076985,\"num\":\"\",\"credits\":3,\"prefix\":\"\"},{\"curriculum_requisites\":[],\"name\":\" \",\"metrics\":{\"centrality\":0,\"complexity\":1.0,\"blocking factor\":0,\"delay factor\":1.0},\"nameSub\":\"PE\",\"id\":6279884658628502318,\"num\":\"\",\"credits\":3,\"prefix\":\"\"}],\"id\":1},{\"name\":\"Term 2\",\"curriculum_items\":[{\"curriculum_requisites\":[{\"source_id\":4248919933258379146,\"target_id\":2677076278178033404,\"type\":\"strict-coreq\"}],\"name\":\"PHYS 1112\",\"metrics\":{\"centrality\":9,\"complexity\":9.0,\"blocking factor\":4,\"delay factor\":5.0},\"nameSub\":\"PHYS 1112\",\"id\":2677076278178033404,\"num\":\"1112\",\"credits\":3,\"prefix\":\"PHYS\"},{\"curriculum_requisites\":[{\"source_id\":4248919933258379146,\"target_id\":1443075937562850344,\"type\":\"strict-coreq\"}],\"name\":\"MATH 1920\",\"metrics\":{\"centrality\":28,\"complexity\":12.0,\"blocking factor\":8,\"delay factor\":4.0},\"nameSub\":\"MATH 1920\",\"id\":1443075937562850344,\"num\":\"1920\",\"credits\":3,\"prefix\":\"MATH\"},{\"curriculum_requisites\":[],\"name\":\"CS 111x\",\"metrics\":{\"centrality\":0,\"complexity\":6.0,\"blocking factor\":3,\"delay factor\":3.0},\"nameSub\":\"CS 111x\",\"id\":1676347194625955089,\"num\":\"111x\",\"credits\":3,\"prefix\":\"CS\"},{\"curriculum_requisites\":[],\"name\":\" \",\"metrics\":{\"centrality\":0,\"complexity\":1.0,\"blocking factor\":0,\"delay factor\":1.0},\"nameSub\":\"1st Yr Writing Seminar\",\"id\":777522438065076985,\"num\":\"\",\"credits\":3,\"prefix\":\"\"},{\"curriculum_requisites\":[],\"name\":\" \",\"metrics\":{\"centrality\":0,\"complexity\":1.0,\"blocking factor\":0,\"delay factor\":1.0},\"nameSub\":\"PE\",\"id\":6279884658628502318,\"num\":\"\",\"credits\":3,\"prefix\":\"\"}],\"id\":2},{\"name\":\"Term 3\",\"curriculum_items\":[{\"curriculum_requisites\":[{\"source_id\":2677076278178033404,\"target_id\":3245638716681957412,\"type\":\"strict-coreq\"},{\"source_id\":1443075937562850344,\"target_id\":3245638716681957412,\"type\":\"strict-coreq\"}],\"name\":\"PHYS 2213\",\"metrics\":{\"centrality\":18,\"complexity\":8.0,\"blocking factor\":3,\"delay factor\":5.0},\"nameSub\":\"PHYS 2213\",\"id\":3245638716681957412,\"num\":\"2213\",\"credits\":3,\"prefix\":\"PHYS\"},{\"curriculum_requisites\":[{\"source_id\":1443075937562850344,\"target_id\":8711797929341128496,\"type\":\"strict-coreq\"}],\"name\":\"MATH 2930\",\"metrics\":{\"centrality\":14,\"complexity\":8.0,\"blocking factor\":4,\"delay factor\":4.0},\"nameSub\":\"MATH 2930\",\"id\":8711797929341128496,\"num\":\"2930\",\"credits\":3,\"prefix\":\"MATH\"},{\"curriculum_requisites\":[{\"source_id\":3245638716681957412,\"target_id\":6807418853032993127,\"type\":\"strict-coreq\"},{\"source_id\":8711797929341128496,\"target_id\":6807418853032993127,\"type\":\"strict-coreq\"}],\"name\":\"ECE/ENGRD 2100\",\"metrics\":{\"centrality\":15,\"complexity\":6.0,\"blocking factor\":1,\"delay factor\":5.0},\"nameSub\":\"ECE/ENGRD 2100\",\"id\":6807418853032993127,\"num\":\"2100\",\"credits\":3,\"prefix\":\"ECE/ENGRD\"},{\"curriculum_requisites\":[{\"source_id\":1676347194625955089,\"target_id\":6888752060905037869,\"type\":\"strict-coreq\"}],\"name\":\"MECE/ENGRD 2300\",\"metrics\":{\"centrality\":3,\"complexity\":4.0,\"blocking factor\":1,\"delay factor\":3.0},\"nameSub\":\"MECE/ENGRD 2300\",\"id\":6888752060905037869,\"num\":\"2300\",\"credits\":3,\"prefix\":\"MECE/ENGRD\"},{\"curriculum_requisites\":[],\"name\":\" \",\"metrics\":{\"centrality\":0,\"complexity\":1.0,\"blocking factor\":0,\"delay factor\":1.0},\"nameSub\":\"Liberal Studies\",\"id\":8606865612037434001,\"num\":\"\",\"credits\":3,\"prefix\":\"\"}],\"id\":3},{\"name\":\"Term 4\",\"curriculum_items\":[{\"curriculum_requisites\":[{\"source_id\":8711797929341128496,\"target_id\":7024488469082603453,\"type\":\"strict-coreq\"}],\"name\":\"PHYS 2214\",\"metrics\":{\"centrality\":0,\"complexity\":4.0,\"blocking factor\":0,\"delay factor\":4.0},\"nameSub\":\"PHYS 2214\",\"id\":7024488469082603453,\"num\":\"2214\",\"credits\":3,\"prefix\":\"PHYS\"},{\"curriculum_requisites\":[{\"source_id\":1443075937562850344,\"target_id\":5940254218043227933,\"type\":\"strict-coreq\"}],\"name\":\"MATH 2940\",\"metrics\":{\"centrality\":5,\"complexity\":5.0,\"blocking factor\":2,\"delay factor\":3.0},\"nameSub\":\"MATH 2940\",\"id\":5940254218043227933,\"num\":\"2940\",\"credits\":3,\"prefix\":\"MATH\"},{\"curriculum_requisites\":[{\"source_id\":3245638716681957412,\"target_id\":2700866654363377980,\"type\":\"strict-coreq\"}],\"name\":\"ENGRD 2xxx\",\"metrics\":{\"centrality\":0,\"complexity\":4.0,\"blocking factor\":0,\"delay factor\":4.0},\"nameSub\":\"ENGRD 2xxx\",\"id\":2700866654363377980,\"num\":\"2xxx\",\"credits\":3,\"prefix\":\"ENGRD\"},{\"curriculum_requisites\":[{\"source_id\":8711797929341128496,\"target_id\":1147788349835837565,\"type\":\"strict-coreq\"},{\"source_id\":5940254218043227933,\"target_id\":1147788349835837565,\"type\":\"strict-coreq\"}],\"name\":\"ECE/ENGRD 2200/2220\",\"metrics\":{\"centrality\":10,\"complexity\":5.0,\"blocking factor\":1,\"delay factor\":4.0},\"nameSub\":\"ECE 2200/ENGRD 2220\",\"id\":1147788349835837565,\"num\":\"2200/2220\",\"credits\":3,\"prefix\":\"ECE/ENGRD\"},{\"curriculum_requisites\":[],\"name\":\" \",\"metrics\":{\"centrality\":0,\"complexity\":1.0,\"blocking factor\":0,\"delay factor\":1.0},\"nameSub\":\"Liberal Studies\",\"id\":8606865612037434001,\"num\":\"\",\"credits\":3,\"prefix\":\"\"}],\"id\":4},{\"name\":\"Term 5\",\"curriculum_items\":[{\"curriculum_requisites\":[],\"name\":\" \",\"metrics\":{\"centrality\":0,\"complexity\":1.0,\"blocking factor\":0,\"delay factor\":1.0},\"nameSub\":\"ECE Foundations\",\"id\":2913252156633997146,\"num\":\"\",\"credits\":3,\"prefix\":\"\"},{\"curriculum_requisites\":[],\"name\":\" \",\"metrics\":{\"centrality\":0,\"complexity\":1.0,\"blocking factor\":0,\"delay factor\":1.0},\"nameSub\":\"Elective\",\"id\":183678702440113467,\"num\":\"\",\"credits\":3,\"prefix\":\"\"},{\"curriculum_requisites\":[{\"source_id\":1676347194625955089,\"target_id\":5687808186827623114,\"type\":\"strict-coreq\"}],\"name\":\" \",\"metrics\":{\"centrality\":0,\"complexity\":2.0,\"blocking factor\":0,\"delay factor\":2.0},\"nameSub\":\"Outside Tech. Elective\",\"id\":5687808186827623114,\"num\":\"\",\"credits\":3,\"prefix\":\"\"},{\"curriculum_requisites\":[{\"source_id\":6807418853032993127,\"target_id\":3472071104686575331,\"type\":\"strict-coreq\"},{\"source_id\":1147788349835837565,\"target_id\":3472071104686575331,\"type\":\"strict-coreq\"},{\"source_id\":6888752060905037869,\"target_id\":3472071104686575331,\"type\":\"strict-coreq\"}],\"name\":\"ECE 3400\",\"metrics\":{\"centrality\":0,\"complexity\":5.0,\"blocking factor\":0,\"delay factor\":5.0},\"nameSub\":\"ECE 3400\",\"id\":3472071104686575331,\"num\":\"3400\",\"credits\":3,\"prefix\":\"ECE\"},{\"curriculum_requisites\":[],\"name\":\" \",\"metrics\":{\"centrality\":0,\"complexity\":1.0,\"blocking factor\":0,\"delay factor\":1.0},\"nameSub\":\"Liberal Studies\",\"id\":8606865612037434001,\"num\":\"\",\"credits\":3,\"prefix\":\"\"}],\"id\":5},{\"name\":\"Term 6\",\"curriculum_items\":[{\"curriculum_requisites\":[],\"name\":\" \",\"metrics\":{\"centrality\":0,\"complexity\":1.0,\"blocking factor\":0,\"delay factor\":1.0},\"nameSub\":\"ECE Foundations\",\"id\":2913252156633997146,\"num\":\"\",\"credits\":3,\"prefix\":\"\"},{\"curriculum_requisites\":[],\"name\":\" \",\"metrics\":{\"centrality\":0,\"complexity\":1.0,\"blocking factor\":0,\"delay factor\":1.0},\"nameSub\":\"ECE Foundations\",\"id\":2913252156633997146,\"num\":\"\",\"credits\":3,\"prefix\":\"\"},{\"curriculum_requisites\":[],\"name\":\" \",\"metrics\":{\"centrality\":0,\"complexity\":1.0,\"blocking factor\":0,\"delay factor\":1.0},\"nameSub\":\"Outside Tech. Elective\",\"id\":5687808186827623114,\"num\":\"\",\"credits\":3,\"prefix\":\"\"},{\"curriculum_requisites\":[],\"name\":\" \",\"metrics\":{\"centrality\":0,\"complexity\":1.0,\"blocking factor\":0,\"delay factor\":1.0},\"nameSub\":\"Elective\",\"id\":183678702440113467,\"num\":\"\",\"credits\":3,\"prefix\":\"\"},{\"curriculum_requisites\":[],\"name\":\" \",\"metrics\":{\"centrality\":0,\"complexity\":1.0,\"blocking factor\":0,\"delay factor\":1.0},\"nameSub\":\"Liberal Studies\",\"id\":8606865612037434001,\"num\":\"\",\"credits\":3,\"prefix\":\"\"}],\"id\":6},{\"name\":\"Term 7\",\"curriculum_items\":[{\"curriculum_requisites\":[],\"name\":\" \",\"metrics\":{\"centrality\":0,\"complexity\":1.0,\"blocking factor\":0,\"delay factor\":1.0},\"nameSub\":\"ECE Elective \",\"id\":6384455901711293898,\"num\":\"\",\"credits\":3,\"prefix\":\"\"},{\"curriculum_requisites\":[],\"name\":\" \",\"metrics\":{\"centrality\":0,\"complexity\":1.0,\"blocking factor\":0,\"delay factor\":1.0},\"nameSub\":\"ECE Elective\",\"id\":5875654048926114542,\"num\":\"\",\"credits\":3,\"prefix\":\"\"},{\"curriculum_requisites\":[],\"name\":\" \",\"metrics\":{\"centrality\":0,\"complexity\":1.0,\"blocking factor\":0,\"delay factor\":1.0},\"nameSub\":\"Outside Tech. Elective\",\"id\":5687808186827623114,\"num\":\"\",\"credits\":3,\"prefix\":\"\"},{\"curriculum_requisites\":[],\"name\":\" \",\"metrics\":{\"centrality\":0,\"complexity\":1.0,\"blocking factor\":0,\"delay factor\":1.0},\"nameSub\":\"Liberal Studies\",\"id\":8606865612037434001,\"num\":\"\",\"credits\":3,\"prefix\":\"\"}],\"id\":7},{\"name\":\"Term 8\",\"curriculum_items\":[{\"curriculum_requisites\":[],\"name\":\" \",\"metrics\":{\"centrality\":0,\"complexity\":1.0,\"blocking factor\":0,\"delay factor\":1.0},\"nameSub\":\"ECE Elective\",\"id\":5875654048926114542,\"num\":\"\",\"credits\":3,\"prefix\":\"\"},{\"curriculum_requisites\":[],\"name\":\" \",\"metrics\":{\"centrality\":0,\"complexity\":1.0,\"blocking factor\":0,\"delay factor\":1.0},\"nameSub\":\"ECE Elective\",\"id\":5875654048926114542,\"num\":\"\",\"credits\":3,\"prefix\":\"\"},{\"curriculum_requisites\":[],\"name\":\" \",\"metrics\":{\"centrality\":0,\"complexity\":1.0,\"blocking factor\":0,\"delay factor\":1.0},\"nameSub\":\"ECE Elective\",\"id\":5875654048926114542,\"num\":\"\",\"credits\":3,\"prefix\":\"\"},{\"curriculum_requisites\":[],\"name\":\" \",\"metrics\":{\"centrality\":0,\"complexity\":1.0,\"blocking factor\":0,\"delay factor\":1.0},\"nameSub\":\"Liberal Studies\",\"id\":8606865612037434001,\"num\":\"\",\"credits\":3,\"prefix\":\"\"}],\"id\":8}]}},\"*\"); window.removeEventListener(\"message\",window.messageReceived); window.messageReceived=(function (event){return (event.data.curriculum!==undefined) ? (_webIOScope.setObservableValue({\"name\":\"curriculum-data\",\"scope\":\"scope-539f3a0b-3e18-44cf-9968-f7e04ad43160\",\"id\":\"ob_01\",\"type\":\"observable\"},event.data.curriculum)) : undefined}); return window.addEventListener(\"message\",window.messageReceived)})"
          },
          "id": "curriculum",
          "src": "http://localhost:8156",
          "style": {
           "border": "none",
           "height": "100vh",
           "margin": "0",
           "padding": "0",
           "width": "100%"
          }
         },
         "type": "node"
        }
       ],
       "instanceArgs": {
        "handlers": {},
        "id": "scope-539f3a0b-3e18-44cf-9968-f7e04ad43160",
        "imports": {
         "data": [],
         "type": "async_block"
        },
        "observables": {
         "curriculum-data": {
          "id": "ob_01",
          "sync": true,
          "value": {
           "curriculum": {
            "curriculum_terms": [
             {
              "curriculum_items": [
               {
                "credits": 3,
                "curriculum_requisites": [],
                "id": 712321689191628900,
                "metrics": {
                 "blocking factor": 0,
                 "centrality": 0,
                 "complexity": 1,
                 "delay factor": 1
                },
                "name": "CHEM 2090",
                "nameSub": "CHEM 2090",
                "num": "2090",
                "prefix": "CHEM"
               },
               {
                "credits": 3,
                "curriculum_requisites": [],
                "id": 4248919933258379300,
                "metrics": {
                 "blocking factor": 10,
                 "centrality": 0,
                 "complexity": 15,
                 "delay factor": 5
                },
                "name": "MATH 1910",
                "nameSub": "MATH 1910",
                "num": "1910",
                "prefix": "MATH"
               },
               {
                "credits": 3,
                "curriculum_requisites": [],
                "id": 5805080075235225000,
                "metrics": {
                 "blocking factor": 0,
                 "centrality": 0,
                 "complexity": 1,
                 "delay factor": 1
                },
                "name": "ENGRI 1xxx",
                "nameSub": "ENGRI 1xxx",
                "num": "1xxx",
                "prefix": "ENGRI"
               },
               {
                "credits": 3,
                "curriculum_requisites": [],
                "id": 777522438065077000,
                "metrics": {
                 "blocking factor": 0,
                 "centrality": 0,
                 "complexity": 1,
                 "delay factor": 1
                },
                "name": " ",
                "nameSub": "1st Yr Writing Seminar",
                "num": "",
                "prefix": ""
               },
               {
                "credits": 3,
                "curriculum_requisites": [],
                "id": 6279884658628503000,
                "metrics": {
                 "blocking factor": 0,
                 "centrality": 0,
                 "complexity": 1,
                 "delay factor": 1
                },
                "name": " ",
                "nameSub": "PE",
                "num": "",
                "prefix": ""
               }
              ],
              "id": 1,
              "name": "Term 1"
             },
             {
              "curriculum_items": [
               {
                "credits": 3,
                "curriculum_requisites": [
                 {
                  "source_id": 4248919933258379300,
                  "target_id": 2677076278178033000,
                  "type": "strict-coreq"
                 }
                ],
                "id": 2677076278178033000,
                "metrics": {
                 "blocking factor": 4,
                 "centrality": 9,
                 "complexity": 9,
                 "delay factor": 5
                },
                "name": "PHYS 1112",
                "nameSub": "PHYS 1112",
                "num": "1112",
                "prefix": "PHYS"
               },
               {
                "credits": 3,
                "curriculum_requisites": [
                 {
                  "source_id": 4248919933258379300,
                  "target_id": 1443075937562850300,
                  "type": "strict-coreq"
                 }
                ],
                "id": 1443075937562850300,
                "metrics": {
                 "blocking factor": 8,
                 "centrality": 28,
                 "complexity": 12,
                 "delay factor": 4
                },
                "name": "MATH 1920",
                "nameSub": "MATH 1920",
                "num": "1920",
                "prefix": "MATH"
               },
               {
                "credits": 3,
                "curriculum_requisites": [],
                "id": 1676347194625955000,
                "metrics": {
                 "blocking factor": 3,
                 "centrality": 0,
                 "complexity": 6,
                 "delay factor": 3
                },
                "name": "CS 111x",
                "nameSub": "CS 111x",
                "num": "111x",
                "prefix": "CS"
               },
               {
                "credits": 3,
                "curriculum_requisites": [],
                "id": 777522438065077000,
                "metrics": {
                 "blocking factor": 0,
                 "centrality": 0,
                 "complexity": 1,
                 "delay factor": 1
                },
                "name": " ",
                "nameSub": "1st Yr Writing Seminar",
                "num": "",
                "prefix": ""
               },
               {
                "credits": 3,
                "curriculum_requisites": [],
                "id": 6279884658628503000,
                "metrics": {
                 "blocking factor": 0,
                 "centrality": 0,
                 "complexity": 1,
                 "delay factor": 1
                },
                "name": " ",
                "nameSub": "PE",
                "num": "",
                "prefix": ""
               }
              ],
              "id": 2,
              "name": "Term 2"
             },
             {
              "curriculum_items": [
               {
                "credits": 3,
                "curriculum_requisites": [
                 {
                  "source_id": 2677076278178033000,
                  "target_id": 3245638716681957400,
                  "type": "strict-coreq"
                 },
                 {
                  "source_id": 1443075937562850300,
                  "target_id": 3245638716681957400,
                  "type": "strict-coreq"
                 }
                ],
                "id": 3245638716681957400,
                "metrics": {
                 "blocking factor": 3,
                 "centrality": 18,
                 "complexity": 8,
                 "delay factor": 5
                },
                "name": "PHYS 2213",
                "nameSub": "PHYS 2213",
                "num": "2213",
                "prefix": "PHYS"
               },
               {
                "credits": 3,
                "curriculum_requisites": [
                 {
                  "source_id": 1443075937562850300,
                  "target_id": 8711797929341129000,
                  "type": "strict-coreq"
                 }
                ],
                "id": 8711797929341129000,
                "metrics": {
                 "blocking factor": 4,
                 "centrality": 14,
                 "complexity": 8,
                 "delay factor": 4
                },
                "name": "MATH 2930",
                "nameSub": "MATH 2930",
                "num": "2930",
                "prefix": "MATH"
               },
               {
                "credits": 3,
                "curriculum_requisites": [
                 {
                  "source_id": 3245638716681957400,
                  "target_id": 6807418853032993000,
                  "type": "strict-coreq"
                 },
                 {
                  "source_id": 8711797929341129000,
                  "target_id": 6807418853032993000,
                  "type": "strict-coreq"
                 }
                ],
                "id": 6807418853032993000,
                "metrics": {
                 "blocking factor": 1,
                 "centrality": 15,
                 "complexity": 6,
                 "delay factor": 5
                },
                "name": "ECE/ENGRD 2100",
                "nameSub": "ECE/ENGRD 2100",
                "num": "2100",
                "prefix": "ECE/ENGRD"
               },
               {
                "credits": 3,
                "curriculum_requisites": [
                 {
                  "source_id": 1676347194625955000,
                  "target_id": 6888752060905038000,
                  "type": "strict-coreq"
                 }
                ],
                "id": 6888752060905038000,
                "metrics": {
                 "blocking factor": 1,
                 "centrality": 3,
                 "complexity": 4,
                 "delay factor": 3
                },
                "name": "MECE/ENGRD 2300",
                "nameSub": "MECE/ENGRD 2300",
                "num": "2300",
                "prefix": "MECE/ENGRD"
               },
               {
                "credits": 3,
                "curriculum_requisites": [],
                "id": 8606865612037434000,
                "metrics": {
                 "blocking factor": 0,
                 "centrality": 0,
                 "complexity": 1,
                 "delay factor": 1
                },
                "name": " ",
                "nameSub": "Liberal Studies",
                "num": "",
                "prefix": ""
               }
              ],
              "id": 3,
              "name": "Term 3"
             },
             {
              "curriculum_items": [
               {
                "credits": 3,
                "curriculum_requisites": [
                 {
                  "source_id": 8711797929341129000,
                  "target_id": 7024488469082604000,
                  "type": "strict-coreq"
                 }
                ],
                "id": 7024488469082604000,
                "metrics": {
                 "blocking factor": 0,
                 "centrality": 0,
                 "complexity": 4,
                 "delay factor": 4
                },
                "name": "PHYS 2214",
                "nameSub": "PHYS 2214",
                "num": "2214",
                "prefix": "PHYS"
               },
               {
                "credits": 3,
                "curriculum_requisites": [
                 {
                  "source_id": 1443075937562850300,
                  "target_id": 5940254218043228000,
                  "type": "strict-coreq"
                 }
                ],
                "id": 5940254218043228000,
                "metrics": {
                 "blocking factor": 2,
                 "centrality": 5,
                 "complexity": 5,
                 "delay factor": 3
                },
                "name": "MATH 2940",
                "nameSub": "MATH 2940",
                "num": "2940",
                "prefix": "MATH"
               },
               {
                "credits": 3,
                "curriculum_requisites": [
                 {
                  "source_id": 3245638716681957400,
                  "target_id": 2700866654363378000,
                  "type": "strict-coreq"
                 }
                ],
                "id": 2700866654363378000,
                "metrics": {
                 "blocking factor": 0,
                 "centrality": 0,
                 "complexity": 4,
                 "delay factor": 4
                },
                "name": "ENGRD 2xxx",
                "nameSub": "ENGRD 2xxx",
                "num": "2xxx",
                "prefix": "ENGRD"
               },
               {
                "credits": 3,
                "curriculum_requisites": [
                 {
                  "source_id": 8711797929341129000,
                  "target_id": 1147788349835837600,
                  "type": "strict-coreq"
                 },
                 {
                  "source_id": 5940254218043228000,
                  "target_id": 1147788349835837600,
                  "type": "strict-coreq"
                 }
                ],
                "id": 1147788349835837600,
                "metrics": {
                 "blocking factor": 1,
                 "centrality": 10,
                 "complexity": 5,
                 "delay factor": 4
                },
                "name": "ECE/ENGRD 2200/2220",
                "nameSub": "ECE 2200/ENGRD 2220",
                "num": "2200/2220",
                "prefix": "ECE/ENGRD"
               },
               {
                "credits": 3,
                "curriculum_requisites": [],
                "id": 8606865612037434000,
                "metrics": {
                 "blocking factor": 0,
                 "centrality": 0,
                 "complexity": 1,
                 "delay factor": 1
                },
                "name": " ",
                "nameSub": "Liberal Studies",
                "num": "",
                "prefix": ""
               }
              ],
              "id": 4,
              "name": "Term 4"
             },
             {
              "curriculum_items": [
               {
                "credits": 3,
                "curriculum_requisites": [],
                "id": 2913252156633997300,
                "metrics": {
                 "blocking factor": 0,
                 "centrality": 0,
                 "complexity": 1,
                 "delay factor": 1
                },
                "name": " ",
                "nameSub": "ECE Foundations",
                "num": "",
                "prefix": ""
               },
               {
                "credits": 3,
                "curriculum_requisites": [],
                "id": 183678702440113470,
                "metrics": {
                 "blocking factor": 0,
                 "centrality": 0,
                 "complexity": 1,
                 "delay factor": 1
                },
                "name": " ",
                "nameSub": "Elective",
                "num": "",
                "prefix": ""
               },
               {
                "credits": 3,
                "curriculum_requisites": [
                 {
                  "source_id": 1676347194625955000,
                  "target_id": 5687808186827623000,
                  "type": "strict-coreq"
                 }
                ],
                "id": 5687808186827623000,
                "metrics": {
                 "blocking factor": 0,
                 "centrality": 0,
                 "complexity": 2,
                 "delay factor": 2
                },
                "name": " ",
                "nameSub": "Outside Tech. Elective",
                "num": "",
                "prefix": ""
               },
               {
                "credits": 3,
                "curriculum_requisites": [
                 {
                  "source_id": 6807418853032993000,
                  "target_id": 3472071104686575000,
                  "type": "strict-coreq"
                 },
                 {
                  "source_id": 1147788349835837600,
                  "target_id": 3472071104686575000,
                  "type": "strict-coreq"
                 },
                 {
                  "source_id": 6888752060905038000,
                  "target_id": 3472071104686575000,
                  "type": "strict-coreq"
                 }
                ],
                "id": 3472071104686575000,
                "metrics": {
                 "blocking factor": 0,
                 "centrality": 0,
                 "complexity": 5,
                 "delay factor": 5
                },
                "name": "ECE 3400",
                "nameSub": "ECE 3400",
                "num": "3400",
                "prefix": "ECE"
               },
               {
                "credits": 3,
                "curriculum_requisites": [],
                "id": 8606865612037434000,
                "metrics": {
                 "blocking factor": 0,
                 "centrality": 0,
                 "complexity": 1,
                 "delay factor": 1
                },
                "name": " ",
                "nameSub": "Liberal Studies",
                "num": "",
                "prefix": ""
               }
              ],
              "id": 5,
              "name": "Term 5"
             },
             {
              "curriculum_items": [
               {
                "credits": 3,
                "curriculum_requisites": [],
                "id": 2913252156633997300,
                "metrics": {
                 "blocking factor": 0,
                 "centrality": 0,
                 "complexity": 1,
                 "delay factor": 1
                },
                "name": " ",
                "nameSub": "ECE Foundations",
                "num": "",
                "prefix": ""
               },
               {
                "credits": 3,
                "curriculum_requisites": [],
                "id": 2913252156633997300,
                "metrics": {
                 "blocking factor": 0,
                 "centrality": 0,
                 "complexity": 1,
                 "delay factor": 1
                },
                "name": " ",
                "nameSub": "ECE Foundations",
                "num": "",
                "prefix": ""
               },
               {
                "credits": 3,
                "curriculum_requisites": [],
                "id": 5687808186827623000,
                "metrics": {
                 "blocking factor": 0,
                 "centrality": 0,
                 "complexity": 1,
                 "delay factor": 1
                },
                "name": " ",
                "nameSub": "Outside Tech. Elective",
                "num": "",
                "prefix": ""
               },
               {
                "credits": 3,
                "curriculum_requisites": [],
                "id": 183678702440113470,
                "metrics": {
                 "blocking factor": 0,
                 "centrality": 0,
                 "complexity": 1,
                 "delay factor": 1
                },
                "name": " ",
                "nameSub": "Elective",
                "num": "",
                "prefix": ""
               },
               {
                "credits": 3,
                "curriculum_requisites": [],
                "id": 8606865612037434000,
                "metrics": {
                 "blocking factor": 0,
                 "centrality": 0,
                 "complexity": 1,
                 "delay factor": 1
                },
                "name": " ",
                "nameSub": "Liberal Studies",
                "num": "",
                "prefix": ""
               }
              ],
              "id": 6,
              "name": "Term 6"
             },
             {
              "curriculum_items": [
               {
                "credits": 3,
                "curriculum_requisites": [],
                "id": 6384455901711293000,
                "metrics": {
                 "blocking factor": 0,
                 "centrality": 0,
                 "complexity": 1,
                 "delay factor": 1
                },
                "name": " ",
                "nameSub": "ECE Elective ",
                "num": "",
                "prefix": ""
               },
               {
                "credits": 3,
                "curriculum_requisites": [],
                "id": 5875654048926115000,
                "metrics": {
                 "blocking factor": 0,
                 "centrality": 0,
                 "complexity": 1,
                 "delay factor": 1
                },
                "name": " ",
                "nameSub": "ECE Elective",
                "num": "",
                "prefix": ""
               },
               {
                "credits": 3,
                "curriculum_requisites": [],
                "id": 5687808186827623000,
                "metrics": {
                 "blocking factor": 0,
                 "centrality": 0,
                 "complexity": 1,
                 "delay factor": 1
                },
                "name": " ",
                "nameSub": "Outside Tech. Elective",
                "num": "",
                "prefix": ""
               },
               {
                "credits": 3,
                "curriculum_requisites": [],
                "id": 8606865612037434000,
                "metrics": {
                 "blocking factor": 0,
                 "centrality": 0,
                 "complexity": 1,
                 "delay factor": 1
                },
                "name": " ",
                "nameSub": "Liberal Studies",
                "num": "",
                "prefix": ""
               }
              ],
              "id": 7,
              "name": "Term 7"
             },
             {
              "curriculum_items": [
               {
                "credits": 3,
                "curriculum_requisites": [],
                "id": 5875654048926115000,
                "metrics": {
                 "blocking factor": 0,
                 "centrality": 0,
                 "complexity": 1,
                 "delay factor": 1
                },
                "name": " ",
                "nameSub": "ECE Elective",
                "num": "",
                "prefix": ""
               },
               {
                "credits": 3,
                "curriculum_requisites": [],
                "id": 5875654048926115000,
                "metrics": {
                 "blocking factor": 0,
                 "centrality": 0,
                 "complexity": 1,
                 "delay factor": 1
                },
                "name": " ",
                "nameSub": "ECE Elective",
                "num": "",
                "prefix": ""
               },
               {
                "credits": 3,
                "curriculum_requisites": [],
                "id": 5875654048926115000,
                "metrics": {
                 "blocking factor": 0,
                 "centrality": 0,
                 "complexity": 1,
                 "delay factor": 1
                },
                "name": " ",
                "nameSub": "ECE Elective",
                "num": "",
                "prefix": ""
               },
               {
                "credits": 3,
                "curriculum_requisites": [],
                "id": 8606865612037434000,
                "metrics": {
                 "blocking factor": 0,
                 "centrality": 0,
                 "complexity": 1,
                 "delay factor": 1
                },
                "name": " ",
                "nameSub": "Liberal Studies",
                "num": "",
                "prefix": ""
               }
              ],
              "id": 8,
              "name": "Term 8"
             }
            ],
            "name": "MyPlan"
           }
          }
         }
        },
        "systemjs_options": null
       },
       "nodeType": "Scope",
       "props": {},
       "type": "node"
      },
      "text/html": [
       "<div\n",
       "    class=\"webio-mountpoint\"\n",
       "    data-webio-mountpoint=\"9843246100524827834\"\n",
       ">\n",
       "    <script>\n",
       "    if (window.require && require.defined && require.defined(\"nbextensions/webio/main\")) {\n",
       "        console.log(\"Jupyter WebIO extension detected, not mounting.\");\n",
       "    } else if (window.WebIO) {\n",
       "        WebIO.mount(\n",
       "            document.querySelector('[data-webio-mountpoint=\"9843246100524827834\"]'),\n",
       "            {\"props\":{},\"nodeType\":\"Scope\",\"type\":\"node\",\"instanceArgs\":{\"imports\":{\"data\":[],\"type\":\"async_block\"},\"id\":\"scope-539f3a0b-3e18-44cf-9968-f7e04ad43160\",\"handlers\":{},\"systemjs_options\":null,\"observables\":{\"curriculum-data\":{\"sync\":true,\"id\":\"ob_01\",\"value\":{\"curriculum\":{\"name\":\"MyPlan\",\"curriculum_terms\":[{\"name\":\"Term 1\",\"curriculum_items\":[{\"curriculum_requisites\":[],\"name\":\"CHEM 2090\",\"metrics\":{\"centrality\":0,\"complexity\":1.0,\"blocking factor\":0,\"delay factor\":1.0},\"nameSub\":\"CHEM 2090\",\"id\":712321689191628892,\"num\":\"2090\",\"credits\":3,\"prefix\":\"CHEM\"},{\"curriculum_requisites\":[],\"name\":\"MATH 1910\",\"metrics\":{\"centrality\":0,\"complexity\":15.0,\"blocking factor\":10,\"delay factor\":5.0},\"nameSub\":\"MATH 1910\",\"id\":4248919933258379146,\"num\":\"1910\",\"credits\":3,\"prefix\":\"MATH\"},{\"curriculum_requisites\":[],\"name\":\"ENGRI 1xxx\",\"metrics\":{\"centrality\":0,\"complexity\":1.0,\"blocking factor\":0,\"delay factor\":1.0},\"nameSub\":\"ENGRI 1xxx\",\"id\":5805080075235225040,\"num\":\"1xxx\",\"credits\":3,\"prefix\":\"ENGRI\"},{\"curriculum_requisites\":[],\"name\":\" \",\"metrics\":{\"centrality\":0,\"complexity\":1.0,\"blocking factor\":0,\"delay factor\":1.0},\"nameSub\":\"1st Yr Writing Seminar\",\"id\":777522438065076985,\"num\":\"\",\"credits\":3,\"prefix\":\"\"},{\"curriculum_requisites\":[],\"name\":\" \",\"metrics\":{\"centrality\":0,\"complexity\":1.0,\"blocking factor\":0,\"delay factor\":1.0},\"nameSub\":\"PE\",\"id\":6279884658628502318,\"num\":\"\",\"credits\":3,\"prefix\":\"\"}],\"id\":1},{\"name\":\"Term 2\",\"curriculum_items\":[{\"curriculum_requisites\":[{\"source_id\":4248919933258379146,\"target_id\":2677076278178033404,\"type\":\"strict-coreq\"}],\"name\":\"PHYS 1112\",\"metrics\":{\"centrality\":9,\"complexity\":9.0,\"blocking factor\":4,\"delay factor\":5.0},\"nameSub\":\"PHYS 1112\",\"id\":2677076278178033404,\"num\":\"1112\",\"credits\":3,\"prefix\":\"PHYS\"},{\"curriculum_requisites\":[{\"source_id\":4248919933258379146,\"target_id\":1443075937562850344,\"type\":\"strict-coreq\"}],\"name\":\"MATH 1920\",\"metrics\":{\"centrality\":28,\"complexity\":12.0,\"blocking factor\":8,\"delay factor\":4.0},\"nameSub\":\"MATH 1920\",\"id\":1443075937562850344,\"num\":\"1920\",\"credits\":3,\"prefix\":\"MATH\"},{\"curriculum_requisites\":[],\"name\":\"CS 111x\",\"metrics\":{\"centrality\":0,\"complexity\":6.0,\"blocking factor\":3,\"delay factor\":3.0},\"nameSub\":\"CS 111x\",\"id\":1676347194625955089,\"num\":\"111x\",\"credits\":3,\"prefix\":\"CS\"},{\"curriculum_requisites\":[],\"name\":\" \",\"metrics\":{\"centrality\":0,\"complexity\":1.0,\"blocking factor\":0,\"delay factor\":1.0},\"nameSub\":\"1st Yr Writing Seminar\",\"id\":777522438065076985,\"num\":\"\",\"credits\":3,\"prefix\":\"\"},{\"curriculum_requisites\":[],\"name\":\" \",\"metrics\":{\"centrality\":0,\"complexity\":1.0,\"blocking factor\":0,\"delay factor\":1.0},\"nameSub\":\"PE\",\"id\":6279884658628502318,\"num\":\"\",\"credits\":3,\"prefix\":\"\"}],\"id\":2},{\"name\":\"Term 3\",\"curriculum_items\":[{\"curriculum_requisites\":[{\"source_id\":2677076278178033404,\"target_id\":3245638716681957412,\"type\":\"strict-coreq\"},{\"source_id\":1443075937562850344,\"target_id\":3245638716681957412,\"type\":\"strict-coreq\"}],\"name\":\"PHYS 2213\",\"metrics\":{\"centrality\":18,\"complexity\":8.0,\"blocking factor\":3,\"delay factor\":5.0},\"nameSub\":\"PHYS 2213\",\"id\":3245638716681957412,\"num\":\"2213\",\"credits\":3,\"prefix\":\"PHYS\"},{\"curriculum_requisites\":[{\"source_id\":1443075937562850344,\"target_id\":8711797929341128496,\"type\":\"strict-coreq\"}],\"name\":\"MATH 2930\",\"metrics\":{\"centrality\":14,\"complexity\":8.0,\"blocking factor\":4,\"delay factor\":4.0},\"nameSub\":\"MATH 2930\",\"id\":8711797929341128496,\"num\":\"2930\",\"credits\":3,\"prefix\":\"MATH\"},{\"curriculum_requisites\":[{\"source_id\":3245638716681957412,\"target_id\":6807418853032993127,\"type\":\"strict-coreq\"},{\"source_id\":8711797929341128496,\"target_id\":6807418853032993127,\"type\":\"strict-coreq\"}],\"name\":\"ECE\\/ENGRD 2100\",\"metrics\":{\"centrality\":15,\"complexity\":6.0,\"blocking factor\":1,\"delay factor\":5.0},\"nameSub\":\"ECE\\/ENGRD 2100\",\"id\":6807418853032993127,\"num\":\"2100\",\"credits\":3,\"prefix\":\"ECE\\/ENGRD\"},{\"curriculum_requisites\":[{\"source_id\":1676347194625955089,\"target_id\":6888752060905037869,\"type\":\"strict-coreq\"}],\"name\":\"MECE\\/ENGRD 2300\",\"metrics\":{\"centrality\":3,\"complexity\":4.0,\"blocking factor\":1,\"delay factor\":3.0},\"nameSub\":\"MECE\\/ENGRD 2300\",\"id\":6888752060905037869,\"num\":\"2300\",\"credits\":3,\"prefix\":\"MECE\\/ENGRD\"},{\"curriculum_requisites\":[],\"name\":\" \",\"metrics\":{\"centrality\":0,\"complexity\":1.0,\"blocking factor\":0,\"delay factor\":1.0},\"nameSub\":\"Liberal Studies\",\"id\":8606865612037434001,\"num\":\"\",\"credits\":3,\"prefix\":\"\"}],\"id\":3},{\"name\":\"Term 4\",\"curriculum_items\":[{\"curriculum_requisites\":[{\"source_id\":8711797929341128496,\"target_id\":7024488469082603453,\"type\":\"strict-coreq\"}],\"name\":\"PHYS 2214\",\"metrics\":{\"centrality\":0,\"complexity\":4.0,\"blocking factor\":0,\"delay factor\":4.0},\"nameSub\":\"PHYS 2214\",\"id\":7024488469082603453,\"num\":\"2214\",\"credits\":3,\"prefix\":\"PHYS\"},{\"curriculum_requisites\":[{\"source_id\":1443075937562850344,\"target_id\":5940254218043227933,\"type\":\"strict-coreq\"}],\"name\":\"MATH 2940\",\"metrics\":{\"centrality\":5,\"complexity\":5.0,\"blocking factor\":2,\"delay factor\":3.0},\"nameSub\":\"MATH 2940\",\"id\":5940254218043227933,\"num\":\"2940\",\"credits\":3,\"prefix\":\"MATH\"},{\"curriculum_requisites\":[{\"source_id\":3245638716681957412,\"target_id\":2700866654363377980,\"type\":\"strict-coreq\"}],\"name\":\"ENGRD 2xxx\",\"metrics\":{\"centrality\":0,\"complexity\":4.0,\"blocking factor\":0,\"delay factor\":4.0},\"nameSub\":\"ENGRD 2xxx\",\"id\":2700866654363377980,\"num\":\"2xxx\",\"credits\":3,\"prefix\":\"ENGRD\"},{\"curriculum_requisites\":[{\"source_id\":8711797929341128496,\"target_id\":1147788349835837565,\"type\":\"strict-coreq\"},{\"source_id\":5940254218043227933,\"target_id\":1147788349835837565,\"type\":\"strict-coreq\"}],\"name\":\"ECE\\/ENGRD 2200\\/2220\",\"metrics\":{\"centrality\":10,\"complexity\":5.0,\"blocking factor\":1,\"delay factor\":4.0},\"nameSub\":\"ECE 2200\\/ENGRD 2220\",\"id\":1147788349835837565,\"num\":\"2200\\/2220\",\"credits\":3,\"prefix\":\"ECE\\/ENGRD\"},{\"curriculum_requisites\":[],\"name\":\" \",\"metrics\":{\"centrality\":0,\"complexity\":1.0,\"blocking factor\":0,\"delay factor\":1.0},\"nameSub\":\"Liberal Studies\",\"id\":8606865612037434001,\"num\":\"\",\"credits\":3,\"prefix\":\"\"}],\"id\":4},{\"name\":\"Term 5\",\"curriculum_items\":[{\"curriculum_requisites\":[],\"name\":\" \",\"metrics\":{\"centrality\":0,\"complexity\":1.0,\"blocking factor\":0,\"delay factor\":1.0},\"nameSub\":\"ECE Foundations\",\"id\":2913252156633997146,\"num\":\"\",\"credits\":3,\"prefix\":\"\"},{\"curriculum_requisites\":[],\"name\":\" \",\"metrics\":{\"centrality\":0,\"complexity\":1.0,\"blocking factor\":0,\"delay factor\":1.0},\"nameSub\":\"Elective\",\"id\":183678702440113467,\"num\":\"\",\"credits\":3,\"prefix\":\"\"},{\"curriculum_requisites\":[{\"source_id\":1676347194625955089,\"target_id\":5687808186827623114,\"type\":\"strict-coreq\"}],\"name\":\" \",\"metrics\":{\"centrality\":0,\"complexity\":2.0,\"blocking factor\":0,\"delay factor\":2.0},\"nameSub\":\"Outside Tech. Elective\",\"id\":5687808186827623114,\"num\":\"\",\"credits\":3,\"prefix\":\"\"},{\"curriculum_requisites\":[{\"source_id\":6807418853032993127,\"target_id\":3472071104686575331,\"type\":\"strict-coreq\"},{\"source_id\":1147788349835837565,\"target_id\":3472071104686575331,\"type\":\"strict-coreq\"},{\"source_id\":6888752060905037869,\"target_id\":3472071104686575331,\"type\":\"strict-coreq\"}],\"name\":\"ECE 3400\",\"metrics\":{\"centrality\":0,\"complexity\":5.0,\"blocking factor\":0,\"delay factor\":5.0},\"nameSub\":\"ECE 3400\",\"id\":3472071104686575331,\"num\":\"3400\",\"credits\":3,\"prefix\":\"ECE\"},{\"curriculum_requisites\":[],\"name\":\" \",\"metrics\":{\"centrality\":0,\"complexity\":1.0,\"blocking factor\":0,\"delay factor\":1.0},\"nameSub\":\"Liberal Studies\",\"id\":8606865612037434001,\"num\":\"\",\"credits\":3,\"prefix\":\"\"}],\"id\":5},{\"name\":\"Term 6\",\"curriculum_items\":[{\"curriculum_requisites\":[],\"name\":\" \",\"metrics\":{\"centrality\":0,\"complexity\":1.0,\"blocking factor\":0,\"delay factor\":1.0},\"nameSub\":\"ECE Foundations\",\"id\":2913252156633997146,\"num\":\"\",\"credits\":3,\"prefix\":\"\"},{\"curriculum_requisites\":[],\"name\":\" \",\"metrics\":{\"centrality\":0,\"complexity\":1.0,\"blocking factor\":0,\"delay factor\":1.0},\"nameSub\":\"ECE Foundations\",\"id\":2913252156633997146,\"num\":\"\",\"credits\":3,\"prefix\":\"\"},{\"curriculum_requisites\":[],\"name\":\" \",\"metrics\":{\"centrality\":0,\"complexity\":1.0,\"blocking factor\":0,\"delay factor\":1.0},\"nameSub\":\"Outside Tech. Elective\",\"id\":5687808186827623114,\"num\":\"\",\"credits\":3,\"prefix\":\"\"},{\"curriculum_requisites\":[],\"name\":\" \",\"metrics\":{\"centrality\":0,\"complexity\":1.0,\"blocking factor\":0,\"delay factor\":1.0},\"nameSub\":\"Elective\",\"id\":183678702440113467,\"num\":\"\",\"credits\":3,\"prefix\":\"\"},{\"curriculum_requisites\":[],\"name\":\" \",\"metrics\":{\"centrality\":0,\"complexity\":1.0,\"blocking factor\":0,\"delay factor\":1.0},\"nameSub\":\"Liberal Studies\",\"id\":8606865612037434001,\"num\":\"\",\"credits\":3,\"prefix\":\"\"}],\"id\":6},{\"name\":\"Term 7\",\"curriculum_items\":[{\"curriculum_requisites\":[],\"name\":\" \",\"metrics\":{\"centrality\":0,\"complexity\":1.0,\"blocking factor\":0,\"delay factor\":1.0},\"nameSub\":\"ECE Elective \",\"id\":6384455901711293898,\"num\":\"\",\"credits\":3,\"prefix\":\"\"},{\"curriculum_requisites\":[],\"name\":\" \",\"metrics\":{\"centrality\":0,\"complexity\":1.0,\"blocking factor\":0,\"delay factor\":1.0},\"nameSub\":\"ECE Elective\",\"id\":5875654048926114542,\"num\":\"\",\"credits\":3,\"prefix\":\"\"},{\"curriculum_requisites\":[],\"name\":\" \",\"metrics\":{\"centrality\":0,\"complexity\":1.0,\"blocking factor\":0,\"delay factor\":1.0},\"nameSub\":\"Outside Tech. Elective\",\"id\":5687808186827623114,\"num\":\"\",\"credits\":3,\"prefix\":\"\"},{\"curriculum_requisites\":[],\"name\":\" \",\"metrics\":{\"centrality\":0,\"complexity\":1.0,\"blocking factor\":0,\"delay factor\":1.0},\"nameSub\":\"Liberal Studies\",\"id\":8606865612037434001,\"num\":\"\",\"credits\":3,\"prefix\":\"\"}],\"id\":7},{\"name\":\"Term 8\",\"curriculum_items\":[{\"curriculum_requisites\":[],\"name\":\" \",\"metrics\":{\"centrality\":0,\"complexity\":1.0,\"blocking factor\":0,\"delay factor\":1.0},\"nameSub\":\"ECE Elective\",\"id\":5875654048926114542,\"num\":\"\",\"credits\":3,\"prefix\":\"\"},{\"curriculum_requisites\":[],\"name\":\" \",\"metrics\":{\"centrality\":0,\"complexity\":1.0,\"blocking factor\":0,\"delay factor\":1.0},\"nameSub\":\"ECE Elective\",\"id\":5875654048926114542,\"num\":\"\",\"credits\":3,\"prefix\":\"\"},{\"curriculum_requisites\":[],\"name\":\" \",\"metrics\":{\"centrality\":0,\"complexity\":1.0,\"blocking factor\":0,\"delay factor\":1.0},\"nameSub\":\"ECE Elective\",\"id\":5875654048926114542,\"num\":\"\",\"credits\":3,\"prefix\":\"\"},{\"curriculum_requisites\":[],\"name\":\" \",\"metrics\":{\"centrality\":0,\"complexity\":1.0,\"blocking factor\":0,\"delay factor\":1.0},\"nameSub\":\"Liberal Studies\",\"id\":8606865612037434001,\"num\":\"\",\"credits\":3,\"prefix\":\"\"}],\"id\":8}]}}}}},\"children\":[{\"props\":{\"src\":\"http:\\/\\/localhost:8156\",\"id\":\"curriculum\",\"events\":{\"load\":\"(function (){this.contentWindow.postMessage({\\\"curriculum\\\":{\\\"name\\\":\\\"MyPlan\\\",\\\"curriculum_terms\\\":[{\\\"name\\\":\\\"Term 1\\\",\\\"curriculum_items\\\":[{\\\"curriculum_requisites\\\":[],\\\"name\\\":\\\"CHEM 2090\\\",\\\"metrics\\\":{\\\"centrality\\\":0,\\\"complexity\\\":1.0,\\\"blocking factor\\\":0,\\\"delay factor\\\":1.0},\\\"nameSub\\\":\\\"CHEM 2090\\\",\\\"id\\\":712321689191628892,\\\"num\\\":\\\"2090\\\",\\\"credits\\\":3,\\\"prefix\\\":\\\"CHEM\\\"},{\\\"curriculum_requisites\\\":[],\\\"name\\\":\\\"MATH 1910\\\",\\\"metrics\\\":{\\\"centrality\\\":0,\\\"complexity\\\":15.0,\\\"blocking factor\\\":10,\\\"delay factor\\\":5.0},\\\"nameSub\\\":\\\"MATH 1910\\\",\\\"id\\\":4248919933258379146,\\\"num\\\":\\\"1910\\\",\\\"credits\\\":3,\\\"prefix\\\":\\\"MATH\\\"},{\\\"curriculum_requisites\\\":[],\\\"name\\\":\\\"ENGRI 1xxx\\\",\\\"metrics\\\":{\\\"centrality\\\":0,\\\"complexity\\\":1.0,\\\"blocking factor\\\":0,\\\"delay factor\\\":1.0},\\\"nameSub\\\":\\\"ENGRI 1xxx\\\",\\\"id\\\":5805080075235225040,\\\"num\\\":\\\"1xxx\\\",\\\"credits\\\":3,\\\"prefix\\\":\\\"ENGRI\\\"},{\\\"curriculum_requisites\\\":[],\\\"name\\\":\\\" \\\",\\\"metrics\\\":{\\\"centrality\\\":0,\\\"complexity\\\":1.0,\\\"blocking factor\\\":0,\\\"delay factor\\\":1.0},\\\"nameSub\\\":\\\"1st Yr Writing Seminar\\\",\\\"id\\\":777522438065076985,\\\"num\\\":\\\"\\\",\\\"credits\\\":3,\\\"prefix\\\":\\\"\\\"},{\\\"curriculum_requisites\\\":[],\\\"name\\\":\\\" \\\",\\\"metrics\\\":{\\\"centrality\\\":0,\\\"complexity\\\":1.0,\\\"blocking factor\\\":0,\\\"delay factor\\\":1.0},\\\"nameSub\\\":\\\"PE\\\",\\\"id\\\":6279884658628502318,\\\"num\\\":\\\"\\\",\\\"credits\\\":3,\\\"prefix\\\":\\\"\\\"}],\\\"id\\\":1},{\\\"name\\\":\\\"Term 2\\\",\\\"curriculum_items\\\":[{\\\"curriculum_requisites\\\":[{\\\"source_id\\\":4248919933258379146,\\\"target_id\\\":2677076278178033404,\\\"type\\\":\\\"strict-coreq\\\"}],\\\"name\\\":\\\"PHYS 1112\\\",\\\"metrics\\\":{\\\"centrality\\\":9,\\\"complexity\\\":9.0,\\\"blocking factor\\\":4,\\\"delay factor\\\":5.0},\\\"nameSub\\\":\\\"PHYS 1112\\\",\\\"id\\\":2677076278178033404,\\\"num\\\":\\\"1112\\\",\\\"credits\\\":3,\\\"prefix\\\":\\\"PHYS\\\"},{\\\"curriculum_requisites\\\":[{\\\"source_id\\\":4248919933258379146,\\\"target_id\\\":1443075937562850344,\\\"type\\\":\\\"strict-coreq\\\"}],\\\"name\\\":\\\"MATH 1920\\\",\\\"metrics\\\":{\\\"centrality\\\":28,\\\"complexity\\\":12.0,\\\"blocking factor\\\":8,\\\"delay factor\\\":4.0},\\\"nameSub\\\":\\\"MATH 1920\\\",\\\"id\\\":1443075937562850344,\\\"num\\\":\\\"1920\\\",\\\"credits\\\":3,\\\"prefix\\\":\\\"MATH\\\"},{\\\"curriculum_requisites\\\":[],\\\"name\\\":\\\"CS 111x\\\",\\\"metrics\\\":{\\\"centrality\\\":0,\\\"complexity\\\":6.0,\\\"blocking factor\\\":3,\\\"delay factor\\\":3.0},\\\"nameSub\\\":\\\"CS 111x\\\",\\\"id\\\":1676347194625955089,\\\"num\\\":\\\"111x\\\",\\\"credits\\\":3,\\\"prefix\\\":\\\"CS\\\"},{\\\"curriculum_requisites\\\":[],\\\"name\\\":\\\" \\\",\\\"metrics\\\":{\\\"centrality\\\":0,\\\"complexity\\\":1.0,\\\"blocking factor\\\":0,\\\"delay factor\\\":1.0},\\\"nameSub\\\":\\\"1st Yr Writing Seminar\\\",\\\"id\\\":777522438065076985,\\\"num\\\":\\\"\\\",\\\"credits\\\":3,\\\"prefix\\\":\\\"\\\"},{\\\"curriculum_requisites\\\":[],\\\"name\\\":\\\" \\\",\\\"metrics\\\":{\\\"centrality\\\":0,\\\"complexity\\\":1.0,\\\"blocking factor\\\":0,\\\"delay factor\\\":1.0},\\\"nameSub\\\":\\\"PE\\\",\\\"id\\\":6279884658628502318,\\\"num\\\":\\\"\\\",\\\"credits\\\":3,\\\"prefix\\\":\\\"\\\"}],\\\"id\\\":2},{\\\"name\\\":\\\"Term 3\\\",\\\"curriculum_items\\\":[{\\\"curriculum_requisites\\\":[{\\\"source_id\\\":2677076278178033404,\\\"target_id\\\":3245638716681957412,\\\"type\\\":\\\"strict-coreq\\\"},{\\\"source_id\\\":1443075937562850344,\\\"target_id\\\":3245638716681957412,\\\"type\\\":\\\"strict-coreq\\\"}],\\\"name\\\":\\\"PHYS 2213\\\",\\\"metrics\\\":{\\\"centrality\\\":18,\\\"complexity\\\":8.0,\\\"blocking factor\\\":3,\\\"delay factor\\\":5.0},\\\"nameSub\\\":\\\"PHYS 2213\\\",\\\"id\\\":3245638716681957412,\\\"num\\\":\\\"2213\\\",\\\"credits\\\":3,\\\"prefix\\\":\\\"PHYS\\\"},{\\\"curriculum_requisites\\\":[{\\\"source_id\\\":1443075937562850344,\\\"target_id\\\":8711797929341128496,\\\"type\\\":\\\"strict-coreq\\\"}],\\\"name\\\":\\\"MATH 2930\\\",\\\"metrics\\\":{\\\"centrality\\\":14,\\\"complexity\\\":8.0,\\\"blocking factor\\\":4,\\\"delay factor\\\":4.0},\\\"nameSub\\\":\\\"MATH 2930\\\",\\\"id\\\":8711797929341128496,\\\"num\\\":\\\"2930\\\",\\\"credits\\\":3,\\\"prefix\\\":\\\"MATH\\\"},{\\\"curriculum_requisites\\\":[{\\\"source_id\\\":3245638716681957412,\\\"target_id\\\":6807418853032993127,\\\"type\\\":\\\"strict-coreq\\\"},{\\\"source_id\\\":8711797929341128496,\\\"target_id\\\":6807418853032993127,\\\"type\\\":\\\"strict-coreq\\\"}],\\\"name\\\":\\\"ECE\\/ENGRD 2100\\\",\\\"metrics\\\":{\\\"centrality\\\":15,\\\"complexity\\\":6.0,\\\"blocking factor\\\":1,\\\"delay factor\\\":5.0},\\\"nameSub\\\":\\\"ECE\\/ENGRD 2100\\\",\\\"id\\\":6807418853032993127,\\\"num\\\":\\\"2100\\\",\\\"credits\\\":3,\\\"prefix\\\":\\\"ECE\\/ENGRD\\\"},{\\\"curriculum_requisites\\\":[{\\\"source_id\\\":1676347194625955089,\\\"target_id\\\":6888752060905037869,\\\"type\\\":\\\"strict-coreq\\\"}],\\\"name\\\":\\\"MECE\\/ENGRD 2300\\\",\\\"metrics\\\":{\\\"centrality\\\":3,\\\"complexity\\\":4.0,\\\"blocking factor\\\":1,\\\"delay factor\\\":3.0},\\\"nameSub\\\":\\\"MECE\\/ENGRD 2300\\\",\\\"id\\\":6888752060905037869,\\\"num\\\":\\\"2300\\\",\\\"credits\\\":3,\\\"prefix\\\":\\\"MECE\\/ENGRD\\\"},{\\\"curriculum_requisites\\\":[],\\\"name\\\":\\\" \\\",\\\"metrics\\\":{\\\"centrality\\\":0,\\\"complexity\\\":1.0,\\\"blocking factor\\\":0,\\\"delay factor\\\":1.0},\\\"nameSub\\\":\\\"Liberal Studies\\\",\\\"id\\\":8606865612037434001,\\\"num\\\":\\\"\\\",\\\"credits\\\":3,\\\"prefix\\\":\\\"\\\"}],\\\"id\\\":3},{\\\"name\\\":\\\"Term 4\\\",\\\"curriculum_items\\\":[{\\\"curriculum_requisites\\\":[{\\\"source_id\\\":8711797929341128496,\\\"target_id\\\":7024488469082603453,\\\"type\\\":\\\"strict-coreq\\\"}],\\\"name\\\":\\\"PHYS 2214\\\",\\\"metrics\\\":{\\\"centrality\\\":0,\\\"complexity\\\":4.0,\\\"blocking factor\\\":0,\\\"delay factor\\\":4.0},\\\"nameSub\\\":\\\"PHYS 2214\\\",\\\"id\\\":7024488469082603453,\\\"num\\\":\\\"2214\\\",\\\"credits\\\":3,\\\"prefix\\\":\\\"PHYS\\\"},{\\\"curriculum_requisites\\\":[{\\\"source_id\\\":1443075937562850344,\\\"target_id\\\":5940254218043227933,\\\"type\\\":\\\"strict-coreq\\\"}],\\\"name\\\":\\\"MATH 2940\\\",\\\"metrics\\\":{\\\"centrality\\\":5,\\\"complexity\\\":5.0,\\\"blocking factor\\\":2,\\\"delay factor\\\":3.0},\\\"nameSub\\\":\\\"MATH 2940\\\",\\\"id\\\":5940254218043227933,\\\"num\\\":\\\"2940\\\",\\\"credits\\\":3,\\\"prefix\\\":\\\"MATH\\\"},{\\\"curriculum_requisites\\\":[{\\\"source_id\\\":3245638716681957412,\\\"target_id\\\":2700866654363377980,\\\"type\\\":\\\"strict-coreq\\\"}],\\\"name\\\":\\\"ENGRD 2xxx\\\",\\\"metrics\\\":{\\\"centrality\\\":0,\\\"complexity\\\":4.0,\\\"blocking factor\\\":0,\\\"delay factor\\\":4.0},\\\"nameSub\\\":\\\"ENGRD 2xxx\\\",\\\"id\\\":2700866654363377980,\\\"num\\\":\\\"2xxx\\\",\\\"credits\\\":3,\\\"prefix\\\":\\\"ENGRD\\\"},{\\\"curriculum_requisites\\\":[{\\\"source_id\\\":8711797929341128496,\\\"target_id\\\":1147788349835837565,\\\"type\\\":\\\"strict-coreq\\\"},{\\\"source_id\\\":5940254218043227933,\\\"target_id\\\":1147788349835837565,\\\"type\\\":\\\"strict-coreq\\\"}],\\\"name\\\":\\\"ECE\\/ENGRD 2200\\/2220\\\",\\\"metrics\\\":{\\\"centrality\\\":10,\\\"complexity\\\":5.0,\\\"blocking factor\\\":1,\\\"delay factor\\\":4.0},\\\"nameSub\\\":\\\"ECE 2200\\/ENGRD 2220\\\",\\\"id\\\":1147788349835837565,\\\"num\\\":\\\"2200\\/2220\\\",\\\"credits\\\":3,\\\"prefix\\\":\\\"ECE\\/ENGRD\\\"},{\\\"curriculum_requisites\\\":[],\\\"name\\\":\\\" \\\",\\\"metrics\\\":{\\\"centrality\\\":0,\\\"complexity\\\":1.0,\\\"blocking factor\\\":0,\\\"delay factor\\\":1.0},\\\"nameSub\\\":\\\"Liberal Studies\\\",\\\"id\\\":8606865612037434001,\\\"num\\\":\\\"\\\",\\\"credits\\\":3,\\\"prefix\\\":\\\"\\\"}],\\\"id\\\":4},{\\\"name\\\":\\\"Term 5\\\",\\\"curriculum_items\\\":[{\\\"curriculum_requisites\\\":[],\\\"name\\\":\\\" \\\",\\\"metrics\\\":{\\\"centrality\\\":0,\\\"complexity\\\":1.0,\\\"blocking factor\\\":0,\\\"delay factor\\\":1.0},\\\"nameSub\\\":\\\"ECE Foundations\\\",\\\"id\\\":2913252156633997146,\\\"num\\\":\\\"\\\",\\\"credits\\\":3,\\\"prefix\\\":\\\"\\\"},{\\\"curriculum_requisites\\\":[],\\\"name\\\":\\\" \\\",\\\"metrics\\\":{\\\"centrality\\\":0,\\\"complexity\\\":1.0,\\\"blocking factor\\\":0,\\\"delay factor\\\":1.0},\\\"nameSub\\\":\\\"Elective\\\",\\\"id\\\":183678702440113467,\\\"num\\\":\\\"\\\",\\\"credits\\\":3,\\\"prefix\\\":\\\"\\\"},{\\\"curriculum_requisites\\\":[{\\\"source_id\\\":1676347194625955089,\\\"target_id\\\":5687808186827623114,\\\"type\\\":\\\"strict-coreq\\\"}],\\\"name\\\":\\\" \\\",\\\"metrics\\\":{\\\"centrality\\\":0,\\\"complexity\\\":2.0,\\\"blocking factor\\\":0,\\\"delay factor\\\":2.0},\\\"nameSub\\\":\\\"Outside Tech. Elective\\\",\\\"id\\\":5687808186827623114,\\\"num\\\":\\\"\\\",\\\"credits\\\":3,\\\"prefix\\\":\\\"\\\"},{\\\"curriculum_requisites\\\":[{\\\"source_id\\\":6807418853032993127,\\\"target_id\\\":3472071104686575331,\\\"type\\\":\\\"strict-coreq\\\"},{\\\"source_id\\\":1147788349835837565,\\\"target_id\\\":3472071104686575331,\\\"type\\\":\\\"strict-coreq\\\"},{\\\"source_id\\\":6888752060905037869,\\\"target_id\\\":3472071104686575331,\\\"type\\\":\\\"strict-coreq\\\"}],\\\"name\\\":\\\"ECE 3400\\\",\\\"metrics\\\":{\\\"centrality\\\":0,\\\"complexity\\\":5.0,\\\"blocking factor\\\":0,\\\"delay factor\\\":5.0},\\\"nameSub\\\":\\\"ECE 3400\\\",\\\"id\\\":3472071104686575331,\\\"num\\\":\\\"3400\\\",\\\"credits\\\":3,\\\"prefix\\\":\\\"ECE\\\"},{\\\"curriculum_requisites\\\":[],\\\"name\\\":\\\" \\\",\\\"metrics\\\":{\\\"centrality\\\":0,\\\"complexity\\\":1.0,\\\"blocking factor\\\":0,\\\"delay factor\\\":1.0},\\\"nameSub\\\":\\\"Liberal Studies\\\",\\\"id\\\":8606865612037434001,\\\"num\\\":\\\"\\\",\\\"credits\\\":3,\\\"prefix\\\":\\\"\\\"}],\\\"id\\\":5},{\\\"name\\\":\\\"Term 6\\\",\\\"curriculum_items\\\":[{\\\"curriculum_requisites\\\":[],\\\"name\\\":\\\" \\\",\\\"metrics\\\":{\\\"centrality\\\":0,\\\"complexity\\\":1.0,\\\"blocking factor\\\":0,\\\"delay factor\\\":1.0},\\\"nameSub\\\":\\\"ECE Foundations\\\",\\\"id\\\":2913252156633997146,\\\"num\\\":\\\"\\\",\\\"credits\\\":3,\\\"prefix\\\":\\\"\\\"},{\\\"curriculum_requisites\\\":[],\\\"name\\\":\\\" \\\",\\\"metrics\\\":{\\\"centrality\\\":0,\\\"complexity\\\":1.0,\\\"blocking factor\\\":0,\\\"delay factor\\\":1.0},\\\"nameSub\\\":\\\"ECE Foundations\\\",\\\"id\\\":2913252156633997146,\\\"num\\\":\\\"\\\",\\\"credits\\\":3,\\\"prefix\\\":\\\"\\\"},{\\\"curriculum_requisites\\\":[],\\\"name\\\":\\\" \\\",\\\"metrics\\\":{\\\"centrality\\\":0,\\\"complexity\\\":1.0,\\\"blocking factor\\\":0,\\\"delay factor\\\":1.0},\\\"nameSub\\\":\\\"Outside Tech. Elective\\\",\\\"id\\\":5687808186827623114,\\\"num\\\":\\\"\\\",\\\"credits\\\":3,\\\"prefix\\\":\\\"\\\"},{\\\"curriculum_requisites\\\":[],\\\"name\\\":\\\" \\\",\\\"metrics\\\":{\\\"centrality\\\":0,\\\"complexity\\\":1.0,\\\"blocking factor\\\":0,\\\"delay factor\\\":1.0},\\\"nameSub\\\":\\\"Elective\\\",\\\"id\\\":183678702440113467,\\\"num\\\":\\\"\\\",\\\"credits\\\":3,\\\"prefix\\\":\\\"\\\"},{\\\"curriculum_requisites\\\":[],\\\"name\\\":\\\" \\\",\\\"metrics\\\":{\\\"centrality\\\":0,\\\"complexity\\\":1.0,\\\"blocking factor\\\":0,\\\"delay factor\\\":1.0},\\\"nameSub\\\":\\\"Liberal Studies\\\",\\\"id\\\":8606865612037434001,\\\"num\\\":\\\"\\\",\\\"credits\\\":3,\\\"prefix\\\":\\\"\\\"}],\\\"id\\\":6},{\\\"name\\\":\\\"Term 7\\\",\\\"curriculum_items\\\":[{\\\"curriculum_requisites\\\":[],\\\"name\\\":\\\" \\\",\\\"metrics\\\":{\\\"centrality\\\":0,\\\"complexity\\\":1.0,\\\"blocking factor\\\":0,\\\"delay factor\\\":1.0},\\\"nameSub\\\":\\\"ECE Elective \\\",\\\"id\\\":6384455901711293898,\\\"num\\\":\\\"\\\",\\\"credits\\\":3,\\\"prefix\\\":\\\"\\\"},{\\\"curriculum_requisites\\\":[],\\\"name\\\":\\\" \\\",\\\"metrics\\\":{\\\"centrality\\\":0,\\\"complexity\\\":1.0,\\\"blocking factor\\\":0,\\\"delay factor\\\":1.0},\\\"nameSub\\\":\\\"ECE Elective\\\",\\\"id\\\":5875654048926114542,\\\"num\\\":\\\"\\\",\\\"credits\\\":3,\\\"prefix\\\":\\\"\\\"},{\\\"curriculum_requisites\\\":[],\\\"name\\\":\\\" \\\",\\\"metrics\\\":{\\\"centrality\\\":0,\\\"complexity\\\":1.0,\\\"blocking factor\\\":0,\\\"delay factor\\\":1.0},\\\"nameSub\\\":\\\"Outside Tech. Elective\\\",\\\"id\\\":5687808186827623114,\\\"num\\\":\\\"\\\",\\\"credits\\\":3,\\\"prefix\\\":\\\"\\\"},{\\\"curriculum_requisites\\\":[],\\\"name\\\":\\\" \\\",\\\"metrics\\\":{\\\"centrality\\\":0,\\\"complexity\\\":1.0,\\\"blocking factor\\\":0,\\\"delay factor\\\":1.0},\\\"nameSub\\\":\\\"Liberal Studies\\\",\\\"id\\\":8606865612037434001,\\\"num\\\":\\\"\\\",\\\"credits\\\":3,\\\"prefix\\\":\\\"\\\"}],\\\"id\\\":7},{\\\"name\\\":\\\"Term 8\\\",\\\"curriculum_items\\\":[{\\\"curriculum_requisites\\\":[],\\\"name\\\":\\\" \\\",\\\"metrics\\\":{\\\"centrality\\\":0,\\\"complexity\\\":1.0,\\\"blocking factor\\\":0,\\\"delay factor\\\":1.0},\\\"nameSub\\\":\\\"ECE Elective\\\",\\\"id\\\":5875654048926114542,\\\"num\\\":\\\"\\\",\\\"credits\\\":3,\\\"prefix\\\":\\\"\\\"},{\\\"curriculum_requisites\\\":[],\\\"name\\\":\\\" \\\",\\\"metrics\\\":{\\\"centrality\\\":0,\\\"complexity\\\":1.0,\\\"blocking factor\\\":0,\\\"delay factor\\\":1.0},\\\"nameSub\\\":\\\"ECE Elective\\\",\\\"id\\\":5875654048926114542,\\\"num\\\":\\\"\\\",\\\"credits\\\":3,\\\"prefix\\\":\\\"\\\"},{\\\"curriculum_requisites\\\":[],\\\"name\\\":\\\" \\\",\\\"metrics\\\":{\\\"centrality\\\":0,\\\"complexity\\\":1.0,\\\"blocking factor\\\":0,\\\"delay factor\\\":1.0},\\\"nameSub\\\":\\\"ECE Elective\\\",\\\"id\\\":5875654048926114542,\\\"num\\\":\\\"\\\",\\\"credits\\\":3,\\\"prefix\\\":\\\"\\\"},{\\\"curriculum_requisites\\\":[],\\\"name\\\":\\\" \\\",\\\"metrics\\\":{\\\"centrality\\\":0,\\\"complexity\\\":1.0,\\\"blocking factor\\\":0,\\\"delay factor\\\":1.0},\\\"nameSub\\\":\\\"Liberal Studies\\\",\\\"id\\\":8606865612037434001,\\\"num\\\":\\\"\\\",\\\"credits\\\":3,\\\"prefix\\\":\\\"\\\"}],\\\"id\\\":8}]}},\\\"*\\\"); window.removeEventListener(\\\"message\\\",window.messageReceived); window.messageReceived=(function (event){return (event.data.curriculum!==undefined) ? (_webIOScope.setObservableValue({\\\"name\\\":\\\"curriculum-data\\\",\\\"scope\\\":\\\"scope-539f3a0b-3e18-44cf-9968-f7e04ad43160\\\",\\\"id\\\":\\\"ob_01\\\",\\\"type\\\":\\\"observable\\\"},event.data.curriculum)) : undefined}); return window.addEventListener(\\\"message\\\",window.messageReceived)})\"},\"style\":{\"padding\":\"0\",\"height\":\"100vh\",\"margin\":\"0\",\"border\":\"none\",\"width\":\"100%\"}},\"nodeType\":\"DOM\",\"type\":\"node\",\"instanceArgs\":{\"namespace\":\"html\",\"tag\":\"iframe\"},\"children\":[\"\"]}]},\n",
       "        );\n",
       "    } else {\n",
       "        document\n",
       "            .querySelector('[data-webio-mountpoint=\"9843246100524827834\"]')\n",
       "            .innerHTML = '<strong>WebIO not detected.</strong>';\n",
       "    }\n",
       "    </script>\n",
       "</div>\n"
      ],
      "text/plain": [
       "WebIO.Scope(\"scope-539f3a0b-3e18-44cf-9968-f7e04ad43160\", WebIO.Node{WebIO.DOM}(WebIO.DOM(:html, :iframe), Any[\"\"], Dict{Symbol,Any}(:src=>\"http://localhost:8156\",:id=>\"curriculum\",:events=>Dict(:load=>JSString(\"(function (){this.contentWindow.postMessage({\\\"curriculum\\\":{\\\"name\\\":\\\"MyPlan\\\",\\\"curriculum_terms\\\":[{\\\"name\\\":\\\"Term 1\\\",\\\"curriculum_items\\\":[{\\\"curriculum_requisites\\\":[],\\\"name\\\":\\\"CHEM 2090\\\",\\\"metrics\\\":{\\\"centrality\\\":0,\\\"complexity\\\":1.0,\\\"blocking factor\\\":0,\\\"delay factor\\\":1.0},\\\"nameSub\\\":\\\"CHEM 2090\\\",\\\"id\\\":712321689191628892,\\\"num\\\":\\\"2090\\\",\\\"credits\\\":3,\\\"prefix\\\":\\\"CHEM\\\"},{\\\"curriculum_requisites\\\":[],\\\"name\\\":\\\"MATH 1910\\\",\\\"metrics\\\":{\\\"centrality\\\":0,\\\"complexity\\\":15.0,\\\"blocking factor\\\":10,\\\"delay factor\\\":5.0},\\\"nameSub\\\":\\\"MATH 1910\\\",\\\"id\\\":4248919933258379146,\\\"num\\\":\\\"1910\\\",\\\"credits\\\":3,\\\"prefix\\\":\\\"MATH\\\"},{\\\"curriculum_requisites\\\":[],\\\"name\\\":\\\"ENGRI 1xxx\\\",\\\"metrics\\\":{\\\"centrality\\\":0,\\\"complexity\\\":1.0,\\\"blocking factor\\\":0,\\\"delay factor\\\":1.0},\\\"nameSub\\\":\\\"ENGRI 1xxx\\\",\\\"id\\\":5805080075235225040,\\\"num\\\":\\\"1xxx\\\",\\\"credits\\\":3,\\\"prefix\\\":\\\"ENGRI\\\"},{\\\"curriculum_requisites\\\":[],\\\"name\\\":\\\" \\\",\\\"metrics\\\":{\\\"centrality\\\":0,\\\"complexity\\\":1.0,\\\"blocking factor\\\":0,\\\"delay factor\\\":1.0},\\\"nameSub\\\":\\\"1st Yr Writing Seminar\\\",\\\"id\\\":777522438065076985,\\\"num\\\":\\\"\\\",\\\"credits\\\":3,\\\"prefix\\\":\\\"\\\"},{\\\"curriculum_requisites\\\":[],\\\"name\\\":\\\" \\\",\\\"metrics\\\":{\\\"centrality\\\":0,\\\"complexity\\\":1.0,\\\"blocking factor\\\":0,\\\"delay factor\\\":1.0},\\\"nameSub\\\":\\\"PE\\\",\\\"id\\\":6279884658628502318,\\\"num\\\":\\\"\\\",\\\"credits\\\":3,\\\"prefix\\\":\\\"\\\"}],\\\"id\\\":1},{\\\"name\\\":\\\"Term 2\\\",\\\"curriculum_items\\\":[{\\\"curriculum_requisites\\\":[{\\\"source_id\\\":4248919933258379146,\\\"target_id\\\":2677076278178033404,\\\"type\\\":\\\"strict-coreq\\\"}],\\\"name\\\":\\\"PHYS 1112\\\",\\\"metrics\\\":{\\\"centrality\\\":9,\\\"complexity\\\":9.0,\\\"blocking factor\\\":4,\\\"delay factor\\\":5.0},\\\"nameSub\\\":\\\"PHYS 1112\\\",\\\"id\\\":2677076278178033404,\\\"num\\\":\\\"1112\\\",\\\"credits\\\":3,\\\"prefix\\\":\\\"PHYS\\\"},{\\\"curriculum_requisites\\\":[{\\\"source_id\\\":4248919933258379146,\\\"target_id\\\":1443075937562850344,\\\"type\\\":\\\"strict-coreq\\\"}],\\\"name\\\":\\\"MATH 1920\\\",\\\"metrics\\\":{\\\"centrality\\\":28,\\\"complexity\\\":12.0,\\\"blocking factor\\\":8,\\\"delay factor\\\":4.0},\\\"nameSub\\\":\\\"MATH 1920\\\",\\\"id\\\":1443075937562850344,\\\"num\\\":\\\"1920\\\",\\\"credits\\\":3,\\\"prefix\\\":\\\"MATH\\\"},{\\\"curriculum_requisites\\\":[],\\\"name\\\":\\\"CS 111x\\\",\\\"metrics\\\":{\\\"centrality\\\":0,\\\"complexity\\\":6.0,\\\"blocking factor\\\":3,\\\"delay factor\\\":3.0},\\\"nameSub\\\":\\\"CS 111x\\\",\\\"id\\\":1676347194625955089,\\\"num\\\":\\\"111x\\\",\\\"credits\\\":3,\\\"prefix\\\":\\\"CS\\\"},{\\\"curriculum_requisites\\\":[],\\\"name\\\":\\\" \\\",\\\"metrics\\\":{\\\"centrality\\\":0,\\\"complexity\\\":1.0,\\\"blocking factor\\\":0,\\\"delay factor\\\":1.0},\\\"nameSub\\\":\\\"1st Yr Writing Seminar\\\",\\\"id\\\":777522438065076985,\\\"num\\\":\\\"\\\",\\\"credits\\\":3,\\\"prefix\\\":\\\"\\\"},{\\\"curriculum_requisites\\\":[],\\\"name\\\":\\\" \\\",\\\"metrics\\\":{\\\"centrality\\\":0,\\\"complexity\\\":1.0,\\\"blocking factor\\\":0,\\\"delay factor\\\":1.0},\\\"nameSub\\\":\\\"PE\\\",\\\"id\\\":6279884658628502318,\\\"num\\\":\\\"\\\",\\\"credits\\\":3,\\\"prefix\\\":\\\"\\\"}],\\\"id\\\":2},{\\\"name\\\":\\\"Term 3\\\",\\\"curriculum_items\\\":[{\\\"curriculum_requisites\\\":[{\\\"source_id\\\":2677076278178033404,\\\"target_id\\\":3245638716681957412,\\\"type\\\":\\\"strict-coreq\\\"},{\\\"source_id\\\":1443075937562850344,\\\"target_id\\\":3245638716681957412,\\\"type\\\":\\\"strict-coreq\\\"}],\\\"name\\\":\\\"PHYS 2213\\\",\\\"metrics\\\":{\\\"centrality\\\":18,\\\"complexity\\\":8.0,\\\"blocking factor\\\":3,\\\"delay factor\\\":5.0},\\\"nameSub\\\":\\\"PHYS 2213\\\",\\\"id\\\":3245638716681957412,\\\"num\\\":\\\"2213\\\",\\\"credits\\\":3,\\\"prefix\\\":\\\"PHYS\\\"},{\\\"curriculum_requisites\\\":[{\\\"source_id\\\":1443075937562850344,\\\"target_id\\\":8711797929341128496,\\\"type\\\":\\\"strict-coreq\\\"}],\\\"name\\\":\\\"MATH 2930\\\",\\\"metrics\\\":{\\\"centrality\\\":14,\\\"complexity\\\":8.0,\\\"blocking factor\\\":4,\\\"delay factor\\\":4.0},\\\"nameSub\\\":\\\"MATH 2930\\\",\\\"id\\\":8711797929341128496,\\\"num\\\":\\\"2930\\\",\\\"credits\\\":3,\\\"prefix\\\":\\\"MATH\\\"},{\\\"curriculum_requisites\\\":[{\\\"source_id\\\":3245638716681957412,\\\"target_id\\\":6807418853032993127,\\\"type\\\":\\\"strict-coreq\\\"},{\\\"source_id\\\":8711797929341128496,\\\"target_id\\\":6807418853032993127,\\\"type\\\":\\\"strict-coreq\\\"}],\\\"name\\\":\\\"ECE/ENGRD 2100\\\",\\\"metrics\\\":{\\\"centrality\\\":15,\\\"complexity\\\":6.0,\\\"blocking factor\\\":1,\\\"delay factor\\\":5.0},\\\"nameSub\\\":\\\"ECE/ENGRD 2100\\\",\\\"id\\\":6807418853032993127,\\\"num\\\":\\\"2100\\\",\\\"credits\\\":3,\\\"prefix\\\":\\\"ECE/ENGRD\\\"},{\\\"curriculum_requisites\\\":[{\\\"source_id\\\":1676347194625955089,\\\"target_id\\\":6888752060905037869,\\\"type\\\":\\\"strict-coreq\\\"}],\\\"name\\\":\\\"MECE/ENGRD 2300\\\",\\\"metrics\\\":{\\\"centrality\\\":3,\\\"complexity\\\":4.0,\\\"blocking factor\\\":1,\\\"delay factor\\\":3.0},\\\"nameSub\\\":\\\"MECE/ENGRD 2300\\\",\\\"id\\\":6888752060905037869,\\\"num\\\":\\\"2300\\\",\\\"credits\\\":3,\\\"prefix\\\":\\\"MECE/ENGRD\\\"},{\\\"curriculum_requisites\\\":[],\\\"name\\\":\\\" \\\",\\\"metrics\\\":{\\\"centrality\\\":0,\\\"complexity\\\":1.0,\\\"blocking factor\\\":0,\\\"delay factor\\\":1.0},\\\"nameSub\\\":\\\"Liberal Studies\\\",\\\"id\\\":8606865612037434001,\\\"num\\\":\\\"\\\",\\\"credits\\\":3,\\\"prefix\\\":\\\"\\\"}],\\\"id\\\":3},{\\\"name\\\":\\\"Term 4\\\",\\\"curriculum_items\\\":[{\\\"curriculum_requisites\\\":[{\\\"source_id\\\":8711797929341128496,\\\"target_id\\\":7024488469082603453,\\\"type\\\":\\\"strict-coreq\\\"}],\\\"name\\\":\\\"PHYS 2214\\\",\\\"metrics\\\":{\\\"centrality\\\":0,\\\"complexity\\\":4.0,\\\"blocking factor\\\":0,\\\"delay factor\\\":4.0},\\\"nameSub\\\":\\\"PHYS 2214\\\",\\\"id\\\":7024488469082603453,\\\"num\\\":\\\"2214\\\",\\\"credits\\\":3,\\\"prefix\\\":\\\"PHYS\\\"},{\\\"curriculum_requisites\\\":[{\\\"source_id\\\":1443075937562850344,\\\"target_id\\\":5940254218043227933,\\\"type\\\":\\\"strict-coreq\\\"}],\\\"name\\\":\\\"MATH 2940\\\",\\\"metrics\\\":{\\\"centrality\\\":5,\\\"complexity\\\":5.0,\\\"blocking factor\\\":2,\\\"delay factor\\\":3.0},\\\"nameSub\\\":\\\"MATH 2940\\\",\\\"id\\\":5940254218043227933,\\\"num\\\":\\\"2940\\\",\\\"credits\\\":3,\\\"prefix\\\":\\\"MATH\\\"},{\\\"curriculum_requisites\\\":[{\\\"source_id\\\":3245638716681957412,\\\"target_id\\\":2700866654363377980,\\\"type\\\":\\\"strict-coreq\\\"}],\\\"name\\\":\\\"ENGRD 2xxx\\\",\\\"metrics\\\":{\\\"centrality\\\":0,\\\"complexity\\\":4.0,\\\"blocking factor\\\":0,\\\"delay factor\\\":4.0},\\\"nameSub\\\":\\\"ENGRD 2xxx\\\",\\\"id\\\":2700866654363377980,\\\"num\\\":\\\"2xxx\\\",\\\"credits\\\":3,\\\"prefix\\\":\\\"ENGRD\\\"},{\\\"curriculum_requisites\\\":[{\\\"source_id\\\":8711797929341128496,\\\"target_id\\\":1147788349835837565,\\\"type\\\":\\\"strict-coreq\\\"},{\\\"source_id\\\":5940254218043227933,\\\"target_id\\\":1147788349835837565,\\\"type\\\":\\\"strict-coreq\\\"}],\\\"name\\\":\\\"ECE/ENGRD 2200/2220\\\",\\\"metrics\\\":{\\\"centrality\\\":10,\\\"complexity\\\":5.0,\\\"blocking factor\\\":1,\\\"delay factor\\\":4.0},\\\"nameSub\\\":\\\"ECE 2200/ENGRD 2220\\\",\\\"id\\\":1147788349835837565,\\\"num\\\":\\\"2200/2220\\\",\\\"credits\\\":3,\\\"prefix\\\":\\\"ECE/ENGRD\\\"},{\\\"curriculum_requisites\\\":[],\\\"name\\\":\\\" \\\",\\\"metrics\\\":{\\\"centrality\\\":0,\\\"complexity\\\":1.0,\\\"blocking factor\\\":0,\\\"delay factor\\\":1.0},\\\"nameSub\\\":\\\"Liberal Studies\\\",\\\"id\\\":8606865612037434001,\\\"num\\\":\\\"\\\",\\\"credits\\\":3,\\\"prefix\\\":\\\"\\\"}],\\\"id\\\":4},{\\\"name\\\":\\\"Term 5\\\",\\\"curriculum_items\\\":[{\\\"curriculum_requisites\\\":[],\\\"name\\\":\\\" \\\",\\\"metrics\\\":{\\\"centrality\\\":0,\\\"complexity\\\":1.0,\\\"blocking factor\\\":0,\\\"delay factor\\\":1.0},\\\"nameSub\\\":\\\"ECE Foundations\\\",\\\"id\\\":2913252156633997146,\\\"num\\\":\\\"\\\",\\\"credits\\\":3,\\\"prefix\\\":\\\"\\\"},{\\\"curriculum_requisites\\\":[],\\\"name\\\":\\\" \\\",\\\"metrics\\\":{\\\"centrality\\\":0,\\\"complexity\\\":1.0,\\\"blocking factor\\\":0,\\\"delay factor\\\":1.0},\\\"nameSub\\\":\\\"Elective\\\",\\\"id\\\":183678702440113467,\\\"num\\\":\\\"\\\",\\\"credits\\\":3,\\\"prefix\\\":\\\"\\\"},{\\\"curriculum_requisites\\\":[{\\\"source_id\\\":1676347194625955089,\\\"target_id\\\":5687808186827623114,\\\"type\\\":\\\"strict-coreq\\\"}],\\\"name\\\":\\\" \\\",\\\"metrics\\\":{\\\"centrality\\\":0,\\\"complexity\\\":2.0,\\\"blocking factor\\\":0,\\\"delay factor\\\":2.0},\\\"nameSub\\\":\\\"Outside Tech. Elective\\\",\\\"id\\\":5687808186827623114,\\\"num\\\":\\\"\\\",\\\"credits\\\":3,\\\"prefix\\\":\\\"\\\"},{\\\"curriculum_requisites\\\":[{\\\"source_id\\\":6807418853032993127,\\\"target_id\\\":3472071104686575331,\\\"type\\\":\\\"strict-coreq\\\"},{\\\"source_id\\\":1147788349835837565,\\\"target_id\\\":3472071104686575331,\\\"type\\\":\\\"strict-coreq\\\"},{\\\"source_id\\\":6888752060905037869,\\\"target_id\\\":3472071104686575331,\\\"type\\\":\\\"strict-coreq\\\"}],\\\"name\\\":\\\"ECE 3400\\\",\\\"metrics\\\":{\\\"centrality\\\":0,\\\"complexity\\\":5.0,\\\"blocking factor\\\":0,\\\"delay factor\\\":5.0},\\\"nameSub\\\":\\\"ECE 3400\\\",\\\"id\\\":3472071104686575331,\\\"num\\\":\\\"3400\\\",\\\"credits\\\":3,\\\"prefix\\\":\\\"ECE\\\"},{\\\"curriculum_requisites\\\":[],\\\"name\\\":\\\" \\\",\\\"metrics\\\":{\\\"centrality\\\":0,\\\"complexity\\\":1.0,\\\"blocking factor\\\":0,\\\"delay factor\\\":1.0},\\\"nameSub\\\":\\\"Liberal Studies\\\",\\\"id\\\":8606865612037434001,\\\"num\\\":\\\"\\\",\\\"credits\\\":3,\\\"prefix\\\":\\\"\\\"}],\\\"id\\\":5},{\\\"name\\\":\\\"Term 6\\\",\\\"curriculum_items\\\":[{\\\"curriculum_requisites\\\":[],\\\"name\\\":\\\" \\\",\\\"metrics\\\":{\\\"centrality\\\":0,\\\"complexity\\\":1.0,\\\"blocking factor\\\":0,\\\"delay factor\\\":1.0},\\\"nameSub\\\":\\\"ECE Foundations\\\",\\\"id\\\":2913252156633997146,\\\"num\\\":\\\"\\\",\\\"credits\\\":3,\\\"prefix\\\":\\\"\\\"},{\\\"curriculum_requisites\\\":[],\\\"name\\\":\\\" \\\",\\\"metrics\\\":{\\\"centrality\\\":0,\\\"complexity\\\":1.0,\\\"blocking factor\\\":0,\\\"delay factor\\\":1.0},\\\"nameSub\\\":\\\"ECE Foundations\\\",\\\"id\\\":2913252156633997146,\\\"num\\\":\\\"\\\",\\\"credits\\\":3,\\\"prefix\\\":\\\"\\\"},{\\\"curriculum_requisites\\\":[],\\\"name\\\":\\\" \\\",\\\"metrics\\\":{\\\"centrality\\\":0,\\\"complexity\\\":1.0,\\\"blocking factor\\\":0,\\\"delay factor\\\":1.0},\\\"nameSub\\\":\\\"Outside Tech. Elective\\\",\\\"id\\\":5687808186827623114,\\\"num\\\":\\\"\\\",\\\"credits\\\":3,\\\"prefix\\\":\\\"\\\"},{\\\"curriculum_requisites\\\":[],\\\"name\\\":\\\" \\\",\\\"metrics\\\":{\\\"centrality\\\":0,\\\"complexity\\\":1.0,\\\"blocking factor\\\":0,\\\"delay factor\\\":1.0},\\\"nameSub\\\":\\\"Elective\\\",\\\"id\\\":183678702440113467,\\\"num\\\":\\\"\\\",\\\"credits\\\":3,\\\"prefix\\\":\\\"\\\"},{\\\"curriculum_requisites\\\":[],\\\"name\\\":\\\" \\\",\\\"metrics\\\":{\\\"centrality\\\":0,\\\"complexity\\\":1.0,\\\"blocking factor\\\":0,\\\"delay factor\\\":1.0},\\\"nameSub\\\":\\\"Liberal Studies\\\",\\\"id\\\":8606865612037434001,\\\"num\\\":\\\"\\\",\\\"credits\\\":3,\\\"prefix\\\":\\\"\\\"}],\\\"id\\\":6},{\\\"name\\\":\\\"Term 7\\\",\\\"curriculum_items\\\":[{\\\"curriculum_requisites\\\":[],\\\"name\\\":\\\" \\\",\\\"metrics\\\":{\\\"centrality\\\":0,\\\"complexity\\\":1.0,\\\"blocking factor\\\":0,\\\"delay factor\\\":1.0},\\\"nameSub\\\":\\\"ECE Elective \\\",\\\"id\\\":6384455901711293898,\\\"num\\\":\\\"\\\",\\\"credits\\\":3,\\\"prefix\\\":\\\"\\\"},{\\\"curriculum_requisites\\\":[],\\\"name\\\":\\\" \\\",\\\"metrics\\\":{\\\"centrality\\\":0,\\\"complexity\\\":1.0,\\\"blocking factor\\\":0,\\\"delay factor\\\":1.0},\\\"nameSub\\\":\\\"ECE Elective\\\",\\\"id\\\":5875654048926114542,\\\"num\\\":\\\"\\\",\\\"credits\\\":3,\\\"prefix\\\":\\\"\\\"},{\\\"curriculum_requisites\\\":[],\\\"name\\\":\\\" \\\",\\\"metrics\\\":{\\\"centrality\\\":0,\\\"complexity\\\":1.0,\\\"blocking factor\\\":0,\\\"delay factor\\\":1.0},\\\"nameSub\\\":\\\"Outside Tech. Elective\\\",\\\"id\\\":5687808186827623114,\\\"num\\\":\\\"\\\",\\\"credits\\\":3,\\\"prefix\\\":\\\"\\\"},{\\\"curriculum_requisites\\\":[],\\\"name\\\":\\\" \\\",\\\"metrics\\\":{\\\"centrality\\\":0,\\\"complexity\\\":1.0,\\\"blocking factor\\\":0,\\\"delay factor\\\":1.0},\\\"nameSub\\\":\\\"Liberal Studies\\\",\\\"id\\\":8606865612037434001,\\\"num\\\":\\\"\\\",\\\"credits\\\":3,\\\"prefix\\\":\\\"\\\"}],\\\"id\\\":7},{\\\"name\\\":\\\"Term 8\\\",\\\"curriculum_items\\\":[{\\\"curriculum_requisites\\\":[],\\\"name\\\":\\\" \\\",\\\"metrics\\\":{\\\"centrality\\\":0,\\\"complexity\\\":1.0,\\\"blocking factor\\\":0,\\\"delay factor\\\":1.0},\\\"nameSub\\\":\\\"ECE Elective\\\",\\\"id\\\":5875654048926114542,\\\"num\\\":\\\"\\\",\\\"credits\\\":3,\\\"prefix\\\":\\\"\\\"},{\\\"curriculum_requisites\\\":[],\\\"name\\\":\\\" \\\",\\\"metrics\\\":{\\\"centrality\\\":0,\\\"complexity\\\":1.0,\\\"blocking factor\\\":0,\\\"delay factor\\\":1.0},\\\"nameSub\\\":\\\"ECE Elective\\\",\\\"id\\\":5875654048926114542,\\\"num\\\":\\\"\\\",\\\"credits\\\":3,\\\"prefix\\\":\\\"\\\"},{\\\"curriculum_requisites\\\":[],\\\"name\\\":\\\" \\\",\\\"metrics\\\":{\\\"centrality\\\":0,\\\"complexity\\\":1.0,\\\"blocking factor\\\":0,\\\"delay factor\\\":1.0},\\\"nameSub\\\":\\\"ECE Elective\\\",\\\"id\\\":5875654048926114542,\\\"num\\\":\\\"\\\",\\\"credits\\\":3,\\\"prefix\\\":\\\"\\\"},{\\\"curriculum_requisites\\\":[],\\\"name\\\":\\\" \\\",\\\"metrics\\\":{\\\"centrality\\\":0,\\\"complexity\\\":1.0,\\\"blocking factor\\\":0,\\\"delay factor\\\":1.0},\\\"nameSub\\\":\\\"Liberal Studies\\\",\\\"id\\\":8606865612037434001,\\\"num\\\":\\\"\\\",\\\"credits\\\":3,\\\"prefix\\\":\\\"\\\"}],\\\"id\\\":8}]}},\\\"*\\\"); window.removeEventListener(\\\"message\\\",window.messageReceived); window.messageReceived=(function (event){return (event.data.curriculum!==undefined) ? (_webIOScope.setObservableValue({\\\"name\\\":\\\"curriculum-data\\\",\\\"scope\\\":\\\"scope-539f3a0b-3e18-44cf-9968-f7e04ad43160\\\",\\\"id\\\":\\\"ob_01\\\",\\\"type\\\":\\\"observable\\\"},event.data.curriculum)) : undefined}); return window.addEventListener(\\\"message\\\",window.messageReceived)})\")),:style=>Dict(:padding=>\"0\",:height=>\"100vh\",:margin=>\"0\",:border=>\"none\",:width=>\"100%\")), 1), Dict{String,Tuple{Observables.AbstractObservable,Union{Nothing, Bool}}}(\"curriculum-data\"=>(Observable{Dict{String,Any}} with 1 listeners. Value:\n",
       "Dict{String,Any}(\"curriculum\"=>Dict{String,Any}(\"name\"=>\"MyPlan\",\"curriculum_terms\"=>Any[Dict{String,Any}(\"name\"=>\"Term 1\",\"curriculum_items\"=>Any[Dict{String,Any}(\"curriculum_requisites\"=>Any[],\"name\"=>\"CHEM 2090\",\"metrics\"=>Dict{String,Any}(\"centrality\"=>0,\"complexity\"=>1.0,\"blocking factor\"=>0,\"delay factor\"=>1.0),\"nameSub\"=>\"CHEM 2090\",\"id\"=>712321689191628892,\"num\"=>\"2090\",\"credits\"=>3,\"prefix\"=>\"CHEM\"), Dict{String,Any}(\"curriculum_requisites\"=>Any[],\"name\"=>\"MATH 1910\",\"metrics\"=>Dict{String,Any}(\"centrality\"=>0,\"complexity\"=>15.0,\"blocking factor\"=>10,\"delay factor\"=>5.0),\"nameSub\"=>\"MATH 1910\",\"id\"=>4248919933258379146,\"num\"=>\"1910\",\"credits\"=>3,\"prefix\"=>\"MATH\"), Dict{String,Any}(\"curriculum_requisites\"=>Any[],\"name\"=>\"ENGRI 1xxx\",\"metrics\"=>Dict{String,Any}(\"centrality\"=>0,\"complexity\"=>1.0,\"blocking factor\"=>0,\"delay factor\"=>1.0),\"nameSub\"=>\"ENGRI 1xxx\",\"id\"=>5805080075235225040,\"num\"=>\"1xxx\",\"credits\"=>3,\"prefix\"=>\"ENGRI\"), Dict{String,Any}(\"curriculum_requisites\"=>Any[],\"name\"=>\" \",\"metrics\"=>Dict{String,Any}(\"centrality\"=>0,\"complexity\"=>1.0,\"blocking factor\"=>0,\"delay factor\"=>1.0),\"nameSub\"=>\"1st Yr Writing Seminar\",\"id\"=>777522438065076985,\"num\"=>\"\",\"credits\"=>3,\"prefix\"=>\"\"), Dict{String,Any}(\"curriculum_requisites\"=>Any[],\"name\"=>\" \",\"metrics\"=>Dict{String,Any}(\"centrality\"=>0,\"complexity\"=>1.0,\"blocking factor\"=>0,\"delay factor\"=>1.0),\"nameSub\"=>\"PE\",\"id\"=>6279884658628502318,\"num\"=>\"\",\"credits\"=>3,\"prefix\"=>\"\")],\"id\"=>1), Dict{String,Any}(\"name\"=>\"Term 2\",\"curriculum_items\"=>Any[Dict{String,Any}(\"curriculum_requisites\"=>Any[Dict{String,Any}(\"source_id\"=>4248919933258379146,\"target_id\"=>2677076278178033404,\"type\"=>\"strict-coreq\")],\"name\"=>\"PHYS 1112\",\"metrics\"=>Dict{String,Any}(\"centrality\"=>9,\"complexity\"=>9.0,\"blocking factor\"=>4,\"delay factor\"=>5.0),\"nameSub\"=>\"PHYS 1112\",\"id\"=>2677076278178033404,\"num\"=>\"1112\",\"credits\"=>3,\"prefix\"=>\"PHYS\"), Dict{String,Any}(\"curriculum_requisites\"=>Any[Dict{String,Any}(\"source_id\"=>4248919933258379146,\"target_id\"=>1443075937562850344,\"type\"=>\"strict-coreq\")],\"name\"=>\"MATH 1920\",\"metrics\"=>Dict{String,Any}(\"centrality\"=>28,\"complexity\"=>12.0,\"blocking factor\"=>8,\"delay factor\"=>4.0),\"nameSub\"=>\"MATH 1920\",\"id\"=>1443075937562850344,\"num\"=>\"1920\",\"credits\"=>3,\"prefix\"=>\"MATH\"), Dict{String,Any}(\"curriculum_requisites\"=>Any[],\"name\"=>\"CS 111x\",\"metrics\"=>Dict{String,Any}(\"centrality\"=>0,\"complexity\"=>6.0,\"blocking factor\"=>3,\"delay factor\"=>3.0),\"nameSub\"=>\"CS 111x\",\"id\"=>1676347194625955089,\"num\"=>\"111x\",\"credits\"=>3,\"prefix\"=>\"CS\"), Dict{String,Any}(\"curriculum_requisites\"=>Any[],\"name\"=>\" \",\"metrics\"=>Dict{String,Any}(\"centrality\"=>0,\"complexity\"=>1.0,\"blocking factor\"=>0,\"delay factor\"=>1.0),\"nameSub\"=>\"1st Yr Writing Seminar\",\"id\"=>777522438065076985,\"num\"=>\"\",\"credits\"=>3,\"prefix\"=>\"\"), Dict{String,Any}(\"curriculum_requisites\"=>Any[],\"name\"=>\" \",\"metrics\"=>Dict{String,Any}(\"centrality\"=>0,\"complexity\"=>1.0,\"blocking factor\"=>0,\"delay factor\"=>1.0),\"nameSub\"=>\"PE\",\"id\"=>6279884658628502318,\"num\"=>\"\",\"credits\"=>3,\"prefix\"=>\"\")],\"id\"=>2), Dict{String,Any}(\"name\"=>\"Term 3\",\"curriculum_items\"=>Any[Dict{String,Any}(\"curriculum_requisites\"=>Any[Dict{String,Any}(\"source_id\"=>2677076278178033404,\"target_id\"=>3245638716681957412,\"type\"=>\"strict-coreq\"), Dict{String,Any}(\"source_id\"=>1443075937562850344,\"target_id\"=>3245638716681957412,\"type\"=>\"strict-coreq\")],\"name\"=>\"PHYS 2213\",\"metrics\"=>Dict{String,Any}(\"centrality\"=>18,\"complexity\"=>8.0,\"blocking factor\"=>3,\"delay factor\"=>5.0),\"nameSub\"=>\"PHYS 2213\",\"id\"=>3245638716681957412,\"num\"=>\"2213\",\"credits\"=>3,\"prefix\"=>\"PHYS\"), Dict{String,Any}(\"curriculum_requisites\"=>Any[Dict{String,Any}(\"source_id\"=>1443075937562850344,\"target_id\"=>8711797929341128496,\"type\"=>\"strict-coreq\")],\"name\"=>\"MATH 2930\",\"metrics\"=>Dict{String,Any}(\"centrality\"=>14,\"complexity\"=>8.0,\"blocking factor\"=>4,\"delay factor\"=>4.0),\"nameSub\"=>\"MATH 2930\",\"id\"=>8711797929341128496,\"num\"=>\"2930\",\"credits\"=>3,\"prefix\"=>\"MATH\"), Dict{String,Any}(\"curriculum_requisites\"=>Any[Dict{String,Any}(\"source_id\"=>3245638716681957412,\"target_id\"=>6807418853032993127,\"type\"=>\"strict-coreq\"), Dict{String,Any}(\"source_id\"=>8711797929341128496,\"target_id\"=>6807418853032993127,\"type\"=>\"strict-coreq\")],\"name\"=>\"ECE/ENGRD 2100\",\"metrics\"=>Dict{String,Any}(\"centrality\"=>15,\"complexity\"=>6.0,\"blocking factor\"=>1,\"delay factor\"=>5.0),\"nameSub\"=>\"ECE/ENGRD 2100\",\"id\"=>6807418853032993127,\"num\"=>\"2100\",\"credits\"=>3,\"prefix\"=>\"ECE/ENGRD\"), Dict{String,Any}(\"curriculum_requisites\"=>Any[Dict{String,Any}(\"source_id\"=>1676347194625955089,\"target_id\"=>6888752060905037869,\"type\"=>\"strict-coreq\")],\"name\"=>\"MECE/ENGRD 2300\",\"metrics\"=>Dict{String,Any}(\"centrality\"=>3,\"complexity\"=>4.0,\"blocking factor\"=>1,\"delay factor\"=>3.0),\"nameSub\"=>\"MECE/ENGRD 2300\",\"id\"=>6888752060905037869,\"num\"=>\"2300\",\"credits\"=>3,\"prefix\"=>\"MECE/ENGRD\"), Dict{String,Any}(\"curriculum_requisites\"=>Any[],\"name\"=>\" \",\"metrics\"=>Dict{String,Any}(\"centrality\"=>0,\"complexity\"=>1.0,\"blocking factor\"=>0,\"delay factor\"=>1.0),\"nameSub\"=>\"Liberal Studies\",\"id\"=>8606865612037434001,\"num\"=>\"\",\"credits\"=>3,\"prefix\"=>\"\")],\"id\"=>3), Dict{String,Any}(\"name\"=>\"Term 4\",\"curriculum_items\"=>Any[Dict{String,Any}(\"curriculum_requisites\"=>Any[Dict{String,Any}(\"source_id\"=>8711797929341128496,\"target_id\"=>7024488469082603453,\"type\"=>\"strict-coreq\")],\"name\"=>\"PHYS 2214\",\"metrics\"=>Dict{String,Any}(\"centrality\"=>0,\"complexity\"=>4.0,\"blocking factor\"=>0,\"delay factor\"=>4.0),\"nameSub\"=>\"PHYS 2214\",\"id\"=>7024488469082603453,\"num\"=>\"2214\",\"credits\"=>3,\"prefix\"=>\"PHYS\"), Dict{String,Any}(\"curriculum_requisites\"=>Any[Dict{String,Any}(\"source_id\"=>1443075937562850344,\"target_id\"=>5940254218043227933,\"type\"=>\"strict-coreq\")],\"name\"=>\"MATH 2940\",\"metrics\"=>Dict{String,Any}(\"centrality\"=>5,\"complexity\"=>5.0,\"blocking factor\"=>2,\"delay factor\"=>3.0),\"nameSub\"=>\"MATH 2940\",\"id\"=>5940254218043227933,\"num\"=>\"2940\",\"credits\"=>3,\"prefix\"=>\"MATH\"), Dict{String,Any}(\"curriculum_requisites\"=>Any[Dict{String,Any}(\"source_id\"=>3245638716681957412,\"target_id\"=>2700866654363377980,\"type\"=>\"strict-coreq\")],\"name\"=>\"ENGRD 2xxx\",\"metrics\"=>Dict{String,Any}(\"centrality\"=>0,\"complexity\"=>4.0,\"blocking factor\"=>0,\"delay factor\"=>4.0),\"nameSub\"=>\"ENGRD 2xxx\",\"id\"=>2700866654363377980,\"num\"=>\"2xxx\",\"credits\"=>3,\"prefix\"=>\"ENGRD\"), Dict{String,Any}(\"curriculum_requisites\"=>Any[Dict{String,Any}(\"source_id\"=>8711797929341128496,\"target_id\"=>1147788349835837565,\"type\"=>\"strict-coreq\"), Dict{String,Any}(\"source_id\"=>5940254218043227933,\"target_id\"=>1147788349835837565,\"type\"=>\"strict-coreq\")],\"name\"=>\"ECE/ENGRD 2200/2220\",\"metrics\"=>Dict{String,Any}(\"centrality\"=>10,\"complexity\"=>5.0,\"blocking factor\"=>1,\"delay factor\"=>4.0),\"nameSub\"=>\"ECE 2200/ENGRD 2220\",\"id\"=>1147788349835837565,\"num\"=>\"2200/2220\",\"credits\"=>3,\"prefix\"=>\"ECE/ENGRD\"), Dict{String,Any}(\"curriculum_requisites\"=>Any[],\"name\"=>\" \",\"metrics\"=>Dict{String,Any}(\"centrality\"=>0,\"complexity\"=>1.0,\"blocking factor\"=>0,\"delay factor\"=>1.0),\"nameSub\"=>\"Liberal Studies\",\"id\"=>8606865612037434001,\"num\"=>\"\",\"credits\"=>3,\"prefix\"=>\"\")],\"id\"=>4), Dict{String,Any}(\"name\"=>\"Term 5\",\"curriculum_items\"=>Any[Dict{String,Any}(\"curriculum_requisites\"=>Any[],\"name\"=>\" \",\"metrics\"=>Dict{String,Any}(\"centrality\"=>0,\"complexity\"=>1.0,\"blocking factor\"=>0,\"delay factor\"=>1.0),\"nameSub\"=>\"ECE Foundations\",\"id\"=>2913252156633997146,\"num\"=>\"\",\"credits\"=>3,\"prefix\"=>\"\"), Dict{String,Any}(\"curriculum_requisites\"=>Any[],\"name\"=>\" \",\"metrics\"=>Dict{String,Any}(\"centrality\"=>0,\"complexity\"=>1.0,\"blocking factor\"=>0,\"delay factor\"=>1.0),\"nameSub\"=>\"Elective\",\"id\"=>183678702440113467,\"num\"=>\"\",\"credits\"=>3,\"prefix\"=>\"\"), Dict{String,Any}(\"curriculum_requisites\"=>Any[Dict{String,Any}(\"source_id\"=>1676347194625955089,\"target_id\"=>5687808186827623114,\"type\"=>\"strict-coreq\")],\"name\"=>\" \",\"metrics\"=>Dict{String,Any}(\"centrality\"=>0,\"complexity\"=>2.0,\"blocking factor\"=>0,\"delay factor\"=>2.0),\"nameSub\"=>\"Outside Tech. Elective\",\"id\"=>5687808186827623114,\"num\"=>\"\",\"credits\"=>3,\"prefix\"=>\"\"), Dict{String,Any}(\"curriculum_requisites\"=>Any[Dict{String,Any}(\"source_id\"=>6807418853032993127,\"target_id\"=>3472071104686575331,\"type\"=>\"strict-coreq\"), Dict{String,Any}(\"source_id\"=>1147788349835837565,\"target_id\"=>3472071104686575331,\"type\"=>\"strict-coreq\"), Dict{String,Any}(\"source_id\"=>6888752060905037869,\"target_id\"=>3472071104686575331,\"type\"=>\"strict-coreq\")],\"name\"=>\"ECE 3400\",\"metrics\"=>Dict{String,Any}(\"centrality\"=>0,\"complexity\"=>5.0,\"blocking factor\"=>0,\"delay factor\"=>5.0),\"nameSub\"=>\"ECE 3400\",\"id\"=>3472071104686575331,\"num\"=>\"3400\",\"credits\"=>3,\"prefix\"=>\"ECE\"), Dict{String,Any}(\"curriculum_requisites\"=>Any[],\"name\"=>\" \",\"metrics\"=>Dict{String,Any}(\"centrality\"=>0,\"complexity\"=>1.0,\"blocking factor\"=>0,\"delay factor\"=>1.0),\"nameSub\"=>\"Liberal Studies\",\"id\"=>8606865612037434001,\"num\"=>\"\",\"credits\"=>3,\"prefix\"=>\"\")],\"id\"=>5), Dict{String,Any}(\"name\"=>\"Term 6\",\"curriculum_items\"=>Any[Dict{String,Any}(\"curriculum_requisites\"=>Any[],\"name\"=>\" \",\"metrics\"=>Dict{String,Any}(\"centrality\"=>0,\"complexity\"=>1.0,\"blocking factor\"=>0,\"delay factor\"=>1.0),\"nameSub\"=>\"ECE Foundations\",\"id\"=>2913252156633997146,\"num\"=>\"\",\"credits\"=>3,\"prefix\"=>\"\"), Dict{String,Any}(\"curriculum_requisites\"=>Any[],\"name\"=>\" \",\"metrics\"=>Dict{String,Any}(\"centrality\"=>0,\"complexity\"=>1.0,\"blocking factor\"=>0,\"delay factor\"=>1.0),\"nameSub\"=>\"ECE Foundations\",\"id\"=>2913252156633997146,\"num\"=>\"\",\"credits\"=>3,\"prefix\"=>\"\"), Dict{String,Any}(\"curriculum_requisites\"=>Any[],\"name\"=>\" \",\"metrics\"=>Dict{String,Any}(\"centrality\"=>0,\"complexity\"=>1.0,\"blocking factor\"=>0,\"delay factor\"=>1.0),\"nameSub\"=>\"Outside Tech. Elective\",\"id\"=>5687808186827623114,\"num\"=>\"\",\"credits\"=>3,\"prefix\"=>\"\"), Dict{String,Any}(\"curriculum_requisites\"=>Any[],\"name\"=>\" \",\"metrics\"=>Dict{String,Any}(\"centrality\"=>0,\"complexity\"=>1.0,\"blocking factor\"=>0,\"delay factor\"=>1.0),\"nameSub\"=>\"Elective\",\"id\"=>183678702440113467,\"num\"=>\"\",\"credits\"=>3,\"prefix\"=>\"\"), Dict{String,Any}(\"curriculum_requisites\"=>Any[],\"name\"=>\" \",\"metrics\"=>Dict{String,Any}(\"centrality\"=>0,\"complexity\"=>1.0,\"blocking factor\"=>0,\"delay factor\"=>1.0),\"nameSub\"=>\"Liberal Studies\",\"id\"=>8606865612037434001,\"num\"=>\"\",\"credits\"=>3,\"prefix\"=>\"\")],\"id\"=>6), Dict{String,Any}(\"name\"=>\"Term 7\",\"curriculum_items\"=>Any[Dict{String,Any}(\"curriculum_requisites\"=>Any[],\"name\"=>\" \",\"metrics\"=>Dict{String,Any}(\"centrality\"=>0,\"complexity\"=>1.0,\"blocking factor\"=>0,\"delay factor\"=>1.0),\"nameSub\"=>\"ECE Elective \",\"id\"=>6384455901711293898,\"num\"=>\"\",\"credits\"=>3,\"prefix\"=>\"\"), Dict{String,Any}(\"curriculum_requisites\"=>Any[],\"name\"=>\" \",\"metrics\"=>Dict{String,Any}(\"centrality\"=>0,\"complexity\"=>1.0,\"blocking factor\"=>0,\"delay factor\"=>1.0),\"nameSub\"=>\"ECE Elective\",\"id\"=>5875654048926114542,\"num\"=>\"\",\"credits\"=>3,\"prefix\"=>\"\"), Dict{String,Any}(\"curriculum_requisites\"=>Any[],\"name\"=>\" \",\"metrics\"=>Dict{String,Any}(\"centrality\"=>0,\"complexity\"=>1.0,\"blocking factor\"=>0,\"delay factor\"=>1.0),\"nameSub\"=>\"Outside Tech. Elective\",\"id\"=>5687808186827623114,\"num\"=>\"\",\"credits\"=>3,\"prefix\"=>\"\"), Dict{String,Any}(\"curriculum_requisites\"=>Any[],\"name\"=>\" \",\"metrics\"=>Dict{String,Any}(\"centrality\"=>0,\"complexity\"=>1.0,\"blocking factor\"=>0,\"delay factor\"=>1.0),\"nameSub\"=>\"Liberal Studies\",\"id\"=>8606865612037434001,\"num\"=>\"\",\"credits\"=>3,\"prefix\"=>\"\")],\"id\"=>7), Dict{String,Any}(\"name\"=>\"Term 8\",\"curriculum_items\"=>Any[Dict{String,Any}(\"curriculum_requisites\"=>Any[],\"name\"=>\" \",\"metrics\"=>Dict{String,Any}(\"centrality\"=>0,\"complexity\"=>1.0,\"blocking factor\"=>0,\"delay factor\"=>1.0),\"nameSub\"=>\"ECE Elective\",\"id\"=>5875654048926114542,\"num\"=>\"\",\"credits\"=>3,\"prefix\"=>\"\"), Dict{String,Any}(\"curriculum_requisites\"=>Any[],\"name\"=>\" \",\"metrics\"=>Dict{String,Any}(\"centrality\"=>0,\"complexity\"=>1.0,\"blocking factor\"=>0,\"delay factor\"=>1.0),\"nameSub\"=>\"ECE Elective\",\"id\"=>5875654048926114542,\"num\"=>\"\",\"credits\"=>3,\"prefix\"=>\"\"), Dict{String,Any}(\"curriculum_requisites\"=>Any[],\"name\"=>\" \",\"metrics\"=>Dict{String,Any}(\"centrality\"=>0,\"complexity\"=>1.0,\"blocking factor\"=>0,\"delay factor\"=>1.0),\"nameSub\"=>\"ECE Elective\",\"id\"=>5875654048926114542,\"num\"=>\"\",\"credits\"=>3,\"prefix\"=>\"\"), Dict{String,Any}(\"curriculum_requisites\"=>Any[],\"name\"=>\" \",\"metrics\"=>Dict{String,Any}(\"centrality\"=>0,\"complexity\"=>1.0,\"blocking factor\"=>0,\"delay factor\"=>1.0),\"nameSub\"=>\"Liberal Studies\",\"id\"=>8606865612037434001,\"num\"=>\"\",\"credits\"=>3,\"prefix\"=>\"\")],\"id\"=>8)])), nothing)), Set(String[]), nothing, Any[], Dict{Any,Any}(), WebIO.ConnectionPool(Channel{Any}(sz_max:9223372036854775807,sz_curr:0), Set(WebIO.AbstractConnection[]), Channel{WebIO.AbstractConnection}(sz_max:32,sz_curr:0)))"
      ]
     },
     "execution_count": 1,
     "metadata": {
      "application/vnd.webio.node+json": {
       "kernelId": "07a4b28d-dae1-4616-80d5-1eb32e6f94d3"
      }
     },
     "output_type": "execute_result"
    }
   ],
   "source": [
    "#This cell shows does not use Blink, so the output will will be shown in Jupyter with visualize_jupyter function\n",
    "\n",
    "#Activate CurricularAnalytics package and add it\n",
    "using Pkg\n",
    "pkg\"activate .\"\n",
    "using CurricularAnalytics\n",
    "#read Classes from csv file and dump as .json\n",
    "read_csv(\"examples/UH_EE.csv\")\n",
    "#Load classes from .json file created\n",
    "dp = import_degree_plan(\"recent-visualization.json\")\n",
    "curric = dp.curriculum\n",
    "\n",
    "errors = IOBuffer()\n",
    "if isvalid_curriculum(curric, errors)\n",
    "    println(\"Curriculum $(curric.name) is valid\")\n",
    "    println(\"  delay factor = $(delay_factor(curric))\")\n",
    "    println(\"  blocking factor = $(blocking_factor(curric))\")\n",
    "    println(\"  centrality factor = $(centrality(curric))\")\n",
    "    println(\"  curricular complexity = $(complexity(curric))\")\n",
    "    take!(errors) # clear the IO buffer\n",
    "    if isvalid_degree_plan(dp, errors)\n",
    "        println(\"Degree plan $(dp.name) is valid\")\n",
    "    else\n",
    "        println(\"Degree plan $(dp.name) is not valid:\")\n",
    "        print(String(take!(errors)))\n",
    "        println(\"\\nDiplaying degree plan for debugging purposes...\")\n",
    "    end\n",
    "    #visualize(dp)\n",
    "    visualize_jupyter(dp)\n",
    "else # invalid curriculum\n",
    "    println(\"Curriculum $(curric.name) is not valid:\")\n",
    "    print(String(take!(errors)))\n",
    "end"
   ]
  },
  {
   "cell_type": "code",
   "execution_count": 2,
   "metadata": {},
   "outputs": [
    {
     "name": "stdout",
     "output_type": "stream",
     "text": [
      "Curriculum Underwater Basket Weaving is valid\n",
      "  delay factor = (80.0, [1.0, 5.0, 1.0, 1.0, 1.0, 5.0, 4.0, 3.0, 1.0, 1.0, 5.0, 4.0, 5.0, 3.0, 1.0, 4.0, 3.0, 4.0, 4.0, 1.0, 1.0, 1.0, 2.0, 5.0, 1.0, 1.0, 1.0, 1.0, 1.0, 1.0, 1.0, 1.0, 1.0, 1.0, 1.0, 1.0, 1.0, 1.0])\n",
      "  blocking factor = (37, [0, 10, 0, 0, 0, 4, 8, 3, 0, 0, 3, 4, 1, 1, 0, 0, 2, 0, 1, 0, 0, 0, 0, 0, 0, 0, 0, 0, 0, 0, 0, 0, 0, 0, 0, 0, 0, 0])\n",
      "  centrality factor = (102, [0, 0, 0, 0, 0, 9, 28, 0, 0, 0, 18, 14, 15, 3, 0, 0, 5, 0, 10, 0, 0, 0, 0, 0, 0, 0, 0, 0, 0, 0, 0, 0, 0, 0, 0, 0, 0, 0])\n",
      "  curricular complexity = (117.0, Number[1.0, 15.0, 1.0, 1.0, 1.0, 9.0, 12.0, 6.0, 1.0, 1.0, 8.0, 8.0, 6.0, 4.0, 1.0, 4.0, 5.0, 4.0, 5.0, 1.0, 1.0, 1.0, 2.0, 5.0, 1.0, 1.0, 1.0, 1.0, 1.0, 1.0, 1.0, 1.0, 1.0, 1.0, 1.0, 1.0, 1.0, 1.0])\n",
      "Degree plan MyPlan is not valid:\n",
      "\n",
      "-Course 1st Yr Writing Seminar is listed multiple times in degree plan\n",
      "-Course PE is listed multiple times in degree plan\n",
      "-Course Liberal Studies is listed multiple times in degree plan\n",
      "-Course Liberal Studies is listed multiple times in degree plan\n",
      "-Course ECE Foundations is listed multiple times in degree plan\n",
      "-Course ECE Foundations is listed multiple times in degree plan\n",
      "-Course Outside Tech. Elective is listed multiple times in degree plan\n",
      "-Course Elective is listed multiple times in degree plan\n",
      "-Course Liberal Studies is listed multiple times in degree plan\n",
      "-Course Outside Tech. Elective is listed multiple times in degree plan\n",
      "-Course Liberal Studies is listed multiple times in degree plan\n",
      "-Course ECE Elective is listed multiple times in degree plan\n",
      "-Course ECE Elective is listed multiple times in degree plan\n",
      "-Course ECE Elective is listed multiple times in degree plan\n",
      "-Course Liberal Studies is listed multiple times in degree plan\n",
      "Diplaying degree plan for debugging purposes...\n"
     ]
    },
    {
     "data": {
      "text/plain": [
       "Blink.AtomShell.Window(1, Blink.AtomShell.Electron(Process(`\u001b[4m'C:\\Users\\orhan\\.julia\\packages\\Blink\\vKGzM\\deps\\atom\\electron.exe'\u001b[24m \u001b[4m'C:\\Users\\orhan\\.julia\\packages\\Blink\\vKGzM\\src\\AtomShell\\main.js'\u001b[24m \u001b[4mport\u001b[24m \u001b[4m4434\u001b[24m`, ProcessRunning), Sockets.TCPSocket(Base.Libc.WindowsRawSocket(0x00000000000003e8) active, 0 bytes waiting), Dict{String,Any}(\"callback\"=>##1#2())), Blink.Page(1, WebSockets.WebSocket{Sockets.TCPSocket}(Sockets.TCPSocket(Base.Libc.WindowsRawSocket(0x0000000000000518) active, 0 bytes waiting), true, CONNECTED::ReadyState = 1), Dict{String,Any}(\"webio\"=>##95#96{BlinkConnection}(BlinkConnection(Page(#= circular reference @-4 =#))),\"callback\"=>##1#2()), Distributed.Future(1, 1, 1, Some(true))))"
      ]
     },
     "execution_count": 2,
     "metadata": {},
     "output_type": "execute_result"
    }
   ],
   "source": [
    "#This cell will open a Blink window to show the Curriculum with visualize function\n",
    "\n",
    "#Activate CurricularAnalytics package and add it\n",
    "using Pkg\n",
    "pkg\"activate .\"\n",
    "using CurricularAnalytics\n",
    "#read Classes from csv file and dump as .json\n",
    "read_csv(\"examples/UH_EE.csv\")\n",
    "#Load classes from .json file created\n",
    "dp = import_degree_plan(\"recent-visualization.json\")\n",
    "curric = dp.curriculum\n",
    "\n",
    "errors = IOBuffer()\n",
    "if isvalid_curriculum(curric, errors)\n",
    "    println(\"Curriculum $(curric.name) is valid\")\n",
    "    println(\"  delay factor = $(delay_factor(curric))\")\n",
    "    println(\"  blocking factor = $(blocking_factor(curric))\")\n",
    "    println(\"  centrality factor = $(centrality(curric))\")\n",
    "    println(\"  curricular complexity = $(complexity(curric))\")\n",
    "    take!(errors) # clear the IO buffer\n",
    "    if isvalid_degree_plan(dp, errors)\n",
    "        println(\"Degree plan $(dp.name) is valid\")\n",
    "    else\n",
    "        println(\"Degree plan $(dp.name) is not valid:\")\n",
    "        print(String(take!(errors)))\n",
    "        println(\"\\nDiplaying degree plan for debugging purposes...\")\n",
    "    end\n",
    "    visualize(dp)\n",
    "    #visualize_jupyter(dp)\n",
    "else # invalid curriculum\n",
    "    println(\"Curriculum $(curric.name) is not valid:\")\n",
    "    print(String(take!(errors)))\n",
    "end"
   ]
  },
  {
   "cell_type": "code",
   "execution_count": 3,
   "metadata": {},
   "outputs": [
    {
     "name": "stdout",
     "output_type": "stream",
     "text": [
      "Curriculum University of Houston EE Program is valid\n",
      "  delay factor = (279.0, [1.0, 7.0, 9.0, 12.0, 2.0, 2.0, 1.0, 7.0, 9.0, 12.0, 12.0, 4.0, 1.0, 8.0, 12.0, 10.0, 12.0, 12.0, 7.0, 8.0, 12.0, 12.0, 9.0, 9.0, 1.0, 12.0, 12.0, 1.0, 9.0, 1.0, 1.0, 4.0, 1.0, 1.0, 8.0, 1.0, 3.0, 12.0, 1.0, 1.0, 1.0, 1.0, 1.0, 12.0, 1.0, 1.0, 1.0, 1.0, 1.0])\n",
      "  blocking factor = (208, [0, 6, 15, 23, 1, 0, 0, 5, 14, 20, 16, 0, 0, 13, 12, 15, 14, 13, 4, 4, 5, 8, 4, 2, 0, 3, 2, 0, 2, 0, 0, 2, 0, 0, 2, 0, 2, 1, 0, 0, 0, 0, 0, 0, 0, 0, 0, 0, 0])\n",
      "  centrality factor = (5717, [0, 0, 85, 0, 0, 0, 0, 13, 160, 607, 217, 0, 0, 93, 677, 292, 426, 250, 159, 152, 295, 393, 154, 171, 0, 359, 266, 0, 77, 0, 0, 16, 0, 0, 76, 0, 0, 779, 0, 0, 0, 0, 0, 0, 0, 0, 0, 0, 0])\n",
      "  curricular complexity = (487.0, Number[1.0, 13.0, 24.0, 35.0, 3.0, 2.0, 1.0, 12.0, 23.0, 32.0, 28.0, 4.0, 1.0, 21.0, 24.0, 25.0, 26.0, 25.0, 11.0, 12.0, 17.0, 20.0, 13.0, 11.0, 1.0, 15.0, 14.0, 1.0, 11.0, 1.0, 1.0, 6.0, 1.0, 1.0, 10.0, 1.0, 5.0, 13.0, 1.0, 1.0, 1.0, 1.0, 1.0, 12.0, 1.0, 1.0, 1.0, 1.0, 1.0])\n",
      "Degree plan University of Houston EE Program 4-year Plan is not valid:\n",
      "\n",
      "-Course Concentration Elective is listed multiple times in degree plan\n",
      "-Course Concentration Elective is listed multiple times in degree plan\n",
      "-Course Elective Lab is listed multiple times in degree plan\n",
      "Diplaying degree plan for debugging purposes...\n"
     ]
    },
    {
     "data": {
      "text/plain": [
       "Blink.AtomShell.Window(2, Blink.AtomShell.Electron(Process(`\u001b[4m'C:\\Users\\orhan\\.julia\\packages\\Blink\\vKGzM\\deps\\atom\\electron.exe'\u001b[24m \u001b[4m'C:\\Users\\orhan\\.julia\\packages\\Blink\\vKGzM\\src\\AtomShell\\main.js'\u001b[24m \u001b[4mport\u001b[24m \u001b[4m4434\u001b[24m`, ProcessRunning), Sockets.TCPSocket(Base.Libc.WindowsRawSocket(0x00000000000003e8) active, 0 bytes waiting), Dict{String,Any}(\"callback\"=>##1#2())), Blink.Page(2, WebSockets.WebSocket{Sockets.TCPSocket}(Sockets.TCPSocket(Base.Libc.WindowsRawSocket(0x0000000000000500) active, 0 bytes waiting), true, CONNECTED::ReadyState = 1), Dict{String,Any}(\"webio\"=>##95#96{BlinkConnection}(BlinkConnection(Page(#= circular reference @-4 =#))),\"callback\"=>##1#2()), Distributed.Future(1, 1, 2, Some(true))))"
      ]
     },
     "execution_count": 3,
     "metadata": {},
     "output_type": "execute_result"
    }
   ],
   "source": [
    "#This cell will run an exapmle file in \"example\" folder\n",
    "#Output will be on Blink window\n",
    "#If you want to show the output on Jupyter, you can change the visualize(dp) function to visualize_jupyter(dp)\n",
    "using Pkg\n",
    "pkg\"activate .\"\n",
    "include(\"examples/curric_UH_EE.jl\")"
   ]
  },
  {
   "cell_type": "code",
   "execution_count": 5,
   "metadata": {},
   "outputs": [
    {
     "name": "stdout",
     "output_type": "stream",
     "text": [
      "Reading csv file: examples/UH_EE.csv\n",
      "Curriculum Underwater Basket Weaving is valid\n",
      "  delay factor = (80.0, [1.0, 5.0, 1.0, 1.0, 1.0, 5.0, 4.0, 3.0, 1.0, 1.0, 5.0, 4.0, 5.0, 3.0, 1.0, 4.0, 3.0, 4.0, 4.0, 1.0, 1.0, 1.0, 2.0, 5.0, 1.0, 1.0, 1.0, 1.0, 1.0, 1.0, 1.0, 1.0, 1.0, 1.0, 1.0, 1.0, 1.0, 1.0])\n",
      "  blocking factor = (37, [0, 10, 0, 0, 0, 4, 8, 3, 0, 0, 3, 4, 1, 1, 0, 0, 2, 0, 1, 0, 0, 0, 0, 0, 0, 0, 0, 0, 0, 0, 0, 0, 0, 0, 0, 0, 0, 0])\n",
      "  centrality factor = (102, [0, 0, 0, 0, 0, 9, 28, 0, 0, 0, 18, 14, 15, 3, 0, 0, 5, 0, 10, 0, 0, 0, 0, 0, 0, 0, 0, 0, 0, 0, 0, 0, 0, 0, 0, 0, 0, 0])\n",
      "  curricular complexity = (117.0, Number[1.0, 15.0, 1.0, 1.0, 1.0, 9.0, 12.0, 6.0, 1.0, 1.0, 8.0, 8.0, 6.0, 4.0, 1.0, 4.0, 5.0, 4.0, 5.0, 1.0, 1.0, 1.0, 2.0, 5.0, 1.0, 1.0, 1.0, 1.0, 1.0, 1.0, 1.0, 1.0, 1.0, 1.0, 1.0, 1.0, 1.0, 1.0])\n",
      "Degree plan MyPlan is not valid:\n",
      "\n",
      "-Course 1st Yr Writing Seminar is listed multiple times in degree plan\n",
      "-Course PE is listed multiple times in degree plan\n",
      "-Course Liberal Studies is listed multiple times in degree plan\n",
      "-Course Liberal Studies is listed multiple times in degree plan\n",
      "-Course ECE Foundations is listed multiple times in degree plan\n",
      "-Course ECE Foundations is listed multiple times in degree plan\n",
      "-Course Outside Tech. Elective is listed multiple times in degree plan\n",
      "-Course Elective is listed multiple times in degree plan\n",
      "-Course Liberal Studies is listed multiple times in degree plan\n",
      "-Course Outside Tech. Elective is listed multiple times in degree plan\n",
      "-Course Liberal Studies is listed multiple times in degree plan\n",
      "-Course ECE Elective is listed multiple times in degree plan\n",
      "-Course ECE Elective is listed multiple times in degree plan\n",
      "-Course ECE Elective is listed multiple times in degree plan\n",
      "-Course Liberal Studies is listed multiple times in degree plan\n",
      "Diplaying degree plan for debugging purposes...\n"
     ]
    },
    {
     "name": "stderr",
     "output_type": "stream",
     "text": [
      "WARNING: replacing module curriculum.\n"
     ]
    },
    {
     "data": {
      "text/plain": [
       "Main.curriculum"
      ]
     },
     "execution_count": 5,
     "metadata": {},
     "output_type": "execute_result"
    }
   ],
   "source": [
    "#This cell will create Curriculum using csv file.\n",
    "using Pkg\n",
    "pkg\"activate .\"\n",
    "module curriculum\n",
    "    ARGS = [\"examples/UH_EE.csv\"]\n",
    "    include(\"examples/curric_from_csv.jl\")\n",
    "end"
   ]
  },
  {
   "cell_type": "code",
   "execution_count": null,
   "metadata": {
    "collapsed": true
   },
   "outputs": [],
   "source": []
  }
 ],
 "metadata": {
  "@webio": {
   "lastCommId": "1242065129E14C55982A31202B134503",
   "lastKernelId": "07a4b28d-dae1-4616-80d5-1eb32e6f94d3"
  },
  "kernelspec": {
   "display_name": "Julia 1.0.1",
   "language": "julia",
   "name": "julia-1.0"
  },
  "language_info": {
   "file_extension": ".jl",
   "mimetype": "application/julia",
   "name": "julia",
   "version": "1.0.1"
  }
 },
 "nbformat": 4,
 "nbformat_minor": 2
}

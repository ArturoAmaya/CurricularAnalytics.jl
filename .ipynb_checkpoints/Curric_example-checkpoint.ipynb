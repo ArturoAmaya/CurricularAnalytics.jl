{
 "cells": [
  {
   "cell_type": "code",
   "execution_count": 5,
   "metadata": {},
   "outputs": [
    {
     "name": "stdout",
     "output_type": "stream",
     "text": [
      "Curriculum Underwater Basket Weaving is valid\n",
      "  delay factor = (80.0, [1.0, 5.0, 1.0, 1.0, 1.0, 5.0, 4.0, 3.0, 1.0, 1.0, 5.0, 4.0, 5.0, 3.0, 1.0, 4.0, 3.0, 4.0, 4.0, 1.0, 1.0, 1.0, 2.0, 5.0, 1.0, 1.0, 1.0, 1.0, 1.0, 1.0, 1.0, 1.0, 1.0, 1.0, 1.0, 1.0, 1.0, 1.0])\n",
      "  blocking factor = (37, [0, 10, 0, 0, 0, 4, 8, 3, 0, 0, 3, 4, 1, 1, 0, 0, 2, 0, 1, 0, 0, 0, 0, 0, 0, 0, 0, 0, 0, 0, 0, 0, 0, 0, 0, 0, 0, 0])\n",
      "  centrality factor = (102, [0, 0, 0, 0, 0, 9, 28, 0, 0, 0, 18, 14, 15, 3, 0, 0, 5, 0, 10, 0, 0, 0, 0, 0, 0, 0, 0, 0, 0, 0, 0, 0, 0, 0, 0, 0, 0, 0])\n",
      "  curricular complexity = (117.0, Number[1.0, 15.0, 1.0, 1.0, 1.0, 9.0, 12.0, 6.0, 1.0, 1.0, 8.0, 8.0, 6.0, 4.0, 1.0, 4.0, 5.0, 4.0, 5.0, 1.0, 1.0, 1.0, 2.0, 5.0, 1.0, 1.0, 1.0, 1.0, 1.0, 1.0, 1.0, 1.0, 1.0, 1.0, 1.0, 1.0, 1.0, 1.0])\n",
      "Degree plan MyPlan is not valid:\n",
      "\n",
      "-Course 1st Yr Writing Seminar is listed multiple times in degree plan\n",
      "-Course PE is listed multiple times in degree plan\n",
      "-Course Liberal Studies is listed multiple times in degree plan\n",
      "-Course Liberal Studies is listed multiple times in degree plan\n",
      "-Course ECE Foundations is listed multiple times in degree plan\n",
      "-Course ECE Foundations is listed multiple times in degree plan\n",
      "-Course Outside Tech. Elective is listed multiple times in degree plan\n",
      "-Course Elective is listed multiple times in degree plan\n",
      "-Course Liberal Studies is listed multiple times in degree plan\n",
      "-Course Outside Tech. Elective is listed multiple times in degree plan\n",
      "-Course Liberal Studies is listed multiple times in degree plan\n",
      "-Course ECE Elective is listed multiple times in degree plan\n",
      "-Course ECE Elective is listed multiple times in degree plan\n",
      "-Course ECE Elective is listed multiple times in degree plan\n",
      "-Course Liberal Studies is listed multiple times in degree plan\n",
      "Diplaying degree plan for debugging purposes...\n"
     ]
    },
    {
     "data": {
      "application/vnd.webio.node+json": {
       "children": [
        {
         "children": [
          ""
         ],
         "instanceArgs": {
          "namespace": "html",
          "tag": "iframe"
         },
         "nodeType": "DOM",
         "props": {
          "events": {
           "load": "(function (){this.contentWindow.postMessage({\"curriculum\":{\"name\":\"MyPlan\",\"curriculum_terms\":[{\"name\":\"Term 1\",\"curriculum_items\":[{\"curriculum_requisites\":[],\"name\":\"CHEM 2090\",\"metrics\":{\"centrality\":0,\"complexity\":1.0,\"blocking factor\":0,\"delay factor\":1.0},\"nameSub\":\"CHEM 2090\",\"id\":4341724520540932690,\"num\":\"2090\",\"credits\":3,\"prefix\":\"CHEM\"},{\"curriculum_requisites\":[],\"name\":\"MATH 1910\",\"metrics\":{\"centrality\":0,\"complexity\":15.0,\"blocking factor\":10,\"delay factor\":5.0},\"nameSub\":\"MATH 1910\",\"id\":8143437743098000553,\"num\":\"1910\",\"credits\":3,\"prefix\":\"MATH\"},{\"curriculum_requisites\":[],\"name\":\"ENGRI 1xxx\",\"metrics\":{\"centrality\":0,\"complexity\":1.0,\"blocking factor\":0,\"delay factor\":1.0},\"nameSub\":\"ENGRI 1xxx\",\"id\":5506649445146047587,\"num\":\"1xxx\",\"credits\":3,\"prefix\":\"ENGRI\"},{\"curriculum_requisites\":[],\"name\":\" \",\"metrics\":{\"centrality\":0,\"complexity\":1.0,\"blocking factor\":0,\"delay factor\":1.0},\"nameSub\":\"1st Yr Writing Seminar\",\"id\":9216363289745238381,\"num\":\"\",\"credits\":3,\"prefix\":\"\"},{\"curriculum_requisites\":[],\"name\":\" \",\"metrics\":{\"centrality\":0,\"complexity\":1.0,\"blocking factor\":0,\"delay factor\":1.0},\"nameSub\":\"PE\",\"id\":3595867337974889561,\"num\":\"\",\"credits\":3,\"prefix\":\"\"}],\"id\":1},{\"name\":\"Term 2\",\"curriculum_items\":[{\"curriculum_requisites\":[{\"source_id\":8143437743098000553,\"target_id\":8030424062927649324,\"type\":\"strict-coreq\"}],\"name\":\"PHYS 1112\",\"metrics\":{\"centrality\":9,\"complexity\":9.0,\"blocking factor\":4,\"delay factor\":5.0},\"nameSub\":\"PHYS 1112\",\"id\":8030424062927649324,\"num\":\"1112\",\"credits\":3,\"prefix\":\"PHYS\"},{\"curriculum_requisites\":[{\"source_id\":8143437743098000553,\"target_id\":2678949005889028302,\"type\":\"strict-coreq\"}],\"name\":\"MATH 1920\",\"metrics\":{\"centrality\":28,\"complexity\":12.0,\"blocking factor\":8,\"delay factor\":4.0},\"nameSub\":\"MATH 1920\",\"id\":2678949005889028302,\"num\":\"1920\",\"credits\":3,\"prefix\":\"MATH\"},{\"curriculum_requisites\":[],\"name\":\"CS 111x\",\"metrics\":{\"centrality\":0,\"complexity\":6.0,\"blocking factor\":3,\"delay factor\":3.0},\"nameSub\":\"CS 111x\",\"id\":8567629330018577720,\"num\":\"111x\",\"credits\":3,\"prefix\":\"CS\"},{\"curriculum_requisites\":[],\"name\":\" \",\"metrics\":{\"centrality\":0,\"complexity\":1.0,\"blocking factor\":0,\"delay factor\":1.0},\"nameSub\":\"1st Yr Writing Seminar\",\"id\":9216363289745238381,\"num\":\"\",\"credits\":3,\"prefix\":\"\"},{\"curriculum_requisites\":[],\"name\":\" \",\"metrics\":{\"centrality\":0,\"complexity\":1.0,\"blocking factor\":0,\"delay factor\":1.0},\"nameSub\":\"PE\",\"id\":3595867337974889561,\"num\":\"\",\"credits\":3,\"prefix\":\"\"}],\"id\":2},{\"name\":\"Term 3\",\"curriculum_items\":[{\"curriculum_requisites\":[{\"source_id\":8030424062927649324,\"target_id\":5365089275926023521,\"type\":\"strict-coreq\"},{\"source_id\":2678949005889028302,\"target_id\":5365089275926023521,\"type\":\"strict-coreq\"}],\"name\":\"PHYS 2213\",\"metrics\":{\"centrality\":18,\"complexity\":8.0,\"blocking factor\":3,\"delay factor\":5.0},\"nameSub\":\"PHYS 2213\",\"id\":5365089275926023521,\"num\":\"2213\",\"credits\":3,\"prefix\":\"PHYS\"},{\"curriculum_requisites\":[{\"source_id\":2678949005889028302,\"target_id\":1348345296949287896,\"type\":\"strict-coreq\"}],\"name\":\"MATH 2930\",\"metrics\":{\"centrality\":14,\"complexity\":8.0,\"blocking factor\":4,\"delay factor\":4.0},\"nameSub\":\"MATH 2930\",\"id\":1348345296949287896,\"num\":\"2930\",\"credits\":3,\"prefix\":\"MATH\"},{\"curriculum_requisites\":[{\"source_id\":5365089275926023521,\"target_id\":6496975907066468232,\"type\":\"strict-coreq\"},{\"source_id\":1348345296949287896,\"target_id\":6496975907066468232,\"type\":\"strict-coreq\"}],\"name\":\"ECE/ENGRD 2100\",\"metrics\":{\"centrality\":15,\"complexity\":6.0,\"blocking factor\":1,\"delay factor\":5.0},\"nameSub\":\"ECE/ENGRD 2100\",\"id\":6496975907066468232,\"num\":\"2100\",\"credits\":3,\"prefix\":\"ECE/ENGRD\"},{\"curriculum_requisites\":[{\"source_id\":8567629330018577720,\"target_id\":7794672277230258402,\"type\":\"strict-coreq\"}],\"name\":\"MECE/ENGRD 2300\",\"metrics\":{\"centrality\":3,\"complexity\":4.0,\"blocking factor\":1,\"delay factor\":3.0},\"nameSub\":\"MECE/ENGRD 2300\",\"id\":7794672277230258402,\"num\":\"2300\",\"credits\":3,\"prefix\":\"MECE/ENGRD\"},{\"curriculum_requisites\":[],\"name\":\" \",\"metrics\":{\"centrality\":0,\"complexity\":1.0,\"blocking factor\":0,\"delay factor\":1.0},\"nameSub\":\"Liberal Studies\",\"id\":2923537976096035670,\"num\":\"\",\"credits\":3,\"prefix\":\"\"}],\"id\":3},{\"name\":\"Term 4\",\"curriculum_items\":[{\"curriculum_requisites\":[{\"source_id\":1348345296949287896,\"target_id\":5537855577936233410,\"type\":\"strict-coreq\"}],\"name\":\"PHYS 2214\",\"metrics\":{\"centrality\":0,\"complexity\":4.0,\"blocking factor\":0,\"delay factor\":4.0},\"nameSub\":\"PHYS 2214\",\"id\":5537855577936233410,\"num\":\"2214\",\"credits\":3,\"prefix\":\"PHYS\"},{\"curriculum_requisites\":[{\"source_id\":2678949005889028302,\"target_id\":7674250009588876112,\"type\":\"strict-coreq\"}],\"name\":\"MATH 2940\",\"metrics\":{\"centrality\":5,\"complexity\":5.0,\"blocking factor\":2,\"delay factor\":3.0},\"nameSub\":\"MATH 2940\",\"id\":7674250009588876112,\"num\":\"2940\",\"credits\":3,\"prefix\":\"MATH\"},{\"curriculum_requisites\":[{\"source_id\":5365089275926023521,\"target_id\":3925429420428499454,\"type\":\"strict-coreq\"}],\"name\":\"ENGRD 2xxx\",\"metrics\":{\"centrality\":0,\"complexity\":4.0,\"blocking factor\":0,\"delay factor\":4.0},\"nameSub\":\"ENGRD 2xxx\",\"id\":3925429420428499454,\"num\":\"2xxx\",\"credits\":3,\"prefix\":\"ENGRD\"},{\"curriculum_requisites\":[{\"source_id\":7674250009588876112,\"target_id\":7032478820254191254,\"type\":\"strict-coreq\"},{\"source_id\":1348345296949287896,\"target_id\":7032478820254191254,\"type\":\"strict-coreq\"}],\"name\":\"ECE/ENGRD 2200/2220\",\"metrics\":{\"centrality\":10,\"complexity\":5.0,\"blocking factor\":1,\"delay factor\":4.0},\"nameSub\":\"ECE 2200/ENGRD 2220\",\"id\":7032478820254191254,\"num\":\"2200/2220\",\"credits\":3,\"prefix\":\"ECE/ENGRD\"},{\"curriculum_requisites\":[],\"name\":\" \",\"metrics\":{\"centrality\":0,\"complexity\":1.0,\"blocking factor\":0,\"delay factor\":1.0},\"nameSub\":\"Liberal Studies\",\"id\":2923537976096035670,\"num\":\"\",\"credits\":3,\"prefix\":\"\"}],\"id\":4},{\"name\":\"Term 5\",\"curriculum_items\":[{\"curriculum_requisites\":[],\"name\":\" \",\"metrics\":{\"centrality\":0,\"complexity\":1.0,\"blocking factor\":0,\"delay factor\":1.0},\"nameSub\":\"ECE Foundations\",\"id\":7349856218440932096,\"num\":\"\",\"credits\":3,\"prefix\":\"\"},{\"curriculum_requisites\":[],\"name\":\" \",\"metrics\":{\"centrality\":0,\"complexity\":1.0,\"blocking factor\":0,\"delay factor\":1.0},\"nameSub\":\"Elective\",\"id\":6041467595311408386,\"num\":\"\",\"credits\":3,\"prefix\":\"\"},{\"curriculum_requisites\":[{\"source_id\":8567629330018577720,\"target_id\":1550254336733113146,\"type\":\"strict-coreq\"}],\"name\":\" \",\"metrics\":{\"centrality\":0,\"complexity\":2.0,\"blocking factor\":0,\"delay factor\":2.0},\"nameSub\":\"Outside Tech. Elective\",\"id\":1550254336733113146,\"num\":\"\",\"credits\":3,\"prefix\":\"\"},{\"curriculum_requisites\":[{\"source_id\":7032478820254191254,\"target_id\":4008053407184661156,\"type\":\"strict-coreq\"},{\"source_id\":7794672277230258402,\"target_id\":4008053407184661156,\"type\":\"strict-coreq\"},{\"source_id\":6496975907066468232,\"target_id\":4008053407184661156,\"type\":\"strict-coreq\"}],\"name\":\"ECE 3400\",\"metrics\":{\"centrality\":0,\"complexity\":5.0,\"blocking factor\":0,\"delay factor\":5.0},\"nameSub\":\"ECE 3400\",\"id\":4008053407184661156,\"num\":\"3400\",\"credits\":3,\"prefix\":\"ECE\"},{\"curriculum_requisites\":[],\"name\":\" \",\"metrics\":{\"centrality\":0,\"complexity\":1.0,\"blocking factor\":0,\"delay factor\":1.0},\"nameSub\":\"Liberal Studies\",\"id\":2923537976096035670,\"num\":\"\",\"credits\":3,\"prefix\":\"\"}],\"id\":5},{\"name\":\"Term 6\",\"curriculum_items\":[{\"curriculum_requisites\":[],\"name\":\" \",\"metrics\":{\"centrality\":0,\"complexity\":1.0,\"blocking factor\":0,\"delay factor\":1.0},\"nameSub\":\"ECE Foundations\",\"id\":7349856218440932096,\"num\":\"\",\"credits\":3,\"prefix\":\"\"},{\"curriculum_requisites\":[],\"name\":\" \",\"metrics\":{\"centrality\":0,\"complexity\":1.0,\"blocking factor\":0,\"delay factor\":1.0},\"nameSub\":\"ECE Foundations\",\"id\":7349856218440932096,\"num\":\"\",\"credits\":3,\"prefix\":\"\"},{\"curriculum_requisites\":[],\"name\":\" \",\"metrics\":{\"centrality\":0,\"complexity\":1.0,\"blocking factor\":0,\"delay factor\":1.0},\"nameSub\":\"Outside Tech. Elective\",\"id\":1550254336733113146,\"num\":\"\",\"credits\":3,\"prefix\":\"\"},{\"curriculum_requisites\":[],\"name\":\" \",\"metrics\":{\"centrality\":0,\"complexity\":1.0,\"blocking factor\":0,\"delay factor\":1.0},\"nameSub\":\"Elective\",\"id\":6041467595311408386,\"num\":\"\",\"credits\":3,\"prefix\":\"\"},{\"curriculum_requisites\":[],\"name\":\" \",\"metrics\":{\"centrality\":0,\"complexity\":1.0,\"blocking factor\":0,\"delay factor\":1.0},\"nameSub\":\"Liberal Studies\",\"id\":2923537976096035670,\"num\":\"\",\"credits\":3,\"prefix\":\"\"}],\"id\":6},{\"name\":\"Term 7\",\"curriculum_items\":[{\"curriculum_requisites\":[],\"name\":\" \",\"metrics\":{\"centrality\":0,\"complexity\":1.0,\"blocking factor\":0,\"delay factor\":1.0},\"nameSub\":\"ECE Elective \",\"id\":4978152323752411909,\"num\":\"\",\"credits\":3,\"prefix\":\"\"},{\"curriculum_requisites\":[],\"name\":\" \",\"metrics\":{\"centrality\":0,\"complexity\":1.0,\"blocking factor\":0,\"delay factor\":1.0},\"nameSub\":\"ECE Elective\",\"id\":7722222786579926055,\"num\":\"\",\"credits\":3,\"prefix\":\"\"},{\"curriculum_requisites\":[],\"name\":\" \",\"metrics\":{\"centrality\":0,\"complexity\":1.0,\"blocking factor\":0,\"delay factor\":1.0},\"nameSub\":\"Outside Tech. Elective\",\"id\":1550254336733113146,\"num\":\"\",\"credits\":3,\"prefix\":\"\"},{\"curriculum_requisites\":[],\"name\":\" \",\"metrics\":{\"centrality\":0,\"complexity\":1.0,\"blocking factor\":0,\"delay factor\":1.0},\"nameSub\":\"Liberal Studies\",\"id\":2923537976096035670,\"num\":\"\",\"credits\":3,\"prefix\":\"\"}],\"id\":7},{\"name\":\"Term 8\",\"curriculum_items\":[{\"curriculum_requisites\":[],\"name\":\" \",\"metrics\":{\"centrality\":0,\"complexity\":1.0,\"blocking factor\":0,\"delay factor\":1.0},\"nameSub\":\"ECE Elective\",\"id\":7722222786579926055,\"num\":\"\",\"credits\":3,\"prefix\":\"\"},{\"curriculum_requisites\":[],\"name\":\" \",\"metrics\":{\"centrality\":0,\"complexity\":1.0,\"blocking factor\":0,\"delay factor\":1.0},\"nameSub\":\"ECE Elective\",\"id\":7722222786579926055,\"num\":\"\",\"credits\":3,\"prefix\":\"\"},{\"curriculum_requisites\":[],\"name\":\" \",\"metrics\":{\"centrality\":0,\"complexity\":1.0,\"blocking factor\":0,\"delay factor\":1.0},\"nameSub\":\"ECE Elective\",\"id\":7722222786579926055,\"num\":\"\",\"credits\":3,\"prefix\":\"\"},{\"curriculum_requisites\":[],\"name\":\" \",\"metrics\":{\"centrality\":0,\"complexity\":1.0,\"blocking factor\":0,\"delay factor\":1.0},\"nameSub\":\"Liberal Studies\",\"id\":2923537976096035670,\"num\":\"\",\"credits\":3,\"prefix\":\"\"}],\"id\":8}]}},\"*\"); window.removeEventListener(\"message\",window.messageReceived); window.messageReceived=(function (event){return (event.data.curriculum!==undefined) ? (_webIOScope.setObservableValue({\"name\":\"curriculum-data\",\"scope\":\"scope-ec8929b1-2c84-48ae-837e-3bcbcc350f43\",\"id\":\"ob_04\",\"type\":\"observable\"},event.data.curriculum)) : undefined}); return window.addEventListener(\"message\",window.messageReceived)})"
          },
          "id": "curriculum",
          "src": "http://localhost:8156",
          "style": {
           "border": "none",
           "height": "100vh",
           "margin": "0",
           "padding": "0",
           "width": "100%"
          }
         },
         "type": "node"
        }
       ],
       "instanceArgs": {
        "handlers": {},
        "id": "scope-ec8929b1-2c84-48ae-837e-3bcbcc350f43",
        "imports": {
         "data": [],
         "type": "async_block"
        },
        "observables": {
         "curriculum-data": {
          "id": "ob_04",
          "sync": true,
          "value": {
           "curriculum": {
            "curriculum_terms": [
             {
              "curriculum_items": [
               {
                "credits": 3,
                "curriculum_requisites": [],
                "id": 4341724520540932600,
                "metrics": {
                 "blocking factor": 0,
                 "centrality": 0,
                 "complexity": 1,
                 "delay factor": 1
                },
                "name": "CHEM 2090",
                "nameSub": "CHEM 2090",
                "num": "2090",
                "prefix": "CHEM"
               },
               {
                "credits": 3,
                "curriculum_requisites": [],
                "id": 8143437743098000000,
                "metrics": {
                 "blocking factor": 10,
                 "centrality": 0,
                 "complexity": 15,
                 "delay factor": 5
                },
                "name": "MATH 1910",
                "nameSub": "MATH 1910",
                "num": "1910",
                "prefix": "MATH"
               },
               {
                "credits": 3,
                "curriculum_requisites": [],
                "id": 5506649445146047000,
                "metrics": {
                 "blocking factor": 0,
                 "centrality": 0,
                 "complexity": 1,
                 "delay factor": 1
                },
                "name": "ENGRI 1xxx",
                "nameSub": "ENGRI 1xxx",
                "num": "1xxx",
                "prefix": "ENGRI"
               },
               {
                "credits": 3,
                "curriculum_requisites": [],
                "id": 9216363289745238000,
                "metrics": {
                 "blocking factor": 0,
                 "centrality": 0,
                 "complexity": 1,
                 "delay factor": 1
                },
                "name": " ",
                "nameSub": "1st Yr Writing Seminar",
                "num": "",
                "prefix": ""
               },
               {
                "credits": 3,
                "curriculum_requisites": [],
                "id": 3595867337974889500,
                "metrics": {
                 "blocking factor": 0,
                 "centrality": 0,
                 "complexity": 1,
                 "delay factor": 1
                },
                "name": " ",
                "nameSub": "PE",
                "num": "",
                "prefix": ""
               }
              ],
              "id": 1,
              "name": "Term 1"
             },
             {
              "curriculum_items": [
               {
                "credits": 3,
                "curriculum_requisites": [
                 {
                  "source_id": 8143437743098000000,
                  "target_id": 8030424062927650000,
                  "type": "strict-coreq"
                 }
                ],
                "id": 8030424062927650000,
                "metrics": {
                 "blocking factor": 4,
                 "centrality": 9,
                 "complexity": 9,
                 "delay factor": 5
                },
                "name": "PHYS 1112",
                "nameSub": "PHYS 1112",
                "num": "1112",
                "prefix": "PHYS"
               },
               {
                "credits": 3,
                "curriculum_requisites": [
                 {
                  "source_id": 8143437743098000000,
                  "target_id": 2678949005889028000,
                  "type": "strict-coreq"
                 }
                ],
                "id": 2678949005889028000,
                "metrics": {
                 "blocking factor": 8,
                 "centrality": 28,
                 "complexity": 12,
                 "delay factor": 4
                },
                "name": "MATH 1920",
                "nameSub": "MATH 1920",
                "num": "1920",
                "prefix": "MATH"
               },
               {
                "credits": 3,
                "curriculum_requisites": [],
                "id": 8567629330018577000,
                "metrics": {
                 "blocking factor": 3,
                 "centrality": 0,
                 "complexity": 6,
                 "delay factor": 3
                },
                "name": "CS 111x",
                "nameSub": "CS 111x",
                "num": "111x",
                "prefix": "CS"
               },
               {
                "credits": 3,
                "curriculum_requisites": [],
                "id": 9216363289745238000,
                "metrics": {
                 "blocking factor": 0,
                 "centrality": 0,
                 "complexity": 1,
                 "delay factor": 1
                },
                "name": " ",
                "nameSub": "1st Yr Writing Seminar",
                "num": "",
                "prefix": ""
               },
               {
                "credits": 3,
                "curriculum_requisites": [],
                "id": 3595867337974889500,
                "metrics": {
                 "blocking factor": 0,
                 "centrality": 0,
                 "complexity": 1,
                 "delay factor": 1
                },
                "name": " ",
                "nameSub": "PE",
                "num": "",
                "prefix": ""
               }
              ],
              "id": 2,
              "name": "Term 2"
             },
             {
              "curriculum_items": [
               {
                "credits": 3,
                "curriculum_requisites": [
                 {
                  "source_id": 8030424062927650000,
                  "target_id": 5365089275926023000,
                  "type": "strict-coreq"
                 },
                 {
                  "source_id": 2678949005889028000,
                  "target_id": 5365089275926023000,
                  "type": "strict-coreq"
                 }
                ],
                "id": 5365089275926023000,
                "metrics": {
                 "blocking factor": 3,
                 "centrality": 18,
                 "complexity": 8,
                 "delay factor": 5
                },
                "name": "PHYS 2213",
                "nameSub": "PHYS 2213",
                "num": "2213",
                "prefix": "PHYS"
               },
               {
                "credits": 3,
                "curriculum_requisites": [
                 {
                  "source_id": 2678949005889028000,
                  "target_id": 1348345296949288000,
                  "type": "strict-coreq"
                 }
                ],
                "id": 1348345296949288000,
                "metrics": {
                 "blocking factor": 4,
                 "centrality": 14,
                 "complexity": 8,
                 "delay factor": 4
                },
                "name": "MATH 2930",
                "nameSub": "MATH 2930",
                "num": "2930",
                "prefix": "MATH"
               },
               {
                "credits": 3,
                "curriculum_requisites": [
                 {
                  "source_id": 5365089275926023000,
                  "target_id": 6496975907066468000,
                  "type": "strict-coreq"
                 },
                 {
                  "source_id": 1348345296949288000,
                  "target_id": 6496975907066468000,
                  "type": "strict-coreq"
                 }
                ],
                "id": 6496975907066468000,
                "metrics": {
                 "blocking factor": 1,
                 "centrality": 15,
                 "complexity": 6,
                 "delay factor": 5
                },
                "name": "ECE/ENGRD 2100",
                "nameSub": "ECE/ENGRD 2100",
                "num": "2100",
                "prefix": "ECE/ENGRD"
               },
               {
                "credits": 3,
                "curriculum_requisites": [
                 {
                  "source_id": 8567629330018577000,
                  "target_id": 7794672277230258000,
                  "type": "strict-coreq"
                 }
                ],
                "id": 7794672277230258000,
                "metrics": {
                 "blocking factor": 1,
                 "centrality": 3,
                 "complexity": 4,
                 "delay factor": 3
                },
                "name": "MECE/ENGRD 2300",
                "nameSub": "MECE/ENGRD 2300",
                "num": "2300",
                "prefix": "MECE/ENGRD"
               },
               {
                "credits": 3,
                "curriculum_requisites": [],
                "id": 2923537976096036000,
                "metrics": {
                 "blocking factor": 0,
                 "centrality": 0,
                 "complexity": 1,
                 "delay factor": 1
                },
                "name": " ",
                "nameSub": "Liberal Studies",
                "num": "",
                "prefix": ""
               }
              ],
              "id": 3,
              "name": "Term 3"
             },
             {
              "curriculum_items": [
               {
                "credits": 3,
                "curriculum_requisites": [
                 {
                  "source_id": 1348345296949288000,
                  "target_id": 5537855577936233000,
                  "type": "strict-coreq"
                 }
                ],
                "id": 5537855577936233000,
                "metrics": {
                 "blocking factor": 0,
                 "centrality": 0,
                 "complexity": 4,
                 "delay factor": 4
                },
                "name": "PHYS 2214",
                "nameSub": "PHYS 2214",
                "num": "2214",
                "prefix": "PHYS"
               },
               {
                "credits": 3,
                "curriculum_requisites": [
                 {
                  "source_id": 2678949005889028000,
                  "target_id": 7674250009588876000,
                  "type": "strict-coreq"
                 }
                ],
                "id": 7674250009588876000,
                "metrics": {
                 "blocking factor": 2,
                 "centrality": 5,
                 "complexity": 5,
                 "delay factor": 3
                },
                "name": "MATH 2940",
                "nameSub": "MATH 2940",
                "num": "2940",
                "prefix": "MATH"
               },
               {
                "credits": 3,
                "curriculum_requisites": [
                 {
                  "source_id": 5365089275926023000,
                  "target_id": 3925429420428499500,
                  "type": "strict-coreq"
                 }
                ],
                "id": 3925429420428499500,
                "metrics": {
                 "blocking factor": 0,
                 "centrality": 0,
                 "complexity": 4,
                 "delay factor": 4
                },
                "name": "ENGRD 2xxx",
                "nameSub": "ENGRD 2xxx",
                "num": "2xxx",
                "prefix": "ENGRD"
               },
               {
                "credits": 3,
                "curriculum_requisites": [
                 {
                  "source_id": 7674250009588876000,
                  "target_id": 7032478820254192000,
                  "type": "strict-coreq"
                 },
                 {
                  "source_id": 1348345296949288000,
                  "target_id": 7032478820254192000,
                  "type": "strict-coreq"
                 }
                ],
                "id": 7032478820254192000,
                "metrics": {
                 "blocking factor": 1,
                 "centrality": 10,
                 "complexity": 5,
                 "delay factor": 4
                },
                "name": "ECE/ENGRD 2200/2220",
                "nameSub": "ECE 2200/ENGRD 2220",
                "num": "2200/2220",
                "prefix": "ECE/ENGRD"
               },
               {
                "credits": 3,
                "curriculum_requisites": [],
                "id": 2923537976096036000,
                "metrics": {
                 "blocking factor": 0,
                 "centrality": 0,
                 "complexity": 1,
                 "delay factor": 1
                },
                "name": " ",
                "nameSub": "Liberal Studies",
                "num": "",
                "prefix": ""
               }
              ],
              "id": 4,
              "name": "Term 4"
             },
             {
              "curriculum_items": [
               {
                "credits": 3,
                "curriculum_requisites": [],
                "id": 7349856218440932000,
                "metrics": {
                 "blocking factor": 0,
                 "centrality": 0,
                 "complexity": 1,
                 "delay factor": 1
                },
                "name": " ",
                "nameSub": "ECE Foundations",
                "num": "",
                "prefix": ""
               },
               {
                "credits": 3,
                "curriculum_requisites": [],
                "id": 6041467595311408000,
                "metrics": {
                 "blocking factor": 0,
                 "centrality": 0,
                 "complexity": 1,
                 "delay factor": 1
                },
                "name": " ",
                "nameSub": "Elective",
                "num": "",
                "prefix": ""
               },
               {
                "credits": 3,
                "curriculum_requisites": [
                 {
                  "source_id": 8567629330018577000,
                  "target_id": 1550254336733113000,
                  "type": "strict-coreq"
                 }
                ],
                "id": 1550254336733113000,
                "metrics": {
                 "blocking factor": 0,
                 "centrality": 0,
                 "complexity": 2,
                 "delay factor": 2
                },
                "name": " ",
                "nameSub": "Outside Tech. Elective",
                "num": "",
                "prefix": ""
               },
               {
                "credits": 3,
                "curriculum_requisites": [
                 {
                  "source_id": 7032478820254192000,
                  "target_id": 4008053407184661000,
                  "type": "strict-coreq"
                 },
                 {
                  "source_id": 7794672277230258000,
                  "target_id": 4008053407184661000,
                  "type": "strict-coreq"
                 },
                 {
                  "source_id": 6496975907066468000,
                  "target_id": 4008053407184661000,
                  "type": "strict-coreq"
                 }
                ],
                "id": 4008053407184661000,
                "metrics": {
                 "blocking factor": 0,
                 "centrality": 0,
                 "complexity": 5,
                 "delay factor": 5
                },
                "name": "ECE 3400",
                "nameSub": "ECE 3400",
                "num": "3400",
                "prefix": "ECE"
               },
               {
                "credits": 3,
                "curriculum_requisites": [],
                "id": 2923537976096036000,
                "metrics": {
                 "blocking factor": 0,
                 "centrality": 0,
                 "complexity": 1,
                 "delay factor": 1
                },
                "name": " ",
                "nameSub": "Liberal Studies",
                "num": "",
                "prefix": ""
               }
              ],
              "id": 5,
              "name": "Term 5"
             },
             {
              "curriculum_items": [
               {
                "credits": 3,
                "curriculum_requisites": [],
                "id": 7349856218440932000,
                "metrics": {
                 "blocking factor": 0,
                 "centrality": 0,
                 "complexity": 1,
                 "delay factor": 1
                },
                "name": " ",
                "nameSub": "ECE Foundations",
                "num": "",
                "prefix": ""
               },
               {
                "credits": 3,
                "curriculum_requisites": [],
                "id": 7349856218440932000,
                "metrics": {
                 "blocking factor": 0,
                 "centrality": 0,
                 "complexity": 1,
                 "delay factor": 1
                },
                "name": " ",
                "nameSub": "ECE Foundations",
                "num": "",
                "prefix": ""
               },
               {
                "credits": 3,
                "curriculum_requisites": [],
                "id": 1550254336733113000,
                "metrics": {
                 "blocking factor": 0,
                 "centrality": 0,
                 "complexity": 1,
                 "delay factor": 1
                },
                "name": " ",
                "nameSub": "Outside Tech. Elective",
                "num": "",
                "prefix": ""
               },
               {
                "credits": 3,
                "curriculum_requisites": [],
                "id": 6041467595311408000,
                "metrics": {
                 "blocking factor": 0,
                 "centrality": 0,
                 "complexity": 1,
                 "delay factor": 1
                },
                "name": " ",
                "nameSub": "Elective",
                "num": "",
                "prefix": ""
               },
               {
                "credits": 3,
                "curriculum_requisites": [],
                "id": 2923537976096036000,
                "metrics": {
                 "blocking factor": 0,
                 "centrality": 0,
                 "complexity": 1,
                 "delay factor": 1
                },
                "name": " ",
                "nameSub": "Liberal Studies",
                "num": "",
                "prefix": ""
               }
              ],
              "id": 6,
              "name": "Term 6"
             },
             {
              "curriculum_items": [
               {
                "credits": 3,
                "curriculum_requisites": [],
                "id": 4978152323752412000,
                "metrics": {
                 "blocking factor": 0,
                 "centrality": 0,
                 "complexity": 1,
                 "delay factor": 1
                },
                "name": " ",
                "nameSub": "ECE Elective ",
                "num": "",
                "prefix": ""
               },
               {
                "credits": 3,
                "curriculum_requisites": [],
                "id": 7722222786579926000,
                "metrics": {
                 "blocking factor": 0,
                 "centrality": 0,
                 "complexity": 1,
                 "delay factor": 1
                },
                "name": " ",
                "nameSub": "ECE Elective",
                "num": "",
                "prefix": ""
               },
               {
                "credits": 3,
                "curriculum_requisites": [],
                "id": 1550254336733113000,
                "metrics": {
                 "blocking factor": 0,
                 "centrality": 0,
                 "complexity": 1,
                 "delay factor": 1
                },
                "name": " ",
                "nameSub": "Outside Tech. Elective",
                "num": "",
                "prefix": ""
               },
               {
                "credits": 3,
                "curriculum_requisites": [],
                "id": 2923537976096036000,
                "metrics": {
                 "blocking factor": 0,
                 "centrality": 0,
                 "complexity": 1,
                 "delay factor": 1
                },
                "name": " ",
                "nameSub": "Liberal Studies",
                "num": "",
                "prefix": ""
               }
              ],
              "id": 7,
              "name": "Term 7"
             },
             {
              "curriculum_items": [
               {
                "credits": 3,
                "curriculum_requisites": [],
                "id": 7722222786579926000,
                "metrics": {
                 "blocking factor": 0,
                 "centrality": 0,
                 "complexity": 1,
                 "delay factor": 1
                },
                "name": " ",
                "nameSub": "ECE Elective",
                "num": "",
                "prefix": ""
               },
               {
                "credits": 3,
                "curriculum_requisites": [],
                "id": 7722222786579926000,
                "metrics": {
                 "blocking factor": 0,
                 "centrality": 0,
                 "complexity": 1,
                 "delay factor": 1
                },
                "name": " ",
                "nameSub": "ECE Elective",
                "num": "",
                "prefix": ""
               },
               {
                "credits": 3,
                "curriculum_requisites": [],
                "id": 7722222786579926000,
                "metrics": {
                 "blocking factor": 0,
                 "centrality": 0,
                 "complexity": 1,
                 "delay factor": 1
                },
                "name": " ",
                "nameSub": "ECE Elective",
                "num": "",
                "prefix": ""
               },
               {
                "credits": 3,
                "curriculum_requisites": [],
                "id": 2923537976096036000,
                "metrics": {
                 "blocking factor": 0,
                 "centrality": 0,
                 "complexity": 1,
                 "delay factor": 1
                },
                "name": " ",
                "nameSub": "Liberal Studies",
                "num": "",
                "prefix": ""
               }
              ],
              "id": 8,
              "name": "Term 8"
             }
            ],
            "name": "MyPlan"
           }
          }
         }
        },
        "systemjs_options": null
       },
       "nodeType": "Scope",
       "props": {},
       "type": "node"
      },
      "text/html": [
       "<div\n",
       "    class=\"webio-mountpoint\"\n",
       "    data-webio-mountpoint=\"14825383101776070685\"\n",
       ">\n",
       "    <script>\n",
       "    if (window.require && require.defined && require.defined(\"nbextensions/webio/main\")) {\n",
       "        console.log(\"Jupyter WebIO extension detected, not mounting.\");\n",
       "    } else if (window.WebIO) {\n",
       "        WebIO.mount(\n",
       "            document.querySelector('[data-webio-mountpoint=\"14825383101776070685\"]'),\n",
       "            {\"props\":{},\"nodeType\":\"Scope\",\"type\":\"node\",\"instanceArgs\":{\"imports\":{\"data\":[],\"type\":\"async_block\"},\"id\":\"scope-ec8929b1-2c84-48ae-837e-3bcbcc350f43\",\"handlers\":{},\"systemjs_options\":null,\"observables\":{\"curriculum-data\":{\"sync\":true,\"id\":\"ob_04\",\"value\":{\"curriculum\":{\"name\":\"MyPlan\",\"curriculum_terms\":[{\"name\":\"Term 1\",\"curriculum_items\":[{\"curriculum_requisites\":[],\"name\":\"CHEM 2090\",\"metrics\":{\"centrality\":0,\"complexity\":1.0,\"blocking factor\":0,\"delay factor\":1.0},\"nameSub\":\"CHEM 2090\",\"id\":4341724520540932690,\"num\":\"2090\",\"credits\":3,\"prefix\":\"CHEM\"},{\"curriculum_requisites\":[],\"name\":\"MATH 1910\",\"metrics\":{\"centrality\":0,\"complexity\":15.0,\"blocking factor\":10,\"delay factor\":5.0},\"nameSub\":\"MATH 1910\",\"id\":8143437743098000553,\"num\":\"1910\",\"credits\":3,\"prefix\":\"MATH\"},{\"curriculum_requisites\":[],\"name\":\"ENGRI 1xxx\",\"metrics\":{\"centrality\":0,\"complexity\":1.0,\"blocking factor\":0,\"delay factor\":1.0},\"nameSub\":\"ENGRI 1xxx\",\"id\":5506649445146047587,\"num\":\"1xxx\",\"credits\":3,\"prefix\":\"ENGRI\"},{\"curriculum_requisites\":[],\"name\":\" \",\"metrics\":{\"centrality\":0,\"complexity\":1.0,\"blocking factor\":0,\"delay factor\":1.0},\"nameSub\":\"1st Yr Writing Seminar\",\"id\":9216363289745238381,\"num\":\"\",\"credits\":3,\"prefix\":\"\"},{\"curriculum_requisites\":[],\"name\":\" \",\"metrics\":{\"centrality\":0,\"complexity\":1.0,\"blocking factor\":0,\"delay factor\":1.0},\"nameSub\":\"PE\",\"id\":3595867337974889561,\"num\":\"\",\"credits\":3,\"prefix\":\"\"}],\"id\":1},{\"name\":\"Term 2\",\"curriculum_items\":[{\"curriculum_requisites\":[{\"source_id\":8143437743098000553,\"target_id\":8030424062927649324,\"type\":\"strict-coreq\"}],\"name\":\"PHYS 1112\",\"metrics\":{\"centrality\":9,\"complexity\":9.0,\"blocking factor\":4,\"delay factor\":5.0},\"nameSub\":\"PHYS 1112\",\"id\":8030424062927649324,\"num\":\"1112\",\"credits\":3,\"prefix\":\"PHYS\"},{\"curriculum_requisites\":[{\"source_id\":8143437743098000553,\"target_id\":2678949005889028302,\"type\":\"strict-coreq\"}],\"name\":\"MATH 1920\",\"metrics\":{\"centrality\":28,\"complexity\":12.0,\"blocking factor\":8,\"delay factor\":4.0},\"nameSub\":\"MATH 1920\",\"id\":2678949005889028302,\"num\":\"1920\",\"credits\":3,\"prefix\":\"MATH\"},{\"curriculum_requisites\":[],\"name\":\"CS 111x\",\"metrics\":{\"centrality\":0,\"complexity\":6.0,\"blocking factor\":3,\"delay factor\":3.0},\"nameSub\":\"CS 111x\",\"id\":8567629330018577720,\"num\":\"111x\",\"credits\":3,\"prefix\":\"CS\"},{\"curriculum_requisites\":[],\"name\":\" \",\"metrics\":{\"centrality\":0,\"complexity\":1.0,\"blocking factor\":0,\"delay factor\":1.0},\"nameSub\":\"1st Yr Writing Seminar\",\"id\":9216363289745238381,\"num\":\"\",\"credits\":3,\"prefix\":\"\"},{\"curriculum_requisites\":[],\"name\":\" \",\"metrics\":{\"centrality\":0,\"complexity\":1.0,\"blocking factor\":0,\"delay factor\":1.0},\"nameSub\":\"PE\",\"id\":3595867337974889561,\"num\":\"\",\"credits\":3,\"prefix\":\"\"}],\"id\":2},{\"name\":\"Term 3\",\"curriculum_items\":[{\"curriculum_requisites\":[{\"source_id\":8030424062927649324,\"target_id\":5365089275926023521,\"type\":\"strict-coreq\"},{\"source_id\":2678949005889028302,\"target_id\":5365089275926023521,\"type\":\"strict-coreq\"}],\"name\":\"PHYS 2213\",\"metrics\":{\"centrality\":18,\"complexity\":8.0,\"blocking factor\":3,\"delay factor\":5.0},\"nameSub\":\"PHYS 2213\",\"id\":5365089275926023521,\"num\":\"2213\",\"credits\":3,\"prefix\":\"PHYS\"},{\"curriculum_requisites\":[{\"source_id\":2678949005889028302,\"target_id\":1348345296949287896,\"type\":\"strict-coreq\"}],\"name\":\"MATH 2930\",\"metrics\":{\"centrality\":14,\"complexity\":8.0,\"blocking factor\":4,\"delay factor\":4.0},\"nameSub\":\"MATH 2930\",\"id\":1348345296949287896,\"num\":\"2930\",\"credits\":3,\"prefix\":\"MATH\"},{\"curriculum_requisites\":[{\"source_id\":5365089275926023521,\"target_id\":6496975907066468232,\"type\":\"strict-coreq\"},{\"source_id\":1348345296949287896,\"target_id\":6496975907066468232,\"type\":\"strict-coreq\"}],\"name\":\"ECE\\/ENGRD 2100\",\"metrics\":{\"centrality\":15,\"complexity\":6.0,\"blocking factor\":1,\"delay factor\":5.0},\"nameSub\":\"ECE\\/ENGRD 2100\",\"id\":6496975907066468232,\"num\":\"2100\",\"credits\":3,\"prefix\":\"ECE\\/ENGRD\"},{\"curriculum_requisites\":[{\"source_id\":8567629330018577720,\"target_id\":7794672277230258402,\"type\":\"strict-coreq\"}],\"name\":\"MECE\\/ENGRD 2300\",\"metrics\":{\"centrality\":3,\"complexity\":4.0,\"blocking factor\":1,\"delay factor\":3.0},\"nameSub\":\"MECE\\/ENGRD 2300\",\"id\":7794672277230258402,\"num\":\"2300\",\"credits\":3,\"prefix\":\"MECE\\/ENGRD\"},{\"curriculum_requisites\":[],\"name\":\" \",\"metrics\":{\"centrality\":0,\"complexity\":1.0,\"blocking factor\":0,\"delay factor\":1.0},\"nameSub\":\"Liberal Studies\",\"id\":2923537976096035670,\"num\":\"\",\"credits\":3,\"prefix\":\"\"}],\"id\":3},{\"name\":\"Term 4\",\"curriculum_items\":[{\"curriculum_requisites\":[{\"source_id\":1348345296949287896,\"target_id\":5537855577936233410,\"type\":\"strict-coreq\"}],\"name\":\"PHYS 2214\",\"metrics\":{\"centrality\":0,\"complexity\":4.0,\"blocking factor\":0,\"delay factor\":4.0},\"nameSub\":\"PHYS 2214\",\"id\":5537855577936233410,\"num\":\"2214\",\"credits\":3,\"prefix\":\"PHYS\"},{\"curriculum_requisites\":[{\"source_id\":2678949005889028302,\"target_id\":7674250009588876112,\"type\":\"strict-coreq\"}],\"name\":\"MATH 2940\",\"metrics\":{\"centrality\":5,\"complexity\":5.0,\"blocking factor\":2,\"delay factor\":3.0},\"nameSub\":\"MATH 2940\",\"id\":7674250009588876112,\"num\":\"2940\",\"credits\":3,\"prefix\":\"MATH\"},{\"curriculum_requisites\":[{\"source_id\":5365089275926023521,\"target_id\":3925429420428499454,\"type\":\"strict-coreq\"}],\"name\":\"ENGRD 2xxx\",\"metrics\":{\"centrality\":0,\"complexity\":4.0,\"blocking factor\":0,\"delay factor\":4.0},\"nameSub\":\"ENGRD 2xxx\",\"id\":3925429420428499454,\"num\":\"2xxx\",\"credits\":3,\"prefix\":\"ENGRD\"},{\"curriculum_requisites\":[{\"source_id\":7674250009588876112,\"target_id\":7032478820254191254,\"type\":\"strict-coreq\"},{\"source_id\":1348345296949287896,\"target_id\":7032478820254191254,\"type\":\"strict-coreq\"}],\"name\":\"ECE\\/ENGRD 2200\\/2220\",\"metrics\":{\"centrality\":10,\"complexity\":5.0,\"blocking factor\":1,\"delay factor\":4.0},\"nameSub\":\"ECE 2200\\/ENGRD 2220\",\"id\":7032478820254191254,\"num\":\"2200\\/2220\",\"credits\":3,\"prefix\":\"ECE\\/ENGRD\"},{\"curriculum_requisites\":[],\"name\":\" \",\"metrics\":{\"centrality\":0,\"complexity\":1.0,\"blocking factor\":0,\"delay factor\":1.0},\"nameSub\":\"Liberal Studies\",\"id\":2923537976096035670,\"num\":\"\",\"credits\":3,\"prefix\":\"\"}],\"id\":4},{\"name\":\"Term 5\",\"curriculum_items\":[{\"curriculum_requisites\":[],\"name\":\" \",\"metrics\":{\"centrality\":0,\"complexity\":1.0,\"blocking factor\":0,\"delay factor\":1.0},\"nameSub\":\"ECE Foundations\",\"id\":7349856218440932096,\"num\":\"\",\"credits\":3,\"prefix\":\"\"},{\"curriculum_requisites\":[],\"name\":\" \",\"metrics\":{\"centrality\":0,\"complexity\":1.0,\"blocking factor\":0,\"delay factor\":1.0},\"nameSub\":\"Elective\",\"id\":6041467595311408386,\"num\":\"\",\"credits\":3,\"prefix\":\"\"},{\"curriculum_requisites\":[{\"source_id\":8567629330018577720,\"target_id\":1550254336733113146,\"type\":\"strict-coreq\"}],\"name\":\" \",\"metrics\":{\"centrality\":0,\"complexity\":2.0,\"blocking factor\":0,\"delay factor\":2.0},\"nameSub\":\"Outside Tech. Elective\",\"id\":1550254336733113146,\"num\":\"\",\"credits\":3,\"prefix\":\"\"},{\"curriculum_requisites\":[{\"source_id\":7032478820254191254,\"target_id\":4008053407184661156,\"type\":\"strict-coreq\"},{\"source_id\":7794672277230258402,\"target_id\":4008053407184661156,\"type\":\"strict-coreq\"},{\"source_id\":6496975907066468232,\"target_id\":4008053407184661156,\"type\":\"strict-coreq\"}],\"name\":\"ECE 3400\",\"metrics\":{\"centrality\":0,\"complexity\":5.0,\"blocking factor\":0,\"delay factor\":5.0},\"nameSub\":\"ECE 3400\",\"id\":4008053407184661156,\"num\":\"3400\",\"credits\":3,\"prefix\":\"ECE\"},{\"curriculum_requisites\":[],\"name\":\" \",\"metrics\":{\"centrality\":0,\"complexity\":1.0,\"blocking factor\":0,\"delay factor\":1.0},\"nameSub\":\"Liberal Studies\",\"id\":2923537976096035670,\"num\":\"\",\"credits\":3,\"prefix\":\"\"}],\"id\":5},{\"name\":\"Term 6\",\"curriculum_items\":[{\"curriculum_requisites\":[],\"name\":\" \",\"metrics\":{\"centrality\":0,\"complexity\":1.0,\"blocking factor\":0,\"delay factor\":1.0},\"nameSub\":\"ECE Foundations\",\"id\":7349856218440932096,\"num\":\"\",\"credits\":3,\"prefix\":\"\"},{\"curriculum_requisites\":[],\"name\":\" \",\"metrics\":{\"centrality\":0,\"complexity\":1.0,\"blocking factor\":0,\"delay factor\":1.0},\"nameSub\":\"ECE Foundations\",\"id\":7349856218440932096,\"num\":\"\",\"credits\":3,\"prefix\":\"\"},{\"curriculum_requisites\":[],\"name\":\" \",\"metrics\":{\"centrality\":0,\"complexity\":1.0,\"blocking factor\":0,\"delay factor\":1.0},\"nameSub\":\"Outside Tech. Elective\",\"id\":1550254336733113146,\"num\":\"\",\"credits\":3,\"prefix\":\"\"},{\"curriculum_requisites\":[],\"name\":\" \",\"metrics\":{\"centrality\":0,\"complexity\":1.0,\"blocking factor\":0,\"delay factor\":1.0},\"nameSub\":\"Elective\",\"id\":6041467595311408386,\"num\":\"\",\"credits\":3,\"prefix\":\"\"},{\"curriculum_requisites\":[],\"name\":\" \",\"metrics\":{\"centrality\":0,\"complexity\":1.0,\"blocking factor\":0,\"delay factor\":1.0},\"nameSub\":\"Liberal Studies\",\"id\":2923537976096035670,\"num\":\"\",\"credits\":3,\"prefix\":\"\"}],\"id\":6},{\"name\":\"Term 7\",\"curriculum_items\":[{\"curriculum_requisites\":[],\"name\":\" \",\"metrics\":{\"centrality\":0,\"complexity\":1.0,\"blocking factor\":0,\"delay factor\":1.0},\"nameSub\":\"ECE Elective \",\"id\":4978152323752411909,\"num\":\"\",\"credits\":3,\"prefix\":\"\"},{\"curriculum_requisites\":[],\"name\":\" \",\"metrics\":{\"centrality\":0,\"complexity\":1.0,\"blocking factor\":0,\"delay factor\":1.0},\"nameSub\":\"ECE Elective\",\"id\":7722222786579926055,\"num\":\"\",\"credits\":3,\"prefix\":\"\"},{\"curriculum_requisites\":[],\"name\":\" \",\"metrics\":{\"centrality\":0,\"complexity\":1.0,\"blocking factor\":0,\"delay factor\":1.0},\"nameSub\":\"Outside Tech. Elective\",\"id\":1550254336733113146,\"num\":\"\",\"credits\":3,\"prefix\":\"\"},{\"curriculum_requisites\":[],\"name\":\" \",\"metrics\":{\"centrality\":0,\"complexity\":1.0,\"blocking factor\":0,\"delay factor\":1.0},\"nameSub\":\"Liberal Studies\",\"id\":2923537976096035670,\"num\":\"\",\"credits\":3,\"prefix\":\"\"}],\"id\":7},{\"name\":\"Term 8\",\"curriculum_items\":[{\"curriculum_requisites\":[],\"name\":\" \",\"metrics\":{\"centrality\":0,\"complexity\":1.0,\"blocking factor\":0,\"delay factor\":1.0},\"nameSub\":\"ECE Elective\",\"id\":7722222786579926055,\"num\":\"\",\"credits\":3,\"prefix\":\"\"},{\"curriculum_requisites\":[],\"name\":\" \",\"metrics\":{\"centrality\":0,\"complexity\":1.0,\"blocking factor\":0,\"delay factor\":1.0},\"nameSub\":\"ECE Elective\",\"id\":7722222786579926055,\"num\":\"\",\"credits\":3,\"prefix\":\"\"},{\"curriculum_requisites\":[],\"name\":\" \",\"metrics\":{\"centrality\":0,\"complexity\":1.0,\"blocking factor\":0,\"delay factor\":1.0},\"nameSub\":\"ECE Elective\",\"id\":7722222786579926055,\"num\":\"\",\"credits\":3,\"prefix\":\"\"},{\"curriculum_requisites\":[],\"name\":\" \",\"metrics\":{\"centrality\":0,\"complexity\":1.0,\"blocking factor\":0,\"delay factor\":1.0},\"nameSub\":\"Liberal Studies\",\"id\":2923537976096035670,\"num\":\"\",\"credits\":3,\"prefix\":\"\"}],\"id\":8}]}}}}},\"children\":[{\"props\":{\"src\":\"http:\\/\\/localhost:8156\",\"id\":\"curriculum\",\"events\":{\"load\":\"(function (){this.contentWindow.postMessage({\\\"curriculum\\\":{\\\"name\\\":\\\"MyPlan\\\",\\\"curriculum_terms\\\":[{\\\"name\\\":\\\"Term 1\\\",\\\"curriculum_items\\\":[{\\\"curriculum_requisites\\\":[],\\\"name\\\":\\\"CHEM 2090\\\",\\\"metrics\\\":{\\\"centrality\\\":0,\\\"complexity\\\":1.0,\\\"blocking factor\\\":0,\\\"delay factor\\\":1.0},\\\"nameSub\\\":\\\"CHEM 2090\\\",\\\"id\\\":4341724520540932690,\\\"num\\\":\\\"2090\\\",\\\"credits\\\":3,\\\"prefix\\\":\\\"CHEM\\\"},{\\\"curriculum_requisites\\\":[],\\\"name\\\":\\\"MATH 1910\\\",\\\"metrics\\\":{\\\"centrality\\\":0,\\\"complexity\\\":15.0,\\\"blocking factor\\\":10,\\\"delay factor\\\":5.0},\\\"nameSub\\\":\\\"MATH 1910\\\",\\\"id\\\":8143437743098000553,\\\"num\\\":\\\"1910\\\",\\\"credits\\\":3,\\\"prefix\\\":\\\"MATH\\\"},{\\\"curriculum_requisites\\\":[],\\\"name\\\":\\\"ENGRI 1xxx\\\",\\\"metrics\\\":{\\\"centrality\\\":0,\\\"complexity\\\":1.0,\\\"blocking factor\\\":0,\\\"delay factor\\\":1.0},\\\"nameSub\\\":\\\"ENGRI 1xxx\\\",\\\"id\\\":5506649445146047587,\\\"num\\\":\\\"1xxx\\\",\\\"credits\\\":3,\\\"prefix\\\":\\\"ENGRI\\\"},{\\\"curriculum_requisites\\\":[],\\\"name\\\":\\\" \\\",\\\"metrics\\\":{\\\"centrality\\\":0,\\\"complexity\\\":1.0,\\\"blocking factor\\\":0,\\\"delay factor\\\":1.0},\\\"nameSub\\\":\\\"1st Yr Writing Seminar\\\",\\\"id\\\":9216363289745238381,\\\"num\\\":\\\"\\\",\\\"credits\\\":3,\\\"prefix\\\":\\\"\\\"},{\\\"curriculum_requisites\\\":[],\\\"name\\\":\\\" \\\",\\\"metrics\\\":{\\\"centrality\\\":0,\\\"complexity\\\":1.0,\\\"blocking factor\\\":0,\\\"delay factor\\\":1.0},\\\"nameSub\\\":\\\"PE\\\",\\\"id\\\":3595867337974889561,\\\"num\\\":\\\"\\\",\\\"credits\\\":3,\\\"prefix\\\":\\\"\\\"}],\\\"id\\\":1},{\\\"name\\\":\\\"Term 2\\\",\\\"curriculum_items\\\":[{\\\"curriculum_requisites\\\":[{\\\"source_id\\\":8143437743098000553,\\\"target_id\\\":8030424062927649324,\\\"type\\\":\\\"strict-coreq\\\"}],\\\"name\\\":\\\"PHYS 1112\\\",\\\"metrics\\\":{\\\"centrality\\\":9,\\\"complexity\\\":9.0,\\\"blocking factor\\\":4,\\\"delay factor\\\":5.0},\\\"nameSub\\\":\\\"PHYS 1112\\\",\\\"id\\\":8030424062927649324,\\\"num\\\":\\\"1112\\\",\\\"credits\\\":3,\\\"prefix\\\":\\\"PHYS\\\"},{\\\"curriculum_requisites\\\":[{\\\"source_id\\\":8143437743098000553,\\\"target_id\\\":2678949005889028302,\\\"type\\\":\\\"strict-coreq\\\"}],\\\"name\\\":\\\"MATH 1920\\\",\\\"metrics\\\":{\\\"centrality\\\":28,\\\"complexity\\\":12.0,\\\"blocking factor\\\":8,\\\"delay factor\\\":4.0},\\\"nameSub\\\":\\\"MATH 1920\\\",\\\"id\\\":2678949005889028302,\\\"num\\\":\\\"1920\\\",\\\"credits\\\":3,\\\"prefix\\\":\\\"MATH\\\"},{\\\"curriculum_requisites\\\":[],\\\"name\\\":\\\"CS 111x\\\",\\\"metrics\\\":{\\\"centrality\\\":0,\\\"complexity\\\":6.0,\\\"blocking factor\\\":3,\\\"delay factor\\\":3.0},\\\"nameSub\\\":\\\"CS 111x\\\",\\\"id\\\":8567629330018577720,\\\"num\\\":\\\"111x\\\",\\\"credits\\\":3,\\\"prefix\\\":\\\"CS\\\"},{\\\"curriculum_requisites\\\":[],\\\"name\\\":\\\" \\\",\\\"metrics\\\":{\\\"centrality\\\":0,\\\"complexity\\\":1.0,\\\"blocking factor\\\":0,\\\"delay factor\\\":1.0},\\\"nameSub\\\":\\\"1st Yr Writing Seminar\\\",\\\"id\\\":9216363289745238381,\\\"num\\\":\\\"\\\",\\\"credits\\\":3,\\\"prefix\\\":\\\"\\\"},{\\\"curriculum_requisites\\\":[],\\\"name\\\":\\\" \\\",\\\"metrics\\\":{\\\"centrality\\\":0,\\\"complexity\\\":1.0,\\\"blocking factor\\\":0,\\\"delay factor\\\":1.0},\\\"nameSub\\\":\\\"PE\\\",\\\"id\\\":3595867337974889561,\\\"num\\\":\\\"\\\",\\\"credits\\\":3,\\\"prefix\\\":\\\"\\\"}],\\\"id\\\":2},{\\\"name\\\":\\\"Term 3\\\",\\\"curriculum_items\\\":[{\\\"curriculum_requisites\\\":[{\\\"source_id\\\":8030424062927649324,\\\"target_id\\\":5365089275926023521,\\\"type\\\":\\\"strict-coreq\\\"},{\\\"source_id\\\":2678949005889028302,\\\"target_id\\\":5365089275926023521,\\\"type\\\":\\\"strict-coreq\\\"}],\\\"name\\\":\\\"PHYS 2213\\\",\\\"metrics\\\":{\\\"centrality\\\":18,\\\"complexity\\\":8.0,\\\"blocking factor\\\":3,\\\"delay factor\\\":5.0},\\\"nameSub\\\":\\\"PHYS 2213\\\",\\\"id\\\":5365089275926023521,\\\"num\\\":\\\"2213\\\",\\\"credits\\\":3,\\\"prefix\\\":\\\"PHYS\\\"},{\\\"curriculum_requisites\\\":[{\\\"source_id\\\":2678949005889028302,\\\"target_id\\\":1348345296949287896,\\\"type\\\":\\\"strict-coreq\\\"}],\\\"name\\\":\\\"MATH 2930\\\",\\\"metrics\\\":{\\\"centrality\\\":14,\\\"complexity\\\":8.0,\\\"blocking factor\\\":4,\\\"delay factor\\\":4.0},\\\"nameSub\\\":\\\"MATH 2930\\\",\\\"id\\\":1348345296949287896,\\\"num\\\":\\\"2930\\\",\\\"credits\\\":3,\\\"prefix\\\":\\\"MATH\\\"},{\\\"curriculum_requisites\\\":[{\\\"source_id\\\":5365089275926023521,\\\"target_id\\\":6496975907066468232,\\\"type\\\":\\\"strict-coreq\\\"},{\\\"source_id\\\":1348345296949287896,\\\"target_id\\\":6496975907066468232,\\\"type\\\":\\\"strict-coreq\\\"}],\\\"name\\\":\\\"ECE\\/ENGRD 2100\\\",\\\"metrics\\\":{\\\"centrality\\\":15,\\\"complexity\\\":6.0,\\\"blocking factor\\\":1,\\\"delay factor\\\":5.0},\\\"nameSub\\\":\\\"ECE\\/ENGRD 2100\\\",\\\"id\\\":6496975907066468232,\\\"num\\\":\\\"2100\\\",\\\"credits\\\":3,\\\"prefix\\\":\\\"ECE\\/ENGRD\\\"},{\\\"curriculum_requisites\\\":[{\\\"source_id\\\":8567629330018577720,\\\"target_id\\\":7794672277230258402,\\\"type\\\":\\\"strict-coreq\\\"}],\\\"name\\\":\\\"MECE\\/ENGRD 2300\\\",\\\"metrics\\\":{\\\"centrality\\\":3,\\\"complexity\\\":4.0,\\\"blocking factor\\\":1,\\\"delay factor\\\":3.0},\\\"nameSub\\\":\\\"MECE\\/ENGRD 2300\\\",\\\"id\\\":7794672277230258402,\\\"num\\\":\\\"2300\\\",\\\"credits\\\":3,\\\"prefix\\\":\\\"MECE\\/ENGRD\\\"},{\\\"curriculum_requisites\\\":[],\\\"name\\\":\\\" \\\",\\\"metrics\\\":{\\\"centrality\\\":0,\\\"complexity\\\":1.0,\\\"blocking factor\\\":0,\\\"delay factor\\\":1.0},\\\"nameSub\\\":\\\"Liberal Studies\\\",\\\"id\\\":2923537976096035670,\\\"num\\\":\\\"\\\",\\\"credits\\\":3,\\\"prefix\\\":\\\"\\\"}],\\\"id\\\":3},{\\\"name\\\":\\\"Term 4\\\",\\\"curriculum_items\\\":[{\\\"curriculum_requisites\\\":[{\\\"source_id\\\":1348345296949287896,\\\"target_id\\\":5537855577936233410,\\\"type\\\":\\\"strict-coreq\\\"}],\\\"name\\\":\\\"PHYS 2214\\\",\\\"metrics\\\":{\\\"centrality\\\":0,\\\"complexity\\\":4.0,\\\"blocking factor\\\":0,\\\"delay factor\\\":4.0},\\\"nameSub\\\":\\\"PHYS 2214\\\",\\\"id\\\":5537855577936233410,\\\"num\\\":\\\"2214\\\",\\\"credits\\\":3,\\\"prefix\\\":\\\"PHYS\\\"},{\\\"curriculum_requisites\\\":[{\\\"source_id\\\":2678949005889028302,\\\"target_id\\\":7674250009588876112,\\\"type\\\":\\\"strict-coreq\\\"}],\\\"name\\\":\\\"MATH 2940\\\",\\\"metrics\\\":{\\\"centrality\\\":5,\\\"complexity\\\":5.0,\\\"blocking factor\\\":2,\\\"delay factor\\\":3.0},\\\"nameSub\\\":\\\"MATH 2940\\\",\\\"id\\\":7674250009588876112,\\\"num\\\":\\\"2940\\\",\\\"credits\\\":3,\\\"prefix\\\":\\\"MATH\\\"},{\\\"curriculum_requisites\\\":[{\\\"source_id\\\":5365089275926023521,\\\"target_id\\\":3925429420428499454,\\\"type\\\":\\\"strict-coreq\\\"}],\\\"name\\\":\\\"ENGRD 2xxx\\\",\\\"metrics\\\":{\\\"centrality\\\":0,\\\"complexity\\\":4.0,\\\"blocking factor\\\":0,\\\"delay factor\\\":4.0},\\\"nameSub\\\":\\\"ENGRD 2xxx\\\",\\\"id\\\":3925429420428499454,\\\"num\\\":\\\"2xxx\\\",\\\"credits\\\":3,\\\"prefix\\\":\\\"ENGRD\\\"},{\\\"curriculum_requisites\\\":[{\\\"source_id\\\":7674250009588876112,\\\"target_id\\\":7032478820254191254,\\\"type\\\":\\\"strict-coreq\\\"},{\\\"source_id\\\":1348345296949287896,\\\"target_id\\\":7032478820254191254,\\\"type\\\":\\\"strict-coreq\\\"}],\\\"name\\\":\\\"ECE\\/ENGRD 2200\\/2220\\\",\\\"metrics\\\":{\\\"centrality\\\":10,\\\"complexity\\\":5.0,\\\"blocking factor\\\":1,\\\"delay factor\\\":4.0},\\\"nameSub\\\":\\\"ECE 2200\\/ENGRD 2220\\\",\\\"id\\\":7032478820254191254,\\\"num\\\":\\\"2200\\/2220\\\",\\\"credits\\\":3,\\\"prefix\\\":\\\"ECE\\/ENGRD\\\"},{\\\"curriculum_requisites\\\":[],\\\"name\\\":\\\" \\\",\\\"metrics\\\":{\\\"centrality\\\":0,\\\"complexity\\\":1.0,\\\"blocking factor\\\":0,\\\"delay factor\\\":1.0},\\\"nameSub\\\":\\\"Liberal Studies\\\",\\\"id\\\":2923537976096035670,\\\"num\\\":\\\"\\\",\\\"credits\\\":3,\\\"prefix\\\":\\\"\\\"}],\\\"id\\\":4},{\\\"name\\\":\\\"Term 5\\\",\\\"curriculum_items\\\":[{\\\"curriculum_requisites\\\":[],\\\"name\\\":\\\" \\\",\\\"metrics\\\":{\\\"centrality\\\":0,\\\"complexity\\\":1.0,\\\"blocking factor\\\":0,\\\"delay factor\\\":1.0},\\\"nameSub\\\":\\\"ECE Foundations\\\",\\\"id\\\":7349856218440932096,\\\"num\\\":\\\"\\\",\\\"credits\\\":3,\\\"prefix\\\":\\\"\\\"},{\\\"curriculum_requisites\\\":[],\\\"name\\\":\\\" \\\",\\\"metrics\\\":{\\\"centrality\\\":0,\\\"complexity\\\":1.0,\\\"blocking factor\\\":0,\\\"delay factor\\\":1.0},\\\"nameSub\\\":\\\"Elective\\\",\\\"id\\\":6041467595311408386,\\\"num\\\":\\\"\\\",\\\"credits\\\":3,\\\"prefix\\\":\\\"\\\"},{\\\"curriculum_requisites\\\":[{\\\"source_id\\\":8567629330018577720,\\\"target_id\\\":1550254336733113146,\\\"type\\\":\\\"strict-coreq\\\"}],\\\"name\\\":\\\" \\\",\\\"metrics\\\":{\\\"centrality\\\":0,\\\"complexity\\\":2.0,\\\"blocking factor\\\":0,\\\"delay factor\\\":2.0},\\\"nameSub\\\":\\\"Outside Tech. Elective\\\",\\\"id\\\":1550254336733113146,\\\"num\\\":\\\"\\\",\\\"credits\\\":3,\\\"prefix\\\":\\\"\\\"},{\\\"curriculum_requisites\\\":[{\\\"source_id\\\":7032478820254191254,\\\"target_id\\\":4008053407184661156,\\\"type\\\":\\\"strict-coreq\\\"},{\\\"source_id\\\":7794672277230258402,\\\"target_id\\\":4008053407184661156,\\\"type\\\":\\\"strict-coreq\\\"},{\\\"source_id\\\":6496975907066468232,\\\"target_id\\\":4008053407184661156,\\\"type\\\":\\\"strict-coreq\\\"}],\\\"name\\\":\\\"ECE 3400\\\",\\\"metrics\\\":{\\\"centrality\\\":0,\\\"complexity\\\":5.0,\\\"blocking factor\\\":0,\\\"delay factor\\\":5.0},\\\"nameSub\\\":\\\"ECE 3400\\\",\\\"id\\\":4008053407184661156,\\\"num\\\":\\\"3400\\\",\\\"credits\\\":3,\\\"prefix\\\":\\\"ECE\\\"},{\\\"curriculum_requisites\\\":[],\\\"name\\\":\\\" \\\",\\\"metrics\\\":{\\\"centrality\\\":0,\\\"complexity\\\":1.0,\\\"blocking factor\\\":0,\\\"delay factor\\\":1.0},\\\"nameSub\\\":\\\"Liberal Studies\\\",\\\"id\\\":2923537976096035670,\\\"num\\\":\\\"\\\",\\\"credits\\\":3,\\\"prefix\\\":\\\"\\\"}],\\\"id\\\":5},{\\\"name\\\":\\\"Term 6\\\",\\\"curriculum_items\\\":[{\\\"curriculum_requisites\\\":[],\\\"name\\\":\\\" \\\",\\\"metrics\\\":{\\\"centrality\\\":0,\\\"complexity\\\":1.0,\\\"blocking factor\\\":0,\\\"delay factor\\\":1.0},\\\"nameSub\\\":\\\"ECE Foundations\\\",\\\"id\\\":7349856218440932096,\\\"num\\\":\\\"\\\",\\\"credits\\\":3,\\\"prefix\\\":\\\"\\\"},{\\\"curriculum_requisites\\\":[],\\\"name\\\":\\\" \\\",\\\"metrics\\\":{\\\"centrality\\\":0,\\\"complexity\\\":1.0,\\\"blocking factor\\\":0,\\\"delay factor\\\":1.0},\\\"nameSub\\\":\\\"ECE Foundations\\\",\\\"id\\\":7349856218440932096,\\\"num\\\":\\\"\\\",\\\"credits\\\":3,\\\"prefix\\\":\\\"\\\"},{\\\"curriculum_requisites\\\":[],\\\"name\\\":\\\" \\\",\\\"metrics\\\":{\\\"centrality\\\":0,\\\"complexity\\\":1.0,\\\"blocking factor\\\":0,\\\"delay factor\\\":1.0},\\\"nameSub\\\":\\\"Outside Tech. Elective\\\",\\\"id\\\":1550254336733113146,\\\"num\\\":\\\"\\\",\\\"credits\\\":3,\\\"prefix\\\":\\\"\\\"},{\\\"curriculum_requisites\\\":[],\\\"name\\\":\\\" \\\",\\\"metrics\\\":{\\\"centrality\\\":0,\\\"complexity\\\":1.0,\\\"blocking factor\\\":0,\\\"delay factor\\\":1.0},\\\"nameSub\\\":\\\"Elective\\\",\\\"id\\\":6041467595311408386,\\\"num\\\":\\\"\\\",\\\"credits\\\":3,\\\"prefix\\\":\\\"\\\"},{\\\"curriculum_requisites\\\":[],\\\"name\\\":\\\" \\\",\\\"metrics\\\":{\\\"centrality\\\":0,\\\"complexity\\\":1.0,\\\"blocking factor\\\":0,\\\"delay factor\\\":1.0},\\\"nameSub\\\":\\\"Liberal Studies\\\",\\\"id\\\":2923537976096035670,\\\"num\\\":\\\"\\\",\\\"credits\\\":3,\\\"prefix\\\":\\\"\\\"}],\\\"id\\\":6},{\\\"name\\\":\\\"Term 7\\\",\\\"curriculum_items\\\":[{\\\"curriculum_requisites\\\":[],\\\"name\\\":\\\" \\\",\\\"metrics\\\":{\\\"centrality\\\":0,\\\"complexity\\\":1.0,\\\"blocking factor\\\":0,\\\"delay factor\\\":1.0},\\\"nameSub\\\":\\\"ECE Elective \\\",\\\"id\\\":4978152323752411909,\\\"num\\\":\\\"\\\",\\\"credits\\\":3,\\\"prefix\\\":\\\"\\\"},{\\\"curriculum_requisites\\\":[],\\\"name\\\":\\\" \\\",\\\"metrics\\\":{\\\"centrality\\\":0,\\\"complexity\\\":1.0,\\\"blocking factor\\\":0,\\\"delay factor\\\":1.0},\\\"nameSub\\\":\\\"ECE Elective\\\",\\\"id\\\":7722222786579926055,\\\"num\\\":\\\"\\\",\\\"credits\\\":3,\\\"prefix\\\":\\\"\\\"},{\\\"curriculum_requisites\\\":[],\\\"name\\\":\\\" \\\",\\\"metrics\\\":{\\\"centrality\\\":0,\\\"complexity\\\":1.0,\\\"blocking factor\\\":0,\\\"delay factor\\\":1.0},\\\"nameSub\\\":\\\"Outside Tech. Elective\\\",\\\"id\\\":1550254336733113146,\\\"num\\\":\\\"\\\",\\\"credits\\\":3,\\\"prefix\\\":\\\"\\\"},{\\\"curriculum_requisites\\\":[],\\\"name\\\":\\\" \\\",\\\"metrics\\\":{\\\"centrality\\\":0,\\\"complexity\\\":1.0,\\\"blocking factor\\\":0,\\\"delay factor\\\":1.0},\\\"nameSub\\\":\\\"Liberal Studies\\\",\\\"id\\\":2923537976096035670,\\\"num\\\":\\\"\\\",\\\"credits\\\":3,\\\"prefix\\\":\\\"\\\"}],\\\"id\\\":7},{\\\"name\\\":\\\"Term 8\\\",\\\"curriculum_items\\\":[{\\\"curriculum_requisites\\\":[],\\\"name\\\":\\\" \\\",\\\"metrics\\\":{\\\"centrality\\\":0,\\\"complexity\\\":1.0,\\\"blocking factor\\\":0,\\\"delay factor\\\":1.0},\\\"nameSub\\\":\\\"ECE Elective\\\",\\\"id\\\":7722222786579926055,\\\"num\\\":\\\"\\\",\\\"credits\\\":3,\\\"prefix\\\":\\\"\\\"},{\\\"curriculum_requisites\\\":[],\\\"name\\\":\\\" \\\",\\\"metrics\\\":{\\\"centrality\\\":0,\\\"complexity\\\":1.0,\\\"blocking factor\\\":0,\\\"delay factor\\\":1.0},\\\"nameSub\\\":\\\"ECE Elective\\\",\\\"id\\\":7722222786579926055,\\\"num\\\":\\\"\\\",\\\"credits\\\":3,\\\"prefix\\\":\\\"\\\"},{\\\"curriculum_requisites\\\":[],\\\"name\\\":\\\" \\\",\\\"metrics\\\":{\\\"centrality\\\":0,\\\"complexity\\\":1.0,\\\"blocking factor\\\":0,\\\"delay factor\\\":1.0},\\\"nameSub\\\":\\\"ECE Elective\\\",\\\"id\\\":7722222786579926055,\\\"num\\\":\\\"\\\",\\\"credits\\\":3,\\\"prefix\\\":\\\"\\\"},{\\\"curriculum_requisites\\\":[],\\\"name\\\":\\\" \\\",\\\"metrics\\\":{\\\"centrality\\\":0,\\\"complexity\\\":1.0,\\\"blocking factor\\\":0,\\\"delay factor\\\":1.0},\\\"nameSub\\\":\\\"Liberal Studies\\\",\\\"id\\\":2923537976096035670,\\\"num\\\":\\\"\\\",\\\"credits\\\":3,\\\"prefix\\\":\\\"\\\"}],\\\"id\\\":8}]}},\\\"*\\\"); window.removeEventListener(\\\"message\\\",window.messageReceived); window.messageReceived=(function (event){return (event.data.curriculum!==undefined) ? (_webIOScope.setObservableValue({\\\"name\\\":\\\"curriculum-data\\\",\\\"scope\\\":\\\"scope-ec8929b1-2c84-48ae-837e-3bcbcc350f43\\\",\\\"id\\\":\\\"ob_04\\\",\\\"type\\\":\\\"observable\\\"},event.data.curriculum)) : undefined}); return window.addEventListener(\\\"message\\\",window.messageReceived)})\"},\"style\":{\"padding\":\"0\",\"height\":\"100vh\",\"margin\":\"0\",\"border\":\"none\",\"width\":\"100%\"}},\"nodeType\":\"DOM\",\"type\":\"node\",\"instanceArgs\":{\"namespace\":\"html\",\"tag\":\"iframe\"},\"children\":[\"\"]}]},\n",
       "        );\n",
       "    } else {\n",
       "        document\n",
       "            .querySelector('[data-webio-mountpoint=\"14825383101776070685\"]')\n",
       "            .innerHTML = '<strong>WebIO not detected.</strong>';\n",
       "    }\n",
       "    </script>\n",
       "</div>\n"
      ],
      "text/plain": [
       "WebIO.Scope(\"scope-ec8929b1-2c84-48ae-837e-3bcbcc350f43\", WebIO.Node{WebIO.DOM}(WebIO.DOM(:html, :iframe), Any[\"\"], Dict{Symbol,Any}(:src=>\"http://localhost:8156\",:id=>\"curriculum\",:events=>Dict(:load=>JSString(\"(function (){this.contentWindow.postMessage({\\\"curriculum\\\":{\\\"name\\\":\\\"MyPlan\\\",\\\"curriculum_terms\\\":[{\\\"name\\\":\\\"Term 1\\\",\\\"curriculum_items\\\":[{\\\"curriculum_requisites\\\":[],\\\"name\\\":\\\"CHEM 2090\\\",\\\"metrics\\\":{\\\"centrality\\\":0,\\\"complexity\\\":1.0,\\\"blocking factor\\\":0,\\\"delay factor\\\":1.0},\\\"nameSub\\\":\\\"CHEM 2090\\\",\\\"id\\\":4341724520540932690,\\\"num\\\":\\\"2090\\\",\\\"credits\\\":3,\\\"prefix\\\":\\\"CHEM\\\"},{\\\"curriculum_requisites\\\":[],\\\"name\\\":\\\"MATH 1910\\\",\\\"metrics\\\":{\\\"centrality\\\":0,\\\"complexity\\\":15.0,\\\"blocking factor\\\":10,\\\"delay factor\\\":5.0},\\\"nameSub\\\":\\\"MATH 1910\\\",\\\"id\\\":8143437743098000553,\\\"num\\\":\\\"1910\\\",\\\"credits\\\":3,\\\"prefix\\\":\\\"MATH\\\"},{\\\"curriculum_requisites\\\":[],\\\"name\\\":\\\"ENGRI 1xxx\\\",\\\"metrics\\\":{\\\"centrality\\\":0,\\\"complexity\\\":1.0,\\\"blocking factor\\\":0,\\\"delay factor\\\":1.0},\\\"nameSub\\\":\\\"ENGRI 1xxx\\\",\\\"id\\\":5506649445146047587,\\\"num\\\":\\\"1xxx\\\",\\\"credits\\\":3,\\\"prefix\\\":\\\"ENGRI\\\"},{\\\"curriculum_requisites\\\":[],\\\"name\\\":\\\" \\\",\\\"metrics\\\":{\\\"centrality\\\":0,\\\"complexity\\\":1.0,\\\"blocking factor\\\":0,\\\"delay factor\\\":1.0},\\\"nameSub\\\":\\\"1st Yr Writing Seminar\\\",\\\"id\\\":9216363289745238381,\\\"num\\\":\\\"\\\",\\\"credits\\\":3,\\\"prefix\\\":\\\"\\\"},{\\\"curriculum_requisites\\\":[],\\\"name\\\":\\\" \\\",\\\"metrics\\\":{\\\"centrality\\\":0,\\\"complexity\\\":1.0,\\\"blocking factor\\\":0,\\\"delay factor\\\":1.0},\\\"nameSub\\\":\\\"PE\\\",\\\"id\\\":3595867337974889561,\\\"num\\\":\\\"\\\",\\\"credits\\\":3,\\\"prefix\\\":\\\"\\\"}],\\\"id\\\":1},{\\\"name\\\":\\\"Term 2\\\",\\\"curriculum_items\\\":[{\\\"curriculum_requisites\\\":[{\\\"source_id\\\":8143437743098000553,\\\"target_id\\\":8030424062927649324,\\\"type\\\":\\\"strict-coreq\\\"}],\\\"name\\\":\\\"PHYS 1112\\\",\\\"metrics\\\":{\\\"centrality\\\":9,\\\"complexity\\\":9.0,\\\"blocking factor\\\":4,\\\"delay factor\\\":5.0},\\\"nameSub\\\":\\\"PHYS 1112\\\",\\\"id\\\":8030424062927649324,\\\"num\\\":\\\"1112\\\",\\\"credits\\\":3,\\\"prefix\\\":\\\"PHYS\\\"},{\\\"curriculum_requisites\\\":[{\\\"source_id\\\":8143437743098000553,\\\"target_id\\\":2678949005889028302,\\\"type\\\":\\\"strict-coreq\\\"}],\\\"name\\\":\\\"MATH 1920\\\",\\\"metrics\\\":{\\\"centrality\\\":28,\\\"complexity\\\":12.0,\\\"blocking factor\\\":8,\\\"delay factor\\\":4.0},\\\"nameSub\\\":\\\"MATH 1920\\\",\\\"id\\\":2678949005889028302,\\\"num\\\":\\\"1920\\\",\\\"credits\\\":3,\\\"prefix\\\":\\\"MATH\\\"},{\\\"curriculum_requisites\\\":[],\\\"name\\\":\\\"CS 111x\\\",\\\"metrics\\\":{\\\"centrality\\\":0,\\\"complexity\\\":6.0,\\\"blocking factor\\\":3,\\\"delay factor\\\":3.0},\\\"nameSub\\\":\\\"CS 111x\\\",\\\"id\\\":8567629330018577720,\\\"num\\\":\\\"111x\\\",\\\"credits\\\":3,\\\"prefix\\\":\\\"CS\\\"},{\\\"curriculum_requisites\\\":[],\\\"name\\\":\\\" \\\",\\\"metrics\\\":{\\\"centrality\\\":0,\\\"complexity\\\":1.0,\\\"blocking factor\\\":0,\\\"delay factor\\\":1.0},\\\"nameSub\\\":\\\"1st Yr Writing Seminar\\\",\\\"id\\\":9216363289745238381,\\\"num\\\":\\\"\\\",\\\"credits\\\":3,\\\"prefix\\\":\\\"\\\"},{\\\"curriculum_requisites\\\":[],\\\"name\\\":\\\" \\\",\\\"metrics\\\":{\\\"centrality\\\":0,\\\"complexity\\\":1.0,\\\"blocking factor\\\":0,\\\"delay factor\\\":1.0},\\\"nameSub\\\":\\\"PE\\\",\\\"id\\\":3595867337974889561,\\\"num\\\":\\\"\\\",\\\"credits\\\":3,\\\"prefix\\\":\\\"\\\"}],\\\"id\\\":2},{\\\"name\\\":\\\"Term 3\\\",\\\"curriculum_items\\\":[{\\\"curriculum_requisites\\\":[{\\\"source_id\\\":8030424062927649324,\\\"target_id\\\":5365089275926023521,\\\"type\\\":\\\"strict-coreq\\\"},{\\\"source_id\\\":2678949005889028302,\\\"target_id\\\":5365089275926023521,\\\"type\\\":\\\"strict-coreq\\\"}],\\\"name\\\":\\\"PHYS 2213\\\",\\\"metrics\\\":{\\\"centrality\\\":18,\\\"complexity\\\":8.0,\\\"blocking factor\\\":3,\\\"delay factor\\\":5.0},\\\"nameSub\\\":\\\"PHYS 2213\\\",\\\"id\\\":5365089275926023521,\\\"num\\\":\\\"2213\\\",\\\"credits\\\":3,\\\"prefix\\\":\\\"PHYS\\\"},{\\\"curriculum_requisites\\\":[{\\\"source_id\\\":2678949005889028302,\\\"target_id\\\":1348345296949287896,\\\"type\\\":\\\"strict-coreq\\\"}],\\\"name\\\":\\\"MATH 2930\\\",\\\"metrics\\\":{\\\"centrality\\\":14,\\\"complexity\\\":8.0,\\\"blocking factor\\\":4,\\\"delay factor\\\":4.0},\\\"nameSub\\\":\\\"MATH 2930\\\",\\\"id\\\":1348345296949287896,\\\"num\\\":\\\"2930\\\",\\\"credits\\\":3,\\\"prefix\\\":\\\"MATH\\\"},{\\\"curriculum_requisites\\\":[{\\\"source_id\\\":5365089275926023521,\\\"target_id\\\":6496975907066468232,\\\"type\\\":\\\"strict-coreq\\\"},{\\\"source_id\\\":1348345296949287896,\\\"target_id\\\":6496975907066468232,\\\"type\\\":\\\"strict-coreq\\\"}],\\\"name\\\":\\\"ECE/ENGRD 2100\\\",\\\"metrics\\\":{\\\"centrality\\\":15,\\\"complexity\\\":6.0,\\\"blocking factor\\\":1,\\\"delay factor\\\":5.0},\\\"nameSub\\\":\\\"ECE/ENGRD 2100\\\",\\\"id\\\":6496975907066468232,\\\"num\\\":\\\"2100\\\",\\\"credits\\\":3,\\\"prefix\\\":\\\"ECE/ENGRD\\\"},{\\\"curriculum_requisites\\\":[{\\\"source_id\\\":8567629330018577720,\\\"target_id\\\":7794672277230258402,\\\"type\\\":\\\"strict-coreq\\\"}],\\\"name\\\":\\\"MECE/ENGRD 2300\\\",\\\"metrics\\\":{\\\"centrality\\\":3,\\\"complexity\\\":4.0,\\\"blocking factor\\\":1,\\\"delay factor\\\":3.0},\\\"nameSub\\\":\\\"MECE/ENGRD 2300\\\",\\\"id\\\":7794672277230258402,\\\"num\\\":\\\"2300\\\",\\\"credits\\\":3,\\\"prefix\\\":\\\"MECE/ENGRD\\\"},{\\\"curriculum_requisites\\\":[],\\\"name\\\":\\\" \\\",\\\"metrics\\\":{\\\"centrality\\\":0,\\\"complexity\\\":1.0,\\\"blocking factor\\\":0,\\\"delay factor\\\":1.0},\\\"nameSub\\\":\\\"Liberal Studies\\\",\\\"id\\\":2923537976096035670,\\\"num\\\":\\\"\\\",\\\"credits\\\":3,\\\"prefix\\\":\\\"\\\"}],\\\"id\\\":3},{\\\"name\\\":\\\"Term 4\\\",\\\"curriculum_items\\\":[{\\\"curriculum_requisites\\\":[{\\\"source_id\\\":1348345296949287896,\\\"target_id\\\":5537855577936233410,\\\"type\\\":\\\"strict-coreq\\\"}],\\\"name\\\":\\\"PHYS 2214\\\",\\\"metrics\\\":{\\\"centrality\\\":0,\\\"complexity\\\":4.0,\\\"blocking factor\\\":0,\\\"delay factor\\\":4.0},\\\"nameSub\\\":\\\"PHYS 2214\\\",\\\"id\\\":5537855577936233410,\\\"num\\\":\\\"2214\\\",\\\"credits\\\":3,\\\"prefix\\\":\\\"PHYS\\\"},{\\\"curriculum_requisites\\\":[{\\\"source_id\\\":2678949005889028302,\\\"target_id\\\":7674250009588876112,\\\"type\\\":\\\"strict-coreq\\\"}],\\\"name\\\":\\\"MATH 2940\\\",\\\"metrics\\\":{\\\"centrality\\\":5,\\\"complexity\\\":5.0,\\\"blocking factor\\\":2,\\\"delay factor\\\":3.0},\\\"nameSub\\\":\\\"MATH 2940\\\",\\\"id\\\":7674250009588876112,\\\"num\\\":\\\"2940\\\",\\\"credits\\\":3,\\\"prefix\\\":\\\"MATH\\\"},{\\\"curriculum_requisites\\\":[{\\\"source_id\\\":5365089275926023521,\\\"target_id\\\":3925429420428499454,\\\"type\\\":\\\"strict-coreq\\\"}],\\\"name\\\":\\\"ENGRD 2xxx\\\",\\\"metrics\\\":{\\\"centrality\\\":0,\\\"complexity\\\":4.0,\\\"blocking factor\\\":0,\\\"delay factor\\\":4.0},\\\"nameSub\\\":\\\"ENGRD 2xxx\\\",\\\"id\\\":3925429420428499454,\\\"num\\\":\\\"2xxx\\\",\\\"credits\\\":3,\\\"prefix\\\":\\\"ENGRD\\\"},{\\\"curriculum_requisites\\\":[{\\\"source_id\\\":7674250009588876112,\\\"target_id\\\":7032478820254191254,\\\"type\\\":\\\"strict-coreq\\\"},{\\\"source_id\\\":1348345296949287896,\\\"target_id\\\":7032478820254191254,\\\"type\\\":\\\"strict-coreq\\\"}],\\\"name\\\":\\\"ECE/ENGRD 2200/2220\\\",\\\"metrics\\\":{\\\"centrality\\\":10,\\\"complexity\\\":5.0,\\\"blocking factor\\\":1,\\\"delay factor\\\":4.0},\\\"nameSub\\\":\\\"ECE 2200/ENGRD 2220\\\",\\\"id\\\":7032478820254191254,\\\"num\\\":\\\"2200/2220\\\",\\\"credits\\\":3,\\\"prefix\\\":\\\"ECE/ENGRD\\\"},{\\\"curriculum_requisites\\\":[],\\\"name\\\":\\\" \\\",\\\"metrics\\\":{\\\"centrality\\\":0,\\\"complexity\\\":1.0,\\\"blocking factor\\\":0,\\\"delay factor\\\":1.0},\\\"nameSub\\\":\\\"Liberal Studies\\\",\\\"id\\\":2923537976096035670,\\\"num\\\":\\\"\\\",\\\"credits\\\":3,\\\"prefix\\\":\\\"\\\"}],\\\"id\\\":4},{\\\"name\\\":\\\"Term 5\\\",\\\"curriculum_items\\\":[{\\\"curriculum_requisites\\\":[],\\\"name\\\":\\\" \\\",\\\"metrics\\\":{\\\"centrality\\\":0,\\\"complexity\\\":1.0,\\\"blocking factor\\\":0,\\\"delay factor\\\":1.0},\\\"nameSub\\\":\\\"ECE Foundations\\\",\\\"id\\\":7349856218440932096,\\\"num\\\":\\\"\\\",\\\"credits\\\":3,\\\"prefix\\\":\\\"\\\"},{\\\"curriculum_requisites\\\":[],\\\"name\\\":\\\" \\\",\\\"metrics\\\":{\\\"centrality\\\":0,\\\"complexity\\\":1.0,\\\"blocking factor\\\":0,\\\"delay factor\\\":1.0},\\\"nameSub\\\":\\\"Elective\\\",\\\"id\\\":6041467595311408386,\\\"num\\\":\\\"\\\",\\\"credits\\\":3,\\\"prefix\\\":\\\"\\\"},{\\\"curriculum_requisites\\\":[{\\\"source_id\\\":8567629330018577720,\\\"target_id\\\":1550254336733113146,\\\"type\\\":\\\"strict-coreq\\\"}],\\\"name\\\":\\\" \\\",\\\"metrics\\\":{\\\"centrality\\\":0,\\\"complexity\\\":2.0,\\\"blocking factor\\\":0,\\\"delay factor\\\":2.0},\\\"nameSub\\\":\\\"Outside Tech. Elective\\\",\\\"id\\\":1550254336733113146,\\\"num\\\":\\\"\\\",\\\"credits\\\":3,\\\"prefix\\\":\\\"\\\"},{\\\"curriculum_requisites\\\":[{\\\"source_id\\\":7032478820254191254,\\\"target_id\\\":4008053407184661156,\\\"type\\\":\\\"strict-coreq\\\"},{\\\"source_id\\\":7794672277230258402,\\\"target_id\\\":4008053407184661156,\\\"type\\\":\\\"strict-coreq\\\"},{\\\"source_id\\\":6496975907066468232,\\\"target_id\\\":4008053407184661156,\\\"type\\\":\\\"strict-coreq\\\"}],\\\"name\\\":\\\"ECE 3400\\\",\\\"metrics\\\":{\\\"centrality\\\":0,\\\"complexity\\\":5.0,\\\"blocking factor\\\":0,\\\"delay factor\\\":5.0},\\\"nameSub\\\":\\\"ECE 3400\\\",\\\"id\\\":4008053407184661156,\\\"num\\\":\\\"3400\\\",\\\"credits\\\":3,\\\"prefix\\\":\\\"ECE\\\"},{\\\"curriculum_requisites\\\":[],\\\"name\\\":\\\" \\\",\\\"metrics\\\":{\\\"centrality\\\":0,\\\"complexity\\\":1.0,\\\"blocking factor\\\":0,\\\"delay factor\\\":1.0},\\\"nameSub\\\":\\\"Liberal Studies\\\",\\\"id\\\":2923537976096035670,\\\"num\\\":\\\"\\\",\\\"credits\\\":3,\\\"prefix\\\":\\\"\\\"}],\\\"id\\\":5},{\\\"name\\\":\\\"Term 6\\\",\\\"curriculum_items\\\":[{\\\"curriculum_requisites\\\":[],\\\"name\\\":\\\" \\\",\\\"metrics\\\":{\\\"centrality\\\":0,\\\"complexity\\\":1.0,\\\"blocking factor\\\":0,\\\"delay factor\\\":1.0},\\\"nameSub\\\":\\\"ECE Foundations\\\",\\\"id\\\":7349856218440932096,\\\"num\\\":\\\"\\\",\\\"credits\\\":3,\\\"prefix\\\":\\\"\\\"},{\\\"curriculum_requisites\\\":[],\\\"name\\\":\\\" \\\",\\\"metrics\\\":{\\\"centrality\\\":0,\\\"complexity\\\":1.0,\\\"blocking factor\\\":0,\\\"delay factor\\\":1.0},\\\"nameSub\\\":\\\"ECE Foundations\\\",\\\"id\\\":7349856218440932096,\\\"num\\\":\\\"\\\",\\\"credits\\\":3,\\\"prefix\\\":\\\"\\\"},{\\\"curriculum_requisites\\\":[],\\\"name\\\":\\\" \\\",\\\"metrics\\\":{\\\"centrality\\\":0,\\\"complexity\\\":1.0,\\\"blocking factor\\\":0,\\\"delay factor\\\":1.0},\\\"nameSub\\\":\\\"Outside Tech. Elective\\\",\\\"id\\\":1550254336733113146,\\\"num\\\":\\\"\\\",\\\"credits\\\":3,\\\"prefix\\\":\\\"\\\"},{\\\"curriculum_requisites\\\":[],\\\"name\\\":\\\" \\\",\\\"metrics\\\":{\\\"centrality\\\":0,\\\"complexity\\\":1.0,\\\"blocking factor\\\":0,\\\"delay factor\\\":1.0},\\\"nameSub\\\":\\\"Elective\\\",\\\"id\\\":6041467595311408386,\\\"num\\\":\\\"\\\",\\\"credits\\\":3,\\\"prefix\\\":\\\"\\\"},{\\\"curriculum_requisites\\\":[],\\\"name\\\":\\\" \\\",\\\"metrics\\\":{\\\"centrality\\\":0,\\\"complexity\\\":1.0,\\\"blocking factor\\\":0,\\\"delay factor\\\":1.0},\\\"nameSub\\\":\\\"Liberal Studies\\\",\\\"id\\\":2923537976096035670,\\\"num\\\":\\\"\\\",\\\"credits\\\":3,\\\"prefix\\\":\\\"\\\"}],\\\"id\\\":6},{\\\"name\\\":\\\"Term 7\\\",\\\"curriculum_items\\\":[{\\\"curriculum_requisites\\\":[],\\\"name\\\":\\\" \\\",\\\"metrics\\\":{\\\"centrality\\\":0,\\\"complexity\\\":1.0,\\\"blocking factor\\\":0,\\\"delay factor\\\":1.0},\\\"nameSub\\\":\\\"ECE Elective \\\",\\\"id\\\":4978152323752411909,\\\"num\\\":\\\"\\\",\\\"credits\\\":3,\\\"prefix\\\":\\\"\\\"},{\\\"curriculum_requisites\\\":[],\\\"name\\\":\\\" \\\",\\\"metrics\\\":{\\\"centrality\\\":0,\\\"complexity\\\":1.0,\\\"blocking factor\\\":0,\\\"delay factor\\\":1.0},\\\"nameSub\\\":\\\"ECE Elective\\\",\\\"id\\\":7722222786579926055,\\\"num\\\":\\\"\\\",\\\"credits\\\":3,\\\"prefix\\\":\\\"\\\"},{\\\"curriculum_requisites\\\":[],\\\"name\\\":\\\" \\\",\\\"metrics\\\":{\\\"centrality\\\":0,\\\"complexity\\\":1.0,\\\"blocking factor\\\":0,\\\"delay factor\\\":1.0},\\\"nameSub\\\":\\\"Outside Tech. Elective\\\",\\\"id\\\":1550254336733113146,\\\"num\\\":\\\"\\\",\\\"credits\\\":3,\\\"prefix\\\":\\\"\\\"},{\\\"curriculum_requisites\\\":[],\\\"name\\\":\\\" \\\",\\\"metrics\\\":{\\\"centrality\\\":0,\\\"complexity\\\":1.0,\\\"blocking factor\\\":0,\\\"delay factor\\\":1.0},\\\"nameSub\\\":\\\"Liberal Studies\\\",\\\"id\\\":2923537976096035670,\\\"num\\\":\\\"\\\",\\\"credits\\\":3,\\\"prefix\\\":\\\"\\\"}],\\\"id\\\":7},{\\\"name\\\":\\\"Term 8\\\",\\\"curriculum_items\\\":[{\\\"curriculum_requisites\\\":[],\\\"name\\\":\\\" \\\",\\\"metrics\\\":{\\\"centrality\\\":0,\\\"complexity\\\":1.0,\\\"blocking factor\\\":0,\\\"delay factor\\\":1.0},\\\"nameSub\\\":\\\"ECE Elective\\\",\\\"id\\\":7722222786579926055,\\\"num\\\":\\\"\\\",\\\"credits\\\":3,\\\"prefix\\\":\\\"\\\"},{\\\"curriculum_requisites\\\":[],\\\"name\\\":\\\" \\\",\\\"metrics\\\":{\\\"centrality\\\":0,\\\"complexity\\\":1.0,\\\"blocking factor\\\":0,\\\"delay factor\\\":1.0},\\\"nameSub\\\":\\\"ECE Elective\\\",\\\"id\\\":7722222786579926055,\\\"num\\\":\\\"\\\",\\\"credits\\\":3,\\\"prefix\\\":\\\"\\\"},{\\\"curriculum_requisites\\\":[],\\\"name\\\":\\\" \\\",\\\"metrics\\\":{\\\"centrality\\\":0,\\\"complexity\\\":1.0,\\\"blocking factor\\\":0,\\\"delay factor\\\":1.0},\\\"nameSub\\\":\\\"ECE Elective\\\",\\\"id\\\":7722222786579926055,\\\"num\\\":\\\"\\\",\\\"credits\\\":3,\\\"prefix\\\":\\\"\\\"},{\\\"curriculum_requisites\\\":[],\\\"name\\\":\\\" \\\",\\\"metrics\\\":{\\\"centrality\\\":0,\\\"complexity\\\":1.0,\\\"blocking factor\\\":0,\\\"delay factor\\\":1.0},\\\"nameSub\\\":\\\"Liberal Studies\\\",\\\"id\\\":2923537976096035670,\\\"num\\\":\\\"\\\",\\\"credits\\\":3,\\\"prefix\\\":\\\"\\\"}],\\\"id\\\":8}]}},\\\"*\\\"); window.removeEventListener(\\\"message\\\",window.messageReceived); window.messageReceived=(function (event){return (event.data.curriculum!==undefined) ? (_webIOScope.setObservableValue({\\\"name\\\":\\\"curriculum-data\\\",\\\"scope\\\":\\\"scope-ec8929b1-2c84-48ae-837e-3bcbcc350f43\\\",\\\"id\\\":\\\"ob_04\\\",\\\"type\\\":\\\"observable\\\"},event.data.curriculum)) : undefined}); return window.addEventListener(\\\"message\\\",window.messageReceived)})\")),:style=>Dict(:padding=>\"0\",:height=>\"100vh\",:margin=>\"0\",:border=>\"none\",:width=>\"100%\")), 1), Dict{String,Tuple{Observables.AbstractObservable,Union{Nothing, Bool}}}(\"curriculum-data\"=>(Observable{Dict{String,Any}} with 1 listeners. Value:\n",
       "Dict{String,Any}(\"curriculum\"=>Dict{String,Any}(\"name\"=>\"MyPlan\",\"curriculum_terms\"=>Any[Dict{String,Any}(\"name\"=>\"Term 1\",\"curriculum_items\"=>Any[Dict{String,Any}(\"curriculum_requisites\"=>Any[],\"name\"=>\"CHEM 2090\",\"metrics\"=>Dict{String,Any}(\"centrality\"=>0,\"complexity\"=>1.0,\"blocking factor\"=>0,\"delay factor\"=>1.0),\"nameSub\"=>\"CHEM 2090\",\"id\"=>4341724520540932690,\"num\"=>\"2090\",\"credits\"=>3,\"prefix\"=>\"CHEM\"), Dict{String,Any}(\"curriculum_requisites\"=>Any[],\"name\"=>\"MATH 1910\",\"metrics\"=>Dict{String,Any}(\"centrality\"=>0,\"complexity\"=>15.0,\"blocking factor\"=>10,\"delay factor\"=>5.0),\"nameSub\"=>\"MATH 1910\",\"id\"=>8143437743098000553,\"num\"=>\"1910\",\"credits\"=>3,\"prefix\"=>\"MATH\"), Dict{String,Any}(\"curriculum_requisites\"=>Any[],\"name\"=>\"ENGRI 1xxx\",\"metrics\"=>Dict{String,Any}(\"centrality\"=>0,\"complexity\"=>1.0,\"blocking factor\"=>0,\"delay factor\"=>1.0),\"nameSub\"=>\"ENGRI 1xxx\",\"id\"=>5506649445146047587,\"num\"=>\"1xxx\",\"credits\"=>3,\"prefix\"=>\"ENGRI\"), Dict{String,Any}(\"curriculum_requisites\"=>Any[],\"name\"=>\" \",\"metrics\"=>Dict{String,Any}(\"centrality\"=>0,\"complexity\"=>1.0,\"blocking factor\"=>0,\"delay factor\"=>1.0),\"nameSub\"=>\"1st Yr Writing Seminar\",\"id\"=>9216363289745238381,\"num\"=>\"\",\"credits\"=>3,\"prefix\"=>\"\"), Dict{String,Any}(\"curriculum_requisites\"=>Any[],\"name\"=>\" \",\"metrics\"=>Dict{String,Any}(\"centrality\"=>0,\"complexity\"=>1.0,\"blocking factor\"=>0,\"delay factor\"=>1.0),\"nameSub\"=>\"PE\",\"id\"=>3595867337974889561,\"num\"=>\"\",\"credits\"=>3,\"prefix\"=>\"\")],\"id\"=>1), Dict{String,Any}(\"name\"=>\"Term 2\",\"curriculum_items\"=>Any[Dict{String,Any}(\"curriculum_requisites\"=>Any[Dict{String,Any}(\"source_id\"=>8143437743098000553,\"target_id\"=>8030424062927649324,\"type\"=>\"strict-coreq\")],\"name\"=>\"PHYS 1112\",\"metrics\"=>Dict{String,Any}(\"centrality\"=>9,\"complexity\"=>9.0,\"blocking factor\"=>4,\"delay factor\"=>5.0),\"nameSub\"=>\"PHYS 1112\",\"id\"=>8030424062927649324,\"num\"=>\"1112\",\"credits\"=>3,\"prefix\"=>\"PHYS\"), Dict{String,Any}(\"curriculum_requisites\"=>Any[Dict{String,Any}(\"source_id\"=>8143437743098000553,\"target_id\"=>2678949005889028302,\"type\"=>\"strict-coreq\")],\"name\"=>\"MATH 1920\",\"metrics\"=>Dict{String,Any}(\"centrality\"=>28,\"complexity\"=>12.0,\"blocking factor\"=>8,\"delay factor\"=>4.0),\"nameSub\"=>\"MATH 1920\",\"id\"=>2678949005889028302,\"num\"=>\"1920\",\"credits\"=>3,\"prefix\"=>\"MATH\"), Dict{String,Any}(\"curriculum_requisites\"=>Any[],\"name\"=>\"CS 111x\",\"metrics\"=>Dict{String,Any}(\"centrality\"=>0,\"complexity\"=>6.0,\"blocking factor\"=>3,\"delay factor\"=>3.0),\"nameSub\"=>\"CS 111x\",\"id\"=>8567629330018577720,\"num\"=>\"111x\",\"credits\"=>3,\"prefix\"=>\"CS\"), Dict{String,Any}(\"curriculum_requisites\"=>Any[],\"name\"=>\" \",\"metrics\"=>Dict{String,Any}(\"centrality\"=>0,\"complexity\"=>1.0,\"blocking factor\"=>0,\"delay factor\"=>1.0),\"nameSub\"=>\"1st Yr Writing Seminar\",\"id\"=>9216363289745238381,\"num\"=>\"\",\"credits\"=>3,\"prefix\"=>\"\"), Dict{String,Any}(\"curriculum_requisites\"=>Any[],\"name\"=>\" \",\"metrics\"=>Dict{String,Any}(\"centrality\"=>0,\"complexity\"=>1.0,\"blocking factor\"=>0,\"delay factor\"=>1.0),\"nameSub\"=>\"PE\",\"id\"=>3595867337974889561,\"num\"=>\"\",\"credits\"=>3,\"prefix\"=>\"\")],\"id\"=>2), Dict{String,Any}(\"name\"=>\"Term 3\",\"curriculum_items\"=>Any[Dict{String,Any}(\"curriculum_requisites\"=>Any[Dict{String,Any}(\"source_id\"=>8030424062927649324,\"target_id\"=>5365089275926023521,\"type\"=>\"strict-coreq\"), Dict{String,Any}(\"source_id\"=>2678949005889028302,\"target_id\"=>5365089275926023521,\"type\"=>\"strict-coreq\")],\"name\"=>\"PHYS 2213\",\"metrics\"=>Dict{String,Any}(\"centrality\"=>18,\"complexity\"=>8.0,\"blocking factor\"=>3,\"delay factor\"=>5.0),\"nameSub\"=>\"PHYS 2213\",\"id\"=>5365089275926023521,\"num\"=>\"2213\",\"credits\"=>3,\"prefix\"=>\"PHYS\"), Dict{String,Any}(\"curriculum_requisites\"=>Any[Dict{String,Any}(\"source_id\"=>2678949005889028302,\"target_id\"=>1348345296949287896,\"type\"=>\"strict-coreq\")],\"name\"=>\"MATH 2930\",\"metrics\"=>Dict{String,Any}(\"centrality\"=>14,\"complexity\"=>8.0,\"blocking factor\"=>4,\"delay factor\"=>4.0),\"nameSub\"=>\"MATH 2930\",\"id\"=>1348345296949287896,\"num\"=>\"2930\",\"credits\"=>3,\"prefix\"=>\"MATH\"), Dict{String,Any}(\"curriculum_requisites\"=>Any[Dict{String,Any}(\"source_id\"=>5365089275926023521,\"target_id\"=>6496975907066468232,\"type\"=>\"strict-coreq\"), Dict{String,Any}(\"source_id\"=>1348345296949287896,\"target_id\"=>6496975907066468232,\"type\"=>\"strict-coreq\")],\"name\"=>\"ECE/ENGRD 2100\",\"metrics\"=>Dict{String,Any}(\"centrality\"=>15,\"complexity\"=>6.0,\"blocking factor\"=>1,\"delay factor\"=>5.0),\"nameSub\"=>\"ECE/ENGRD 2100\",\"id\"=>6496975907066468232,\"num\"=>\"2100\",\"credits\"=>3,\"prefix\"=>\"ECE/ENGRD\"), Dict{String,Any}(\"curriculum_requisites\"=>Any[Dict{String,Any}(\"source_id\"=>8567629330018577720,\"target_id\"=>7794672277230258402,\"type\"=>\"strict-coreq\")],\"name\"=>\"MECE/ENGRD 2300\",\"metrics\"=>Dict{String,Any}(\"centrality\"=>3,\"complexity\"=>4.0,\"blocking factor\"=>1,\"delay factor\"=>3.0),\"nameSub\"=>\"MECE/ENGRD 2300\",\"id\"=>7794672277230258402,\"num\"=>\"2300\",\"credits\"=>3,\"prefix\"=>\"MECE/ENGRD\"), Dict{String,Any}(\"curriculum_requisites\"=>Any[],\"name\"=>\" \",\"metrics\"=>Dict{String,Any}(\"centrality\"=>0,\"complexity\"=>1.0,\"blocking factor\"=>0,\"delay factor\"=>1.0),\"nameSub\"=>\"Liberal Studies\",\"id\"=>2923537976096035670,\"num\"=>\"\",\"credits\"=>3,\"prefix\"=>\"\")],\"id\"=>3), Dict{String,Any}(\"name\"=>\"Term 4\",\"curriculum_items\"=>Any[Dict{String,Any}(\"curriculum_requisites\"=>Any[Dict{String,Any}(\"source_id\"=>1348345296949287896,\"target_id\"=>5537855577936233410,\"type\"=>\"strict-coreq\")],\"name\"=>\"PHYS 2214\",\"metrics\"=>Dict{String,Any}(\"centrality\"=>0,\"complexity\"=>4.0,\"blocking factor\"=>0,\"delay factor\"=>4.0),\"nameSub\"=>\"PHYS 2214\",\"id\"=>5537855577936233410,\"num\"=>\"2214\",\"credits\"=>3,\"prefix\"=>\"PHYS\"), Dict{String,Any}(\"curriculum_requisites\"=>Any[Dict{String,Any}(\"source_id\"=>2678949005889028302,\"target_id\"=>7674250009588876112,\"type\"=>\"strict-coreq\")],\"name\"=>\"MATH 2940\",\"metrics\"=>Dict{String,Any}(\"centrality\"=>5,\"complexity\"=>5.0,\"blocking factor\"=>2,\"delay factor\"=>3.0),\"nameSub\"=>\"MATH 2940\",\"id\"=>7674250009588876112,\"num\"=>\"2940\",\"credits\"=>3,\"prefix\"=>\"MATH\"), Dict{String,Any}(\"curriculum_requisites\"=>Any[Dict{String,Any}(\"source_id\"=>5365089275926023521,\"target_id\"=>3925429420428499454,\"type\"=>\"strict-coreq\")],\"name\"=>\"ENGRD 2xxx\",\"metrics\"=>Dict{String,Any}(\"centrality\"=>0,\"complexity\"=>4.0,\"blocking factor\"=>0,\"delay factor\"=>4.0),\"nameSub\"=>\"ENGRD 2xxx\",\"id\"=>3925429420428499454,\"num\"=>\"2xxx\",\"credits\"=>3,\"prefix\"=>\"ENGRD\"), Dict{String,Any}(\"curriculum_requisites\"=>Any[Dict{String,Any}(\"source_id\"=>7674250009588876112,\"target_id\"=>7032478820254191254,\"type\"=>\"strict-coreq\"), Dict{String,Any}(\"source_id\"=>1348345296949287896,\"target_id\"=>7032478820254191254,\"type\"=>\"strict-coreq\")],\"name\"=>\"ECE/ENGRD 2200/2220\",\"metrics\"=>Dict{String,Any}(\"centrality\"=>10,\"complexity\"=>5.0,\"blocking factor\"=>1,\"delay factor\"=>4.0),\"nameSub\"=>\"ECE 2200/ENGRD 2220\",\"id\"=>7032478820254191254,\"num\"=>\"2200/2220\",\"credits\"=>3,\"prefix\"=>\"ECE/ENGRD\"), Dict{String,Any}(\"curriculum_requisites\"=>Any[],\"name\"=>\" \",\"metrics\"=>Dict{String,Any}(\"centrality\"=>0,\"complexity\"=>1.0,\"blocking factor\"=>0,\"delay factor\"=>1.0),\"nameSub\"=>\"Liberal Studies\",\"id\"=>2923537976096035670,\"num\"=>\"\",\"credits\"=>3,\"prefix\"=>\"\")],\"id\"=>4), Dict{String,Any}(\"name\"=>\"Term 5\",\"curriculum_items\"=>Any[Dict{String,Any}(\"curriculum_requisites\"=>Any[],\"name\"=>\" \",\"metrics\"=>Dict{String,Any}(\"centrality\"=>0,\"complexity\"=>1.0,\"blocking factor\"=>0,\"delay factor\"=>1.0),\"nameSub\"=>\"ECE Foundations\",\"id\"=>7349856218440932096,\"num\"=>\"\",\"credits\"=>3,\"prefix\"=>\"\"), Dict{String,Any}(\"curriculum_requisites\"=>Any[],\"name\"=>\" \",\"metrics\"=>Dict{String,Any}(\"centrality\"=>0,\"complexity\"=>1.0,\"blocking factor\"=>0,\"delay factor\"=>1.0),\"nameSub\"=>\"Elective\",\"id\"=>6041467595311408386,\"num\"=>\"\",\"credits\"=>3,\"prefix\"=>\"\"), Dict{String,Any}(\"curriculum_requisites\"=>Any[Dict{String,Any}(\"source_id\"=>8567629330018577720,\"target_id\"=>1550254336733113146,\"type\"=>\"strict-coreq\")],\"name\"=>\" \",\"metrics\"=>Dict{String,Any}(\"centrality\"=>0,\"complexity\"=>2.0,\"blocking factor\"=>0,\"delay factor\"=>2.0),\"nameSub\"=>\"Outside Tech. Elective\",\"id\"=>1550254336733113146,\"num\"=>\"\",\"credits\"=>3,\"prefix\"=>\"\"), Dict{String,Any}(\"curriculum_requisites\"=>Any[Dict{String,Any}(\"source_id\"=>7032478820254191254,\"target_id\"=>4008053407184661156,\"type\"=>\"strict-coreq\"), Dict{String,Any}(\"source_id\"=>7794672277230258402,\"target_id\"=>4008053407184661156,\"type\"=>\"strict-coreq\"), Dict{String,Any}(\"source_id\"=>6496975907066468232,\"target_id\"=>4008053407184661156,\"type\"=>\"strict-coreq\")],\"name\"=>\"ECE 3400\",\"metrics\"=>Dict{String,Any}(\"centrality\"=>0,\"complexity\"=>5.0,\"blocking factor\"=>0,\"delay factor\"=>5.0),\"nameSub\"=>\"ECE 3400\",\"id\"=>4008053407184661156,\"num\"=>\"3400\",\"credits\"=>3,\"prefix\"=>\"ECE\"), Dict{String,Any}(\"curriculum_requisites\"=>Any[],\"name\"=>\" \",\"metrics\"=>Dict{String,Any}(\"centrality\"=>0,\"complexity\"=>1.0,\"blocking factor\"=>0,\"delay factor\"=>1.0),\"nameSub\"=>\"Liberal Studies\",\"id\"=>2923537976096035670,\"num\"=>\"\",\"credits\"=>3,\"prefix\"=>\"\")],\"id\"=>5), Dict{String,Any}(\"name\"=>\"Term 6\",\"curriculum_items\"=>Any[Dict{String,Any}(\"curriculum_requisites\"=>Any[],\"name\"=>\" \",\"metrics\"=>Dict{String,Any}(\"centrality\"=>0,\"complexity\"=>1.0,\"blocking factor\"=>0,\"delay factor\"=>1.0),\"nameSub\"=>\"ECE Foundations\",\"id\"=>7349856218440932096,\"num\"=>\"\",\"credits\"=>3,\"prefix\"=>\"\"), Dict{String,Any}(\"curriculum_requisites\"=>Any[],\"name\"=>\" \",\"metrics\"=>Dict{String,Any}(\"centrality\"=>0,\"complexity\"=>1.0,\"blocking factor\"=>0,\"delay factor\"=>1.0),\"nameSub\"=>\"ECE Foundations\",\"id\"=>7349856218440932096,\"num\"=>\"\",\"credits\"=>3,\"prefix\"=>\"\"), Dict{String,Any}(\"curriculum_requisites\"=>Any[],\"name\"=>\" \",\"metrics\"=>Dict{String,Any}(\"centrality\"=>0,\"complexity\"=>1.0,\"blocking factor\"=>0,\"delay factor\"=>1.0),\"nameSub\"=>\"Outside Tech. Elective\",\"id\"=>1550254336733113146,\"num\"=>\"\",\"credits\"=>3,\"prefix\"=>\"\"), Dict{String,Any}(\"curriculum_requisites\"=>Any[],\"name\"=>\" \",\"metrics\"=>Dict{String,Any}(\"centrality\"=>0,\"complexity\"=>1.0,\"blocking factor\"=>0,\"delay factor\"=>1.0),\"nameSub\"=>\"Elective\",\"id\"=>6041467595311408386,\"num\"=>\"\",\"credits\"=>3,\"prefix\"=>\"\"), Dict{String,Any}(\"curriculum_requisites\"=>Any[],\"name\"=>\" \",\"metrics\"=>Dict{String,Any}(\"centrality\"=>0,\"complexity\"=>1.0,\"blocking factor\"=>0,\"delay factor\"=>1.0),\"nameSub\"=>\"Liberal Studies\",\"id\"=>2923537976096035670,\"num\"=>\"\",\"credits\"=>3,\"prefix\"=>\"\")],\"id\"=>6), Dict{String,Any}(\"name\"=>\"Term 7\",\"curriculum_items\"=>Any[Dict{String,Any}(\"curriculum_requisites\"=>Any[],\"name\"=>\" \",\"metrics\"=>Dict{String,Any}(\"centrality\"=>0,\"complexity\"=>1.0,\"blocking factor\"=>0,\"delay factor\"=>1.0),\"nameSub\"=>\"ECE Elective \",\"id\"=>4978152323752411909,\"num\"=>\"\",\"credits\"=>3,\"prefix\"=>\"\"), Dict{String,Any}(\"curriculum_requisites\"=>Any[],\"name\"=>\" \",\"metrics\"=>Dict{String,Any}(\"centrality\"=>0,\"complexity\"=>1.0,\"blocking factor\"=>0,\"delay factor\"=>1.0),\"nameSub\"=>\"ECE Elective\",\"id\"=>7722222786579926055,\"num\"=>\"\",\"credits\"=>3,\"prefix\"=>\"\"), Dict{String,Any}(\"curriculum_requisites\"=>Any[],\"name\"=>\" \",\"metrics\"=>Dict{String,Any}(\"centrality\"=>0,\"complexity\"=>1.0,\"blocking factor\"=>0,\"delay factor\"=>1.0),\"nameSub\"=>\"Outside Tech. Elective\",\"id\"=>1550254336733113146,\"num\"=>\"\",\"credits\"=>3,\"prefix\"=>\"\"), Dict{String,Any}(\"curriculum_requisites\"=>Any[],\"name\"=>\" \",\"metrics\"=>Dict{String,Any}(\"centrality\"=>0,\"complexity\"=>1.0,\"blocking factor\"=>0,\"delay factor\"=>1.0),\"nameSub\"=>\"Liberal Studies\",\"id\"=>2923537976096035670,\"num\"=>\"\",\"credits\"=>3,\"prefix\"=>\"\")],\"id\"=>7), Dict{String,Any}(\"name\"=>\"Term 8\",\"curriculum_items\"=>Any[Dict{String,Any}(\"curriculum_requisites\"=>Any[],\"name\"=>\" \",\"metrics\"=>Dict{String,Any}(\"centrality\"=>0,\"complexity\"=>1.0,\"blocking factor\"=>0,\"delay factor\"=>1.0),\"nameSub\"=>\"ECE Elective\",\"id\"=>7722222786579926055,\"num\"=>\"\",\"credits\"=>3,\"prefix\"=>\"\"), Dict{String,Any}(\"curriculum_requisites\"=>Any[],\"name\"=>\" \",\"metrics\"=>Dict{String,Any}(\"centrality\"=>0,\"complexity\"=>1.0,\"blocking factor\"=>0,\"delay factor\"=>1.0),\"nameSub\"=>\"ECE Elective\",\"id\"=>7722222786579926055,\"num\"=>\"\",\"credits\"=>3,\"prefix\"=>\"\"), Dict{String,Any}(\"curriculum_requisites\"=>Any[],\"name\"=>\" \",\"metrics\"=>Dict{String,Any}(\"centrality\"=>0,\"complexity\"=>1.0,\"blocking factor\"=>0,\"delay factor\"=>1.0),\"nameSub\"=>\"ECE Elective\",\"id\"=>7722222786579926055,\"num\"=>\"\",\"credits\"=>3,\"prefix\"=>\"\"), Dict{String,Any}(\"curriculum_requisites\"=>Any[],\"name\"=>\" \",\"metrics\"=>Dict{String,Any}(\"centrality\"=>0,\"complexity\"=>1.0,\"blocking factor\"=>0,\"delay factor\"=>1.0),\"nameSub\"=>\"Liberal Studies\",\"id\"=>2923537976096035670,\"num\"=>\"\",\"credits\"=>3,\"prefix\"=>\"\")],\"id\"=>8)])), nothing)), Set(String[]), nothing, Any[], Dict{Any,Any}(), WebIO.ConnectionPool(Channel{Any}(sz_max:9223372036854775807,sz_curr:0), Set(WebIO.AbstractConnection[]), Channel{WebIO.AbstractConnection}(sz_max:32,sz_curr:0)))"
      ]
     },
     "execution_count": 5,
     "metadata": {
      "application/vnd.webio.node+json": {
       "kernelId": "56917971-f6e2-498c-808d-066bc1091008"
      }
     },
     "output_type": "execute_result"
    }
   ],
   "source": [
    "#This cell shows does not use Blink, so the output will will be shown in Jupyter with visualize_jupyter function\n",
    "\n",
    "#Activate CurricularAnalytics package and add it\n",
    "using Pkg\n",
    "pkg\"activate .\"\n",
    "using CurricularAnalytics\n",
    "#read Classes from csv file and dump as .json\n",
    "read_csv(\"examples/CornellECECources.csv\")\n",
    "#Load classes from .json file created\n",
    "dp = import_degree_plan(\"recent-visualization.json\")\n",
    "curric = dp.curriculum\n",
    "\n",
    "errors = IOBuffer()\n",
    "if isvalid_curriculum(curric, errors)\n",
    "    println(\"Curriculum $(curric.name) is valid\")\n",
    "    println(\"  delay factor = $(delay_factor(curric))\")\n",
    "    println(\"  blocking factor = $(blocking_factor(curric))\")\n",
    "    println(\"  centrality factor = $(centrality(curric))\")\n",
    "    println(\"  curricular complexity = $(complexity(curric))\")\n",
    "    take!(errors) # clear the IO buffer\n",
    "    if isvalid_degree_plan(dp, errors)\n",
    "        println(\"Degree plan $(dp.name) is valid\")\n",
    "    else\n",
    "        println(\"Degree plan $(dp.name) is not valid:\")\n",
    "        print(String(take!(errors)))\n",
    "        println(\"\\nDiplaying degree plan for debugging purposes...\")\n",
    "    end\n",
    "    #visualize(dp)\n",
    "    visualize_jupyter(dp)\n",
    "else # invalid curriculum\n",
    "    println(\"Curriculum $(curric.name) is not valid:\")\n",
    "    print(String(take!(errors)))\n",
    "end"
   ]
  },
  {
   "cell_type": "code",
   "execution_count": 2,
   "metadata": {},
   "outputs": [
    {
     "name": "stdout",
     "output_type": "stream",
     "text": [
      "Curriculum Underwater Basket Weaving is valid\n",
      "  delay factor = (80.0, [1.0, 5.0, 1.0, 1.0, 1.0, 5.0, 4.0, 3.0, 1.0, 1.0, 5.0, 4.0, 5.0, 3.0, 1.0, 4.0, 3.0, 4.0, 4.0, 1.0, 1.0, 1.0, 2.0, 5.0, 1.0, 1.0, 1.0, 1.0, 1.0, 1.0, 1.0, 1.0, 1.0, 1.0, 1.0, 1.0, 1.0, 1.0])\n",
      "  blocking factor = (37, [0, 10, 0, 0, 0, 4, 8, 3, 0, 0, 3, 4, 1, 1, 0, 0, 2, 0, 1, 0, 0, 0, 0, 0, 0, 0, 0, 0, 0, 0, 0, 0, 0, 0, 0, 0, 0, 0])\n",
      "  centrality factor = (102, [0, 0, 0, 0, 0, 9, 28, 0, 0, 0, 18, 14, 15, 3, 0, 0, 5, 0, 10, 0, 0, 0, 0, 0, 0, 0, 0, 0, 0, 0, 0, 0, 0, 0, 0, 0, 0, 0])\n",
      "  curricular complexity = (117.0, Number[1.0, 15.0, 1.0, 1.0, 1.0, 9.0, 12.0, 6.0, 1.0, 1.0, 8.0, 8.0, 6.0, 4.0, 1.0, 4.0, 5.0, 4.0, 5.0, 1.0, 1.0, 1.0, 2.0, 5.0, 1.0, 1.0, 1.0, 1.0, 1.0, 1.0, 1.0, 1.0, 1.0, 1.0, 1.0, 1.0, 1.0, 1.0])\n",
      "Degree plan MyPlan is not valid:\n",
      "\n",
      "-Course 1st Yr Writing Seminar is listed multiple times in degree plan\n",
      "-Course PE is listed multiple times in degree plan\n",
      "-Course Liberal Studies is listed multiple times in degree plan\n",
      "-Course Liberal Studies is listed multiple times in degree plan\n",
      "-Course ECE Foundations is listed multiple times in degree plan\n",
      "-Course ECE Foundations is listed multiple times in degree plan\n",
      "-Course Outside Tech. Elective is listed multiple times in degree plan\n",
      "-Course Elective is listed multiple times in degree plan\n",
      "-Course Liberal Studies is listed multiple times in degree plan\n",
      "-Course Outside Tech. Elective is listed multiple times in degree plan\n",
      "-Course Liberal Studies is listed multiple times in degree plan\n",
      "-Course ECE Elective is listed multiple times in degree plan\n",
      "-Course ECE Elective is listed multiple times in degree plan\n",
      "-Course ECE Elective is listed multiple times in degree plan\n",
      "-Course Liberal Studies is listed multiple times in degree plan\n",
      "Diplaying degree plan for debugging purposes...\n"
     ]
    },
    {
     "data": {
      "text/plain": [
       "Blink.AtomShell.Window(1, Blink.AtomShell.Electron(Process(`\u001b[4m'C:\\Users\\orhan\\.julia\\packages\\Blink\\vKGzM\\deps\\atom\\electron.exe'\u001b[24m \u001b[4m'C:\\Users\\orhan\\.julia\\packages\\Blink\\vKGzM\\src\\AtomShell\\main.js'\u001b[24m \u001b[4mport\u001b[24m \u001b[4m4434\u001b[24m`, ProcessRunning), Sockets.TCPSocket(Base.Libc.WindowsRawSocket(0x00000000000003e8) active, 0 bytes waiting), Dict{String,Any}(\"callback\"=>##1#2())), Blink.Page(1, WebSockets.WebSocket{Sockets.TCPSocket}(Sockets.TCPSocket(Base.Libc.WindowsRawSocket(0x0000000000000518) active, 0 bytes waiting), true, CONNECTED::ReadyState = 1), Dict{String,Any}(\"webio\"=>##95#96{BlinkConnection}(BlinkConnection(Page(#= circular reference @-4 =#))),\"callback\"=>##1#2()), Distributed.Future(1, 1, 1, Some(true))))"
      ]
     },
     "execution_count": 2,
     "metadata": {},
     "output_type": "execute_result"
    }
   ],
   "source": [
    "#This cell will open a Blink window to show the Curriculum with visualize function\n",
    "\n",
    "#Activate CurricularAnalytics package and add it\n",
    "using Pkg\n",
    "pkg\"activate .\"\n",
    "using CurricularAnalytics\n",
    "#read Classes from csv file and dump as .json\n",
    "read_csv(\"examples/UH_EE.csv\")\n",
    "#Load classes from .json file created\n",
    "dp = import_degree_plan(\"recent-visualization.json\")\n",
    "curric = dp.curriculum\n",
    "\n",
    "errors = IOBuffer()\n",
    "if isvalid_curriculum(curric, errors)\n",
    "    println(\"Curriculum $(curric.name) is valid\")\n",
    "    println(\"  delay factor = $(delay_factor(curric))\")\n",
    "    println(\"  blocking factor = $(blocking_factor(curric))\")\n",
    "    println(\"  centrality factor = $(centrality(curric))\")\n",
    "    println(\"  curricular complexity = $(complexity(curric))\")\n",
    "    take!(errors) # clear the IO buffer\n",
    "    if isvalid_degree_plan(dp, errors)\n",
    "        println(\"Degree plan $(dp.name) is valid\")\n",
    "    else\n",
    "        println(\"Degree plan $(dp.name) is not valid:\")\n",
    "        print(String(take!(errors)))\n",
    "        println(\"\\nDiplaying degree plan for debugging purposes...\")\n",
    "    end\n",
    "    visualize(dp)\n",
    "    #visualize_jupyter(dp)\n",
    "else # invalid curriculum\n",
    "    println(\"Curriculum $(curric.name) is not valid:\")\n",
    "    print(String(take!(errors)))\n",
    "end"
   ]
  },
  {
   "cell_type": "code",
   "execution_count": 3,
   "metadata": {},
   "outputs": [
    {
     "name": "stdout",
     "output_type": "stream",
     "text": [
      "Curriculum University of Houston EE Program is valid\n",
      "  delay factor = (279.0, [1.0, 7.0, 9.0, 12.0, 2.0, 2.0, 1.0, 7.0, 9.0, 12.0, 12.0, 4.0, 1.0, 8.0, 12.0, 10.0, 12.0, 12.0, 7.0, 8.0, 12.0, 12.0, 9.0, 9.0, 1.0, 12.0, 12.0, 1.0, 9.0, 1.0, 1.0, 4.0, 1.0, 1.0, 8.0, 1.0, 3.0, 12.0, 1.0, 1.0, 1.0, 1.0, 1.0, 12.0, 1.0, 1.0, 1.0, 1.0, 1.0])\n",
      "  blocking factor = (208, [0, 6, 15, 23, 1, 0, 0, 5, 14, 20, 16, 0, 0, 13, 12, 15, 14, 13, 4, 4, 5, 8, 4, 2, 0, 3, 2, 0, 2, 0, 0, 2, 0, 0, 2, 0, 2, 1, 0, 0, 0, 0, 0, 0, 0, 0, 0, 0, 0])\n",
      "  centrality factor = (5717, [0, 0, 85, 0, 0, 0, 0, 13, 160, 607, 217, 0, 0, 93, 677, 292, 426, 250, 159, 152, 295, 393, 154, 171, 0, 359, 266, 0, 77, 0, 0, 16, 0, 0, 76, 0, 0, 779, 0, 0, 0, 0, 0, 0, 0, 0, 0, 0, 0])\n",
      "  curricular complexity = (487.0, Number[1.0, 13.0, 24.0, 35.0, 3.0, 2.0, 1.0, 12.0, 23.0, 32.0, 28.0, 4.0, 1.0, 21.0, 24.0, 25.0, 26.0, 25.0, 11.0, 12.0, 17.0, 20.0, 13.0, 11.0, 1.0, 15.0, 14.0, 1.0, 11.0, 1.0, 1.0, 6.0, 1.0, 1.0, 10.0, 1.0, 5.0, 13.0, 1.0, 1.0, 1.0, 1.0, 1.0, 12.0, 1.0, 1.0, 1.0, 1.0, 1.0])\n",
      "Degree plan University of Houston EE Program 4-year Plan is not valid:\n",
      "\n",
      "-Course Concentration Elective is listed multiple times in degree plan\n",
      "-Course Concentration Elective is listed multiple times in degree plan\n",
      "-Course Elective Lab is listed multiple times in degree plan\n",
      "Diplaying degree plan for debugging purposes...\n"
     ]
    },
    {
     "data": {
      "text/plain": [
       "Blink.AtomShell.Window(2, Blink.AtomShell.Electron(Process(`\u001b[4m'C:\\Users\\orhan\\.julia\\packages\\Blink\\vKGzM\\deps\\atom\\electron.exe'\u001b[24m \u001b[4m'C:\\Users\\orhan\\.julia\\packages\\Blink\\vKGzM\\src\\AtomShell\\main.js'\u001b[24m \u001b[4mport\u001b[24m \u001b[4m4434\u001b[24m`, ProcessRunning), Sockets.TCPSocket(Base.Libc.WindowsRawSocket(0x00000000000003e8) active, 0 bytes waiting), Dict{String,Any}(\"callback\"=>##1#2())), Blink.Page(2, WebSockets.WebSocket{Sockets.TCPSocket}(Sockets.TCPSocket(Base.Libc.WindowsRawSocket(0x0000000000000500) active, 0 bytes waiting), true, CONNECTED::ReadyState = 1), Dict{String,Any}(\"webio\"=>##95#96{BlinkConnection}(BlinkConnection(Page(#= circular reference @-4 =#))),\"callback\"=>##1#2()), Distributed.Future(1, 1, 2, Some(true))))"
      ]
     },
     "execution_count": 3,
     "metadata": {},
     "output_type": "execute_result"
    }
   ],
   "source": [
    "#This cell will run an exapmle file in \"example\" folder\n",
    "#Output will be on Blink window\n",
    "#If you want to show the output on Jupyter, you can change the visualize(dp) function to visualize_jupyter(dp)\n",
    "using Pkg\n",
    "pkg\"activate .\"\n",
    "include(\"examples/curric_UH_EE.jl\")"
   ]
  },
  {
   "cell_type": "code",
   "execution_count": 5,
   "metadata": {},
   "outputs": [
    {
     "name": "stdout",
     "output_type": "stream",
     "text": [
      "Reading csv file: examples/UH_EE.csv\n",
      "Curriculum Underwater Basket Weaving is valid\n",
      "  delay factor = (80.0, [1.0, 5.0, 1.0, 1.0, 1.0, 5.0, 4.0, 3.0, 1.0, 1.0, 5.0, 4.0, 5.0, 3.0, 1.0, 4.0, 3.0, 4.0, 4.0, 1.0, 1.0, 1.0, 2.0, 5.0, 1.0, 1.0, 1.0, 1.0, 1.0, 1.0, 1.0, 1.0, 1.0, 1.0, 1.0, 1.0, 1.0, 1.0])\n",
      "  blocking factor = (37, [0, 10, 0, 0, 0, 4, 8, 3, 0, 0, 3, 4, 1, 1, 0, 0, 2, 0, 1, 0, 0, 0, 0, 0, 0, 0, 0, 0, 0, 0, 0, 0, 0, 0, 0, 0, 0, 0])\n",
      "  centrality factor = (102, [0, 0, 0, 0, 0, 9, 28, 0, 0, 0, 18, 14, 15, 3, 0, 0, 5, 0, 10, 0, 0, 0, 0, 0, 0, 0, 0, 0, 0, 0, 0, 0, 0, 0, 0, 0, 0, 0])\n",
      "  curricular complexity = (117.0, Number[1.0, 15.0, 1.0, 1.0, 1.0, 9.0, 12.0, 6.0, 1.0, 1.0, 8.0, 8.0, 6.0, 4.0, 1.0, 4.0, 5.0, 4.0, 5.0, 1.0, 1.0, 1.0, 2.0, 5.0, 1.0, 1.0, 1.0, 1.0, 1.0, 1.0, 1.0, 1.0, 1.0, 1.0, 1.0, 1.0, 1.0, 1.0])\n",
      "Degree plan MyPlan is not valid:\n",
      "\n",
      "-Course 1st Yr Writing Seminar is listed multiple times in degree plan\n",
      "-Course PE is listed multiple times in degree plan\n",
      "-Course Liberal Studies is listed multiple times in degree plan\n",
      "-Course Liberal Studies is listed multiple times in degree plan\n",
      "-Course ECE Foundations is listed multiple times in degree plan\n",
      "-Course ECE Foundations is listed multiple times in degree plan\n",
      "-Course Outside Tech. Elective is listed multiple times in degree plan\n",
      "-Course Elective is listed multiple times in degree plan\n",
      "-Course Liberal Studies is listed multiple times in degree plan\n",
      "-Course Outside Tech. Elective is listed multiple times in degree plan\n",
      "-Course Liberal Studies is listed multiple times in degree plan\n",
      "-Course ECE Elective is listed multiple times in degree plan\n",
      "-Course ECE Elective is listed multiple times in degree plan\n",
      "-Course ECE Elective is listed multiple times in degree plan\n",
      "-Course Liberal Studies is listed multiple times in degree plan\n",
      "Diplaying degree plan for debugging purposes...\n"
     ]
    },
    {
     "name": "stderr",
     "output_type": "stream",
     "text": [
      "WARNING: replacing module curriculum.\n"
     ]
    },
    {
     "data": {
      "text/plain": [
       "Main.curriculum"
      ]
     },
     "execution_count": 5,
     "metadata": {},
     "output_type": "execute_result"
    }
   ],
   "source": [
    "#This cell will create Curriculum using csv file.\n",
    "using Pkg\n",
    "pkg\"activate .\"\n",
    "module curriculum\n",
    "    ARGS = [\"examples/UH_EE.csv\"]\n",
    "    include(\"examples/curric_from_csv.jl\")\n",
    "end"
   ]
  },
  {
   "cell_type": "code",
   "execution_count": 4,
   "metadata": {},
   "outputs": [
    {
     "name": "stdout",
     "output_type": "stream",
     "text": [
      "coCurriculum University of Houston EE Program is valid\n",
      "  delay factor = (80.0, [1.0, 5.0, 1.0, 1.0, 1.0, 5.0, 4.0, 3.0, 1.0, 1.0, 5.0, 4.0, 5.0, 3.0, 1.0, 4.0, 3.0, 4.0, 4.0, 1.0, 1.0, 1.0, 2.0, 5.0, 1.0, 1.0, 1.0, 1.0, 1.0, 1.0, 1.0, 1.0, 1.0, 1.0, 1.0, 1.0, 1.0, 1.0])\n",
      "  blocking factor = (37, [0, 10, 0, 0, 0, 4, 8, 3, 0, 0, 3, 4, 1, 1, 0, 0, 2, 0, 1, 0, 0, 0, 0, 0, 0, 0, 0, 0, 0, 0, 0, 0, 0, 0, 0, 0, 0, 0])\n",
      "  centrality factor = (102, [0, 0, 0, 0, 0, 9, 28, 0, 0, 0, 18, 14, 15, 3, 0, 0, 5, 0, 10, 0, 0, 0, 0, 0, 0, 0, 0, 0, 0, 0, 0, 0, 0, 0, 0, 0, 0, 0])\n",
      "  curricular complexity = (117.0, Number[1.0, 15.0, 1.0, 1.0, 1.0, 9.0, 12.0, 6.0, 1.0, 1.0, 8.0, 8.0, 6.0, 4.0, 1.0, 4.0, 5.0, 4.0, 5.0, 1.0, 1.0, 1.0, 2.0, 5.0, 1.0, 1.0, 1.0, 1.0, 1.0, 1.0, 1.0, 1.0, 1.0, 1.0, 1.0, 1.0, 1.0, 1.0])\n",
      "Degree plan University of Houston EE Program 4-year Plan is not valid:\n",
      "\n",
      "-Course 1st Yr Writing Seminar is listed multiple times in degree plan\n",
      "-Course PE is listed multiple times in degree plan\n",
      "-Course Liberal Studies is listed multiple times in degree plan\n",
      "-Course Liberal Studies is listed multiple times in degree plan\n",
      "-Course ECE Foundations is listed multiple times in degree plan\n",
      "-Course ECE Foundations is listed multiple times in degree plan\n",
      "-Course Outside Tech. Elective is listed multiple times in degree plan\n",
      "-Course Elective is listed multiple times in degree plan\n",
      "-Course Liberal Studies is listed multiple times in degree plan\n",
      "-Course Outside Tech. Elective is listed multiple times in degree plan\n",
      "-Course Liberal Studies is listed multiple times in degree plan\n",
      "-Course ECE Elective is listed multiple times in degree plan\n",
      "-Course ECE Elective is listed multiple times in degree plan\n",
      "-Course ECE Elective is listed multiple times in degree plan\n",
      "-Course Liberal Studies is listed multiple times in degree plan\n",
      "Diplaying degree plan for debugging purposes...\n"
     ]
    },
    {
     "data": {
      "application/vnd.webio.node+json": {
       "children": [
        {
         "children": [
          ""
         ],
         "instanceArgs": {
          "namespace": "html",
          "tag": "iframe"
         },
         "nodeType": "DOM",
         "props": {
          "events": {
           "load": "(function (){this.contentWindow.postMessage({\"curriculum\":{\"name\":\"University of Houston EE Program 4-year Plan\",\"curriculum_terms\":[{\"name\":\"Term 1\",\"curriculum_items\":[{\"curriculum_requisites\":[],\"name\":\"CHEM 2090\",\"metrics\":{\"centrality\":0,\"complexity\":1.0,\"blocking factor\":0,\"delay factor\":1.0},\"nameSub\":\"CHEM 2090\",\"id\":1530843220354788384,\"num\":\"2090\",\"credits\":3,\"prefix\":\"CHEM\"},{\"curriculum_requisites\":[],\"name\":\"MATH 1910\",\"metrics\":{\"centrality\":0,\"complexity\":15.0,\"blocking factor\":10,\"delay factor\":5.0},\"nameSub\":\"MATH 1910\",\"id\":5254187195419415477,\"num\":\"1910\",\"credits\":3,\"prefix\":\"MATH\"},{\"curriculum_requisites\":[],\"name\":\"ENGRI 1xxx\",\"metrics\":{\"centrality\":0,\"complexity\":1.0,\"blocking factor\":0,\"delay factor\":1.0},\"nameSub\":\"ENGRI 1xxx\",\"id\":545668250216584791,\"num\":\"1xxx\",\"credits\":3,\"prefix\":\"ENGRI\"},{\"curriculum_requisites\":[],\"name\":\" \",\"metrics\":{\"centrality\":0,\"complexity\":1.0,\"blocking factor\":0,\"delay factor\":1.0},\"nameSub\":\"1st Yr Writing Seminar\",\"id\":2403028167830051785,\"num\":\"\",\"credits\":3,\"prefix\":\"\"},{\"curriculum_requisites\":[],\"name\":\" \",\"metrics\":{\"centrality\":0,\"complexity\":1.0,\"blocking factor\":0,\"delay factor\":1.0},\"nameSub\":\"PE\",\"id\":7600283427362699982,\"num\":\"\",\"credits\":3,\"prefix\":\"\"}],\"id\":1},{\"name\":\"Term 2\",\"curriculum_items\":[{\"curriculum_requisites\":[{\"source_id\":5254187195419415477,\"target_id\":547037674849209101,\"type\":\"prereq\"}],\"name\":\"PHYS 1112\",\"metrics\":{\"centrality\":9,\"complexity\":9.0,\"blocking factor\":4,\"delay factor\":5.0},\"nameSub\":\"PHYS 1112\",\"id\":547037674849209101,\"num\":\"1112\",\"credits\":3,\"prefix\":\"PHYS\"},{\"curriculum_requisites\":[{\"source_id\":5254187195419415477,\"target_id\":7078781664013927228,\"type\":\"prereq\"}],\"name\":\"MATH 1920\",\"metrics\":{\"centrality\":28,\"complexity\":12.0,\"blocking factor\":8,\"delay factor\":4.0},\"nameSub\":\"MATH 1920\",\"id\":7078781664013927228,\"num\":\"1920\",\"credits\":3,\"prefix\":\"MATH\"},{\"curriculum_requisites\":[],\"name\":\"CS 111x\",\"metrics\":{\"centrality\":0,\"complexity\":6.0,\"blocking factor\":3,\"delay factor\":3.0},\"nameSub\":\"CS 111x\",\"id\":8286543387148233529,\"num\":\"111x\",\"credits\":3,\"prefix\":\"CS\"},{\"curriculum_requisites\":[],\"name\":\" \",\"metrics\":{\"centrality\":0,\"complexity\":1.0,\"blocking factor\":0,\"delay factor\":1.0},\"nameSub\":\"1st Yr Writing Seminar\",\"id\":2403028167830051785,\"num\":\"\",\"credits\":3,\"prefix\":\"\"},{\"curriculum_requisites\":[],\"name\":\" \",\"metrics\":{\"centrality\":0,\"complexity\":1.0,\"blocking factor\":0,\"delay factor\":1.0},\"nameSub\":\"PE\",\"id\":7600283427362699982,\"num\":\"\",\"credits\":3,\"prefix\":\"\"}],\"id\":2},{\"name\":\"Term 3\",\"curriculum_items\":[{\"curriculum_requisites\":[{\"source_id\":547037674849209101,\"target_id\":3168149942292960553,\"type\":\"prereq\"},{\"source_id\":7078781664013927228,\"target_id\":3168149942292960553,\"type\":\"prereq\"}],\"name\":\"PHYS 2213\",\"metrics\":{\"centrality\":18,\"complexity\":8.0,\"blocking factor\":3,\"delay factor\":5.0},\"nameSub\":\"PHYS 2213\",\"id\":3168149942292960553,\"num\":\"2213\",\"credits\":3,\"prefix\":\"PHYS\"},{\"curriculum_requisites\":[{\"source_id\":7078781664013927228,\"target_id\":7470502300782177278,\"type\":\"prereq\"}],\"name\":\"MATH 2930\",\"metrics\":{\"centrality\":14,\"complexity\":8.0,\"blocking factor\":4,\"delay factor\":4.0},\"nameSub\":\"MATH 2930\",\"id\":7470502300782177278,\"num\":\"2930\",\"credits\":3,\"prefix\":\"MATH\"},{\"curriculum_requisites\":[{\"source_id\":7470502300782177278,\"target_id\":1051500480684879251,\"type\":\"coreq\"},{\"source_id\":3168149942292960553,\"target_id\":1051500480684879251,\"type\":\"coreq\"}],\"name\":\"ECE/ENGRD 2100\",\"metrics\":{\"centrality\":15,\"complexity\":6.0,\"blocking factor\":1,\"delay factor\":5.0},\"nameSub\":\"ECE/ENGRD 2100\",\"id\":1051500480684879251,\"num\":\"2100\",\"credits\":3,\"prefix\":\"ECE/ENGRD\"},{\"curriculum_requisites\":[{\"source_id\":8286543387148233529,\"target_id\":5093549466166423561,\"type\":\"prereq\"}],\"name\":\"MECE/ENGRD 2300\",\"metrics\":{\"centrality\":3,\"complexity\":4.0,\"blocking factor\":1,\"delay factor\":3.0},\"nameSub\":\"MECE/ENGRD 2300\",\"id\":5093549466166423561,\"num\":\"2300\",\"credits\":3,\"prefix\":\"MECE/ENGRD\"},{\"curriculum_requisites\":[],\"name\":\" \",\"metrics\":{\"centrality\":0,\"complexity\":1.0,\"blocking factor\":0,\"delay factor\":1.0},\"nameSub\":\"Liberal Studies\",\"id\":2064328672826168846,\"num\":\"\",\"credits\":3,\"prefix\":\"\"}],\"id\":3},{\"name\":\"Term 4\",\"curriculum_items\":[{\"curriculum_requisites\":[{\"source_id\":7470502300782177278,\"target_id\":7351447124078439720,\"type\":\"coreq\"}],\"name\":\"PHYS 2214\",\"metrics\":{\"centrality\":0,\"complexity\":4.0,\"blocking factor\":0,\"delay factor\":4.0},\"nameSub\":\"PHYS 2214\",\"id\":7351447124078439720,\"num\":\"2214\",\"credits\":3,\"prefix\":\"PHYS\"},{\"curriculum_requisites\":[{\"source_id\":7078781664013927228,\"target_id\":3943294394566151845,\"type\":\"prereq\"}],\"name\":\"MATH 2940\",\"metrics\":{\"centrality\":5,\"complexity\":5.0,\"blocking factor\":2,\"delay factor\":3.0},\"nameSub\":\"MATH 2940\",\"id\":3943294394566151845,\"num\":\"2940\",\"credits\":3,\"prefix\":\"MATH\"},{\"curriculum_requisites\":[{\"source_id\":3168149942292960553,\"target_id\":7974674767755691049,\"type\":\"prereq\"}],\"name\":\"ENGRD 2xxx\",\"metrics\":{\"centrality\":0,\"complexity\":4.0,\"blocking factor\":0,\"delay factor\":4.0},\"nameSub\":\"ENGRD 2xxx\",\"id\":7974674767755691049,\"num\":\"2xxx\",\"credits\":3,\"prefix\":\"ENGRD\"},{\"curriculum_requisites\":[{\"source_id\":7470502300782177278,\"target_id\":2346133463678600126,\"type\":\"prereq\"},{\"source_id\":3943294394566151845,\"target_id\":2346133463678600126,\"type\":\"coreq\"}],\"name\":\"ECE/ENGRD 2200/2220\",\"metrics\":{\"centrality\":10,\"complexity\":5.0,\"blocking factor\":1,\"delay factor\":4.0},\"nameSub\":\"ECE 2200/ENGRD 2220\",\"id\":2346133463678600126,\"num\":\"2200/2220\",\"credits\":3,\"prefix\":\"ECE/ENGRD\"},{\"curriculum_requisites\":[],\"name\":\" \",\"metrics\":{\"centrality\":0,\"complexity\":1.0,\"blocking factor\":0,\"delay factor\":1.0},\"nameSub\":\"Liberal Studies\",\"id\":2064328672826168846,\"num\":\"\",\"credits\":3,\"prefix\":\"\"}],\"id\":4},{\"name\":\"Term 5\",\"curriculum_items\":[{\"curriculum_requisites\":[],\"name\":\" \",\"metrics\":{\"centrality\":0,\"complexity\":1.0,\"blocking factor\":0,\"delay factor\":1.0},\"nameSub\":\"ECE Foundations\",\"id\":4336773669881761152,\"num\":\"\",\"credits\":3,\"prefix\":\"\"},{\"curriculum_requisites\":[],\"name\":\" \",\"metrics\":{\"centrality\":0,\"complexity\":1.0,\"blocking factor\":0,\"delay factor\":1.0},\"nameSub\":\"Elective\",\"id\":4875844914786593207,\"num\":\"\",\"credits\":3,\"prefix\":\"\"},{\"curriculum_requisites\":[{\"source_id\":8286543387148233529,\"target_id\":2056846177162314065,\"type\":\"prereq\"}],\"name\":\" \",\"metrics\":{\"centrality\":0,\"complexity\":2.0,\"blocking factor\":0,\"delay factor\":2.0},\"nameSub\":\"Outside Tech. Elective\",\"id\":2056846177162314065,\"num\":\"\",\"credits\":3,\"prefix\":\"\"},{\"curriculum_requisites\":[{\"source_id\":2346133463678600126,\"target_id\":1245795283786534138,\"type\":\"prereq\"},{\"source_id\":5093549466166423561,\"target_id\":1245795283786534138,\"type\":\"prereq\"},{\"source_id\":1051500480684879251,\"target_id\":1245795283786534138,\"type\":\"prereq\"}],\"name\":\"ECE 3400\",\"metrics\":{\"centrality\":0,\"complexity\":5.0,\"blocking factor\":0,\"delay factor\":5.0},\"nameSub\":\"ECE 3400\",\"id\":1245795283786534138,\"num\":\"3400\",\"credits\":3,\"prefix\":\"ECE\"},{\"curriculum_requisites\":[],\"name\":\" \",\"metrics\":{\"centrality\":0,\"complexity\":1.0,\"blocking factor\":0,\"delay factor\":1.0},\"nameSub\":\"Liberal Studies\",\"id\":2064328672826168846,\"num\":\"\",\"credits\":3,\"prefix\":\"\"}],\"id\":5},{\"name\":\"Term 6\",\"curriculum_items\":[{\"curriculum_requisites\":[],\"name\":\" \",\"metrics\":{\"centrality\":0,\"complexity\":1.0,\"blocking factor\":0,\"delay factor\":1.0},\"nameSub\":\"ECE Foundations\",\"id\":4336773669881761152,\"num\":\"\",\"credits\":3,\"prefix\":\"\"},{\"curriculum_requisites\":[],\"name\":\" \",\"metrics\":{\"centrality\":0,\"complexity\":1.0,\"blocking factor\":0,\"delay factor\":1.0},\"nameSub\":\"ECE Foundations\",\"id\":4336773669881761152,\"num\":\"\",\"credits\":3,\"prefix\":\"\"},{\"curriculum_requisites\":[],\"name\":\" \",\"metrics\":{\"centrality\":0,\"complexity\":1.0,\"blocking factor\":0,\"delay factor\":1.0},\"nameSub\":\"Outside Tech. Elective\",\"id\":2056846177162314065,\"num\":\"\",\"credits\":3,\"prefix\":\"\"},{\"curriculum_requisites\":[],\"name\":\" \",\"metrics\":{\"centrality\":0,\"complexity\":1.0,\"blocking factor\":0,\"delay factor\":1.0},\"nameSub\":\"Elective\",\"id\":4875844914786593207,\"num\":\"\",\"credits\":3,\"prefix\":\"\"},{\"curriculum_requisites\":[],\"name\":\" \",\"metrics\":{\"centrality\":0,\"complexity\":1.0,\"blocking factor\":0,\"delay factor\":1.0},\"nameSub\":\"Liberal Studies\",\"id\":2064328672826168846,\"num\":\"\",\"credits\":3,\"prefix\":\"\"}],\"id\":6},{\"name\":\"Term 7\",\"curriculum_items\":[{\"curriculum_requisites\":[],\"name\":\" \",\"metrics\":{\"centrality\":0,\"complexity\":1.0,\"blocking factor\":0,\"delay factor\":1.0},\"nameSub\":\"ECE Elective \",\"id\":55027327082438860,\"num\":\"\",\"credits\":3,\"prefix\":\"\"},{\"curriculum_requisites\":[],\"name\":\" \",\"metrics\":{\"centrality\":0,\"complexity\":1.0,\"blocking factor\":0,\"delay factor\":1.0},\"nameSub\":\"ECE Elective\",\"id\":2364415439095677035,\"num\":\"\",\"credits\":3,\"prefix\":\"\"},{\"curriculum_requisites\":[],\"name\":\" \",\"metrics\":{\"centrality\":0,\"complexity\":1.0,\"blocking factor\":0,\"delay factor\":1.0},\"nameSub\":\"Outside Tech. Elective\",\"id\":2056846177162314065,\"num\":\"\",\"credits\":3,\"prefix\":\"\"},{\"curriculum_requisites\":[],\"name\":\" \",\"metrics\":{\"centrality\":0,\"complexity\":1.0,\"blocking factor\":0,\"delay factor\":1.0},\"nameSub\":\"Liberal Studies\",\"id\":2064328672826168846,\"num\":\"\",\"credits\":3,\"prefix\":\"\"}],\"id\":7},{\"name\":\"Term 8\",\"curriculum_items\":[{\"curriculum_requisites\":[],\"name\":\" \",\"metrics\":{\"centrality\":0,\"complexity\":1.0,\"blocking factor\":0,\"delay factor\":1.0},\"nameSub\":\"ECE Elective\",\"id\":2364415439095677035,\"num\":\"\",\"credits\":3,\"prefix\":\"\"},{\"curriculum_requisites\":[],\"name\":\" \",\"metrics\":{\"centrality\":0,\"complexity\":1.0,\"blocking factor\":0,\"delay factor\":1.0},\"nameSub\":\"ECE Elective\",\"id\":2364415439095677035,\"num\":\"\",\"credits\":3,\"prefix\":\"\"},{\"curriculum_requisites\":[],\"name\":\" \",\"metrics\":{\"centrality\":0,\"complexity\":1.0,\"blocking factor\":0,\"delay factor\":1.0},\"nameSub\":\"ECE Elective\",\"id\":2364415439095677035,\"num\":\"\",\"credits\":3,\"prefix\":\"\"},{\"curriculum_requisites\":[],\"name\":\" \",\"metrics\":{\"centrality\":0,\"complexity\":1.0,\"blocking factor\":0,\"delay factor\":1.0},\"nameSub\":\"Liberal Studies\",\"id\":2064328672826168846,\"num\":\"\",\"credits\":3,\"prefix\":\"\"}],\"id\":8}]}},\"*\"); window.removeEventListener(\"message\",window.messageReceived); window.messageReceived=(function (event){return (event.data.curriculum!==undefined) ? (_webIOScope.setObservableValue({\"name\":\"curriculum-data\",\"scope\":\"scope-3af473b8-a2be-4c7d-b40f-5d3c6191ca1e\",\"id\":\"ob_03\",\"type\":\"observable\"},event.data.curriculum)) : undefined}); return window.addEventListener(\"message\",window.messageReceived)})"
          },
          "id": "curriculum",
          "src": "http://localhost:8156",
          "style": {
           "border": "none",
           "height": "100vh",
           "margin": "0",
           "padding": "0",
           "width": "100%"
          }
         },
         "type": "node"
        }
       ],
       "instanceArgs": {
        "handlers": {},
        "id": "scope-3af473b8-a2be-4c7d-b40f-5d3c6191ca1e",
        "imports": {
         "data": [],
         "type": "async_block"
        },
        "observables": {
         "curriculum-data": {
          "id": "ob_03",
          "sync": true,
          "value": {
           "curriculum": {
            "curriculum_terms": [
             {
              "curriculum_items": [
               {
                "credits": 3,
                "curriculum_requisites": [],
                "id": 1530843220354788400,
                "metrics": {
                 "blocking factor": 0,
                 "centrality": 0,
                 "complexity": 1,
                 "delay factor": 1
                },
                "name": "CHEM 2090",
                "nameSub": "CHEM 2090",
                "num": "2090",
                "prefix": "CHEM"
               },
               {
                "credits": 3,
                "curriculum_requisites": [],
                "id": 5254187195419416000,
                "metrics": {
                 "blocking factor": 10,
                 "centrality": 0,
                 "complexity": 15,
                 "delay factor": 5
                },
                "name": "MATH 1910",
                "nameSub": "MATH 1910",
                "num": "1910",
                "prefix": "MATH"
               },
               {
                "credits": 3,
                "curriculum_requisites": [],
                "id": 545668250216584770,
                "metrics": {
                 "blocking factor": 0,
                 "centrality": 0,
                 "complexity": 1,
                 "delay factor": 1
                },
                "name": "ENGRI 1xxx",
                "nameSub": "ENGRI 1xxx",
                "num": "1xxx",
                "prefix": "ENGRI"
               },
               {
                "credits": 3,
                "curriculum_requisites": [],
                "id": 2403028167830052000,
                "metrics": {
                 "blocking factor": 0,
                 "centrality": 0,
                 "complexity": 1,
                 "delay factor": 1
                },
                "name": " ",
                "nameSub": "1st Yr Writing Seminar",
                "num": "",
                "prefix": ""
               },
               {
                "credits": 3,
                "curriculum_requisites": [],
                "id": 7600283427362700000,
                "metrics": {
                 "blocking factor": 0,
                 "centrality": 0,
                 "complexity": 1,
                 "delay factor": 1
                },
                "name": " ",
                "nameSub": "PE",
                "num": "",
                "prefix": ""
               }
              ],
              "id": 1,
              "name": "Term 1"
             },
             {
              "curriculum_items": [
               {
                "credits": 3,
                "curriculum_requisites": [
                 {
                  "source_id": 5254187195419416000,
                  "target_id": 547037674849209100,
                  "type": "prereq"
                 }
                ],
                "id": 547037674849209100,
                "metrics": {
                 "blocking factor": 4,
                 "centrality": 9,
                 "complexity": 9,
                 "delay factor": 5
                },
                "name": "PHYS 1112",
                "nameSub": "PHYS 1112",
                "num": "1112",
                "prefix": "PHYS"
               },
               {
                "credits": 3,
                "curriculum_requisites": [
                 {
                  "source_id": 5254187195419416000,
                  "target_id": 7078781664013927000,
                  "type": "prereq"
                 }
                ],
                "id": 7078781664013927000,
                "metrics": {
                 "blocking factor": 8,
                 "centrality": 28,
                 "complexity": 12,
                 "delay factor": 4
                },
                "name": "MATH 1920",
                "nameSub": "MATH 1920",
                "num": "1920",
                "prefix": "MATH"
               },
               {
                "credits": 3,
                "curriculum_requisites": [],
                "id": 8286543387148234000,
                "metrics": {
                 "blocking factor": 3,
                 "centrality": 0,
                 "complexity": 6,
                 "delay factor": 3
                },
                "name": "CS 111x",
                "nameSub": "CS 111x",
                "num": "111x",
                "prefix": "CS"
               },
               {
                "credits": 3,
                "curriculum_requisites": [],
                "id": 2403028167830052000,
                "metrics": {
                 "blocking factor": 0,
                 "centrality": 0,
                 "complexity": 1,
                 "delay factor": 1
                },
                "name": " ",
                "nameSub": "1st Yr Writing Seminar",
                "num": "",
                "prefix": ""
               },
               {
                "credits": 3,
                "curriculum_requisites": [],
                "id": 7600283427362700000,
                "metrics": {
                 "blocking factor": 0,
                 "centrality": 0,
                 "complexity": 1,
                 "delay factor": 1
                },
                "name": " ",
                "nameSub": "PE",
                "num": "",
                "prefix": ""
               }
              ],
              "id": 2,
              "name": "Term 2"
             },
             {
              "curriculum_items": [
               {
                "credits": 3,
                "curriculum_requisites": [
                 {
                  "source_id": 547037674849209100,
                  "target_id": 3168149942292961000,
                  "type": "prereq"
                 },
                 {
                  "source_id": 7078781664013927000,
                  "target_id": 3168149942292961000,
                  "type": "prereq"
                 }
                ],
                "id": 3168149942292961000,
                "metrics": {
                 "blocking factor": 3,
                 "centrality": 18,
                 "complexity": 8,
                 "delay factor": 5
                },
                "name": "PHYS 2213",
                "nameSub": "PHYS 2213",
                "num": "2213",
                "prefix": "PHYS"
               },
               {
                "credits": 3,
                "curriculum_requisites": [
                 {
                  "source_id": 7078781664013927000,
                  "target_id": 7470502300782177000,
                  "type": "prereq"
                 }
                ],
                "id": 7470502300782177000,
                "metrics": {
                 "blocking factor": 4,
                 "centrality": 14,
                 "complexity": 8,
                 "delay factor": 4
                },
                "name": "MATH 2930",
                "nameSub": "MATH 2930",
                "num": "2930",
                "prefix": "MATH"
               },
               {
                "credits": 3,
                "curriculum_requisites": [
                 {
                  "source_id": 7470502300782177000,
                  "target_id": 1051500480684879200,
                  "type": "coreq"
                 },
                 {
                  "source_id": 3168149942292961000,
                  "target_id": 1051500480684879200,
                  "type": "coreq"
                 }
                ],
                "id": 1051500480684879200,
                "metrics": {
                 "blocking factor": 1,
                 "centrality": 15,
                 "complexity": 6,
                 "delay factor": 5
                },
                "name": "ECE/ENGRD 2100",
                "nameSub": "ECE/ENGRD 2100",
                "num": "2100",
                "prefix": "ECE/ENGRD"
               },
               {
                "credits": 3,
                "curriculum_requisites": [
                 {
                  "source_id": 8286543387148234000,
                  "target_id": 5093549466166424000,
                  "type": "prereq"
                 }
                ],
                "id": 5093549466166424000,
                "metrics": {
                 "blocking factor": 1,
                 "centrality": 3,
                 "complexity": 4,
                 "delay factor": 3
                },
                "name": "MECE/ENGRD 2300",
                "nameSub": "MECE/ENGRD 2300",
                "num": "2300",
                "prefix": "MECE/ENGRD"
               },
               {
                "credits": 3,
                "curriculum_requisites": [],
                "id": 2064328672826168800,
                "metrics": {
                 "blocking factor": 0,
                 "centrality": 0,
                 "complexity": 1,
                 "delay factor": 1
                },
                "name": " ",
                "nameSub": "Liberal Studies",
                "num": "",
                "prefix": ""
               }
              ],
              "id": 3,
              "name": "Term 3"
             },
             {
              "curriculum_items": [
               {
                "credits": 3,
                "curriculum_requisites": [
                 {
                  "source_id": 7470502300782177000,
                  "target_id": 7351447124078439000,
                  "type": "coreq"
                 }
                ],
                "id": 7351447124078439000,
                "metrics": {
                 "blocking factor": 0,
                 "centrality": 0,
                 "complexity": 4,
                 "delay factor": 4
                },
                "name": "PHYS 2214",
                "nameSub": "PHYS 2214",
                "num": "2214",
                "prefix": "PHYS"
               },
               {
                "credits": 3,
                "curriculum_requisites": [
                 {
                  "source_id": 7078781664013927000,
                  "target_id": 3943294394566151700,
                  "type": "prereq"
                 }
                ],
                "id": 3943294394566151700,
                "metrics": {
                 "blocking factor": 2,
                 "centrality": 5,
                 "complexity": 5,
                 "delay factor": 3
                },
                "name": "MATH 2940",
                "nameSub": "MATH 2940",
                "num": "2940",
                "prefix": "MATH"
               },
               {
                "credits": 3,
                "curriculum_requisites": [
                 {
                  "source_id": 3168149942292961000,
                  "target_id": 7974674767755691000,
                  "type": "prereq"
                 }
                ],
                "id": 7974674767755691000,
                "metrics": {
                 "blocking factor": 0,
                 "centrality": 0,
                 "complexity": 4,
                 "delay factor": 4
                },
                "name": "ENGRD 2xxx",
                "nameSub": "ENGRD 2xxx",
                "num": "2xxx",
                "prefix": "ENGRD"
               },
               {
                "credits": 3,
                "curriculum_requisites": [
                 {
                  "source_id": 7470502300782177000,
                  "target_id": 2346133463678600000,
                  "type": "prereq"
                 },
                 {
                  "source_id": 3943294394566151700,
                  "target_id": 2346133463678600000,
                  "type": "coreq"
                 }
                ],
                "id": 2346133463678600000,
                "metrics": {
                 "blocking factor": 1,
                 "centrality": 10,
                 "complexity": 5,
                 "delay factor": 4
                },
                "name": "ECE/ENGRD 2200/2220",
                "nameSub": "ECE 2200/ENGRD 2220",
                "num": "2200/2220",
                "prefix": "ECE/ENGRD"
               },
               {
                "credits": 3,
                "curriculum_requisites": [],
                "id": 2064328672826168800,
                "metrics": {
                 "blocking factor": 0,
                 "centrality": 0,
                 "complexity": 1,
                 "delay factor": 1
                },
                "name": " ",
                "nameSub": "Liberal Studies",
                "num": "",
                "prefix": ""
               }
              ],
              "id": 4,
              "name": "Term 4"
             },
             {
              "curriculum_items": [
               {
                "credits": 3,
                "curriculum_requisites": [],
                "id": 4336773669881761300,
                "metrics": {
                 "blocking factor": 0,
                 "centrality": 0,
                 "complexity": 1,
                 "delay factor": 1
                },
                "name": " ",
                "nameSub": "ECE Foundations",
                "num": "",
                "prefix": ""
               },
               {
                "credits": 3,
                "curriculum_requisites": [],
                "id": 4875844914786593000,
                "metrics": {
                 "blocking factor": 0,
                 "centrality": 0,
                 "complexity": 1,
                 "delay factor": 1
                },
                "name": " ",
                "nameSub": "Elective",
                "num": "",
                "prefix": ""
               },
               {
                "credits": 3,
                "curriculum_requisites": [
                 {
                  "source_id": 8286543387148234000,
                  "target_id": 2056846177162314000,
                  "type": "prereq"
                 }
                ],
                "id": 2056846177162314000,
                "metrics": {
                 "blocking factor": 0,
                 "centrality": 0,
                 "complexity": 2,
                 "delay factor": 2
                },
                "name": " ",
                "nameSub": "Outside Tech. Elective",
                "num": "",
                "prefix": ""
               },
               {
                "credits": 3,
                "curriculum_requisites": [
                 {
                  "source_id": 2346133463678600000,
                  "target_id": 1245795283786534100,
                  "type": "prereq"
                 },
                 {
                  "source_id": 5093549466166424000,
                  "target_id": 1245795283786534100,
                  "type": "prereq"
                 },
                 {
                  "source_id": 1051500480684879200,
                  "target_id": 1245795283786534100,
                  "type": "prereq"
                 }
                ],
                "id": 1245795283786534100,
                "metrics": {
                 "blocking factor": 0,
                 "centrality": 0,
                 "complexity": 5,
                 "delay factor": 5
                },
                "name": "ECE 3400",
                "nameSub": "ECE 3400",
                "num": "3400",
                "prefix": "ECE"
               },
               {
                "credits": 3,
                "curriculum_requisites": [],
                "id": 2064328672826168800,
                "metrics": {
                 "blocking factor": 0,
                 "centrality": 0,
                 "complexity": 1,
                 "delay factor": 1
                },
                "name": " ",
                "nameSub": "Liberal Studies",
                "num": "",
                "prefix": ""
               }
              ],
              "id": 5,
              "name": "Term 5"
             },
             {
              "curriculum_items": [
               {
                "credits": 3,
                "curriculum_requisites": [],
                "id": 4336773669881761300,
                "metrics": {
                 "blocking factor": 0,
                 "centrality": 0,
                 "complexity": 1,
                 "delay factor": 1
                },
                "name": " ",
                "nameSub": "ECE Foundations",
                "num": "",
                "prefix": ""
               },
               {
                "credits": 3,
                "curriculum_requisites": [],
                "id": 4336773669881761300,
                "metrics": {
                 "blocking factor": 0,
                 "centrality": 0,
                 "complexity": 1,
                 "delay factor": 1
                },
                "name": " ",
                "nameSub": "ECE Foundations",
                "num": "",
                "prefix": ""
               },
               {
                "credits": 3,
                "curriculum_requisites": [],
                "id": 2056846177162314000,
                "metrics": {
                 "blocking factor": 0,
                 "centrality": 0,
                 "complexity": 1,
                 "delay factor": 1
                },
                "name": " ",
                "nameSub": "Outside Tech. Elective",
                "num": "",
                "prefix": ""
               },
               {
                "credits": 3,
                "curriculum_requisites": [],
                "id": 4875844914786593000,
                "metrics": {
                 "blocking factor": 0,
                 "centrality": 0,
                 "complexity": 1,
                 "delay factor": 1
                },
                "name": " ",
                "nameSub": "Elective",
                "num": "",
                "prefix": ""
               },
               {
                "credits": 3,
                "curriculum_requisites": [],
                "id": 2064328672826168800,
                "metrics": {
                 "blocking factor": 0,
                 "centrality": 0,
                 "complexity": 1,
                 "delay factor": 1
                },
                "name": " ",
                "nameSub": "Liberal Studies",
                "num": "",
                "prefix": ""
               }
              ],
              "id": 6,
              "name": "Term 6"
             },
             {
              "curriculum_items": [
               {
                "credits": 3,
                "curriculum_requisites": [],
                "id": 55027327082438860,
                "metrics": {
                 "blocking factor": 0,
                 "centrality": 0,
                 "complexity": 1,
                 "delay factor": 1
                },
                "name": " ",
                "nameSub": "ECE Elective ",
                "num": "",
                "prefix": ""
               },
               {
                "credits": 3,
                "curriculum_requisites": [],
                "id": 2364415439095677000,
                "metrics": {
                 "blocking factor": 0,
                 "centrality": 0,
                 "complexity": 1,
                 "delay factor": 1
                },
                "name": " ",
                "nameSub": "ECE Elective",
                "num": "",
                "prefix": ""
               },
               {
                "credits": 3,
                "curriculum_requisites": [],
                "id": 2056846177162314000,
                "metrics": {
                 "blocking factor": 0,
                 "centrality": 0,
                 "complexity": 1,
                 "delay factor": 1
                },
                "name": " ",
                "nameSub": "Outside Tech. Elective",
                "num": "",
                "prefix": ""
               },
               {
                "credits": 3,
                "curriculum_requisites": [],
                "id": 2064328672826168800,
                "metrics": {
                 "blocking factor": 0,
                 "centrality": 0,
                 "complexity": 1,
                 "delay factor": 1
                },
                "name": " ",
                "nameSub": "Liberal Studies",
                "num": "",
                "prefix": ""
               }
              ],
              "id": 7,
              "name": "Term 7"
             },
             {
              "curriculum_items": [
               {
                "credits": 3,
                "curriculum_requisites": [],
                "id": 2364415439095677000,
                "metrics": {
                 "blocking factor": 0,
                 "centrality": 0,
                 "complexity": 1,
                 "delay factor": 1
                },
                "name": " ",
                "nameSub": "ECE Elective",
                "num": "",
                "prefix": ""
               },
               {
                "credits": 3,
                "curriculum_requisites": [],
                "id": 2364415439095677000,
                "metrics": {
                 "blocking factor": 0,
                 "centrality": 0,
                 "complexity": 1,
                 "delay factor": 1
                },
                "name": " ",
                "nameSub": "ECE Elective",
                "num": "",
                "prefix": ""
               },
               {
                "credits": 3,
                "curriculum_requisites": [],
                "id": 2364415439095677000,
                "metrics": {
                 "blocking factor": 0,
                 "centrality": 0,
                 "complexity": 1,
                 "delay factor": 1
                },
                "name": " ",
                "nameSub": "ECE Elective",
                "num": "",
                "prefix": ""
               },
               {
                "credits": 3,
                "curriculum_requisites": [],
                "id": 2064328672826168800,
                "metrics": {
                 "blocking factor": 0,
                 "centrality": 0,
                 "complexity": 1,
                 "delay factor": 1
                },
                "name": " ",
                "nameSub": "Liberal Studies",
                "num": "",
                "prefix": ""
               }
              ],
              "id": 8,
              "name": "Term 8"
             }
            ],
            "name": "University of Houston EE Program 4-year Plan"
           }
          }
         }
        },
        "systemjs_options": null
       },
       "nodeType": "Scope",
       "props": {},
       "type": "node"
      },
      "text/html": [
       "<div\n",
       "    class=\"webio-mountpoint\"\n",
       "    data-webio-mountpoint=\"9344077668730049546\"\n",
       ">\n",
       "    <script>\n",
       "    if (window.require && require.defined && require.defined(\"nbextensions/webio/main\")) {\n",
       "        console.log(\"Jupyter WebIO extension detected, not mounting.\");\n",
       "    } else if (window.WebIO) {\n",
       "        WebIO.mount(\n",
       "            document.querySelector('[data-webio-mountpoint=\"9344077668730049546\"]'),\n",
       "            {\"props\":{},\"nodeType\":\"Scope\",\"type\":\"node\",\"instanceArgs\":{\"imports\":{\"data\":[],\"type\":\"async_block\"},\"id\":\"scope-3af473b8-a2be-4c7d-b40f-5d3c6191ca1e\",\"handlers\":{},\"systemjs_options\":null,\"observables\":{\"curriculum-data\":{\"sync\":true,\"id\":\"ob_03\",\"value\":{\"curriculum\":{\"name\":\"University of Houston EE Program 4-year Plan\",\"curriculum_terms\":[{\"name\":\"Term 1\",\"curriculum_items\":[{\"curriculum_requisites\":[],\"name\":\"CHEM 2090\",\"metrics\":{\"centrality\":0,\"complexity\":1.0,\"blocking factor\":0,\"delay factor\":1.0},\"nameSub\":\"CHEM 2090\",\"id\":1530843220354788384,\"num\":\"2090\",\"credits\":3,\"prefix\":\"CHEM\"},{\"curriculum_requisites\":[],\"name\":\"MATH 1910\",\"metrics\":{\"centrality\":0,\"complexity\":15.0,\"blocking factor\":10,\"delay factor\":5.0},\"nameSub\":\"MATH 1910\",\"id\":5254187195419415477,\"num\":\"1910\",\"credits\":3,\"prefix\":\"MATH\"},{\"curriculum_requisites\":[],\"name\":\"ENGRI 1xxx\",\"metrics\":{\"centrality\":0,\"complexity\":1.0,\"blocking factor\":0,\"delay factor\":1.0},\"nameSub\":\"ENGRI 1xxx\",\"id\":545668250216584791,\"num\":\"1xxx\",\"credits\":3,\"prefix\":\"ENGRI\"},{\"curriculum_requisites\":[],\"name\":\" \",\"metrics\":{\"centrality\":0,\"complexity\":1.0,\"blocking factor\":0,\"delay factor\":1.0},\"nameSub\":\"1st Yr Writing Seminar\",\"id\":2403028167830051785,\"num\":\"\",\"credits\":3,\"prefix\":\"\"},{\"curriculum_requisites\":[],\"name\":\" \",\"metrics\":{\"centrality\":0,\"complexity\":1.0,\"blocking factor\":0,\"delay factor\":1.0},\"nameSub\":\"PE\",\"id\":7600283427362699982,\"num\":\"\",\"credits\":3,\"prefix\":\"\"}],\"id\":1},{\"name\":\"Term 2\",\"curriculum_items\":[{\"curriculum_requisites\":[{\"source_id\":5254187195419415477,\"target_id\":547037674849209101,\"type\":\"prereq\"}],\"name\":\"PHYS 1112\",\"metrics\":{\"centrality\":9,\"complexity\":9.0,\"blocking factor\":4,\"delay factor\":5.0},\"nameSub\":\"PHYS 1112\",\"id\":547037674849209101,\"num\":\"1112\",\"credits\":3,\"prefix\":\"PHYS\"},{\"curriculum_requisites\":[{\"source_id\":5254187195419415477,\"target_id\":7078781664013927228,\"type\":\"prereq\"}],\"name\":\"MATH 1920\",\"metrics\":{\"centrality\":28,\"complexity\":12.0,\"blocking factor\":8,\"delay factor\":4.0},\"nameSub\":\"MATH 1920\",\"id\":7078781664013927228,\"num\":\"1920\",\"credits\":3,\"prefix\":\"MATH\"},{\"curriculum_requisites\":[],\"name\":\"CS 111x\",\"metrics\":{\"centrality\":0,\"complexity\":6.0,\"blocking factor\":3,\"delay factor\":3.0},\"nameSub\":\"CS 111x\",\"id\":8286543387148233529,\"num\":\"111x\",\"credits\":3,\"prefix\":\"CS\"},{\"curriculum_requisites\":[],\"name\":\" \",\"metrics\":{\"centrality\":0,\"complexity\":1.0,\"blocking factor\":0,\"delay factor\":1.0},\"nameSub\":\"1st Yr Writing Seminar\",\"id\":2403028167830051785,\"num\":\"\",\"credits\":3,\"prefix\":\"\"},{\"curriculum_requisites\":[],\"name\":\" \",\"metrics\":{\"centrality\":0,\"complexity\":1.0,\"blocking factor\":0,\"delay factor\":1.0},\"nameSub\":\"PE\",\"id\":7600283427362699982,\"num\":\"\",\"credits\":3,\"prefix\":\"\"}],\"id\":2},{\"name\":\"Term 3\",\"curriculum_items\":[{\"curriculum_requisites\":[{\"source_id\":547037674849209101,\"target_id\":3168149942292960553,\"type\":\"prereq\"},{\"source_id\":7078781664013927228,\"target_id\":3168149942292960553,\"type\":\"prereq\"}],\"name\":\"PHYS 2213\",\"metrics\":{\"centrality\":18,\"complexity\":8.0,\"blocking factor\":3,\"delay factor\":5.0},\"nameSub\":\"PHYS 2213\",\"id\":3168149942292960553,\"num\":\"2213\",\"credits\":3,\"prefix\":\"PHYS\"},{\"curriculum_requisites\":[{\"source_id\":7078781664013927228,\"target_id\":7470502300782177278,\"type\":\"prereq\"}],\"name\":\"MATH 2930\",\"metrics\":{\"centrality\":14,\"complexity\":8.0,\"blocking factor\":4,\"delay factor\":4.0},\"nameSub\":\"MATH 2930\",\"id\":7470502300782177278,\"num\":\"2930\",\"credits\":3,\"prefix\":\"MATH\"},{\"curriculum_requisites\":[{\"source_id\":7470502300782177278,\"target_id\":1051500480684879251,\"type\":\"coreq\"},{\"source_id\":3168149942292960553,\"target_id\":1051500480684879251,\"type\":\"coreq\"}],\"name\":\"ECE\\/ENGRD 2100\",\"metrics\":{\"centrality\":15,\"complexity\":6.0,\"blocking factor\":1,\"delay factor\":5.0},\"nameSub\":\"ECE\\/ENGRD 2100\",\"id\":1051500480684879251,\"num\":\"2100\",\"credits\":3,\"prefix\":\"ECE\\/ENGRD\"},{\"curriculum_requisites\":[{\"source_id\":8286543387148233529,\"target_id\":5093549466166423561,\"type\":\"prereq\"}],\"name\":\"MECE\\/ENGRD 2300\",\"metrics\":{\"centrality\":3,\"complexity\":4.0,\"blocking factor\":1,\"delay factor\":3.0},\"nameSub\":\"MECE\\/ENGRD 2300\",\"id\":5093549466166423561,\"num\":\"2300\",\"credits\":3,\"prefix\":\"MECE\\/ENGRD\"},{\"curriculum_requisites\":[],\"name\":\" \",\"metrics\":{\"centrality\":0,\"complexity\":1.0,\"blocking factor\":0,\"delay factor\":1.0},\"nameSub\":\"Liberal Studies\",\"id\":2064328672826168846,\"num\":\"\",\"credits\":3,\"prefix\":\"\"}],\"id\":3},{\"name\":\"Term 4\",\"curriculum_items\":[{\"curriculum_requisites\":[{\"source_id\":7470502300782177278,\"target_id\":7351447124078439720,\"type\":\"coreq\"}],\"name\":\"PHYS 2214\",\"metrics\":{\"centrality\":0,\"complexity\":4.0,\"blocking factor\":0,\"delay factor\":4.0},\"nameSub\":\"PHYS 2214\",\"id\":7351447124078439720,\"num\":\"2214\",\"credits\":3,\"prefix\":\"PHYS\"},{\"curriculum_requisites\":[{\"source_id\":7078781664013927228,\"target_id\":3943294394566151845,\"type\":\"prereq\"}],\"name\":\"MATH 2940\",\"metrics\":{\"centrality\":5,\"complexity\":5.0,\"blocking factor\":2,\"delay factor\":3.0},\"nameSub\":\"MATH 2940\",\"id\":3943294394566151845,\"num\":\"2940\",\"credits\":3,\"prefix\":\"MATH\"},{\"curriculum_requisites\":[{\"source_id\":3168149942292960553,\"target_id\":7974674767755691049,\"type\":\"prereq\"}],\"name\":\"ENGRD 2xxx\",\"metrics\":{\"centrality\":0,\"complexity\":4.0,\"blocking factor\":0,\"delay factor\":4.0},\"nameSub\":\"ENGRD 2xxx\",\"id\":7974674767755691049,\"num\":\"2xxx\",\"credits\":3,\"prefix\":\"ENGRD\"},{\"curriculum_requisites\":[{\"source_id\":7470502300782177278,\"target_id\":2346133463678600126,\"type\":\"prereq\"},{\"source_id\":3943294394566151845,\"target_id\":2346133463678600126,\"type\":\"coreq\"}],\"name\":\"ECE\\/ENGRD 2200\\/2220\",\"metrics\":{\"centrality\":10,\"complexity\":5.0,\"blocking factor\":1,\"delay factor\":4.0},\"nameSub\":\"ECE 2200\\/ENGRD 2220\",\"id\":2346133463678600126,\"num\":\"2200\\/2220\",\"credits\":3,\"prefix\":\"ECE\\/ENGRD\"},{\"curriculum_requisites\":[],\"name\":\" \",\"metrics\":{\"centrality\":0,\"complexity\":1.0,\"blocking factor\":0,\"delay factor\":1.0},\"nameSub\":\"Liberal Studies\",\"id\":2064328672826168846,\"num\":\"\",\"credits\":3,\"prefix\":\"\"}],\"id\":4},{\"name\":\"Term 5\",\"curriculum_items\":[{\"curriculum_requisites\":[],\"name\":\" \",\"metrics\":{\"centrality\":0,\"complexity\":1.0,\"blocking factor\":0,\"delay factor\":1.0},\"nameSub\":\"ECE Foundations\",\"id\":4336773669881761152,\"num\":\"\",\"credits\":3,\"prefix\":\"\"},{\"curriculum_requisites\":[],\"name\":\" \",\"metrics\":{\"centrality\":0,\"complexity\":1.0,\"blocking factor\":0,\"delay factor\":1.0},\"nameSub\":\"Elective\",\"id\":4875844914786593207,\"num\":\"\",\"credits\":3,\"prefix\":\"\"},{\"curriculum_requisites\":[{\"source_id\":8286543387148233529,\"target_id\":2056846177162314065,\"type\":\"prereq\"}],\"name\":\" \",\"metrics\":{\"centrality\":0,\"complexity\":2.0,\"blocking factor\":0,\"delay factor\":2.0},\"nameSub\":\"Outside Tech. Elective\",\"id\":2056846177162314065,\"num\":\"\",\"credits\":3,\"prefix\":\"\"},{\"curriculum_requisites\":[{\"source_id\":2346133463678600126,\"target_id\":1245795283786534138,\"type\":\"prereq\"},{\"source_id\":5093549466166423561,\"target_id\":1245795283786534138,\"type\":\"prereq\"},{\"source_id\":1051500480684879251,\"target_id\":1245795283786534138,\"type\":\"prereq\"}],\"name\":\"ECE 3400\",\"metrics\":{\"centrality\":0,\"complexity\":5.0,\"blocking factor\":0,\"delay factor\":5.0},\"nameSub\":\"ECE 3400\",\"id\":1245795283786534138,\"num\":\"3400\",\"credits\":3,\"prefix\":\"ECE\"},{\"curriculum_requisites\":[],\"name\":\" \",\"metrics\":{\"centrality\":0,\"complexity\":1.0,\"blocking factor\":0,\"delay factor\":1.0},\"nameSub\":\"Liberal Studies\",\"id\":2064328672826168846,\"num\":\"\",\"credits\":3,\"prefix\":\"\"}],\"id\":5},{\"name\":\"Term 6\",\"curriculum_items\":[{\"curriculum_requisites\":[],\"name\":\" \",\"metrics\":{\"centrality\":0,\"complexity\":1.0,\"blocking factor\":0,\"delay factor\":1.0},\"nameSub\":\"ECE Foundations\",\"id\":4336773669881761152,\"num\":\"\",\"credits\":3,\"prefix\":\"\"},{\"curriculum_requisites\":[],\"name\":\" \",\"metrics\":{\"centrality\":0,\"complexity\":1.0,\"blocking factor\":0,\"delay factor\":1.0},\"nameSub\":\"ECE Foundations\",\"id\":4336773669881761152,\"num\":\"\",\"credits\":3,\"prefix\":\"\"},{\"curriculum_requisites\":[],\"name\":\" \",\"metrics\":{\"centrality\":0,\"complexity\":1.0,\"blocking factor\":0,\"delay factor\":1.0},\"nameSub\":\"Outside Tech. Elective\",\"id\":2056846177162314065,\"num\":\"\",\"credits\":3,\"prefix\":\"\"},{\"curriculum_requisites\":[],\"name\":\" \",\"metrics\":{\"centrality\":0,\"complexity\":1.0,\"blocking factor\":0,\"delay factor\":1.0},\"nameSub\":\"Elective\",\"id\":4875844914786593207,\"num\":\"\",\"credits\":3,\"prefix\":\"\"},{\"curriculum_requisites\":[],\"name\":\" \",\"metrics\":{\"centrality\":0,\"complexity\":1.0,\"blocking factor\":0,\"delay factor\":1.0},\"nameSub\":\"Liberal Studies\",\"id\":2064328672826168846,\"num\":\"\",\"credits\":3,\"prefix\":\"\"}],\"id\":6},{\"name\":\"Term 7\",\"curriculum_items\":[{\"curriculum_requisites\":[],\"name\":\" \",\"metrics\":{\"centrality\":0,\"complexity\":1.0,\"blocking factor\":0,\"delay factor\":1.0},\"nameSub\":\"ECE Elective \",\"id\":55027327082438860,\"num\":\"\",\"credits\":3,\"prefix\":\"\"},{\"curriculum_requisites\":[],\"name\":\" \",\"metrics\":{\"centrality\":0,\"complexity\":1.0,\"blocking factor\":0,\"delay factor\":1.0},\"nameSub\":\"ECE Elective\",\"id\":2364415439095677035,\"num\":\"\",\"credits\":3,\"prefix\":\"\"},{\"curriculum_requisites\":[],\"name\":\" \",\"metrics\":{\"centrality\":0,\"complexity\":1.0,\"blocking factor\":0,\"delay factor\":1.0},\"nameSub\":\"Outside Tech. Elective\",\"id\":2056846177162314065,\"num\":\"\",\"credits\":3,\"prefix\":\"\"},{\"curriculum_requisites\":[],\"name\":\" \",\"metrics\":{\"centrality\":0,\"complexity\":1.0,\"blocking factor\":0,\"delay factor\":1.0},\"nameSub\":\"Liberal Studies\",\"id\":2064328672826168846,\"num\":\"\",\"credits\":3,\"prefix\":\"\"}],\"id\":7},{\"name\":\"Term 8\",\"curriculum_items\":[{\"curriculum_requisites\":[],\"name\":\" \",\"metrics\":{\"centrality\":0,\"complexity\":1.0,\"blocking factor\":0,\"delay factor\":1.0},\"nameSub\":\"ECE Elective\",\"id\":2364415439095677035,\"num\":\"\",\"credits\":3,\"prefix\":\"\"},{\"curriculum_requisites\":[],\"name\":\" \",\"metrics\":{\"centrality\":0,\"complexity\":1.0,\"blocking factor\":0,\"delay factor\":1.0},\"nameSub\":\"ECE Elective\",\"id\":2364415439095677035,\"num\":\"\",\"credits\":3,\"prefix\":\"\"},{\"curriculum_requisites\":[],\"name\":\" \",\"metrics\":{\"centrality\":0,\"complexity\":1.0,\"blocking factor\":0,\"delay factor\":1.0},\"nameSub\":\"ECE Elective\",\"id\":2364415439095677035,\"num\":\"\",\"credits\":3,\"prefix\":\"\"},{\"curriculum_requisites\":[],\"name\":\" \",\"metrics\":{\"centrality\":0,\"complexity\":1.0,\"blocking factor\":0,\"delay factor\":1.0},\"nameSub\":\"Liberal Studies\",\"id\":2064328672826168846,\"num\":\"\",\"credits\":3,\"prefix\":\"\"}],\"id\":8}]}}}}},\"children\":[{\"props\":{\"src\":\"http:\\/\\/localhost:8156\",\"id\":\"curriculum\",\"events\":{\"load\":\"(function (){this.contentWindow.postMessage({\\\"curriculum\\\":{\\\"name\\\":\\\"University of Houston EE Program 4-year Plan\\\",\\\"curriculum_terms\\\":[{\\\"name\\\":\\\"Term 1\\\",\\\"curriculum_items\\\":[{\\\"curriculum_requisites\\\":[],\\\"name\\\":\\\"CHEM 2090\\\",\\\"metrics\\\":{\\\"centrality\\\":0,\\\"complexity\\\":1.0,\\\"blocking factor\\\":0,\\\"delay factor\\\":1.0},\\\"nameSub\\\":\\\"CHEM 2090\\\",\\\"id\\\":1530843220354788384,\\\"num\\\":\\\"2090\\\",\\\"credits\\\":3,\\\"prefix\\\":\\\"CHEM\\\"},{\\\"curriculum_requisites\\\":[],\\\"name\\\":\\\"MATH 1910\\\",\\\"metrics\\\":{\\\"centrality\\\":0,\\\"complexity\\\":15.0,\\\"blocking factor\\\":10,\\\"delay factor\\\":5.0},\\\"nameSub\\\":\\\"MATH 1910\\\",\\\"id\\\":5254187195419415477,\\\"num\\\":\\\"1910\\\",\\\"credits\\\":3,\\\"prefix\\\":\\\"MATH\\\"},{\\\"curriculum_requisites\\\":[],\\\"name\\\":\\\"ENGRI 1xxx\\\",\\\"metrics\\\":{\\\"centrality\\\":0,\\\"complexity\\\":1.0,\\\"blocking factor\\\":0,\\\"delay factor\\\":1.0},\\\"nameSub\\\":\\\"ENGRI 1xxx\\\",\\\"id\\\":545668250216584791,\\\"num\\\":\\\"1xxx\\\",\\\"credits\\\":3,\\\"prefix\\\":\\\"ENGRI\\\"},{\\\"curriculum_requisites\\\":[],\\\"name\\\":\\\" \\\",\\\"metrics\\\":{\\\"centrality\\\":0,\\\"complexity\\\":1.0,\\\"blocking factor\\\":0,\\\"delay factor\\\":1.0},\\\"nameSub\\\":\\\"1st Yr Writing Seminar\\\",\\\"id\\\":2403028167830051785,\\\"num\\\":\\\"\\\",\\\"credits\\\":3,\\\"prefix\\\":\\\"\\\"},{\\\"curriculum_requisites\\\":[],\\\"name\\\":\\\" \\\",\\\"metrics\\\":{\\\"centrality\\\":0,\\\"complexity\\\":1.0,\\\"blocking factor\\\":0,\\\"delay factor\\\":1.0},\\\"nameSub\\\":\\\"PE\\\",\\\"id\\\":7600283427362699982,\\\"num\\\":\\\"\\\",\\\"credits\\\":3,\\\"prefix\\\":\\\"\\\"}],\\\"id\\\":1},{\\\"name\\\":\\\"Term 2\\\",\\\"curriculum_items\\\":[{\\\"curriculum_requisites\\\":[{\\\"source_id\\\":5254187195419415477,\\\"target_id\\\":547037674849209101,\\\"type\\\":\\\"prereq\\\"}],\\\"name\\\":\\\"PHYS 1112\\\",\\\"metrics\\\":{\\\"centrality\\\":9,\\\"complexity\\\":9.0,\\\"blocking factor\\\":4,\\\"delay factor\\\":5.0},\\\"nameSub\\\":\\\"PHYS 1112\\\",\\\"id\\\":547037674849209101,\\\"num\\\":\\\"1112\\\",\\\"credits\\\":3,\\\"prefix\\\":\\\"PHYS\\\"},{\\\"curriculum_requisites\\\":[{\\\"source_id\\\":5254187195419415477,\\\"target_id\\\":7078781664013927228,\\\"type\\\":\\\"prereq\\\"}],\\\"name\\\":\\\"MATH 1920\\\",\\\"metrics\\\":{\\\"centrality\\\":28,\\\"complexity\\\":12.0,\\\"blocking factor\\\":8,\\\"delay factor\\\":4.0},\\\"nameSub\\\":\\\"MATH 1920\\\",\\\"id\\\":7078781664013927228,\\\"num\\\":\\\"1920\\\",\\\"credits\\\":3,\\\"prefix\\\":\\\"MATH\\\"},{\\\"curriculum_requisites\\\":[],\\\"name\\\":\\\"CS 111x\\\",\\\"metrics\\\":{\\\"centrality\\\":0,\\\"complexity\\\":6.0,\\\"blocking factor\\\":3,\\\"delay factor\\\":3.0},\\\"nameSub\\\":\\\"CS 111x\\\",\\\"id\\\":8286543387148233529,\\\"num\\\":\\\"111x\\\",\\\"credits\\\":3,\\\"prefix\\\":\\\"CS\\\"},{\\\"curriculum_requisites\\\":[],\\\"name\\\":\\\" \\\",\\\"metrics\\\":{\\\"centrality\\\":0,\\\"complexity\\\":1.0,\\\"blocking factor\\\":0,\\\"delay factor\\\":1.0},\\\"nameSub\\\":\\\"1st Yr Writing Seminar\\\",\\\"id\\\":2403028167830051785,\\\"num\\\":\\\"\\\",\\\"credits\\\":3,\\\"prefix\\\":\\\"\\\"},{\\\"curriculum_requisites\\\":[],\\\"name\\\":\\\" \\\",\\\"metrics\\\":{\\\"centrality\\\":0,\\\"complexity\\\":1.0,\\\"blocking factor\\\":0,\\\"delay factor\\\":1.0},\\\"nameSub\\\":\\\"PE\\\",\\\"id\\\":7600283427362699982,\\\"num\\\":\\\"\\\",\\\"credits\\\":3,\\\"prefix\\\":\\\"\\\"}],\\\"id\\\":2},{\\\"name\\\":\\\"Term 3\\\",\\\"curriculum_items\\\":[{\\\"curriculum_requisites\\\":[{\\\"source_id\\\":547037674849209101,\\\"target_id\\\":3168149942292960553,\\\"type\\\":\\\"prereq\\\"},{\\\"source_id\\\":7078781664013927228,\\\"target_id\\\":3168149942292960553,\\\"type\\\":\\\"prereq\\\"}],\\\"name\\\":\\\"PHYS 2213\\\",\\\"metrics\\\":{\\\"centrality\\\":18,\\\"complexity\\\":8.0,\\\"blocking factor\\\":3,\\\"delay factor\\\":5.0},\\\"nameSub\\\":\\\"PHYS 2213\\\",\\\"id\\\":3168149942292960553,\\\"num\\\":\\\"2213\\\",\\\"credits\\\":3,\\\"prefix\\\":\\\"PHYS\\\"},{\\\"curriculum_requisites\\\":[{\\\"source_id\\\":7078781664013927228,\\\"target_id\\\":7470502300782177278,\\\"type\\\":\\\"prereq\\\"}],\\\"name\\\":\\\"MATH 2930\\\",\\\"metrics\\\":{\\\"centrality\\\":14,\\\"complexity\\\":8.0,\\\"blocking factor\\\":4,\\\"delay factor\\\":4.0},\\\"nameSub\\\":\\\"MATH 2930\\\",\\\"id\\\":7470502300782177278,\\\"num\\\":\\\"2930\\\",\\\"credits\\\":3,\\\"prefix\\\":\\\"MATH\\\"},{\\\"curriculum_requisites\\\":[{\\\"source_id\\\":7470502300782177278,\\\"target_id\\\":1051500480684879251,\\\"type\\\":\\\"coreq\\\"},{\\\"source_id\\\":3168149942292960553,\\\"target_id\\\":1051500480684879251,\\\"type\\\":\\\"coreq\\\"}],\\\"name\\\":\\\"ECE\\/ENGRD 2100\\\",\\\"metrics\\\":{\\\"centrality\\\":15,\\\"complexity\\\":6.0,\\\"blocking factor\\\":1,\\\"delay factor\\\":5.0},\\\"nameSub\\\":\\\"ECE\\/ENGRD 2100\\\",\\\"id\\\":1051500480684879251,\\\"num\\\":\\\"2100\\\",\\\"credits\\\":3,\\\"prefix\\\":\\\"ECE\\/ENGRD\\\"},{\\\"curriculum_requisites\\\":[{\\\"source_id\\\":8286543387148233529,\\\"target_id\\\":5093549466166423561,\\\"type\\\":\\\"prereq\\\"}],\\\"name\\\":\\\"MECE\\/ENGRD 2300\\\",\\\"metrics\\\":{\\\"centrality\\\":3,\\\"complexity\\\":4.0,\\\"blocking factor\\\":1,\\\"delay factor\\\":3.0},\\\"nameSub\\\":\\\"MECE\\/ENGRD 2300\\\",\\\"id\\\":5093549466166423561,\\\"num\\\":\\\"2300\\\",\\\"credits\\\":3,\\\"prefix\\\":\\\"MECE\\/ENGRD\\\"},{\\\"curriculum_requisites\\\":[],\\\"name\\\":\\\" \\\",\\\"metrics\\\":{\\\"centrality\\\":0,\\\"complexity\\\":1.0,\\\"blocking factor\\\":0,\\\"delay factor\\\":1.0},\\\"nameSub\\\":\\\"Liberal Studies\\\",\\\"id\\\":2064328672826168846,\\\"num\\\":\\\"\\\",\\\"credits\\\":3,\\\"prefix\\\":\\\"\\\"}],\\\"id\\\":3},{\\\"name\\\":\\\"Term 4\\\",\\\"curriculum_items\\\":[{\\\"curriculum_requisites\\\":[{\\\"source_id\\\":7470502300782177278,\\\"target_id\\\":7351447124078439720,\\\"type\\\":\\\"coreq\\\"}],\\\"name\\\":\\\"PHYS 2214\\\",\\\"metrics\\\":{\\\"centrality\\\":0,\\\"complexity\\\":4.0,\\\"blocking factor\\\":0,\\\"delay factor\\\":4.0},\\\"nameSub\\\":\\\"PHYS 2214\\\",\\\"id\\\":7351447124078439720,\\\"num\\\":\\\"2214\\\",\\\"credits\\\":3,\\\"prefix\\\":\\\"PHYS\\\"},{\\\"curriculum_requisites\\\":[{\\\"source_id\\\":7078781664013927228,\\\"target_id\\\":3943294394566151845,\\\"type\\\":\\\"prereq\\\"}],\\\"name\\\":\\\"MATH 2940\\\",\\\"metrics\\\":{\\\"centrality\\\":5,\\\"complexity\\\":5.0,\\\"blocking factor\\\":2,\\\"delay factor\\\":3.0},\\\"nameSub\\\":\\\"MATH 2940\\\",\\\"id\\\":3943294394566151845,\\\"num\\\":\\\"2940\\\",\\\"credits\\\":3,\\\"prefix\\\":\\\"MATH\\\"},{\\\"curriculum_requisites\\\":[{\\\"source_id\\\":3168149942292960553,\\\"target_id\\\":7974674767755691049,\\\"type\\\":\\\"prereq\\\"}],\\\"name\\\":\\\"ENGRD 2xxx\\\",\\\"metrics\\\":{\\\"centrality\\\":0,\\\"complexity\\\":4.0,\\\"blocking factor\\\":0,\\\"delay factor\\\":4.0},\\\"nameSub\\\":\\\"ENGRD 2xxx\\\",\\\"id\\\":7974674767755691049,\\\"num\\\":\\\"2xxx\\\",\\\"credits\\\":3,\\\"prefix\\\":\\\"ENGRD\\\"},{\\\"curriculum_requisites\\\":[{\\\"source_id\\\":7470502300782177278,\\\"target_id\\\":2346133463678600126,\\\"type\\\":\\\"prereq\\\"},{\\\"source_id\\\":3943294394566151845,\\\"target_id\\\":2346133463678600126,\\\"type\\\":\\\"coreq\\\"}],\\\"name\\\":\\\"ECE\\/ENGRD 2200\\/2220\\\",\\\"metrics\\\":{\\\"centrality\\\":10,\\\"complexity\\\":5.0,\\\"blocking factor\\\":1,\\\"delay factor\\\":4.0},\\\"nameSub\\\":\\\"ECE 2200\\/ENGRD 2220\\\",\\\"id\\\":2346133463678600126,\\\"num\\\":\\\"2200\\/2220\\\",\\\"credits\\\":3,\\\"prefix\\\":\\\"ECE\\/ENGRD\\\"},{\\\"curriculum_requisites\\\":[],\\\"name\\\":\\\" \\\",\\\"metrics\\\":{\\\"centrality\\\":0,\\\"complexity\\\":1.0,\\\"blocking factor\\\":0,\\\"delay factor\\\":1.0},\\\"nameSub\\\":\\\"Liberal Studies\\\",\\\"id\\\":2064328672826168846,\\\"num\\\":\\\"\\\",\\\"credits\\\":3,\\\"prefix\\\":\\\"\\\"}],\\\"id\\\":4},{\\\"name\\\":\\\"Term 5\\\",\\\"curriculum_items\\\":[{\\\"curriculum_requisites\\\":[],\\\"name\\\":\\\" \\\",\\\"metrics\\\":{\\\"centrality\\\":0,\\\"complexity\\\":1.0,\\\"blocking factor\\\":0,\\\"delay factor\\\":1.0},\\\"nameSub\\\":\\\"ECE Foundations\\\",\\\"id\\\":4336773669881761152,\\\"num\\\":\\\"\\\",\\\"credits\\\":3,\\\"prefix\\\":\\\"\\\"},{\\\"curriculum_requisites\\\":[],\\\"name\\\":\\\" \\\",\\\"metrics\\\":{\\\"centrality\\\":0,\\\"complexity\\\":1.0,\\\"blocking factor\\\":0,\\\"delay factor\\\":1.0},\\\"nameSub\\\":\\\"Elective\\\",\\\"id\\\":4875844914786593207,\\\"num\\\":\\\"\\\",\\\"credits\\\":3,\\\"prefix\\\":\\\"\\\"},{\\\"curriculum_requisites\\\":[{\\\"source_id\\\":8286543387148233529,\\\"target_id\\\":2056846177162314065,\\\"type\\\":\\\"prereq\\\"}],\\\"name\\\":\\\" \\\",\\\"metrics\\\":{\\\"centrality\\\":0,\\\"complexity\\\":2.0,\\\"blocking factor\\\":0,\\\"delay factor\\\":2.0},\\\"nameSub\\\":\\\"Outside Tech. Elective\\\",\\\"id\\\":2056846177162314065,\\\"num\\\":\\\"\\\",\\\"credits\\\":3,\\\"prefix\\\":\\\"\\\"},{\\\"curriculum_requisites\\\":[{\\\"source_id\\\":2346133463678600126,\\\"target_id\\\":1245795283786534138,\\\"type\\\":\\\"prereq\\\"},{\\\"source_id\\\":5093549466166423561,\\\"target_id\\\":1245795283786534138,\\\"type\\\":\\\"prereq\\\"},{\\\"source_id\\\":1051500480684879251,\\\"target_id\\\":1245795283786534138,\\\"type\\\":\\\"prereq\\\"}],\\\"name\\\":\\\"ECE 3400\\\",\\\"metrics\\\":{\\\"centrality\\\":0,\\\"complexity\\\":5.0,\\\"blocking factor\\\":0,\\\"delay factor\\\":5.0},\\\"nameSub\\\":\\\"ECE 3400\\\",\\\"id\\\":1245795283786534138,\\\"num\\\":\\\"3400\\\",\\\"credits\\\":3,\\\"prefix\\\":\\\"ECE\\\"},{\\\"curriculum_requisites\\\":[],\\\"name\\\":\\\" \\\",\\\"metrics\\\":{\\\"centrality\\\":0,\\\"complexity\\\":1.0,\\\"blocking factor\\\":0,\\\"delay factor\\\":1.0},\\\"nameSub\\\":\\\"Liberal Studies\\\",\\\"id\\\":2064328672826168846,\\\"num\\\":\\\"\\\",\\\"credits\\\":3,\\\"prefix\\\":\\\"\\\"}],\\\"id\\\":5},{\\\"name\\\":\\\"Term 6\\\",\\\"curriculum_items\\\":[{\\\"curriculum_requisites\\\":[],\\\"name\\\":\\\" \\\",\\\"metrics\\\":{\\\"centrality\\\":0,\\\"complexity\\\":1.0,\\\"blocking factor\\\":0,\\\"delay factor\\\":1.0},\\\"nameSub\\\":\\\"ECE Foundations\\\",\\\"id\\\":4336773669881761152,\\\"num\\\":\\\"\\\",\\\"credits\\\":3,\\\"prefix\\\":\\\"\\\"},{\\\"curriculum_requisites\\\":[],\\\"name\\\":\\\" \\\",\\\"metrics\\\":{\\\"centrality\\\":0,\\\"complexity\\\":1.0,\\\"blocking factor\\\":0,\\\"delay factor\\\":1.0},\\\"nameSub\\\":\\\"ECE Foundations\\\",\\\"id\\\":4336773669881761152,\\\"num\\\":\\\"\\\",\\\"credits\\\":3,\\\"prefix\\\":\\\"\\\"},{\\\"curriculum_requisites\\\":[],\\\"name\\\":\\\" \\\",\\\"metrics\\\":{\\\"centrality\\\":0,\\\"complexity\\\":1.0,\\\"blocking factor\\\":0,\\\"delay factor\\\":1.0},\\\"nameSub\\\":\\\"Outside Tech. Elective\\\",\\\"id\\\":2056846177162314065,\\\"num\\\":\\\"\\\",\\\"credits\\\":3,\\\"prefix\\\":\\\"\\\"},{\\\"curriculum_requisites\\\":[],\\\"name\\\":\\\" \\\",\\\"metrics\\\":{\\\"centrality\\\":0,\\\"complexity\\\":1.0,\\\"blocking factor\\\":0,\\\"delay factor\\\":1.0},\\\"nameSub\\\":\\\"Elective\\\",\\\"id\\\":4875844914786593207,\\\"num\\\":\\\"\\\",\\\"credits\\\":3,\\\"prefix\\\":\\\"\\\"},{\\\"curriculum_requisites\\\":[],\\\"name\\\":\\\" \\\",\\\"metrics\\\":{\\\"centrality\\\":0,\\\"complexity\\\":1.0,\\\"blocking factor\\\":0,\\\"delay factor\\\":1.0},\\\"nameSub\\\":\\\"Liberal Studies\\\",\\\"id\\\":2064328672826168846,\\\"num\\\":\\\"\\\",\\\"credits\\\":3,\\\"prefix\\\":\\\"\\\"}],\\\"id\\\":6},{\\\"name\\\":\\\"Term 7\\\",\\\"curriculum_items\\\":[{\\\"curriculum_requisites\\\":[],\\\"name\\\":\\\" \\\",\\\"metrics\\\":{\\\"centrality\\\":0,\\\"complexity\\\":1.0,\\\"blocking factor\\\":0,\\\"delay factor\\\":1.0},\\\"nameSub\\\":\\\"ECE Elective \\\",\\\"id\\\":55027327082438860,\\\"num\\\":\\\"\\\",\\\"credits\\\":3,\\\"prefix\\\":\\\"\\\"},{\\\"curriculum_requisites\\\":[],\\\"name\\\":\\\" \\\",\\\"metrics\\\":{\\\"centrality\\\":0,\\\"complexity\\\":1.0,\\\"blocking factor\\\":0,\\\"delay factor\\\":1.0},\\\"nameSub\\\":\\\"ECE Elective\\\",\\\"id\\\":2364415439095677035,\\\"num\\\":\\\"\\\",\\\"credits\\\":3,\\\"prefix\\\":\\\"\\\"},{\\\"curriculum_requisites\\\":[],\\\"name\\\":\\\" \\\",\\\"metrics\\\":{\\\"centrality\\\":0,\\\"complexity\\\":1.0,\\\"blocking factor\\\":0,\\\"delay factor\\\":1.0},\\\"nameSub\\\":\\\"Outside Tech. Elective\\\",\\\"id\\\":2056846177162314065,\\\"num\\\":\\\"\\\",\\\"credits\\\":3,\\\"prefix\\\":\\\"\\\"},{\\\"curriculum_requisites\\\":[],\\\"name\\\":\\\" \\\",\\\"metrics\\\":{\\\"centrality\\\":0,\\\"complexity\\\":1.0,\\\"blocking factor\\\":0,\\\"delay factor\\\":1.0},\\\"nameSub\\\":\\\"Liberal Studies\\\",\\\"id\\\":2064328672826168846,\\\"num\\\":\\\"\\\",\\\"credits\\\":3,\\\"prefix\\\":\\\"\\\"}],\\\"id\\\":7},{\\\"name\\\":\\\"Term 8\\\",\\\"curriculum_items\\\":[{\\\"curriculum_requisites\\\":[],\\\"name\\\":\\\" \\\",\\\"metrics\\\":{\\\"centrality\\\":0,\\\"complexity\\\":1.0,\\\"blocking factor\\\":0,\\\"delay factor\\\":1.0},\\\"nameSub\\\":\\\"ECE Elective\\\",\\\"id\\\":2364415439095677035,\\\"num\\\":\\\"\\\",\\\"credits\\\":3,\\\"prefix\\\":\\\"\\\"},{\\\"curriculum_requisites\\\":[],\\\"name\\\":\\\" \\\",\\\"metrics\\\":{\\\"centrality\\\":0,\\\"complexity\\\":1.0,\\\"blocking factor\\\":0,\\\"delay factor\\\":1.0},\\\"nameSub\\\":\\\"ECE Elective\\\",\\\"id\\\":2364415439095677035,\\\"num\\\":\\\"\\\",\\\"credits\\\":3,\\\"prefix\\\":\\\"\\\"},{\\\"curriculum_requisites\\\":[],\\\"name\\\":\\\" \\\",\\\"metrics\\\":{\\\"centrality\\\":0,\\\"complexity\\\":1.0,\\\"blocking factor\\\":0,\\\"delay factor\\\":1.0},\\\"nameSub\\\":\\\"ECE Elective\\\",\\\"id\\\":2364415439095677035,\\\"num\\\":\\\"\\\",\\\"credits\\\":3,\\\"prefix\\\":\\\"\\\"},{\\\"curriculum_requisites\\\":[],\\\"name\\\":\\\" \\\",\\\"metrics\\\":{\\\"centrality\\\":0,\\\"complexity\\\":1.0,\\\"blocking factor\\\":0,\\\"delay factor\\\":1.0},\\\"nameSub\\\":\\\"Liberal Studies\\\",\\\"id\\\":2064328672826168846,\\\"num\\\":\\\"\\\",\\\"credits\\\":3,\\\"prefix\\\":\\\"\\\"}],\\\"id\\\":8}]}},\\\"*\\\"); window.removeEventListener(\\\"message\\\",window.messageReceived); window.messageReceived=(function (event){return (event.data.curriculum!==undefined) ? (_webIOScope.setObservableValue({\\\"name\\\":\\\"curriculum-data\\\",\\\"scope\\\":\\\"scope-3af473b8-a2be-4c7d-b40f-5d3c6191ca1e\\\",\\\"id\\\":\\\"ob_03\\\",\\\"type\\\":\\\"observable\\\"},event.data.curriculum)) : undefined}); return window.addEventListener(\\\"message\\\",window.messageReceived)})\"},\"style\":{\"padding\":\"0\",\"height\":\"100vh\",\"margin\":\"0\",\"border\":\"none\",\"width\":\"100%\"}},\"nodeType\":\"DOM\",\"type\":\"node\",\"instanceArgs\":{\"namespace\":\"html\",\"tag\":\"iframe\"},\"children\":[\"\"]}]},\n",
       "        );\n",
       "    } else {\n",
       "        document\n",
       "            .querySelector('[data-webio-mountpoint=\"9344077668730049546\"]')\n",
       "            .innerHTML = '<strong>WebIO not detected.</strong>';\n",
       "    }\n",
       "    </script>\n",
       "</div>\n"
      ],
      "text/plain": [
       "WebIO.Scope(\"scope-3af473b8-a2be-4c7d-b40f-5d3c6191ca1e\", WebIO.Node{WebIO.DOM}(WebIO.DOM(:html, :iframe), Any[\"\"], Dict{Symbol,Any}(:src=>\"http://localhost:8156\",:id=>\"curriculum\",:events=>Dict(:load=>JSString(\"(function (){this.contentWindow.postMessage({\\\"curriculum\\\":{\\\"name\\\":\\\"University of Houston EE Program 4-year Plan\\\",\\\"curriculum_terms\\\":[{\\\"name\\\":\\\"Term 1\\\",\\\"curriculum_items\\\":[{\\\"curriculum_requisites\\\":[],\\\"name\\\":\\\"CHEM 2090\\\",\\\"metrics\\\":{\\\"centrality\\\":0,\\\"complexity\\\":1.0,\\\"blocking factor\\\":0,\\\"delay factor\\\":1.0},\\\"nameSub\\\":\\\"CHEM 2090\\\",\\\"id\\\":1530843220354788384,\\\"num\\\":\\\"2090\\\",\\\"credits\\\":3,\\\"prefix\\\":\\\"CHEM\\\"},{\\\"curriculum_requisites\\\":[],\\\"name\\\":\\\"MATH 1910\\\",\\\"metrics\\\":{\\\"centrality\\\":0,\\\"complexity\\\":15.0,\\\"blocking factor\\\":10,\\\"delay factor\\\":5.0},\\\"nameSub\\\":\\\"MATH 1910\\\",\\\"id\\\":5254187195419415477,\\\"num\\\":\\\"1910\\\",\\\"credits\\\":3,\\\"prefix\\\":\\\"MATH\\\"},{\\\"curriculum_requisites\\\":[],\\\"name\\\":\\\"ENGRI 1xxx\\\",\\\"metrics\\\":{\\\"centrality\\\":0,\\\"complexity\\\":1.0,\\\"blocking factor\\\":0,\\\"delay factor\\\":1.0},\\\"nameSub\\\":\\\"ENGRI 1xxx\\\",\\\"id\\\":545668250216584791,\\\"num\\\":\\\"1xxx\\\",\\\"credits\\\":3,\\\"prefix\\\":\\\"ENGRI\\\"},{\\\"curriculum_requisites\\\":[],\\\"name\\\":\\\" \\\",\\\"metrics\\\":{\\\"centrality\\\":0,\\\"complexity\\\":1.0,\\\"blocking factor\\\":0,\\\"delay factor\\\":1.0},\\\"nameSub\\\":\\\"1st Yr Writing Seminar\\\",\\\"id\\\":2403028167830051785,\\\"num\\\":\\\"\\\",\\\"credits\\\":3,\\\"prefix\\\":\\\"\\\"},{\\\"curriculum_requisites\\\":[],\\\"name\\\":\\\" \\\",\\\"metrics\\\":{\\\"centrality\\\":0,\\\"complexity\\\":1.0,\\\"blocking factor\\\":0,\\\"delay factor\\\":1.0},\\\"nameSub\\\":\\\"PE\\\",\\\"id\\\":7600283427362699982,\\\"num\\\":\\\"\\\",\\\"credits\\\":3,\\\"prefix\\\":\\\"\\\"}],\\\"id\\\":1},{\\\"name\\\":\\\"Term 2\\\",\\\"curriculum_items\\\":[{\\\"curriculum_requisites\\\":[{\\\"source_id\\\":5254187195419415477,\\\"target_id\\\":547037674849209101,\\\"type\\\":\\\"prereq\\\"}],\\\"name\\\":\\\"PHYS 1112\\\",\\\"metrics\\\":{\\\"centrality\\\":9,\\\"complexity\\\":9.0,\\\"blocking factor\\\":4,\\\"delay factor\\\":5.0},\\\"nameSub\\\":\\\"PHYS 1112\\\",\\\"id\\\":547037674849209101,\\\"num\\\":\\\"1112\\\",\\\"credits\\\":3,\\\"prefix\\\":\\\"PHYS\\\"},{\\\"curriculum_requisites\\\":[{\\\"source_id\\\":5254187195419415477,\\\"target_id\\\":7078781664013927228,\\\"type\\\":\\\"prereq\\\"}],\\\"name\\\":\\\"MATH 1920\\\",\\\"metrics\\\":{\\\"centrality\\\":28,\\\"complexity\\\":12.0,\\\"blocking factor\\\":8,\\\"delay factor\\\":4.0},\\\"nameSub\\\":\\\"MATH 1920\\\",\\\"id\\\":7078781664013927228,\\\"num\\\":\\\"1920\\\",\\\"credits\\\":3,\\\"prefix\\\":\\\"MATH\\\"},{\\\"curriculum_requisites\\\":[],\\\"name\\\":\\\"CS 111x\\\",\\\"metrics\\\":{\\\"centrality\\\":0,\\\"complexity\\\":6.0,\\\"blocking factor\\\":3,\\\"delay factor\\\":3.0},\\\"nameSub\\\":\\\"CS 111x\\\",\\\"id\\\":8286543387148233529,\\\"num\\\":\\\"111x\\\",\\\"credits\\\":3,\\\"prefix\\\":\\\"CS\\\"},{\\\"curriculum_requisites\\\":[],\\\"name\\\":\\\" \\\",\\\"metrics\\\":{\\\"centrality\\\":0,\\\"complexity\\\":1.0,\\\"blocking factor\\\":0,\\\"delay factor\\\":1.0},\\\"nameSub\\\":\\\"1st Yr Writing Seminar\\\",\\\"id\\\":2403028167830051785,\\\"num\\\":\\\"\\\",\\\"credits\\\":3,\\\"prefix\\\":\\\"\\\"},{\\\"curriculum_requisites\\\":[],\\\"name\\\":\\\" \\\",\\\"metrics\\\":{\\\"centrality\\\":0,\\\"complexity\\\":1.0,\\\"blocking factor\\\":0,\\\"delay factor\\\":1.0},\\\"nameSub\\\":\\\"PE\\\",\\\"id\\\":7600283427362699982,\\\"num\\\":\\\"\\\",\\\"credits\\\":3,\\\"prefix\\\":\\\"\\\"}],\\\"id\\\":2},{\\\"name\\\":\\\"Term 3\\\",\\\"curriculum_items\\\":[{\\\"curriculum_requisites\\\":[{\\\"source_id\\\":547037674849209101,\\\"target_id\\\":3168149942292960553,\\\"type\\\":\\\"prereq\\\"},{\\\"source_id\\\":7078781664013927228,\\\"target_id\\\":3168149942292960553,\\\"type\\\":\\\"prereq\\\"}],\\\"name\\\":\\\"PHYS 2213\\\",\\\"metrics\\\":{\\\"centrality\\\":18,\\\"complexity\\\":8.0,\\\"blocking factor\\\":3,\\\"delay factor\\\":5.0},\\\"nameSub\\\":\\\"PHYS 2213\\\",\\\"id\\\":3168149942292960553,\\\"num\\\":\\\"2213\\\",\\\"credits\\\":3,\\\"prefix\\\":\\\"PHYS\\\"},{\\\"curriculum_requisites\\\":[{\\\"source_id\\\":7078781664013927228,\\\"target_id\\\":7470502300782177278,\\\"type\\\":\\\"prereq\\\"}],\\\"name\\\":\\\"MATH 2930\\\",\\\"metrics\\\":{\\\"centrality\\\":14,\\\"complexity\\\":8.0,\\\"blocking factor\\\":4,\\\"delay factor\\\":4.0},\\\"nameSub\\\":\\\"MATH 2930\\\",\\\"id\\\":7470502300782177278,\\\"num\\\":\\\"2930\\\",\\\"credits\\\":3,\\\"prefix\\\":\\\"MATH\\\"},{\\\"curriculum_requisites\\\":[{\\\"source_id\\\":7470502300782177278,\\\"target_id\\\":1051500480684879251,\\\"type\\\":\\\"coreq\\\"},{\\\"source_id\\\":3168149942292960553,\\\"target_id\\\":1051500480684879251,\\\"type\\\":\\\"coreq\\\"}],\\\"name\\\":\\\"ECE/ENGRD 2100\\\",\\\"metrics\\\":{\\\"centrality\\\":15,\\\"complexity\\\":6.0,\\\"blocking factor\\\":1,\\\"delay factor\\\":5.0},\\\"nameSub\\\":\\\"ECE/ENGRD 2100\\\",\\\"id\\\":1051500480684879251,\\\"num\\\":\\\"2100\\\",\\\"credits\\\":3,\\\"prefix\\\":\\\"ECE/ENGRD\\\"},{\\\"curriculum_requisites\\\":[{\\\"source_id\\\":8286543387148233529,\\\"target_id\\\":5093549466166423561,\\\"type\\\":\\\"prereq\\\"}],\\\"name\\\":\\\"MECE/ENGRD 2300\\\",\\\"metrics\\\":{\\\"centrality\\\":3,\\\"complexity\\\":4.0,\\\"blocking factor\\\":1,\\\"delay factor\\\":3.0},\\\"nameSub\\\":\\\"MECE/ENGRD 2300\\\",\\\"id\\\":5093549466166423561,\\\"num\\\":\\\"2300\\\",\\\"credits\\\":3,\\\"prefix\\\":\\\"MECE/ENGRD\\\"},{\\\"curriculum_requisites\\\":[],\\\"name\\\":\\\" \\\",\\\"metrics\\\":{\\\"centrality\\\":0,\\\"complexity\\\":1.0,\\\"blocking factor\\\":0,\\\"delay factor\\\":1.0},\\\"nameSub\\\":\\\"Liberal Studies\\\",\\\"id\\\":2064328672826168846,\\\"num\\\":\\\"\\\",\\\"credits\\\":3,\\\"prefix\\\":\\\"\\\"}],\\\"id\\\":3},{\\\"name\\\":\\\"Term 4\\\",\\\"curriculum_items\\\":[{\\\"curriculum_requisites\\\":[{\\\"source_id\\\":7470502300782177278,\\\"target_id\\\":7351447124078439720,\\\"type\\\":\\\"coreq\\\"}],\\\"name\\\":\\\"PHYS 2214\\\",\\\"metrics\\\":{\\\"centrality\\\":0,\\\"complexity\\\":4.0,\\\"blocking factor\\\":0,\\\"delay factor\\\":4.0},\\\"nameSub\\\":\\\"PHYS 2214\\\",\\\"id\\\":7351447124078439720,\\\"num\\\":\\\"2214\\\",\\\"credits\\\":3,\\\"prefix\\\":\\\"PHYS\\\"},{\\\"curriculum_requisites\\\":[{\\\"source_id\\\":7078781664013927228,\\\"target_id\\\":3943294394566151845,\\\"type\\\":\\\"prereq\\\"}],\\\"name\\\":\\\"MATH 2940\\\",\\\"metrics\\\":{\\\"centrality\\\":5,\\\"complexity\\\":5.0,\\\"blocking factor\\\":2,\\\"delay factor\\\":3.0},\\\"nameSub\\\":\\\"MATH 2940\\\",\\\"id\\\":3943294394566151845,\\\"num\\\":\\\"2940\\\",\\\"credits\\\":3,\\\"prefix\\\":\\\"MATH\\\"},{\\\"curriculum_requisites\\\":[{\\\"source_id\\\":3168149942292960553,\\\"target_id\\\":7974674767755691049,\\\"type\\\":\\\"prereq\\\"}],\\\"name\\\":\\\"ENGRD 2xxx\\\",\\\"metrics\\\":{\\\"centrality\\\":0,\\\"complexity\\\":4.0,\\\"blocking factor\\\":0,\\\"delay factor\\\":4.0},\\\"nameSub\\\":\\\"ENGRD 2xxx\\\",\\\"id\\\":7974674767755691049,\\\"num\\\":\\\"2xxx\\\",\\\"credits\\\":3,\\\"prefix\\\":\\\"ENGRD\\\"},{\\\"curriculum_requisites\\\":[{\\\"source_id\\\":7470502300782177278,\\\"target_id\\\":2346133463678600126,\\\"type\\\":\\\"prereq\\\"},{\\\"source_id\\\":3943294394566151845,\\\"target_id\\\":2346133463678600126,\\\"type\\\":\\\"coreq\\\"}],\\\"name\\\":\\\"ECE/ENGRD 2200/2220\\\",\\\"metrics\\\":{\\\"centrality\\\":10,\\\"complexity\\\":5.0,\\\"blocking factor\\\":1,\\\"delay factor\\\":4.0},\\\"nameSub\\\":\\\"ECE 2200/ENGRD 2220\\\",\\\"id\\\":2346133463678600126,\\\"num\\\":\\\"2200/2220\\\",\\\"credits\\\":3,\\\"prefix\\\":\\\"ECE/ENGRD\\\"},{\\\"curriculum_requisites\\\":[],\\\"name\\\":\\\" \\\",\\\"metrics\\\":{\\\"centrality\\\":0,\\\"complexity\\\":1.0,\\\"blocking factor\\\":0,\\\"delay factor\\\":1.0},\\\"nameSub\\\":\\\"Liberal Studies\\\",\\\"id\\\":2064328672826168846,\\\"num\\\":\\\"\\\",\\\"credits\\\":3,\\\"prefix\\\":\\\"\\\"}],\\\"id\\\":4},{\\\"name\\\":\\\"Term 5\\\",\\\"curriculum_items\\\":[{\\\"curriculum_requisites\\\":[],\\\"name\\\":\\\" \\\",\\\"metrics\\\":{\\\"centrality\\\":0,\\\"complexity\\\":1.0,\\\"blocking factor\\\":0,\\\"delay factor\\\":1.0},\\\"nameSub\\\":\\\"ECE Foundations\\\",\\\"id\\\":4336773669881761152,\\\"num\\\":\\\"\\\",\\\"credits\\\":3,\\\"prefix\\\":\\\"\\\"},{\\\"curriculum_requisites\\\":[],\\\"name\\\":\\\" \\\",\\\"metrics\\\":{\\\"centrality\\\":0,\\\"complexity\\\":1.0,\\\"blocking factor\\\":0,\\\"delay factor\\\":1.0},\\\"nameSub\\\":\\\"Elective\\\",\\\"id\\\":4875844914786593207,\\\"num\\\":\\\"\\\",\\\"credits\\\":3,\\\"prefix\\\":\\\"\\\"},{\\\"curriculum_requisites\\\":[{\\\"source_id\\\":8286543387148233529,\\\"target_id\\\":2056846177162314065,\\\"type\\\":\\\"prereq\\\"}],\\\"name\\\":\\\" \\\",\\\"metrics\\\":{\\\"centrality\\\":0,\\\"complexity\\\":2.0,\\\"blocking factor\\\":0,\\\"delay factor\\\":2.0},\\\"nameSub\\\":\\\"Outside Tech. Elective\\\",\\\"id\\\":2056846177162314065,\\\"num\\\":\\\"\\\",\\\"credits\\\":3,\\\"prefix\\\":\\\"\\\"},{\\\"curriculum_requisites\\\":[{\\\"source_id\\\":2346133463678600126,\\\"target_id\\\":1245795283786534138,\\\"type\\\":\\\"prereq\\\"},{\\\"source_id\\\":5093549466166423561,\\\"target_id\\\":1245795283786534138,\\\"type\\\":\\\"prereq\\\"},{\\\"source_id\\\":1051500480684879251,\\\"target_id\\\":1245795283786534138,\\\"type\\\":\\\"prereq\\\"}],\\\"name\\\":\\\"ECE 3400\\\",\\\"metrics\\\":{\\\"centrality\\\":0,\\\"complexity\\\":5.0,\\\"blocking factor\\\":0,\\\"delay factor\\\":5.0},\\\"nameSub\\\":\\\"ECE 3400\\\",\\\"id\\\":1245795283786534138,\\\"num\\\":\\\"3400\\\",\\\"credits\\\":3,\\\"prefix\\\":\\\"ECE\\\"},{\\\"curriculum_requisites\\\":[],\\\"name\\\":\\\" \\\",\\\"metrics\\\":{\\\"centrality\\\":0,\\\"complexity\\\":1.0,\\\"blocking factor\\\":0,\\\"delay factor\\\":1.0},\\\"nameSub\\\":\\\"Liberal Studies\\\",\\\"id\\\":2064328672826168846,\\\"num\\\":\\\"\\\",\\\"credits\\\":3,\\\"prefix\\\":\\\"\\\"}],\\\"id\\\":5},{\\\"name\\\":\\\"Term 6\\\",\\\"curriculum_items\\\":[{\\\"curriculum_requisites\\\":[],\\\"name\\\":\\\" \\\",\\\"metrics\\\":{\\\"centrality\\\":0,\\\"complexity\\\":1.0,\\\"blocking factor\\\":0,\\\"delay factor\\\":1.0},\\\"nameSub\\\":\\\"ECE Foundations\\\",\\\"id\\\":4336773669881761152,\\\"num\\\":\\\"\\\",\\\"credits\\\":3,\\\"prefix\\\":\\\"\\\"},{\\\"curriculum_requisites\\\":[],\\\"name\\\":\\\" \\\",\\\"metrics\\\":{\\\"centrality\\\":0,\\\"complexity\\\":1.0,\\\"blocking factor\\\":0,\\\"delay factor\\\":1.0},\\\"nameSub\\\":\\\"ECE Foundations\\\",\\\"id\\\":4336773669881761152,\\\"num\\\":\\\"\\\",\\\"credits\\\":3,\\\"prefix\\\":\\\"\\\"},{\\\"curriculum_requisites\\\":[],\\\"name\\\":\\\" \\\",\\\"metrics\\\":{\\\"centrality\\\":0,\\\"complexity\\\":1.0,\\\"blocking factor\\\":0,\\\"delay factor\\\":1.0},\\\"nameSub\\\":\\\"Outside Tech. Elective\\\",\\\"id\\\":2056846177162314065,\\\"num\\\":\\\"\\\",\\\"credits\\\":3,\\\"prefix\\\":\\\"\\\"},{\\\"curriculum_requisites\\\":[],\\\"name\\\":\\\" \\\",\\\"metrics\\\":{\\\"centrality\\\":0,\\\"complexity\\\":1.0,\\\"blocking factor\\\":0,\\\"delay factor\\\":1.0},\\\"nameSub\\\":\\\"Elective\\\",\\\"id\\\":4875844914786593207,\\\"num\\\":\\\"\\\",\\\"credits\\\":3,\\\"prefix\\\":\\\"\\\"},{\\\"curriculum_requisites\\\":[],\\\"name\\\":\\\" \\\",\\\"metrics\\\":{\\\"centrality\\\":0,\\\"complexity\\\":1.0,\\\"blocking factor\\\":0,\\\"delay factor\\\":1.0},\\\"nameSub\\\":\\\"Liberal Studies\\\",\\\"id\\\":2064328672826168846,\\\"num\\\":\\\"\\\",\\\"credits\\\":3,\\\"prefix\\\":\\\"\\\"}],\\\"id\\\":6},{\\\"name\\\":\\\"Term 7\\\",\\\"curriculum_items\\\":[{\\\"curriculum_requisites\\\":[],\\\"name\\\":\\\" \\\",\\\"metrics\\\":{\\\"centrality\\\":0,\\\"complexity\\\":1.0,\\\"blocking factor\\\":0,\\\"delay factor\\\":1.0},\\\"nameSub\\\":\\\"ECE Elective \\\",\\\"id\\\":55027327082438860,\\\"num\\\":\\\"\\\",\\\"credits\\\":3,\\\"prefix\\\":\\\"\\\"},{\\\"curriculum_requisites\\\":[],\\\"name\\\":\\\" \\\",\\\"metrics\\\":{\\\"centrality\\\":0,\\\"complexity\\\":1.0,\\\"blocking factor\\\":0,\\\"delay factor\\\":1.0},\\\"nameSub\\\":\\\"ECE Elective\\\",\\\"id\\\":2364415439095677035,\\\"num\\\":\\\"\\\",\\\"credits\\\":3,\\\"prefix\\\":\\\"\\\"},{\\\"curriculum_requisites\\\":[],\\\"name\\\":\\\" \\\",\\\"metrics\\\":{\\\"centrality\\\":0,\\\"complexity\\\":1.0,\\\"blocking factor\\\":0,\\\"delay factor\\\":1.0},\\\"nameSub\\\":\\\"Outside Tech. Elective\\\",\\\"id\\\":2056846177162314065,\\\"num\\\":\\\"\\\",\\\"credits\\\":3,\\\"prefix\\\":\\\"\\\"},{\\\"curriculum_requisites\\\":[],\\\"name\\\":\\\" \\\",\\\"metrics\\\":{\\\"centrality\\\":0,\\\"complexity\\\":1.0,\\\"blocking factor\\\":0,\\\"delay factor\\\":1.0},\\\"nameSub\\\":\\\"Liberal Studies\\\",\\\"id\\\":2064328672826168846,\\\"num\\\":\\\"\\\",\\\"credits\\\":3,\\\"prefix\\\":\\\"\\\"}],\\\"id\\\":7},{\\\"name\\\":\\\"Term 8\\\",\\\"curriculum_items\\\":[{\\\"curriculum_requisites\\\":[],\\\"name\\\":\\\" \\\",\\\"metrics\\\":{\\\"centrality\\\":0,\\\"complexity\\\":1.0,\\\"blocking factor\\\":0,\\\"delay factor\\\":1.0},\\\"nameSub\\\":\\\"ECE Elective\\\",\\\"id\\\":2364415439095677035,\\\"num\\\":\\\"\\\",\\\"credits\\\":3,\\\"prefix\\\":\\\"\\\"},{\\\"curriculum_requisites\\\":[],\\\"name\\\":\\\" \\\",\\\"metrics\\\":{\\\"centrality\\\":0,\\\"complexity\\\":1.0,\\\"blocking factor\\\":0,\\\"delay factor\\\":1.0},\\\"nameSub\\\":\\\"ECE Elective\\\",\\\"id\\\":2364415439095677035,\\\"num\\\":\\\"\\\",\\\"credits\\\":3,\\\"prefix\\\":\\\"\\\"},{\\\"curriculum_requisites\\\":[],\\\"name\\\":\\\" \\\",\\\"metrics\\\":{\\\"centrality\\\":0,\\\"complexity\\\":1.0,\\\"blocking factor\\\":0,\\\"delay factor\\\":1.0},\\\"nameSub\\\":\\\"ECE Elective\\\",\\\"id\\\":2364415439095677035,\\\"num\\\":\\\"\\\",\\\"credits\\\":3,\\\"prefix\\\":\\\"\\\"},{\\\"curriculum_requisites\\\":[],\\\"name\\\":\\\" \\\",\\\"metrics\\\":{\\\"centrality\\\":0,\\\"complexity\\\":1.0,\\\"blocking factor\\\":0,\\\"delay factor\\\":1.0},\\\"nameSub\\\":\\\"Liberal Studies\\\",\\\"id\\\":2064328672826168846,\\\"num\\\":\\\"\\\",\\\"credits\\\":3,\\\"prefix\\\":\\\"\\\"}],\\\"id\\\":8}]}},\\\"*\\\"); window.removeEventListener(\\\"message\\\",window.messageReceived); window.messageReceived=(function (event){return (event.data.curriculum!==undefined) ? (_webIOScope.setObservableValue({\\\"name\\\":\\\"curriculum-data\\\",\\\"scope\\\":\\\"scope-3af473b8-a2be-4c7d-b40f-5d3c6191ca1e\\\",\\\"id\\\":\\\"ob_03\\\",\\\"type\\\":\\\"observable\\\"},event.data.curriculum)) : undefined}); return window.addEventListener(\\\"message\\\",window.messageReceived)})\")),:style=>Dict(:padding=>\"0\",:height=>\"100vh\",:margin=>\"0\",:border=>\"none\",:width=>\"100%\")), 1), Dict{String,Tuple{Observables.AbstractObservable,Union{Nothing, Bool}}}(\"curriculum-data\"=>(Observable{Dict{String,Any}} with 1 listeners. Value:\n",
       "Dict{String,Any}(\"curriculum\"=>Dict{String,Any}(\"name\"=>\"University of Houston EE Program 4-year Plan\",\"curriculum_terms\"=>Any[Dict{String,Any}(\"name\"=>\"Term 1\",\"curriculum_items\"=>Any[Dict{String,Any}(\"curriculum_requisites\"=>Any[],\"name\"=>\"CHEM 2090\",\"metrics\"=>Dict{String,Any}(\"centrality\"=>0,\"complexity\"=>1.0,\"blocking factor\"=>0,\"delay factor\"=>1.0),\"nameSub\"=>\"CHEM 2090\",\"id\"=>1530843220354788384,\"num\"=>\"2090\",\"credits\"=>3,\"prefix\"=>\"CHEM\"), Dict{String,Any}(\"curriculum_requisites\"=>Any[],\"name\"=>\"MATH 1910\",\"metrics\"=>Dict{String,Any}(\"centrality\"=>0,\"complexity\"=>15.0,\"blocking factor\"=>10,\"delay factor\"=>5.0),\"nameSub\"=>\"MATH 1910\",\"id\"=>5254187195419415477,\"num\"=>\"1910\",\"credits\"=>3,\"prefix\"=>\"MATH\"), Dict{String,Any}(\"curriculum_requisites\"=>Any[],\"name\"=>\"ENGRI 1xxx\",\"metrics\"=>Dict{String,Any}(\"centrality\"=>0,\"complexity\"=>1.0,\"blocking factor\"=>0,\"delay factor\"=>1.0),\"nameSub\"=>\"ENGRI 1xxx\",\"id\"=>545668250216584791,\"num\"=>\"1xxx\",\"credits\"=>3,\"prefix\"=>\"ENGRI\"), Dict{String,Any}(\"curriculum_requisites\"=>Any[],\"name\"=>\" \",\"metrics\"=>Dict{String,Any}(\"centrality\"=>0,\"complexity\"=>1.0,\"blocking factor\"=>0,\"delay factor\"=>1.0),\"nameSub\"=>\"1st Yr Writing Seminar\",\"id\"=>2403028167830051785,\"num\"=>\"\",\"credits\"=>3,\"prefix\"=>\"\"), Dict{String,Any}(\"curriculum_requisites\"=>Any[],\"name\"=>\" \",\"metrics\"=>Dict{String,Any}(\"centrality\"=>0,\"complexity\"=>1.0,\"blocking factor\"=>0,\"delay factor\"=>1.0),\"nameSub\"=>\"PE\",\"id\"=>7600283427362699982,\"num\"=>\"\",\"credits\"=>3,\"prefix\"=>\"\")],\"id\"=>1), Dict{String,Any}(\"name\"=>\"Term 2\",\"curriculum_items\"=>Any[Dict{String,Any}(\"curriculum_requisites\"=>Any[Dict{String,Any}(\"source_id\"=>5254187195419415477,\"target_id\"=>547037674849209101,\"type\"=>\"prereq\")],\"name\"=>\"PHYS 1112\",\"metrics\"=>Dict{String,Any}(\"centrality\"=>9,\"complexity\"=>9.0,\"blocking factor\"=>4,\"delay factor\"=>5.0),\"nameSub\"=>\"PHYS 1112\",\"id\"=>547037674849209101,\"num\"=>\"1112\",\"credits\"=>3,\"prefix\"=>\"PHYS\"), Dict{String,Any}(\"curriculum_requisites\"=>Any[Dict{String,Any}(\"source_id\"=>5254187195419415477,\"target_id\"=>7078781664013927228,\"type\"=>\"prereq\")],\"name\"=>\"MATH 1920\",\"metrics\"=>Dict{String,Any}(\"centrality\"=>28,\"complexity\"=>12.0,\"blocking factor\"=>8,\"delay factor\"=>4.0),\"nameSub\"=>\"MATH 1920\",\"id\"=>7078781664013927228,\"num\"=>\"1920\",\"credits\"=>3,\"prefix\"=>\"MATH\"), Dict{String,Any}(\"curriculum_requisites\"=>Any[],\"name\"=>\"CS 111x\",\"metrics\"=>Dict{String,Any}(\"centrality\"=>0,\"complexity\"=>6.0,\"blocking factor\"=>3,\"delay factor\"=>3.0),\"nameSub\"=>\"CS 111x\",\"id\"=>8286543387148233529,\"num\"=>\"111x\",\"credits\"=>3,\"prefix\"=>\"CS\"), Dict{String,Any}(\"curriculum_requisites\"=>Any[],\"name\"=>\" \",\"metrics\"=>Dict{String,Any}(\"centrality\"=>0,\"complexity\"=>1.0,\"blocking factor\"=>0,\"delay factor\"=>1.0),\"nameSub\"=>\"1st Yr Writing Seminar\",\"id\"=>2403028167830051785,\"num\"=>\"\",\"credits\"=>3,\"prefix\"=>\"\"), Dict{String,Any}(\"curriculum_requisites\"=>Any[],\"name\"=>\" \",\"metrics\"=>Dict{String,Any}(\"centrality\"=>0,\"complexity\"=>1.0,\"blocking factor\"=>0,\"delay factor\"=>1.0),\"nameSub\"=>\"PE\",\"id\"=>7600283427362699982,\"num\"=>\"\",\"credits\"=>3,\"prefix\"=>\"\")],\"id\"=>2), Dict{String,Any}(\"name\"=>\"Term 3\",\"curriculum_items\"=>Any[Dict{String,Any}(\"curriculum_requisites\"=>Any[Dict{String,Any}(\"source_id\"=>547037674849209101,\"target_id\"=>3168149942292960553,\"type\"=>\"prereq\"), Dict{String,Any}(\"source_id\"=>7078781664013927228,\"target_id\"=>3168149942292960553,\"type\"=>\"prereq\")],\"name\"=>\"PHYS 2213\",\"metrics\"=>Dict{String,Any}(\"centrality\"=>18,\"complexity\"=>8.0,\"blocking factor\"=>3,\"delay factor\"=>5.0),\"nameSub\"=>\"PHYS 2213\",\"id\"=>3168149942292960553,\"num\"=>\"2213\",\"credits\"=>3,\"prefix\"=>\"PHYS\"), Dict{String,Any}(\"curriculum_requisites\"=>Any[Dict{String,Any}(\"source_id\"=>7078781664013927228,\"target_id\"=>7470502300782177278,\"type\"=>\"prereq\")],\"name\"=>\"MATH 2930\",\"metrics\"=>Dict{String,Any}(\"centrality\"=>14,\"complexity\"=>8.0,\"blocking factor\"=>4,\"delay factor\"=>4.0),\"nameSub\"=>\"MATH 2930\",\"id\"=>7470502300782177278,\"num\"=>\"2930\",\"credits\"=>3,\"prefix\"=>\"MATH\"), Dict{String,Any}(\"curriculum_requisites\"=>Any[Dict{String,Any}(\"source_id\"=>7470502300782177278,\"target_id\"=>1051500480684879251,\"type\"=>\"coreq\"), Dict{String,Any}(\"source_id\"=>3168149942292960553,\"target_id\"=>1051500480684879251,\"type\"=>\"coreq\")],\"name\"=>\"ECE/ENGRD 2100\",\"metrics\"=>Dict{String,Any}(\"centrality\"=>15,\"complexity\"=>6.0,\"blocking factor\"=>1,\"delay factor\"=>5.0),\"nameSub\"=>\"ECE/ENGRD 2100\",\"id\"=>1051500480684879251,\"num\"=>\"2100\",\"credits\"=>3,\"prefix\"=>\"ECE/ENGRD\"), Dict{String,Any}(\"curriculum_requisites\"=>Any[Dict{String,Any}(\"source_id\"=>8286543387148233529,\"target_id\"=>5093549466166423561,\"type\"=>\"prereq\")],\"name\"=>\"MECE/ENGRD 2300\",\"metrics\"=>Dict{String,Any}(\"centrality\"=>3,\"complexity\"=>4.0,\"blocking factor\"=>1,\"delay factor\"=>3.0),\"nameSub\"=>\"MECE/ENGRD 2300\",\"id\"=>5093549466166423561,\"num\"=>\"2300\",\"credits\"=>3,\"prefix\"=>\"MECE/ENGRD\"), Dict{String,Any}(\"curriculum_requisites\"=>Any[],\"name\"=>\" \",\"metrics\"=>Dict{String,Any}(\"centrality\"=>0,\"complexity\"=>1.0,\"blocking factor\"=>0,\"delay factor\"=>1.0),\"nameSub\"=>\"Liberal Studies\",\"id\"=>2064328672826168846,\"num\"=>\"\",\"credits\"=>3,\"prefix\"=>\"\")],\"id\"=>3), Dict{String,Any}(\"name\"=>\"Term 4\",\"curriculum_items\"=>Any[Dict{String,Any}(\"curriculum_requisites\"=>Any[Dict{String,Any}(\"source_id\"=>7470502300782177278,\"target_id\"=>7351447124078439720,\"type\"=>\"coreq\")],\"name\"=>\"PHYS 2214\",\"metrics\"=>Dict{String,Any}(\"centrality\"=>0,\"complexity\"=>4.0,\"blocking factor\"=>0,\"delay factor\"=>4.0),\"nameSub\"=>\"PHYS 2214\",\"id\"=>7351447124078439720,\"num\"=>\"2214\",\"credits\"=>3,\"prefix\"=>\"PHYS\"), Dict{String,Any}(\"curriculum_requisites\"=>Any[Dict{String,Any}(\"source_id\"=>7078781664013927228,\"target_id\"=>3943294394566151845,\"type\"=>\"prereq\")],\"name\"=>\"MATH 2940\",\"metrics\"=>Dict{String,Any}(\"centrality\"=>5,\"complexity\"=>5.0,\"blocking factor\"=>2,\"delay factor\"=>3.0),\"nameSub\"=>\"MATH 2940\",\"id\"=>3943294394566151845,\"num\"=>\"2940\",\"credits\"=>3,\"prefix\"=>\"MATH\"), Dict{String,Any}(\"curriculum_requisites\"=>Any[Dict{String,Any}(\"source_id\"=>3168149942292960553,\"target_id\"=>7974674767755691049,\"type\"=>\"prereq\")],\"name\"=>\"ENGRD 2xxx\",\"metrics\"=>Dict{String,Any}(\"centrality\"=>0,\"complexity\"=>4.0,\"blocking factor\"=>0,\"delay factor\"=>4.0),\"nameSub\"=>\"ENGRD 2xxx\",\"id\"=>7974674767755691049,\"num\"=>\"2xxx\",\"credits\"=>3,\"prefix\"=>\"ENGRD\"), Dict{String,Any}(\"curriculum_requisites\"=>Any[Dict{String,Any}(\"source_id\"=>7470502300782177278,\"target_id\"=>2346133463678600126,\"type\"=>\"prereq\"), Dict{String,Any}(\"source_id\"=>3943294394566151845,\"target_id\"=>2346133463678600126,\"type\"=>\"coreq\")],\"name\"=>\"ECE/ENGRD 2200/2220\",\"metrics\"=>Dict{String,Any}(\"centrality\"=>10,\"complexity\"=>5.0,\"blocking factor\"=>1,\"delay factor\"=>4.0),\"nameSub\"=>\"ECE 2200/ENGRD 2220\",\"id\"=>2346133463678600126,\"num\"=>\"2200/2220\",\"credits\"=>3,\"prefix\"=>\"ECE/ENGRD\"), Dict{String,Any}(\"curriculum_requisites\"=>Any[],\"name\"=>\" \",\"metrics\"=>Dict{String,Any}(\"centrality\"=>0,\"complexity\"=>1.0,\"blocking factor\"=>0,\"delay factor\"=>1.0),\"nameSub\"=>\"Liberal Studies\",\"id\"=>2064328672826168846,\"num\"=>\"\",\"credits\"=>3,\"prefix\"=>\"\")],\"id\"=>4), Dict{String,Any}(\"name\"=>\"Term 5\",\"curriculum_items\"=>Any[Dict{String,Any}(\"curriculum_requisites\"=>Any[],\"name\"=>\" \",\"metrics\"=>Dict{String,Any}(\"centrality\"=>0,\"complexity\"=>1.0,\"blocking factor\"=>0,\"delay factor\"=>1.0),\"nameSub\"=>\"ECE Foundations\",\"id\"=>4336773669881761152,\"num\"=>\"\",\"credits\"=>3,\"prefix\"=>\"\"), Dict{String,Any}(\"curriculum_requisites\"=>Any[],\"name\"=>\" \",\"metrics\"=>Dict{String,Any}(\"centrality\"=>0,\"complexity\"=>1.0,\"blocking factor\"=>0,\"delay factor\"=>1.0),\"nameSub\"=>\"Elective\",\"id\"=>4875844914786593207,\"num\"=>\"\",\"credits\"=>3,\"prefix\"=>\"\"), Dict{String,Any}(\"curriculum_requisites\"=>Any[Dict{String,Any}(\"source_id\"=>8286543387148233529,\"target_id\"=>2056846177162314065,\"type\"=>\"prereq\")],\"name\"=>\" \",\"metrics\"=>Dict{String,Any}(\"centrality\"=>0,\"complexity\"=>2.0,\"blocking factor\"=>0,\"delay factor\"=>2.0),\"nameSub\"=>\"Outside Tech. Elective\",\"id\"=>2056846177162314065,\"num\"=>\"\",\"credits\"=>3,\"prefix\"=>\"\"), Dict{String,Any}(\"curriculum_requisites\"=>Any[Dict{String,Any}(\"source_id\"=>2346133463678600126,\"target_id\"=>1245795283786534138,\"type\"=>\"prereq\"), Dict{String,Any}(\"source_id\"=>5093549466166423561,\"target_id\"=>1245795283786534138,\"type\"=>\"prereq\"), Dict{String,Any}(\"source_id\"=>1051500480684879251,\"target_id\"=>1245795283786534138,\"type\"=>\"prereq\")],\"name\"=>\"ECE 3400\",\"metrics\"=>Dict{String,Any}(\"centrality\"=>0,\"complexity\"=>5.0,\"blocking factor\"=>0,\"delay factor\"=>5.0),\"nameSub\"=>\"ECE 3400\",\"id\"=>1245795283786534138,\"num\"=>\"3400\",\"credits\"=>3,\"prefix\"=>\"ECE\"), Dict{String,Any}(\"curriculum_requisites\"=>Any[],\"name\"=>\" \",\"metrics\"=>Dict{String,Any}(\"centrality\"=>0,\"complexity\"=>1.0,\"blocking factor\"=>0,\"delay factor\"=>1.0),\"nameSub\"=>\"Liberal Studies\",\"id\"=>2064328672826168846,\"num\"=>\"\",\"credits\"=>3,\"prefix\"=>\"\")],\"id\"=>5), Dict{String,Any}(\"name\"=>\"Term 6\",\"curriculum_items\"=>Any[Dict{String,Any}(\"curriculum_requisites\"=>Any[],\"name\"=>\" \",\"metrics\"=>Dict{String,Any}(\"centrality\"=>0,\"complexity\"=>1.0,\"blocking factor\"=>0,\"delay factor\"=>1.0),\"nameSub\"=>\"ECE Foundations\",\"id\"=>4336773669881761152,\"num\"=>\"\",\"credits\"=>3,\"prefix\"=>\"\"), Dict{String,Any}(\"curriculum_requisites\"=>Any[],\"name\"=>\" \",\"metrics\"=>Dict{String,Any}(\"centrality\"=>0,\"complexity\"=>1.0,\"blocking factor\"=>0,\"delay factor\"=>1.0),\"nameSub\"=>\"ECE Foundations\",\"id\"=>4336773669881761152,\"num\"=>\"\",\"credits\"=>3,\"prefix\"=>\"\"), Dict{String,Any}(\"curriculum_requisites\"=>Any[],\"name\"=>\" \",\"metrics\"=>Dict{String,Any}(\"centrality\"=>0,\"complexity\"=>1.0,\"blocking factor\"=>0,\"delay factor\"=>1.0),\"nameSub\"=>\"Outside Tech. Elective\",\"id\"=>2056846177162314065,\"num\"=>\"\",\"credits\"=>3,\"prefix\"=>\"\"), Dict{String,Any}(\"curriculum_requisites\"=>Any[],\"name\"=>\" \",\"metrics\"=>Dict{String,Any}(\"centrality\"=>0,\"complexity\"=>1.0,\"blocking factor\"=>0,\"delay factor\"=>1.0),\"nameSub\"=>\"Elective\",\"id\"=>4875844914786593207,\"num\"=>\"\",\"credits\"=>3,\"prefix\"=>\"\"), Dict{String,Any}(\"curriculum_requisites\"=>Any[],\"name\"=>\" \",\"metrics\"=>Dict{String,Any}(\"centrality\"=>0,\"complexity\"=>1.0,\"blocking factor\"=>0,\"delay factor\"=>1.0),\"nameSub\"=>\"Liberal Studies\",\"id\"=>2064328672826168846,\"num\"=>\"\",\"credits\"=>3,\"prefix\"=>\"\")],\"id\"=>6), Dict{String,Any}(\"name\"=>\"Term 7\",\"curriculum_items\"=>Any[Dict{String,Any}(\"curriculum_requisites\"=>Any[],\"name\"=>\" \",\"metrics\"=>Dict{String,Any}(\"centrality\"=>0,\"complexity\"=>1.0,\"blocking factor\"=>0,\"delay factor\"=>1.0),\"nameSub\"=>\"ECE Elective \",\"id\"=>55027327082438860,\"num\"=>\"\",\"credits\"=>3,\"prefix\"=>\"\"), Dict{String,Any}(\"curriculum_requisites\"=>Any[],\"name\"=>\" \",\"metrics\"=>Dict{String,Any}(\"centrality\"=>0,\"complexity\"=>1.0,\"blocking factor\"=>0,\"delay factor\"=>1.0),\"nameSub\"=>\"ECE Elective\",\"id\"=>2364415439095677035,\"num\"=>\"\",\"credits\"=>3,\"prefix\"=>\"\"), Dict{String,Any}(\"curriculum_requisites\"=>Any[],\"name\"=>\" \",\"metrics\"=>Dict{String,Any}(\"centrality\"=>0,\"complexity\"=>1.0,\"blocking factor\"=>0,\"delay factor\"=>1.0),\"nameSub\"=>\"Outside Tech. Elective\",\"id\"=>2056846177162314065,\"num\"=>\"\",\"credits\"=>3,\"prefix\"=>\"\"), Dict{String,Any}(\"curriculum_requisites\"=>Any[],\"name\"=>\" \",\"metrics\"=>Dict{String,Any}(\"centrality\"=>0,\"complexity\"=>1.0,\"blocking factor\"=>0,\"delay factor\"=>1.0),\"nameSub\"=>\"Liberal Studies\",\"id\"=>2064328672826168846,\"num\"=>\"\",\"credits\"=>3,\"prefix\"=>\"\")],\"id\"=>7), Dict{String,Any}(\"name\"=>\"Term 8\",\"curriculum_items\"=>Any[Dict{String,Any}(\"curriculum_requisites\"=>Any[],\"name\"=>\" \",\"metrics\"=>Dict{String,Any}(\"centrality\"=>0,\"complexity\"=>1.0,\"blocking factor\"=>0,\"delay factor\"=>1.0),\"nameSub\"=>\"ECE Elective\",\"id\"=>2364415439095677035,\"num\"=>\"\",\"credits\"=>3,\"prefix\"=>\"\"), Dict{String,Any}(\"curriculum_requisites\"=>Any[],\"name\"=>\" \",\"metrics\"=>Dict{String,Any}(\"centrality\"=>0,\"complexity\"=>1.0,\"blocking factor\"=>0,\"delay factor\"=>1.0),\"nameSub\"=>\"ECE Elective\",\"id\"=>2364415439095677035,\"num\"=>\"\",\"credits\"=>3,\"prefix\"=>\"\"), Dict{String,Any}(\"curriculum_requisites\"=>Any[],\"name\"=>\" \",\"metrics\"=>Dict{String,Any}(\"centrality\"=>0,\"complexity\"=>1.0,\"blocking factor\"=>0,\"delay factor\"=>1.0),\"nameSub\"=>\"ECE Elective\",\"id\"=>2364415439095677035,\"num\"=>\"\",\"credits\"=>3,\"prefix\"=>\"\"), Dict{String,Any}(\"curriculum_requisites\"=>Any[],\"name\"=>\" \",\"metrics\"=>Dict{String,Any}(\"centrality\"=>0,\"complexity\"=>1.0,\"blocking factor\"=>0,\"delay factor\"=>1.0),\"nameSub\"=>\"Liberal Studies\",\"id\"=>2064328672826168846,\"num\"=>\"\",\"credits\"=>3,\"prefix\"=>\"\")],\"id\"=>8)])), nothing)), Set(String[]), nothing, Any[], Dict{Any,Any}(), WebIO.ConnectionPool(Channel{Any}(sz_max:9223372036854775807,sz_curr:0), Set(WebIO.AbstractConnection[]), Channel{WebIO.AbstractConnection}(sz_max:32,sz_curr:0)))"
      ]
     },
     "execution_count": 4,
     "metadata": {
      "application/vnd.webio.node+json": {
       "kernelId": "56917971-f6e2-498c-808d-066bc1091008"
      }
     },
     "output_type": "execute_result"
    }
   ],
   "source": [
    "#This cell will also read a csv file create a degree plan without exporting to json.\n",
    "#\n",
    "#Activate CurricularAnalytics package and add it\n",
    "using Pkg\n",
    "pkg\"activate .\"\n",
    "using CurricularAnalytics\n",
    "#read Classes from csv file and return list of classes and terms\n",
    "c, terms = read_from_csv(\"examples/CornellECECources.csv\")\n",
    "#Create curriculum from list of classes\n",
    "curric = Curriculum(\"University of Houston EE Program\", c)\n",
    "errors = IOBuffer()\n",
    "if isvalid_curriculum(curric, errors)\n",
    "    println(\"Curriculum $(curric.name) is valid\")\n",
    "    println(\"  delay factor = $(delay_factor(curric))\")\n",
    "    println(\"  blocking factor = $(blocking_factor(curric))\")\n",
    "    println(\"  centrality factor = $(centrality(curric))\")\n",
    "    println(\"  curricular complexity = $(complexity(curric))\")\n",
    "    dp = DegreePlan(\"University of Houston EE Program 4-year Plan\", curric, terms)\n",
    "    take!(errors) # clear the IO buffer\n",
    "    if isvalid_degree_plan(dp, errors)\n",
    "        println(\"Degree plan $(dp.name) is valid\")\n",
    "    else\n",
    "        println(\"Degree plan $(dp.name) is not valid:\")\n",
    "        print(String(take!(errors)))\n",
    "        println(\"\\nDiplaying degree plan for debugging purposes...\")\n",
    "    end\n",
    "    visualize_jupyter(dp)\n",
    "\n",
    "else # invalid curriculum\n",
    "    println(\"Curriculum $(curric.name) is not valid:\")\n",
    "    print(String(take!(errors)))\n",
    "end"
   ]
  },
  {
   "cell_type": "code",
   "execution_count": null,
   "metadata": {
    "collapsed": true
   },
   "outputs": [],
   "source": []
  }
 ],
 "metadata": {
  "@webio": {
   "lastCommId": "DBEBCC7C54CB4A54B8ABD98C97D6D5D6",
   "lastKernelId": "56917971-f6e2-498c-808d-066bc1091008"
  },
  "kernelspec": {
   "display_name": "Julia 1.0.1",
   "language": "julia",
   "name": "julia-1.0"
  },
  "language_info": {
   "file_extension": ".jl",
   "mimetype": "application/julia",
   "name": "julia",
   "version": "1.0.1"
  }
 },
 "nbformat": 4,
 "nbformat_minor": 2
}

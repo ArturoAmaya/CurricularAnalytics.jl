{
 "cells": [
  {
   "cell_type": "code",
   "execution_count": 6,
   "metadata": {},
   "outputs": [
    {
     "name": "stdout",
     "output_type": "stream",
     "text": [
      "coLightGraphs.SimpleGraphs.SimpleEdge{Int64}[Edge 2 => 6, Edge 2 => 7, Edge 6 => 11, Edge 7 => 11, Edge 7 => 12, Edge 7 => 17, Edge 8 => 14, Edge 8 => 23, Edge 11 => 13, Edge 11 => 18, Edge 12 => 13, Edge 12 => 16, Edge 12 => 19, Edge 13 => 24, Edge 14 => 24, Edge 17 => 19, Edge 19 => 24]"
     ]
    }
   ],
   "source": [
    "#This cell will also read a csv file create a degree plan without exporting to json.\n",
    "#\n",
    "#Activate CurricularAnalytics package and add it\n",
    "using Pkg\n",
    "pkg\"activate .\"\n",
    "using CurricularAnalytics\n",
    "using TikzGraphs\n",
    "using LightGraphs\n",
    "#read Classes from csv file and return list of classes and terms\n",
    "c, terms = read_from_csv(\"examples/CornellECECources.csv\")\n",
    "#Create curriculum from list of classes\n",
    "curric = Curriculum(\"University of Houston EE Program\", c)\n",
    "print(collect(edges(curric.graph)))\n"
   ]
  },
  {
   "cell_type": "code",
   "execution_count": 6,
   "metadata": {},
   "outputs": [
    {
     "ename": "UndefVarError",
     "evalue": "UndefVarError: SVG not defined",
     "output_type": "error",
     "traceback": [
      "UndefVarError: SVG not defined",
      "",
      "Stacktrace:",
      " [1] top-level scope at In[6]:5"
     ]
    }
   ],
   "source": [
    "using TikzGraphs\n",
    "using LightGraphs\n",
    "g = WheelGraph(10)\n",
    "t = plot(g)\n",
    "save(SVG(\"wheel10.svg\"), t)"
   ]
  },
  {
   "cell_type": "code",
   "execution_count": null,
   "metadata": {
    "collapsed": true
   },
   "outputs": [],
   "source": []
  }
 ],
 "metadata": {
  "@webio": {
   "lastCommId": "39d108adeedb4dd988ca564567c5223a",
   "lastKernelId": "b502b14e-b737-47c3-8fb7-58a404445309"
  },
  "kernelspec": {
   "display_name": "Julia 1.0.1",
   "language": "julia",
   "name": "julia-1.0"
  },
  "language_info": {
   "file_extension": ".jl",
   "mimetype": "application/julia",
   "name": "julia",
   "version": "1.0.1"
  }
 },
 "nbformat": 4,
 "nbformat_minor": 2
}

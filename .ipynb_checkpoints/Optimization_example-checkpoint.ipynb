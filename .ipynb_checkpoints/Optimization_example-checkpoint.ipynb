{
 "cells": [
  {
   "cell_type": "code",
   "execution_count": 3,
   "metadata": {
    "scrolled": false
   },
   "outputs": [
    {
     "name": "stdout",
     "output_type": "stream",
     "text": [
      "114\n",
      "Minimum of 6 terms needed to complete this curriculum\n",
      "Could not create a plan for 6 term, try for one more term\n"
     ]
    },
    {
     "ename": "UndefVarError",
     "evalue": "UndefVarError: fill_terms not defined",
     "output_type": "error",
     "traceback": [
      "UndefVarError: fill_terms not defined",
      "",
      "Stacktrace:",
      " [1] create_terms(::Curriculum, ::Int64, ::Int64) at C:\\Users\\orhan\\Desktop\\JuliaRelated\\Development\\CurricularAnalytics.jl\\src\\Optimization.jl:82",
      " [2] top-level scope at In[3]:25"
     ]
    }
   ],
   "source": [
    "#This cell will also read a csv file create a degree plan without exporting to json.\n",
    "#\n",
    "#Activate CurricularAnalytics package and add it\n",
    "using Pkg\n",
    "pkg\"activate .\"\n",
    "using CurricularAnalytics\n",
    "#using TikzGraphs\n",
    "#using LightGraphs\n",
    "\n",
    "#read Classes from csv file and return list of classes and create curriculum\n",
    "c, _ = read_from_csv(\"examples/CornellECECources.csv\")\n",
    "curric = Curriculum(\"University of Houston EE Program\", c)\n",
    "#calculate complexity to order courses\n",
    "complexity(curric)\n",
    "#Get indexes of cources after sorting according to the complexity score\n",
    "sorted_index = sortperm(curric.metrics[\"complexity\"][2], rev=true)\n",
    "#Input maximum credit allowed each term (in UKY it is 19)\n",
    "max_credit_each_term = 19\n",
    "#total number of credits\n",
    "curric_total_credit=total_credit(curric)\n",
    "println(curric_total_credit)\n",
    "#to round to upper limit \n",
    "min_term =floor(Int, (curric_total_credit + max_credit_each_term - 1)/max_credit_each_term)\n",
    "println(\"Minimum of $min_term terms needed to complete this curriculum\")\n",
    "#Get optimum terms according to the req\n",
    "terms = create_terms(curric, min_term, max_credit_each_term)\n",
    "\n",
    "# Output degree plan\n",
    "errors = IOBuffer()\n",
    "if isvalid_curriculum(curric, errors)\n",
    "    println(\"Curriculum $(curric.name) is valid\")\n",
    "    println(\"  delay factor = $(delay_factor(curric))\")\n",
    "    println(\"  blocking factor = $(blocking_factor(curric))\")\n",
    "    println(\"  centrality factor = $(centrality(curric))\")\n",
    "    println(\"  curricular complexity = $(complexity(curric))\")\n",
    "    dp = DegreePlan(\"University of Houston EE Program 4-year Plan\", curric, terms)\n",
    "    take!(errors) # clear the IO buffer\n",
    "    if isvalid_degree_plan(dp, errors)\n",
    "        println(\"Degree plan $(dp.name) is valid\")\n",
    "    else\n",
    "        println(\"Degree plan $(dp.name) is not valid:\")\n",
    "        print(String(take!(errors)))\n",
    "        println(\"\\nDiplaying degree plan for debugging purposes...\")\n",
    "    end\n",
    "    visualize_jupyter(dp)\n",
    "\n",
    "else # invalid curriculum\n",
    "    println(\"Curriculum $(curric.name) is not valid:\")\n",
    "    print(String(take!(errors)))\n",
    "end\n"
   ]
  },
  {
   "cell_type": "code",
   "execution_count": 6,
   "metadata": {},
   "outputs": [
    {
     "ename": "UndefVarError",
     "evalue": "UndefVarError: SVG not defined",
     "output_type": "error",
     "traceback": [
      "UndefVarError: SVG not defined",
      "",
      "Stacktrace:",
      " [1] top-level scope at In[6]:5"
     ]
    }
   ],
   "source": [
    "using TikzGraphs\n",
    "using LightGraphs\n",
    "g = WheelGraph(10)\n",
    "t = plot(g)\n",
    "save(SVG(\"wheel10.svg\"), t)"
   ]
  },
  {
   "cell_type": "code",
   "execution_count": 52,
   "metadata": {},
   "outputs": [
    {
     "name": "stdout",
     "output_type": "stream",
     "text": [
      "false"
     ]
    }
   ],
   "source": [
    "x = [1,4,3,4,4]\n",
    "print(!(4 in x))"
   ]
  },
  {
   "cell_type": "code",
   "execution_count": 55,
   "metadata": {},
   "outputs": [
    {
     "data": {
      "text/plain": [
       "0-element Array{Course,1}"
      ]
     },
     "execution_count": 55,
     "metadata": {},
     "output_type": "execute_result"
    }
   ],
   "source": [
    "termclasses = Array{Course}(undef,0)"
   ]
  },
  {
   "cell_type": "code",
   "execution_count": 41,
   "metadata": {},
   "outputs": [
    {
     "data": {
      "text/plain": [
       "true"
      ]
     },
     "execution_count": 41,
     "metadata": {},
     "output_type": "execute_result"
    },
    {
     "name": "stderr",
     "output_type": "stream",
     "text": [
      "┌ Info: Closed (31):  💀    5↑     5↓🔒 316s 127.0.0.1:8156:8156 ≣16\n",
      "└ @ HTTP.Servers C:\\Users\\orhan\\.julia\\packages\\HTTP\\YjRCz\\src\\Servers.jl:351\n"
     ]
    }
   ],
   "source": [
    "a = Int[]\n",
    "push!(a, 1)\n",
    "push!(a, 2)\n",
    "b = Int[]\n",
    "push!(b, 1)\n",
    "push!(b, 2)\n",
    "issubset(a,b)"
   ]
  },
  {
   "cell_type": "code",
   "execution_count": null,
   "metadata": {
    "collapsed": true
   },
   "outputs": [],
   "source": []
  }
 ],
 "metadata": {
  "@webio": {
   "lastCommId": "F924CBDBAC2E493B9804CA78ECF9D6A3",
   "lastKernelId": "649d89c1-8126-4054-b943-ed58b317bf20"
  },
  "kernelspec": {
   "display_name": "Julia 1.0.1",
   "language": "julia",
   "name": "julia-1.0"
  },
  "language_info": {
   "file_extension": ".jl",
   "mimetype": "application/julia",
   "name": "julia",
   "version": "1.0.1"
  }
 },
 "nbformat": 4,
 "nbformat_minor": 2
}
